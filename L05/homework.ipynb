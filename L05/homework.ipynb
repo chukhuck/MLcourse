{
 "cells": [
  {
   "cell_type": "code",
   "execution_count": 83,
   "id": "cd233442",
   "metadata": {},
   "outputs": [
    {
     "name": "stdout",
     "output_type": "stream",
     "text": [
      "Размер датасета (строки, колонки): (505, 14)\n",
      "\n",
      "Первые 5 строк датасета:\n"
     ]
    },
    {
     "data": {
      "text/html": [
       "<div>\n",
       "<style scoped>\n",
       "    .dataframe tbody tr th:only-of-type {\n",
       "        vertical-align: middle;\n",
       "    }\n",
       "\n",
       "    .dataframe tbody tr th {\n",
       "        vertical-align: top;\n",
       "    }\n",
       "\n",
       "    .dataframe thead th {\n",
       "        text-align: right;\n",
       "    }\n",
       "</style>\n",
       "<table border=\"1\" class=\"dataframe\">\n",
       "  <thead>\n",
       "    <tr style=\"text-align: right;\">\n",
       "      <th></th>\n",
       "      <th>0.00632</th>\n",
       "      <th>18.00</th>\n",
       "      <th>2.310</th>\n",
       "      <th>0</th>\n",
       "      <th>0.5380</th>\n",
       "      <th>6.5750</th>\n",
       "      <th>65.20</th>\n",
       "      <th>4.0900</th>\n",
       "      <th>1</th>\n",
       "      <th>296.0</th>\n",
       "      <th>15.30</th>\n",
       "      <th>396.90</th>\n",
       "      <th>4.98</th>\n",
       "      <th>24.00</th>\n",
       "    </tr>\n",
       "  </thead>\n",
       "  <tbody>\n",
       "    <tr>\n",
       "      <th>0</th>\n",
       "      <td>0.02731</td>\n",
       "      <td>0.0</td>\n",
       "      <td>7.07</td>\n",
       "      <td>0</td>\n",
       "      <td>0.469</td>\n",
       "      <td>6.421</td>\n",
       "      <td>78.9</td>\n",
       "      <td>4.9671</td>\n",
       "      <td>2</td>\n",
       "      <td>242.0</td>\n",
       "      <td>17.8</td>\n",
       "      <td>396.90</td>\n",
       "      <td>9.14</td>\n",
       "      <td>21.6</td>\n",
       "    </tr>\n",
       "    <tr>\n",
       "      <th>1</th>\n",
       "      <td>0.02729</td>\n",
       "      <td>0.0</td>\n",
       "      <td>7.07</td>\n",
       "      <td>0</td>\n",
       "      <td>0.469</td>\n",
       "      <td>7.185</td>\n",
       "      <td>61.1</td>\n",
       "      <td>4.9671</td>\n",
       "      <td>2</td>\n",
       "      <td>242.0</td>\n",
       "      <td>17.8</td>\n",
       "      <td>392.83</td>\n",
       "      <td>4.03</td>\n",
       "      <td>34.7</td>\n",
       "    </tr>\n",
       "    <tr>\n",
       "      <th>2</th>\n",
       "      <td>0.03237</td>\n",
       "      <td>0.0</td>\n",
       "      <td>2.18</td>\n",
       "      <td>0</td>\n",
       "      <td>0.458</td>\n",
       "      <td>6.998</td>\n",
       "      <td>45.8</td>\n",
       "      <td>6.0622</td>\n",
       "      <td>3</td>\n",
       "      <td>222.0</td>\n",
       "      <td>18.7</td>\n",
       "      <td>394.63</td>\n",
       "      <td>2.94</td>\n",
       "      <td>33.4</td>\n",
       "    </tr>\n",
       "    <tr>\n",
       "      <th>3</th>\n",
       "      <td>0.06905</td>\n",
       "      <td>0.0</td>\n",
       "      <td>2.18</td>\n",
       "      <td>0</td>\n",
       "      <td>0.458</td>\n",
       "      <td>7.147</td>\n",
       "      <td>54.2</td>\n",
       "      <td>6.0622</td>\n",
       "      <td>3</td>\n",
       "      <td>222.0</td>\n",
       "      <td>18.7</td>\n",
       "      <td>396.90</td>\n",
       "      <td>5.33</td>\n",
       "      <td>36.2</td>\n",
       "    </tr>\n",
       "    <tr>\n",
       "      <th>4</th>\n",
       "      <td>0.02985</td>\n",
       "      <td>0.0</td>\n",
       "      <td>2.18</td>\n",
       "      <td>0</td>\n",
       "      <td>0.458</td>\n",
       "      <td>6.430</td>\n",
       "      <td>58.7</td>\n",
       "      <td>6.0622</td>\n",
       "      <td>3</td>\n",
       "      <td>222.0</td>\n",
       "      <td>18.7</td>\n",
       "      <td>394.12</td>\n",
       "      <td>5.21</td>\n",
       "      <td>28.7</td>\n",
       "    </tr>\n",
       "  </tbody>\n",
       "</table>\n",
       "</div>"
      ],
      "text/plain": [
       "   0.00632  18.00  2.310  0  0.5380  6.5750  65.20  4.0900  1  296.0  15.30  \\\n",
       "0  0.02731    0.0   7.07  0   0.469   6.421   78.9  4.9671  2  242.0   17.8   \n",
       "1  0.02729    0.0   7.07  0   0.469   7.185   61.1  4.9671  2  242.0   17.8   \n",
       "2  0.03237    0.0   2.18  0   0.458   6.998   45.8  6.0622  3  222.0   18.7   \n",
       "3  0.06905    0.0   2.18  0   0.458   7.147   54.2  6.0622  3  222.0   18.7   \n",
       "4  0.02985    0.0   2.18  0   0.458   6.430   58.7  6.0622  3  222.0   18.7   \n",
       "\n",
       "   396.90  4.98  24.00  \n",
       "0  396.90  9.14   21.6  \n",
       "1  392.83  4.03   34.7  \n",
       "2  394.63  2.94   33.4  \n",
       "3  396.90  5.33   36.2  \n",
       "4  394.12  5.21   28.7  "
      ]
     },
     "execution_count": 83,
     "metadata": {},
     "output_type": "execute_result"
    }
   ],
   "source": [
    "\n",
    "\n",
    "import numpy as np  \n",
    "import pandas as pd  \n",
    "import seaborn as sns\n",
    "import matplotlib.pyplot as plt\n",
    "from scipy import stats\n",
    "import plotly.express as px  # Для создания интерактивных визуализаций\n",
    "import plotly.graph_objects as go  # Для кастомных графиков\n",
    "from plotly.subplots import make_subplots  # Для создания subplots\n",
    "import warnings  # Для управления предупреждениями\n",
    "warnings.filterwarnings('ignore')  # Игнорировать предупреждения для чистоты вывода\n",
    "\n",
    "# Загрузка датасета из CSV файла\n",
    "# header=0: первая строка содержит названия колонок\n",
    "# delim_whitespace=True: данные разделены пробелами (для оригинального Boston Housing формата)\n",
    "\n",
    "df = pd.read_csv('housing.csv', delim_whitespace=True, header=0)\n",
    "\n",
    "\n",
    "# Проверим структуру данных\n",
    "print(\"Размер датасета (строки, колонки):\", df.shape)\n",
    "print(\"\\nПервые 5 строк датасета:\")\n",
    "df.head()  # Показываем первые 5 строк для ознакомления с данными"
   ]
  },
  {
   "cell_type": "code",
   "execution_count": 84,
   "id": "25506b4e",
   "metadata": {},
   "outputs": [
    {
     "name": "stdout",
     "output_type": "stream",
     "text": [
      "Названия колонок:\n",
      "['CRIM', 'ZN', 'INDUS', 'CHAS', 'NOX', 'RM', 'AGE', 'DIS', 'RAD', 'TAX', 'PTRATIO', 'B', 'LSTAT', 'MEDV']\n",
      "\n",
      "Информация о датасете:\n",
      "<class 'pandas.core.frame.DataFrame'>\n",
      "RangeIndex: 505 entries, 0 to 504\n",
      "Data columns (total 14 columns):\n",
      " #   Column   Non-Null Count  Dtype  \n",
      "---  ------   --------------  -----  \n",
      " 0   CRIM     505 non-null    float64\n",
      " 1   ZN       505 non-null    float64\n",
      " 2   INDUS    505 non-null    float64\n",
      " 3   CHAS     505 non-null    int64  \n",
      " 4   NOX      505 non-null    float64\n",
      " 5   RM       505 non-null    float64\n",
      " 6   AGE      505 non-null    float64\n",
      " 7   DIS      505 non-null    float64\n",
      " 8   RAD      505 non-null    int64  \n",
      " 9   TAX      505 non-null    float64\n",
      " 10  PTRATIO  505 non-null    float64\n",
      " 11  B        505 non-null    float64\n",
      " 12  LSTAT    505 non-null    float64\n",
      " 13  MEDV     505 non-null    float64\n",
      "dtypes: float64(12), int64(2)\n",
      "memory usage: 55.4 KB\n"
     ]
    }
   ],
   "source": [
    "# Переименуем колонки согласно описанию Boston Housing Dataset\n",
    "# CRIM: уровень преступности на душу населения по городам\n",
    "# ZN: доля жилой земли, отведенной под участки более 25,000 кв.футов\n",
    "# INDUS: доля акров неторгового бизнеса на город\n",
    "# CHAS: фиктивная переменная Чарльз-Ривер (1 если участок примыкает к реке, 0 если нет)\n",
    "# NOX: концентрация оксидов азота (частей на 10 миллионов)\n",
    "# RM: среднее количество комнат на жилище\n",
    "# AGE: доля owner-occupied units, построенных до 1940 года\n",
    "# DIS: взвешенное расстояние до пяти бостонских центров занятости\n",
    "# RAD: индекс доступности к радиальным магистралям\n",
    "# TAX: полная ставка налога на имущество за $10,000\n",
    "# PTRATIO: соотношение учеников и учителей по городам\n",
    "# B: 1000(Bk - 0.63)^2, где Bk - доля чернокожего населения по городам\n",
    "# LSTAT: % населения с низким статусом\n",
    "# MEDV: Median value of owner-occupied homes in $1000's (целевая переменная)\n",
    "\n",
    "column_names = [\n",
    "    'CRIM', 'ZN', 'INDUS', 'CHAS', 'NOX', 'RM', 'AGE', \n",
    "    'DIS', 'RAD', 'TAX', 'PTRATIO', 'B', 'LSTAT', 'MEDV'\n",
    "]\n",
    "\n",
    "\n",
    "df.columns = column_names\n",
    "\n",
    "\n",
    "print(\"Названия колонок:\")\n",
    "print(df.columns.tolist())\n",
    "print(\"\\nИнформация о датасете:\")\n",
    "df.info()  # Показываем информацию о типах данных и наличии пропусков"
   ]
  },
  {
   "cell_type": "code",
   "execution_count": 85,
   "id": "dc669700",
   "metadata": {},
   "outputs": [
    {
     "name": "stdout",
     "output_type": "stream",
     "text": [
      "Пропущенные значения в каждой колонке:\n",
      "CRIM       0\n",
      "ZN         0\n",
      "INDUS      0\n",
      "CHAS       0\n",
      "NOX        0\n",
      "RM         0\n",
      "AGE        0\n",
      "DIS        0\n",
      "RAD        0\n",
      "TAX        0\n",
      "PTRATIO    0\n",
      "B          0\n",
      "LSTAT      0\n",
      "MEDV       0\n",
      "dtype: int64\n",
      "\n",
      "Статистическое описание данных:\n"
     ]
    },
    {
     "data": {
      "text/html": [
       "<div>\n",
       "<style scoped>\n",
       "    .dataframe tbody tr th:only-of-type {\n",
       "        vertical-align: middle;\n",
       "    }\n",
       "\n",
       "    .dataframe tbody tr th {\n",
       "        vertical-align: top;\n",
       "    }\n",
       "\n",
       "    .dataframe thead th {\n",
       "        text-align: right;\n",
       "    }\n",
       "</style>\n",
       "<table border=\"1\" class=\"dataframe\">\n",
       "  <thead>\n",
       "    <tr style=\"text-align: right;\">\n",
       "      <th></th>\n",
       "      <th>CRIM</th>\n",
       "      <th>ZN</th>\n",
       "      <th>INDUS</th>\n",
       "      <th>CHAS</th>\n",
       "      <th>NOX</th>\n",
       "      <th>RM</th>\n",
       "      <th>AGE</th>\n",
       "      <th>DIS</th>\n",
       "      <th>RAD</th>\n",
       "      <th>TAX</th>\n",
       "      <th>PTRATIO</th>\n",
       "      <th>B</th>\n",
       "      <th>LSTAT</th>\n",
       "      <th>MEDV</th>\n",
       "    </tr>\n",
       "  </thead>\n",
       "  <tbody>\n",
       "    <tr>\n",
       "      <th>count</th>\n",
       "      <td>505.00</td>\n",
       "      <td>505.00</td>\n",
       "      <td>505.00</td>\n",
       "      <td>505.00</td>\n",
       "      <td>505.00</td>\n",
       "      <td>505.00</td>\n",
       "      <td>505.00</td>\n",
       "      <td>505.00</td>\n",
       "      <td>505.00</td>\n",
       "      <td>505.00</td>\n",
       "      <td>505.00</td>\n",
       "      <td>505.00</td>\n",
       "      <td>505.00</td>\n",
       "      <td>505.00</td>\n",
       "    </tr>\n",
       "    <tr>\n",
       "      <th>mean</th>\n",
       "      <td>3.62</td>\n",
       "      <td>11.35</td>\n",
       "      <td>11.15</td>\n",
       "      <td>0.07</td>\n",
       "      <td>0.55</td>\n",
       "      <td>6.28</td>\n",
       "      <td>68.58</td>\n",
       "      <td>3.79</td>\n",
       "      <td>9.57</td>\n",
       "      <td>408.46</td>\n",
       "      <td>18.46</td>\n",
       "      <td>356.59</td>\n",
       "      <td>12.67</td>\n",
       "      <td>22.53</td>\n",
       "    </tr>\n",
       "    <tr>\n",
       "      <th>std</th>\n",
       "      <td>8.61</td>\n",
       "      <td>23.34</td>\n",
       "      <td>6.86</td>\n",
       "      <td>0.25</td>\n",
       "      <td>0.12</td>\n",
       "      <td>0.70</td>\n",
       "      <td>28.18</td>\n",
       "      <td>2.11</td>\n",
       "      <td>8.71</td>\n",
       "      <td>168.63</td>\n",
       "      <td>2.16</td>\n",
       "      <td>91.37</td>\n",
       "      <td>7.14</td>\n",
       "      <td>9.21</td>\n",
       "    </tr>\n",
       "    <tr>\n",
       "      <th>min</th>\n",
       "      <td>0.01</td>\n",
       "      <td>0.00</td>\n",
       "      <td>0.46</td>\n",
       "      <td>0.00</td>\n",
       "      <td>0.38</td>\n",
       "      <td>3.56</td>\n",
       "      <td>2.90</td>\n",
       "      <td>1.13</td>\n",
       "      <td>1.00</td>\n",
       "      <td>187.00</td>\n",
       "      <td>12.60</td>\n",
       "      <td>0.32</td>\n",
       "      <td>1.73</td>\n",
       "      <td>5.00</td>\n",
       "    </tr>\n",
       "    <tr>\n",
       "      <th>25%</th>\n",
       "      <td>0.08</td>\n",
       "      <td>0.00</td>\n",
       "      <td>5.19</td>\n",
       "      <td>0.00</td>\n",
       "      <td>0.45</td>\n",
       "      <td>5.88</td>\n",
       "      <td>45.00</td>\n",
       "      <td>2.10</td>\n",
       "      <td>4.00</td>\n",
       "      <td>279.00</td>\n",
       "      <td>17.40</td>\n",
       "      <td>375.33</td>\n",
       "      <td>7.01</td>\n",
       "      <td>17.00</td>\n",
       "    </tr>\n",
       "    <tr>\n",
       "      <th>50%</th>\n",
       "      <td>0.26</td>\n",
       "      <td>0.00</td>\n",
       "      <td>9.69</td>\n",
       "      <td>0.00</td>\n",
       "      <td>0.54</td>\n",
       "      <td>6.21</td>\n",
       "      <td>77.70</td>\n",
       "      <td>3.20</td>\n",
       "      <td>5.00</td>\n",
       "      <td>330.00</td>\n",
       "      <td>19.10</td>\n",
       "      <td>391.43</td>\n",
       "      <td>11.38</td>\n",
       "      <td>21.20</td>\n",
       "    </tr>\n",
       "    <tr>\n",
       "      <th>75%</th>\n",
       "      <td>3.68</td>\n",
       "      <td>12.50</td>\n",
       "      <td>18.10</td>\n",
       "      <td>0.00</td>\n",
       "      <td>0.62</td>\n",
       "      <td>6.62</td>\n",
       "      <td>94.10</td>\n",
       "      <td>5.21</td>\n",
       "      <td>24.00</td>\n",
       "      <td>666.00</td>\n",
       "      <td>20.20</td>\n",
       "      <td>396.21</td>\n",
       "      <td>16.96</td>\n",
       "      <td>25.00</td>\n",
       "    </tr>\n",
       "    <tr>\n",
       "      <th>max</th>\n",
       "      <td>88.98</td>\n",
       "      <td>100.00</td>\n",
       "      <td>27.74</td>\n",
       "      <td>1.00</td>\n",
       "      <td>0.87</td>\n",
       "      <td>8.78</td>\n",
       "      <td>100.00</td>\n",
       "      <td>12.13</td>\n",
       "      <td>24.00</td>\n",
       "      <td>711.00</td>\n",
       "      <td>22.00</td>\n",
       "      <td>396.90</td>\n",
       "      <td>37.97</td>\n",
       "      <td>50.00</td>\n",
       "    </tr>\n",
       "  </tbody>\n",
       "</table>\n",
       "</div>"
      ],
      "text/plain": [
       "         CRIM      ZN   INDUS    CHAS     NOX      RM     AGE     DIS     RAD  \\\n",
       "count  505.00  505.00  505.00  505.00  505.00  505.00  505.00  505.00  505.00   \n",
       "mean     3.62   11.35   11.15    0.07    0.55    6.28   68.58    3.79    9.57   \n",
       "std      8.61   23.34    6.86    0.25    0.12    0.70   28.18    2.11    8.71   \n",
       "min      0.01    0.00    0.46    0.00    0.38    3.56    2.90    1.13    1.00   \n",
       "25%      0.08    0.00    5.19    0.00    0.45    5.88   45.00    2.10    4.00   \n",
       "50%      0.26    0.00    9.69    0.00    0.54    6.21   77.70    3.20    5.00   \n",
       "75%      3.68   12.50   18.10    0.00    0.62    6.62   94.10    5.21   24.00   \n",
       "max     88.98  100.00   27.74    1.00    0.87    8.78  100.00   12.13   24.00   \n",
       "\n",
       "          TAX  PTRATIO       B   LSTAT    MEDV  \n",
       "count  505.00   505.00  505.00  505.00  505.00  \n",
       "mean   408.46    18.46  356.59   12.67   22.53  \n",
       "std    168.63     2.16   91.37    7.14    9.21  \n",
       "min    187.00    12.60    0.32    1.73    5.00  \n",
       "25%    279.00    17.40  375.33    7.01   17.00  \n",
       "50%    330.00    19.10  391.43   11.38   21.20  \n",
       "75%    666.00    20.20  396.21   16.96   25.00  \n",
       "max    711.00    22.00  396.90   37.97   50.00  "
      ]
     },
     "execution_count": 85,
     "metadata": {},
     "output_type": "execute_result"
    }
   ],
   "source": [
    "# Проверка на пропущенные значения\n",
    "# isnull(): возвращает булеву маску где True означает пропущенное значение\n",
    "# sum(): суммирует True значения (1) по каждой колонке\n",
    "missing_values = df.isnull().sum()\n",
    "print(\"Пропущенные значения в каждой колонке:\")\n",
    "print(missing_values)\n",
    "\n",
    "# Базовая статистика данных\n",
    "# describe(): генерирует описательную статистику для числовых колонок\n",
    "# round(2): округляет значения до 2 десятичных знаков\n",
    "print(\"\\nСтатистическое описание данных:\")\n",
    "df.describe().round(2)"
   ]
  },
  {
   "cell_type": "code",
   "execution_count": 86,
   "id": "d803c34c",
   "metadata": {},
   "outputs": [
    {
     "data": {
      "application/vnd.plotly.v1+json": {
       "config": {
        "plotlyServerURL": "https://plot.ly"
       },
       "data": [
        {
         "bingroup": "x",
         "hovertemplate": "Медианная цена ($1000s)=%{x}<br>count=%{y}<extra></extra>",
         "legendgroup": "",
         "marker": {
          "color": "#636efa",
          "pattern": {
           "shape": ""
          }
         },
         "name": "",
         "nbinsx": 30,
         "orientation": "v",
         "showlegend": false,
         "type": "histogram",
         "x": {
          "bdata": "mpmZmZmZNUCamZmZmVlBQDMzMzMzs0BAmpmZmZkZQkAzMzMzM7M8QGZmZmZm5jZAmpmZmZkZO0AAAAAAAIAwQGZmZmZm5jJAAAAAAAAALkBmZmZmZuYyQDMzMzMzszVAZmZmZmZmNEAzMzMzMzMyQGZmZmZm5jNAmpmZmZkZN0AAAAAAAIAxQDMzMzMzMzRAMzMzMzMzMkAzMzMzMzMrQJqZmZmZmTNAZmZmZmZmLkAAAAAAAAAtQDMzMzMzMy9AzczMzMzMK0CamZmZmZkwQJqZmZmZmS1AZmZmZmZmMkAAAAAAAAA1QGZmZmZmZilAAAAAAAAALUBmZmZmZmYqQDMzMzMzMypAAAAAAAAAK0BmZmZmZuYyQAAAAAAAADRAAAAAAAAANUAzMzMzM7M4QM3MzMzMzD5AMzMzMzNzQUCamZmZmZk6QM3MzMzMTDlAMzMzMzOzOEAzMzMzMzM1QM3MzMzMTDNAAAAAAAAANECamZmZmZkwQM3MzMzMzCxAZmZmZmZmM0AzMzMzM7MzQAAAAAAAgDRAAAAAAAAAOUBmZmZmZmY3QGZmZmZm5jJAMzMzMzOzQUAzMzMzM7M4QJqZmZmZmT9AzczMzMxMN0CamZmZmZkzQDMzMzMzszJAAAAAAAAAMEAzMzMzMzM2QAAAAAAAADlAAAAAAACAQEAAAAAAAIA3QGZmZmZmZjNAAAAAAAAANkBmZmZmZmYxQGZmZmZm5jRAMzMzMzMzOEAzMzMzM7M1QM3MzMzMzDZAZmZmZmZmN0CamZmZmRk4QGZmZmZmZjVAAAAAAAAANEDNzMzMzMw0QDMzMzMzMzVAzczMzMxMNEAAAAAAAAA8QGZmZmZm5jdAzczMzMzMOEBmZmZmZuY2QGZmZmZm5jdAmpmZmZmZOkAAAAAAAIA2QDMzMzMzMzZAmpmZmZmZN0AzMzMzM7M8QJqZmZmZmTZAAAAAAAAANkBmZmZmZuY2QAAAAAAAADlAmpmZmZmZNEBmZmZmZmY8QGZmZmZmZjVAmpmZmZlZQ0BmZmZmZuZFQJqZmZmZmUBAAAAAAACAO0AAAAAAAIA6QJqZmZmZmTJAzczMzMxMM0CamZmZmRk0QAAAAAAAgDNAAAAAAACAM0BmZmZmZmY0QM3MzMzMzDNAZmZmZmZmM0AzMzMzM7M1QM3MzMzMzDZAzczMzMzMMkAzMzMzM7MyQAAAAAAAgDJAzczMzMxMMkAzMzMzMzM1QDMzMzMzMzNAZmZmZmZmNEDNzMzMzEwzQAAAAAAAADZAzczMzMxMNEAAAAAAAIA0QM3MzMzMTDFAzczMzMzMMkBmZmZmZmY1QGZmZmZmZi9AMzMzMzMzMEAAAAAAAAAyQJqZmZmZmSxAMzMzMzMzM0CamZmZmZkzQAAAAAAAADdAZmZmZmZmMkAzMzMzMzMvQJqZmZmZGTJAZmZmZmZmMUCamZmZmRkxQJqZmZmZmSpAzczMzMzMMUAAAAAAAAAsQM3MzMzMzCxAzczMzMzMKkAzMzMzMzMvQJqZmZmZmSdAmpmZmZmZK0AzMzMzMzMvQDMzMzMzMy1AzczMzMzMMUDNzMzMzMwuQAAAAAAAgDVAmpmZmZmZM0CamZmZmZkuQGZmZmZmZjNAAAAAAAAAMUAzMzMzMzMvQDMzMzMzMypAZmZmZmamREDNzMzMzEw4QM3MzMzMTDdAAAAAAAAAO0AAAAAAAABJQAAAAAAAAElAAAAAAAAASUAzMzMzM7M2QAAAAAAAADlAAAAAAAAASUDNzMzMzMw3QM3MzMzMzDdAzczMzMxMNkBmZmZmZmYxQJqZmZmZGTNAmpmZmZkZN0CamZmZmZk3QJqZmZmZmTZAZmZmZmZmPUAzMzMzMzM3QJqZmZmZmThAZmZmZmbmPUCamZmZmZlCQGZmZmZm5kNAmpmZmZkZQkAzMzMzM/NCQAAAAAAAQEBAZmZmZmZmOkCamZmZmZk9QAAAAAAAAElAAAAAAAAAQEDNzMzMzMw9QDMzMzMzc0FAAAAAAACAQkAAAAAAAIA+QDMzMzMzM0JAmpmZmZkZP0CamZmZmRk9QAAAAAAAAElAZmZmZmamQEDNzMzMzEw+QM3MzMzMTEFAMzMzMzNzQUAzMzMzM3NAQJqZmZmZGThAZmZmZmYmRUAAAAAAAEBIQAAAAAAAAElAmpmZmZmZNkBmZmZmZmY4QAAAAAAAgDZAZmZmZmZmOEAAAAAAAAA0QDMzMzMzszVAzczMzMxMM0BmZmZmZmY2QJqZmZmZGTxAMzMzMzOzN0AAAAAAAAA5QM3MzMzMTDdAMzMzMzOzPEAAAAAAAIA1QAAAAAAAADdAMzMzMzOzOkAzMzMzM7M1QAAAAAAAgDtAmpmZmZkZPkBmZmZmZmZGQAAAAAAAAElAzczMzMzMQkCamZmZmZk/QJqZmZmZWUdAAAAAAACAP0DNzMzMzEw4QDMzMzMzsz9AmpmZmZnZREBmZmZmZiZIQAAAAAAAAD1AAAAAAAAAOECamZmZmRk5QAAAAAAAgD9AMzMzMzOzN0DNzMzMzEw3QAAAAAAAADZAmpmZmZkZNEAzMzMzMzM2QDMzMzMzszdAmpmZmZmZMUAAAAAAAIAyQM3MzMzMTDhAAAAAAACANEAAAAAAAIA4QDMzMzMzMzpAZmZmZmZmOEDNzMzMzMw4QJqZmZmZmT1AZmZmZmZmRUBmZmZmZuY1QGZmZmZm5jRAAAAAAAAARkAAAAAAAABJQAAAAAAAAEJAmpmZmZkZPkBmZmZmZuZAQM3MzMzMjEVAZmZmZmZmSEAAAAAAAAA/QAAAAAAAQEJAzczMzMzMNkAzMzMzM7M+QAAAAAAAAElAAAAAAADARUAzMzMzM7M0QJqZmZmZGTVAMzMzMzMzOUBmZmZmZmY4QJqZmZmZmUFAMzMzMzMzQEAAAAAAAABAQJqZmZmZmUBAzczMzMyMQECamZmZmRk9QM3MzMzMjEFAMzMzMzOzRkAzMzMzM7NBQAAAAAAAAEdAAAAAAAAASUCamZmZmRlAQAAAAAAAADZAmpmZmZkZNEAzMzMzMzM3QM3MzMzMTDZAzczMzMzMOEAAAAAAAIA8QGZmZmZmpkJAZmZmZmbmO0BmZmZmZuY3QDMzMzMzszVAmpmZmZmZPECamZmZmRk7QM3MzMzMTDRAAAAAAACANkAAAAAAAAA9QM3MzMzMzDhAAAAAAAAANkBmZmZmZmY6QM3MzMzMjEBAzczMzMwMQkBmZmZmZmY8QDMzMzMzs0BAMzMzMzMzPEDNzMzMzMw2QM3MzMzMTDRAmpmZmZkZMECamZmZmRk2QGZmZmZmZjNAmpmZmZmZNUDNzMzMzMw3QDMzMzMzMzBAzczMzMzMMUDNzMzMzMwzQJqZmZmZGTdAAAAAAAAANUDNzMzMzMw3QJqZmZmZGTdAZmZmZmZmNEAAAAAAAIAyQAAAAAAAADlAmpmZmZmZOEAAAAAAAAA3QDMzMzMzMzZAzczMzMxMM0CamZmZmZk2QM3MzMzMzDNAmpmZmZkZMUBmZmZmZmYzQDMzMzMzMzZAMzMzMzOzNECamZmZmRk1QAAAAAAAgDNAAAAAAACAMkCamZmZmZk0QAAAAAAAADNAMzMzMzOzMkCamZmZmVlAQAAAAAAAgDBAZmZmZmbmN0AzMzMzMzM/QAAAAAAAgDFAMzMzMzMzMUCamZmZmRk3QAAAAAAAgDhAmpmZmZmZOkBmZmZmZuY2QJqZmZmZGThAmpmZmZmZMkCamZmZmRk+QDMzMzMzMzJAmpmZmZmZNEDNzMzMzMwxQDMzMzMzszVAMzMzMzOzNkCamZmZmZk2QAAAAAAAADlAZmZmZmbmM0DNzMzMzMw0QM3MzMzMzDBAZmZmZmbmNUAAAAAAAIA7QGZmZmZm5jVAmpmZmZkZN0AAAAAAAABJQAAAAAAAAElAAAAAAAAASUAAAAAAAABJQAAAAAAAAElAmpmZmZmZK0CamZmZmZkrQAAAAAAAAC5AzczMzMzMK0CamZmZmZkqQDMzMzMzMypAZmZmZmZmJEDNzMzMzMwkQM3MzMzMzCVAmpmZmZmZJkCamZmZmZkoQJqZmZmZmSFAzczMzMzMHEAAAAAAAAAlQJqZmZmZmR1AZmZmZmZmJEAAAAAAAAAnQDMzMzMzMy5AMzMzMzMzN0BmZmZmZmYjQJqZmZmZmStAZmZmZmZmKUAzMzMzMzMqQAAAAAAAAClAAAAAAAAAIUAAAAAAAAAUQDMzMzMzMxlAZmZmZmZmFkDNzMzMzMwcQDMzMzMzMyhAmpmZmZmZIEAAAAAAAAAhQAAAAAAAABRAzczMzMzMJ0BmZmZmZuY7QDMzMzMzMzFAAAAAAACAO0AAAAAAAAAuQDMzMzMzMzFAZmZmZmbmMUDNzMzMzEwwQAAAAAAAABxAzczMzMzMHEAAAAAAAAAeQM3MzMzMzCRAmpmZmZmZIUDNzMzMzMwgQDMzMzMzszBAZmZmZmZmLEDNzMzMzMw0QM3MzMzMzCpAZmZmZmZmJ0CamZmZmZkgQGZmZmZmZiRAzczMzMzMJUAAAAAAAAAmQAAAAAAAACNAAAAAAAAALUAzMzMzMzMsQJqZmZmZGTBAmpmZmZmZLEBmZmZmZmYnQM3MzMzMzCpAMzMzMzMzI0BmZmZmZmYhQM3MzMzMzCBAmpmZmZmZKUAAAAAAAAAlQJqZmZmZGTFAZmZmZmZmMkDNzMzMzMwuQJqZmZmZmSVAmpmZmZmZJ0DNzMzMzMwtQDMzMzMzMylAMzMzMzMzLEAAAAAAAAAqQM3MzMzMzCpAZmZmZmZmLkCamZmZmRkwQM3MzMzMzDFAzczMzMzMLUAzMzMzMzMsQGZmZmZmZilAAAAAAAAAK0DNzMzMzMwtQAAAAAAAADRAZmZmZmZmMEAzMzMzM7MxQAAAAAAAgDNAMzMzMzMzNEBmZmZmZmY1QGZmZmZm5jNAAAAAAAAAM0CamZmZmRkzQJqZmZmZGTNAmpmZmZkZNEBmZmZmZuYzQJqZmZmZmTNAMzMzMzMzN0DNzMzMzMw9QJqZmZmZmStAmpmZmZmZKkAzMzMzM7MwQAAAAAAAAChAMzMzMzMzLUBmZmZmZmY1QAAAAAAAADdAMzMzMzOzN0AAAAAAAAA5QM3MzMzMzDVAmpmZmZmZNEAzMzMzMzM1QJqZmZmZGTNAmpmZmZmZNEBmZmZmZmYuQAAAAAAAABxAMzMzMzMzIEAzMzMzMzMrQJqZmZmZGTRAzczMzMzMNUAAAAAAAIA4QJqZmZmZGTdAMzMzMzOzM0DNzMzMzEwyQDMzMzMzMzVAAAAAAACAMUDNzMzMzMwwQGZmZmZmZjZAmpmZmZmZNEBmZmZmZuY3QAAAAAAAADZAzczMzMzMJ0A=",
          "dtype": "f8"
         },
         "xaxis": "x",
         "yaxis": "y"
        }
       ],
       "layout": {
        "bargap": 0.1,
        "barmode": "relative",
        "legend": {
         "tracegroupgap": 0
        },
        "template": {
         "data": {
          "bar": [
           {
            "error_x": {
             "color": "#2a3f5f"
            },
            "error_y": {
             "color": "#2a3f5f"
            },
            "marker": {
             "line": {
              "color": "white",
              "width": 0.5
             },
             "pattern": {
              "fillmode": "overlay",
              "size": 10,
              "solidity": 0.2
             }
            },
            "type": "bar"
           }
          ],
          "barpolar": [
           {
            "marker": {
             "line": {
              "color": "white",
              "width": 0.5
             },
             "pattern": {
              "fillmode": "overlay",
              "size": 10,
              "solidity": 0.2
             }
            },
            "type": "barpolar"
           }
          ],
          "carpet": [
           {
            "aaxis": {
             "endlinecolor": "#2a3f5f",
             "gridcolor": "#C8D4E3",
             "linecolor": "#C8D4E3",
             "minorgridcolor": "#C8D4E3",
             "startlinecolor": "#2a3f5f"
            },
            "baxis": {
             "endlinecolor": "#2a3f5f",
             "gridcolor": "#C8D4E3",
             "linecolor": "#C8D4E3",
             "minorgridcolor": "#C8D4E3",
             "startlinecolor": "#2a3f5f"
            },
            "type": "carpet"
           }
          ],
          "choropleth": [
           {
            "colorbar": {
             "outlinewidth": 0,
             "ticks": ""
            },
            "type": "choropleth"
           }
          ],
          "contour": [
           {
            "colorbar": {
             "outlinewidth": 0,
             "ticks": ""
            },
            "colorscale": [
             [
              0,
              "#0d0887"
             ],
             [
              0.1111111111111111,
              "#46039f"
             ],
             [
              0.2222222222222222,
              "#7201a8"
             ],
             [
              0.3333333333333333,
              "#9c179e"
             ],
             [
              0.4444444444444444,
              "#bd3786"
             ],
             [
              0.5555555555555556,
              "#d8576b"
             ],
             [
              0.6666666666666666,
              "#ed7953"
             ],
             [
              0.7777777777777778,
              "#fb9f3a"
             ],
             [
              0.8888888888888888,
              "#fdca26"
             ],
             [
              1,
              "#f0f921"
             ]
            ],
            "type": "contour"
           }
          ],
          "contourcarpet": [
           {
            "colorbar": {
             "outlinewidth": 0,
             "ticks": ""
            },
            "type": "contourcarpet"
           }
          ],
          "heatmap": [
           {
            "colorbar": {
             "outlinewidth": 0,
             "ticks": ""
            },
            "colorscale": [
             [
              0,
              "#0d0887"
             ],
             [
              0.1111111111111111,
              "#46039f"
             ],
             [
              0.2222222222222222,
              "#7201a8"
             ],
             [
              0.3333333333333333,
              "#9c179e"
             ],
             [
              0.4444444444444444,
              "#bd3786"
             ],
             [
              0.5555555555555556,
              "#d8576b"
             ],
             [
              0.6666666666666666,
              "#ed7953"
             ],
             [
              0.7777777777777778,
              "#fb9f3a"
             ],
             [
              0.8888888888888888,
              "#fdca26"
             ],
             [
              1,
              "#f0f921"
             ]
            ],
            "type": "heatmap"
           }
          ],
          "histogram": [
           {
            "marker": {
             "pattern": {
              "fillmode": "overlay",
              "size": 10,
              "solidity": 0.2
             }
            },
            "type": "histogram"
           }
          ],
          "histogram2d": [
           {
            "colorbar": {
             "outlinewidth": 0,
             "ticks": ""
            },
            "colorscale": [
             [
              0,
              "#0d0887"
             ],
             [
              0.1111111111111111,
              "#46039f"
             ],
             [
              0.2222222222222222,
              "#7201a8"
             ],
             [
              0.3333333333333333,
              "#9c179e"
             ],
             [
              0.4444444444444444,
              "#bd3786"
             ],
             [
              0.5555555555555556,
              "#d8576b"
             ],
             [
              0.6666666666666666,
              "#ed7953"
             ],
             [
              0.7777777777777778,
              "#fb9f3a"
             ],
             [
              0.8888888888888888,
              "#fdca26"
             ],
             [
              1,
              "#f0f921"
             ]
            ],
            "type": "histogram2d"
           }
          ],
          "histogram2dcontour": [
           {
            "colorbar": {
             "outlinewidth": 0,
             "ticks": ""
            },
            "colorscale": [
             [
              0,
              "#0d0887"
             ],
             [
              0.1111111111111111,
              "#46039f"
             ],
             [
              0.2222222222222222,
              "#7201a8"
             ],
             [
              0.3333333333333333,
              "#9c179e"
             ],
             [
              0.4444444444444444,
              "#bd3786"
             ],
             [
              0.5555555555555556,
              "#d8576b"
             ],
             [
              0.6666666666666666,
              "#ed7953"
             ],
             [
              0.7777777777777778,
              "#fb9f3a"
             ],
             [
              0.8888888888888888,
              "#fdca26"
             ],
             [
              1,
              "#f0f921"
             ]
            ],
            "type": "histogram2dcontour"
           }
          ],
          "mesh3d": [
           {
            "colorbar": {
             "outlinewidth": 0,
             "ticks": ""
            },
            "type": "mesh3d"
           }
          ],
          "parcoords": [
           {
            "line": {
             "colorbar": {
              "outlinewidth": 0,
              "ticks": ""
             }
            },
            "type": "parcoords"
           }
          ],
          "pie": [
           {
            "automargin": true,
            "type": "pie"
           }
          ],
          "scatter": [
           {
            "fillpattern": {
             "fillmode": "overlay",
             "size": 10,
             "solidity": 0.2
            },
            "type": "scatter"
           }
          ],
          "scatter3d": [
           {
            "line": {
             "colorbar": {
              "outlinewidth": 0,
              "ticks": ""
             }
            },
            "marker": {
             "colorbar": {
              "outlinewidth": 0,
              "ticks": ""
             }
            },
            "type": "scatter3d"
           }
          ],
          "scattercarpet": [
           {
            "marker": {
             "colorbar": {
              "outlinewidth": 0,
              "ticks": ""
             }
            },
            "type": "scattercarpet"
           }
          ],
          "scattergeo": [
           {
            "marker": {
             "colorbar": {
              "outlinewidth": 0,
              "ticks": ""
             }
            },
            "type": "scattergeo"
           }
          ],
          "scattergl": [
           {
            "marker": {
             "colorbar": {
              "outlinewidth": 0,
              "ticks": ""
             }
            },
            "type": "scattergl"
           }
          ],
          "scattermap": [
           {
            "marker": {
             "colorbar": {
              "outlinewidth": 0,
              "ticks": ""
             }
            },
            "type": "scattermap"
           }
          ],
          "scattermapbox": [
           {
            "marker": {
             "colorbar": {
              "outlinewidth": 0,
              "ticks": ""
             }
            },
            "type": "scattermapbox"
           }
          ],
          "scatterpolar": [
           {
            "marker": {
             "colorbar": {
              "outlinewidth": 0,
              "ticks": ""
             }
            },
            "type": "scatterpolar"
           }
          ],
          "scatterpolargl": [
           {
            "marker": {
             "colorbar": {
              "outlinewidth": 0,
              "ticks": ""
             }
            },
            "type": "scatterpolargl"
           }
          ],
          "scatterternary": [
           {
            "marker": {
             "colorbar": {
              "outlinewidth": 0,
              "ticks": ""
             }
            },
            "type": "scatterternary"
           }
          ],
          "surface": [
           {
            "colorbar": {
             "outlinewidth": 0,
             "ticks": ""
            },
            "colorscale": [
             [
              0,
              "#0d0887"
             ],
             [
              0.1111111111111111,
              "#46039f"
             ],
             [
              0.2222222222222222,
              "#7201a8"
             ],
             [
              0.3333333333333333,
              "#9c179e"
             ],
             [
              0.4444444444444444,
              "#bd3786"
             ],
             [
              0.5555555555555556,
              "#d8576b"
             ],
             [
              0.6666666666666666,
              "#ed7953"
             ],
             [
              0.7777777777777778,
              "#fb9f3a"
             ],
             [
              0.8888888888888888,
              "#fdca26"
             ],
             [
              1,
              "#f0f921"
             ]
            ],
            "type": "surface"
           }
          ],
          "table": [
           {
            "cells": {
             "fill": {
              "color": "#EBF0F8"
             },
             "line": {
              "color": "white"
             }
            },
            "header": {
             "fill": {
              "color": "#C8D4E3"
             },
             "line": {
              "color": "white"
             }
            },
            "type": "table"
           }
          ]
         },
         "layout": {
          "annotationdefaults": {
           "arrowcolor": "#2a3f5f",
           "arrowhead": 0,
           "arrowwidth": 1
          },
          "autotypenumbers": "strict",
          "coloraxis": {
           "colorbar": {
            "outlinewidth": 0,
            "ticks": ""
           }
          },
          "colorscale": {
           "diverging": [
            [
             0,
             "#8e0152"
            ],
            [
             0.1,
             "#c51b7d"
            ],
            [
             0.2,
             "#de77ae"
            ],
            [
             0.3,
             "#f1b6da"
            ],
            [
             0.4,
             "#fde0ef"
            ],
            [
             0.5,
             "#f7f7f7"
            ],
            [
             0.6,
             "#e6f5d0"
            ],
            [
             0.7,
             "#b8e186"
            ],
            [
             0.8,
             "#7fbc41"
            ],
            [
             0.9,
             "#4d9221"
            ],
            [
             1,
             "#276419"
            ]
           ],
           "sequential": [
            [
             0,
             "#0d0887"
            ],
            [
             0.1111111111111111,
             "#46039f"
            ],
            [
             0.2222222222222222,
             "#7201a8"
            ],
            [
             0.3333333333333333,
             "#9c179e"
            ],
            [
             0.4444444444444444,
             "#bd3786"
            ],
            [
             0.5555555555555556,
             "#d8576b"
            ],
            [
             0.6666666666666666,
             "#ed7953"
            ],
            [
             0.7777777777777778,
             "#fb9f3a"
            ],
            [
             0.8888888888888888,
             "#fdca26"
            ],
            [
             1,
             "#f0f921"
            ]
           ],
           "sequentialminus": [
            [
             0,
             "#0d0887"
            ],
            [
             0.1111111111111111,
             "#46039f"
            ],
            [
             0.2222222222222222,
             "#7201a8"
            ],
            [
             0.3333333333333333,
             "#9c179e"
            ],
            [
             0.4444444444444444,
             "#bd3786"
            ],
            [
             0.5555555555555556,
             "#d8576b"
            ],
            [
             0.6666666666666666,
             "#ed7953"
            ],
            [
             0.7777777777777778,
             "#fb9f3a"
            ],
            [
             0.8888888888888888,
             "#fdca26"
            ],
            [
             1,
             "#f0f921"
            ]
           ]
          },
          "colorway": [
           "#636efa",
           "#EF553B",
           "#00cc96",
           "#ab63fa",
           "#FFA15A",
           "#19d3f3",
           "#FF6692",
           "#B6E880",
           "#FF97FF",
           "#FECB52"
          ],
          "font": {
           "color": "#2a3f5f"
          },
          "geo": {
           "bgcolor": "white",
           "lakecolor": "white",
           "landcolor": "white",
           "showlakes": true,
           "showland": true,
           "subunitcolor": "#C8D4E3"
          },
          "hoverlabel": {
           "align": "left"
          },
          "hovermode": "closest",
          "mapbox": {
           "style": "light"
          },
          "paper_bgcolor": "white",
          "plot_bgcolor": "white",
          "polar": {
           "angularaxis": {
            "gridcolor": "#EBF0F8",
            "linecolor": "#EBF0F8",
            "ticks": ""
           },
           "bgcolor": "white",
           "radialaxis": {
            "gridcolor": "#EBF0F8",
            "linecolor": "#EBF0F8",
            "ticks": ""
           }
          },
          "scene": {
           "xaxis": {
            "backgroundcolor": "white",
            "gridcolor": "#DFE8F3",
            "gridwidth": 2,
            "linecolor": "#EBF0F8",
            "showbackground": true,
            "ticks": "",
            "zerolinecolor": "#EBF0F8"
           },
           "yaxis": {
            "backgroundcolor": "white",
            "gridcolor": "#DFE8F3",
            "gridwidth": 2,
            "linecolor": "#EBF0F8",
            "showbackground": true,
            "ticks": "",
            "zerolinecolor": "#EBF0F8"
           },
           "zaxis": {
            "backgroundcolor": "white",
            "gridcolor": "#DFE8F3",
            "gridwidth": 2,
            "linecolor": "#EBF0F8",
            "showbackground": true,
            "ticks": "",
            "zerolinecolor": "#EBF0F8"
           }
          },
          "shapedefaults": {
           "line": {
            "color": "#2a3f5f"
           }
          },
          "ternary": {
           "aaxis": {
            "gridcolor": "#DFE8F3",
            "linecolor": "#A2B1C6",
            "ticks": ""
           },
           "baxis": {
            "gridcolor": "#DFE8F3",
            "linecolor": "#A2B1C6",
            "ticks": ""
           },
           "bgcolor": "white",
           "caxis": {
            "gridcolor": "#DFE8F3",
            "linecolor": "#A2B1C6",
            "ticks": ""
           }
          },
          "title": {
           "x": 0.05
          },
          "xaxis": {
           "automargin": true,
           "gridcolor": "#EBF0F8",
           "linecolor": "#EBF0F8",
           "ticks": "",
           "title": {
            "standoff": 15
           },
           "zerolinecolor": "#EBF0F8",
           "zerolinewidth": 2
          },
          "yaxis": {
           "automargin": true,
           "gridcolor": "#EBF0F8",
           "linecolor": "#EBF0F8",
           "ticks": "",
           "title": {
            "standoff": 15
           },
           "zerolinecolor": "#EBF0F8",
           "zerolinewidth": 2
          }
         }
        },
        "title": {
         "text": "Распределение цен на жилье в Бостоне (MEDV)"
        },
        "xaxis": {
         "anchor": "y",
         "domain": [
          0,
          1
         ],
         "title": {
          "text": "Медианная цена ($1000s)"
         }
        },
        "yaxis": {
         "anchor": "x",
         "domain": [
          0,
          1
         ],
         "title": {
          "text": "count"
         }
        }
       }
      }
     },
     "metadata": {},
     "output_type": "display_data"
    }
   ],
   "source": [
    "# Анализ распределения целевой переменной (MEDV - цены домов)\n",
    "# px.histogram: создает интерактивную гистограмму\n",
    "# x='MEDV': данные для оси X (цены)\n",
    "# title: заголовок графика\n",
    "# labels: переименовывает подписи осей для лучшей читаемости\n",
    "# nbins=30: количество бинов (столбцов) в гистограмме\n",
    "# template='plotly_white': использует белую тему для лучшей видимости\n",
    "\n",
    "fig = px.histogram(df, \n",
    "                   x='MEDV', \n",
    "                   title='Распределение цен на жилье в Бостоне (MEDV)',\n",
    "                   labels={'MEDV': 'Медианная цена ($1000s)'},\n",
    "                   nbins=30,\n",
    "                   template='plotly_white')\n",
    "fig.update_layout(bargap=0.1)  # bargap: зазор между столбцами\n",
    "fig.show()"
   ]
  },
  {
   "cell_type": "code",
   "execution_count": 87,
   "id": "e775afb3",
   "metadata": {},
   "outputs": [
    {
     "name": "stdout",
     "output_type": "stream",
     "text": [
      "Корреляция признаков с ценой (MEDV):\n",
      "MEDV       1.000000\n",
      "RM         0.695365\n",
      "ZN         0.360393\n",
      "B          0.333394\n",
      "DIS        0.249896\n",
      "CHAS       0.175364\n",
      "AGE       -0.376932\n",
      "RAD       -0.381690\n",
      "CRIM      -0.388249\n",
      "NOX       -0.427295\n",
      "TAX       -0.468543\n",
      "INDUS     -0.484126\n",
      "PTRATIO   -0.508411\n",
      "LSTAT     -0.738187\n",
      "Name: MEDV, dtype: float64\n"
     ]
    },
    {
     "data": {
      "application/vnd.plotly.v1+json": {
       "config": {
        "plotlyServerURL": "https://plot.ly"
       },
       "data": [
        {
         "coloraxis": "coloraxis",
         "hovertemplate": "x: %{x}<br>y: %{y}<br>color: %{z}<extra></extra>",
         "name": "0",
         "texttemplate": "%{z}",
         "type": "heatmap",
         "x": [
          "CRIM",
          "ZN",
          "INDUS",
          "CHAS",
          "NOX",
          "RM",
          "AGE",
          "DIS",
          "RAD",
          "TAX",
          "PTRATIO",
          "B",
          "LSTAT",
          "MEDV"
         ],
         "xaxis": "x",
         "y": [
          "CRIM",
          "ZN",
          "INDUS",
          "CHAS",
          "NOX",
          "RM",
          "AGE",
          "DIS",
          "RAD",
          "TAX",
          "PTRATIO",
          "B",
          "LSTAT",
          "MEDV"
         ],
         "yaxis": "y",
         "z": {
          "bdata": "AAAAAAAA8D+amZmZmZnJvz0K16NwPdo/uB6F61G4rr/hehSuR+HaPylcj8L1KMy/ZmZmZmZm1j9SuB6F61HYvylcj8L1KOQ/j8L1KFyP4j+PwvUoXI/SP1K4HoXrUdi/cT0K16Nw3T/2KFyPwvXYv5qZmZmZmcm/AAAAAAAA8D/2KFyPwvXgv3sUrkfheqS/pHA9Ctej4L/Xo3A9CtfTPz0K16NwPeK/H4XrUbge5T/Xo3A9CtfTv9ejcD0K19O/9ihcj8L12L8K16NwPQrHPz0K16NwPdq/CtejcD0K1z89CtejcD3aP/YoXI/C9eC/AAAAAAAA8D+4HoXrUbiuP1K4HoXrUeg/9ihcj8L12L/NzMzMzMzkP7gehetRuOa/4XoUrkfh4j8K16NwPQrnP1K4HoXrUdg/CtejcD0K178zMzMzMzPjP7gehetRuN6/uB6F61G4rr97FK5H4Xqkv7gehetRuK4/AAAAAAAA8D8K16NwPQq3PwrXo3A9Crc/CtejcD0Ktz+amZmZmZm5v3sUrkfheoS/exSuR+F6pL+4HoXrUbi+v5qZmZmZmak/mpmZmZmZqb8K16NwPQrHP+F6FK5H4do/pHA9Ctej4L9SuB6F61HoPwrXo3A9Crc/AAAAAAAA8D8zMzMzMzPTv1yPwvUoXOc/pHA9Ctej6L+F61G4HoXjP3E9CtejcOU/UrgehetRyD9SuB6F61HYv+F6FK5H4eI/hetRuB6F278pXI/C9SjMv9ejcD0K19M/9ihcj8L12L8K16NwPQq3PzMzMzMzM9O/AAAAAAAA8D+4HoXrUbjOv+F6FK5H4co/4XoUrkfhyr+PwvUoXI/SvwrXo3A9Cte/pHA9CtejwD+F61G4HoXjv2ZmZmZmZuY/ZmZmZmZm1j89CtejcD3iv83MzMzMzOQ/CtejcD0Ktz9cj8L1KFznP7gehetRuM6/AAAAAAAA8D8AAAAAAADov3E9CtejcN0/UrgehetR4D+kcD0K16PQP0jhehSuR9G/MzMzMzMz4z9SuB6F61HYv1K4HoXrUdi/H4XrUbge5T+4HoXrUbjmv5qZmZmZmbm/pHA9Ctej6L/hehSuR+HKPwAAAAAAAOi/AAAAAAAA8D9cj8L1KFzfv/YoXI/C9eC/cT0K16Nwzb+PwvUoXI/SPwAAAAAAAOC/AAAAAAAA0D8pXI/C9SjkP9ejcD0K19O/4XoUrkfh4j97FK5H4XqEv4XrUbgeheM/4XoUrkfhyr9xPQrXo3DdP1yPwvUoXN+/AAAAAAAA8D8fhetRuB7tP3E9CtejcN0/KVyPwvUo3L9cj8L1KFzfP1K4HoXrUdi/j8L1KFyP4j/Xo3A9CtfTvwrXo3A9Cuc/exSuR+F6pL9xPQrXo3DlP4/C9Shcj9K/UrgehetR4D/2KFyPwvXgvx+F61G4Hu0/AAAAAAAA8D9xPQrXo3DdPylcj8L1KNy/SOF6FK5H4T8UrkfhehTev4/C9Shcj9I/9ihcj8L12L9SuB6F61HYP7gehetRuL6/UrgehetRyD8K16NwPQrXv6RwPQrXo9A/cT0K16Nwzb9xPQrXo3DdP3E9CtejcN0/AAAAAAAA8D8K16NwPQrHv65H4XoUrtc/UrgehetR4L9SuB6F61HYvwrXo3A9Csc/CtejcD0K17+amZmZmZmpP1K4HoXrUdi/pHA9CtejwD9I4XoUrkfRv4/C9Shcj9I/KVyPwvUo3L8pXI/C9SjcvwrXo3A9Cse/AAAAAAAA8D+uR+F6FK7Xvx+F61G4HtU/cT0K16Nw3T89CtejcD3avzMzMzMzM+M/mpmZmZmZqb/hehSuR+HiP4XrUbgeheO/MzMzMzMz4z8AAAAAAADgv1yPwvUoXN8/SOF6FK5H4T+uR+F6FK7XP65H4XoUrte/AAAAAAAA8D+uR+F6FK7nv/YoXI/C9di/CtejcD0K1z+4HoXrUbjevwrXo3A9Csc/hetRuB6F279mZmZmZmbmP1K4HoXrUdi/AAAAAAAA0D9SuB6F61HYvxSuR+F6FN6/UrgehetR4L8fhetRuB7VP65H4XoUrue/AAAAAAAA8D8=",
          "dtype": "f8",
          "shape": "14, 14"
         }
        }
       ],
       "layout": {
        "coloraxis": {
         "colorscale": [
          [
           0,
           "rgb(5,48,97)"
          ],
          [
           0.1,
           "rgb(33,102,172)"
          ],
          [
           0.2,
           "rgb(67,147,195)"
          ],
          [
           0.3,
           "rgb(146,197,222)"
          ],
          [
           0.4,
           "rgb(209,229,240)"
          ],
          [
           0.5,
           "rgb(247,247,247)"
          ],
          [
           0.6,
           "rgb(253,219,199)"
          ],
          [
           0.7,
           "rgb(244,165,130)"
          ],
          [
           0.8,
           "rgb(214,96,77)"
          ],
          [
           0.9,
           "rgb(178,24,43)"
          ],
          [
           1,
           "rgb(103,0,31)"
          ]
         ]
        },
        "height": 800,
        "template": {
         "data": {
          "bar": [
           {
            "error_x": {
             "color": "#2a3f5f"
            },
            "error_y": {
             "color": "#2a3f5f"
            },
            "marker": {
             "line": {
              "color": "#E5ECF6",
              "width": 0.5
             },
             "pattern": {
              "fillmode": "overlay",
              "size": 10,
              "solidity": 0.2
             }
            },
            "type": "bar"
           }
          ],
          "barpolar": [
           {
            "marker": {
             "line": {
              "color": "#E5ECF6",
              "width": 0.5
             },
             "pattern": {
              "fillmode": "overlay",
              "size": 10,
              "solidity": 0.2
             }
            },
            "type": "barpolar"
           }
          ],
          "carpet": [
           {
            "aaxis": {
             "endlinecolor": "#2a3f5f",
             "gridcolor": "white",
             "linecolor": "white",
             "minorgridcolor": "white",
             "startlinecolor": "#2a3f5f"
            },
            "baxis": {
             "endlinecolor": "#2a3f5f",
             "gridcolor": "white",
             "linecolor": "white",
             "minorgridcolor": "white",
             "startlinecolor": "#2a3f5f"
            },
            "type": "carpet"
           }
          ],
          "choropleth": [
           {
            "colorbar": {
             "outlinewidth": 0,
             "ticks": ""
            },
            "type": "choropleth"
           }
          ],
          "contour": [
           {
            "colorbar": {
             "outlinewidth": 0,
             "ticks": ""
            },
            "colorscale": [
             [
              0,
              "#0d0887"
             ],
             [
              0.1111111111111111,
              "#46039f"
             ],
             [
              0.2222222222222222,
              "#7201a8"
             ],
             [
              0.3333333333333333,
              "#9c179e"
             ],
             [
              0.4444444444444444,
              "#bd3786"
             ],
             [
              0.5555555555555556,
              "#d8576b"
             ],
             [
              0.6666666666666666,
              "#ed7953"
             ],
             [
              0.7777777777777778,
              "#fb9f3a"
             ],
             [
              0.8888888888888888,
              "#fdca26"
             ],
             [
              1,
              "#f0f921"
             ]
            ],
            "type": "contour"
           }
          ],
          "contourcarpet": [
           {
            "colorbar": {
             "outlinewidth": 0,
             "ticks": ""
            },
            "type": "contourcarpet"
           }
          ],
          "heatmap": [
           {
            "colorbar": {
             "outlinewidth": 0,
             "ticks": ""
            },
            "colorscale": [
             [
              0,
              "#0d0887"
             ],
             [
              0.1111111111111111,
              "#46039f"
             ],
             [
              0.2222222222222222,
              "#7201a8"
             ],
             [
              0.3333333333333333,
              "#9c179e"
             ],
             [
              0.4444444444444444,
              "#bd3786"
             ],
             [
              0.5555555555555556,
              "#d8576b"
             ],
             [
              0.6666666666666666,
              "#ed7953"
             ],
             [
              0.7777777777777778,
              "#fb9f3a"
             ],
             [
              0.8888888888888888,
              "#fdca26"
             ],
             [
              1,
              "#f0f921"
             ]
            ],
            "type": "heatmap"
           }
          ],
          "histogram": [
           {
            "marker": {
             "pattern": {
              "fillmode": "overlay",
              "size": 10,
              "solidity": 0.2
             }
            },
            "type": "histogram"
           }
          ],
          "histogram2d": [
           {
            "colorbar": {
             "outlinewidth": 0,
             "ticks": ""
            },
            "colorscale": [
             [
              0,
              "#0d0887"
             ],
             [
              0.1111111111111111,
              "#46039f"
             ],
             [
              0.2222222222222222,
              "#7201a8"
             ],
             [
              0.3333333333333333,
              "#9c179e"
             ],
             [
              0.4444444444444444,
              "#bd3786"
             ],
             [
              0.5555555555555556,
              "#d8576b"
             ],
             [
              0.6666666666666666,
              "#ed7953"
             ],
             [
              0.7777777777777778,
              "#fb9f3a"
             ],
             [
              0.8888888888888888,
              "#fdca26"
             ],
             [
              1,
              "#f0f921"
             ]
            ],
            "type": "histogram2d"
           }
          ],
          "histogram2dcontour": [
           {
            "colorbar": {
             "outlinewidth": 0,
             "ticks": ""
            },
            "colorscale": [
             [
              0,
              "#0d0887"
             ],
             [
              0.1111111111111111,
              "#46039f"
             ],
             [
              0.2222222222222222,
              "#7201a8"
             ],
             [
              0.3333333333333333,
              "#9c179e"
             ],
             [
              0.4444444444444444,
              "#bd3786"
             ],
             [
              0.5555555555555556,
              "#d8576b"
             ],
             [
              0.6666666666666666,
              "#ed7953"
             ],
             [
              0.7777777777777778,
              "#fb9f3a"
             ],
             [
              0.8888888888888888,
              "#fdca26"
             ],
             [
              1,
              "#f0f921"
             ]
            ],
            "type": "histogram2dcontour"
           }
          ],
          "mesh3d": [
           {
            "colorbar": {
             "outlinewidth": 0,
             "ticks": ""
            },
            "type": "mesh3d"
           }
          ],
          "parcoords": [
           {
            "line": {
             "colorbar": {
              "outlinewidth": 0,
              "ticks": ""
             }
            },
            "type": "parcoords"
           }
          ],
          "pie": [
           {
            "automargin": true,
            "type": "pie"
           }
          ],
          "scatter": [
           {
            "fillpattern": {
             "fillmode": "overlay",
             "size": 10,
             "solidity": 0.2
            },
            "type": "scatter"
           }
          ],
          "scatter3d": [
           {
            "line": {
             "colorbar": {
              "outlinewidth": 0,
              "ticks": ""
             }
            },
            "marker": {
             "colorbar": {
              "outlinewidth": 0,
              "ticks": ""
             }
            },
            "type": "scatter3d"
           }
          ],
          "scattercarpet": [
           {
            "marker": {
             "colorbar": {
              "outlinewidth": 0,
              "ticks": ""
             }
            },
            "type": "scattercarpet"
           }
          ],
          "scattergeo": [
           {
            "marker": {
             "colorbar": {
              "outlinewidth": 0,
              "ticks": ""
             }
            },
            "type": "scattergeo"
           }
          ],
          "scattergl": [
           {
            "marker": {
             "colorbar": {
              "outlinewidth": 0,
              "ticks": ""
             }
            },
            "type": "scattergl"
           }
          ],
          "scattermap": [
           {
            "marker": {
             "colorbar": {
              "outlinewidth": 0,
              "ticks": ""
             }
            },
            "type": "scattermap"
           }
          ],
          "scattermapbox": [
           {
            "marker": {
             "colorbar": {
              "outlinewidth": 0,
              "ticks": ""
             }
            },
            "type": "scattermapbox"
           }
          ],
          "scatterpolar": [
           {
            "marker": {
             "colorbar": {
              "outlinewidth": 0,
              "ticks": ""
             }
            },
            "type": "scatterpolar"
           }
          ],
          "scatterpolargl": [
           {
            "marker": {
             "colorbar": {
              "outlinewidth": 0,
              "ticks": ""
             }
            },
            "type": "scatterpolargl"
           }
          ],
          "scatterternary": [
           {
            "marker": {
             "colorbar": {
              "outlinewidth": 0,
              "ticks": ""
             }
            },
            "type": "scatterternary"
           }
          ],
          "surface": [
           {
            "colorbar": {
             "outlinewidth": 0,
             "ticks": ""
            },
            "colorscale": [
             [
              0,
              "#0d0887"
             ],
             [
              0.1111111111111111,
              "#46039f"
             ],
             [
              0.2222222222222222,
              "#7201a8"
             ],
             [
              0.3333333333333333,
              "#9c179e"
             ],
             [
              0.4444444444444444,
              "#bd3786"
             ],
             [
              0.5555555555555556,
              "#d8576b"
             ],
             [
              0.6666666666666666,
              "#ed7953"
             ],
             [
              0.7777777777777778,
              "#fb9f3a"
             ],
             [
              0.8888888888888888,
              "#fdca26"
             ],
             [
              1,
              "#f0f921"
             ]
            ],
            "type": "surface"
           }
          ],
          "table": [
           {
            "cells": {
             "fill": {
              "color": "#EBF0F8"
             },
             "line": {
              "color": "white"
             }
            },
            "header": {
             "fill": {
              "color": "#C8D4E3"
             },
             "line": {
              "color": "white"
             }
            },
            "type": "table"
           }
          ]
         },
         "layout": {
          "annotationdefaults": {
           "arrowcolor": "#2a3f5f",
           "arrowhead": 0,
           "arrowwidth": 1
          },
          "autotypenumbers": "strict",
          "coloraxis": {
           "colorbar": {
            "outlinewidth": 0,
            "ticks": ""
           }
          },
          "colorscale": {
           "diverging": [
            [
             0,
             "#8e0152"
            ],
            [
             0.1,
             "#c51b7d"
            ],
            [
             0.2,
             "#de77ae"
            ],
            [
             0.3,
             "#f1b6da"
            ],
            [
             0.4,
             "#fde0ef"
            ],
            [
             0.5,
             "#f7f7f7"
            ],
            [
             0.6,
             "#e6f5d0"
            ],
            [
             0.7,
             "#b8e186"
            ],
            [
             0.8,
             "#7fbc41"
            ],
            [
             0.9,
             "#4d9221"
            ],
            [
             1,
             "#276419"
            ]
           ],
           "sequential": [
            [
             0,
             "#0d0887"
            ],
            [
             0.1111111111111111,
             "#46039f"
            ],
            [
             0.2222222222222222,
             "#7201a8"
            ],
            [
             0.3333333333333333,
             "#9c179e"
            ],
            [
             0.4444444444444444,
             "#bd3786"
            ],
            [
             0.5555555555555556,
             "#d8576b"
            ],
            [
             0.6666666666666666,
             "#ed7953"
            ],
            [
             0.7777777777777778,
             "#fb9f3a"
            ],
            [
             0.8888888888888888,
             "#fdca26"
            ],
            [
             1,
             "#f0f921"
            ]
           ],
           "sequentialminus": [
            [
             0,
             "#0d0887"
            ],
            [
             0.1111111111111111,
             "#46039f"
            ],
            [
             0.2222222222222222,
             "#7201a8"
            ],
            [
             0.3333333333333333,
             "#9c179e"
            ],
            [
             0.4444444444444444,
             "#bd3786"
            ],
            [
             0.5555555555555556,
             "#d8576b"
            ],
            [
             0.6666666666666666,
             "#ed7953"
            ],
            [
             0.7777777777777778,
             "#fb9f3a"
            ],
            [
             0.8888888888888888,
             "#fdca26"
            ],
            [
             1,
             "#f0f921"
            ]
           ]
          },
          "colorway": [
           "#636efa",
           "#EF553B",
           "#00cc96",
           "#ab63fa",
           "#FFA15A",
           "#19d3f3",
           "#FF6692",
           "#B6E880",
           "#FF97FF",
           "#FECB52"
          ],
          "font": {
           "color": "#2a3f5f"
          },
          "geo": {
           "bgcolor": "white",
           "lakecolor": "white",
           "landcolor": "#E5ECF6",
           "showlakes": true,
           "showland": true,
           "subunitcolor": "white"
          },
          "hoverlabel": {
           "align": "left"
          },
          "hovermode": "closest",
          "mapbox": {
           "style": "light"
          },
          "paper_bgcolor": "white",
          "plot_bgcolor": "#E5ECF6",
          "polar": {
           "angularaxis": {
            "gridcolor": "white",
            "linecolor": "white",
            "ticks": ""
           },
           "bgcolor": "#E5ECF6",
           "radialaxis": {
            "gridcolor": "white",
            "linecolor": "white",
            "ticks": ""
           }
          },
          "scene": {
           "xaxis": {
            "backgroundcolor": "#E5ECF6",
            "gridcolor": "white",
            "gridwidth": 2,
            "linecolor": "white",
            "showbackground": true,
            "ticks": "",
            "zerolinecolor": "white"
           },
           "yaxis": {
            "backgroundcolor": "#E5ECF6",
            "gridcolor": "white",
            "gridwidth": 2,
            "linecolor": "white",
            "showbackground": true,
            "ticks": "",
            "zerolinecolor": "white"
           },
           "zaxis": {
            "backgroundcolor": "#E5ECF6",
            "gridcolor": "white",
            "gridwidth": 2,
            "linecolor": "white",
            "showbackground": true,
            "ticks": "",
            "zerolinecolor": "white"
           }
          },
          "shapedefaults": {
           "line": {
            "color": "#2a3f5f"
           }
          },
          "ternary": {
           "aaxis": {
            "gridcolor": "white",
            "linecolor": "white",
            "ticks": ""
           },
           "baxis": {
            "gridcolor": "white",
            "linecolor": "white",
            "ticks": ""
           },
           "bgcolor": "#E5ECF6",
           "caxis": {
            "gridcolor": "white",
            "linecolor": "white",
            "ticks": ""
           }
          },
          "title": {
           "x": 0.05
          },
          "xaxis": {
           "automargin": true,
           "gridcolor": "white",
           "linecolor": "white",
           "ticks": "",
           "title": {
            "standoff": 15
           },
           "zerolinecolor": "white",
           "zerolinewidth": 2
          },
          "yaxis": {
           "automargin": true,
           "gridcolor": "white",
           "linecolor": "white",
           "ticks": "",
           "title": {
            "standoff": 15
           },
           "zerolinecolor": "white",
           "zerolinewidth": 2
          }
         }
        },
        "title": {
         "text": "Матрица корреляции признаков Boston Housing Dataset"
        },
        "width": 800,
        "xaxis": {
         "anchor": "y",
         "domain": [
          0,
          1
         ]
        },
        "yaxis": {
         "anchor": "x",
         "autorange": "reversed",
         "domain": [
          0,
          1
         ]
        }
       }
      }
     },
     "metadata": {},
     "output_type": "display_data"
    }
   ],
   "source": [
    "# Анализ корреляции между признаками и целевой переменной\n",
    "# corr(): вычисляет матрицу корреляции Пирсона между всеми числовыми колонками\n",
    "correlation_matrix = df.corr()\n",
    "\n",
    "# Сортировка корреляций с целевой переменной MEDV по убыванию\n",
    "# sort_values(ascending=False): сортирует значения по убыванию\n",
    "target_correlation = correlation_matrix['MEDV'].sort_values(ascending=False)\n",
    "abs_correlation = target_correlation.drop('MEDV').abs().sort_values(ascending=False)\n",
    "\n",
    "\n",
    "print(\"Корреляция признаков с ценой (MEDV):\")\n",
    "print(target_correlation)\n",
    "\n",
    "# Тепловая карта корреляций\n",
    "# px.imshow: создает heatmap (тепловую карту)\n",
    "# correlation_matrix.round(2): матрица корреляции, округленная до 2 знаков\n",
    "# color_continuous_scale='RdBu_r': цветовая шкала от синего к красному (reversed)\n",
    "# aspect=\"auto\": автоматическое соотношение сторон\n",
    "# text_auto=True: автоматическое отображение значений в ячейках\n",
    "\n",
    "fig = px.imshow(correlation_matrix.round(2),\n",
    "                title='Матрица корреляции признаков Boston Housing Dataset',\n",
    "                aspect=\"auto\",\n",
    "                color_continuous_scale='RdBu_r',\n",
    "                text_auto=True)\n",
    "fig.update_layout(width=800, height=800)  # Размер графика\n",
    "fig.show()"
   ]
  },
  {
   "cell_type": "code",
   "execution_count": 88,
   "id": "e665fc38",
   "metadata": {},
   "outputs": [
    {
     "name": "stdout",
     "output_type": "stream",
     "text": [
      "Index(['RM', 'ZN', 'B'], dtype='object')\n",
      "Index(['LSTAT', 'RM', 'PTRATIO', 'INDUS', 'TAX'], dtype='object')\n"
     ]
    },
    {
     "data": {
      "application/vnd.plotly.v1+json": {
       "config": {
        "plotlyServerURL": "https://plot.ly"
       },
       "data": [
        {
         "marker": {
          "opacity": 0.6,
          "size": 5
         },
         "mode": "markers",
         "name": "RM",
         "type": "scatter",
         "x": {
          "bdata": "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",
          "dtype": "f8"
         },
         "xaxis": "x",
         "y": {
          "bdata": "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",
          "dtype": "f8"
         },
         "yaxis": "y"
        },
        {
         "marker": {
          "opacity": 0.6,
          "size": 5
         },
         "mode": "markers",
         "name": "ZN",
         "type": "scatter",
         "x": {
          "bdata": "AAAAAAAAAAAAAAAAAAAAAAAAAAAAAAAAAAAAAAAAAAAAAAAAAAAAAAAAAAAAAClAAAAAAAAAKUAAAAAAAAApQAAAAAAAAClAAAAAAAAAKUAAAAAAAAApQAAAAAAAAClAAAAAAAAAAAAAAAAAAAAAAAAAAAAAAAAAAAAAAAAAAAAAAAAAAAAAAAAAAAAAAAAAAAAAAAAAAAAAAAAAAAAAAAAAAAAAAAAAAAAAAAAAAAAAAAAAAAAAAAAAAAAAAAAAAAAAAAAAAAAAAAAAAAAAAAAAAAAAAAAAAAAAAAAAAAAAAAAAAAAAAAAAAAAAAAAAAAAAAAAAAAAAAAAAAAAAAAAAAAAAAAAAAAAAAAAAAAAAAAAAAAAAAAAAAAAAAAAAAAAAAAAAAAAAAAAAAAAAAAAAAAAAwFJAAAAAAADAUkAAAAAAAAAAAAAAAAAAAAAAAAAAAAAAAAAAAAAAAAAAAAAAAAAAAAAAAAAAAAAAAAAAAAAAAAAAAAAAAAAAAAAAAAAAAAAAAAAAAAAAAAA1QAAAAAAAADVAAAAAAAAANUAAAAAAAAA1QAAAAAAAwFJAAAAAAACAVkAAAAAAAEBVQAAAAAAAAFlAAAAAAAAAOUAAAAAAAAA5QAAAAAAAADlAAAAAAAAAOUAAAAAAAAA5QAAAAAAAADlAAAAAAACAMUAAAAAAAABUQAAAAAAAAFRAAAAAAAAAKUAAAAAAAAApQAAAAAAAAClAAAAAAAAAAAAAAAAAAAAAAAAAAAAAAAAAAAAAAAAAAAAAAAAAAAAAAAAAAAAAAAAAAAAAAAAAAAAAAAAAAAAAAAAAAAAAAAAAAAAAAAAAAAAAAAAAAAA5QAAAAAAAADlAAAAAAAAAOUAAAAAAAAA5QAAAAAAAAAAAAAAAAAAAAAAAAAAAAAAAAAAAAAAAAAAAAAAAAAAAAAAAAAAAAAAAAAAAAAAAAAAAAAAAAAAAAAAAAAAAAAA8QAAAAAAAADxAAAAAAAAAPEAAAAAAAAAAAAAAAAAAAAAAAAAAAAAAAAAAAAAAAAAAAAAAAAAAAAAAAAAAAAAAAAAAAAAAAAAAAAAAAAAAAAAAAAAAAAAAAAAAAAAAAAAAAAAAAAAAAAAAAAAAAAAAAAAAAAAAAAAAAAAAAAAAAAAAAAAAAAAAAAAAAAAAAAAAAAAAAAAAAAAAAAAAAAAAAAAAAAAAAAAAAAAAAAAAAAAAAAAAAAAAAAAAAAAAAAAAAAAAAAAAAAAAAAAAAAAAAAAAAAAAAAAAAAAAAAAAAAAAAAAAAAAAAAAAAAAAAAAAAAAAAAAAAAAAAAAAAAAAAAAAAAAAAAAAAAAAAAAAAAAAAAAAAAAAAAAAAAAAAAAAAAAAAAAAAAAAAAAAAAAAAAAAAAAAAAAAAAAAAAAAAAAAAAAAAAAAAAAAAAAAAAAAAAAAAAAAAAAAAAAAAAAAAAAAAAAAAAAAAAAAAAAAAAAAAAAAAAAAAAAAAAAAAAAAAAAAAAAAAAAAAAAAAAAAAAAAAAAAAAAAAAAAAAAAAAAAAAAAAAAAAAAAAAAAAAAAAAAAAAAAAAAAAAAAAAAAAAAAAAAAAAAAAAAAAAAAAAAAAAAAAAAAAAAAAAAAAAAAAAAAAAAAAAAAAAAAAAAAAAAAAAAAAAAAAAAAAAAAAAAAAAAAAAAAAAAAAAAAAAAAAAAAAAAAAAAAAAAAAAAAAAAAAAAAAAAAAAAAAAAAAAAAAAAAAAAAAAAAAAAAAAAAAAAAAAAAAAAAAAAAAAAAAAAAAAAAAAAAAAAAAAAAAAAAAAAAAAAAAAAAAAAAAAAAAAAAAAAAAAAAAAAAAAAAAAAAAAAAAAAAAAAAAAAAAAAAAAAAAAAAAAAAAAAAAAAAAAAAAAAAAAAAAAAAAAAAAAAAAAAAAAAAAAAAAAAAAAAAAAAAAAAAAAAAAAAAAAAAAAAAAAAAAAAAAAAAAAAAAAAAAAAAAAAAAAAAAAAAAAAAAAAAAACARkAAAAAAAIBGQAAAAAAAgEZAAAAAAACARkAAAAAAAIBGQAAAAAAAgEZAAAAAAAAATkAAAAAAAABOQAAAAAAAAFRAAAAAAAAAVEAAAAAAAABUQAAAAAAAAFRAAAAAAADAV0AAAAAAAMBXQAAAAAAAoFRAAAAAAACgVEAAAAAAAMBXQAAAAAAAwFdAAAAAAAAAAAAAAAAAAAAAAAAAAAAAAAAAAAAAAAAAAAAAAAAAAAAAAAAAAAAAAAAAAAAAAAAAAAAAAAAAAAAAAAAAAAAAAAAAAAAAAAAAAAAAAAAAAAAAAAAAAAAAAAAAAAAAAAAAAAAAAAAAAAAAAAAAAAAAAAAAAAAAAAAAAAAAAAAAAAAAAAAAAAAAAAAAAAAAAAAAAAAAAAAAAAAAAAAAAAAAAAAAAAAAAAAAAAAAAAAAAAAAAAAAAAAAAAAAAAAAAAAAAAAAAAAAAAAAAAAAAAAAAAAAAAAAAAAAAAAAAAAAAAAAAAAAAAAAAAAAAAAAAAAAAAAAAAAAAAAAAAAAAAAAAAAAAAAAAAAAPkAAAAAAAAA+QAAAAAAAAD5AAAAAAAAAPkAAAAAAAAA+QAAAAAAAAD5AAAAAAAAANkAAAAAAAAA2QAAAAAAAADZAAAAAAAAANkAAAAAAAAA2QAAAAAAAADZAAAAAAAAANkAAAAAAAAA2QAAAAAAAADZAAAAAAAAANkAAAAAAAABUQAAAAAAAAFRAAAAAAACAVkAAAAAAAAA0QAAAAAAAADRAAAAAAAAANEAAAAAAAAA0QAAAAAAAADRAAAAAAAAANEAAAAAAAAA0QAAAAAAAADRAAAAAAAAANEAAAAAAAAA0QAAAAAAAADRAAAAAAAAANEAAAAAAAAA0QAAAAAAAADRAAAAAAAAANEAAAAAAAAA0QAAAAAAAADRAAAAAAAAAREAAAAAAAABEQAAAAAAAAERAAAAAAAAAREAAAAAAAABEQAAAAAAAADRAAAAAAAAANEAAAAAAAAA0QAAAAAAAADRAAAAAAACAVkAAAAAAAIBWQAAAAAAAgEtAAAAAAAAAVEAAAAAAAEBKQAAAAAAAQEpAAAAAAABASkAAAAAAAABUQAAAAAAAAFRAAAAAAAAAVEAAAAAAAAAAAAAAAAAAAAAAAAAAAAAAAAAAAAAAAAAAAAAAAAAAAAAAAAAAAACAUUAAAAAAAIBRQAAAAAAAgFFAAAAAAAAAQUAAAAAAAABBQAAAAAAAAEFAAAAAAACAQEAAAAAAAIBAQAAAAAAAgEBAAAAAAACAQEAAAAAAAAAAAAAAAAAAAAAAAAAAAAAAAAAAAAAAAAAAAAAAAAAAAAAAAAAAAAAAAAAAAAAAAAAAAAAAAAAAAAAAAAAAAAAAAAAAAAAAAAAAAAAAAAAAAAAAAAAAAAAAAAAAAAAAAAAAAAAAAAAAAAAAAAAAAAAAAAAAAAAAAAAAAAAAAAAAAAAAAAAAAAAAAAAAAAAAAAAAAAAAAAAAAAAAAAAAAAAAAAAAAAAAAAAAAAAAAAAAAAAAAAAAAACAQUAAAAAAAIBBQAAAAAAAAAAAAAAAAAAAAAAAAAAAAAAAAAAAAAAAAAAAAAAAAAAAAAAAAAAAAAAAAAAAAAAAAAAAAAAAAAAAAAAAAAAAAIBBQAAAAAAAAAAAAAAAAACAS0AAAAAAAIBLQAAAAAAAAAAAAAAAAAAAAAAAAAAAAEBVQAAAAAAAAFRAAAAAAAAAREAAAAAAAABEQAAAAAAAAE5AAAAAAAAATkAAAAAAAIBWQAAAAAAAAFRAAAAAAAAAVEAAAAAAAAAAAAAAAAAAAAAAAAAAAAAAAAAAAAAAAAAAAAAAAAAAAAAAAAAAAAAAAAAAAAAAAAAAAAAAAAAAAAAAAAAAAAAAAAAAAAAAAAAAAAAAAAAAAAAAAAAAAAAAAAAAAAAAAAAAAAAAAAAAAAAAAAAAAAAAAAAAAAAAAAAAAAAAAAAAAAAAAAAAAAAAAAAAAAAAAAAAAAAAAAAAAAAAAAAAAAAAAAAAAAAAAAAAAAAAAAAAAAAAAAAAAAAAAAAAAAAAAAAAAAAAAAAAAAAAAAAAAAAAAAAAAAAAAAAAAAAAAAAAAAAAAAAAAAAAAAAAAAAAAAAAAAAAAAAAAAAAAAAAAAAAAAAAAAAAAAAAAAAAAAAAAAAAAAAAAAAAAAAAAAAAAAAAAAAAAAAAAAAAAAAAAAAAAAAAAAAAAAAAAAAAAAAAAAAAAAAAAAAAAAAAAAAAAAAAAAAAAAAAAAAAAAAAAAAAAAAAAAAAAAAAAAAAAAAAAAAAAAAAAAAAAAAAAAAAAAAAAAAAAAAAAAAAAAAAAAAAAAAAAAAAAAAAAAAAAAAAAAAAAAAAAAAAAAAAAAAAAAAAAAAAAAAAAAAAAAAAAAAAAAAAAAAAAAAAAAAAAAAAAAAAAAAAAAAAAAAAAAAAAAAAAAAAAAAAAAAAAAAAAAAAAAAAAAAAAAAAAAAAAAAAAAAAAAAAAAAAAAAAAAAAAAAAAAAAAAAAAAAAAAAAAAAAAAAAAAAAAAAAAAAAAAAAAAAAAAAAAAAAAAAAAAAAAAAAAAAAAAAAAAAAAAAAAAAAAAAAAAAAAAAAAAAAAAAAAAAAAAAAAAAAAAAAAAAAAAAAAAAAAAAAAAAAAAAAAAAAAAAAAAAAAAAAAAAAAAAAAAAAAAAAAAAAAAAAAAAAAAAAAAAAAAAAAAAAAAAAAAAAAAAAAAAAAAAAAAAAAAAAAAAAAAAAAAAAAAAAAAAAAAAAAAAAAAAAAAAAAAAAAAAAAAAAAAAAAAAAAAAAAAAAAAAAAAAAAAAAAAAAAAAAAAAAAAAAAAAAAAAAAAAAAAAAAAAAAAAAAAAAAAAAAAAAAAAAAAAAAAAAAAAAAAAAAAAAAAAAAAAAAAAAAAAAAAAAAAAAAAAAAAAAAAAAAAAAAAAAAAAAAAAAAAAAAAAAAAAAAAAAAAAAAAAAAAAAAAAAAAAAAAAAAAAAAAAAAAAAAAAAAAAAAAAAAAAAAAAAAAAAAAAAAAAAAAAAAAAAAAAAAAAAAAAAAAAAAAAAAAAAAAAAAAAAAAAAAAAAAAAAAAAAAAAAAAAAAAAAAAAAAAAAAAAAAAAAAAAAAAAAAAAAAAAAAAAAAAAAAAAAAAAAAAAAAAAAAAAAAAAAAAAAAAAAAAAAAAAAAAAAAAAAAAAAAAAAAAAAAAAAAAAAAAAAAAAAAAAAAAAAAAAAAAAAAAAAAAAAAAAAAAAAAAAAAAAAAAAAAAAAAAAAAAAAAAAAAAAAAAAAAAAAAAAAAAAAAAAAAAAAAAAAAAAAAAAAAAAAAAAAAAAAAAAAAAAAAAAAAAAAAAAAAAAAAAAAAAAAAAAAAAAAAAAAAAAAAAAAAAAAAAAAAAAAAAAAAAA=",
          "dtype": "f8"
         },
         "xaxis": "x2",
         "y": {
          "bdata": "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",
          "dtype": "f8"
         },
         "yaxis": "y2"
        },
        {
         "marker": {
          "opacity": 0.6,
          "size": 5
         },
         "mode": "markers",
         "name": "B",
         "type": "scatter",
         "x": {
          "bdata": "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",
          "dtype": "f8"
         },
         "xaxis": "x3",
         "y": {
          "bdata": "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",
          "dtype": "f8"
         },
         "yaxis": "y3"
        }
       ],
       "layout": {
        "annotations": [
         {
          "font": {
           "size": 16
          },
          "showarrow": false,
          "text": "RM vs MEDV",
          "x": 0.14444444444444446,
          "xanchor": "center",
          "xref": "paper",
          "y": 1,
          "yanchor": "bottom",
          "yref": "paper"
         },
         {
          "font": {
           "size": 16
          },
          "showarrow": false,
          "text": "ZN vs MEDV",
          "x": 0.5,
          "xanchor": "center",
          "xref": "paper",
          "y": 1,
          "yanchor": "bottom",
          "yref": "paper"
         },
         {
          "font": {
           "size": 16
          },
          "showarrow": false,
          "text": "B vs MEDV",
          "x": 0.8555555555555556,
          "xanchor": "center",
          "xref": "paper",
          "y": 1,
          "yanchor": "bottom",
          "yref": "paper"
         }
        ],
        "height": 400,
        "showlegend": false,
        "template": {
         "data": {
          "bar": [
           {
            "error_x": {
             "color": "#2a3f5f"
            },
            "error_y": {
             "color": "#2a3f5f"
            },
            "marker": {
             "line": {
              "color": "#E5ECF6",
              "width": 0.5
             },
             "pattern": {
              "fillmode": "overlay",
              "size": 10,
              "solidity": 0.2
             }
            },
            "type": "bar"
           }
          ],
          "barpolar": [
           {
            "marker": {
             "line": {
              "color": "#E5ECF6",
              "width": 0.5
             },
             "pattern": {
              "fillmode": "overlay",
              "size": 10,
              "solidity": 0.2
             }
            },
            "type": "barpolar"
           }
          ],
          "carpet": [
           {
            "aaxis": {
             "endlinecolor": "#2a3f5f",
             "gridcolor": "white",
             "linecolor": "white",
             "minorgridcolor": "white",
             "startlinecolor": "#2a3f5f"
            },
            "baxis": {
             "endlinecolor": "#2a3f5f",
             "gridcolor": "white",
             "linecolor": "white",
             "minorgridcolor": "white",
             "startlinecolor": "#2a3f5f"
            },
            "type": "carpet"
           }
          ],
          "choropleth": [
           {
            "colorbar": {
             "outlinewidth": 0,
             "ticks": ""
            },
            "type": "choropleth"
           }
          ],
          "contour": [
           {
            "colorbar": {
             "outlinewidth": 0,
             "ticks": ""
            },
            "colorscale": [
             [
              0,
              "#0d0887"
             ],
             [
              0.1111111111111111,
              "#46039f"
             ],
             [
              0.2222222222222222,
              "#7201a8"
             ],
             [
              0.3333333333333333,
              "#9c179e"
             ],
             [
              0.4444444444444444,
              "#bd3786"
             ],
             [
              0.5555555555555556,
              "#d8576b"
             ],
             [
              0.6666666666666666,
              "#ed7953"
             ],
             [
              0.7777777777777778,
              "#fb9f3a"
             ],
             [
              0.8888888888888888,
              "#fdca26"
             ],
             [
              1,
              "#f0f921"
             ]
            ],
            "type": "contour"
           }
          ],
          "contourcarpet": [
           {
            "colorbar": {
             "outlinewidth": 0,
             "ticks": ""
            },
            "type": "contourcarpet"
           }
          ],
          "heatmap": [
           {
            "colorbar": {
             "outlinewidth": 0,
             "ticks": ""
            },
            "colorscale": [
             [
              0,
              "#0d0887"
             ],
             [
              0.1111111111111111,
              "#46039f"
             ],
             [
              0.2222222222222222,
              "#7201a8"
             ],
             [
              0.3333333333333333,
              "#9c179e"
             ],
             [
              0.4444444444444444,
              "#bd3786"
             ],
             [
              0.5555555555555556,
              "#d8576b"
             ],
             [
              0.6666666666666666,
              "#ed7953"
             ],
             [
              0.7777777777777778,
              "#fb9f3a"
             ],
             [
              0.8888888888888888,
              "#fdca26"
             ],
             [
              1,
              "#f0f921"
             ]
            ],
            "type": "heatmap"
           }
          ],
          "histogram": [
           {
            "marker": {
             "pattern": {
              "fillmode": "overlay",
              "size": 10,
              "solidity": 0.2
             }
            },
            "type": "histogram"
           }
          ],
          "histogram2d": [
           {
            "colorbar": {
             "outlinewidth": 0,
             "ticks": ""
            },
            "colorscale": [
             [
              0,
              "#0d0887"
             ],
             [
              0.1111111111111111,
              "#46039f"
             ],
             [
              0.2222222222222222,
              "#7201a8"
             ],
             [
              0.3333333333333333,
              "#9c179e"
             ],
             [
              0.4444444444444444,
              "#bd3786"
             ],
             [
              0.5555555555555556,
              "#d8576b"
             ],
             [
              0.6666666666666666,
              "#ed7953"
             ],
             [
              0.7777777777777778,
              "#fb9f3a"
             ],
             [
              0.8888888888888888,
              "#fdca26"
             ],
             [
              1,
              "#f0f921"
             ]
            ],
            "type": "histogram2d"
           }
          ],
          "histogram2dcontour": [
           {
            "colorbar": {
             "outlinewidth": 0,
             "ticks": ""
            },
            "colorscale": [
             [
              0,
              "#0d0887"
             ],
             [
              0.1111111111111111,
              "#46039f"
             ],
             [
              0.2222222222222222,
              "#7201a8"
             ],
             [
              0.3333333333333333,
              "#9c179e"
             ],
             [
              0.4444444444444444,
              "#bd3786"
             ],
             [
              0.5555555555555556,
              "#d8576b"
             ],
             [
              0.6666666666666666,
              "#ed7953"
             ],
             [
              0.7777777777777778,
              "#fb9f3a"
             ],
             [
              0.8888888888888888,
              "#fdca26"
             ],
             [
              1,
              "#f0f921"
             ]
            ],
            "type": "histogram2dcontour"
           }
          ],
          "mesh3d": [
           {
            "colorbar": {
             "outlinewidth": 0,
             "ticks": ""
            },
            "type": "mesh3d"
           }
          ],
          "parcoords": [
           {
            "line": {
             "colorbar": {
              "outlinewidth": 0,
              "ticks": ""
             }
            },
            "type": "parcoords"
           }
          ],
          "pie": [
           {
            "automargin": true,
            "type": "pie"
           }
          ],
          "scatter": [
           {
            "fillpattern": {
             "fillmode": "overlay",
             "size": 10,
             "solidity": 0.2
            },
            "type": "scatter"
           }
          ],
          "scatter3d": [
           {
            "line": {
             "colorbar": {
              "outlinewidth": 0,
              "ticks": ""
             }
            },
            "marker": {
             "colorbar": {
              "outlinewidth": 0,
              "ticks": ""
             }
            },
            "type": "scatter3d"
           }
          ],
          "scattercarpet": [
           {
            "marker": {
             "colorbar": {
              "outlinewidth": 0,
              "ticks": ""
             }
            },
            "type": "scattercarpet"
           }
          ],
          "scattergeo": [
           {
            "marker": {
             "colorbar": {
              "outlinewidth": 0,
              "ticks": ""
             }
            },
            "type": "scattergeo"
           }
          ],
          "scattergl": [
           {
            "marker": {
             "colorbar": {
              "outlinewidth": 0,
              "ticks": ""
             }
            },
            "type": "scattergl"
           }
          ],
          "scattermap": [
           {
            "marker": {
             "colorbar": {
              "outlinewidth": 0,
              "ticks": ""
             }
            },
            "type": "scattermap"
           }
          ],
          "scattermapbox": [
           {
            "marker": {
             "colorbar": {
              "outlinewidth": 0,
              "ticks": ""
             }
            },
            "type": "scattermapbox"
           }
          ],
          "scatterpolar": [
           {
            "marker": {
             "colorbar": {
              "outlinewidth": 0,
              "ticks": ""
             }
            },
            "type": "scatterpolar"
           }
          ],
          "scatterpolargl": [
           {
            "marker": {
             "colorbar": {
              "outlinewidth": 0,
              "ticks": ""
             }
            },
            "type": "scatterpolargl"
           }
          ],
          "scatterternary": [
           {
            "marker": {
             "colorbar": {
              "outlinewidth": 0,
              "ticks": ""
             }
            },
            "type": "scatterternary"
           }
          ],
          "surface": [
           {
            "colorbar": {
             "outlinewidth": 0,
             "ticks": ""
            },
            "colorscale": [
             [
              0,
              "#0d0887"
             ],
             [
              0.1111111111111111,
              "#46039f"
             ],
             [
              0.2222222222222222,
              "#7201a8"
             ],
             [
              0.3333333333333333,
              "#9c179e"
             ],
             [
              0.4444444444444444,
              "#bd3786"
             ],
             [
              0.5555555555555556,
              "#d8576b"
             ],
             [
              0.6666666666666666,
              "#ed7953"
             ],
             [
              0.7777777777777778,
              "#fb9f3a"
             ],
             [
              0.8888888888888888,
              "#fdca26"
             ],
             [
              1,
              "#f0f921"
             ]
            ],
            "type": "surface"
           }
          ],
          "table": [
           {
            "cells": {
             "fill": {
              "color": "#EBF0F8"
             },
             "line": {
              "color": "white"
             }
            },
            "header": {
             "fill": {
              "color": "#C8D4E3"
             },
             "line": {
              "color": "white"
             }
            },
            "type": "table"
           }
          ]
         },
         "layout": {
          "annotationdefaults": {
           "arrowcolor": "#2a3f5f",
           "arrowhead": 0,
           "arrowwidth": 1
          },
          "autotypenumbers": "strict",
          "coloraxis": {
           "colorbar": {
            "outlinewidth": 0,
            "ticks": ""
           }
          },
          "colorscale": {
           "diverging": [
            [
             0,
             "#8e0152"
            ],
            [
             0.1,
             "#c51b7d"
            ],
            [
             0.2,
             "#de77ae"
            ],
            [
             0.3,
             "#f1b6da"
            ],
            [
             0.4,
             "#fde0ef"
            ],
            [
             0.5,
             "#f7f7f7"
            ],
            [
             0.6,
             "#e6f5d0"
            ],
            [
             0.7,
             "#b8e186"
            ],
            [
             0.8,
             "#7fbc41"
            ],
            [
             0.9,
             "#4d9221"
            ],
            [
             1,
             "#276419"
            ]
           ],
           "sequential": [
            [
             0,
             "#0d0887"
            ],
            [
             0.1111111111111111,
             "#46039f"
            ],
            [
             0.2222222222222222,
             "#7201a8"
            ],
            [
             0.3333333333333333,
             "#9c179e"
            ],
            [
             0.4444444444444444,
             "#bd3786"
            ],
            [
             0.5555555555555556,
             "#d8576b"
            ],
            [
             0.6666666666666666,
             "#ed7953"
            ],
            [
             0.7777777777777778,
             "#fb9f3a"
            ],
            [
             0.8888888888888888,
             "#fdca26"
            ],
            [
             1,
             "#f0f921"
            ]
           ],
           "sequentialminus": [
            [
             0,
             "#0d0887"
            ],
            [
             0.1111111111111111,
             "#46039f"
            ],
            [
             0.2222222222222222,
             "#7201a8"
            ],
            [
             0.3333333333333333,
             "#9c179e"
            ],
            [
             0.4444444444444444,
             "#bd3786"
            ],
            [
             0.5555555555555556,
             "#d8576b"
            ],
            [
             0.6666666666666666,
             "#ed7953"
            ],
            [
             0.7777777777777778,
             "#fb9f3a"
            ],
            [
             0.8888888888888888,
             "#fdca26"
            ],
            [
             1,
             "#f0f921"
            ]
           ]
          },
          "colorway": [
           "#636efa",
           "#EF553B",
           "#00cc96",
           "#ab63fa",
           "#FFA15A",
           "#19d3f3",
           "#FF6692",
           "#B6E880",
           "#FF97FF",
           "#FECB52"
          ],
          "font": {
           "color": "#2a3f5f"
          },
          "geo": {
           "bgcolor": "white",
           "lakecolor": "white",
           "landcolor": "#E5ECF6",
           "showlakes": true,
           "showland": true,
           "subunitcolor": "white"
          },
          "hoverlabel": {
           "align": "left"
          },
          "hovermode": "closest",
          "mapbox": {
           "style": "light"
          },
          "paper_bgcolor": "white",
          "plot_bgcolor": "#E5ECF6",
          "polar": {
           "angularaxis": {
            "gridcolor": "white",
            "linecolor": "white",
            "ticks": ""
           },
           "bgcolor": "#E5ECF6",
           "radialaxis": {
            "gridcolor": "white",
            "linecolor": "white",
            "ticks": ""
           }
          },
          "scene": {
           "xaxis": {
            "backgroundcolor": "#E5ECF6",
            "gridcolor": "white",
            "gridwidth": 2,
            "linecolor": "white",
            "showbackground": true,
            "ticks": "",
            "zerolinecolor": "white"
           },
           "yaxis": {
            "backgroundcolor": "#E5ECF6",
            "gridcolor": "white",
            "gridwidth": 2,
            "linecolor": "white",
            "showbackground": true,
            "ticks": "",
            "zerolinecolor": "white"
           },
           "zaxis": {
            "backgroundcolor": "#E5ECF6",
            "gridcolor": "white",
            "gridwidth": 2,
            "linecolor": "white",
            "showbackground": true,
            "ticks": "",
            "zerolinecolor": "white"
           }
          },
          "shapedefaults": {
           "line": {
            "color": "#2a3f5f"
           }
          },
          "ternary": {
           "aaxis": {
            "gridcolor": "white",
            "linecolor": "white",
            "ticks": ""
           },
           "baxis": {
            "gridcolor": "white",
            "linecolor": "white",
            "ticks": ""
           },
           "bgcolor": "#E5ECF6",
           "caxis": {
            "gridcolor": "white",
            "linecolor": "white",
            "ticks": ""
           }
          },
          "title": {
           "x": 0.05
          },
          "xaxis": {
           "automargin": true,
           "gridcolor": "white",
           "linecolor": "white",
           "ticks": "",
           "title": {
            "standoff": 15
           },
           "zerolinecolor": "white",
           "zerolinewidth": 2
          },
          "yaxis": {
           "automargin": true,
           "gridcolor": "white",
           "linecolor": "white",
           "ticks": "",
           "title": {
            "standoff": 15
           },
           "zerolinecolor": "white",
           "zerolinewidth": 2
          }
         }
        },
        "title": {
         "text": "Взаимосвязь топ-3 наиболее коррелирующих признаков с ценой"
        },
        "width": 1200,
        "xaxis": {
         "anchor": "y",
         "domain": [
          0,
          0.2888888888888889
         ],
         "title": {
          "text": "RM"
         }
        },
        "xaxis2": {
         "anchor": "y2",
         "domain": [
          0.35555555555555557,
          0.6444444444444445
         ],
         "title": {
          "text": "ZN"
         }
        },
        "xaxis3": {
         "anchor": "y3",
         "domain": [
          0.7111111111111111,
          1
         ],
         "title": {
          "text": "B"
         }
        },
        "yaxis": {
         "anchor": "x",
         "domain": [
          0,
          1
         ],
         "title": {
          "text": "MEDV"
         }
        },
        "yaxis2": {
         "anchor": "x2",
         "domain": [
          0,
          1
         ],
         "title": {
          "text": "MEDV"
         }
        },
        "yaxis3": {
         "anchor": "x3",
         "domain": [
          0,
          1
         ],
         "title": {
          "text": "MEDV"
         }
        }
       }
      }
     },
     "metadata": {},
     "output_type": "display_data"
    }
   ],
   "source": [
    "# Анализ самых значимых признаков (топ-3 кроме самой цены)\n",
    "# target_correlation.index[1:4]: берем индексы с 1 по 3 (исключая MEDV на позиции 0)\n",
    "top_features = target_correlation.index[1:4]\n",
    "print(top_features)\n",
    "top_abs = abs_correlation.index[:5]\n",
    "print(top_abs)\n",
    "\n",
    "# Создание subplots с 1 строкой и 3 колонками\n",
    "# subplot_titles: заголовки для каждого subplot\n",
    "fig = make_subplots(rows=1, \n",
    "                    cols=len(top_features),\n",
    "                    subplot_titles=[f\"{feat} vs MEDV\" for feat in top_features])\n",
    "\n",
    "# Добавление scatter plots для каждого признака\n",
    "for i, feature in enumerate(top_features, 1):  # enumerate начинается с 1 для нумерации колонок\n",
    "    fig.add_trace(\n",
    "        go.Scatter(\n",
    "            x=df[feature],  # данные по оси X (признак)\n",
    "            y=df['MEDV'],   # данные по оси Y (цена)\n",
    "            mode='markers', # режим отображения - точки\n",
    "            name=feature,   # название для легенды\n",
    "            marker=dict(size=5, opacity=0.6)  # настройки маркеров: размер и прозрачность\n",
    "        ),\n",
    "        row=1, col=i  # позиция в subplot\n",
    "    )\n",
    "    fig.update_xaxes(title_text=feature, row=1, col=i)  # подпись оси X\n",
    "    fig.update_yaxes(title_text=\"MEDV\", row=1, col=i)   # подпись оси Y\n",
    "\n",
    "fig.update_layout(\n",
    "    height=400,      # высота графика\n",
    "    width=1200,      # ширина графика\n",
    "    title_text=\"Взаимосвязь топ-3 наиболее коррелирующих признаков с ценой\",\n",
    "    showlegend=False # скрыть легенду (не нужна для отдельных графиков)\n",
    ")\n",
    "fig.show()"
   ]
  },
  {
   "cell_type": "code",
   "execution_count": 89,
   "id": "6259f421",
   "metadata": {},
   "outputs": [
    {
     "data": {
      "application/vnd.plotly.v1+json": {
       "config": {
        "plotlyServerURL": "https://plot.ly"
       },
       "data": [
        {
         "dimensions": [
          {
           "axis": {
            "matches": true
           },
           "label": "RM",
           "values": {
            "bdata": "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",
            "dtype": "f8"
           }
          },
          {
           "axis": {
            "matches": true
           },
           "label": "LSTAT",
           "values": {
            "bdata": "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",
            "dtype": "f8"
           }
          },
          {
           "axis": {
            "matches": true
           },
           "label": "PTRATIO",
           "values": {
            "bdata": "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",
            "dtype": "f8"
           }
          },
          {
           "axis": {
            "matches": true
           },
           "label": "INDUS",
           "values": {
            "bdata": "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",
            "dtype": "f8"
           }
          },
          {
           "axis": {
            "matches": true
           },
           "label": "MEDV",
           "values": {
            "bdata": "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",
            "dtype": "f8"
           }
          }
         ],
         "hovertemplate": "%{xaxis.title.text}=%{x}<br>%{yaxis.title.text}=%{y}<br>MEDV=%{marker.color}<extra></extra>",
         "legendgroup": "",
         "marker": {
          "color": {
           "bdata": "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",
           "dtype": "f8"
          },
          "coloraxis": "coloraxis",
          "symbol": "circle"
         },
         "name": "",
         "showlegend": false,
         "type": "splom"
        }
       ],
       "layout": {
        "coloraxis": {
         "colorbar": {
          "title": {
           "text": "MEDV"
          }
         },
         "colorscale": [
          [
           0,
           "#440154"
          ],
          [
           0.1111111111111111,
           "#482878"
          ],
          [
           0.2222222222222222,
           "#3e4989"
          ],
          [
           0.3333333333333333,
           "#31688e"
          ],
          [
           0.4444444444444444,
           "#26828e"
          ],
          [
           0.5555555555555556,
           "#1f9e89"
          ],
          [
           0.6666666666666666,
           "#35b779"
          ],
          [
           0.7777777777777778,
           "#6ece58"
          ],
          [
           0.8888888888888888,
           "#b5de2b"
          ],
          [
           1,
           "#fde725"
          ]
         ]
        },
        "dragmode": "select",
        "height": 800,
        "legend": {
         "tracegroupgap": 0
        },
        "template": {
         "data": {
          "bar": [
           {
            "error_x": {
             "color": "#2a3f5f"
            },
            "error_y": {
             "color": "#2a3f5f"
            },
            "marker": {
             "line": {
              "color": "#E5ECF6",
              "width": 0.5
             },
             "pattern": {
              "fillmode": "overlay",
              "size": 10,
              "solidity": 0.2
             }
            },
            "type": "bar"
           }
          ],
          "barpolar": [
           {
            "marker": {
             "line": {
              "color": "#E5ECF6",
              "width": 0.5
             },
             "pattern": {
              "fillmode": "overlay",
              "size": 10,
              "solidity": 0.2
             }
            },
            "type": "barpolar"
           }
          ],
          "carpet": [
           {
            "aaxis": {
             "endlinecolor": "#2a3f5f",
             "gridcolor": "white",
             "linecolor": "white",
             "minorgridcolor": "white",
             "startlinecolor": "#2a3f5f"
            },
            "baxis": {
             "endlinecolor": "#2a3f5f",
             "gridcolor": "white",
             "linecolor": "white",
             "minorgridcolor": "white",
             "startlinecolor": "#2a3f5f"
            },
            "type": "carpet"
           }
          ],
          "choropleth": [
           {
            "colorbar": {
             "outlinewidth": 0,
             "ticks": ""
            },
            "type": "choropleth"
           }
          ],
          "contour": [
           {
            "colorbar": {
             "outlinewidth": 0,
             "ticks": ""
            },
            "colorscale": [
             [
              0,
              "#0d0887"
             ],
             [
              0.1111111111111111,
              "#46039f"
             ],
             [
              0.2222222222222222,
              "#7201a8"
             ],
             [
              0.3333333333333333,
              "#9c179e"
             ],
             [
              0.4444444444444444,
              "#bd3786"
             ],
             [
              0.5555555555555556,
              "#d8576b"
             ],
             [
              0.6666666666666666,
              "#ed7953"
             ],
             [
              0.7777777777777778,
              "#fb9f3a"
             ],
             [
              0.8888888888888888,
              "#fdca26"
             ],
             [
              1,
              "#f0f921"
             ]
            ],
            "type": "contour"
           }
          ],
          "contourcarpet": [
           {
            "colorbar": {
             "outlinewidth": 0,
             "ticks": ""
            },
            "type": "contourcarpet"
           }
          ],
          "heatmap": [
           {
            "colorbar": {
             "outlinewidth": 0,
             "ticks": ""
            },
            "colorscale": [
             [
              0,
              "#0d0887"
             ],
             [
              0.1111111111111111,
              "#46039f"
             ],
             [
              0.2222222222222222,
              "#7201a8"
             ],
             [
              0.3333333333333333,
              "#9c179e"
             ],
             [
              0.4444444444444444,
              "#bd3786"
             ],
             [
              0.5555555555555556,
              "#d8576b"
             ],
             [
              0.6666666666666666,
              "#ed7953"
             ],
             [
              0.7777777777777778,
              "#fb9f3a"
             ],
             [
              0.8888888888888888,
              "#fdca26"
             ],
             [
              1,
              "#f0f921"
             ]
            ],
            "type": "heatmap"
           }
          ],
          "histogram": [
           {
            "marker": {
             "pattern": {
              "fillmode": "overlay",
              "size": 10,
              "solidity": 0.2
             }
            },
            "type": "histogram"
           }
          ],
          "histogram2d": [
           {
            "colorbar": {
             "outlinewidth": 0,
             "ticks": ""
            },
            "colorscale": [
             [
              0,
              "#0d0887"
             ],
             [
              0.1111111111111111,
              "#46039f"
             ],
             [
              0.2222222222222222,
              "#7201a8"
             ],
             [
              0.3333333333333333,
              "#9c179e"
             ],
             [
              0.4444444444444444,
              "#bd3786"
             ],
             [
              0.5555555555555556,
              "#d8576b"
             ],
             [
              0.6666666666666666,
              "#ed7953"
             ],
             [
              0.7777777777777778,
              "#fb9f3a"
             ],
             [
              0.8888888888888888,
              "#fdca26"
             ],
             [
              1,
              "#f0f921"
             ]
            ],
            "type": "histogram2d"
           }
          ],
          "histogram2dcontour": [
           {
            "colorbar": {
             "outlinewidth": 0,
             "ticks": ""
            },
            "colorscale": [
             [
              0,
              "#0d0887"
             ],
             [
              0.1111111111111111,
              "#46039f"
             ],
             [
              0.2222222222222222,
              "#7201a8"
             ],
             [
              0.3333333333333333,
              "#9c179e"
             ],
             [
              0.4444444444444444,
              "#bd3786"
             ],
             [
              0.5555555555555556,
              "#d8576b"
             ],
             [
              0.6666666666666666,
              "#ed7953"
             ],
             [
              0.7777777777777778,
              "#fb9f3a"
             ],
             [
              0.8888888888888888,
              "#fdca26"
             ],
             [
              1,
              "#f0f921"
             ]
            ],
            "type": "histogram2dcontour"
           }
          ],
          "mesh3d": [
           {
            "colorbar": {
             "outlinewidth": 0,
             "ticks": ""
            },
            "type": "mesh3d"
           }
          ],
          "parcoords": [
           {
            "line": {
             "colorbar": {
              "outlinewidth": 0,
              "ticks": ""
             }
            },
            "type": "parcoords"
           }
          ],
          "pie": [
           {
            "automargin": true,
            "type": "pie"
           }
          ],
          "scatter": [
           {
            "fillpattern": {
             "fillmode": "overlay",
             "size": 10,
             "solidity": 0.2
            },
            "type": "scatter"
           }
          ],
          "scatter3d": [
           {
            "line": {
             "colorbar": {
              "outlinewidth": 0,
              "ticks": ""
             }
            },
            "marker": {
             "colorbar": {
              "outlinewidth": 0,
              "ticks": ""
             }
            },
            "type": "scatter3d"
           }
          ],
          "scattercarpet": [
           {
            "marker": {
             "colorbar": {
              "outlinewidth": 0,
              "ticks": ""
             }
            },
            "type": "scattercarpet"
           }
          ],
          "scattergeo": [
           {
            "marker": {
             "colorbar": {
              "outlinewidth": 0,
              "ticks": ""
             }
            },
            "type": "scattergeo"
           }
          ],
          "scattergl": [
           {
            "marker": {
             "colorbar": {
              "outlinewidth": 0,
              "ticks": ""
             }
            },
            "type": "scattergl"
           }
          ],
          "scattermap": [
           {
            "marker": {
             "colorbar": {
              "outlinewidth": 0,
              "ticks": ""
             }
            },
            "type": "scattermap"
           }
          ],
          "scattermapbox": [
           {
            "marker": {
             "colorbar": {
              "outlinewidth": 0,
              "ticks": ""
             }
            },
            "type": "scattermapbox"
           }
          ],
          "scatterpolar": [
           {
            "marker": {
             "colorbar": {
              "outlinewidth": 0,
              "ticks": ""
             }
            },
            "type": "scatterpolar"
           }
          ],
          "scatterpolargl": [
           {
            "marker": {
             "colorbar": {
              "outlinewidth": 0,
              "ticks": ""
             }
            },
            "type": "scatterpolargl"
           }
          ],
          "scatterternary": [
           {
            "marker": {
             "colorbar": {
              "outlinewidth": 0,
              "ticks": ""
             }
            },
            "type": "scatterternary"
           }
          ],
          "surface": [
           {
            "colorbar": {
             "outlinewidth": 0,
             "ticks": ""
            },
            "colorscale": [
             [
              0,
              "#0d0887"
             ],
             [
              0.1111111111111111,
              "#46039f"
             ],
             [
              0.2222222222222222,
              "#7201a8"
             ],
             [
              0.3333333333333333,
              "#9c179e"
             ],
             [
              0.4444444444444444,
              "#bd3786"
             ],
             [
              0.5555555555555556,
              "#d8576b"
             ],
             [
              0.6666666666666666,
              "#ed7953"
             ],
             [
              0.7777777777777778,
              "#fb9f3a"
             ],
             [
              0.8888888888888888,
              "#fdca26"
             ],
             [
              1,
              "#f0f921"
             ]
            ],
            "type": "surface"
           }
          ],
          "table": [
           {
            "cells": {
             "fill": {
              "color": "#EBF0F8"
             },
             "line": {
              "color": "white"
             }
            },
            "header": {
             "fill": {
              "color": "#C8D4E3"
             },
             "line": {
              "color": "white"
             }
            },
            "type": "table"
           }
          ]
         },
         "layout": {
          "annotationdefaults": {
           "arrowcolor": "#2a3f5f",
           "arrowhead": 0,
           "arrowwidth": 1
          },
          "autotypenumbers": "strict",
          "coloraxis": {
           "colorbar": {
            "outlinewidth": 0,
            "ticks": ""
           }
          },
          "colorscale": {
           "diverging": [
            [
             0,
             "#8e0152"
            ],
            [
             0.1,
             "#c51b7d"
            ],
            [
             0.2,
             "#de77ae"
            ],
            [
             0.3,
             "#f1b6da"
            ],
            [
             0.4,
             "#fde0ef"
            ],
            [
             0.5,
             "#f7f7f7"
            ],
            [
             0.6,
             "#e6f5d0"
            ],
            [
             0.7,
             "#b8e186"
            ],
            [
             0.8,
             "#7fbc41"
            ],
            [
             0.9,
             "#4d9221"
            ],
            [
             1,
             "#276419"
            ]
           ],
           "sequential": [
            [
             0,
             "#0d0887"
            ],
            [
             0.1111111111111111,
             "#46039f"
            ],
            [
             0.2222222222222222,
             "#7201a8"
            ],
            [
             0.3333333333333333,
             "#9c179e"
            ],
            [
             0.4444444444444444,
             "#bd3786"
            ],
            [
             0.5555555555555556,
             "#d8576b"
            ],
            [
             0.6666666666666666,
             "#ed7953"
            ],
            [
             0.7777777777777778,
             "#fb9f3a"
            ],
            [
             0.8888888888888888,
             "#fdca26"
            ],
            [
             1,
             "#f0f921"
            ]
           ],
           "sequentialminus": [
            [
             0,
             "#0d0887"
            ],
            [
             0.1111111111111111,
             "#46039f"
            ],
            [
             0.2222222222222222,
             "#7201a8"
            ],
            [
             0.3333333333333333,
             "#9c179e"
            ],
            [
             0.4444444444444444,
             "#bd3786"
            ],
            [
             0.5555555555555556,
             "#d8576b"
            ],
            [
             0.6666666666666666,
             "#ed7953"
            ],
            [
             0.7777777777777778,
             "#fb9f3a"
            ],
            [
             0.8888888888888888,
             "#fdca26"
            ],
            [
             1,
             "#f0f921"
            ]
           ]
          },
          "colorway": [
           "#636efa",
           "#EF553B",
           "#00cc96",
           "#ab63fa",
           "#FFA15A",
           "#19d3f3",
           "#FF6692",
           "#B6E880",
           "#FF97FF",
           "#FECB52"
          ],
          "font": {
           "color": "#2a3f5f"
          },
          "geo": {
           "bgcolor": "white",
           "lakecolor": "white",
           "landcolor": "#E5ECF6",
           "showlakes": true,
           "showland": true,
           "subunitcolor": "white"
          },
          "hoverlabel": {
           "align": "left"
          },
          "hovermode": "closest",
          "mapbox": {
           "style": "light"
          },
          "paper_bgcolor": "white",
          "plot_bgcolor": "#E5ECF6",
          "polar": {
           "angularaxis": {
            "gridcolor": "white",
            "linecolor": "white",
            "ticks": ""
           },
           "bgcolor": "#E5ECF6",
           "radialaxis": {
            "gridcolor": "white",
            "linecolor": "white",
            "ticks": ""
           }
          },
          "scene": {
           "xaxis": {
            "backgroundcolor": "#E5ECF6",
            "gridcolor": "white",
            "gridwidth": 2,
            "linecolor": "white",
            "showbackground": true,
            "ticks": "",
            "zerolinecolor": "white"
           },
           "yaxis": {
            "backgroundcolor": "#E5ECF6",
            "gridcolor": "white",
            "gridwidth": 2,
            "linecolor": "white",
            "showbackground": true,
            "ticks": "",
            "zerolinecolor": "white"
           },
           "zaxis": {
            "backgroundcolor": "#E5ECF6",
            "gridcolor": "white",
            "gridwidth": 2,
            "linecolor": "white",
            "showbackground": true,
            "ticks": "",
            "zerolinecolor": "white"
           }
          },
          "shapedefaults": {
           "line": {
            "color": "#2a3f5f"
           }
          },
          "ternary": {
           "aaxis": {
            "gridcolor": "white",
            "linecolor": "white",
            "ticks": ""
           },
           "baxis": {
            "gridcolor": "white",
            "linecolor": "white",
            "ticks": ""
           },
           "bgcolor": "#E5ECF6",
           "caxis": {
            "gridcolor": "white",
            "linecolor": "white",
            "ticks": ""
           }
          },
          "title": {
           "x": 0.05
          },
          "xaxis": {
           "automargin": true,
           "gridcolor": "white",
           "linecolor": "white",
           "ticks": "",
           "title": {
            "standoff": 15
           },
           "zerolinecolor": "white",
           "zerolinewidth": 2
          },
          "yaxis": {
           "automargin": true,
           "gridcolor": "white",
           "linecolor": "white",
           "ticks": "",
           "title": {
            "standoff": 15
           },
           "zerolinecolor": "white",
           "zerolinewidth": 2
          }
         }
        },
        "title": {
         "text": "Матрица scatter plot ключевых признаков Boston Housing"
        }
       }
      }
     },
     "metadata": {},
     "output_type": "display_data"
    }
   ],
   "source": [
    "# Более детальный анализ ключевых признаков\n",
    "key_features = ['RM', 'LSTAT', 'PTRATIO', 'INDUS']  # Выбранные ключевые признаки\n",
    "\n",
    "# Матрица scatter plots\n",
    "# px.scatter_matrix: создает матрицу scatter plots для выбранных измерений\n",
    "# dimensions: список колонок для анализа\n",
    "# color='MEDV': цвет точек based on цены\n",
    "# color_continuous_scale: цветовая шкала\n",
    "# title: заголовок графика\n",
    "\n",
    "fig = px.scatter_matrix(df, \n",
    "                        dimensions=key_features + ['MEDV'],\n",
    "                        title='Матрица scatter plot ключевых признаков Boston Housing',\n",
    "                        color='MEDV',\n",
    "                        color_continuous_scale='viridis',\n",
    "                        height=800)  # высота графика\n",
    "fig.show()"
   ]
  },
  {
   "cell_type": "code",
   "execution_count": 91,
   "id": "88716dca",
   "metadata": {},
   "outputs": [
    {
     "data": {
      "application/vnd.plotly.v1+json": {
       "config": {
        "plotlyServerURL": "https://plot.ly"
       },
       "data": [
        {
         "boxpoints": "suspectedoutliers",
         "marker": {
          "size": 4
         },
         "name": "RM",
         "type": "box",
         "xaxis": "x",
         "y": {
          "bdata": "yXa+nxqvGUA9CtejcL0cQMuhRbbz/RtASgwCK4eWHEC4HoXrUbgZQD81XrpJDBhA46WbxCCwGECgGi/dJIYWQGq8dJMYBBhANV66SQyCGUDwp8ZLNwkYQHWTGARWjhdAsp3vp8bLF0D8qfHSTWIYQLx0kxgEVhdAPQrXo3C9F0D2KFyPwvUXQG3n+6nx0hVAnMQgsHLoFkBI4XoUrkcWQFyPwvUo3BdAxSCwcmiRGECNl24Sg0AXQBkEVg4tshdATDeJQWBlFkCNl24Sg0AXQOOlm8QgMBhAexSuR+H6GUAZBFYOLbIaQCcxCKwc2hZAfT81XrpJGEDNzMzMzMwXQOf7qfHSzRZA/Knx0k1iGEAIrBxaZLsXQHe+nxovXRdAZmZmZmZmF0B3vp8aL90XQOF6FK5HYRpAf2q8dJMYHEAUrkfhehQbQJMYBFYOrRhA8tJNYhDYGEAtsp3vp0YYQO58PzVeuhZAvp8aL90kF0AfhetRuB4YQH9qvHSTmBVAnMQgsHJoFkAnMQisHNoXQPYoXI/CdRhAJQaBlUMLGkDLoUW28/0XQFpkO99PjRdA5dAi2/n+HEDVeOkmMYgZQN0kBoGVQxtAFK5H4XqUGEBoke18P7UXQBBYObTI9hZAd76fGi/dF0Bt5/up8dIZQD81XrpJDBtA0SLb+X5qHEApXI/C9SgZQNnO91PjJRdAUI2XbhKDF0DHSzeJQWAWQArXo3A9ihdAXrpJDAKrGUDy0k1iENgXQMP1KFyPQhhAexSuR+H6GEBkO99PjRcZQL6fGi/dJBlABFYOLbIdGUCPwvUoXI8YQCGwcmiR7RhA5dAi2/l+F0CcxCCwcugaQGDl0CLbeRpAaJHtfD81GUBeukkMAqsYQHWTGARWjhlAhetRuB6FGkCPwvUoXA8YQJZDi2znexhAukkMAisHHEA3iUFg5VAcQF66SQwCqxlAH4XrUbieGUD4U+Olm8QZQPLSTWIQ2BhA5dAi2/n+GEAAAAAAAIAaQPT91HjpphhAF9nO91MjIEBI4XoUrkcfQESLbOf7qR1AnMQgsHLoGkA5tMh2vh8bQB+F61G4nhlAPzVeukmMGEBeukkMAqsYQIGVQ4tsZxdA8tJNYhBYF0A1XrpJDIIYQEw3iUFg5RlA0SLb+X7qGEBI4XoUrscYQFyPwvUo3BpA9P3UeOmmF0CR7Xw/NV4YQGq8dJMYBBlAg8DKoUW2F0BOYhBYObQYQC/dJAaBFRhAsHJoke18F0AGgZVDi+wWQHsUrkfhehdAarx0kxgEGEDy0k1iENgXQAaBlUOLbBdAarx0kxiEF0CLbOf7qfEXQMHKoUW2cxZAEoPAyqHFFkDTTWIQWLkZQD81XrpJjBZAokW28/3UGUDn+6nx0k0ZQLByaJHtfBlAfT81XrpJF0C6SQwCKwcXQNejcD0KVxlA+FPjpZvEF0A3iUFg5dAZQCGwcmiRbRdAtMh2vp+aGEAZBFYOLbIYQPp+arx0ExRA6SYxCKycFUCsHFpkO98VQOkmMQisnBNAhetRuB6FGEBQjZduEoMWQE5iEFg5tBNAWDm0yHa+FEAX2c73U2MWQLByaJHtfBhABFYOLbKdFUA/NV66SQwUQLx0kxgE1hZAarx0kxiEGEDP91PjpZsYQEoMAiuHFhVAEoPAyqHFG0DdJAaBlUMYQArXo3A9ChpAAAAAAAAAGUDb+X5qvPQdQGiR7Xw/NR9AAAAAAADAIEDRItv5fmoXQIGVQ4tsZxhAnu+nxku3H0A1XrpJDIIXQC2yne+nRhlAz/dT46WbGUAAAAAAAIAXQIXrUbgehRdAfT81XrpJFkBEi2zn+6kZQFYOLbKdbxdAyXa+nxovGkAUrkfhehQYQMP1KFyPQhlAcT0K16NwG0DsUbgehesbQI/C9ShcDx9A+n5qvHSTGEAfhetRuJ4cQI2XbhKDQBpA0SLb+X5qFkDpJjEIrJwYQG3n+6nxUh9AVOOlm8QgG0DTTWIQWDkaQD0K16NwvRxA5/up8dLNG0Db+X5qvPQaQIPAyqFFthxAMzMzMzMzG0DRItv5fmoaQAAAAAAAgB9A2c73U+MlHUAhsHJokW0cQH9qvHSTGB1AZmZmZmbmG0AK16NwPYocQNnO91PjpRhAcT0K16NwHkC28/3UeGkfQMUgsHJoESBAqvHSTWKQF0Dn+6nx0k0ZQG8Sg8DKIRdAqMZLN4lBGEDHSzeJQWAVQNejcD0K1xdABFYOLbKdFUDufD81XjoXQAAAAAAAgBlA2c73U+OlFUDufD81XroYQFpkO99PjRdAxSCwcmiRGkDn+6nx0s0XQMuhRbbzfRlA5/up8dLNG0AOLbKd76cYQGq8dJMYhBtARrbz/dR4GkDVeOkmMYggQDMzMzMzcyFAFK5H4XoUIED0/dR46aYcQFg5tMh2vh5AaJHtfD81GkAGgZVDi+wXQNnO91PjpR1ABoGVQ4usIEBYObTIdn4gQIGVQ4ts5xpA8tJNYhBYGECgGi/dJIYaQDvfT42Xbh1ABoGVQ4vsGUAGgZVDi2waQEoMAiuHlhtA4XoUrkdhGEA730+Nl24ZQN9PjZdukhlArBxaZDtfFkDsUbgehWsWQDvfT42XbhhAgZVDi2znGEAIrBxaZLsZQKwcWmQ73xpAppvEILDyGUCNl24Sg8AZQIcW2c730xtA+FPjpZuEIEA730+Nl24YQBsv3SQGgRdAN4lBYOXQHUCcxCCwcmghQKJFtvP9VB1Ake18PzVeG0AdWmQ7388cQBSuR+F6FB5Asp3vp8bLIEACK4cW2U4dQG3n+6nx0hxAPQrXo3A9FkB1kxgEVg4cQPLSTWIQmCBA4XoUrkfhHUCuR+F6FK4XQAaBlUOLbBdA9ihcj8L1GED0/dR46SYaQN0kBoGVwx5A1XjpJjEIG0DRItv5fmobQMUgsHJoER1A5/up8dJNG0AhsHJoke0ZQHNoke18PxtASOF6FK5HH0CsHFpkO98bQBSuR+F6lB5A/tR46SaxH0AnMQisHFocQB1aZDvfzxlA7FG4HoXrGEC8dJMYBNYYQMP1KFyPQhlAw/UoXI9CGkCLbOf7qXEbQGQ730+NlxxAhetRuB6FGkA1XrpJDIIYQPCnxks3CRhAg8DKoUW2GkAZBFYOLTIaQClcj8L1KBdA4XoUrkdhGUBEi2zn+ykcQJZDi2znextAXI/C9ShcGkB7FK5H4foZQCGwcmiR7RtAi2zn+6nxHEAQWDm0yHYaQK5H4XoUrh1ATDeJQWBlG0AK16NwPYoaQBfZzvdT4xdAMQisHFrkE0CwcmiR7XwYQGQ730+NFxhAqvHSTWIQGUD4U+Olm0QaQFK4HoXr0RZADi2yne+nF0BU46WbxCAXQLpJDAIrhxlAwcqhRbZzGEBOYhBYObQZQBsv3SQGgRlARIts5/spGECiRbbz/dQWQClcj8L1qBlA001iEFi5GUBzaJHtfD8ZQKJFtvP9VBhARrbz/dR4F0CiRbbz/VQZQPp+arx0kxhAbef7qfHSFkA5tMh2vh8YQN0kBoGVQxlAPQrXo3A9GUDZzvdT4yUYQGDl0CLbeRdAFK5H4XqUF0Aj2/l+ajwYQHE9Ctej8BdArBxaZDvfF0AQWDm0yPYcQClcj8L1KBpAYhBYObTIGkDl0CLb+X4bQHWTGARWDhhAZDvfT42XF0Cq8dJNYhAaQArXo3A9ihpAqMZLN4nBG0D2KFyPwvUZQDeJQWDlUBpA8KfGSzeJF0C28/3UeOkaQPT91HjpphZAWDm0yHa+F0AMAiuHFtkYQBSuR+F6lBlANV66SQyCGECmm8QgsHIYQGQ730+NlxlAGy/dJAYBGUCmm8QgsHIVQIPAyqFFNhdAj8L1KFyPIUCwcmiR7XwMQCcxCKwc2hNAgZVDi2znDkDhehSuR+ETQAisHFpkuxpAqvHSTWIQHEB3vp8aL90YQAAAAAAAgBdAObTIdr6fE0BaZDvfT40QQI2XbhKDQB1Af2q8dJOYGkCTGARWDi0bQIXrUbgehRlAMQisHFrkGECsHFpkO98bQK5H4XoULhpAvp8aL90kFkAUrkfhehQWQEa28/3UeBFAz/dT46UbFUDP91PjpZsSQAAAAAAAABRAhetRuB6FE0CPwvUoXI8VQCcxCKwc2hZATmIQWDk0GEC+nxov3SQUQBKDwMqhxRhAPzVeukmMF0D8qfHSTeIZQB+F61G4nhlAsHJoke38FkAdWmQ7388VQJzEILByaBdAppvEILDyF0CsHFpkO18ZQARWDi2ynRlATDeJQWBlFUA5tMh2vh8WQAisHFpkuxZAWmQ730+NEEA730+Nl24WQCuHFtnOdxZAnMQgsHJoG0C6SQwCKwcXQFTjpZvEoBpAUI2XbhKDEkAfhetRuJ4UQPp+arx0ExJAI9v5fmq8GUBU46WbxCAbQJ7vp8ZLNxVAhxbZzvfTF0Cyne+nxksbQL6fGi/dpBlAoBov3SQGGEBkO99PjZcWQLbz/dR4aRhAw/UoXI9CFkAv3SQGgZUXQAwCK4cWWRdAAiuHFtnOGEASg8DKocUYQIXrUbgehRlAMQisHFpkGUCiRbbz/VQbQDMzMzMzsxlAWDm0yHa+GUCiRbbz/dQYQGq8dJMYhBpA8tJNYhDYGUDP91PjpZsYQD0K16NwvRdANV66SQyCFkASg8DKoUUXQDm0yHa+nxlAx0s3iUHgGEBxPQrXo/AZQNEi2/l+ahdAvHSTGATWGUB3vp8aL10ZQBsv3SQGARlAPQrXo3C9GEBeukkMAqsZQOXQItv5/hpAH4XrUbieGkDjpZvEIDAZQN9PjZdukh1AtvP91HjpGkCamZmZmRkaQIGVQ4ts5xdAWDm0yHa+F0BOYhBYOTQZQG3n+6nxUhhA5/up8dLNGkAbL90kBoEZQPhT46WbRBlAWmQ7308NGkC8dJMYBNYYQPCnxks3CRdAAiuHFtnOF0BQjZduEgMYQE5iEFg5tBdAJzEIrBzaFkBeukkMAqsYQNEi2/l+6hhAc2iR7Xy/GUDsUbgehesbQGiR7Xw/tRVA2c73U+OlGEBWDi2yne8ZQJ7vp8ZLNxVAPQrXo3C9GEDRItv5fuoYQCuHFtnO9xhAAAAAAAAAG0BYObTIdj4cQD81XrpJDBdAlkOLbOd7F0BzaJHtfD8ZQNv5fmq8dBhAH4XrUbieF0A3iUFg5dAVQA4tsp3vpxVArBxaZDtfFEA730+Nl+4XQDvfT42X7hdAhxbZzvfTFkBOYhBYObQXQK5H4XoUrhZAj8L1KFyPFUCTGARWDi0XQPp+arx0ExhALbKd76dGFkDP91PjpRsYQKwcWmQ7XxpAexSuR+F6GECBlUOLbOcbQJMYBFYOLRtAH4XrUbgeGEA=",
          "dtype": "f8"
         },
         "yaxis": "y"
        },
        {
         "boxpoints": "suspectedoutliers",
         "marker": {
          "size": 4
         },
         "name": "LSTAT",
         "type": "box",
         "xaxis": "x2",
         "y": {
          "bdata": "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",
          "dtype": "f8"
         },
         "yaxis": "y2"
        },
        {
         "boxpoints": "suspectedoutliers",
         "marker": {
          "size": 4
         },
         "name": "PTRATIO",
         "type": "box",
         "xaxis": "x3",
         "y": {
          "bdata": "zczMzMzMMUDNzMzMzMwxQDMzMzMzszJAMzMzMzOzMkAzMzMzM7MyQGZmZmZmZi5AZmZmZmZmLkBmZmZmZmYuQGZmZmZmZi5AZmZmZmZmLkBmZmZmZmYuQGZmZmZmZi5AAAAAAAAANUAAAAAAAAA1QAAAAAAAADVAAAAAAAAANUAAAAAAAAA1QAAAAAAAADVAAAAAAAAANUAAAAAAAAA1QAAAAAAAADVAAAAAAAAANUAAAAAAAAA1QAAAAAAAADVAAAAAAAAANUAAAAAAAAA1QAAAAAAAADVAAAAAAAAANUAAAAAAAAA1QAAAAAAAADVAAAAAAAAANUAAAAAAAAA1QAAAAAAAADVAAAAAAAAANUAzMzMzMzMzQDMzMzMzMzNAMzMzMzMzM0AzMzMzMzMzQM3MzMzMTDJAzczMzMxMMkBmZmZmZuYxQGZmZmZm5jFAZmZmZmbmMUBmZmZmZuYxQGZmZmZm5jFAZmZmZmbmMUBmZmZmZuYxQGZmZmZm5jFAZmZmZmbmMUDNzMzMzMwwQM3MzMzMzDBAzczMzMzMMEDNzMzMzMwwQJqZmZmZGTVAZmZmZmbmMUDNzMzMzEwxQDMzMzMzMy5AMzMzMzOzM0AzMzMzM7MzQDMzMzMzszNAMzMzMzOzM0AzMzMzM7MzQDMzMzMzszNAmpmZmZmZMkCamZmZmRkwQJqZmZmZGTBAZmZmZmbmMkBmZmZmZuYyQGZmZmZm5jJAMzMzMzMzM0AzMzMzMzMzQDMzMzMzMzNAMzMzMzMzM0AzMzMzM7MyQDMzMzMzszJAMzMzMzOzMkAzMzMzM7MyQDMzMzMzszJAMzMzMzOzMkAAAAAAAAAzQAAAAAAAADNAAAAAAAAAM0AAAAAAAAAzQAAAAAAAgDJAAAAAAACAMkAAAAAAAIAyQAAAAAAAgDJAzczMzMzMMUDNzMzMzMwxQM3MzMzMzDFAzczMzMzMMUAzMzMzMzMyQDMzMzMzMzJAMzMzMzMzMkAAAAAAAAAyQAAAAAAAADJAAAAAAAAAMkAAAAAAAAAyQAAAAAAAADJAZmZmZmbmNEBmZmZmZuY0QGZmZmZm5jRAZmZmZmbmNEBmZmZmZuY0QGZmZmZm5jRAZmZmZmbmNEBmZmZmZuY0QGZmZmZm5jRAZmZmZmbmNEBmZmZmZuY0QM3MzMzMzDFAzczMzMzMMUDNzMzMzMwxQM3MzMzMzDFAzczMzMzMMUDNzMzMzMwxQM3MzMzMzDFAzczMzMzMMUDNzMzMzMwxQJqZmZmZGTNAmpmZmZkZM0CamZmZmRkzQJqZmZmZGTNAmpmZmZkZM0CamZmZmRkzQJqZmZmZGTNAMzMzMzMzNUAzMzMzMzM1QDMzMzMzMzVAMzMzMzMzNUAzMzMzMzM1QDMzMzMzMzVAMzMzMzMzNUAzMzMzMzM1QDMzMzMzMzVAMzMzMzMzNUAzMzMzMzM1QDMzMzMzMzVAMzMzMzMzNUAzMzMzMzM1QDMzMzMzMzVAZmZmZmZmLUBmZmZmZmYtQGZmZmZmZi1AZmZmZmZmLUBmZmZmZmYtQGZmZmZmZi1AZmZmZmZmLUBmZmZmZmYtQGZmZmZmZi1AZmZmZmZmLUBmZmZmZmYtQGZmZmZmZi1AZmZmZmZmLUBmZmZmZmYtQGZmZmZmZi1AZmZmZmZmLUBmZmZmZmYtQGZmZmZmZi1AZmZmZmZmLUBmZmZmZmYtQGZmZmZmZi1AZmZmZmZmLUBmZmZmZmYtQGZmZmZmZi1AZmZmZmZmLUBmZmZmZmYtQGZmZmZmZi1AZmZmZmZmLUBmZmZmZmYtQGZmZmZmZi1AmpmZmZmZMECamZmZmZkwQJqZmZmZmTBAmpmZmZmZMECamZmZmZkwQJqZmZmZmTBAmpmZmZmZMEDNzMzMzMwxQM3MzMzMzDFAzczMzMzMMUDNzMzMzMwxQM3MzMzMzDFAzczMzMzMMUDNzMzMzMwxQM3MzMzMzDFAZmZmZmZmLkBmZmZmZmYuQGZmZmZmZi5AZmZmZmZmLkBmZmZmZmYuQGZmZmZmZi5AMzMzMzMzL0AzMzMzMzMvQM3MzMzMzCxAMzMzMzMzKUAzMzMzMzMpQDMzMzMzMylAAAAAAAAAMUAAAAAAAAAxQGZmZmZmZi1AZmZmZmZmLUBmZmZmZmYtQGZmZmZmZi1AmpmZmZmZMkCamZmZmZkyQJqZmZmZmTJAmpmZmZmZMkCamZmZmZkyQJqZmZmZmTJAmpmZmZmZMkCamZmZmZkyQJqZmZmZmTJAmpmZmZmZMkCamZmZmZkyQGZmZmZmZjBAZmZmZmZmMEBmZmZmZmYwQGZmZmZmZjBAZmZmZmZmMUBmZmZmZmYxQGZmZmZmZjFAZmZmZmZmMUBmZmZmZmYxQGZmZmZmZjFAZmZmZmZmMUBmZmZmZmYxQGZmZmZmZjFAZmZmZmZmMUBmZmZmZmYxQGZmZmZmZjFAZmZmZmZmMUBmZmZmZmYxQGZmZmZmZjFAZmZmZmZmMUBmZmZmZmYxQGZmZmZmZjFAmpmZmZmZMECamZmZmZkwQJqZmZmZmTBAmpmZmZmZMECamZmZmZkwQJqZmZmZmTBAmpmZmZkZM0CamZmZmRkzQJqZmZmZGTNAmpmZmZkZM0CamZmZmRkzQJqZmZmZGTNAmpmZmZkZM0CamZmZmRkzQJqZmZmZGTNAmpmZmZkZM0BmZmZmZmYwQGZmZmZmZjBAzczMzMzML0AAAAAAAAAqQAAAAAAAACpAAAAAAAAAKkAAAAAAAAAqQAAAAAAAACpAAAAAAAAAKkAAAAAAAAAqQAAAAAAAACpAAAAAAAAAKkAAAAAAAAAqQAAAAAAAACpAAAAAAAAAKkCamZmZmZkyQJqZmZmZmTJAmpmZmZmZMkCamZmZmZkyQJqZmZmZmTJAmpmZmZmZMUCamZmZmZkxQJqZmZmZmTFAmpmZmZmZMUCamZmZmZkxQM3MzMzMzC1AzczMzMzMLUDNzMzMzMwtQM3MzMzMzC1AMzMzMzMzK0CamZmZmZkuQJqZmZmZmS5AMzMzMzMzMkCamZmZmZkwQJqZmZmZmTBAmpmZmZmZMEAzMzMzMzMzQDMzMzMzMzNAMzMzMzMzM0AAAAAAAAAwQAAAAAAAADBAAAAAAAAAMEAAAAAAAAAwQAAAAAAAADBAmpmZmZmZLUCamZmZmZktQJqZmZmZmS1AmpmZmZkZMECamZmZmRkwQJqZmZmZGTBAZmZmZmZmMkBmZmZmZmYyQGZmZmZmZjJAZmZmZmZmMkBmZmZmZmYyQGZmZmZmZjJAZmZmZmZmMkBmZmZmZmYyQGZmZmZmZjJAZmZmZmZmMkBmZmZmZmYyQGZmZmZmZjJAZmZmZmZmMkBmZmZmZmYyQGZmZmZmZjJAZmZmZmZmMkCamZmZmZkzQJqZmZmZmTNAmpmZmZmZM0CamZmZmZkzQJqZmZmZmTNAmpmZmZmZM0CamZmZmZkzQJqZmZmZmTNAZmZmZmbmMEBmZmZmZuYwQGZmZmZm5jBAZmZmZmbmMEBmZmZmZuYwQDMzMzMzMzRAMzMzMzMzNEAzMzMzMzM0QDMzMzMzMzRAMzMzMzMzNEAzMzMzMzM0QDMzMzMzMzRAMzMzMzMzNEAAAAAAAAAvQM3MzMzMzC9AmpmZmZmZMUCamZmZmZkxQM3MzMzMzDJAzczMzMzMMkBmZmZmZuYxQAAAAAAAADFAMzMzMzOzM0AzMzMzM7MzQM3MzMzMTDJAzczMzMxMMkAAAAAAAAAxQAAAAAAAADZAAAAAAAAANkAzMzMzMzM0QDMzMzMzMzRAMzMzMzMzNEAzMzMzMzM0QDMzMzMzMzRAMzMzMzMzNEAzMzMzMzM0QDMzMzMzMzRAMzMzMzMzNEAzMzMzMzM0QDMzMzMzMzRAMzMzMzMzNEAzMzMzMzM0QDMzMzMzMzRAMzMzMzMzNEAzMzMzMzM0QDMzMzMzMzRAMzMzMzMzNEAzMzMzMzM0QDMzMzMzMzRAMzMzMzMzNEAzMzMzMzM0QDMzMzMzMzRAMzMzMzMzNEAzMzMzMzM0QDMzMzMzMzRAMzMzMzMzNEAzMzMzMzM0QDMzMzMzMzRAMzMzMzMzNEAzMzMzMzM0QDMzMzMzMzRAMzMzMzMzNEAzMzMzMzM0QDMzMzMzMzRAMzMzMzMzNEAzMzMzMzM0QDMzMzMzMzRAMzMzMzMzNEAzMzMzMzM0QDMzMzMzMzRAMzMzMzMzNEAzMzMzMzM0QDMzMzMzMzRAMzMzMzMzNEAzMzMzMzM0QDMzMzMzMzRAMzMzMzMzNEAzMzMzMzM0QDMzMzMzMzRAMzMzMzMzNEAzMzMzMzM0QDMzMzMzMzRAMzMzMzMzNEAzMzMzMzM0QDMzMzMzMzRAMzMzMzMzNEAzMzMzMzM0QDMzMzMzMzRAMzMzMzMzNEAzMzMzMzM0QDMzMzMzMzRAMzMzMzMzNEAzMzMzMzM0QDMzMzMzMzRAMzMzMzMzNEAzMzMzMzM0QDMzMzMzMzRAMzMzMzMzNEAzMzMzMzM0QDMzMzMzMzRAMzMzMzMzNEAzMzMzMzM0QDMzMzMzMzRAMzMzMzMzNEAzMzMzMzM0QDMzMzMzMzRAMzMzMzMzNEAzMzMzMzM0QDMzMzMzMzRAMzMzMzMzNEAzMzMzMzM0QDMzMzMzMzRAMzMzMzMzNEAzMzMzMzM0QDMzMzMzMzRAMzMzMzMzNEAzMzMzMzM0QDMzMzMzMzRAMzMzMzMzNEAzMzMzMzM0QDMzMzMzMzRAMzMzMzMzNEAzMzMzMzM0QDMzMzMzMzRAMzMzMzMzNEAzMzMzMzM0QDMzMzMzMzRAMzMzMzMzNEAzMzMzMzM0QDMzMzMzMzRAMzMzMzMzNEAzMzMzMzM0QDMzMzMzMzRAMzMzMzMzNEAzMzMzMzM0QDMzMzMzMzRAMzMzMzMzNEAzMzMzMzM0QDMzMzMzMzRAMzMzMzMzNEAzMzMzMzM0QDMzMzMzMzRAMzMzMzMzNEAzMzMzMzM0QDMzMzMzMzRAMzMzMzMzNEAzMzMzMzM0QDMzMzMzMzRAMzMzMzMzNEAzMzMzMzM0QDMzMzMzMzRAMzMzMzMzNEAzMzMzMzM0QDMzMzMzMzRAMzMzMzMzNEAzMzMzMzM0QDMzMzMzMzRAMzMzMzMzNEAzMzMzMzM0QDMzMzMzMzRAMzMzMzMzNECamZmZmRk0QJqZmZmZGTRAmpmZmZkZNECamZmZmRk0QJqZmZmZGTRAMzMzMzMzM0AzMzMzMzMzQDMzMzMzMzNAMzMzMzMzM0AzMzMzMzMzQDMzMzMzMzNAMzMzMzMzM0AzMzMzMzMzQAAAAAAAADVAAAAAAAAANUAAAAAAAAA1QAAAAAAAADVAAAAAAAAANUA=",
          "dtype": "f8"
         },
         "yaxis": "y3"
        },
        {
         "boxpoints": "suspectedoutliers",
         "marker": {
          "size": 4
         },
         "name": "INDUS",
         "type": "box",
         "xaxis": "x4",
         "y": {
          "bdata": "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",
          "dtype": "f8"
         },
         "yaxis": "y4"
        },
        {
         "boxpoints": "suspectedoutliers",
         "marker": {
          "size": 4
         },
         "name": "MEDV",
         "type": "box",
         "xaxis": "x5",
         "y": {
          "bdata": "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",
          "dtype": "f8"
         },
         "yaxis": "y5"
        }
       ],
       "layout": {
        "annotations": [
         {
          "font": {
           "size": 16
          },
          "showarrow": false,
          "text": "RM",
          "x": 0.14444444444444446,
          "xanchor": "center",
          "xref": "paper",
          "y": 1,
          "yanchor": "bottom",
          "yref": "paper"
         },
         {
          "font": {
           "size": 16
          },
          "showarrow": false,
          "text": "LSTAT",
          "x": 0.5,
          "xanchor": "center",
          "xref": "paper",
          "y": 1,
          "yanchor": "bottom",
          "yref": "paper"
         },
         {
          "font": {
           "size": 16
          },
          "showarrow": false,
          "text": "PTRATIO",
          "x": 0.8555555555555556,
          "xanchor": "center",
          "xref": "paper",
          "y": 1,
          "yanchor": "bottom",
          "yref": "paper"
         },
         {
          "font": {
           "size": 16
          },
          "showarrow": false,
          "text": "INDUS",
          "x": 0.14444444444444446,
          "xanchor": "center",
          "xref": "paper",
          "y": 0.375,
          "yanchor": "bottom",
          "yref": "paper"
         },
         {
          "font": {
           "size": 16
          },
          "showarrow": false,
          "text": "MEDV",
          "x": 0.5,
          "xanchor": "center",
          "xref": "paper",
          "y": 0.375,
          "yanchor": "bottom",
          "yref": "paper"
         }
        ],
        "height": 600,
        "showlegend": false,
        "template": {
         "data": {
          "bar": [
           {
            "error_x": {
             "color": "#2a3f5f"
            },
            "error_y": {
             "color": "#2a3f5f"
            },
            "marker": {
             "line": {
              "color": "#E5ECF6",
              "width": 0.5
             },
             "pattern": {
              "fillmode": "overlay",
              "size": 10,
              "solidity": 0.2
             }
            },
            "type": "bar"
           }
          ],
          "barpolar": [
           {
            "marker": {
             "line": {
              "color": "#E5ECF6",
              "width": 0.5
             },
             "pattern": {
              "fillmode": "overlay",
              "size": 10,
              "solidity": 0.2
             }
            },
            "type": "barpolar"
           }
          ],
          "carpet": [
           {
            "aaxis": {
             "endlinecolor": "#2a3f5f",
             "gridcolor": "white",
             "linecolor": "white",
             "minorgridcolor": "white",
             "startlinecolor": "#2a3f5f"
            },
            "baxis": {
             "endlinecolor": "#2a3f5f",
             "gridcolor": "white",
             "linecolor": "white",
             "minorgridcolor": "white",
             "startlinecolor": "#2a3f5f"
            },
            "type": "carpet"
           }
          ],
          "choropleth": [
           {
            "colorbar": {
             "outlinewidth": 0,
             "ticks": ""
            },
            "type": "choropleth"
           }
          ],
          "contour": [
           {
            "colorbar": {
             "outlinewidth": 0,
             "ticks": ""
            },
            "colorscale": [
             [
              0,
              "#0d0887"
             ],
             [
              0.1111111111111111,
              "#46039f"
             ],
             [
              0.2222222222222222,
              "#7201a8"
             ],
             [
              0.3333333333333333,
              "#9c179e"
             ],
             [
              0.4444444444444444,
              "#bd3786"
             ],
             [
              0.5555555555555556,
              "#d8576b"
             ],
             [
              0.6666666666666666,
              "#ed7953"
             ],
             [
              0.7777777777777778,
              "#fb9f3a"
             ],
             [
              0.8888888888888888,
              "#fdca26"
             ],
             [
              1,
              "#f0f921"
             ]
            ],
            "type": "contour"
           }
          ],
          "contourcarpet": [
           {
            "colorbar": {
             "outlinewidth": 0,
             "ticks": ""
            },
            "type": "contourcarpet"
           }
          ],
          "heatmap": [
           {
            "colorbar": {
             "outlinewidth": 0,
             "ticks": ""
            },
            "colorscale": [
             [
              0,
              "#0d0887"
             ],
             [
              0.1111111111111111,
              "#46039f"
             ],
             [
              0.2222222222222222,
              "#7201a8"
             ],
             [
              0.3333333333333333,
              "#9c179e"
             ],
             [
              0.4444444444444444,
              "#bd3786"
             ],
             [
              0.5555555555555556,
              "#d8576b"
             ],
             [
              0.6666666666666666,
              "#ed7953"
             ],
             [
              0.7777777777777778,
              "#fb9f3a"
             ],
             [
              0.8888888888888888,
              "#fdca26"
             ],
             [
              1,
              "#f0f921"
             ]
            ],
            "type": "heatmap"
           }
          ],
          "histogram": [
           {
            "marker": {
             "pattern": {
              "fillmode": "overlay",
              "size": 10,
              "solidity": 0.2
             }
            },
            "type": "histogram"
           }
          ],
          "histogram2d": [
           {
            "colorbar": {
             "outlinewidth": 0,
             "ticks": ""
            },
            "colorscale": [
             [
              0,
              "#0d0887"
             ],
             [
              0.1111111111111111,
              "#46039f"
             ],
             [
              0.2222222222222222,
              "#7201a8"
             ],
             [
              0.3333333333333333,
              "#9c179e"
             ],
             [
              0.4444444444444444,
              "#bd3786"
             ],
             [
              0.5555555555555556,
              "#d8576b"
             ],
             [
              0.6666666666666666,
              "#ed7953"
             ],
             [
              0.7777777777777778,
              "#fb9f3a"
             ],
             [
              0.8888888888888888,
              "#fdca26"
             ],
             [
              1,
              "#f0f921"
             ]
            ],
            "type": "histogram2d"
           }
          ],
          "histogram2dcontour": [
           {
            "colorbar": {
             "outlinewidth": 0,
             "ticks": ""
            },
            "colorscale": [
             [
              0,
              "#0d0887"
             ],
             [
              0.1111111111111111,
              "#46039f"
             ],
             [
              0.2222222222222222,
              "#7201a8"
             ],
             [
              0.3333333333333333,
              "#9c179e"
             ],
             [
              0.4444444444444444,
              "#bd3786"
             ],
             [
              0.5555555555555556,
              "#d8576b"
             ],
             [
              0.6666666666666666,
              "#ed7953"
             ],
             [
              0.7777777777777778,
              "#fb9f3a"
             ],
             [
              0.8888888888888888,
              "#fdca26"
             ],
             [
              1,
              "#f0f921"
             ]
            ],
            "type": "histogram2dcontour"
           }
          ],
          "mesh3d": [
           {
            "colorbar": {
             "outlinewidth": 0,
             "ticks": ""
            },
            "type": "mesh3d"
           }
          ],
          "parcoords": [
           {
            "line": {
             "colorbar": {
              "outlinewidth": 0,
              "ticks": ""
             }
            },
            "type": "parcoords"
           }
          ],
          "pie": [
           {
            "automargin": true,
            "type": "pie"
           }
          ],
          "scatter": [
           {
            "fillpattern": {
             "fillmode": "overlay",
             "size": 10,
             "solidity": 0.2
            },
            "type": "scatter"
           }
          ],
          "scatter3d": [
           {
            "line": {
             "colorbar": {
              "outlinewidth": 0,
              "ticks": ""
             }
            },
            "marker": {
             "colorbar": {
              "outlinewidth": 0,
              "ticks": ""
             }
            },
            "type": "scatter3d"
           }
          ],
          "scattercarpet": [
           {
            "marker": {
             "colorbar": {
              "outlinewidth": 0,
              "ticks": ""
             }
            },
            "type": "scattercarpet"
           }
          ],
          "scattergeo": [
           {
            "marker": {
             "colorbar": {
              "outlinewidth": 0,
              "ticks": ""
             }
            },
            "type": "scattergeo"
           }
          ],
          "scattergl": [
           {
            "marker": {
             "colorbar": {
              "outlinewidth": 0,
              "ticks": ""
             }
            },
            "type": "scattergl"
           }
          ],
          "scattermap": [
           {
            "marker": {
             "colorbar": {
              "outlinewidth": 0,
              "ticks": ""
             }
            },
            "type": "scattermap"
           }
          ],
          "scattermapbox": [
           {
            "marker": {
             "colorbar": {
              "outlinewidth": 0,
              "ticks": ""
             }
            },
            "type": "scattermapbox"
           }
          ],
          "scatterpolar": [
           {
            "marker": {
             "colorbar": {
              "outlinewidth": 0,
              "ticks": ""
             }
            },
            "type": "scatterpolar"
           }
          ],
          "scatterpolargl": [
           {
            "marker": {
             "colorbar": {
              "outlinewidth": 0,
              "ticks": ""
             }
            },
            "type": "scatterpolargl"
           }
          ],
          "scatterternary": [
           {
            "marker": {
             "colorbar": {
              "outlinewidth": 0,
              "ticks": ""
             }
            },
            "type": "scatterternary"
           }
          ],
          "surface": [
           {
            "colorbar": {
             "outlinewidth": 0,
             "ticks": ""
            },
            "colorscale": [
             [
              0,
              "#0d0887"
             ],
             [
              0.1111111111111111,
              "#46039f"
             ],
             [
              0.2222222222222222,
              "#7201a8"
             ],
             [
              0.3333333333333333,
              "#9c179e"
             ],
             [
              0.4444444444444444,
              "#bd3786"
             ],
             [
              0.5555555555555556,
              "#d8576b"
             ],
             [
              0.6666666666666666,
              "#ed7953"
             ],
             [
              0.7777777777777778,
              "#fb9f3a"
             ],
             [
              0.8888888888888888,
              "#fdca26"
             ],
             [
              1,
              "#f0f921"
             ]
            ],
            "type": "surface"
           }
          ],
          "table": [
           {
            "cells": {
             "fill": {
              "color": "#EBF0F8"
             },
             "line": {
              "color": "white"
             }
            },
            "header": {
             "fill": {
              "color": "#C8D4E3"
             },
             "line": {
              "color": "white"
             }
            },
            "type": "table"
           }
          ]
         },
         "layout": {
          "annotationdefaults": {
           "arrowcolor": "#2a3f5f",
           "arrowhead": 0,
           "arrowwidth": 1
          },
          "autotypenumbers": "strict",
          "coloraxis": {
           "colorbar": {
            "outlinewidth": 0,
            "ticks": ""
           }
          },
          "colorscale": {
           "diverging": [
            [
             0,
             "#8e0152"
            ],
            [
             0.1,
             "#c51b7d"
            ],
            [
             0.2,
             "#de77ae"
            ],
            [
             0.3,
             "#f1b6da"
            ],
            [
             0.4,
             "#fde0ef"
            ],
            [
             0.5,
             "#f7f7f7"
            ],
            [
             0.6,
             "#e6f5d0"
            ],
            [
             0.7,
             "#b8e186"
            ],
            [
             0.8,
             "#7fbc41"
            ],
            [
             0.9,
             "#4d9221"
            ],
            [
             1,
             "#276419"
            ]
           ],
           "sequential": [
            [
             0,
             "#0d0887"
            ],
            [
             0.1111111111111111,
             "#46039f"
            ],
            [
             0.2222222222222222,
             "#7201a8"
            ],
            [
             0.3333333333333333,
             "#9c179e"
            ],
            [
             0.4444444444444444,
             "#bd3786"
            ],
            [
             0.5555555555555556,
             "#d8576b"
            ],
            [
             0.6666666666666666,
             "#ed7953"
            ],
            [
             0.7777777777777778,
             "#fb9f3a"
            ],
            [
             0.8888888888888888,
             "#fdca26"
            ],
            [
             1,
             "#f0f921"
            ]
           ],
           "sequentialminus": [
            [
             0,
             "#0d0887"
            ],
            [
             0.1111111111111111,
             "#46039f"
            ],
            [
             0.2222222222222222,
             "#7201a8"
            ],
            [
             0.3333333333333333,
             "#9c179e"
            ],
            [
             0.4444444444444444,
             "#bd3786"
            ],
            [
             0.5555555555555556,
             "#d8576b"
            ],
            [
             0.6666666666666666,
             "#ed7953"
            ],
            [
             0.7777777777777778,
             "#fb9f3a"
            ],
            [
             0.8888888888888888,
             "#fdca26"
            ],
            [
             1,
             "#f0f921"
            ]
           ]
          },
          "colorway": [
           "#636efa",
           "#EF553B",
           "#00cc96",
           "#ab63fa",
           "#FFA15A",
           "#19d3f3",
           "#FF6692",
           "#B6E880",
           "#FF97FF",
           "#FECB52"
          ],
          "font": {
           "color": "#2a3f5f"
          },
          "geo": {
           "bgcolor": "white",
           "lakecolor": "white",
           "landcolor": "#E5ECF6",
           "showlakes": true,
           "showland": true,
           "subunitcolor": "white"
          },
          "hoverlabel": {
           "align": "left"
          },
          "hovermode": "closest",
          "mapbox": {
           "style": "light"
          },
          "paper_bgcolor": "white",
          "plot_bgcolor": "#E5ECF6",
          "polar": {
           "angularaxis": {
            "gridcolor": "white",
            "linecolor": "white",
            "ticks": ""
           },
           "bgcolor": "#E5ECF6",
           "radialaxis": {
            "gridcolor": "white",
            "linecolor": "white",
            "ticks": ""
           }
          },
          "scene": {
           "xaxis": {
            "backgroundcolor": "#E5ECF6",
            "gridcolor": "white",
            "gridwidth": 2,
            "linecolor": "white",
            "showbackground": true,
            "ticks": "",
            "zerolinecolor": "white"
           },
           "yaxis": {
            "backgroundcolor": "#E5ECF6",
            "gridcolor": "white",
            "gridwidth": 2,
            "linecolor": "white",
            "showbackground": true,
            "ticks": "",
            "zerolinecolor": "white"
           },
           "zaxis": {
            "backgroundcolor": "#E5ECF6",
            "gridcolor": "white",
            "gridwidth": 2,
            "linecolor": "white",
            "showbackground": true,
            "ticks": "",
            "zerolinecolor": "white"
           }
          },
          "shapedefaults": {
           "line": {
            "color": "#2a3f5f"
           }
          },
          "ternary": {
           "aaxis": {
            "gridcolor": "white",
            "linecolor": "white",
            "ticks": ""
           },
           "baxis": {
            "gridcolor": "white",
            "linecolor": "white",
            "ticks": ""
           },
           "bgcolor": "#E5ECF6",
           "caxis": {
            "gridcolor": "white",
            "linecolor": "white",
            "ticks": ""
           }
          },
          "title": {
           "x": 0.05
          },
          "xaxis": {
           "automargin": true,
           "gridcolor": "white",
           "linecolor": "white",
           "ticks": "",
           "title": {
            "standoff": 15
           },
           "zerolinecolor": "white",
           "zerolinewidth": 2
          },
          "yaxis": {
           "automargin": true,
           "gridcolor": "white",
           "linecolor": "white",
           "ticks": "",
           "title": {
            "standoff": 15
           },
           "zerolinecolor": "white",
           "zerolinewidth": 2
          }
         }
        },
        "title": {
         "text": "Анализ выбросов в ключевых признаках Boston Housing Dataset"
        },
        "width": 900,
        "xaxis": {
         "anchor": "y",
         "domain": [
          0,
          0.2888888888888889
         ]
        },
        "xaxis2": {
         "anchor": "y2",
         "domain": [
          0.35555555555555557,
          0.6444444444444445
         ]
        },
        "xaxis3": {
         "anchor": "y3",
         "domain": [
          0.7111111111111111,
          1
         ]
        },
        "xaxis4": {
         "anchor": "y4",
         "domain": [
          0,
          0.2888888888888889
         ]
        },
        "xaxis5": {
         "anchor": "y5",
         "domain": [
          0.35555555555555557,
          0.6444444444444445
         ]
        },
        "xaxis6": {
         "anchor": "y6",
         "domain": [
          0.7111111111111111,
          1
         ]
        },
        "yaxis": {
         "anchor": "x",
         "domain": [
          0.625,
          1
         ]
        },
        "yaxis2": {
         "anchor": "x2",
         "domain": [
          0.625,
          1
         ]
        },
        "yaxis3": {
         "anchor": "x3",
         "domain": [
          0.625,
          1
         ]
        },
        "yaxis4": {
         "anchor": "x4",
         "domain": [
          0,
          0.375
         ]
        },
        "yaxis5": {
         "anchor": "x5",
         "domain": [
          0,
          0.375
         ]
        },
        "yaxis6": {
         "anchor": "x6",
         "domain": [
          0,
          0.375
         ]
        }
       }
      }
     },
     "metadata": {},
     "output_type": "display_data"
    },
    {
     "data": {
      "image/png": "[encoded data removed]",
      "text/plain": [
       "<Figure size 2000x1000 with 14 Axes>"
      ]
     },
     "metadata": {},
     "output_type": "display_data"
    }
   ],
   "source": [
    "# Анализ выбросов с помощью box plots\n",
    "fig = make_subplots(rows=2, \n",
    "                    cols=3, \n",
    "                    subplot_titles=key_features + ['MEDV'])  # заголовки для каждого box plot\n",
    "\n",
    "features_to_plot = key_features + ['MEDV']\n",
    "\n",
    "for i, feature in enumerate(features_to_plot, 1):\n",
    "    fig.add_trace(\n",
    "        go.Box(\n",
    "            y=df[feature],      # данные для box plot\n",
    "            name=feature,       # название для легенды\n",
    "            boxpoints='suspectedoutliers',  # показывать только подозрительные выбросы\n",
    "            marker=dict(size=4) # размер маркеров выбросов\n",
    "        ), \n",
    "        row=(i-1)//3 + 1,  # вычисление номера строки (целочисленное деление)\n",
    "        col=(i-1)%3 + 1    # вычисление номера колонки (остаток от деления)\n",
    "    )\n",
    "\n",
    "fig.update_layout(\n",
    "    height=600,      # высота графика\n",
    "    width=900,       # ширина графика\n",
    "    title_text='Анализ выбросов в ключевых признаках Boston Housing Dataset',\n",
    "    showlegend=False # скрыть легенду\n",
    ")\n",
    "fig.show()\n",
    "\n",
    "\n",
    "fig, axs = plt.subplots(ncols=7, nrows=2, figsize=(20, 10))\n",
    "index = 0\n",
    "axs = axs.flatten()\n",
    "for k,v in df.items():\n",
    "    sns.boxplot(y=k, data=df, ax=axs[index])\n",
    "    index += 1\n",
    "plt.tight_layout(pad=0.4, w_pad=0.5, h_pad=5.0)"
   ]
  },
  {
   "cell_type": "code",
   "execution_count": null,
   "id": "3630a686",
   "metadata": {},
   "outputs": [
    {
     "data": {
      "application/vnd.plotly.v1+json": {
       "config": {
        "plotlyServerURL": "https://plot.ly"
       },
       "data": [
        {
         "hovertemplate": "Среднее число комнат=%{x}<br>% населения низкого статуса=%{y}<br>Медианная цена ($1000s)=%{marker.color}<extra></extra>",
         "legendgroup": "",
         "marker": {
          "color": {
           "bdata": "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",
           "dtype": "f8"
          },
          "coloraxis": "coloraxis",
          "symbol": "circle"
         },
         "mode": "markers",
         "name": "",
         "scene": "scene",
         "showlegend": false,
         "type": "scatter3d",
         "x": {
          "bdata": "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",
          "dtype": "f8"
         },
         "y": {
          "bdata": "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",
          "dtype": "f8"
         },
         "z": {
          "bdata": "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",
          "dtype": "f8"
         }
        }
       ],
       "layout": {
        "coloraxis": {
         "colorbar": {
          "title": {
           "text": "Медианная цена ($1000s)"
          }
         },
         "colorscale": [
          [
           0,
           "#0d0887"
          ],
          [
           0.1111111111111111,
           "#46039f"
          ],
          [
           0.2222222222222222,
           "#7201a8"
          ],
          [
           0.3333333333333333,
           "#9c179e"
          ],
          [
           0.4444444444444444,
           "#bd3786"
          ],
          [
           0.5555555555555556,
           "#d8576b"
          ],
          [
           0.6666666666666666,
           "#ed7953"
          ],
          [
           0.7777777777777778,
           "#fb9f3a"
          ],
          [
           0.8888888888888888,
           "#fdca26"
          ],
          [
           1,
           "#f0f921"
          ]
         ]
        },
        "height": 600,
        "legend": {
         "tracegroupgap": 0
        },
        "scene": {
         "domain": {
          "x": [
           0,
           1
          ],
          "y": [
           0,
           1
          ]
         },
         "xaxis": {
          "title": {
           "text": "Среднее число комнат"
          }
         },
         "yaxis": {
          "title": {
           "text": "% населения низкого статуса"
          }
         },
         "zaxis": {
          "title": {
           "text": "Медианная цена ($1000s)"
          }
         }
        },
        "template": {
         "data": {
          "bar": [
           {
            "error_x": {
             "color": "#2a3f5f"
            },
            "error_y": {
             "color": "#2a3f5f"
            },
            "marker": {
             "line": {
              "color": "#E5ECF6",
              "width": 0.5
             },
             "pattern": {
              "fillmode": "overlay",
              "size": 10,
              "solidity": 0.2
             }
            },
            "type": "bar"
           }
          ],
          "barpolar": [
           {
            "marker": {
             "line": {
              "color": "#E5ECF6",
              "width": 0.5
             },
             "pattern": {
              "fillmode": "overlay",
              "size": 10,
              "solidity": 0.2
             }
            },
            "type": "barpolar"
           }
          ],
          "carpet": [
           {
            "aaxis": {
             "endlinecolor": "#2a3f5f",
             "gridcolor": "white",
             "linecolor": "white",
             "minorgridcolor": "white",
             "startlinecolor": "#2a3f5f"
            },
            "baxis": {
             "endlinecolor": "#2a3f5f",
             "gridcolor": "white",
             "linecolor": "white",
             "minorgridcolor": "white",
             "startlinecolor": "#2a3f5f"
            },
            "type": "carpet"
           }
          ],
          "choropleth": [
           {
            "colorbar": {
             "outlinewidth": 0,
             "ticks": ""
            },
            "type": "choropleth"
           }
          ],
          "contour": [
           {
            "colorbar": {
             "outlinewidth": 0,
             "ticks": ""
            },
            "colorscale": [
             [
              0,
              "#0d0887"
             ],
             [
              0.1111111111111111,
              "#46039f"
             ],
             [
              0.2222222222222222,
              "#7201a8"
             ],
             [
              0.3333333333333333,
              "#9c179e"
             ],
             [
              0.4444444444444444,
              "#bd3786"
             ],
             [
              0.5555555555555556,
              "#d8576b"
             ],
             [
              0.6666666666666666,
              "#ed7953"
             ],
             [
              0.7777777777777778,
              "#fb9f3a"
             ],
             [
              0.8888888888888888,
              "#fdca26"
             ],
             [
              1,
              "#f0f921"
             ]
            ],
            "type": "contour"
           }
          ],
          "contourcarpet": [
           {
            "colorbar": {
             "outlinewidth": 0,
             "ticks": ""
            },
            "type": "contourcarpet"
           }
          ],
          "heatmap": [
           {
            "colorbar": {
             "outlinewidth": 0,
             "ticks": ""
            },
            "colorscale": [
             [
              0,
              "#0d0887"
             ],
             [
              0.1111111111111111,
              "#46039f"
             ],
             [
              0.2222222222222222,
              "#7201a8"
             ],
             [
              0.3333333333333333,
              "#9c179e"
             ],
             [
              0.4444444444444444,
              "#bd3786"
             ],
             [
              0.5555555555555556,
              "#d8576b"
             ],
             [
              0.6666666666666666,
              "#ed7953"
             ],
             [
              0.7777777777777778,
              "#fb9f3a"
             ],
             [
              0.8888888888888888,
              "#fdca26"
             ],
             [
              1,
              "#f0f921"
             ]
            ],
            "type": "heatmap"
           }
          ],
          "histogram": [
           {
            "marker": {
             "pattern": {
              "fillmode": "overlay",
              "size": 10,
              "solidity": 0.2
             }
            },
            "type": "histogram"
           }
          ],
          "histogram2d": [
           {
            "colorbar": {
             "outlinewidth": 0,
             "ticks": ""
            },
            "colorscale": [
             [
              0,
              "#0d0887"
             ],
             [
              0.1111111111111111,
              "#46039f"
             ],
             [
              0.2222222222222222,
              "#7201a8"
             ],
             [
              0.3333333333333333,
              "#9c179e"
             ],
             [
              0.4444444444444444,
              "#bd3786"
             ],
             [
              0.5555555555555556,
              "#d8576b"
             ],
             [
              0.6666666666666666,
              "#ed7953"
             ],
             [
              0.7777777777777778,
              "#fb9f3a"
             ],
             [
              0.8888888888888888,
              "#fdca26"
             ],
             [
              1,
              "#f0f921"
             ]
            ],
            "type": "histogram2d"
           }
          ],
          "histogram2dcontour": [
           {
            "colorbar": {
             "outlinewidth": 0,
             "ticks": ""
            },
            "colorscale": [
             [
              0,
              "#0d0887"
             ],
             [
              0.1111111111111111,
              "#46039f"
             ],
             [
              0.2222222222222222,
              "#7201a8"
             ],
             [
              0.3333333333333333,
              "#9c179e"
             ],
             [
              0.4444444444444444,
              "#bd3786"
             ],
             [
              0.5555555555555556,
              "#d8576b"
             ],
             [
              0.6666666666666666,
              "#ed7953"
             ],
             [
              0.7777777777777778,
              "#fb9f3a"
             ],
             [
              0.8888888888888888,
              "#fdca26"
             ],
             [
              1,
              "#f0f921"
             ]
            ],
            "type": "histogram2dcontour"
           }
          ],
          "mesh3d": [
           {
            "colorbar": {
             "outlinewidth": 0,
             "ticks": ""
            },
            "type": "mesh3d"
           }
          ],
          "parcoords": [
           {
            "line": {
             "colorbar": {
              "outlinewidth": 0,
              "ticks": ""
             }
            },
            "type": "parcoords"
           }
          ],
          "pie": [
           {
            "automargin": true,
            "type": "pie"
           }
          ],
          "scatter": [
           {
            "fillpattern": {
             "fillmode": "overlay",
             "size": 10,
             "solidity": 0.2
            },
            "type": "scatter"
           }
          ],
          "scatter3d": [
           {
            "line": {
             "colorbar": {
              "outlinewidth": 0,
              "ticks": ""
             }
            },
            "marker": {
             "colorbar": {
              "outlinewidth": 0,
              "ticks": ""
             }
            },
            "type": "scatter3d"
           }
          ],
          "scattercarpet": [
           {
            "marker": {
             "colorbar": {
              "outlinewidth": 0,
              "ticks": ""
             }
            },
            "type": "scattercarpet"
           }
          ],
          "scattergeo": [
           {
            "marker": {
             "colorbar": {
              "outlinewidth": 0,
              "ticks": ""
             }
            },
            "type": "scattergeo"
           }
          ],
          "scattergl": [
           {
            "marker": {
             "colorbar": {
              "outlinewidth": 0,
              "ticks": ""
             }
            },
            "type": "scattergl"
           }
          ],
          "scattermap": [
           {
            "marker": {
             "colorbar": {
              "outlinewidth": 0,
              "ticks": ""
             }
            },
            "type": "scattermap"
           }
          ],
          "scattermapbox": [
           {
            "marker": {
             "colorbar": {
              "outlinewidth": 0,
              "ticks": ""
             }
            },
            "type": "scattermapbox"
           }
          ],
          "scatterpolar": [
           {
            "marker": {
             "colorbar": {
              "outlinewidth": 0,
              "ticks": ""
             }
            },
            "type": "scatterpolar"
           }
          ],
          "scatterpolargl": [
           {
            "marker": {
             "colorbar": {
              "outlinewidth": 0,
              "ticks": ""
             }
            },
            "type": "scatterpolargl"
           }
          ],
          "scatterternary": [
           {
            "marker": {
             "colorbar": {
              "outlinewidth": 0,
              "ticks": ""
             }
            },
            "type": "scatterternary"
           }
          ],
          "surface": [
           {
            "colorbar": {
             "outlinewidth": 0,
             "ticks": ""
            },
            "colorscale": [
             [
              0,
              "#0d0887"
             ],
             [
              0.1111111111111111,
              "#46039f"
             ],
             [
              0.2222222222222222,
              "#7201a8"
             ],
             [
              0.3333333333333333,
              "#9c179e"
             ],
             [
              0.4444444444444444,
              "#bd3786"
             ],
             [
              0.5555555555555556,
              "#d8576b"
             ],
             [
              0.6666666666666666,
              "#ed7953"
             ],
             [
              0.7777777777777778,
              "#fb9f3a"
             ],
             [
              0.8888888888888888,
              "#fdca26"
             ],
             [
              1,
              "#f0f921"
             ]
            ],
            "type": "surface"
           }
          ],
          "table": [
           {
            "cells": {
             "fill": {
              "color": "#EBF0F8"
             },
             "line": {
              "color": "white"
             }
            },
            "header": {
             "fill": {
              "color": "#C8D4E3"
             },
             "line": {
              "color": "white"
             }
            },
            "type": "table"
           }
          ]
         },
         "layout": {
          "annotationdefaults": {
           "arrowcolor": "#2a3f5f",
           "arrowhead": 0,
           "arrowwidth": 1
          },
          "autotypenumbers": "strict",
          "coloraxis": {
           "colorbar": {
            "outlinewidth": 0,
            "ticks": ""
           }
          },
          "colorscale": {
           "diverging": [
            [
             0,
             "#8e0152"
            ],
            [
             0.1,
             "#c51b7d"
            ],
            [
             0.2,
             "#de77ae"
            ],
            [
             0.3,
             "#f1b6da"
            ],
            [
             0.4,
             "#fde0ef"
            ],
            [
             0.5,
             "#f7f7f7"
            ],
            [
             0.6,
             "#e6f5d0"
            ],
            [
             0.7,
             "#b8e186"
            ],
            [
             0.8,
             "#7fbc41"
            ],
            [
             0.9,
             "#4d9221"
            ],
            [
             1,
             "#276419"
            ]
           ],
           "sequential": [
            [
             0,
             "#0d0887"
            ],
            [
             0.1111111111111111,
             "#46039f"
            ],
            [
             0.2222222222222222,
             "#7201a8"
            ],
            [
             0.3333333333333333,
             "#9c179e"
            ],
            [
             0.4444444444444444,
             "#bd3786"
            ],
            [
             0.5555555555555556,
             "#d8576b"
            ],
            [
             0.6666666666666666,
             "#ed7953"
            ],
            [
             0.7777777777777778,
             "#fb9f3a"
            ],
            [
             0.8888888888888888,
             "#fdca26"
            ],
            [
             1,
             "#f0f921"
            ]
           ],
           "sequentialminus": [
            [
             0,
             "#0d0887"
            ],
            [
             0.1111111111111111,
             "#46039f"
            ],
            [
             0.2222222222222222,
             "#7201a8"
            ],
            [
             0.3333333333333333,
             "#9c179e"
            ],
            [
             0.4444444444444444,
             "#bd3786"
            ],
            [
             0.5555555555555556,
             "#d8576b"
            ],
            [
             0.6666666666666666,
             "#ed7953"
            ],
            [
             0.7777777777777778,
             "#fb9f3a"
            ],
            [
             0.8888888888888888,
             "#fdca26"
            ],
            [
             1,
             "#f0f921"
            ]
           ]
          },
          "colorway": [
           "#636efa",
           "#EF553B",
           "#00cc96",
           "#ab63fa",
           "#FFA15A",
           "#19d3f3",
           "#FF6692",
           "#B6E880",
           "#FF97FF",
           "#FECB52"
          ],
          "font": {
           "color": "#2a3f5f"
          },
          "geo": {
           "bgcolor": "white",
           "lakecolor": "white",
           "landcolor": "#E5ECF6",
           "showlakes": true,
           "showland": true,
           "subunitcolor": "white"
          },
          "hoverlabel": {
           "align": "left"
          },
          "hovermode": "closest",
          "mapbox": {
           "style": "light"
          },
          "paper_bgcolor": "white",
          "plot_bgcolor": "#E5ECF6",
          "polar": {
           "angularaxis": {
            "gridcolor": "white",
            "linecolor": "white",
            "ticks": ""
           },
           "bgcolor": "#E5ECF6",
           "radialaxis": {
            "gridcolor": "white",
            "linecolor": "white",
            "ticks": ""
           }
          },
          "scene": {
           "xaxis": {
            "backgroundcolor": "#E5ECF6",
            "gridcolor": "white",
            "gridwidth": 2,
            "linecolor": "white",
            "showbackground": true,
            "ticks": "",
            "zerolinecolor": "white"
           },
           "yaxis": {
            "backgroundcolor": "#E5ECF6",
            "gridcolor": "white",
            "gridwidth": 2,
            "linecolor": "white",
            "showbackground": true,
            "ticks": "",
            "zerolinecolor": "white"
           },
           "zaxis": {
            "backgroundcolor": "#E5ECF6",
            "gridcolor": "white",
            "gridwidth": 2,
            "linecolor": "white",
            "showbackground": true,
            "ticks": "",
            "zerolinecolor": "white"
           }
          },
          "shapedefaults": {
           "line": {
            "color": "#2a3f5f"
           }
          },
          "ternary": {
           "aaxis": {
            "gridcolor": "white",
            "linecolor": "white",
            "ticks": ""
           },
           "baxis": {
            "gridcolor": "white",
            "linecolor": "white",
            "ticks": ""
           },
           "bgcolor": "#E5ECF6",
           "caxis": {
            "gridcolor": "white",
            "linecolor": "white",
            "ticks": ""
           }
          },
          "title": {
           "x": 0.05
          },
          "xaxis": {
           "automargin": true,
           "gridcolor": "white",
           "linecolor": "white",
           "ticks": "",
           "title": {
            "standoff": 15
           },
           "zerolinecolor": "white",
           "zerolinewidth": 2
          },
          "yaxis": {
           "automargin": true,
           "gridcolor": "white",
           "linecolor": "white",
           "ticks": "",
           "title": {
            "standoff": 15
           },
           "zerolinecolor": "white",
           "zerolinewidth": 2
          }
         }
        },
        "title": {
         "text": "3D анализ: Комнаты (RM) vs Уровень населения (LSTAT) vs Цена (MEDV)"
        }
       }
      }
     },
     "metadata": {},
     "output_type": "display_data"
    }
   ],
   "source": [
    "# 3D анализ взаимосвязей ключевых признаков\n",
    "# px.scatter_3d: создает 3D scatter plot\n",
    "# x, y, z: данные для трех осей\n",
    "# color: цвет точек based on цены\n",
    "# title: заголовок графика\n",
    "# labels: переименование подписей для лучшей читаемости\n",
    "\n",
    "fig = px.scatter_3d(df, \n",
    "                    x='RM', \n",
    "                    y='LSTAT', \n",
    "                    z='MEDV',\n",
    "                    color='MEDV', \n",
    "                    title='3D анализ: Комнаты (RM) vs Уровень населения (LSTAT) vs Цена (MEDV)',\n",
    "                    labels={\n",
    "                        'RM': 'Среднее число комнат', \n",
    "                        'LSTAT': '% населения низкого статуса',\n",
    "                        'MEDV': 'Медианная цена ($1000s)'\n",
    "                    },\n",
    "                    height=600)  # высота графика\n",
    "fig.show()"
   ]
  },
  {
   "cell_type": "code",
   "execution_count": null,
   "id": "b5e34200",
   "metadata": {},
   "outputs": [
    {
     "data": {
      "application/vnd.plotly.v1+json": {
       "config": {
        "plotlyServerURL": "https://plot.ly"
       },
       "data": [
        {
         "alignmentgroup": "True",
         "hovertemplate": "Ценовая категория=%{x}<br>Среднее число комнат=%{y}<extra></extra>",
         "legendgroup": "",
         "marker": {
          "color": "#636efa"
         },
         "name": "",
         "notched": false,
         "offsetgroup": "",
         "orientation": "v",
         "showlegend": false,
         "type": "box",
         "x": [
          "Низкая",
          "Высокая",
          "Высокая",
          "Высокая",
          "Средняя",
          "Низкая",
          "Средняя",
          "Низкая",
          "Низкая",
          "Низкая",
          "Низкая",
          "Низкая",
          "Низкая",
          "Низкая",
          "Низкая",
          "Средняя",
          "Низкая",
          "Низкая",
          "Низкая",
          "Очень низкая",
          "Низкая",
          "Низкая",
          "Низкая",
          "Низкая",
          "Очень низкая",
          "Низкая",
          "Низкая",
          "Низкая",
          "Низкая",
          "Очень низкая",
          "Низкая",
          "Очень низкая",
          "Очень низкая",
          "Очень низкая",
          "Низкая",
          "Низкая",
          "Низкая",
          "Средняя",
          "Средняя",
          "Высокая",
          "Средняя",
          "Средняя",
          "Средняя",
          "Низкая",
          "Низкая",
          "Низкая",
          "Низкая",
          "Низкая",
          "Низкая",
          "Низкая",
          "Низкая",
          "Средняя",
          "Средняя",
          "Низкая",
          "Высокая",
          "Средняя",
          "Средняя",
          "Средняя",
          "Низкая",
          "Низкая",
          "Низкая",
          "Низкая",
          "Средняя",
          "Высокая",
          "Средняя",
          "Низкая",
          "Низкая",
          "Низкая",
          "Низкая",
          "Средняя",
          "Низкая",
          "Низкая",
          "Средняя",
          "Средняя",
          "Низкая",
          "Низкая",
          "Низкая",
          "Низкая",
          "Низкая",
          "Средняя",
          "Средняя",
          "Средняя",
          "Низкая",
          "Средняя",
          "Средняя",
          "Низкая",
          "Низкая",
          "Средняя",
          "Средняя",
          "Низкая",
          "Низкая",
          "Низкая",
          "Средняя",
          "Низкая",
          "Средняя",
          "Низкая",
          "Высокая",
          "Очень высокая",
          "Высокая",
          "Средняя",
          "Средняя",
          "Низкая",
          "Низкая",
          "Низкая",
          "Низкая",
          "Низкая",
          "Низкая",
          "Низкая",
          "Низкая",
          "Низкая",
          "Низкая",
          "Низкая",
          "Низкая",
          "Низкая",
          "Низкая",
          "Низкая",
          "Низкая",
          "Низкая",
          "Низкая",
          "Низкая",
          "Низкая",
          "Низкая",
          "Низкая",
          "Низкая",
          "Низкая",
          "Низкая",
          "Низкая",
          "Низкая",
          "Низкая",
          "Низкая",
          "Низкая",
          "Низкая",
          "Низкая",
          "Низкая",
          "Низкая",
          "Низкая",
          "Низкая",
          "Очень низкая",
          "Низкая",
          "Очень низкая",
          "Низкая",
          "Очень низкая",
          "Низкая",
          "Очень низкая",
          "Очень низкая",
          "Низкая",
          "Низкая",
          "Низкая",
          "Низкая",
          "Низкая",
          "Низкая",
          "Низкая",
          "Низкая",
          "Низкая",
          "Низкая",
          "Очень низкая",
          "Очень высокая",
          "Средняя",
          "Средняя",
          "Средняя",
          "Очень высокая",
          "Очень высокая",
          "Очень высокая",
          "Низкая",
          "Средняя",
          "Очень высокая",
          "Средняя",
          "Средняя",
          "Низкая",
          "Низкая",
          "Низкая",
          "Средняя",
          "Средняя",
          "Низкая",
          "Средняя",
          "Средняя",
          "Средняя",
          "Средняя",
          "Высокая",
          "Высокая",
          "Высокая",
          "Высокая",
          "Высокая",
          "Средняя",
          "Средняя",
          "Очень высокая",
          "Средняя",
          "Средняя",
          "Высокая",
          "Высокая",
          "Средняя",
          "Высокая",
          "Средняя",
          "Средняя",
          "Очень высокая",
          "Высокая",
          "Средняя",
          "Высокая",
          "Высокая",
          "Высокая",
          "Средняя",
          "Очень высокая",
          "Очень высокая",
          "Очень высокая",
          "Низкая",
          "Средняя",
          "Низкая",
          "Средняя",
          "Низкая",
          "Низкая",
          "Низкая",
          "Низкая",
          "Средняя",
          "Средняя",
          "Средняя",
          "Средняя",
          "Средняя",
          "Низкая",
          "Низкая",
          "Средняя",
          "Низкая",
          "Средняя",
          "Средняя",
          "Очень высокая",
          "Очень высокая",
          "Высокая",
          "Средняя",
          "Очень высокая",
          "Средняя",
          "Средняя",
          "Средняя",
          "Очень высокая",
          "Очень высокая",
          "Средняя",
          "Средняя",
          "Средняя",
          "Средняя",
          "Средняя",
          "Средняя",
          "Низкая",
          "Низкая",
          "Низкая",
          "Средняя",
          "Низкая",
          "Низкая",
          "Средняя",
          "Низкая",
          "Средняя",
          "Средняя",
          "Средняя",
          "Средняя",
          "Средняя",
          "Очень высокая",
          "Низкая",
          "Низкая",
          "Очень высокая",
          "Очень высокая",
          "Высокая",
          "Средняя",
          "Высокая",
          "Очень высокая",
          "Очень высокая",
          "Средняя",
          "Высокая",
          "Низкая",
          "Средняя",
          "Очень высокая",
          "Очень высокая",
          "Низкая",
          "Низкая",
          "Средняя",
          "Средняя",
          "Высокая",
          "Высокая",
          "Средняя",
          "Высокая",
          "Высокая",
          "Средняя",
          "Высокая",
          "Очень высокая",
          "Высокая",
          "Очень высокая",
          "Очень высокая",
          "Высокая",
          "Низкая",
          "Низкая",
          "Средняя",
          "Низкая",
          "Средняя",
          "Средняя",
          "Высокая",
          "Средняя",
          "Средняя",
          "Низкая",
          "Средняя",
          "Средняя",
          "Низкая",
          "Низкая",
          "Средняя",
          "Средняя",
          "Низкая",
          "Средняя",
          "Высокая",
          "Высокая",
          "Средняя",
          "Высокая",
          "Средняя",
          "Низкая",
          "Низкая",
          "Низкая",
          "Низкая",
          "Низкая",
          "Низкая",
          "Средняя",
          "Низкая",
          "Низкая",
          "Низкая",
          "Средняя",
          "Низкая",
          "Средняя",
          "Средняя",
          "Низкая",
          "Низкая",
          "Средняя",
          "Средняя",
          "Низкая",
          "Низкая",
          "Низкая",
          "Низкая",
          "Низкая",
          "Низкая",
          "Низкая",
          "Низкая",
          "Низкая",
          "Низкая",
          "Низкая",
          "Низкая",
          "Низкая",
          "Низкая",
          "Низкая",
          "Высокая",
          "Низкая",
          "Средняя",
          "Средняя",
          "Низкая",
          "Низкая",
          "Средняя",
          "Средняя",
          "Средняя",
          "Низкая",
          "Средняя",
          "Низкая",
          "Средняя",
          "Низкая",
          "Низкая",
          "Низкая",
          "Низкая",
          "Низкая",
          "Низкая",
          "Средняя",
          "Низкая",
          "Низкая",
          "Низкая",
          "Низкая",
          "Средняя",
          "Низкая",
          "Средняя",
          "Очень высокая",
          "Очень высокая",
          "Очень высокая",
          "Очень высокая",
          "Очень высокая",
          "Очень низкая",
          "Очень низкая",
          "Низкая",
          "Очень низкая",
          "Очень низкая",
          "Очень низкая",
          "Очень низкая",
          "Очень низкая",
          "Очень низкая",
          "Очень низкая",
          "Очень низкая",
          "Очень низкая",
          "Очень низкая",
          "Очень низкая",
          "Очень низкая",
          "Очень низкая",
          "Очень низкая",
          "Низкая",
          "Средняя",
          "Очень низкая",
          "Очень низкая",
          "Очень низкая",
          "Очень низкая",
          "Очень низкая",
          "Очень низкая",
          "Очень низкая",
          "Очень низкая",
          "Очень низкая",
          "Очень низкая",
          "Очень низкая",
          "Очень низкая",
          "Очень низкая",
          "Очень низкая",
          "Очень низкая",
          "Средняя",
          "Низкая",
          "Средняя",
          "Низкая",
          "Низкая",
          "Низкая",
          "Низкая",
          "Очень низкая",
          "Очень низкая",
          "Очень низкая",
          "Очень низкая",
          "Очень низкая",
          "Очень низкая",
          "Низкая",
          "Низкая",
          "Низкая",
          "Очень низкая",
          "Очень низкая",
          "Очень низкая",
          "Очень низкая",
          "Очень низкая",
          "Очень низкая",
          "Очень низкая",
          "Низкая",
          "Низкая",
          "Низкая",
          "Низкая",
          "Очень низкая",
          "Очень низкая",
          "Очень низкая",
          "Очень низкая",
          "Очень низкая",
          "Очень низкая",
          "Очень низкая",
          "Низкая",
          "Низкая",
          "Низкая",
          "Очень низкая",
          "Очень низкая",
          "Низкая",
          "Очень низкая",
          "Низкая",
          "Очень низкая",
          "Очень низкая",
          "Низкая",
          "Низкая",
          "Низкая",
          "Низкая",
          "Низкая",
          "Очень низкая",
          "Очень низкая",
          "Низкая",
          "Низкая",
          "Низкая",
          "Низкая",
          "Низкая",
          "Низкая",
          "Низкая",
          "Низкая",
          "Низкая",
          "Низкая",
          "Низкая",
          "Низкая",
          "Низкая",
          "Низкая",
          "Средняя",
          "Средняя",
          "Очень низкая",
          "Очень низкая",
          "Низкая",
          "Очень низкая",
          "Низкая",
          "Низкая",
          "Низкая",
          "Средняя",
          "Средняя",
          "Низкая",
          "Низкая",
          "Низкая",
          "Низкая",
          "Низкая",
          "Низкая",
          "Очень низкая",
          "Очень низкая",
          "Очень низкая",
          "Низкая",
          "Низкая",
          "Средняя",
          "Средняя",
          "Низкая",
          "Низкая",
          "Низкая",
          "Низкая",
          "Низкая",
          "Низкая",
          "Низкая",
          "Средняя",
          "Низкая",
          "Очень низкая"
         ],
         "x0": " ",
         "xaxis": "x",
         "y": {
          "bdata": "yXa+nxqvGUA9CtejcL0cQMuhRbbz/RtASgwCK4eWHEC4HoXrUbgZQD81XrpJDBhA46WbxCCwGECgGi/dJIYWQGq8dJMYBBhANV66SQyCGUDwp8ZLNwkYQHWTGARWjhdAsp3vp8bLF0D8qfHSTWIYQLx0kxgEVhdAPQrXo3C9F0D2KFyPwvUXQG3n+6nx0hVAnMQgsHLoFkBI4XoUrkcWQFyPwvUo3BdAxSCwcmiRGECNl24Sg0AXQBkEVg4tshdATDeJQWBlFkCNl24Sg0AXQOOlm8QgMBhAexSuR+H6GUAZBFYOLbIaQCcxCKwc2hZAfT81XrpJGEDNzMzMzMwXQOf7qfHSzRZA/Knx0k1iGEAIrBxaZLsXQHe+nxovXRdAZmZmZmZmF0B3vp8aL90XQOF6FK5HYRpAf2q8dJMYHEAUrkfhehQbQJMYBFYOrRhA8tJNYhDYGEAtsp3vp0YYQO58PzVeuhZAvp8aL90kF0AfhetRuB4YQH9qvHSTmBVAnMQgsHJoFkAnMQisHNoXQPYoXI/CdRhAJQaBlUMLGkDLoUW28/0XQFpkO99PjRdA5dAi2/n+HEDVeOkmMYgZQN0kBoGVQxtAFK5H4XqUGEBoke18P7UXQBBYObTI9hZAd76fGi/dF0Bt5/up8dIZQD81XrpJDBtA0SLb+X5qHEApXI/C9SgZQNnO91PjJRdAUI2XbhKDF0DHSzeJQWAWQArXo3A9ihdAXrpJDAKrGUDy0k1iENgXQMP1KFyPQhhAexSuR+H6GEBkO99PjRcZQL6fGi/dJBlABFYOLbIdGUCPwvUoXI8YQCGwcmiR7RhA5dAi2/l+F0CcxCCwcugaQGDl0CLbeRpAaJHtfD81GUBeukkMAqsYQHWTGARWjhlAhetRuB6FGkCPwvUoXA8YQJZDi2znexhAukkMAisHHEA3iUFg5VAcQF66SQwCqxlAH4XrUbieGUD4U+Olm8QZQPLSTWIQ2BhA5dAi2/n+GEAAAAAAAIAaQPT91HjpphhAF9nO91MjIEBI4XoUrkcfQESLbOf7qR1AnMQgsHLoGkA5tMh2vh8bQB+F61G4nhlAPzVeukmMGEBeukkMAqsYQIGVQ4tsZxdA8tJNYhBYF0A1XrpJDIIYQEw3iUFg5RlA0SLb+X7qGEBI4XoUrscYQFyPwvUo3BpA9P3UeOmmF0CR7Xw/NV4YQGq8dJMYBBlAg8DKoUW2F0BOYhBYObQYQC/dJAaBFRhAsHJoke18F0AGgZVDi+wWQHsUrkfhehdAarx0kxgEGEDy0k1iENgXQAaBlUOLbBdAarx0kxiEF0CLbOf7qfEXQMHKoUW2cxZAEoPAyqHFFkDTTWIQWLkZQD81XrpJjBZAokW28/3UGUDn+6nx0k0ZQLByaJHtfBlAfT81XrpJF0C6SQwCKwcXQNejcD0KVxlA+FPjpZvEF0A3iUFg5dAZQCGwcmiRbRdAtMh2vp+aGEAZBFYOLbIYQPp+arx0ExRA6SYxCKycFUCsHFpkO98VQOkmMQisnBNAhetRuB6FGEBQjZduEoMWQE5iEFg5tBNAWDm0yHa+FEAX2c73U2MWQLByaJHtfBhABFYOLbKdFUA/NV66SQwUQLx0kxgE1hZAarx0kxiEGEDP91PjpZsYQEoMAiuHFhVAEoPAyqHFG0DdJAaBlUMYQArXo3A9ChpAAAAAAAAAGUDb+X5qvPQdQGiR7Xw/NR9AAAAAAADAIEDRItv5fmoXQIGVQ4tsZxhAnu+nxku3H0A1XrpJDIIXQC2yne+nRhlAz/dT46WbGUAAAAAAAIAXQIXrUbgehRdAfT81XrpJFkBEi2zn+6kZQFYOLbKdbxdAyXa+nxovGkAUrkfhehQYQMP1KFyPQhlAcT0K16NwG0DsUbgehesbQI/C9ShcDx9A+n5qvHSTGEAfhetRuJ4cQI2XbhKDQBpA0SLb+X5qFkDpJjEIrJwYQG3n+6nxUh9AVOOlm8QgG0DTTWIQWDkaQD0K16NwvRxA5/up8dLNG0Db+X5qvPQaQIPAyqFFthxAMzMzMzMzG0DRItv5fmoaQAAAAAAAgB9A2c73U+MlHUAhsHJokW0cQH9qvHSTGB1AZmZmZmbmG0AK16NwPYocQNnO91PjpRhAcT0K16NwHkC28/3UeGkfQMUgsHJoESBAqvHSTWKQF0Dn+6nx0k0ZQG8Sg8DKIRdAqMZLN4lBGEDHSzeJQWAVQNejcD0K1xdABFYOLbKdFUDufD81XjoXQAAAAAAAgBlA2c73U+OlFUDufD81XroYQFpkO99PjRdAxSCwcmiRGkDn+6nx0s0XQMuhRbbzfRlA5/up8dLNG0AOLbKd76cYQGq8dJMYhBtARrbz/dR4GkDVeOkmMYggQDMzMzMzcyFAFK5H4XoUIED0/dR46aYcQFg5tMh2vh5AaJHtfD81GkAGgZVDi+wXQNnO91PjpR1ABoGVQ4usIEBYObTIdn4gQIGVQ4ts5xpA8tJNYhBYGECgGi/dJIYaQDvfT42Xbh1ABoGVQ4vsGUAGgZVDi2waQEoMAiuHlhtA4XoUrkdhGEA730+Nl24ZQN9PjZdukhlArBxaZDtfFkDsUbgehWsWQDvfT42XbhhAgZVDi2znGEAIrBxaZLsZQKwcWmQ73xpAppvEILDyGUCNl24Sg8AZQIcW2c730xtA+FPjpZuEIEA730+Nl24YQBsv3SQGgRdAN4lBYOXQHUCcxCCwcmghQKJFtvP9VB1Ake18PzVeG0AdWmQ7388cQBSuR+F6FB5Asp3vp8bLIEACK4cW2U4dQG3n+6nx0hxAPQrXo3A9FkB1kxgEVg4cQPLSTWIQmCBA4XoUrkfhHUCuR+F6FK4XQAaBlUOLbBdA9ihcj8L1GED0/dR46SYaQN0kBoGVwx5A1XjpJjEIG0DRItv5fmobQMUgsHJoER1A5/up8dJNG0AhsHJoke0ZQHNoke18PxtASOF6FK5HH0CsHFpkO98bQBSuR+F6lB5A/tR46SaxH0AnMQisHFocQB1aZDvfzxlA7FG4HoXrGEC8dJMYBNYYQMP1KFyPQhlAw/UoXI9CGkCLbOf7qXEbQGQ730+NlxxAhetRuB6FGkA1XrpJDIIYQPCnxks3CRhAg8DKoUW2GkAZBFYOLTIaQClcj8L1KBdA4XoUrkdhGUBEi2zn+ykcQJZDi2znextAXI/C9ShcGkB7FK5H4foZQCGwcmiR7RtAi2zn+6nxHEAQWDm0yHYaQK5H4XoUrh1ATDeJQWBlG0AK16NwPYoaQBfZzvdT4xdAMQisHFrkE0CwcmiR7XwYQGQ730+NFxhAqvHSTWIQGUD4U+Olm0QaQFK4HoXr0RZADi2yne+nF0BU46WbxCAXQLpJDAIrhxlAwcqhRbZzGEBOYhBYObQZQBsv3SQGgRlARIts5/spGECiRbbz/dQWQClcj8L1qBlA001iEFi5GUBzaJHtfD8ZQKJFtvP9VBhARrbz/dR4F0CiRbbz/VQZQPp+arx0kxhAbef7qfHSFkA5tMh2vh8YQN0kBoGVQxlAPQrXo3A9GUDZzvdT4yUYQGDl0CLbeRdAFK5H4XqUF0Aj2/l+ajwYQHE9Ctej8BdArBxaZDvfF0AQWDm0yPYcQClcj8L1KBpAYhBYObTIGkDl0CLb+X4bQHWTGARWDhhAZDvfT42XF0Cq8dJNYhAaQArXo3A9ihpAqMZLN4nBG0D2KFyPwvUZQDeJQWDlUBpA8KfGSzeJF0C28/3UeOkaQPT91HjpphZAWDm0yHa+F0AMAiuHFtkYQBSuR+F6lBlANV66SQyCGECmm8QgsHIYQGQ730+NlxlAGy/dJAYBGUCmm8QgsHIVQIPAyqFFNhdAj8L1KFyPIUCwcmiR7XwMQCcxCKwc2hNAgZVDi2znDkDhehSuR+ETQAisHFpkuxpAqvHSTWIQHEB3vp8aL90YQAAAAAAAgBdAObTIdr6fE0BaZDvfT40QQI2XbhKDQB1Af2q8dJOYGkCTGARWDi0bQIXrUbgehRlAMQisHFrkGECsHFpkO98bQK5H4XoULhpAvp8aL90kFkAUrkfhehQWQEa28/3UeBFAz/dT46UbFUDP91PjpZsSQAAAAAAAABRAhetRuB6FE0CPwvUoXI8VQCcxCKwc2hZATmIQWDk0GEC+nxov3SQUQBKDwMqhxRhAPzVeukmMF0D8qfHSTeIZQB+F61G4nhlAsHJoke38FkAdWmQ7388VQJzEILByaBdAppvEILDyF0CsHFpkO18ZQARWDi2ynRlATDeJQWBlFUA5tMh2vh8WQAisHFpkuxZAWmQ730+NEEA730+Nl24WQCuHFtnOdxZAnMQgsHJoG0C6SQwCKwcXQFTjpZvEoBpAUI2XbhKDEkAfhetRuJ4UQPp+arx0ExJAI9v5fmq8GUBU46WbxCAbQJ7vp8ZLNxVAhxbZzvfTF0Cyne+nxksbQL6fGi/dpBlAoBov3SQGGEBkO99PjZcWQLbz/dR4aRhAw/UoXI9CFkAv3SQGgZUXQAwCK4cWWRdAAiuHFtnOGEASg8DKocUYQIXrUbgehRlAMQisHFpkGUCiRbbz/VQbQDMzMzMzsxlAWDm0yHa+GUCiRbbz/dQYQGq8dJMYhBpA8tJNYhDYGUDP91PjpZsYQD0K16NwvRdANV66SQyCFkASg8DKoUUXQDm0yHa+nxlAx0s3iUHgGEBxPQrXo/AZQNEi2/l+ahdAvHSTGATWGUB3vp8aL10ZQBsv3SQGARlAPQrXo3C9GEBeukkMAqsZQOXQItv5/hpAH4XrUbieGkDjpZvEIDAZQN9PjZdukh1AtvP91HjpGkCamZmZmRkaQIGVQ4ts5xdAWDm0yHa+F0BOYhBYOTQZQG3n+6nxUhhA5/up8dLNGkAbL90kBoEZQPhT46WbRBlAWmQ7308NGkC8dJMYBNYYQPCnxks3CRdAAiuHFtnOF0BQjZduEgMYQE5iEFg5tBdAJzEIrBzaFkBeukkMAqsYQNEi2/l+6hhAc2iR7Xy/GUDsUbgehesbQGiR7Xw/tRVA2c73U+OlGEBWDi2yne8ZQJ7vp8ZLNxVAPQrXo3C9GEDRItv5fuoYQCuHFtnO9xhAAAAAAAAAG0BYObTIdj4cQD81XrpJDBdAlkOLbOd7F0BzaJHtfD8ZQNv5fmq8dBhAH4XrUbieF0A3iUFg5dAVQA4tsp3vpxVArBxaZDtfFEA730+Nl+4XQDvfT42X7hdAhxbZzvfTFkBOYhBYObQXQK5H4XoUrhZAj8L1KFyPFUCTGARWDi0XQPp+arx0ExhALbKd76dGFkDP91PjpRsYQKwcWmQ7XxpAexSuR+F6GECBlUOLbOcbQJMYBFYOLRtAH4XrUbgeGEA=",
          "dtype": "f8"
         },
         "y0": " ",
         "yaxis": "y"
        }
       ],
       "layout": {
        "boxmode": "group",
        "legend": {
         "tracegroupgap": 0
        },
        "template": {
         "data": {
          "bar": [
           {
            "error_x": {
             "color": "#2a3f5f"
            },
            "error_y": {
             "color": "#2a3f5f"
            },
            "marker": {
             "line": {
              "color": "#E5ECF6",
              "width": 0.5
             },
             "pattern": {
              "fillmode": "overlay",
              "size": 10,
              "solidity": 0.2
             }
            },
            "type": "bar"
           }
          ],
          "barpolar": [
           {
            "marker": {
             "line": {
              "color": "#E5ECF6",
              "width": 0.5
             },
             "pattern": {
              "fillmode": "overlay",
              "size": 10,
              "solidity": 0.2
             }
            },
            "type": "barpolar"
           }
          ],
          "carpet": [
           {
            "aaxis": {
             "endlinecolor": "#2a3f5f",
             "gridcolor": "white",
             "linecolor": "white",
             "minorgridcolor": "white",
             "startlinecolor": "#2a3f5f"
            },
            "baxis": {
             "endlinecolor": "#2a3f5f",
             "gridcolor": "white",
             "linecolor": "white",
             "minorgridcolor": "white",
             "startlinecolor": "#2a3f5f"
            },
            "type": "carpet"
           }
          ],
          "choropleth": [
           {
            "colorbar": {
             "outlinewidth": 0,
             "ticks": ""
            },
            "type": "choropleth"
           }
          ],
          "contour": [
           {
            "colorbar": {
             "outlinewidth": 0,
             "ticks": ""
            },
            "colorscale": [
             [
              0,
              "#0d0887"
             ],
             [
              0.1111111111111111,
              "#46039f"
             ],
             [
              0.2222222222222222,
              "#7201a8"
             ],
             [
              0.3333333333333333,
              "#9c179e"
             ],
             [
              0.4444444444444444,
              "#bd3786"
             ],
             [
              0.5555555555555556,
              "#d8576b"
             ],
             [
              0.6666666666666666,
              "#ed7953"
             ],
             [
              0.7777777777777778,
              "#fb9f3a"
             ],
             [
              0.8888888888888888,
              "#fdca26"
             ],
             [
              1,
              "#f0f921"
             ]
            ],
            "type": "contour"
           }
          ],
          "contourcarpet": [
           {
            "colorbar": {
             "outlinewidth": 0,
             "ticks": ""
            },
            "type": "contourcarpet"
           }
          ],
          "heatmap": [
           {
            "colorbar": {
             "outlinewidth": 0,
             "ticks": ""
            },
            "colorscale": [
             [
              0,
              "#0d0887"
             ],
             [
              0.1111111111111111,
              "#46039f"
             ],
             [
              0.2222222222222222,
              "#7201a8"
             ],
             [
              0.3333333333333333,
              "#9c179e"
             ],
             [
              0.4444444444444444,
              "#bd3786"
             ],
             [
              0.5555555555555556,
              "#d8576b"
             ],
             [
              0.6666666666666666,
              "#ed7953"
             ],
             [
              0.7777777777777778,
              "#fb9f3a"
             ],
             [
              0.8888888888888888,
              "#fdca26"
             ],
             [
              1,
              "#f0f921"
             ]
            ],
            "type": "heatmap"
           }
          ],
          "histogram": [
           {
            "marker": {
             "pattern": {
              "fillmode": "overlay",
              "size": 10,
              "solidity": 0.2
             }
            },
            "type": "histogram"
           }
          ],
          "histogram2d": [
           {
            "colorbar": {
             "outlinewidth": 0,
             "ticks": ""
            },
            "colorscale": [
             [
              0,
              "#0d0887"
             ],
             [
              0.1111111111111111,
              "#46039f"
             ],
             [
              0.2222222222222222,
              "#7201a8"
             ],
             [
              0.3333333333333333,
              "#9c179e"
             ],
             [
              0.4444444444444444,
              "#bd3786"
             ],
             [
              0.5555555555555556,
              "#d8576b"
             ],
             [
              0.6666666666666666,
              "#ed7953"
             ],
             [
              0.7777777777777778,
              "#fb9f3a"
             ],
             [
              0.8888888888888888,
              "#fdca26"
             ],
             [
              1,
              "#f0f921"
             ]
            ],
            "type": "histogram2d"
           }
          ],
          "histogram2dcontour": [
           {
            "colorbar": {
             "outlinewidth": 0,
             "ticks": ""
            },
            "colorscale": [
             [
              0,
              "#0d0887"
             ],
             [
              0.1111111111111111,
              "#46039f"
             ],
             [
              0.2222222222222222,
              "#7201a8"
             ],
             [
              0.3333333333333333,
              "#9c179e"
             ],
             [
              0.4444444444444444,
              "#bd3786"
             ],
             [
              0.5555555555555556,
              "#d8576b"
             ],
             [
              0.6666666666666666,
              "#ed7953"
             ],
             [
              0.7777777777777778,
              "#fb9f3a"
             ],
             [
              0.8888888888888888,
              "#fdca26"
             ],
             [
              1,
              "#f0f921"
             ]
            ],
            "type": "histogram2dcontour"
           }
          ],
          "mesh3d": [
           {
            "colorbar": {
             "outlinewidth": 0,
             "ticks": ""
            },
            "type": "mesh3d"
           }
          ],
          "parcoords": [
           {
            "line": {
             "colorbar": {
              "outlinewidth": 0,
              "ticks": ""
             }
            },
            "type": "parcoords"
           }
          ],
          "pie": [
           {
            "automargin": true,
            "type": "pie"
           }
          ],
          "scatter": [
           {
            "fillpattern": {
             "fillmode": "overlay",
             "size": 10,
             "solidity": 0.2
            },
            "type": "scatter"
           }
          ],
          "scatter3d": [
           {
            "line": {
             "colorbar": {
              "outlinewidth": 0,
              "ticks": ""
             }
            },
            "marker": {
             "colorbar": {
              "outlinewidth": 0,
              "ticks": ""
             }
            },
            "type": "scatter3d"
           }
          ],
          "scattercarpet": [
           {
            "marker": {
             "colorbar": {
              "outlinewidth": 0,
              "ticks": ""
             }
            },
            "type": "scattercarpet"
           }
          ],
          "scattergeo": [
           {
            "marker": {
             "colorbar": {
              "outlinewidth": 0,
              "ticks": ""
             }
            },
            "type": "scattergeo"
           }
          ],
          "scattergl": [
           {
            "marker": {
             "colorbar": {
              "outlinewidth": 0,
              "ticks": ""
             }
            },
            "type": "scattergl"
           }
          ],
          "scattermap": [
           {
            "marker": {
             "colorbar": {
              "outlinewidth": 0,
              "ticks": ""
             }
            },
            "type": "scattermap"
           }
          ],
          "scattermapbox": [
           {
            "marker": {
             "colorbar": {
              "outlinewidth": 0,
              "ticks": ""
             }
            },
            "type": "scattermapbox"
           }
          ],
          "scatterpolar": [
           {
            "marker": {
             "colorbar": {
              "outlinewidth": 0,
              "ticks": ""
             }
            },
            "type": "scatterpolar"
           }
          ],
          "scatterpolargl": [
           {
            "marker": {
             "colorbar": {
              "outlinewidth": 0,
              "ticks": ""
             }
            },
            "type": "scatterpolargl"
           }
          ],
          "scatterternary": [
           {
            "marker": {
             "colorbar": {
              "outlinewidth": 0,
              "ticks": ""
             }
            },
            "type": "scatterternary"
           }
          ],
          "surface": [
           {
            "colorbar": {
             "outlinewidth": 0,
             "ticks": ""
            },
            "colorscale": [
             [
              0,
              "#0d0887"
             ],
             [
              0.1111111111111111,
              "#46039f"
             ],
             [
              0.2222222222222222,
              "#7201a8"
             ],
             [
              0.3333333333333333,
              "#9c179e"
             ],
             [
              0.4444444444444444,
              "#bd3786"
             ],
             [
              0.5555555555555556,
              "#d8576b"
             ],
             [
              0.6666666666666666,
              "#ed7953"
             ],
             [
              0.7777777777777778,
              "#fb9f3a"
             ],
             [
              0.8888888888888888,
              "#fdca26"
             ],
             [
              1,
              "#f0f921"
             ]
            ],
            "type": "surface"
           }
          ],
          "table": [
           {
            "cells": {
             "fill": {
              "color": "#EBF0F8"
             },
             "line": {
              "color": "white"
             }
            },
            "header": {
             "fill": {
              "color": "#C8D4E3"
             },
             "line": {
              "color": "white"
             }
            },
            "type": "table"
           }
          ]
         },
         "layout": {
          "annotationdefaults": {
           "arrowcolor": "#2a3f5f",
           "arrowhead": 0,
           "arrowwidth": 1
          },
          "autotypenumbers": "strict",
          "coloraxis": {
           "colorbar": {
            "outlinewidth": 0,
            "ticks": ""
           }
          },
          "colorscale": {
           "diverging": [
            [
             0,
             "#8e0152"
            ],
            [
             0.1,
             "#c51b7d"
            ],
            [
             0.2,
             "#de77ae"
            ],
            [
             0.3,
             "#f1b6da"
            ],
            [
             0.4,
             "#fde0ef"
            ],
            [
             0.5,
             "#f7f7f7"
            ],
            [
             0.6,
             "#e6f5d0"
            ],
            [
             0.7,
             "#b8e186"
            ],
            [
             0.8,
             "#7fbc41"
            ],
            [
             0.9,
             "#4d9221"
            ],
            [
             1,
             "#276419"
            ]
           ],
           "sequential": [
            [
             0,
             "#0d0887"
            ],
            [
             0.1111111111111111,
             "#46039f"
            ],
            [
             0.2222222222222222,
             "#7201a8"
            ],
            [
             0.3333333333333333,
             "#9c179e"
            ],
            [
             0.4444444444444444,
             "#bd3786"
            ],
            [
             0.5555555555555556,
             "#d8576b"
            ],
            [
             0.6666666666666666,
             "#ed7953"
            ],
            [
             0.7777777777777778,
             "#fb9f3a"
            ],
            [
             0.8888888888888888,
             "#fdca26"
            ],
            [
             1,
             "#f0f921"
            ]
           ],
           "sequentialminus": [
            [
             0,
             "#0d0887"
            ],
            [
             0.1111111111111111,
             "#46039f"
            ],
            [
             0.2222222222222222,
             "#7201a8"
            ],
            [
             0.3333333333333333,
             "#9c179e"
            ],
            [
             0.4444444444444444,
             "#bd3786"
            ],
            [
             0.5555555555555556,
             "#d8576b"
            ],
            [
             0.6666666666666666,
             "#ed7953"
            ],
            [
             0.7777777777777778,
             "#fb9f3a"
            ],
            [
             0.8888888888888888,
             "#fdca26"
            ],
            [
             1,
             "#f0f921"
            ]
           ]
          },
          "colorway": [
           "#636efa",
           "#EF553B",
           "#00cc96",
           "#ab63fa",
           "#FFA15A",
           "#19d3f3",
           "#FF6692",
           "#B6E880",
           "#FF97FF",
           "#FECB52"
          ],
          "font": {
           "color": "#2a3f5f"
          },
          "geo": {
           "bgcolor": "white",
           "lakecolor": "white",
           "landcolor": "#E5ECF6",
           "showlakes": true,
           "showland": true,
           "subunitcolor": "white"
          },
          "hoverlabel": {
           "align": "left"
          },
          "hovermode": "closest",
          "mapbox": {
           "style": "light"
          },
          "paper_bgcolor": "white",
          "plot_bgcolor": "#E5ECF6",
          "polar": {
           "angularaxis": {
            "gridcolor": "white",
            "linecolor": "white",
            "ticks": ""
           },
           "bgcolor": "#E5ECF6",
           "radialaxis": {
            "gridcolor": "white",
            "linecolor": "white",
            "ticks": ""
           }
          },
          "scene": {
           "xaxis": {
            "backgroundcolor": "#E5ECF6",
            "gridcolor": "white",
            "gridwidth": 2,
            "linecolor": "white",
            "showbackground": true,
            "ticks": "",
            "zerolinecolor": "white"
           },
           "yaxis": {
            "backgroundcolor": "#E5ECF6",
            "gridcolor": "white",
            "gridwidth": 2,
            "linecolor": "white",
            "showbackground": true,
            "ticks": "",
            "zerolinecolor": "white"
           },
           "zaxis": {
            "backgroundcolor": "#E5ECF6",
            "gridcolor": "white",
            "gridwidth": 2,
            "linecolor": "white",
            "showbackground": true,
            "ticks": "",
            "zerolinecolor": "white"
           }
          },
          "shapedefaults": {
           "line": {
            "color": "#2a3f5f"
           }
          },
          "ternary": {
           "aaxis": {
            "gridcolor": "white",
            "linecolor": "white",
            "ticks": ""
           },
           "baxis": {
            "gridcolor": "white",
            "linecolor": "white",
            "ticks": ""
           },
           "bgcolor": "#E5ECF6",
           "caxis": {
            "gridcolor": "white",
            "linecolor": "white",
            "ticks": ""
           }
          },
          "title": {
           "x": 0.05
          },
          "xaxis": {
           "automargin": true,
           "gridcolor": "white",
           "linecolor": "white",
           "ticks": "",
           "title": {
            "standoff": 15
           },
           "zerolinecolor": "white",
           "zerolinewidth": 2
          },
          "yaxis": {
           "automargin": true,
           "gridcolor": "white",
           "linecolor": "white",
           "ticks": "",
           "title": {
            "standoff": 15
           },
           "zerolinecolor": "white",
           "zerolinewidth": 2
          }
         }
        },
        "title": {
         "text": "Распределение количества комнат (RM) по ценовым категориям"
        },
        "xaxis": {
         "anchor": "y",
         "domain": [
          0,
          1
         ],
         "title": {
          "text": "Ценовая категория"
         }
        },
        "yaxis": {
         "anchor": "x",
         "domain": [
          0,
          1
         ],
         "title": {
          "text": "Среднее число комнат"
         }
        }
       }
      }
     },
     "metadata": {},
     "output_type": "display_data"
    }
   ],
   "source": [
    "# Анализ по ценовым категориям\n",
    "# pd.cut: преобразует непрерывную переменную в категориальную\n",
    "# bins=5: разделить на 5 интервалов\n",
    "# labels: названия для каждой категории\n",
    "\n",
    "df['PRICE_CAT'] = pd.cut(df['MEDV'], \n",
    "                         bins=5, \n",
    "                         labels=['Очень низкая', 'Низкая', 'Средняя', 'Высокая', 'Очень высокая'])\n",
    "\n",
    "# Box plot по категориям цен\n",
    "# px.box: создает box plot\n",
    "# x: категориальная переменная (ценовые категории)\n",
    "# y: числовая переменная (количество комнат)\n",
    "# title: заголовок графика\n",
    "# labels: переименование подписей\n",
    "\n",
    "fig = px.box(df, \n",
    "             x='PRICE_CAT', \n",
    "             y='RM', \n",
    "             title='Распределение количества комнат (RM) по ценовым категориям',\n",
    "             labels={\n",
    "                 'PRICE_CAT': 'Ценовая категория', \n",
    "                 'RM': 'Среднее число комнат'\n",
    "             })\n",
    "fig.show()"
   ]
  },
  {
   "cell_type": "code",
   "execution_count": null,
   "id": "d639792a",
   "metadata": {},
   "outputs": [
    {
     "data": {
      "application/vnd.plotly.v1+json": {
       "config": {
        "plotlyServerURL": "https://plot.ly"
       },
       "data": [
        {
         "coloraxis": "coloraxis",
         "histfunc": "avg",
         "hovertemplate": "RM=%{x}<br>LSTAT=%{y}<br>avg of MEDV=%{z}<extra></extra>",
         "name": "",
         "nbinsx": 20,
         "nbinsy": 20,
         "type": "histogram2d",
         "x": {
          "bdata": "yXa+nxqvGUA9CtejcL0cQMuhRbbz/RtASgwCK4eWHEC4HoXrUbgZQD81XrpJDBhA46WbxCCwGECgGi/dJIYWQGq8dJMYBBhANV66SQyCGUDwp8ZLNwkYQHWTGARWjhdAsp3vp8bLF0D8qfHSTWIYQLx0kxgEVhdAPQrXo3C9F0D2KFyPwvUXQG3n+6nx0hVAnMQgsHLoFkBI4XoUrkcWQFyPwvUo3BdAxSCwcmiRGECNl24Sg0AXQBkEVg4tshdATDeJQWBlFkCNl24Sg0AXQOOlm8QgMBhAexSuR+H6GUAZBFYOLbIaQCcxCKwc2hZAfT81XrpJGEDNzMzMzMwXQOf7qfHSzRZA/Knx0k1iGEAIrBxaZLsXQHe+nxovXRdAZmZmZmZmF0B3vp8aL90XQOF6FK5HYRpAf2q8dJMYHEAUrkfhehQbQJMYBFYOrRhA8tJNYhDYGEAtsp3vp0YYQO58PzVeuhZAvp8aL90kF0AfhetRuB4YQH9qvHSTmBVAnMQgsHJoFkAnMQisHNoXQPYoXI/CdRhAJQaBlUMLGkDLoUW28/0XQFpkO99PjRdA5dAi2/n+HEDVeOkmMYgZQN0kBoGVQxtAFK5H4XqUGEBoke18P7UXQBBYObTI9hZAd76fGi/dF0Bt5/up8dIZQD81XrpJDBtA0SLb+X5qHEApXI/C9SgZQNnO91PjJRdAUI2XbhKDF0DHSzeJQWAWQArXo3A9ihdAXrpJDAKrGUDy0k1iENgXQMP1KFyPQhhAexSuR+H6GEBkO99PjRcZQL6fGi/dJBlABFYOLbIdGUCPwvUoXI8YQCGwcmiR7RhA5dAi2/l+F0CcxCCwcugaQGDl0CLbeRpAaJHtfD81GUBeukkMAqsYQHWTGARWjhlAhetRuB6FGkCPwvUoXA8YQJZDi2znexhAukkMAisHHEA3iUFg5VAcQF66SQwCqxlAH4XrUbieGUD4U+Olm8QZQPLSTWIQ2BhA5dAi2/n+GEAAAAAAAIAaQPT91HjpphhAF9nO91MjIEBI4XoUrkcfQESLbOf7qR1AnMQgsHLoGkA5tMh2vh8bQB+F61G4nhlAPzVeukmMGEBeukkMAqsYQIGVQ4tsZxdA8tJNYhBYF0A1XrpJDIIYQEw3iUFg5RlA0SLb+X7qGEBI4XoUrscYQFyPwvUo3BpA9P3UeOmmF0CR7Xw/NV4YQGq8dJMYBBlAg8DKoUW2F0BOYhBYObQYQC/dJAaBFRhAsHJoke18F0AGgZVDi+wWQHsUrkfhehdAarx0kxgEGEDy0k1iENgXQAaBlUOLbBdAarx0kxiEF0CLbOf7qfEXQMHKoUW2cxZAEoPAyqHFFkDTTWIQWLkZQD81XrpJjBZAokW28/3UGUDn+6nx0k0ZQLByaJHtfBlAfT81XrpJF0C6SQwCKwcXQNejcD0KVxlA+FPjpZvEF0A3iUFg5dAZQCGwcmiRbRdAtMh2vp+aGEAZBFYOLbIYQPp+arx0ExRA6SYxCKycFUCsHFpkO98VQOkmMQisnBNAhetRuB6FGEBQjZduEoMWQE5iEFg5tBNAWDm0yHa+FEAX2c73U2MWQLByaJHtfBhABFYOLbKdFUA/NV66SQwUQLx0kxgE1hZAarx0kxiEGEDP91PjpZsYQEoMAiuHFhVAEoPAyqHFG0DdJAaBlUMYQArXo3A9ChpAAAAAAAAAGUDb+X5qvPQdQGiR7Xw/NR9AAAAAAADAIEDRItv5fmoXQIGVQ4tsZxhAnu+nxku3H0A1XrpJDIIXQC2yne+nRhlAz/dT46WbGUAAAAAAAIAXQIXrUbgehRdAfT81XrpJFkBEi2zn+6kZQFYOLbKdbxdAyXa+nxovGkAUrkfhehQYQMP1KFyPQhlAcT0K16NwG0DsUbgehesbQI/C9ShcDx9A+n5qvHSTGEAfhetRuJ4cQI2XbhKDQBpA0SLb+X5qFkDpJjEIrJwYQG3n+6nxUh9AVOOlm8QgG0DTTWIQWDkaQD0K16NwvRxA5/up8dLNG0Db+X5qvPQaQIPAyqFFthxAMzMzMzMzG0DRItv5fmoaQAAAAAAAgB9A2c73U+MlHUAhsHJokW0cQH9qvHSTGB1AZmZmZmbmG0AK16NwPYocQNnO91PjpRhAcT0K16NwHkC28/3UeGkfQMUgsHJoESBAqvHSTWKQF0Dn+6nx0k0ZQG8Sg8DKIRdAqMZLN4lBGEDHSzeJQWAVQNejcD0K1xdABFYOLbKdFUDufD81XjoXQAAAAAAAgBlA2c73U+OlFUDufD81XroYQFpkO99PjRdAxSCwcmiRGkDn+6nx0s0XQMuhRbbzfRlA5/up8dLNG0AOLbKd76cYQGq8dJMYhBtARrbz/dR4GkDVeOkmMYggQDMzMzMzcyFAFK5H4XoUIED0/dR46aYcQFg5tMh2vh5AaJHtfD81GkAGgZVDi+wXQNnO91PjpR1ABoGVQ4usIEBYObTIdn4gQIGVQ4ts5xpA8tJNYhBYGECgGi/dJIYaQDvfT42Xbh1ABoGVQ4vsGUAGgZVDi2waQEoMAiuHlhtA4XoUrkdhGEA730+Nl24ZQN9PjZdukhlArBxaZDtfFkDsUbgehWsWQDvfT42XbhhAgZVDi2znGEAIrBxaZLsZQKwcWmQ73xpAppvEILDyGUCNl24Sg8AZQIcW2c730xtA+FPjpZuEIEA730+Nl24YQBsv3SQGgRdAN4lBYOXQHUCcxCCwcmghQKJFtvP9VB1Ake18PzVeG0AdWmQ7388cQBSuR+F6FB5Asp3vp8bLIEACK4cW2U4dQG3n+6nx0hxAPQrXo3A9FkB1kxgEVg4cQPLSTWIQmCBA4XoUrkfhHUCuR+F6FK4XQAaBlUOLbBdA9ihcj8L1GED0/dR46SYaQN0kBoGVwx5A1XjpJjEIG0DRItv5fmobQMUgsHJoER1A5/up8dJNG0AhsHJoke0ZQHNoke18PxtASOF6FK5HH0CsHFpkO98bQBSuR+F6lB5A/tR46SaxH0AnMQisHFocQB1aZDvfzxlA7FG4HoXrGEC8dJMYBNYYQMP1KFyPQhlAw/UoXI9CGkCLbOf7qXEbQGQ730+NlxxAhetRuB6FGkA1XrpJDIIYQPCnxks3CRhAg8DKoUW2GkAZBFYOLTIaQClcj8L1KBdA4XoUrkdhGUBEi2zn+ykcQJZDi2znextAXI/C9ShcGkB7FK5H4foZQCGwcmiR7RtAi2zn+6nxHEAQWDm0yHYaQK5H4XoUrh1ATDeJQWBlG0AK16NwPYoaQBfZzvdT4xdAMQisHFrkE0CwcmiR7XwYQGQ730+NFxhAqvHSTWIQGUD4U+Olm0QaQFK4HoXr0RZADi2yne+nF0BU46WbxCAXQLpJDAIrhxlAwcqhRbZzGEBOYhBYObQZQBsv3SQGgRlARIts5/spGECiRbbz/dQWQClcj8L1qBlA001iEFi5GUBzaJHtfD8ZQKJFtvP9VBhARrbz/dR4F0CiRbbz/VQZQPp+arx0kxhAbef7qfHSFkA5tMh2vh8YQN0kBoGVQxlAPQrXo3A9GUDZzvdT4yUYQGDl0CLbeRdAFK5H4XqUF0Aj2/l+ajwYQHE9Ctej8BdArBxaZDvfF0AQWDm0yPYcQClcj8L1KBpAYhBYObTIGkDl0CLb+X4bQHWTGARWDhhAZDvfT42XF0Cq8dJNYhAaQArXo3A9ihpAqMZLN4nBG0D2KFyPwvUZQDeJQWDlUBpA8KfGSzeJF0C28/3UeOkaQPT91HjpphZAWDm0yHa+F0AMAiuHFtkYQBSuR+F6lBlANV66SQyCGECmm8QgsHIYQGQ730+NlxlAGy/dJAYBGUCmm8QgsHIVQIPAyqFFNhdAj8L1KFyPIUCwcmiR7XwMQCcxCKwc2hNAgZVDi2znDkDhehSuR+ETQAisHFpkuxpAqvHSTWIQHEB3vp8aL90YQAAAAAAAgBdAObTIdr6fE0BaZDvfT40QQI2XbhKDQB1Af2q8dJOYGkCTGARWDi0bQIXrUbgehRlAMQisHFrkGECsHFpkO98bQK5H4XoULhpAvp8aL90kFkAUrkfhehQWQEa28/3UeBFAz/dT46UbFUDP91PjpZsSQAAAAAAAABRAhetRuB6FE0CPwvUoXI8VQCcxCKwc2hZATmIQWDk0GEC+nxov3SQUQBKDwMqhxRhAPzVeukmMF0D8qfHSTeIZQB+F61G4nhlAsHJoke38FkAdWmQ7388VQJzEILByaBdAppvEILDyF0CsHFpkO18ZQARWDi2ynRlATDeJQWBlFUA5tMh2vh8WQAisHFpkuxZAWmQ730+NEEA730+Nl24WQCuHFtnOdxZAnMQgsHJoG0C6SQwCKwcXQFTjpZvEoBpAUI2XbhKDEkAfhetRuJ4UQPp+arx0ExJAI9v5fmq8GUBU46WbxCAbQJ7vp8ZLNxVAhxbZzvfTF0Cyne+nxksbQL6fGi/dpBlAoBov3SQGGEBkO99PjZcWQLbz/dR4aRhAw/UoXI9CFkAv3SQGgZUXQAwCK4cWWRdAAiuHFtnOGEASg8DKocUYQIXrUbgehRlAMQisHFpkGUCiRbbz/VQbQDMzMzMzsxlAWDm0yHa+GUCiRbbz/dQYQGq8dJMYhBpA8tJNYhDYGUDP91PjpZsYQD0K16NwvRdANV66SQyCFkASg8DKoUUXQDm0yHa+nxlAx0s3iUHgGEBxPQrXo/AZQNEi2/l+ahdAvHSTGATWGUB3vp8aL10ZQBsv3SQGARlAPQrXo3C9GEBeukkMAqsZQOXQItv5/hpAH4XrUbieGkDjpZvEIDAZQN9PjZdukh1AtvP91HjpGkCamZmZmRkaQIGVQ4ts5xdAWDm0yHa+F0BOYhBYOTQZQG3n+6nxUhhA5/up8dLNGkAbL90kBoEZQPhT46WbRBlAWmQ7308NGkC8dJMYBNYYQPCnxks3CRdAAiuHFtnOF0BQjZduEgMYQE5iEFg5tBdAJzEIrBzaFkBeukkMAqsYQNEi2/l+6hhAc2iR7Xy/GUDsUbgehesbQGiR7Xw/tRVA2c73U+OlGEBWDi2yne8ZQJ7vp8ZLNxVAPQrXo3C9GEDRItv5fuoYQCuHFtnO9xhAAAAAAAAAG0BYObTIdj4cQD81XrpJDBdAlkOLbOd7F0BzaJHtfD8ZQNv5fmq8dBhAH4XrUbieF0A3iUFg5dAVQA4tsp3vpxVArBxaZDtfFEA730+Nl+4XQDvfT42X7hdAhxbZzvfTFkBOYhBYObQXQK5H4XoUrhZAj8L1KFyPFUCTGARWDi0XQPp+arx0ExhALbKd76dGFkDP91PjpRsYQKwcWmQ7XxpAexSuR+F6GECBlUOLbOcbQJMYBFYOLRtAH4XrUbgeGEA=",
          "dtype": "f8"
         },
         "xaxis": "x",
         "xbingroup": "x",
         "y": {
          "bdata": "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",
          "dtype": "f8"
         },
         "yaxis": "y",
         "ybingroup": "y",
         "z": {
          "bdata": "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",
          "dtype": "f8"
         }
        }
       ],
       "layout": {
        "coloraxis": {
         "colorbar": {
          "title": {
           "text": "avg of MEDV"
          }
         },
         "colorscale": [
          [
           0,
           "#440154"
          ],
          [
           0.1111111111111111,
           "#482878"
          ],
          [
           0.2222222222222222,
           "#3e4989"
          ],
          [
           0.3333333333333333,
           "#31688e"
          ],
          [
           0.4444444444444444,
           "#26828e"
          ],
          [
           0.5555555555555556,
           "#1f9e89"
          ],
          [
           0.6666666666666666,
           "#35b779"
          ],
          [
           0.7777777777777778,
           "#6ece58"
          ],
          [
           0.8888888888888888,
           "#b5de2b"
          ],
          [
           1,
           "#fde725"
          ]
         ]
        },
        "legend": {
         "tracegroupgap": 0
        },
        "template": {
         "data": {
          "bar": [
           {
            "error_x": {
             "color": "#2a3f5f"
            },
            "error_y": {
             "color": "#2a3f5f"
            },
            "marker": {
             "line": {
              "color": "#E5ECF6",
              "width": 0.5
             },
             "pattern": {
              "fillmode": "overlay",
              "size": 10,
              "solidity": 0.2
             }
            },
            "type": "bar"
           }
          ],
          "barpolar": [
           {
            "marker": {
             "line": {
              "color": "#E5ECF6",
              "width": 0.5
             },
             "pattern": {
              "fillmode": "overlay",
              "size": 10,
              "solidity": 0.2
             }
            },
            "type": "barpolar"
           }
          ],
          "carpet": [
           {
            "aaxis": {
             "endlinecolor": "#2a3f5f",
             "gridcolor": "white",
             "linecolor": "white",
             "minorgridcolor": "white",
             "startlinecolor": "#2a3f5f"
            },
            "baxis": {
             "endlinecolor": "#2a3f5f",
             "gridcolor": "white",
             "linecolor": "white",
             "minorgridcolor": "white",
             "startlinecolor": "#2a3f5f"
            },
            "type": "carpet"
           }
          ],
          "choropleth": [
           {
            "colorbar": {
             "outlinewidth": 0,
             "ticks": ""
            },
            "type": "choropleth"
           }
          ],
          "contour": [
           {
            "colorbar": {
             "outlinewidth": 0,
             "ticks": ""
            },
            "colorscale": [
             [
              0,
              "#0d0887"
             ],
             [
              0.1111111111111111,
              "#46039f"
             ],
             [
              0.2222222222222222,
              "#7201a8"
             ],
             [
              0.3333333333333333,
              "#9c179e"
             ],
             [
              0.4444444444444444,
              "#bd3786"
             ],
             [
              0.5555555555555556,
              "#d8576b"
             ],
             [
              0.6666666666666666,
              "#ed7953"
             ],
             [
              0.7777777777777778,
              "#fb9f3a"
             ],
             [
              0.8888888888888888,
              "#fdca26"
             ],
             [
              1,
              "#f0f921"
             ]
            ],
            "type": "contour"
           }
          ],
          "contourcarpet": [
           {
            "colorbar": {
             "outlinewidth": 0,
             "ticks": ""
            },
            "type": "contourcarpet"
           }
          ],
          "heatmap": [
           {
            "colorbar": {
             "outlinewidth": 0,
             "ticks": ""
            },
            "colorscale": [
             [
              0,
              "#0d0887"
             ],
             [
              0.1111111111111111,
              "#46039f"
             ],
             [
              0.2222222222222222,
              "#7201a8"
             ],
             [
              0.3333333333333333,
              "#9c179e"
             ],
             [
              0.4444444444444444,
              "#bd3786"
             ],
             [
              0.5555555555555556,
              "#d8576b"
             ],
             [
              0.6666666666666666,
              "#ed7953"
             ],
             [
              0.7777777777777778,
              "#fb9f3a"
             ],
             [
              0.8888888888888888,
              "#fdca26"
             ],
             [
              1,
              "#f0f921"
             ]
            ],
            "type": "heatmap"
           }
          ],
          "histogram": [
           {
            "marker": {
             "pattern": {
              "fillmode": "overlay",
              "size": 10,
              "solidity": 0.2
             }
            },
            "type": "histogram"
           }
          ],
          "histogram2d": [
           {
            "colorbar": {
             "outlinewidth": 0,
             "ticks": ""
            },
            "colorscale": [
             [
              0,
              "#0d0887"
             ],
             [
              0.1111111111111111,
              "#46039f"
             ],
             [
              0.2222222222222222,
              "#7201a8"
             ],
             [
              0.3333333333333333,
              "#9c179e"
             ],
             [
              0.4444444444444444,
              "#bd3786"
             ],
             [
              0.5555555555555556,
              "#d8576b"
             ],
             [
              0.6666666666666666,
              "#ed7953"
             ],
             [
              0.7777777777777778,
              "#fb9f3a"
             ],
             [
              0.8888888888888888,
              "#fdca26"
             ],
             [
              1,
              "#f0f921"
             ]
            ],
            "type": "histogram2d"
           }
          ],
          "histogram2dcontour": [
           {
            "colorbar": {
             "outlinewidth": 0,
             "ticks": ""
            },
            "colorscale": [
             [
              0,
              "#0d0887"
             ],
             [
              0.1111111111111111,
              "#46039f"
             ],
             [
              0.2222222222222222,
              "#7201a8"
             ],
             [
              0.3333333333333333,
              "#9c179e"
             ],
             [
              0.4444444444444444,
              "#bd3786"
             ],
             [
              0.5555555555555556,
              "#d8576b"
             ],
             [
              0.6666666666666666,
              "#ed7953"
             ],
             [
              0.7777777777777778,
              "#fb9f3a"
             ],
             [
              0.8888888888888888,
              "#fdca26"
             ],
             [
              1,
              "#f0f921"
             ]
            ],
            "type": "histogram2dcontour"
           }
          ],
          "mesh3d": [
           {
            "colorbar": {
             "outlinewidth": 0,
             "ticks": ""
            },
            "type": "mesh3d"
           }
          ],
          "parcoords": [
           {
            "line": {
             "colorbar": {
              "outlinewidth": 0,
              "ticks": ""
             }
            },
            "type": "parcoords"
           }
          ],
          "pie": [
           {
            "automargin": true,
            "type": "pie"
           }
          ],
          "scatter": [
           {
            "fillpattern": {
             "fillmode": "overlay",
             "size": 10,
             "solidity": 0.2
            },
            "type": "scatter"
           }
          ],
          "scatter3d": [
           {
            "line": {
             "colorbar": {
              "outlinewidth": 0,
              "ticks": ""
             }
            },
            "marker": {
             "colorbar": {
              "outlinewidth": 0,
              "ticks": ""
             }
            },
            "type": "scatter3d"
           }
          ],
          "scattercarpet": [
           {
            "marker": {
             "colorbar": {
              "outlinewidth": 0,
              "ticks": ""
             }
            },
            "type": "scattercarpet"
           }
          ],
          "scattergeo": [
           {
            "marker": {
             "colorbar": {
              "outlinewidth": 0,
              "ticks": ""
             }
            },
            "type": "scattergeo"
           }
          ],
          "scattergl": [
           {
            "marker": {
             "colorbar": {
              "outlinewidth": 0,
              "ticks": ""
             }
            },
            "type": "scattergl"
           }
          ],
          "scattermap": [
           {
            "marker": {
             "colorbar": {
              "outlinewidth": 0,
              "ticks": ""
             }
            },
            "type": "scattermap"
           }
          ],
          "scattermapbox": [
           {
            "marker": {
             "colorbar": {
              "outlinewidth": 0,
              "ticks": ""
             }
            },
            "type": "scattermapbox"
           }
          ],
          "scatterpolar": [
           {
            "marker": {
             "colorbar": {
              "outlinewidth": 0,
              "ticks": ""
             }
            },
            "type": "scatterpolar"
           }
          ],
          "scatterpolargl": [
           {
            "marker": {
             "colorbar": {
              "outlinewidth": 0,
              "ticks": ""
             }
            },
            "type": "scatterpolargl"
           }
          ],
          "scatterternary": [
           {
            "marker": {
             "colorbar": {
              "outlinewidth": 0,
              "ticks": ""
             }
            },
            "type": "scatterternary"
           }
          ],
          "surface": [
           {
            "colorbar": {
             "outlinewidth": 0,
             "ticks": ""
            },
            "colorscale": [
             [
              0,
              "#0d0887"
             ],
             [
              0.1111111111111111,
              "#46039f"
             ],
             [
              0.2222222222222222,
              "#7201a8"
             ],
             [
              0.3333333333333333,
              "#9c179e"
             ],
             [
              0.4444444444444444,
              "#bd3786"
             ],
             [
              0.5555555555555556,
              "#d8576b"
             ],
             [
              0.6666666666666666,
              "#ed7953"
             ],
             [
              0.7777777777777778,
              "#fb9f3a"
             ],
             [
              0.8888888888888888,
              "#fdca26"
             ],
             [
              1,
              "#f0f921"
             ]
            ],
            "type": "surface"
           }
          ],
          "table": [
           {
            "cells": {
             "fill": {
              "color": "#EBF0F8"
             },
             "line": {
              "color": "white"
             }
            },
            "header": {
             "fill": {
              "color": "#C8D4E3"
             },
             "line": {
              "color": "white"
             }
            },
            "type": "table"
           }
          ]
         },
         "layout": {
          "annotationdefaults": {
           "arrowcolor": "#2a3f5f",
           "arrowhead": 0,
           "arrowwidth": 1
          },
          "autotypenumbers": "strict",
          "coloraxis": {
           "colorbar": {
            "outlinewidth": 0,
            "ticks": ""
           }
          },
          "colorscale": {
           "diverging": [
            [
             0,
             "#8e0152"
            ],
            [
             0.1,
             "#c51b7d"
            ],
            [
             0.2,
             "#de77ae"
            ],
            [
             0.3,
             "#f1b6da"
            ],
            [
             0.4,
             "#fde0ef"
            ],
            [
             0.5,
             "#f7f7f7"
            ],
            [
             0.6,
             "#e6f5d0"
            ],
            [
             0.7,
             "#b8e186"
            ],
            [
             0.8,
             "#7fbc41"
            ],
            [
             0.9,
             "#4d9221"
            ],
            [
             1,
             "#276419"
            ]
           ],
           "sequential": [
            [
             0,
             "#0d0887"
            ],
            [
             0.1111111111111111,
             "#46039f"
            ],
            [
             0.2222222222222222,
             "#7201a8"
            ],
            [
             0.3333333333333333,
             "#9c179e"
            ],
            [
             0.4444444444444444,
             "#bd3786"
            ],
            [
             0.5555555555555556,
             "#d8576b"
            ],
            [
             0.6666666666666666,
             "#ed7953"
            ],
            [
             0.7777777777777778,
             "#fb9f3a"
            ],
            [
             0.8888888888888888,
             "#fdca26"
            ],
            [
             1,
             "#f0f921"
            ]
           ],
           "sequentialminus": [
            [
             0,
             "#0d0887"
            ],
            [
             0.1111111111111111,
             "#46039f"
            ],
            [
             0.2222222222222222,
             "#7201a8"
            ],
            [
             0.3333333333333333,
             "#9c179e"
            ],
            [
             0.4444444444444444,
             "#bd3786"
            ],
            [
             0.5555555555555556,
             "#d8576b"
            ],
            [
             0.6666666666666666,
             "#ed7953"
            ],
            [
             0.7777777777777778,
             "#fb9f3a"
            ],
            [
             0.8888888888888888,
             "#fdca26"
            ],
            [
             1,
             "#f0f921"
            ]
           ]
          },
          "colorway": [
           "#636efa",
           "#EF553B",
           "#00cc96",
           "#ab63fa",
           "#FFA15A",
           "#19d3f3",
           "#FF6692",
           "#B6E880",
           "#FF97FF",
           "#FECB52"
          ],
          "font": {
           "color": "#2a3f5f"
          },
          "geo": {
           "bgcolor": "white",
           "lakecolor": "white",
           "landcolor": "#E5ECF6",
           "showlakes": true,
           "showland": true,
           "subunitcolor": "white"
          },
          "hoverlabel": {
           "align": "left"
          },
          "hovermode": "closest",
          "mapbox": {
           "style": "light"
          },
          "paper_bgcolor": "white",
          "plot_bgcolor": "#E5ECF6",
          "polar": {
           "angularaxis": {
            "gridcolor": "white",
            "linecolor": "white",
            "ticks": ""
           },
           "bgcolor": "#E5ECF6",
           "radialaxis": {
            "gridcolor": "white",
            "linecolor": "white",
            "ticks": ""
           }
          },
          "scene": {
           "xaxis": {
            "backgroundcolor": "#E5ECF6",
            "gridcolor": "white",
            "gridwidth": 2,
            "linecolor": "white",
            "showbackground": true,
            "ticks": "",
            "zerolinecolor": "white"
           },
           "yaxis": {
            "backgroundcolor": "#E5ECF6",
            "gridcolor": "white",
            "gridwidth": 2,
            "linecolor": "white",
            "showbackground": true,
            "ticks": "",
            "zerolinecolor": "white"
           },
           "zaxis": {
            "backgroundcolor": "#E5ECF6",
            "gridcolor": "white",
            "gridwidth": 2,
            "linecolor": "white",
            "showbackground": true,
            "ticks": "",
            "zerolinecolor": "white"
           }
          },
          "shapedefaults": {
           "line": {
            "color": "#2a3f5f"
           }
          },
          "ternary": {
           "aaxis": {
            "gridcolor": "white",
            "linecolor": "white",
            "ticks": ""
           },
           "baxis": {
            "gridcolor": "white",
            "linecolor": "white",
            "ticks": ""
           },
           "bgcolor": "#E5ECF6",
           "caxis": {
            "gridcolor": "white",
            "linecolor": "white",
            "ticks": ""
           }
          },
          "title": {
           "x": 0.05
          },
          "xaxis": {
           "automargin": true,
           "gridcolor": "white",
           "linecolor": "white",
           "ticks": "",
           "title": {
            "standoff": 15
           },
           "zerolinecolor": "white",
           "zerolinewidth": 2
          },
          "yaxis": {
           "automargin": true,
           "gridcolor": "white",
           "linecolor": "white",
           "ticks": "",
           "title": {
            "standoff": 15
           },
           "zerolinecolor": "white",
           "zerolinewidth": 2
          }
         }
        },
        "title": {
         "text": "Взаимодействие признаков: Комнаты (RM) vs Уровень населения (LSTAT) vs Цена (MEDV)"
        },
        "xaxis": {
         "anchor": "y",
         "domain": [
          0,
          1
         ],
         "title": {
          "text": "RM"
         }
        },
        "yaxis": {
         "anchor": "x",
         "domain": [
          0,
          1
         ],
         "title": {
          "text": "LSTAT"
         }
        }
       }
      }
     },
     "metadata": {},
     "output_type": "display_data"
    }
   ],
   "source": [
    "# Анализ взаимодействия признаков с помощью heatmap\n",
    "# px.density_heatmap: создает 2D density heatmap\n",
    "# x, y: данные для осей X и Y\n",
    "# z: данные для агрегации (в данном случае - среднее значение)\n",
    "# histfunc='avg': функция агрегации - среднее значение\n",
    "# nbinsx, nbinsy: количество бинов по осям X и Y\n",
    "# color_continuous_scale: цветовая шкала\n",
    "\n",
    "fig = px.density_heatmap(df, \n",
    "                         x='RM', \n",
    "                         y='LSTAT', \n",
    "                         z='MEDV',\n",
    "                         title='Взаимодействие признаков: Комнаты (RM) vs Уровень населения (LSTAT) vs Цена (MEDV)',\n",
    "                         histfunc='avg',\n",
    "                         nbinsx=20, \n",
    "                         nbinsy=20,\n",
    "                         color_continuous_scale='viridis')\n",
    "fig.show()"
   ]
  },
  {
   "cell_type": "code",
   "execution_count": null,
   "id": "e4dbbf39",
   "metadata": {},
   "outputs": [
    {
     "name": "stdout",
     "output_type": "stream",
     "text": [
      "============================================================\n",
      "ФИНАЛЬНЫЙ ОТЧЕТ АНАЛИЗА BOSTON HOUSING DATASET\n",
      "============================================================\n",
      "\n",
      "1. ОСНОВНАЯ ИНФОРМАЦИЯ:\n",
      "   • Размер датасета: 505 записей, 15 признаков\n",
      "   • Диапазон цен: $5.0k - $50.0k\n",
      "   • Средняя цена: $22.5k\n",
      "   • Пропущенные значения: 0 (отсутствуют)\n",
      "\n",
      "2. САМЫЕ ВЛИЯТЕЛЬНЫЕ ФАКТОРЫ НА ЦЕНУ:\n",
      "   1. LSTAT: -0.738 (сильная отрицательная корреляция)\n",
      "   2. RM: 0.695 (сильная положительная корреляция)\n",
      "   3. PTRATIO: -0.508 (сильная отрицательная корреляция)\n",
      "   4. INDUS: -0.484 (умеренная отрицательная корреляция)\n",
      "   5. TAX: -0.469 (умеренная отрицательная корреляция)\n",
      "\n",
      "3. КЛЮЧЕВЫЕ ИНСАЙТЫ:\n",
      "   • LSTAT (% населения низкого статуса): сильная отрицательная корреляция (-0.74)\n",
      "   • RM (среднее количество комнат): сильная положительная корреляция (0.70)\n",
      "   • PTRATIO (соотношение учеников/учителей): умеренная отрицательная корреляция\n",
      "   • Выбросы обнаружены в признаках: CRIM, ZN, B\n",
      "   • Цены распределены нормально с небольшим правым хвостом\n",
      "\n",
      "4. РЕКОМЕНДАЦИИ ДЛЯ ДАЛЬНЕЙШЕГО АНАЛИЗА:\n",
      "   • Исследовать природу выбросов в CRIM, ZN, B\n",
      "   • Построить predictive model используя RM, LSTAT, PTRATIO как ключевые признаки\n",
      "   • Проверить мультиколлинеарность между признаками\n",
      "   • Рассмотреть логарифмическое преобразование для признаков с выбросами\n"
     ]
    }
   ],
   "source": [
    "# Финальный отчет с ключевыми инсайтами\n",
    "print(\"=\"*60)\n",
    "print(\"ФИНАЛЬНЫЙ ОТЧЕТ АНАЛИЗА BOSTON HOUSING DATASET\")\n",
    "print(\"=\"*60)\n",
    "\n",
    "print(f\"\\n1. ОСНОВНАЯ ИНФОРМАЦИЯ:\")\n",
    "print(f\"   • Размер датасета: {df.shape[0]} записей, {df.shape[1]} признаков\")\n",
    "print(f\"   • Диапазон цен: ${df['MEDV'].min():.1f}k - ${df['MEDV'].max():.1f}k\")\n",
    "print(f\"   • Средняя цена: ${df['MEDV'].mean():.1f}k\")\n",
    "print(f\"   • Пропущенные значения: {df.isnull().sum().sum()} (отсутствуют)\")\n",
    "\n",
    "print(f\"\\n2. САМЫЕ ВЛИЯТЕЛЬНЫЕ ФАКТОРЫ НА ЦЕНУ:\")\n",
    "\n",
    "for i, feature in enumerate(top_abs, 1):\n",
    "    corr = target_correlation[feature]\n",
    "    correlation_type = \"положительная\" if corr > 0 else \"отрицательная\"\n",
    "    strength = \"сильная\" if abs(corr) > 0.5 else \"умеренная\" if abs(corr) > 0.3 else \"слабая\"\n",
    "    print(f\"   {i}. {feature}: {corr:.3f} ({strength} {correlation_type} корреляция)\")\n",
    "\n",
    "#for i, (feature, corr) in enumerate(list(abs_correlation.items())[:6], 1):\n",
    "#    correlation_type = \"положительная\" if corr > 0 else \"отрицательная\"\n",
    "#    print(f\"   {i}. {feature}: {corr:.3f} ({correlation_type} корреляция)\")\n",
    "#\n",
    "#for i, feature in enumerate(list(abs_correlation.items())[:5], 1):\n",
    "#    corr = target_correlation[feature]\n",
    "#    correlation_type = \"положительная\" if corr > 0 else \"отрицательная\"\n",
    "#    strength = \"сильная\" if abs(corr) > 0.5 else \"умеренная\" if abs(corr) > 0.3 else \"слабая\"\n",
    "#    print(f\"   {i}. {feature}: {corr:.3f} ({strength} {correlation_type} корреляция)\")\n",
    "\n",
    "#for i, (feature, corr) in enumerate(list(target_correlation.items())[:6], 1):\n",
    "#    correlation_type = \"положительная\" if corr > 0 else \"отрицательная\"\n",
    "#    print(f\"   {i}. {feature}: {corr:.3f} ({correlation_type} корреляция)\")\n",
    "\n",
    "print(f\"\\n3. КЛЮЧЕВЫЕ ИНСАЙТЫ:\")\n",
    "print(\"   • LSTAT (% населения низкого статуса): сильная отрицательная корреляция (-0.74)\")\n",
    "print(\"   • RM (среднее количество комнат): сильная положительная корреляция (0.70)\")\n",
    "print(\"   • PTRATIO (соотношение учеников/учителей): умеренная отрицательная корреляция\")\n",
    "print(\"   • Выбросы обнаружены в признаках: CRIM, ZN, B\")\n",
    "print(\"   • Цены распределены нормально с небольшим правым хвостом\")\n",
    "\n",
    "print(f\"\\n4. РЕКОМЕНДАЦИИ ДЛЯ ДАЛЬНЕЙШЕГО АНАЛИЗА:\")\n",
    "print(\"   • Исследовать природу выбросов в CRIM, ZN, B\")\n",
    "print(\"   • Построить predictive model используя RM, LSTAT, PTRATIO как ключевые признаки\")\n",
    "print(\"   • Проверить мультиколлинеарность между признаками\")\n",
    "print(\"   • Рассмотреть логарифмическое преобразование для признаков с выбросами\")"
   ]
  }
 ],
 "metadata": {
  "kernelspec": {
   "display_name": "Python 3",
   "language": "python",
   "name": "python3"
  },
  "language_info": {
   "codemirror_mode": {
    "name": "ipython",
    "version": 3
   },
   "file_extension": ".py",
   "mimetype": "text/x-python",
   "name": "python",
   "nbconvert_exporter": "python",
   "pygments_lexer": "ipython3",
   "version": "3.13.7"
  }
 },
 "nbformat": 4,
 "nbformat_minor": 5
}
