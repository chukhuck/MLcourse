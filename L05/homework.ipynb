{
 "cells": [
  {
   "cell_type": "code",
   "execution_count": 93,
   "id": "cd233442",
   "metadata": {},
   "outputs": [
    {
     "name": "stdout",
     "output_type": "stream",
     "text": [
      "Размер датасета (строки, колонки): (506, 14)\n",
      "\n",
      "Первые 5 строк датасета:\n"
     ]
    },
    {
     "data": {
      "text/html": [
       "<div>\n",
       "<style scoped>\n",
       "    .dataframe tbody tr th:only-of-type {\n",
       "        vertical-align: middle;\n",
       "    }\n",
       "\n",
       "    .dataframe tbody tr th {\n",
       "        vertical-align: top;\n",
       "    }\n",
       "\n",
       "    .dataframe thead th {\n",
       "        text-align: right;\n",
       "    }\n",
       "</style>\n",
       "<table border=\"1\" class=\"dataframe\">\n",
       "  <thead>\n",
       "    <tr style=\"text-align: right;\">\n",
       "      <th></th>\n",
       "      <th>0</th>\n",
       "      <th>1</th>\n",
       "      <th>2</th>\n",
       "      <th>3</th>\n",
       "      <th>4</th>\n",
       "      <th>5</th>\n",
       "      <th>6</th>\n",
       "      <th>7</th>\n",
       "      <th>8</th>\n",
       "      <th>9</th>\n",
       "      <th>10</th>\n",
       "      <th>11</th>\n",
       "      <th>12</th>\n",
       "      <th>13</th>\n",
       "    </tr>\n",
       "  </thead>\n",
       "  <tbody>\n",
       "    <tr>\n",
       "      <th>0</th>\n",
       "      <td>0.00632</td>\n",
       "      <td>18.0</td>\n",
       "      <td>2.31</td>\n",
       "      <td>0</td>\n",
       "      <td>0.538</td>\n",
       "      <td>6.575</td>\n",
       "      <td>65.2</td>\n",
       "      <td>4.0900</td>\n",
       "      <td>1</td>\n",
       "      <td>296.0</td>\n",
       "      <td>15.3</td>\n",
       "      <td>396.90</td>\n",
       "      <td>4.98</td>\n",
       "      <td>24.0</td>\n",
       "    </tr>\n",
       "    <tr>\n",
       "      <th>1</th>\n",
       "      <td>0.02731</td>\n",
       "      <td>0.0</td>\n",
       "      <td>7.07</td>\n",
       "      <td>0</td>\n",
       "      <td>0.469</td>\n",
       "      <td>6.421</td>\n",
       "      <td>78.9</td>\n",
       "      <td>4.9671</td>\n",
       "      <td>2</td>\n",
       "      <td>242.0</td>\n",
       "      <td>17.8</td>\n",
       "      <td>396.90</td>\n",
       "      <td>9.14</td>\n",
       "      <td>21.6</td>\n",
       "    </tr>\n",
       "    <tr>\n",
       "      <th>2</th>\n",
       "      <td>0.02729</td>\n",
       "      <td>0.0</td>\n",
       "      <td>7.07</td>\n",
       "      <td>0</td>\n",
       "      <td>0.469</td>\n",
       "      <td>7.185</td>\n",
       "      <td>61.1</td>\n",
       "      <td>4.9671</td>\n",
       "      <td>2</td>\n",
       "      <td>242.0</td>\n",
       "      <td>17.8</td>\n",
       "      <td>392.83</td>\n",
       "      <td>4.03</td>\n",
       "      <td>34.7</td>\n",
       "    </tr>\n",
       "    <tr>\n",
       "      <th>3</th>\n",
       "      <td>0.03237</td>\n",
       "      <td>0.0</td>\n",
       "      <td>2.18</td>\n",
       "      <td>0</td>\n",
       "      <td>0.458</td>\n",
       "      <td>6.998</td>\n",
       "      <td>45.8</td>\n",
       "      <td>6.0622</td>\n",
       "      <td>3</td>\n",
       "      <td>222.0</td>\n",
       "      <td>18.7</td>\n",
       "      <td>394.63</td>\n",
       "      <td>2.94</td>\n",
       "      <td>33.4</td>\n",
       "    </tr>\n",
       "    <tr>\n",
       "      <th>4</th>\n",
       "      <td>0.06905</td>\n",
       "      <td>0.0</td>\n",
       "      <td>2.18</td>\n",
       "      <td>0</td>\n",
       "      <td>0.458</td>\n",
       "      <td>7.147</td>\n",
       "      <td>54.2</td>\n",
       "      <td>6.0622</td>\n",
       "      <td>3</td>\n",
       "      <td>222.0</td>\n",
       "      <td>18.7</td>\n",
       "      <td>396.90</td>\n",
       "      <td>5.33</td>\n",
       "      <td>36.2</td>\n",
       "    </tr>\n",
       "  </tbody>\n",
       "</table>\n",
       "</div>"
      ],
      "text/plain": [
       "        0     1     2   3      4      5     6       7   8      9     10  \\\n",
       "0  0.00632  18.0  2.31   0  0.538  6.575  65.2  4.0900   1  296.0  15.3   \n",
       "1  0.02731   0.0  7.07   0  0.469  6.421  78.9  4.9671   2  242.0  17.8   \n",
       "2  0.02729   0.0  7.07   0  0.469  7.185  61.1  4.9671   2  242.0  17.8   \n",
       "3  0.03237   0.0  2.18   0  0.458  6.998  45.8  6.0622   3  222.0  18.7   \n",
       "4  0.06905   0.0  2.18   0  0.458  7.147  54.2  6.0622   3  222.0  18.7   \n",
       "\n",
       "       11    12    13  \n",
       "0  396.90  4.98  24.0  \n",
       "1  396.90  9.14  21.6  \n",
       "2  392.83  4.03  34.7  \n",
       "3  394.63  2.94  33.4  \n",
       "4  396.90  5.33  36.2  "
      ]
     },
     "execution_count": 93,
     "metadata": {},
     "output_type": "execute_result"
    }
   ],
   "source": [
    "\n",
    "\n",
    "import numpy as np  \n",
    "import pandas as pd  \n",
    "import seaborn as sns\n",
    "import matplotlib.pyplot as plt\n",
    "from scipy import stats\n",
    "import plotly.express as px  # Для создания интерактивных визуализаций\n",
    "import plotly.graph_objects as go  # Для кастомных графиков\n",
    "from plotly.subplots import make_subplots  # Для создания subplots\n",
    "import warnings  # Для управления предупреждениями\n",
    "warnings.filterwarnings('ignore')  # Игнорировать предупреждения для чистоты вывода\n",
    "\n",
    "# Загрузка датасета из CSV файла\n",
    "# header=0: первая строка содержит названия колонок\n",
    "# delim_whitespace=True: данные разделены пробелами (для оригинального Boston Housing формата)\n",
    "\n",
    "df = pd.read_csv('housing.csv', delim_whitespace=True, header=None)\n",
    "\n",
    "\n",
    "# Проверим структуру данных\n",
    "print(\"Размер датасета (строки, колонки):\", df.shape)\n",
    "print(\"\\nПервые 5 строк датасета:\")\n",
    "df.head()  # Показываем первые 5 строк для ознакомления с данными"
   ]
  },
  {
   "cell_type": "code",
   "execution_count": 94,
   "id": "25506b4e",
   "metadata": {},
   "outputs": [
    {
     "name": "stdout",
     "output_type": "stream",
     "text": [
      "Названия колонок:\n",
      "['CRIM', 'ZN', 'INDUS', 'CHAS', 'NOX', 'RM', 'AGE', 'DIS', 'RAD', 'TAX', 'PTRATIO', 'B', 'LSTAT', 'MEDV']\n",
      "\n",
      "Информация о датасете:\n",
      "<class 'pandas.core.frame.DataFrame'>\n",
      "RangeIndex: 506 entries, 0 to 505\n",
      "Data columns (total 14 columns):\n",
      " #   Column   Non-Null Count  Dtype  \n",
      "---  ------   --------------  -----  \n",
      " 0   CRIM     506 non-null    float64\n",
      " 1   ZN       506 non-null    float64\n",
      " 2   INDUS    506 non-null    float64\n",
      " 3   CHAS     506 non-null    int64  \n",
      " 4   NOX      506 non-null    float64\n",
      " 5   RM       506 non-null    float64\n",
      " 6   AGE      506 non-null    float64\n",
      " 7   DIS      506 non-null    float64\n",
      " 8   RAD      506 non-null    int64  \n",
      " 9   TAX      506 non-null    float64\n",
      " 10  PTRATIO  506 non-null    float64\n",
      " 11  B        506 non-null    float64\n",
      " 12  LSTAT    506 non-null    float64\n",
      " 13  MEDV     506 non-null    float64\n",
      "dtypes: float64(12), int64(2)\n",
      "memory usage: 55.5 KB\n"
     ]
    }
   ],
   "source": [
    "# Переименуем колонки согласно описанию Boston Housing Dataset\n",
    "# CRIM: уровень преступности на душу населения по городам\n",
    "# ZN: доля жилой земли, отведенной под участки более 25,000 кв.футов\n",
    "# INDUS: доля акров неторгового бизнеса на город\n",
    "# CHAS: фиктивная переменная Чарльз-Ривер (1 если участок примыкает к реке, 0 если нет)\n",
    "# NOX: концентрация оксидов азота (частей на 10 миллионов)\n",
    "# RM: среднее количество комнат на жилище\n",
    "# AGE: доля owner-occupied units, построенных до 1940 года\n",
    "# DIS: взвешенное расстояние до пяти бостонских центров занятости\n",
    "# RAD: индекс доступности к радиальным магистралям\n",
    "# TAX: полная ставка налога на имущество за $10,000\n",
    "# PTRATIO: соотношение учеников и учителей по городам\n",
    "# B: 1000(Bk - 0.63)^2, где Bk - доля чернокожего населения по городам\n",
    "# LSTAT: % населения с низким статусом\n",
    "# MEDV: Median value of owner-occupied homes in $1000's (целевая переменная)\n",
    "\n",
    "column_names = [\n",
    "    'CRIM', 'ZN', 'INDUS', 'CHAS', 'NOX', 'RM', 'AGE', \n",
    "    'DIS', 'RAD', 'TAX', 'PTRATIO', 'B', 'LSTAT', 'MEDV'\n",
    "]\n",
    "\n",
    "\n",
    "df.columns = column_names\n",
    "\n",
    "\n",
    "print(\"Названия колонок:\")\n",
    "print(df.columns.tolist())\n",
    "print(\"\\nИнформация о датасете:\")\n",
    "df.info()  # Показываем информацию о типах данных и наличии пропусков"
   ]
  },
  {
   "cell_type": "code",
   "execution_count": 95,
   "id": "dc669700",
   "metadata": {},
   "outputs": [
    {
     "name": "stdout",
     "output_type": "stream",
     "text": [
      "Пропущенные значения в каждой колонке:\n",
      "CRIM       0\n",
      "ZN         0\n",
      "INDUS      0\n",
      "CHAS       0\n",
      "NOX        0\n",
      "RM         0\n",
      "AGE        0\n",
      "DIS        0\n",
      "RAD        0\n",
      "TAX        0\n",
      "PTRATIO    0\n",
      "B          0\n",
      "LSTAT      0\n",
      "MEDV       0\n",
      "dtype: int64\n",
      "\n",
      "Статистическое описание данных:\n"
     ]
    },
    {
     "data": {
      "text/html": [
       "<div>\n",
       "<style scoped>\n",
       "    .dataframe tbody tr th:only-of-type {\n",
       "        vertical-align: middle;\n",
       "    }\n",
       "\n",
       "    .dataframe tbody tr th {\n",
       "        vertical-align: top;\n",
       "    }\n",
       "\n",
       "    .dataframe thead th {\n",
       "        text-align: right;\n",
       "    }\n",
       "</style>\n",
       "<table border=\"1\" class=\"dataframe\">\n",
       "  <thead>\n",
       "    <tr style=\"text-align: right;\">\n",
       "      <th></th>\n",
       "      <th>CRIM</th>\n",
       "      <th>ZN</th>\n",
       "      <th>INDUS</th>\n",
       "      <th>CHAS</th>\n",
       "      <th>NOX</th>\n",
       "      <th>RM</th>\n",
       "      <th>AGE</th>\n",
       "      <th>DIS</th>\n",
       "      <th>RAD</th>\n",
       "      <th>TAX</th>\n",
       "      <th>PTRATIO</th>\n",
       "      <th>B</th>\n",
       "      <th>LSTAT</th>\n",
       "      <th>MEDV</th>\n",
       "    </tr>\n",
       "  </thead>\n",
       "  <tbody>\n",
       "    <tr>\n",
       "      <th>count</th>\n",
       "      <td>506.00</td>\n",
       "      <td>506.00</td>\n",
       "      <td>506.00</td>\n",
       "      <td>506.00</td>\n",
       "      <td>506.00</td>\n",
       "      <td>506.00</td>\n",
       "      <td>506.00</td>\n",
       "      <td>506.00</td>\n",
       "      <td>506.00</td>\n",
       "      <td>506.00</td>\n",
       "      <td>506.00</td>\n",
       "      <td>506.00</td>\n",
       "      <td>506.00</td>\n",
       "      <td>506.00</td>\n",
       "    </tr>\n",
       "    <tr>\n",
       "      <th>mean</th>\n",
       "      <td>3.61</td>\n",
       "      <td>11.36</td>\n",
       "      <td>11.14</td>\n",
       "      <td>0.07</td>\n",
       "      <td>0.55</td>\n",
       "      <td>6.28</td>\n",
       "      <td>68.57</td>\n",
       "      <td>3.80</td>\n",
       "      <td>9.55</td>\n",
       "      <td>408.24</td>\n",
       "      <td>18.46</td>\n",
       "      <td>356.67</td>\n",
       "      <td>12.65</td>\n",
       "      <td>22.53</td>\n",
       "    </tr>\n",
       "    <tr>\n",
       "      <th>std</th>\n",
       "      <td>8.60</td>\n",
       "      <td>23.32</td>\n",
       "      <td>6.86</td>\n",
       "      <td>0.25</td>\n",
       "      <td>0.12</td>\n",
       "      <td>0.70</td>\n",
       "      <td>28.15</td>\n",
       "      <td>2.11</td>\n",
       "      <td>8.71</td>\n",
       "      <td>168.54</td>\n",
       "      <td>2.16</td>\n",
       "      <td>91.29</td>\n",
       "      <td>7.14</td>\n",
       "      <td>9.20</td>\n",
       "    </tr>\n",
       "    <tr>\n",
       "      <th>min</th>\n",
       "      <td>0.01</td>\n",
       "      <td>0.00</td>\n",
       "      <td>0.46</td>\n",
       "      <td>0.00</td>\n",
       "      <td>0.38</td>\n",
       "      <td>3.56</td>\n",
       "      <td>2.90</td>\n",
       "      <td>1.13</td>\n",
       "      <td>1.00</td>\n",
       "      <td>187.00</td>\n",
       "      <td>12.60</td>\n",
       "      <td>0.32</td>\n",
       "      <td>1.73</td>\n",
       "      <td>5.00</td>\n",
       "    </tr>\n",
       "    <tr>\n",
       "      <th>25%</th>\n",
       "      <td>0.08</td>\n",
       "      <td>0.00</td>\n",
       "      <td>5.19</td>\n",
       "      <td>0.00</td>\n",
       "      <td>0.45</td>\n",
       "      <td>5.89</td>\n",
       "      <td>45.02</td>\n",
       "      <td>2.10</td>\n",
       "      <td>4.00</td>\n",
       "      <td>279.00</td>\n",
       "      <td>17.40</td>\n",
       "      <td>375.38</td>\n",
       "      <td>6.95</td>\n",
       "      <td>17.02</td>\n",
       "    </tr>\n",
       "    <tr>\n",
       "      <th>50%</th>\n",
       "      <td>0.26</td>\n",
       "      <td>0.00</td>\n",
       "      <td>9.69</td>\n",
       "      <td>0.00</td>\n",
       "      <td>0.54</td>\n",
       "      <td>6.21</td>\n",
       "      <td>77.50</td>\n",
       "      <td>3.21</td>\n",
       "      <td>5.00</td>\n",
       "      <td>330.00</td>\n",
       "      <td>19.05</td>\n",
       "      <td>391.44</td>\n",
       "      <td>11.36</td>\n",
       "      <td>21.20</td>\n",
       "    </tr>\n",
       "    <tr>\n",
       "      <th>75%</th>\n",
       "      <td>3.68</td>\n",
       "      <td>12.50</td>\n",
       "      <td>18.10</td>\n",
       "      <td>0.00</td>\n",
       "      <td>0.62</td>\n",
       "      <td>6.62</td>\n",
       "      <td>94.07</td>\n",
       "      <td>5.19</td>\n",
       "      <td>24.00</td>\n",
       "      <td>666.00</td>\n",
       "      <td>20.20</td>\n",
       "      <td>396.22</td>\n",
       "      <td>16.96</td>\n",
       "      <td>25.00</td>\n",
       "    </tr>\n",
       "    <tr>\n",
       "      <th>max</th>\n",
       "      <td>88.98</td>\n",
       "      <td>100.00</td>\n",
       "      <td>27.74</td>\n",
       "      <td>1.00</td>\n",
       "      <td>0.87</td>\n",
       "      <td>8.78</td>\n",
       "      <td>100.00</td>\n",
       "      <td>12.13</td>\n",
       "      <td>24.00</td>\n",
       "      <td>711.00</td>\n",
       "      <td>22.00</td>\n",
       "      <td>396.90</td>\n",
       "      <td>37.97</td>\n",
       "      <td>50.00</td>\n",
       "    </tr>\n",
       "  </tbody>\n",
       "</table>\n",
       "</div>"
      ],
      "text/plain": [
       "         CRIM      ZN   INDUS    CHAS     NOX      RM     AGE     DIS     RAD  \\\n",
       "count  506.00  506.00  506.00  506.00  506.00  506.00  506.00  506.00  506.00   \n",
       "mean     3.61   11.36   11.14    0.07    0.55    6.28   68.57    3.80    9.55   \n",
       "std      8.60   23.32    6.86    0.25    0.12    0.70   28.15    2.11    8.71   \n",
       "min      0.01    0.00    0.46    0.00    0.38    3.56    2.90    1.13    1.00   \n",
       "25%      0.08    0.00    5.19    0.00    0.45    5.89   45.02    2.10    4.00   \n",
       "50%      0.26    0.00    9.69    0.00    0.54    6.21   77.50    3.21    5.00   \n",
       "75%      3.68   12.50   18.10    0.00    0.62    6.62   94.07    5.19   24.00   \n",
       "max     88.98  100.00   27.74    1.00    0.87    8.78  100.00   12.13   24.00   \n",
       "\n",
       "          TAX  PTRATIO       B   LSTAT    MEDV  \n",
       "count  506.00   506.00  506.00  506.00  506.00  \n",
       "mean   408.24    18.46  356.67   12.65   22.53  \n",
       "std    168.54     2.16   91.29    7.14    9.20  \n",
       "min    187.00    12.60    0.32    1.73    5.00  \n",
       "25%    279.00    17.40  375.38    6.95   17.02  \n",
       "50%    330.00    19.05  391.44   11.36   21.20  \n",
       "75%    666.00    20.20  396.22   16.96   25.00  \n",
       "max    711.00    22.00  396.90   37.97   50.00  "
      ]
     },
     "execution_count": 95,
     "metadata": {},
     "output_type": "execute_result"
    }
   ],
   "source": [
    "# Проверка на пропущенные значения\n",
    "# isnull(): возвращает булеву маску где True означает пропущенное значение\n",
    "# sum(): суммирует True значения (1) по каждой колонке\n",
    "missing_values = df.isnull().sum()\n",
    "print(\"Пропущенные значения в каждой колонке:\")\n",
    "print(missing_values)\n",
    "\n",
    "# Базовая статистика данных\n",
    "# describe(): генерирует описательную статистику для числовых колонок\n",
    "# round(2): округляет значения до 2 десятичных знаков\n",
    "print(\"\\nСтатистическое описание данных:\")\n",
    "df.describe().round(2)"
   ]
  },
  {
   "cell_type": "code",
   "execution_count": 96,
   "id": "d803c34c",
   "metadata": {},
   "outputs": [
    {
     "data": {
      "application/vnd.plotly.v1+json": {
       "config": {
        "plotlyServerURL": "https://plot.ly"
       },
       "data": [
        {
         "bingroup": "x",
         "hovertemplate": "Медианная цена ($1000s)=%{x}<br>count=%{y}<extra></extra>",
         "legendgroup": "",
         "marker": {
          "color": "#636efa",
          "pattern": {
           "shape": ""
          }
         },
         "name": "",
         "nbinsx": 30,
         "orientation": "v",
         "showlegend": false,
         "type": "histogram",
         "x": {
          "bdata": "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",
          "dtype": "f8"
         },
         "xaxis": "x",
         "yaxis": "y"
        }
       ],
       "layout": {
        "bargap": 0.1,
        "barmode": "relative",
        "legend": {
         "tracegroupgap": 0
        },
        "template": {
         "data": {
          "bar": [
           {
            "error_x": {
             "color": "#2a3f5f"
            },
            "error_y": {
             "color": "#2a3f5f"
            },
            "marker": {
             "line": {
              "color": "white",
              "width": 0.5
             },
             "pattern": {
              "fillmode": "overlay",
              "size": 10,
              "solidity": 0.2
             }
            },
            "type": "bar"
           }
          ],
          "barpolar": [
           {
            "marker": {
             "line": {
              "color": "white",
              "width": 0.5
             },
             "pattern": {
              "fillmode": "overlay",
              "size": 10,
              "solidity": 0.2
             }
            },
            "type": "barpolar"
           }
          ],
          "carpet": [
           {
            "aaxis": {
             "endlinecolor": "#2a3f5f",
             "gridcolor": "#C8D4E3",
             "linecolor": "#C8D4E3",
             "minorgridcolor": "#C8D4E3",
             "startlinecolor": "#2a3f5f"
            },
            "baxis": {
             "endlinecolor": "#2a3f5f",
             "gridcolor": "#C8D4E3",
             "linecolor": "#C8D4E3",
             "minorgridcolor": "#C8D4E3",
             "startlinecolor": "#2a3f5f"
            },
            "type": "carpet"
           }
          ],
          "choropleth": [
           {
            "colorbar": {
             "outlinewidth": 0,
             "ticks": ""
            },
            "type": "choropleth"
           }
          ],
          "contour": [
           {
            "colorbar": {
             "outlinewidth": 0,
             "ticks": ""
            },
            "colorscale": [
             [
              0,
              "#0d0887"
             ],
             [
              0.1111111111111111,
              "#46039f"
             ],
             [
              0.2222222222222222,
              "#7201a8"
             ],
             [
              0.3333333333333333,
              "#9c179e"
             ],
             [
              0.4444444444444444,
              "#bd3786"
             ],
             [
              0.5555555555555556,
              "#d8576b"
             ],
             [
              0.6666666666666666,
              "#ed7953"
             ],
             [
              0.7777777777777778,
              "#fb9f3a"
             ],
             [
              0.8888888888888888,
              "#fdca26"
             ],
             [
              1,
              "#f0f921"
             ]
            ],
            "type": "contour"
           }
          ],
          "contourcarpet": [
           {
            "colorbar": {
             "outlinewidth": 0,
             "ticks": ""
            },
            "type": "contourcarpet"
           }
          ],
          "heatmap": [
           {
            "colorbar": {
             "outlinewidth": 0,
             "ticks": ""
            },
            "colorscale": [
             [
              0,
              "#0d0887"
             ],
             [
              0.1111111111111111,
              "#46039f"
             ],
             [
              0.2222222222222222,
              "#7201a8"
             ],
             [
              0.3333333333333333,
              "#9c179e"
             ],
             [
              0.4444444444444444,
              "#bd3786"
             ],
             [
              0.5555555555555556,
              "#d8576b"
             ],
             [
              0.6666666666666666,
              "#ed7953"
             ],
             [
              0.7777777777777778,
              "#fb9f3a"
             ],
             [
              0.8888888888888888,
              "#fdca26"
             ],
             [
              1,
              "#f0f921"
             ]
            ],
            "type": "heatmap"
           }
          ],
          "histogram": [
           {
            "marker": {
             "pattern": {
              "fillmode": "overlay",
              "size": 10,
              "solidity": 0.2
             }
            },
            "type": "histogram"
           }
          ],
          "histogram2d": [
           {
            "colorbar": {
             "outlinewidth": 0,
             "ticks": ""
            },
            "colorscale": [
             [
              0,
              "#0d0887"
             ],
             [
              0.1111111111111111,
              "#46039f"
             ],
             [
              0.2222222222222222,
              "#7201a8"
             ],
             [
              0.3333333333333333,
              "#9c179e"
             ],
             [
              0.4444444444444444,
              "#bd3786"
             ],
             [
              0.5555555555555556,
              "#d8576b"
             ],
             [
              0.6666666666666666,
              "#ed7953"
             ],
             [
              0.7777777777777778,
              "#fb9f3a"
             ],
             [
              0.8888888888888888,
              "#fdca26"
             ],
             [
              1,
              "#f0f921"
             ]
            ],
            "type": "histogram2d"
           }
          ],
          "histogram2dcontour": [
           {
            "colorbar": {
             "outlinewidth": 0,
             "ticks": ""
            },
            "colorscale": [
             [
              0,
              "#0d0887"
             ],
             [
              0.1111111111111111,
              "#46039f"
             ],
             [
              0.2222222222222222,
              "#7201a8"
             ],
             [
              0.3333333333333333,
              "#9c179e"
             ],
             [
              0.4444444444444444,
              "#bd3786"
             ],
             [
              0.5555555555555556,
              "#d8576b"
             ],
             [
              0.6666666666666666,
              "#ed7953"
             ],
             [
              0.7777777777777778,
              "#fb9f3a"
             ],
             [
              0.8888888888888888,
              "#fdca26"
             ],
             [
              1,
              "#f0f921"
             ]
            ],
            "type": "histogram2dcontour"
           }
          ],
          "mesh3d": [
           {
            "colorbar": {
             "outlinewidth": 0,
             "ticks": ""
            },
            "type": "mesh3d"
           }
          ],
          "parcoords": [
           {
            "line": {
             "colorbar": {
              "outlinewidth": 0,
              "ticks": ""
             }
            },
            "type": "parcoords"
           }
          ],
          "pie": [
           {
            "automargin": true,
            "type": "pie"
           }
          ],
          "scatter": [
           {
            "fillpattern": {
             "fillmode": "overlay",
             "size": 10,
             "solidity": 0.2
            },
            "type": "scatter"
           }
          ],
          "scatter3d": [
           {
            "line": {
             "colorbar": {
              "outlinewidth": 0,
              "ticks": ""
             }
            },
            "marker": {
             "colorbar": {
              "outlinewidth": 0,
              "ticks": ""
             }
            },
            "type": "scatter3d"
           }
          ],
          "scattercarpet": [
           {
            "marker": {
             "colorbar": {
              "outlinewidth": 0,
              "ticks": ""
             }
            },
            "type": "scattercarpet"
           }
          ],
          "scattergeo": [
           {
            "marker": {
             "colorbar": {
              "outlinewidth": 0,
              "ticks": ""
             }
            },
            "type": "scattergeo"
           }
          ],
          "scattergl": [
           {
            "marker": {
             "colorbar": {
              "outlinewidth": 0,
              "ticks": ""
             }
            },
            "type": "scattergl"
           }
          ],
          "scattermap": [
           {
            "marker": {
             "colorbar": {
              "outlinewidth": 0,
              "ticks": ""
             }
            },
            "type": "scattermap"
           }
          ],
          "scattermapbox": [
           {
            "marker": {
             "colorbar": {
              "outlinewidth": 0,
              "ticks": ""
             }
            },
            "type": "scattermapbox"
           }
          ],
          "scatterpolar": [
           {
            "marker": {
             "colorbar": {
              "outlinewidth": 0,
              "ticks": ""
             }
            },
            "type": "scatterpolar"
           }
          ],
          "scatterpolargl": [
           {
            "marker": {
             "colorbar": {
              "outlinewidth": 0,
              "ticks": ""
             }
            },
            "type": "scatterpolargl"
           }
          ],
          "scatterternary": [
           {
            "marker": {
             "colorbar": {
              "outlinewidth": 0,
              "ticks": ""
             }
            },
            "type": "scatterternary"
           }
          ],
          "surface": [
           {
            "colorbar": {
             "outlinewidth": 0,
             "ticks": ""
            },
            "colorscale": [
             [
              0,
              "#0d0887"
             ],
             [
              0.1111111111111111,
              "#46039f"
             ],
             [
              0.2222222222222222,
              "#7201a8"
             ],
             [
              0.3333333333333333,
              "#9c179e"
             ],
             [
              0.4444444444444444,
              "#bd3786"
             ],
             [
              0.5555555555555556,
              "#d8576b"
             ],
             [
              0.6666666666666666,
              "#ed7953"
             ],
             [
              0.7777777777777778,
              "#fb9f3a"
             ],
             [
              0.8888888888888888,
              "#fdca26"
             ],
             [
              1,
              "#f0f921"
             ]
            ],
            "type": "surface"
           }
          ],
          "table": [
           {
            "cells": {
             "fill": {
              "color": "#EBF0F8"
             },
             "line": {
              "color": "white"
             }
            },
            "header": {
             "fill": {
              "color": "#C8D4E3"
             },
             "line": {
              "color": "white"
             }
            },
            "type": "table"
           }
          ]
         },
         "layout": {
          "annotationdefaults": {
           "arrowcolor": "#2a3f5f",
           "arrowhead": 0,
           "arrowwidth": 1
          },
          "autotypenumbers": "strict",
          "coloraxis": {
           "colorbar": {
            "outlinewidth": 0,
            "ticks": ""
           }
          },
          "colorscale": {
           "diverging": [
            [
             0,
             "#8e0152"
            ],
            [
             0.1,
             "#c51b7d"
            ],
            [
             0.2,
             "#de77ae"
            ],
            [
             0.3,
             "#f1b6da"
            ],
            [
             0.4,
             "#fde0ef"
            ],
            [
             0.5,
             "#f7f7f7"
            ],
            [
             0.6,
             "#e6f5d0"
            ],
            [
             0.7,
             "#b8e186"
            ],
            [
             0.8,
             "#7fbc41"
            ],
            [
             0.9,
             "#4d9221"
            ],
            [
             1,
             "#276419"
            ]
           ],
           "sequential": [
            [
             0,
             "#0d0887"
            ],
            [
             0.1111111111111111,
             "#46039f"
            ],
            [
             0.2222222222222222,
             "#7201a8"
            ],
            [
             0.3333333333333333,
             "#9c179e"
            ],
            [
             0.4444444444444444,
             "#bd3786"
            ],
            [
             0.5555555555555556,
             "#d8576b"
            ],
            [
             0.6666666666666666,
             "#ed7953"
            ],
            [
             0.7777777777777778,
             "#fb9f3a"
            ],
            [
             0.8888888888888888,
             "#fdca26"
            ],
            [
             1,
             "#f0f921"
            ]
           ],
           "sequentialminus": [
            [
             0,
             "#0d0887"
            ],
            [
             0.1111111111111111,
             "#46039f"
            ],
            [
             0.2222222222222222,
             "#7201a8"
            ],
            [
             0.3333333333333333,
             "#9c179e"
            ],
            [
             0.4444444444444444,
             "#bd3786"
            ],
            [
             0.5555555555555556,
             "#d8576b"
            ],
            [
             0.6666666666666666,
             "#ed7953"
            ],
            [
             0.7777777777777778,
             "#fb9f3a"
            ],
            [
             0.8888888888888888,
             "#fdca26"
            ],
            [
             1,
             "#f0f921"
            ]
           ]
          },
          "colorway": [
           "#636efa",
           "#EF553B",
           "#00cc96",
           "#ab63fa",
           "#FFA15A",
           "#19d3f3",
           "#FF6692",
           "#B6E880",
           "#FF97FF",
           "#FECB52"
          ],
          "font": {
           "color": "#2a3f5f"
          },
          "geo": {
           "bgcolor": "white",
           "lakecolor": "white",
           "landcolor": "white",
           "showlakes": true,
           "showland": true,
           "subunitcolor": "#C8D4E3"
          },
          "hoverlabel": {
           "align": "left"
          },
          "hovermode": "closest",
          "mapbox": {
           "style": "light"
          },
          "paper_bgcolor": "white",
          "plot_bgcolor": "white",
          "polar": {
           "angularaxis": {
            "gridcolor": "#EBF0F8",
            "linecolor": "#EBF0F8",
            "ticks": ""
           },
           "bgcolor": "white",
           "radialaxis": {
            "gridcolor": "#EBF0F8",
            "linecolor": "#EBF0F8",
            "ticks": ""
           }
          },
          "scene": {
           "xaxis": {
            "backgroundcolor": "white",
            "gridcolor": "#DFE8F3",
            "gridwidth": 2,
            "linecolor": "#EBF0F8",
            "showbackground": true,
            "ticks": "",
            "zerolinecolor": "#EBF0F8"
           },
           "yaxis": {
            "backgroundcolor": "white",
            "gridcolor": "#DFE8F3",
            "gridwidth": 2,
            "linecolor": "#EBF0F8",
            "showbackground": true,
            "ticks": "",
            "zerolinecolor": "#EBF0F8"
           },
           "zaxis": {
            "backgroundcolor": "white",
            "gridcolor": "#DFE8F3",
            "gridwidth": 2,
            "linecolor": "#EBF0F8",
            "showbackground": true,
            "ticks": "",
            "zerolinecolor": "#EBF0F8"
           }
          },
          "shapedefaults": {
           "line": {
            "color": "#2a3f5f"
           }
          },
          "ternary": {
           "aaxis": {
            "gridcolor": "#DFE8F3",
            "linecolor": "#A2B1C6",
            "ticks": ""
           },
           "baxis": {
            "gridcolor": "#DFE8F3",
            "linecolor": "#A2B1C6",
            "ticks": ""
           },
           "bgcolor": "white",
           "caxis": {
            "gridcolor": "#DFE8F3",
            "linecolor": "#A2B1C6",
            "ticks": ""
           }
          },
          "title": {
           "x": 0.05
          },
          "xaxis": {
           "automargin": true,
           "gridcolor": "#EBF0F8",
           "linecolor": "#EBF0F8",
           "ticks": "",
           "title": {
            "standoff": 15
           },
           "zerolinecolor": "#EBF0F8",
           "zerolinewidth": 2
          },
          "yaxis": {
           "automargin": true,
           "gridcolor": "#EBF0F8",
           "linecolor": "#EBF0F8",
           "ticks": "",
           "title": {
            "standoff": 15
           },
           "zerolinecolor": "#EBF0F8",
           "zerolinewidth": 2
          }
         }
        },
        "title": {
         "text": "Распределение цен на жилье в Бостоне (MEDV)"
        },
        "xaxis": {
         "anchor": "y",
         "domain": [
          0,
          1
         ],
         "title": {
          "text": "Медианная цена ($1000s)"
         }
        },
        "yaxis": {
         "anchor": "x",
         "domain": [
          0,
          1
         ],
         "title": {
          "text": "count"
         }
        }
       }
      }
     },
     "metadata": {},
     "output_type": "display_data"
    }
   ],
   "source": [
    "# Анализ распределения целевой переменной (MEDV - цены домов)\n",
    "# px.histogram: создает интерактивную гистограмму\n",
    "# x='MEDV': данные для оси X (цены)\n",
    "# title: заголовок графика\n",
    "# labels: переименовывает подписи осей для лучшей читаемости\n",
    "# nbins=30: количество бинов (столбцов) в гистограмме\n",
    "# template='plotly_white': использует белую тему для лучшей видимости\n",
    "\n",
    "fig = px.histogram(df, \n",
    "                   x='MEDV', \n",
    "                   title='Распределение цен на жилье в Бостоне (MEDV)',\n",
    "                   labels={'MEDV': 'Медианная цена ($1000s)'},\n",
    "                   nbins=30,\n",
    "                   template='plotly_white')\n",
    "fig.update_layout(bargap=0.1)  # bargap: зазор между столбцами\n",
    "fig.show()"
   ]
  },
  {
   "cell_type": "code",
   "execution_count": 97,
   "id": "e775afb3",
   "metadata": {},
   "outputs": [
    {
     "name": "stdout",
     "output_type": "stream",
     "text": [
      "Корреляция признаков с ценой (MEDV):\n",
      "MEDV       1.000000\n",
      "RM         0.695360\n",
      "ZN         0.360445\n",
      "B          0.333461\n",
      "DIS        0.249929\n",
      "CHAS       0.175260\n",
      "AGE       -0.376955\n",
      "RAD       -0.381626\n",
      "CRIM      -0.388305\n",
      "NOX       -0.427321\n",
      "TAX       -0.468536\n",
      "INDUS     -0.483725\n",
      "PTRATIO   -0.507787\n",
      "LSTAT     -0.737663\n",
      "Name: MEDV, dtype: float64\n"
     ]
    },
    {
     "data": {
      "application/vnd.plotly.v1+json": {
       "config": {
        "plotlyServerURL": "https://plot.ly"
       },
       "data": [
        {
         "coloraxis": "coloraxis",
         "hovertemplate": "x: %{x}<br>y: %{y}<br>color: %{z}<extra></extra>",
         "name": "0",
         "texttemplate": "%{z}",
         "type": "heatmap",
         "x": [
          "CRIM",
          "ZN",
          "INDUS",
          "CHAS",
          "NOX",
          "RM",
          "AGE",
          "DIS",
          "RAD",
          "TAX",
          "PTRATIO",
          "B",
          "LSTAT",
          "MEDV"
         ],
         "xaxis": "x",
         "y": [
          "CRIM",
          "ZN",
          "INDUS",
          "CHAS",
          "NOX",
          "RM",
          "AGE",
          "DIS",
          "RAD",
          "TAX",
          "PTRATIO",
          "B",
          "LSTAT",
          "MEDV"
         ],
         "yaxis": "y",
         "z": {
          "bdata": "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",
          "dtype": "f8",
          "shape": "14, 14"
         }
        }
       ],
       "layout": {
        "coloraxis": {
         "colorscale": [
          [
           0,
           "rgb(5,48,97)"
          ],
          [
           0.1,
           "rgb(33,102,172)"
          ],
          [
           0.2,
           "rgb(67,147,195)"
          ],
          [
           0.3,
           "rgb(146,197,222)"
          ],
          [
           0.4,
           "rgb(209,229,240)"
          ],
          [
           0.5,
           "rgb(247,247,247)"
          ],
          [
           0.6,
           "rgb(253,219,199)"
          ],
          [
           0.7,
           "rgb(244,165,130)"
          ],
          [
           0.8,
           "rgb(214,96,77)"
          ],
          [
           0.9,
           "rgb(178,24,43)"
          ],
          [
           1,
           "rgb(103,0,31)"
          ]
         ]
        },
        "height": 800,
        "template": {
         "data": {
          "bar": [
           {
            "error_x": {
             "color": "#2a3f5f"
            },
            "error_y": {
             "color": "#2a3f5f"
            },
            "marker": {
             "line": {
              "color": "#E5ECF6",
              "width": 0.5
             },
             "pattern": {
              "fillmode": "overlay",
              "size": 10,
              "solidity": 0.2
             }
            },
            "type": "bar"
           }
          ],
          "barpolar": [
           {
            "marker": {
             "line": {
              "color": "#E5ECF6",
              "width": 0.5
             },
             "pattern": {
              "fillmode": "overlay",
              "size": 10,
              "solidity": 0.2
             }
            },
            "type": "barpolar"
           }
          ],
          "carpet": [
           {
            "aaxis": {
             "endlinecolor": "#2a3f5f",
             "gridcolor": "white",
             "linecolor": "white",
             "minorgridcolor": "white",
             "startlinecolor": "#2a3f5f"
            },
            "baxis": {
             "endlinecolor": "#2a3f5f",
             "gridcolor": "white",
             "linecolor": "white",
             "minorgridcolor": "white",
             "startlinecolor": "#2a3f5f"
            },
            "type": "carpet"
           }
          ],
          "choropleth": [
           {
            "colorbar": {
             "outlinewidth": 0,
             "ticks": ""
            },
            "type": "choropleth"
           }
          ],
          "contour": [
           {
            "colorbar": {
             "outlinewidth": 0,
             "ticks": ""
            },
            "colorscale": [
             [
              0,
              "#0d0887"
             ],
             [
              0.1111111111111111,
              "#46039f"
             ],
             [
              0.2222222222222222,
              "#7201a8"
             ],
             [
              0.3333333333333333,
              "#9c179e"
             ],
             [
              0.4444444444444444,
              "#bd3786"
             ],
             [
              0.5555555555555556,
              "#d8576b"
             ],
             [
              0.6666666666666666,
              "#ed7953"
             ],
             [
              0.7777777777777778,
              "#fb9f3a"
             ],
             [
              0.8888888888888888,
              "#fdca26"
             ],
             [
              1,
              "#f0f921"
             ]
            ],
            "type": "contour"
           }
          ],
          "contourcarpet": [
           {
            "colorbar": {
             "outlinewidth": 0,
             "ticks": ""
            },
            "type": "contourcarpet"
           }
          ],
          "heatmap": [
           {
            "colorbar": {
             "outlinewidth": 0,
             "ticks": ""
            },
            "colorscale": [
             [
              0,
              "#0d0887"
             ],
             [
              0.1111111111111111,
              "#46039f"
             ],
             [
              0.2222222222222222,
              "#7201a8"
             ],
             [
              0.3333333333333333,
              "#9c179e"
             ],
             [
              0.4444444444444444,
              "#bd3786"
             ],
             [
              0.5555555555555556,
              "#d8576b"
             ],
             [
              0.6666666666666666,
              "#ed7953"
             ],
             [
              0.7777777777777778,
              "#fb9f3a"
             ],
             [
              0.8888888888888888,
              "#fdca26"
             ],
             [
              1,
              "#f0f921"
             ]
            ],
            "type": "heatmap"
           }
          ],
          "histogram": [
           {
            "marker": {
             "pattern": {
              "fillmode": "overlay",
              "size": 10,
              "solidity": 0.2
             }
            },
            "type": "histogram"
           }
          ],
          "histogram2d": [
           {
            "colorbar": {
             "outlinewidth": 0,
             "ticks": ""
            },
            "colorscale": [
             [
              0,
              "#0d0887"
             ],
             [
              0.1111111111111111,
              "#46039f"
             ],
             [
              0.2222222222222222,
              "#7201a8"
             ],
             [
              0.3333333333333333,
              "#9c179e"
             ],
             [
              0.4444444444444444,
              "#bd3786"
             ],
             [
              0.5555555555555556,
              "#d8576b"
             ],
             [
              0.6666666666666666,
              "#ed7953"
             ],
             [
              0.7777777777777778,
              "#fb9f3a"
             ],
             [
              0.8888888888888888,
              "#fdca26"
             ],
             [
              1,
              "#f0f921"
             ]
            ],
            "type": "histogram2d"
           }
          ],
          "histogram2dcontour": [
           {
            "colorbar": {
             "outlinewidth": 0,
             "ticks": ""
            },
            "colorscale": [
             [
              0,
              "#0d0887"
             ],
             [
              0.1111111111111111,
              "#46039f"
             ],
             [
              0.2222222222222222,
              "#7201a8"
             ],
             [
              0.3333333333333333,
              "#9c179e"
             ],
             [
              0.4444444444444444,
              "#bd3786"
             ],
             [
              0.5555555555555556,
              "#d8576b"
             ],
             [
              0.6666666666666666,
              "#ed7953"
             ],
             [
              0.7777777777777778,
              "#fb9f3a"
             ],
             [
              0.8888888888888888,
              "#fdca26"
             ],
             [
              1,
              "#f0f921"
             ]
            ],
            "type": "histogram2dcontour"
           }
          ],
          "mesh3d": [
           {
            "colorbar": {
             "outlinewidth": 0,
             "ticks": ""
            },
            "type": "mesh3d"
           }
          ],
          "parcoords": [
           {
            "line": {
             "colorbar": {
              "outlinewidth": 0,
              "ticks": ""
             }
            },
            "type": "parcoords"
           }
          ],
          "pie": [
           {
            "automargin": true,
            "type": "pie"
           }
          ],
          "scatter": [
           {
            "fillpattern": {
             "fillmode": "overlay",
             "size": 10,
             "solidity": 0.2
            },
            "type": "scatter"
           }
          ],
          "scatter3d": [
           {
            "line": {
             "colorbar": {
              "outlinewidth": 0,
              "ticks": ""
             }
            },
            "marker": {
             "colorbar": {
              "outlinewidth": 0,
              "ticks": ""
             }
            },
            "type": "scatter3d"
           }
          ],
          "scattercarpet": [
           {
            "marker": {
             "colorbar": {
              "outlinewidth": 0,
              "ticks": ""
             }
            },
            "type": "scattercarpet"
           }
          ],
          "scattergeo": [
           {
            "marker": {
             "colorbar": {
              "outlinewidth": 0,
              "ticks": ""
             }
            },
            "type": "scattergeo"
           }
          ],
          "scattergl": [
           {
            "marker": {
             "colorbar": {
              "outlinewidth": 0,
              "ticks": ""
             }
            },
            "type": "scattergl"
           }
          ],
          "scattermap": [
           {
            "marker": {
             "colorbar": {
              "outlinewidth": 0,
              "ticks": ""
             }
            },
            "type": "scattermap"
           }
          ],
          "scattermapbox": [
           {
            "marker": {
             "colorbar": {
              "outlinewidth": 0,
              "ticks": ""
             }
            },
            "type": "scattermapbox"
           }
          ],
          "scatterpolar": [
           {
            "marker": {
             "colorbar": {
              "outlinewidth": 0,
              "ticks": ""
             }
            },
            "type": "scatterpolar"
           }
          ],
          "scatterpolargl": [
           {
            "marker": {
             "colorbar": {
              "outlinewidth": 0,
              "ticks": ""
             }
            },
            "type": "scatterpolargl"
           }
          ],
          "scatterternary": [
           {
            "marker": {
             "colorbar": {
              "outlinewidth": 0,
              "ticks": ""
             }
            },
            "type": "scatterternary"
           }
          ],
          "surface": [
           {
            "colorbar": {
             "outlinewidth": 0,
             "ticks": ""
            },
            "colorscale": [
             [
              0,
              "#0d0887"
             ],
             [
              0.1111111111111111,
              "#46039f"
             ],
             [
              0.2222222222222222,
              "#7201a8"
             ],
             [
              0.3333333333333333,
              "#9c179e"
             ],
             [
              0.4444444444444444,
              "#bd3786"
             ],
             [
              0.5555555555555556,
              "#d8576b"
             ],
             [
              0.6666666666666666,
              "#ed7953"
             ],
             [
              0.7777777777777778,
              "#fb9f3a"
             ],
             [
              0.8888888888888888,
              "#fdca26"
             ],
             [
              1,
              "#f0f921"
             ]
            ],
            "type": "surface"
           }
          ],
          "table": [
           {
            "cells": {
             "fill": {
              "color": "#EBF0F8"
             },
             "line": {
              "color": "white"
             }
            },
            "header": {
             "fill": {
              "color": "#C8D4E3"
             },
             "line": {
              "color": "white"
             }
            },
            "type": "table"
           }
          ]
         },
         "layout": {
          "annotationdefaults": {
           "arrowcolor": "#2a3f5f",
           "arrowhead": 0,
           "arrowwidth": 1
          },
          "autotypenumbers": "strict",
          "coloraxis": {
           "colorbar": {
            "outlinewidth": 0,
            "ticks": ""
           }
          },
          "colorscale": {
           "diverging": [
            [
             0,
             "#8e0152"
            ],
            [
             0.1,
             "#c51b7d"
            ],
            [
             0.2,
             "#de77ae"
            ],
            [
             0.3,
             "#f1b6da"
            ],
            [
             0.4,
             "#fde0ef"
            ],
            [
             0.5,
             "#f7f7f7"
            ],
            [
             0.6,
             "#e6f5d0"
            ],
            [
             0.7,
             "#b8e186"
            ],
            [
             0.8,
             "#7fbc41"
            ],
            [
             0.9,
             "#4d9221"
            ],
            [
             1,
             "#276419"
            ]
           ],
           "sequential": [
            [
             0,
             "#0d0887"
            ],
            [
             0.1111111111111111,
             "#46039f"
            ],
            [
             0.2222222222222222,
             "#7201a8"
            ],
            [
             0.3333333333333333,
             "#9c179e"
            ],
            [
             0.4444444444444444,
             "#bd3786"
            ],
            [
             0.5555555555555556,
             "#d8576b"
            ],
            [
             0.6666666666666666,
             "#ed7953"
            ],
            [
             0.7777777777777778,
             "#fb9f3a"
            ],
            [
             0.8888888888888888,
             "#fdca26"
            ],
            [
             1,
             "#f0f921"
            ]
           ],
           "sequentialminus": [
            [
             0,
             "#0d0887"
            ],
            [
             0.1111111111111111,
             "#46039f"
            ],
            [
             0.2222222222222222,
             "#7201a8"
            ],
            [
             0.3333333333333333,
             "#9c179e"
            ],
            [
             0.4444444444444444,
             "#bd3786"
            ],
            [
             0.5555555555555556,
             "#d8576b"
            ],
            [
             0.6666666666666666,
             "#ed7953"
            ],
            [
             0.7777777777777778,
             "#fb9f3a"
            ],
            [
             0.8888888888888888,
             "#fdca26"
            ],
            [
             1,
             "#f0f921"
            ]
           ]
          },
          "colorway": [
           "#636efa",
           "#EF553B",
           "#00cc96",
           "#ab63fa",
           "#FFA15A",
           "#19d3f3",
           "#FF6692",
           "#B6E880",
           "#FF97FF",
           "#FECB52"
          ],
          "font": {
           "color": "#2a3f5f"
          },
          "geo": {
           "bgcolor": "white",
           "lakecolor": "white",
           "landcolor": "#E5ECF6",
           "showlakes": true,
           "showland": true,
           "subunitcolor": "white"
          },
          "hoverlabel": {
           "align": "left"
          },
          "hovermode": "closest",
          "mapbox": {
           "style": "light"
          },
          "paper_bgcolor": "white",
          "plot_bgcolor": "#E5ECF6",
          "polar": {
           "angularaxis": {
            "gridcolor": "white",
            "linecolor": "white",
            "ticks": ""
           },
           "bgcolor": "#E5ECF6",
           "radialaxis": {
            "gridcolor": "white",
            "linecolor": "white",
            "ticks": ""
           }
          },
          "scene": {
           "xaxis": {
            "backgroundcolor": "#E5ECF6",
            "gridcolor": "white",
            "gridwidth": 2,
            "linecolor": "white",
            "showbackground": true,
            "ticks": "",
            "zerolinecolor": "white"
           },
           "yaxis": {
            "backgroundcolor": "#E5ECF6",
            "gridcolor": "white",
            "gridwidth": 2,
            "linecolor": "white",
            "showbackground": true,
            "ticks": "",
            "zerolinecolor": "white"
           },
           "zaxis": {
            "backgroundcolor": "#E5ECF6",
            "gridcolor": "white",
            "gridwidth": 2,
            "linecolor": "white",
            "showbackground": true,
            "ticks": "",
            "zerolinecolor": "white"
           }
          },
          "shapedefaults": {
           "line": {
            "color": "#2a3f5f"
           }
          },
          "ternary": {
           "aaxis": {
            "gridcolor": "white",
            "linecolor": "white",
            "ticks": ""
           },
           "baxis": {
            "gridcolor": "white",
            "linecolor": "white",
            "ticks": ""
           },
           "bgcolor": "#E5ECF6",
           "caxis": {
            "gridcolor": "white",
            "linecolor": "white",
            "ticks": ""
           }
          },
          "title": {
           "x": 0.05
          },
          "xaxis": {
           "automargin": true,
           "gridcolor": "white",
           "linecolor": "white",
           "ticks": "",
           "title": {
            "standoff": 15
           },
           "zerolinecolor": "white",
           "zerolinewidth": 2
          },
          "yaxis": {
           "automargin": true,
           "gridcolor": "white",
           "linecolor": "white",
           "ticks": "",
           "title": {
            "standoff": 15
           },
           "zerolinecolor": "white",
           "zerolinewidth": 2
          }
         }
        },
        "title": {
         "text": "Матрица корреляции признаков Boston Housing Dataset"
        },
        "width": 800,
        "xaxis": {
         "anchor": "y",
         "domain": [
          0,
          1
         ]
        },
        "yaxis": {
         "anchor": "x",
         "autorange": "reversed",
         "domain": [
          0,
          1
         ]
        }
       }
      }
     },
     "metadata": {},
     "output_type": "display_data"
    }
   ],
   "source": [
    "# Анализ корреляции между признаками и целевой переменной\n",
    "# corr(): вычисляет матрицу корреляции Пирсона между всеми числовыми колонками\n",
    "correlation_matrix = df.corr()\n",
    "\n",
    "# Сортировка корреляций с целевой переменной MEDV по убыванию\n",
    "# sort_values(ascending=False): сортирует значения по убыванию\n",
    "target_correlation = correlation_matrix['MEDV'].sort_values(ascending=False)\n",
    "abs_correlation = target_correlation.drop('MEDV').abs().sort_values(ascending=False)\n",
    "\n",
    "\n",
    "print(\"Корреляция признаков с ценой (MEDV):\")\n",
    "print(target_correlation)\n",
    "\n",
    "# Тепловая карта корреляций\n",
    "# px.imshow: создает heatmap (тепловую карту)\n",
    "# correlation_matrix.round(2): матрица корреляции, округленная до 2 знаков\n",
    "# color_continuous_scale='RdBu_r': цветовая шкала от синего к красному (reversed)\n",
    "# aspect=\"auto\": автоматическое соотношение сторон\n",
    "# text_auto=True: автоматическое отображение значений в ячейках\n",
    "\n",
    "fig = px.imshow(correlation_matrix.round(2),\n",
    "                title='Матрица корреляции признаков Boston Housing Dataset',\n",
    "                aspect=\"auto\",\n",
    "                color_continuous_scale='RdBu_r',\n",
    "                text_auto=True)\n",
    "fig.update_layout(width=800, height=800)  # Размер графика\n",
    "fig.show()"
   ]
  },
  {
   "cell_type": "code",
   "execution_count": 98,
   "id": "e665fc38",
   "metadata": {},
   "outputs": [
    {
     "name": "stdout",
     "output_type": "stream",
     "text": [
      "Index(['RM', 'ZN', 'B'], dtype='object')\n",
      "Index(['LSTAT', 'RM', 'PTRATIO', 'INDUS', 'TAX'], dtype='object')\n"
     ]
    },
    {
     "data": {
      "application/vnd.plotly.v1+json": {
       "config": {
        "plotlyServerURL": "https://plot.ly"
       },
       "data": [
        {
         "marker": {
          "opacity": 0.6,
          "size": 5
         },
         "mode": "markers",
         "name": "RM",
         "type": "scatter",
         "x": {
          "bdata": "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",
          "dtype": "f8"
         },
         "xaxis": "x",
         "y": {
          "bdata": "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",
          "dtype": "f8"
         },
         "yaxis": "y"
        },
        {
         "marker": {
          "opacity": 0.6,
          "size": 5
         },
         "mode": "markers",
         "name": "ZN",
         "type": "scatter",
         "x": {
          "bdata": "AAAAAAAAMkAAAAAAAAAAAAAAAAAAAAAAAAAAAAAAAAAAAAAAAAAAAAAAAAAAAAAAAAAAAAAAKUAAAAAAAAApQAAAAAAAAClAAAAAAAAAKUAAAAAAAAApQAAAAAAAAClAAAAAAAAAKUAAAAAAAAAAAAAAAAAAAAAAAAAAAAAAAAAAAAAAAAAAAAAAAAAAAAAAAAAAAAAAAAAAAAAAAAAAAAAAAAAAAAAAAAAAAAAAAAAAAAAAAAAAAAAAAAAAAAAAAAAAAAAAAAAAAAAAAAAAAAAAAAAAAAAAAAAAAAAAAAAAAAAAAAAAAAAAAAAAAAAAAAAAAAAAAAAAAAAAAAAAAAAAAAAAAAAAAAAAAAAAAAAAAAAAAAAAAAAAAAAAAAAAAAAAAAAAAAAAAAAAAAAAAAAAAAAAAAAAAAAAAADAUkAAAAAAAMBSQAAAAAAAAAAAAAAAAAAAAAAAAAAAAAAAAAAAAAAAAAAAAAAAAAAAAAAAAAAAAAAAAAAAAAAAAAAAAAAAAAAAAAAAAAAAAAAAAAAAAAAAADVAAAAAAAAANUAAAAAAAAA1QAAAAAAAADVAAAAAAADAUkAAAAAAAIBWQAAAAAAAQFVAAAAAAAAAWUAAAAAAAAA5QAAAAAAAADlAAAAAAAAAOUAAAAAAAAA5QAAAAAAAADlAAAAAAAAAOUAAAAAAAIAxQAAAAAAAAFRAAAAAAAAAVEAAAAAAAAApQAAAAAAAAClAAAAAAAAAKUAAAAAAAAAAAAAAAAAAAAAAAAAAAAAAAAAAAAAAAAAAAAAAAAAAAAAAAAAAAAAAAAAAAAAAAAAAAAAAAAAAAAAAAAAAAAAAAAAAAAAAAAAAAAAAAAAAADlAAAAAAAAAOUAAAAAAAAA5QAAAAAAAADlAAAAAAAAAAAAAAAAAAAAAAAAAAAAAAAAAAAAAAAAAAAAAAAAAAAAAAAAAAAAAAAAAAAAAAAAAAAAAAAAAAAAAAAAAAAAAADxAAAAAAAAAPEAAAAAAAAA8QAAAAAAAAAAAAAAAAAAAAAAAAAAAAAAAAAAAAAAAAAAAAAAAAAAAAAAAAAAAAAAAAAAAAAAAAAAAAAAAAAAAAAAAAAAAAAAAAAAAAAAAAAAAAAAAAAAAAAAAAAAAAAAAAAAAAAAAAAAAAAAAAAAAAAAAAAAAAAAAAAAAAAAAAAAAAAAAAAAAAAAAAAAAAAAAAAAAAAAAAAAAAAAAAAAAAAAAAAAAAAAAAAAAAAAAAAAAAAAAAAAAAAAAAAAAAAAAAAAAAAAAAAAAAAAAAAAAAAAAAAAAAAAAAAAAAAAAAAAAAAAAAAAAAAAAAAAAAAAAAAAAAAAAAAAAAAAAAAAAAAAAAAAAAAAAAAAAAAAAAAAAAAAAAAAAAAAAAAAAAAAAAAAAAAAAAAAAAAAAAAAAAAAAAAAAAAAAAAAAAAAAAAAAAAAAAAAAAAAAAAAAAAAAAAAAAAAAAAAAAAAAAAAAAAAAAAAAAAAAAAAAAAAAAAAAAAAAAAAAAAAAAAAAAAAAAAAAAAAAAAAAAAAAAAAAAAAAAAAAAAAAAAAAAAAAAAAAAAAAAAAAAAAAAAAAAAAAAAAAAAAAAAAAAAAAAAAAAAAAAAAAAAAAAAAAAAAAAAAAAAAAAAAAAAAAAAAAAAAAAAAAAAAAAAAAAAAAAAAAAAAAAAAAAAAAAAAAAAAAAAAAAAAAAAAAAAAAAAAAAAAAAAAAAAAAAAAAAAAAAAAAAAAAAAAAAAAAAAAAAAAAAAAAAAAAAAAAAAAAAAAAAAAAAAAAAAAAAAAAAAAAAAAAAAAAAAAAAAAAAAAAAAAAAAAAAAAAAAAAAAAAAAAAAAAAAAAAAAAAAAAAAAAAAAAAAAAAAAAAAAAAAAAAAAAAAAAAAAAAAAAAAAAAAAAAAAAAAAAAAAAAAAAAAAAAAAAAAAAAAAAAAAAAAAAAAAAAAAAAAAAAAAAAAAAAAAAAAAAAAAAAAAAAAAAAAAAAAAAAAAAAAAAAAIBGQAAAAAAAgEZAAAAAAACARkAAAAAAAIBGQAAAAAAAgEZAAAAAAACARkAAAAAAAABOQAAAAAAAAE5AAAAAAAAAVEAAAAAAAABUQAAAAAAAAFRAAAAAAAAAVEAAAAAAAMBXQAAAAAAAwFdAAAAAAACgVEAAAAAAAKBUQAAAAAAAwFdAAAAAAADAV0AAAAAAAAAAAAAAAAAAAAAAAAAAAAAAAAAAAAAAAAAAAAAAAAAAAAAAAAAAAAAAAAAAAAAAAAAAAAAAAAAAAAAAAAAAAAAAAAAAAAAAAAAAAAAAAAAAAAAAAAAAAAAAAAAAAAAAAAAAAAAAAAAAAAAAAAAAAAAAAAAAAAAAAAAAAAAAAAAAAAAAAAAAAAAAAAAAAAAAAAAAAAAAAAAAAAAAAAAAAAAAAAAAAAAAAAAAAAAAAAAAAAAAAAAAAAAAAAAAAAAAAAAAAAAAAAAAAAAAAAAAAAAAAAAAAAAAAAAAAAAAAAAAAAAAAAAAAAAAAAAAAAAAAAAAAAAAAAAAAAAAAAAAAAAAAAAAAAAAAAA+QAAAAAAAAD5AAAAAAAAAPkAAAAAAAAA+QAAAAAAAAD5AAAAAAAAAPkAAAAAAAAA2QAAAAAAAADZAAAAAAAAANkAAAAAAAAA2QAAAAAAAADZAAAAAAAAANkAAAAAAAAA2QAAAAAAAADZAAAAAAAAANkAAAAAAAAA2QAAAAAAAAFRAAAAAAAAAVEAAAAAAAIBWQAAAAAAAADRAAAAAAAAANEAAAAAAAAA0QAAAAAAAADRAAAAAAAAANEAAAAAAAAA0QAAAAAAAADRAAAAAAAAANEAAAAAAAAA0QAAAAAAAADRAAAAAAAAANEAAAAAAAAA0QAAAAAAAADRAAAAAAAAANEAAAAAAAAA0QAAAAAAAADRAAAAAAAAANEAAAAAAAABEQAAAAAAAAERAAAAAAAAAREAAAAAAAABEQAAAAAAAAERAAAAAAAAANEAAAAAAAAA0QAAAAAAAADRAAAAAAAAANEAAAAAAAIBWQAAAAAAAgFZAAAAAAACAS0AAAAAAAABUQAAAAAAAQEpAAAAAAABASkAAAAAAAEBKQAAAAAAAAFRAAAAAAAAAVEAAAAAAAABUQAAAAAAAAAAAAAAAAAAAAAAAAAAAAAAAAAAAAAAAAAAAAAAAAAAAAAAAAAAAAIBRQAAAAAAAgFFAAAAAAACAUUAAAAAAAABBQAAAAAAAAEFAAAAAAAAAQUAAAAAAAIBAQAAAAAAAgEBAAAAAAACAQEAAAAAAAIBAQAAAAAAAAAAAAAAAAAAAAAAAAAAAAAAAAAAAAAAAAAAAAAAAAAAAAAAAAAAAAAAAAAAAAAAAAAAAAAAAAAAAAAAAAAAAAAAAAAAAAAAAAAAAAAAAAAAAAAAAAAAAAAAAAAAAAAAAAAAAAAAAAAAAAAAAAAAAAAAAAAAAAAAAAAAAAAAAAAAAAAAAAAAAAAAAAAAAAAAAAAAAAAAAAAAAAAAAAAAAAAAAAAAAAAAAAAAAAAAAAAAAAAAAAAAAAIBBQAAAAAAAgEFAAAAAAAAAAAAAAAAAAAAAAAAAAAAAAAAAAAAAAAAAAAAAAAAAAAAAAAAAAAAAAAAAAAAAAAAAAAAAAAAAAAAAAAAAAAAAgEFAAAAAAAAAAAAAAAAAAIBLQAAAAAAAgEtAAAAAAAAAAAAAAAAAAAAAAAAAAAAAQFVAAAAAAAAAVEAAAAAAAABEQAAAAAAAAERAAAAAAAAATkAAAAAAAABOQAAAAAAAgFZAAAAAAAAAVEAAAAAAAABUQAAAAAAAAAAAAAAAAAAAAAAAAAAAAAAAAAAAAAAAAAAAAAAAAAAAAAAAAAAAAAAAAAAAAAAAAAAAAAAAAAAAAAAAAAAAAAAAAAAAAAAAAAAAAAAAAAAAAAAAAAAAAAAAAAAAAAAAAAAAAAAAAAAAAAAAAAAAAAAAAAAAAAAAAAAAAAAAAAAAAAAAAAAAAAAAAAAAAAAAAAAAAAAAAAAAAAAAAAAAAAAAAAAAAAAAAAAAAAAAAAAAAAAAAAAAAAAAAAAAAAAAAAAAAAAAAAAAAAAAAAAAAAAAAAAAAAAAAAAAAAAAAAAAAAAAAAAAAAAAAAAAAAAAAAAAAAAAAAAAAAAAAAAAAAAAAAAAAAAAAAAAAAAAAAAAAAAAAAAAAAAAAAAAAAAAAAAAAAAAAAAAAAAAAAAAAAAAAAAAAAAAAAAAAAAAAAAAAAAAAAAAAAAAAAAAAAAAAAAAAAAAAAAAAAAAAAAAAAAAAAAAAAAAAAAAAAAAAAAAAAAAAAAAAAAAAAAAAAAAAAAAAAAAAAAAAAAAAAAAAAAAAAAAAAAAAAAAAAAAAAAAAAAAAAAAAAAAAAAAAAAAAAAAAAAAAAAAAAAAAAAAAAAAAAAAAAAAAAAAAAAAAAAAAAAAAAAAAAAAAAAAAAAAAAAAAAAAAAAAAAAAAAAAAAAAAAAAAAAAAAAAAAAAAAAAAAAAAAAAAAAAAAAAAAAAAAAAAAAAAAAAAAAAAAAAAAAAAAAAAAAAAAAAAAAAAAAAAAAAAAAAAAAAAAAAAAAAAAAAAAAAAAAAAAAAAAAAAAAAAAAAAAAAAAAAAAAAAAAAAAAAAAAAAAAAAAAAAAAAAAAAAAAAAAAAAAAAAAAAAAAAAAAAAAAAAAAAAAAAAAAAAAAAAAAAAAAAAAAAAAAAAAAAAAAAAAAAAAAAAAAAAAAAAAAAAAAAAAAAAAAAAAAAAAAAAAAAAAAAAAAAAAAAAAAAAAAAAAAAAAAAAAAAAAAAAAAAAAAAAAAAAAAAAAAAAAAAAAAAAAAAAAAAAAAAAAAAAAAAAAAAAAAAAAAAAAAAAAAAAAAAAAAAAAAAAAAAAAAAAAAAAAAAAAAAAAAAAAAAAAAAAAAAAAAAAAAAAAAAAAAAAAAAAAAAAAAAAAAAAAAAAAAAAAAAAAAAAAAAAAAAAAAAAAAAAAAAAAAAAAAAAAAAAAAAAAAAAAAAAAAAAAAAAAAAAAAAAAAAAAAAAAAAAAAAAAAAAAAAAAAAAAAAAAAAAAAAAAAAAAAAAAAAAAAAAAAAAAAAAAAAAAAAAAAAAAAAAAAAAAAAAAAAAAAAAAAAAAAAAAAAAAAAAAAAAAAAAAAAAAAAAAAAAAAAAAAAAAAAAAAAAAAAAAAAAAAAAAAAAAAAAAAAAAAAAAAAAAAAAAAAAAAAAAAAAAAAAAAAAAAAAAAAAAAAAAAAAAAAAAAAAAAAAAAAAAAAAAAAAAAAAAAAAAAAAAAAAAAAAAAAAAAAAAAAAAAAAAAAAAAAAAAAAAAAAAAAAAAAAAAAAAAAAAAAAAAAAAAAAAAAAAAAAAAAAAAAAAAAAAAAAAAAAAAAAAAAAAAAAAAAAAAAAAAAAAAAAAAAAA==",
          "dtype": "f8"
         },
         "xaxis": "x2",
         "y": {
          "bdata": "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",
          "dtype": "f8"
         },
         "yaxis": "y2"
        },
        {
         "marker": {
          "opacity": 0.6,
          "size": 5
         },
         "mode": "markers",
         "name": "B",
         "type": "scatter",
         "x": {
          "bdata": "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",
          "dtype": "f8"
         },
         "xaxis": "x3",
         "y": {
          "bdata": "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",
          "dtype": "f8"
         },
         "yaxis": "y3"
        }
       ],
       "layout": {
        "annotations": [
         {
          "font": {
           "size": 16
          },
          "showarrow": false,
          "text": "RM vs MEDV",
          "x": 0.14444444444444446,
          "xanchor": "center",
          "xref": "paper",
          "y": 1,
          "yanchor": "bottom",
          "yref": "paper"
         },
         {
          "font": {
           "size": 16
          },
          "showarrow": false,
          "text": "ZN vs MEDV",
          "x": 0.5,
          "xanchor": "center",
          "xref": "paper",
          "y": 1,
          "yanchor": "bottom",
          "yref": "paper"
         },
         {
          "font": {
           "size": 16
          },
          "showarrow": false,
          "text": "B vs MEDV",
          "x": 0.8555555555555556,
          "xanchor": "center",
          "xref": "paper",
          "y": 1,
          "yanchor": "bottom",
          "yref": "paper"
         }
        ],
        "height": 400,
        "showlegend": false,
        "template": {
         "data": {
          "bar": [
           {
            "error_x": {
             "color": "#2a3f5f"
            },
            "error_y": {
             "color": "#2a3f5f"
            },
            "marker": {
             "line": {
              "color": "#E5ECF6",
              "width": 0.5
             },
             "pattern": {
              "fillmode": "overlay",
              "size": 10,
              "solidity": 0.2
             }
            },
            "type": "bar"
           }
          ],
          "barpolar": [
           {
            "marker": {
             "line": {
              "color": "#E5ECF6",
              "width": 0.5
             },
             "pattern": {
              "fillmode": "overlay",
              "size": 10,
              "solidity": 0.2
             }
            },
            "type": "barpolar"
           }
          ],
          "carpet": [
           {
            "aaxis": {
             "endlinecolor": "#2a3f5f",
             "gridcolor": "white",
             "linecolor": "white",
             "minorgridcolor": "white",
             "startlinecolor": "#2a3f5f"
            },
            "baxis": {
             "endlinecolor": "#2a3f5f",
             "gridcolor": "white",
             "linecolor": "white",
             "minorgridcolor": "white",
             "startlinecolor": "#2a3f5f"
            },
            "type": "carpet"
           }
          ],
          "choropleth": [
           {
            "colorbar": {
             "outlinewidth": 0,
             "ticks": ""
            },
            "type": "choropleth"
           }
          ],
          "contour": [
           {
            "colorbar": {
             "outlinewidth": 0,
             "ticks": ""
            },
            "colorscale": [
             [
              0,
              "#0d0887"
             ],
             [
              0.1111111111111111,
              "#46039f"
             ],
             [
              0.2222222222222222,
              "#7201a8"
             ],
             [
              0.3333333333333333,
              "#9c179e"
             ],
             [
              0.4444444444444444,
              "#bd3786"
             ],
             [
              0.5555555555555556,
              "#d8576b"
             ],
             [
              0.6666666666666666,
              "#ed7953"
             ],
             [
              0.7777777777777778,
              "#fb9f3a"
             ],
             [
              0.8888888888888888,
              "#fdca26"
             ],
             [
              1,
              "#f0f921"
             ]
            ],
            "type": "contour"
           }
          ],
          "contourcarpet": [
           {
            "colorbar": {
             "outlinewidth": 0,
             "ticks": ""
            },
            "type": "contourcarpet"
           }
          ],
          "heatmap": [
           {
            "colorbar": {
             "outlinewidth": 0,
             "ticks": ""
            },
            "colorscale": [
             [
              0,
              "#0d0887"
             ],
             [
              0.1111111111111111,
              "#46039f"
             ],
             [
              0.2222222222222222,
              "#7201a8"
             ],
             [
              0.3333333333333333,
              "#9c179e"
             ],
             [
              0.4444444444444444,
              "#bd3786"
             ],
             [
              0.5555555555555556,
              "#d8576b"
             ],
             [
              0.6666666666666666,
              "#ed7953"
             ],
             [
              0.7777777777777778,
              "#fb9f3a"
             ],
             [
              0.8888888888888888,
              "#fdca26"
             ],
             [
              1,
              "#f0f921"
             ]
            ],
            "type": "heatmap"
           }
          ],
          "histogram": [
           {
            "marker": {
             "pattern": {
              "fillmode": "overlay",
              "size": 10,
              "solidity": 0.2
             }
            },
            "type": "histogram"
           }
          ],
          "histogram2d": [
           {
            "colorbar": {
             "outlinewidth": 0,
             "ticks": ""
            },
            "colorscale": [
             [
              0,
              "#0d0887"
             ],
             [
              0.1111111111111111,
              "#46039f"
             ],
             [
              0.2222222222222222,
              "#7201a8"
             ],
             [
              0.3333333333333333,
              "#9c179e"
             ],
             [
              0.4444444444444444,
              "#bd3786"
             ],
             [
              0.5555555555555556,
              "#d8576b"
             ],
             [
              0.6666666666666666,
              "#ed7953"
             ],
             [
              0.7777777777777778,
              "#fb9f3a"
             ],
             [
              0.8888888888888888,
              "#fdca26"
             ],
             [
              1,
              "#f0f921"
             ]
            ],
            "type": "histogram2d"
           }
          ],
          "histogram2dcontour": [
           {
            "colorbar": {
             "outlinewidth": 0,
             "ticks": ""
            },
            "colorscale": [
             [
              0,
              "#0d0887"
             ],
             [
              0.1111111111111111,
              "#46039f"
             ],
             [
              0.2222222222222222,
              "#7201a8"
             ],
             [
              0.3333333333333333,
              "#9c179e"
             ],
             [
              0.4444444444444444,
              "#bd3786"
             ],
             [
              0.5555555555555556,
              "#d8576b"
             ],
             [
              0.6666666666666666,
              "#ed7953"
             ],
             [
              0.7777777777777778,
              "#fb9f3a"
             ],
             [
              0.8888888888888888,
              "#fdca26"
             ],
             [
              1,
              "#f0f921"
             ]
            ],
            "type": "histogram2dcontour"
           }
          ],
          "mesh3d": [
           {
            "colorbar": {
             "outlinewidth": 0,
             "ticks": ""
            },
            "type": "mesh3d"
           }
          ],
          "parcoords": [
           {
            "line": {
             "colorbar": {
              "outlinewidth": 0,
              "ticks": ""
             }
            },
            "type": "parcoords"
           }
          ],
          "pie": [
           {
            "automargin": true,
            "type": "pie"
           }
          ],
          "scatter": [
           {
            "fillpattern": {
             "fillmode": "overlay",
             "size": 10,
             "solidity": 0.2
            },
            "type": "scatter"
           }
          ],
          "scatter3d": [
           {
            "line": {
             "colorbar": {
              "outlinewidth": 0,
              "ticks": ""
             }
            },
            "marker": {
             "colorbar": {
              "outlinewidth": 0,
              "ticks": ""
             }
            },
            "type": "scatter3d"
           }
          ],
          "scattercarpet": [
           {
            "marker": {
             "colorbar": {
              "outlinewidth": 0,
              "ticks": ""
             }
            },
            "type": "scattercarpet"
           }
          ],
          "scattergeo": [
           {
            "marker": {
             "colorbar": {
              "outlinewidth": 0,
              "ticks": ""
             }
            },
            "type": "scattergeo"
           }
          ],
          "scattergl": [
           {
            "marker": {
             "colorbar": {
              "outlinewidth": 0,
              "ticks": ""
             }
            },
            "type": "scattergl"
           }
          ],
          "scattermap": [
           {
            "marker": {
             "colorbar": {
              "outlinewidth": 0,
              "ticks": ""
             }
            },
            "type": "scattermap"
           }
          ],
          "scattermapbox": [
           {
            "marker": {
             "colorbar": {
              "outlinewidth": 0,
              "ticks": ""
             }
            },
            "type": "scattermapbox"
           }
          ],
          "scatterpolar": [
           {
            "marker": {
             "colorbar": {
              "outlinewidth": 0,
              "ticks": ""
             }
            },
            "type": "scatterpolar"
           }
          ],
          "scatterpolargl": [
           {
            "marker": {
             "colorbar": {
              "outlinewidth": 0,
              "ticks": ""
             }
            },
            "type": "scatterpolargl"
           }
          ],
          "scatterternary": [
           {
            "marker": {
             "colorbar": {
              "outlinewidth": 0,
              "ticks": ""
             }
            },
            "type": "scatterternary"
           }
          ],
          "surface": [
           {
            "colorbar": {
             "outlinewidth": 0,
             "ticks": ""
            },
            "colorscale": [
             [
              0,
              "#0d0887"
             ],
             [
              0.1111111111111111,
              "#46039f"
             ],
             [
              0.2222222222222222,
              "#7201a8"
             ],
             [
              0.3333333333333333,
              "#9c179e"
             ],
             [
              0.4444444444444444,
              "#bd3786"
             ],
             [
              0.5555555555555556,
              "#d8576b"
             ],
             [
              0.6666666666666666,
              "#ed7953"
             ],
             [
              0.7777777777777778,
              "#fb9f3a"
             ],
             [
              0.8888888888888888,
              "#fdca26"
             ],
             [
              1,
              "#f0f921"
             ]
            ],
            "type": "surface"
           }
          ],
          "table": [
           {
            "cells": {
             "fill": {
              "color": "#EBF0F8"
             },
             "line": {
              "color": "white"
             }
            },
            "header": {
             "fill": {
              "color": "#C8D4E3"
             },
             "line": {
              "color": "white"
             }
            },
            "type": "table"
           }
          ]
         },
         "layout": {
          "annotationdefaults": {
           "arrowcolor": "#2a3f5f",
           "arrowhead": 0,
           "arrowwidth": 1
          },
          "autotypenumbers": "strict",
          "coloraxis": {
           "colorbar": {
            "outlinewidth": 0,
            "ticks": ""
           }
          },
          "colorscale": {
           "diverging": [
            [
             0,
             "#8e0152"
            ],
            [
             0.1,
             "#c51b7d"
            ],
            [
             0.2,
             "#de77ae"
            ],
            [
             0.3,
             "#f1b6da"
            ],
            [
             0.4,
             "#fde0ef"
            ],
            [
             0.5,
             "#f7f7f7"
            ],
            [
             0.6,
             "#e6f5d0"
            ],
            [
             0.7,
             "#b8e186"
            ],
            [
             0.8,
             "#7fbc41"
            ],
            [
             0.9,
             "#4d9221"
            ],
            [
             1,
             "#276419"
            ]
           ],
           "sequential": [
            [
             0,
             "#0d0887"
            ],
            [
             0.1111111111111111,
             "#46039f"
            ],
            [
             0.2222222222222222,
             "#7201a8"
            ],
            [
             0.3333333333333333,
             "#9c179e"
            ],
            [
             0.4444444444444444,
             "#bd3786"
            ],
            [
             0.5555555555555556,
             "#d8576b"
            ],
            [
             0.6666666666666666,
             "#ed7953"
            ],
            [
             0.7777777777777778,
             "#fb9f3a"
            ],
            [
             0.8888888888888888,
             "#fdca26"
            ],
            [
             1,
             "#f0f921"
            ]
           ],
           "sequentialminus": [
            [
             0,
             "#0d0887"
            ],
            [
             0.1111111111111111,
             "#46039f"
            ],
            [
             0.2222222222222222,
             "#7201a8"
            ],
            [
             0.3333333333333333,
             "#9c179e"
            ],
            [
             0.4444444444444444,
             "#bd3786"
            ],
            [
             0.5555555555555556,
             "#d8576b"
            ],
            [
             0.6666666666666666,
             "#ed7953"
            ],
            [
             0.7777777777777778,
             "#fb9f3a"
            ],
            [
             0.8888888888888888,
             "#fdca26"
            ],
            [
             1,
             "#f0f921"
            ]
           ]
          },
          "colorway": [
           "#636efa",
           "#EF553B",
           "#00cc96",
           "#ab63fa",
           "#FFA15A",
           "#19d3f3",
           "#FF6692",
           "#B6E880",
           "#FF97FF",
           "#FECB52"
          ],
          "font": {
           "color": "#2a3f5f"
          },
          "geo": {
           "bgcolor": "white",
           "lakecolor": "white",
           "landcolor": "#E5ECF6",
           "showlakes": true,
           "showland": true,
           "subunitcolor": "white"
          },
          "hoverlabel": {
           "align": "left"
          },
          "hovermode": "closest",
          "mapbox": {
           "style": "light"
          },
          "paper_bgcolor": "white",
          "plot_bgcolor": "#E5ECF6",
          "polar": {
           "angularaxis": {
            "gridcolor": "white",
            "linecolor": "white",
            "ticks": ""
           },
           "bgcolor": "#E5ECF6",
           "radialaxis": {
            "gridcolor": "white",
            "linecolor": "white",
            "ticks": ""
           }
          },
          "scene": {
           "xaxis": {
            "backgroundcolor": "#E5ECF6",
            "gridcolor": "white",
            "gridwidth": 2,
            "linecolor": "white",
            "showbackground": true,
            "ticks": "",
            "zerolinecolor": "white"
           },
           "yaxis": {
            "backgroundcolor": "#E5ECF6",
            "gridcolor": "white",
            "gridwidth": 2,
            "linecolor": "white",
            "showbackground": true,
            "ticks": "",
            "zerolinecolor": "white"
           },
           "zaxis": {
            "backgroundcolor": "#E5ECF6",
            "gridcolor": "white",
            "gridwidth": 2,
            "linecolor": "white",
            "showbackground": true,
            "ticks": "",
            "zerolinecolor": "white"
           }
          },
          "shapedefaults": {
           "line": {
            "color": "#2a3f5f"
           }
          },
          "ternary": {
           "aaxis": {
            "gridcolor": "white",
            "linecolor": "white",
            "ticks": ""
           },
           "baxis": {
            "gridcolor": "white",
            "linecolor": "white",
            "ticks": ""
           },
           "bgcolor": "#E5ECF6",
           "caxis": {
            "gridcolor": "white",
            "linecolor": "white",
            "ticks": ""
           }
          },
          "title": {
           "x": 0.05
          },
          "xaxis": {
           "automargin": true,
           "gridcolor": "white",
           "linecolor": "white",
           "ticks": "",
           "title": {
            "standoff": 15
           },
           "zerolinecolor": "white",
           "zerolinewidth": 2
          },
          "yaxis": {
           "automargin": true,
           "gridcolor": "white",
           "linecolor": "white",
           "ticks": "",
           "title": {
            "standoff": 15
           },
           "zerolinecolor": "white",
           "zerolinewidth": 2
          }
         }
        },
        "title": {
         "text": "Взаимосвязь топ-3 наиболее коррелирующих признаков с ценой"
        },
        "width": 1200,
        "xaxis": {
         "anchor": "y",
         "domain": [
          0,
          0.2888888888888889
         ],
         "title": {
          "text": "RM"
         }
        },
        "xaxis2": {
         "anchor": "y2",
         "domain": [
          0.35555555555555557,
          0.6444444444444445
         ],
         "title": {
          "text": "ZN"
         }
        },
        "xaxis3": {
         "anchor": "y3",
         "domain": [
          0.7111111111111111,
          1
         ],
         "title": {
          "text": "B"
         }
        },
        "yaxis": {
         "anchor": "x",
         "domain": [
          0,
          1
         ],
         "title": {
          "text": "MEDV"
         }
        },
        "yaxis2": {
         "anchor": "x2",
         "domain": [
          0,
          1
         ],
         "title": {
          "text": "MEDV"
         }
        },
        "yaxis3": {
         "anchor": "x3",
         "domain": [
          0,
          1
         ],
         "title": {
          "text": "MEDV"
         }
        }
       }
      }
     },
     "metadata": {},
     "output_type": "display_data"
    }
   ],
   "source": [
    "# Анализ самых значимых признаков (топ-3 кроме самой цены)\n",
    "# target_correlation.index[1:4]: берем индексы с 1 по 3 (исключая MEDV на позиции 0)\n",
    "top_features = target_correlation.index[1:4]\n",
    "print(top_features)\n",
    "top_abs = abs_correlation.index[:5]\n",
    "print(top_abs)\n",
    "\n",
    "# Создание subplots с 1 строкой и 3 колонками\n",
    "# subplot_titles: заголовки для каждого subplot\n",
    "fig = make_subplots(rows=1, \n",
    "                    cols=len(top_features),\n",
    "                    subplot_titles=[f\"{feat} vs MEDV\" for feat in top_features])\n",
    "\n",
    "# Добавление scatter plots для каждого признака\n",
    "for i, feature in enumerate(top_features, 1):  # enumerate начинается с 1 для нумерации колонок\n",
    "    fig.add_trace(\n",
    "        go.Scatter(\n",
    "            x=df[feature],  # данные по оси X (признак)\n",
    "            y=df['MEDV'],   # данные по оси Y (цена)\n",
    "            mode='markers', # режим отображения - точки\n",
    "            name=feature,   # название для легенды\n",
    "            marker=dict(size=5, opacity=0.6)  # настройки маркеров: размер и прозрачность\n",
    "        ),\n",
    "        row=1, col=i  # позиция в subplot\n",
    "    )\n",
    "    fig.update_xaxes(title_text=feature, row=1, col=i)  # подпись оси X\n",
    "    fig.update_yaxes(title_text=\"MEDV\", row=1, col=i)   # подпись оси Y\n",
    "\n",
    "fig.update_layout(\n",
    "    height=400,      # высота графика\n",
    "    width=1200,      # ширина графика\n",
    "    title_text=\"Взаимосвязь топ-3 наиболее коррелирующих признаков с ценой\",\n",
    "    showlegend=False # скрыть легенду (не нужна для отдельных графиков)\n",
    ")\n",
    "fig.show()"
   ]
  },
  {
   "cell_type": "code",
   "execution_count": 99,
   "id": "6259f421",
   "metadata": {},
   "outputs": [
    {
     "data": {
      "application/vnd.plotly.v1+json": {
       "config": {
        "plotlyServerURL": "https://plot.ly"
       },
       "data": [
        {
         "dimensions": [
          {
           "axis": {
            "matches": true
           },
           "label": "RM",
           "values": {
            "bdata": "zczMzMxMGkDJdr6fGq8ZQD0K16NwvRxAy6FFtvP9G0BKDAIrh5YcQLgehetRuBlAPzVeukkMGEDjpZvEILAYQKAaL90khhZAarx0kxgEGEA1XrpJDIIZQPCnxks3CRhAdZMYBFaOF0Cyne+nxssXQPyp8dJNYhhAvHSTGARWF0A9CtejcL0XQPYoXI/C9RdAbef7qfHSFUCcxCCwcugWQEjhehSuRxZAXI/C9SjcF0DFILByaJEYQI2XbhKDQBdAGQRWDi2yF0BMN4lBYGUWQI2XbhKDQBdA46WbxCAwGEB7FK5H4foZQBkEVg4tshpAJzEIrBzaFkB9PzVeukkYQM3MzMzMzBdA5/up8dLNFkD8qfHSTWIYQAisHFpkuxdAd76fGi9dF0BmZmZmZmYXQHe+nxov3RdA4XoUrkdhGkB/arx0kxgcQBSuR+F6FBtAkxgEVg6tGEDy0k1iENgYQC2yne+nRhhA7nw/NV66FkC+nxov3SQXQB+F61G4HhhAf2q8dJOYFUCcxCCwcmgWQCcxCKwc2hdA9ihcj8J1GEAlBoGVQwsaQMuhRbbz/RdAWmQ730+NF0Dl0CLb+f4cQNV46SYxiBlA3SQGgZVDG0AUrkfhepQYQGiR7Xw/tRdAEFg5tMj2FkB3vp8aL90XQG3n+6nx0hlAPzVeukkMG0DRItv5fmocQClcj8L1KBlA2c73U+MlF0BQjZduEoMXQMdLN4lBYBZACtejcD2KF0BeukkMAqsZQPLSTWIQ2BdAw/UoXI9CGEB7FK5H4foYQGQ730+NFxlAvp8aL90kGUAEVg4tsh0ZQI/C9ShcjxhAIbByaJHtGEDl0CLb+X4XQJzEILBy6BpAYOXQItt5GkBoke18PzUZQF66SQwCqxhAdZMYBFaOGUCF61G4HoUaQI/C9ShcDxhAlkOLbOd7GEC6SQwCKwccQDeJQWDlUBxAXrpJDAKrGUAfhetRuJ4ZQPhT46WbxBlA8tJNYhDYGEDl0CLb+f4YQAAAAAAAgBpA9P3UeOmmGEAX2c73UyMgQEjhehSuRx9ARIts5/upHUCcxCCwcugaQDm0yHa+HxtAH4XrUbieGUA/NV66SYwYQF66SQwCqxhAgZVDi2xnF0Dy0k1iEFgXQDVeukkMghhATDeJQWDlGUDRItv5fuoYQEjhehSuxxhAXI/C9SjcGkD0/dR46aYXQJHtfD81XhhAarx0kxgEGUCDwMqhRbYXQE5iEFg5tBhAL90kBoEVGECwcmiR7XwXQAaBlUOL7BZAexSuR+F6F0BqvHSTGAQYQPLSTWIQ2BdABoGVQ4tsF0BqvHSTGIQXQIts5/up8RdAwcqhRbZzFkASg8DKocUWQNNNYhBYuRlAPzVeukmMFkCiRbbz/dQZQOf7qfHSTRlAsHJoke18GUB9PzVeukkXQLpJDAIrBxdA16NwPQpXGUD4U+Olm8QXQDeJQWDl0BlAIbByaJFtF0C0yHa+n5oYQBkEVg4tshhA+n5qvHQTFEDpJjEIrJwVQKwcWmQ73xVA6SYxCKycE0CF61G4HoUYQFCNl24SgxZATmIQWDm0E0BYObTIdr4UQBfZzvdTYxZAsHJoke18GEAEVg4tsp0VQD81XrpJDBRAvHSTGATWFkBqvHSTGIQYQM/3U+OlmxhASgwCK4cWFUASg8DKocUbQN0kBoGVQxhACtejcD0KGkAAAAAAAAAZQNv5fmq89B1AaJHtfD81H0AAAAAAAMAgQNEi2/l+ahdAgZVDi2xnGECe76fGS7cfQDVeukkMghdALbKd76dGGUDP91PjpZsZQAAAAAAAgBdAhetRuB6FF0B9PzVeukkWQESLbOf7qRlAVg4tsp1vF0DJdr6fGi8aQBSuR+F6FBhAw/UoXI9CGUBxPQrXo3AbQOxRuB6F6xtAj8L1KFwPH0D6fmq8dJMYQB+F61G4nhxAjZduEoNAGkDRItv5fmoWQOkmMQisnBhAbef7qfFSH0BU46WbxCAbQNNNYhBYORpAPQrXo3C9HEDn+6nx0s0bQNv5fmq89BpAg8DKoUW2HEAzMzMzMzMbQNEi2/l+ahpAAAAAAACAH0DZzvdT4yUdQCGwcmiRbRxAf2q8dJMYHUBmZmZmZuYbQArXo3A9ihxA2c73U+OlGEBxPQrXo3AeQLbz/dR4aR9AxSCwcmgRIECq8dJNYpAXQOf7qfHSTRlAbxKDwMohF0Coxks3iUEYQMdLN4lBYBVA16NwPQrXF0AEVg4tsp0VQO58PzVeOhdAAAAAAACAGUDZzvdT46UVQO58PzVeuhhAWmQ730+NF0DFILByaJEaQOf7qfHSzRdAy6FFtvN9GUDn+6nx0s0bQA4tsp3vpxhAarx0kxiEG0BGtvP91HgaQNV46SYxiCBAMzMzMzNzIUAUrkfhehQgQPT91HjpphxAWDm0yHa+HkBoke18PzUaQAaBlUOL7BdA2c73U+OlHUAGgZVDi6wgQFg5tMh2fiBAgZVDi2znGkDy0k1iEFgYQKAaL90khhpAO99PjZduHUAGgZVDi+wZQAaBlUOLbBpASgwCK4eWG0DhehSuR2EYQDvfT42XbhlA30+Nl26SGUCsHFpkO18WQOxRuB6FaxZAO99PjZduGECBlUOLbOcYQAisHFpkuxlArBxaZDvfGkCmm8QgsPIZQI2XbhKDwBlAhxbZzvfTG0D4U+Olm4QgQDvfT42XbhhAGy/dJAaBF0A3iUFg5dAdQJzEILByaCFAokW28/1UHUCR7Xw/NV4bQB1aZDvfzxxAFK5H4XoUHkCyne+nxssgQAIrhxbZTh1Abef7qfHSHEA9CtejcD0WQHWTGARWDhxA8tJNYhCYIEDhehSuR+EdQK5H4XoUrhdABoGVQ4tsF0D2KFyPwvUYQPT91HjpJhpA3SQGgZXDHkDVeOkmMQgbQNEi2/l+ahtAxSCwcmgRHUDn+6nx0k0bQCGwcmiR7RlAc2iR7Xw/G0BI4XoUrkcfQKwcWmQ73xtAFK5H4XqUHkD+1HjpJrEfQCcxCKwcWhxAHVpkO9/PGUDsUbgehesYQLx0kxgE1hhAw/UoXI9CGUDD9Shcj0IaQIts5/upcRtAZDvfT42XHECF61G4HoUaQDVeukkMghhA8KfGSzcJGECDwMqhRbYaQBkEVg4tMhpAKVyPwvUoF0DhehSuR2EZQESLbOf7KRxAlkOLbOd7G0Bcj8L1KFwaQHsUrkfh+hlAIbByaJHtG0CLbOf7qfEcQBBYObTIdhpArkfhehSuHUBMN4lBYGUbQArXo3A9ihpAF9nO91PjF0AxCKwcWuQTQLByaJHtfBhAZDvfT40XGECq8dJNYhAZQPhT46WbRBpAUrgehevRFkAOLbKd76cXQFTjpZvEIBdAukkMAiuHGUDByqFFtnMYQE5iEFg5tBlAGy/dJAaBGUBEi2zn+ykYQKJFtvP91BZAKVyPwvWoGUDTTWIQWLkZQHNoke18PxlAokW28/1UGEBGtvP91HgXQKJFtvP9VBlA+n5qvHSTGEBt5/up8dIWQDm0yHa+HxhA3SQGgZVDGUA9CtejcD0ZQNnO91PjJRhAYOXQItt5F0AUrkfhepQXQCPb+X5qPBhAcT0K16PwF0CsHFpkO98XQBBYObTI9hxAKVyPwvUoGkBiEFg5tMgaQOXQItv5fhtAdZMYBFYOGEBkO99PjZcXQKrx0k1iEBpACtejcD2KGkCoxks3icEbQPYoXI/C9RlAN4lBYOVQGkDwp8ZLN4kXQLbz/dR46RpA9P3UeOmmFkBYObTIdr4XQAwCK4cW2RhAFK5H4XqUGUA1XrpJDIIYQKabxCCwchhAZDvfT42XGUAbL90kBgEZQKabxCCwchVAg8DKoUU2F0CPwvUoXI8hQLByaJHtfAxAJzEIrBzaE0CBlUOLbOcOQOF6FK5H4RNACKwcWmS7GkCq8dJNYhAcQHe+nxov3RhAAAAAAACAF0A5tMh2vp8TQFpkO99PjRBAjZduEoNAHUB/arx0k5gaQJMYBFYOLRtAhetRuB6FGUAxCKwcWuQYQKwcWmQ73xtArkfhehQuGkC+nxov3SQWQBSuR+F6FBZARrbz/dR4EUDP91PjpRsVQM/3U+OlmxJAAAAAAAAAFECF61G4HoUTQI/C9ShcjxVAJzEIrBzaFkBOYhBYOTQYQL6fGi/dJBRAEoPAyqHFGEA/NV66SYwXQPyp8dJN4hlAH4XrUbieGUCwcmiR7fwWQB1aZDvfzxVAnMQgsHJoF0Cmm8QgsPIXQKwcWmQ7XxlABFYOLbKdGUBMN4lBYGUVQDm0yHa+HxZACKwcWmS7FkBaZDvfT40QQDvfT42XbhZAK4cW2c53FkCcxCCwcmgbQLpJDAIrBxdAVOOlm8SgGkBQjZduEoMSQB+F61G4nhRA+n5qvHQTEkAj2/l+arwZQFTjpZvEIBtAnu+nxks3FUCHFtnO99MXQLKd76fGSxtAvp8aL92kGUCgGi/dJAYYQGQ730+NlxZAtvP91HhpGEDD9Shcj0IWQC/dJAaBlRdADAIrhxZZF0ACK4cW2c4YQBKDwMqhxRhAhetRuB6FGUAxCKwcWmQZQKJFtvP9VBtAMzMzMzOzGUBYObTIdr4ZQKJFtvP91BhAarx0kxiEGkDy0k1iENgZQM/3U+OlmxhAPQrXo3C9F0A1XrpJDIIWQBKDwMqhRRdAObTIdr6fGUDHSzeJQeAYQHE9Ctej8BlA0SLb+X5qF0C8dJMYBNYZQHe+nxovXRlAGy/dJAYBGUA9CtejcL0YQF66SQwCqxlA5dAi2/n+GkAfhetRuJ4aQOOlm8QgMBlA30+Nl26SHUC28/3UeOkaQJqZmZmZGRpAgZVDi2znF0BYObTIdr4XQE5iEFg5NBlAbef7qfFSGEDn+6nx0s0aQBsv3SQGgRlA+FPjpZtEGUBaZDvfTw0aQLx0kxgE1hhA8KfGSzcJF0ACK4cW2c4XQFCNl24SAxhATmIQWDm0F0AnMQisHNoWQF66SQwCqxhA0SLb+X7qGEBzaJHtfL8ZQOxRuB6F6xtAaJHtfD+1FUDZzvdT46UYQFYOLbKd7xlAnu+nxks3FUA9CtejcL0YQNEi2/l+6hhAK4cW2c73GEAAAAAAAAAbQFg5tMh2PhxAPzVeukkMF0CWQ4ts53sXQHNoke18PxlA2/l+arx0GEAfhetRuJ4XQDeJQWDl0BVADi2yne+nFUCsHFpkO18UQDvfT42X7hdAO99PjZfuF0CHFtnO99MWQE5iEFg5tBdArkfhehSuFkCPwvUoXI8VQJMYBFYOLRdA+n5qvHQTGEAtsp3vp0YWQM/3U+OlGxhArBxaZDtfGkB7FK5H4XoYQIGVQ4ts5xtAkxgEVg4tG0AfhetRuB4YQA==",
            "dtype": "f8"
           }
          },
          {
           "axis": {
            "matches": true
           },
           "label": "LSTAT",
           "values": {
            "bdata": "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",
            "dtype": "f8"
           }
          },
          {
           "axis": {
            "matches": true
           },
           "label": "PTRATIO",
           "values": {
            "bdata": "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",
            "dtype": "f8"
           }
          },
          {
           "axis": {
            "matches": true
           },
           "label": "INDUS",
           "values": {
            "bdata": "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",
            "dtype": "f8"
           }
          },
          {
           "axis": {
            "matches": true
           },
           "label": "MEDV",
           "values": {
            "bdata": "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",
            "dtype": "f8"
           }
          }
         ],
         "hovertemplate": "%{xaxis.title.text}=%{x}<br>%{yaxis.title.text}=%{y}<br>MEDV=%{marker.color}<extra></extra>",
         "legendgroup": "",
         "marker": {
          "color": {
           "bdata": "AAAAAAAAOECamZmZmZk1QJqZmZmZWUFAMzMzMzOzQECamZmZmRlCQDMzMzMzszxAZmZmZmbmNkCamZmZmRk7QAAAAAAAgDBAZmZmZmbmMkAAAAAAAAAuQGZmZmZm5jJAMzMzMzOzNUBmZmZmZmY0QDMzMzMzMzJAZmZmZmbmM0CamZmZmRk3QAAAAAAAgDFAMzMzMzMzNEAzMzMzMzMyQDMzMzMzMytAmpmZmZmZM0BmZmZmZmYuQAAAAAAAAC1AMzMzMzMzL0DNzMzMzMwrQJqZmZmZmTBAmpmZmZmZLUBmZmZmZmYyQAAAAAAAADVAZmZmZmZmKUAAAAAAAAAtQGZmZmZmZipAMzMzMzMzKkAAAAAAAAArQGZmZmZm5jJAAAAAAAAANEAAAAAAAAA1QDMzMzMzszhAzczMzMzMPkAzMzMzM3NBQJqZmZmZmTpAzczMzMxMOUAzMzMzM7M4QDMzMzMzMzVAzczMzMxMM0AAAAAAAAA0QJqZmZmZmTBAzczMzMzMLEBmZmZmZmYzQDMzMzMzszNAAAAAAACANEAAAAAAAAA5QGZmZmZmZjdAZmZmZmbmMkAzMzMzM7NBQDMzMzMzszhAmpmZmZmZP0DNzMzMzEw3QJqZmZmZmTNAMzMzMzOzMkAAAAAAAAAwQDMzMzMzMzZAAAAAAAAAOUAAAAAAAIBAQAAAAAAAgDdAZmZmZmZmM0AAAAAAAAA2QGZmZmZmZjFAZmZmZmbmNEAzMzMzMzM4QDMzMzMzszVAzczMzMzMNkBmZmZmZmY3QJqZmZmZGThAZmZmZmZmNUAAAAAAAAA0QM3MzMzMzDRAMzMzMzMzNUDNzMzMzEw0QAAAAAAAADxAZmZmZmbmN0DNzMzMzMw4QGZmZmZm5jZAZmZmZmbmN0CamZmZmZk6QAAAAAAAgDZAMzMzMzMzNkCamZmZmZk3QDMzMzMzszxAmpmZmZmZNkAAAAAAAAA2QGZmZmZm5jZAAAAAAAAAOUCamZmZmZk0QGZmZmZmZjxAZmZmZmZmNUCamZmZmVlDQGZmZmZm5kVAmpmZmZmZQEAAAAAAAIA7QAAAAAAAgDpAmpmZmZmZMkDNzMzMzEwzQJqZmZmZGTRAAAAAAACAM0AAAAAAAIAzQGZmZmZmZjRAzczMzMzMM0BmZmZmZmYzQDMzMzMzszVAzczMzMzMNkDNzMzMzMwyQDMzMzMzszJAAAAAAACAMkDNzMzMzEwyQDMzMzMzMzVAMzMzMzMzM0BmZmZmZmY0QM3MzMzMTDNAAAAAAAAANkDNzMzMzEw0QAAAAAAAgDRAzczMzMxMMUDNzMzMzMwyQGZmZmZmZjVAZmZmZmZmL0AzMzMzMzMwQAAAAAAAADJAmpmZmZmZLEAzMzMzMzMzQJqZmZmZmTNAAAAAAAAAN0BmZmZmZmYyQDMzMzMzMy9AmpmZmZkZMkBmZmZmZmYxQJqZmZmZGTFAmpmZmZmZKkDNzMzMzMwxQAAAAAAAACxAzczMzMzMLEDNzMzMzMwqQDMzMzMzMy9AmpmZmZmZJ0CamZmZmZkrQDMzMzMzMy9AMzMzMzMzLUDNzMzMzMwxQM3MzMzMzC5AAAAAAACANUCamZmZmZkzQJqZmZmZmS5AZmZmZmZmM0AAAAAAAAAxQDMzMzMzMy9AMzMzMzMzKkBmZmZmZqZEQM3MzMzMTDhAzczMzMxMN0AAAAAAAAA7QAAAAAAAAElAAAAAAAAASUAAAAAAAABJQDMzMzMzszZAAAAAAAAAOUAAAAAAAABJQM3MzMzMzDdAzczMzMzMN0DNzMzMzEw2QGZmZmZmZjFAmpmZmZkZM0CamZmZmRk3QJqZmZmZmTdAmpmZmZmZNkBmZmZmZmY9QDMzMzMzMzdAmpmZmZmZOEBmZmZmZuY9QJqZmZmZmUJAZmZmZmbmQ0CamZmZmRlCQDMzMzMz80JAAAAAAABAQEBmZmZmZmY6QJqZmZmZmT1AAAAAAAAASUAAAAAAAABAQM3MzMzMzD1AMzMzMzNzQUAAAAAAAIBCQAAAAAAAgD5AMzMzMzMzQkCamZmZmRk/QJqZmZmZGT1AAAAAAAAASUBmZmZmZqZAQM3MzMzMTD5AzczMzMxMQUAzMzMzM3NBQDMzMzMzc0BAmpmZmZkZOEBmZmZmZiZFQAAAAAAAQEhAAAAAAAAASUCamZmZmZk2QGZmZmZmZjhAAAAAAACANkBmZmZmZmY4QAAAAAAAADRAMzMzMzOzNUDNzMzMzEwzQGZmZmZmZjZAmpmZmZkZPEAzMzMzM7M3QAAAAAAAADlAzczMzMxMN0AzMzMzM7M8QAAAAAAAgDVAAAAAAAAAN0AzMzMzM7M6QDMzMzMzszVAAAAAAACAO0CamZmZmRk+QGZmZmZmZkZAAAAAAAAASUDNzMzMzMxCQJqZmZmZmT9AmpmZmZlZR0AAAAAAAIA/QM3MzMzMTDhAMzMzMzOzP0CamZmZmdlEQGZmZmZmJkhAAAAAAAAAPUAAAAAAAAA4QJqZmZmZGTlAAAAAAACAP0AzMzMzM7M3QM3MzMzMTDdAAAAAAAAANkCamZmZmRk0QDMzMzMzMzZAMzMzMzOzN0CamZmZmZkxQAAAAAAAgDJAzczMzMxMOEAAAAAAAIA0QAAAAAAAgDhAMzMzMzMzOkBmZmZmZmY4QM3MzMzMzDhAmpmZmZmZPUBmZmZmZmZFQGZmZmZm5jVAZmZmZmbmNEAAAAAAAABGQAAAAAAAAElAAAAAAAAAQkCamZmZmRk+QGZmZmZm5kBAzczMzMyMRUBmZmZmZmZIQAAAAAAAAD9AAAAAAABAQkDNzMzMzMw2QDMzMzMzsz5AAAAAAAAASUAAAAAAAMBFQDMzMzMzszRAmpmZmZkZNUAzMzMzMzM5QGZmZmZmZjhAmpmZmZmZQUAzMzMzMzNAQAAAAAAAAEBAmpmZmZmZQEDNzMzMzIxAQJqZmZmZGT1AzczMzMyMQUAzMzMzM7NGQDMzMzMzs0FAAAAAAAAAR0AAAAAAAABJQJqZmZmZGUBAAAAAAAAANkCamZmZmRk0QDMzMzMzMzdAzczMzMxMNkDNzMzMzMw4QAAAAAAAgDxAZmZmZmamQkBmZmZmZuY7QGZmZmZm5jdAMzMzMzOzNUCamZmZmZk8QJqZmZmZGTtAzczMzMxMNEAAAAAAAIA2QAAAAAAAAD1AzczMzMzMOEAAAAAAAAA2QGZmZmZmZjpAzczMzMyMQEDNzMzMzAxCQGZmZmZmZjxAMzMzMzOzQEAzMzMzMzM8QM3MzMzMzDZAzczMzMxMNECamZmZmRkwQJqZmZmZGTZAZmZmZmZmM0CamZmZmZk1QM3MzMzMzDdAMzMzMzMzMEDNzMzMzMwxQM3MzMzMzDNAmpmZmZkZN0AAAAAAAAA1QM3MzMzMzDdAmpmZmZkZN0BmZmZmZmY0QAAAAAAAgDJAAAAAAAAAOUCamZmZmZk4QAAAAAAAADdAMzMzMzMzNkDNzMzMzEwzQJqZmZmZmTZAzczMzMzMM0CamZmZmRkxQGZmZmZmZjNAMzMzMzMzNkAzMzMzM7M0QJqZmZmZGTVAAAAAAACAM0AAAAAAAIAyQJqZmZmZmTRAAAAAAAAAM0AzMzMzM7MyQJqZmZmZWUBAAAAAAACAMEBmZmZmZuY3QDMzMzMzMz9AAAAAAACAMUAzMzMzMzMxQJqZmZmZGTdAAAAAAACAOECamZmZmZk6QGZmZmZm5jZAmpmZmZkZOECamZmZmZkyQJqZmZmZGT5AMzMzMzMzMkCamZmZmZk0QM3MzMzMzDFAMzMzMzOzNUAzMzMzM7M2QJqZmZmZmTZAAAAAAAAAOUBmZmZmZuYzQM3MzMzMzDRAzczMzMzMMEBmZmZmZuY1QAAAAAAAgDtAZmZmZmbmNUCamZmZmRk3QAAAAAAAAElAAAAAAAAASUAAAAAAAABJQAAAAAAAAElAAAAAAAAASUCamZmZmZkrQJqZmZmZmStAAAAAAAAALkDNzMzMzMwrQJqZmZmZmSpAMzMzMzMzKkBmZmZmZmYkQM3MzMzMzCRAzczMzMzMJUCamZmZmZkmQJqZmZmZmShAmpmZmZmZIUDNzMzMzMwcQAAAAAAAACVAmpmZmZmZHUBmZmZmZmYkQAAAAAAAACdAMzMzMzMzLkAzMzMzMzM3QGZmZmZmZiNAmpmZmZmZK0BmZmZmZmYpQDMzMzMzMypAAAAAAAAAKUAAAAAAAAAhQAAAAAAAABRAMzMzMzMzGUBmZmZmZmYWQM3MzMzMzBxAMzMzMzMzKECamZmZmZkgQAAAAAAAACFAAAAAAAAAFEDNzMzMzMwnQGZmZmZm5jtAMzMzMzMzMUAAAAAAAIA7QAAAAAAAAC5AMzMzMzMzMUBmZmZmZuYxQM3MzMzMTDBAAAAAAAAAHEDNzMzMzMwcQAAAAAAAAB5AzczMzMzMJECamZmZmZkhQM3MzMzMzCBAMzMzMzOzMEBmZmZmZmYsQM3MzMzMzDRAzczMzMzMKkBmZmZmZmYnQJqZmZmZmSBAZmZmZmZmJEDNzMzMzMwlQAAAAAAAACZAAAAAAAAAI0AAAAAAAAAtQDMzMzMzMyxAmpmZmZkZMECamZmZmZksQGZmZmZmZidAzczMzMzMKkAzMzMzMzMjQGZmZmZmZiFAzczMzMzMIECamZmZmZkpQAAAAAAAACVAmpmZmZkZMUBmZmZmZmYyQM3MzMzMzC5AmpmZmZmZJUCamZmZmZknQM3MzMzMzC1AMzMzMzMzKUAzMzMzMzMsQAAAAAAAACpAzczMzMzMKkBmZmZmZmYuQJqZmZmZGTBAzczMzMzMMUDNzMzMzMwtQDMzMzMzMyxAZmZmZmZmKUAAAAAAAAArQM3MzMzMzC1AAAAAAAAANEBmZmZmZmYwQDMzMzMzszFAAAAAAACAM0AzMzMzMzM0QGZmZmZmZjVAZmZmZmbmM0AAAAAAAAAzQJqZmZmZGTNAmpmZmZkZM0CamZmZmRk0QGZmZmZm5jNAmpmZmZmZM0AzMzMzMzM3QM3MzMzMzD1AmpmZmZmZK0CamZmZmZkqQDMzMzMzszBAAAAAAAAAKEAzMzMzMzMtQGZmZmZmZjVAAAAAAAAAN0AzMzMzM7M3QAAAAAAAADlAzczMzMzMNUCamZmZmZk0QDMzMzMzMzVAmpmZmZkZM0CamZmZmZk0QGZmZmZmZi5AAAAAAAAAHEAzMzMzMzMgQDMzMzMzMytAmpmZmZkZNEDNzMzMzMw1QAAAAAAAgDhAmpmZmZkZN0AzMzMzM7MzQM3MzMzMTDJAMzMzMzMzNUAAAAAAAIAxQM3MzMzMzDBAZmZmZmZmNkCamZmZmZk0QGZmZmZm5jdAAAAAAAAANkDNzMzMzMwnQA==",
           "dtype": "f8"
          },
          "coloraxis": "coloraxis",
          "symbol": "circle"
         },
         "name": "",
         "showlegend": false,
         "type": "splom"
        }
       ],
       "layout": {
        "coloraxis": {
         "colorbar": {
          "title": {
           "text": "MEDV"
          }
         },
         "colorscale": [
          [
           0,
           "#440154"
          ],
          [
           0.1111111111111111,
           "#482878"
          ],
          [
           0.2222222222222222,
           "#3e4989"
          ],
          [
           0.3333333333333333,
           "#31688e"
          ],
          [
           0.4444444444444444,
           "#26828e"
          ],
          [
           0.5555555555555556,
           "#1f9e89"
          ],
          [
           0.6666666666666666,
           "#35b779"
          ],
          [
           0.7777777777777778,
           "#6ece58"
          ],
          [
           0.8888888888888888,
           "#b5de2b"
          ],
          [
           1,
           "#fde725"
          ]
         ]
        },
        "dragmode": "select",
        "height": 800,
        "legend": {
         "tracegroupgap": 0
        },
        "template": {
         "data": {
          "bar": [
           {
            "error_x": {
             "color": "#2a3f5f"
            },
            "error_y": {
             "color": "#2a3f5f"
            },
            "marker": {
             "line": {
              "color": "#E5ECF6",
              "width": 0.5
             },
             "pattern": {
              "fillmode": "overlay",
              "size": 10,
              "solidity": 0.2
             }
            },
            "type": "bar"
           }
          ],
          "barpolar": [
           {
            "marker": {
             "line": {
              "color": "#E5ECF6",
              "width": 0.5
             },
             "pattern": {
              "fillmode": "overlay",
              "size": 10,
              "solidity": 0.2
             }
            },
            "type": "barpolar"
           }
          ],
          "carpet": [
           {
            "aaxis": {
             "endlinecolor": "#2a3f5f",
             "gridcolor": "white",
             "linecolor": "white",
             "minorgridcolor": "white",
             "startlinecolor": "#2a3f5f"
            },
            "baxis": {
             "endlinecolor": "#2a3f5f",
             "gridcolor": "white",
             "linecolor": "white",
             "minorgridcolor": "white",
             "startlinecolor": "#2a3f5f"
            },
            "type": "carpet"
           }
          ],
          "choropleth": [
           {
            "colorbar": {
             "outlinewidth": 0,
             "ticks": ""
            },
            "type": "choropleth"
           }
          ],
          "contour": [
           {
            "colorbar": {
             "outlinewidth": 0,
             "ticks": ""
            },
            "colorscale": [
             [
              0,
              "#0d0887"
             ],
             [
              0.1111111111111111,
              "#46039f"
             ],
             [
              0.2222222222222222,
              "#7201a8"
             ],
             [
              0.3333333333333333,
              "#9c179e"
             ],
             [
              0.4444444444444444,
              "#bd3786"
             ],
             [
              0.5555555555555556,
              "#d8576b"
             ],
             [
              0.6666666666666666,
              "#ed7953"
             ],
             [
              0.7777777777777778,
              "#fb9f3a"
             ],
             [
              0.8888888888888888,
              "#fdca26"
             ],
             [
              1,
              "#f0f921"
             ]
            ],
            "type": "contour"
           }
          ],
          "contourcarpet": [
           {
            "colorbar": {
             "outlinewidth": 0,
             "ticks": ""
            },
            "type": "contourcarpet"
           }
          ],
          "heatmap": [
           {
            "colorbar": {
             "outlinewidth": 0,
             "ticks": ""
            },
            "colorscale": [
             [
              0,
              "#0d0887"
             ],
             [
              0.1111111111111111,
              "#46039f"
             ],
             [
              0.2222222222222222,
              "#7201a8"
             ],
             [
              0.3333333333333333,
              "#9c179e"
             ],
             [
              0.4444444444444444,
              "#bd3786"
             ],
             [
              0.5555555555555556,
              "#d8576b"
             ],
             [
              0.6666666666666666,
              "#ed7953"
             ],
             [
              0.7777777777777778,
              "#fb9f3a"
             ],
             [
              0.8888888888888888,
              "#fdca26"
             ],
             [
              1,
              "#f0f921"
             ]
            ],
            "type": "heatmap"
           }
          ],
          "histogram": [
           {
            "marker": {
             "pattern": {
              "fillmode": "overlay",
              "size": 10,
              "solidity": 0.2
             }
            },
            "type": "histogram"
           }
          ],
          "histogram2d": [
           {
            "colorbar": {
             "outlinewidth": 0,
             "ticks": ""
            },
            "colorscale": [
             [
              0,
              "#0d0887"
             ],
             [
              0.1111111111111111,
              "#46039f"
             ],
             [
              0.2222222222222222,
              "#7201a8"
             ],
             [
              0.3333333333333333,
              "#9c179e"
             ],
             [
              0.4444444444444444,
              "#bd3786"
             ],
             [
              0.5555555555555556,
              "#d8576b"
             ],
             [
              0.6666666666666666,
              "#ed7953"
             ],
             [
              0.7777777777777778,
              "#fb9f3a"
             ],
             [
              0.8888888888888888,
              "#fdca26"
             ],
             [
              1,
              "#f0f921"
             ]
            ],
            "type": "histogram2d"
           }
          ],
          "histogram2dcontour": [
           {
            "colorbar": {
             "outlinewidth": 0,
             "ticks": ""
            },
            "colorscale": [
             [
              0,
              "#0d0887"
             ],
             [
              0.1111111111111111,
              "#46039f"
             ],
             [
              0.2222222222222222,
              "#7201a8"
             ],
             [
              0.3333333333333333,
              "#9c179e"
             ],
             [
              0.4444444444444444,
              "#bd3786"
             ],
             [
              0.5555555555555556,
              "#d8576b"
             ],
             [
              0.6666666666666666,
              "#ed7953"
             ],
             [
              0.7777777777777778,
              "#fb9f3a"
             ],
             [
              0.8888888888888888,
              "#fdca26"
             ],
             [
              1,
              "#f0f921"
             ]
            ],
            "type": "histogram2dcontour"
           }
          ],
          "mesh3d": [
           {
            "colorbar": {
             "outlinewidth": 0,
             "ticks": ""
            },
            "type": "mesh3d"
           }
          ],
          "parcoords": [
           {
            "line": {
             "colorbar": {
              "outlinewidth": 0,
              "ticks": ""
             }
            },
            "type": "parcoords"
           }
          ],
          "pie": [
           {
            "automargin": true,
            "type": "pie"
           }
          ],
          "scatter": [
           {
            "fillpattern": {
             "fillmode": "overlay",
             "size": 10,
             "solidity": 0.2
            },
            "type": "scatter"
           }
          ],
          "scatter3d": [
           {
            "line": {
             "colorbar": {
              "outlinewidth": 0,
              "ticks": ""
             }
            },
            "marker": {
             "colorbar": {
              "outlinewidth": 0,
              "ticks": ""
             }
            },
            "type": "scatter3d"
           }
          ],
          "scattercarpet": [
           {
            "marker": {
             "colorbar": {
              "outlinewidth": 0,
              "ticks": ""
             }
            },
            "type": "scattercarpet"
           }
          ],
          "scattergeo": [
           {
            "marker": {
             "colorbar": {
              "outlinewidth": 0,
              "ticks": ""
             }
            },
            "type": "scattergeo"
           }
          ],
          "scattergl": [
           {
            "marker": {
             "colorbar": {
              "outlinewidth": 0,
              "ticks": ""
             }
            },
            "type": "scattergl"
           }
          ],
          "scattermap": [
           {
            "marker": {
             "colorbar": {
              "outlinewidth": 0,
              "ticks": ""
             }
            },
            "type": "scattermap"
           }
          ],
          "scattermapbox": [
           {
            "marker": {
             "colorbar": {
              "outlinewidth": 0,
              "ticks": ""
             }
            },
            "type": "scattermapbox"
           }
          ],
          "scatterpolar": [
           {
            "marker": {
             "colorbar": {
              "outlinewidth": 0,
              "ticks": ""
             }
            },
            "type": "scatterpolar"
           }
          ],
          "scatterpolargl": [
           {
            "marker": {
             "colorbar": {
              "outlinewidth": 0,
              "ticks": ""
             }
            },
            "type": "scatterpolargl"
           }
          ],
          "scatterternary": [
           {
            "marker": {
             "colorbar": {
              "outlinewidth": 0,
              "ticks": ""
             }
            },
            "type": "scatterternary"
           }
          ],
          "surface": [
           {
            "colorbar": {
             "outlinewidth": 0,
             "ticks": ""
            },
            "colorscale": [
             [
              0,
              "#0d0887"
             ],
             [
              0.1111111111111111,
              "#46039f"
             ],
             [
              0.2222222222222222,
              "#7201a8"
             ],
             [
              0.3333333333333333,
              "#9c179e"
             ],
             [
              0.4444444444444444,
              "#bd3786"
             ],
             [
              0.5555555555555556,
              "#d8576b"
             ],
             [
              0.6666666666666666,
              "#ed7953"
             ],
             [
              0.7777777777777778,
              "#fb9f3a"
             ],
             [
              0.8888888888888888,
              "#fdca26"
             ],
             [
              1,
              "#f0f921"
             ]
            ],
            "type": "surface"
           }
          ],
          "table": [
           {
            "cells": {
             "fill": {
              "color": "#EBF0F8"
             },
             "line": {
              "color": "white"
             }
            },
            "header": {
             "fill": {
              "color": "#C8D4E3"
             },
             "line": {
              "color": "white"
             }
            },
            "type": "table"
           }
          ]
         },
         "layout": {
          "annotationdefaults": {
           "arrowcolor": "#2a3f5f",
           "arrowhead": 0,
           "arrowwidth": 1
          },
          "autotypenumbers": "strict",
          "coloraxis": {
           "colorbar": {
            "outlinewidth": 0,
            "ticks": ""
           }
          },
          "colorscale": {
           "diverging": [
            [
             0,
             "#8e0152"
            ],
            [
             0.1,
             "#c51b7d"
            ],
            [
             0.2,
             "#de77ae"
            ],
            [
             0.3,
             "#f1b6da"
            ],
            [
             0.4,
             "#fde0ef"
            ],
            [
             0.5,
             "#f7f7f7"
            ],
            [
             0.6,
             "#e6f5d0"
            ],
            [
             0.7,
             "#b8e186"
            ],
            [
             0.8,
             "#7fbc41"
            ],
            [
             0.9,
             "#4d9221"
            ],
            [
             1,
             "#276419"
            ]
           ],
           "sequential": [
            [
             0,
             "#0d0887"
            ],
            [
             0.1111111111111111,
             "#46039f"
            ],
            [
             0.2222222222222222,
             "#7201a8"
            ],
            [
             0.3333333333333333,
             "#9c179e"
            ],
            [
             0.4444444444444444,
             "#bd3786"
            ],
            [
             0.5555555555555556,
             "#d8576b"
            ],
            [
             0.6666666666666666,
             "#ed7953"
            ],
            [
             0.7777777777777778,
             "#fb9f3a"
            ],
            [
             0.8888888888888888,
             "#fdca26"
            ],
            [
             1,
             "#f0f921"
            ]
           ],
           "sequentialminus": [
            [
             0,
             "#0d0887"
            ],
            [
             0.1111111111111111,
             "#46039f"
            ],
            [
             0.2222222222222222,
             "#7201a8"
            ],
            [
             0.3333333333333333,
             "#9c179e"
            ],
            [
             0.4444444444444444,
             "#bd3786"
            ],
            [
             0.5555555555555556,
             "#d8576b"
            ],
            [
             0.6666666666666666,
             "#ed7953"
            ],
            [
             0.7777777777777778,
             "#fb9f3a"
            ],
            [
             0.8888888888888888,
             "#fdca26"
            ],
            [
             1,
             "#f0f921"
            ]
           ]
          },
          "colorway": [
           "#636efa",
           "#EF553B",
           "#00cc96",
           "#ab63fa",
           "#FFA15A",
           "#19d3f3",
           "#FF6692",
           "#B6E880",
           "#FF97FF",
           "#FECB52"
          ],
          "font": {
           "color": "#2a3f5f"
          },
          "geo": {
           "bgcolor": "white",
           "lakecolor": "white",
           "landcolor": "#E5ECF6",
           "showlakes": true,
           "showland": true,
           "subunitcolor": "white"
          },
          "hoverlabel": {
           "align": "left"
          },
          "hovermode": "closest",
          "mapbox": {
           "style": "light"
          },
          "paper_bgcolor": "white",
          "plot_bgcolor": "#E5ECF6",
          "polar": {
           "angularaxis": {
            "gridcolor": "white",
            "linecolor": "white",
            "ticks": ""
           },
           "bgcolor": "#E5ECF6",
           "radialaxis": {
            "gridcolor": "white",
            "linecolor": "white",
            "ticks": ""
           }
          },
          "scene": {
           "xaxis": {
            "backgroundcolor": "#E5ECF6",
            "gridcolor": "white",
            "gridwidth": 2,
            "linecolor": "white",
            "showbackground": true,
            "ticks": "",
            "zerolinecolor": "white"
           },
           "yaxis": {
            "backgroundcolor": "#E5ECF6",
            "gridcolor": "white",
            "gridwidth": 2,
            "linecolor": "white",
            "showbackground": true,
            "ticks": "",
            "zerolinecolor": "white"
           },
           "zaxis": {
            "backgroundcolor": "#E5ECF6",
            "gridcolor": "white",
            "gridwidth": 2,
            "linecolor": "white",
            "showbackground": true,
            "ticks": "",
            "zerolinecolor": "white"
           }
          },
          "shapedefaults": {
           "line": {
            "color": "#2a3f5f"
           }
          },
          "ternary": {
           "aaxis": {
            "gridcolor": "white",
            "linecolor": "white",
            "ticks": ""
           },
           "baxis": {
            "gridcolor": "white",
            "linecolor": "white",
            "ticks": ""
           },
           "bgcolor": "#E5ECF6",
           "caxis": {
            "gridcolor": "white",
            "linecolor": "white",
            "ticks": ""
           }
          },
          "title": {
           "x": 0.05
          },
          "xaxis": {
           "automargin": true,
           "gridcolor": "white",
           "linecolor": "white",
           "ticks": "",
           "title": {
            "standoff": 15
           },
           "zerolinecolor": "white",
           "zerolinewidth": 2
          },
          "yaxis": {
           "automargin": true,
           "gridcolor": "white",
           "linecolor": "white",
           "ticks": "",
           "title": {
            "standoff": 15
           },
           "zerolinecolor": "white",
           "zerolinewidth": 2
          }
         }
        },
        "title": {
         "text": "Матрица scatter plot ключевых признаков Boston Housing"
        }
       }
      }
     },
     "metadata": {},
     "output_type": "display_data"
    }
   ],
   "source": [
    "# Более детальный анализ ключевых признаков\n",
    "key_features = ['RM', 'LSTAT', 'PTRATIO', 'INDUS']  # Выбранные ключевые признаки\n",
    "\n",
    "# Матрица scatter plots\n",
    "# px.scatter_matrix: создает матрицу scatter plots для выбранных измерений\n",
    "# dimensions: список колонок для анализа\n",
    "# color='MEDV': цвет точек based on цены\n",
    "# color_continuous_scale: цветовая шкала\n",
    "# title: заголовок графика\n",
    "\n",
    "fig = px.scatter_matrix(df, \n",
    "                        dimensions=key_features + ['MEDV'],\n",
    "                        title='Матрица scatter plot ключевых признаков Boston Housing',\n",
    "                        color='MEDV',\n",
    "                        color_continuous_scale='viridis',\n",
    "                        height=800)  # высота графика\n",
    "fig.show()"
   ]
  },
  {
   "cell_type": "code",
   "execution_count": 100,
   "id": "88716dca",
   "metadata": {},
   "outputs": [
    {
     "data": {
      "application/vnd.plotly.v1+json": {
       "config": {
        "plotlyServerURL": "https://plot.ly"
       },
       "data": [
        {
         "boxpoints": "suspectedoutliers",
         "marker": {
          "size": 4
         },
         "name": "RM",
         "type": "box",
         "xaxis": "x",
         "y": {
          "bdata": "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",
          "dtype": "f8"
         },
         "yaxis": "y"
        },
        {
         "boxpoints": "suspectedoutliers",
         "marker": {
          "size": 4
         },
         "name": "LSTAT",
         "type": "box",
         "xaxis": "x2",
         "y": {
          "bdata": "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",
          "dtype": "f8"
         },
         "yaxis": "y2"
        },
        {
         "boxpoints": "suspectedoutliers",
         "marker": {
          "size": 4
         },
         "name": "PTRATIO",
         "type": "box",
         "xaxis": "x3",
         "y": {
          "bdata": "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",
          "dtype": "f8"
         },
         "yaxis": "y3"
        },
        {
         "boxpoints": "suspectedoutliers",
         "marker": {
          "size": 4
         },
         "name": "INDUS",
         "type": "box",
         "xaxis": "x4",
         "y": {
          "bdata": "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",
          "dtype": "f8"
         },
         "yaxis": "y4"
        },
        {
         "boxpoints": "suspectedoutliers",
         "marker": {
          "size": 4
         },
         "name": "MEDV",
         "type": "box",
         "xaxis": "x5",
         "y": {
          "bdata": "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",
          "dtype": "f8"
         },
         "yaxis": "y5"
        }
       ],
       "layout": {
        "annotations": [
         {
          "font": {
           "size": 16
          },
          "showarrow": false,
          "text": "RM",
          "x": 0.14444444444444446,
          "xanchor": "center",
          "xref": "paper",
          "y": 1,
          "yanchor": "bottom",
          "yref": "paper"
         },
         {
          "font": {
           "size": 16
          },
          "showarrow": false,
          "text": "LSTAT",
          "x": 0.5,
          "xanchor": "center",
          "xref": "paper",
          "y": 1,
          "yanchor": "bottom",
          "yref": "paper"
         },
         {
          "font": {
           "size": 16
          },
          "showarrow": false,
          "text": "PTRATIO",
          "x": 0.8555555555555556,
          "xanchor": "center",
          "xref": "paper",
          "y": 1,
          "yanchor": "bottom",
          "yref": "paper"
         },
         {
          "font": {
           "size": 16
          },
          "showarrow": false,
          "text": "INDUS",
          "x": 0.14444444444444446,
          "xanchor": "center",
          "xref": "paper",
          "y": 0.375,
          "yanchor": "bottom",
          "yref": "paper"
         },
         {
          "font": {
           "size": 16
          },
          "showarrow": false,
          "text": "MEDV",
          "x": 0.5,
          "xanchor": "center",
          "xref": "paper",
          "y": 0.375,
          "yanchor": "bottom",
          "yref": "paper"
         }
        ],
        "height": 600,
        "showlegend": false,
        "template": {
         "data": {
          "bar": [
           {
            "error_x": {
             "color": "#2a3f5f"
            },
            "error_y": {
             "color": "#2a3f5f"
            },
            "marker": {
             "line": {
              "color": "#E5ECF6",
              "width": 0.5
             },
             "pattern": {
              "fillmode": "overlay",
              "size": 10,
              "solidity": 0.2
             }
            },
            "type": "bar"
           }
          ],
          "barpolar": [
           {
            "marker": {
             "line": {
              "color": "#E5ECF6",
              "width": 0.5
             },
             "pattern": {
              "fillmode": "overlay",
              "size": 10,
              "solidity": 0.2
             }
            },
            "type": "barpolar"
           }
          ],
          "carpet": [
           {
            "aaxis": {
             "endlinecolor": "#2a3f5f",
             "gridcolor": "white",
             "linecolor": "white",
             "minorgridcolor": "white",
             "startlinecolor": "#2a3f5f"
            },
            "baxis": {
             "endlinecolor": "#2a3f5f",
             "gridcolor": "white",
             "linecolor": "white",
             "minorgridcolor": "white",
             "startlinecolor": "#2a3f5f"
            },
            "type": "carpet"
           }
          ],
          "choropleth": [
           {
            "colorbar": {
             "outlinewidth": 0,
             "ticks": ""
            },
            "type": "choropleth"
           }
          ],
          "contour": [
           {
            "colorbar": {
             "outlinewidth": 0,
             "ticks": ""
            },
            "colorscale": [
             [
              0,
              "#0d0887"
             ],
             [
              0.1111111111111111,
              "#46039f"
             ],
             [
              0.2222222222222222,
              "#7201a8"
             ],
             [
              0.3333333333333333,
              "#9c179e"
             ],
             [
              0.4444444444444444,
              "#bd3786"
             ],
             [
              0.5555555555555556,
              "#d8576b"
             ],
             [
              0.6666666666666666,
              "#ed7953"
             ],
             [
              0.7777777777777778,
              "#fb9f3a"
             ],
             [
              0.8888888888888888,
              "#fdca26"
             ],
             [
              1,
              "#f0f921"
             ]
            ],
            "type": "contour"
           }
          ],
          "contourcarpet": [
           {
            "colorbar": {
             "outlinewidth": 0,
             "ticks": ""
            },
            "type": "contourcarpet"
           }
          ],
          "heatmap": [
           {
            "colorbar": {
             "outlinewidth": 0,
             "ticks": ""
            },
            "colorscale": [
             [
              0,
              "#0d0887"
             ],
             [
              0.1111111111111111,
              "#46039f"
             ],
             [
              0.2222222222222222,
              "#7201a8"
             ],
             [
              0.3333333333333333,
              "#9c179e"
             ],
             [
              0.4444444444444444,
              "#bd3786"
             ],
             [
              0.5555555555555556,
              "#d8576b"
             ],
             [
              0.6666666666666666,
              "#ed7953"
             ],
             [
              0.7777777777777778,
              "#fb9f3a"
             ],
             [
              0.8888888888888888,
              "#fdca26"
             ],
             [
              1,
              "#f0f921"
             ]
            ],
            "type": "heatmap"
           }
          ],
          "histogram": [
           {
            "marker": {
             "pattern": {
              "fillmode": "overlay",
              "size": 10,
              "solidity": 0.2
             }
            },
            "type": "histogram"
           }
          ],
          "histogram2d": [
           {
            "colorbar": {
             "outlinewidth": 0,
             "ticks": ""
            },
            "colorscale": [
             [
              0,
              "#0d0887"
             ],
             [
              0.1111111111111111,
              "#46039f"
             ],
             [
              0.2222222222222222,
              "#7201a8"
             ],
             [
              0.3333333333333333,
              "#9c179e"
             ],
             [
              0.4444444444444444,
              "#bd3786"
             ],
             [
              0.5555555555555556,
              "#d8576b"
             ],
             [
              0.6666666666666666,
              "#ed7953"
             ],
             [
              0.7777777777777778,
              "#fb9f3a"
             ],
             [
              0.8888888888888888,
              "#fdca26"
             ],
             [
              1,
              "#f0f921"
             ]
            ],
            "type": "histogram2d"
           }
          ],
          "histogram2dcontour": [
           {
            "colorbar": {
             "outlinewidth": 0,
             "ticks": ""
            },
            "colorscale": [
             [
              0,
              "#0d0887"
             ],
             [
              0.1111111111111111,
              "#46039f"
             ],
             [
              0.2222222222222222,
              "#7201a8"
             ],
             [
              0.3333333333333333,
              "#9c179e"
             ],
             [
              0.4444444444444444,
              "#bd3786"
             ],
             [
              0.5555555555555556,
              "#d8576b"
             ],
             [
              0.6666666666666666,
              "#ed7953"
             ],
             [
              0.7777777777777778,
              "#fb9f3a"
             ],
             [
              0.8888888888888888,
              "#fdca26"
             ],
             [
              1,
              "#f0f921"
             ]
            ],
            "type": "histogram2dcontour"
           }
          ],
          "mesh3d": [
           {
            "colorbar": {
             "outlinewidth": 0,
             "ticks": ""
            },
            "type": "mesh3d"
           }
          ],
          "parcoords": [
           {
            "line": {
             "colorbar": {
              "outlinewidth": 0,
              "ticks": ""
             }
            },
            "type": "parcoords"
           }
          ],
          "pie": [
           {
            "automargin": true,
            "type": "pie"
           }
          ],
          "scatter": [
           {
            "fillpattern": {
             "fillmode": "overlay",
             "size": 10,
             "solidity": 0.2
            },
            "type": "scatter"
           }
          ],
          "scatter3d": [
           {
            "line": {
             "colorbar": {
              "outlinewidth": 0,
              "ticks": ""
             }
            },
            "marker": {
             "colorbar": {
              "outlinewidth": 0,
              "ticks": ""
             }
            },
            "type": "scatter3d"
           }
          ],
          "scattercarpet": [
           {
            "marker": {
             "colorbar": {
              "outlinewidth": 0,
              "ticks": ""
             }
            },
            "type": "scattercarpet"
           }
          ],
          "scattergeo": [
           {
            "marker": {
             "colorbar": {
              "outlinewidth": 0,
              "ticks": ""
             }
            },
            "type": "scattergeo"
           }
          ],
          "scattergl": [
           {
            "marker": {
             "colorbar": {
              "outlinewidth": 0,
              "ticks": ""
             }
            },
            "type": "scattergl"
           }
          ],
          "scattermap": [
           {
            "marker": {
             "colorbar": {
              "outlinewidth": 0,
              "ticks": ""
             }
            },
            "type": "scattermap"
           }
          ],
          "scattermapbox": [
           {
            "marker": {
             "colorbar": {
              "outlinewidth": 0,
              "ticks": ""
             }
            },
            "type": "scattermapbox"
           }
          ],
          "scatterpolar": [
           {
            "marker": {
             "colorbar": {
              "outlinewidth": 0,
              "ticks": ""
             }
            },
            "type": "scatterpolar"
           }
          ],
          "scatterpolargl": [
           {
            "marker": {
             "colorbar": {
              "outlinewidth": 0,
              "ticks": ""
             }
            },
            "type": "scatterpolargl"
           }
          ],
          "scatterternary": [
           {
            "marker": {
             "colorbar": {
              "outlinewidth": 0,
              "ticks": ""
             }
            },
            "type": "scatterternary"
           }
          ],
          "surface": [
           {
            "colorbar": {
             "outlinewidth": 0,
             "ticks": ""
            },
            "colorscale": [
             [
              0,
              "#0d0887"
             ],
             [
              0.1111111111111111,
              "#46039f"
             ],
             [
              0.2222222222222222,
              "#7201a8"
             ],
             [
              0.3333333333333333,
              "#9c179e"
             ],
             [
              0.4444444444444444,
              "#bd3786"
             ],
             [
              0.5555555555555556,
              "#d8576b"
             ],
             [
              0.6666666666666666,
              "#ed7953"
             ],
             [
              0.7777777777777778,
              "#fb9f3a"
             ],
             [
              0.8888888888888888,
              "#fdca26"
             ],
             [
              1,
              "#f0f921"
             ]
            ],
            "type": "surface"
           }
          ],
          "table": [
           {
            "cells": {
             "fill": {
              "color": "#EBF0F8"
             },
             "line": {
              "color": "white"
             }
            },
            "header": {
             "fill": {
              "color": "#C8D4E3"
             },
             "line": {
              "color": "white"
             }
            },
            "type": "table"
           }
          ]
         },
         "layout": {
          "annotationdefaults": {
           "arrowcolor": "#2a3f5f",
           "arrowhead": 0,
           "arrowwidth": 1
          },
          "autotypenumbers": "strict",
          "coloraxis": {
           "colorbar": {
            "outlinewidth": 0,
            "ticks": ""
           }
          },
          "colorscale": {
           "diverging": [
            [
             0,
             "#8e0152"
            ],
            [
             0.1,
             "#c51b7d"
            ],
            [
             0.2,
             "#de77ae"
            ],
            [
             0.3,
             "#f1b6da"
            ],
            [
             0.4,
             "#fde0ef"
            ],
            [
             0.5,
             "#f7f7f7"
            ],
            [
             0.6,
             "#e6f5d0"
            ],
            [
             0.7,
             "#b8e186"
            ],
            [
             0.8,
             "#7fbc41"
            ],
            [
             0.9,
             "#4d9221"
            ],
            [
             1,
             "#276419"
            ]
           ],
           "sequential": [
            [
             0,
             "#0d0887"
            ],
            [
             0.1111111111111111,
             "#46039f"
            ],
            [
             0.2222222222222222,
             "#7201a8"
            ],
            [
             0.3333333333333333,
             "#9c179e"
            ],
            [
             0.4444444444444444,
             "#bd3786"
            ],
            [
             0.5555555555555556,
             "#d8576b"
            ],
            [
             0.6666666666666666,
             "#ed7953"
            ],
            [
             0.7777777777777778,
             "#fb9f3a"
            ],
            [
             0.8888888888888888,
             "#fdca26"
            ],
            [
             1,
             "#f0f921"
            ]
           ],
           "sequentialminus": [
            [
             0,
             "#0d0887"
            ],
            [
             0.1111111111111111,
             "#46039f"
            ],
            [
             0.2222222222222222,
             "#7201a8"
            ],
            [
             0.3333333333333333,
             "#9c179e"
            ],
            [
             0.4444444444444444,
             "#bd3786"
            ],
            [
             0.5555555555555556,
             "#d8576b"
            ],
            [
             0.6666666666666666,
             "#ed7953"
            ],
            [
             0.7777777777777778,
             "#fb9f3a"
            ],
            [
             0.8888888888888888,
             "#fdca26"
            ],
            [
             1,
             "#f0f921"
            ]
           ]
          },
          "colorway": [
           "#636efa",
           "#EF553B",
           "#00cc96",
           "#ab63fa",
           "#FFA15A",
           "#19d3f3",
           "#FF6692",
           "#B6E880",
           "#FF97FF",
           "#FECB52"
          ],
          "font": {
           "color": "#2a3f5f"
          },
          "geo": {
           "bgcolor": "white",
           "lakecolor": "white",
           "landcolor": "#E5ECF6",
           "showlakes": true,
           "showland": true,
           "subunitcolor": "white"
          },
          "hoverlabel": {
           "align": "left"
          },
          "hovermode": "closest",
          "mapbox": {
           "style": "light"
          },
          "paper_bgcolor": "white",
          "plot_bgcolor": "#E5ECF6",
          "polar": {
           "angularaxis": {
            "gridcolor": "white",
            "linecolor": "white",
            "ticks": ""
           },
           "bgcolor": "#E5ECF6",
           "radialaxis": {
            "gridcolor": "white",
            "linecolor": "white",
            "ticks": ""
           }
          },
          "scene": {
           "xaxis": {
            "backgroundcolor": "#E5ECF6",
            "gridcolor": "white",
            "gridwidth": 2,
            "linecolor": "white",
            "showbackground": true,
            "ticks": "",
            "zerolinecolor": "white"
           },
           "yaxis": {
            "backgroundcolor": "#E5ECF6",
            "gridcolor": "white",
            "gridwidth": 2,
            "linecolor": "white",
            "showbackground": true,
            "ticks": "",
            "zerolinecolor": "white"
           },
           "zaxis": {
            "backgroundcolor": "#E5ECF6",
            "gridcolor": "white",
            "gridwidth": 2,
            "linecolor": "white",
            "showbackground": true,
            "ticks": "",
            "zerolinecolor": "white"
           }
          },
          "shapedefaults": {
           "line": {
            "color": "#2a3f5f"
           }
          },
          "ternary": {
           "aaxis": {
            "gridcolor": "white",
            "linecolor": "white",
            "ticks": ""
           },
           "baxis": {
            "gridcolor": "white",
            "linecolor": "white",
            "ticks": ""
           },
           "bgcolor": "#E5ECF6",
           "caxis": {
            "gridcolor": "white",
            "linecolor": "white",
            "ticks": ""
           }
          },
          "title": {
           "x": 0.05
          },
          "xaxis": {
           "automargin": true,
           "gridcolor": "white",
           "linecolor": "white",
           "ticks": "",
           "title": {
            "standoff": 15
           },
           "zerolinecolor": "white",
           "zerolinewidth": 2
          },
          "yaxis": {
           "automargin": true,
           "gridcolor": "white",
           "linecolor": "white",
           "ticks": "",
           "title": {
            "standoff": 15
           },
           "zerolinecolor": "white",
           "zerolinewidth": 2
          }
         }
        },
        "title": {
         "text": "Анализ выбросов в ключевых признаках Boston Housing Dataset"
        },
        "width": 900,
        "xaxis": {
         "anchor": "y",
         "domain": [
          0,
          0.2888888888888889
         ]
        },
        "xaxis2": {
         "anchor": "y2",
         "domain": [
          0.35555555555555557,
          0.6444444444444445
         ]
        },
        "xaxis3": {
         "anchor": "y3",
         "domain": [
          0.7111111111111111,
          1
         ]
        },
        "xaxis4": {
         "anchor": "y4",
         "domain": [
          0,
          0.2888888888888889
         ]
        },
        "xaxis5": {
         "anchor": "y5",
         "domain": [
          0.35555555555555557,
          0.6444444444444445
         ]
        },
        "xaxis6": {
         "anchor": "y6",
         "domain": [
          0.7111111111111111,
          1
         ]
        },
        "yaxis": {
         "anchor": "x",
         "domain": [
          0.625,
          1
         ]
        },
        "yaxis2": {
         "anchor": "x2",
         "domain": [
          0.625,
          1
         ]
        },
        "yaxis3": {
         "anchor": "x3",
         "domain": [
          0.625,
          1
         ]
        },
        "yaxis4": {
         "anchor": "x4",
         "domain": [
          0,
          0.375
         ]
        },
        "yaxis5": {
         "anchor": "x5",
         "domain": [
          0,
          0.375
         ]
        },
        "yaxis6": {
         "anchor": "x6",
         "domain": [
          0,
          0.375
         ]
        }
       }
      }
     },
     "metadata": {},
     "output_type": "display_data"
    },
    {
     "data": {
      "image/png": "[encoded data removed]",
      "text/plain": [
       "<Figure size 2000x1000 with 14 Axes>"
      ]
     },
     "metadata": {},
     "output_type": "display_data"
    }
   ],
   "source": [
    "# Анализ выбросов с помощью box plots\n",
    "fig = make_subplots(rows=2, \n",
    "                    cols=3, \n",
    "                    subplot_titles=key_features + ['MEDV'])  # заголовки для каждого box plot\n",
    "\n",
    "features_to_plot = key_features + ['MEDV']\n",
    "\n",
    "for i, feature in enumerate(features_to_plot, 1):\n",
    "    fig.add_trace(\n",
    "        go.Box(\n",
    "            y=df[feature],      # данные для box plot\n",
    "            name=feature,       # название для легенды\n",
    "            boxpoints='suspectedoutliers',  # показывать только подозрительные выбросы\n",
    "            marker=dict(size=4) # размер маркеров выбросов\n",
    "        ), \n",
    "        row=(i-1)//3 + 1,  # вычисление номера строки (целочисленное деление)\n",
    "        col=(i-1)%3 + 1    # вычисление номера колонки (остаток от деления)\n",
    "    )\n",
    "\n",
    "fig.update_layout(\n",
    "    height=600,      # высота графика\n",
    "    width=900,       # ширина графика\n",
    "    title_text='Анализ выбросов в ключевых признаках Boston Housing Dataset',\n",
    "    showlegend=False # скрыть легенду\n",
    ")\n",
    "fig.show()\n",
    "\n",
    "\n",
    "fig, axs = plt.subplots(ncols=7, nrows=2, figsize=(20, 10))\n",
    "index = 0\n",
    "axs = axs.flatten()\n",
    "for k,v in df.items():\n",
    "    sns.boxplot(y=k, data=df, ax=axs[index])\n",
    "    index += 1\n",
    "plt.tight_layout(pad=0.4, w_pad=0.5, h_pad=5.0)"
   ]
  },
  {
   "cell_type": "code",
   "execution_count": 101,
   "id": "3630a686",
   "metadata": {},
   "outputs": [
    {
     "data": {
      "application/vnd.plotly.v1+json": {
       "config": {
        "plotlyServerURL": "https://plot.ly"
       },
       "data": [
        {
         "hovertemplate": "Среднее число комнат=%{x}<br>% населения низкого статуса=%{y}<br>Медианная цена ($1000s)=%{marker.color}<extra></extra>",
         "legendgroup": "",
         "marker": {
          "color": {
           "bdata": "AAAAAAAAOECamZmZmZk1QJqZmZmZWUFAMzMzMzOzQECamZmZmRlCQDMzMzMzszxAZmZmZmbmNkCamZmZmRk7QAAAAAAAgDBAZmZmZmbmMkAAAAAAAAAuQGZmZmZm5jJAMzMzMzOzNUBmZmZmZmY0QDMzMzMzMzJAZmZmZmbmM0CamZmZmRk3QAAAAAAAgDFAMzMzMzMzNEAzMzMzMzMyQDMzMzMzMytAmpmZmZmZM0BmZmZmZmYuQAAAAAAAAC1AMzMzMzMzL0DNzMzMzMwrQJqZmZmZmTBAmpmZmZmZLUBmZmZmZmYyQAAAAAAAADVAZmZmZmZmKUAAAAAAAAAtQGZmZmZmZipAMzMzMzMzKkAAAAAAAAArQGZmZmZm5jJAAAAAAAAANEAAAAAAAAA1QDMzMzMzszhAzczMzMzMPkAzMzMzM3NBQJqZmZmZmTpAzczMzMxMOUAzMzMzM7M4QDMzMzMzMzVAzczMzMxMM0AAAAAAAAA0QJqZmZmZmTBAzczMzMzMLEBmZmZmZmYzQDMzMzMzszNAAAAAAACANEAAAAAAAAA5QGZmZmZmZjdAZmZmZmbmMkAzMzMzM7NBQDMzMzMzszhAmpmZmZmZP0DNzMzMzEw3QJqZmZmZmTNAMzMzMzOzMkAAAAAAAAAwQDMzMzMzMzZAAAAAAAAAOUAAAAAAAIBAQAAAAAAAgDdAZmZmZmZmM0AAAAAAAAA2QGZmZmZmZjFAZmZmZmbmNEAzMzMzMzM4QDMzMzMzszVAzczMzMzMNkBmZmZmZmY3QJqZmZmZGThAZmZmZmZmNUAAAAAAAAA0QM3MzMzMzDRAMzMzMzMzNUDNzMzMzEw0QAAAAAAAADxAZmZmZmbmN0DNzMzMzMw4QGZmZmZm5jZAZmZmZmbmN0CamZmZmZk6QAAAAAAAgDZAMzMzMzMzNkCamZmZmZk3QDMzMzMzszxAmpmZmZmZNkAAAAAAAAA2QGZmZmZm5jZAAAAAAAAAOUCamZmZmZk0QGZmZmZmZjxAZmZmZmZmNUCamZmZmVlDQGZmZmZm5kVAmpmZmZmZQEAAAAAAAIA7QAAAAAAAgDpAmpmZmZmZMkDNzMzMzEwzQJqZmZmZGTRAAAAAAACAM0AAAAAAAIAzQGZmZmZmZjRAzczMzMzMM0BmZmZmZmYzQDMzMzMzszVAzczMzMzMNkDNzMzMzMwyQDMzMzMzszJAAAAAAACAMkDNzMzMzEwyQDMzMzMzMzVAMzMzMzMzM0BmZmZmZmY0QM3MzMzMTDNAAAAAAAAANkDNzMzMzEw0QAAAAAAAgDRAzczMzMxMMUDNzMzMzMwyQGZmZmZmZjVAZmZmZmZmL0AzMzMzMzMwQAAAAAAAADJAmpmZmZmZLEAzMzMzMzMzQJqZmZmZmTNAAAAAAAAAN0BmZmZmZmYyQDMzMzMzMy9AmpmZmZkZMkBmZmZmZmYxQJqZmZmZGTFAmpmZmZmZKkDNzMzMzMwxQAAAAAAAACxAzczMzMzMLEDNzMzMzMwqQDMzMzMzMy9AmpmZmZmZJ0CamZmZmZkrQDMzMzMzMy9AMzMzMzMzLUDNzMzMzMwxQM3MzMzMzC5AAAAAAACANUCamZmZmZkzQJqZmZmZmS5AZmZmZmZmM0AAAAAAAAAxQDMzMzMzMy9AMzMzMzMzKkBmZmZmZqZEQM3MzMzMTDhAzczMzMxMN0AAAAAAAAA7QAAAAAAAAElAAAAAAAAASUAAAAAAAABJQDMzMzMzszZAAAAAAAAAOUAAAAAAAABJQM3MzMzMzDdAzczMzMzMN0DNzMzMzEw2QGZmZmZmZjFAmpmZmZkZM0CamZmZmRk3QJqZmZmZmTdAmpmZmZmZNkBmZmZmZmY9QDMzMzMzMzdAmpmZmZmZOEBmZmZmZuY9QJqZmZmZmUJAZmZmZmbmQ0CamZmZmRlCQDMzMzMz80JAAAAAAABAQEBmZmZmZmY6QJqZmZmZmT1AAAAAAAAASUAAAAAAAABAQM3MzMzMzD1AMzMzMzNzQUAAAAAAAIBCQAAAAAAAgD5AMzMzMzMzQkCamZmZmRk/QJqZmZmZGT1AAAAAAAAASUBmZmZmZqZAQM3MzMzMTD5AzczMzMxMQUAzMzMzM3NBQDMzMzMzc0BAmpmZmZkZOEBmZmZmZiZFQAAAAAAAQEhAAAAAAAAASUCamZmZmZk2QGZmZmZmZjhAAAAAAACANkBmZmZmZmY4QAAAAAAAADRAMzMzMzOzNUDNzMzMzEwzQGZmZmZmZjZAmpmZmZkZPEAzMzMzM7M3QAAAAAAAADlAzczMzMxMN0AzMzMzM7M8QAAAAAAAgDVAAAAAAAAAN0AzMzMzM7M6QDMzMzMzszVAAAAAAACAO0CamZmZmRk+QGZmZmZmZkZAAAAAAAAASUDNzMzMzMxCQJqZmZmZmT9AmpmZmZlZR0AAAAAAAIA/QM3MzMzMTDhAMzMzMzOzP0CamZmZmdlEQGZmZmZmJkhAAAAAAAAAPUAAAAAAAAA4QJqZmZmZGTlAAAAAAACAP0AzMzMzM7M3QM3MzMzMTDdAAAAAAAAANkCamZmZmRk0QDMzMzMzMzZAMzMzMzOzN0CamZmZmZkxQAAAAAAAgDJAzczMzMxMOEAAAAAAAIA0QAAAAAAAgDhAMzMzMzMzOkBmZmZmZmY4QM3MzMzMzDhAmpmZmZmZPUBmZmZmZmZFQGZmZmZm5jVAZmZmZmbmNEAAAAAAAABGQAAAAAAAAElAAAAAAAAAQkCamZmZmRk+QGZmZmZm5kBAzczMzMyMRUBmZmZmZmZIQAAAAAAAAD9AAAAAAABAQkDNzMzMzMw2QDMzMzMzsz5AAAAAAAAASUAAAAAAAMBFQDMzMzMzszRAmpmZmZkZNUAzMzMzMzM5QGZmZmZmZjhAmpmZmZmZQUAzMzMzMzNAQAAAAAAAAEBAmpmZmZmZQEDNzMzMzIxAQJqZmZmZGT1AzczMzMyMQUAzMzMzM7NGQDMzMzMzs0FAAAAAAAAAR0AAAAAAAABJQJqZmZmZGUBAAAAAAAAANkCamZmZmRk0QDMzMzMzMzdAzczMzMxMNkDNzMzMzMw4QAAAAAAAgDxAZmZmZmamQkBmZmZmZuY7QGZmZmZm5jdAMzMzMzOzNUCamZmZmZk8QJqZmZmZGTtAzczMzMxMNEAAAAAAAIA2QAAAAAAAAD1AzczMzMzMOEAAAAAAAAA2QGZmZmZmZjpAzczMzMyMQEDNzMzMzAxCQGZmZmZmZjxAMzMzMzOzQEAzMzMzMzM8QM3MzMzMzDZAzczMzMxMNECamZmZmRkwQJqZmZmZGTZAZmZmZmZmM0CamZmZmZk1QM3MzMzMzDdAMzMzMzMzMEDNzMzMzMwxQM3MzMzMzDNAmpmZmZkZN0AAAAAAAAA1QM3MzMzMzDdAmpmZmZkZN0BmZmZmZmY0QAAAAAAAgDJAAAAAAAAAOUCamZmZmZk4QAAAAAAAADdAMzMzMzMzNkDNzMzMzEwzQJqZmZmZmTZAzczMzMzMM0CamZmZmRkxQGZmZmZmZjNAMzMzMzMzNkAzMzMzM7M0QJqZmZmZGTVAAAAAAACAM0AAAAAAAIAyQJqZmZmZmTRAAAAAAAAAM0AzMzMzM7MyQJqZmZmZWUBAAAAAAACAMEBmZmZmZuY3QDMzMzMzMz9AAAAAAACAMUAzMzMzMzMxQJqZmZmZGTdAAAAAAACAOECamZmZmZk6QGZmZmZm5jZAmpmZmZkZOECamZmZmZkyQJqZmZmZGT5AMzMzMzMzMkCamZmZmZk0QM3MzMzMzDFAMzMzMzOzNUAzMzMzM7M2QJqZmZmZmTZAAAAAAAAAOUBmZmZmZuYzQM3MzMzMzDRAzczMzMzMMEBmZmZmZuY1QAAAAAAAgDtAZmZmZmbmNUCamZmZmRk3QAAAAAAAAElAAAAAAAAASUAAAAAAAABJQAAAAAAAAElAAAAAAAAASUCamZmZmZkrQJqZmZmZmStAAAAAAAAALkDNzMzMzMwrQJqZmZmZmSpAMzMzMzMzKkBmZmZmZmYkQM3MzMzMzCRAzczMzMzMJUCamZmZmZkmQJqZmZmZmShAmpmZmZmZIUDNzMzMzMwcQAAAAAAAACVAmpmZmZmZHUBmZmZmZmYkQAAAAAAAACdAMzMzMzMzLkAzMzMzMzM3QGZmZmZmZiNAmpmZmZmZK0BmZmZmZmYpQDMzMzMzMypAAAAAAAAAKUAAAAAAAAAhQAAAAAAAABRAMzMzMzMzGUBmZmZmZmYWQM3MzMzMzBxAMzMzMzMzKECamZmZmZkgQAAAAAAAACFAAAAAAAAAFEDNzMzMzMwnQGZmZmZm5jtAMzMzMzMzMUAAAAAAAIA7QAAAAAAAAC5AMzMzMzMzMUBmZmZmZuYxQM3MzMzMTDBAAAAAAAAAHEDNzMzMzMwcQAAAAAAAAB5AzczMzMzMJECamZmZmZkhQM3MzMzMzCBAMzMzMzOzMEBmZmZmZmYsQM3MzMzMzDRAzczMzMzMKkBmZmZmZmYnQJqZmZmZmSBAZmZmZmZmJEDNzMzMzMwlQAAAAAAAACZAAAAAAAAAI0AAAAAAAAAtQDMzMzMzMyxAmpmZmZkZMECamZmZmZksQGZmZmZmZidAzczMzMzMKkAzMzMzMzMjQGZmZmZmZiFAzczMzMzMIECamZmZmZkpQAAAAAAAACVAmpmZmZkZMUBmZmZmZmYyQM3MzMzMzC5AmpmZmZmZJUCamZmZmZknQM3MzMzMzC1AMzMzMzMzKUAzMzMzMzMsQAAAAAAAACpAzczMzMzMKkBmZmZmZmYuQJqZmZmZGTBAzczMzMzMMUDNzMzMzMwtQDMzMzMzMyxAZmZmZmZmKUAAAAAAAAArQM3MzMzMzC1AAAAAAAAANEBmZmZmZmYwQDMzMzMzszFAAAAAAACAM0AzMzMzMzM0QGZmZmZmZjVAZmZmZmbmM0AAAAAAAAAzQJqZmZmZGTNAmpmZmZkZM0CamZmZmRk0QGZmZmZm5jNAmpmZmZmZM0AzMzMzMzM3QM3MzMzMzD1AmpmZmZmZK0CamZmZmZkqQDMzMzMzszBAAAAAAAAAKEAzMzMzMzMtQGZmZmZmZjVAAAAAAAAAN0AzMzMzM7M3QAAAAAAAADlAzczMzMzMNUCamZmZmZk0QDMzMzMzMzVAmpmZmZkZM0CamZmZmZk0QGZmZmZmZi5AAAAAAAAAHEAzMzMzMzMgQDMzMzMzMytAmpmZmZkZNEDNzMzMzMw1QAAAAAAAgDhAmpmZmZkZN0AzMzMzM7MzQM3MzMzMTDJAMzMzMzMzNUAAAAAAAIAxQM3MzMzMzDBAZmZmZmZmNkCamZmZmZk0QGZmZmZm5jdAAAAAAAAANkDNzMzMzMwnQA==",
           "dtype": "f8"
          },
          "coloraxis": "coloraxis",
          "symbol": "circle"
         },
         "mode": "markers",
         "name": "",
         "scene": "scene",
         "showlegend": false,
         "type": "scatter3d",
         "x": {
          "bdata": "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",
          "dtype": "f8"
         },
         "y": {
          "bdata": "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",
          "dtype": "f8"
         },
         "z": {
          "bdata": "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",
          "dtype": "f8"
         }
        }
       ],
       "layout": {
        "coloraxis": {
         "colorbar": {
          "title": {
           "text": "Медианная цена ($1000s)"
          }
         },
         "colorscale": [
          [
           0,
           "#0d0887"
          ],
          [
           0.1111111111111111,
           "#46039f"
          ],
          [
           0.2222222222222222,
           "#7201a8"
          ],
          [
           0.3333333333333333,
           "#9c179e"
          ],
          [
           0.4444444444444444,
           "#bd3786"
          ],
          [
           0.5555555555555556,
           "#d8576b"
          ],
          [
           0.6666666666666666,
           "#ed7953"
          ],
          [
           0.7777777777777778,
           "#fb9f3a"
          ],
          [
           0.8888888888888888,
           "#fdca26"
          ],
          [
           1,
           "#f0f921"
          ]
         ]
        },
        "height": 600,
        "legend": {
         "tracegroupgap": 0
        },
        "scene": {
         "domain": {
          "x": [
           0,
           1
          ],
          "y": [
           0,
           1
          ]
         },
         "xaxis": {
          "title": {
           "text": "Среднее число комнат"
          }
         },
         "yaxis": {
          "title": {
           "text": "% населения низкого статуса"
          }
         },
         "zaxis": {
          "title": {
           "text": "Медианная цена ($1000s)"
          }
         }
        },
        "template": {
         "data": {
          "bar": [
           {
            "error_x": {
             "color": "#2a3f5f"
            },
            "error_y": {
             "color": "#2a3f5f"
            },
            "marker": {
             "line": {
              "color": "#E5ECF6",
              "width": 0.5
             },
             "pattern": {
              "fillmode": "overlay",
              "size": 10,
              "solidity": 0.2
             }
            },
            "type": "bar"
           }
          ],
          "barpolar": [
           {
            "marker": {
             "line": {
              "color": "#E5ECF6",
              "width": 0.5
             },
             "pattern": {
              "fillmode": "overlay",
              "size": 10,
              "solidity": 0.2
             }
            },
            "type": "barpolar"
           }
          ],
          "carpet": [
           {
            "aaxis": {
             "endlinecolor": "#2a3f5f",
             "gridcolor": "white",
             "linecolor": "white",
             "minorgridcolor": "white",
             "startlinecolor": "#2a3f5f"
            },
            "baxis": {
             "endlinecolor": "#2a3f5f",
             "gridcolor": "white",
             "linecolor": "white",
             "minorgridcolor": "white",
             "startlinecolor": "#2a3f5f"
            },
            "type": "carpet"
           }
          ],
          "choropleth": [
           {
            "colorbar": {
             "outlinewidth": 0,
             "ticks": ""
            },
            "type": "choropleth"
           }
          ],
          "contour": [
           {
            "colorbar": {
             "outlinewidth": 0,
             "ticks": ""
            },
            "colorscale": [
             [
              0,
              "#0d0887"
             ],
             [
              0.1111111111111111,
              "#46039f"
             ],
             [
              0.2222222222222222,
              "#7201a8"
             ],
             [
              0.3333333333333333,
              "#9c179e"
             ],
             [
              0.4444444444444444,
              "#bd3786"
             ],
             [
              0.5555555555555556,
              "#d8576b"
             ],
             [
              0.6666666666666666,
              "#ed7953"
             ],
             [
              0.7777777777777778,
              "#fb9f3a"
             ],
             [
              0.8888888888888888,
              "#fdca26"
             ],
             [
              1,
              "#f0f921"
             ]
            ],
            "type": "contour"
           }
          ],
          "contourcarpet": [
           {
            "colorbar": {
             "outlinewidth": 0,
             "ticks": ""
            },
            "type": "contourcarpet"
           }
          ],
          "heatmap": [
           {
            "colorbar": {
             "outlinewidth": 0,
             "ticks": ""
            },
            "colorscale": [
             [
              0,
              "#0d0887"
             ],
             [
              0.1111111111111111,
              "#46039f"
             ],
             [
              0.2222222222222222,
              "#7201a8"
             ],
             [
              0.3333333333333333,
              "#9c179e"
             ],
             [
              0.4444444444444444,
              "#bd3786"
             ],
             [
              0.5555555555555556,
              "#d8576b"
             ],
             [
              0.6666666666666666,
              "#ed7953"
             ],
             [
              0.7777777777777778,
              "#fb9f3a"
             ],
             [
              0.8888888888888888,
              "#fdca26"
             ],
             [
              1,
              "#f0f921"
             ]
            ],
            "type": "heatmap"
           }
          ],
          "histogram": [
           {
            "marker": {
             "pattern": {
              "fillmode": "overlay",
              "size": 10,
              "solidity": 0.2
             }
            },
            "type": "histogram"
           }
          ],
          "histogram2d": [
           {
            "colorbar": {
             "outlinewidth": 0,
             "ticks": ""
            },
            "colorscale": [
             [
              0,
              "#0d0887"
             ],
             [
              0.1111111111111111,
              "#46039f"
             ],
             [
              0.2222222222222222,
              "#7201a8"
             ],
             [
              0.3333333333333333,
              "#9c179e"
             ],
             [
              0.4444444444444444,
              "#bd3786"
             ],
             [
              0.5555555555555556,
              "#d8576b"
             ],
             [
              0.6666666666666666,
              "#ed7953"
             ],
             [
              0.7777777777777778,
              "#fb9f3a"
             ],
             [
              0.8888888888888888,
              "#fdca26"
             ],
             [
              1,
              "#f0f921"
             ]
            ],
            "type": "histogram2d"
           }
          ],
          "histogram2dcontour": [
           {
            "colorbar": {
             "outlinewidth": 0,
             "ticks": ""
            },
            "colorscale": [
             [
              0,
              "#0d0887"
             ],
             [
              0.1111111111111111,
              "#46039f"
             ],
             [
              0.2222222222222222,
              "#7201a8"
             ],
             [
              0.3333333333333333,
              "#9c179e"
             ],
             [
              0.4444444444444444,
              "#bd3786"
             ],
             [
              0.5555555555555556,
              "#d8576b"
             ],
             [
              0.6666666666666666,
              "#ed7953"
             ],
             [
              0.7777777777777778,
              "#fb9f3a"
             ],
             [
              0.8888888888888888,
              "#fdca26"
             ],
             [
              1,
              "#f0f921"
             ]
            ],
            "type": "histogram2dcontour"
           }
          ],
          "mesh3d": [
           {
            "colorbar": {
             "outlinewidth": 0,
             "ticks": ""
            },
            "type": "mesh3d"
           }
          ],
          "parcoords": [
           {
            "line": {
             "colorbar": {
              "outlinewidth": 0,
              "ticks": ""
             }
            },
            "type": "parcoords"
           }
          ],
          "pie": [
           {
            "automargin": true,
            "type": "pie"
           }
          ],
          "scatter": [
           {
            "fillpattern": {
             "fillmode": "overlay",
             "size": 10,
             "solidity": 0.2
            },
            "type": "scatter"
           }
          ],
          "scatter3d": [
           {
            "line": {
             "colorbar": {
              "outlinewidth": 0,
              "ticks": ""
             }
            },
            "marker": {
             "colorbar": {
              "outlinewidth": 0,
              "ticks": ""
             }
            },
            "type": "scatter3d"
           }
          ],
          "scattercarpet": [
           {
            "marker": {
             "colorbar": {
              "outlinewidth": 0,
              "ticks": ""
             }
            },
            "type": "scattercarpet"
           }
          ],
          "scattergeo": [
           {
            "marker": {
             "colorbar": {
              "outlinewidth": 0,
              "ticks": ""
             }
            },
            "type": "scattergeo"
           }
          ],
          "scattergl": [
           {
            "marker": {
             "colorbar": {
              "outlinewidth": 0,
              "ticks": ""
             }
            },
            "type": "scattergl"
           }
          ],
          "scattermap": [
           {
            "marker": {
             "colorbar": {
              "outlinewidth": 0,
              "ticks": ""
             }
            },
            "type": "scattermap"
           }
          ],
          "scattermapbox": [
           {
            "marker": {
             "colorbar": {
              "outlinewidth": 0,
              "ticks": ""
             }
            },
            "type": "scattermapbox"
           }
          ],
          "scatterpolar": [
           {
            "marker": {
             "colorbar": {
              "outlinewidth": 0,
              "ticks": ""
             }
            },
            "type": "scatterpolar"
           }
          ],
          "scatterpolargl": [
           {
            "marker": {
             "colorbar": {
              "outlinewidth": 0,
              "ticks": ""
             }
            },
            "type": "scatterpolargl"
           }
          ],
          "scatterternary": [
           {
            "marker": {
             "colorbar": {
              "outlinewidth": 0,
              "ticks": ""
             }
            },
            "type": "scatterternary"
           }
          ],
          "surface": [
           {
            "colorbar": {
             "outlinewidth": 0,
             "ticks": ""
            },
            "colorscale": [
             [
              0,
              "#0d0887"
             ],
             [
              0.1111111111111111,
              "#46039f"
             ],
             [
              0.2222222222222222,
              "#7201a8"
             ],
             [
              0.3333333333333333,
              "#9c179e"
             ],
             [
              0.4444444444444444,
              "#bd3786"
             ],
             [
              0.5555555555555556,
              "#d8576b"
             ],
             [
              0.6666666666666666,
              "#ed7953"
             ],
             [
              0.7777777777777778,
              "#fb9f3a"
             ],
             [
              0.8888888888888888,
              "#fdca26"
             ],
             [
              1,
              "#f0f921"
             ]
            ],
            "type": "surface"
           }
          ],
          "table": [
           {
            "cells": {
             "fill": {
              "color": "#EBF0F8"
             },
             "line": {
              "color": "white"
             }
            },
            "header": {
             "fill": {
              "color": "#C8D4E3"
             },
             "line": {
              "color": "white"
             }
            },
            "type": "table"
           }
          ]
         },
         "layout": {
          "annotationdefaults": {
           "arrowcolor": "#2a3f5f",
           "arrowhead": 0,
           "arrowwidth": 1
          },
          "autotypenumbers": "strict",
          "coloraxis": {
           "colorbar": {
            "outlinewidth": 0,
            "ticks": ""
           }
          },
          "colorscale": {
           "diverging": [
            [
             0,
             "#8e0152"
            ],
            [
             0.1,
             "#c51b7d"
            ],
            [
             0.2,
             "#de77ae"
            ],
            [
             0.3,
             "#f1b6da"
            ],
            [
             0.4,
             "#fde0ef"
            ],
            [
             0.5,
             "#f7f7f7"
            ],
            [
             0.6,
             "#e6f5d0"
            ],
            [
             0.7,
             "#b8e186"
            ],
            [
             0.8,
             "#7fbc41"
            ],
            [
             0.9,
             "#4d9221"
            ],
            [
             1,
             "#276419"
            ]
           ],
           "sequential": [
            [
             0,
             "#0d0887"
            ],
            [
             0.1111111111111111,
             "#46039f"
            ],
            [
             0.2222222222222222,
             "#7201a8"
            ],
            [
             0.3333333333333333,
             "#9c179e"
            ],
            [
             0.4444444444444444,
             "#bd3786"
            ],
            [
             0.5555555555555556,
             "#d8576b"
            ],
            [
             0.6666666666666666,
             "#ed7953"
            ],
            [
             0.7777777777777778,
             "#fb9f3a"
            ],
            [
             0.8888888888888888,
             "#fdca26"
            ],
            [
             1,
             "#f0f921"
            ]
           ],
           "sequentialminus": [
            [
             0,
             "#0d0887"
            ],
            [
             0.1111111111111111,
             "#46039f"
            ],
            [
             0.2222222222222222,
             "#7201a8"
            ],
            [
             0.3333333333333333,
             "#9c179e"
            ],
            [
             0.4444444444444444,
             "#bd3786"
            ],
            [
             0.5555555555555556,
             "#d8576b"
            ],
            [
             0.6666666666666666,
             "#ed7953"
            ],
            [
             0.7777777777777778,
             "#fb9f3a"
            ],
            [
             0.8888888888888888,
             "#fdca26"
            ],
            [
             1,
             "#f0f921"
            ]
           ]
          },
          "colorway": [
           "#636efa",
           "#EF553B",
           "#00cc96",
           "#ab63fa",
           "#FFA15A",
           "#19d3f3",
           "#FF6692",
           "#B6E880",
           "#FF97FF",
           "#FECB52"
          ],
          "font": {
           "color": "#2a3f5f"
          },
          "geo": {
           "bgcolor": "white",
           "lakecolor": "white",
           "landcolor": "#E5ECF6",
           "showlakes": true,
           "showland": true,
           "subunitcolor": "white"
          },
          "hoverlabel": {
           "align": "left"
          },
          "hovermode": "closest",
          "mapbox": {
           "style": "light"
          },
          "paper_bgcolor": "white",
          "plot_bgcolor": "#E5ECF6",
          "polar": {
           "angularaxis": {
            "gridcolor": "white",
            "linecolor": "white",
            "ticks": ""
           },
           "bgcolor": "#E5ECF6",
           "radialaxis": {
            "gridcolor": "white",
            "linecolor": "white",
            "ticks": ""
           }
          },
          "scene": {
           "xaxis": {
            "backgroundcolor": "#E5ECF6",
            "gridcolor": "white",
            "gridwidth": 2,
            "linecolor": "white",
            "showbackground": true,
            "ticks": "",
            "zerolinecolor": "white"
           },
           "yaxis": {
            "backgroundcolor": "#E5ECF6",
            "gridcolor": "white",
            "gridwidth": 2,
            "linecolor": "white",
            "showbackground": true,
            "ticks": "",
            "zerolinecolor": "white"
           },
           "zaxis": {
            "backgroundcolor": "#E5ECF6",
            "gridcolor": "white",
            "gridwidth": 2,
            "linecolor": "white",
            "showbackground": true,
            "ticks": "",
            "zerolinecolor": "white"
           }
          },
          "shapedefaults": {
           "line": {
            "color": "#2a3f5f"
           }
          },
          "ternary": {
           "aaxis": {
            "gridcolor": "white",
            "linecolor": "white",
            "ticks": ""
           },
           "baxis": {
            "gridcolor": "white",
            "linecolor": "white",
            "ticks": ""
           },
           "bgcolor": "#E5ECF6",
           "caxis": {
            "gridcolor": "white",
            "linecolor": "white",
            "ticks": ""
           }
          },
          "title": {
           "x": 0.05
          },
          "xaxis": {
           "automargin": true,
           "gridcolor": "white",
           "linecolor": "white",
           "ticks": "",
           "title": {
            "standoff": 15
           },
           "zerolinecolor": "white",
           "zerolinewidth": 2
          },
          "yaxis": {
           "automargin": true,
           "gridcolor": "white",
           "linecolor": "white",
           "ticks": "",
           "title": {
            "standoff": 15
           },
           "zerolinecolor": "white",
           "zerolinewidth": 2
          }
         }
        },
        "title": {
         "text": "3D анализ: Комнаты (RM) vs Уровень населения (LSTAT) vs Цена (MEDV)"
        }
       }
      }
     },
     "metadata": {},
     "output_type": "display_data"
    }
   ],
   "source": [
    "# 3D анализ взаимосвязей ключевых признаков\n",
    "# px.scatter_3d: создает 3D scatter plot\n",
    "# x, y, z: данные для трех осей\n",
    "# color: цвет точек based on цены\n",
    "# title: заголовок графика\n",
    "# labels: переименование подписей для лучшей читаемости\n",
    "\n",
    "fig = px.scatter_3d(df, \n",
    "                    x='RM', \n",
    "                    y='LSTAT', \n",
    "                    z='MEDV',\n",
    "                    color='MEDV', \n",
    "                    title='3D анализ: Комнаты (RM) vs Уровень населения (LSTAT) vs Цена (MEDV)',\n",
    "                    labels={\n",
    "                        'RM': 'Среднее число комнат', \n",
    "                        'LSTAT': '% населения низкого статуса',\n",
    "                        'MEDV': 'Медианная цена ($1000s)'\n",
    "                    },\n",
    "                    height=600)  # высота графика\n",
    "fig.show()"
   ]
  },
  {
   "cell_type": "code",
   "execution_count": 102,
   "id": "b5e34200",
   "metadata": {},
   "outputs": [
    {
     "data": {
      "application/vnd.plotly.v1+json": {
       "config": {
        "plotlyServerURL": "https://plot.ly"
       },
       "data": [
        {
         "alignmentgroup": "True",
         "hovertemplate": "Ценовая категория=%{x}<br>Среднее число комнат=%{y}<extra></extra>",
         "legendgroup": "",
         "marker": {
          "color": "#636efa"
         },
         "name": "",
         "notched": false,
         "offsetgroup": "",
         "orientation": "v",
         "showlegend": false,
         "type": "box",
         "x": [
          "Средняя",
          "Низкая",
          "Высокая",
          "Высокая",
          "Высокая",
          "Средняя",
          "Низкая",
          "Средняя",
          "Низкая",
          "Низкая",
          "Низкая",
          "Низкая",
          "Низкая",
          "Низкая",
          "Низкая",
          "Низкая",
          "Средняя",
          "Низкая",
          "Низкая",
          "Низкая",
          "Очень низкая",
          "Низкая",
          "Низкая",
          "Низкая",
          "Низкая",
          "Очень низкая",
          "Низкая",
          "Низкая",
          "Низкая",
          "Низкая",
          "Очень низкая",
          "Низкая",
          "Очень низкая",
          "Очень низкая",
          "Очень низкая",
          "Низкая",
          "Низкая",
          "Низкая",
          "Средняя",
          "Средняя",
          "Высокая",
          "Средняя",
          "Средняя",
          "Средняя",
          "Низкая",
          "Низкая",
          "Низкая",
          "Низкая",
          "Низкая",
          "Низкая",
          "Низкая",
          "Низкая",
          "Средняя",
          "Средняя",
          "Низкая",
          "Высокая",
          "Средняя",
          "Средняя",
          "Средняя",
          "Низкая",
          "Низкая",
          "Низкая",
          "Низкая",
          "Средняя",
          "Высокая",
          "Средняя",
          "Низкая",
          "Низкая",
          "Низкая",
          "Низкая",
          "Средняя",
          "Низкая",
          "Низкая",
          "Средняя",
          "Средняя",
          "Низкая",
          "Низкая",
          "Низкая",
          "Низкая",
          "Низкая",
          "Средняя",
          "Средняя",
          "Средняя",
          "Низкая",
          "Средняя",
          "Средняя",
          "Низкая",
          "Низкая",
          "Средняя",
          "Средняя",
          "Низкая",
          "Низкая",
          "Низкая",
          "Средняя",
          "Низкая",
          "Средняя",
          "Низкая",
          "Высокая",
          "Очень высокая",
          "Высокая",
          "Средняя",
          "Средняя",
          "Низкая",
          "Низкая",
          "Низкая",
          "Низкая",
          "Низкая",
          "Низкая",
          "Низкая",
          "Низкая",
          "Низкая",
          "Низкая",
          "Низкая",
          "Низкая",
          "Низкая",
          "Низкая",
          "Низкая",
          "Низкая",
          "Низкая",
          "Низкая",
          "Низкая",
          "Низкая",
          "Низкая",
          "Низкая",
          "Низкая",
          "Низкая",
          "Низкая",
          "Низкая",
          "Низкая",
          "Низкая",
          "Низкая",
          "Низкая",
          "Низкая",
          "Низкая",
          "Низкая",
          "Низкая",
          "Низкая",
          "Низкая",
          "Очень низкая",
          "Низкая",
          "Очень низкая",
          "Низкая",
          "Очень низкая",
          "Низкая",
          "Очень низкая",
          "Очень низкая",
          "Низкая",
          "Низкая",
          "Низкая",
          "Низкая",
          "Низкая",
          "Низкая",
          "Низкая",
          "Низкая",
          "Низкая",
          "Низкая",
          "Очень низкая",
          "Очень высокая",
          "Средняя",
          "Средняя",
          "Средняя",
          "Очень высокая",
          "Очень высокая",
          "Очень высокая",
          "Низкая",
          "Средняя",
          "Очень высокая",
          "Средняя",
          "Средняя",
          "Низкая",
          "Низкая",
          "Низкая",
          "Средняя",
          "Средняя",
          "Низкая",
          "Средняя",
          "Средняя",
          "Средняя",
          "Средняя",
          "Высокая",
          "Высокая",
          "Высокая",
          "Высокая",
          "Высокая",
          "Средняя",
          "Средняя",
          "Очень высокая",
          "Средняя",
          "Средняя",
          "Высокая",
          "Высокая",
          "Средняя",
          "Высокая",
          "Средняя",
          "Средняя",
          "Очень высокая",
          "Высокая",
          "Средняя",
          "Высокая",
          "Высокая",
          "Высокая",
          "Средняя",
          "Очень высокая",
          "Очень высокая",
          "Очень высокая",
          "Низкая",
          "Средняя",
          "Низкая",
          "Средняя",
          "Низкая",
          "Низкая",
          "Низкая",
          "Низкая",
          "Средняя",
          "Средняя",
          "Средняя",
          "Средняя",
          "Средняя",
          "Низкая",
          "Низкая",
          "Средняя",
          "Низкая",
          "Средняя",
          "Средняя",
          "Очень высокая",
          "Очень высокая",
          "Высокая",
          "Средняя",
          "Очень высокая",
          "Средняя",
          "Средняя",
          "Средняя",
          "Очень высокая",
          "Очень высокая",
          "Средняя",
          "Средняя",
          "Средняя",
          "Средняя",
          "Средняя",
          "Средняя",
          "Низкая",
          "Низкая",
          "Низкая",
          "Средняя",
          "Низкая",
          "Низкая",
          "Средняя",
          "Низкая",
          "Средняя",
          "Средняя",
          "Средняя",
          "Средняя",
          "Средняя",
          "Очень высокая",
          "Низкая",
          "Низкая",
          "Очень высокая",
          "Очень высокая",
          "Высокая",
          "Средняя",
          "Высокая",
          "Очень высокая",
          "Очень высокая",
          "Средняя",
          "Высокая",
          "Низкая",
          "Средняя",
          "Очень высокая",
          "Очень высокая",
          "Низкая",
          "Низкая",
          "Средняя",
          "Средняя",
          "Высокая",
          "Высокая",
          "Средняя",
          "Высокая",
          "Высокая",
          "Средняя",
          "Высокая",
          "Очень высокая",
          "Высокая",
          "Очень высокая",
          "Очень высокая",
          "Высокая",
          "Низкая",
          "Низкая",
          "Средняя",
          "Низкая",
          "Средняя",
          "Средняя",
          "Высокая",
          "Средняя",
          "Средняя",
          "Низкая",
          "Средняя",
          "Средняя",
          "Низкая",
          "Низкая",
          "Средняя",
          "Средняя",
          "Низкая",
          "Средняя",
          "Высокая",
          "Высокая",
          "Средняя",
          "Высокая",
          "Средняя",
          "Низкая",
          "Низкая",
          "Низкая",
          "Низкая",
          "Низкая",
          "Низкая",
          "Средняя",
          "Низкая",
          "Низкая",
          "Низкая",
          "Средняя",
          "Низкая",
          "Средняя",
          "Средняя",
          "Низкая",
          "Низкая",
          "Средняя",
          "Средняя",
          "Низкая",
          "Низкая",
          "Низкая",
          "Низкая",
          "Низкая",
          "Низкая",
          "Низкая",
          "Низкая",
          "Низкая",
          "Низкая",
          "Низкая",
          "Низкая",
          "Низкая",
          "Низкая",
          "Низкая",
          "Высокая",
          "Низкая",
          "Средняя",
          "Средняя",
          "Низкая",
          "Низкая",
          "Средняя",
          "Средняя",
          "Средняя",
          "Низкая",
          "Средняя",
          "Низкая",
          "Средняя",
          "Низкая",
          "Низкая",
          "Низкая",
          "Низкая",
          "Низкая",
          "Низкая",
          "Средняя",
          "Низкая",
          "Низкая",
          "Низкая",
          "Низкая",
          "Средняя",
          "Низкая",
          "Средняя",
          "Очень высокая",
          "Очень высокая",
          "Очень высокая",
          "Очень высокая",
          "Очень высокая",
          "Очень низкая",
          "Очень низкая",
          "Низкая",
          "Очень низкая",
          "Очень низкая",
          "Очень низкая",
          "Очень низкая",
          "Очень низкая",
          "Очень низкая",
          "Очень низкая",
          "Очень низкая",
          "Очень низкая",
          "Очень низкая",
          "Очень низкая",
          "Очень низкая",
          "Очень низкая",
          "Очень низкая",
          "Низкая",
          "Средняя",
          "Очень низкая",
          "Очень низкая",
          "Очень низкая",
          "Очень низкая",
          "Очень низкая",
          "Очень низкая",
          "Очень низкая",
          "Очень низкая",
          "Очень низкая",
          "Очень низкая",
          "Очень низкая",
          "Очень низкая",
          "Очень низкая",
          "Очень низкая",
          "Очень низкая",
          "Средняя",
          "Низкая",
          "Средняя",
          "Низкая",
          "Низкая",
          "Низкая",
          "Низкая",
          "Очень низкая",
          "Очень низкая",
          "Очень низкая",
          "Очень низкая",
          "Очень низкая",
          "Очень низкая",
          "Низкая",
          "Низкая",
          "Низкая",
          "Очень низкая",
          "Очень низкая",
          "Очень низкая",
          "Очень низкая",
          "Очень низкая",
          "Очень низкая",
          "Очень низкая",
          "Низкая",
          "Низкая",
          "Низкая",
          "Низкая",
          "Очень низкая",
          "Очень низкая",
          "Очень низкая",
          "Очень низкая",
          "Очень низкая",
          "Очень низкая",
          "Очень низкая",
          "Низкая",
          "Низкая",
          "Низкая",
          "Очень низкая",
          "Очень низкая",
          "Низкая",
          "Очень низкая",
          "Низкая",
          "Очень низкая",
          "Очень низкая",
          "Низкая",
          "Низкая",
          "Низкая",
          "Низкая",
          "Низкая",
          "Очень низкая",
          "Очень низкая",
          "Низкая",
          "Низкая",
          "Низкая",
          "Низкая",
          "Низкая",
          "Низкая",
          "Низкая",
          "Низкая",
          "Низкая",
          "Низкая",
          "Низкая",
          "Низкая",
          "Низкая",
          "Низкая",
          "Средняя",
          "Средняя",
          "Очень низкая",
          "Очень низкая",
          "Низкая",
          "Очень низкая",
          "Низкая",
          "Низкая",
          "Низкая",
          "Средняя",
          "Средняя",
          "Низкая",
          "Низкая",
          "Низкая",
          "Низкая",
          "Низкая",
          "Низкая",
          "Очень низкая",
          "Очень низкая",
          "Очень низкая",
          "Низкая",
          "Низкая",
          "Средняя",
          "Средняя",
          "Низкая",
          "Низкая",
          "Низкая",
          "Низкая",
          "Низкая",
          "Низкая",
          "Низкая",
          "Средняя",
          "Низкая",
          "Очень низкая"
         ],
         "x0": " ",
         "xaxis": "x",
         "y": {
          "bdata": "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",
          "dtype": "f8"
         },
         "y0": " ",
         "yaxis": "y"
        }
       ],
       "layout": {
        "boxmode": "group",
        "legend": {
         "tracegroupgap": 0
        },
        "template": {
         "data": {
          "bar": [
           {
            "error_x": {
             "color": "#2a3f5f"
            },
            "error_y": {
             "color": "#2a3f5f"
            },
            "marker": {
             "line": {
              "color": "#E5ECF6",
              "width": 0.5
             },
             "pattern": {
              "fillmode": "overlay",
              "size": 10,
              "solidity": 0.2
             }
            },
            "type": "bar"
           }
          ],
          "barpolar": [
           {
            "marker": {
             "line": {
              "color": "#E5ECF6",
              "width": 0.5
             },
             "pattern": {
              "fillmode": "overlay",
              "size": 10,
              "solidity": 0.2
             }
            },
            "type": "barpolar"
           }
          ],
          "carpet": [
           {
            "aaxis": {
             "endlinecolor": "#2a3f5f",
             "gridcolor": "white",
             "linecolor": "white",
             "minorgridcolor": "white",
             "startlinecolor": "#2a3f5f"
            },
            "baxis": {
             "endlinecolor": "#2a3f5f",
             "gridcolor": "white",
             "linecolor": "white",
             "minorgridcolor": "white",
             "startlinecolor": "#2a3f5f"
            },
            "type": "carpet"
           }
          ],
          "choropleth": [
           {
            "colorbar": {
             "outlinewidth": 0,
             "ticks": ""
            },
            "type": "choropleth"
           }
          ],
          "contour": [
           {
            "colorbar": {
             "outlinewidth": 0,
             "ticks": ""
            },
            "colorscale": [
             [
              0,
              "#0d0887"
             ],
             [
              0.1111111111111111,
              "#46039f"
             ],
             [
              0.2222222222222222,
              "#7201a8"
             ],
             [
              0.3333333333333333,
              "#9c179e"
             ],
             [
              0.4444444444444444,
              "#bd3786"
             ],
             [
              0.5555555555555556,
              "#d8576b"
             ],
             [
              0.6666666666666666,
              "#ed7953"
             ],
             [
              0.7777777777777778,
              "#fb9f3a"
             ],
             [
              0.8888888888888888,
              "#fdca26"
             ],
             [
              1,
              "#f0f921"
             ]
            ],
            "type": "contour"
           }
          ],
          "contourcarpet": [
           {
            "colorbar": {
             "outlinewidth": 0,
             "ticks": ""
            },
            "type": "contourcarpet"
           }
          ],
          "heatmap": [
           {
            "colorbar": {
             "outlinewidth": 0,
             "ticks": ""
            },
            "colorscale": [
             [
              0,
              "#0d0887"
             ],
             [
              0.1111111111111111,
              "#46039f"
             ],
             [
              0.2222222222222222,
              "#7201a8"
             ],
             [
              0.3333333333333333,
              "#9c179e"
             ],
             [
              0.4444444444444444,
              "#bd3786"
             ],
             [
              0.5555555555555556,
              "#d8576b"
             ],
             [
              0.6666666666666666,
              "#ed7953"
             ],
             [
              0.7777777777777778,
              "#fb9f3a"
             ],
             [
              0.8888888888888888,
              "#fdca26"
             ],
             [
              1,
              "#f0f921"
             ]
            ],
            "type": "heatmap"
           }
          ],
          "histogram": [
           {
            "marker": {
             "pattern": {
              "fillmode": "overlay",
              "size": 10,
              "solidity": 0.2
             }
            },
            "type": "histogram"
           }
          ],
          "histogram2d": [
           {
            "colorbar": {
             "outlinewidth": 0,
             "ticks": ""
            },
            "colorscale": [
             [
              0,
              "#0d0887"
             ],
             [
              0.1111111111111111,
              "#46039f"
             ],
             [
              0.2222222222222222,
              "#7201a8"
             ],
             [
              0.3333333333333333,
              "#9c179e"
             ],
             [
              0.4444444444444444,
              "#bd3786"
             ],
             [
              0.5555555555555556,
              "#d8576b"
             ],
             [
              0.6666666666666666,
              "#ed7953"
             ],
             [
              0.7777777777777778,
              "#fb9f3a"
             ],
             [
              0.8888888888888888,
              "#fdca26"
             ],
             [
              1,
              "#f0f921"
             ]
            ],
            "type": "histogram2d"
           }
          ],
          "histogram2dcontour": [
           {
            "colorbar": {
             "outlinewidth": 0,
             "ticks": ""
            },
            "colorscale": [
             [
              0,
              "#0d0887"
             ],
             [
              0.1111111111111111,
              "#46039f"
             ],
             [
              0.2222222222222222,
              "#7201a8"
             ],
             [
              0.3333333333333333,
              "#9c179e"
             ],
             [
              0.4444444444444444,
              "#bd3786"
             ],
             [
              0.5555555555555556,
              "#d8576b"
             ],
             [
              0.6666666666666666,
              "#ed7953"
             ],
             [
              0.7777777777777778,
              "#fb9f3a"
             ],
             [
              0.8888888888888888,
              "#fdca26"
             ],
             [
              1,
              "#f0f921"
             ]
            ],
            "type": "histogram2dcontour"
           }
          ],
          "mesh3d": [
           {
            "colorbar": {
             "outlinewidth": 0,
             "ticks": ""
            },
            "type": "mesh3d"
           }
          ],
          "parcoords": [
           {
            "line": {
             "colorbar": {
              "outlinewidth": 0,
              "ticks": ""
             }
            },
            "type": "parcoords"
           }
          ],
          "pie": [
           {
            "automargin": true,
            "type": "pie"
           }
          ],
          "scatter": [
           {
            "fillpattern": {
             "fillmode": "overlay",
             "size": 10,
             "solidity": 0.2
            },
            "type": "scatter"
           }
          ],
          "scatter3d": [
           {
            "line": {
             "colorbar": {
              "outlinewidth": 0,
              "ticks": ""
             }
            },
            "marker": {
             "colorbar": {
              "outlinewidth": 0,
              "ticks": ""
             }
            },
            "type": "scatter3d"
           }
          ],
          "scattercarpet": [
           {
            "marker": {
             "colorbar": {
              "outlinewidth": 0,
              "ticks": ""
             }
            },
            "type": "scattercarpet"
           }
          ],
          "scattergeo": [
           {
            "marker": {
             "colorbar": {
              "outlinewidth": 0,
              "ticks": ""
             }
            },
            "type": "scattergeo"
           }
          ],
          "scattergl": [
           {
            "marker": {
             "colorbar": {
              "outlinewidth": 0,
              "ticks": ""
             }
            },
            "type": "scattergl"
           }
          ],
          "scattermap": [
           {
            "marker": {
             "colorbar": {
              "outlinewidth": 0,
              "ticks": ""
             }
            },
            "type": "scattermap"
           }
          ],
          "scattermapbox": [
           {
            "marker": {
             "colorbar": {
              "outlinewidth": 0,
              "ticks": ""
             }
            },
            "type": "scattermapbox"
           }
          ],
          "scatterpolar": [
           {
            "marker": {
             "colorbar": {
              "outlinewidth": 0,
              "ticks": ""
             }
            },
            "type": "scatterpolar"
           }
          ],
          "scatterpolargl": [
           {
            "marker": {
             "colorbar": {
              "outlinewidth": 0,
              "ticks": ""
             }
            },
            "type": "scatterpolargl"
           }
          ],
          "scatterternary": [
           {
            "marker": {
             "colorbar": {
              "outlinewidth": 0,
              "ticks": ""
             }
            },
            "type": "scatterternary"
           }
          ],
          "surface": [
           {
            "colorbar": {
             "outlinewidth": 0,
             "ticks": ""
            },
            "colorscale": [
             [
              0,
              "#0d0887"
             ],
             [
              0.1111111111111111,
              "#46039f"
             ],
             [
              0.2222222222222222,
              "#7201a8"
             ],
             [
              0.3333333333333333,
              "#9c179e"
             ],
             [
              0.4444444444444444,
              "#bd3786"
             ],
             [
              0.5555555555555556,
              "#d8576b"
             ],
             [
              0.6666666666666666,
              "#ed7953"
             ],
             [
              0.7777777777777778,
              "#fb9f3a"
             ],
             [
              0.8888888888888888,
              "#fdca26"
             ],
             [
              1,
              "#f0f921"
             ]
            ],
            "type": "surface"
           }
          ],
          "table": [
           {
            "cells": {
             "fill": {
              "color": "#EBF0F8"
             },
             "line": {
              "color": "white"
             }
            },
            "header": {
             "fill": {
              "color": "#C8D4E3"
             },
             "line": {
              "color": "white"
             }
            },
            "type": "table"
           }
          ]
         },
         "layout": {
          "annotationdefaults": {
           "arrowcolor": "#2a3f5f",
           "arrowhead": 0,
           "arrowwidth": 1
          },
          "autotypenumbers": "strict",
          "coloraxis": {
           "colorbar": {
            "outlinewidth": 0,
            "ticks": ""
           }
          },
          "colorscale": {
           "diverging": [
            [
             0,
             "#8e0152"
            ],
            [
             0.1,
             "#c51b7d"
            ],
            [
             0.2,
             "#de77ae"
            ],
            [
             0.3,
             "#f1b6da"
            ],
            [
             0.4,
             "#fde0ef"
            ],
            [
             0.5,
             "#f7f7f7"
            ],
            [
             0.6,
             "#e6f5d0"
            ],
            [
             0.7,
             "#b8e186"
            ],
            [
             0.8,
             "#7fbc41"
            ],
            [
             0.9,
             "#4d9221"
            ],
            [
             1,
             "#276419"
            ]
           ],
           "sequential": [
            [
             0,
             "#0d0887"
            ],
            [
             0.1111111111111111,
             "#46039f"
            ],
            [
             0.2222222222222222,
             "#7201a8"
            ],
            [
             0.3333333333333333,
             "#9c179e"
            ],
            [
             0.4444444444444444,
             "#bd3786"
            ],
            [
             0.5555555555555556,
             "#d8576b"
            ],
            [
             0.6666666666666666,
             "#ed7953"
            ],
            [
             0.7777777777777778,
             "#fb9f3a"
            ],
            [
             0.8888888888888888,
             "#fdca26"
            ],
            [
             1,
             "#f0f921"
            ]
           ],
           "sequentialminus": [
            [
             0,
             "#0d0887"
            ],
            [
             0.1111111111111111,
             "#46039f"
            ],
            [
             0.2222222222222222,
             "#7201a8"
            ],
            [
             0.3333333333333333,
             "#9c179e"
            ],
            [
             0.4444444444444444,
             "#bd3786"
            ],
            [
             0.5555555555555556,
             "#d8576b"
            ],
            [
             0.6666666666666666,
             "#ed7953"
            ],
            [
             0.7777777777777778,
             "#fb9f3a"
            ],
            [
             0.8888888888888888,
             "#fdca26"
            ],
            [
             1,
             "#f0f921"
            ]
           ]
          },
          "colorway": [
           "#636efa",
           "#EF553B",
           "#00cc96",
           "#ab63fa",
           "#FFA15A",
           "#19d3f3",
           "#FF6692",
           "#B6E880",
           "#FF97FF",
           "#FECB52"
          ],
          "font": {
           "color": "#2a3f5f"
          },
          "geo": {
           "bgcolor": "white",
           "lakecolor": "white",
           "landcolor": "#E5ECF6",
           "showlakes": true,
           "showland": true,
           "subunitcolor": "white"
          },
          "hoverlabel": {
           "align": "left"
          },
          "hovermode": "closest",
          "mapbox": {
           "style": "light"
          },
          "paper_bgcolor": "white",
          "plot_bgcolor": "#E5ECF6",
          "polar": {
           "angularaxis": {
            "gridcolor": "white",
            "linecolor": "white",
            "ticks": ""
           },
           "bgcolor": "#E5ECF6",
           "radialaxis": {
            "gridcolor": "white",
            "linecolor": "white",
            "ticks": ""
           }
          },
          "scene": {
           "xaxis": {
            "backgroundcolor": "#E5ECF6",
            "gridcolor": "white",
            "gridwidth": 2,
            "linecolor": "white",
            "showbackground": true,
            "ticks": "",
            "zerolinecolor": "white"
           },
           "yaxis": {
            "backgroundcolor": "#E5ECF6",
            "gridcolor": "white",
            "gridwidth": 2,
            "linecolor": "white",
            "showbackground": true,
            "ticks": "",
            "zerolinecolor": "white"
           },
           "zaxis": {
            "backgroundcolor": "#E5ECF6",
            "gridcolor": "white",
            "gridwidth": 2,
            "linecolor": "white",
            "showbackground": true,
            "ticks": "",
            "zerolinecolor": "white"
           }
          },
          "shapedefaults": {
           "line": {
            "color": "#2a3f5f"
           }
          },
          "ternary": {
           "aaxis": {
            "gridcolor": "white",
            "linecolor": "white",
            "ticks": ""
           },
           "baxis": {
            "gridcolor": "white",
            "linecolor": "white",
            "ticks": ""
           },
           "bgcolor": "#E5ECF6",
           "caxis": {
            "gridcolor": "white",
            "linecolor": "white",
            "ticks": ""
           }
          },
          "title": {
           "x": 0.05
          },
          "xaxis": {
           "automargin": true,
           "gridcolor": "white",
           "linecolor": "white",
           "ticks": "",
           "title": {
            "standoff": 15
           },
           "zerolinecolor": "white",
           "zerolinewidth": 2
          },
          "yaxis": {
           "automargin": true,
           "gridcolor": "white",
           "linecolor": "white",
           "ticks": "",
           "title": {
            "standoff": 15
           },
           "zerolinecolor": "white",
           "zerolinewidth": 2
          }
         }
        },
        "title": {
         "text": "Распределение количества комнат (RM) по ценовым категориям"
        },
        "xaxis": {
         "anchor": "y",
         "domain": [
          0,
          1
         ],
         "title": {
          "text": "Ценовая категория"
         }
        },
        "yaxis": {
         "anchor": "x",
         "domain": [
          0,
          1
         ],
         "title": {
          "text": "Среднее число комнат"
         }
        }
       }
      }
     },
     "metadata": {},
     "output_type": "display_data"
    }
   ],
   "source": [
    "# Анализ по ценовым категориям\n",
    "# pd.cut: преобразует непрерывную переменную в категориальную\n",
    "# bins=5: разделить на 5 интервалов\n",
    "# labels: названия для каждой категории\n",
    "\n",
    "df['PRICE_CAT'] = pd.cut(df['MEDV'], \n",
    "                         bins=5, \n",
    "                         labels=['Очень низкая', 'Низкая', 'Средняя', 'Высокая', 'Очень высокая'])\n",
    "\n",
    "# Box plot по категориям цен\n",
    "# px.box: создает box plot\n",
    "# x: категориальная переменная (ценовые категории)\n",
    "# y: числовая переменная (количество комнат)\n",
    "# title: заголовок графика\n",
    "# labels: переименование подписей\n",
    "\n",
    "fig = px.box(df, \n",
    "             x='PRICE_CAT', \n",
    "             y='RM', \n",
    "             title='Распределение количества комнат (RM) по ценовым категориям',\n",
    "             labels={\n",
    "                 'PRICE_CAT': 'Ценовая категория', \n",
    "                 'RM': 'Среднее число комнат'\n",
    "             })\n",
    "fig.show()"
   ]
  },
  {
   "cell_type": "code",
   "execution_count": 103,
   "id": "d639792a",
   "metadata": {},
   "outputs": [
    {
     "data": {
      "application/vnd.plotly.v1+json": {
       "config": {
        "plotlyServerURL": "https://plot.ly"
       },
       "data": [
        {
         "coloraxis": "coloraxis",
         "histfunc": "avg",
         "hovertemplate": "RM=%{x}<br>LSTAT=%{y}<br>avg of MEDV=%{z}<extra></extra>",
         "name": "",
         "nbinsx": 20,
         "nbinsy": 20,
         "type": "histogram2d",
         "x": {
          "bdata": "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",
          "dtype": "f8"
         },
         "xaxis": "x",
         "xbingroup": "x",
         "y": {
          "bdata": "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",
          "dtype": "f8"
         },
         "yaxis": "y",
         "ybingroup": "y",
         "z": {
          "bdata": "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",
          "dtype": "f8"
         }
        }
       ],
       "layout": {
        "coloraxis": {
         "colorbar": {
          "title": {
           "text": "avg of MEDV"
          }
         },
         "colorscale": [
          [
           0,
           "#440154"
          ],
          [
           0.1111111111111111,
           "#482878"
          ],
          [
           0.2222222222222222,
           "#3e4989"
          ],
          [
           0.3333333333333333,
           "#31688e"
          ],
          [
           0.4444444444444444,
           "#26828e"
          ],
          [
           0.5555555555555556,
           "#1f9e89"
          ],
          [
           0.6666666666666666,
           "#35b779"
          ],
          [
           0.7777777777777778,
           "#6ece58"
          ],
          [
           0.8888888888888888,
           "#b5de2b"
          ],
          [
           1,
           "#fde725"
          ]
         ]
        },
        "legend": {
         "tracegroupgap": 0
        },
        "template": {
         "data": {
          "bar": [
           {
            "error_x": {
             "color": "#2a3f5f"
            },
            "error_y": {
             "color": "#2a3f5f"
            },
            "marker": {
             "line": {
              "color": "#E5ECF6",
              "width": 0.5
             },
             "pattern": {
              "fillmode": "overlay",
              "size": 10,
              "solidity": 0.2
             }
            },
            "type": "bar"
           }
          ],
          "barpolar": [
           {
            "marker": {
             "line": {
              "color": "#E5ECF6",
              "width": 0.5
             },
             "pattern": {
              "fillmode": "overlay",
              "size": 10,
              "solidity": 0.2
             }
            },
            "type": "barpolar"
           }
          ],
          "carpet": [
           {
            "aaxis": {
             "endlinecolor": "#2a3f5f",
             "gridcolor": "white",
             "linecolor": "white",
             "minorgridcolor": "white",
             "startlinecolor": "#2a3f5f"
            },
            "baxis": {
             "endlinecolor": "#2a3f5f",
             "gridcolor": "white",
             "linecolor": "white",
             "minorgridcolor": "white",
             "startlinecolor": "#2a3f5f"
            },
            "type": "carpet"
           }
          ],
          "choropleth": [
           {
            "colorbar": {
             "outlinewidth": 0,
             "ticks": ""
            },
            "type": "choropleth"
           }
          ],
          "contour": [
           {
            "colorbar": {
             "outlinewidth": 0,
             "ticks": ""
            },
            "colorscale": [
             [
              0,
              "#0d0887"
             ],
             [
              0.1111111111111111,
              "#46039f"
             ],
             [
              0.2222222222222222,
              "#7201a8"
             ],
             [
              0.3333333333333333,
              "#9c179e"
             ],
             [
              0.4444444444444444,
              "#bd3786"
             ],
             [
              0.5555555555555556,
              "#d8576b"
             ],
             [
              0.6666666666666666,
              "#ed7953"
             ],
             [
              0.7777777777777778,
              "#fb9f3a"
             ],
             [
              0.8888888888888888,
              "#fdca26"
             ],
             [
              1,
              "#f0f921"
             ]
            ],
            "type": "contour"
           }
          ],
          "contourcarpet": [
           {
            "colorbar": {
             "outlinewidth": 0,
             "ticks": ""
            },
            "type": "contourcarpet"
           }
          ],
          "heatmap": [
           {
            "colorbar": {
             "outlinewidth": 0,
             "ticks": ""
            },
            "colorscale": [
             [
              0,
              "#0d0887"
             ],
             [
              0.1111111111111111,
              "#46039f"
             ],
             [
              0.2222222222222222,
              "#7201a8"
             ],
             [
              0.3333333333333333,
              "#9c179e"
             ],
             [
              0.4444444444444444,
              "#bd3786"
             ],
             [
              0.5555555555555556,
              "#d8576b"
             ],
             [
              0.6666666666666666,
              "#ed7953"
             ],
             [
              0.7777777777777778,
              "#fb9f3a"
             ],
             [
              0.8888888888888888,
              "#fdca26"
             ],
             [
              1,
              "#f0f921"
             ]
            ],
            "type": "heatmap"
           }
          ],
          "histogram": [
           {
            "marker": {
             "pattern": {
              "fillmode": "overlay",
              "size": 10,
              "solidity": 0.2
             }
            },
            "type": "histogram"
           }
          ],
          "histogram2d": [
           {
            "colorbar": {
             "outlinewidth": 0,
             "ticks": ""
            },
            "colorscale": [
             [
              0,
              "#0d0887"
             ],
             [
              0.1111111111111111,
              "#46039f"
             ],
             [
              0.2222222222222222,
              "#7201a8"
             ],
             [
              0.3333333333333333,
              "#9c179e"
             ],
             [
              0.4444444444444444,
              "#bd3786"
             ],
             [
              0.5555555555555556,
              "#d8576b"
             ],
             [
              0.6666666666666666,
              "#ed7953"
             ],
             [
              0.7777777777777778,
              "#fb9f3a"
             ],
             [
              0.8888888888888888,
              "#fdca26"
             ],
             [
              1,
              "#f0f921"
             ]
            ],
            "type": "histogram2d"
           }
          ],
          "histogram2dcontour": [
           {
            "colorbar": {
             "outlinewidth": 0,
             "ticks": ""
            },
            "colorscale": [
             [
              0,
              "#0d0887"
             ],
             [
              0.1111111111111111,
              "#46039f"
             ],
             [
              0.2222222222222222,
              "#7201a8"
             ],
             [
              0.3333333333333333,
              "#9c179e"
             ],
             [
              0.4444444444444444,
              "#bd3786"
             ],
             [
              0.5555555555555556,
              "#d8576b"
             ],
             [
              0.6666666666666666,
              "#ed7953"
             ],
             [
              0.7777777777777778,
              "#fb9f3a"
             ],
             [
              0.8888888888888888,
              "#fdca26"
             ],
             [
              1,
              "#f0f921"
             ]
            ],
            "type": "histogram2dcontour"
           }
          ],
          "mesh3d": [
           {
            "colorbar": {
             "outlinewidth": 0,
             "ticks": ""
            },
            "type": "mesh3d"
           }
          ],
          "parcoords": [
           {
            "line": {
             "colorbar": {
              "outlinewidth": 0,
              "ticks": ""
             }
            },
            "type": "parcoords"
           }
          ],
          "pie": [
           {
            "automargin": true,
            "type": "pie"
           }
          ],
          "scatter": [
           {
            "fillpattern": {
             "fillmode": "overlay",
             "size": 10,
             "solidity": 0.2
            },
            "type": "scatter"
           }
          ],
          "scatter3d": [
           {
            "line": {
             "colorbar": {
              "outlinewidth": 0,
              "ticks": ""
             }
            },
            "marker": {
             "colorbar": {
              "outlinewidth": 0,
              "ticks": ""
             }
            },
            "type": "scatter3d"
           }
          ],
          "scattercarpet": [
           {
            "marker": {
             "colorbar": {
              "outlinewidth": 0,
              "ticks": ""
             }
            },
            "type": "scattercarpet"
           }
          ],
          "scattergeo": [
           {
            "marker": {
             "colorbar": {
              "outlinewidth": 0,
              "ticks": ""
             }
            },
            "type": "scattergeo"
           }
          ],
          "scattergl": [
           {
            "marker": {
             "colorbar": {
              "outlinewidth": 0,
              "ticks": ""
             }
            },
            "type": "scattergl"
           }
          ],
          "scattermap": [
           {
            "marker": {
             "colorbar": {
              "outlinewidth": 0,
              "ticks": ""
             }
            },
            "type": "scattermap"
           }
          ],
          "scattermapbox": [
           {
            "marker": {
             "colorbar": {
              "outlinewidth": 0,
              "ticks": ""
             }
            },
            "type": "scattermapbox"
           }
          ],
          "scatterpolar": [
           {
            "marker": {
             "colorbar": {
              "outlinewidth": 0,
              "ticks": ""
             }
            },
            "type": "scatterpolar"
           }
          ],
          "scatterpolargl": [
           {
            "marker": {
             "colorbar": {
              "outlinewidth": 0,
              "ticks": ""
             }
            },
            "type": "scatterpolargl"
           }
          ],
          "scatterternary": [
           {
            "marker": {
             "colorbar": {
              "outlinewidth": 0,
              "ticks": ""
             }
            },
            "type": "scatterternary"
           }
          ],
          "surface": [
           {
            "colorbar": {
             "outlinewidth": 0,
             "ticks": ""
            },
            "colorscale": [
             [
              0,
              "#0d0887"
             ],
             [
              0.1111111111111111,
              "#46039f"
             ],
             [
              0.2222222222222222,
              "#7201a8"
             ],
             [
              0.3333333333333333,
              "#9c179e"
             ],
             [
              0.4444444444444444,
              "#bd3786"
             ],
             [
              0.5555555555555556,
              "#d8576b"
             ],
             [
              0.6666666666666666,
              "#ed7953"
             ],
             [
              0.7777777777777778,
              "#fb9f3a"
             ],
             [
              0.8888888888888888,
              "#fdca26"
             ],
             [
              1,
              "#f0f921"
             ]
            ],
            "type": "surface"
           }
          ],
          "table": [
           {
            "cells": {
             "fill": {
              "color": "#EBF0F8"
             },
             "line": {
              "color": "white"
             }
            },
            "header": {
             "fill": {
              "color": "#C8D4E3"
             },
             "line": {
              "color": "white"
             }
            },
            "type": "table"
           }
          ]
         },
         "layout": {
          "annotationdefaults": {
           "arrowcolor": "#2a3f5f",
           "arrowhead": 0,
           "arrowwidth": 1
          },
          "autotypenumbers": "strict",
          "coloraxis": {
           "colorbar": {
            "outlinewidth": 0,
            "ticks": ""
           }
          },
          "colorscale": {
           "diverging": [
            [
             0,
             "#8e0152"
            ],
            [
             0.1,
             "#c51b7d"
            ],
            [
             0.2,
             "#de77ae"
            ],
            [
             0.3,
             "#f1b6da"
            ],
            [
             0.4,
             "#fde0ef"
            ],
            [
             0.5,
             "#f7f7f7"
            ],
            [
             0.6,
             "#e6f5d0"
            ],
            [
             0.7,
             "#b8e186"
            ],
            [
             0.8,
             "#7fbc41"
            ],
            [
             0.9,
             "#4d9221"
            ],
            [
             1,
             "#276419"
            ]
           ],
           "sequential": [
            [
             0,
             "#0d0887"
            ],
            [
             0.1111111111111111,
             "#46039f"
            ],
            [
             0.2222222222222222,
             "#7201a8"
            ],
            [
             0.3333333333333333,
             "#9c179e"
            ],
            [
             0.4444444444444444,
             "#bd3786"
            ],
            [
             0.5555555555555556,
             "#d8576b"
            ],
            [
             0.6666666666666666,
             "#ed7953"
            ],
            [
             0.7777777777777778,
             "#fb9f3a"
            ],
            [
             0.8888888888888888,
             "#fdca26"
            ],
            [
             1,
             "#f0f921"
            ]
           ],
           "sequentialminus": [
            [
             0,
             "#0d0887"
            ],
            [
             0.1111111111111111,
             "#46039f"
            ],
            [
             0.2222222222222222,
             "#7201a8"
            ],
            [
             0.3333333333333333,
             "#9c179e"
            ],
            [
             0.4444444444444444,
             "#bd3786"
            ],
            [
             0.5555555555555556,
             "#d8576b"
            ],
            [
             0.6666666666666666,
             "#ed7953"
            ],
            [
             0.7777777777777778,
             "#fb9f3a"
            ],
            [
             0.8888888888888888,
             "#fdca26"
            ],
            [
             1,
             "#f0f921"
            ]
           ]
          },
          "colorway": [
           "#636efa",
           "#EF553B",
           "#00cc96",
           "#ab63fa",
           "#FFA15A",
           "#19d3f3",
           "#FF6692",
           "#B6E880",
           "#FF97FF",
           "#FECB52"
          ],
          "font": {
           "color": "#2a3f5f"
          },
          "geo": {
           "bgcolor": "white",
           "lakecolor": "white",
           "landcolor": "#E5ECF6",
           "showlakes": true,
           "showland": true,
           "subunitcolor": "white"
          },
          "hoverlabel": {
           "align": "left"
          },
          "hovermode": "closest",
          "mapbox": {
           "style": "light"
          },
          "paper_bgcolor": "white",
          "plot_bgcolor": "#E5ECF6",
          "polar": {
           "angularaxis": {
            "gridcolor": "white",
            "linecolor": "white",
            "ticks": ""
           },
           "bgcolor": "#E5ECF6",
           "radialaxis": {
            "gridcolor": "white",
            "linecolor": "white",
            "ticks": ""
           }
          },
          "scene": {
           "xaxis": {
            "backgroundcolor": "#E5ECF6",
            "gridcolor": "white",
            "gridwidth": 2,
            "linecolor": "white",
            "showbackground": true,
            "ticks": "",
            "zerolinecolor": "white"
           },
           "yaxis": {
            "backgroundcolor": "#E5ECF6",
            "gridcolor": "white",
            "gridwidth": 2,
            "linecolor": "white",
            "showbackground": true,
            "ticks": "",
            "zerolinecolor": "white"
           },
           "zaxis": {
            "backgroundcolor": "#E5ECF6",
            "gridcolor": "white",
            "gridwidth": 2,
            "linecolor": "white",
            "showbackground": true,
            "ticks": "",
            "zerolinecolor": "white"
           }
          },
          "shapedefaults": {
           "line": {
            "color": "#2a3f5f"
           }
          },
          "ternary": {
           "aaxis": {
            "gridcolor": "white",
            "linecolor": "white",
            "ticks": ""
           },
           "baxis": {
            "gridcolor": "white",
            "linecolor": "white",
            "ticks": ""
           },
           "bgcolor": "#E5ECF6",
           "caxis": {
            "gridcolor": "white",
            "linecolor": "white",
            "ticks": ""
           }
          },
          "title": {
           "x": 0.05
          },
          "xaxis": {
           "automargin": true,
           "gridcolor": "white",
           "linecolor": "white",
           "ticks": "",
           "title": {
            "standoff": 15
           },
           "zerolinecolor": "white",
           "zerolinewidth": 2
          },
          "yaxis": {
           "automargin": true,
           "gridcolor": "white",
           "linecolor": "white",
           "ticks": "",
           "title": {
            "standoff": 15
           },
           "zerolinecolor": "white",
           "zerolinewidth": 2
          }
         }
        },
        "title": {
         "text": "Взаимодействие признаков: Комнаты (RM) vs Уровень населения (LSTAT) vs Цена (MEDV)"
        },
        "xaxis": {
         "anchor": "y",
         "domain": [
          0,
          1
         ],
         "title": {
          "text": "RM"
         }
        },
        "yaxis": {
         "anchor": "x",
         "domain": [
          0,
          1
         ],
         "title": {
          "text": "LSTAT"
         }
        }
       }
      }
     },
     "metadata": {},
     "output_type": "display_data"
    }
   ],
   "source": [
    "# Анализ взаимодействия признаков с помощью heatmap\n",
    "# px.density_heatmap: создает 2D density heatmap\n",
    "# x, y: данные для осей X и Y\n",
    "# z: данные для агрегации (в данном случае - среднее значение)\n",
    "# histfunc='avg': функция агрегации - среднее значение\n",
    "# nbinsx, nbinsy: количество бинов по осям X и Y\n",
    "# color_continuous_scale: цветовая шкала\n",
    "\n",
    "fig = px.density_heatmap(df, \n",
    "                         x='RM', \n",
    "                         y='LSTAT', \n",
    "                         z='MEDV',\n",
    "                         title='Взаимодействие признаков: Комнаты (RM) vs Уровень населения (LSTAT) vs Цена (MEDV)',\n",
    "                         histfunc='avg',\n",
    "                         nbinsx=20, \n",
    "                         nbinsy=20,\n",
    "                         color_continuous_scale='viridis')\n",
    "fig.show()"
   ]
  },
  {
   "cell_type": "code",
   "execution_count": 104,
   "id": "e4dbbf39",
   "metadata": {},
   "outputs": [
    {
     "name": "stdout",
     "output_type": "stream",
     "text": [
      "============================================================\n",
      "ФИНАЛЬНЫЙ ОТЧЕТ АНАЛИЗА BOSTON HOUSING DATASET\n",
      "============================================================\n",
      "\n",
      "1. ОСНОВНАЯ ИНФОРМАЦИЯ:\n",
      "   • Размер датасета: 506 записей, 15 признаков\n",
      "   • Диапазон цен: $5.0k - $50.0k\n",
      "   • Средняя цена: $22.5k\n",
      "   • Пропущенные значения: 0 (отсутствуют)\n",
      "\n",
      "2. САМЫЕ ВЛИЯТЕЛЬНЫЕ ФАКТОРЫ НА ЦЕНУ:\n",
      "   1. LSTAT: -0.738 (сильная отрицательная корреляция)\n",
      "   2. RM: 0.695 (сильная положительная корреляция)\n",
      "   3. PTRATIO: -0.508 (сильная отрицательная корреляция)\n",
      "   4. INDUS: -0.484 (умеренная отрицательная корреляция)\n",
      "   5. TAX: -0.469 (умеренная отрицательная корреляция)\n",
      "\n",
      "3. КЛЮЧЕВЫЕ ИНСАЙТЫ:\n",
      "   • LSTAT (% населения низкого статуса): сильная отрицательная корреляция (-0.74)\n",
      "   • RM (среднее количество комнат): сильная положительная корреляция (0.70)\n",
      "   • PTRATIO (соотношение учеников/учителей): умеренная отрицательная корреляция\n",
      "   • Выбросы обнаружены в признаках: CRIM, ZN, B\n",
      "   • Цены распределены нормально с небольшим правым хвостом\n",
      "\n",
      "4. РЕКОМЕНДАЦИИ ДЛЯ ДАЛЬНЕЙШЕГО АНАЛИЗА:\n",
      "   • Исследовать природу выбросов в CRIM, ZN, B\n",
      "   • Построить predictive model используя RM, LSTAT, PTRATIO как ключевые признаки\n",
      "   • Проверить мультиколлинеарность между признаками\n",
      "   • Рассмотреть логарифмическое преобразование для признаков с выбросами\n"
     ]
    }
   ],
   "source": [
    "# Финальный отчет с ключевыми инсайтами\n",
    "print(\"=\"*60)\n",
    "print(\"ФИНАЛЬНЫЙ ОТЧЕТ АНАЛИЗА BOSTON HOUSING DATASET\")\n",
    "print(\"=\"*60)\n",
    "\n",
    "print(f\"\\n1. ОСНОВНАЯ ИНФОРМАЦИЯ:\")\n",
    "print(f\"   • Размер датасета: {df.shape[0]} записей, {df.shape[1]} признаков\")\n",
    "print(f\"   • Диапазон цен: ${df['MEDV'].min():.1f}k - ${df['MEDV'].max():.1f}k\")\n",
    "print(f\"   • Средняя цена: ${df['MEDV'].mean():.1f}k\")\n",
    "print(f\"   • Пропущенные значения: {df.isnull().sum().sum()} (отсутствуют)\")\n",
    "\n",
    "print(f\"\\n2. САМЫЕ ВЛИЯТЕЛЬНЫЕ ФАКТОРЫ НА ЦЕНУ:\")\n",
    "\n",
    "for i, feature in enumerate(top_abs, 1):\n",
    "    corr = target_correlation[feature]\n",
    "    correlation_type = \"положительная\" if corr > 0 else \"отрицательная\"\n",
    "    strength = \"сильная\" if abs(corr) > 0.5 else \"умеренная\" if abs(corr) > 0.3 else \"слабая\"\n",
    "    print(f\"   {i}. {feature}: {corr:.3f} ({strength} {correlation_type} корреляция)\")\n",
    "\n",
    "#for i, (feature, corr) in enumerate(list(abs_correlation.items())[:6], 1):\n",
    "#    correlation_type = \"положительная\" if corr > 0 else \"отрицательная\"\n",
    "#    print(f\"   {i}. {feature}: {corr:.3f} ({correlation_type} корреляция)\")\n",
    "#\n",
    "#for i, feature in enumerate(list(abs_correlation.items())[:5], 1):\n",
    "#    corr = target_correlation[feature]\n",
    "#    correlation_type = \"положительная\" if corr > 0 else \"отрицательная\"\n",
    "#    strength = \"сильная\" if abs(corr) > 0.5 else \"умеренная\" if abs(corr) > 0.3 else \"слабая\"\n",
    "#    print(f\"   {i}. {feature}: {corr:.3f} ({strength} {correlation_type} корреляция)\")\n",
    "\n",
    "#for i, (feature, corr) in enumerate(list(target_correlation.items())[:6], 1):\n",
    "#    correlation_type = \"положительная\" if corr > 0 else \"отрицательная\"\n",
    "#    print(f\"   {i}. {feature}: {corr:.3f} ({correlation_type} корреляция)\")\n",
    "\n",
    "print(f\"\\n3. КЛЮЧЕВЫЕ ИНСАЙТЫ:\")\n",
    "print(\"   • LSTAT (% населения низкого статуса): сильная отрицательная корреляция (-0.74)\")\n",
    "print(\"   • RM (среднее количество комнат): сильная положительная корреляция (0.70)\")\n",
    "print(\"   • PTRATIO (соотношение учеников/учителей): умеренная отрицательная корреляция\")\n",
    "print(\"   • Выбросы обнаружены в признаках: CRIM, ZN, B\")\n",
    "print(\"   • Цены распределены нормально с небольшим правым хвостом\")\n",
    "\n",
    "print(f\"\\n4. РЕКОМЕНДАЦИИ ДЛЯ ДАЛЬНЕЙШЕГО АНАЛИЗА:\")\n",
    "print(\"   • Исследовать природу выбросов в CRIM, ZN, B\")\n",
    "print(\"   • Построить predictive model используя RM, LSTAT, PTRATIO как ключевые признаки\")\n",
    "print(\"   • Проверить мультиколлинеарность между признаками\")\n",
    "print(\"   • Рассмотреть логарифмическое преобразование для признаков с выбросами\")"
   ]
  }
 ],
 "metadata": {
  "kernelspec": {
   "display_name": "Python 3",
   "language": "python",
   "name": "python3"
  },
  "language_info": {
   "codemirror_mode": {
    "name": "ipython",
    "version": 3
   },
   "file_extension": ".py",
   "mimetype": "text/x-python",
   "name": "python",
   "nbconvert_exporter": "python",
   "pygments_lexer": "ipython3",
   "version": "3.13.7"
  }
 },
 "nbformat": 4,
 "nbformat_minor": 5
}
