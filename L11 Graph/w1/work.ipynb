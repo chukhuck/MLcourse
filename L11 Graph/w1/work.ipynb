{
 "cells": [
  {
   "cell_type": "code",
   "execution_count": 1290,
   "id": "e5052611",
   "metadata": {},
   "outputs": [
    {
     "data": {
      "text/html": [
       "<div>\n",
       "<style scoped>\n",
       "    .dataframe tbody tr th:only-of-type {\n",
       "        vertical-align: middle;\n",
       "    }\n",
       "\n",
       "    .dataframe tbody tr th {\n",
       "        vertical-align: top;\n",
       "    }\n",
       "\n",
       "    .dataframe thead th {\n",
       "        text-align: right;\n",
       "    }\n",
       "</style>\n",
       "<table border=\"1\" class=\"dataframe\">\n",
       "  <thead>\n",
       "    <tr style=\"text-align: right;\">\n",
       "      <th></th>\n",
       "      <th>ID</th>\n",
       "      <th>Gender</th>\n",
       "      <th>Age</th>\n",
       "      <th>Customer Type</th>\n",
       "      <th>Type of Travel</th>\n",
       "      <th>Class</th>\n",
       "      <th>Flight Distance</th>\n",
       "      <th>Departure Delay</th>\n",
       "      <th>Arrival Delay</th>\n",
       "      <th>Departure and Arrival Time Convenience</th>\n",
       "      <th>...</th>\n",
       "      <th>On-board Service</th>\n",
       "      <th>Seat Comfort</th>\n",
       "      <th>Leg Room Service</th>\n",
       "      <th>Cleanliness</th>\n",
       "      <th>Food and Drink</th>\n",
       "      <th>In-flight Service</th>\n",
       "      <th>In-flight Wifi Service</th>\n",
       "      <th>In-flight Entertainment</th>\n",
       "      <th>Baggage Handling</th>\n",
       "      <th>Satisfaction</th>\n",
       "    </tr>\n",
       "  </thead>\n",
       "  <tbody>\n",
       "    <tr>\n",
       "      <th>0</th>\n",
       "      <td>1</td>\n",
       "      <td>Male</td>\n",
       "      <td>48</td>\n",
       "      <td>First-time</td>\n",
       "      <td>Business</td>\n",
       "      <td>Business</td>\n",
       "      <td>821</td>\n",
       "      <td>2</td>\n",
       "      <td>5.0</td>\n",
       "      <td>3</td>\n",
       "      <td>...</td>\n",
       "      <td>3</td>\n",
       "      <td>5</td>\n",
       "      <td>2</td>\n",
       "      <td>5</td>\n",
       "      <td>5</td>\n",
       "      <td>5</td>\n",
       "      <td>3</td>\n",
       "      <td>5</td>\n",
       "      <td>5</td>\n",
       "      <td>Neutral or Dissatisfied</td>\n",
       "    </tr>\n",
       "    <tr>\n",
       "      <th>1</th>\n",
       "      <td>2</td>\n",
       "      <td>Female</td>\n",
       "      <td>35</td>\n",
       "      <td>Returning</td>\n",
       "      <td>Business</td>\n",
       "      <td>Business</td>\n",
       "      <td>821</td>\n",
       "      <td>26</td>\n",
       "      <td>39.0</td>\n",
       "      <td>2</td>\n",
       "      <td>...</td>\n",
       "      <td>5</td>\n",
       "      <td>4</td>\n",
       "      <td>5</td>\n",
       "      <td>5</td>\n",
       "      <td>3</td>\n",
       "      <td>5</td>\n",
       "      <td>2</td>\n",
       "      <td>5</td>\n",
       "      <td>5</td>\n",
       "      <td>Satisfied</td>\n",
       "    </tr>\n",
       "    <tr>\n",
       "      <th>2</th>\n",
       "      <td>3</td>\n",
       "      <td>Male</td>\n",
       "      <td>41</td>\n",
       "      <td>Returning</td>\n",
       "      <td>Business</td>\n",
       "      <td>Business</td>\n",
       "      <td>853</td>\n",
       "      <td>0</td>\n",
       "      <td>0.0</td>\n",
       "      <td>4</td>\n",
       "      <td>...</td>\n",
       "      <td>3</td>\n",
       "      <td>5</td>\n",
       "      <td>3</td>\n",
       "      <td>5</td>\n",
       "      <td>5</td>\n",
       "      <td>3</td>\n",
       "      <td>4</td>\n",
       "      <td>3</td>\n",
       "      <td>3</td>\n",
       "      <td>Satisfied</td>\n",
       "    </tr>\n",
       "    <tr>\n",
       "      <th>3</th>\n",
       "      <td>4</td>\n",
       "      <td>Male</td>\n",
       "      <td>50</td>\n",
       "      <td>Returning</td>\n",
       "      <td>Business</td>\n",
       "      <td>Business</td>\n",
       "      <td>1905</td>\n",
       "      <td>0</td>\n",
       "      <td>0.0</td>\n",
       "      <td>2</td>\n",
       "      <td>...</td>\n",
       "      <td>5</td>\n",
       "      <td>5</td>\n",
       "      <td>5</td>\n",
       "      <td>4</td>\n",
       "      <td>4</td>\n",
       "      <td>5</td>\n",
       "      <td>2</td>\n",
       "      <td>5</td>\n",
       "      <td>5</td>\n",
       "      <td>Satisfied</td>\n",
       "    </tr>\n",
       "    <tr>\n",
       "      <th>4</th>\n",
       "      <td>5</td>\n",
       "      <td>Female</td>\n",
       "      <td>49</td>\n",
       "      <td>Returning</td>\n",
       "      <td>Business</td>\n",
       "      <td>Business</td>\n",
       "      <td>3470</td>\n",
       "      <td>0</td>\n",
       "      <td>1.0</td>\n",
       "      <td>3</td>\n",
       "      <td>...</td>\n",
       "      <td>3</td>\n",
       "      <td>4</td>\n",
       "      <td>4</td>\n",
       "      <td>5</td>\n",
       "      <td>4</td>\n",
       "      <td>3</td>\n",
       "      <td>3</td>\n",
       "      <td>3</td>\n",
       "      <td>3</td>\n",
       "      <td>Satisfied</td>\n",
       "    </tr>\n",
       "  </tbody>\n",
       "</table>\n",
       "<p>5 rows × 24 columns</p>\n",
       "</div>"
      ],
      "text/plain": [
       "   ID  Gender  Age Customer Type Type of Travel     Class  Flight Distance  \\\n",
       "0   1    Male   48    First-time       Business  Business              821   \n",
       "1   2  Female   35     Returning       Business  Business              821   \n",
       "2   3    Male   41     Returning       Business  Business              853   \n",
       "3   4    Male   50     Returning       Business  Business             1905   \n",
       "4   5  Female   49     Returning       Business  Business             3470   \n",
       "\n",
       "   Departure Delay  Arrival Delay  Departure and Arrival Time Convenience  \\\n",
       "0                2            5.0                                       3   \n",
       "1               26           39.0                                       2   \n",
       "2                0            0.0                                       4   \n",
       "3                0            0.0                                       2   \n",
       "4                0            1.0                                       3   \n",
       "\n",
       "   ...  On-board Service  Seat Comfort  Leg Room Service  Cleanliness  \\\n",
       "0  ...                 3             5                 2            5   \n",
       "1  ...                 5             4                 5            5   \n",
       "2  ...                 3             5                 3            5   \n",
       "3  ...                 5             5                 5            4   \n",
       "4  ...                 3             4                 4            5   \n",
       "\n",
       "   Food and Drink  In-flight Service  In-flight Wifi Service  \\\n",
       "0               5                  5                       3   \n",
       "1               3                  5                       2   \n",
       "2               5                  3                       4   \n",
       "3               4                  5                       2   \n",
       "4               4                  3                       3   \n",
       "\n",
       "   In-flight Entertainment  Baggage Handling             Satisfaction  \n",
       "0                        5                 5  Neutral or Dissatisfied  \n",
       "1                        5                 5                Satisfied  \n",
       "2                        3                 3                Satisfied  \n",
       "3                        5                 5                Satisfied  \n",
       "4                        3                 3                Satisfied  \n",
       "\n",
       "[5 rows x 24 columns]"
      ]
     },
     "execution_count": 1290,
     "metadata": {},
     "output_type": "execute_result"
    }
   ],
   "source": [
    "import pandas as pd\n",
    "import numpy as np\n",
    "import matplotlib.pyplot as plt\n",
    "import seaborn as sns\n",
    "\n",
    "df = pd.read_csv('Airline Quality Ratings.csv')\n",
    "df_copy = df.copy()\n",
    "df.head()"
   ]
  },
  {
   "cell_type": "code",
   "execution_count": 1291,
   "id": "efc7b1d9",
   "metadata": {},
   "outputs": [
    {
     "data": {
      "text/html": [
       "<div>\n",
       "<style scoped>\n",
       "    .dataframe tbody tr th:only-of-type {\n",
       "        vertical-align: middle;\n",
       "    }\n",
       "\n",
       "    .dataframe tbody tr th {\n",
       "        vertical-align: top;\n",
       "    }\n",
       "\n",
       "    .dataframe thead th {\n",
       "        text-align: right;\n",
       "    }\n",
       "</style>\n",
       "<table border=\"1\" class=\"dataframe\">\n",
       "  <thead>\n",
       "    <tr style=\"text-align: right;\">\n",
       "      <th></th>\n",
       "      <th>ID</th>\n",
       "      <th>Gender</th>\n",
       "      <th>Age</th>\n",
       "      <th>Customer Type</th>\n",
       "      <th>Type of Travel</th>\n",
       "      <th>Class</th>\n",
       "      <th>Flight Distance</th>\n",
       "      <th>Departure Delay</th>\n",
       "      <th>Arrival Delay</th>\n",
       "      <th>Departure and Arrival Time Convenience</th>\n",
       "      <th>...</th>\n",
       "      <th>On-board Service</th>\n",
       "      <th>Seat Comfort</th>\n",
       "      <th>Leg Room Service</th>\n",
       "      <th>Cleanliness</th>\n",
       "      <th>Food and Drink</th>\n",
       "      <th>In-flight Service</th>\n",
       "      <th>In-flight Wifi Service</th>\n",
       "      <th>In-flight Entertainment</th>\n",
       "      <th>Baggage Handling</th>\n",
       "      <th>Satisfaction</th>\n",
       "    </tr>\n",
       "  </thead>\n",
       "  <tbody>\n",
       "    <tr>\n",
       "      <th>129875</th>\n",
       "      <td>129876</td>\n",
       "      <td>Male</td>\n",
       "      <td>28</td>\n",
       "      <td>Returning</td>\n",
       "      <td>Personal</td>\n",
       "      <td>Economy Plus</td>\n",
       "      <td>447</td>\n",
       "      <td>2</td>\n",
       "      <td>3.0</td>\n",
       "      <td>4</td>\n",
       "      <td>...</td>\n",
       "      <td>5</td>\n",
       "      <td>1</td>\n",
       "      <td>4</td>\n",
       "      <td>4</td>\n",
       "      <td>4</td>\n",
       "      <td>5</td>\n",
       "      <td>4</td>\n",
       "      <td>4</td>\n",
       "      <td>4</td>\n",
       "      <td>Neutral or Dissatisfied</td>\n",
       "    </tr>\n",
       "    <tr>\n",
       "      <th>129876</th>\n",
       "      <td>129877</td>\n",
       "      <td>Male</td>\n",
       "      <td>41</td>\n",
       "      <td>Returning</td>\n",
       "      <td>Personal</td>\n",
       "      <td>Economy Plus</td>\n",
       "      <td>308</td>\n",
       "      <td>0</td>\n",
       "      <td>0.0</td>\n",
       "      <td>5</td>\n",
       "      <td>...</td>\n",
       "      <td>5</td>\n",
       "      <td>2</td>\n",
       "      <td>5</td>\n",
       "      <td>2</td>\n",
       "      <td>2</td>\n",
       "      <td>4</td>\n",
       "      <td>3</td>\n",
       "      <td>2</td>\n",
       "      <td>5</td>\n",
       "      <td>Neutral or Dissatisfied</td>\n",
       "    </tr>\n",
       "    <tr>\n",
       "      <th>129877</th>\n",
       "      <td>129878</td>\n",
       "      <td>Male</td>\n",
       "      <td>42</td>\n",
       "      <td>Returning</td>\n",
       "      <td>Personal</td>\n",
       "      <td>Economy Plus</td>\n",
       "      <td>337</td>\n",
       "      <td>6</td>\n",
       "      <td>14.0</td>\n",
       "      <td>5</td>\n",
       "      <td>...</td>\n",
       "      <td>3</td>\n",
       "      <td>3</td>\n",
       "      <td>4</td>\n",
       "      <td>3</td>\n",
       "      <td>3</td>\n",
       "      <td>4</td>\n",
       "      <td>2</td>\n",
       "      <td>3</td>\n",
       "      <td>5</td>\n",
       "      <td>Neutral or Dissatisfied</td>\n",
       "    </tr>\n",
       "    <tr>\n",
       "      <th>129878</th>\n",
       "      <td>129879</td>\n",
       "      <td>Male</td>\n",
       "      <td>50</td>\n",
       "      <td>Returning</td>\n",
       "      <td>Personal</td>\n",
       "      <td>Economy Plus</td>\n",
       "      <td>337</td>\n",
       "      <td>31</td>\n",
       "      <td>22.0</td>\n",
       "      <td>4</td>\n",
       "      <td>...</td>\n",
       "      <td>4</td>\n",
       "      <td>4</td>\n",
       "      <td>5</td>\n",
       "      <td>3</td>\n",
       "      <td>3</td>\n",
       "      <td>4</td>\n",
       "      <td>5</td>\n",
       "      <td>3</td>\n",
       "      <td>5</td>\n",
       "      <td>Satisfied</td>\n",
       "    </tr>\n",
       "    <tr>\n",
       "      <th>129879</th>\n",
       "      <td>129880</td>\n",
       "      <td>Female</td>\n",
       "      <td>20</td>\n",
       "      <td>Returning</td>\n",
       "      <td>Personal</td>\n",
       "      <td>Economy Plus</td>\n",
       "      <td>337</td>\n",
       "      <td>0</td>\n",
       "      <td>0.0</td>\n",
       "      <td>1</td>\n",
       "      <td>...</td>\n",
       "      <td>4</td>\n",
       "      <td>2</td>\n",
       "      <td>4</td>\n",
       "      <td>2</td>\n",
       "      <td>2</td>\n",
       "      <td>2</td>\n",
       "      <td>3</td>\n",
       "      <td>2</td>\n",
       "      <td>1</td>\n",
       "      <td>Neutral or Dissatisfied</td>\n",
       "    </tr>\n",
       "  </tbody>\n",
       "</table>\n",
       "<p>5 rows × 24 columns</p>\n",
       "</div>"
      ],
      "text/plain": [
       "            ID  Gender  Age Customer Type Type of Travel         Class  \\\n",
       "129875  129876    Male   28     Returning       Personal  Economy Plus   \n",
       "129876  129877    Male   41     Returning       Personal  Economy Plus   \n",
       "129877  129878    Male   42     Returning       Personal  Economy Plus   \n",
       "129878  129879    Male   50     Returning       Personal  Economy Plus   \n",
       "129879  129880  Female   20     Returning       Personal  Economy Plus   \n",
       "\n",
       "        Flight Distance  Departure Delay  Arrival Delay  \\\n",
       "129875              447                2            3.0   \n",
       "129876              308                0            0.0   \n",
       "129877              337                6           14.0   \n",
       "129878              337               31           22.0   \n",
       "129879              337                0            0.0   \n",
       "\n",
       "        Departure and Arrival Time Convenience  ...  On-board Service  \\\n",
       "129875                                       4  ...                 5   \n",
       "129876                                       5  ...                 5   \n",
       "129877                                       5  ...                 3   \n",
       "129878                                       4  ...                 4   \n",
       "129879                                       1  ...                 4   \n",
       "\n",
       "        Seat Comfort  Leg Room Service  Cleanliness  Food and Drink  \\\n",
       "129875             1                 4            4               4   \n",
       "129876             2                 5            2               2   \n",
       "129877             3                 4            3               3   \n",
       "129878             4                 5            3               3   \n",
       "129879             2                 4            2               2   \n",
       "\n",
       "        In-flight Service  In-flight Wifi Service  In-flight Entertainment  \\\n",
       "129875                  5                       4                        4   \n",
       "129876                  4                       3                        2   \n",
       "129877                  4                       2                        3   \n",
       "129878                  4                       5                        3   \n",
       "129879                  2                       3                        2   \n",
       "\n",
       "        Baggage Handling             Satisfaction  \n",
       "129875                 4  Neutral or Dissatisfied  \n",
       "129876                 5  Neutral or Dissatisfied  \n",
       "129877                 5  Neutral or Dissatisfied  \n",
       "129878                 5                Satisfied  \n",
       "129879                 1  Neutral or Dissatisfied  \n",
       "\n",
       "[5 rows x 24 columns]"
      ]
     },
     "execution_count": 1291,
     "metadata": {},
     "output_type": "execute_result"
    }
   ],
   "source": [
    "df.tail()\n"
   ]
  },
  {
   "cell_type": "code",
   "execution_count": 1292,
   "id": "cb01aeae",
   "metadata": {},
   "outputs": [
    {
     "name": "stdout",
     "output_type": "stream",
     "text": [
      "<class 'pandas.core.frame.DataFrame'>\n",
      "RangeIndex: 129880 entries, 0 to 129879\n",
      "Data columns (total 24 columns):\n",
      " #   Column                                  Non-Null Count   Dtype  \n",
      "---  ------                                  --------------   -----  \n",
      " 0   ID                                      129880 non-null  int64  \n",
      " 1   Gender                                  129880 non-null  object \n",
      " 2   Age                                     129880 non-null  int64  \n",
      " 3   Customer Type                           129880 non-null  object \n",
      " 4   Type of Travel                          129880 non-null  object \n",
      " 5   Class                                   129880 non-null  object \n",
      " 6   Flight Distance                         129880 non-null  int64  \n",
      " 7   Departure Delay                         129880 non-null  int64  \n",
      " 8   Arrival Delay                           129487 non-null  float64\n",
      " 9   Departure and Arrival Time Convenience  129880 non-null  int64  \n",
      " 10  Ease of Online Booking                  129880 non-null  int64  \n",
      " 11  Check-in Service                        129880 non-null  int64  \n",
      " 12  Online Boarding                         129880 non-null  int64  \n",
      " 13  Gate Location                           129880 non-null  int64  \n",
      " 14  On-board Service                        129880 non-null  int64  \n",
      " 15  Seat Comfort                            129880 non-null  int64  \n",
      " 16  Leg Room Service                        129880 non-null  int64  \n",
      " 17  Cleanliness                             129880 non-null  int64  \n",
      " 18  Food and Drink                          129880 non-null  int64  \n",
      " 19  In-flight Service                       129880 non-null  int64  \n",
      " 20  In-flight Wifi Service                  129880 non-null  int64  \n",
      " 21  In-flight Entertainment                 129880 non-null  int64  \n",
      " 22  Baggage Handling                        129880 non-null  int64  \n",
      " 23  Satisfaction                            129880 non-null  object \n",
      "dtypes: float64(1), int64(18), object(5)\n",
      "memory usage: 23.8+ MB\n"
     ]
    }
   ],
   "source": [
    "df.info()"
   ]
  },
  {
   "cell_type": "code",
   "execution_count": 1293,
   "id": "0305ec5a",
   "metadata": {},
   "outputs": [
    {
     "data": {
      "text/html": [
       "<div>\n",
       "<style scoped>\n",
       "    .dataframe tbody tr th:only-of-type {\n",
       "        vertical-align: middle;\n",
       "    }\n",
       "\n",
       "    .dataframe tbody tr th {\n",
       "        vertical-align: top;\n",
       "    }\n",
       "\n",
       "    .dataframe thead th {\n",
       "        text-align: right;\n",
       "    }\n",
       "</style>\n",
       "<table border=\"1\" class=\"dataframe\">\n",
       "  <thead>\n",
       "    <tr style=\"text-align: right;\">\n",
       "      <th></th>\n",
       "      <th>ID</th>\n",
       "      <th>Age</th>\n",
       "      <th>Flight Distance</th>\n",
       "      <th>Departure Delay</th>\n",
       "      <th>Arrival Delay</th>\n",
       "      <th>Departure and Arrival Time Convenience</th>\n",
       "      <th>Ease of Online Booking</th>\n",
       "      <th>Check-in Service</th>\n",
       "      <th>Online Boarding</th>\n",
       "      <th>Gate Location</th>\n",
       "      <th>On-board Service</th>\n",
       "      <th>Seat Comfort</th>\n",
       "      <th>Leg Room Service</th>\n",
       "      <th>Cleanliness</th>\n",
       "      <th>Food and Drink</th>\n",
       "      <th>In-flight Service</th>\n",
       "      <th>In-flight Wifi Service</th>\n",
       "      <th>In-flight Entertainment</th>\n",
       "      <th>Baggage Handling</th>\n",
       "    </tr>\n",
       "  </thead>\n",
       "  <tbody>\n",
       "    <tr>\n",
       "      <th>count</th>\n",
       "      <td>129880.000000</td>\n",
       "      <td>129880.000000</td>\n",
       "      <td>129880.000000</td>\n",
       "      <td>129880.000000</td>\n",
       "      <td>129487.000000</td>\n",
       "      <td>129880.000000</td>\n",
       "      <td>129880.000000</td>\n",
       "      <td>129880.000000</td>\n",
       "      <td>129880.000000</td>\n",
       "      <td>129880.000000</td>\n",
       "      <td>129880.000000</td>\n",
       "      <td>129880.000000</td>\n",
       "      <td>129880.000000</td>\n",
       "      <td>129880.000000</td>\n",
       "      <td>129880.000000</td>\n",
       "      <td>129880.000000</td>\n",
       "      <td>129880.000000</td>\n",
       "      <td>129880.000000</td>\n",
       "      <td>129880.000000</td>\n",
       "    </tr>\n",
       "    <tr>\n",
       "      <th>mean</th>\n",
       "      <td>64940.500000</td>\n",
       "      <td>39.427957</td>\n",
       "      <td>1190.316392</td>\n",
       "      <td>14.713713</td>\n",
       "      <td>15.091129</td>\n",
       "      <td>3.057599</td>\n",
       "      <td>2.756876</td>\n",
       "      <td>3.306267</td>\n",
       "      <td>3.252633</td>\n",
       "      <td>2.976925</td>\n",
       "      <td>3.383023</td>\n",
       "      <td>3.441361</td>\n",
       "      <td>3.350878</td>\n",
       "      <td>3.286326</td>\n",
       "      <td>3.204774</td>\n",
       "      <td>3.642193</td>\n",
       "      <td>2.728696</td>\n",
       "      <td>3.358077</td>\n",
       "      <td>3.632114</td>\n",
       "    </tr>\n",
       "    <tr>\n",
       "      <th>std</th>\n",
       "      <td>37493.270818</td>\n",
       "      <td>15.119360</td>\n",
       "      <td>997.452477</td>\n",
       "      <td>38.071126</td>\n",
       "      <td>38.465650</td>\n",
       "      <td>1.526741</td>\n",
       "      <td>1.401740</td>\n",
       "      <td>1.266185</td>\n",
       "      <td>1.350719</td>\n",
       "      <td>1.278520</td>\n",
       "      <td>1.287099</td>\n",
       "      <td>1.319289</td>\n",
       "      <td>1.316252</td>\n",
       "      <td>1.313682</td>\n",
       "      <td>1.329933</td>\n",
       "      <td>1.176669</td>\n",
       "      <td>1.329340</td>\n",
       "      <td>1.334049</td>\n",
       "      <td>1.180025</td>\n",
       "    </tr>\n",
       "    <tr>\n",
       "      <th>min</th>\n",
       "      <td>1.000000</td>\n",
       "      <td>7.000000</td>\n",
       "      <td>31.000000</td>\n",
       "      <td>0.000000</td>\n",
       "      <td>0.000000</td>\n",
       "      <td>0.000000</td>\n",
       "      <td>0.000000</td>\n",
       "      <td>0.000000</td>\n",
       "      <td>0.000000</td>\n",
       "      <td>0.000000</td>\n",
       "      <td>0.000000</td>\n",
       "      <td>0.000000</td>\n",
       "      <td>0.000000</td>\n",
       "      <td>0.000000</td>\n",
       "      <td>0.000000</td>\n",
       "      <td>0.000000</td>\n",
       "      <td>0.000000</td>\n",
       "      <td>0.000000</td>\n",
       "      <td>1.000000</td>\n",
       "    </tr>\n",
       "    <tr>\n",
       "      <th>25%</th>\n",
       "      <td>32470.750000</td>\n",
       "      <td>27.000000</td>\n",
       "      <td>414.000000</td>\n",
       "      <td>0.000000</td>\n",
       "      <td>0.000000</td>\n",
       "      <td>2.000000</td>\n",
       "      <td>2.000000</td>\n",
       "      <td>3.000000</td>\n",
       "      <td>2.000000</td>\n",
       "      <td>2.000000</td>\n",
       "      <td>2.000000</td>\n",
       "      <td>2.000000</td>\n",
       "      <td>2.000000</td>\n",
       "      <td>2.000000</td>\n",
       "      <td>2.000000</td>\n",
       "      <td>3.000000</td>\n",
       "      <td>2.000000</td>\n",
       "      <td>2.000000</td>\n",
       "      <td>3.000000</td>\n",
       "    </tr>\n",
       "    <tr>\n",
       "      <th>50%</th>\n",
       "      <td>64940.500000</td>\n",
       "      <td>40.000000</td>\n",
       "      <td>844.000000</td>\n",
       "      <td>0.000000</td>\n",
       "      <td>0.000000</td>\n",
       "      <td>3.000000</td>\n",
       "      <td>3.000000</td>\n",
       "      <td>3.000000</td>\n",
       "      <td>3.000000</td>\n",
       "      <td>3.000000</td>\n",
       "      <td>4.000000</td>\n",
       "      <td>4.000000</td>\n",
       "      <td>4.000000</td>\n",
       "      <td>3.000000</td>\n",
       "      <td>3.000000</td>\n",
       "      <td>4.000000</td>\n",
       "      <td>3.000000</td>\n",
       "      <td>4.000000</td>\n",
       "      <td>4.000000</td>\n",
       "    </tr>\n",
       "    <tr>\n",
       "      <th>75%</th>\n",
       "      <td>97410.250000</td>\n",
       "      <td>51.000000</td>\n",
       "      <td>1744.000000</td>\n",
       "      <td>12.000000</td>\n",
       "      <td>13.000000</td>\n",
       "      <td>4.000000</td>\n",
       "      <td>4.000000</td>\n",
       "      <td>4.000000</td>\n",
       "      <td>4.000000</td>\n",
       "      <td>4.000000</td>\n",
       "      <td>4.000000</td>\n",
       "      <td>5.000000</td>\n",
       "      <td>4.000000</td>\n",
       "      <td>4.000000</td>\n",
       "      <td>4.000000</td>\n",
       "      <td>5.000000</td>\n",
       "      <td>4.000000</td>\n",
       "      <td>4.000000</td>\n",
       "      <td>5.000000</td>\n",
       "    </tr>\n",
       "    <tr>\n",
       "      <th>max</th>\n",
       "      <td>129880.000000</td>\n",
       "      <td>85.000000</td>\n",
       "      <td>4983.000000</td>\n",
       "      <td>1592.000000</td>\n",
       "      <td>1584.000000</td>\n",
       "      <td>5.000000</td>\n",
       "      <td>5.000000</td>\n",
       "      <td>5.000000</td>\n",
       "      <td>5.000000</td>\n",
       "      <td>5.000000</td>\n",
       "      <td>5.000000</td>\n",
       "      <td>5.000000</td>\n",
       "      <td>5.000000</td>\n",
       "      <td>5.000000</td>\n",
       "      <td>5.000000</td>\n",
       "      <td>5.000000</td>\n",
       "      <td>5.000000</td>\n",
       "      <td>5.000000</td>\n",
       "      <td>5.000000</td>\n",
       "    </tr>\n",
       "  </tbody>\n",
       "</table>\n",
       "</div>"
      ],
      "text/plain": [
       "                  ID            Age  Flight Distance  Departure Delay  \\\n",
       "count  129880.000000  129880.000000    129880.000000    129880.000000   \n",
       "mean    64940.500000      39.427957      1190.316392        14.713713   \n",
       "std     37493.270818      15.119360       997.452477        38.071126   \n",
       "min         1.000000       7.000000        31.000000         0.000000   \n",
       "25%     32470.750000      27.000000       414.000000         0.000000   \n",
       "50%     64940.500000      40.000000       844.000000         0.000000   \n",
       "75%     97410.250000      51.000000      1744.000000        12.000000   \n",
       "max    129880.000000      85.000000      4983.000000      1592.000000   \n",
       "\n",
       "       Arrival Delay  Departure and Arrival Time Convenience  \\\n",
       "count  129487.000000                           129880.000000   \n",
       "mean       15.091129                                3.057599   \n",
       "std        38.465650                                1.526741   \n",
       "min         0.000000                                0.000000   \n",
       "25%         0.000000                                2.000000   \n",
       "50%         0.000000                                3.000000   \n",
       "75%        13.000000                                4.000000   \n",
       "max      1584.000000                                5.000000   \n",
       "\n",
       "       Ease of Online Booking  Check-in Service  Online Boarding  \\\n",
       "count           129880.000000     129880.000000    129880.000000   \n",
       "mean                 2.756876          3.306267         3.252633   \n",
       "std                  1.401740          1.266185         1.350719   \n",
       "min                  0.000000          0.000000         0.000000   \n",
       "25%                  2.000000          3.000000         2.000000   \n",
       "50%                  3.000000          3.000000         3.000000   \n",
       "75%                  4.000000          4.000000         4.000000   \n",
       "max                  5.000000          5.000000         5.000000   \n",
       "\n",
       "       Gate Location  On-board Service   Seat Comfort  Leg Room Service  \\\n",
       "count  129880.000000     129880.000000  129880.000000     129880.000000   \n",
       "mean        2.976925          3.383023       3.441361          3.350878   \n",
       "std         1.278520          1.287099       1.319289          1.316252   \n",
       "min         0.000000          0.000000       0.000000          0.000000   \n",
       "25%         2.000000          2.000000       2.000000          2.000000   \n",
       "50%         3.000000          4.000000       4.000000          4.000000   \n",
       "75%         4.000000          4.000000       5.000000          4.000000   \n",
       "max         5.000000          5.000000       5.000000          5.000000   \n",
       "\n",
       "         Cleanliness  Food and Drink  In-flight Service  \\\n",
       "count  129880.000000   129880.000000      129880.000000   \n",
       "mean        3.286326        3.204774           3.642193   \n",
       "std         1.313682        1.329933           1.176669   \n",
       "min         0.000000        0.000000           0.000000   \n",
       "25%         2.000000        2.000000           3.000000   \n",
       "50%         3.000000        3.000000           4.000000   \n",
       "75%         4.000000        4.000000           5.000000   \n",
       "max         5.000000        5.000000           5.000000   \n",
       "\n",
       "       In-flight Wifi Service  In-flight Entertainment  Baggage Handling  \n",
       "count           129880.000000            129880.000000     129880.000000  \n",
       "mean                 2.728696                 3.358077          3.632114  \n",
       "std                  1.329340                 1.334049          1.180025  \n",
       "min                  0.000000                 0.000000          1.000000  \n",
       "25%                  2.000000                 2.000000          3.000000  \n",
       "50%                  3.000000                 4.000000          4.000000  \n",
       "75%                  4.000000                 4.000000          5.000000  \n",
       "max                  5.000000                 5.000000          5.000000  "
      ]
     },
     "execution_count": 1293,
     "metadata": {},
     "output_type": "execute_result"
    }
   ],
   "source": [
    "df.describe()"
   ]
  },
  {
   "cell_type": "code",
   "execution_count": 1294,
   "id": "e1ae9120",
   "metadata": {},
   "outputs": [
    {
     "data": {
      "text/plain": [
       "array(['Neutral or Dissatisfied', 'Satisfied'], dtype=object)"
      ]
     },
     "execution_count": 1294,
     "metadata": {},
     "output_type": "execute_result"
    }
   ],
   "source": [
    "df['Satisfaction'].unique()"
   ]
  },
  {
   "cell_type": "code",
   "execution_count": 1295,
   "id": "1303e799",
   "metadata": {},
   "outputs": [
    {
     "data": {
      "text/plain": [
       "array(['Male', 'Female'], dtype=object)"
      ]
     },
     "execution_count": 1295,
     "metadata": {},
     "output_type": "execute_result"
    }
   ],
   "source": [
    "df['Gender'].unique()"
   ]
  },
  {
   "cell_type": "code",
   "execution_count": 1296,
   "id": "8f83d8a4",
   "metadata": {},
   "outputs": [
    {
     "data": {
      "text/plain": [
       "array(['First-time', 'Returning'], dtype=object)"
      ]
     },
     "execution_count": 1296,
     "metadata": {},
     "output_type": "execute_result"
    }
   ],
   "source": [
    "df['Customer Type'].unique()"
   ]
  },
  {
   "cell_type": "code",
   "execution_count": 1297,
   "id": "c8c2a402",
   "metadata": {},
   "outputs": [
    {
     "data": {
      "text/plain": [
       "array(['Business', 'Personal'], dtype=object)"
      ]
     },
     "execution_count": 1297,
     "metadata": {},
     "output_type": "execute_result"
    }
   ],
   "source": [
    "df['Type of Travel'].unique()"
   ]
  },
  {
   "cell_type": "code",
   "execution_count": 1298,
   "id": "c293d950",
   "metadata": {},
   "outputs": [
    {
     "data": {
      "text/plain": [
       "array(['Business', 'Economy', 'Economy Plus'], dtype=object)"
      ]
     },
     "execution_count": 1298,
     "metadata": {},
     "output_type": "execute_result"
    }
   ],
   "source": [
    "df['Class'].unique()"
   ]
  },
  {
   "cell_type": "code",
   "execution_count": 1299,
   "id": "09323311",
   "metadata": {},
   "outputs": [
    {
     "data": {
      "text/plain": [
       "ID                                          0\n",
       "Gender                                      0\n",
       "Age                                         0\n",
       "Customer Type                               0\n",
       "Type of Travel                              0\n",
       "Class                                       0\n",
       "Flight Distance                             0\n",
       "Departure Delay                             0\n",
       "Arrival Delay                             393\n",
       "Departure and Arrival Time Convenience      0\n",
       "Ease of Online Booking                      0\n",
       "Check-in Service                            0\n",
       "Online Boarding                             0\n",
       "Gate Location                               0\n",
       "On-board Service                            0\n",
       "Seat Comfort                                0\n",
       "Leg Room Service                            0\n",
       "Cleanliness                                 0\n",
       "Food and Drink                              0\n",
       "In-flight Service                           0\n",
       "In-flight Wifi Service                      0\n",
       "In-flight Entertainment                     0\n",
       "Baggage Handling                            0\n",
       "Satisfaction                                0\n",
       "dtype: int64"
      ]
     },
     "execution_count": 1299,
     "metadata": {},
     "output_type": "execute_result"
    }
   ],
   "source": [
    "df.isna().sum()"
   ]
  },
  {
   "cell_type": "code",
   "execution_count": 1300,
   "id": "987c097d",
   "metadata": {},
   "outputs": [],
   "source": [
    "median_value = df['Arrival Delay'].median()\n",
    "\n",
    "# Заполняем NaN медианой\n",
    "df['Arrival Delay'] = df['Arrival Delay'].fillna(median_value)"
   ]
  },
  {
   "cell_type": "code",
   "execution_count": 1301,
   "id": "912a91ce",
   "metadata": {},
   "outputs": [
    {
     "data": {
      "text/plain": [
       "ID                                        0\n",
       "Gender                                    0\n",
       "Age                                       0\n",
       "Customer Type                             0\n",
       "Type of Travel                            0\n",
       "Class                                     0\n",
       "Flight Distance                           0\n",
       "Departure Delay                           0\n",
       "Arrival Delay                             0\n",
       "Departure and Arrival Time Convenience    0\n",
       "Ease of Online Booking                    0\n",
       "Check-in Service                          0\n",
       "Online Boarding                           0\n",
       "Gate Location                             0\n",
       "On-board Service                          0\n",
       "Seat Comfort                              0\n",
       "Leg Room Service                          0\n",
       "Cleanliness                               0\n",
       "Food and Drink                            0\n",
       "In-flight Service                         0\n",
       "In-flight Wifi Service                    0\n",
       "In-flight Entertainment                   0\n",
       "Baggage Handling                          0\n",
       "Satisfaction                              0\n",
       "dtype: int64"
      ]
     },
     "execution_count": 1301,
     "metadata": {},
     "output_type": "execute_result"
    }
   ],
   "source": [
    "df.isna().sum()"
   ]
  },
  {
   "cell_type": "code",
   "execution_count": 1302,
   "id": "49652298",
   "metadata": {},
   "outputs": [
    {
     "data": {
      "text/html": [
       "<div>\n",
       "<style scoped>\n",
       "    .dataframe tbody tr th:only-of-type {\n",
       "        vertical-align: middle;\n",
       "    }\n",
       "\n",
       "    .dataframe tbody tr th {\n",
       "        vertical-align: top;\n",
       "    }\n",
       "\n",
       "    .dataframe thead th {\n",
       "        text-align: right;\n",
       "    }\n",
       "</style>\n",
       "<table border=\"1\" class=\"dataframe\">\n",
       "  <thead>\n",
       "    <tr style=\"text-align: right;\">\n",
       "      <th></th>\n",
       "      <th>ID</th>\n",
       "      <th>Age</th>\n",
       "      <th>Flight Distance</th>\n",
       "      <th>Departure Delay</th>\n",
       "      <th>Arrival Delay</th>\n",
       "      <th>Departure and Arrival Time Convenience</th>\n",
       "      <th>Ease of Online Booking</th>\n",
       "      <th>Check-in Service</th>\n",
       "      <th>Online Boarding</th>\n",
       "      <th>Gate Location</th>\n",
       "      <th>...</th>\n",
       "      <th>In-flight Service</th>\n",
       "      <th>In-flight Wifi Service</th>\n",
       "      <th>In-flight Entertainment</th>\n",
       "      <th>Baggage Handling</th>\n",
       "      <th>Satisfaction</th>\n",
       "      <th>Gender_Male</th>\n",
       "      <th>Customer Type_Returning</th>\n",
       "      <th>Type of Travel_Personal</th>\n",
       "      <th>Class_Economy</th>\n",
       "      <th>Class_Economy Plus</th>\n",
       "    </tr>\n",
       "  </thead>\n",
       "  <tbody>\n",
       "    <tr>\n",
       "      <th>0</th>\n",
       "      <td>1</td>\n",
       "      <td>48</td>\n",
       "      <td>821</td>\n",
       "      <td>2</td>\n",
       "      <td>5.0</td>\n",
       "      <td>3</td>\n",
       "      <td>3</td>\n",
       "      <td>4</td>\n",
       "      <td>3</td>\n",
       "      <td>3</td>\n",
       "      <td>...</td>\n",
       "      <td>5</td>\n",
       "      <td>3</td>\n",
       "      <td>5</td>\n",
       "      <td>5</td>\n",
       "      <td>Neutral or Dissatisfied</td>\n",
       "      <td>1</td>\n",
       "      <td>0</td>\n",
       "      <td>0</td>\n",
       "      <td>0</td>\n",
       "      <td>0</td>\n",
       "    </tr>\n",
       "    <tr>\n",
       "      <th>1</th>\n",
       "      <td>2</td>\n",
       "      <td>35</td>\n",
       "      <td>821</td>\n",
       "      <td>26</td>\n",
       "      <td>39.0</td>\n",
       "      <td>2</td>\n",
       "      <td>2</td>\n",
       "      <td>3</td>\n",
       "      <td>5</td>\n",
       "      <td>2</td>\n",
       "      <td>...</td>\n",
       "      <td>5</td>\n",
       "      <td>2</td>\n",
       "      <td>5</td>\n",
       "      <td>5</td>\n",
       "      <td>Satisfied</td>\n",
       "      <td>0</td>\n",
       "      <td>1</td>\n",
       "      <td>0</td>\n",
       "      <td>0</td>\n",
       "      <td>0</td>\n",
       "    </tr>\n",
       "    <tr>\n",
       "      <th>2</th>\n",
       "      <td>3</td>\n",
       "      <td>41</td>\n",
       "      <td>853</td>\n",
       "      <td>0</td>\n",
       "      <td>0.0</td>\n",
       "      <td>4</td>\n",
       "      <td>4</td>\n",
       "      <td>4</td>\n",
       "      <td>5</td>\n",
       "      <td>4</td>\n",
       "      <td>...</td>\n",
       "      <td>3</td>\n",
       "      <td>4</td>\n",
       "      <td>3</td>\n",
       "      <td>3</td>\n",
       "      <td>Satisfied</td>\n",
       "      <td>1</td>\n",
       "      <td>1</td>\n",
       "      <td>0</td>\n",
       "      <td>0</td>\n",
       "      <td>0</td>\n",
       "    </tr>\n",
       "    <tr>\n",
       "      <th>3</th>\n",
       "      <td>4</td>\n",
       "      <td>50</td>\n",
       "      <td>1905</td>\n",
       "      <td>0</td>\n",
       "      <td>0.0</td>\n",
       "      <td>2</td>\n",
       "      <td>2</td>\n",
       "      <td>3</td>\n",
       "      <td>4</td>\n",
       "      <td>2</td>\n",
       "      <td>...</td>\n",
       "      <td>5</td>\n",
       "      <td>2</td>\n",
       "      <td>5</td>\n",
       "      <td>5</td>\n",
       "      <td>Satisfied</td>\n",
       "      <td>1</td>\n",
       "      <td>1</td>\n",
       "      <td>0</td>\n",
       "      <td>0</td>\n",
       "      <td>0</td>\n",
       "    </tr>\n",
       "    <tr>\n",
       "      <th>4</th>\n",
       "      <td>5</td>\n",
       "      <td>49</td>\n",
       "      <td>3470</td>\n",
       "      <td>0</td>\n",
       "      <td>1.0</td>\n",
       "      <td>3</td>\n",
       "      <td>3</td>\n",
       "      <td>3</td>\n",
       "      <td>5</td>\n",
       "      <td>3</td>\n",
       "      <td>...</td>\n",
       "      <td>3</td>\n",
       "      <td>3</td>\n",
       "      <td>3</td>\n",
       "      <td>3</td>\n",
       "      <td>Satisfied</td>\n",
       "      <td>0</td>\n",
       "      <td>1</td>\n",
       "      <td>0</td>\n",
       "      <td>0</td>\n",
       "      <td>0</td>\n",
       "    </tr>\n",
       "  </tbody>\n",
       "</table>\n",
       "<p>5 rows × 25 columns</p>\n",
       "</div>"
      ],
      "text/plain": [
       "   ID  Age  Flight Distance  Departure Delay  Arrival Delay  \\\n",
       "0   1   48              821                2            5.0   \n",
       "1   2   35              821               26           39.0   \n",
       "2   3   41              853                0            0.0   \n",
       "3   4   50             1905                0            0.0   \n",
       "4   5   49             3470                0            1.0   \n",
       "\n",
       "   Departure and Arrival Time Convenience  Ease of Online Booking  \\\n",
       "0                                       3                       3   \n",
       "1                                       2                       2   \n",
       "2                                       4                       4   \n",
       "3                                       2                       2   \n",
       "4                                       3                       3   \n",
       "\n",
       "   Check-in Service  Online Boarding  Gate Location  ...  In-flight Service  \\\n",
       "0                 4                3              3  ...                  5   \n",
       "1                 3                5              2  ...                  5   \n",
       "2                 4                5              4  ...                  3   \n",
       "3                 3                4              2  ...                  5   \n",
       "4                 3                5              3  ...                  3   \n",
       "\n",
       "   In-flight Wifi Service  In-flight Entertainment  Baggage Handling  \\\n",
       "0                       3                        5                 5   \n",
       "1                       2                        5                 5   \n",
       "2                       4                        3                 3   \n",
       "3                       2                        5                 5   \n",
       "4                       3                        3                 3   \n",
       "\n",
       "              Satisfaction  Gender_Male  Customer Type_Returning  \\\n",
       "0  Neutral or Dissatisfied            1                        0   \n",
       "1                Satisfied            0                        1   \n",
       "2                Satisfied            1                        1   \n",
       "3                Satisfied            1                        1   \n",
       "4                Satisfied            0                        1   \n",
       "\n",
       "   Type of Travel_Personal  Class_Economy Class_Economy Plus  \n",
       "0                        0              0                  0  \n",
       "1                        0              0                  0  \n",
       "2                        0              0                  0  \n",
       "3                        0              0                  0  \n",
       "4                        0              0                  0  \n",
       "\n",
       "[5 rows x 25 columns]"
      ]
     },
     "execution_count": 1302,
     "metadata": {},
     "output_type": "execute_result"
    }
   ],
   "source": [
    "df = pd.get_dummies(df, columns=['Gender','Customer Type', 'Type of Travel', 'Class', ], drop_first=True, dtype=int)\n",
    "df.head()"
   ]
  },
  {
   "cell_type": "code",
   "execution_count": 1303,
   "id": "81ff91d9",
   "metadata": {},
   "outputs": [],
   "source": [
    "from sklearn.preprocessing import LabelEncoder, MinMaxScaler, StandardScaler\n",
    "\n",
    "le = LabelEncoder()\n",
    "df['Satisfaction_label'] = le.fit_transform(df['Satisfaction'])\n",
    "df = df.drop('Satisfaction', axis=1)\n",
    "\n",
    "ss = StandardScaler()\n",
    "df[['Age', 'Flight Distance', 'Departure Delay', 'Arrival Delay']] = ss.fit_transform(df[['Age', 'Flight Distance', 'Departure Delay', 'Arrival Delay']])\n",
    "\n",
    "quality_features = ['Departure and Arrival Time Convenience', 'Ease of Online Booking', 'Check-in Service', 'Online Boarding', 'Gate Location', 'On-board Service', 'Seat Comfort', 'Leg Room Service', 'Cleanliness', 'Food and Drink','In-flight Service','In-flight Wifi Service','In-flight Entertainment','Baggage Handling']\n",
    "scaler = MinMaxScaler(feature_range=(0, 1))\n",
    "df[quality_features] = scaler.fit_transform(df[quality_features])"
   ]
  },
  {
   "cell_type": "code",
   "execution_count": 1304,
   "id": "ef863480",
   "metadata": {},
   "outputs": [
    {
     "data": {
      "text/html": [
       "<div>\n",
       "<style scoped>\n",
       "    .dataframe tbody tr th:only-of-type {\n",
       "        vertical-align: middle;\n",
       "    }\n",
       "\n",
       "    .dataframe tbody tr th {\n",
       "        vertical-align: top;\n",
       "    }\n",
       "\n",
       "    .dataframe thead th {\n",
       "        text-align: right;\n",
       "    }\n",
       "</style>\n",
       "<table border=\"1\" class=\"dataframe\">\n",
       "  <thead>\n",
       "    <tr style=\"text-align: right;\">\n",
       "      <th></th>\n",
       "      <th>ID</th>\n",
       "      <th>Age</th>\n",
       "      <th>Flight Distance</th>\n",
       "      <th>Departure Delay</th>\n",
       "      <th>Arrival Delay</th>\n",
       "      <th>Departure and Arrival Time Convenience</th>\n",
       "      <th>Ease of Online Booking</th>\n",
       "      <th>Check-in Service</th>\n",
       "      <th>Online Boarding</th>\n",
       "      <th>Gate Location</th>\n",
       "      <th>...</th>\n",
       "      <th>In-flight Service</th>\n",
       "      <th>In-flight Wifi Service</th>\n",
       "      <th>In-flight Entertainment</th>\n",
       "      <th>Baggage Handling</th>\n",
       "      <th>Gender_Male</th>\n",
       "      <th>Customer Type_Returning</th>\n",
       "      <th>Type of Travel_Personal</th>\n",
       "      <th>Class_Economy</th>\n",
       "      <th>Class_Economy Plus</th>\n",
       "      <th>Satisfaction_label</th>\n",
       "    </tr>\n",
       "  </thead>\n",
       "  <tbody>\n",
       "    <tr>\n",
       "      <th>1</th>\n",
       "      <td>2</td>\n",
       "      <td>-0.292868</td>\n",
       "      <td>-0.370261</td>\n",
       "      <td>0.296454</td>\n",
       "      <td>0.623553</td>\n",
       "      <td>0.4</td>\n",
       "      <td>0.4</td>\n",
       "      <td>0.6</td>\n",
       "      <td>1.0</td>\n",
       "      <td>0.4</td>\n",
       "      <td>...</td>\n",
       "      <td>1.0</td>\n",
       "      <td>0.4</td>\n",
       "      <td>1.0</td>\n",
       "      <td>1.00</td>\n",
       "      <td>0</td>\n",
       "      <td>1</td>\n",
       "      <td>0</td>\n",
       "      <td>0</td>\n",
       "      <td>0</td>\n",
       "      <td>1</td>\n",
       "    </tr>\n",
       "    <tr>\n",
       "      <th>2</th>\n",
       "      <td>3</td>\n",
       "      <td>0.103976</td>\n",
       "      <td>-0.338179</td>\n",
       "      <td>-0.386481</td>\n",
       "      <td>-0.391644</td>\n",
       "      <td>0.8</td>\n",
       "      <td>0.8</td>\n",
       "      <td>0.8</td>\n",
       "      <td>1.0</td>\n",
       "      <td>0.8</td>\n",
       "      <td>...</td>\n",
       "      <td>0.6</td>\n",
       "      <td>0.8</td>\n",
       "      <td>0.6</td>\n",
       "      <td>0.50</td>\n",
       "      <td>1</td>\n",
       "      <td>1</td>\n",
       "      <td>0</td>\n",
       "      <td>0</td>\n",
       "      <td>0</td>\n",
       "      <td>1</td>\n",
       "    </tr>\n",
       "    <tr>\n",
       "      <th>3</th>\n",
       "      <td>4</td>\n",
       "      <td>0.699242</td>\n",
       "      <td>0.716512</td>\n",
       "      <td>-0.386481</td>\n",
       "      <td>-0.391644</td>\n",
       "      <td>0.4</td>\n",
       "      <td>0.4</td>\n",
       "      <td>0.6</td>\n",
       "      <td>0.8</td>\n",
       "      <td>0.4</td>\n",
       "      <td>...</td>\n",
       "      <td>1.0</td>\n",
       "      <td>0.4</td>\n",
       "      <td>1.0</td>\n",
       "      <td>1.00</td>\n",
       "      <td>1</td>\n",
       "      <td>1</td>\n",
       "      <td>0</td>\n",
       "      <td>0</td>\n",
       "      <td>0</td>\n",
       "      <td>1</td>\n",
       "    </tr>\n",
       "    <tr>\n",
       "      <th>4</th>\n",
       "      <td>5</td>\n",
       "      <td>0.633101</td>\n",
       "      <td>2.285515</td>\n",
       "      <td>-0.386481</td>\n",
       "      <td>-0.365613</td>\n",
       "      <td>0.6</td>\n",
       "      <td>0.6</td>\n",
       "      <td>0.6</td>\n",
       "      <td>1.0</td>\n",
       "      <td>0.6</td>\n",
       "      <td>...</td>\n",
       "      <td>0.6</td>\n",
       "      <td>0.6</td>\n",
       "      <td>0.6</td>\n",
       "      <td>0.50</td>\n",
       "      <td>0</td>\n",
       "      <td>1</td>\n",
       "      <td>0</td>\n",
       "      <td>0</td>\n",
       "      <td>0</td>\n",
       "      <td>1</td>\n",
       "    </tr>\n",
       "    <tr>\n",
       "      <th>5</th>\n",
       "      <td>6</td>\n",
       "      <td>0.236257</td>\n",
       "      <td>2.604328</td>\n",
       "      <td>-0.386481</td>\n",
       "      <td>-0.391644</td>\n",
       "      <td>0.8</td>\n",
       "      <td>0.8</td>\n",
       "      <td>0.6</td>\n",
       "      <td>1.0</td>\n",
       "      <td>0.8</td>\n",
       "      <td>...</td>\n",
       "      <td>0.8</td>\n",
       "      <td>0.8</td>\n",
       "      <td>0.8</td>\n",
       "      <td>0.75</td>\n",
       "      <td>1</td>\n",
       "      <td>1</td>\n",
       "      <td>0</td>\n",
       "      <td>0</td>\n",
       "      <td>0</td>\n",
       "      <td>1</td>\n",
       "    </tr>\n",
       "  </tbody>\n",
       "</table>\n",
       "<p>5 rows × 25 columns</p>\n",
       "</div>"
      ],
      "text/plain": [
       "   ID       Age  Flight Distance  Departure Delay  Arrival Delay  \\\n",
       "1   2 -0.292868        -0.370261         0.296454       0.623553   \n",
       "2   3  0.103976        -0.338179        -0.386481      -0.391644   \n",
       "3   4  0.699242         0.716512        -0.386481      -0.391644   \n",
       "4   5  0.633101         2.285515        -0.386481      -0.365613   \n",
       "5   6  0.236257         2.604328        -0.386481      -0.391644   \n",
       "\n",
       "   Departure and Arrival Time Convenience  Ease of Online Booking  \\\n",
       "1                                     0.4                     0.4   \n",
       "2                                     0.8                     0.8   \n",
       "3                                     0.4                     0.4   \n",
       "4                                     0.6                     0.6   \n",
       "5                                     0.8                     0.8   \n",
       "\n",
       "   Check-in Service  Online Boarding  Gate Location  ...  In-flight Service  \\\n",
       "1               0.6              1.0            0.4  ...                1.0   \n",
       "2               0.8              1.0            0.8  ...                0.6   \n",
       "3               0.6              0.8            0.4  ...                1.0   \n",
       "4               0.6              1.0            0.6  ...                0.6   \n",
       "5               0.6              1.0            0.8  ...                0.8   \n",
       "\n",
       "   In-flight Wifi Service  In-flight Entertainment  Baggage Handling  \\\n",
       "1                     0.4                      1.0              1.00   \n",
       "2                     0.8                      0.6              0.50   \n",
       "3                     0.4                      1.0              1.00   \n",
       "4                     0.6                      0.6              0.50   \n",
       "5                     0.8                      0.8              0.75   \n",
       "\n",
       "   Gender_Male  Customer Type_Returning  Type of Travel_Personal  \\\n",
       "1            0                        1                        0   \n",
       "2            1                        1                        0   \n",
       "3            1                        1                        0   \n",
       "4            0                        1                        0   \n",
       "5            1                        1                        0   \n",
       "\n",
       "   Class_Economy  Class_Economy Plus  Satisfaction_label  \n",
       "1              0                   0                   1  \n",
       "2              0                   0                   1  \n",
       "3              0                   0                   1  \n",
       "4              0                   0                   1  \n",
       "5              0                   0                   1  \n",
       "\n",
       "[5 rows x 25 columns]"
      ]
     },
     "execution_count": 1304,
     "metadata": {},
     "output_type": "execute_result"
    }
   ],
   "source": [
    "satisfied_df = df[df['Satisfaction_label'] == 1]\n",
    "satisfied_df.head()"
   ]
  },
  {
   "cell_type": "code",
   "execution_count": 1305,
   "id": "5cc34be9",
   "metadata": {},
   "outputs": [
    {
     "data": {
      "text/html": [
       "<div>\n",
       "<style scoped>\n",
       "    .dataframe tbody tr th:only-of-type {\n",
       "        vertical-align: middle;\n",
       "    }\n",
       "\n",
       "    .dataframe tbody tr th {\n",
       "        vertical-align: top;\n",
       "    }\n",
       "\n",
       "    .dataframe thead th {\n",
       "        text-align: right;\n",
       "    }\n",
       "</style>\n",
       "<table border=\"1\" class=\"dataframe\">\n",
       "  <thead>\n",
       "    <tr style=\"text-align: right;\">\n",
       "      <th></th>\n",
       "      <th>ID</th>\n",
       "      <th>Age</th>\n",
       "      <th>Flight Distance</th>\n",
       "      <th>Departure Delay</th>\n",
       "      <th>Arrival Delay</th>\n",
       "      <th>Departure and Arrival Time Convenience</th>\n",
       "      <th>Ease of Online Booking</th>\n",
       "      <th>Check-in Service</th>\n",
       "      <th>Online Boarding</th>\n",
       "      <th>Gate Location</th>\n",
       "      <th>...</th>\n",
       "      <th>In-flight Service</th>\n",
       "      <th>In-flight Wifi Service</th>\n",
       "      <th>In-flight Entertainment</th>\n",
       "      <th>Baggage Handling</th>\n",
       "      <th>Gender_Male</th>\n",
       "      <th>Customer Type_Returning</th>\n",
       "      <th>Type of Travel_Personal</th>\n",
       "      <th>Class_Economy</th>\n",
       "      <th>Class_Economy Plus</th>\n",
       "      <th>Satisfaction_label</th>\n",
       "    </tr>\n",
       "  </thead>\n",
       "  <tbody>\n",
       "    <tr>\n",
       "      <th>count</th>\n",
       "      <td>56428.000000</td>\n",
       "      <td>56428.000000</td>\n",
       "      <td>56428.000000</td>\n",
       "      <td>56428.000000</td>\n",
       "      <td>56428.000000</td>\n",
       "      <td>56428.000000</td>\n",
       "      <td>56428.000000</td>\n",
       "      <td>56428.000000</td>\n",
       "      <td>56428.000000</td>\n",
       "      <td>56428.000000</td>\n",
       "      <td>...</td>\n",
       "      <td>56428.000000</td>\n",
       "      <td>56428.000000</td>\n",
       "      <td>56428.000000</td>\n",
       "      <td>56428.000000</td>\n",
       "      <td>56428.000000</td>\n",
       "      <td>56428.000000</td>\n",
       "      <td>56428.000000</td>\n",
       "      <td>56428.000000</td>\n",
       "      <td>56428.000000</td>\n",
       "      <td>56428.0</td>\n",
       "    </tr>\n",
       "    <tr>\n",
       "      <th>mean</th>\n",
       "      <td>65504.379049</td>\n",
       "      <td>0.152987</td>\n",
       "      <td>0.340090</td>\n",
       "      <td>-0.057890</td>\n",
       "      <td>-0.066339</td>\n",
       "      <td>0.592614</td>\n",
       "      <td>0.605391</td>\n",
       "      <td>0.729801</td>\n",
       "      <td>0.805171</td>\n",
       "      <td>0.594570</td>\n",
       "      <td>...</td>\n",
       "      <td>0.794198</td>\n",
       "      <td>0.631722</td>\n",
       "      <td>0.792840</td>\n",
       "      <td>0.741728</td>\n",
       "      <td>0.499025</td>\n",
       "      <td>0.898986</td>\n",
       "      <td>0.072163</td>\n",
       "      <td>0.193929</td>\n",
       "      <td>0.041097</td>\n",
       "      <td>1.0</td>\n",
       "    </tr>\n",
       "    <tr>\n",
       "      <th>std</th>\n",
       "      <td>37406.219134</td>\n",
       "      <td>0.846446</td>\n",
       "      <td>1.130481</td>\n",
       "      <td>0.919611</td>\n",
       "      <td>0.921586</td>\n",
       "      <td>0.311010</td>\n",
       "      <td>0.315631</td>\n",
       "      <td>0.231734</td>\n",
       "      <td>0.239122</td>\n",
       "      <td>0.274866</td>\n",
       "      <td>...</td>\n",
       "      <td>0.218530</td>\n",
       "      <td>0.318142</td>\n",
       "      <td>0.215789</td>\n",
       "      <td>0.274949</td>\n",
       "      <td>0.500003</td>\n",
       "      <td>0.301350</td>\n",
       "      <td>0.258760</td>\n",
       "      <td>0.395377</td>\n",
       "      <td>0.198515</td>\n",
       "      <td>0.0</td>\n",
       "    </tr>\n",
       "    <tr>\n",
       "      <th>min</th>\n",
       "      <td>2.000000</td>\n",
       "      <td>-2.144805</td>\n",
       "      <td>-1.162282</td>\n",
       "      <td>-0.386481</td>\n",
       "      <td>-0.391644</td>\n",
       "      <td>0.000000</td>\n",
       "      <td>0.000000</td>\n",
       "      <td>0.200000</td>\n",
       "      <td>0.000000</td>\n",
       "      <td>0.000000</td>\n",
       "      <td>...</td>\n",
       "      <td>0.200000</td>\n",
       "      <td>0.000000</td>\n",
       "      <td>0.200000</td>\n",
       "      <td>0.000000</td>\n",
       "      <td>0.000000</td>\n",
       "      <td>0.000000</td>\n",
       "      <td>0.000000</td>\n",
       "      <td>0.000000</td>\n",
       "      <td>0.000000</td>\n",
       "      <td>1.0</td>\n",
       "    </tr>\n",
       "    <tr>\n",
       "      <th>25%</th>\n",
       "      <td>33200.500000</td>\n",
       "      <td>-0.491290</td>\n",
       "      <td>-0.667018</td>\n",
       "      <td>-0.386481</td>\n",
       "      <td>-0.391644</td>\n",
       "      <td>0.400000</td>\n",
       "      <td>0.400000</td>\n",
       "      <td>0.600000</td>\n",
       "      <td>0.800000</td>\n",
       "      <td>0.400000</td>\n",
       "      <td>...</td>\n",
       "      <td>0.800000</td>\n",
       "      <td>0.400000</td>\n",
       "      <td>0.800000</td>\n",
       "      <td>0.750000</td>\n",
       "      <td>0.000000</td>\n",
       "      <td>1.000000</td>\n",
       "      <td>0.000000</td>\n",
       "      <td>0.000000</td>\n",
       "      <td>0.000000</td>\n",
       "      <td>1.0</td>\n",
       "    </tr>\n",
       "    <tr>\n",
       "      <th>50%</th>\n",
       "      <td>65948.000000</td>\n",
       "      <td>0.236257</td>\n",
       "      <td>0.058834</td>\n",
       "      <td>-0.386481</td>\n",
       "      <td>-0.391644</td>\n",
       "      <td>0.600000</td>\n",
       "      <td>0.600000</td>\n",
       "      <td>0.800000</td>\n",
       "      <td>0.800000</td>\n",
       "      <td>0.600000</td>\n",
       "      <td>...</td>\n",
       "      <td>0.800000</td>\n",
       "      <td>0.800000</td>\n",
       "      <td>0.800000</td>\n",
       "      <td>0.750000</td>\n",
       "      <td>0.000000</td>\n",
       "      <td>1.000000</td>\n",
       "      <td>0.000000</td>\n",
       "      <td>0.000000</td>\n",
       "      <td>0.000000</td>\n",
       "      <td>1.0</td>\n",
       "    </tr>\n",
       "    <tr>\n",
       "      <th>75%</th>\n",
       "      <td>97757.750000</td>\n",
       "      <td>0.765382</td>\n",
       "      <td>1.219796</td>\n",
       "      <td>-0.150081</td>\n",
       "      <td>-0.183398</td>\n",
       "      <td>0.800000</td>\n",
       "      <td>0.800000</td>\n",
       "      <td>1.000000</td>\n",
       "      <td>1.000000</td>\n",
       "      <td>0.800000</td>\n",
       "      <td>...</td>\n",
       "      <td>1.000000</td>\n",
       "      <td>1.000000</td>\n",
       "      <td>1.000000</td>\n",
       "      <td>1.000000</td>\n",
       "      <td>1.000000</td>\n",
       "      <td>1.000000</td>\n",
       "      <td>0.000000</td>\n",
       "      <td>0.000000</td>\n",
       "      <td>0.000000</td>\n",
       "      <td>1.0</td>\n",
       "    </tr>\n",
       "    <tr>\n",
       "      <th>max</th>\n",
       "      <td>129879.000000</td>\n",
       "      <td>3.014163</td>\n",
       "      <td>3.802385</td>\n",
       "      <td>33.891597</td>\n",
       "      <td>32.927629</td>\n",
       "      <td>1.000000</td>\n",
       "      <td>1.000000</td>\n",
       "      <td>1.000000</td>\n",
       "      <td>1.000000</td>\n",
       "      <td>1.000000</td>\n",
       "      <td>...</td>\n",
       "      <td>1.000000</td>\n",
       "      <td>1.000000</td>\n",
       "      <td>1.000000</td>\n",
       "      <td>1.000000</td>\n",
       "      <td>1.000000</td>\n",
       "      <td>1.000000</td>\n",
       "      <td>1.000000</td>\n",
       "      <td>1.000000</td>\n",
       "      <td>1.000000</td>\n",
       "      <td>1.0</td>\n",
       "    </tr>\n",
       "  </tbody>\n",
       "</table>\n",
       "<p>8 rows × 25 columns</p>\n",
       "</div>"
      ],
      "text/plain": [
       "                  ID           Age  Flight Distance  Departure Delay  \\\n",
       "count   56428.000000  56428.000000     56428.000000     56428.000000   \n",
       "mean    65504.379049      0.152987         0.340090        -0.057890   \n",
       "std     37406.219134      0.846446         1.130481         0.919611   \n",
       "min         2.000000     -2.144805        -1.162282        -0.386481   \n",
       "25%     33200.500000     -0.491290        -0.667018        -0.386481   \n",
       "50%     65948.000000      0.236257         0.058834        -0.386481   \n",
       "75%     97757.750000      0.765382         1.219796        -0.150081   \n",
       "max    129879.000000      3.014163         3.802385        33.891597   \n",
       "\n",
       "       Arrival Delay  Departure and Arrival Time Convenience  \\\n",
       "count   56428.000000                            56428.000000   \n",
       "mean       -0.066339                                0.592614   \n",
       "std         0.921586                                0.311010   \n",
       "min        -0.391644                                0.000000   \n",
       "25%        -0.391644                                0.400000   \n",
       "50%        -0.391644                                0.600000   \n",
       "75%        -0.183398                                0.800000   \n",
       "max        32.927629                                1.000000   \n",
       "\n",
       "       Ease of Online Booking  Check-in Service  Online Boarding  \\\n",
       "count            56428.000000      56428.000000     56428.000000   \n",
       "mean                 0.605391          0.729801         0.805171   \n",
       "std                  0.315631          0.231734         0.239122   \n",
       "min                  0.000000          0.200000         0.000000   \n",
       "25%                  0.400000          0.600000         0.800000   \n",
       "50%                  0.600000          0.800000         0.800000   \n",
       "75%                  0.800000          1.000000         1.000000   \n",
       "max                  1.000000          1.000000         1.000000   \n",
       "\n",
       "       Gate Location  ...  In-flight Service  In-flight Wifi Service  \\\n",
       "count   56428.000000  ...       56428.000000            56428.000000   \n",
       "mean        0.594570  ...           0.794198                0.631722   \n",
       "std         0.274866  ...           0.218530                0.318142   \n",
       "min         0.000000  ...           0.200000                0.000000   \n",
       "25%         0.400000  ...           0.800000                0.400000   \n",
       "50%         0.600000  ...           0.800000                0.800000   \n",
       "75%         0.800000  ...           1.000000                1.000000   \n",
       "max         1.000000  ...           1.000000                1.000000   \n",
       "\n",
       "       In-flight Entertainment  Baggage Handling   Gender_Male  \\\n",
       "count             56428.000000      56428.000000  56428.000000   \n",
       "mean                  0.792840          0.741728      0.499025   \n",
       "std                   0.215789          0.274949      0.500003   \n",
       "min                   0.200000          0.000000      0.000000   \n",
       "25%                   0.800000          0.750000      0.000000   \n",
       "50%                   0.800000          0.750000      0.000000   \n",
       "75%                   1.000000          1.000000      1.000000   \n",
       "max                   1.000000          1.000000      1.000000   \n",
       "\n",
       "       Customer Type_Returning  Type of Travel_Personal  Class_Economy  \\\n",
       "count             56428.000000             56428.000000   56428.000000   \n",
       "mean                  0.898986                 0.072163       0.193929   \n",
       "std                   0.301350                 0.258760       0.395377   \n",
       "min                   0.000000                 0.000000       0.000000   \n",
       "25%                   1.000000                 0.000000       0.000000   \n",
       "50%                   1.000000                 0.000000       0.000000   \n",
       "75%                   1.000000                 0.000000       0.000000   \n",
       "max                   1.000000                 1.000000       1.000000   \n",
       "\n",
       "       Class_Economy Plus  Satisfaction_label  \n",
       "count        56428.000000             56428.0  \n",
       "mean             0.041097                 1.0  \n",
       "std              0.198515                 0.0  \n",
       "min              0.000000                 1.0  \n",
       "25%              0.000000                 1.0  \n",
       "50%              0.000000                 1.0  \n",
       "75%              0.000000                 1.0  \n",
       "max              1.000000                 1.0  \n",
       "\n",
       "[8 rows x 25 columns]"
      ]
     },
     "execution_count": 1305,
     "metadata": {},
     "output_type": "execute_result"
    }
   ],
   "source": [
    "satisfied_df.describe()"
   ]
  },
  {
   "cell_type": "markdown",
   "id": "fc348f24",
   "metadata": {},
   "source": [
    "Кластеризуем всех удовлетворенных на 2 подкласса"
   ]
  },
  {
   "cell_type": "code",
   "execution_count": 1306,
   "id": "00fbdb65",
   "metadata": {},
   "outputs": [
    {
     "name": "stderr",
     "output_type": "stream",
     "text": [
      "C:\\Users\\akaku\\AppData\\Local\\Temp\\ipykernel_18428\\2505854482.py:7: SettingWithCopyWarning:\n",
      "\n",
      "\n",
      "A value is trying to be set on a copy of a slice from a DataFrame.\n",
      "Try using .loc[row_indexer,col_indexer] = value instead\n",
      "\n",
      "See the caveats in the documentation: https://pandas.pydata.org/pandas-docs/stable/user_guide/indexing.html#returning-a-view-versus-a-copy\n",
      "\n"
     ]
    }
   ],
   "source": [
    "from sklearn.cluster import KMeans\n",
    "\n",
    "kmeans = KMeans(n_clusters=2, n_init=30)#, random_state=42\n",
    "kmeans_labels = kmeans.fit_predict(satisfied_df)\n",
    "kmeans_labels\n",
    "\n",
    "satisfied_df['Cluster'] = kmeans_labels\n",
    "\n"
   ]
  },
  {
   "cell_type": "code",
   "execution_count": 1307,
   "id": "ce9e01db",
   "metadata": {},
   "outputs": [
    {
     "name": "stdout",
     "output_type": "stream",
     "text": [
      "Количество строк в кластере 1: 28568\n",
      "Параметр удовлетворенности в кластере 0: 10.314260711285355\n"
     ]
    }
   ],
   "source": [
    "cluster_1 = satisfied_df[satisfied_df['Cluster'] == 1]\n",
    "print(f\"Количество строк в кластере 1: {len(cluster_1)}\")\n",
    "rating_cluster_1 = np.sum([np.mean(cluster_1[col]) for col in quality_features])\n",
    "print(f\"Параметр удовлетворенности в кластере 0: {rating_cluster_1}\")"
   ]
  },
  {
   "cell_type": "code",
   "execution_count": 1308,
   "id": "e5dd4968",
   "metadata": {},
   "outputs": [
    {
     "name": "stdout",
     "output_type": "stream",
     "text": [
      "Количество строк в кластере 0: 27860\n",
      "Параметр удовлетворенности в кластере 0: 9.821466259870782\n"
     ]
    }
   ],
   "source": [
    "cluster_0 = satisfied_df[satisfied_df['Cluster'] == 0]\n",
    "print(f\"Количество строк в кластере 0: {len(cluster_0)}\")\n",
    "rating_cluster_0 = np.sum([np.mean(cluster_0[col]) for col in quality_features])\n",
    "print(f\"Параметр удовлетворенности в кластере 0: {rating_cluster_0}\")"
   ]
  },
  {
   "cell_type": "code",
   "execution_count": 1309,
   "id": "7892d86a",
   "metadata": {},
   "outputs": [],
   "source": [
    "if rating_cluster_0 > rating_cluster_1:\n",
    "    mask = df['ID'].isin(cluster_0['ID'])\n",
    "    df.loc[mask, 'Satisfaction_label'] = 5\n",
    "\n",
    "    mask = df['ID'].isin(cluster_1['ID'])\n",
    "    df.loc[mask, 'Satisfaction_label'] = 4\n",
    "else:\n",
    "    mask = df['ID'].isin(cluster_1['ID'])\n",
    "    df.loc[mask, 'Satisfaction_label'] = 5\n",
    "\n",
    "    mask = df['ID'].isin(cluster_0['ID'])\n",
    "    df.loc[mask, 'Satisfaction_label'] = 4\n",
    "\n"
   ]
  },
  {
   "cell_type": "markdown",
   "id": "46cf6452",
   "metadata": {},
   "source": [
    "Разберемся со второй группой неудовлетворенных и неопределившихся"
   ]
  },
  {
   "cell_type": "code",
   "execution_count": 1310,
   "id": "8718a54a",
   "metadata": {},
   "outputs": [
    {
     "data": {
      "text/html": [
       "<div>\n",
       "<style scoped>\n",
       "    .dataframe tbody tr th:only-of-type {\n",
       "        vertical-align: middle;\n",
       "    }\n",
       "\n",
       "    .dataframe tbody tr th {\n",
       "        vertical-align: top;\n",
       "    }\n",
       "\n",
       "    .dataframe thead th {\n",
       "        text-align: right;\n",
       "    }\n",
       "</style>\n",
       "<table border=\"1\" class=\"dataframe\">\n",
       "  <thead>\n",
       "    <tr style=\"text-align: right;\">\n",
       "      <th></th>\n",
       "      <th>ID</th>\n",
       "      <th>Age</th>\n",
       "      <th>Flight Distance</th>\n",
       "      <th>Departure Delay</th>\n",
       "      <th>Arrival Delay</th>\n",
       "      <th>Departure and Arrival Time Convenience</th>\n",
       "      <th>Ease of Online Booking</th>\n",
       "      <th>Check-in Service</th>\n",
       "      <th>Online Boarding</th>\n",
       "      <th>Gate Location</th>\n",
       "      <th>...</th>\n",
       "      <th>In-flight Service</th>\n",
       "      <th>In-flight Wifi Service</th>\n",
       "      <th>In-flight Entertainment</th>\n",
       "      <th>Baggage Handling</th>\n",
       "      <th>Gender_Male</th>\n",
       "      <th>Customer Type_Returning</th>\n",
       "      <th>Type of Travel_Personal</th>\n",
       "      <th>Class_Economy</th>\n",
       "      <th>Class_Economy Plus</th>\n",
       "      <th>Satisfaction_label</th>\n",
       "    </tr>\n",
       "  </thead>\n",
       "  <tbody>\n",
       "    <tr>\n",
       "      <th>0</th>\n",
       "      <td>1</td>\n",
       "      <td>0.566960</td>\n",
       "      <td>-0.370261</td>\n",
       "      <td>-0.333948</td>\n",
       "      <td>-0.261490</td>\n",
       "      <td>0.6</td>\n",
       "      <td>0.6</td>\n",
       "      <td>0.8</td>\n",
       "      <td>0.6</td>\n",
       "      <td>0.6</td>\n",
       "      <td>...</td>\n",
       "      <td>1.0</td>\n",
       "      <td>0.6</td>\n",
       "      <td>1.0</td>\n",
       "      <td>1.00</td>\n",
       "      <td>1</td>\n",
       "      <td>0</td>\n",
       "      <td>0</td>\n",
       "      <td>0</td>\n",
       "      <td>0</td>\n",
       "      <td>0</td>\n",
       "    </tr>\n",
       "    <tr>\n",
       "      <th>8</th>\n",
       "      <td>9</td>\n",
       "      <td>0.699242</td>\n",
       "      <td>1.420307</td>\n",
       "      <td>-0.386481</td>\n",
       "      <td>-0.391644</td>\n",
       "      <td>0.2</td>\n",
       "      <td>0.2</td>\n",
       "      <td>0.6</td>\n",
       "      <td>0.4</td>\n",
       "      <td>0.2</td>\n",
       "      <td>...</td>\n",
       "      <td>0.8</td>\n",
       "      <td>0.8</td>\n",
       "      <td>0.8</td>\n",
       "      <td>0.75</td>\n",
       "      <td>1</td>\n",
       "      <td>1</td>\n",
       "      <td>0</td>\n",
       "      <td>0</td>\n",
       "      <td>0</td>\n",
       "      <td>0</td>\n",
       "    </tr>\n",
       "    <tr>\n",
       "      <th>10</th>\n",
       "      <td>11</td>\n",
       "      <td>-0.755852</td>\n",
       "      <td>-0.370261</td>\n",
       "      <td>-0.386481</td>\n",
       "      <td>-0.261490</td>\n",
       "      <td>0.2</td>\n",
       "      <td>0.2</td>\n",
       "      <td>0.6</td>\n",
       "      <td>0.2</td>\n",
       "      <td>0.6</td>\n",
       "      <td>...</td>\n",
       "      <td>0.8</td>\n",
       "      <td>0.2</td>\n",
       "      <td>0.4</td>\n",
       "      <td>0.50</td>\n",
       "      <td>0</td>\n",
       "      <td>0</td>\n",
       "      <td>0</td>\n",
       "      <td>0</td>\n",
       "      <td>0</td>\n",
       "      <td>0</td>\n",
       "    </tr>\n",
       "    <tr>\n",
       "      <th>11</th>\n",
       "      <td>12</td>\n",
       "      <td>-0.821993</td>\n",
       "      <td>-0.771284</td>\n",
       "      <td>0.138853</td>\n",
       "      <td>0.155001</td>\n",
       "      <td>0.4</td>\n",
       "      <td>0.4</td>\n",
       "      <td>0.2</td>\n",
       "      <td>0.4</td>\n",
       "      <td>0.8</td>\n",
       "      <td>...</td>\n",
       "      <td>0.6</td>\n",
       "      <td>0.2</td>\n",
       "      <td>0.2</td>\n",
       "      <td>0.75</td>\n",
       "      <td>0</td>\n",
       "      <td>0</td>\n",
       "      <td>0</td>\n",
       "      <td>0</td>\n",
       "      <td>0</td>\n",
       "      <td>0</td>\n",
       "    </tr>\n",
       "    <tr>\n",
       "      <th>12</th>\n",
       "      <td>13</td>\n",
       "      <td>-1.020415</td>\n",
       "      <td>-0.739202</td>\n",
       "      <td>0.033787</td>\n",
       "      <td>0.389277</td>\n",
       "      <td>0.4</td>\n",
       "      <td>0.4</td>\n",
       "      <td>0.4</td>\n",
       "      <td>0.4</td>\n",
       "      <td>0.8</td>\n",
       "      <td>...</td>\n",
       "      <td>0.8</td>\n",
       "      <td>0.4</td>\n",
       "      <td>1.0</td>\n",
       "      <td>0.75</td>\n",
       "      <td>1</td>\n",
       "      <td>0</td>\n",
       "      <td>0</td>\n",
       "      <td>1</td>\n",
       "      <td>0</td>\n",
       "      <td>0</td>\n",
       "    </tr>\n",
       "  </tbody>\n",
       "</table>\n",
       "<p>5 rows × 25 columns</p>\n",
       "</div>"
      ],
      "text/plain": [
       "    ID       Age  Flight Distance  Departure Delay  Arrival Delay  \\\n",
       "0    1  0.566960        -0.370261        -0.333948      -0.261490   \n",
       "8    9  0.699242         1.420307        -0.386481      -0.391644   \n",
       "10  11 -0.755852        -0.370261        -0.386481      -0.261490   \n",
       "11  12 -0.821993        -0.771284         0.138853       0.155001   \n",
       "12  13 -1.020415        -0.739202         0.033787       0.389277   \n",
       "\n",
       "    Departure and Arrival Time Convenience  Ease of Online Booking  \\\n",
       "0                                      0.6                     0.6   \n",
       "8                                      0.2                     0.2   \n",
       "10                                     0.2                     0.2   \n",
       "11                                     0.4                     0.4   \n",
       "12                                     0.4                     0.4   \n",
       "\n",
       "    Check-in Service  Online Boarding  Gate Location  ...  In-flight Service  \\\n",
       "0                0.8              0.6            0.6  ...                1.0   \n",
       "8                0.6              0.4            0.2  ...                0.8   \n",
       "10               0.6              0.2            0.6  ...                0.8   \n",
       "11               0.2              0.4            0.8  ...                0.6   \n",
       "12               0.4              0.4            0.8  ...                0.8   \n",
       "\n",
       "    In-flight Wifi Service  In-flight Entertainment  Baggage Handling  \\\n",
       "0                      0.6                      1.0              1.00   \n",
       "8                      0.8                      0.8              0.75   \n",
       "10                     0.2                      0.4              0.50   \n",
       "11                     0.2                      0.2              0.75   \n",
       "12                     0.4                      1.0              0.75   \n",
       "\n",
       "    Gender_Male  Customer Type_Returning  Type of Travel_Personal  \\\n",
       "0             1                        0                        0   \n",
       "8             1                        1                        0   \n",
       "10            0                        0                        0   \n",
       "11            0                        0                        0   \n",
       "12            1                        0                        0   \n",
       "\n",
       "    Class_Economy  Class_Economy Plus  Satisfaction_label  \n",
       "0               0                   0                   0  \n",
       "8               0                   0                   0  \n",
       "10              0                   0                   0  \n",
       "11              0                   0                   0  \n",
       "12              1                   0                   0  \n",
       "\n",
       "[5 rows x 25 columns]"
      ]
     },
     "execution_count": 1310,
     "metadata": {},
     "output_type": "execute_result"
    }
   ],
   "source": [
    "not_satisfied_df = df[df['Satisfaction_label'] == 0]\n",
    "not_satisfied_df.head()"
   ]
  },
  {
   "cell_type": "code",
   "execution_count": 1311,
   "id": "88d89476",
   "metadata": {},
   "outputs": [
    {
     "data": {
      "text/html": [
       "<div>\n",
       "<style scoped>\n",
       "    .dataframe tbody tr th:only-of-type {\n",
       "        vertical-align: middle;\n",
       "    }\n",
       "\n",
       "    .dataframe tbody tr th {\n",
       "        vertical-align: top;\n",
       "    }\n",
       "\n",
       "    .dataframe thead th {\n",
       "        text-align: right;\n",
       "    }\n",
       "</style>\n",
       "<table border=\"1\" class=\"dataframe\">\n",
       "  <thead>\n",
       "    <tr style=\"text-align: right;\">\n",
       "      <th></th>\n",
       "      <th>ID</th>\n",
       "      <th>Age</th>\n",
       "      <th>Flight Distance</th>\n",
       "      <th>Departure Delay</th>\n",
       "      <th>Arrival Delay</th>\n",
       "      <th>Departure and Arrival Time Convenience</th>\n",
       "      <th>Ease of Online Booking</th>\n",
       "      <th>Check-in Service</th>\n",
       "      <th>Online Boarding</th>\n",
       "      <th>Gate Location</th>\n",
       "      <th>...</th>\n",
       "      <th>In-flight Service</th>\n",
       "      <th>In-flight Wifi Service</th>\n",
       "      <th>In-flight Entertainment</th>\n",
       "      <th>Baggage Handling</th>\n",
       "      <th>Gender_Male</th>\n",
       "      <th>Customer Type_Returning</th>\n",
       "      <th>Type of Travel_Personal</th>\n",
       "      <th>Class_Economy</th>\n",
       "      <th>Class_Economy Plus</th>\n",
       "      <th>Satisfaction_label</th>\n",
       "    </tr>\n",
       "  </thead>\n",
       "  <tbody>\n",
       "    <tr>\n",
       "      <th>count</th>\n",
       "      <td>73452.000000</td>\n",
       "      <td>73452.000000</td>\n",
       "      <td>73452.000000</td>\n",
       "      <td>73452.000000</td>\n",
       "      <td>73452.000000</td>\n",
       "      <td>73452.000000</td>\n",
       "      <td>73452.000000</td>\n",
       "      <td>73452.000000</td>\n",
       "      <td>73452.000000</td>\n",
       "      <td>73452.000000</td>\n",
       "      <td>...</td>\n",
       "      <td>73452.000000</td>\n",
       "      <td>73452.000000</td>\n",
       "      <td>73452.000000</td>\n",
       "      <td>73452.000000</td>\n",
       "      <td>73452.000000</td>\n",
       "      <td>73452.000000</td>\n",
       "      <td>73452.000000</td>\n",
       "      <td>73452.000000</td>\n",
       "      <td>73452.000000</td>\n",
       "      <td>73452.0</td>\n",
       "    </tr>\n",
       "    <tr>\n",
       "      <th>mean</th>\n",
       "      <td>64507.311428</td>\n",
       "      <td>-0.117529</td>\n",
       "      <td>-0.261268</td>\n",
       "      <td>0.044473</td>\n",
       "      <td>0.050963</td>\n",
       "      <td>0.626044</td>\n",
       "      <td>0.509879</td>\n",
       "      <td>0.608593</td>\n",
       "      <td>0.531724</td>\n",
       "      <td>0.596011</td>\n",
       "      <td>...</td>\n",
       "      <td>0.677920</td>\n",
       "      <td>0.479685</td>\n",
       "      <td>0.578487</td>\n",
       "      <td>0.593728</td>\n",
       "      <td>0.487693</td>\n",
       "      <td>0.753853</td>\n",
       "      <td>0.491682</td>\n",
       "      <td>0.644857</td>\n",
       "      <td>0.096553</td>\n",
       "      <td>0.0</td>\n",
       "    </tr>\n",
       "    <tr>\n",
       "      <th>std</th>\n",
       "      <td>37554.513773</td>\n",
       "      <td>1.089058</td>\n",
       "      <td>0.793317</td>\n",
       "      <td>1.055474</td>\n",
       "      <td>1.053473</td>\n",
       "      <td>0.300120</td>\n",
       "      <td>0.241822</td>\n",
       "      <td>0.256434</td>\n",
       "      <td>0.229410</td>\n",
       "      <td>0.239946</td>\n",
       "      <td>...</td>\n",
       "      <td>0.235303</td>\n",
       "      <td>0.192850</td>\n",
       "      <td>0.264842</td>\n",
       "      <td>0.293761</td>\n",
       "      <td>0.499852</td>\n",
       "      <td>0.430768</td>\n",
       "      <td>0.499934</td>\n",
       "      <td>0.478560</td>\n",
       "      <td>0.295350</td>\n",
       "      <td>0.0</td>\n",
       "    </tr>\n",
       "    <tr>\n",
       "      <th>min</th>\n",
       "      <td>1.000000</td>\n",
       "      <td>-2.144805</td>\n",
       "      <td>-1.162282</td>\n",
       "      <td>-0.386481</td>\n",
       "      <td>-0.391644</td>\n",
       "      <td>0.000000</td>\n",
       "      <td>0.000000</td>\n",
       "      <td>0.000000</td>\n",
       "      <td>0.000000</td>\n",
       "      <td>0.200000</td>\n",
       "      <td>...</td>\n",
       "      <td>0.000000</td>\n",
       "      <td>0.000000</td>\n",
       "      <td>0.000000</td>\n",
       "      <td>0.000000</td>\n",
       "      <td>0.000000</td>\n",
       "      <td>0.000000</td>\n",
       "      <td>0.000000</td>\n",
       "      <td>0.000000</td>\n",
       "      <td>0.000000</td>\n",
       "      <td>0.0</td>\n",
       "    </tr>\n",
       "    <tr>\n",
       "      <th>25%</th>\n",
       "      <td>31813.250000</td>\n",
       "      <td>-0.954274</td>\n",
       "      <td>-0.820410</td>\n",
       "      <td>-0.386481</td>\n",
       "      <td>-0.391644</td>\n",
       "      <td>0.400000</td>\n",
       "      <td>0.400000</td>\n",
       "      <td>0.400000</td>\n",
       "      <td>0.400000</td>\n",
       "      <td>0.400000</td>\n",
       "      <td>...</td>\n",
       "      <td>0.600000</td>\n",
       "      <td>0.400000</td>\n",
       "      <td>0.400000</td>\n",
       "      <td>0.500000</td>\n",
       "      <td>0.000000</td>\n",
       "      <td>1.000000</td>\n",
       "      <td>0.000000</td>\n",
       "      <td>0.000000</td>\n",
       "      <td>0.000000</td>\n",
       "      <td>0.0</td>\n",
       "    </tr>\n",
       "    <tr>\n",
       "      <th>50%</th>\n",
       "      <td>64081.500000</td>\n",
       "      <td>-0.160587</td>\n",
       "      <td>-0.517637</td>\n",
       "      <td>-0.386481</td>\n",
       "      <td>-0.391644</td>\n",
       "      <td>0.600000</td>\n",
       "      <td>0.600000</td>\n",
       "      <td>0.600000</td>\n",
       "      <td>0.600000</td>\n",
       "      <td>0.600000</td>\n",
       "      <td>...</td>\n",
       "      <td>0.800000</td>\n",
       "      <td>0.400000</td>\n",
       "      <td>0.600000</td>\n",
       "      <td>0.750000</td>\n",
       "      <td>0.000000</td>\n",
       "      <td>1.000000</td>\n",
       "      <td>0.000000</td>\n",
       "      <td>1.000000</td>\n",
       "      <td>0.000000</td>\n",
       "      <td>0.0</td>\n",
       "    </tr>\n",
       "    <tr>\n",
       "      <th>75%</th>\n",
       "      <td>97173.250000</td>\n",
       "      <td>0.699242</td>\n",
       "      <td>-0.041422</td>\n",
       "      <td>0.007520</td>\n",
       "      <td>0.024847</td>\n",
       "      <td>0.800000</td>\n",
       "      <td>0.600000</td>\n",
       "      <td>0.800000</td>\n",
       "      <td>0.600000</td>\n",
       "      <td>0.800000</td>\n",
       "      <td>...</td>\n",
       "      <td>0.800000</td>\n",
       "      <td>0.600000</td>\n",
       "      <td>0.800000</td>\n",
       "      <td>0.750000</td>\n",
       "      <td>1.000000</td>\n",
       "      <td>1.000000</td>\n",
       "      <td>1.000000</td>\n",
       "      <td>1.000000</td>\n",
       "      <td>0.000000</td>\n",
       "      <td>0.0</td>\n",
       "    </tr>\n",
       "    <tr>\n",
       "      <th>max</th>\n",
       "      <td>129880.000000</td>\n",
       "      <td>3.014163</td>\n",
       "      <td>3.802385</td>\n",
       "      <td>41.430147</td>\n",
       "      <td>40.840956</td>\n",
       "      <td>1.000000</td>\n",
       "      <td>1.000000</td>\n",
       "      <td>1.000000</td>\n",
       "      <td>1.000000</td>\n",
       "      <td>1.000000</td>\n",
       "      <td>...</td>\n",
       "      <td>1.000000</td>\n",
       "      <td>1.000000</td>\n",
       "      <td>1.000000</td>\n",
       "      <td>1.000000</td>\n",
       "      <td>1.000000</td>\n",
       "      <td>1.000000</td>\n",
       "      <td>1.000000</td>\n",
       "      <td>1.000000</td>\n",
       "      <td>1.000000</td>\n",
       "      <td>0.0</td>\n",
       "    </tr>\n",
       "  </tbody>\n",
       "</table>\n",
       "<p>8 rows × 25 columns</p>\n",
       "</div>"
      ],
      "text/plain": [
       "                  ID           Age  Flight Distance  Departure Delay  \\\n",
       "count   73452.000000  73452.000000     73452.000000     73452.000000   \n",
       "mean    64507.311428     -0.117529        -0.261268         0.044473   \n",
       "std     37554.513773      1.089058         0.793317         1.055474   \n",
       "min         1.000000     -2.144805        -1.162282        -0.386481   \n",
       "25%     31813.250000     -0.954274        -0.820410        -0.386481   \n",
       "50%     64081.500000     -0.160587        -0.517637        -0.386481   \n",
       "75%     97173.250000      0.699242        -0.041422         0.007520   \n",
       "max    129880.000000      3.014163         3.802385        41.430147   \n",
       "\n",
       "       Arrival Delay  Departure and Arrival Time Convenience  \\\n",
       "count   73452.000000                            73452.000000   \n",
       "mean        0.050963                                0.626044   \n",
       "std         1.053473                                0.300120   \n",
       "min        -0.391644                                0.000000   \n",
       "25%        -0.391644                                0.400000   \n",
       "50%        -0.391644                                0.600000   \n",
       "75%         0.024847                                0.800000   \n",
       "max        40.840956                                1.000000   \n",
       "\n",
       "       Ease of Online Booking  Check-in Service  Online Boarding  \\\n",
       "count            73452.000000      73452.000000     73452.000000   \n",
       "mean                 0.509879          0.608593         0.531724   \n",
       "std                  0.241822          0.256434         0.229410   \n",
       "min                  0.000000          0.000000         0.000000   \n",
       "25%                  0.400000          0.400000         0.400000   \n",
       "50%                  0.600000          0.600000         0.600000   \n",
       "75%                  0.600000          0.800000         0.600000   \n",
       "max                  1.000000          1.000000         1.000000   \n",
       "\n",
       "       Gate Location  ...  In-flight Service  In-flight Wifi Service  \\\n",
       "count   73452.000000  ...       73452.000000            73452.000000   \n",
       "mean        0.596011  ...           0.677920                0.479685   \n",
       "std         0.239946  ...           0.235303                0.192850   \n",
       "min         0.200000  ...           0.000000                0.000000   \n",
       "25%         0.400000  ...           0.600000                0.400000   \n",
       "50%         0.600000  ...           0.800000                0.400000   \n",
       "75%         0.800000  ...           0.800000                0.600000   \n",
       "max         1.000000  ...           1.000000                1.000000   \n",
       "\n",
       "       In-flight Entertainment  Baggage Handling   Gender_Male  \\\n",
       "count             73452.000000      73452.000000  73452.000000   \n",
       "mean                  0.578487          0.593728      0.487693   \n",
       "std                   0.264842          0.293761      0.499852   \n",
       "min                   0.000000          0.000000      0.000000   \n",
       "25%                   0.400000          0.500000      0.000000   \n",
       "50%                   0.600000          0.750000      0.000000   \n",
       "75%                   0.800000          0.750000      1.000000   \n",
       "max                   1.000000          1.000000      1.000000   \n",
       "\n",
       "       Customer Type_Returning  Type of Travel_Personal  Class_Economy  \\\n",
       "count             73452.000000             73452.000000   73452.000000   \n",
       "mean                  0.753853                 0.491682       0.644857   \n",
       "std                   0.430768                 0.499934       0.478560   \n",
       "min                   0.000000                 0.000000       0.000000   \n",
       "25%                   1.000000                 0.000000       0.000000   \n",
       "50%                   1.000000                 0.000000       1.000000   \n",
       "75%                   1.000000                 1.000000       1.000000   \n",
       "max                   1.000000                 1.000000       1.000000   \n",
       "\n",
       "       Class_Economy Plus  Satisfaction_label  \n",
       "count        73452.000000             73452.0  \n",
       "mean             0.096553                 0.0  \n",
       "std              0.295350                 0.0  \n",
       "min              0.000000                 0.0  \n",
       "25%              0.000000                 0.0  \n",
       "50%              0.000000                 0.0  \n",
       "75%              0.000000                 0.0  \n",
       "max              1.000000                 0.0  \n",
       "\n",
       "[8 rows x 25 columns]"
      ]
     },
     "execution_count": 1311,
     "metadata": {},
     "output_type": "execute_result"
    }
   ],
   "source": [
    "not_satisfied_df.describe()"
   ]
  },
  {
   "cell_type": "code",
   "execution_count": 1312,
   "id": "61cdaa99",
   "metadata": {},
   "outputs": [
    {
     "name": "stdout",
     "output_type": "stream",
     "text": [
      "Параметр удовлетворенности в кластере 0: 8.189910417687742\n"
     ]
    }
   ],
   "source": [
    "rating_not_satisfied = np.sum([np.mean(not_satisfied_df[col]) for col in quality_features])\n",
    "print(f\"Параметр удовлетворенности в кластере 0: {rating_not_satisfied}\")"
   ]
  },
  {
   "cell_type": "markdown",
   "id": "ae982619",
   "metadata": {},
   "source": [
    "Кластеризуем на 3 класса: сильно неудовлетворенное, неудовлетворенные и нейтральные"
   ]
  },
  {
   "cell_type": "code",
   "execution_count": 1313,
   "id": "fb06a508",
   "metadata": {},
   "outputs": [
    {
     "name": "stderr",
     "output_type": "stream",
     "text": [
      "C:\\Users\\akaku\\AppData\\Local\\Temp\\ipykernel_18428\\3403212719.py:4: SettingWithCopyWarning:\n",
      "\n",
      "\n",
      "A value is trying to be set on a copy of a slice from a DataFrame.\n",
      "Try using .loc[row_indexer,col_indexer] = value instead\n",
      "\n",
      "See the caveats in the documentation: https://pandas.pydata.org/pandas-docs/stable/user_guide/indexing.html#returning-a-view-versus-a-copy\n",
      "\n"
     ]
    }
   ],
   "source": [
    "kmeans = KMeans(n_clusters=3, n_init=30)#, random_state=42\n",
    "kmeans_labels = kmeans.fit_predict(not_satisfied_df)\n",
    "\n",
    "not_satisfied_df['Cluster'] = kmeans_labels"
   ]
  },
  {
   "cell_type": "code",
   "execution_count": 1314,
   "id": "d35275a7",
   "metadata": {},
   "outputs": [
    {
     "name": "stdout",
     "output_type": "stream",
     "text": [
      "Количество строк в кластере 2: 24115\n",
      "Параметр удовлетворенности в кластере 2: 8.183400373211695\n"
     ]
    }
   ],
   "source": [
    "cluster_2 = not_satisfied_df[not_satisfied_df['Cluster'] == 2]\n",
    "print(f\"Количество строк в кластере 2: {len(cluster_2)}\")\n",
    "rating_cluster_2 = np.sum([np.mean(cluster_2[col]) for col in quality_features])\n",
    "print(f\"Параметр удовлетворенности в кластере 2: {rating_cluster_2}\")"
   ]
  },
  {
   "cell_type": "code",
   "execution_count": 1315,
   "id": "ab4f296d",
   "metadata": {},
   "outputs": [
    {
     "name": "stdout",
     "output_type": "stream",
     "text": [
      "Количество строк в кластере 1: 24606\n",
      "Параметр удовлетворенности в кластере 1: 8.238299601723158\n"
     ]
    }
   ],
   "source": [
    "cluster_1 = not_satisfied_df[not_satisfied_df['Cluster'] == 1]\n",
    "print(f\"Количество строк в кластере 1: {len(cluster_1)}\")\n",
    "rating_cluster_1 = np.sum([np.mean(cluster_1[col]) for col in quality_features])\n",
    "print(f\"Параметр удовлетворенности в кластере 1: {rating_cluster_1}\")"
   ]
  },
  {
   "cell_type": "code",
   "execution_count": 1316,
   "id": "1641d1b3",
   "metadata": {},
   "outputs": [
    {
     "name": "stdout",
     "output_type": "stream",
     "text": [
      "Количество строк в кластере 0: 24731\n",
      "Параметр удовлетворенности в кластере 0: 8.148113703449113\n"
     ]
    }
   ],
   "source": [
    "cluster_0 = not_satisfied_df[not_satisfied_df['Cluster'] == 0]\n",
    "print(f\"Количество строк в кластере 0: {len(cluster_0)}\")\n",
    "rating_cluster_0 = np.sum([np.mean(cluster_0[col]) for col in quality_features])\n",
    "print(f\"Параметр удовлетворенности в кластере 0: {rating_cluster_0}\")"
   ]
  },
  {
   "cell_type": "code",
   "execution_count": 1317,
   "id": "b232e26e",
   "metadata": {},
   "outputs": [],
   "source": [
    "for i, rating in enumerate([rating_cluster_0, rating_cluster_1, rating_cluster_2]):\n",
    "    if rating == max(rating_cluster_0, rating_cluster_1, rating_cluster_2):\n",
    "        cluster_label = 2\n",
    "    elif rating == min(rating_cluster_0, rating_cluster_1, rating_cluster_2):\n",
    "        cluster_label = 0\n",
    "    else:\n",
    "        cluster_label = 1\n",
    "\n",
    "    cluster = not_satisfied_df[not_satisfied_df['Cluster'] == cluster_label]\n",
    "    mask = df['ID'].isin(cluster['ID'])\n",
    "    df.loc[mask, 'Satisfaction_label'] = cluster_label + 1"
   ]
  },
  {
   "cell_type": "code",
   "execution_count": 1318,
   "id": "9f3bd096",
   "metadata": {},
   "outputs": [
    {
     "data": {
      "text/plain": [
       "Satisfaction_label\n",
       "5    28568\n",
       "4    27860\n",
       "1    24731\n",
       "2    24606\n",
       "3    24115\n",
       "Name: count, dtype: int64"
      ]
     },
     "execution_count": 1318,
     "metadata": {},
     "output_type": "execute_result"
    }
   ],
   "source": [
    "df.Satisfaction_label.value_counts()"
   ]
  },
  {
   "cell_type": "code",
   "execution_count": 1319,
   "id": "9ad78f6d",
   "metadata": {},
   "outputs": [
    {
     "data": {
      "image/png": "[encoded data removed]",
      "text/plain": [
       "<Figure size 1000x600 with 1 Axes>"
      ]
     },
     "metadata": {},
     "output_type": "display_data"
    }
   ],
   "source": [
    "plt.figure(figsize=(10, 6))\n",
    "sns.histplot(data=df, x='Satisfaction_label', bins=5, discrete=True)\n",
    "sns.hls_palette(8, l=.4, s=.9)\n",
    "plt.title('Распределение значений Satisfaction')\n",
    "plt.xlabel('Значение Satisfaction')\n",
    "plt.ylabel('Количество строк')\n",
    "plt.xticks(range(1, 6))\n",
    "plt.show()"
   ]
  },
  {
   "cell_type": "code",
   "execution_count": 1320,
   "id": "94397552",
   "metadata": {},
   "outputs": [
    {
     "data": {
      "text/html": [
       "<div>\n",
       "<style scoped>\n",
       "    .dataframe tbody tr th:only-of-type {\n",
       "        vertical-align: middle;\n",
       "    }\n",
       "\n",
       "    .dataframe tbody tr th {\n",
       "        vertical-align: top;\n",
       "    }\n",
       "\n",
       "    .dataframe thead th {\n",
       "        text-align: right;\n",
       "    }\n",
       "</style>\n",
       "<table border=\"1\" class=\"dataframe\">\n",
       "  <thead>\n",
       "    <tr style=\"text-align: right;\">\n",
       "      <th></th>\n",
       "      <th>ID</th>\n",
       "      <th>Age</th>\n",
       "      <th>Flight Distance</th>\n",
       "      <th>Departure Delay</th>\n",
       "      <th>Arrival Delay</th>\n",
       "      <th>Departure and Arrival Time Convenience</th>\n",
       "      <th>Ease of Online Booking</th>\n",
       "      <th>Check-in Service</th>\n",
       "      <th>Online Boarding</th>\n",
       "      <th>Gate Location</th>\n",
       "      <th>...</th>\n",
       "      <th>In-flight Service</th>\n",
       "      <th>In-flight Wifi Service</th>\n",
       "      <th>In-flight Entertainment</th>\n",
       "      <th>Baggage Handling</th>\n",
       "      <th>Gender_Male</th>\n",
       "      <th>Customer Type_Returning</th>\n",
       "      <th>Type of Travel_Personal</th>\n",
       "      <th>Class_Economy</th>\n",
       "      <th>Class_Economy Plus</th>\n",
       "      <th>Satisfaction_label</th>\n",
       "    </tr>\n",
       "  </thead>\n",
       "  <tbody>\n",
       "    <tr>\n",
       "      <th>0</th>\n",
       "      <td>1</td>\n",
       "      <td>0.566960</td>\n",
       "      <td>-0.370261</td>\n",
       "      <td>-0.333948</td>\n",
       "      <td>-0.261490</td>\n",
       "      <td>-0.037727</td>\n",
       "      <td>0.173445</td>\n",
       "      <td>0.547894</td>\n",
       "      <td>-0.187037</td>\n",
       "      <td>0.018048</td>\n",
       "      <td>...</td>\n",
       "      <td>1.153946</td>\n",
       "      <td>0.204090</td>\n",
       "      <td>1.230787</td>\n",
       "      <td>1.159206</td>\n",
       "      <td>1.014878</td>\n",
       "      <td>-2.112281</td>\n",
       "      <td>-0.669366</td>\n",
       "      <td>-0.902608</td>\n",
       "      <td>-0.279499</td>\n",
       "      <td>1</td>\n",
       "    </tr>\n",
       "    <tr>\n",
       "      <th>1</th>\n",
       "      <td>2</td>\n",
       "      <td>-0.292868</td>\n",
       "      <td>-0.370261</td>\n",
       "      <td>0.296454</td>\n",
       "      <td>0.623553</td>\n",
       "      <td>-0.692719</td>\n",
       "      <td>-0.539957</td>\n",
       "      <td>-0.241883</td>\n",
       "      <td>1.293662</td>\n",
       "      <td>-0.764109</td>\n",
       "      <td>...</td>\n",
       "      <td>1.153946</td>\n",
       "      <td>-0.548166</td>\n",
       "      <td>1.230787</td>\n",
       "      <td>1.159206</td>\n",
       "      <td>-0.985340</td>\n",
       "      <td>0.473422</td>\n",
       "      <td>-0.669366</td>\n",
       "      <td>-0.902608</td>\n",
       "      <td>-0.279499</td>\n",
       "      <td>4</td>\n",
       "    </tr>\n",
       "    <tr>\n",
       "      <th>2</th>\n",
       "      <td>3</td>\n",
       "      <td>0.103976</td>\n",
       "      <td>-0.338179</td>\n",
       "      <td>-0.386481</td>\n",
       "      <td>-0.391644</td>\n",
       "      <td>0.617265</td>\n",
       "      <td>0.886847</td>\n",
       "      <td>0.547894</td>\n",
       "      <td>1.293662</td>\n",
       "      <td>0.800206</td>\n",
       "      <td>...</td>\n",
       "      <td>-0.545774</td>\n",
       "      <td>0.956346</td>\n",
       "      <td>-0.268414</td>\n",
       "      <td>-0.535681</td>\n",
       "      <td>1.014878</td>\n",
       "      <td>0.473422</td>\n",
       "      <td>-0.669366</td>\n",
       "      <td>-0.902608</td>\n",
       "      <td>-0.279499</td>\n",
       "      <td>4</td>\n",
       "    </tr>\n",
       "    <tr>\n",
       "      <th>3</th>\n",
       "      <td>4</td>\n",
       "      <td>0.699242</td>\n",
       "      <td>0.716512</td>\n",
       "      <td>-0.386481</td>\n",
       "      <td>-0.391644</td>\n",
       "      <td>-0.692719</td>\n",
       "      <td>-0.539957</td>\n",
       "      <td>-0.241883</td>\n",
       "      <td>0.553313</td>\n",
       "      <td>-0.764109</td>\n",
       "      <td>...</td>\n",
       "      <td>1.153946</td>\n",
       "      <td>-0.548166</td>\n",
       "      <td>1.230787</td>\n",
       "      <td>1.159206</td>\n",
       "      <td>1.014878</td>\n",
       "      <td>0.473422</td>\n",
       "      <td>-0.669366</td>\n",
       "      <td>-0.902608</td>\n",
       "      <td>-0.279499</td>\n",
       "      <td>4</td>\n",
       "    </tr>\n",
       "    <tr>\n",
       "      <th>4</th>\n",
       "      <td>5</td>\n",
       "      <td>0.633101</td>\n",
       "      <td>2.285515</td>\n",
       "      <td>-0.386481</td>\n",
       "      <td>-0.365613</td>\n",
       "      <td>-0.037727</td>\n",
       "      <td>0.173445</td>\n",
       "      <td>-0.241883</td>\n",
       "      <td>1.293662</td>\n",
       "      <td>0.018048</td>\n",
       "      <td>...</td>\n",
       "      <td>-0.545774</td>\n",
       "      <td>0.204090</td>\n",
       "      <td>-0.268414</td>\n",
       "      <td>-0.535681</td>\n",
       "      <td>-0.985340</td>\n",
       "      <td>0.473422</td>\n",
       "      <td>-0.669366</td>\n",
       "      <td>-0.902608</td>\n",
       "      <td>-0.279499</td>\n",
       "      <td>4</td>\n",
       "    </tr>\n",
       "    <tr>\n",
       "      <th>5</th>\n",
       "      <td>6</td>\n",
       "      <td>0.236257</td>\n",
       "      <td>2.604328</td>\n",
       "      <td>-0.386481</td>\n",
       "      <td>-0.391644</td>\n",
       "      <td>0.617265</td>\n",
       "      <td>0.886847</td>\n",
       "      <td>-0.241883</td>\n",
       "      <td>1.293662</td>\n",
       "      <td>0.800206</td>\n",
       "      <td>...</td>\n",
       "      <td>0.304086</td>\n",
       "      <td>0.956346</td>\n",
       "      <td>0.481186</td>\n",
       "      <td>0.311762</td>\n",
       "      <td>1.014878</td>\n",
       "      <td>0.473422</td>\n",
       "      <td>-0.669366</td>\n",
       "      <td>-0.902608</td>\n",
       "      <td>-0.279499</td>\n",
       "      <td>4</td>\n",
       "    </tr>\n",
       "    <tr>\n",
       "      <th>6</th>\n",
       "      <td>7</td>\n",
       "      <td>0.236257</td>\n",
       "      <td>0.774660</td>\n",
       "      <td>-0.386481</td>\n",
       "      <td>-0.391644</td>\n",
       "      <td>-0.037727</td>\n",
       "      <td>0.173445</td>\n",
       "      <td>0.547894</td>\n",
       "      <td>0.553313</td>\n",
       "      <td>0.018048</td>\n",
       "      <td>...</td>\n",
       "      <td>1.153946</td>\n",
       "      <td>0.204090</td>\n",
       "      <td>1.230787</td>\n",
       "      <td>1.159206</td>\n",
       "      <td>1.014878</td>\n",
       "      <td>0.473422</td>\n",
       "      <td>-0.669366</td>\n",
       "      <td>-0.902608</td>\n",
       "      <td>-0.279499</td>\n",
       "      <td>4</td>\n",
       "    </tr>\n",
       "    <tr>\n",
       "      <th>7</th>\n",
       "      <td>8</td>\n",
       "      <td>1.360648</td>\n",
       "      <td>-0.338179</td>\n",
       "      <td>-0.386481</td>\n",
       "      <td>-0.313552</td>\n",
       "      <td>-0.037727</td>\n",
       "      <td>0.886847</td>\n",
       "      <td>-0.241883</td>\n",
       "      <td>0.553313</td>\n",
       "      <td>0.800206</td>\n",
       "      <td>...</td>\n",
       "      <td>-0.545774</td>\n",
       "      <td>0.956346</td>\n",
       "      <td>-0.268414</td>\n",
       "      <td>-0.535681</td>\n",
       "      <td>-0.985340</td>\n",
       "      <td>0.473422</td>\n",
       "      <td>-0.669366</td>\n",
       "      <td>-0.902608</td>\n",
       "      <td>-0.279499</td>\n",
       "      <td>4</td>\n",
       "    </tr>\n",
       "    <tr>\n",
       "      <th>8</th>\n",
       "      <td>9</td>\n",
       "      <td>0.699242</td>\n",
       "      <td>1.420307</td>\n",
       "      <td>-0.386481</td>\n",
       "      <td>-0.391644</td>\n",
       "      <td>-1.347712</td>\n",
       "      <td>-1.253359</td>\n",
       "      <td>-0.241883</td>\n",
       "      <td>-0.927386</td>\n",
       "      <td>-1.546267</td>\n",
       "      <td>...</td>\n",
       "      <td>0.304086</td>\n",
       "      <td>0.956346</td>\n",
       "      <td>0.481186</td>\n",
       "      <td>0.311762</td>\n",
       "      <td>1.014878</td>\n",
       "      <td>0.473422</td>\n",
       "      <td>-0.669366</td>\n",
       "      <td>-0.902608</td>\n",
       "      <td>-0.279499</td>\n",
       "      <td>1</td>\n",
       "    </tr>\n",
       "    <tr>\n",
       "      <th>9</th>\n",
       "      <td>10</td>\n",
       "      <td>-0.094446</td>\n",
       "      <td>1.635857</td>\n",
       "      <td>-0.045014</td>\n",
       "      <td>-0.391644</td>\n",
       "      <td>-0.692719</td>\n",
       "      <td>1.600249</td>\n",
       "      <td>-0.241883</td>\n",
       "      <td>1.293662</td>\n",
       "      <td>-0.764109</td>\n",
       "      <td>...</td>\n",
       "      <td>1.153946</td>\n",
       "      <td>-0.548166</td>\n",
       "      <td>1.230787</td>\n",
       "      <td>1.159206</td>\n",
       "      <td>-0.985340</td>\n",
       "      <td>0.473422</td>\n",
       "      <td>-0.669366</td>\n",
       "      <td>-0.902608</td>\n",
       "      <td>-0.279499</td>\n",
       "      <td>4</td>\n",
       "    </tr>\n",
       "    <tr>\n",
       "      <th>10</th>\n",
       "      <td>11</td>\n",
       "      <td>-0.755852</td>\n",
       "      <td>-0.370261</td>\n",
       "      <td>-0.386481</td>\n",
       "      <td>-0.261490</td>\n",
       "      <td>-1.347712</td>\n",
       "      <td>-1.253359</td>\n",
       "      <td>-0.241883</td>\n",
       "      <td>-1.667736</td>\n",
       "      <td>0.018048</td>\n",
       "      <td>...</td>\n",
       "      <td>0.304086</td>\n",
       "      <td>-1.300421</td>\n",
       "      <td>-1.018015</td>\n",
       "      <td>-0.535681</td>\n",
       "      <td>-0.985340</td>\n",
       "      <td>-2.112281</td>\n",
       "      <td>-0.669366</td>\n",
       "      <td>-0.902608</td>\n",
       "      <td>-0.279499</td>\n",
       "      <td>1</td>\n",
       "    </tr>\n",
       "    <tr>\n",
       "      <th>11</th>\n",
       "      <td>12</td>\n",
       "      <td>-0.821993</td>\n",
       "      <td>-0.771284</td>\n",
       "      <td>0.138853</td>\n",
       "      <td>0.155001</td>\n",
       "      <td>-0.692719</td>\n",
       "      <td>-0.539957</td>\n",
       "      <td>-1.821437</td>\n",
       "      <td>-0.927386</td>\n",
       "      <td>0.800206</td>\n",
       "      <td>...</td>\n",
       "      <td>-0.545774</td>\n",
       "      <td>-1.300421</td>\n",
       "      <td>-1.767616</td>\n",
       "      <td>0.311762</td>\n",
       "      <td>-0.985340</td>\n",
       "      <td>-2.112281</td>\n",
       "      <td>-0.669366</td>\n",
       "      <td>-0.902608</td>\n",
       "      <td>-0.279499</td>\n",
       "      <td>1</td>\n",
       "    </tr>\n",
       "    <tr>\n",
       "      <th>12</th>\n",
       "      <td>13</td>\n",
       "      <td>-1.020415</td>\n",
       "      <td>-0.739202</td>\n",
       "      <td>0.033787</td>\n",
       "      <td>0.389277</td>\n",
       "      <td>-0.692719</td>\n",
       "      <td>-0.539957</td>\n",
       "      <td>-1.031660</td>\n",
       "      <td>-0.927386</td>\n",
       "      <td>0.800206</td>\n",
       "      <td>...</td>\n",
       "      <td>0.304086</td>\n",
       "      <td>-0.548166</td>\n",
       "      <td>1.230787</td>\n",
       "      <td>0.311762</td>\n",
       "      <td>1.014878</td>\n",
       "      <td>-2.112281</td>\n",
       "      <td>-0.669366</td>\n",
       "      <td>1.107900</td>\n",
       "      <td>-0.279499</td>\n",
       "      <td>1</td>\n",
       "    </tr>\n",
       "    <tr>\n",
       "      <th>13</th>\n",
       "      <td>14</td>\n",
       "      <td>-2.012524</td>\n",
       "      <td>-0.338179</td>\n",
       "      <td>1.399656</td>\n",
       "      <td>1.586688</td>\n",
       "      <td>1.272257</td>\n",
       "      <td>-1.253359</td>\n",
       "      <td>1.337671</td>\n",
       "      <td>-1.667736</td>\n",
       "      <td>-0.764109</td>\n",
       "      <td>...</td>\n",
       "      <td>1.153946</td>\n",
       "      <td>-1.300421</td>\n",
       "      <td>1.230787</td>\n",
       "      <td>0.311762</td>\n",
       "      <td>1.014878</td>\n",
       "      <td>0.473422</td>\n",
       "      <td>1.493951</td>\n",
       "      <td>-0.902608</td>\n",
       "      <td>-0.279499</td>\n",
       "      <td>1</td>\n",
       "    </tr>\n",
       "    <tr>\n",
       "      <th>14</th>\n",
       "      <td>15</td>\n",
       "      <td>0.831523</td>\n",
       "      <td>-0.338179</td>\n",
       "      <td>-0.386481</td>\n",
       "      <td>-0.391644</td>\n",
       "      <td>0.617265</td>\n",
       "      <td>-0.539957</td>\n",
       "      <td>-0.241883</td>\n",
       "      <td>-0.927386</td>\n",
       "      <td>0.800206</td>\n",
       "      <td>...</td>\n",
       "      <td>1.153946</td>\n",
       "      <td>-0.548166</td>\n",
       "      <td>-1.018015</td>\n",
       "      <td>1.159206</td>\n",
       "      <td>1.014878</td>\n",
       "      <td>0.473422</td>\n",
       "      <td>1.493951</td>\n",
       "      <td>1.107900</td>\n",
       "      <td>-0.279499</td>\n",
       "      <td>1</td>\n",
       "    </tr>\n",
       "    <tr>\n",
       "      <th>15</th>\n",
       "      <td>16</td>\n",
       "      <td>2.022054</td>\n",
       "      <td>-0.370261</td>\n",
       "      <td>-0.386481</td>\n",
       "      <td>-0.391644</td>\n",
       "      <td>1.272257</td>\n",
       "      <td>-0.539957</td>\n",
       "      <td>0.547894</td>\n",
       "      <td>-0.927386</td>\n",
       "      <td>-1.546267</td>\n",
       "      <td>...</td>\n",
       "      <td>1.153946</td>\n",
       "      <td>-0.548166</td>\n",
       "      <td>1.230787</td>\n",
       "      <td>0.311762</td>\n",
       "      <td>1.014878</td>\n",
       "      <td>0.473422</td>\n",
       "      <td>1.493951</td>\n",
       "      <td>1.107900</td>\n",
       "      <td>-0.279499</td>\n",
       "      <td>1</td>\n",
       "    </tr>\n",
       "    <tr>\n",
       "      <th>16</th>\n",
       "      <td>17</td>\n",
       "      <td>0.566960</td>\n",
       "      <td>-0.370261</td>\n",
       "      <td>-0.386481</td>\n",
       "      <td>-0.391644</td>\n",
       "      <td>-0.037727</td>\n",
       "      <td>-0.539957</td>\n",
       "      <td>1.337671</td>\n",
       "      <td>1.293662</td>\n",
       "      <td>0.018048</td>\n",
       "      <td>...</td>\n",
       "      <td>1.153946</td>\n",
       "      <td>-0.548166</td>\n",
       "      <td>1.230787</td>\n",
       "      <td>1.159206</td>\n",
       "      <td>-0.985340</td>\n",
       "      <td>0.473422</td>\n",
       "      <td>1.493951</td>\n",
       "      <td>1.107900</td>\n",
       "      <td>-0.279499</td>\n",
       "      <td>1</td>\n",
       "    </tr>\n",
       "    <tr>\n",
       "      <th>17</th>\n",
       "      <td>18</td>\n",
       "      <td>1.426788</td>\n",
       "      <td>-0.370261</td>\n",
       "      <td>-0.386481</td>\n",
       "      <td>-0.391644</td>\n",
       "      <td>1.272257</td>\n",
       "      <td>-0.539957</td>\n",
       "      <td>1.337671</td>\n",
       "      <td>-1.667736</td>\n",
       "      <td>-1.546267</td>\n",
       "      <td>...</td>\n",
       "      <td>1.153946</td>\n",
       "      <td>-0.548166</td>\n",
       "      <td>1.230787</td>\n",
       "      <td>1.159206</td>\n",
       "      <td>-0.985340</td>\n",
       "      <td>0.473422</td>\n",
       "      <td>1.493951</td>\n",
       "      <td>1.107900</td>\n",
       "      <td>-0.279499</td>\n",
       "      <td>1</td>\n",
       "    </tr>\n",
       "    <tr>\n",
       "      <th>18</th>\n",
       "      <td>19</td>\n",
       "      <td>-1.880243</td>\n",
       "      <td>-0.338179</td>\n",
       "      <td>-0.386481</td>\n",
       "      <td>-0.391644</td>\n",
       "      <td>1.272257</td>\n",
       "      <td>0.173445</td>\n",
       "      <td>1.337671</td>\n",
       "      <td>-0.187037</td>\n",
       "      <td>-0.764109</td>\n",
       "      <td>...</td>\n",
       "      <td>1.153946</td>\n",
       "      <td>0.204090</td>\n",
       "      <td>1.230787</td>\n",
       "      <td>0.311762</td>\n",
       "      <td>-0.985340</td>\n",
       "      <td>0.473422</td>\n",
       "      <td>1.493951</td>\n",
       "      <td>1.107900</td>\n",
       "      <td>-0.279499</td>\n",
       "      <td>1</td>\n",
       "    </tr>\n",
       "    <tr>\n",
       "      <th>19</th>\n",
       "      <td>20</td>\n",
       "      <td>0.170117</td>\n",
       "      <td>-0.370261</td>\n",
       "      <td>-0.281414</td>\n",
       "      <td>-0.391644</td>\n",
       "      <td>-0.037727</td>\n",
       "      <td>0.173445</td>\n",
       "      <td>-0.241883</td>\n",
       "      <td>-0.187037</td>\n",
       "      <td>0.800206</td>\n",
       "      <td>...</td>\n",
       "      <td>-2.245494</td>\n",
       "      <td>0.204090</td>\n",
       "      <td>-1.767616</td>\n",
       "      <td>-2.230567</td>\n",
       "      <td>-0.985340</td>\n",
       "      <td>0.473422</td>\n",
       "      <td>1.493951</td>\n",
       "      <td>1.107900</td>\n",
       "      <td>-0.279499</td>\n",
       "      <td>1</td>\n",
       "    </tr>\n",
       "    <tr>\n",
       "      <th>20</th>\n",
       "      <td>21</td>\n",
       "      <td>-1.681821</td>\n",
       "      <td>-0.338179</td>\n",
       "      <td>-0.071280</td>\n",
       "      <td>-0.365613</td>\n",
       "      <td>-1.347712</td>\n",
       "      <td>0.173445</td>\n",
       "      <td>0.547894</td>\n",
       "      <td>-0.187037</td>\n",
       "      <td>0.018048</td>\n",
       "      <td>...</td>\n",
       "      <td>-0.545774</td>\n",
       "      <td>0.204090</td>\n",
       "      <td>0.481186</td>\n",
       "      <td>-1.383124</td>\n",
       "      <td>-0.985340</td>\n",
       "      <td>0.473422</td>\n",
       "      <td>1.493951</td>\n",
       "      <td>1.107900</td>\n",
       "      <td>-0.279499</td>\n",
       "      <td>1</td>\n",
       "    </tr>\n",
       "    <tr>\n",
       "      <th>21</th>\n",
       "      <td>22</td>\n",
       "      <td>2.022054</td>\n",
       "      <td>-0.338179</td>\n",
       "      <td>-0.386481</td>\n",
       "      <td>-0.391644</td>\n",
       "      <td>0.617265</td>\n",
       "      <td>-1.253359</td>\n",
       "      <td>0.547894</td>\n",
       "      <td>0.553313</td>\n",
       "      <td>-0.764109</td>\n",
       "      <td>...</td>\n",
       "      <td>-2.245494</td>\n",
       "      <td>-1.300421</td>\n",
       "      <td>-1.767616</td>\n",
       "      <td>-2.230567</td>\n",
       "      <td>-0.985340</td>\n",
       "      <td>0.473422</td>\n",
       "      <td>1.493951</td>\n",
       "      <td>1.107900</td>\n",
       "      <td>-0.279499</td>\n",
       "      <td>1</td>\n",
       "    </tr>\n",
       "    <tr>\n",
       "      <th>22</th>\n",
       "      <td>23</td>\n",
       "      <td>1.096085</td>\n",
       "      <td>-0.370261</td>\n",
       "      <td>-0.386481</td>\n",
       "      <td>-0.391644</td>\n",
       "      <td>0.617265</td>\n",
       "      <td>0.173445</td>\n",
       "      <td>0.547894</td>\n",
       "      <td>0.553313</td>\n",
       "      <td>0.018048</td>\n",
       "      <td>...</td>\n",
       "      <td>1.153946</td>\n",
       "      <td>0.956346</td>\n",
       "      <td>1.230787</td>\n",
       "      <td>1.159206</td>\n",
       "      <td>-0.985340</td>\n",
       "      <td>0.473422</td>\n",
       "      <td>1.493951</td>\n",
       "      <td>1.107900</td>\n",
       "      <td>-0.279499</td>\n",
       "      <td>1</td>\n",
       "    </tr>\n",
       "    <tr>\n",
       "      <th>23</th>\n",
       "      <td>24</td>\n",
       "      <td>2.485038</td>\n",
       "      <td>-0.370261</td>\n",
       "      <td>-0.386481</td>\n",
       "      <td>-0.391644</td>\n",
       "      <td>1.272257</td>\n",
       "      <td>1.600249</td>\n",
       "      <td>-1.821437</td>\n",
       "      <td>0.553313</td>\n",
       "      <td>1.582364</td>\n",
       "      <td>...</td>\n",
       "      <td>-1.395634</td>\n",
       "      <td>0.956346</td>\n",
       "      <td>0.481186</td>\n",
       "      <td>-0.535681</td>\n",
       "      <td>1.014878</td>\n",
       "      <td>0.473422</td>\n",
       "      <td>-0.669366</td>\n",
       "      <td>-0.902608</td>\n",
       "      <td>3.577831</td>\n",
       "      <td>1</td>\n",
       "    </tr>\n",
       "    <tr>\n",
       "      <th>24</th>\n",
       "      <td>25</td>\n",
       "      <td>0.765382</td>\n",
       "      <td>2.275489</td>\n",
       "      <td>-0.386481</td>\n",
       "      <td>-0.339582</td>\n",
       "      <td>-0.037727</td>\n",
       "      <td>0.173445</td>\n",
       "      <td>1.337671</td>\n",
       "      <td>0.553313</td>\n",
       "      <td>0.018048</td>\n",
       "      <td>...</td>\n",
       "      <td>1.153946</td>\n",
       "      <td>0.204090</td>\n",
       "      <td>1.230787</td>\n",
       "      <td>1.159206</td>\n",
       "      <td>1.014878</td>\n",
       "      <td>0.473422</td>\n",
       "      <td>-0.669366</td>\n",
       "      <td>-0.902608</td>\n",
       "      <td>-0.279499</td>\n",
       "      <td>4</td>\n",
       "    </tr>\n",
       "    <tr>\n",
       "      <th>25</th>\n",
       "      <td>26</td>\n",
       "      <td>0.500820</td>\n",
       "      <td>0.486926</td>\n",
       "      <td>-0.386481</td>\n",
       "      <td>-0.001183</td>\n",
       "      <td>0.617265</td>\n",
       "      <td>1.600249</td>\n",
       "      <td>1.337671</td>\n",
       "      <td>0.553313</td>\n",
       "      <td>0.800206</td>\n",
       "      <td>...</td>\n",
       "      <td>1.153946</td>\n",
       "      <td>0.956346</td>\n",
       "      <td>1.230787</td>\n",
       "      <td>0.311762</td>\n",
       "      <td>1.014878</td>\n",
       "      <td>0.473422</td>\n",
       "      <td>-0.669366</td>\n",
       "      <td>-0.902608</td>\n",
       "      <td>-0.279499</td>\n",
       "      <td>4</td>\n",
       "    </tr>\n",
       "    <tr>\n",
       "      <th>26</th>\n",
       "      <td>27</td>\n",
       "      <td>0.699242</td>\n",
       "      <td>0.980184</td>\n",
       "      <td>-0.228881</td>\n",
       "      <td>0.233093</td>\n",
       "      <td>-0.037727</td>\n",
       "      <td>0.173445</td>\n",
       "      <td>0.547894</td>\n",
       "      <td>0.553313</td>\n",
       "      <td>0.018048</td>\n",
       "      <td>...</td>\n",
       "      <td>1.153946</td>\n",
       "      <td>0.204090</td>\n",
       "      <td>1.230787</td>\n",
       "      <td>1.159206</td>\n",
       "      <td>1.014878</td>\n",
       "      <td>0.473422</td>\n",
       "      <td>-0.669366</td>\n",
       "      <td>-0.902608</td>\n",
       "      <td>-0.279499</td>\n",
       "      <td>4</td>\n",
       "    </tr>\n",
       "    <tr>\n",
       "      <th>27</th>\n",
       "      <td>28</td>\n",
       "      <td>1.228366</td>\n",
       "      <td>1.680972</td>\n",
       "      <td>-0.386481</td>\n",
       "      <td>-0.391644</td>\n",
       "      <td>1.272257</td>\n",
       "      <td>-1.966761</td>\n",
       "      <td>0.547894</td>\n",
       "      <td>1.293662</td>\n",
       "      <td>0.800206</td>\n",
       "      <td>...</td>\n",
       "      <td>-0.545774</td>\n",
       "      <td>-2.052677</td>\n",
       "      <td>-0.268414</td>\n",
       "      <td>-0.535681</td>\n",
       "      <td>1.014878</td>\n",
       "      <td>0.473422</td>\n",
       "      <td>-0.669366</td>\n",
       "      <td>-0.902608</td>\n",
       "      <td>-0.279499</td>\n",
       "      <td>4</td>\n",
       "    </tr>\n",
       "    <tr>\n",
       "      <th>28</th>\n",
       "      <td>29</td>\n",
       "      <td>0.037835</td>\n",
       "      <td>2.550190</td>\n",
       "      <td>-0.386481</td>\n",
       "      <td>0.961952</td>\n",
       "      <td>0.617265</td>\n",
       "      <td>0.886847</td>\n",
       "      <td>0.547894</td>\n",
       "      <td>0.553313</td>\n",
       "      <td>0.800206</td>\n",
       "      <td>...</td>\n",
       "      <td>1.153946</td>\n",
       "      <td>0.956346</td>\n",
       "      <td>1.230787</td>\n",
       "      <td>1.159206</td>\n",
       "      <td>1.014878</td>\n",
       "      <td>0.473422</td>\n",
       "      <td>-0.669366</td>\n",
       "      <td>-0.902608</td>\n",
       "      <td>-0.279499</td>\n",
       "      <td>4</td>\n",
       "    </tr>\n",
       "    <tr>\n",
       "      <th>29</th>\n",
       "      <td>30</td>\n",
       "      <td>0.566960</td>\n",
       "      <td>1.902538</td>\n",
       "      <td>-0.386481</td>\n",
       "      <td>-0.079276</td>\n",
       "      <td>0.617265</td>\n",
       "      <td>1.600249</td>\n",
       "      <td>-0.241883</td>\n",
       "      <td>0.553313</td>\n",
       "      <td>0.800206</td>\n",
       "      <td>...</td>\n",
       "      <td>0.304086</td>\n",
       "      <td>0.956346</td>\n",
       "      <td>0.481186</td>\n",
       "      <td>0.311762</td>\n",
       "      <td>1.014878</td>\n",
       "      <td>0.473422</td>\n",
       "      <td>-0.669366</td>\n",
       "      <td>-0.902608</td>\n",
       "      <td>-0.279499</td>\n",
       "      <td>4</td>\n",
       "    </tr>\n",
       "  </tbody>\n",
       "</table>\n",
       "<p>30 rows × 25 columns</p>\n",
       "</div>"
      ],
      "text/plain": [
       "    ID       Age  Flight Distance  Departure Delay  Arrival Delay  \\\n",
       "0    1  0.566960        -0.370261        -0.333948      -0.261490   \n",
       "1    2 -0.292868        -0.370261         0.296454       0.623553   \n",
       "2    3  0.103976        -0.338179        -0.386481      -0.391644   \n",
       "3    4  0.699242         0.716512        -0.386481      -0.391644   \n",
       "4    5  0.633101         2.285515        -0.386481      -0.365613   \n",
       "5    6  0.236257         2.604328        -0.386481      -0.391644   \n",
       "6    7  0.236257         0.774660        -0.386481      -0.391644   \n",
       "7    8  1.360648        -0.338179        -0.386481      -0.313552   \n",
       "8    9  0.699242         1.420307        -0.386481      -0.391644   \n",
       "9   10 -0.094446         1.635857        -0.045014      -0.391644   \n",
       "10  11 -0.755852        -0.370261        -0.386481      -0.261490   \n",
       "11  12 -0.821993        -0.771284         0.138853       0.155001   \n",
       "12  13 -1.020415        -0.739202         0.033787       0.389277   \n",
       "13  14 -2.012524        -0.338179         1.399656       1.586688   \n",
       "14  15  0.831523        -0.338179        -0.386481      -0.391644   \n",
       "15  16  2.022054        -0.370261        -0.386481      -0.391644   \n",
       "16  17  0.566960        -0.370261        -0.386481      -0.391644   \n",
       "17  18  1.426788        -0.370261        -0.386481      -0.391644   \n",
       "18  19 -1.880243        -0.338179        -0.386481      -0.391644   \n",
       "19  20  0.170117        -0.370261        -0.281414      -0.391644   \n",
       "20  21 -1.681821        -0.338179        -0.071280      -0.365613   \n",
       "21  22  2.022054        -0.338179        -0.386481      -0.391644   \n",
       "22  23  1.096085        -0.370261        -0.386481      -0.391644   \n",
       "23  24  2.485038        -0.370261        -0.386481      -0.391644   \n",
       "24  25  0.765382         2.275489        -0.386481      -0.339582   \n",
       "25  26  0.500820         0.486926        -0.386481      -0.001183   \n",
       "26  27  0.699242         0.980184        -0.228881       0.233093   \n",
       "27  28  1.228366         1.680972        -0.386481      -0.391644   \n",
       "28  29  0.037835         2.550190        -0.386481       0.961952   \n",
       "29  30  0.566960         1.902538        -0.386481      -0.079276   \n",
       "\n",
       "    Departure and Arrival Time Convenience  Ease of Online Booking  \\\n",
       "0                                -0.037727                0.173445   \n",
       "1                                -0.692719               -0.539957   \n",
       "2                                 0.617265                0.886847   \n",
       "3                                -0.692719               -0.539957   \n",
       "4                                -0.037727                0.173445   \n",
       "5                                 0.617265                0.886847   \n",
       "6                                -0.037727                0.173445   \n",
       "7                                -0.037727                0.886847   \n",
       "8                                -1.347712               -1.253359   \n",
       "9                                -0.692719                1.600249   \n",
       "10                               -1.347712               -1.253359   \n",
       "11                               -0.692719               -0.539957   \n",
       "12                               -0.692719               -0.539957   \n",
       "13                                1.272257               -1.253359   \n",
       "14                                0.617265               -0.539957   \n",
       "15                                1.272257               -0.539957   \n",
       "16                               -0.037727               -0.539957   \n",
       "17                                1.272257               -0.539957   \n",
       "18                                1.272257                0.173445   \n",
       "19                               -0.037727                0.173445   \n",
       "20                               -1.347712                0.173445   \n",
       "21                                0.617265               -1.253359   \n",
       "22                                0.617265                0.173445   \n",
       "23                                1.272257                1.600249   \n",
       "24                               -0.037727                0.173445   \n",
       "25                                0.617265                1.600249   \n",
       "26                               -0.037727                0.173445   \n",
       "27                                1.272257               -1.966761   \n",
       "28                                0.617265                0.886847   \n",
       "29                                0.617265                1.600249   \n",
       "\n",
       "    Check-in Service  Online Boarding  Gate Location  ...  In-flight Service  \\\n",
       "0           0.547894        -0.187037       0.018048  ...           1.153946   \n",
       "1          -0.241883         1.293662      -0.764109  ...           1.153946   \n",
       "2           0.547894         1.293662       0.800206  ...          -0.545774   \n",
       "3          -0.241883         0.553313      -0.764109  ...           1.153946   \n",
       "4          -0.241883         1.293662       0.018048  ...          -0.545774   \n",
       "5          -0.241883         1.293662       0.800206  ...           0.304086   \n",
       "6           0.547894         0.553313       0.018048  ...           1.153946   \n",
       "7          -0.241883         0.553313       0.800206  ...          -0.545774   \n",
       "8          -0.241883        -0.927386      -1.546267  ...           0.304086   \n",
       "9          -0.241883         1.293662      -0.764109  ...           1.153946   \n",
       "10         -0.241883        -1.667736       0.018048  ...           0.304086   \n",
       "11         -1.821437        -0.927386       0.800206  ...          -0.545774   \n",
       "12         -1.031660        -0.927386       0.800206  ...           0.304086   \n",
       "13          1.337671        -1.667736      -0.764109  ...           1.153946   \n",
       "14         -0.241883        -0.927386       0.800206  ...           1.153946   \n",
       "15          0.547894        -0.927386      -1.546267  ...           1.153946   \n",
       "16          1.337671         1.293662       0.018048  ...           1.153946   \n",
       "17          1.337671        -1.667736      -1.546267  ...           1.153946   \n",
       "18          1.337671        -0.187037      -0.764109  ...           1.153946   \n",
       "19         -0.241883        -0.187037       0.800206  ...          -2.245494   \n",
       "20          0.547894        -0.187037       0.018048  ...          -0.545774   \n",
       "21          0.547894         0.553313      -0.764109  ...          -2.245494   \n",
       "22          0.547894         0.553313       0.018048  ...           1.153946   \n",
       "23         -1.821437         0.553313       1.582364  ...          -1.395634   \n",
       "24          1.337671         0.553313       0.018048  ...           1.153946   \n",
       "25          1.337671         0.553313       0.800206  ...           1.153946   \n",
       "26          0.547894         0.553313       0.018048  ...           1.153946   \n",
       "27          0.547894         1.293662       0.800206  ...          -0.545774   \n",
       "28          0.547894         0.553313       0.800206  ...           1.153946   \n",
       "29         -0.241883         0.553313       0.800206  ...           0.304086   \n",
       "\n",
       "    In-flight Wifi Service  In-flight Entertainment  Baggage Handling  \\\n",
       "0                 0.204090                 1.230787          1.159206   \n",
       "1                -0.548166                 1.230787          1.159206   \n",
       "2                 0.956346                -0.268414         -0.535681   \n",
       "3                -0.548166                 1.230787          1.159206   \n",
       "4                 0.204090                -0.268414         -0.535681   \n",
       "5                 0.956346                 0.481186          0.311762   \n",
       "6                 0.204090                 1.230787          1.159206   \n",
       "7                 0.956346                -0.268414         -0.535681   \n",
       "8                 0.956346                 0.481186          0.311762   \n",
       "9                -0.548166                 1.230787          1.159206   \n",
       "10               -1.300421                -1.018015         -0.535681   \n",
       "11               -1.300421                -1.767616          0.311762   \n",
       "12               -0.548166                 1.230787          0.311762   \n",
       "13               -1.300421                 1.230787          0.311762   \n",
       "14               -0.548166                -1.018015          1.159206   \n",
       "15               -0.548166                 1.230787          0.311762   \n",
       "16               -0.548166                 1.230787          1.159206   \n",
       "17               -0.548166                 1.230787          1.159206   \n",
       "18                0.204090                 1.230787          0.311762   \n",
       "19                0.204090                -1.767616         -2.230567   \n",
       "20                0.204090                 0.481186         -1.383124   \n",
       "21               -1.300421                -1.767616         -2.230567   \n",
       "22                0.956346                 1.230787          1.159206   \n",
       "23                0.956346                 0.481186         -0.535681   \n",
       "24                0.204090                 1.230787          1.159206   \n",
       "25                0.956346                 1.230787          0.311762   \n",
       "26                0.204090                 1.230787          1.159206   \n",
       "27               -2.052677                -0.268414         -0.535681   \n",
       "28                0.956346                 1.230787          1.159206   \n",
       "29                0.956346                 0.481186          0.311762   \n",
       "\n",
       "    Gender_Male  Customer Type_Returning  Type of Travel_Personal  \\\n",
       "0      1.014878                -2.112281                -0.669366   \n",
       "1     -0.985340                 0.473422                -0.669366   \n",
       "2      1.014878                 0.473422                -0.669366   \n",
       "3      1.014878                 0.473422                -0.669366   \n",
       "4     -0.985340                 0.473422                -0.669366   \n",
       "5      1.014878                 0.473422                -0.669366   \n",
       "6      1.014878                 0.473422                -0.669366   \n",
       "7     -0.985340                 0.473422                -0.669366   \n",
       "8      1.014878                 0.473422                -0.669366   \n",
       "9     -0.985340                 0.473422                -0.669366   \n",
       "10    -0.985340                -2.112281                -0.669366   \n",
       "11    -0.985340                -2.112281                -0.669366   \n",
       "12     1.014878                -2.112281                -0.669366   \n",
       "13     1.014878                 0.473422                 1.493951   \n",
       "14     1.014878                 0.473422                 1.493951   \n",
       "15     1.014878                 0.473422                 1.493951   \n",
       "16    -0.985340                 0.473422                 1.493951   \n",
       "17    -0.985340                 0.473422                 1.493951   \n",
       "18    -0.985340                 0.473422                 1.493951   \n",
       "19    -0.985340                 0.473422                 1.493951   \n",
       "20    -0.985340                 0.473422                 1.493951   \n",
       "21    -0.985340                 0.473422                 1.493951   \n",
       "22    -0.985340                 0.473422                 1.493951   \n",
       "23     1.014878                 0.473422                -0.669366   \n",
       "24     1.014878                 0.473422                -0.669366   \n",
       "25     1.014878                 0.473422                -0.669366   \n",
       "26     1.014878                 0.473422                -0.669366   \n",
       "27     1.014878                 0.473422                -0.669366   \n",
       "28     1.014878                 0.473422                -0.669366   \n",
       "29     1.014878                 0.473422                -0.669366   \n",
       "\n",
       "    Class_Economy  Class_Economy Plus  Satisfaction_label  \n",
       "0       -0.902608           -0.279499                   1  \n",
       "1       -0.902608           -0.279499                   4  \n",
       "2       -0.902608           -0.279499                   4  \n",
       "3       -0.902608           -0.279499                   4  \n",
       "4       -0.902608           -0.279499                   4  \n",
       "5       -0.902608           -0.279499                   4  \n",
       "6       -0.902608           -0.279499                   4  \n",
       "7       -0.902608           -0.279499                   4  \n",
       "8       -0.902608           -0.279499                   1  \n",
       "9       -0.902608           -0.279499                   4  \n",
       "10      -0.902608           -0.279499                   1  \n",
       "11      -0.902608           -0.279499                   1  \n",
       "12       1.107900           -0.279499                   1  \n",
       "13      -0.902608           -0.279499                   1  \n",
       "14       1.107900           -0.279499                   1  \n",
       "15       1.107900           -0.279499                   1  \n",
       "16       1.107900           -0.279499                   1  \n",
       "17       1.107900           -0.279499                   1  \n",
       "18       1.107900           -0.279499                   1  \n",
       "19       1.107900           -0.279499                   1  \n",
       "20       1.107900           -0.279499                   1  \n",
       "21       1.107900           -0.279499                   1  \n",
       "22       1.107900           -0.279499                   1  \n",
       "23      -0.902608            3.577831                   1  \n",
       "24      -0.902608           -0.279499                   4  \n",
       "25      -0.902608           -0.279499                   4  \n",
       "26      -0.902608           -0.279499                   4  \n",
       "27      -0.902608           -0.279499                   4  \n",
       "28      -0.902608           -0.279499                   4  \n",
       "29      -0.902608           -0.279499                   4  \n",
       "\n",
       "[30 rows x 25 columns]"
      ]
     },
     "execution_count": 1320,
     "metadata": {},
     "output_type": "execute_result"
    }
   ],
   "source": [
    "other_features = ['Gender_Male', 'Customer Type_Returning', 'Type of Travel_Personal', 'Class_Economy', 'Class_Economy Plus']\n",
    "df[quality_features] = ss.fit_transform(df[quality_features])\n",
    "df[other_features] = ss.fit_transform(df[other_features])\n",
    "df.head(30)"
   ]
  },
  {
   "cell_type": "code",
   "execution_count": 1321,
   "id": "c58e0ac9",
   "metadata": {},
   "outputs": [
    {
     "data": {
      "text/plain": [
       "Satisfaction_label\n",
       "4.0    28568\n",
       "3.0    27860\n",
       "0.0    24731\n",
       "1.0    24606\n",
       "2.0    24115\n",
       "Name: count, dtype: int64"
      ]
     },
     "execution_count": 1321,
     "metadata": {},
     "output_type": "execute_result"
    }
   ],
   "source": [
    "for cluster_label in range(5):\n",
    "    cluster = df[df['Satisfaction_label'] == cluster_label + 1]\n",
    "    mask = df_copy['ID'].isin(cluster['ID'])\n",
    "    df_copy.loc[mask, 'Satisfaction_label'] = cluster_label\n",
    "\n",
    "df_copy = pd.get_dummies(df_copy, columns=['Gender','Customer Type', 'Type of Travel', 'Class', ], drop_first=True, dtype=int)\n",
    "df_copy = df_copy.drop(columns=['Satisfaction'])\n",
    "\n",
    "#df = df_copy\n",
    "df_copy.head()\n",
    "df_copy['Satisfaction_label'].value_counts()"
   ]
  },
  {
   "cell_type": "code",
   "execution_count": 1322,
   "id": "2be0d1fe",
   "metadata": {},
   "outputs": [],
   "source": [
    "df = df.drop(columns=['ID'])"
   ]
  },
  {
   "cell_type": "code",
   "execution_count": 1323,
   "id": "8ab8b4da",
   "metadata": {},
   "outputs": [
    {
     "name": "stdout",
     "output_type": "stream",
     "text": [
      "Корреляция признаков с удовлетворением (Satisfaction_label):\n",
      "Satisfaction_label         1.000000\n",
      "Flight Distance            0.309627\n",
      "Customer Type_Returning    0.160343\n",
      "Age                        0.125458\n",
      "Gender_Male                0.009737\n",
      "Departure Delay           -0.053197\n",
      "Arrival Delay             -0.064531\n",
      "Class_Economy Plus        -0.110808\n",
      "Type of Travel_Personal   -0.392077\n",
      "Class_Economy             -0.422798\n",
      "Name: Satisfaction_label, dtype: float64\n"
     ]
    },
    {
     "data": {
      "application/vnd.plotly.v1+json": {
       "config": {
        "plotlyServerURL": "https://plot.ly"
       },
       "data": [
        {
         "coloraxis": "coloraxis",
         "hovertemplate": "x: %{x}<br>y: %{y}<br>color: %{z}<extra></extra>",
         "name": "0",
         "texttemplate": "%{z}",
         "type": "heatmap",
         "x": [
          "Age",
          "Flight Distance",
          "Departure Delay",
          "Arrival Delay",
          "Gender_Male",
          "Customer Type_Returning",
          "Type of Travel_Personal",
          "Class_Economy",
          "Class_Economy Plus",
          "Satisfaction_label"
         ],
         "xaxis": "x",
         "y": [
          "Age",
          "Flight Distance",
          "Departure Delay",
          "Arrival Delay",
          "Gender_Male",
          "Customer Type_Returning",
          "Type of Travel_Personal",
          "Class_Economy",
          "Class_Economy Plus",
          "Satisfaction_label"
         ],
         "yaxis": "y",
         "z": {
          "bdata": "AAAAAAAA8D+amZmZmZm5P3sUrkfheoS/exSuR+F6hL97FK5H4XqEP+xRuB6F69E/exSuR+F6pL+kcD0K16PAv3sUrkfheoS/pHA9CtejwD+amZmZmZm5PwAAAAAAAPA/AAAAAAAAAAAAAAAAAAAAgAAAAAAAAAAAcT0K16NwzT9I4XoUrkfRv5qZmZmZmdm/uB6F61G4vr/Xo3A9CtfTP3sUrkfheoS/AAAAAAAAAAAAAAAAAADwP7gehetRuO4/AAAAAAAAAAAAAAAAAAAAgHsUrkfheoS/exSuR+F6hD8AAAAAAAAAAJqZmZmZmam/exSuR+F6hL8AAAAAAAAAgLgehetRuO4/AAAAAAAA8D8AAAAAAAAAAAAAAAAAAACAexSuR+F6hL97FK5H4XqEP3sUrkfheoQ/uB6F61G4rr97FK5H4XqEPwAAAAAAAAAAAAAAAAAAAAAAAAAAAAAAAAAAAAAAAPA/uB6F61G4nj97FK5H4XqEPwAAAAAAAACAexSuR+F6hL97FK5H4XqEP+xRuB6F69E/cT0K16NwzT8AAAAAAAAAgAAAAAAAAACAuB6F61G4nj8AAAAAAADwP9ejcD0K19M/uB6F61G4vr+4HoXrUbiuP3sUrkfhesQ/exSuR+F6pL9I4XoUrkfRv3sUrkfheoS/exSuR+F6hL97FK5H4XqEP9ejcD0K19M/AAAAAAAA8D8AAAAAAADgP5qZmZmZmbk/9ihcj8L12L+kcD0K16PAv5qZmZmZmdm/exSuR+F6hD97FK5H4XqEPwAAAAAAAACAuB6F61G4vr8AAAAAAADgPwAAAAAAAPA/AAAAAAAA0L/hehSuR+Hav3sUrkfheoS/uB6F61G4vr8AAAAAAAAAAHsUrkfheoQ/exSuR+F6hL+4HoXrUbiuP5qZmZmZmbk/AAAAAAAA0L8AAAAAAADwPylcj8L1KLy/pHA9CtejwD/Xo3A9CtfTP5qZmZmZmam/uB6F61G4rr97FK5H4XqEP3sUrkfhesQ/9ihcj8L12L/hehSuR+Havylcj8L1KLy/AAAAAAAA8D8=",
          "dtype": "f8",
          "shape": "10, 10"
         }
        }
       ],
       "layout": {
        "coloraxis": {
         "colorscale": [
          [
           0,
           "rgb(5,48,97)"
          ],
          [
           0.1,
           "rgb(33,102,172)"
          ],
          [
           0.2,
           "rgb(67,147,195)"
          ],
          [
           0.3,
           "rgb(146,197,222)"
          ],
          [
           0.4,
           "rgb(209,229,240)"
          ],
          [
           0.5,
           "rgb(247,247,247)"
          ],
          [
           0.6,
           "rgb(253,219,199)"
          ],
          [
           0.7,
           "rgb(244,165,130)"
          ],
          [
           0.8,
           "rgb(214,96,77)"
          ],
          [
           0.9,
           "rgb(178,24,43)"
          ],
          [
           1,
           "rgb(103,0,31)"
          ]
         ]
        },
        "height": 1000,
        "template": {
         "data": {
          "bar": [
           {
            "error_x": {
             "color": "#2a3f5f"
            },
            "error_y": {
             "color": "#2a3f5f"
            },
            "marker": {
             "line": {
              "color": "#E5ECF6",
              "width": 0.5
             },
             "pattern": {
              "fillmode": "overlay",
              "size": 10,
              "solidity": 0.2
             }
            },
            "type": "bar"
           }
          ],
          "barpolar": [
           {
            "marker": {
             "line": {
              "color": "#E5ECF6",
              "width": 0.5
             },
             "pattern": {
              "fillmode": "overlay",
              "size": 10,
              "solidity": 0.2
             }
            },
            "type": "barpolar"
           }
          ],
          "carpet": [
           {
            "aaxis": {
             "endlinecolor": "#2a3f5f",
             "gridcolor": "white",
             "linecolor": "white",
             "minorgridcolor": "white",
             "startlinecolor": "#2a3f5f"
            },
            "baxis": {
             "endlinecolor": "#2a3f5f",
             "gridcolor": "white",
             "linecolor": "white",
             "minorgridcolor": "white",
             "startlinecolor": "#2a3f5f"
            },
            "type": "carpet"
           }
          ],
          "choropleth": [
           {
            "colorbar": {
             "outlinewidth": 0,
             "ticks": ""
            },
            "type": "choropleth"
           }
          ],
          "contour": [
           {
            "colorbar": {
             "outlinewidth": 0,
             "ticks": ""
            },
            "colorscale": [
             [
              0,
              "#0d0887"
             ],
             [
              0.1111111111111111,
              "#46039f"
             ],
             [
              0.2222222222222222,
              "#7201a8"
             ],
             [
              0.3333333333333333,
              "#9c179e"
             ],
             [
              0.4444444444444444,
              "#bd3786"
             ],
             [
              0.5555555555555556,
              "#d8576b"
             ],
             [
              0.6666666666666666,
              "#ed7953"
             ],
             [
              0.7777777777777778,
              "#fb9f3a"
             ],
             [
              0.8888888888888888,
              "#fdca26"
             ],
             [
              1,
              "#f0f921"
             ]
            ],
            "type": "contour"
           }
          ],
          "contourcarpet": [
           {
            "colorbar": {
             "outlinewidth": 0,
             "ticks": ""
            },
            "type": "contourcarpet"
           }
          ],
          "heatmap": [
           {
            "colorbar": {
             "outlinewidth": 0,
             "ticks": ""
            },
            "colorscale": [
             [
              0,
              "#0d0887"
             ],
             [
              0.1111111111111111,
              "#46039f"
             ],
             [
              0.2222222222222222,
              "#7201a8"
             ],
             [
              0.3333333333333333,
              "#9c179e"
             ],
             [
              0.4444444444444444,
              "#bd3786"
             ],
             [
              0.5555555555555556,
              "#d8576b"
             ],
             [
              0.6666666666666666,
              "#ed7953"
             ],
             [
              0.7777777777777778,
              "#fb9f3a"
             ],
             [
              0.8888888888888888,
              "#fdca26"
             ],
             [
              1,
              "#f0f921"
             ]
            ],
            "type": "heatmap"
           }
          ],
          "histogram": [
           {
            "marker": {
             "pattern": {
              "fillmode": "overlay",
              "size": 10,
              "solidity": 0.2
             }
            },
            "type": "histogram"
           }
          ],
          "histogram2d": [
           {
            "colorbar": {
             "outlinewidth": 0,
             "ticks": ""
            },
            "colorscale": [
             [
              0,
              "#0d0887"
             ],
             [
              0.1111111111111111,
              "#46039f"
             ],
             [
              0.2222222222222222,
              "#7201a8"
             ],
             [
              0.3333333333333333,
              "#9c179e"
             ],
             [
              0.4444444444444444,
              "#bd3786"
             ],
             [
              0.5555555555555556,
              "#d8576b"
             ],
             [
              0.6666666666666666,
              "#ed7953"
             ],
             [
              0.7777777777777778,
              "#fb9f3a"
             ],
             [
              0.8888888888888888,
              "#fdca26"
             ],
             [
              1,
              "#f0f921"
             ]
            ],
            "type": "histogram2d"
           }
          ],
          "histogram2dcontour": [
           {
            "colorbar": {
             "outlinewidth": 0,
             "ticks": ""
            },
            "colorscale": [
             [
              0,
              "#0d0887"
             ],
             [
              0.1111111111111111,
              "#46039f"
             ],
             [
              0.2222222222222222,
              "#7201a8"
             ],
             [
              0.3333333333333333,
              "#9c179e"
             ],
             [
              0.4444444444444444,
              "#bd3786"
             ],
             [
              0.5555555555555556,
              "#d8576b"
             ],
             [
              0.6666666666666666,
              "#ed7953"
             ],
             [
              0.7777777777777778,
              "#fb9f3a"
             ],
             [
              0.8888888888888888,
              "#fdca26"
             ],
             [
              1,
              "#f0f921"
             ]
            ],
            "type": "histogram2dcontour"
           }
          ],
          "mesh3d": [
           {
            "colorbar": {
             "outlinewidth": 0,
             "ticks": ""
            },
            "type": "mesh3d"
           }
          ],
          "parcoords": [
           {
            "line": {
             "colorbar": {
              "outlinewidth": 0,
              "ticks": ""
             }
            },
            "type": "parcoords"
           }
          ],
          "pie": [
           {
            "automargin": true,
            "type": "pie"
           }
          ],
          "scatter": [
           {
            "fillpattern": {
             "fillmode": "overlay",
             "size": 10,
             "solidity": 0.2
            },
            "type": "scatter"
           }
          ],
          "scatter3d": [
           {
            "line": {
             "colorbar": {
              "outlinewidth": 0,
              "ticks": ""
             }
            },
            "marker": {
             "colorbar": {
              "outlinewidth": 0,
              "ticks": ""
             }
            },
            "type": "scatter3d"
           }
          ],
          "scattercarpet": [
           {
            "marker": {
             "colorbar": {
              "outlinewidth": 0,
              "ticks": ""
             }
            },
            "type": "scattercarpet"
           }
          ],
          "scattergeo": [
           {
            "marker": {
             "colorbar": {
              "outlinewidth": 0,
              "ticks": ""
             }
            },
            "type": "scattergeo"
           }
          ],
          "scattergl": [
           {
            "marker": {
             "colorbar": {
              "outlinewidth": 0,
              "ticks": ""
             }
            },
            "type": "scattergl"
           }
          ],
          "scattermap": [
           {
            "marker": {
             "colorbar": {
              "outlinewidth": 0,
              "ticks": ""
             }
            },
            "type": "scattermap"
           }
          ],
          "scattermapbox": [
           {
            "marker": {
             "colorbar": {
              "outlinewidth": 0,
              "ticks": ""
             }
            },
            "type": "scattermapbox"
           }
          ],
          "scatterpolar": [
           {
            "marker": {
             "colorbar": {
              "outlinewidth": 0,
              "ticks": ""
             }
            },
            "type": "scatterpolar"
           }
          ],
          "scatterpolargl": [
           {
            "marker": {
             "colorbar": {
              "outlinewidth": 0,
              "ticks": ""
             }
            },
            "type": "scatterpolargl"
           }
          ],
          "scatterternary": [
           {
            "marker": {
             "colorbar": {
              "outlinewidth": 0,
              "ticks": ""
             }
            },
            "type": "scatterternary"
           }
          ],
          "surface": [
           {
            "colorbar": {
             "outlinewidth": 0,
             "ticks": ""
            },
            "colorscale": [
             [
              0,
              "#0d0887"
             ],
             [
              0.1111111111111111,
              "#46039f"
             ],
             [
              0.2222222222222222,
              "#7201a8"
             ],
             [
              0.3333333333333333,
              "#9c179e"
             ],
             [
              0.4444444444444444,
              "#bd3786"
             ],
             [
              0.5555555555555556,
              "#d8576b"
             ],
             [
              0.6666666666666666,
              "#ed7953"
             ],
             [
              0.7777777777777778,
              "#fb9f3a"
             ],
             [
              0.8888888888888888,
              "#fdca26"
             ],
             [
              1,
              "#f0f921"
             ]
            ],
            "type": "surface"
           }
          ],
          "table": [
           {
            "cells": {
             "fill": {
              "color": "#EBF0F8"
             },
             "line": {
              "color": "white"
             }
            },
            "header": {
             "fill": {
              "color": "#C8D4E3"
             },
             "line": {
              "color": "white"
             }
            },
            "type": "table"
           }
          ]
         },
         "layout": {
          "annotationdefaults": {
           "arrowcolor": "#2a3f5f",
           "arrowhead": 0,
           "arrowwidth": 1
          },
          "autotypenumbers": "strict",
          "coloraxis": {
           "colorbar": {
            "outlinewidth": 0,
            "ticks": ""
           }
          },
          "colorscale": {
           "diverging": [
            [
             0,
             "#8e0152"
            ],
            [
             0.1,
             "#c51b7d"
            ],
            [
             0.2,
             "#de77ae"
            ],
            [
             0.3,
             "#f1b6da"
            ],
            [
             0.4,
             "#fde0ef"
            ],
            [
             0.5,
             "#f7f7f7"
            ],
            [
             0.6,
             "#e6f5d0"
            ],
            [
             0.7,
             "#b8e186"
            ],
            [
             0.8,
             "#7fbc41"
            ],
            [
             0.9,
             "#4d9221"
            ],
            [
             1,
             "#276419"
            ]
           ],
           "sequential": [
            [
             0,
             "#0d0887"
            ],
            [
             0.1111111111111111,
             "#46039f"
            ],
            [
             0.2222222222222222,
             "#7201a8"
            ],
            [
             0.3333333333333333,
             "#9c179e"
            ],
            [
             0.4444444444444444,
             "#bd3786"
            ],
            [
             0.5555555555555556,
             "#d8576b"
            ],
            [
             0.6666666666666666,
             "#ed7953"
            ],
            [
             0.7777777777777778,
             "#fb9f3a"
            ],
            [
             0.8888888888888888,
             "#fdca26"
            ],
            [
             1,
             "#f0f921"
            ]
           ],
           "sequentialminus": [
            [
             0,
             "#0d0887"
            ],
            [
             0.1111111111111111,
             "#46039f"
            ],
            [
             0.2222222222222222,
             "#7201a8"
            ],
            [
             0.3333333333333333,
             "#9c179e"
            ],
            [
             0.4444444444444444,
             "#bd3786"
            ],
            [
             0.5555555555555556,
             "#d8576b"
            ],
            [
             0.6666666666666666,
             "#ed7953"
            ],
            [
             0.7777777777777778,
             "#fb9f3a"
            ],
            [
             0.8888888888888888,
             "#fdca26"
            ],
            [
             1,
             "#f0f921"
            ]
           ]
          },
          "colorway": [
           "#636efa",
           "#EF553B",
           "#00cc96",
           "#ab63fa",
           "#FFA15A",
           "#19d3f3",
           "#FF6692",
           "#B6E880",
           "#FF97FF",
           "#FECB52"
          ],
          "font": {
           "color": "#2a3f5f"
          },
          "geo": {
           "bgcolor": "white",
           "lakecolor": "white",
           "landcolor": "#E5ECF6",
           "showlakes": true,
           "showland": true,
           "subunitcolor": "white"
          },
          "hoverlabel": {
           "align": "left"
          },
          "hovermode": "closest",
          "mapbox": {
           "style": "light"
          },
          "paper_bgcolor": "white",
          "plot_bgcolor": "#E5ECF6",
          "polar": {
           "angularaxis": {
            "gridcolor": "white",
            "linecolor": "white",
            "ticks": ""
           },
           "bgcolor": "#E5ECF6",
           "radialaxis": {
            "gridcolor": "white",
            "linecolor": "white",
            "ticks": ""
           }
          },
          "scene": {
           "xaxis": {
            "backgroundcolor": "#E5ECF6",
            "gridcolor": "white",
            "gridwidth": 2,
            "linecolor": "white",
            "showbackground": true,
            "ticks": "",
            "zerolinecolor": "white"
           },
           "yaxis": {
            "backgroundcolor": "#E5ECF6",
            "gridcolor": "white",
            "gridwidth": 2,
            "linecolor": "white",
            "showbackground": true,
            "ticks": "",
            "zerolinecolor": "white"
           },
           "zaxis": {
            "backgroundcolor": "#E5ECF6",
            "gridcolor": "white",
            "gridwidth": 2,
            "linecolor": "white",
            "showbackground": true,
            "ticks": "",
            "zerolinecolor": "white"
           }
          },
          "shapedefaults": {
           "line": {
            "color": "#2a3f5f"
           }
          },
          "ternary": {
           "aaxis": {
            "gridcolor": "white",
            "linecolor": "white",
            "ticks": ""
           },
           "baxis": {
            "gridcolor": "white",
            "linecolor": "white",
            "ticks": ""
           },
           "bgcolor": "#E5ECF6",
           "caxis": {
            "gridcolor": "white",
            "linecolor": "white",
            "ticks": ""
           }
          },
          "title": {
           "x": 0.05
          },
          "xaxis": {
           "automargin": true,
           "gridcolor": "white",
           "linecolor": "white",
           "ticks": "",
           "title": {
            "standoff": 15
           },
           "zerolinecolor": "white",
           "zerolinewidth": 2
          },
          "yaxis": {
           "automargin": true,
           "gridcolor": "white",
           "linecolor": "white",
           "ticks": "",
           "title": {
            "standoff": 15
           },
           "zerolinecolor": "white",
           "zerolinewidth": 2
          }
         }
        },
        "title": {
         "text": "Матрица корреляции признаков"
        },
        "width": 1000,
        "xaxis": {
         "anchor": "y",
         "domain": [
          0,
          1
         ]
        },
        "yaxis": {
         "anchor": "x",
         "autorange": "reversed",
         "domain": [
          0,
          1
         ]
        }
       }
      }
     },
     "metadata": {},
     "output_type": "display_data"
    }
   ],
   "source": [
    "import plotly.express as px \n",
    "# Анализ корреляции между признаками и целевой переменной\n",
    "# corr(): вычисляет матрицу корреляции Пирсона между всеми числовыми колонками\n",
    "\n",
    "df_without_quality = df.drop(columns=quality_features)\n",
    "\n",
    "correlation_matrix = df_without_quality.corr()\n",
    "\n",
    "# Сортировка корреляций с целевой переменной MEDV по убыванию\n",
    "# sort_values(ascending=False): сортирует значения по убыванию\n",
    "target_correlation = correlation_matrix['Satisfaction_label'].sort_values(ascending=False)\n",
    "abs_correlation = target_correlation.drop('Satisfaction_label').abs().sort_values(ascending=False)\n",
    "\n",
    "\n",
    "print(\"Корреляция признаков с удовлетворением (Satisfaction_label):\")\n",
    "print(target_correlation)\n",
    "\n",
    "# Тепловая карта корреляций\n",
    "# px.imshow: создает heatmap (тепловую карту)\n",
    "# correlation_matrix.round(2): матрица корреляции, округленная до 2 знаков\n",
    "# color_continuous_scale='RdBu_r': цветовая шкала от синего к красному (reversed)\n",
    "# aspect=\"auto\": автоматическое соотношение сторон\n",
    "# text_auto=True: автоматическое отображение значений в ячейках\n",
    "\n",
    "fig = px.imshow(correlation_matrix.round(2),\n",
    "                title='Матрица корреляции признаков',\n",
    "                aspect=\"auto\",\n",
    "                color_continuous_scale='RdBu_r',\n",
    "                text_auto=True)\n",
    "fig.update_layout(width=1000, height=1000)  # Размер графика\n",
    "fig.show()"
   ]
  },
  {
   "cell_type": "markdown",
   "id": "bb47ebdb",
   "metadata": {},
   "source": [
    "Вывод: в целом на эти показатели компания повлиять не может. В принципе очевидно, что :\n",
    "1. Бизнес-класс, который чаще используется для бизнес-путешествий, имеет более положительные отзывы\n",
    "Интересно, что имеется не нулевая корреляция с расстоянием.\n",
    "\n",
    "Также интересно, что пол и задержка рейса практически не влияют на оценку"
   ]
  },
  {
   "cell_type": "markdown",
   "id": "ab8634ad",
   "metadata": {},
   "source": [
    "Показатели, на которые компания может повлиять"
   ]
  },
  {
   "cell_type": "markdown",
   "id": "c3ede3a4",
   "metadata": {},
   "source": [
    "Общая матрица корреляции"
   ]
  },
  {
   "cell_type": "code",
   "execution_count": 1324,
   "id": "7e574c09",
   "metadata": {},
   "outputs": [
    {
     "name": "stdout",
     "output_type": "stream",
     "text": [
      "Корреляция признаков с удовлетворением (Satisfaction_label):\n",
      "Satisfaction_label                        1.000000\n",
      "Online Boarding                           0.458732\n",
      "In-flight Entertainment                   0.345631\n",
      "Seat Comfort                              0.324133\n",
      "On-board Service                          0.302581\n",
      "Leg Room Service                          0.288973\n",
      "Cleanliness                               0.277311\n",
      "In-flight Service                         0.242885\n",
      "Baggage Handling                          0.242186\n",
      "Check-in Service                          0.238670\n",
      "In-flight Wifi Service                    0.237106\n",
      "Food and Drink                            0.182358\n",
      "Ease of Online Booking                    0.151139\n",
      "Gate Location                            -0.002045\n",
      "Departure and Arrival Time Convenience   -0.048012\n",
      "Name: Satisfaction_label, dtype: float64\n"
     ]
    },
    {
     "name": "stderr",
     "output_type": "stream",
     "text": [
      "C:\\Users\\akaku\\AppData\\Local\\Temp\\ipykernel_18428\\3262442921.py:2: SettingWithCopyWarning:\n",
      "\n",
      "\n",
      "A value is trying to be set on a copy of a slice from a DataFrame.\n",
      "Try using .loc[row_indexer,col_indexer] = value instead\n",
      "\n",
      "See the caveats in the documentation: https://pandas.pydata.org/pandas-docs/stable/user_guide/indexing.html#returning-a-view-versus-a-copy\n",
      "\n"
     ]
    },
    {
     "data": {
      "application/vnd.plotly.v1+json": {
       "config": {
        "plotlyServerURL": "https://plot.ly"
       },
       "data": [
        {
         "coloraxis": "coloraxis",
         "hovertemplate": "x: %{x}<br>y: %{y}<br>color: %{z}<extra></extra>",
         "name": "0",
         "texttemplate": "%{z}",
         "type": "heatmap",
         "x": [
          "Departure and Arrival Time Convenience",
          "Ease of Online Booking",
          "Check-in Service",
          "Online Boarding",
          "Gate Location",
          "On-board Service",
          "Seat Comfort",
          "Leg Room Service",
          "Cleanliness",
          "Food and Drink",
          "In-flight Service",
          "In-flight Wifi Service",
          "In-flight Entertainment",
          "Baggage Handling",
          "Satisfaction_label"
         ],
         "xaxis": "x",
         "y": [
          "Departure and Arrival Time Convenience",
          "Ease of Online Booking",
          "Check-in Service",
          "Online Boarding",
          "Gate Location",
          "On-board Service",
          "Seat Comfort",
          "Leg Room Service",
          "Cleanliness",
          "Food and Drink",
          "In-flight Service",
          "In-flight Wifi Service",
          "In-flight Entertainment",
          "Baggage Handling",
          "Satisfaction_label"
         ],
         "yaxis": "y",
         "z": {
          "bdata": "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",
          "dtype": "f8",
          "shape": "15, 15"
         }
        }
       ],
       "layout": {
        "coloraxis": {
         "colorscale": [
          [
           0,
           "rgb(5,48,97)"
          ],
          [
           0.1,
           "rgb(33,102,172)"
          ],
          [
           0.2,
           "rgb(67,147,195)"
          ],
          [
           0.3,
           "rgb(146,197,222)"
          ],
          [
           0.4,
           "rgb(209,229,240)"
          ],
          [
           0.5,
           "rgb(247,247,247)"
          ],
          [
           0.6,
           "rgb(253,219,199)"
          ],
          [
           0.7,
           "rgb(244,165,130)"
          ],
          [
           0.8,
           "rgb(214,96,77)"
          ],
          [
           0.9,
           "rgb(178,24,43)"
          ],
          [
           1,
           "rgb(103,0,31)"
          ]
         ]
        },
        "height": 1000,
        "template": {
         "data": {
          "bar": [
           {
            "error_x": {
             "color": "#2a3f5f"
            },
            "error_y": {
             "color": "#2a3f5f"
            },
            "marker": {
             "line": {
              "color": "#E5ECF6",
              "width": 0.5
             },
             "pattern": {
              "fillmode": "overlay",
              "size": 10,
              "solidity": 0.2
             }
            },
            "type": "bar"
           }
          ],
          "barpolar": [
           {
            "marker": {
             "line": {
              "color": "#E5ECF6",
              "width": 0.5
             },
             "pattern": {
              "fillmode": "overlay",
              "size": 10,
              "solidity": 0.2
             }
            },
            "type": "barpolar"
           }
          ],
          "carpet": [
           {
            "aaxis": {
             "endlinecolor": "#2a3f5f",
             "gridcolor": "white",
             "linecolor": "white",
             "minorgridcolor": "white",
             "startlinecolor": "#2a3f5f"
            },
            "baxis": {
             "endlinecolor": "#2a3f5f",
             "gridcolor": "white",
             "linecolor": "white",
             "minorgridcolor": "white",
             "startlinecolor": "#2a3f5f"
            },
            "type": "carpet"
           }
          ],
          "choropleth": [
           {
            "colorbar": {
             "outlinewidth": 0,
             "ticks": ""
            },
            "type": "choropleth"
           }
          ],
          "contour": [
           {
            "colorbar": {
             "outlinewidth": 0,
             "ticks": ""
            },
            "colorscale": [
             [
              0,
              "#0d0887"
             ],
             [
              0.1111111111111111,
              "#46039f"
             ],
             [
              0.2222222222222222,
              "#7201a8"
             ],
             [
              0.3333333333333333,
              "#9c179e"
             ],
             [
              0.4444444444444444,
              "#bd3786"
             ],
             [
              0.5555555555555556,
              "#d8576b"
             ],
             [
              0.6666666666666666,
              "#ed7953"
             ],
             [
              0.7777777777777778,
              "#fb9f3a"
             ],
             [
              0.8888888888888888,
              "#fdca26"
             ],
             [
              1,
              "#f0f921"
             ]
            ],
            "type": "contour"
           }
          ],
          "contourcarpet": [
           {
            "colorbar": {
             "outlinewidth": 0,
             "ticks": ""
            },
            "type": "contourcarpet"
           }
          ],
          "heatmap": [
           {
            "colorbar": {
             "outlinewidth": 0,
             "ticks": ""
            },
            "colorscale": [
             [
              0,
              "#0d0887"
             ],
             [
              0.1111111111111111,
              "#46039f"
             ],
             [
              0.2222222222222222,
              "#7201a8"
             ],
             [
              0.3333333333333333,
              "#9c179e"
             ],
             [
              0.4444444444444444,
              "#bd3786"
             ],
             [
              0.5555555555555556,
              "#d8576b"
             ],
             [
              0.6666666666666666,
              "#ed7953"
             ],
             [
              0.7777777777777778,
              "#fb9f3a"
             ],
             [
              0.8888888888888888,
              "#fdca26"
             ],
             [
              1,
              "#f0f921"
             ]
            ],
            "type": "heatmap"
           }
          ],
          "histogram": [
           {
            "marker": {
             "pattern": {
              "fillmode": "overlay",
              "size": 10,
              "solidity": 0.2
             }
            },
            "type": "histogram"
           }
          ],
          "histogram2d": [
           {
            "colorbar": {
             "outlinewidth": 0,
             "ticks": ""
            },
            "colorscale": [
             [
              0,
              "#0d0887"
             ],
             [
              0.1111111111111111,
              "#46039f"
             ],
             [
              0.2222222222222222,
              "#7201a8"
             ],
             [
              0.3333333333333333,
              "#9c179e"
             ],
             [
              0.4444444444444444,
              "#bd3786"
             ],
             [
              0.5555555555555556,
              "#d8576b"
             ],
             [
              0.6666666666666666,
              "#ed7953"
             ],
             [
              0.7777777777777778,
              "#fb9f3a"
             ],
             [
              0.8888888888888888,
              "#fdca26"
             ],
             [
              1,
              "#f0f921"
             ]
            ],
            "type": "histogram2d"
           }
          ],
          "histogram2dcontour": [
           {
            "colorbar": {
             "outlinewidth": 0,
             "ticks": ""
            },
            "colorscale": [
             [
              0,
              "#0d0887"
             ],
             [
              0.1111111111111111,
              "#46039f"
             ],
             [
              0.2222222222222222,
              "#7201a8"
             ],
             [
              0.3333333333333333,
              "#9c179e"
             ],
             [
              0.4444444444444444,
              "#bd3786"
             ],
             [
              0.5555555555555556,
              "#d8576b"
             ],
             [
              0.6666666666666666,
              "#ed7953"
             ],
             [
              0.7777777777777778,
              "#fb9f3a"
             ],
             [
              0.8888888888888888,
              "#fdca26"
             ],
             [
              1,
              "#f0f921"
             ]
            ],
            "type": "histogram2dcontour"
           }
          ],
          "mesh3d": [
           {
            "colorbar": {
             "outlinewidth": 0,
             "ticks": ""
            },
            "type": "mesh3d"
           }
          ],
          "parcoords": [
           {
            "line": {
             "colorbar": {
              "outlinewidth": 0,
              "ticks": ""
             }
            },
            "type": "parcoords"
           }
          ],
          "pie": [
           {
            "automargin": true,
            "type": "pie"
           }
          ],
          "scatter": [
           {
            "fillpattern": {
             "fillmode": "overlay",
             "size": 10,
             "solidity": 0.2
            },
            "type": "scatter"
           }
          ],
          "scatter3d": [
           {
            "line": {
             "colorbar": {
              "outlinewidth": 0,
              "ticks": ""
             }
            },
            "marker": {
             "colorbar": {
              "outlinewidth": 0,
              "ticks": ""
             }
            },
            "type": "scatter3d"
           }
          ],
          "scattercarpet": [
           {
            "marker": {
             "colorbar": {
              "outlinewidth": 0,
              "ticks": ""
             }
            },
            "type": "scattercarpet"
           }
          ],
          "scattergeo": [
           {
            "marker": {
             "colorbar": {
              "outlinewidth": 0,
              "ticks": ""
             }
            },
            "type": "scattergeo"
           }
          ],
          "scattergl": [
           {
            "marker": {
             "colorbar": {
              "outlinewidth": 0,
              "ticks": ""
             }
            },
            "type": "scattergl"
           }
          ],
          "scattermap": [
           {
            "marker": {
             "colorbar": {
              "outlinewidth": 0,
              "ticks": ""
             }
            },
            "type": "scattermap"
           }
          ],
          "scattermapbox": [
           {
            "marker": {
             "colorbar": {
              "outlinewidth": 0,
              "ticks": ""
             }
            },
            "type": "scattermapbox"
           }
          ],
          "scatterpolar": [
           {
            "marker": {
             "colorbar": {
              "outlinewidth": 0,
              "ticks": ""
             }
            },
            "type": "scatterpolar"
           }
          ],
          "scatterpolargl": [
           {
            "marker": {
             "colorbar": {
              "outlinewidth": 0,
              "ticks": ""
             }
            },
            "type": "scatterpolargl"
           }
          ],
          "scatterternary": [
           {
            "marker": {
             "colorbar": {
              "outlinewidth": 0,
              "ticks": ""
             }
            },
            "type": "scatterternary"
           }
          ],
          "surface": [
           {
            "colorbar": {
             "outlinewidth": 0,
             "ticks": ""
            },
            "colorscale": [
             [
              0,
              "#0d0887"
             ],
             [
              0.1111111111111111,
              "#46039f"
             ],
             [
              0.2222222222222222,
              "#7201a8"
             ],
             [
              0.3333333333333333,
              "#9c179e"
             ],
             [
              0.4444444444444444,
              "#bd3786"
             ],
             [
              0.5555555555555556,
              "#d8576b"
             ],
             [
              0.6666666666666666,
              "#ed7953"
             ],
             [
              0.7777777777777778,
              "#fb9f3a"
             ],
             [
              0.8888888888888888,
              "#fdca26"
             ],
             [
              1,
              "#f0f921"
             ]
            ],
            "type": "surface"
           }
          ],
          "table": [
           {
            "cells": {
             "fill": {
              "color": "#EBF0F8"
             },
             "line": {
              "color": "white"
             }
            },
            "header": {
             "fill": {
              "color": "#C8D4E3"
             },
             "line": {
              "color": "white"
             }
            },
            "type": "table"
           }
          ]
         },
         "layout": {
          "annotationdefaults": {
           "arrowcolor": "#2a3f5f",
           "arrowhead": 0,
           "arrowwidth": 1
          },
          "autotypenumbers": "strict",
          "coloraxis": {
           "colorbar": {
            "outlinewidth": 0,
            "ticks": ""
           }
          },
          "colorscale": {
           "diverging": [
            [
             0,
             "#8e0152"
            ],
            [
             0.1,
             "#c51b7d"
            ],
            [
             0.2,
             "#de77ae"
            ],
            [
             0.3,
             "#f1b6da"
            ],
            [
             0.4,
             "#fde0ef"
            ],
            [
             0.5,
             "#f7f7f7"
            ],
            [
             0.6,
             "#e6f5d0"
            ],
            [
             0.7,
             "#b8e186"
            ],
            [
             0.8,
             "#7fbc41"
            ],
            [
             0.9,
             "#4d9221"
            ],
            [
             1,
             "#276419"
            ]
           ],
           "sequential": [
            [
             0,
             "#0d0887"
            ],
            [
             0.1111111111111111,
             "#46039f"
            ],
            [
             0.2222222222222222,
             "#7201a8"
            ],
            [
             0.3333333333333333,
             "#9c179e"
            ],
            [
             0.4444444444444444,
             "#bd3786"
            ],
            [
             0.5555555555555556,
             "#d8576b"
            ],
            [
             0.6666666666666666,
             "#ed7953"
            ],
            [
             0.7777777777777778,
             "#fb9f3a"
            ],
            [
             0.8888888888888888,
             "#fdca26"
            ],
            [
             1,
             "#f0f921"
            ]
           ],
           "sequentialminus": [
            [
             0,
             "#0d0887"
            ],
            [
             0.1111111111111111,
             "#46039f"
            ],
            [
             0.2222222222222222,
             "#7201a8"
            ],
            [
             0.3333333333333333,
             "#9c179e"
            ],
            [
             0.4444444444444444,
             "#bd3786"
            ],
            [
             0.5555555555555556,
             "#d8576b"
            ],
            [
             0.6666666666666666,
             "#ed7953"
            ],
            [
             0.7777777777777778,
             "#fb9f3a"
            ],
            [
             0.8888888888888888,
             "#fdca26"
            ],
            [
             1,
             "#f0f921"
            ]
           ]
          },
          "colorway": [
           "#636efa",
           "#EF553B",
           "#00cc96",
           "#ab63fa",
           "#FFA15A",
           "#19d3f3",
           "#FF6692",
           "#B6E880",
           "#FF97FF",
           "#FECB52"
          ],
          "font": {
           "color": "#2a3f5f"
          },
          "geo": {
           "bgcolor": "white",
           "lakecolor": "white",
           "landcolor": "#E5ECF6",
           "showlakes": true,
           "showland": true,
           "subunitcolor": "white"
          },
          "hoverlabel": {
           "align": "left"
          },
          "hovermode": "closest",
          "mapbox": {
           "style": "light"
          },
          "paper_bgcolor": "white",
          "plot_bgcolor": "#E5ECF6",
          "polar": {
           "angularaxis": {
            "gridcolor": "white",
            "linecolor": "white",
            "ticks": ""
           },
           "bgcolor": "#E5ECF6",
           "radialaxis": {
            "gridcolor": "white",
            "linecolor": "white",
            "ticks": ""
           }
          },
          "scene": {
           "xaxis": {
            "backgroundcolor": "#E5ECF6",
            "gridcolor": "white",
            "gridwidth": 2,
            "linecolor": "white",
            "showbackground": true,
            "ticks": "",
            "zerolinecolor": "white"
           },
           "yaxis": {
            "backgroundcolor": "#E5ECF6",
            "gridcolor": "white",
            "gridwidth": 2,
            "linecolor": "white",
            "showbackground": true,
            "ticks": "",
            "zerolinecolor": "white"
           },
           "zaxis": {
            "backgroundcolor": "#E5ECF6",
            "gridcolor": "white",
            "gridwidth": 2,
            "linecolor": "white",
            "showbackground": true,
            "ticks": "",
            "zerolinecolor": "white"
           }
          },
          "shapedefaults": {
           "line": {
            "color": "#2a3f5f"
           }
          },
          "ternary": {
           "aaxis": {
            "gridcolor": "white",
            "linecolor": "white",
            "ticks": ""
           },
           "baxis": {
            "gridcolor": "white",
            "linecolor": "white",
            "ticks": ""
           },
           "bgcolor": "#E5ECF6",
           "caxis": {
            "gridcolor": "white",
            "linecolor": "white",
            "ticks": ""
           }
          },
          "title": {
           "x": 0.05
          },
          "xaxis": {
           "automargin": true,
           "gridcolor": "white",
           "linecolor": "white",
           "ticks": "",
           "title": {
            "standoff": 15
           },
           "zerolinecolor": "white",
           "zerolinewidth": 2
          },
          "yaxis": {
           "automargin": true,
           "gridcolor": "white",
           "linecolor": "white",
           "ticks": "",
           "title": {
            "standoff": 15
           },
           "zerolinecolor": "white",
           "zerolinewidth": 2
          }
         }
        },
        "title": {
         "text": "Матрица корреляции признаков"
        },
        "width": 1000,
        "xaxis": {
         "anchor": "y",
         "domain": [
          0,
          1
         ]
        },
        "yaxis": {
         "anchor": "x",
         "autorange": "reversed",
         "domain": [
          0,
          1
         ]
        }
       }
      }
     },
     "metadata": {},
     "output_type": "display_data"
    }
   ],
   "source": [
    "df_quality = df[quality_features]\n",
    "df_quality['Satisfaction_label'] = df['Satisfaction_label']\n",
    "df_quality.head(10)\n",
    "correlation_matrix = df_quality.corr()\n",
    "\n",
    "# Сортировка корреляций с целевой переменной MEDV по убыванию\n",
    "# sort_values(ascending=False): сортирует значения по убыванию\n",
    "target_correlation = correlation_matrix['Satisfaction_label'].sort_values(ascending=False)\n",
    "abs_correlation = target_correlation.drop('Satisfaction_label').abs().sort_values(ascending=False)\n",
    "\n",
    "\n",
    "print(\"Корреляция признаков с удовлетворением (Satisfaction_label):\")\n",
    "print(target_correlation)\n",
    "\n",
    "# Тепловая карта корреляций\n",
    "# px.imshow: создает heatmap (тепловую карту)\n",
    "# correlation_matrix.round(2): матрица корреляции, округленная до 2 знаков\n",
    "# color_continuous_scale='RdBu_r': цветовая шкала от синего к красному (reversed)\n",
    "# aspect=\"auto\": автоматическое соотношение сторон\n",
    "# text_auto=True: автоматическое отображение значений в ячейках\n",
    "\n",
    "fig = px.imshow(correlation_matrix.round(2),\n",
    "                title='Матрица корреляции признаков',\n",
    "                aspect=\"auto\",\n",
    "                color_continuous_scale='RdBu_r',\n",
    "                text_auto=True)\n",
    "fig.update_layout(width=1000, height=1000)  # Размер графика\n",
    "fig.show()"
   ]
  },
  {
   "cell_type": "code",
   "execution_count": 1325,
   "id": "70d3c420",
   "metadata": {},
   "outputs": [
    {
     "name": "stderr",
     "output_type": "stream",
     "text": [
      "C:\\Users\\akaku\\AppData\\Local\\Temp\\ipykernel_18428\\1178991081.py:8: FutureWarning:\n",
      "\n",
      "\n",
      "\n",
      "Passing `palette` without assigning `hue` is deprecated and will be removed in v0.14.0. Assign the `x` variable to `hue` and set `legend=False` for the same effect.\n",
      "\n",
      "\n",
      "C:\\Users\\akaku\\AppData\\Local\\Temp\\ipykernel_18428\\1178991081.py:8: FutureWarning:\n",
      "\n",
      "\n",
      "\n",
      "Passing `palette` without assigning `hue` is deprecated and will be removed in v0.14.0. Assign the `x` variable to `hue` and set `legend=False` for the same effect.\n",
      "\n",
      "\n",
      "C:\\Users\\akaku\\AppData\\Local\\Temp\\ipykernel_18428\\1178991081.py:8: FutureWarning:\n",
      "\n",
      "\n",
      "\n",
      "Passing `palette` without assigning `hue` is deprecated and will be removed in v0.14.0. Assign the `x` variable to `hue` and set `legend=False` for the same effect.\n",
      "\n",
      "\n",
      "C:\\Users\\akaku\\AppData\\Local\\Temp\\ipykernel_18428\\1178991081.py:8: FutureWarning:\n",
      "\n",
      "\n",
      "\n",
      "Passing `palette` without assigning `hue` is deprecated and will be removed in v0.14.0. Assign the `x` variable to `hue` and set `legend=False` for the same effect.\n",
      "\n",
      "\n",
      "C:\\Users\\akaku\\AppData\\Local\\Temp\\ipykernel_18428\\1178991081.py:8: FutureWarning:\n",
      "\n",
      "\n",
      "\n",
      "Passing `palette` without assigning `hue` is deprecated and will be removed in v0.14.0. Assign the `x` variable to `hue` and set `legend=False` for the same effect.\n",
      "\n",
      "\n",
      "C:\\Users\\akaku\\AppData\\Local\\Temp\\ipykernel_18428\\1178991081.py:8: FutureWarning:\n",
      "\n",
      "\n",
      "\n",
      "Passing `palette` without assigning `hue` is deprecated and will be removed in v0.14.0. Assign the `x` variable to `hue` and set `legend=False` for the same effect.\n",
      "\n",
      "\n",
      "C:\\Users\\akaku\\AppData\\Local\\Temp\\ipykernel_18428\\1178991081.py:8: FutureWarning:\n",
      "\n",
      "\n",
      "\n",
      "Passing `palette` without assigning `hue` is deprecated and will be removed in v0.14.0. Assign the `x` variable to `hue` and set `legend=False` for the same effect.\n",
      "\n",
      "\n",
      "C:\\Users\\akaku\\AppData\\Local\\Temp\\ipykernel_18428\\1178991081.py:8: FutureWarning:\n",
      "\n",
      "\n",
      "\n",
      "Passing `palette` without assigning `hue` is deprecated and will be removed in v0.14.0. Assign the `x` variable to `hue` and set `legend=False` for the same effect.\n",
      "\n",
      "\n",
      "C:\\Users\\akaku\\AppData\\Local\\Temp\\ipykernel_18428\\1178991081.py:8: FutureWarning:\n",
      "\n",
      "\n",
      "\n",
      "Passing `palette` without assigning `hue` is deprecated and will be removed in v0.14.0. Assign the `x` variable to `hue` and set `legend=False` for the same effect.\n",
      "\n",
      "\n",
      "C:\\Users\\akaku\\AppData\\Local\\Temp\\ipykernel_18428\\1178991081.py:8: FutureWarning:\n",
      "\n",
      "\n",
      "\n",
      "Passing `palette` without assigning `hue` is deprecated and will be removed in v0.14.0. Assign the `x` variable to `hue` and set `legend=False` for the same effect.\n",
      "\n",
      "\n",
      "C:\\Users\\akaku\\AppData\\Local\\Temp\\ipykernel_18428\\1178991081.py:8: FutureWarning:\n",
      "\n",
      "\n",
      "\n",
      "Passing `palette` without assigning `hue` is deprecated and will be removed in v0.14.0. Assign the `x` variable to `hue` and set `legend=False` for the same effect.\n",
      "\n",
      "\n",
      "C:\\Users\\akaku\\AppData\\Local\\Temp\\ipykernel_18428\\1178991081.py:8: FutureWarning:\n",
      "\n",
      "\n",
      "\n",
      "Passing `palette` without assigning `hue` is deprecated and will be removed in v0.14.0. Assign the `x` variable to `hue` and set `legend=False` for the same effect.\n",
      "\n",
      "\n",
      "C:\\Users\\akaku\\AppData\\Local\\Temp\\ipykernel_18428\\1178991081.py:8: FutureWarning:\n",
      "\n",
      "\n",
      "\n",
      "Passing `palette` without assigning `hue` is deprecated and will be removed in v0.14.0. Assign the `x` variable to `hue` and set `legend=False` for the same effect.\n",
      "\n",
      "\n",
      "C:\\Users\\akaku\\AppData\\Local\\Temp\\ipykernel_18428\\1178991081.py:8: FutureWarning:\n",
      "\n",
      "\n",
      "\n",
      "Passing `palette` without assigning `hue` is deprecated and will be removed in v0.14.0. Assign the `x` variable to `hue` and set `legend=False` for the same effect.\n",
      "\n",
      "\n"
     ]
    },
    {
     "data": {
      "image/png": "[encoded data removed]",
      "text/plain": [
       "<Figure size 1800x1200 with 14 Axes>"
      ]
     },
     "metadata": {},
     "output_type": "display_data"
    }
   ],
   "source": [
    "\n",
    "\n",
    "# Создаем сетку графиков\n",
    "fig, axes = plt.subplots(3, 5, figsize=(18, 12))\n",
    "axes = axes.flatten()\n",
    "\n",
    "for i, col in enumerate(quality_features):\n",
    "    if i < len(axes):\n",
    "        # Используем seaborn barplot\n",
    "        sns.barplot(data=df, x='Satisfaction_label', y=col, ax=axes[i], \n",
    "                   estimator='mean', errorbar=None,\n",
    "                   palette=sns.hls_palette(5, l=0.6, s=0.8))\n",
    "        \n",
    "        axes[i].set_title(f'Среднее {col} по Satisfaction_label')\n",
    "        axes[i].set_ylabel(f'Среднее {col}')\n",
    "        \n",
    "        # Добавляем значения на столбцы\n",
    "        for j, patch in enumerate(axes[i].patches):\n",
    "            axes[i].text(patch.get_x() + patch.get_width()/2., \n",
    "                        patch.get_height() + 0.01, \n",
    "                        f'{patch.get_height():.2f}', \n",
    "                        ha='center', va='bottom')\n",
    "\n",
    "# Убираем лишние subplots\n",
    "for i in range(len(quality_features), len(axes)):\n",
    "    fig.delaxes(axes[i])\n",
    "\n",
    "plt.tight_layout()\n",
    "plt.show()"
   ]
  },
  {
   "cell_type": "markdown",
   "id": "3b6a401f",
   "metadata": {},
   "source": [
    "Синий и фиолетовый столбцы относятся к положительным отзывам. Компании стоит уделить внимание тем подсервисам, в которых эти столбцы сильно отличаются. Например, Baggage_Handling. Улучшив этот сервис, можно увеличить количество клиентов с отличными оценками. Кстати, этот же показатель ответствен за переход клиента из отрицательной зоны к нейтральной"
   ]
  },
  {
   "cell_type": "code",
   "execution_count": 1326,
   "id": "ffb4044a",
   "metadata": {},
   "outputs": [
    {
     "data": {
      "text/html": [
       "<div>\n",
       "<style scoped>\n",
       "    .dataframe tbody tr th:only-of-type {\n",
       "        vertical-align: middle;\n",
       "    }\n",
       "\n",
       "    .dataframe tbody tr th {\n",
       "        vertical-align: top;\n",
       "    }\n",
       "\n",
       "    .dataframe thead th {\n",
       "        text-align: right;\n",
       "    }\n",
       "</style>\n",
       "<table border=\"1\" class=\"dataframe\">\n",
       "  <thead>\n",
       "    <tr style=\"text-align: right;\">\n",
       "      <th></th>\n",
       "      <th>Age</th>\n",
       "      <th>Flight Distance</th>\n",
       "      <th>Departure Delay</th>\n",
       "      <th>Arrival Delay</th>\n",
       "      <th>Departure and Arrival Time Convenience</th>\n",
       "      <th>Ease of Online Booking</th>\n",
       "      <th>Check-in Service</th>\n",
       "      <th>Online Boarding</th>\n",
       "      <th>Gate Location</th>\n",
       "      <th>On-board Service</th>\n",
       "      <th>...</th>\n",
       "      <th>Food and Drink</th>\n",
       "      <th>In-flight Service</th>\n",
       "      <th>In-flight Wifi Service</th>\n",
       "      <th>In-flight Entertainment</th>\n",
       "      <th>Baggage Handling</th>\n",
       "      <th>Gender_Male</th>\n",
       "      <th>Customer Type_Returning</th>\n",
       "      <th>Type of Travel_Personal</th>\n",
       "      <th>Class_Economy</th>\n",
       "      <th>Class_Economy Plus</th>\n",
       "    </tr>\n",
       "  </thead>\n",
       "  <tbody>\n",
       "    <tr>\n",
       "      <th>0</th>\n",
       "      <td>48</td>\n",
       "      <td>821</td>\n",
       "      <td>2</td>\n",
       "      <td>5.0</td>\n",
       "      <td>3</td>\n",
       "      <td>3</td>\n",
       "      <td>4</td>\n",
       "      <td>3</td>\n",
       "      <td>3</td>\n",
       "      <td>3</td>\n",
       "      <td>...</td>\n",
       "      <td>5</td>\n",
       "      <td>5</td>\n",
       "      <td>3</td>\n",
       "      <td>5</td>\n",
       "      <td>5</td>\n",
       "      <td>1</td>\n",
       "      <td>0</td>\n",
       "      <td>0</td>\n",
       "      <td>0</td>\n",
       "      <td>0</td>\n",
       "    </tr>\n",
       "    <tr>\n",
       "      <th>1</th>\n",
       "      <td>35</td>\n",
       "      <td>821</td>\n",
       "      <td>26</td>\n",
       "      <td>39.0</td>\n",
       "      <td>2</td>\n",
       "      <td>2</td>\n",
       "      <td>3</td>\n",
       "      <td>5</td>\n",
       "      <td>2</td>\n",
       "      <td>5</td>\n",
       "      <td>...</td>\n",
       "      <td>3</td>\n",
       "      <td>5</td>\n",
       "      <td>2</td>\n",
       "      <td>5</td>\n",
       "      <td>5</td>\n",
       "      <td>0</td>\n",
       "      <td>1</td>\n",
       "      <td>0</td>\n",
       "      <td>0</td>\n",
       "      <td>0</td>\n",
       "    </tr>\n",
       "    <tr>\n",
       "      <th>2</th>\n",
       "      <td>41</td>\n",
       "      <td>853</td>\n",
       "      <td>0</td>\n",
       "      <td>0.0</td>\n",
       "      <td>4</td>\n",
       "      <td>4</td>\n",
       "      <td>4</td>\n",
       "      <td>5</td>\n",
       "      <td>4</td>\n",
       "      <td>3</td>\n",
       "      <td>...</td>\n",
       "      <td>5</td>\n",
       "      <td>3</td>\n",
       "      <td>4</td>\n",
       "      <td>3</td>\n",
       "      <td>3</td>\n",
       "      <td>1</td>\n",
       "      <td>1</td>\n",
       "      <td>0</td>\n",
       "      <td>0</td>\n",
       "      <td>0</td>\n",
       "    </tr>\n",
       "    <tr>\n",
       "      <th>3</th>\n",
       "      <td>50</td>\n",
       "      <td>1905</td>\n",
       "      <td>0</td>\n",
       "      <td>0.0</td>\n",
       "      <td>2</td>\n",
       "      <td>2</td>\n",
       "      <td>3</td>\n",
       "      <td>4</td>\n",
       "      <td>2</td>\n",
       "      <td>5</td>\n",
       "      <td>...</td>\n",
       "      <td>4</td>\n",
       "      <td>5</td>\n",
       "      <td>2</td>\n",
       "      <td>5</td>\n",
       "      <td>5</td>\n",
       "      <td>1</td>\n",
       "      <td>1</td>\n",
       "      <td>0</td>\n",
       "      <td>0</td>\n",
       "      <td>0</td>\n",
       "    </tr>\n",
       "    <tr>\n",
       "      <th>4</th>\n",
       "      <td>49</td>\n",
       "      <td>3470</td>\n",
       "      <td>0</td>\n",
       "      <td>1.0</td>\n",
       "      <td>3</td>\n",
       "      <td>3</td>\n",
       "      <td>3</td>\n",
       "      <td>5</td>\n",
       "      <td>3</td>\n",
       "      <td>3</td>\n",
       "      <td>...</td>\n",
       "      <td>4</td>\n",
       "      <td>3</td>\n",
       "      <td>3</td>\n",
       "      <td>3</td>\n",
       "      <td>3</td>\n",
       "      <td>0</td>\n",
       "      <td>1</td>\n",
       "      <td>0</td>\n",
       "      <td>0</td>\n",
       "      <td>0</td>\n",
       "    </tr>\n",
       "    <tr>\n",
       "      <th>...</th>\n",
       "      <td>...</td>\n",
       "      <td>...</td>\n",
       "      <td>...</td>\n",
       "      <td>...</td>\n",
       "      <td>...</td>\n",
       "      <td>...</td>\n",
       "      <td>...</td>\n",
       "      <td>...</td>\n",
       "      <td>...</td>\n",
       "      <td>...</td>\n",
       "      <td>...</td>\n",
       "      <td>...</td>\n",
       "      <td>...</td>\n",
       "      <td>...</td>\n",
       "      <td>...</td>\n",
       "      <td>...</td>\n",
       "      <td>...</td>\n",
       "      <td>...</td>\n",
       "      <td>...</td>\n",
       "      <td>...</td>\n",
       "      <td>...</td>\n",
       "    </tr>\n",
       "    <tr>\n",
       "      <th>129875</th>\n",
       "      <td>28</td>\n",
       "      <td>447</td>\n",
       "      <td>2</td>\n",
       "      <td>3.0</td>\n",
       "      <td>4</td>\n",
       "      <td>4</td>\n",
       "      <td>4</td>\n",
       "      <td>4</td>\n",
       "      <td>2</td>\n",
       "      <td>5</td>\n",
       "      <td>...</td>\n",
       "      <td>4</td>\n",
       "      <td>5</td>\n",
       "      <td>4</td>\n",
       "      <td>4</td>\n",
       "      <td>4</td>\n",
       "      <td>1</td>\n",
       "      <td>1</td>\n",
       "      <td>1</td>\n",
       "      <td>0</td>\n",
       "      <td>1</td>\n",
       "    </tr>\n",
       "    <tr>\n",
       "      <th>129876</th>\n",
       "      <td>41</td>\n",
       "      <td>308</td>\n",
       "      <td>0</td>\n",
       "      <td>0.0</td>\n",
       "      <td>5</td>\n",
       "      <td>3</td>\n",
       "      <td>5</td>\n",
       "      <td>3</td>\n",
       "      <td>4</td>\n",
       "      <td>5</td>\n",
       "      <td>...</td>\n",
       "      <td>2</td>\n",
       "      <td>4</td>\n",
       "      <td>3</td>\n",
       "      <td>2</td>\n",
       "      <td>5</td>\n",
       "      <td>1</td>\n",
       "      <td>1</td>\n",
       "      <td>1</td>\n",
       "      <td>0</td>\n",
       "      <td>1</td>\n",
       "    </tr>\n",
       "    <tr>\n",
       "      <th>129877</th>\n",
       "      <td>42</td>\n",
       "      <td>337</td>\n",
       "      <td>6</td>\n",
       "      <td>14.0</td>\n",
       "      <td>5</td>\n",
       "      <td>2</td>\n",
       "      <td>4</td>\n",
       "      <td>2</td>\n",
       "      <td>1</td>\n",
       "      <td>3</td>\n",
       "      <td>...</td>\n",
       "      <td>3</td>\n",
       "      <td>4</td>\n",
       "      <td>2</td>\n",
       "      <td>3</td>\n",
       "      <td>5</td>\n",
       "      <td>1</td>\n",
       "      <td>1</td>\n",
       "      <td>1</td>\n",
       "      <td>0</td>\n",
       "      <td>1</td>\n",
       "    </tr>\n",
       "    <tr>\n",
       "      <th>129878</th>\n",
       "      <td>50</td>\n",
       "      <td>337</td>\n",
       "      <td>31</td>\n",
       "      <td>22.0</td>\n",
       "      <td>4</td>\n",
       "      <td>4</td>\n",
       "      <td>3</td>\n",
       "      <td>4</td>\n",
       "      <td>1</td>\n",
       "      <td>4</td>\n",
       "      <td>...</td>\n",
       "      <td>3</td>\n",
       "      <td>4</td>\n",
       "      <td>5</td>\n",
       "      <td>3</td>\n",
       "      <td>5</td>\n",
       "      <td>1</td>\n",
       "      <td>1</td>\n",
       "      <td>1</td>\n",
       "      <td>0</td>\n",
       "      <td>1</td>\n",
       "    </tr>\n",
       "    <tr>\n",
       "      <th>129879</th>\n",
       "      <td>20</td>\n",
       "      <td>337</td>\n",
       "      <td>0</td>\n",
       "      <td>0.0</td>\n",
       "      <td>1</td>\n",
       "      <td>3</td>\n",
       "      <td>4</td>\n",
       "      <td>3</td>\n",
       "      <td>2</td>\n",
       "      <td>4</td>\n",
       "      <td>...</td>\n",
       "      <td>2</td>\n",
       "      <td>2</td>\n",
       "      <td>3</td>\n",
       "      <td>2</td>\n",
       "      <td>1</td>\n",
       "      <td>0</td>\n",
       "      <td>1</td>\n",
       "      <td>1</td>\n",
       "      <td>0</td>\n",
       "      <td>1</td>\n",
       "    </tr>\n",
       "  </tbody>\n",
       "</table>\n",
       "<p>129880 rows × 23 columns</p>\n",
       "</div>"
      ],
      "text/plain": [
       "        Age  Flight Distance  Departure Delay  Arrival Delay  \\\n",
       "0        48              821                2            5.0   \n",
       "1        35              821               26           39.0   \n",
       "2        41              853                0            0.0   \n",
       "3        50             1905                0            0.0   \n",
       "4        49             3470                0            1.0   \n",
       "...     ...              ...              ...            ...   \n",
       "129875   28              447                2            3.0   \n",
       "129876   41              308                0            0.0   \n",
       "129877   42              337                6           14.0   \n",
       "129878   50              337               31           22.0   \n",
       "129879   20              337                0            0.0   \n",
       "\n",
       "        Departure and Arrival Time Convenience  Ease of Online Booking  \\\n",
       "0                                            3                       3   \n",
       "1                                            2                       2   \n",
       "2                                            4                       4   \n",
       "3                                            2                       2   \n",
       "4                                            3                       3   \n",
       "...                                        ...                     ...   \n",
       "129875                                       4                       4   \n",
       "129876                                       5                       3   \n",
       "129877                                       5                       2   \n",
       "129878                                       4                       4   \n",
       "129879                                       1                       3   \n",
       "\n",
       "        Check-in Service  Online Boarding  Gate Location  On-board Service  \\\n",
       "0                      4                3              3                 3   \n",
       "1                      3                5              2                 5   \n",
       "2                      4                5              4                 3   \n",
       "3                      3                4              2                 5   \n",
       "4                      3                5              3                 3   \n",
       "...                  ...              ...            ...               ...   \n",
       "129875                 4                4              2                 5   \n",
       "129876                 5                3              4                 5   \n",
       "129877                 4                2              1                 3   \n",
       "129878                 3                4              1                 4   \n",
       "129879                 4                3              2                 4   \n",
       "\n",
       "        ...  Food and Drink  In-flight Service  In-flight Wifi Service  \\\n",
       "0       ...               5                  5                       3   \n",
       "1       ...               3                  5                       2   \n",
       "2       ...               5                  3                       4   \n",
       "3       ...               4                  5                       2   \n",
       "4       ...               4                  3                       3   \n",
       "...     ...             ...                ...                     ...   \n",
       "129875  ...               4                  5                       4   \n",
       "129876  ...               2                  4                       3   \n",
       "129877  ...               3                  4                       2   \n",
       "129878  ...               3                  4                       5   \n",
       "129879  ...               2                  2                       3   \n",
       "\n",
       "        In-flight Entertainment  Baggage Handling  Gender_Male  \\\n",
       "0                             5                 5            1   \n",
       "1                             5                 5            0   \n",
       "2                             3                 3            1   \n",
       "3                             5                 5            1   \n",
       "4                             3                 3            0   \n",
       "...                         ...               ...          ...   \n",
       "129875                        4                 4            1   \n",
       "129876                        2                 5            1   \n",
       "129877                        3                 5            1   \n",
       "129878                        3                 5            1   \n",
       "129879                        2                 1            0   \n",
       "\n",
       "        Customer Type_Returning  Type of Travel_Personal  Class_Economy  \\\n",
       "0                             0                        0              0   \n",
       "1                             1                        0              0   \n",
       "2                             1                        0              0   \n",
       "3                             1                        0              0   \n",
       "4                             1                        0              0   \n",
       "...                         ...                      ...            ...   \n",
       "129875                        1                        1              0   \n",
       "129876                        1                        1              0   \n",
       "129877                        1                        1              0   \n",
       "129878                        1                        1              0   \n",
       "129879                        1                        1              0   \n",
       "\n",
       "        Class_Economy Plus  \n",
       "0                        0  \n",
       "1                        0  \n",
       "2                        0  \n",
       "3                        0  \n",
       "4                        0  \n",
       "...                    ...  \n",
       "129875                   1  \n",
       "129876                   1  \n",
       "129877                   1  \n",
       "129878                   1  \n",
       "129879                   1  \n",
       "\n",
       "[129880 rows x 23 columns]"
      ]
     },
     "execution_count": 1326,
     "metadata": {},
     "output_type": "execute_result"
    }
   ],
   "source": [
    "df['Satisfaction_label'] = df['Satisfaction_label'] - 1\n",
    "\n",
    "\n",
    "median_value = df_copy['Arrival Delay'].median()\n",
    "\n",
    "# Заполняем NaN медианой\n",
    "df_copy['Arrival Delay'] = df_copy['Arrival Delay'].fillna(median_value)\n",
    "\n",
    "df_copy = df_copy.drop(columns=['ID'])\n",
    "X = df_copy.drop(columns=['Satisfaction_label'])\n",
    "#X = X.drop(columns=quality_features)\n",
    "y = df_copy['Satisfaction_label']\n",
    "X"
   ]
  },
  {
   "cell_type": "code",
   "execution_count": 1327,
   "id": "b9788141",
   "metadata": {},
   "outputs": [
    {
     "name": "stderr",
     "output_type": "stream",
     "text": [
      "c:\\Program Files\\Python313\\Lib\\site-packages\\keras\\src\\layers\\core\\dense.py:92: UserWarning:\n",
      "\n",
      "Do not pass an `input_shape`/`input_dim` argument to a layer. When using Sequential models, prefer using an `Input(shape)` object as the first layer in the model instead.\n",
      "\n"
     ]
    },
    {
     "data": {
      "text/html": [
       "<pre style=\"white-space:pre;overflow-x:auto;line-height:normal;font-family:Menlo,'DejaVu Sans Mono',consolas,'Courier New',monospace\"><span style=\"font-weight: bold\">Model: \"sequential_18\"</span>\n",
       "</pre>\n"
      ],
      "text/plain": [
       "\u001b[1mModel: \"sequential_18\"\u001b[0m\n"
      ]
     },
     "metadata": {},
     "output_type": "display_data"
    },
    {
     "data": {
      "text/html": [
       "<pre style=\"white-space:pre;overflow-x:auto;line-height:normal;font-family:Menlo,'DejaVu Sans Mono',consolas,'Courier New',monospace\">┏━━━━━━━━━━━━━━━━━━━━━━━━━━━━━━━━━┳━━━━━━━━━━━━━━━━━━━━━━━━┳━━━━━━━━━━━━━━━┓\n",
       "┃<span style=\"font-weight: bold\"> Layer (type)                    </span>┃<span style=\"font-weight: bold\"> Output Shape           </span>┃<span style=\"font-weight: bold\">       Param # </span>┃\n",
       "┡━━━━━━━━━━━━━━━━━━━━━━━━━━━━━━━━━╇━━━━━━━━━━━━━━━━━━━━━━━━╇━━━━━━━━━━━━━━━┩\n",
       "│ dense_54 (<span style=\"color: #0087ff; text-decoration-color: #0087ff\">Dense</span>)                │ (<span style=\"color: #00d7ff; text-decoration-color: #00d7ff\">None</span>, <span style=\"color: #00af00; text-decoration-color: #00af00\">16</span>)             │           <span style=\"color: #00af00; text-decoration-color: #00af00\">384</span> │\n",
       "├─────────────────────────────────┼────────────────────────┼───────────────┤\n",
       "│ dense_55 (<span style=\"color: #0087ff; text-decoration-color: #0087ff\">Dense</span>)                │ (<span style=\"color: #00d7ff; text-decoration-color: #00d7ff\">None</span>, <span style=\"color: #00af00; text-decoration-color: #00af00\">4</span>)              │            <span style=\"color: #00af00; text-decoration-color: #00af00\">68</span> │\n",
       "├─────────────────────────────────┼────────────────────────┼───────────────┤\n",
       "│ dense_56 (<span style=\"color: #0087ff; text-decoration-color: #0087ff\">Dense</span>)                │ (<span style=\"color: #00d7ff; text-decoration-color: #00d7ff\">None</span>, <span style=\"color: #00af00; text-decoration-color: #00af00\">5</span>)              │            <span style=\"color: #00af00; text-decoration-color: #00af00\">25</span> │\n",
       "└─────────────────────────────────┴────────────────────────┴───────────────┘\n",
       "</pre>\n"
      ],
      "text/plain": [
       "┏━━━━━━━━━━━━━━━━━━━━━━━━━━━━━━━━━┳━━━━━━━━━━━━━━━━━━━━━━━━┳━━━━━━━━━━━━━━━┓\n",
       "┃\u001b[1m \u001b[0m\u001b[1mLayer (type)                   \u001b[0m\u001b[1m \u001b[0m┃\u001b[1m \u001b[0m\u001b[1mOutput Shape          \u001b[0m\u001b[1m \u001b[0m┃\u001b[1m \u001b[0m\u001b[1m      Param #\u001b[0m\u001b[1m \u001b[0m┃\n",
       "┡━━━━━━━━━━━━━━━━━━━━━━━━━━━━━━━━━╇━━━━━━━━━━━━━━━━━━━━━━━━╇━━━━━━━━━━━━━━━┩\n",
       "│ dense_54 (\u001b[38;5;33mDense\u001b[0m)                │ (\u001b[38;5;45mNone\u001b[0m, \u001b[38;5;34m16\u001b[0m)             │           \u001b[38;5;34m384\u001b[0m │\n",
       "├─────────────────────────────────┼────────────────────────┼───────────────┤\n",
       "│ dense_55 (\u001b[38;5;33mDense\u001b[0m)                │ (\u001b[38;5;45mNone\u001b[0m, \u001b[38;5;34m4\u001b[0m)              │            \u001b[38;5;34m68\u001b[0m │\n",
       "├─────────────────────────────────┼────────────────────────┼───────────────┤\n",
       "│ dense_56 (\u001b[38;5;33mDense\u001b[0m)                │ (\u001b[38;5;45mNone\u001b[0m, \u001b[38;5;34m5\u001b[0m)              │            \u001b[38;5;34m25\u001b[0m │\n",
       "└─────────────────────────────────┴────────────────────────┴───────────────┘\n"
      ]
     },
     "metadata": {},
     "output_type": "display_data"
    },
    {
     "data": {
      "text/html": [
       "<pre style=\"white-space:pre;overflow-x:auto;line-height:normal;font-family:Menlo,'DejaVu Sans Mono',consolas,'Courier New',monospace\"><span style=\"font-weight: bold\"> Total params: </span><span style=\"color: #00af00; text-decoration-color: #00af00\">477</span> (1.86 KB)\n",
       "</pre>\n"
      ],
      "text/plain": [
       "\u001b[1m Total params: \u001b[0m\u001b[38;5;34m477\u001b[0m (1.86 KB)\n"
      ]
     },
     "metadata": {},
     "output_type": "display_data"
    },
    {
     "data": {
      "text/html": [
       "<pre style=\"white-space:pre;overflow-x:auto;line-height:normal;font-family:Menlo,'DejaVu Sans Mono',consolas,'Courier New',monospace\"><span style=\"font-weight: bold\"> Trainable params: </span><span style=\"color: #00af00; text-decoration-color: #00af00\">477</span> (1.86 KB)\n",
       "</pre>\n"
      ],
      "text/plain": [
       "\u001b[1m Trainable params: \u001b[0m\u001b[38;5;34m477\u001b[0m (1.86 KB)\n"
      ]
     },
     "metadata": {},
     "output_type": "display_data"
    },
    {
     "data": {
      "text/html": [
       "<pre style=\"white-space:pre;overflow-x:auto;line-height:normal;font-family:Menlo,'DejaVu Sans Mono',consolas,'Courier New',monospace\"><span style=\"font-weight: bold\"> Non-trainable params: </span><span style=\"color: #00af00; text-decoration-color: #00af00\">0</span> (0.00 B)\n",
       "</pre>\n"
      ],
      "text/plain": [
       "\u001b[1m Non-trainable params: \u001b[0m\u001b[38;5;34m0\u001b[0m (0.00 B)\n"
      ]
     },
     "metadata": {},
     "output_type": "display_data"
    }
   ],
   "source": [
    "from tensorflow.keras.models import Sequential\n",
    "from tensorflow.keras.layers import Dense, Dropout, LeakyReLU\n",
    "import tensorflow\n",
    "import tensorflow.keras\n",
    "from tensorflow.keras.optimizers import SGD\n",
    "\n",
    "\n",
    "tensorflow.random.set_seed(1)\n",
    "\n",
    "num_units_penultimate = 2**2\n",
    "model = Sequential()\n",
    "model.add(Dense(2**4, activation='relu', input_shape=(X.shape[1],)))\n",
    "#model.add(Dropout(.2))\n",
    "model.add(Dense(num_units_penultimate, activation='relu'))\n",
    "#model.add(Dropout(.2))\n",
    "model.add(Dense(5, activation='softmax')) # two classes, else softmax\n",
    "\n",
    "# Compiling the model\n",
    "model.compile(\n",
    "    loss = 'categorical_crossentropy', # 1D labels, else crossentropy or sparse_categorical_crossentropy\n",
    "    optimizer='adam', \n",
    "    metrics=['accuracy']\n",
    ")\n",
    "model.summary()"
   ]
  },
  {
   "cell_type": "code",
   "execution_count": 1328,
   "id": "09ca223a",
   "metadata": {},
   "outputs": [
    {
     "data": {
      "text/html": [
       "<div>\n",
       "<style scoped>\n",
       "    .dataframe tbody tr th:only-of-type {\n",
       "        vertical-align: middle;\n",
       "    }\n",
       "\n",
       "    .dataframe tbody tr th {\n",
       "        vertical-align: top;\n",
       "    }\n",
       "\n",
       "    .dataframe thead th {\n",
       "        text-align: right;\n",
       "    }\n",
       "</style>\n",
       "<table border=\"1\" class=\"dataframe\">\n",
       "  <thead>\n",
       "    <tr style=\"text-align: right;\">\n",
       "      <th></th>\n",
       "      <th>Age</th>\n",
       "      <th>Flight Distance</th>\n",
       "      <th>Departure Delay</th>\n",
       "      <th>Arrival Delay</th>\n",
       "      <th>Departure and Arrival Time Convenience</th>\n",
       "      <th>Ease of Online Booking</th>\n",
       "      <th>Check-in Service</th>\n",
       "      <th>Online Boarding</th>\n",
       "      <th>Gate Location</th>\n",
       "      <th>On-board Service</th>\n",
       "      <th>...</th>\n",
       "      <th>Food and Drink</th>\n",
       "      <th>In-flight Service</th>\n",
       "      <th>In-flight Wifi Service</th>\n",
       "      <th>In-flight Entertainment</th>\n",
       "      <th>Baggage Handling</th>\n",
       "      <th>Gender_Male</th>\n",
       "      <th>Customer Type_Returning</th>\n",
       "      <th>Type of Travel_Personal</th>\n",
       "      <th>Class_Economy</th>\n",
       "      <th>Class_Economy Plus</th>\n",
       "    </tr>\n",
       "  </thead>\n",
       "  <tbody>\n",
       "    <tr>\n",
       "      <th>103044</th>\n",
       "      <td>-1.083592</td>\n",
       "      <td>-0.638592</td>\n",
       "      <td>-0.382127</td>\n",
       "      <td>-0.388583</td>\n",
       "      <td>0.616968</td>\n",
       "      <td>0.171039</td>\n",
       "      <td>0.546261</td>\n",
       "      <td>-0.193084</td>\n",
       "      <td>0.014743</td>\n",
       "      <td>-0.305614</td>\n",
       "      <td>...</td>\n",
       "      <td>-0.899528</td>\n",
       "      <td>-0.559430</td>\n",
       "      <td>0.196712</td>\n",
       "      <td>-1.011580</td>\n",
       "      <td>0.306820</td>\n",
       "      <td>1.017633</td>\n",
       "      <td>-2.10686</td>\n",
       "      <td>-0.670970</td>\n",
       "      <td>1.100671</td>\n",
       "      <td>-0.275621</td>\n",
       "    </tr>\n",
       "    <tr>\n",
       "      <th>43282</th>\n",
       "      <td>-0.092675</td>\n",
       "      <td>-0.653720</td>\n",
       "      <td>-0.382127</td>\n",
       "      <td>-0.388583</td>\n",
       "      <td>-1.356235</td>\n",
       "      <td>-1.261466</td>\n",
       "      <td>-1.032475</td>\n",
       "      <td>1.291245</td>\n",
       "      <td>-1.548387</td>\n",
       "      <td>-1.088515</td>\n",
       "      <td>...</td>\n",
       "      <td>1.351979</td>\n",
       "      <td>-0.559430</td>\n",
       "      <td>1.711396</td>\n",
       "      <td>1.235774</td>\n",
       "      <td>-2.251207</td>\n",
       "      <td>1.017633</td>\n",
       "      <td>0.47464</td>\n",
       "      <td>-0.670970</td>\n",
       "      <td>1.100671</td>\n",
       "      <td>-0.275621</td>\n",
       "    </tr>\n",
       "    <tr>\n",
       "      <th>65543</th>\n",
       "      <td>-0.422981</td>\n",
       "      <td>-0.950236</td>\n",
       "      <td>-0.382127</td>\n",
       "      <td>-0.309366</td>\n",
       "      <td>-0.040767</td>\n",
       "      <td>0.171039</td>\n",
       "      <td>-0.243107</td>\n",
       "      <td>0.549080</td>\n",
       "      <td>0.014743</td>\n",
       "      <td>-0.305614</td>\n",
       "      <td>...</td>\n",
       "      <td>0.601476</td>\n",
       "      <td>1.152504</td>\n",
       "      <td>0.196712</td>\n",
       "      <td>0.486656</td>\n",
       "      <td>0.306820</td>\n",
       "      <td>1.017633</td>\n",
       "      <td>0.47464</td>\n",
       "      <td>-0.670970</td>\n",
       "      <td>-0.908537</td>\n",
       "      <td>-0.275621</td>\n",
       "    </tr>\n",
       "    <tr>\n",
       "      <th>65083</th>\n",
       "      <td>1.889157</td>\n",
       "      <td>-0.963348</td>\n",
       "      <td>-0.382127</td>\n",
       "      <td>-0.388583</td>\n",
       "      <td>-0.040767</td>\n",
       "      <td>0.887292</td>\n",
       "      <td>0.546261</td>\n",
       "      <td>0.549080</td>\n",
       "      <td>-0.766822</td>\n",
       "      <td>-1.088515</td>\n",
       "      <td>...</td>\n",
       "      <td>-1.650030</td>\n",
       "      <td>1.152504</td>\n",
       "      <td>0.954054</td>\n",
       "      <td>-1.760698</td>\n",
       "      <td>-0.545856</td>\n",
       "      <td>1.017633</td>\n",
       "      <td>0.47464</td>\n",
       "      <td>1.490379</td>\n",
       "      <td>1.100671</td>\n",
       "      <td>-0.275621</td>\n",
       "    </tr>\n",
       "    <tr>\n",
       "      <th>76496</th>\n",
       "      <td>-0.819347</td>\n",
       "      <td>-0.668848</td>\n",
       "      <td>-0.196409</td>\n",
       "      <td>-0.388583</td>\n",
       "      <td>1.274702</td>\n",
       "      <td>1.603544</td>\n",
       "      <td>-0.243107</td>\n",
       "      <td>1.291245</td>\n",
       "      <td>-1.548387</td>\n",
       "      <td>0.477288</td>\n",
       "      <td>...</td>\n",
       "      <td>0.601476</td>\n",
       "      <td>1.152504</td>\n",
       "      <td>1.711396</td>\n",
       "      <td>0.486656</td>\n",
       "      <td>0.306820</td>\n",
       "      <td>1.017633</td>\n",
       "      <td>-2.10686</td>\n",
       "      <td>-0.670970</td>\n",
       "      <td>-0.908537</td>\n",
       "      <td>-0.275621</td>\n",
       "    </tr>\n",
       "  </tbody>\n",
       "</table>\n",
       "<p>5 rows × 23 columns</p>\n",
       "</div>"
      ],
      "text/plain": [
       "             Age  Flight Distance  Departure Delay  Arrival Delay  \\\n",
       "103044 -1.083592        -0.638592        -0.382127      -0.388583   \n",
       "43282  -0.092675        -0.653720        -0.382127      -0.388583   \n",
       "65543  -0.422981        -0.950236        -0.382127      -0.309366   \n",
       "65083   1.889157        -0.963348        -0.382127      -0.388583   \n",
       "76496  -0.819347        -0.668848        -0.196409      -0.388583   \n",
       "\n",
       "        Departure and Arrival Time Convenience  Ease of Online Booking  \\\n",
       "103044                                0.616968                0.171039   \n",
       "43282                                -1.356235               -1.261466   \n",
       "65543                                -0.040767                0.171039   \n",
       "65083                                -0.040767                0.887292   \n",
       "76496                                 1.274702                1.603544   \n",
       "\n",
       "        Check-in Service  Online Boarding  Gate Location  On-board Service  \\\n",
       "103044          0.546261        -0.193084       0.014743         -0.305614   \n",
       "43282          -1.032475         1.291245      -1.548387         -1.088515   \n",
       "65543          -0.243107         0.549080       0.014743         -0.305614   \n",
       "65083           0.546261         0.549080      -0.766822         -1.088515   \n",
       "76496          -0.243107         1.291245      -1.548387          0.477288   \n",
       "\n",
       "        ...  Food and Drink  In-flight Service  In-flight Wifi Service  \\\n",
       "103044  ...       -0.899528          -0.559430                0.196712   \n",
       "43282   ...        1.351979          -0.559430                1.711396   \n",
       "65543   ...        0.601476           1.152504                0.196712   \n",
       "65083   ...       -1.650030           1.152504                0.954054   \n",
       "76496   ...        0.601476           1.152504                1.711396   \n",
       "\n",
       "        In-flight Entertainment  Baggage Handling  Gender_Male  \\\n",
       "103044                -1.011580          0.306820     1.017633   \n",
       "43282                  1.235774         -2.251207     1.017633   \n",
       "65543                  0.486656          0.306820     1.017633   \n",
       "65083                 -1.760698         -0.545856     1.017633   \n",
       "76496                  0.486656          0.306820     1.017633   \n",
       "\n",
       "        Customer Type_Returning  Type of Travel_Personal  Class_Economy  \\\n",
       "103044                 -2.10686                -0.670970       1.100671   \n",
       "43282                   0.47464                -0.670970       1.100671   \n",
       "65543                   0.47464                -0.670970      -0.908537   \n",
       "65083                   0.47464                 1.490379       1.100671   \n",
       "76496                  -2.10686                -0.670970      -0.908537   \n",
       "\n",
       "        Class_Economy Plus  \n",
       "103044           -0.275621  \n",
       "43282            -0.275621  \n",
       "65543            -0.275621  \n",
       "65083            -0.275621  \n",
       "76496            -0.275621  \n",
       "\n",
       "[5 rows x 23 columns]"
      ]
     },
     "execution_count": 1328,
     "metadata": {},
     "output_type": "execute_result"
    }
   ],
   "source": [
    "from sklearn.model_selection import train_test_split\n",
    "\n",
    "X_train, X_test, y_train, y_test = train_test_split(\n",
    "    X, y, test_size=0.2, random_state=42\n",
    ")\n",
    "\n",
    "#X_train_scaled = ss.fit_transform(X_train)\n",
    "X_train = pd.DataFrame(\n",
    "    ss.fit_transform(X_train),\n",
    "    columns=X_train.columns,\n",
    "    index=X_train.index\n",
    ")\n",
    "\n",
    "\n",
    "#X_test_scaled = ss.transform(X_test)\n",
    "X_test = pd.DataFrame(\n",
    "    ss.fit_transform(X_test),\n",
    "    columns=X_test.columns,\n",
    "    index=X_test.index\n",
    ")\n",
    "X_test.head()\n"
   ]
  },
  {
   "cell_type": "code",
   "execution_count": 1329,
   "id": "bff0b153",
   "metadata": {},
   "outputs": [],
   "source": [
    "#from tensorflow.keras.utils import to_categorical\n",
    "\n",
    "## Преобразуем в one-hot encoding\n",
    "#num_classes = len(np.unique(y_train))\n",
    "#y_train_encoded = to_categorical(y_train, num_classes=num_classes)\n",
    "\n",
    "#history = model.fit(X_train, y_train, epochs=100)#, batch_size=num_units_penultimate"
   ]
  },
  {
   "cell_type": "code",
   "execution_count": 1330,
   "id": "6ad1f9ca",
   "metadata": {},
   "outputs": [
    {
     "name": "stderr",
     "output_type": "stream",
     "text": [
      "c:\\Program Files\\Python313\\Lib\\site-packages\\sklearn\\linear_model\\_logistic.py:1272: FutureWarning:\n",
      "\n",
      "'multi_class' was deprecated in version 1.5 and will be removed in 1.8. From then on, it will always use 'multinomial'. Leave it to its default value to avoid this warning.\n",
      "\n"
     ]
    }
   ],
   "source": [
    "from sklearn.linear_model import LogisticRegression\n",
    "\n",
    "\n",
    "regression = LogisticRegression(multi_class='multinomial', solver='lbfgs')\n",
    "\n",
    "regression.fit(X_train, y_train)\n",
    "\n",
    "y_pred = regression.predict(X_test)\n",
    "y_pred_proba = regression.predict_proba(X_test)\n",
    "regression.score(X_test, y_test)\n",
    "\n",
    "result = pd.DataFrame({'Actual': y_test, 'LG_Predicted': y_pred, 'LG_Predicted_Proba': y_pred_proba.round(2).tolist()})\n"
   ]
  },
  {
   "cell_type": "code",
   "execution_count": 1331,
   "id": "61a47b54",
   "metadata": {},
   "outputs": [
    {
     "name": "stdout",
     "output_type": "stream",
     "text": [
      "Уникальные классы в y: [0. 1. 2. 3. 4.]\n",
      "Количество классов: 5\n"
     ]
    },
    {
     "name": "stderr",
     "output_type": "stream",
     "text": [
      "[Parallel(n_jobs=1)]: Done  49 tasks      | elapsed:    3.8s\n",
      "[Parallel(n_jobs=1)]: Done 199 tasks      | elapsed:   15.9s\n",
      "[Parallel(n_jobs=1)]: Done 449 tasks      | elapsed:   35.8s\n",
      "[Parallel(n_jobs=1)]: Done 799 tasks      | elapsed:  1.1min\n",
      "[Parallel(n_jobs=1)]: Done 1000 out of 1000 | elapsed:  1.3min finished\n",
      "[Parallel(n_jobs=1)]: Done  49 tasks      | elapsed:    0.0s\n",
      "[Parallel(n_jobs=1)]: Done 199 tasks      | elapsed:    0.4s\n",
      "[Parallel(n_jobs=1)]: Done 449 tasks      | elapsed:    1.1s\n",
      "[Parallel(n_jobs=1)]: Done 799 tasks      | elapsed:    2.0s\n",
      "[Parallel(n_jobs=1)]: Done 1000 out of 1000 | elapsed:    2.6s finished\n",
      "[Parallel(n_jobs=1)]: Done  49 tasks      | elapsed:    0.0s\n",
      "[Parallel(n_jobs=1)]: Done 199 tasks      | elapsed:    0.4s\n",
      "[Parallel(n_jobs=1)]: Done 449 tasks      | elapsed:    1.1s\n",
      "[Parallel(n_jobs=1)]: Done 799 tasks      | elapsed:    2.0s\n"
     ]
    },
    {
     "name": "stdout",
     "output_type": "stream",
     "text": [
      "============================================================\n",
      "МНОГОКЛАССОВАЯ КЛАССИФИКАЦИЯ - 5 КЛАССОВ\n",
      "============================================================\n",
      "Accuracy: 0.5345\n",
      "Количество классов: 5\n",
      "Метки классов: [0. 1. 2. 3. 4.]\n"
     ]
    },
    {
     "name": "stderr",
     "output_type": "stream",
     "text": [
      "[Parallel(n_jobs=1)]: Done 1000 out of 1000 | elapsed:    2.5s finished\n"
     ]
    },
    {
     "data": {
      "text/html": [
       "<div>\n",
       "<style scoped>\n",
       "    .dataframe tbody tr th:only-of-type {\n",
       "        vertical-align: middle;\n",
       "    }\n",
       "\n",
       "    .dataframe tbody tr th {\n",
       "        vertical-align: top;\n",
       "    }\n",
       "\n",
       "    .dataframe thead th {\n",
       "        text-align: right;\n",
       "    }\n",
       "</style>\n",
       "<table border=\"1\" class=\"dataframe\">\n",
       "  <thead>\n",
       "    <tr style=\"text-align: right;\">\n",
       "      <th></th>\n",
       "      <th>Actual</th>\n",
       "      <th>LG_Predicted</th>\n",
       "      <th>LG_Predicted_Proba</th>\n",
       "      <th>RF_Predicted</th>\n",
       "      <th>RF_Predicted_Proba</th>\n",
       "    </tr>\n",
       "  </thead>\n",
       "  <tbody>\n",
       "    <tr>\n",
       "      <th>103044</th>\n",
       "      <td>1.0</td>\n",
       "      <td>0.0</td>\n",
       "      <td>[0.35, 0.27, 0.31, 0.05, 0.02]</td>\n",
       "      <td>0.0</td>\n",
       "      <td>[0.37, 0.3, 0.3, 0.02, 0.01]</td>\n",
       "    </tr>\n",
       "    <tr>\n",
       "      <th>43282</th>\n",
       "      <td>3.0</td>\n",
       "      <td>3.0</td>\n",
       "      <td>[0.05, 0.03, 0.04, 0.81, 0.07]</td>\n",
       "      <td>3.0</td>\n",
       "      <td>[0.01, 0.01, 0.01, 0.86, 0.11]</td>\n",
       "    </tr>\n",
       "    <tr>\n",
       "      <th>65543</th>\n",
       "      <td>4.0</td>\n",
       "      <td>4.0</td>\n",
       "      <td>[0.04, 0.04, 0.03, 0.4, 0.49]</td>\n",
       "      <td>4.0</td>\n",
       "      <td>[0.02, 0.02, 0.02, 0.34, 0.6]</td>\n",
       "    </tr>\n",
       "    <tr>\n",
       "      <th>65083</th>\n",
       "      <td>3.0</td>\n",
       "      <td>1.0</td>\n",
       "      <td>[0.31, 0.35, 0.29, 0.02, 0.03]</td>\n",
       "      <td>0.0</td>\n",
       "      <td>[0.28, 0.25, 0.24, 0.12, 0.11]</td>\n",
       "    </tr>\n",
       "    <tr>\n",
       "      <th>76496</th>\n",
       "      <td>4.0</td>\n",
       "      <td>3.0</td>\n",
       "      <td>[0.11, 0.13, 0.1, 0.36, 0.3]</td>\n",
       "      <td>4.0</td>\n",
       "      <td>[0.01, 0.03, 0.02, 0.31, 0.63]</td>\n",
       "    </tr>\n",
       "    <tr>\n",
       "      <th>78319</th>\n",
       "      <td>2.0</td>\n",
       "      <td>3.0</td>\n",
       "      <td>[0.18, 0.22, 0.19, 0.27, 0.14]</td>\n",
       "      <td>2.0</td>\n",
       "      <td>[0.29, 0.29, 0.32, 0.06, 0.04]</td>\n",
       "    </tr>\n",
       "    <tr>\n",
       "      <th>43712</th>\n",
       "      <td>2.0</td>\n",
       "      <td>0.0</td>\n",
       "      <td>[0.37, 0.33, 0.3, 0.0, 0.0]</td>\n",
       "      <td>0.0</td>\n",
       "      <td>[0.35, 0.32, 0.3, 0.01, 0.01]</td>\n",
       "    </tr>\n",
       "    <tr>\n",
       "      <th>8092</th>\n",
       "      <td>3.0</td>\n",
       "      <td>4.0</td>\n",
       "      <td>[0.01, 0.01, 0.01, 0.3, 0.68]</td>\n",
       "      <td>3.0</td>\n",
       "      <td>[0.01, 0.01, 0.01, 0.5, 0.47]</td>\n",
       "    </tr>\n",
       "    <tr>\n",
       "      <th>105253</th>\n",
       "      <td>1.0</td>\n",
       "      <td>1.0</td>\n",
       "      <td>[0.23, 0.45, 0.3, 0.02, 0.01]</td>\n",
       "      <td>2.0</td>\n",
       "      <td>[0.29, 0.3, 0.34, 0.04, 0.02]</td>\n",
       "    </tr>\n",
       "    <tr>\n",
       "      <th>71027</th>\n",
       "      <td>4.0</td>\n",
       "      <td>4.0</td>\n",
       "      <td>[0.0, 0.01, 0.01, 0.3, 0.68]</td>\n",
       "      <td>4.0</td>\n",
       "      <td>[0.01, 0.01, 0.01, 0.32, 0.64]</td>\n",
       "    </tr>\n",
       "    <tr>\n",
       "      <th>124440</th>\n",
       "      <td>1.0</td>\n",
       "      <td>2.0</td>\n",
       "      <td>[0.26, 0.33, 0.36, 0.03, 0.02]</td>\n",
       "      <td>2.0</td>\n",
       "      <td>[0.24, 0.28, 0.36, 0.06, 0.07]</td>\n",
       "    </tr>\n",
       "    <tr>\n",
       "      <th>84666</th>\n",
       "      <td>2.0</td>\n",
       "      <td>2.0</td>\n",
       "      <td>[0.33, 0.28, 0.34, 0.05, 0.01]</td>\n",
       "      <td>0.0</td>\n",
       "      <td>[0.35, 0.32, 0.32, 0.01, 0.01]</td>\n",
       "    </tr>\n",
       "    <tr>\n",
       "      <th>59705</th>\n",
       "      <td>2.0</td>\n",
       "      <td>0.0</td>\n",
       "      <td>[0.36, 0.29, 0.32, 0.02, 0.01]</td>\n",
       "      <td>0.0</td>\n",
       "      <td>[0.38, 0.31, 0.3, 0.01, 0.01]</td>\n",
       "    </tr>\n",
       "    <tr>\n",
       "      <th>106914</th>\n",
       "      <td>4.0</td>\n",
       "      <td>4.0</td>\n",
       "      <td>[0.0, 0.01, 0.01, 0.31, 0.67]</td>\n",
       "      <td>4.0</td>\n",
       "      <td>[0.01, 0.01, 0.01, 0.34, 0.63]</td>\n",
       "    </tr>\n",
       "    <tr>\n",
       "      <th>20206</th>\n",
       "      <td>0.0</td>\n",
       "      <td>0.0</td>\n",
       "      <td>[0.31, 0.31, 0.2, 0.04, 0.13]</td>\n",
       "      <td>0.0</td>\n",
       "      <td>[0.38, 0.26, 0.26, 0.04, 0.06]</td>\n",
       "    </tr>\n",
       "    <tr>\n",
       "      <th>104572</th>\n",
       "      <td>4.0</td>\n",
       "      <td>4.0</td>\n",
       "      <td>[0.01, 0.01, 0.01, 0.33, 0.64]</td>\n",
       "      <td>4.0</td>\n",
       "      <td>[0.0, 0.01, 0.01, 0.32, 0.67]</td>\n",
       "    </tr>\n",
       "    <tr>\n",
       "      <th>115026</th>\n",
       "      <td>4.0</td>\n",
       "      <td>4.0</td>\n",
       "      <td>[0.01, 0.01, 0.01, 0.31, 0.66]</td>\n",
       "      <td>4.0</td>\n",
       "      <td>[0.0, 0.01, 0.01, 0.32, 0.66]</td>\n",
       "    </tr>\n",
       "    <tr>\n",
       "      <th>70155</th>\n",
       "      <td>4.0</td>\n",
       "      <td>4.0</td>\n",
       "      <td>[0.11, 0.13, 0.11, 0.18, 0.47]</td>\n",
       "      <td>3.0</td>\n",
       "      <td>[0.04, 0.03, 0.03, 0.47, 0.43]</td>\n",
       "    </tr>\n",
       "    <tr>\n",
       "      <th>66978</th>\n",
       "      <td>4.0</td>\n",
       "      <td>4.0</td>\n",
       "      <td>[0.01, 0.01, 0.01, 0.37, 0.61]</td>\n",
       "      <td>4.0</td>\n",
       "      <td>[0.0, 0.01, 0.0, 0.32, 0.67]</td>\n",
       "    </tr>\n",
       "    <tr>\n",
       "      <th>63112</th>\n",
       "      <td>2.0</td>\n",
       "      <td>1.0</td>\n",
       "      <td>[0.28, 0.34, 0.29, 0.08, 0.01]</td>\n",
       "      <td>1.0</td>\n",
       "      <td>[0.3, 0.34, 0.29, 0.05, 0.02]</td>\n",
       "    </tr>\n",
       "    <tr>\n",
       "      <th>6851</th>\n",
       "      <td>3.0</td>\n",
       "      <td>4.0</td>\n",
       "      <td>[0.01, 0.01, 0.01, 0.36, 0.62]</td>\n",
       "      <td>4.0</td>\n",
       "      <td>[0.0, 0.01, 0.01, 0.32, 0.67]</td>\n",
       "    </tr>\n",
       "    <tr>\n",
       "      <th>64159</th>\n",
       "      <td>2.0</td>\n",
       "      <td>1.0</td>\n",
       "      <td>[0.26, 0.28, 0.22, 0.22, 0.02]</td>\n",
       "      <td>1.0</td>\n",
       "      <td>[0.31, 0.37, 0.27, 0.04, 0.01]</td>\n",
       "    </tr>\n",
       "    <tr>\n",
       "      <th>111386</th>\n",
       "      <td>1.0</td>\n",
       "      <td>1.0</td>\n",
       "      <td>[0.11, 0.24, 0.24, 0.22, 0.19]</td>\n",
       "      <td>1.0</td>\n",
       "      <td>[0.25, 0.28, 0.24, 0.13, 0.1]</td>\n",
       "    </tr>\n",
       "    <tr>\n",
       "      <th>66539</th>\n",
       "      <td>4.0</td>\n",
       "      <td>4.0</td>\n",
       "      <td>[0.02, 0.03, 0.03, 0.41, 0.52]</td>\n",
       "      <td>4.0</td>\n",
       "      <td>[0.0, 0.01, 0.01, 0.32, 0.66]</td>\n",
       "    </tr>\n",
       "    <tr>\n",
       "      <th>81415</th>\n",
       "      <td>2.0</td>\n",
       "      <td>0.0</td>\n",
       "      <td>[0.3, 0.29, 0.24, 0.07, 0.09]</td>\n",
       "      <td>1.0</td>\n",
       "      <td>[0.25, 0.38, 0.28, 0.04, 0.05]</td>\n",
       "    </tr>\n",
       "    <tr>\n",
       "      <th>108115</th>\n",
       "      <td>4.0</td>\n",
       "      <td>4.0</td>\n",
       "      <td>[0.01, 0.01, 0.01, 0.36, 0.61]</td>\n",
       "      <td>4.0</td>\n",
       "      <td>[0.01, 0.02, 0.01, 0.31, 0.65]</td>\n",
       "    </tr>\n",
       "    <tr>\n",
       "      <th>35784</th>\n",
       "      <td>0.0</td>\n",
       "      <td>0.0</td>\n",
       "      <td>[0.43, 0.29, 0.28, 0.0, 0.0]</td>\n",
       "      <td>0.0</td>\n",
       "      <td>[0.45, 0.24, 0.29, 0.01, 0.0]</td>\n",
       "    </tr>\n",
       "    <tr>\n",
       "      <th>68433</th>\n",
       "      <td>2.0</td>\n",
       "      <td>2.0</td>\n",
       "      <td>[0.31, 0.27, 0.35, 0.06, 0.01]</td>\n",
       "      <td>0.0</td>\n",
       "      <td>[0.38, 0.26, 0.34, 0.01, 0.01]</td>\n",
       "    </tr>\n",
       "    <tr>\n",
       "      <th>10443</th>\n",
       "      <td>3.0</td>\n",
       "      <td>4.0</td>\n",
       "      <td>[0.02, 0.01, 0.01, 0.3, 0.66]</td>\n",
       "      <td>4.0</td>\n",
       "      <td>[0.01, 0.01, 0.01, 0.38, 0.59]</td>\n",
       "    </tr>\n",
       "    <tr>\n",
       "      <th>15829</th>\n",
       "      <td>3.0</td>\n",
       "      <td>0.0</td>\n",
       "      <td>[0.34, 0.28, 0.25, 0.11, 0.02]</td>\n",
       "      <td>0.0</td>\n",
       "      <td>[0.34, 0.21, 0.27, 0.15, 0.03]</td>\n",
       "    </tr>\n",
       "  </tbody>\n",
       "</table>\n",
       "</div>"
      ],
      "text/plain": [
       "        Actual  LG_Predicted              LG_Predicted_Proba  RF_Predicted  \\\n",
       "103044     1.0           0.0  [0.35, 0.27, 0.31, 0.05, 0.02]           0.0   \n",
       "43282      3.0           3.0  [0.05, 0.03, 0.04, 0.81, 0.07]           3.0   \n",
       "65543      4.0           4.0   [0.04, 0.04, 0.03, 0.4, 0.49]           4.0   \n",
       "65083      3.0           1.0  [0.31, 0.35, 0.29, 0.02, 0.03]           0.0   \n",
       "76496      4.0           3.0    [0.11, 0.13, 0.1, 0.36, 0.3]           4.0   \n",
       "78319      2.0           3.0  [0.18, 0.22, 0.19, 0.27, 0.14]           2.0   \n",
       "43712      2.0           0.0     [0.37, 0.33, 0.3, 0.0, 0.0]           0.0   \n",
       "8092       3.0           4.0   [0.01, 0.01, 0.01, 0.3, 0.68]           3.0   \n",
       "105253     1.0           1.0   [0.23, 0.45, 0.3, 0.02, 0.01]           2.0   \n",
       "71027      4.0           4.0    [0.0, 0.01, 0.01, 0.3, 0.68]           4.0   \n",
       "124440     1.0           2.0  [0.26, 0.33, 0.36, 0.03, 0.02]           2.0   \n",
       "84666      2.0           2.0  [0.33, 0.28, 0.34, 0.05, 0.01]           0.0   \n",
       "59705      2.0           0.0  [0.36, 0.29, 0.32, 0.02, 0.01]           0.0   \n",
       "106914     4.0           4.0   [0.0, 0.01, 0.01, 0.31, 0.67]           4.0   \n",
       "20206      0.0           0.0   [0.31, 0.31, 0.2, 0.04, 0.13]           0.0   \n",
       "104572     4.0           4.0  [0.01, 0.01, 0.01, 0.33, 0.64]           4.0   \n",
       "115026     4.0           4.0  [0.01, 0.01, 0.01, 0.31, 0.66]           4.0   \n",
       "70155      4.0           4.0  [0.11, 0.13, 0.11, 0.18, 0.47]           3.0   \n",
       "66978      4.0           4.0  [0.01, 0.01, 0.01, 0.37, 0.61]           4.0   \n",
       "63112      2.0           1.0  [0.28, 0.34, 0.29, 0.08, 0.01]           1.0   \n",
       "6851       3.0           4.0  [0.01, 0.01, 0.01, 0.36, 0.62]           4.0   \n",
       "64159      2.0           1.0  [0.26, 0.28, 0.22, 0.22, 0.02]           1.0   \n",
       "111386     1.0           1.0  [0.11, 0.24, 0.24, 0.22, 0.19]           1.0   \n",
       "66539      4.0           4.0  [0.02, 0.03, 0.03, 0.41, 0.52]           4.0   \n",
       "81415      2.0           0.0   [0.3, 0.29, 0.24, 0.07, 0.09]           1.0   \n",
       "108115     4.0           4.0  [0.01, 0.01, 0.01, 0.36, 0.61]           4.0   \n",
       "35784      0.0           0.0    [0.43, 0.29, 0.28, 0.0, 0.0]           0.0   \n",
       "68433      2.0           2.0  [0.31, 0.27, 0.35, 0.06, 0.01]           0.0   \n",
       "10443      3.0           4.0   [0.02, 0.01, 0.01, 0.3, 0.66]           4.0   \n",
       "15829      3.0           0.0  [0.34, 0.28, 0.25, 0.11, 0.02]           0.0   \n",
       "\n",
       "                    RF_Predicted_Proba  \n",
       "103044    [0.37, 0.3, 0.3, 0.02, 0.01]  \n",
       "43282   [0.01, 0.01, 0.01, 0.86, 0.11]  \n",
       "65543    [0.02, 0.02, 0.02, 0.34, 0.6]  \n",
       "65083   [0.28, 0.25, 0.24, 0.12, 0.11]  \n",
       "76496   [0.01, 0.03, 0.02, 0.31, 0.63]  \n",
       "78319   [0.29, 0.29, 0.32, 0.06, 0.04]  \n",
       "43712    [0.35, 0.32, 0.3, 0.01, 0.01]  \n",
       "8092     [0.01, 0.01, 0.01, 0.5, 0.47]  \n",
       "105253   [0.29, 0.3, 0.34, 0.04, 0.02]  \n",
       "71027   [0.01, 0.01, 0.01, 0.32, 0.64]  \n",
       "124440  [0.24, 0.28, 0.36, 0.06, 0.07]  \n",
       "84666   [0.35, 0.32, 0.32, 0.01, 0.01]  \n",
       "59705    [0.38, 0.31, 0.3, 0.01, 0.01]  \n",
       "106914  [0.01, 0.01, 0.01, 0.34, 0.63]  \n",
       "20206   [0.38, 0.26, 0.26, 0.04, 0.06]  \n",
       "104572   [0.0, 0.01, 0.01, 0.32, 0.67]  \n",
       "115026   [0.0, 0.01, 0.01, 0.32, 0.66]  \n",
       "70155   [0.04, 0.03, 0.03, 0.47, 0.43]  \n",
       "66978     [0.0, 0.01, 0.0, 0.32, 0.67]  \n",
       "63112    [0.3, 0.34, 0.29, 0.05, 0.02]  \n",
       "6851     [0.0, 0.01, 0.01, 0.32, 0.67]  \n",
       "64159   [0.31, 0.37, 0.27, 0.04, 0.01]  \n",
       "111386   [0.25, 0.28, 0.24, 0.13, 0.1]  \n",
       "66539    [0.0, 0.01, 0.01, 0.32, 0.66]  \n",
       "81415   [0.25, 0.38, 0.28, 0.04, 0.05]  \n",
       "108115  [0.01, 0.02, 0.01, 0.31, 0.65]  \n",
       "35784    [0.45, 0.24, 0.29, 0.01, 0.0]  \n",
       "68433   [0.38, 0.26, 0.34, 0.01, 0.01]  \n",
       "10443   [0.01, 0.01, 0.01, 0.38, 0.59]  \n",
       "15829   [0.34, 0.21, 0.27, 0.15, 0.03]  "
      ]
     },
     "execution_count": 1331,
     "metadata": {},
     "output_type": "execute_result"
    }
   ],
   "source": [
    "from sklearn.ensemble import RandomForestClassifier\n",
    "from sklearn.model_selection import train_test_split\n",
    "from sklearn.metrics import classification_report, confusion_matrix, accuracy_score\n",
    "import numpy as np\n",
    "\n",
    "# Предположим, что y содержит значения от 0 до 4 (5 классов)\n",
    "print(\"Уникальные классы в y:\", np.unique(y))\n",
    "print(\"Количество классов:\", len(np.unique(y)))\n",
    "\n",
    "## Разделение данных\n",
    "#X_train, X_test, y_train, y_test = train_test_split(\n",
    "#    X, y, \n",
    "#    test_size=0.2, \n",
    "#    random_state=42,\n",
    "#    stratify=y  # сохраняем распределение классов\n",
    "#)\n",
    "\n",
    "# Создание модели для 5 классов\n",
    "rf_model = RandomForestClassifier(\n",
    "    n_estimators=1000,       # количество деревьев\n",
    "    random_state=42,        # для воспроизводимости\n",
    "    max_depth=10,           # ограничение глубины\n",
    "    min_samples_split=5,    # минимальное samples для разделения\n",
    "    min_samples_leaf=2,     # минимальное samples в листе\n",
    "    class_weight='balanced', # важно для многоклассовой классификации\n",
    "    verbose=1\n",
    ")\n",
    "\n",
    "# Обучение модели\n",
    "rf_model.fit(X_train, y_train)\n",
    "\n",
    "# Предсказания\n",
    "y_pred = rf_model.predict(X_test)\n",
    "y_pred_proba = rf_model.predict_proba(X_test)  # вероятности для всех 5 классов\n",
    "\n",
    "result['RF_Predicted'] = y_pred\n",
    "result['RF_Predicted_Proba'] = y_pred_proba.round(2).tolist()\n",
    "\n",
    "# Оценка качества\n",
    "print(\"=\" * 60)\n",
    "print(\"МНОГОКЛАССОВАЯ КЛАССИФИКАЦИЯ - 5 КЛАССОВ\")\n",
    "print(\"=\" * 60)\n",
    "print(f\"Accuracy: {accuracy_score(y_test, y_pred):.4f}\")\n",
    "print(f\"Количество классов: {len(rf_model.classes_)}\")\n",
    "print(f\"Метки классов: {rf_model.classes_}\")\n",
    "\n",
    "result.head(30)"
   ]
  }
 ],
 "metadata": {
  "kernelspec": {
   "display_name": "Python 3",
   "language": "python",
   "name": "python3"
  },
  "language_info": {
   "codemirror_mode": {
    "name": "ipython",
    "version": 3
   },
   "file_extension": ".py",
   "mimetype": "text/x-python",
   "name": "python",
   "nbconvert_exporter": "python",
   "pygments_lexer": "ipython3",
   "version": "3.13.7"
  }
 },
 "nbformat": 4,
 "nbformat_minor": 5
}
