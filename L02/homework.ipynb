{
 "cells": [
  {
   "cell_type": "markdown",
   "id": "94bc1fe0",
   "metadata": {},
   "source": [
    "Ex1"
   ]
  },
  {
   "cell_type": "code",
   "execution_count": 1,
   "id": "3a22a63d",
   "metadata": {},
   "outputs": [
    {
     "name": "stdout",
     "output_type": "stream",
     "text": [
      "Уравнение: y² - 12y + 20 = 0\n",
      "Корни: [10.  2.]\n",
      "Уравнение: y²  + 17y + 72 = 0\n",
      "Корни: [-9. -8.]\n",
      "Уравнение: y² - 7y - 44 = 0\n",
      "Корни: [11. -4.]\n",
      "Уравнение: y² + 9y + 8 = 0\n",
      "Корни: [-8. -1.]\n",
      "Уравнение: y² - 2y - 63 = 0\n",
      "Корни: [ 9. -7.]\n",
      "Уравнение: y² - 4y -5 = 0\n",
      "Корни: [-5.  1.]\n",
      "Настоящий ответ: x = 0.1111111111111111\n",
      "Настоящий ответ: x = 0.012345679012345678\n"
     ]
    }
   ],
   "source": [
    "import numpy as np\n",
    "\n",
    "# Коэффициенты уравнения\n",
    "coefficients = [1, -12, 20]  # [a, b, c] для ax² + bx + c\n",
    "\n",
    "# Находим корни\n",
    "roots = np.roots(coefficients)\n",
    "\n",
    "print(f\"Уравнение: y² - 12y + 20 = 0\")\n",
    "print(f\"Корни: {roots}\")\n",
    "\n",
    "coefficients = [1, 17, 72]  # [a, b, c] для ax² + bx + c\n",
    "\n",
    "# Находим корни\n",
    "roots = np.roots(coefficients)\n",
    "\n",
    "print(f\"Уравнение: y²  + 17y + 72 = 0\")\n",
    "print(f\"Корни: {roots}\")\n",
    "\n",
    "coefficients = [1, -7, -44]  # [a, b, c] для ax² + bx + c\n",
    "\n",
    "# Находим корни\n",
    "roots = np.roots(coefficients)\n",
    "\n",
    "print(f\"Уравнение: y² - 7y - 44 = 0\")\n",
    "print(f\"Корни: {roots}\")\n",
    "\n",
    "coefficients = [1, 9, 8]  # [a, b, c] для ax² + bx + c\n",
    "\n",
    "# Находим корни\n",
    "roots = np.roots(coefficients)\n",
    "\n",
    "print(f\"Уравнение: y² + 9y + 8 = 0\")\n",
    "print(f\"Корни: {roots}\")\n",
    "\n",
    "coefficients = [1, -2, -63]  # [a, b, c] для ax² + bx + c\n",
    "\n",
    "# Находим корни\n",
    "roots = np.roots(coefficients)\n",
    "\n",
    "print(f\"Уравнение: y² - 2y - 63 = 0\")\n",
    "print(f\"Корни: {roots}\")\n",
    "\n",
    "coefficients = [1, 4, -5]  # [a, b, c] для ax² + bx + c\n",
    "\n",
    "# Находим корни\n",
    "roots = np.roots(coefficients)\n",
    "\n",
    "print(f\"Уравнение: y² - 4y -5 = 0\")\n",
    "print(f\"Корни: {roots}\")\n",
    "\n",
    "for root in roots:\n",
    "    print(f\"Настоящий ответ: x = {(root + 8)**-2}\")\n",
    "\n"
   ]
  },
  {
   "cell_type": "markdown",
   "id": "2e5691f9",
   "metadata": {},
   "source": [
    "Ex2"
   ]
  },
  {
   "cell_type": "code",
   "execution_count": 2,
   "id": "fabe29e3",
   "metadata": {},
   "outputs": [
    {
     "name": "stdout",
     "output_type": "stream",
     "text": [
      "[5, 4, 3, 2, 1]\n"
     ]
    }
   ],
   "source": [
    "lst = [1, 2, 3, 4, 5]\n",
    "print(lst[::-1])"
   ]
  },
  {
   "cell_type": "markdown",
   "id": "4b634a4a",
   "metadata": {},
   "source": [
    "Ex3"
   ]
  },
  {
   "cell_type": "code",
   "execution_count": 3,
   "id": "e98a4e45",
   "metadata": {},
   "outputs": [
    {
     "name": "stdout",
     "output_type": "stream",
     "text": [
      "[5, 2, 3, 4, 1]\n"
     ]
    }
   ],
   "source": [
    "lst = [1, 2, 3, 4, 5]\n",
    "def change(lst):\n",
    "    lst[0], lst[-1] = lst[-1], lst[0]\n",
    "    return lst\n",
    "\n",
    "print(change(lst))"
   ]
  },
  {
   "cell_type": "markdown",
   "id": "c0cad02d",
   "metadata": {},
   "source": [
    "Ex4"
   ]
  },
  {
   "cell_type": "code",
   "execution_count": 4,
   "id": "23a27bec",
   "metadata": {},
   "outputs": [
    {
     "name": "stdout",
     "output_type": "stream",
     "text": [
      "1.0\n"
     ]
    }
   ],
   "source": [
    "lst = [1, 2, 3, 4, 5]\n",
    "\n",
    "def useless(lst):\n",
    "    return max(lst)/len(lst)\n",
    "\n",
    "print(useless(lst))"
   ]
  },
  {
   "cell_type": "markdown",
   "id": "bacd5683",
   "metadata": {},
   "source": [
    "Ex5"
   ]
  },
  {
   "cell_type": "code",
   "execution_count": 5,
   "id": "630385c0",
   "metadata": {},
   "outputs": [
    {
     "name": "stdout",
     "output_type": "stream",
     "text": [
      "8\n",
      "['крот____', 'белка___', 'выхухоль']\n"
     ]
    }
   ],
   "source": [
    "lst = ['крот', 'белка', 'выхухоль']\n",
    "\n",
    "def all_eq(lst):\n",
    "    rez = []\n",
    "    max_len = max(len(word) for word in lst)\n",
    "    print(max_len)\n",
    "    for word in lst:\n",
    "        if len(word) == max_len:\n",
    "            rez.append(word)\n",
    "        else:\n",
    "            rez.append(word.ljust(max_len, '_'))\n",
    "    return rez\n",
    "\n",
    "print(all_eq(lst))"
   ]
  },
  {
   "cell_type": "markdown",
   "id": "b3cc5b51",
   "metadata": {},
   "source": [
    "ex1"
   ]
  },
  {
   "cell_type": "code",
   "execution_count": 6,
   "id": "b0d5821d",
   "metadata": {},
   "outputs": [
    {
     "data": {
      "text/plain": [
       "np.float64(3.8175142771159183)"
      ]
     },
     "execution_count": 6,
     "metadata": {},
     "output_type": "execute_result"
    }
   ],
   "source": [
    "import numpy as np\n",
    "\n",
    "x=1.79\n",
    "(np.cos(np.e*x) + np.log2((1 + x)**2) + (np.exp(np.cos(x) + (np.sin(np.pi * x))**2))**0.5 + (1/x)**0.5 + np.cos(x**2))**np.sin(x)"
   ]
  },
  {
   "cell_type": "markdown",
   "id": "c5b0c922",
   "metadata": {},
   "source": [
    "ex2"
   ]
  },
  {
   "cell_type": "code",
   "execution_count": 7,
   "id": "caf5c948",
   "metadata": {},
   "outputs": [
    {
     "data": {
      "text/plain": [
       "'Есть контакт!'"
      ]
     },
     "execution_count": 7,
     "metadata": {},
     "output_type": "execute_result"
    }
   ],
   "source": [
    "def search_substr(subst, st):\n",
    "    if subst.lower() in st.lower():\n",
    "        return \"Есть контакт!\"\n",
    "    else:\n",
    "        return \"Мимо!\"\n",
    "\n",
    "search_substr(\"питон\", \"Питон - это круто\")"
   ]
  },
  {
   "cell_type": "markdown",
   "id": "38567153",
   "metadata": {},
   "source": [
    "ex3"
   ]
  },
  {
   "cell_type": "code",
   "execution_count": 8,
   "id": "7a2a6672",
   "metadata": {},
   "outputs": [
    {
     "name": "stdout",
     "output_type": "stream",
     "text": [
      "[('б', 6), ('ы', 2), ('т', 2)]\n"
     ]
    }
   ],
   "source": [
    "from collections import Counter\n",
    "\n",
    "def top_three_chars(text):\n",
    "    cleaned_text = text.replace(' ', '')\n",
    "    \n",
    "    char_count = Counter(cleaned_text)\n",
    "    \n",
    "    top_three = char_count.most_common(3)\n",
    "    \n",
    "    return top_three\n",
    "\n",
    "text = \"Ббббббыть или не быть\"\n",
    "print(top_three_chars(text))"
   ]
  },
  {
   "cell_type": "markdown",
   "id": "63e6edc9",
   "metadata": {},
   "source": [
    "ex4"
   ]
  },
  {
   "cell_type": "code",
   "execution_count": 9,
   "id": "c5e0578d",
   "metadata": {},
   "outputs": [
    {
     "name": "stdout",
     "output_type": "stream",
     "text": [
      "Counter({2: 4, 1: 3, 3: 1, 4: 1, 5: 1})\n",
      "{2: 4, 1: 3, 3: 1}\n"
     ]
    }
   ],
   "source": [
    "from collections import Counter\n",
    "\n",
    "def count_it(sequence):\n",
    "    numbers = [int(char) for char in sequence]\n",
    "    \n",
    "    number_count = Counter(numbers)\n",
    "    print(number_count)\n",
    "    top_three = dict(number_count.most_common(3))\n",
    "    \n",
    "    return top_three\n",
    "\n",
    "sequence = \"1112345222\"\n",
    "print(count_it(sequence))"
   ]
  },
  {
   "cell_type": "markdown",
   "id": "58907ca5",
   "metadata": {},
   "source": [
    "ex5"
   ]
  },
  {
   "cell_type": "code",
   "execution_count": 10,
   "id": "4a7e7e3a",
   "metadata": {},
   "outputs": [
    {
     "name": "stdout",
     "output_type": "stream",
     "text": [
      "True\n"
     ]
    }
   ],
   "source": [
    "def is_under_threat(a, b, c, d, piece_type):\n",
    "    \"\"\"\n",
    "    Проверяет, угрожает ли вражеская фигура вашей фигуре.\n",
    "    \n",
    "    Args:\n",
    "        a, b: координаты вашей фигуры (ряд, столбец) от 1 до 8\n",
    "        c, d: координаты вражеской фигуры (ряд, столбец) от 1 до 8\n",
    "        piece_type: тип вражеской фигуры ('queen' или 'knight')\n",
    "    \n",
    "    Returns:\n",
    "        bool: True если угрожает, False если нет\n",
    "    \"\"\"\n",
    "    # Проверяем, не стоят ли фигуры на одной клетке\n",
    "    if a == c and b == d:\n",
    "        return False\n",
    "    \n",
    "    if piece_type == 'queen':\n",
    "        # Ферзь угрожает по горизонтали, вертикали или диагонали\n",
    "        return (a == c or b == d or abs(a - c) == abs(b - d))\n",
    "    \n",
    "    elif piece_type == 'knight':\n",
    "        # Конь угрожает ходом буквой \"Г\"\n",
    "        dx = abs(a - c)\n",
    "        dy = abs(b - d)\n",
    "        return (dx == 1 and dy == 2) or (dx == 2 and dy == 1)\n",
    "  \n",
    "    else:\n",
    "        raise ValueError(\"Неизвестный тип фигуры. Используйте 'queen' или 'knight'\")\n",
    "\n",
    "# Пример использования:\n",
    "print(is_under_threat(4, 4, 6, 5, 'knight'))  # True"
   ]
  },
  {
   "cell_type": "markdown",
   "id": "7d082044",
   "metadata": {},
   "source": [
    "ex6"
   ]
  },
  {
   "cell_type": "code",
   "execution_count": 11,
   "id": "d08bdf98",
   "metadata": {},
   "outputs": [],
   "source": [
    "def is_knight_threat(a, b, c, d):\n",
    "    \"\"\"Проверяет, угрожает ли конь\"\"\"\n",
    "    dx, dy = abs(a-c), abs(b-d)\n",
    "    return (dx == 1 and dy == 2) or (dx == 2 and dy == 1)\n",
    "\n",
    "def can_threaten_in_one_move(a, b, c, d):\n",
    "    \"\"\"Может ли конь угрожать за один ход\"\"\"\n",
    "    moves = [\n",
    "        (a+2, b+1), (a+2, b-1), (a-2, b+1), (a-2, b-1),\n",
    "        (a+1, b+2), (a+1, b-2), (a-1, b+2), (a-1, b-2)\n",
    "    ]\n",
    "    \n",
    "    for x, y in moves:\n",
    "        if 1 <= x <= 8 and 1 <= y <= 8 and is_knight_threat(x, y, c, d):\n",
    "            return True, (x, y)\n",
    "    \n",
    "    return False, None"
   ]
  }
 ],
 "metadata": {
  "kernelspec": {
   "display_name": "Python 3",
   "language": "python",
   "name": "python3"
  },
  "language_info": {
   "codemirror_mode": {
    "name": "ipython",
    "version": 3
   },
   "file_extension": ".py",
   "mimetype": "text/x-python",
   "name": "python",
   "nbconvert_exporter": "python",
   "pygments_lexer": "ipython3",
   "version": "3.13.9"
  }
 },
 "nbformat": 4,
 "nbformat_minor": 5
}
