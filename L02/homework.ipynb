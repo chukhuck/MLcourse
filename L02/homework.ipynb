{
 "cells": [
  {
   "cell_type": "markdown",
   "id": "94bc1fe0",
   "metadata": {},
   "source": [
    "Ex1"
   ]
  },
  {
   "cell_type": "code",
   "execution_count": 3,
   "id": "3a22a63d",
   "metadata": {},
   "outputs": [
    {
     "name": "stdout",
     "output_type": "stream",
     "text": [
      "Уравнение: y² - 12y + 20 = 0\n",
      "Корни: [10.  2.]\n",
      "Уравнение: y²  + 17y + 72 = 0\n",
      "Корни: [-9. -8.]\n",
      "Уравнение: y² - 7y - 44 = 0\n",
      "Корни: [11. -4.]\n",
      "Уравнение: y² + 9y + 8 = 0\n",
      "Корни: [-8. -1.]\n",
      "Уравнение: y² - 2y - 63 = 0\n",
      "Корни: [ 9. -7.]\n",
      "Уравнение: y² - 4y -5 = 0\n",
      "Корни: [-5.  1.]\n",
      "Настоящий ответ: x = 0.1111111111111111\n",
      "Настоящий ответ: x = 0.012345679012345678\n"
     ]
    }
   ],
   "source": [
    "import numpy as np\n",
    "\n",
    "# Коэффициенты уравнения\n",
    "coefficients = [1, -12, 20]  # [a, b, c] для ax² + bx + c\n",
    "\n",
    "# Находим корни\n",
    "roots = np.roots(coefficients)\n",
    "\n",
    "print(f\"Уравнение: y² - 12y + 20 = 0\")\n",
    "print(f\"Корни: {roots}\")\n",
    "\n",
    "coefficients = [1, 17, 72]  # [a, b, c] для ax² + bx + c\n",
    "\n",
    "# Находим корни\n",
    "roots = np.roots(coefficients)\n",
    "\n",
    "print(f\"Уравнение: y²  + 17y + 72 = 0\")\n",
    "print(f\"Корни: {roots}\")\n",
    "\n",
    "coefficients = [1, -7, -44]  # [a, b, c] для ax² + bx + c\n",
    "\n",
    "# Находим корни\n",
    "roots = np.roots(coefficients)\n",
    "\n",
    "print(f\"Уравнение: y² - 7y - 44 = 0\")\n",
    "print(f\"Корни: {roots}\")\n",
    "\n",
    "coefficients = [1, 9, 8]  # [a, b, c] для ax² + bx + c\n",
    "\n",
    "# Находим корни\n",
    "roots = np.roots(coefficients)\n",
    "\n",
    "print(f\"Уравнение: y² + 9y + 8 = 0\")\n",
    "print(f\"Корни: {roots}\")\n",
    "\n",
    "coefficients = [1, -2, -63]  # [a, b, c] для ax² + bx + c\n",
    "\n",
    "# Находим корни\n",
    "roots = np.roots(coefficients)\n",
    "\n",
    "print(f\"Уравнение: y² - 2y - 63 = 0\")\n",
    "print(f\"Корни: {roots}\")\n",
    "\n",
    "coefficients = [1, 4, -5]  # [a, b, c] для ax² + bx + c\n",
    "\n",
    "# Находим корни\n",
    "roots = np.roots(coefficients)\n",
    "\n",
    "print(f\"Уравнение: y² - 4y -5 = 0\")\n",
    "print(f\"Корни: {roots}\")\n",
    "\n",
    "for root in roots:\n",
    "    print(f\"Настоящий ответ: x = {(root + 8)**-2}\")\n",
    "\n"
   ]
  },
  {
   "cell_type": "markdown",
   "id": "2e5691f9",
   "metadata": {},
   "source": [
    "Ex2"
   ]
  },
  {
   "cell_type": "code",
   "execution_count": 4,
   "id": "fabe29e3",
   "metadata": {},
   "outputs": [
    {
     "name": "stdout",
     "output_type": "stream",
     "text": [
      "[5, 4, 3, 2, 1]\n"
     ]
    }
   ],
   "source": [
    "lst = [1, 2, 3, 4, 5]\n",
    "print(lst[::-1])"
   ]
  },
  {
   "cell_type": "markdown",
   "id": "4b634a4a",
   "metadata": {},
   "source": [
    "Ex3"
   ]
  },
  {
   "cell_type": "code",
   "execution_count": 5,
   "id": "e98a4e45",
   "metadata": {},
   "outputs": [
    {
     "name": "stdout",
     "output_type": "stream",
     "text": [
      "[5, 2, 3, 4, 1]\n"
     ]
    }
   ],
   "source": [
    "lst = [1, 2, 3, 4, 5]\n",
    "def change(lst):\n",
    "    lst[0], lst[-1] = lst[-1], lst[0]\n",
    "    return lst\n",
    "\n",
    "print(change(lst))"
   ]
  },
  {
   "cell_type": "markdown",
   "id": "c0cad02d",
   "metadata": {},
   "source": [
    "Ex4"
   ]
  },
  {
   "cell_type": "code",
   "execution_count": 8,
   "id": "23a27bec",
   "metadata": {},
   "outputs": [
    {
     "name": "stdout",
     "output_type": "stream",
     "text": [
      "1.0\n"
     ]
    }
   ],
   "source": [
    "lst = [1, 2, 3, 4, 5]\n",
    "\n",
    "def useless(lst):\n",
    "    return max(lst)/len(lst)\n",
    "\n",
    "print(useless(lst))"
   ]
  },
  {
   "cell_type": "markdown",
   "id": "bacd5683",
   "metadata": {},
   "source": [
    "Ex5"
   ]
  },
  {
   "cell_type": "code",
   "execution_count": 12,
   "id": "630385c0",
   "metadata": {},
   "outputs": [
    {
     "name": "stdout",
     "output_type": "stream",
     "text": [
      "8\n",
      "['крот____', 'белка___', 'выхухоль']\n"
     ]
    }
   ],
   "source": [
    "lst = ['крот', 'белка', 'выхухоль']\n",
    "\n",
    "def all_eq(lst):\n",
    "    rez = []\n",
    "    max_len = max(len(word) for word in lst)\n",
    "    print(max_len)\n",
    "    for word in lst:\n",
    "        if len(word) == max_len:\n",
    "            rez.append(word)\n",
    "        else:\n",
    "            rez.append(word.ljust(max_len, '_'))\n",
    "    return rez\n",
    "\n",
    "print(all_eq(lst))"
   ]
  },
  {
   "cell_type": "markdown",
   "id": "b3cc5b51",
   "metadata": {},
   "source": [
    "ex1"
   ]
  },
  {
   "cell_type": "code",
   "execution_count": 15,
   "id": "b0d5821d",
   "metadata": {},
   "outputs": [
    {
     "data": {
      "text/plain": [
       "np.float64(3.8175142771159183)"
      ]
     },
     "execution_count": 15,
     "metadata": {},
     "output_type": "execute_result"
    }
   ],
   "source": [
    "import numpy as np\n",
    "\n",
    "x=1.79\n",
    "(np.cos(np.e*x) + np.log2((1 + x)**2) + (np.exp(np.cos(x) + (np.sin(np.pi * x))**2))**0.5 + (1/x)**0.5 + np.cos(x**2))**np.sin(x)"
   ]
  }
 ],
 "metadata": {
  "kernelspec": {
   "display_name": "Python 3",
   "language": "python",
   "name": "python3"
  },
  "language_info": {
   "codemirror_mode": {
    "name": "ipython",
    "version": 3
   },
   "file_extension": ".py",
   "mimetype": "text/x-python",
   "name": "python",
   "nbconvert_exporter": "python",
   "pygments_lexer": "ipython3",
   "version": "3.13.7"
  }
 },
 "nbformat": 4,
 "nbformat_minor": 5
}
