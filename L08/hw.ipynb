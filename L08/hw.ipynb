{
 "cells": [
  {
   "cell_type": "code",
   "execution_count": 1810,
   "id": "7146207c",
   "metadata": {},
   "outputs": [
    {
     "name": "stdout",
     "output_type": "stream",
     "text": [
      "Размер датасета (строки, колонки): (891, 12)\n",
      "\n",
      "Первые 10 строк датасета:\n"
     ]
    },
    {
     "data": {
      "text/html": [
       "<div>\n",
       "<style scoped>\n",
       "    .dataframe tbody tr th:only-of-type {\n",
       "        vertical-align: middle;\n",
       "    }\n",
       "\n",
       "    .dataframe tbody tr th {\n",
       "        vertical-align: top;\n",
       "    }\n",
       "\n",
       "    .dataframe thead th {\n",
       "        text-align: right;\n",
       "    }\n",
       "</style>\n",
       "<table border=\"1\" class=\"dataframe\">\n",
       "  <thead>\n",
       "    <tr style=\"text-align: right;\">\n",
       "      <th></th>\n",
       "      <th>PassengerId</th>\n",
       "      <th>Survived</th>\n",
       "      <th>Pclass</th>\n",
       "      <th>Name</th>\n",
       "      <th>Sex</th>\n",
       "      <th>Age</th>\n",
       "      <th>SibSp</th>\n",
       "      <th>Parch</th>\n",
       "      <th>Ticket</th>\n",
       "      <th>Fare</th>\n",
       "      <th>Cabin</th>\n",
       "      <th>Embarked</th>\n",
       "    </tr>\n",
       "  </thead>\n",
       "  <tbody>\n",
       "    <tr>\n",
       "      <th>0</th>\n",
       "      <td>1</td>\n",
       "      <td>0</td>\n",
       "      <td>3</td>\n",
       "      <td>Braund, Mr. Owen Harris</td>\n",
       "      <td>male</td>\n",
       "      <td>22.0</td>\n",
       "      <td>1</td>\n",
       "      <td>0</td>\n",
       "      <td>A/5 21171</td>\n",
       "      <td>7.2500</td>\n",
       "      <td>NaN</td>\n",
       "      <td>S</td>\n",
       "    </tr>\n",
       "    <tr>\n",
       "      <th>1</th>\n",
       "      <td>2</td>\n",
       "      <td>1</td>\n",
       "      <td>1</td>\n",
       "      <td>Cumings, Mrs. John Bradley (Florence Briggs Th...</td>\n",
       "      <td>female</td>\n",
       "      <td>38.0</td>\n",
       "      <td>1</td>\n",
       "      <td>0</td>\n",
       "      <td>PC 17599</td>\n",
       "      <td>71.2833</td>\n",
       "      <td>C85</td>\n",
       "      <td>C</td>\n",
       "    </tr>\n",
       "    <tr>\n",
       "      <th>2</th>\n",
       "      <td>3</td>\n",
       "      <td>1</td>\n",
       "      <td>3</td>\n",
       "      <td>Heikkinen, Miss. Laina</td>\n",
       "      <td>female</td>\n",
       "      <td>26.0</td>\n",
       "      <td>0</td>\n",
       "      <td>0</td>\n",
       "      <td>STON/O2. 3101282</td>\n",
       "      <td>7.9250</td>\n",
       "      <td>NaN</td>\n",
       "      <td>S</td>\n",
       "    </tr>\n",
       "    <tr>\n",
       "      <th>3</th>\n",
       "      <td>4</td>\n",
       "      <td>1</td>\n",
       "      <td>1</td>\n",
       "      <td>Futrelle, Mrs. Jacques Heath (Lily May Peel)</td>\n",
       "      <td>female</td>\n",
       "      <td>35.0</td>\n",
       "      <td>1</td>\n",
       "      <td>0</td>\n",
       "      <td>113803</td>\n",
       "      <td>53.1000</td>\n",
       "      <td>C123</td>\n",
       "      <td>S</td>\n",
       "    </tr>\n",
       "    <tr>\n",
       "      <th>4</th>\n",
       "      <td>5</td>\n",
       "      <td>0</td>\n",
       "      <td>3</td>\n",
       "      <td>Allen, Mr. William Henry</td>\n",
       "      <td>male</td>\n",
       "      <td>35.0</td>\n",
       "      <td>0</td>\n",
       "      <td>0</td>\n",
       "      <td>373450</td>\n",
       "      <td>8.0500</td>\n",
       "      <td>NaN</td>\n",
       "      <td>S</td>\n",
       "    </tr>\n",
       "    <tr>\n",
       "      <th>5</th>\n",
       "      <td>6</td>\n",
       "      <td>0</td>\n",
       "      <td>3</td>\n",
       "      <td>Moran, Mr. James</td>\n",
       "      <td>male</td>\n",
       "      <td>NaN</td>\n",
       "      <td>0</td>\n",
       "      <td>0</td>\n",
       "      <td>330877</td>\n",
       "      <td>8.4583</td>\n",
       "      <td>NaN</td>\n",
       "      <td>Q</td>\n",
       "    </tr>\n",
       "    <tr>\n",
       "      <th>6</th>\n",
       "      <td>7</td>\n",
       "      <td>0</td>\n",
       "      <td>1</td>\n",
       "      <td>McCarthy, Mr. Timothy J</td>\n",
       "      <td>male</td>\n",
       "      <td>54.0</td>\n",
       "      <td>0</td>\n",
       "      <td>0</td>\n",
       "      <td>17463</td>\n",
       "      <td>51.8625</td>\n",
       "      <td>E46</td>\n",
       "      <td>S</td>\n",
       "    </tr>\n",
       "    <tr>\n",
       "      <th>7</th>\n",
       "      <td>8</td>\n",
       "      <td>0</td>\n",
       "      <td>3</td>\n",
       "      <td>Palsson, Master. Gosta Leonard</td>\n",
       "      <td>male</td>\n",
       "      <td>2.0</td>\n",
       "      <td>3</td>\n",
       "      <td>1</td>\n",
       "      <td>349909</td>\n",
       "      <td>21.0750</td>\n",
       "      <td>NaN</td>\n",
       "      <td>S</td>\n",
       "    </tr>\n",
       "    <tr>\n",
       "      <th>8</th>\n",
       "      <td>9</td>\n",
       "      <td>1</td>\n",
       "      <td>3</td>\n",
       "      <td>Johnson, Mrs. Oscar W (Elisabeth Vilhelmina Berg)</td>\n",
       "      <td>female</td>\n",
       "      <td>27.0</td>\n",
       "      <td>0</td>\n",
       "      <td>2</td>\n",
       "      <td>347742</td>\n",
       "      <td>11.1333</td>\n",
       "      <td>NaN</td>\n",
       "      <td>S</td>\n",
       "    </tr>\n",
       "    <tr>\n",
       "      <th>9</th>\n",
       "      <td>10</td>\n",
       "      <td>1</td>\n",
       "      <td>2</td>\n",
       "      <td>Nasser, Mrs. Nicholas (Adele Achem)</td>\n",
       "      <td>female</td>\n",
       "      <td>14.0</td>\n",
       "      <td>1</td>\n",
       "      <td>0</td>\n",
       "      <td>237736</td>\n",
       "      <td>30.0708</td>\n",
       "      <td>NaN</td>\n",
       "      <td>C</td>\n",
       "    </tr>\n",
       "  </tbody>\n",
       "</table>\n",
       "</div>"
      ],
      "text/plain": [
       "   PassengerId  Survived  Pclass  \\\n",
       "0            1         0       3   \n",
       "1            2         1       1   \n",
       "2            3         1       3   \n",
       "3            4         1       1   \n",
       "4            5         0       3   \n",
       "5            6         0       3   \n",
       "6            7         0       1   \n",
       "7            8         0       3   \n",
       "8            9         1       3   \n",
       "9           10         1       2   \n",
       "\n",
       "                                                Name     Sex   Age  SibSp  \\\n",
       "0                            Braund, Mr. Owen Harris    male  22.0      1   \n",
       "1  Cumings, Mrs. John Bradley (Florence Briggs Th...  female  38.0      1   \n",
       "2                             Heikkinen, Miss. Laina  female  26.0      0   \n",
       "3       Futrelle, Mrs. Jacques Heath (Lily May Peel)  female  35.0      1   \n",
       "4                           Allen, Mr. William Henry    male  35.0      0   \n",
       "5                                   Moran, Mr. James    male   NaN      0   \n",
       "6                            McCarthy, Mr. Timothy J    male  54.0      0   \n",
       "7                     Palsson, Master. Gosta Leonard    male   2.0      3   \n",
       "8  Johnson, Mrs. Oscar W (Elisabeth Vilhelmina Berg)  female  27.0      0   \n",
       "9                Nasser, Mrs. Nicholas (Adele Achem)  female  14.0      1   \n",
       "\n",
       "   Parch            Ticket     Fare Cabin Embarked  \n",
       "0      0         A/5 21171   7.2500   NaN        S  \n",
       "1      0          PC 17599  71.2833   C85        C  \n",
       "2      0  STON/O2. 3101282   7.9250   NaN        S  \n",
       "3      0            113803  53.1000  C123        S  \n",
       "4      0            373450   8.0500   NaN        S  \n",
       "5      0            330877   8.4583   NaN        Q  \n",
       "6      0             17463  51.8625   E46        S  \n",
       "7      1            349909  21.0750   NaN        S  \n",
       "8      2            347742  11.1333   NaN        S  \n",
       "9      0            237736  30.0708   NaN        C  "
      ]
     },
     "execution_count": 1810,
     "metadata": {},
     "output_type": "execute_result"
    }
   ],
   "source": [
    "import numpy as np  \n",
    "import pandas as pd  \n",
    "import seaborn as sns\n",
    "import matplotlib.pyplot as plt\n",
    "from scipy import stats\n",
    "import plotly.express as px  # Для создания интерактивных визуализаций\n",
    "import plotly.graph_objects as go  # Для кастомных графиков\n",
    "from plotly.subplots import make_subplots  # Для создания subplots\n",
    "import warnings  # Для управления предупреждениями\n",
    "from sklearn.linear_model import LinearRegression\n",
    "from sklearn.linear_model import LogisticRegression\n",
    "\n",
    "import random\n",
    "import math\n",
    "warnings.filterwarnings('ignore')  # Игнорировать предупреждения для чистоты вывода\n",
    "\n",
    "# Загрузка датасета из CSV файла\n",
    "# header=0: первая строка содержит названия колонок\n",
    "# delim_whitespace=True: данные разделены пробелами\n",
    "\n",
    "df = pd.read_csv('data_tms.csv', header=0, sep=',')\n",
    "df_test = df.copy()\n",
    "\n",
    "# Проверим структуру данных\n",
    "print(\"Размер датасета (строки, колонки):\", df.shape)\n",
    "print(\"\\nПервые 10 строк датасета:\")\n",
    "df.head(10)\n"
   ]
  },
  {
   "cell_type": "markdown",
   "id": "0d2ef00d",
   "metadata": {},
   "source": [
    "Смотрим качество данных"
   ]
  },
  {
   "cell_type": "code",
   "execution_count": 1811,
   "id": "800826fd",
   "metadata": {},
   "outputs": [
    {
     "name": "stdout",
     "output_type": "stream",
     "text": [
      "Названия колонок:\n",
      "['PassengerId', 'Survived', 'Pclass', 'Name', 'Sex', 'Age', 'SibSp', 'Parch', 'Ticket', 'Fare', 'Cabin', 'Embarked']\n",
      "\n",
      "Информация о датасете:\n",
      "<class 'pandas.core.frame.DataFrame'>\n",
      "RangeIndex: 891 entries, 0 to 890\n",
      "Data columns (total 12 columns):\n",
      " #   Column       Non-Null Count  Dtype  \n",
      "---  ------       --------------  -----  \n",
      " 0   PassengerId  891 non-null    int64  \n",
      " 1   Survived     891 non-null    int64  \n",
      " 2   Pclass       891 non-null    int64  \n",
      " 3   Name         891 non-null    object \n",
      " 4   Sex          891 non-null    object \n",
      " 5   Age          714 non-null    float64\n",
      " 6   SibSp        891 non-null    int64  \n",
      " 7   Parch        891 non-null    int64  \n",
      " 8   Ticket       891 non-null    object \n",
      " 9   Fare         891 non-null    float64\n",
      " 10  Cabin        204 non-null    object \n",
      " 11  Embarked     889 non-null    object \n",
      "dtypes: float64(2), int64(5), object(5)\n",
      "memory usage: 83.7+ KB\n"
     ]
    }
   ],
   "source": [
    "print(\"Названия колонок:\")\n",
    "print(df.columns.tolist())\n",
    "print(\"\\nИнформация о датасете:\")\n",
    "df.info()  # Показываем информацию о типах данных и наличии пропусков"
   ]
  },
  {
   "cell_type": "code",
   "execution_count": 1812,
   "id": "620ebbfa",
   "metadata": {},
   "outputs": [
    {
     "name": "stdout",
     "output_type": "stream",
     "text": [
      "Пропущенные значения в каждой колонке:\n",
      "PassengerId      0\n",
      "Survived         0\n",
      "Pclass           0\n",
      "Name             0\n",
      "Sex              0\n",
      "Age            177\n",
      "SibSp            0\n",
      "Parch            0\n",
      "Ticket           0\n",
      "Fare             0\n",
      "Cabin          687\n",
      "Embarked         2\n",
      "dtype: int64\n"
     ]
    }
   ],
   "source": [
    "# Проверка на пропущенные значения\n",
    "# isnull(): возвращает булеву маску где True означает пропущенное значение\n",
    "# sum(): суммирует True значения (1) по каждой колонке\n",
    "missing_values = df.isnull().sum()\n",
    "print(\"Пропущенные значения в каждой колонке:\")\n",
    "print(missing_values)"
   ]
  },
  {
   "cell_type": "markdown",
   "id": "d5fa14ea",
   "metadata": {},
   "source": [
    "Пустые Embarked"
   ]
  },
  {
   "cell_type": "code",
   "execution_count": 1813,
   "id": "16c4ada6",
   "metadata": {},
   "outputs": [
    {
     "data": {
      "text/html": [
       "<div>\n",
       "<style scoped>\n",
       "    .dataframe tbody tr th:only-of-type {\n",
       "        vertical-align: middle;\n",
       "    }\n",
       "\n",
       "    .dataframe tbody tr th {\n",
       "        vertical-align: top;\n",
       "    }\n",
       "\n",
       "    .dataframe thead th {\n",
       "        text-align: right;\n",
       "    }\n",
       "</style>\n",
       "<table border=\"1\" class=\"dataframe\">\n",
       "  <thead>\n",
       "    <tr style=\"text-align: right;\">\n",
       "      <th></th>\n",
       "      <th>PassengerId</th>\n",
       "      <th>Survived</th>\n",
       "      <th>Pclass</th>\n",
       "      <th>Name</th>\n",
       "      <th>Sex</th>\n",
       "      <th>Age</th>\n",
       "      <th>SibSp</th>\n",
       "      <th>Parch</th>\n",
       "      <th>Ticket</th>\n",
       "      <th>Fare</th>\n",
       "      <th>Cabin</th>\n",
       "      <th>Embarked</th>\n",
       "    </tr>\n",
       "  </thead>\n",
       "  <tbody>\n",
       "    <tr>\n",
       "      <th>61</th>\n",
       "      <td>62</td>\n",
       "      <td>1</td>\n",
       "      <td>1</td>\n",
       "      <td>Icard, Miss. Amelie</td>\n",
       "      <td>female</td>\n",
       "      <td>38.0</td>\n",
       "      <td>0</td>\n",
       "      <td>0</td>\n",
       "      <td>113572</td>\n",
       "      <td>80.0</td>\n",
       "      <td>B28</td>\n",
       "      <td>NaN</td>\n",
       "    </tr>\n",
       "    <tr>\n",
       "      <th>829</th>\n",
       "      <td>830</td>\n",
       "      <td>1</td>\n",
       "      <td>1</td>\n",
       "      <td>Stone, Mrs. George Nelson (Martha Evelyn)</td>\n",
       "      <td>female</td>\n",
       "      <td>62.0</td>\n",
       "      <td>0</td>\n",
       "      <td>0</td>\n",
       "      <td>113572</td>\n",
       "      <td>80.0</td>\n",
       "      <td>B28</td>\n",
       "      <td>NaN</td>\n",
       "    </tr>\n",
       "  </tbody>\n",
       "</table>\n",
       "</div>"
      ],
      "text/plain": [
       "     PassengerId  Survived  Pclass                                       Name  \\\n",
       "61            62         1       1                        Icard, Miss. Amelie   \n",
       "829          830         1       1  Stone, Mrs. George Nelson (Martha Evelyn)   \n",
       "\n",
       "        Sex   Age  SibSp  Parch  Ticket  Fare Cabin Embarked  \n",
       "61   female  38.0      0      0  113572  80.0   B28      NaN  \n",
       "829  female  62.0      0      0  113572  80.0   B28      NaN  "
      ]
     },
     "execution_count": 1813,
     "metadata": {},
     "output_type": "execute_result"
    }
   ],
   "source": [
    "df[df['Embarked'].isnull()]  # Проверяем строки с пропущенным Embarked"
   ]
  },
  {
   "cell_type": "markdown",
   "id": "2143e8e1",
   "metadata": {},
   "source": [
    "Заполняем пустые значения вокзалов отправления"
   ]
  },
  {
   "cell_type": "code",
   "execution_count": 1814,
   "id": "f3c6e60e",
   "metadata": {},
   "outputs": [
    {
     "name": "stdout",
     "output_type": "stream",
     "text": [
      "Распределение вокзалов до обработки:\n",
      "Embarked\n",
      "S    644\n",
      "C    168\n",
      "Q     77\n",
      "Name: count, dtype: int64\n",
      "\n",
      "Распределение  после обработки:\n",
      "Embarked_num\n",
      "0    646\n",
      "1    168\n",
      "2     77\n",
      "Name: count, dtype: int64\n"
     ]
    }
   ],
   "source": [
    "print(\"Распределение вокзалов до обработки:\")\n",
    "print(df['Embarked'].value_counts())\n",
    "\n",
    "\n",
    "most_common_embarked = df['Embarked'].mode()[0]\n",
    "df['Embarked'].fillna(most_common_embarked, inplace=True)\n",
    "df['Embarked_num'] = df['Embarked'].map({\n",
    "    'S': 0, \n",
    "    'C': 1, \n",
    "    'Q': 2\n",
    "}).astype(int)\n",
    "df.drop(columns=['Embarked'], inplace=True) # Удаляем оригинальную колонку\n",
    "\n",
    "print(\"\\nРаспределение  после обработки:\")\n",
    "print(df['Embarked_num'].value_counts())"
   ]
  },
  {
   "cell_type": "markdown",
   "id": "f5491301",
   "metadata": {},
   "source": [
    "Пустые Age"
   ]
  },
  {
   "cell_type": "code",
   "execution_count": 1815,
   "id": "40eaaea2",
   "metadata": {},
   "outputs": [
    {
     "name": "stdout",
     "output_type": "stream",
     "text": [
      "     PassengerId  Survived  Pclass                              Name     Sex  \\\n",
      "19            20         1       3           Masselmani, Mrs. Fatima  female   \n",
      "674          675         0       2        Watson, Mr. Ennis Hastings    male   \n",
      "680          681         0       3               Peters, Miss. Katie  female   \n",
      "711          712         0       1                Klaber, Mr. Herman    male   \n",
      "198          199         1       3  Madigan, Miss. Margaret \"Maggie\"  female   \n",
      "653          654         1       3     O'Leary, Miss. Hanora \"Norah\"  female   \n",
      "358          359         1       3              McGovern, Miss. Mary  female   \n",
      "547          548         1       2        Padro y Manent, Mr. Julian    male   \n",
      "739          740         0       3                Nankoff, Mr. Minko    male   \n",
      "538          539         0       3          Risien, Mr. Samuel Beard    male   \n",
      "\n",
      "     Age  SibSp  Parch         Ticket     Fare Cabin  Embarked_num  \n",
      "19   NaN      0      0           2649   7.2250   NaN             1  \n",
      "674  NaN      0      0         239856   0.0000   NaN             0  \n",
      "680  NaN      0      0         330935   8.1375   NaN             2  \n",
      "711  NaN      0      0         113028  26.5500  C124             0  \n",
      "198  NaN      0      0         370370   7.7500   NaN             2  \n",
      "653  NaN      0      0         330919   7.8292   NaN             2  \n",
      "358  NaN      0      0         330931   7.8792   NaN             2  \n",
      "547  NaN      0      0  SC/PARIS 2146  13.8625   NaN             1  \n",
      "739  NaN      0      0         349218   7.8958   NaN             0  \n",
      "538  NaN      0      0         364498  14.5000   NaN             0  \n"
     ]
    }
   ],
   "source": [
    "print(df[df['Age'].isnull()].sample(10))  # Случайные 10 строк с пропущенным Age"
   ]
  },
  {
   "cell_type": "markdown",
   "id": "2df281d5",
   "metadata": {},
   "source": [
    "Заполняем Age"
   ]
  },
  {
   "cell_type": "code",
   "execution_count": 1816,
   "id": "33b7820a",
   "metadata": {},
   "outputs": [
    {
     "name": "stdout",
     "output_type": "stream",
     "text": [
      "статистики до заполненияя:\n",
      "count    714.000000\n",
      "mean      29.699118\n",
      "std       14.526497\n",
      "min        0.420000\n",
      "25%       20.125000\n",
      "50%       28.000000\n",
      "75%       38.000000\n",
      "max       80.000000\n",
      "Name: Age, dtype: float64\n",
      "\n",
      "статистики до заполненияя:\n",
      "count    891.000000\n",
      "mean      29.112424\n",
      "std       13.304424\n",
      "min        0.420000\n",
      "25%       21.500000\n",
      "50%       26.000000\n",
      "75%       36.000000\n",
      "max       80.000000\n",
      "Name: Age, dtype: float64\n"
     ]
    }
   ],
   "source": [
    "\n",
    "print(\"статистики до заполненияя:\")\n",
    "print(df['Age'].describe())\n",
    "\n",
    "# Заполним пропуски медианным возрастом по полу и классу\n",
    "age_median = df.groupby(['Sex', 'Pclass'])['Age'].median()\n",
    "\n",
    "def fill_age(row):\n",
    "    if pd.isnull(row['Age']):\n",
    "        return age_median[row['Sex'], row['Pclass']]\n",
    "    return row['Age']\n",
    "\n",
    "df['Age'] = df.apply(fill_age, axis=1)\n",
    "\n",
    "print(\"\\nстатистики до заполненияя:\")\n",
    "print(df['Age'].describe())"
   ]
  },
  {
   "cell_type": "markdown",
   "id": "b560e648",
   "metadata": {},
   "source": [
    "Смотрим уникальные Sex"
   ]
  },
  {
   "cell_type": "code",
   "execution_count": 1817,
   "id": "e0dd2d22",
   "metadata": {},
   "outputs": [
    {
     "name": "stdout",
     "output_type": "stream",
     "text": [
      "['male' 'female']\n",
      "[1 0 3 4 2 5 8]\n",
      "[nan 'C85' 'C123' 'E46' 'G6' 'C103' 'D56' 'A6' 'C23 C25 C27' 'B78' 'D33'\n",
      " 'B30' 'C52' 'B28' 'C83' 'F33' 'F G73' 'E31' 'A5' 'D10 D12' 'D26' 'C110'\n",
      " 'B58 B60' 'E101' 'F E69' 'D47' 'B86' 'F2' 'C2' 'E33' 'B19' 'A7' 'C49'\n",
      " 'F4' 'A32' 'B4' 'B80' 'A31' 'D36' 'D15' 'C93' 'C78' 'D35' 'C87' 'B77'\n",
      " 'E67' 'B94' 'C125' 'C99' 'C118' 'D7' 'A19' 'B49' 'D' 'C22 C26' 'C106'\n",
      " 'C65' 'E36' 'C54' 'B57 B59 B63 B66' 'C7' 'E34' 'C32' 'B18' 'C124' 'C91'\n",
      " 'E40' 'T' 'C128' 'D37' 'B35' 'E50' 'C82' 'B96 B98' 'E10' 'E44' 'A34'\n",
      " 'C104' 'C111' 'C92' 'E38' 'D21' 'E12' 'E63' 'A14' 'B37' 'C30' 'D20' 'B79'\n",
      " 'E25' 'D46' 'B73' 'C95' 'B38' 'B39' 'B22' 'C86' 'C70' 'A16' 'C101' 'C68'\n",
      " 'A10' 'E68' 'B41' 'A20' 'D19' 'D50' 'D9' 'A23' 'B50' 'A26' 'D48' 'E58'\n",
      " 'C126' 'B71' 'B51 B53 B55' 'D49' 'B5' 'B20' 'F G63' 'C62 C64' 'E24' 'C90'\n",
      " 'C45' 'E8' 'B101' 'D45' 'C46' 'D30' 'E121' 'D11' 'E77' 'F38' 'B3' 'D6'\n",
      " 'B82 B84' 'D17' 'A36' 'B102' 'B69' 'E49' 'C47' 'D28' 'E17' 'A24' 'C50'\n",
      " 'B42' 'C148']\n"
     ]
    }
   ],
   "source": [
    "print(df['Sex'].unique())\n",
    "print(df['SibSp'].unique())\n",
    "print(df['Cabin'].unique())"
   ]
  },
  {
   "cell_type": "markdown",
   "id": "64991b9c",
   "metadata": {},
   "source": [
    "Приводим к числам Sex"
   ]
  },
  {
   "cell_type": "code",
   "execution_count": 1818,
   "id": "76b63a6b",
   "metadata": {},
   "outputs": [
    {
     "data": {
      "text/html": [
       "<div>\n",
       "<style scoped>\n",
       "    .dataframe tbody tr th:only-of-type {\n",
       "        vertical-align: middle;\n",
       "    }\n",
       "\n",
       "    .dataframe tbody tr th {\n",
       "        vertical-align: top;\n",
       "    }\n",
       "\n",
       "    .dataframe thead th {\n",
       "        text-align: right;\n",
       "    }\n",
       "</style>\n",
       "<table border=\"1\" class=\"dataframe\">\n",
       "  <thead>\n",
       "    <tr style=\"text-align: right;\">\n",
       "      <th></th>\n",
       "      <th>PassengerId</th>\n",
       "      <th>Survived</th>\n",
       "      <th>Pclass</th>\n",
       "      <th>Name</th>\n",
       "      <th>Age</th>\n",
       "      <th>SibSp</th>\n",
       "      <th>Parch</th>\n",
       "      <th>Ticket</th>\n",
       "      <th>Fare</th>\n",
       "      <th>Cabin</th>\n",
       "      <th>Embarked_num</th>\n",
       "      <th>Sex_numeric</th>\n",
       "    </tr>\n",
       "  </thead>\n",
       "  <tbody>\n",
       "    <tr>\n",
       "      <th>0</th>\n",
       "      <td>1</td>\n",
       "      <td>0</td>\n",
       "      <td>3</td>\n",
       "      <td>Braund, Mr. Owen Harris</td>\n",
       "      <td>22.0</td>\n",
       "      <td>1</td>\n",
       "      <td>0</td>\n",
       "      <td>A/5 21171</td>\n",
       "      <td>7.2500</td>\n",
       "      <td>NaN</td>\n",
       "      <td>0</td>\n",
       "      <td>1</td>\n",
       "    </tr>\n",
       "    <tr>\n",
       "      <th>1</th>\n",
       "      <td>2</td>\n",
       "      <td>1</td>\n",
       "      <td>1</td>\n",
       "      <td>Cumings, Mrs. John Bradley (Florence Briggs Th...</td>\n",
       "      <td>38.0</td>\n",
       "      <td>1</td>\n",
       "      <td>0</td>\n",
       "      <td>PC 17599</td>\n",
       "      <td>71.2833</td>\n",
       "      <td>C85</td>\n",
       "      <td>1</td>\n",
       "      <td>0</td>\n",
       "    </tr>\n",
       "    <tr>\n",
       "      <th>2</th>\n",
       "      <td>3</td>\n",
       "      <td>1</td>\n",
       "      <td>3</td>\n",
       "      <td>Heikkinen, Miss. Laina</td>\n",
       "      <td>26.0</td>\n",
       "      <td>0</td>\n",
       "      <td>0</td>\n",
       "      <td>STON/O2. 3101282</td>\n",
       "      <td>7.9250</td>\n",
       "      <td>NaN</td>\n",
       "      <td>0</td>\n",
       "      <td>0</td>\n",
       "    </tr>\n",
       "    <tr>\n",
       "      <th>3</th>\n",
       "      <td>4</td>\n",
       "      <td>1</td>\n",
       "      <td>1</td>\n",
       "      <td>Futrelle, Mrs. Jacques Heath (Lily May Peel)</td>\n",
       "      <td>35.0</td>\n",
       "      <td>1</td>\n",
       "      <td>0</td>\n",
       "      <td>113803</td>\n",
       "      <td>53.1000</td>\n",
       "      <td>C123</td>\n",
       "      <td>0</td>\n",
       "      <td>0</td>\n",
       "    </tr>\n",
       "    <tr>\n",
       "      <th>4</th>\n",
       "      <td>5</td>\n",
       "      <td>0</td>\n",
       "      <td>3</td>\n",
       "      <td>Allen, Mr. William Henry</td>\n",
       "      <td>35.0</td>\n",
       "      <td>0</td>\n",
       "      <td>0</td>\n",
       "      <td>373450</td>\n",
       "      <td>8.0500</td>\n",
       "      <td>NaN</td>\n",
       "      <td>0</td>\n",
       "      <td>1</td>\n",
       "    </tr>\n",
       "  </tbody>\n",
       "</table>\n",
       "</div>"
      ],
      "text/plain": [
       "   PassengerId  Survived  Pclass  \\\n",
       "0            1         0       3   \n",
       "1            2         1       1   \n",
       "2            3         1       3   \n",
       "3            4         1       1   \n",
       "4            5         0       3   \n",
       "\n",
       "                                                Name   Age  SibSp  Parch  \\\n",
       "0                            Braund, Mr. Owen Harris  22.0      1      0   \n",
       "1  Cumings, Mrs. John Bradley (Florence Briggs Th...  38.0      1      0   \n",
       "2                             Heikkinen, Miss. Laina  26.0      0      0   \n",
       "3       Futrelle, Mrs. Jacques Heath (Lily May Peel)  35.0      1      0   \n",
       "4                           Allen, Mr. William Henry  35.0      0      0   \n",
       "\n",
       "             Ticket     Fare Cabin  Embarked_num  Sex_numeric  \n",
       "0         A/5 21171   7.2500   NaN             0            1  \n",
       "1          PC 17599  71.2833   C85             1            0  \n",
       "2  STON/O2. 3101282   7.9250   NaN             0            0  \n",
       "3            113803  53.1000  C123             0            0  \n",
       "4            373450   8.0500   NaN             0            1  "
      ]
     },
     "execution_count": 1818,
     "metadata": {},
     "output_type": "execute_result"
    }
   ],
   "source": [
    "df['Sex_numeric'] = df['Sex'].map({'male': 1, 'female': 0})\n",
    "df.drop(columns=['Sex'], inplace=True) # Удаляем оригинальную колонку\n",
    "df.head()  # Проверяем результат"
   ]
  },
  {
   "cell_type": "markdown",
   "id": "eb48b0a9",
   "metadata": {},
   "source": [
    "Заменим Cabin на HasCabin"
   ]
  },
  {
   "cell_type": "code",
   "execution_count": 1819,
   "id": "492f7343",
   "metadata": {},
   "outputs": [
    {
     "name": "stdout",
     "output_type": "stream",
     "text": [
      "статистики до заполненияя:\n",
      "count     204\n",
      "unique    147\n",
      "top        G6\n",
      "freq        4\n",
      "Name: Cabin, dtype: object\n",
      "Cabin\n",
      "G6             4\n",
      "C23 C25 C27    4\n",
      "B96 B98        4\n",
      "F2             3\n",
      "D              3\n",
      "              ..\n",
      "E17            1\n",
      "A24            1\n",
      "C50            1\n",
      "B42            1\n",
      "C148           1\n",
      "Name: count, Length: 147, dtype: int64\n",
      "\n",
      "статистики до заполненияя:\n",
      "HasCabin\n",
      "False    687\n",
      "True     204\n",
      "Name: count, dtype: int64\n",
      "count       891\n",
      "unique        2\n",
      "top       False\n",
      "freq        687\n",
      "Name: HasCabin, dtype: object\n",
      "   PassengerId  Survived  Pclass  \\\n",
      "0            1         0       3   \n",
      "1            2         1       1   \n",
      "2            3         1       3   \n",
      "3            4         1       1   \n",
      "4            5         0       3   \n",
      "\n",
      "                                                Name   Age  SibSp  Parch  \\\n",
      "0                            Braund, Mr. Owen Harris  22.0      1      0   \n",
      "1  Cumings, Mrs. John Bradley (Florence Briggs Th...  38.0      1      0   \n",
      "2                             Heikkinen, Miss. Laina  26.0      0      0   \n",
      "3       Futrelle, Mrs. Jacques Heath (Lily May Peel)  35.0      1      0   \n",
      "4                           Allen, Mr. William Henry  35.0      0      0   \n",
      "\n",
      "             Ticket     Fare  Embarked_num  Sex_numeric  HasCabin  \n",
      "0         A/5 21171   7.2500             0            1     False  \n",
      "1          PC 17599  71.2833             1            0      True  \n",
      "2  STON/O2. 3101282   7.9250             0            0     False  \n",
      "3            113803  53.1000             0            0      True  \n",
      "4            373450   8.0500             0            1     False  \n"
     ]
    }
   ],
   "source": [
    "print(\"статистики до заполненияя:\")\n",
    "print(df['Cabin'].describe())\n",
    "print(df['Cabin'].value_counts())\n",
    "# Заполним пропуски медианным возрастом по полу и классу\n",
    "df['HasCabin'] = df['Cabin'].notnull()\n",
    "df.drop(columns=['Cabin'], inplace=True) # Удаляем оригинальную колонку\n",
    "\n",
    "print(\"\\nстатистики до заполненияя:\")\n",
    "print(df['HasCabin'].value_counts())\n",
    "print(df['HasCabin'].describe())\n",
    "print(df.head())"
   ]
  },
  {
   "cell_type": "markdown",
   "id": "3ff1c91a",
   "metadata": {},
   "source": [
    "Парсим поле Имя и удаляем ненужные столбцы"
   ]
  },
  {
   "cell_type": "code",
   "execution_count": 1820,
   "id": "b4104308",
   "metadata": {},
   "outputs": [
    {
     "data": {
      "text/html": [
       "<div>\n",
       "<style scoped>\n",
       "    .dataframe tbody tr th:only-of-type {\n",
       "        vertical-align: middle;\n",
       "    }\n",
       "\n",
       "    .dataframe tbody tr th {\n",
       "        vertical-align: top;\n",
       "    }\n",
       "\n",
       "    .dataframe thead th {\n",
       "        text-align: right;\n",
       "    }\n",
       "</style>\n",
       "<table border=\"1\" class=\"dataframe\">\n",
       "  <thead>\n",
       "    <tr style=\"text-align: right;\">\n",
       "      <th></th>\n",
       "      <th>PassengerId</th>\n",
       "      <th>Survived</th>\n",
       "      <th>Pclass</th>\n",
       "      <th>Age</th>\n",
       "      <th>SibSp</th>\n",
       "      <th>Parch</th>\n",
       "      <th>Ticket</th>\n",
       "      <th>Fare</th>\n",
       "      <th>Embarked_num</th>\n",
       "      <th>Sex_numeric</th>\n",
       "      <th>HasCabin</th>\n",
       "      <th>Title</th>\n",
       "    </tr>\n",
       "  </thead>\n",
       "  <tbody>\n",
       "    <tr>\n",
       "      <th>0</th>\n",
       "      <td>1</td>\n",
       "      <td>0</td>\n",
       "      <td>3</td>\n",
       "      <td>22.0</td>\n",
       "      <td>1</td>\n",
       "      <td>0</td>\n",
       "      <td>A/5 21171</td>\n",
       "      <td>7.2500</td>\n",
       "      <td>0</td>\n",
       "      <td>1</td>\n",
       "      <td>False</td>\n",
       "      <td>Mr.</td>\n",
       "    </tr>\n",
       "    <tr>\n",
       "      <th>1</th>\n",
       "      <td>2</td>\n",
       "      <td>1</td>\n",
       "      <td>1</td>\n",
       "      <td>38.0</td>\n",
       "      <td>1</td>\n",
       "      <td>0</td>\n",
       "      <td>PC 17599</td>\n",
       "      <td>71.2833</td>\n",
       "      <td>1</td>\n",
       "      <td>0</td>\n",
       "      <td>True</td>\n",
       "      <td>Mrs.</td>\n",
       "    </tr>\n",
       "    <tr>\n",
       "      <th>2</th>\n",
       "      <td>3</td>\n",
       "      <td>1</td>\n",
       "      <td>3</td>\n",
       "      <td>26.0</td>\n",
       "      <td>0</td>\n",
       "      <td>0</td>\n",
       "      <td>STON/O2. 3101282</td>\n",
       "      <td>7.9250</td>\n",
       "      <td>0</td>\n",
       "      <td>0</td>\n",
       "      <td>False</td>\n",
       "      <td>Miss.</td>\n",
       "    </tr>\n",
       "    <tr>\n",
       "      <th>3</th>\n",
       "      <td>4</td>\n",
       "      <td>1</td>\n",
       "      <td>1</td>\n",
       "      <td>35.0</td>\n",
       "      <td>1</td>\n",
       "      <td>0</td>\n",
       "      <td>113803</td>\n",
       "      <td>53.1000</td>\n",
       "      <td>0</td>\n",
       "      <td>0</td>\n",
       "      <td>True</td>\n",
       "      <td>Mrs.</td>\n",
       "    </tr>\n",
       "    <tr>\n",
       "      <th>4</th>\n",
       "      <td>5</td>\n",
       "      <td>0</td>\n",
       "      <td>3</td>\n",
       "      <td>35.0</td>\n",
       "      <td>0</td>\n",
       "      <td>0</td>\n",
       "      <td>373450</td>\n",
       "      <td>8.0500</td>\n",
       "      <td>0</td>\n",
       "      <td>1</td>\n",
       "      <td>False</td>\n",
       "      <td>Mr.</td>\n",
       "    </tr>\n",
       "    <tr>\n",
       "      <th>...</th>\n",
       "      <td>...</td>\n",
       "      <td>...</td>\n",
       "      <td>...</td>\n",
       "      <td>...</td>\n",
       "      <td>...</td>\n",
       "      <td>...</td>\n",
       "      <td>...</td>\n",
       "      <td>...</td>\n",
       "      <td>...</td>\n",
       "      <td>...</td>\n",
       "      <td>...</td>\n",
       "      <td>...</td>\n",
       "    </tr>\n",
       "    <tr>\n",
       "      <th>95</th>\n",
       "      <td>96</td>\n",
       "      <td>0</td>\n",
       "      <td>3</td>\n",
       "      <td>25.0</td>\n",
       "      <td>0</td>\n",
       "      <td>0</td>\n",
       "      <td>374910</td>\n",
       "      <td>8.0500</td>\n",
       "      <td>0</td>\n",
       "      <td>1</td>\n",
       "      <td>False</td>\n",
       "      <td>Mr.</td>\n",
       "    </tr>\n",
       "    <tr>\n",
       "      <th>96</th>\n",
       "      <td>97</td>\n",
       "      <td>0</td>\n",
       "      <td>1</td>\n",
       "      <td>71.0</td>\n",
       "      <td>0</td>\n",
       "      <td>0</td>\n",
       "      <td>PC 17754</td>\n",
       "      <td>34.6542</td>\n",
       "      <td>1</td>\n",
       "      <td>1</td>\n",
       "      <td>True</td>\n",
       "      <td>Mr.</td>\n",
       "    </tr>\n",
       "    <tr>\n",
       "      <th>97</th>\n",
       "      <td>98</td>\n",
       "      <td>1</td>\n",
       "      <td>1</td>\n",
       "      <td>23.0</td>\n",
       "      <td>0</td>\n",
       "      <td>1</td>\n",
       "      <td>PC 17759</td>\n",
       "      <td>63.3583</td>\n",
       "      <td>1</td>\n",
       "      <td>1</td>\n",
       "      <td>True</td>\n",
       "      <td>Mr.</td>\n",
       "    </tr>\n",
       "    <tr>\n",
       "      <th>98</th>\n",
       "      <td>99</td>\n",
       "      <td>1</td>\n",
       "      <td>2</td>\n",
       "      <td>34.0</td>\n",
       "      <td>0</td>\n",
       "      <td>1</td>\n",
       "      <td>231919</td>\n",
       "      <td>23.0000</td>\n",
       "      <td>0</td>\n",
       "      <td>0</td>\n",
       "      <td>False</td>\n",
       "      <td>Mrs.</td>\n",
       "    </tr>\n",
       "    <tr>\n",
       "      <th>99</th>\n",
       "      <td>100</td>\n",
       "      <td>0</td>\n",
       "      <td>2</td>\n",
       "      <td>34.0</td>\n",
       "      <td>1</td>\n",
       "      <td>0</td>\n",
       "      <td>244367</td>\n",
       "      <td>26.0000</td>\n",
       "      <td>0</td>\n",
       "      <td>1</td>\n",
       "      <td>False</td>\n",
       "      <td>Mr.</td>\n",
       "    </tr>\n",
       "  </tbody>\n",
       "</table>\n",
       "<p>100 rows × 12 columns</p>\n",
       "</div>"
      ],
      "text/plain": [
       "    PassengerId  Survived  Pclass   Age  SibSp  Parch            Ticket  \\\n",
       "0             1         0       3  22.0      1      0         A/5 21171   \n",
       "1             2         1       1  38.0      1      0          PC 17599   \n",
       "2             3         1       3  26.0      0      0  STON/O2. 3101282   \n",
       "3             4         1       1  35.0      1      0            113803   \n",
       "4             5         0       3  35.0      0      0            373450   \n",
       "..          ...       ...     ...   ...    ...    ...               ...   \n",
       "95           96         0       3  25.0      0      0            374910   \n",
       "96           97         0       1  71.0      0      0          PC 17754   \n",
       "97           98         1       1  23.0      0      1          PC 17759   \n",
       "98           99         1       2  34.0      0      1            231919   \n",
       "99          100         0       2  34.0      1      0            244367   \n",
       "\n",
       "       Fare  Embarked_num  Sex_numeric  HasCabin  Title  \n",
       "0    7.2500             0            1     False    Mr.  \n",
       "1   71.2833             1            0      True   Mrs.  \n",
       "2    7.9250             0            0     False  Miss.  \n",
       "3   53.1000             0            0      True   Mrs.  \n",
       "4    8.0500             0            1     False    Mr.  \n",
       "..      ...           ...          ...       ...    ...  \n",
       "95   8.0500             0            1     False    Mr.  \n",
       "96  34.6542             1            1      True    Mr.  \n",
       "97  63.3583             1            1      True    Mr.  \n",
       "98  23.0000             0            0     False   Mrs.  \n",
       "99  26.0000             0            1     False    Mr.  \n",
       "\n",
       "[100 rows x 12 columns]"
      ]
     },
     "execution_count": 1820,
     "metadata": {},
     "output_type": "execute_result"
    }
   ],
   "source": [
    "def parse_name_simple(full_name):\n",
    "    \"\"\"\n",
    "    Парсит строку формата: LastName, Title. FirstName (SpouseFirstName SpouseLastName)\n",
    "    без использования регулярных выражений\n",
    "    \"\"\"\n",
    "    result = {\n",
    "        'LastName': np.nan,\n",
    "        'Title': np.nan,\n",
    "        'FirstName': np.nan,\n",
    "        'SpouseFirstName': np.nan,\n",
    "        'SpouseLastName': np.nan\n",
    "    }\n",
    "    \n",
    "    if pd.isna(full_name) or not isinstance(full_name, str) or not full_name.strip():\n",
    "        return result\n",
    "    \n",
    "    full_name = full_name.strip()\n",
    "    \n",
    "    # Шаг 1: Извлечение информации о супруге (если есть)\n",
    "    spouse_first_name = np.nan\n",
    "    spouse_last_name = np.nan\n",
    "    main_part = full_name\n",
    "    \n",
    "    if '(' in full_name and ')' in full_name:\n",
    "        # Находим часть в скобках\n",
    "        start_idx = full_name.find('(')\n",
    "        end_idx = full_name.find(')')\n",
    "        \n",
    "        if start_idx < end_idx:  # Проверяем корректность скобок\n",
    "            spouse_info = full_name[start_idx + 1:end_idx].strip()\n",
    "            main_part = full_name[:start_idx].strip() + full_name[end_idx + 1:].strip()\n",
    "            \n",
    "            # Разделяем информацию о супруге\n",
    "            spouse_parts = spouse_info.split()\n",
    "            if len(spouse_parts) >= 2:\n",
    "                spouse_first_name = ' '.join(spouse_parts[:-1])\n",
    "                spouse_last_name = spouse_parts[-1]\n",
    "            elif len(spouse_parts) == 1:\n",
    "                spouse_last_name = spouse_parts[0]\n",
    "    \n",
    "    result['SpouseFirstName'] = spouse_first_name\n",
    "    result['SpouseLastName'] = spouse_last_name\n",
    "    \n",
    "    # Шаг 2: Разбор основной части\n",
    "    if ',' in main_part:\n",
    "        # Разделяем фамилию и остальное\n",
    "        comma_idx = main_part.find(',')\n",
    "        last_name = main_part[:comma_idx].strip()\n",
    "        rest = main_part[comma_idx + 1:].strip()\n",
    "        \n",
    "        result['LastName'] = last_name\n",
    "        \n",
    "        # Ищем точку для разделения Title и FirstName\n",
    "        if '.' in rest:\n",
    "            dot_idx = rest.find('.')\n",
    "            title = rest[:dot_idx + 1].strip()  # Включаем точку\n",
    "            first_name = rest[dot_idx + 1:].strip()\n",
    "            \n",
    "            result['Title'] = title\n",
    "            result['FirstName'] = first_name\n",
    "        else:\n",
    "            # Если нет точки, пробуем другой подход\n",
    "            parts = rest.split()\n",
    "            if parts:\n",
    "                # Предполагаем, что первое слово - это Title\n",
    "                result['Title'] = parts[0]\n",
    "                if len(parts) > 1:\n",
    "                    result['FirstName'] = ' '.join(parts[1:])\n",
    "    \n",
    "    return result\n",
    "\n",
    "# Применяем функцию парсинга\n",
    "parsed_data = df['Name'].apply(parse_name_simple)\n",
    "\n",
    "# Создаем новые столбцы\n",
    "\n",
    "new_columns = ['LastName', 'Title', 'FirstName', 'SpouseFirstName', 'SpouseLastName']\n",
    "df[new_columns] = pd.DataFrame(parsed_data.tolist(), index=df.index)\n",
    "\n",
    "\n",
    "# Удаляем оригинальный столбец 'Name'\n",
    "df.drop(columns=['Name'], inplace=True)\n",
    "df.drop(columns=['LastName'], inplace=True)\n",
    "df.drop(columns=['FirstName'], inplace=True)\n",
    "df.drop(columns=['SpouseFirstName'], inplace=True)\n",
    "df.drop(columns=['SpouseLastName'], inplace=True)\n",
    "df.head(100)  # Проверяем результат\n"
   ]
  },
  {
   "cell_type": "markdown",
   "id": "4a4b19d0",
   "metadata": {},
   "source": [
    "Преобразуем Title"
   ]
  },
  {
   "cell_type": "code",
   "execution_count": 1821,
   "id": "5c96a390",
   "metadata": {},
   "outputs": [
    {
     "data": {
      "text/plain": [
       "Title\n",
       "Mr.              517\n",
       "Miss.            182\n",
       "Mrs.             125\n",
       "Master.           40\n",
       "Dr.                7\n",
       "Rev.               6\n",
       "Col.               2\n",
       "Mlle.              2\n",
       "Major.             2\n",
       "Ms.                1\n",
       "Mme.               1\n",
       "Don.               1\n",
       "Lady.              1\n",
       "Sir.               1\n",
       "Capt.              1\n",
       "the Countess.      1\n",
       "Jonkheer.          1\n",
       "Name: count, dtype: int64"
      ]
     },
     "execution_count": 1821,
     "metadata": {},
     "output_type": "execute_result"
    }
   ],
   "source": [
    "df['Title'].value_counts()"
   ]
  },
  {
   "cell_type": "code",
   "execution_count": 1822,
   "id": "08159707",
   "metadata": {},
   "outputs": [
    {
     "data": {
      "text/plain": [
       "Title_num\n",
       "0     517\n",
       "1     182\n",
       "2     125\n",
       "3      40\n",
       "4       7\n",
       "5       6\n",
       "6       2\n",
       "7       2\n",
       "8       2\n",
       "9       1\n",
       "10      1\n",
       "11      1\n",
       "12      1\n",
       "13      1\n",
       "14      1\n",
       "15      1\n",
       "16      1\n",
       "Name: count, dtype: int64"
      ]
     },
     "execution_count": 1822,
     "metadata": {},
     "output_type": "execute_result"
    }
   ],
   "source": [
    "df['Title_num'] = df['Title'].map({\n",
    "    'Mr.': 0, \n",
    "    'Miss.': 1, \n",
    "    'Mrs.': 2, \n",
    "    'Master.': 3, \n",
    "    'Dr.': 4, \n",
    "    'Rev.': 5, \n",
    "    'Col.': 6, \n",
    "    'Mlle.': 7,\n",
    "    'Major.': 8,\n",
    "    'Ms.': 9,    \n",
    "    'Mme.': 10,\n",
    "    'Don.': 11, \n",
    "    'Lady.': 12, \n",
    "    'Sir.': 13, \n",
    "    'Capt.': 14,\n",
    "    'the Countess.': 15, \n",
    "    'Jonkheer.': 16, \n",
    "}).astype(int)\n",
    "df.drop(columns=['Title'], inplace=True) # Удаляем оригинальную колонку\n",
    "#df.head()  # Проверяем результат\n",
    "df['Title_num'].value_counts()"
   ]
  },
  {
   "cell_type": "code",
   "execution_count": 1823,
   "id": "19095cf0",
   "metadata": {},
   "outputs": [
    {
     "data": {
      "text/html": [
       "<div>\n",
       "<style scoped>\n",
       "    .dataframe tbody tr th:only-of-type {\n",
       "        vertical-align: middle;\n",
       "    }\n",
       "\n",
       "    .dataframe tbody tr th {\n",
       "        vertical-align: top;\n",
       "    }\n",
       "\n",
       "    .dataframe thead th {\n",
       "        text-align: right;\n",
       "    }\n",
       "</style>\n",
       "<table border=\"1\" class=\"dataframe\">\n",
       "  <thead>\n",
       "    <tr style=\"text-align: right;\">\n",
       "      <th></th>\n",
       "      <th>PassengerId</th>\n",
       "      <th>Survived</th>\n",
       "      <th>Pclass</th>\n",
       "      <th>Age</th>\n",
       "      <th>SibSp</th>\n",
       "      <th>Parch</th>\n",
       "      <th>Ticket</th>\n",
       "      <th>Fare</th>\n",
       "      <th>Embarked_num</th>\n",
       "      <th>Sex_numeric</th>\n",
       "      <th>HasCabin</th>\n",
       "      <th>Title_num</th>\n",
       "    </tr>\n",
       "  </thead>\n",
       "  <tbody>\n",
       "    <tr>\n",
       "      <th>0</th>\n",
       "      <td>1</td>\n",
       "      <td>0</td>\n",
       "      <td>3</td>\n",
       "      <td>22.0</td>\n",
       "      <td>1</td>\n",
       "      <td>0</td>\n",
       "      <td>A/5 21171</td>\n",
       "      <td>7.2500</td>\n",
       "      <td>0</td>\n",
       "      <td>1</td>\n",
       "      <td>False</td>\n",
       "      <td>0</td>\n",
       "    </tr>\n",
       "    <tr>\n",
       "      <th>1</th>\n",
       "      <td>2</td>\n",
       "      <td>1</td>\n",
       "      <td>1</td>\n",
       "      <td>38.0</td>\n",
       "      <td>1</td>\n",
       "      <td>0</td>\n",
       "      <td>PC 17599</td>\n",
       "      <td>71.2833</td>\n",
       "      <td>1</td>\n",
       "      <td>0</td>\n",
       "      <td>True</td>\n",
       "      <td>2</td>\n",
       "    </tr>\n",
       "    <tr>\n",
       "      <th>2</th>\n",
       "      <td>3</td>\n",
       "      <td>1</td>\n",
       "      <td>3</td>\n",
       "      <td>26.0</td>\n",
       "      <td>0</td>\n",
       "      <td>0</td>\n",
       "      <td>STON/O2. 3101282</td>\n",
       "      <td>7.9250</td>\n",
       "      <td>0</td>\n",
       "      <td>0</td>\n",
       "      <td>False</td>\n",
       "      <td>1</td>\n",
       "    </tr>\n",
       "    <tr>\n",
       "      <th>3</th>\n",
       "      <td>4</td>\n",
       "      <td>1</td>\n",
       "      <td>1</td>\n",
       "      <td>35.0</td>\n",
       "      <td>1</td>\n",
       "      <td>0</td>\n",
       "      <td>113803</td>\n",
       "      <td>53.1000</td>\n",
       "      <td>0</td>\n",
       "      <td>0</td>\n",
       "      <td>True</td>\n",
       "      <td>2</td>\n",
       "    </tr>\n",
       "    <tr>\n",
       "      <th>4</th>\n",
       "      <td>5</td>\n",
       "      <td>0</td>\n",
       "      <td>3</td>\n",
       "      <td>35.0</td>\n",
       "      <td>0</td>\n",
       "      <td>0</td>\n",
       "      <td>373450</td>\n",
       "      <td>8.0500</td>\n",
       "      <td>0</td>\n",
       "      <td>1</td>\n",
       "      <td>False</td>\n",
       "      <td>0</td>\n",
       "    </tr>\n",
       "  </tbody>\n",
       "</table>\n",
       "</div>"
      ],
      "text/plain": [
       "   PassengerId  Survived  Pclass   Age  SibSp  Parch            Ticket  \\\n",
       "0            1         0       3  22.0      1      0         A/5 21171   \n",
       "1            2         1       1  38.0      1      0          PC 17599   \n",
       "2            3         1       3  26.0      0      0  STON/O2. 3101282   \n",
       "3            4         1       1  35.0      1      0            113803   \n",
       "4            5         0       3  35.0      0      0            373450   \n",
       "\n",
       "      Fare  Embarked_num  Sex_numeric  HasCabin  Title_num  \n",
       "0   7.2500             0            1     False          0  \n",
       "1  71.2833             1            0      True          2  \n",
       "2   7.9250             0            0     False          1  \n",
       "3  53.1000             0            0      True          2  \n",
       "4   8.0500             0            1     False          0  "
      ]
     },
     "execution_count": 1823,
     "metadata": {},
     "output_type": "execute_result"
    }
   ],
   "source": [
    "df.head()"
   ]
  },
  {
   "cell_type": "code",
   "execution_count": 1824,
   "id": "89c94f0c",
   "metadata": {},
   "outputs": [
    {
     "name": "stdout",
     "output_type": "stream",
     "text": [
      "Ticket\n",
      "110152         3\n",
      "110413         3\n",
      "110465         2\n",
      "110564         1\n",
      "110813         1\n",
      "              ..\n",
      "W./C. 6608     4\n",
      "W./C. 6609     1\n",
      "W.E.P. 5734    1\n",
      "W/C 14208      1\n",
      "WE/P 5735      2\n",
      "Length: 681, dtype: int64\n"
     ]
    }
   ],
   "source": [
    "print(df.groupby('Ticket').size())"
   ]
  },
  {
   "cell_type": "markdown",
   "id": "b849e5a1",
   "metadata": {},
   "source": [
    "Удаляю Ticketненужные столбцы"
   ]
  },
  {
   "cell_type": "code",
   "execution_count": 1825,
   "id": "8a505c0a",
   "metadata": {},
   "outputs": [
    {
     "data": {
      "text/html": [
       "<div>\n",
       "<style scoped>\n",
       "    .dataframe tbody tr th:only-of-type {\n",
       "        vertical-align: middle;\n",
       "    }\n",
       "\n",
       "    .dataframe tbody tr th {\n",
       "        vertical-align: top;\n",
       "    }\n",
       "\n",
       "    .dataframe thead th {\n",
       "        text-align: right;\n",
       "    }\n",
       "</style>\n",
       "<table border=\"1\" class=\"dataframe\">\n",
       "  <thead>\n",
       "    <tr style=\"text-align: right;\">\n",
       "      <th></th>\n",
       "      <th>Survived</th>\n",
       "      <th>Pclass</th>\n",
       "      <th>Age</th>\n",
       "      <th>SibSp</th>\n",
       "      <th>Parch</th>\n",
       "      <th>Fare</th>\n",
       "      <th>Embarked_num</th>\n",
       "      <th>Sex_numeric</th>\n",
       "      <th>HasCabin</th>\n",
       "      <th>Title_num</th>\n",
       "    </tr>\n",
       "  </thead>\n",
       "  <tbody>\n",
       "    <tr>\n",
       "      <th>0</th>\n",
       "      <td>0</td>\n",
       "      <td>3</td>\n",
       "      <td>22.0</td>\n",
       "      <td>1</td>\n",
       "      <td>0</td>\n",
       "      <td>7.2500</td>\n",
       "      <td>0</td>\n",
       "      <td>1</td>\n",
       "      <td>False</td>\n",
       "      <td>0</td>\n",
       "    </tr>\n",
       "    <tr>\n",
       "      <th>1</th>\n",
       "      <td>1</td>\n",
       "      <td>1</td>\n",
       "      <td>38.0</td>\n",
       "      <td>1</td>\n",
       "      <td>0</td>\n",
       "      <td>71.2833</td>\n",
       "      <td>1</td>\n",
       "      <td>0</td>\n",
       "      <td>True</td>\n",
       "      <td>2</td>\n",
       "    </tr>\n",
       "    <tr>\n",
       "      <th>2</th>\n",
       "      <td>1</td>\n",
       "      <td>3</td>\n",
       "      <td>26.0</td>\n",
       "      <td>0</td>\n",
       "      <td>0</td>\n",
       "      <td>7.9250</td>\n",
       "      <td>0</td>\n",
       "      <td>0</td>\n",
       "      <td>False</td>\n",
       "      <td>1</td>\n",
       "    </tr>\n",
       "    <tr>\n",
       "      <th>3</th>\n",
       "      <td>1</td>\n",
       "      <td>1</td>\n",
       "      <td>35.0</td>\n",
       "      <td>1</td>\n",
       "      <td>0</td>\n",
       "      <td>53.1000</td>\n",
       "      <td>0</td>\n",
       "      <td>0</td>\n",
       "      <td>True</td>\n",
       "      <td>2</td>\n",
       "    </tr>\n",
       "    <tr>\n",
       "      <th>4</th>\n",
       "      <td>0</td>\n",
       "      <td>3</td>\n",
       "      <td>35.0</td>\n",
       "      <td>0</td>\n",
       "      <td>0</td>\n",
       "      <td>8.0500</td>\n",
       "      <td>0</td>\n",
       "      <td>1</td>\n",
       "      <td>False</td>\n",
       "      <td>0</td>\n",
       "    </tr>\n",
       "  </tbody>\n",
       "</table>\n",
       "</div>"
      ],
      "text/plain": [
       "   Survived  Pclass   Age  SibSp  Parch     Fare  Embarked_num  Sex_numeric  \\\n",
       "0         0       3  22.0      1      0   7.2500             0            1   \n",
       "1         1       1  38.0      1      0  71.2833             1            0   \n",
       "2         1       3  26.0      0      0   7.9250             0            0   \n",
       "3         1       1  35.0      1      0  53.1000             0            0   \n",
       "4         0       3  35.0      0      0   8.0500             0            1   \n",
       "\n",
       "   HasCabin  Title_num  \n",
       "0     False          0  \n",
       "1      True          2  \n",
       "2     False          1  \n",
       "3      True          2  \n",
       "4     False          0  "
      ]
     },
     "execution_count": 1825,
     "metadata": {},
     "output_type": "execute_result"
    }
   ],
   "source": [
    "df.drop(columns=['Ticket'], inplace=True) # Удаляем оригинальную колонку\n",
    "df.drop(columns=['PassengerId'], inplace=True) # Удаляем оригинальную колонку\n",
    "df.head()  # Проверяем результат"
   ]
  },
  {
   "cell_type": "code",
   "execution_count": 1826,
   "id": "720d8ec8",
   "metadata": {},
   "outputs": [
    {
     "name": "stdout",
     "output_type": "stream",
     "text": [
      "\n",
      "Статистическое описание данных:\n"
     ]
    },
    {
     "data": {
      "text/html": [
       "<div>\n",
       "<style scoped>\n",
       "    .dataframe tbody tr th:only-of-type {\n",
       "        vertical-align: middle;\n",
       "    }\n",
       "\n",
       "    .dataframe tbody tr th {\n",
       "        vertical-align: top;\n",
       "    }\n",
       "\n",
       "    .dataframe thead th {\n",
       "        text-align: right;\n",
       "    }\n",
       "</style>\n",
       "<table border=\"1\" class=\"dataframe\">\n",
       "  <thead>\n",
       "    <tr style=\"text-align: right;\">\n",
       "      <th></th>\n",
       "      <th>Survived</th>\n",
       "      <th>Pclass</th>\n",
       "      <th>Age</th>\n",
       "      <th>SibSp</th>\n",
       "      <th>Parch</th>\n",
       "      <th>Fare</th>\n",
       "      <th>Embarked_num</th>\n",
       "      <th>Sex_numeric</th>\n",
       "      <th>Title_num</th>\n",
       "    </tr>\n",
       "  </thead>\n",
       "  <tbody>\n",
       "    <tr>\n",
       "      <th>count</th>\n",
       "      <td>891.00</td>\n",
       "      <td>891.00</td>\n",
       "      <td>891.00</td>\n",
       "      <td>891.00</td>\n",
       "      <td>891.00</td>\n",
       "      <td>891.00</td>\n",
       "      <td>891.00</td>\n",
       "      <td>891.00</td>\n",
       "      <td>891.00</td>\n",
       "    </tr>\n",
       "    <tr>\n",
       "      <th>mean</th>\n",
       "      <td>0.38</td>\n",
       "      <td>2.31</td>\n",
       "      <td>29.11</td>\n",
       "      <td>0.52</td>\n",
       "      <td>0.38</td>\n",
       "      <td>32.20</td>\n",
       "      <td>0.36</td>\n",
       "      <td>0.65</td>\n",
       "      <td>0.84</td>\n",
       "    </tr>\n",
       "    <tr>\n",
       "      <th>std</th>\n",
       "      <td>0.49</td>\n",
       "      <td>0.84</td>\n",
       "      <td>13.30</td>\n",
       "      <td>1.10</td>\n",
       "      <td>0.81</td>\n",
       "      <td>49.69</td>\n",
       "      <td>0.64</td>\n",
       "      <td>0.48</td>\n",
       "      <td>1.59</td>\n",
       "    </tr>\n",
       "    <tr>\n",
       "      <th>min</th>\n",
       "      <td>0.00</td>\n",
       "      <td>1.00</td>\n",
       "      <td>0.42</td>\n",
       "      <td>0.00</td>\n",
       "      <td>0.00</td>\n",
       "      <td>0.00</td>\n",
       "      <td>0.00</td>\n",
       "      <td>0.00</td>\n",
       "      <td>0.00</td>\n",
       "    </tr>\n",
       "    <tr>\n",
       "      <th>25%</th>\n",
       "      <td>0.00</td>\n",
       "      <td>2.00</td>\n",
       "      <td>21.50</td>\n",
       "      <td>0.00</td>\n",
       "      <td>0.00</td>\n",
       "      <td>7.91</td>\n",
       "      <td>0.00</td>\n",
       "      <td>0.00</td>\n",
       "      <td>0.00</td>\n",
       "    </tr>\n",
       "    <tr>\n",
       "      <th>50%</th>\n",
       "      <td>0.00</td>\n",
       "      <td>3.00</td>\n",
       "      <td>26.00</td>\n",
       "      <td>0.00</td>\n",
       "      <td>0.00</td>\n",
       "      <td>14.45</td>\n",
       "      <td>0.00</td>\n",
       "      <td>1.00</td>\n",
       "      <td>0.00</td>\n",
       "    </tr>\n",
       "    <tr>\n",
       "      <th>75%</th>\n",
       "      <td>1.00</td>\n",
       "      <td>3.00</td>\n",
       "      <td>36.00</td>\n",
       "      <td>1.00</td>\n",
       "      <td>0.00</td>\n",
       "      <td>31.00</td>\n",
       "      <td>1.00</td>\n",
       "      <td>1.00</td>\n",
       "      <td>1.00</td>\n",
       "    </tr>\n",
       "    <tr>\n",
       "      <th>max</th>\n",
       "      <td>1.00</td>\n",
       "      <td>3.00</td>\n",
       "      <td>80.00</td>\n",
       "      <td>8.00</td>\n",
       "      <td>6.00</td>\n",
       "      <td>512.33</td>\n",
       "      <td>2.00</td>\n",
       "      <td>1.00</td>\n",
       "      <td>16.00</td>\n",
       "    </tr>\n",
       "  </tbody>\n",
       "</table>\n",
       "</div>"
      ],
      "text/plain": [
       "       Survived  Pclass     Age   SibSp   Parch    Fare  Embarked_num  \\\n",
       "count    891.00  891.00  891.00  891.00  891.00  891.00        891.00   \n",
       "mean       0.38    2.31   29.11    0.52    0.38   32.20          0.36   \n",
       "std        0.49    0.84   13.30    1.10    0.81   49.69          0.64   \n",
       "min        0.00    1.00    0.42    0.00    0.00    0.00          0.00   \n",
       "25%        0.00    2.00   21.50    0.00    0.00    7.91          0.00   \n",
       "50%        0.00    3.00   26.00    0.00    0.00   14.45          0.00   \n",
       "75%        1.00    3.00   36.00    1.00    0.00   31.00          1.00   \n",
       "max        1.00    3.00   80.00    8.00    6.00  512.33          2.00   \n",
       "\n",
       "       Sex_numeric  Title_num  \n",
       "count       891.00     891.00  \n",
       "mean          0.65       0.84  \n",
       "std           0.48       1.59  \n",
       "min           0.00       0.00  \n",
       "25%           0.00       0.00  \n",
       "50%           1.00       0.00  \n",
       "75%           1.00       1.00  \n",
       "max           1.00      16.00  "
      ]
     },
     "execution_count": 1826,
     "metadata": {},
     "output_type": "execute_result"
    }
   ],
   "source": [
    "# Базовая статистика данных\n",
    "# describe(): генерирует описательную статистику для числовых колонок\n",
    "# round(2): округляет значения до 2 десятичных знаков\n",
    "print(\"\\nСтатистическое описание данных:\")\n",
    "df.describe().round(2)"
   ]
  },
  {
   "cell_type": "code",
   "execution_count": 1827,
   "id": "f24595e0",
   "metadata": {},
   "outputs": [
    {
     "name": "stdout",
     "output_type": "stream",
     "text": [
      "Распределение выживших:\n",
      "Выжили: 342 (38.4%)\n",
      "Не выжили: 549 (61.6%)\n"
     ]
    },
    {
     "data": {
      "application/vnd.plotly.v1+json": {
       "config": {
        "plotlyServerURL": "https://plot.ly"
       },
       "data": [
        {
         "domain": {
          "x": [
           0,
           1
          ],
          "y": [
           0,
           1
          ]
         },
         "hovertemplate": "label=%{label}<br>value=%{value}<extra></extra>",
         "labels": [
          "Не выжили",
          "Выжили"
         ],
         "legendgroup": "",
         "name": "",
         "showlegend": true,
         "type": "pie",
         "values": {
          "bdata": "JQJWAQ==",
          "dtype": "i2"
         }
        }
       ],
       "layout": {
        "legend": {
         "tracegroupgap": 0
        },
        "piecolorway": [
         "rgb(103,0,31)",
         "rgb(178,24,43)",
         "rgb(214,96,77)",
         "rgb(244,165,130)",
         "rgb(253,219,199)",
         "rgb(247,247,247)",
         "rgb(209,229,240)",
         "rgb(146,197,222)",
         "rgb(67,147,195)",
         "rgb(33,102,172)",
         "rgb(5,48,97)"
        ],
        "template": {
         "data": {
          "bar": [
           {
            "error_x": {
             "color": "#2a3f5f"
            },
            "error_y": {
             "color": "#2a3f5f"
            },
            "marker": {
             "line": {
              "color": "#E5ECF6",
              "width": 0.5
             },
             "pattern": {
              "fillmode": "overlay",
              "size": 10,
              "solidity": 0.2
             }
            },
            "type": "bar"
           }
          ],
          "barpolar": [
           {
            "marker": {
             "line": {
              "color": "#E5ECF6",
              "width": 0.5
             },
             "pattern": {
              "fillmode": "overlay",
              "size": 10,
              "solidity": 0.2
             }
            },
            "type": "barpolar"
           }
          ],
          "carpet": [
           {
            "aaxis": {
             "endlinecolor": "#2a3f5f",
             "gridcolor": "white",
             "linecolor": "white",
             "minorgridcolor": "white",
             "startlinecolor": "#2a3f5f"
            },
            "baxis": {
             "endlinecolor": "#2a3f5f",
             "gridcolor": "white",
             "linecolor": "white",
             "minorgridcolor": "white",
             "startlinecolor": "#2a3f5f"
            },
            "type": "carpet"
           }
          ],
          "choropleth": [
           {
            "colorbar": {
             "outlinewidth": 0,
             "ticks": ""
            },
            "type": "choropleth"
           }
          ],
          "contour": [
           {
            "colorbar": {
             "outlinewidth": 0,
             "ticks": ""
            },
            "colorscale": [
             [
              0,
              "#0d0887"
             ],
             [
              0.1111111111111111,
              "#46039f"
             ],
             [
              0.2222222222222222,
              "#7201a8"
             ],
             [
              0.3333333333333333,
              "#9c179e"
             ],
             [
              0.4444444444444444,
              "#bd3786"
             ],
             [
              0.5555555555555556,
              "#d8576b"
             ],
             [
              0.6666666666666666,
              "#ed7953"
             ],
             [
              0.7777777777777778,
              "#fb9f3a"
             ],
             [
              0.8888888888888888,
              "#fdca26"
             ],
             [
              1,
              "#f0f921"
             ]
            ],
            "type": "contour"
           }
          ],
          "contourcarpet": [
           {
            "colorbar": {
             "outlinewidth": 0,
             "ticks": ""
            },
            "type": "contourcarpet"
           }
          ],
          "heatmap": [
           {
            "colorbar": {
             "outlinewidth": 0,
             "ticks": ""
            },
            "colorscale": [
             [
              0,
              "#0d0887"
             ],
             [
              0.1111111111111111,
              "#46039f"
             ],
             [
              0.2222222222222222,
              "#7201a8"
             ],
             [
              0.3333333333333333,
              "#9c179e"
             ],
             [
              0.4444444444444444,
              "#bd3786"
             ],
             [
              0.5555555555555556,
              "#d8576b"
             ],
             [
              0.6666666666666666,
              "#ed7953"
             ],
             [
              0.7777777777777778,
              "#fb9f3a"
             ],
             [
              0.8888888888888888,
              "#fdca26"
             ],
             [
              1,
              "#f0f921"
             ]
            ],
            "type": "heatmap"
           }
          ],
          "histogram": [
           {
            "marker": {
             "pattern": {
              "fillmode": "overlay",
              "size": 10,
              "solidity": 0.2
             }
            },
            "type": "histogram"
           }
          ],
          "histogram2d": [
           {
            "colorbar": {
             "outlinewidth": 0,
             "ticks": ""
            },
            "colorscale": [
             [
              0,
              "#0d0887"
             ],
             [
              0.1111111111111111,
              "#46039f"
             ],
             [
              0.2222222222222222,
              "#7201a8"
             ],
             [
              0.3333333333333333,
              "#9c179e"
             ],
             [
              0.4444444444444444,
              "#bd3786"
             ],
             [
              0.5555555555555556,
              "#d8576b"
             ],
             [
              0.6666666666666666,
              "#ed7953"
             ],
             [
              0.7777777777777778,
              "#fb9f3a"
             ],
             [
              0.8888888888888888,
              "#fdca26"
             ],
             [
              1,
              "#f0f921"
             ]
            ],
            "type": "histogram2d"
           }
          ],
          "histogram2dcontour": [
           {
            "colorbar": {
             "outlinewidth": 0,
             "ticks": ""
            },
            "colorscale": [
             [
              0,
              "#0d0887"
             ],
             [
              0.1111111111111111,
              "#46039f"
             ],
             [
              0.2222222222222222,
              "#7201a8"
             ],
             [
              0.3333333333333333,
              "#9c179e"
             ],
             [
              0.4444444444444444,
              "#bd3786"
             ],
             [
              0.5555555555555556,
              "#d8576b"
             ],
             [
              0.6666666666666666,
              "#ed7953"
             ],
             [
              0.7777777777777778,
              "#fb9f3a"
             ],
             [
              0.8888888888888888,
              "#fdca26"
             ],
             [
              1,
              "#f0f921"
             ]
            ],
            "type": "histogram2dcontour"
           }
          ],
          "mesh3d": [
           {
            "colorbar": {
             "outlinewidth": 0,
             "ticks": ""
            },
            "type": "mesh3d"
           }
          ],
          "parcoords": [
           {
            "line": {
             "colorbar": {
              "outlinewidth": 0,
              "ticks": ""
             }
            },
            "type": "parcoords"
           }
          ],
          "pie": [
           {
            "automargin": true,
            "type": "pie"
           }
          ],
          "scatter": [
           {
            "fillpattern": {
             "fillmode": "overlay",
             "size": 10,
             "solidity": 0.2
            },
            "type": "scatter"
           }
          ],
          "scatter3d": [
           {
            "line": {
             "colorbar": {
              "outlinewidth": 0,
              "ticks": ""
             }
            },
            "marker": {
             "colorbar": {
              "outlinewidth": 0,
              "ticks": ""
             }
            },
            "type": "scatter3d"
           }
          ],
          "scattercarpet": [
           {
            "marker": {
             "colorbar": {
              "outlinewidth": 0,
              "ticks": ""
             }
            },
            "type": "scattercarpet"
           }
          ],
          "scattergeo": [
           {
            "marker": {
             "colorbar": {
              "outlinewidth": 0,
              "ticks": ""
             }
            },
            "type": "scattergeo"
           }
          ],
          "scattergl": [
           {
            "marker": {
             "colorbar": {
              "outlinewidth": 0,
              "ticks": ""
             }
            },
            "type": "scattergl"
           }
          ],
          "scattermap": [
           {
            "marker": {
             "colorbar": {
              "outlinewidth": 0,
              "ticks": ""
             }
            },
            "type": "scattermap"
           }
          ],
          "scattermapbox": [
           {
            "marker": {
             "colorbar": {
              "outlinewidth": 0,
              "ticks": ""
             }
            },
            "type": "scattermapbox"
           }
          ],
          "scatterpolar": [
           {
            "marker": {
             "colorbar": {
              "outlinewidth": 0,
              "ticks": ""
             }
            },
            "type": "scatterpolar"
           }
          ],
          "scatterpolargl": [
           {
            "marker": {
             "colorbar": {
              "outlinewidth": 0,
              "ticks": ""
             }
            },
            "type": "scatterpolargl"
           }
          ],
          "scatterternary": [
           {
            "marker": {
             "colorbar": {
              "outlinewidth": 0,
              "ticks": ""
             }
            },
            "type": "scatterternary"
           }
          ],
          "surface": [
           {
            "colorbar": {
             "outlinewidth": 0,
             "ticks": ""
            },
            "colorscale": [
             [
              0,
              "#0d0887"
             ],
             [
              0.1111111111111111,
              "#46039f"
             ],
             [
              0.2222222222222222,
              "#7201a8"
             ],
             [
              0.3333333333333333,
              "#9c179e"
             ],
             [
              0.4444444444444444,
              "#bd3786"
             ],
             [
              0.5555555555555556,
              "#d8576b"
             ],
             [
              0.6666666666666666,
              "#ed7953"
             ],
             [
              0.7777777777777778,
              "#fb9f3a"
             ],
             [
              0.8888888888888888,
              "#fdca26"
             ],
             [
              1,
              "#f0f921"
             ]
            ],
            "type": "surface"
           }
          ],
          "table": [
           {
            "cells": {
             "fill": {
              "color": "#EBF0F8"
             },
             "line": {
              "color": "white"
             }
            },
            "header": {
             "fill": {
              "color": "#C8D4E3"
             },
             "line": {
              "color": "white"
             }
            },
            "type": "table"
           }
          ]
         },
         "layout": {
          "annotationdefaults": {
           "arrowcolor": "#2a3f5f",
           "arrowhead": 0,
           "arrowwidth": 1
          },
          "autotypenumbers": "strict",
          "coloraxis": {
           "colorbar": {
            "outlinewidth": 0,
            "ticks": ""
           }
          },
          "colorscale": {
           "diverging": [
            [
             0,
             "#8e0152"
            ],
            [
             0.1,
             "#c51b7d"
            ],
            [
             0.2,
             "#de77ae"
            ],
            [
             0.3,
             "#f1b6da"
            ],
            [
             0.4,
             "#fde0ef"
            ],
            [
             0.5,
             "#f7f7f7"
            ],
            [
             0.6,
             "#e6f5d0"
            ],
            [
             0.7,
             "#b8e186"
            ],
            [
             0.8,
             "#7fbc41"
            ],
            [
             0.9,
             "#4d9221"
            ],
            [
             1,
             "#276419"
            ]
           ],
           "sequential": [
            [
             0,
             "#0d0887"
            ],
            [
             0.1111111111111111,
             "#46039f"
            ],
            [
             0.2222222222222222,
             "#7201a8"
            ],
            [
             0.3333333333333333,
             "#9c179e"
            ],
            [
             0.4444444444444444,
             "#bd3786"
            ],
            [
             0.5555555555555556,
             "#d8576b"
            ],
            [
             0.6666666666666666,
             "#ed7953"
            ],
            [
             0.7777777777777778,
             "#fb9f3a"
            ],
            [
             0.8888888888888888,
             "#fdca26"
            ],
            [
             1,
             "#f0f921"
            ]
           ],
           "sequentialminus": [
            [
             0,
             "#0d0887"
            ],
            [
             0.1111111111111111,
             "#46039f"
            ],
            [
             0.2222222222222222,
             "#7201a8"
            ],
            [
             0.3333333333333333,
             "#9c179e"
            ],
            [
             0.4444444444444444,
             "#bd3786"
            ],
            [
             0.5555555555555556,
             "#d8576b"
            ],
            [
             0.6666666666666666,
             "#ed7953"
            ],
            [
             0.7777777777777778,
             "#fb9f3a"
            ],
            [
             0.8888888888888888,
             "#fdca26"
            ],
            [
             1,
             "#f0f921"
            ]
           ]
          },
          "colorway": [
           "#636efa",
           "#EF553B",
           "#00cc96",
           "#ab63fa",
           "#FFA15A",
           "#19d3f3",
           "#FF6692",
           "#B6E880",
           "#FF97FF",
           "#FECB52"
          ],
          "font": {
           "color": "#2a3f5f"
          },
          "geo": {
           "bgcolor": "white",
           "lakecolor": "white",
           "landcolor": "#E5ECF6",
           "showlakes": true,
           "showland": true,
           "subunitcolor": "white"
          },
          "hoverlabel": {
           "align": "left"
          },
          "hovermode": "closest",
          "mapbox": {
           "style": "light"
          },
          "paper_bgcolor": "white",
          "plot_bgcolor": "#E5ECF6",
          "polar": {
           "angularaxis": {
            "gridcolor": "white",
            "linecolor": "white",
            "ticks": ""
           },
           "bgcolor": "#E5ECF6",
           "radialaxis": {
            "gridcolor": "white",
            "linecolor": "white",
            "ticks": ""
           }
          },
          "scene": {
           "xaxis": {
            "backgroundcolor": "#E5ECF6",
            "gridcolor": "white",
            "gridwidth": 2,
            "linecolor": "white",
            "showbackground": true,
            "ticks": "",
            "zerolinecolor": "white"
           },
           "yaxis": {
            "backgroundcolor": "#E5ECF6",
            "gridcolor": "white",
            "gridwidth": 2,
            "linecolor": "white",
            "showbackground": true,
            "ticks": "",
            "zerolinecolor": "white"
           },
           "zaxis": {
            "backgroundcolor": "#E5ECF6",
            "gridcolor": "white",
            "gridwidth": 2,
            "linecolor": "white",
            "showbackground": true,
            "ticks": "",
            "zerolinecolor": "white"
           }
          },
          "shapedefaults": {
           "line": {
            "color": "#2a3f5f"
           }
          },
          "ternary": {
           "aaxis": {
            "gridcolor": "white",
            "linecolor": "white",
            "ticks": ""
           },
           "baxis": {
            "gridcolor": "white",
            "linecolor": "white",
            "ticks": ""
           },
           "bgcolor": "#E5ECF6",
           "caxis": {
            "gridcolor": "white",
            "linecolor": "white",
            "ticks": ""
           }
          },
          "title": {
           "x": 0.05
          },
          "xaxis": {
           "automargin": true,
           "gridcolor": "white",
           "linecolor": "white",
           "ticks": "",
           "title": {
            "standoff": 15
           },
           "zerolinecolor": "white",
           "zerolinewidth": 2
          },
          "yaxis": {
           "automargin": true,
           "gridcolor": "white",
           "linecolor": "white",
           "ticks": "",
           "title": {
            "standoff": 15
           },
           "zerolinecolor": "white",
           "zerolinewidth": 2
          }
         }
        },
        "title": {
         "text": "Распределение выживших пассажиров"
        }
       }
      }
     },
     "metadata": {},
     "output_type": "display_data"
    }
   ],
   "source": [
    "# Анализ целевой переменной (Survived)\n",
    "survived_counts = df['Survived'].value_counts()\n",
    "survived_percentage = df['Survived'].value_counts(normalize=True) * 100\n",
    "\n",
    "print(\"Распределение выживших:\")\n",
    "print(f\"Выжили: {survived_counts[1]} ({survived_percentage[1]:.1f}%)\")\n",
    "print(f\"Не выжили: {survived_counts[0]} ({survived_percentage[0]:.1f}%)\")\n",
    "\n",
    "# Визуализация распределения выживших\n",
    "fig = px.pie(values=survived_counts.values, \n",
    "             names=['Не выжили', 'Выжили'],\n",
    "             title='Распределение выживших пассажиров',\n",
    "             color_discrete_sequence=px.colors.sequential.RdBu)\n",
    "fig.show()"
   ]
  },
  {
   "cell_type": "code",
   "execution_count": 1828,
   "id": "efc0e1de",
   "metadata": {},
   "outputs": [
    {
     "data": {
      "image/png": "[encoded data removed]",
      "text/plain": [
       "<Figure size 2000x1000 with 14 Axes>"
      ]
     },
     "metadata": {},
     "output_type": "display_data"
    }
   ],
   "source": [
    "fig, axs = plt.subplots(ncols=7, nrows=2, figsize=(20, 10))\n",
    "index = 0\n",
    "axs = axs.flatten()\n",
    "for k,v in df.items():\n",
    "    sns.boxplot(y=k, data=df, ax=axs[index])\n",
    "    index += 1\n",
    "plt.tight_layout(pad=0.4, w_pad=0.5, h_pad=5.0)"
   ]
  },
  {
   "cell_type": "markdown",
   "id": "6d3a40e2",
   "metadata": {},
   "source": [
    "Логорифмируем стоимость"
   ]
  },
  {
   "cell_type": "code",
   "execution_count": 1829,
   "id": "6b5bc276",
   "metadata": {},
   "outputs": [
    {
     "name": "stdout",
     "output_type": "stream",
     "text": [
      "   Survived  Pclass   Age  SibSp  Parch  Embarked_num  Sex_numeric  HasCabin  \\\n",
      "0         0       3  22.0      1      0             0            1     False   \n",
      "1         1       1  38.0      1      0             1            0      True   \n",
      "2         1       3  26.0      0      0             0            0     False   \n",
      "3         1       1  35.0      1      0             0            0      True   \n",
      "4         0       3  35.0      0      0             0            1     False   \n",
      "\n",
      "   Title_num  Fare_log  \n",
      "0          0  2.110213  \n",
      "1          2  4.280593  \n",
      "2          1  2.188856  \n",
      "3          2  3.990834  \n",
      "4          0  2.202765  \n"
     ]
    },
    {
     "data": {
      "image/png": "[encoded data removed]",
      "text/plain": [
       "<Figure size 2000x1000 with 14 Axes>"
      ]
     },
     "metadata": {},
     "output_type": "display_data"
    }
   ],
   "source": [
    "df['Fare_log'] = np.log1p(df['Fare'])\n",
    "df.drop(columns=['Fare'], inplace=True) # Удаляем оригинальную колонку\n",
    "print(df.head())\n",
    "\n",
    "fig, axs = plt.subplots(ncols=7, nrows=2, figsize=(20, 10))\n",
    "index = 0\n",
    "axs = axs.flatten()\n",
    "for k,v in df.items():\n",
    "    sns.boxplot(y=k, data=df, ax=axs[index])\n",
    "    index += 1\n",
    "plt.tight_layout(pad=0.4, w_pad=0.5, h_pad=5.0)"
   ]
  },
  {
   "cell_type": "markdown",
   "id": "a5aeeb2c",
   "metadata": {},
   "source": [
    "Подготовка данных закончена. НАчинаю анализ"
   ]
  },
  {
   "cell_type": "code",
   "execution_count": 1830,
   "id": "b169d619",
   "metadata": {},
   "outputs": [
    {
     "name": "stdout",
     "output_type": "stream",
     "text": [
      "Корреляция признаков с ценой (Survived):\n",
      "Survived        1.000000\n",
      "Fare_log        0.329862\n",
      "HasCabin        0.316912\n",
      "Title_num       0.296165\n",
      "Embarked_num    0.106811\n",
      "Parch           0.081629\n",
      "SibSp          -0.035322\n",
      "Age            -0.059579\n",
      "Pclass         -0.338481\n",
      "Sex_numeric    -0.543351\n",
      "Name: Survived, dtype: float64\n"
     ]
    },
    {
     "data": {
      "application/vnd.plotly.v1+json": {
       "config": {
        "plotlyServerURL": "https://plot.ly"
       },
       "data": [
        {
         "coloraxis": "coloraxis",
         "hovertemplate": "x: %{x}<br>y: %{y}<br>color: %{z}<extra></extra>",
         "name": "0",
         "texttemplate": "%{z}",
         "type": "heatmap",
         "x": [
          "Survived",
          "Pclass",
          "Age",
          "SibSp",
          "Parch",
          "Embarked_num",
          "Sex_numeric",
          "HasCabin",
          "Title_num",
          "Fare_log"
         ],
         "xaxis": "x",
         "y": [
          "Survived",
          "Pclass",
          "Age",
          "SibSp",
          "Parch",
          "Embarked_num",
          "Sex_numeric",
          "HasCabin",
          "Title_num",
          "Fare_log"
         ],
         "yaxis": "y",
         "z": {
          "bdata": "AAAAAAAA8D/D9Shcj8LVv7gehetRuK6/exSuR+F6pL97FK5H4Xq0Pylcj8L1KLw/SOF6FK5H4b97FK5H4XrUPzMzMzMzM9M/H4XrUbge1T/D9Shcj8LVvwAAAAAAAPA/PQrXo3A92r97FK5H4Xq0P3sUrkfhepQ/mpmZmZmZqT+kcD0K16PAP1yPwvUoXOe/4XoUrkfhyr8fhetRuB7lv7gehetRuK6/PQrXo3A92r8AAAAAAADwPwAAAAAAANC/CtejcD0Kx7+4HoXrUbiuv5qZmZmZmbk/7FG4HoXr0T8AAAAAAAAAAOxRuB6F68E/exSuR+F6pL97FK5H4Xq0PwAAAAAAANC/AAAAAAAA8D89CtejcD3aP7gehetRuK6/KVyPwvUovL97FK5H4Xqkv3sUrkfhesQ/exSuR+F61D97FK5H4Xq0P3sUrkfhepQ/CtejcD0Kx789CtejcD3aPwAAAAAAAPA/exSuR+F6tL8AAAAAAADQv3sUrkfheqQ/CtejcD0Kxz8fhetRuB7VPylcj8L1KLw/mpmZmZmZqT+4HoXrUbiuv7gehetRuK6/exSuR+F6tL8AAAAAAADwP7gehetRuL6/exSuR+F6hD97FK5H4XqkP3sUrkfhepQ/SOF6FK5H4b+kcD0K16PAP5qZmZmZmbk/KVyPwvUovL8AAAAAAADQv7gehetRuL6/AAAAAAAA8D/sUbgehevBv8P1KFyPwtW/pHA9Ctej0L97FK5H4XrUP1yPwvUoXOe/7FG4HoXr0T97FK5H4Xqkv3sUrkfheqQ/exSuR+F6hD/sUbgehevBvwAAAAAAAPA/exSuR+F6xD/sUbgehevhPzMzMzMzM9M/4XoUrkfhyr8AAAAAAAAAAHsUrkfhesQ/CtejcD0Kxz97FK5H4XqkP8P1KFyPwtW/exSuR+F6xD8AAAAAAADwP+F6FK5H4co/H4XrUbge1T8fhetRuB7lv+xRuB6F68E/exSuR+F61D8fhetRuB7VP3sUrkfhepQ/pHA9Ctej0L/sUbgehevhP+F6FK5H4co/AAAAAAAA8D8=",
          "dtype": "f8",
          "shape": "10, 10"
         }
        }
       ],
       "layout": {
        "coloraxis": {
         "colorscale": [
          [
           0,
           "rgb(5,48,97)"
          ],
          [
           0.1,
           "rgb(33,102,172)"
          ],
          [
           0.2,
           "rgb(67,147,195)"
          ],
          [
           0.3,
           "rgb(146,197,222)"
          ],
          [
           0.4,
           "rgb(209,229,240)"
          ],
          [
           0.5,
           "rgb(247,247,247)"
          ],
          [
           0.6,
           "rgb(253,219,199)"
          ],
          [
           0.7,
           "rgb(244,165,130)"
          ],
          [
           0.8,
           "rgb(214,96,77)"
          ],
          [
           0.9,
           "rgb(178,24,43)"
          ],
          [
           1,
           "rgb(103,0,31)"
          ]
         ]
        },
        "height": 800,
        "template": {
         "data": {
          "bar": [
           {
            "error_x": {
             "color": "#2a3f5f"
            },
            "error_y": {
             "color": "#2a3f5f"
            },
            "marker": {
             "line": {
              "color": "#E5ECF6",
              "width": 0.5
             },
             "pattern": {
              "fillmode": "overlay",
              "size": 10,
              "solidity": 0.2
             }
            },
            "type": "bar"
           }
          ],
          "barpolar": [
           {
            "marker": {
             "line": {
              "color": "#E5ECF6",
              "width": 0.5
             },
             "pattern": {
              "fillmode": "overlay",
              "size": 10,
              "solidity": 0.2
             }
            },
            "type": "barpolar"
           }
          ],
          "carpet": [
           {
            "aaxis": {
             "endlinecolor": "#2a3f5f",
             "gridcolor": "white",
             "linecolor": "white",
             "minorgridcolor": "white",
             "startlinecolor": "#2a3f5f"
            },
            "baxis": {
             "endlinecolor": "#2a3f5f",
             "gridcolor": "white",
             "linecolor": "white",
             "minorgridcolor": "white",
             "startlinecolor": "#2a3f5f"
            },
            "type": "carpet"
           }
          ],
          "choropleth": [
           {
            "colorbar": {
             "outlinewidth": 0,
             "ticks": ""
            },
            "type": "choropleth"
           }
          ],
          "contour": [
           {
            "colorbar": {
             "outlinewidth": 0,
             "ticks": ""
            },
            "colorscale": [
             [
              0,
              "#0d0887"
             ],
             [
              0.1111111111111111,
              "#46039f"
             ],
             [
              0.2222222222222222,
              "#7201a8"
             ],
             [
              0.3333333333333333,
              "#9c179e"
             ],
             [
              0.4444444444444444,
              "#bd3786"
             ],
             [
              0.5555555555555556,
              "#d8576b"
             ],
             [
              0.6666666666666666,
              "#ed7953"
             ],
             [
              0.7777777777777778,
              "#fb9f3a"
             ],
             [
              0.8888888888888888,
              "#fdca26"
             ],
             [
              1,
              "#f0f921"
             ]
            ],
            "type": "contour"
           }
          ],
          "contourcarpet": [
           {
            "colorbar": {
             "outlinewidth": 0,
             "ticks": ""
            },
            "type": "contourcarpet"
           }
          ],
          "heatmap": [
           {
            "colorbar": {
             "outlinewidth": 0,
             "ticks": ""
            },
            "colorscale": [
             [
              0,
              "#0d0887"
             ],
             [
              0.1111111111111111,
              "#46039f"
             ],
             [
              0.2222222222222222,
              "#7201a8"
             ],
             [
              0.3333333333333333,
              "#9c179e"
             ],
             [
              0.4444444444444444,
              "#bd3786"
             ],
             [
              0.5555555555555556,
              "#d8576b"
             ],
             [
              0.6666666666666666,
              "#ed7953"
             ],
             [
              0.7777777777777778,
              "#fb9f3a"
             ],
             [
              0.8888888888888888,
              "#fdca26"
             ],
             [
              1,
              "#f0f921"
             ]
            ],
            "type": "heatmap"
           }
          ],
          "histogram": [
           {
            "marker": {
             "pattern": {
              "fillmode": "overlay",
              "size": 10,
              "solidity": 0.2
             }
            },
            "type": "histogram"
           }
          ],
          "histogram2d": [
           {
            "colorbar": {
             "outlinewidth": 0,
             "ticks": ""
            },
            "colorscale": [
             [
              0,
              "#0d0887"
             ],
             [
              0.1111111111111111,
              "#46039f"
             ],
             [
              0.2222222222222222,
              "#7201a8"
             ],
             [
              0.3333333333333333,
              "#9c179e"
             ],
             [
              0.4444444444444444,
              "#bd3786"
             ],
             [
              0.5555555555555556,
              "#d8576b"
             ],
             [
              0.6666666666666666,
              "#ed7953"
             ],
             [
              0.7777777777777778,
              "#fb9f3a"
             ],
             [
              0.8888888888888888,
              "#fdca26"
             ],
             [
              1,
              "#f0f921"
             ]
            ],
            "type": "histogram2d"
           }
          ],
          "histogram2dcontour": [
           {
            "colorbar": {
             "outlinewidth": 0,
             "ticks": ""
            },
            "colorscale": [
             [
              0,
              "#0d0887"
             ],
             [
              0.1111111111111111,
              "#46039f"
             ],
             [
              0.2222222222222222,
              "#7201a8"
             ],
             [
              0.3333333333333333,
              "#9c179e"
             ],
             [
              0.4444444444444444,
              "#bd3786"
             ],
             [
              0.5555555555555556,
              "#d8576b"
             ],
             [
              0.6666666666666666,
              "#ed7953"
             ],
             [
              0.7777777777777778,
              "#fb9f3a"
             ],
             [
              0.8888888888888888,
              "#fdca26"
             ],
             [
              1,
              "#f0f921"
             ]
            ],
            "type": "histogram2dcontour"
           }
          ],
          "mesh3d": [
           {
            "colorbar": {
             "outlinewidth": 0,
             "ticks": ""
            },
            "type": "mesh3d"
           }
          ],
          "parcoords": [
           {
            "line": {
             "colorbar": {
              "outlinewidth": 0,
              "ticks": ""
             }
            },
            "type": "parcoords"
           }
          ],
          "pie": [
           {
            "automargin": true,
            "type": "pie"
           }
          ],
          "scatter": [
           {
            "fillpattern": {
             "fillmode": "overlay",
             "size": 10,
             "solidity": 0.2
            },
            "type": "scatter"
           }
          ],
          "scatter3d": [
           {
            "line": {
             "colorbar": {
              "outlinewidth": 0,
              "ticks": ""
             }
            },
            "marker": {
             "colorbar": {
              "outlinewidth": 0,
              "ticks": ""
             }
            },
            "type": "scatter3d"
           }
          ],
          "scattercarpet": [
           {
            "marker": {
             "colorbar": {
              "outlinewidth": 0,
              "ticks": ""
             }
            },
            "type": "scattercarpet"
           }
          ],
          "scattergeo": [
           {
            "marker": {
             "colorbar": {
              "outlinewidth": 0,
              "ticks": ""
             }
            },
            "type": "scattergeo"
           }
          ],
          "scattergl": [
           {
            "marker": {
             "colorbar": {
              "outlinewidth": 0,
              "ticks": ""
             }
            },
            "type": "scattergl"
           }
          ],
          "scattermap": [
           {
            "marker": {
             "colorbar": {
              "outlinewidth": 0,
              "ticks": ""
             }
            },
            "type": "scattermap"
           }
          ],
          "scattermapbox": [
           {
            "marker": {
             "colorbar": {
              "outlinewidth": 0,
              "ticks": ""
             }
            },
            "type": "scattermapbox"
           }
          ],
          "scatterpolar": [
           {
            "marker": {
             "colorbar": {
              "outlinewidth": 0,
              "ticks": ""
             }
            },
            "type": "scatterpolar"
           }
          ],
          "scatterpolargl": [
           {
            "marker": {
             "colorbar": {
              "outlinewidth": 0,
              "ticks": ""
             }
            },
            "type": "scatterpolargl"
           }
          ],
          "scatterternary": [
           {
            "marker": {
             "colorbar": {
              "outlinewidth": 0,
              "ticks": ""
             }
            },
            "type": "scatterternary"
           }
          ],
          "surface": [
           {
            "colorbar": {
             "outlinewidth": 0,
             "ticks": ""
            },
            "colorscale": [
             [
              0,
              "#0d0887"
             ],
             [
              0.1111111111111111,
              "#46039f"
             ],
             [
              0.2222222222222222,
              "#7201a8"
             ],
             [
              0.3333333333333333,
              "#9c179e"
             ],
             [
              0.4444444444444444,
              "#bd3786"
             ],
             [
              0.5555555555555556,
              "#d8576b"
             ],
             [
              0.6666666666666666,
              "#ed7953"
             ],
             [
              0.7777777777777778,
              "#fb9f3a"
             ],
             [
              0.8888888888888888,
              "#fdca26"
             ],
             [
              1,
              "#f0f921"
             ]
            ],
            "type": "surface"
           }
          ],
          "table": [
           {
            "cells": {
             "fill": {
              "color": "#EBF0F8"
             },
             "line": {
              "color": "white"
             }
            },
            "header": {
             "fill": {
              "color": "#C8D4E3"
             },
             "line": {
              "color": "white"
             }
            },
            "type": "table"
           }
          ]
         },
         "layout": {
          "annotationdefaults": {
           "arrowcolor": "#2a3f5f",
           "arrowhead": 0,
           "arrowwidth": 1
          },
          "autotypenumbers": "strict",
          "coloraxis": {
           "colorbar": {
            "outlinewidth": 0,
            "ticks": ""
           }
          },
          "colorscale": {
           "diverging": [
            [
             0,
             "#8e0152"
            ],
            [
             0.1,
             "#c51b7d"
            ],
            [
             0.2,
             "#de77ae"
            ],
            [
             0.3,
             "#f1b6da"
            ],
            [
             0.4,
             "#fde0ef"
            ],
            [
             0.5,
             "#f7f7f7"
            ],
            [
             0.6,
             "#e6f5d0"
            ],
            [
             0.7,
             "#b8e186"
            ],
            [
             0.8,
             "#7fbc41"
            ],
            [
             0.9,
             "#4d9221"
            ],
            [
             1,
             "#276419"
            ]
           ],
           "sequential": [
            [
             0,
             "#0d0887"
            ],
            [
             0.1111111111111111,
             "#46039f"
            ],
            [
             0.2222222222222222,
             "#7201a8"
            ],
            [
             0.3333333333333333,
             "#9c179e"
            ],
            [
             0.4444444444444444,
             "#bd3786"
            ],
            [
             0.5555555555555556,
             "#d8576b"
            ],
            [
             0.6666666666666666,
             "#ed7953"
            ],
            [
             0.7777777777777778,
             "#fb9f3a"
            ],
            [
             0.8888888888888888,
             "#fdca26"
            ],
            [
             1,
             "#f0f921"
            ]
           ],
           "sequentialminus": [
            [
             0,
             "#0d0887"
            ],
            [
             0.1111111111111111,
             "#46039f"
            ],
            [
             0.2222222222222222,
             "#7201a8"
            ],
            [
             0.3333333333333333,
             "#9c179e"
            ],
            [
             0.4444444444444444,
             "#bd3786"
            ],
            [
             0.5555555555555556,
             "#d8576b"
            ],
            [
             0.6666666666666666,
             "#ed7953"
            ],
            [
             0.7777777777777778,
             "#fb9f3a"
            ],
            [
             0.8888888888888888,
             "#fdca26"
            ],
            [
             1,
             "#f0f921"
            ]
           ]
          },
          "colorway": [
           "#636efa",
           "#EF553B",
           "#00cc96",
           "#ab63fa",
           "#FFA15A",
           "#19d3f3",
           "#FF6692",
           "#B6E880",
           "#FF97FF",
           "#FECB52"
          ],
          "font": {
           "color": "#2a3f5f"
          },
          "geo": {
           "bgcolor": "white",
           "lakecolor": "white",
           "landcolor": "#E5ECF6",
           "showlakes": true,
           "showland": true,
           "subunitcolor": "white"
          },
          "hoverlabel": {
           "align": "left"
          },
          "hovermode": "closest",
          "mapbox": {
           "style": "light"
          },
          "paper_bgcolor": "white",
          "plot_bgcolor": "#E5ECF6",
          "polar": {
           "angularaxis": {
            "gridcolor": "white",
            "linecolor": "white",
            "ticks": ""
           },
           "bgcolor": "#E5ECF6",
           "radialaxis": {
            "gridcolor": "white",
            "linecolor": "white",
            "ticks": ""
           }
          },
          "scene": {
           "xaxis": {
            "backgroundcolor": "#E5ECF6",
            "gridcolor": "white",
            "gridwidth": 2,
            "linecolor": "white",
            "showbackground": true,
            "ticks": "",
            "zerolinecolor": "white"
           },
           "yaxis": {
            "backgroundcolor": "#E5ECF6",
            "gridcolor": "white",
            "gridwidth": 2,
            "linecolor": "white",
            "showbackground": true,
            "ticks": "",
            "zerolinecolor": "white"
           },
           "zaxis": {
            "backgroundcolor": "#E5ECF6",
            "gridcolor": "white",
            "gridwidth": 2,
            "linecolor": "white",
            "showbackground": true,
            "ticks": "",
            "zerolinecolor": "white"
           }
          },
          "shapedefaults": {
           "line": {
            "color": "#2a3f5f"
           }
          },
          "ternary": {
           "aaxis": {
            "gridcolor": "white",
            "linecolor": "white",
            "ticks": ""
           },
           "baxis": {
            "gridcolor": "white",
            "linecolor": "white",
            "ticks": ""
           },
           "bgcolor": "#E5ECF6",
           "caxis": {
            "gridcolor": "white",
            "linecolor": "white",
            "ticks": ""
           }
          },
          "title": {
           "x": 0.05
          },
          "xaxis": {
           "automargin": true,
           "gridcolor": "white",
           "linecolor": "white",
           "ticks": "",
           "title": {
            "standoff": 15
           },
           "zerolinecolor": "white",
           "zerolinewidth": 2
          },
          "yaxis": {
           "automargin": true,
           "gridcolor": "white",
           "linecolor": "white",
           "ticks": "",
           "title": {
            "standoff": 15
           },
           "zerolinecolor": "white",
           "zerolinewidth": 2
          }
         }
        },
        "title": {
         "text": "Матрица корреляции признаков"
        },
        "width": 800,
        "xaxis": {
         "anchor": "y",
         "domain": [
          0,
          1
         ]
        },
        "yaxis": {
         "anchor": "x",
         "autorange": "reversed",
         "domain": [
          0,
          1
         ]
        }
       }
      }
     },
     "metadata": {},
     "output_type": "display_data"
    }
   ],
   "source": [
    "# Анализ корреляции между признаками и целевой переменной\n",
    "# corr(): вычисляет матрицу корреляции Пирсона между всеми числовыми колонками\n",
    "correlation_matrix = df.corr()\n",
    "\n",
    "# Сортировка корреляций с целевой переменной Survived по убыванию\n",
    "# sort_values(ascending=False): сортирует значения по убыванию\n",
    "target_correlation = correlation_matrix['Survived'].sort_values(ascending=False)\n",
    "abs_correlation = target_correlation.drop('Survived').abs().sort_values(ascending=False)\n",
    "\n",
    "\n",
    "print(\"Корреляция признаков с ценой (Survived):\")\n",
    "print(target_correlation)\n",
    "\n",
    "# Тепловая карта корреляций\n",
    "# px.imshow: создает heatmap (тепловую карту)\n",
    "# correlation_matrix.round(2): матрица корреляции, округленная до 2 знаков\n",
    "# color_continuous_scale='RdBu_r': цветовая шкала от синего к красному (reversed)\n",
    "# aspect=\"auto\": автоматическое соотношение сторон\n",
    "# text_auto=True: автоматическое отображение значений в ячейках\n",
    "\n",
    "fig = px.imshow(correlation_matrix.round(2),\n",
    "                title='Матрица корреляции признаков',\n",
    "                aspect=\"auto\",\n",
    "                color_continuous_scale='RdBu_r',\n",
    "                text_auto=True)\n",
    "fig.update_layout(width=800, height=800)  # Размер графика\n",
    "fig.show()"
   ]
  },
  {
   "cell_type": "code",
   "execution_count": 1831,
   "id": "a54637e3",
   "metadata": {},
   "outputs": [
    {
     "name": "stdout",
     "output_type": "stream",
     "text": [
      "Index(['Fare_log', 'HasCabin', 'Title_num'], dtype='object')\n",
      "Index(['Sex_numeric', 'Pclass', 'Fare_log', 'HasCabin', 'Title_num'], dtype='object')\n"
     ]
    },
    {
     "data": {
      "application/vnd.plotly.v1+json": {
       "config": {
        "plotlyServerURL": "https://plot.ly"
       },
       "data": [
        {
         "marker": {
          "opacity": 0.6,
          "size": 5
         },
         "mode": "markers",
         "name": "Fare_log",
         "type": "scatter",
         "x": {
          "bdata": "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",
          "dtype": "f8"
         },
         "xaxis": "x",
         "y": {
          "bdata": "AAEBAQAAAAABAQEBAAAAAQABAAEAAQEBAAEAAAEAAAEBAAAAAQAAAQAAAAEBAAABAAAAAAEBAAEBAAEAAAEAAAABAQABAAAAAAABAAAAAQEAAQEAAQEAAAEAAAAAAAAAAAEBAAAAAAAAAAEBAAEAAAAAAAAAAAAAAAAAAQABAAEBAAAAAAEAAAEAAAAAAQEAAAABAAAAAAEAAAAAAQAAAAABAAAAAQEAAAAAAAEAAAAAAAAAAAAAAQEAAQEAAAEAAQEBAQAAAQAAAAAAAQAAAQEBAAEAAAABAQABAAEAAAABAAEAAAABAAABAAAAAQAAAAEAAAAAAAEBAAAAAAAAAQEBAQEAAQAAAAAAAQEBAAEBAAEBAAAAAQAAAAEAAAEAAQEBAQAAAAAAAAEBAQEAAQABAQEAAQEBAAAAAQEAAQEAAAEBAAEAAQEBAQAAAAEAAAEBAAEBAAAAAQEBAQAAAAAAAAABAAEBAAAAAAAAAQEBAQEAAAAAAQEAAAABAQABAAAAAQABAQEAAQEAAAAAAQEAAAAAAAABAAAAAAEAAQABAQAAAAAAAAAAAQEAAQEBAQAAAQABAAABAAABAQEBAQEBAAAAAQABAAEBAAEAAAAAAAAAAAEAAAEBAAAAAAABAAAAAQEAAQAAAQAAAAAAAAEAAAAAAAAAAQABAQABAQABAQAAAQABAAEAAAEAAAEAAAABAAABAAEAAQABAQAAAQAAAQEAAQEAAAEBAAEAAQEAAAAAAAAAAAABAQEBAQAAAQEAAQEBAAAAAQABAAAAAQAAAAABAAABAQAAAAEAAAEBAQAAAQAAAQAAAQAAAQEAAAAAAQAAAQABAAABAAAAAAABAAEBAQABAAEAAQABAAAAAAAAAQAAAAEAAAAAAQEAAAEAAAABAAEAAQAAAAAAAAABAQEBAAAAAAEAAAEBAAAAAAEBAQEBAAEAAAABAQAAAQAAAAEAAQEAAAEAAAAAAAABAAABAAEAAQAAAQAAAQEAAAEBAAAAAQAAAQEAAQAAAAAAAAAAAQAAAQABAQEAAAAAAQABAAAAAAAAAAEBAAAAAQEBAQAAAAABAAAAAAAAAAAAAAEBAAEAAAABAQEBAQAAAAEAAAEBAAABAAAAAAAAAQAAAAEAAQEBAQAAAAEAAAEBAAABAAEAAAEBAAAAAQEAAAAAAAABAAEA",
          "dtype": "i1"
         },
         "yaxis": "y"
        },
        {
         "marker": {
          "opacity": 0.6,
          "size": 5
         },
         "mode": "markers",
         "name": "HasCabin",
         "type": "scatter",
         "x": [
          false,
          true,
          false,
          true,
          false,
          false,
          true,
          false,
          false,
          false,
          true,
          true,
          false,
          false,
          false,
          false,
          false,
          false,
          false,
          false,
          false,
          true,
          false,
          true,
          false,
          false,
          false,
          true,
          false,
          false,
          false,
          true,
          false,
          false,
          false,
          false,
          false,
          false,
          false,
          false,
          false,
          false,
          false,
          false,
          false,
          false,
          false,
          false,
          false,
          false,
          false,
          false,
          true,
          false,
          true,
          true,
          false,
          false,
          false,
          false,
          false,
          true,
          true,
          false,
          false,
          false,
          true,
          false,
          false,
          false,
          false,
          false,
          false,
          false,
          false,
          true,
          false,
          false,
          false,
          false,
          false,
          false,
          false,
          false,
          false,
          false,
          false,
          false,
          true,
          false,
          false,
          false,
          true,
          false,
          false,
          false,
          true,
          true,
          false,
          false,
          false,
          false,
          true,
          false,
          false,
          false,
          false,
          false,
          false,
          false,
          true,
          false,
          false,
          false,
          false,
          false,
          false,
          false,
          true,
          false,
          false,
          false,
          false,
          true,
          true,
          false,
          false,
          false,
          true,
          false,
          false,
          false,
          false,
          false,
          false,
          false,
          true,
          true,
          false,
          true,
          false,
          false,
          false,
          false,
          false,
          false,
          false,
          false,
          true,
          false,
          false,
          true,
          false,
          false,
          false,
          false,
          false,
          false,
          false,
          false,
          false,
          false,
          false,
          false,
          false,
          false,
          true,
          false,
          false,
          false,
          true,
          false,
          false,
          false,
          true,
          false,
          false,
          true,
          false,
          false,
          false,
          false,
          false,
          true,
          false,
          true,
          false,
          false,
          false,
          false,
          false,
          false,
          false,
          true,
          true,
          true,
          false,
          false,
          false,
          false,
          false,
          false,
          false,
          false,
          false,
          true,
          false,
          false,
          false,
          true,
          false,
          false,
          false,
          false,
          false,
          true,
          false,
          false,
          true,
          false,
          false,
          false,
          false,
          false,
          true,
          false,
          false,
          false,
          false,
          false,
          true,
          false,
          false,
          false,
          false,
          false,
          false,
          false,
          false,
          false,
          false,
          false,
          false,
          false,
          false,
          true,
          false,
          false,
          true,
          false,
          false,
          true,
          true,
          false,
          false,
          false,
          false,
          true,
          false,
          false,
          false,
          false,
          true,
          true,
          false,
          false,
          false,
          false,
          true,
          true,
          false,
          false,
          false,
          true,
          false,
          true,
          false,
          false,
          false,
          false,
          false,
          false,
          false,
          false,
          true,
          false,
          false,
          false,
          false,
          false,
          false,
          true,
          true,
          false,
          false,
          false,
          false,
          true,
          true,
          true,
          false,
          false,
          false,
          true,
          false,
          true,
          false,
          true,
          false,
          true,
          true,
          true,
          false,
          false,
          false,
          false,
          false,
          false,
          true,
          true,
          false,
          false,
          false,
          false,
          false,
          true,
          false,
          true,
          false,
          true,
          false,
          true,
          true,
          false,
          false,
          false,
          true,
          true,
          false,
          true,
          true,
          true,
          false,
          false,
          false,
          true,
          false,
          false,
          false,
          false,
          false,
          true,
          false,
          false,
          false,
          false,
          true,
          false,
          false,
          false,
          false,
          false,
          false,
          false,
          false,
          false,
          true,
          false,
          false,
          true,
          true,
          false,
          false,
          false,
          false,
          false,
          false,
          true,
          false,
          false,
          false,
          false,
          false,
          false,
          false,
          false,
          false,
          false,
          false,
          false,
          true,
          false,
          false,
          true,
          true,
          false,
          false,
          false,
          false,
          false,
          false,
          false,
          false,
          false,
          false,
          false,
          false,
          false,
          false,
          false,
          false,
          false,
          true,
          false,
          false,
          false,
          false,
          false,
          false,
          false,
          false,
          false,
          false,
          false,
          false,
          false,
          false,
          false,
          false,
          true,
          true,
          false,
          false,
          false,
          true,
          true,
          false,
          false,
          true,
          false,
          false,
          false,
          false,
          false,
          false,
          true,
          false,
          false,
          false,
          true,
          false,
          false,
          true,
          true,
          false,
          false,
          true,
          true,
          false,
          false,
          true,
          false,
          true,
          false,
          false,
          false,
          false,
          false,
          false,
          false,
          false,
          false,
          false,
          true,
          false,
          true,
          false,
          false,
          false,
          false,
          false,
          false,
          false,
          false,
          true,
          false,
          true,
          true,
          false,
          false,
          false,
          false,
          true,
          false,
          false,
          false,
          true,
          false,
          true,
          false,
          false,
          false,
          false,
          false,
          true,
          true,
          false,
          false,
          false,
          false,
          false,
          false,
          true,
          false,
          false,
          true,
          true,
          false,
          false,
          false,
          true,
          false,
          false,
          true,
          false,
          false,
          false,
          true,
          false,
          false,
          false,
          false,
          false,
          false,
          false,
          false,
          true,
          false,
          false,
          true,
          true,
          false,
          false,
          false,
          true,
          false,
          false,
          false,
          false,
          false,
          true,
          false,
          false,
          false,
          false,
          false,
          true,
          false,
          true,
          false,
          false,
          false,
          false,
          false,
          false,
          false,
          false,
          false,
          false,
          false,
          false,
          true,
          true,
          false,
          false,
          false,
          false,
          true,
          false,
          false,
          false,
          true,
          false,
          true,
          false,
          true,
          false,
          true,
          false,
          false,
          false,
          true,
          false,
          false,
          false,
          false,
          false,
          false,
          false,
          true,
          false,
          false,
          false,
          false,
          false,
          false,
          false,
          false,
          false,
          true,
          false,
          false,
          false,
          false,
          false,
          false,
          false,
          false,
          true,
          false,
          false,
          true,
          false,
          false,
          false,
          true,
          false,
          true,
          false,
          false,
          true,
          false,
          true,
          false,
          false,
          false,
          false,
          false,
          false,
          false,
          false,
          true,
          false,
          false,
          false,
          true,
          false,
          true,
          false,
          false,
          false,
          false,
          false,
          false,
          false,
          false,
          false,
          false,
          false,
          true,
          false,
          false,
          true,
          false,
          false,
          false,
          false,
          false,
          false,
          true,
          false,
          true,
          false,
          false,
          false,
          false,
          false,
          false,
          false,
          true,
          false,
          true,
          false,
          false,
          false,
          false,
          false,
          false,
          false,
          true,
          true,
          false,
          false,
          false,
          false,
          false,
          false,
          false,
          true,
          true,
          true,
          true,
          false,
          false,
          false,
          false,
          false,
          true,
          false,
          false,
          true,
          true,
          true,
          false,
          false,
          true,
          true,
          true,
          false,
          false,
          false,
          false,
          false,
          false,
          true,
          false,
          false,
          false,
          false,
          false,
          true,
          false,
          false,
          false,
          false,
          false,
          false,
          true,
          false,
          false,
          true,
          true,
          true,
          false,
          false,
          true,
          false,
          false,
          true,
          false,
          false,
          true,
          false,
          false,
          false,
          false,
          false,
          false,
          false,
          true,
          false,
          false,
          false,
          true,
          false,
          true,
          false,
          false,
          false,
          false,
          false,
          false,
          true,
          false,
          false,
          false,
          true,
          false,
          false,
          true,
          false,
          true,
          true,
          false,
          false,
          false,
          false,
          false,
          false,
          true,
          false,
          false,
          false,
          false,
          false,
          false,
          true,
          false,
          false,
          false,
          false,
          false,
          true,
          false,
          false,
          false,
          true,
          false,
          false,
          true,
          false,
          false,
          false,
          false,
          false,
          true,
          false,
          false,
          false,
          false,
          true,
          false,
          false,
          true,
          false,
          false,
          false,
          false,
          false,
          true,
          false,
          false,
          false,
          false,
          false,
          true,
          false,
          false,
          false,
          true,
          false,
          false,
          false,
          false,
          false,
          false,
          false,
          false,
          false,
          true,
          false,
          false,
          false,
          true,
          false,
          false,
          false,
          true,
          false,
          false,
          false,
          false,
          true,
          false,
          false,
          false,
          false,
          true,
          false,
          false,
          false,
          true,
          true,
          false,
          false,
          false,
          false,
          false,
          false,
          true,
          false,
          false,
          false,
          false,
          false,
          false,
          false,
          true,
          false,
          true,
          false
         ],
         "xaxis": "x2",
         "y": {
          "bdata": "AAEBAQAAAAABAQEBAAAAAQABAAEAAQEBAAEAAAEAAAEBAAAAAQAAAQAAAAEBAAABAAAAAAEBAAEBAAEAAAEAAAABAQABAAAAAAABAAAAAQEAAQEAAQEAAAEAAAAAAAAAAAEBAAAAAAAAAAEBAAEAAAAAAAAAAAAAAAAAAQABAAEBAAAAAAEAAAEAAAAAAQEAAAABAAAAAAEAAAAAAQAAAAABAAAAAQEAAAAAAAEAAAAAAAAAAAAAAQEAAQEAAAEAAQEBAQAAAQAAAAAAAQAAAQEBAAEAAAABAQABAAEAAAABAAEAAAABAAABAAAAAQAAAAEAAAAAAAEBAAAAAAAAAQEBAQEAAQAAAAAAAQEBAAEBAAEBAAAAAQAAAAEAAAEAAQEBAQAAAAAAAAEBAQEAAQABAQEAAQEBAAAAAQEAAQEAAAEBAAEAAQEBAQAAAAEAAAEBAAEBAAAAAQEBAQAAAAAAAAABAAEBAAAAAAAAAQEBAQEAAAAAAQEAAAABAQABAAAAAQABAQEAAQEAAAAAAQEAAAAAAAABAAAAAAEAAQABAQAAAAAAAAAAAQEAAQEBAQAAAQABAAABAAABAQEBAQEBAAAAAQABAAEBAAEAAAAAAAAAAAEAAAEBAAAAAAABAAAAAQEAAQAAAQAAAAAAAAEAAAAAAAAAAQABAQABAQABAQAAAQABAAEAAAEAAAEAAAABAAABAAEAAQABAQAAAQAAAQEAAQEAAAEBAAEAAQEAAAAAAAAAAAABAQEBAQAAAQEAAQEBAAAAAQABAAAAAQAAAAABAAABAQAAAAEAAAEBAQAAAQAAAQAAAQAAAQEAAAAAAQAAAQABAAABAAAAAAABAAEBAQABAAEAAQABAAAAAAAAAQAAAAEAAAAAAQEAAAEAAAABAAEAAQAAAAAAAAABAQEBAAAAAAEAAAEBAAAAAAEBAQEBAAEAAAABAQAAAQAAAAEAAQEAAAEAAAAAAAABAAABAAEAAQAAAQAAAQEAAAEBAAAAAQAAAQEAAQAAAAAAAAAAAQAAAQABAQEAAAAAAQABAAAAAAAAAAEBAAAAAQEBAQAAAAABAAAAAAAAAAAAAAEBAAEAAAABAQEBAQAAAAEAAAEBAAABAAAAAAAAAQAAAAEAAQEBAQAAAAEAAAEBAAABAAEAAAEBAAAAAQEAAAAAAAABAAEA",
          "dtype": "i1"
         },
         "yaxis": "y2"
        },
        {
         "marker": {
          "opacity": 0.6,
          "size": 5
         },
         "mode": "markers",
         "name": "Title_num",
         "type": "scatter",
         "x": {
          "bdata": "AAIBAgAAAAMCAgEBAAABAgMAAgIAAAEAAQIAAAEACwIBAAAAAAABAQICAAEBAAABAAIDAAICAAABAAEDAAEAAwADAgABAAABAAAAAAAAAwEAAAEAAQIAAAEAAAAAAAAAAAACAAEAAAAAAAEAAAEAAQABAQAAAAABAAAAAQADAAABAAAAAgIAAAEAAAACAQIAAAAAAQAFBQIAAAAAAQAAAwACAAADAwICAAAAAwEAAAADAQAAAQADAwEAAgAAAAIAAQMCAQAAAQEAAAAAAAEAAAEAAAEAAAABAQABAAAAAAAAAAAAAAECAAABAAEAAQAAAQEAAAAEAQIABQACAAACAgIBAQIAAwAAAQAAAAIBAAACAAEBAQADAgAAAAAAAAAAAAEBAgABAAAAAQACAQAAAQADAQIAAQEBAgAAAQIEAQIAAAECAAEAAgIBAQAAAAIAAAEAAAMBAAAAAQECAwAAAAAAAAABAQEBAAACAAAAAgIBCgAAAAABAgEAAAABAQACAAADAQABAAAAAQIAAQAEAgAAAQABAAADAAEAAAEAAAICAQABAAAAAgAAAgEAAAACAgAAAQECAAACAAAJAAMBAAEIAAAAAAAAAAIBAAAAAAAAAAAAAAEAAAICAQAAAAABAwAAAgABAgAAAwAAAAAAAAEAAgAAAQEBAQACAAAAAAAAAgAAAgACAAEAAAIAAAEAAAABAAACAQEIAQABAQEBAAAAAgAAAwAAAAABAAwAAgIAAAAAAQAAAgAAAAIAAQAAAQICAAECAAAAAQAAAAAAAgABAAABAAANAgAAAAAAAAACAQIAAQAAAQACAQAAAAAAAAAFAQAAAAAEAAEBAAACAAAHAQABAAAGAAEAAQABAQAAAgAABAAAAAAAAAAAAgIAAAAAAAABAgABAAAAAAAAAAABAAEAAAYAAAEAAAIAAQAAAAIAAQMHAAAAAAABAQAAAQAAAAAAAgEAAQEAAAAAAAIAAAAAAAEAAA4AAQAAAQMAAAIDAAAADwAAAAIAAgQBAAAAAAIAAgAAAQACAQIAAAAAAQMDAAAAAQAAAAQCAAIAAgMDAAAAAQACAAAAAQAAAQAAAwIAEAIDAAADAAICAwAAAAEAAAAAAAABAAAAAAAFAgMAAQECAgIAAgAAAAIBAAIBAAADAAIAAAIBAAAAAgIAAQAAAgUBAQAA",
          "dtype": "i1"
         },
         "xaxis": "x3",
         "y": {
          "bdata": "AAEBAQAAAAABAQEBAAAAAQABAAEAAQEBAAEAAAEAAAEBAAAAAQAAAQAAAAEBAAABAAAAAAEBAAEBAAEAAAEAAAABAQABAAAAAAABAAAAAQEAAQEAAQEAAAEAAAAAAAAAAAEBAAAAAAAAAAEBAAEAAAAAAAAAAAAAAAAAAQABAAEBAAAAAAEAAAEAAAAAAQEAAAABAAAAAAEAAAAAAQAAAAABAAAAAQEAAAAAAAEAAAAAAAAAAAAAAQEAAQEAAAEAAQEBAQAAAQAAAAAAAQAAAQEBAAEAAAABAQABAAEAAAABAAEAAAABAAABAAAAAQAAAAEAAAAAAAEBAAAAAAAAAQEBAQEAAQAAAAAAAQEBAAEBAAEBAAAAAQAAAAEAAAEAAQEBAQAAAAAAAAEBAQEAAQABAQEAAQEBAAAAAQEAAQEAAAEBAAEAAQEBAQAAAAEAAAEBAAEBAAAAAQEBAQAAAAAAAAABAAEBAAAAAAAAAQEBAQEAAAAAAQEAAAABAQABAAAAAQABAQEAAQEAAAAAAQEAAAAAAAABAAAAAAEAAQABAQAAAAAAAAAAAQEAAQEBAQAAAQABAAABAAABAQEBAQEBAAAAAQABAAEBAAEAAAAAAAAAAAEAAAEBAAAAAAABAAAAAQEAAQAAAQAAAAAAAAEAAAAAAAAAAQABAQABAQABAQAAAQABAAEAAAEAAAEAAAABAAABAAEAAQABAQAAAQAAAQEAAQEAAAEBAAEAAQEAAAAAAAAAAAABAQEBAQAAAQEAAQEBAAAAAQABAAAAAQAAAAABAAABAQAAAAEAAAEBAQAAAQAAAQAAAQAAAQEAAAAAAQAAAQABAAABAAAAAAABAAEBAQABAAEAAQABAAAAAAAAAQAAAAEAAAAAAQEAAAEAAAABAAEAAQAAAAAAAAABAQEBAAAAAAEAAAEBAAAAAAEBAQEBAAEAAAABAQAAAQAAAAEAAQEAAAEAAAAAAAABAAABAAEAAQAAAQAAAQEAAAEBAAAAAQAAAQEAAQAAAAAAAAAAAQAAAQABAQEAAAAAAQABAAAAAAAAAAEBAAAAAQEBAQAAAAABAAAAAAAAAAAAAAEBAAEAAAABAQEBAQAAAAEAAAEBAAABAAAAAAAAAQAAAAEAAQEBAQAAAAEAAAEBAAABAAEAAAEBAAAAAQEAAAAAAAABAAEA",
          "dtype": "i1"
         },
         "yaxis": "y3"
        }
       ],
       "layout": {
        "annotations": [
         {
          "font": {
           "size": 16
          },
          "showarrow": false,
          "text": "Fare_log vs Survived",
          "x": 0.14444444444444446,
          "xanchor": "center",
          "xref": "paper",
          "y": 1,
          "yanchor": "bottom",
          "yref": "paper"
         },
         {
          "font": {
           "size": 16
          },
          "showarrow": false,
          "text": "HasCabin vs Survived",
          "x": 0.5,
          "xanchor": "center",
          "xref": "paper",
          "y": 1,
          "yanchor": "bottom",
          "yref": "paper"
         },
         {
          "font": {
           "size": 16
          },
          "showarrow": false,
          "text": "Title_num vs Survived",
          "x": 0.8555555555555556,
          "xanchor": "center",
          "xref": "paper",
          "y": 1,
          "yanchor": "bottom",
          "yref": "paper"
         }
        ],
        "height": 400,
        "showlegend": false,
        "template": {
         "data": {
          "bar": [
           {
            "error_x": {
             "color": "#2a3f5f"
            },
            "error_y": {
             "color": "#2a3f5f"
            },
            "marker": {
             "line": {
              "color": "#E5ECF6",
              "width": 0.5
             },
             "pattern": {
              "fillmode": "overlay",
              "size": 10,
              "solidity": 0.2
             }
            },
            "type": "bar"
           }
          ],
          "barpolar": [
           {
            "marker": {
             "line": {
              "color": "#E5ECF6",
              "width": 0.5
             },
             "pattern": {
              "fillmode": "overlay",
              "size": 10,
              "solidity": 0.2
             }
            },
            "type": "barpolar"
           }
          ],
          "carpet": [
           {
            "aaxis": {
             "endlinecolor": "#2a3f5f",
             "gridcolor": "white",
             "linecolor": "white",
             "minorgridcolor": "white",
             "startlinecolor": "#2a3f5f"
            },
            "baxis": {
             "endlinecolor": "#2a3f5f",
             "gridcolor": "white",
             "linecolor": "white",
             "minorgridcolor": "white",
             "startlinecolor": "#2a3f5f"
            },
            "type": "carpet"
           }
          ],
          "choropleth": [
           {
            "colorbar": {
             "outlinewidth": 0,
             "ticks": ""
            },
            "type": "choropleth"
           }
          ],
          "contour": [
           {
            "colorbar": {
             "outlinewidth": 0,
             "ticks": ""
            },
            "colorscale": [
             [
              0,
              "#0d0887"
             ],
             [
              0.1111111111111111,
              "#46039f"
             ],
             [
              0.2222222222222222,
              "#7201a8"
             ],
             [
              0.3333333333333333,
              "#9c179e"
             ],
             [
              0.4444444444444444,
              "#bd3786"
             ],
             [
              0.5555555555555556,
              "#d8576b"
             ],
             [
              0.6666666666666666,
              "#ed7953"
             ],
             [
              0.7777777777777778,
              "#fb9f3a"
             ],
             [
              0.8888888888888888,
              "#fdca26"
             ],
             [
              1,
              "#f0f921"
             ]
            ],
            "type": "contour"
           }
          ],
          "contourcarpet": [
           {
            "colorbar": {
             "outlinewidth": 0,
             "ticks": ""
            },
            "type": "contourcarpet"
           }
          ],
          "heatmap": [
           {
            "colorbar": {
             "outlinewidth": 0,
             "ticks": ""
            },
            "colorscale": [
             [
              0,
              "#0d0887"
             ],
             [
              0.1111111111111111,
              "#46039f"
             ],
             [
              0.2222222222222222,
              "#7201a8"
             ],
             [
              0.3333333333333333,
              "#9c179e"
             ],
             [
              0.4444444444444444,
              "#bd3786"
             ],
             [
              0.5555555555555556,
              "#d8576b"
             ],
             [
              0.6666666666666666,
              "#ed7953"
             ],
             [
              0.7777777777777778,
              "#fb9f3a"
             ],
             [
              0.8888888888888888,
              "#fdca26"
             ],
             [
              1,
              "#f0f921"
             ]
            ],
            "type": "heatmap"
           }
          ],
          "histogram": [
           {
            "marker": {
             "pattern": {
              "fillmode": "overlay",
              "size": 10,
              "solidity": 0.2
             }
            },
            "type": "histogram"
           }
          ],
          "histogram2d": [
           {
            "colorbar": {
             "outlinewidth": 0,
             "ticks": ""
            },
            "colorscale": [
             [
              0,
              "#0d0887"
             ],
             [
              0.1111111111111111,
              "#46039f"
             ],
             [
              0.2222222222222222,
              "#7201a8"
             ],
             [
              0.3333333333333333,
              "#9c179e"
             ],
             [
              0.4444444444444444,
              "#bd3786"
             ],
             [
              0.5555555555555556,
              "#d8576b"
             ],
             [
              0.6666666666666666,
              "#ed7953"
             ],
             [
              0.7777777777777778,
              "#fb9f3a"
             ],
             [
              0.8888888888888888,
              "#fdca26"
             ],
             [
              1,
              "#f0f921"
             ]
            ],
            "type": "histogram2d"
           }
          ],
          "histogram2dcontour": [
           {
            "colorbar": {
             "outlinewidth": 0,
             "ticks": ""
            },
            "colorscale": [
             [
              0,
              "#0d0887"
             ],
             [
              0.1111111111111111,
              "#46039f"
             ],
             [
              0.2222222222222222,
              "#7201a8"
             ],
             [
              0.3333333333333333,
              "#9c179e"
             ],
             [
              0.4444444444444444,
              "#bd3786"
             ],
             [
              0.5555555555555556,
              "#d8576b"
             ],
             [
              0.6666666666666666,
              "#ed7953"
             ],
             [
              0.7777777777777778,
              "#fb9f3a"
             ],
             [
              0.8888888888888888,
              "#fdca26"
             ],
             [
              1,
              "#f0f921"
             ]
            ],
            "type": "histogram2dcontour"
           }
          ],
          "mesh3d": [
           {
            "colorbar": {
             "outlinewidth": 0,
             "ticks": ""
            },
            "type": "mesh3d"
           }
          ],
          "parcoords": [
           {
            "line": {
             "colorbar": {
              "outlinewidth": 0,
              "ticks": ""
             }
            },
            "type": "parcoords"
           }
          ],
          "pie": [
           {
            "automargin": true,
            "type": "pie"
           }
          ],
          "scatter": [
           {
            "fillpattern": {
             "fillmode": "overlay",
             "size": 10,
             "solidity": 0.2
            },
            "type": "scatter"
           }
          ],
          "scatter3d": [
           {
            "line": {
             "colorbar": {
              "outlinewidth": 0,
              "ticks": ""
             }
            },
            "marker": {
             "colorbar": {
              "outlinewidth": 0,
              "ticks": ""
             }
            },
            "type": "scatter3d"
           }
          ],
          "scattercarpet": [
           {
            "marker": {
             "colorbar": {
              "outlinewidth": 0,
              "ticks": ""
             }
            },
            "type": "scattercarpet"
           }
          ],
          "scattergeo": [
           {
            "marker": {
             "colorbar": {
              "outlinewidth": 0,
              "ticks": ""
             }
            },
            "type": "scattergeo"
           }
          ],
          "scattergl": [
           {
            "marker": {
             "colorbar": {
              "outlinewidth": 0,
              "ticks": ""
             }
            },
            "type": "scattergl"
           }
          ],
          "scattermap": [
           {
            "marker": {
             "colorbar": {
              "outlinewidth": 0,
              "ticks": ""
             }
            },
            "type": "scattermap"
           }
          ],
          "scattermapbox": [
           {
            "marker": {
             "colorbar": {
              "outlinewidth": 0,
              "ticks": ""
             }
            },
            "type": "scattermapbox"
           }
          ],
          "scatterpolar": [
           {
            "marker": {
             "colorbar": {
              "outlinewidth": 0,
              "ticks": ""
             }
            },
            "type": "scatterpolar"
           }
          ],
          "scatterpolargl": [
           {
            "marker": {
             "colorbar": {
              "outlinewidth": 0,
              "ticks": ""
             }
            },
            "type": "scatterpolargl"
           }
          ],
          "scatterternary": [
           {
            "marker": {
             "colorbar": {
              "outlinewidth": 0,
              "ticks": ""
             }
            },
            "type": "scatterternary"
           }
          ],
          "surface": [
           {
            "colorbar": {
             "outlinewidth": 0,
             "ticks": ""
            },
            "colorscale": [
             [
              0,
              "#0d0887"
             ],
             [
              0.1111111111111111,
              "#46039f"
             ],
             [
              0.2222222222222222,
              "#7201a8"
             ],
             [
              0.3333333333333333,
              "#9c179e"
             ],
             [
              0.4444444444444444,
              "#bd3786"
             ],
             [
              0.5555555555555556,
              "#d8576b"
             ],
             [
              0.6666666666666666,
              "#ed7953"
             ],
             [
              0.7777777777777778,
              "#fb9f3a"
             ],
             [
              0.8888888888888888,
              "#fdca26"
             ],
             [
              1,
              "#f0f921"
             ]
            ],
            "type": "surface"
           }
          ],
          "table": [
           {
            "cells": {
             "fill": {
              "color": "#EBF0F8"
             },
             "line": {
              "color": "white"
             }
            },
            "header": {
             "fill": {
              "color": "#C8D4E3"
             },
             "line": {
              "color": "white"
             }
            },
            "type": "table"
           }
          ]
         },
         "layout": {
          "annotationdefaults": {
           "arrowcolor": "#2a3f5f",
           "arrowhead": 0,
           "arrowwidth": 1
          },
          "autotypenumbers": "strict",
          "coloraxis": {
           "colorbar": {
            "outlinewidth": 0,
            "ticks": ""
           }
          },
          "colorscale": {
           "diverging": [
            [
             0,
             "#8e0152"
            ],
            [
             0.1,
             "#c51b7d"
            ],
            [
             0.2,
             "#de77ae"
            ],
            [
             0.3,
             "#f1b6da"
            ],
            [
             0.4,
             "#fde0ef"
            ],
            [
             0.5,
             "#f7f7f7"
            ],
            [
             0.6,
             "#e6f5d0"
            ],
            [
             0.7,
             "#b8e186"
            ],
            [
             0.8,
             "#7fbc41"
            ],
            [
             0.9,
             "#4d9221"
            ],
            [
             1,
             "#276419"
            ]
           ],
           "sequential": [
            [
             0,
             "#0d0887"
            ],
            [
             0.1111111111111111,
             "#46039f"
            ],
            [
             0.2222222222222222,
             "#7201a8"
            ],
            [
             0.3333333333333333,
             "#9c179e"
            ],
            [
             0.4444444444444444,
             "#bd3786"
            ],
            [
             0.5555555555555556,
             "#d8576b"
            ],
            [
             0.6666666666666666,
             "#ed7953"
            ],
            [
             0.7777777777777778,
             "#fb9f3a"
            ],
            [
             0.8888888888888888,
             "#fdca26"
            ],
            [
             1,
             "#f0f921"
            ]
           ],
           "sequentialminus": [
            [
             0,
             "#0d0887"
            ],
            [
             0.1111111111111111,
             "#46039f"
            ],
            [
             0.2222222222222222,
             "#7201a8"
            ],
            [
             0.3333333333333333,
             "#9c179e"
            ],
            [
             0.4444444444444444,
             "#bd3786"
            ],
            [
             0.5555555555555556,
             "#d8576b"
            ],
            [
             0.6666666666666666,
             "#ed7953"
            ],
            [
             0.7777777777777778,
             "#fb9f3a"
            ],
            [
             0.8888888888888888,
             "#fdca26"
            ],
            [
             1,
             "#f0f921"
            ]
           ]
          },
          "colorway": [
           "#636efa",
           "#EF553B",
           "#00cc96",
           "#ab63fa",
           "#FFA15A",
           "#19d3f3",
           "#FF6692",
           "#B6E880",
           "#FF97FF",
           "#FECB52"
          ],
          "font": {
           "color": "#2a3f5f"
          },
          "geo": {
           "bgcolor": "white",
           "lakecolor": "white",
           "landcolor": "#E5ECF6",
           "showlakes": true,
           "showland": true,
           "subunitcolor": "white"
          },
          "hoverlabel": {
           "align": "left"
          },
          "hovermode": "closest",
          "mapbox": {
           "style": "light"
          },
          "paper_bgcolor": "white",
          "plot_bgcolor": "#E5ECF6",
          "polar": {
           "angularaxis": {
            "gridcolor": "white",
            "linecolor": "white",
            "ticks": ""
           },
           "bgcolor": "#E5ECF6",
           "radialaxis": {
            "gridcolor": "white",
            "linecolor": "white",
            "ticks": ""
           }
          },
          "scene": {
           "xaxis": {
            "backgroundcolor": "#E5ECF6",
            "gridcolor": "white",
            "gridwidth": 2,
            "linecolor": "white",
            "showbackground": true,
            "ticks": "",
            "zerolinecolor": "white"
           },
           "yaxis": {
            "backgroundcolor": "#E5ECF6",
            "gridcolor": "white",
            "gridwidth": 2,
            "linecolor": "white",
            "showbackground": true,
            "ticks": "",
            "zerolinecolor": "white"
           },
           "zaxis": {
            "backgroundcolor": "#E5ECF6",
            "gridcolor": "white",
            "gridwidth": 2,
            "linecolor": "white",
            "showbackground": true,
            "ticks": "",
            "zerolinecolor": "white"
           }
          },
          "shapedefaults": {
           "line": {
            "color": "#2a3f5f"
           }
          },
          "ternary": {
           "aaxis": {
            "gridcolor": "white",
            "linecolor": "white",
            "ticks": ""
           },
           "baxis": {
            "gridcolor": "white",
            "linecolor": "white",
            "ticks": ""
           },
           "bgcolor": "#E5ECF6",
           "caxis": {
            "gridcolor": "white",
            "linecolor": "white",
            "ticks": ""
           }
          },
          "title": {
           "x": 0.05
          },
          "xaxis": {
           "automargin": true,
           "gridcolor": "white",
           "linecolor": "white",
           "ticks": "",
           "title": {
            "standoff": 15
           },
           "zerolinecolor": "white",
           "zerolinewidth": 2
          },
          "yaxis": {
           "automargin": true,
           "gridcolor": "white",
           "linecolor": "white",
           "ticks": "",
           "title": {
            "standoff": 15
           },
           "zerolinecolor": "white",
           "zerolinewidth": 2
          }
         }
        },
        "title": {
         "text": "Взаимосвязь топ-3 наиболее коррелирующих признаков с ценой"
        },
        "width": 1200,
        "xaxis": {
         "anchor": "y",
         "domain": [
          0,
          0.2888888888888889
         ],
         "title": {
          "text": "Fare_log"
         }
        },
        "xaxis2": {
         "anchor": "y2",
         "domain": [
          0.35555555555555557,
          0.6444444444444445
         ],
         "title": {
          "text": "HasCabin"
         }
        },
        "xaxis3": {
         "anchor": "y3",
         "domain": [
          0.7111111111111111,
          1
         ],
         "title": {
          "text": "Title_num"
         }
        },
        "yaxis": {
         "anchor": "x",
         "domain": [
          0,
          1
         ],
         "title": {
          "text": "Survived"
         }
        },
        "yaxis2": {
         "anchor": "x2",
         "domain": [
          0,
          1
         ],
         "title": {
          "text": "Survived"
         }
        },
        "yaxis3": {
         "anchor": "x3",
         "domain": [
          0,
          1
         ],
         "title": {
          "text": "Survived"
         }
        }
       }
      }
     },
     "metadata": {},
     "output_type": "display_data"
    }
   ],
   "source": [
    "# Анализ самых значимых признаков (топ-3 кроме самой цены)\n",
    "# target_correlation.index[1:4]: берем индексы с 1 по 3 (исключая Survived на позиции 0)\n",
    "top_features = target_correlation.index[1:4]\n",
    "print(top_features)\n",
    "top_abs = abs_correlation.index[:5]\n",
    "print(top_abs)\n",
    "\n",
    "# Создание subplots с 1 строкой и 3 колонками\n",
    "# subplot_titles: заголовки для каждого subplot\n",
    "fig = make_subplots(rows=1, \n",
    "                    cols=len(top_features),\n",
    "                    subplot_titles=[f\"{feat} vs Survived\" for feat in top_features])\n",
    "\n",
    "# Добавление scatter plots для каждого признака\n",
    "for i, feature in enumerate(top_features, 1):  # enumerate начинается с 1 для нумерации колонок\n",
    "    fig.add_trace(\n",
    "        go.Scatter(\n",
    "            x=df[feature],  # данные по оси X (признак)\n",
    "            y=df['Survived'],   # данные по оси Y (цена)\n",
    "            mode='markers', # режим отображения - точки\n",
    "            name=feature,   # название для легенды\n",
    "            marker=dict(size=5, opacity=0.6)  # настройки маркеров: размер и прозрачность\n",
    "        ),\n",
    "        row=1, col=i  # позиция в subplot\n",
    "    )\n",
    "    fig.update_xaxes(title_text=feature, row=1, col=i)  # подпись оси X\n",
    "    fig.update_yaxes(title_text=\"Survived\", row=1, col=i)   # подпись оси Y\n",
    "\n",
    "fig.update_layout(\n",
    "    height=400,      # высота графика\n",
    "    width=1200,      # ширина графика\n",
    "    title_text=\"Взаимосвязь топ-3 наиболее коррелирующих признаков с ценой\",\n",
    "    showlegend=False # скрыть легенду (не нужна для отдельных графиков)\n",
    ")\n",
    "fig.show()"
   ]
  },
  {
   "cell_type": "code",
   "execution_count": 1832,
   "id": "abb35aa9",
   "metadata": {},
   "outputs": [
    {
     "name": "stdout",
     "output_type": "stream",
     "text": [
      "Столбцы в DataFrame:\n",
      "['Survived', 'Pclass', 'Age', 'SibSp', 'Parch', 'Embarked_num', 'Sex_numeric', 'HasCabin', 'Title_num', 'Fare_log']\n",
      "\n",
      "Проверка наличия столбцов:\n",
      "✓ Pclass - присутствует\n",
      "✓ Sex_numeric - присутствует\n",
      "✓ Fare_log - присутствует\n",
      "✓ Survived - присутствует\n",
      "\n",
      "Существующие признаки: ['Pclass', 'Sex_numeric', 'Fare_log']\n"
     ]
    }
   ],
   "source": [
    "# Сначала проверим, какие столбцы действительно есть в DataFrame\n",
    "print(\"Столбцы в DataFrame:\")\n",
    "print(df.columns.tolist())\n",
    "\n",
    "# Проверим наличие каждого предполагаемого столбца\n",
    "key_features = ['Pclass',  'Sex_numeric', 'Fare_log']\n",
    "\n",
    "print(\"\\nПроверка наличия столбцов:\")\n",
    "for feature in key_features + ['Survived']:\n",
    "    if feature in df.columns:\n",
    "        print(f\"✓ {feature} - присутствует\")\n",
    "    else:\n",
    "        print(f\"✗ {feature} - отсутствует\")\n",
    "\n",
    "# Создадим список только существующих столбцов\n",
    "existing_features = [feature for feature in key_features if feature in df.columns]\n",
    "print(f\"\\nСуществующие признаки: {existing_features}\")"
   ]
  },
  {
   "cell_type": "code",
   "execution_count": 1833,
   "id": "528da78f",
   "metadata": {},
   "outputs": [
    {
     "data": {
      "application/vnd.plotly.v1+json": {
       "config": {
        "plotlyServerURL": "https://plot.ly"
       },
       "data": [
        {
         "dimensions": [
          {
           "axis": {
            "matches": true
           },
           "label": "Pclass",
           "values": {
            "bdata": "AwEDAQMDAQMDAgMBAwMDAgMCAwMCAgMBAwMDAQMDAQEDAgEBAwMDAwMCAwIDAwMDAwMDAwECAQECAwIDAwEBAwEDAgMDAwIDAgMDAwMDAgMDAwMBAgMDAwEDAwMBAwMDAQECAgMDAQMDAwMDAwMBAwMDAwMDAgEDAgMCAgEDAwMDAwMDAwICAgEBAwEDAwMDAgIDAwICAgEDAwMBAwMDAwMCAwMDAwEDAQMBAwMDAQMDAQIDAwIDAgMBAwEDAwICAwIBAQMDAwIDAwMDAwMDAwMBAwIDAgMBAwIBAgMCAwMBAwIDAgMBAwIDAgMCAgICAwMCAwMBAwIBAgMDAQMDAwEBAQIDAwEBAwIDAwEBAQMCAQMBAwIDAwMDAwMBAwMDAgMBAQIDAwEDAQEBAwMDAgMBAQECAQEBAgMCAwICAQEDAwICAwEDAgMBAwEBAwEDAQEDAQIBAgICAgIDAwMDAQMDAwMBAgMDAwIDAwMDAQMDAQEDAwEDAQMBAwMBAwMBAwIDAgMCAQMDAQMDAwICAgMDAwMDAgMCAwMDAwECAwMCAgIDAwMDAwMDAgIDAwEDAgMBAQMCAQICAwMCAwECAQMBAgMBAQMDAQECAwEDAQIDAwIBAwMDAwICAwECAwMDAwIDAwEDAQEDAwMDAQEDAwEDAQMDAwMDAQECAQMDAwMBAQMBAgMCAwEDAwEDAwIBAwICAwMDAwIBAQMBAQMDAgEBAgIDAgECAwMDAQEBAQMDAwIDAwMDAwMDAgEBAwMDAgEDAwIBAgEDAQIBAwMDAQMDAgMCAwMBAgMBAwEDAwECAQMDAwMDAgMDAgIDAQMDAwECAQMDAQMBAQMCAwIDAwMBAwMDAQMBAwMDAgMDAwIDAwIBAQMBAwMCAgMDAQIBAgICAwMDAwEDAQMDAgIDAwMBAQMDAwECAwMBAwEBAwMDAgIBAQMBAQEDAgMBAgMDAgMCAgEDAgMCAwEDAgICAwMBAwMBAQEDAwEDAgEDAgMDAwICAwIDAQMDAwEDAQEDAwMDAwIDAgMDAwMBAwEBAwMDAwMDAQMCAwEDAgEDAwMCAgEDAwMBAwIBAwMCAwMBAwIDAwEDAQMDAwMCAwEDAgMDAwEDAwMBAwIBAwMDAwMCAQMDAwECAwEBAwMDAgEDAgICAQMDAwEBAwIDAwMDAQIDAwIDAwIBAwED",
            "dtype": "i1"
           }
          },
          {
           "axis": {
            "matches": true
           },
           "label": "Sex_numeric",
           "values": {
            "bdata": "AQAAAAEBAQEAAAAAAQEAAAEBAAABAQABAAABAQABAQAAAQEBAQEAAAAAAQAAAQEAAQABAQAAAQEAAQABAQABAQEBAAEAAQEAAQEBAQEBAQABAQABAAABAQABAQEBAQEBAQEAAQABAQEBAQABAQABAAEAAAEBAQEAAQEBAAEBAQEAAQEBAAABAQABAQEAAAABAQEBAAEBAQABAQEBAAEBAQEAAQEBAQAAAQEBAQABAQEBAAEBAAEBAQABAAEBAQABAAEAAAEBAAABAQEBAQABAQABAQABAQEAAAEAAQEBAQEBAQEBAQAAAQEAAQABAAEBAAABAQEBAAABAQEAAQEAAAAAAAABAQEBAAEBAQAAAQEAAQAAAAEBAAEBAQEBAQEBAQAAAAEAAQEBAAEAAAEBAAEBAAABAAAAAAEBAAABAAABAQAAAQABAAAAAAEBAQABAQABAQEAAQEBAAAAAQEBAQEBAQEAAAAAAQEAAQEBAAAAAAEBAQEAAAABAQEAAAEAAQEBAAEAAQEBAAABAAEBAAEBAAEAAQEBAQABAQABAQAAAAEAAQEBAAEBAAABAQEAAAEBAAAAAQEAAQEAAQEAAQABAQEBAQEBAQAAAQEBAQEBAQEBAQABAQAAAAEBAQEAAQEBAAEAAAEBAQEBAQEBAQABAAEBAAAAAAEAAQEBAQEBAAEBAAEAAQABAQABAQABAQEAAQEAAAABAAEAAAAAAQEBAAEBAQEBAQEAAQABAAABAQEBAAEBAAEBAQABAAEBAAAAAQAAAQEBAAEBAQEBAAEAAQEAAQEBAAEBAQEBAQEAAAABAAEBAAEAAAEBAQEBAQEBAAEBAQEBAQAAAQEAAQEAAAEAAQEBAQABAAEAAAEBAAEBAQEBAQEBAQEBAAABAQEBAQEAAAEAAQEBAQEBAQEAAQABAQEBAQABAQABAAEBAQABAAEAAQEBAQEAAAEBAAEBAQEBAAABAAABAQEBAQABAQEBAQABAQEBAAEBAAEBAQABAQEBAAEBAQABAAEAAQEBAQABAAEBAAEAAAABAQEBAAEBAQEBAAEBAQAAAQABAAEBAQEBAAEAAQEBAAEBAAEBAQABAQABAQEBAQAAAQEBAQABAQEBAQEAAQEBAQEBAAEBAAAAAAABAAEBAQAAAQAAAQEBAQABAQAAAQEBAAABAAEBAAEAAAEB",
            "dtype": "i1"
           }
          },
          {
           "axis": {
            "matches": true
           },
           "label": "Fare_log",
           "values": {
            "bdata": "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",
            "dtype": "f8"
           }
          },
          {
           "axis": {
            "matches": true
           },
           "label": "Survived",
           "values": {
            "bdata": "AAEBAQAAAAABAQEBAAAAAQABAAEAAQEBAAEAAAEAAAEBAAAAAQAAAQAAAAEBAAABAAAAAAEBAAEBAAEAAAEAAAABAQABAAAAAAABAAAAAQEAAQEAAQEAAAEAAAAAAAAAAAEBAAAAAAAAAAEBAAEAAAAAAAAAAAAAAAAAAQABAAEBAAAAAAEAAAEAAAAAAQEAAAABAAAAAAEAAAAAAQAAAAABAAAAAQEAAAAAAAEAAAAAAAAAAAAAAQEAAQEAAAEAAQEBAQAAAQAAAAAAAQAAAQEBAAEAAAABAQABAAEAAAABAAEAAAABAAABAAAAAQAAAAEAAAAAAAEBAAAAAAAAAQEBAQEAAQAAAAAAAQEBAAEBAAEBAAAAAQAAAAEAAAEAAQEBAQAAAAAAAAEBAQEAAQABAQEAAQEBAAAAAQEAAQEAAAEBAAEAAQEBAQAAAAEAAAEBAAEBAAAAAQEBAQAAAAAAAAABAAEBAAAAAAAAAQEBAQEAAAAAAQEAAAABAQABAAAAAQABAQEAAQEAAAAAAQEAAAAAAAABAAAAAAEAAQABAQAAAAAAAAAAAQEAAQEBAQAAAQABAAABAAABAQEBAQEBAAAAAQABAAEBAAEAAAAAAAAAAAEAAAEBAAAAAAABAAAAAQEAAQAAAQAAAAAAAAEAAAAAAAAAAQABAQABAQABAQAAAQABAAEAAAEAAAEAAAABAAABAAEAAQABAQAAAQAAAQEAAQEAAAEBAAEAAQEAAAAAAAAAAAABAQEBAQAAAQEAAQEBAAAAAQABAAAAAQAAAAABAAABAQAAAAEAAAEBAQAAAQAAAQAAAQAAAQEAAAAAAQAAAQABAAABAAAAAAABAAEBAQABAAEAAQABAAAAAAAAAQAAAAEAAAAAAQEAAAEAAAABAAEAAQAAAAAAAAABAQEBAAAAAAEAAAEBAAAAAAEBAQEBAAEAAAABAQAAAQAAAAEAAQEAAAEAAAAAAAABAAABAAEAAQAAAQAAAQEAAAEBAAAAAQAAAQEAAQAAAAAAAAAAAQAAAQABAQEAAAAAAQABAAAAAAAAAAEBAAAAAQEBAQAAAAABAAAAAAAAAAAAAAEBAAEAAAABAQEBAQAAAAEAAAEBAAABAAAAAAAAAQAAAAEAAQEBAQAAAAEAAAEBAAABAAEAAAEBAAAAAQEAAAAAAAABAAEA",
            "dtype": "i1"
           }
          }
         ],
         "hovertemplate": "%{xaxis.title.text}=%{x}<br>%{yaxis.title.text}=%{y}<br>Survived=%{marker.color}<extra></extra>",
         "legendgroup": "",
         "marker": {
          "color": {
           "bdata": "AAEBAQAAAAABAQEBAAAAAQABAAEAAQEBAAEAAAEAAAEBAAAAAQAAAQAAAAEBAAABAAAAAAEBAAEBAAEAAAEAAAABAQABAAAAAAABAAAAAQEAAQEAAQEAAAEAAAAAAAAAAAEBAAAAAAAAAAEBAAEAAAAAAAAAAAAAAAAAAQABAAEBAAAAAAEAAAEAAAAAAQEAAAABAAAAAAEAAAAAAQAAAAABAAAAAQEAAAAAAAEAAAAAAAAAAAAAAQEAAQEAAAEAAQEBAQAAAQAAAAAAAQAAAQEBAAEAAAABAQABAAEAAAABAAEAAAABAAABAAAAAQAAAAEAAAAAAAEBAAAAAAAAAQEBAQEAAQAAAAAAAQEBAAEBAAEBAAAAAQAAAAEAAAEAAQEBAQAAAAAAAAEBAQEAAQABAQEAAQEBAAAAAQEAAQEAAAEBAAEAAQEBAQAAAAEAAAEBAAEBAAAAAQEBAQAAAAAAAAABAAEBAAAAAAAAAQEBAQEAAAAAAQEAAAABAQABAAAAAQABAQEAAQEAAAAAAQEAAAAAAAABAAAAAAEAAQABAQAAAAAAAAAAAQEAAQEBAQAAAQABAAABAAABAQEBAQEBAAAAAQABAAEBAAEAAAAAAAAAAAEAAAEBAAAAAAABAAAAAQEAAQAAAQAAAAAAAAEAAAAAAAAAAQABAQABAQABAQAAAQABAAEAAAEAAAEAAAABAAABAAEAAQABAQAAAQAAAQEAAQEAAAEBAAEAAQEAAAAAAAAAAAABAQEBAQAAAQEAAQEBAAAAAQABAAAAAQAAAAABAAABAQAAAAEAAAEBAQAAAQAAAQAAAQAAAQEAAAAAAQAAAQABAAABAAAAAAABAAEBAQABAAEAAQABAAAAAAAAAQAAAAEAAAAAAQEAAAEAAAABAAEAAQAAAAAAAAABAQEBAAAAAAEAAAEBAAAAAAEBAQEBAAEAAAABAQAAAQAAAAEAAQEAAAEAAAAAAAABAAABAAEAAQAAAQAAAQEAAAEBAAAAAQAAAQEAAQAAAAAAAAAAAQAAAQABAQEAAAAAAQABAAAAAAAAAAEBAAAAAQEBAQAAAAABAAAAAAAAAAAAAAEBAAEAAAABAQEBAQAAAAEAAAEBAAABAAAAAAAAAQAAAAEAAQEBAQAAAAEAAAEBAAABAAEAAAEBAAAAAQEAAAAAAAABAAEA",
           "dtype": "i1"
          },
          "coloraxis": "coloraxis",
          "symbol": "circle"
         },
         "name": "",
         "showlegend": false,
         "type": "splom"
        }
       ],
       "layout": {
        "coloraxis": {
         "colorbar": {
          "title": {
           "text": "Survived"
          }
         },
         "colorscale": [
          [
           0,
           "#440154"
          ],
          [
           0.1111111111111111,
           "#482878"
          ],
          [
           0.2222222222222222,
           "#3e4989"
          ],
          [
           0.3333333333333333,
           "#31688e"
          ],
          [
           0.4444444444444444,
           "#26828e"
          ],
          [
           0.5555555555555556,
           "#1f9e89"
          ],
          [
           0.6666666666666666,
           "#35b779"
          ],
          [
           0.7777777777777778,
           "#6ece58"
          ],
          [
           0.8888888888888888,
           "#b5de2b"
          ],
          [
           1,
           "#fde725"
          ]
         ]
        },
        "dragmode": "select",
        "height": 800,
        "legend": {
         "tracegroupgap": 0
        },
        "template": {
         "data": {
          "bar": [
           {
            "error_x": {
             "color": "#2a3f5f"
            },
            "error_y": {
             "color": "#2a3f5f"
            },
            "marker": {
             "line": {
              "color": "#E5ECF6",
              "width": 0.5
             },
             "pattern": {
              "fillmode": "overlay",
              "size": 10,
              "solidity": 0.2
             }
            },
            "type": "bar"
           }
          ],
          "barpolar": [
           {
            "marker": {
             "line": {
              "color": "#E5ECF6",
              "width": 0.5
             },
             "pattern": {
              "fillmode": "overlay",
              "size": 10,
              "solidity": 0.2
             }
            },
            "type": "barpolar"
           }
          ],
          "carpet": [
           {
            "aaxis": {
             "endlinecolor": "#2a3f5f",
             "gridcolor": "white",
             "linecolor": "white",
             "minorgridcolor": "white",
             "startlinecolor": "#2a3f5f"
            },
            "baxis": {
             "endlinecolor": "#2a3f5f",
             "gridcolor": "white",
             "linecolor": "white",
             "minorgridcolor": "white",
             "startlinecolor": "#2a3f5f"
            },
            "type": "carpet"
           }
          ],
          "choropleth": [
           {
            "colorbar": {
             "outlinewidth": 0,
             "ticks": ""
            },
            "type": "choropleth"
           }
          ],
          "contour": [
           {
            "colorbar": {
             "outlinewidth": 0,
             "ticks": ""
            },
            "colorscale": [
             [
              0,
              "#0d0887"
             ],
             [
              0.1111111111111111,
              "#46039f"
             ],
             [
              0.2222222222222222,
              "#7201a8"
             ],
             [
              0.3333333333333333,
              "#9c179e"
             ],
             [
              0.4444444444444444,
              "#bd3786"
             ],
             [
              0.5555555555555556,
              "#d8576b"
             ],
             [
              0.6666666666666666,
              "#ed7953"
             ],
             [
              0.7777777777777778,
              "#fb9f3a"
             ],
             [
              0.8888888888888888,
              "#fdca26"
             ],
             [
              1,
              "#f0f921"
             ]
            ],
            "type": "contour"
           }
          ],
          "contourcarpet": [
           {
            "colorbar": {
             "outlinewidth": 0,
             "ticks": ""
            },
            "type": "contourcarpet"
           }
          ],
          "heatmap": [
           {
            "colorbar": {
             "outlinewidth": 0,
             "ticks": ""
            },
            "colorscale": [
             [
              0,
              "#0d0887"
             ],
             [
              0.1111111111111111,
              "#46039f"
             ],
             [
              0.2222222222222222,
              "#7201a8"
             ],
             [
              0.3333333333333333,
              "#9c179e"
             ],
             [
              0.4444444444444444,
              "#bd3786"
             ],
             [
              0.5555555555555556,
              "#d8576b"
             ],
             [
              0.6666666666666666,
              "#ed7953"
             ],
             [
              0.7777777777777778,
              "#fb9f3a"
             ],
             [
              0.8888888888888888,
              "#fdca26"
             ],
             [
              1,
              "#f0f921"
             ]
            ],
            "type": "heatmap"
           }
          ],
          "histogram": [
           {
            "marker": {
             "pattern": {
              "fillmode": "overlay",
              "size": 10,
              "solidity": 0.2
             }
            },
            "type": "histogram"
           }
          ],
          "histogram2d": [
           {
            "colorbar": {
             "outlinewidth": 0,
             "ticks": ""
            },
            "colorscale": [
             [
              0,
              "#0d0887"
             ],
             [
              0.1111111111111111,
              "#46039f"
             ],
             [
              0.2222222222222222,
              "#7201a8"
             ],
             [
              0.3333333333333333,
              "#9c179e"
             ],
             [
              0.4444444444444444,
              "#bd3786"
             ],
             [
              0.5555555555555556,
              "#d8576b"
             ],
             [
              0.6666666666666666,
              "#ed7953"
             ],
             [
              0.7777777777777778,
              "#fb9f3a"
             ],
             [
              0.8888888888888888,
              "#fdca26"
             ],
             [
              1,
              "#f0f921"
             ]
            ],
            "type": "histogram2d"
           }
          ],
          "histogram2dcontour": [
           {
            "colorbar": {
             "outlinewidth": 0,
             "ticks": ""
            },
            "colorscale": [
             [
              0,
              "#0d0887"
             ],
             [
              0.1111111111111111,
              "#46039f"
             ],
             [
              0.2222222222222222,
              "#7201a8"
             ],
             [
              0.3333333333333333,
              "#9c179e"
             ],
             [
              0.4444444444444444,
              "#bd3786"
             ],
             [
              0.5555555555555556,
              "#d8576b"
             ],
             [
              0.6666666666666666,
              "#ed7953"
             ],
             [
              0.7777777777777778,
              "#fb9f3a"
             ],
             [
              0.8888888888888888,
              "#fdca26"
             ],
             [
              1,
              "#f0f921"
             ]
            ],
            "type": "histogram2dcontour"
           }
          ],
          "mesh3d": [
           {
            "colorbar": {
             "outlinewidth": 0,
             "ticks": ""
            },
            "type": "mesh3d"
           }
          ],
          "parcoords": [
           {
            "line": {
             "colorbar": {
              "outlinewidth": 0,
              "ticks": ""
             }
            },
            "type": "parcoords"
           }
          ],
          "pie": [
           {
            "automargin": true,
            "type": "pie"
           }
          ],
          "scatter": [
           {
            "fillpattern": {
             "fillmode": "overlay",
             "size": 10,
             "solidity": 0.2
            },
            "type": "scatter"
           }
          ],
          "scatter3d": [
           {
            "line": {
             "colorbar": {
              "outlinewidth": 0,
              "ticks": ""
             }
            },
            "marker": {
             "colorbar": {
              "outlinewidth": 0,
              "ticks": ""
             }
            },
            "type": "scatter3d"
           }
          ],
          "scattercarpet": [
           {
            "marker": {
             "colorbar": {
              "outlinewidth": 0,
              "ticks": ""
             }
            },
            "type": "scattercarpet"
           }
          ],
          "scattergeo": [
           {
            "marker": {
             "colorbar": {
              "outlinewidth": 0,
              "ticks": ""
             }
            },
            "type": "scattergeo"
           }
          ],
          "scattergl": [
           {
            "marker": {
             "colorbar": {
              "outlinewidth": 0,
              "ticks": ""
             }
            },
            "type": "scattergl"
           }
          ],
          "scattermap": [
           {
            "marker": {
             "colorbar": {
              "outlinewidth": 0,
              "ticks": ""
             }
            },
            "type": "scattermap"
           }
          ],
          "scattermapbox": [
           {
            "marker": {
             "colorbar": {
              "outlinewidth": 0,
              "ticks": ""
             }
            },
            "type": "scattermapbox"
           }
          ],
          "scatterpolar": [
           {
            "marker": {
             "colorbar": {
              "outlinewidth": 0,
              "ticks": ""
             }
            },
            "type": "scatterpolar"
           }
          ],
          "scatterpolargl": [
           {
            "marker": {
             "colorbar": {
              "outlinewidth": 0,
              "ticks": ""
             }
            },
            "type": "scatterpolargl"
           }
          ],
          "scatterternary": [
           {
            "marker": {
             "colorbar": {
              "outlinewidth": 0,
              "ticks": ""
             }
            },
            "type": "scatterternary"
           }
          ],
          "surface": [
           {
            "colorbar": {
             "outlinewidth": 0,
             "ticks": ""
            },
            "colorscale": [
             [
              0,
              "#0d0887"
             ],
             [
              0.1111111111111111,
              "#46039f"
             ],
             [
              0.2222222222222222,
              "#7201a8"
             ],
             [
              0.3333333333333333,
              "#9c179e"
             ],
             [
              0.4444444444444444,
              "#bd3786"
             ],
             [
              0.5555555555555556,
              "#d8576b"
             ],
             [
              0.6666666666666666,
              "#ed7953"
             ],
             [
              0.7777777777777778,
              "#fb9f3a"
             ],
             [
              0.8888888888888888,
              "#fdca26"
             ],
             [
              1,
              "#f0f921"
             ]
            ],
            "type": "surface"
           }
          ],
          "table": [
           {
            "cells": {
             "fill": {
              "color": "#EBF0F8"
             },
             "line": {
              "color": "white"
             }
            },
            "header": {
             "fill": {
              "color": "#C8D4E3"
             },
             "line": {
              "color": "white"
             }
            },
            "type": "table"
           }
          ]
         },
         "layout": {
          "annotationdefaults": {
           "arrowcolor": "#2a3f5f",
           "arrowhead": 0,
           "arrowwidth": 1
          },
          "autotypenumbers": "strict",
          "coloraxis": {
           "colorbar": {
            "outlinewidth": 0,
            "ticks": ""
           }
          },
          "colorscale": {
           "diverging": [
            [
             0,
             "#8e0152"
            ],
            [
             0.1,
             "#c51b7d"
            ],
            [
             0.2,
             "#de77ae"
            ],
            [
             0.3,
             "#f1b6da"
            ],
            [
             0.4,
             "#fde0ef"
            ],
            [
             0.5,
             "#f7f7f7"
            ],
            [
             0.6,
             "#e6f5d0"
            ],
            [
             0.7,
             "#b8e186"
            ],
            [
             0.8,
             "#7fbc41"
            ],
            [
             0.9,
             "#4d9221"
            ],
            [
             1,
             "#276419"
            ]
           ],
           "sequential": [
            [
             0,
             "#0d0887"
            ],
            [
             0.1111111111111111,
             "#46039f"
            ],
            [
             0.2222222222222222,
             "#7201a8"
            ],
            [
             0.3333333333333333,
             "#9c179e"
            ],
            [
             0.4444444444444444,
             "#bd3786"
            ],
            [
             0.5555555555555556,
             "#d8576b"
            ],
            [
             0.6666666666666666,
             "#ed7953"
            ],
            [
             0.7777777777777778,
             "#fb9f3a"
            ],
            [
             0.8888888888888888,
             "#fdca26"
            ],
            [
             1,
             "#f0f921"
            ]
           ],
           "sequentialminus": [
            [
             0,
             "#0d0887"
            ],
            [
             0.1111111111111111,
             "#46039f"
            ],
            [
             0.2222222222222222,
             "#7201a8"
            ],
            [
             0.3333333333333333,
             "#9c179e"
            ],
            [
             0.4444444444444444,
             "#bd3786"
            ],
            [
             0.5555555555555556,
             "#d8576b"
            ],
            [
             0.6666666666666666,
             "#ed7953"
            ],
            [
             0.7777777777777778,
             "#fb9f3a"
            ],
            [
             0.8888888888888888,
             "#fdca26"
            ],
            [
             1,
             "#f0f921"
            ]
           ]
          },
          "colorway": [
           "#636efa",
           "#EF553B",
           "#00cc96",
           "#ab63fa",
           "#FFA15A",
           "#19d3f3",
           "#FF6692",
           "#B6E880",
           "#FF97FF",
           "#FECB52"
          ],
          "font": {
           "color": "#2a3f5f"
          },
          "geo": {
           "bgcolor": "white",
           "lakecolor": "white",
           "landcolor": "#E5ECF6",
           "showlakes": true,
           "showland": true,
           "subunitcolor": "white"
          },
          "hoverlabel": {
           "align": "left"
          },
          "hovermode": "closest",
          "mapbox": {
           "style": "light"
          },
          "paper_bgcolor": "white",
          "plot_bgcolor": "#E5ECF6",
          "polar": {
           "angularaxis": {
            "gridcolor": "white",
            "linecolor": "white",
            "ticks": ""
           },
           "bgcolor": "#E5ECF6",
           "radialaxis": {
            "gridcolor": "white",
            "linecolor": "white",
            "ticks": ""
           }
          },
          "scene": {
           "xaxis": {
            "backgroundcolor": "#E5ECF6",
            "gridcolor": "white",
            "gridwidth": 2,
            "linecolor": "white",
            "showbackground": true,
            "ticks": "",
            "zerolinecolor": "white"
           },
           "yaxis": {
            "backgroundcolor": "#E5ECF6",
            "gridcolor": "white",
            "gridwidth": 2,
            "linecolor": "white",
            "showbackground": true,
            "ticks": "",
            "zerolinecolor": "white"
           },
           "zaxis": {
            "backgroundcolor": "#E5ECF6",
            "gridcolor": "white",
            "gridwidth": 2,
            "linecolor": "white",
            "showbackground": true,
            "ticks": "",
            "zerolinecolor": "white"
           }
          },
          "shapedefaults": {
           "line": {
            "color": "#2a3f5f"
           }
          },
          "ternary": {
           "aaxis": {
            "gridcolor": "white",
            "linecolor": "white",
            "ticks": ""
           },
           "baxis": {
            "gridcolor": "white",
            "linecolor": "white",
            "ticks": ""
           },
           "bgcolor": "#E5ECF6",
           "caxis": {
            "gridcolor": "white",
            "linecolor": "white",
            "ticks": ""
           }
          },
          "title": {
           "x": 0.05
          },
          "xaxis": {
           "automargin": true,
           "gridcolor": "white",
           "linecolor": "white",
           "ticks": "",
           "title": {
            "standoff": 15
           },
           "zerolinecolor": "white",
           "zerolinewidth": 2
          },
          "yaxis": {
           "automargin": true,
           "gridcolor": "white",
           "linecolor": "white",
           "ticks": "",
           "title": {
            "standoff": 15
           },
           "zerolinecolor": "white",
           "zerolinewidth": 2
          }
         }
        },
        "title": {
         "text": "Матрица scatter plot ключевых признаков Boston Housing"
        }
       }
      }
     },
     "metadata": {},
     "output_type": "display_data"
    }
   ],
   "source": [
    "# Более детальный анализ ключевых признаков\n",
    "key_features = ['Pclass',  'Sex_numeric', 'Fare_log'] # Выбранные ключевые признаки\n",
    "\n",
    "# Матрица scatter plots\n",
    "# px.scatter_matrix: создает матрицу scatter plots для выбранных измерений\n",
    "# dimensions: список колонок для анализа\n",
    "# color='Survived': цвет точек based on цены\n",
    "# color_continuous_scale: цветовая шкала\n",
    "# title: заголовок графика\n",
    "\n",
    "fig = px.scatter_matrix(df, \n",
    "                        dimensions=key_features + ['Survived'],\n",
    "                        title='Матрица scatter plot ключевых признаков Boston Housing',\n",
    "                        color='Survived',\n",
    "                        color_continuous_scale='viridis',\n",
    "                        height=800)  # высота графика\n",
    "fig.show()"
   ]
  },
  {
   "cell_type": "code",
   "execution_count": 1834,
   "id": "518098fe",
   "metadata": {},
   "outputs": [
    {
     "name": "stdout",
     "output_type": "stream",
     "text": [
      "Выживаемость по полу:\n",
      "Survived       0    1\n",
      "Sex_numeric          \n",
      "0             81  233\n",
      "1            468  109\n",
      "\n",
      "Процент выживаемости по полу:\n",
      "Survived             0          1\n",
      "Sex_numeric                      \n",
      "0            25.796178  74.203822\n",
      "1            81.109185  18.890815\n"
     ]
    },
    {
     "data": {
      "application/vnd.plotly.v1+json": {
       "config": {
        "plotlyServerURL": "https://plot.ly"
       },
       "data": [
        {
         "alignmentgroup": "True",
         "bingroup": "x",
         "hovertemplate": "Выжил=0<br>Пол=%{x}<br>count=%{y}<extra></extra>",
         "legendgroup": "0",
         "marker": {
          "color": "red",
          "pattern": {
           "shape": ""
          }
         },
         "name": "0",
         "offsetgroup": "0",
         "orientation": "v",
         "showlegend": true,
         "type": "histogram",
         "x": {
          "bdata": "AQEBAQEBAQABAAEAAQEBAQEBAQEAAAABAQEBAAEBAQEBAQEBAQEBAQABAQEBAQEBAQEBAQEBAQEBAQEAAQEBAQEBAQABAAABAQEBAAEBAQEBAQEBAAEBAQEBAAEBAQABAQEBAQEBAQEBAQEBAQABAQEBAQEBAQABAQABAQEBAQEBAQABAQEBAAEBAQEBAQEBAQEBAQEAAQEBAAEBAQABAQEBAAEBAAEBAAEBAQABAQEBAAEBAQEBAQEBAQABAQEAAQEBAAEBAQEBAQEBAQEBAQEBAQEBAQEBAQEBAAEBAAEBAQEBAQABAQEBAQEBAQEBAAEBAQABAAEBAQABAQEAAQABAQEAAQEBAQEAAQEBAQEBAQEBAQEBAQEBAQEBAQEAAQEBAQEBAQABAQEBAQEBAQEAAQEAAAABAQEBAQEBAQEBAQEBAQEBAAEBAAABAQEBAQEBAQEBAQABAQABAQEAAQEBAQEBAQEAAQEBAQEBAQEBAAEBAQEAAQEBAQEBAQEBAQABAQABAQABAQEBAAEBAAEBAQEBAQEBAQEBAQEBAAABAQEBAQEBAQEBAQEBAAEBAQEBAQEBAQEBAQEBAAEBAQEBAAEBAQEBAQEBAQEBAQEBAQEBAAEBAQEAAQEBAQEBAQEBAQEBAAEBAQEAAQEBAAEBAQEAAQEAAQEBAQEBAQEBAQEBAQEBAQEBAQEBAQAAAQEBAAEBAQEBAQEBAQEAAQEAAQAB",
          "dtype": "i1"
         },
         "xaxis": "x",
         "yaxis": "y"
        },
        {
         "alignmentgroup": "True",
         "bingroup": "x",
         "hovertemplate": "Выжил=1<br>Пол=%{x}<br>count=%{y}<extra></extra>",
         "legendgroup": "1",
         "marker": {
          "color": "green",
          "pattern": {
           "shape": ""
          }
         },
         "name": "1",
         "offsetgroup": "1",
         "orientation": "v",
         "showlegend": true,
         "type": "histogram",
         "x": {
          "bdata": "AAAAAAAAAAABAAEAAQAAAAABAAAAAAAAAQAAAAEAAAEBAAEAAAAAAQAAAQAAAQEAAAAAAAEAAAABAAABAAABAAABAAAAAQEAAQAAAAABAQEAAAAAAAEAAAAAAAEBAAABAAAAAAEBAQAAAAEAAAEAAQAAAAAAAAAAAAAAAAAAAAAAAAEBAAAAAAEAAAAAAAAAAQAAAAAAAAABAQAAAAEBAAEAAAAAAQEAAAAAAAABAQABAAEBAQAAAQAAAAAAAQABAAAAAQEBAQAAAAAAAAAAAAAAAAEAAQEBAQAAAAABAQABAAAAAQAAAAEAAAEAAQEAAAAAAAEBAAEBAAABAAEBAAAAAQEAAAEAAQEAAQABAAABAAEAAQABAAAAAQAAAAEBAAEAAAEAAQABAAAAAAAAAAABAAAAAQEBAAABAAEBAAABAAEBAAAAAAABAAAAAAEAAAAAAAAB",
          "dtype": "i1"
         },
         "xaxis": "x",
         "yaxis": "y"
        }
       ],
       "layout": {
        "bargap": 0.2,
        "barmode": "group",
        "legend": {
         "title": {
          "text": "Выжил"
         },
         "tracegroupgap": 0
        },
        "template": {
         "data": {
          "bar": [
           {
            "error_x": {
             "color": "#2a3f5f"
            },
            "error_y": {
             "color": "#2a3f5f"
            },
            "marker": {
             "line": {
              "color": "#E5ECF6",
              "width": 0.5
             },
             "pattern": {
              "fillmode": "overlay",
              "size": 10,
              "solidity": 0.2
             }
            },
            "type": "bar"
           }
          ],
          "barpolar": [
           {
            "marker": {
             "line": {
              "color": "#E5ECF6",
              "width": 0.5
             },
             "pattern": {
              "fillmode": "overlay",
              "size": 10,
              "solidity": 0.2
             }
            },
            "type": "barpolar"
           }
          ],
          "carpet": [
           {
            "aaxis": {
             "endlinecolor": "#2a3f5f",
             "gridcolor": "white",
             "linecolor": "white",
             "minorgridcolor": "white",
             "startlinecolor": "#2a3f5f"
            },
            "baxis": {
             "endlinecolor": "#2a3f5f",
             "gridcolor": "white",
             "linecolor": "white",
             "minorgridcolor": "white",
             "startlinecolor": "#2a3f5f"
            },
            "type": "carpet"
           }
          ],
          "choropleth": [
           {
            "colorbar": {
             "outlinewidth": 0,
             "ticks": ""
            },
            "type": "choropleth"
           }
          ],
          "contour": [
           {
            "colorbar": {
             "outlinewidth": 0,
             "ticks": ""
            },
            "colorscale": [
             [
              0,
              "#0d0887"
             ],
             [
              0.1111111111111111,
              "#46039f"
             ],
             [
              0.2222222222222222,
              "#7201a8"
             ],
             [
              0.3333333333333333,
              "#9c179e"
             ],
             [
              0.4444444444444444,
              "#bd3786"
             ],
             [
              0.5555555555555556,
              "#d8576b"
             ],
             [
              0.6666666666666666,
              "#ed7953"
             ],
             [
              0.7777777777777778,
              "#fb9f3a"
             ],
             [
              0.8888888888888888,
              "#fdca26"
             ],
             [
              1,
              "#f0f921"
             ]
            ],
            "type": "contour"
           }
          ],
          "contourcarpet": [
           {
            "colorbar": {
             "outlinewidth": 0,
             "ticks": ""
            },
            "type": "contourcarpet"
           }
          ],
          "heatmap": [
           {
            "colorbar": {
             "outlinewidth": 0,
             "ticks": ""
            },
            "colorscale": [
             [
              0,
              "#0d0887"
             ],
             [
              0.1111111111111111,
              "#46039f"
             ],
             [
              0.2222222222222222,
              "#7201a8"
             ],
             [
              0.3333333333333333,
              "#9c179e"
             ],
             [
              0.4444444444444444,
              "#bd3786"
             ],
             [
              0.5555555555555556,
              "#d8576b"
             ],
             [
              0.6666666666666666,
              "#ed7953"
             ],
             [
              0.7777777777777778,
              "#fb9f3a"
             ],
             [
              0.8888888888888888,
              "#fdca26"
             ],
             [
              1,
              "#f0f921"
             ]
            ],
            "type": "heatmap"
           }
          ],
          "histogram": [
           {
            "marker": {
             "pattern": {
              "fillmode": "overlay",
              "size": 10,
              "solidity": 0.2
             }
            },
            "type": "histogram"
           }
          ],
          "histogram2d": [
           {
            "colorbar": {
             "outlinewidth": 0,
             "ticks": ""
            },
            "colorscale": [
             [
              0,
              "#0d0887"
             ],
             [
              0.1111111111111111,
              "#46039f"
             ],
             [
              0.2222222222222222,
              "#7201a8"
             ],
             [
              0.3333333333333333,
              "#9c179e"
             ],
             [
              0.4444444444444444,
              "#bd3786"
             ],
             [
              0.5555555555555556,
              "#d8576b"
             ],
             [
              0.6666666666666666,
              "#ed7953"
             ],
             [
              0.7777777777777778,
              "#fb9f3a"
             ],
             [
              0.8888888888888888,
              "#fdca26"
             ],
             [
              1,
              "#f0f921"
             ]
            ],
            "type": "histogram2d"
           }
          ],
          "histogram2dcontour": [
           {
            "colorbar": {
             "outlinewidth": 0,
             "ticks": ""
            },
            "colorscale": [
             [
              0,
              "#0d0887"
             ],
             [
              0.1111111111111111,
              "#46039f"
             ],
             [
              0.2222222222222222,
              "#7201a8"
             ],
             [
              0.3333333333333333,
              "#9c179e"
             ],
             [
              0.4444444444444444,
              "#bd3786"
             ],
             [
              0.5555555555555556,
              "#d8576b"
             ],
             [
              0.6666666666666666,
              "#ed7953"
             ],
             [
              0.7777777777777778,
              "#fb9f3a"
             ],
             [
              0.8888888888888888,
              "#fdca26"
             ],
             [
              1,
              "#f0f921"
             ]
            ],
            "type": "histogram2dcontour"
           }
          ],
          "mesh3d": [
           {
            "colorbar": {
             "outlinewidth": 0,
             "ticks": ""
            },
            "type": "mesh3d"
           }
          ],
          "parcoords": [
           {
            "line": {
             "colorbar": {
              "outlinewidth": 0,
              "ticks": ""
             }
            },
            "type": "parcoords"
           }
          ],
          "pie": [
           {
            "automargin": true,
            "type": "pie"
           }
          ],
          "scatter": [
           {
            "fillpattern": {
             "fillmode": "overlay",
             "size": 10,
             "solidity": 0.2
            },
            "type": "scatter"
           }
          ],
          "scatter3d": [
           {
            "line": {
             "colorbar": {
              "outlinewidth": 0,
              "ticks": ""
             }
            },
            "marker": {
             "colorbar": {
              "outlinewidth": 0,
              "ticks": ""
             }
            },
            "type": "scatter3d"
           }
          ],
          "scattercarpet": [
           {
            "marker": {
             "colorbar": {
              "outlinewidth": 0,
              "ticks": ""
             }
            },
            "type": "scattercarpet"
           }
          ],
          "scattergeo": [
           {
            "marker": {
             "colorbar": {
              "outlinewidth": 0,
              "ticks": ""
             }
            },
            "type": "scattergeo"
           }
          ],
          "scattergl": [
           {
            "marker": {
             "colorbar": {
              "outlinewidth": 0,
              "ticks": ""
             }
            },
            "type": "scattergl"
           }
          ],
          "scattermap": [
           {
            "marker": {
             "colorbar": {
              "outlinewidth": 0,
              "ticks": ""
             }
            },
            "type": "scattermap"
           }
          ],
          "scattermapbox": [
           {
            "marker": {
             "colorbar": {
              "outlinewidth": 0,
              "ticks": ""
             }
            },
            "type": "scattermapbox"
           }
          ],
          "scatterpolar": [
           {
            "marker": {
             "colorbar": {
              "outlinewidth": 0,
              "ticks": ""
             }
            },
            "type": "scatterpolar"
           }
          ],
          "scatterpolargl": [
           {
            "marker": {
             "colorbar": {
              "outlinewidth": 0,
              "ticks": ""
             }
            },
            "type": "scatterpolargl"
           }
          ],
          "scatterternary": [
           {
            "marker": {
             "colorbar": {
              "outlinewidth": 0,
              "ticks": ""
             }
            },
            "type": "scatterternary"
           }
          ],
          "surface": [
           {
            "colorbar": {
             "outlinewidth": 0,
             "ticks": ""
            },
            "colorscale": [
             [
              0,
              "#0d0887"
             ],
             [
              0.1111111111111111,
              "#46039f"
             ],
             [
              0.2222222222222222,
              "#7201a8"
             ],
             [
              0.3333333333333333,
              "#9c179e"
             ],
             [
              0.4444444444444444,
              "#bd3786"
             ],
             [
              0.5555555555555556,
              "#d8576b"
             ],
             [
              0.6666666666666666,
              "#ed7953"
             ],
             [
              0.7777777777777778,
              "#fb9f3a"
             ],
             [
              0.8888888888888888,
              "#fdca26"
             ],
             [
              1,
              "#f0f921"
             ]
            ],
            "type": "surface"
           }
          ],
          "table": [
           {
            "cells": {
             "fill": {
              "color": "#EBF0F8"
             },
             "line": {
              "color": "white"
             }
            },
            "header": {
             "fill": {
              "color": "#C8D4E3"
             },
             "line": {
              "color": "white"
             }
            },
            "type": "table"
           }
          ]
         },
         "layout": {
          "annotationdefaults": {
           "arrowcolor": "#2a3f5f",
           "arrowhead": 0,
           "arrowwidth": 1
          },
          "autotypenumbers": "strict",
          "coloraxis": {
           "colorbar": {
            "outlinewidth": 0,
            "ticks": ""
           }
          },
          "colorscale": {
           "diverging": [
            [
             0,
             "#8e0152"
            ],
            [
             0.1,
             "#c51b7d"
            ],
            [
             0.2,
             "#de77ae"
            ],
            [
             0.3,
             "#f1b6da"
            ],
            [
             0.4,
             "#fde0ef"
            ],
            [
             0.5,
             "#f7f7f7"
            ],
            [
             0.6,
             "#e6f5d0"
            ],
            [
             0.7,
             "#b8e186"
            ],
            [
             0.8,
             "#7fbc41"
            ],
            [
             0.9,
             "#4d9221"
            ],
            [
             1,
             "#276419"
            ]
           ],
           "sequential": [
            [
             0,
             "#0d0887"
            ],
            [
             0.1111111111111111,
             "#46039f"
            ],
            [
             0.2222222222222222,
             "#7201a8"
            ],
            [
             0.3333333333333333,
             "#9c179e"
            ],
            [
             0.4444444444444444,
             "#bd3786"
            ],
            [
             0.5555555555555556,
             "#d8576b"
            ],
            [
             0.6666666666666666,
             "#ed7953"
            ],
            [
             0.7777777777777778,
             "#fb9f3a"
            ],
            [
             0.8888888888888888,
             "#fdca26"
            ],
            [
             1,
             "#f0f921"
            ]
           ],
           "sequentialminus": [
            [
             0,
             "#0d0887"
            ],
            [
             0.1111111111111111,
             "#46039f"
            ],
            [
             0.2222222222222222,
             "#7201a8"
            ],
            [
             0.3333333333333333,
             "#9c179e"
            ],
            [
             0.4444444444444444,
             "#bd3786"
            ],
            [
             0.5555555555555556,
             "#d8576b"
            ],
            [
             0.6666666666666666,
             "#ed7953"
            ],
            [
             0.7777777777777778,
             "#fb9f3a"
            ],
            [
             0.8888888888888888,
             "#fdca26"
            ],
            [
             1,
             "#f0f921"
            ]
           ]
          },
          "colorway": [
           "#636efa",
           "#EF553B",
           "#00cc96",
           "#ab63fa",
           "#FFA15A",
           "#19d3f3",
           "#FF6692",
           "#B6E880",
           "#FF97FF",
           "#FECB52"
          ],
          "font": {
           "color": "#2a3f5f"
          },
          "geo": {
           "bgcolor": "white",
           "lakecolor": "white",
           "landcolor": "#E5ECF6",
           "showlakes": true,
           "showland": true,
           "subunitcolor": "white"
          },
          "hoverlabel": {
           "align": "left"
          },
          "hovermode": "closest",
          "mapbox": {
           "style": "light"
          },
          "paper_bgcolor": "white",
          "plot_bgcolor": "#E5ECF6",
          "polar": {
           "angularaxis": {
            "gridcolor": "white",
            "linecolor": "white",
            "ticks": ""
           },
           "bgcolor": "#E5ECF6",
           "radialaxis": {
            "gridcolor": "white",
            "linecolor": "white",
            "ticks": ""
           }
          },
          "scene": {
           "xaxis": {
            "backgroundcolor": "#E5ECF6",
            "gridcolor": "white",
            "gridwidth": 2,
            "linecolor": "white",
            "showbackground": true,
            "ticks": "",
            "zerolinecolor": "white"
           },
           "yaxis": {
            "backgroundcolor": "#E5ECF6",
            "gridcolor": "white",
            "gridwidth": 2,
            "linecolor": "white",
            "showbackground": true,
            "ticks": "",
            "zerolinecolor": "white"
           },
           "zaxis": {
            "backgroundcolor": "#E5ECF6",
            "gridcolor": "white",
            "gridwidth": 2,
            "linecolor": "white",
            "showbackground": true,
            "ticks": "",
            "zerolinecolor": "white"
           }
          },
          "shapedefaults": {
           "line": {
            "color": "#2a3f5f"
           }
          },
          "ternary": {
           "aaxis": {
            "gridcolor": "white",
            "linecolor": "white",
            "ticks": ""
           },
           "baxis": {
            "gridcolor": "white",
            "linecolor": "white",
            "ticks": ""
           },
           "bgcolor": "#E5ECF6",
           "caxis": {
            "gridcolor": "white",
            "linecolor": "white",
            "ticks": ""
           }
          },
          "title": {
           "x": 0.05
          },
          "xaxis": {
           "automargin": true,
           "gridcolor": "white",
           "linecolor": "white",
           "ticks": "",
           "title": {
            "standoff": 15
           },
           "zerolinecolor": "white",
           "zerolinewidth": 2
          },
          "yaxis": {
           "automargin": true,
           "gridcolor": "white",
           "linecolor": "white",
           "ticks": "",
           "title": {
            "standoff": 15
           },
           "zerolinecolor": "white",
           "zerolinewidth": 2
          }
         }
        },
        "title": {
         "text": "Выживаемость по полу"
        },
        "xaxis": {
         "anchor": "y",
         "domain": [
          0,
          1
         ],
         "title": {
          "text": "Пол"
         }
        },
        "yaxis": {
         "anchor": "x",
         "domain": [
          0,
          1
         ],
         "title": {
          "text": "count"
         }
        }
       }
      }
     },
     "metadata": {},
     "output_type": "display_data"
    }
   ],
   "source": [
    "gender_survival = pd.crosstab(df['Sex_numeric'], df['Survived'])\n",
    "gender_survival_percentage = pd.crosstab(df['Sex_numeric'], df['Survived'], normalize='index') * 100\n",
    "\n",
    "print(\"Выживаемость по полу:\")\n",
    "print(gender_survival)\n",
    "print(\"\\nПроцент выживаемости по полу:\")\n",
    "print(gender_survival_percentage)\n",
    "\n",
    "\n",
    "fig = px.histogram(df, x='Sex_numeric', color='Survived', barmode='group',\n",
    "                   title='Выживаемость по полу',\n",
    "                   labels={'Survived': 'Выжил', 'Sex_numeric': 'Пол'},\n",
    "                   color_discrete_sequence=['red', 'green'])\n",
    "fig.update_layout(bargap=0.2)\n",
    "fig.show()"
   ]
  },
  {
   "cell_type": "code",
   "execution_count": 1835,
   "id": "e29bc60a",
   "metadata": {},
   "outputs": [
    {
     "name": "stdout",
     "output_type": "stream",
     "text": [
      "Выживаемость по классу:\n",
      "Survived    0    1\n",
      "Pclass            \n",
      "1          80  136\n",
      "2          97   87\n",
      "3         372  119\n",
      "\n",
      "Процент выживаемости по классу:\n",
      "Survived          0          1\n",
      "Pclass                        \n",
      "1         37.037037  62.962963\n",
      "2         52.717391  47.282609\n",
      "3         75.763747  24.236253\n"
     ]
    },
    {
     "data": {
      "application/vnd.plotly.v1+json": {
       "config": {
        "plotlyServerURL": "https://plot.ly"
       },
       "data": [
        {
         "alignmentgroup": "True",
         "bingroup": "x",
         "hovertemplate": "Выжил=0<br>Класс=%{x}<br>count=%{y}<extra></extra>",
         "legendgroup": "0",
         "marker": {
          "color": "red",
          "pattern": {
           "shape": ""
          }
         },
         "name": "0",
         "offsetgroup": "0",
         "orientation": "v",
         "showlegend": true,
         "type": "histogram",
         "x": {
          "bdata": "AwMDAQMDAwMDAwIDAwEDAQIBAQMDAwIDAwMDAwMDAQMDAwEDAQMDAgMCAwMDAwMBAwMDAwMBAwMDAQIDAwEDAwMDAQMDAwMDAwIBAwIDAgEDAwMDAwICAQMBAwMCAgMCAgIDAwMBAwMDAwMDAwMBAwEDAwEDAwECAwMCAwEDAwIDAwIDAwMDAwMDAwIDAgICAwMDAwIDAwICAwICAgMCAwMBAwIDAwEDAwMBAQMCAwEBAwIDAwMDAQMDAgMDAQMBAwMCAgMCAgMDAwMBAQMDAQECAgIDAwEDAwMDAgMCAwMDAwMDAQMBAwMDAwIDAwMDAwICAwMDAwIDAwMDAwIDAgMDAwMDAwMDAwEDAQIDAwIDAQMBAwMBAgMDAgEDAwMDAQIDAwMCAwMBAwMDAQEDAwMBAwMDAwMBAwMDAQMDAwMDAwEDAgMDAwEDAwMBAQMCAwEBAwMCAwMDAwMDAwMDAgEDAgMDAwMDAgMDAwMBAwMDAwMDAwMDAgMDAwECAwMDAQMDAgMDAwMDAwMDAwIDAwIBAwEDAgIDAwECAgMDAwMDAwICAwMDAwECAwEDAwMDAgEDAgMDAwMCAgMCAwMCAgIDAwMDAQMBAwEDAwMDAgMDAwMBAwMDAwMCAwMDAwEDAwMDAQMCAwEDAgMDAgMBAwIDAwIDAwEDAgMDAQMDAwMDAwMDAwIDAwMDAwIDAwMCAwMCAwIBAwMBAwMDAwMDAgMDAgMD",
          "dtype": "i1"
         },
         "xaxis": "x",
         "yaxis": "y"
        },
        {
         "alignmentgroup": "True",
         "bingroup": "x",
         "hovertemplate": "Выжил=1<br>Класс=%{x}<br>count=%{y}<extra></extra>",
         "legendgroup": "1",
         "marker": {
          "color": "green",
          "pattern": {
           "shape": ""
          }
         },
         "name": "1",
         "offsetgroup": "1",
         "orientation": "v",
         "showlegend": true,
         "type": "histogram",
         "x": {
          "bdata": "AQMBAwIDAQICAwIDAQMDAQMDAwIDAwECAQICAQMCAwMCAwMDAgMBAQIDAwMCAwMDAgEDAwMBAwIDAQMCAwMBAgMCAQEDAwMDAQIBAwEDAQIBAwIDAgEDAQEBAgMDAQEDAgMBAwMDAgMBAQEBAwMCAQEBAQEBAwIBAQICAQIDAQMBAQMCAQICAwMBAwMBAwMBAQEDAQMBAgIBAwEDAgMCAQMCAgICAwEDAgECAgIDAQIBAwEBAwECAQMCAgMDAQEDAQECAQMDAQECAgEBAgIDAgEBAQICAgIBAwMBAQMDAgEBAwIBAwIBAQEBAgECAQECAQMCAgEDAQEBAgEDAwEBAwIDAQMBAgIDAQEBAQMDAwEBAgEBAwEBAQICAQIDAQEBAQMCAgMCAgEDAQECAwEDAQMDAQMCAQMDAQEDAwIDAQMCAQMBAQEBAwEBAwECAgMBAgMBAgEB",
          "dtype": "i1"
         },
         "xaxis": "x",
         "yaxis": "y"
        }
       ],
       "layout": {
        "bargap": 0.2,
        "barmode": "group",
        "legend": {
         "title": {
          "text": "Выжил"
         },
         "tracegroupgap": 0
        },
        "template": {
         "data": {
          "bar": [
           {
            "error_x": {
             "color": "#2a3f5f"
            },
            "error_y": {
             "color": "#2a3f5f"
            },
            "marker": {
             "line": {
              "color": "#E5ECF6",
              "width": 0.5
             },
             "pattern": {
              "fillmode": "overlay",
              "size": 10,
              "solidity": 0.2
             }
            },
            "type": "bar"
           }
          ],
          "barpolar": [
           {
            "marker": {
             "line": {
              "color": "#E5ECF6",
              "width": 0.5
             },
             "pattern": {
              "fillmode": "overlay",
              "size": 10,
              "solidity": 0.2
             }
            },
            "type": "barpolar"
           }
          ],
          "carpet": [
           {
            "aaxis": {
             "endlinecolor": "#2a3f5f",
             "gridcolor": "white",
             "linecolor": "white",
             "minorgridcolor": "white",
             "startlinecolor": "#2a3f5f"
            },
            "baxis": {
             "endlinecolor": "#2a3f5f",
             "gridcolor": "white",
             "linecolor": "white",
             "minorgridcolor": "white",
             "startlinecolor": "#2a3f5f"
            },
            "type": "carpet"
           }
          ],
          "choropleth": [
           {
            "colorbar": {
             "outlinewidth": 0,
             "ticks": ""
            },
            "type": "choropleth"
           }
          ],
          "contour": [
           {
            "colorbar": {
             "outlinewidth": 0,
             "ticks": ""
            },
            "colorscale": [
             [
              0,
              "#0d0887"
             ],
             [
              0.1111111111111111,
              "#46039f"
             ],
             [
              0.2222222222222222,
              "#7201a8"
             ],
             [
              0.3333333333333333,
              "#9c179e"
             ],
             [
              0.4444444444444444,
              "#bd3786"
             ],
             [
              0.5555555555555556,
              "#d8576b"
             ],
             [
              0.6666666666666666,
              "#ed7953"
             ],
             [
              0.7777777777777778,
              "#fb9f3a"
             ],
             [
              0.8888888888888888,
              "#fdca26"
             ],
             [
              1,
              "#f0f921"
             ]
            ],
            "type": "contour"
           }
          ],
          "contourcarpet": [
           {
            "colorbar": {
             "outlinewidth": 0,
             "ticks": ""
            },
            "type": "contourcarpet"
           }
          ],
          "heatmap": [
           {
            "colorbar": {
             "outlinewidth": 0,
             "ticks": ""
            },
            "colorscale": [
             [
              0,
              "#0d0887"
             ],
             [
              0.1111111111111111,
              "#46039f"
             ],
             [
              0.2222222222222222,
              "#7201a8"
             ],
             [
              0.3333333333333333,
              "#9c179e"
             ],
             [
              0.4444444444444444,
              "#bd3786"
             ],
             [
              0.5555555555555556,
              "#d8576b"
             ],
             [
              0.6666666666666666,
              "#ed7953"
             ],
             [
              0.7777777777777778,
              "#fb9f3a"
             ],
             [
              0.8888888888888888,
              "#fdca26"
             ],
             [
              1,
              "#f0f921"
             ]
            ],
            "type": "heatmap"
           }
          ],
          "histogram": [
           {
            "marker": {
             "pattern": {
              "fillmode": "overlay",
              "size": 10,
              "solidity": 0.2
             }
            },
            "type": "histogram"
           }
          ],
          "histogram2d": [
           {
            "colorbar": {
             "outlinewidth": 0,
             "ticks": ""
            },
            "colorscale": [
             [
              0,
              "#0d0887"
             ],
             [
              0.1111111111111111,
              "#46039f"
             ],
             [
              0.2222222222222222,
              "#7201a8"
             ],
             [
              0.3333333333333333,
              "#9c179e"
             ],
             [
              0.4444444444444444,
              "#bd3786"
             ],
             [
              0.5555555555555556,
              "#d8576b"
             ],
             [
              0.6666666666666666,
              "#ed7953"
             ],
             [
              0.7777777777777778,
              "#fb9f3a"
             ],
             [
              0.8888888888888888,
              "#fdca26"
             ],
             [
              1,
              "#f0f921"
             ]
            ],
            "type": "histogram2d"
           }
          ],
          "histogram2dcontour": [
           {
            "colorbar": {
             "outlinewidth": 0,
             "ticks": ""
            },
            "colorscale": [
             [
              0,
              "#0d0887"
             ],
             [
              0.1111111111111111,
              "#46039f"
             ],
             [
              0.2222222222222222,
              "#7201a8"
             ],
             [
              0.3333333333333333,
              "#9c179e"
             ],
             [
              0.4444444444444444,
              "#bd3786"
             ],
             [
              0.5555555555555556,
              "#d8576b"
             ],
             [
              0.6666666666666666,
              "#ed7953"
             ],
             [
              0.7777777777777778,
              "#fb9f3a"
             ],
             [
              0.8888888888888888,
              "#fdca26"
             ],
             [
              1,
              "#f0f921"
             ]
            ],
            "type": "histogram2dcontour"
           }
          ],
          "mesh3d": [
           {
            "colorbar": {
             "outlinewidth": 0,
             "ticks": ""
            },
            "type": "mesh3d"
           }
          ],
          "parcoords": [
           {
            "line": {
             "colorbar": {
              "outlinewidth": 0,
              "ticks": ""
             }
            },
            "type": "parcoords"
           }
          ],
          "pie": [
           {
            "automargin": true,
            "type": "pie"
           }
          ],
          "scatter": [
           {
            "fillpattern": {
             "fillmode": "overlay",
             "size": 10,
             "solidity": 0.2
            },
            "type": "scatter"
           }
          ],
          "scatter3d": [
           {
            "line": {
             "colorbar": {
              "outlinewidth": 0,
              "ticks": ""
             }
            },
            "marker": {
             "colorbar": {
              "outlinewidth": 0,
              "ticks": ""
             }
            },
            "type": "scatter3d"
           }
          ],
          "scattercarpet": [
           {
            "marker": {
             "colorbar": {
              "outlinewidth": 0,
              "ticks": ""
             }
            },
            "type": "scattercarpet"
           }
          ],
          "scattergeo": [
           {
            "marker": {
             "colorbar": {
              "outlinewidth": 0,
              "ticks": ""
             }
            },
            "type": "scattergeo"
           }
          ],
          "scattergl": [
           {
            "marker": {
             "colorbar": {
              "outlinewidth": 0,
              "ticks": ""
             }
            },
            "type": "scattergl"
           }
          ],
          "scattermap": [
           {
            "marker": {
             "colorbar": {
              "outlinewidth": 0,
              "ticks": ""
             }
            },
            "type": "scattermap"
           }
          ],
          "scattermapbox": [
           {
            "marker": {
             "colorbar": {
              "outlinewidth": 0,
              "ticks": ""
             }
            },
            "type": "scattermapbox"
           }
          ],
          "scatterpolar": [
           {
            "marker": {
             "colorbar": {
              "outlinewidth": 0,
              "ticks": ""
             }
            },
            "type": "scatterpolar"
           }
          ],
          "scatterpolargl": [
           {
            "marker": {
             "colorbar": {
              "outlinewidth": 0,
              "ticks": ""
             }
            },
            "type": "scatterpolargl"
           }
          ],
          "scatterternary": [
           {
            "marker": {
             "colorbar": {
              "outlinewidth": 0,
              "ticks": ""
             }
            },
            "type": "scatterternary"
           }
          ],
          "surface": [
           {
            "colorbar": {
             "outlinewidth": 0,
             "ticks": ""
            },
            "colorscale": [
             [
              0,
              "#0d0887"
             ],
             [
              0.1111111111111111,
              "#46039f"
             ],
             [
              0.2222222222222222,
              "#7201a8"
             ],
             [
              0.3333333333333333,
              "#9c179e"
             ],
             [
              0.4444444444444444,
              "#bd3786"
             ],
             [
              0.5555555555555556,
              "#d8576b"
             ],
             [
              0.6666666666666666,
              "#ed7953"
             ],
             [
              0.7777777777777778,
              "#fb9f3a"
             ],
             [
              0.8888888888888888,
              "#fdca26"
             ],
             [
              1,
              "#f0f921"
             ]
            ],
            "type": "surface"
           }
          ],
          "table": [
           {
            "cells": {
             "fill": {
              "color": "#EBF0F8"
             },
             "line": {
              "color": "white"
             }
            },
            "header": {
             "fill": {
              "color": "#C8D4E3"
             },
             "line": {
              "color": "white"
             }
            },
            "type": "table"
           }
          ]
         },
         "layout": {
          "annotationdefaults": {
           "arrowcolor": "#2a3f5f",
           "arrowhead": 0,
           "arrowwidth": 1
          },
          "autotypenumbers": "strict",
          "coloraxis": {
           "colorbar": {
            "outlinewidth": 0,
            "ticks": ""
           }
          },
          "colorscale": {
           "diverging": [
            [
             0,
             "#8e0152"
            ],
            [
             0.1,
             "#c51b7d"
            ],
            [
             0.2,
             "#de77ae"
            ],
            [
             0.3,
             "#f1b6da"
            ],
            [
             0.4,
             "#fde0ef"
            ],
            [
             0.5,
             "#f7f7f7"
            ],
            [
             0.6,
             "#e6f5d0"
            ],
            [
             0.7,
             "#b8e186"
            ],
            [
             0.8,
             "#7fbc41"
            ],
            [
             0.9,
             "#4d9221"
            ],
            [
             1,
             "#276419"
            ]
           ],
           "sequential": [
            [
             0,
             "#0d0887"
            ],
            [
             0.1111111111111111,
             "#46039f"
            ],
            [
             0.2222222222222222,
             "#7201a8"
            ],
            [
             0.3333333333333333,
             "#9c179e"
            ],
            [
             0.4444444444444444,
             "#bd3786"
            ],
            [
             0.5555555555555556,
             "#d8576b"
            ],
            [
             0.6666666666666666,
             "#ed7953"
            ],
            [
             0.7777777777777778,
             "#fb9f3a"
            ],
            [
             0.8888888888888888,
             "#fdca26"
            ],
            [
             1,
             "#f0f921"
            ]
           ],
           "sequentialminus": [
            [
             0,
             "#0d0887"
            ],
            [
             0.1111111111111111,
             "#46039f"
            ],
            [
             0.2222222222222222,
             "#7201a8"
            ],
            [
             0.3333333333333333,
             "#9c179e"
            ],
            [
             0.4444444444444444,
             "#bd3786"
            ],
            [
             0.5555555555555556,
             "#d8576b"
            ],
            [
             0.6666666666666666,
             "#ed7953"
            ],
            [
             0.7777777777777778,
             "#fb9f3a"
            ],
            [
             0.8888888888888888,
             "#fdca26"
            ],
            [
             1,
             "#f0f921"
            ]
           ]
          },
          "colorway": [
           "#636efa",
           "#EF553B",
           "#00cc96",
           "#ab63fa",
           "#FFA15A",
           "#19d3f3",
           "#FF6692",
           "#B6E880",
           "#FF97FF",
           "#FECB52"
          ],
          "font": {
           "color": "#2a3f5f"
          },
          "geo": {
           "bgcolor": "white",
           "lakecolor": "white",
           "landcolor": "#E5ECF6",
           "showlakes": true,
           "showland": true,
           "subunitcolor": "white"
          },
          "hoverlabel": {
           "align": "left"
          },
          "hovermode": "closest",
          "mapbox": {
           "style": "light"
          },
          "paper_bgcolor": "white",
          "plot_bgcolor": "#E5ECF6",
          "polar": {
           "angularaxis": {
            "gridcolor": "white",
            "linecolor": "white",
            "ticks": ""
           },
           "bgcolor": "#E5ECF6",
           "radialaxis": {
            "gridcolor": "white",
            "linecolor": "white",
            "ticks": ""
           }
          },
          "scene": {
           "xaxis": {
            "backgroundcolor": "#E5ECF6",
            "gridcolor": "white",
            "gridwidth": 2,
            "linecolor": "white",
            "showbackground": true,
            "ticks": "",
            "zerolinecolor": "white"
           },
           "yaxis": {
            "backgroundcolor": "#E5ECF6",
            "gridcolor": "white",
            "gridwidth": 2,
            "linecolor": "white",
            "showbackground": true,
            "ticks": "",
            "zerolinecolor": "white"
           },
           "zaxis": {
            "backgroundcolor": "#E5ECF6",
            "gridcolor": "white",
            "gridwidth": 2,
            "linecolor": "white",
            "showbackground": true,
            "ticks": "",
            "zerolinecolor": "white"
           }
          },
          "shapedefaults": {
           "line": {
            "color": "#2a3f5f"
           }
          },
          "ternary": {
           "aaxis": {
            "gridcolor": "white",
            "linecolor": "white",
            "ticks": ""
           },
           "baxis": {
            "gridcolor": "white",
            "linecolor": "white",
            "ticks": ""
           },
           "bgcolor": "#E5ECF6",
           "caxis": {
            "gridcolor": "white",
            "linecolor": "white",
            "ticks": ""
           }
          },
          "title": {
           "x": 0.05
          },
          "xaxis": {
           "automargin": true,
           "gridcolor": "white",
           "linecolor": "white",
           "ticks": "",
           "title": {
            "standoff": 15
           },
           "zerolinecolor": "white",
           "zerolinewidth": 2
          },
          "yaxis": {
           "automargin": true,
           "gridcolor": "white",
           "linecolor": "white",
           "ticks": "",
           "title": {
            "standoff": 15
           },
           "zerolinecolor": "white",
           "zerolinewidth": 2
          }
         }
        },
        "title": {
         "text": "Выживаемость по классу"
        },
        "xaxis": {
         "anchor": "y",
         "domain": [
          0,
          1
         ],
         "title": {
          "text": "Класс"
         }
        },
        "yaxis": {
         "anchor": "x",
         "domain": [
          0,
          1
         ],
         "title": {
          "text": "count"
         }
        }
       }
      }
     },
     "metadata": {},
     "output_type": "display_data"
    }
   ],
   "source": [
    "class_survival = pd.crosstab(df['Pclass'], df['Survived'])\n",
    "class_survival_percentage = pd.crosstab(df['Pclass'], df['Survived'], normalize='index') * 100\n",
    "\n",
    "print(\"Выживаемость по классу:\")\n",
    "print(class_survival)\n",
    "print(\"\\nПроцент выживаемости по классу:\")\n",
    "print(class_survival_percentage)\n",
    "\n",
    "\n",
    "fig = px.histogram(df, x='Pclass', color='Survived', barmode='group',\n",
    "                   title='Выживаемость по классу',\n",
    "                   labels={'Survived': 'Выжил', 'Pclass': 'Класс'},\n",
    "                   color_discrete_sequence=['red', 'green'])\n",
    "fig.update_layout(bargap=0.2)\n",
    "fig.show()"
   ]
  },
  {
   "cell_type": "code",
   "execution_count": 1836,
   "id": "3617707e",
   "metadata": {},
   "outputs": [
    {
     "name": "stdout",
     "output_type": "stream",
     "text": [
      "Статистика по возрасту:\n",
      "count    891.000000\n",
      "mean      29.112424\n",
      "std       13.304424\n",
      "min        0.420000\n",
      "25%       21.500000\n",
      "50%       26.000000\n",
      "75%       36.000000\n",
      "max       80.000000\n",
      "Name: Age, dtype: float64\n"
     ]
    },
    {
     "data": {
      "application/vnd.plotly.v1+json": {
       "config": {
        "plotlyServerURL": "https://plot.ly"
       },
       "data": [
        {
         "bingroup": "x",
         "hovertemplate": "Survived=0<br>Age=%{x}<br>count=%{y}<extra></extra>",
         "legendgroup": "0",
         "marker": {
          "color": "red",
          "opacity": 0.7,
          "pattern": {
           "shape": ""
          }
         },
         "name": "0",
         "nbinsx": 30,
         "orientation": "v",
         "showlegend": true,
         "type": "histogram",
         "x": {
          "bdata": "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",
          "dtype": "f8"
         },
         "xaxis": "x",
         "yaxis": "y"
        },
        {
         "hovertemplate": "Survived=0<br>Age=%{x}<extra></extra>",
         "legendgroup": "0",
         "marker": {
          "color": "red"
         },
         "name": "0",
         "notched": true,
         "showlegend": false,
         "type": "box",
         "x": {
          "bdata": "AAAAAAAANkAAAAAAAIBBQAAAAAAAADlAAAAAAAAAS0AAAAAAAAAAQAAAAAAAADRAAAAAAACAQ0AAAAAAAAAsQAAAAAAAAABAAAAAAAAAP0AAAAAAAIBBQAAAAAAAACBAAAAAAAAAOUAAAAAAAAAzQAAAAAAAADlAAAAAAAAAREAAAAAAAIBQQAAAAAAAADxAAAAAAAAARUAAAAAAAAA1QAAAAAAAADJAAAAAAAAAREAAAAAAAAA7QAAAAAAAADlAAAAAAAAAOUAAAAAAAAA5QAAAAAAAADlAAAAAAAAAMkAAAAAAAAAcQAAAAAAAADVAAAAAAABAUEAAAAAAAIA8QAAAAAAAACZAAAAAAAAANkAAAAAAAIBGQAAAAAAAABBAAAAAAAAAREAAAAAAAAAzQAAAAAAAADpAAAAAAAAAQEAAAAAAAAAwQAAAAAAAADVAAAAAAAAAOkAAAAAAAAA5QAAAAAAAADlAAAAAAAAAOUAAAAAAAAA2QAAAAAAAADxAAAAAAAAAMEAAAAAAAAA5QAAAAAAAADhAAAAAAAAAPUAAAAAAAAA0QAAAAAAAAEdAAAAAAAAAOkAAAAAAAIBNQAAAAAAAADlAAAAAAADAUUAAAAAAAABBQAAAAAAAADxAAAAAAAAAOUAAAAAAAAA1QAAAAAAAgEBAAAAAAACAQkAAAAAAAAA8QAAAAAAAAENAAAAAAACAR0AAAAAAAAAtQAAAAAAAADZAAAAAAAAANEAAAAAAAAAxQAAAAAAAADVAAAAAAACgUUAAAAAAAAA9QAAAAAAAADhAAAAAAAAAAEAAAAAAAAA1QAAAAAAAADlAAAAAAABAQEAAAAAAAABLQAAAAAAAADlAAAAAAACARkAAAAAAAIBAQAAAAAAAADRAAAAAAACAR0AAAAAAAAA5QAAAAAAAADdAAAAAAACAQkAAAAAAAAAwQAAAAAAAADhAAAAAAACANUAAAAAAAAAzQAAAAAAAADJAAAAAAAAAM0AAAAAAAAAiQAAAAAAAQEJAAAAAAAAARUAAAAAAAIBJQAAAAAAAwEtAAAAAAABAREAAAAAAAAA5QAAAAAAAgElAAAAAAAAAPkAAAAAAAAA5QAAAAAAAADlAAAAAAAAARkAAAAAAAAA6QAAAAAAAADFAAAAAAAAA8D8AAAAAAIBGQAAAAAAAAERAAAAAAAAAPEAAAAAAAIBOQAAAAAAAABBAAAAAAAAANUAAAAAAAABMQAAAAAAAADJAAAAAAAAAOUAAAAAAAABJQAAAAAAAAD5AAAAAAAAAQkAAAAAAAIA1QAAAAAAAAD5AAAAAAAAAIkAAAAAAAABEQAAAAAAAAERAAAAAAAAAQkAAAAAAAAAzQAAAAAAAADlAAAAAAAAARUAAAAAAAAA4QAAAAAAAADxAAAAAAAAAOUAAAAAAAABBQAAAAAAAwEZAAAAAAAAAAEAAAAAAAABAQAAAAAAAADhAAAAAAAAANkAAAAAAAAA+QAAAAAAAADlAAAAAAAAARUAAAAAAAAA+QAAAAAAAADtAAAAAAACASUAAAAAAAAA5QAAAAAAAADZAAAAAAACANEAAAAAAAAAyQAAAAAAAgDVAAAAAAAAAPUAAAAAAAIBNQAAAAAAAADhAAAAAAACANUAAAAAAAABGQAAAAAAAADNAAAAAAACAQEAAAAAAAIA1QAAAAAAAAD1AAAAAAAAANkAAAAAAAAA+QAAAAAAAAEZAAAAAAAAAOUAAAAAAAABLQAAAAAAAADlAAAAAAAAAPUAAAAAAAABPQAAAAAAAAD5AAAAAAACAREAAAAAAAAA5QAAAAAAAAEpAAAAAAAAAREAAAAAAAIA1QAAAAAAAAEJAAAAAAAAAMEAAAAAAAABEQAAAAAAAgEJAAAAAAACARkAAAAAAAAA+QAAAAAAAABxAAAAAAABAUEAAAAAAAAA8QAAAAAAAADBAAAAAAAAAREAAAAAAAIBAQAAAAAAAADZAAAAAAAAAQkAAAAAAAAA4QAAAAAAAADhAAAAAAAAAREAAAAAAAIA3QAAAAAAAAABAAAAAAAAAM0AAAAAAAAA5QAAAAAAAAD5AAAAAAAAAOkAAAAAAAAA8QAAAAAAAgEVAAAAAAAAAS0AAAAAAAAA2QAAAAAAAADtAAAAAAAAAOUAAAAAAAIBOQAAAAAAAwEZAAAAAAAAAQ0AAAAAAAAAwQAAAAAAAADlAAAAAAAAAPUAAAAAAAIBGQAAAAAAAADxAAAAAAAAAOUAAAAAAAABCQAAAAAAAAEVAAAAAAAAAN0AAAAAAAABEQAAAAAAAAC5AAAAAAAAAOUAAAAAAAAA5QAAAAAAAADxAAAAAAAAAQ0AAAAAAAABEQAAAAAAAAD1AAAAAAACARkAAAAAAAIBBQAAAAAAAADlAAAAAAAAAPkAAAAAAAAAyQAAAAAAAADNAAAAAAAAANkAAAAAAAAAIQAAAAAAAADtAAAAAAAAANEAAAAAAAAAzQAAAAAAAAEBAAAAAAAAAOUAAAAAAAAAyQAAAAAAAAPA/AAAAAAAAOUAAAAAAAAA8QAAAAAAAADZAAAAAAAAAP0AAAAAAAABHQAAAAAAAADdAAAAAAAAAOkAAAAAAAAA1QAAAAAAAADxAAAAAAAAANEAAAAAAAABBQAAAAAAAgElAAAAAAAAANUAAAAAAAIA1QAAAAAAAADlAAAAAAAAAOUAAAAAAAAA+QAAAAAAAgDVAAAAAAAAAPkAAAAAAAAAkQAAAAAAAADlAAAAAAAAANUAAAAAAAAA9QAAAAAAAADxAAAAAAAAAMkAAAAAAAAA5QAAAAAAAADlAAAAAAAAAMUAAAAAAAABJQAAAAAAAADVAAAAAAAAAUEAAAAAAAAA/QAAAAAAAADRAAAAAAAAAOUAAAAAAAABCQAAAAAAAADlAAAAAAAAAPkAAAAAAAAA5QAAAAAAAQFBAAAAAAAAAOUAAAAAAAABBQAAAAAAAgEdAAAAAAAAASEAAAAAAAAA5QAAAAAAAAENAAAAAAAAAPkAAAAAAAABMQAAAAAAAADlAAAAAAAAAOUAAAAAAAABDQAAAAAAAADZAAAAAAAAAREAAAAAAAABBQAAAAAAAAD1AAAAAAAAANkAAAAAAAAAiQAAAAAAAAD5AAAAAAAAASUAAAAAAAIA1QAAAAAAAAE1AAAAAAAAAPkAAAAAAAAA5QAAAAAAAADVAAAAAAACAS0AAAAAAAMBRQAAAAAAAADVAAAAAAAAAOUAAAAAAAAA5QAAAAAAAADlAAAAAAAAAOEAAAAAAAAAxQAAAAAAAADVAAAAAAACANUAAAAAAAIBCQAAAAAAAADJAAAAAAAAAPEAAAAAAAAA5QAAAAAAAADhAAAAAAACAR0AAAAAAAAA5QAAAAAAAAEBAAAAAAAAANkAAAAAAAAA5QAAAAAAAADlAAAAAAABAREAAAAAAAABEQAAAAAAAgENAAAAAAAAAN0AAAAAAAAA5QAAAAAAAADFAAAAAAAAAPkAAAAAAAIBGQAAAAAAAADlAAAAAAAAAIkAAAAAAAAAmQAAAAAAAAElAAAAAAAAAUEAAAAAAAIBAQAAAAAAAADtAAAAAAAAAOUAAAAAAAABPQAAAAAAAAERAAAAAAAAAOUAAAAAAAABEQAAAAAAAADxAAAAAAAAAOUAAAAAAAIA1QAAAAAAAADhAAAAAAAAAM0AAAAAAAAA9QAAAAAAAADlAAAAAAAAAMEAAAAAAAAAzQAAAAAAAgDVAAAAAAAAAS0AAAAAAAABCQAAAAAAAADlAAAAAAACAR0AAAAAAAAA2QAAAAAAAADlAAAAAAACAQUAAAAAAAIBHQAAAAAAAgDVAAAAAAACAQkAAAAAAAABCQAAAAAAAgEhAAAAAAAAAOUAAAAAAAAA5QAAAAAAAAERAAAAAAAAARkAAAAAAAABCQAAAAAAAAD5AAAAAAACAQ0AAAAAAAAA5QAAAAAAAADlAAAAAAACAQUAAAAAAAABBQAAAAAAAADpAAAAAAAAAOkAAAAAAAAA7QAAAAAAAADVAAAAAAAAANUAAAAAAAIBOQAAAAAAAgExAAAAAAAAAOkAAAAAAAAA5QAAAAAAAgElAAAAAAAAAREAAAAAAAAAiQAAAAAAAAEBAAAAAAAAAP0AAAAAAAIBEQAAAAAAAADlAAAAAAAAANEAAAAAAAAAAQAAAAAAAADNAAAAAAAAAOUAAAAAAAAA5QAAAAAAAADVAAAAAAAAAMkAAAAAAAAA4QAAAAAAAADlAAAAAAAAAQEAAAAAAAAA3QAAAAAAAAE1AAAAAAAAAREAAAAAAAIBHQAAAAAAAAEJAAAAAAAAAQEAAAAAAAAA5QAAAAAAAADlAAAAAAACARUAAAAAAAAA/QAAAAAAAgFFAAAAAAAAAPkAAAAAAAAAyQAAAAAAAgDhAAAAAAACARUAAAAAAAIA1QAAAAAAAADRAAAAAAAAALEAAAAAAAABOQAAAAAAAADlAAAAAAAAALEAAAAAAAAAzQAAAAAAAADJAAAAAAAAAOUAAAAAAAABOQAAAAAAAAEpAAAAAAAAARkAAAAAAAIBIQAAAAAAAAEVAAAAAAAAAMkAAAAAAAAA5QAAAAAAAADpAAAAAAACAQ0AAAAAAAABEQAAAAAAAAD1AAAAAAAAASkAAAAAAAAAzQAAAAAAAADlAAAAAAACAQEAAAAAAAAAxQAAAAAAAAEFAAAAAAAAASUAAAAAAAAA0QAAAAAAAADlAAAAAAAAAOUAAAAAAAAAmQAAAAAAAAD5AAAAAAAAAN0AAAAAAAAA3QAAAAAAAgDxAAAAAAAAASEAAAAAAAAA5QAAAAAAAADlAAAAAAAAAQkAAAAAAAAA4QAAAAAAAgFFAAAAAAAAAMEAAAAAAAAAzQAAAAAAAAD9AAAAAAACAQEAAAAAAAAA3QAAAAAAAADxAAAAAAAAAMkAAAAAAAABBQAAAAAAAADlAAAAAAACAREAAAAAAAAAwQAAAAAAAAERAAAAAAACAPkAAAAAAAAA5QAAAAAAAAEBAAAAAAAAAOEAAAAAAAABIQAAAAAAAgExAAAAAAAAAOUAAAAAAAAAyQAAAAAAAADlAAAAAAAAAOUAAAAAAAAA9QAAAAAAAADlAAAAAAAAAOUAAAAAAAAA5QAAAAAAAACBAAAAAAAAAR0AAAAAAAAA5QAAAAAAAADBAAAAAAACANUAAAAAAAABEQAAAAAAAADlAAAAAAACAQ0AAAAAAAAA+QAAAAAAAAD5AAAAAAAAAQUAAAAAAAAA/QAAAAAAAgENAAAAAAAAAMkAAAAAAAIBDQAAAAAAAADpAAAAAAACAQ0AAAAAAAIBBQAAAAAAAABhAAAAAAACAPkAAAAAAAABEQAAAAAAAADdAAAAAAAAAP0AAAAAAAIBFQAAAAAAAACRAAAAAAAAAQ0AAAAAAAAAAQAAAAAAAADlAAAAAAAAAOUAAAAAAAAA5QAAAAAAAADdAAAAAAAAAMkAAAAAAAAA1QAAAAAAAADlAAAAAAAAANEAAAAAAAAAwQAAAAAAAQEFAAAAAAAAAMUAAAAAAAABFQAAAAAAAADlAAAAAAACAQUAAAAAAAAA8QAAAAAAAABBAAAAAAACAUkAAAAAAAAAiQAAAAAAAAEZAAAAAAAAAOUAAAAAAAIBEQAAAAAAAADVAAAAAAACANUAAAAAAAAA4QAAAAAAAAD9AAAAAAAAAOUAAAAAAAAA6QAAAAAAAgEBAAAAAAACAR0AAAAAAAAA0QAAAAAAAADNAAAAAAAAAOUAAAAAAAIBAQAAAAAAAADZAAAAAAAAAPEAAAAAAAAA5QAAAAAAAgENAAAAAAAAAO0AAAAAAAIA1QAAAAAAAAEBA",
          "dtype": "f8"
         },
         "xaxis": "x2",
         "yaxis": "y2"
        },
        {
         "bingroup": "x",
         "hovertemplate": "Survived=1<br>Age=%{x}<br>count=%{y}<extra></extra>",
         "legendgroup": "1",
         "marker": {
          "color": "green",
          "opacity": 0.7,
          "pattern": {
           "shape": ""
          }
         },
         "name": "1",
         "nbinsx": 30,
         "orientation": "v",
         "showlegend": true,
         "type": "histogram",
         "x": {
          "bdata": "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",
          "dtype": "f8"
         },
         "xaxis": "x",
         "yaxis": "y"
        },
        {
         "hovertemplate": "Survived=1<br>Age=%{x}<extra></extra>",
         "legendgroup": "1",
         "marker": {
          "color": "green"
         },
         "name": "1",
         "notched": true,
         "showlegend": false,
         "type": "box",
         "x": {
          "bdata": "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",
          "dtype": "f8"
         },
         "xaxis": "x2",
         "yaxis": "y2"
        }
       ],
       "layout": {
        "barmode": "relative",
        "legend": {
         "title": {
          "text": "Survived"
         },
         "tracegroupgap": 0
        },
        "template": {
         "data": {
          "bar": [
           {
            "error_x": {
             "color": "#2a3f5f"
            },
            "error_y": {
             "color": "#2a3f5f"
            },
            "marker": {
             "line": {
              "color": "#E5ECF6",
              "width": 0.5
             },
             "pattern": {
              "fillmode": "overlay",
              "size": 10,
              "solidity": 0.2
             }
            },
            "type": "bar"
           }
          ],
          "barpolar": [
           {
            "marker": {
             "line": {
              "color": "#E5ECF6",
              "width": 0.5
             },
             "pattern": {
              "fillmode": "overlay",
              "size": 10,
              "solidity": 0.2
             }
            },
            "type": "barpolar"
           }
          ],
          "carpet": [
           {
            "aaxis": {
             "endlinecolor": "#2a3f5f",
             "gridcolor": "white",
             "linecolor": "white",
             "minorgridcolor": "white",
             "startlinecolor": "#2a3f5f"
            },
            "baxis": {
             "endlinecolor": "#2a3f5f",
             "gridcolor": "white",
             "linecolor": "white",
             "minorgridcolor": "white",
             "startlinecolor": "#2a3f5f"
            },
            "type": "carpet"
           }
          ],
          "choropleth": [
           {
            "colorbar": {
             "outlinewidth": 0,
             "ticks": ""
            },
            "type": "choropleth"
           }
          ],
          "contour": [
           {
            "colorbar": {
             "outlinewidth": 0,
             "ticks": ""
            },
            "colorscale": [
             [
              0,
              "#0d0887"
             ],
             [
              0.1111111111111111,
              "#46039f"
             ],
             [
              0.2222222222222222,
              "#7201a8"
             ],
             [
              0.3333333333333333,
              "#9c179e"
             ],
             [
              0.4444444444444444,
              "#bd3786"
             ],
             [
              0.5555555555555556,
              "#d8576b"
             ],
             [
              0.6666666666666666,
              "#ed7953"
             ],
             [
              0.7777777777777778,
              "#fb9f3a"
             ],
             [
              0.8888888888888888,
              "#fdca26"
             ],
             [
              1,
              "#f0f921"
             ]
            ],
            "type": "contour"
           }
          ],
          "contourcarpet": [
           {
            "colorbar": {
             "outlinewidth": 0,
             "ticks": ""
            },
            "type": "contourcarpet"
           }
          ],
          "heatmap": [
           {
            "colorbar": {
             "outlinewidth": 0,
             "ticks": ""
            },
            "colorscale": [
             [
              0,
              "#0d0887"
             ],
             [
              0.1111111111111111,
              "#46039f"
             ],
             [
              0.2222222222222222,
              "#7201a8"
             ],
             [
              0.3333333333333333,
              "#9c179e"
             ],
             [
              0.4444444444444444,
              "#bd3786"
             ],
             [
              0.5555555555555556,
              "#d8576b"
             ],
             [
              0.6666666666666666,
              "#ed7953"
             ],
             [
              0.7777777777777778,
              "#fb9f3a"
             ],
             [
              0.8888888888888888,
              "#fdca26"
             ],
             [
              1,
              "#f0f921"
             ]
            ],
            "type": "heatmap"
           }
          ],
          "histogram": [
           {
            "marker": {
             "pattern": {
              "fillmode": "overlay",
              "size": 10,
              "solidity": 0.2
             }
            },
            "type": "histogram"
           }
          ],
          "histogram2d": [
           {
            "colorbar": {
             "outlinewidth": 0,
             "ticks": ""
            },
            "colorscale": [
             [
              0,
              "#0d0887"
             ],
             [
              0.1111111111111111,
              "#46039f"
             ],
             [
              0.2222222222222222,
              "#7201a8"
             ],
             [
              0.3333333333333333,
              "#9c179e"
             ],
             [
              0.4444444444444444,
              "#bd3786"
             ],
             [
              0.5555555555555556,
              "#d8576b"
             ],
             [
              0.6666666666666666,
              "#ed7953"
             ],
             [
              0.7777777777777778,
              "#fb9f3a"
             ],
             [
              0.8888888888888888,
              "#fdca26"
             ],
             [
              1,
              "#f0f921"
             ]
            ],
            "type": "histogram2d"
           }
          ],
          "histogram2dcontour": [
           {
            "colorbar": {
             "outlinewidth": 0,
             "ticks": ""
            },
            "colorscale": [
             [
              0,
              "#0d0887"
             ],
             [
              0.1111111111111111,
              "#46039f"
             ],
             [
              0.2222222222222222,
              "#7201a8"
             ],
             [
              0.3333333333333333,
              "#9c179e"
             ],
             [
              0.4444444444444444,
              "#bd3786"
             ],
             [
              0.5555555555555556,
              "#d8576b"
             ],
             [
              0.6666666666666666,
              "#ed7953"
             ],
             [
              0.7777777777777778,
              "#fb9f3a"
             ],
             [
              0.8888888888888888,
              "#fdca26"
             ],
             [
              1,
              "#f0f921"
             ]
            ],
            "type": "histogram2dcontour"
           }
          ],
          "mesh3d": [
           {
            "colorbar": {
             "outlinewidth": 0,
             "ticks": ""
            },
            "type": "mesh3d"
           }
          ],
          "parcoords": [
           {
            "line": {
             "colorbar": {
              "outlinewidth": 0,
              "ticks": ""
             }
            },
            "type": "parcoords"
           }
          ],
          "pie": [
           {
            "automargin": true,
            "type": "pie"
           }
          ],
          "scatter": [
           {
            "fillpattern": {
             "fillmode": "overlay",
             "size": 10,
             "solidity": 0.2
            },
            "type": "scatter"
           }
          ],
          "scatter3d": [
           {
            "line": {
             "colorbar": {
              "outlinewidth": 0,
              "ticks": ""
             }
            },
            "marker": {
             "colorbar": {
              "outlinewidth": 0,
              "ticks": ""
             }
            },
            "type": "scatter3d"
           }
          ],
          "scattercarpet": [
           {
            "marker": {
             "colorbar": {
              "outlinewidth": 0,
              "ticks": ""
             }
            },
            "type": "scattercarpet"
           }
          ],
          "scattergeo": [
           {
            "marker": {
             "colorbar": {
              "outlinewidth": 0,
              "ticks": ""
             }
            },
            "type": "scattergeo"
           }
          ],
          "scattergl": [
           {
            "marker": {
             "colorbar": {
              "outlinewidth": 0,
              "ticks": ""
             }
            },
            "type": "scattergl"
           }
          ],
          "scattermap": [
           {
            "marker": {
             "colorbar": {
              "outlinewidth": 0,
              "ticks": ""
             }
            },
            "type": "scattermap"
           }
          ],
          "scattermapbox": [
           {
            "marker": {
             "colorbar": {
              "outlinewidth": 0,
              "ticks": ""
             }
            },
            "type": "scattermapbox"
           }
          ],
          "scatterpolar": [
           {
            "marker": {
             "colorbar": {
              "outlinewidth": 0,
              "ticks": ""
             }
            },
            "type": "scatterpolar"
           }
          ],
          "scatterpolargl": [
           {
            "marker": {
             "colorbar": {
              "outlinewidth": 0,
              "ticks": ""
             }
            },
            "type": "scatterpolargl"
           }
          ],
          "scatterternary": [
           {
            "marker": {
             "colorbar": {
              "outlinewidth": 0,
              "ticks": ""
             }
            },
            "type": "scatterternary"
           }
          ],
          "surface": [
           {
            "colorbar": {
             "outlinewidth": 0,
             "ticks": ""
            },
            "colorscale": [
             [
              0,
              "#0d0887"
             ],
             [
              0.1111111111111111,
              "#46039f"
             ],
             [
              0.2222222222222222,
              "#7201a8"
             ],
             [
              0.3333333333333333,
              "#9c179e"
             ],
             [
              0.4444444444444444,
              "#bd3786"
             ],
             [
              0.5555555555555556,
              "#d8576b"
             ],
             [
              0.6666666666666666,
              "#ed7953"
             ],
             [
              0.7777777777777778,
              "#fb9f3a"
             ],
             [
              0.8888888888888888,
              "#fdca26"
             ],
             [
              1,
              "#f0f921"
             ]
            ],
            "type": "surface"
           }
          ],
          "table": [
           {
            "cells": {
             "fill": {
              "color": "#EBF0F8"
             },
             "line": {
              "color": "white"
             }
            },
            "header": {
             "fill": {
              "color": "#C8D4E3"
             },
             "line": {
              "color": "white"
             }
            },
            "type": "table"
           }
          ]
         },
         "layout": {
          "annotationdefaults": {
           "arrowcolor": "#2a3f5f",
           "arrowhead": 0,
           "arrowwidth": 1
          },
          "autotypenumbers": "strict",
          "coloraxis": {
           "colorbar": {
            "outlinewidth": 0,
            "ticks": ""
           }
          },
          "colorscale": {
           "diverging": [
            [
             0,
             "#8e0152"
            ],
            [
             0.1,
             "#c51b7d"
            ],
            [
             0.2,
             "#de77ae"
            ],
            [
             0.3,
             "#f1b6da"
            ],
            [
             0.4,
             "#fde0ef"
            ],
            [
             0.5,
             "#f7f7f7"
            ],
            [
             0.6,
             "#e6f5d0"
            ],
            [
             0.7,
             "#b8e186"
            ],
            [
             0.8,
             "#7fbc41"
            ],
            [
             0.9,
             "#4d9221"
            ],
            [
             1,
             "#276419"
            ]
           ],
           "sequential": [
            [
             0,
             "#0d0887"
            ],
            [
             0.1111111111111111,
             "#46039f"
            ],
            [
             0.2222222222222222,
             "#7201a8"
            ],
            [
             0.3333333333333333,
             "#9c179e"
            ],
            [
             0.4444444444444444,
             "#bd3786"
            ],
            [
             0.5555555555555556,
             "#d8576b"
            ],
            [
             0.6666666666666666,
             "#ed7953"
            ],
            [
             0.7777777777777778,
             "#fb9f3a"
            ],
            [
             0.8888888888888888,
             "#fdca26"
            ],
            [
             1,
             "#f0f921"
            ]
           ],
           "sequentialminus": [
            [
             0,
             "#0d0887"
            ],
            [
             0.1111111111111111,
             "#46039f"
            ],
            [
             0.2222222222222222,
             "#7201a8"
            ],
            [
             0.3333333333333333,
             "#9c179e"
            ],
            [
             0.4444444444444444,
             "#bd3786"
            ],
            [
             0.5555555555555556,
             "#d8576b"
            ],
            [
             0.6666666666666666,
             "#ed7953"
            ],
            [
             0.7777777777777778,
             "#fb9f3a"
            ],
            [
             0.8888888888888888,
             "#fdca26"
            ],
            [
             1,
             "#f0f921"
            ]
           ]
          },
          "colorway": [
           "#636efa",
           "#EF553B",
           "#00cc96",
           "#ab63fa",
           "#FFA15A",
           "#19d3f3",
           "#FF6692",
           "#B6E880",
           "#FF97FF",
           "#FECB52"
          ],
          "font": {
           "color": "#2a3f5f"
          },
          "geo": {
           "bgcolor": "white",
           "lakecolor": "white",
           "landcolor": "#E5ECF6",
           "showlakes": true,
           "showland": true,
           "subunitcolor": "white"
          },
          "hoverlabel": {
           "align": "left"
          },
          "hovermode": "closest",
          "mapbox": {
           "style": "light"
          },
          "paper_bgcolor": "white",
          "plot_bgcolor": "#E5ECF6",
          "polar": {
           "angularaxis": {
            "gridcolor": "white",
            "linecolor": "white",
            "ticks": ""
           },
           "bgcolor": "#E5ECF6",
           "radialaxis": {
            "gridcolor": "white",
            "linecolor": "white",
            "ticks": ""
           }
          },
          "scene": {
           "xaxis": {
            "backgroundcolor": "#E5ECF6",
            "gridcolor": "white",
            "gridwidth": 2,
            "linecolor": "white",
            "showbackground": true,
            "ticks": "",
            "zerolinecolor": "white"
           },
           "yaxis": {
            "backgroundcolor": "#E5ECF6",
            "gridcolor": "white",
            "gridwidth": 2,
            "linecolor": "white",
            "showbackground": true,
            "ticks": "",
            "zerolinecolor": "white"
           },
           "zaxis": {
            "backgroundcolor": "#E5ECF6",
            "gridcolor": "white",
            "gridwidth": 2,
            "linecolor": "white",
            "showbackground": true,
            "ticks": "",
            "zerolinecolor": "white"
           }
          },
          "shapedefaults": {
           "line": {
            "color": "#2a3f5f"
           }
          },
          "ternary": {
           "aaxis": {
            "gridcolor": "white",
            "linecolor": "white",
            "ticks": ""
           },
           "baxis": {
            "gridcolor": "white",
            "linecolor": "white",
            "ticks": ""
           },
           "bgcolor": "#E5ECF6",
           "caxis": {
            "gridcolor": "white",
            "linecolor": "white",
            "ticks": ""
           }
          },
          "title": {
           "x": 0.05
          },
          "xaxis": {
           "automargin": true,
           "gridcolor": "white",
           "linecolor": "white",
           "ticks": "",
           "title": {
            "standoff": 15
           },
           "zerolinecolor": "white",
           "zerolinewidth": 2
          },
          "yaxis": {
           "automargin": true,
           "gridcolor": "white",
           "linecolor": "white",
           "ticks": "",
           "title": {
            "standoff": 15
           },
           "zerolinecolor": "white",
           "zerolinewidth": 2
          }
         }
        },
        "title": {
         "text": "Распределение возраста по выживаемости"
        },
        "xaxis": {
         "anchor": "y",
         "domain": [
          0,
          1
         ],
         "title": {
          "text": "Age"
         }
        },
        "xaxis2": {
         "anchor": "y2",
         "domain": [
          0,
          1
         ],
         "matches": "x",
         "showgrid": true,
         "showticklabels": false
        },
        "yaxis": {
         "anchor": "x",
         "domain": [
          0,
          0.7326
         ],
         "title": {
          "text": "count"
         }
        },
        "yaxis2": {
         "anchor": "x2",
         "domain": [
          0.7426,
          1
         ],
         "matches": "y2",
         "showgrid": false,
         "showline": false,
         "showticklabels": false,
         "ticks": ""
        }
       }
      }
     },
     "metadata": {},
     "output_type": "display_data"
    }
   ],
   "source": [
    "\n",
    "print(\"Статистика по возрасту:\")\n",
    "print(df['Age'].describe())\n",
    "\n",
    "fig = px.histogram(df, x='Age', color='Survived', nbins=30,\n",
    "                   title='Распределение возраста по выживаемости',\n",
    "                   marginal='box',\n",
    "                   opacity=0.7,\n",
    "                   color_discrete_sequence=['red', 'green'])\n",
    "fig.show()"
   ]
  },
  {
   "cell_type": "code",
   "execution_count": 1837,
   "id": "9bf90b36",
   "metadata": {},
   "outputs": [
    {
     "data": {
      "application/vnd.plotly.v1+json": {
       "config": {
        "plotlyServerURL": "https://plot.ly"
       },
       "data": [
        {
         "alignmentgroup": "True",
         "hovertemplate": "Survived=0<br>Sex_numeric=%{x}<br>Age=%{y}<extra></extra>",
         "legendgroup": "0",
         "marker": {
          "color": "red"
         },
         "name": "0",
         "notched": false,
         "offsetgroup": "0",
         "orientation": "v",
         "showlegend": true,
         "type": "box",
         "x": {
          "bdata": "AQEBAQEBAQABAAEAAQEBAQEBAQEAAAABAQEBAAEBAQEBAQEBAQEBAQABAQEBAQEBAQEBAQEBAQEBAQEAAQEBAQEBAQABAAABAQEBAAEBAQEBAQEBAAEBAQEBAAEBAQABAQEBAQEBAQEBAQEBAQABAQEBAQEBAQABAQABAQEBAQEBAQABAQEBAAEBAQEBAQEBAQEBAQEAAQEBAAEBAQABAQEBAAEBAAEBAAEBAQABAQEBAAEBAQEBAQEBAQABAQEAAQEBAAEBAQEBAQEBAQEBAQEBAQEBAQEBAQEBAAEBAAEBAQEBAQABAQEBAQEBAQEBAAEBAQABAAEBAQABAQEAAQABAQEAAQEBAQEAAQEBAQEBAQEBAQEBAQEBAQEBAQEAAQEBAQEBAQABAQEBAQEBAQEAAQEAAAABAQEBAQEBAQEBAQEBAQEBAAEBAAABAQEBAQEBAQEBAQABAQABAQEAAQEBAQEBAQEAAQEBAQEBAQEBAAEBAQEAAQEBAQEBAQEBAQABAQABAQABAQEBAAEBAAEBAQEBAQEBAQEBAQEBAAABAQEBAQEBAQEBAQEBAAEBAQEBAQEBAQEBAQEBAAEBAQEBAAEBAQEBAQEBAQEBAQEBAQEBAAEBAQEAAQEBAQEBAQEBAQEBAAEBAQEAAQEBAAEBAQEAAQEAAQEBAQEBAQEBAQEBAQEBAQEBAQEBAQAAAQEBAAEBAQEBAQEBAQEAAQEAAQAB",
          "dtype": "i1"
         },
         "x0": " ",
         "xaxis": "x",
         "y": {
          "bdata": "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",
          "dtype": "f8"
         },
         "y0": " ",
         "yaxis": "y"
        },
        {
         "alignmentgroup": "True",
         "hovertemplate": "Survived=1<br>Sex_numeric=%{x}<br>Age=%{y}<extra></extra>",
         "legendgroup": "1",
         "marker": {
          "color": "green"
         },
         "name": "1",
         "notched": false,
         "offsetgroup": "1",
         "orientation": "v",
         "showlegend": true,
         "type": "box",
         "x": {
          "bdata": "AAAAAAAAAAABAAEAAQAAAAABAAAAAAAAAQAAAAEAAAEBAAEAAAAAAQAAAQAAAQEAAAAAAAEAAAABAAABAAABAAABAAAAAQEAAQAAAAABAQEAAAAAAAEAAAAAAAEBAAABAAAAAAEBAQAAAAEAAAEAAQAAAAAAAAAAAAAAAAAAAAAAAAEBAAAAAAEAAAAAAAAAAQAAAAAAAAABAQAAAAEBAAEAAAAAAQEAAAAAAAABAQABAAEBAQAAAQAAAAAAAQABAAAAAQEBAQAAAAAAAAAAAAAAAAEAAQEBAQAAAAABAQABAAAAAQAAAAEAAAEAAQEAAAAAAAEBAAEBAAABAAEBAAAAAQEAAAEAAQEAAQABAAABAAEAAQABAAAAAQAAAAEBAAEAAAEAAQABAAAAAAAAAAABAAAAAQEBAAABAAEBAAABAAEBAAAAAAABAAAAAAEAAAAAAAAB",
          "dtype": "i1"
         },
         "x0": " ",
         "xaxis": "x",
         "y": {
          "bdata": "AAAAAAAAQ0AAAAAAAAA6QAAAAAAAgEFAAAAAAAAAO0AAAAAAAAAsQAAAAAAAABBAAAAAAAAATUAAAAAAAIBLQAAAAAAAAD5AAAAAAACANUAAAAAAAABBQAAAAAAAAC5AAAAAAAAAPEAAAAAAAABDQAAAAAAAgDVAAAAAAACAQUAAAAAAAIA1QAAAAAAAADlAAAAAAAAALEAAAAAAAAAIQAAAAAAAADNAAAAAAACANUAAAAAAAIBIQAAAAAAAAD1AAAAAAAAAREAAAAAAAAA1QAAAAAAAABRAAAAAAAAAQ0AAAAAAAAA5QAAAAAAAAD1AAAAAAAAAMUAAAAAAAABAQI/C9Shcj+o/AAAAAAAAPkAAAAAAAAA9QAAAAAAAgDVAAAAAAAAAMUAAAAAAAIBAQAAAAAAAADdAAAAAAAAAN0AAAAAAAABBQAAAAAAAADVAAAAAAAAAOUAAAAAAAIA1QAAAAAAAQEBAAAAAAAAAKEAAAAAAAAA4QAAAAAAAgDVAAAAAAAAAPUAAAAAAAAAzQAAAAAAAADZAAAAAAAAAOEAAAAAAAAA7QAAAAAAAADZAAAAAAAAAMEAAAAAAAABEQAAAAAAAACJAAAAAAACAQUAAAAAAAADwPwAAAAAAAPA/AAAAAAAAEEAAAAAAAIA1QAAAAAAAgEZAAAAAAAAAQEAAAAAAAAAzQAAAAAAAAAhAAAAAAAAARkAAAAAAAABNQAAAAAAAgDVAAAAAAAAAMkAAAAAAAAA6QAAAAAAAADBAAAAAAAAAREAAAAAAAIBBQAAAAAAAAD9AAAAAAAAAO0AAAAAAAABAQAAAAAAAADBAAAAAAAAAQ0AAAAAAAAAzQAAAAAAAgEFAAAAAAAAAFEAAAAAAAAAgQAAAAAAAgDVAAAAAAAAAOEAAAAAAAIBCQAAAAAAAAD1AAAAAAACAQUAAAAAAAAA+QAAAAAAAgEFAAAAAAAAASUAAAAAAAAAIQAAAAAAAADlAAAAAAAAATUAAAAAAAIBBQAAAAAAAADlAAAAAAACAREAAAAAAAIA1QAAAAAAAgE9AAAAAAACAQUAAAAAAAAAzQAAAAAAAAD5AAAAAAAAARUAAAAAAAAA2QAAAAAAAADpAAAAAAAAAM0AAAAAAAABEQAAAAAAAAElAAAAAAACANUAAAAAAAAA5QAAAAAAAADxAcT0K16Nw7T8AAAAAAIBBQAAAAAAAADFAAAAAAAAAPkAAAAAAAAA4QAAAAAAAADJAAAAAAAAAOkAAAAAAAAA4QAAAAAAAAD9AAAAAAAAAREAAAAAAAAA+QAAAAAAAADZAAAAAAAAAQkAAAAAAAABCQAAAAAAAAD9AAAAAAAAAMEAAAAAAAIA1QAAAAAAAgEFAAAAAAACAREAAAAAAAIBGQAAAAAAAAABAAAAAAAAAOEAAAAAAAAA4QAAAAAAAAERAAAAAAACANUAAAAAAAAAIQAAAAAAAADZAAAAAAACANUAAAAAAAIA1QAAAAAAAAE5AAAAAAACANUAAAAAAAIA1QAAAAAAAADhAAAAAAAAAOUAAAAAAAIBBQAAAAAAAADZAAAAAAAAARUAAAAAAAADwPwAAAAAAgEFAAAAAAAAAQkAAAAAAAAAxQAAAAAAAAEJAAAAAAAAANUAAAAAAAAA3QAAAAAAAADhAAAAAAAAAPEAAAAAAAIBDQAAAAAAAAAhAAAAAAACAQEAAAAAAAABGQAAAAAAAAEFAAAAAAAAAMkAAAAAAAAA8QAAAAAAAADNAAAAAAAAAQEAAAAAAAAA8QAAAAAAAgDVAAAAAAAAARUAAAAAAAAAsQAAAAAAAADhAAAAAAACARkAAAAAAAAA8QAAAAAAAADlAAAAAAAAAEEAAAAAAAAAqQAAAAAAAAEFAAAAAAAAAFEAAAAAAAABKQAAAAAAAgEhAAAAAAAAAPUAAAAAAAIBBQAAAAAAAAElAAAAAAAAASEAAAAAAAADoPwAAAAAAgEBAAAAAAAAAN0AAAAAAAAAAQAAAAAAAgE9AAAAAAAAAOUAAAAAAAIBBQAAAAAAAACJAAAAAAAAAS0AAAAAAAAAwQAAAAAAAgEBAAAAAAAAAREAAAAAAAAA6QAAAAAAAAD1AAAAAAAAAQkAAAAAAAABLQAAAAAAAAEFAAAAAAAAAQkAAAAAAAAA+QAAAAAAAAEZAAAAAAAAASUAAAAAAAAAAQAAAAAAAgDVAAAAAAAAAHEAAAAAAAAA+QAAAAAAAADZAAAAAAAAAQkAAAAAAAABAQAAAAAAAADNAAAAAAAAAPkAAAAAAAAAgQAAAAAAAADFAAAAAAAAANkAAAAAAAAA2QAAAAAAAAEhAAAAAAACAQ0AAAAAAAABCQAAAAAAAAEBAAAAAAAAAT0AAAAAAAIBKQAAAAAAAAEJAAAAAAACANUAAAAAAAABBQAAAAAAAgENAAAAAAAAAQEAAAAAAAAA5QAAAAAAAgENAAAAAAAAAMkAAAAAAAABOQAAAAAAAAEpAAAAAAAAAPEAAAAAAAIBIQAAAAAAAADhAAAAAAACAQUAAAAAAAAA7QAAAAAAAADZAAAAAAAAAREAAAAAAAIA1QAAAAAAAADhAAAAAAAAAEEAAAAAAAABFQAAAAAAAADRAAAAAAAAANUAAAAAAAABUQAAAAAAAAEBAAAAAAAAAPEAAAAAAAAA4QAAAAAAAADlAAAAAAAAA6D8AAAAAAABIQAAAAAAAAExAAAAAAAAAN0AAAAAAAAAyQAAAAAAAgDVAAAAAAAAASUAAAAAAAAA0QAAAAAAAgEFAAAAAAAAAREAAAAAAAAA/QAAAAAAAADJAAAAAAAAAQkAAAAAAAAA7QAAAAAAAAC5AAAAAAAAAP0AAAAAAAAAQQAAAAAAAADlAAAAAAACANUAAAAAAAAAyQAAAAAAAgEFAAAAAAACARkAAAAAAAABFQAAAAAAAADZAAAAAAAAAOUAAAAAAAAA4QAAAAAAAAEhAAAAAAAAAQ0AAAAAAAAA7QAAAAAAAABhAAAAAAAAAO0AAAAAAAAA+QAAAAAAAgDVAAAAAAAAAPUAAAAAAAIBBQAAAAAAAAERAAAAAAAAANUAAAAAAAAA/QAAAAAAAAD5AAAAAAAAAEEAAAAAAAAAYQAAAAAAAAEhAcT0K16Nw5T8AAAAAAIBAQAAAAAAAADRAAAAAAAAAQkAAAAAAAIBJQAAAAAAAAEtAAAAAAAAAFEAAAAAAAIBFQAAAAAAAACpAAAAAAAAAMUAAAAAAAAAyQAAAAAAAAPA/AAAAAACASEAAAAAAAAA/QAAAAAAAAD9AAAAAAAAAJkDhehSuR+HaPwAAAAAAADtAAAAAAACAQEAAAAAAAABKQAAAAAAAADtAAAAAAAAAO0AAAAAAAADwPwAAAAAAADlAAAAAAAAAT0AAAAAAAAAuQI/C9Shcj+o/AAAAAACAQ0AAAAAAAABAQAAAAAAAAERAAAAAAAAAPkAAAAAAAIBBQAAAAAAAADBAAAAAAAAAMkAAAAAAAIBGQAAAAAAAgElAAAAAAAAAOEAAAAAAAABIQAAAAAAAAEVAAAAAAAAAO0AAAAAAAAAQQAAAAAAAgEdAAAAAAAAAPEAAAAAAAAAuQAAAAAAAAExAAAAAAAAAOUAAAAAAAAAzQAAAAAAAADpA",
          "dtype": "f8"
         },
         "y0": " ",
         "yaxis": "y"
        }
       ],
       "layout": {
        "boxmode": "group",
        "legend": {
         "title": {
          "text": "Survived"
         },
         "tracegroupgap": 0
        },
        "template": {
         "data": {
          "bar": [
           {
            "error_x": {
             "color": "#2a3f5f"
            },
            "error_y": {
             "color": "#2a3f5f"
            },
            "marker": {
             "line": {
              "color": "#E5ECF6",
              "width": 0.5
             },
             "pattern": {
              "fillmode": "overlay",
              "size": 10,
              "solidity": 0.2
             }
            },
            "type": "bar"
           }
          ],
          "barpolar": [
           {
            "marker": {
             "line": {
              "color": "#E5ECF6",
              "width": 0.5
             },
             "pattern": {
              "fillmode": "overlay",
              "size": 10,
              "solidity": 0.2
             }
            },
            "type": "barpolar"
           }
          ],
          "carpet": [
           {
            "aaxis": {
             "endlinecolor": "#2a3f5f",
             "gridcolor": "white",
             "linecolor": "white",
             "minorgridcolor": "white",
             "startlinecolor": "#2a3f5f"
            },
            "baxis": {
             "endlinecolor": "#2a3f5f",
             "gridcolor": "white",
             "linecolor": "white",
             "minorgridcolor": "white",
             "startlinecolor": "#2a3f5f"
            },
            "type": "carpet"
           }
          ],
          "choropleth": [
           {
            "colorbar": {
             "outlinewidth": 0,
             "ticks": ""
            },
            "type": "choropleth"
           }
          ],
          "contour": [
           {
            "colorbar": {
             "outlinewidth": 0,
             "ticks": ""
            },
            "colorscale": [
             [
              0,
              "#0d0887"
             ],
             [
              0.1111111111111111,
              "#46039f"
             ],
             [
              0.2222222222222222,
              "#7201a8"
             ],
             [
              0.3333333333333333,
              "#9c179e"
             ],
             [
              0.4444444444444444,
              "#bd3786"
             ],
             [
              0.5555555555555556,
              "#d8576b"
             ],
             [
              0.6666666666666666,
              "#ed7953"
             ],
             [
              0.7777777777777778,
              "#fb9f3a"
             ],
             [
              0.8888888888888888,
              "#fdca26"
             ],
             [
              1,
              "#f0f921"
             ]
            ],
            "type": "contour"
           }
          ],
          "contourcarpet": [
           {
            "colorbar": {
             "outlinewidth": 0,
             "ticks": ""
            },
            "type": "contourcarpet"
           }
          ],
          "heatmap": [
           {
            "colorbar": {
             "outlinewidth": 0,
             "ticks": ""
            },
            "colorscale": [
             [
              0,
              "#0d0887"
             ],
             [
              0.1111111111111111,
              "#46039f"
             ],
             [
              0.2222222222222222,
              "#7201a8"
             ],
             [
              0.3333333333333333,
              "#9c179e"
             ],
             [
              0.4444444444444444,
              "#bd3786"
             ],
             [
              0.5555555555555556,
              "#d8576b"
             ],
             [
              0.6666666666666666,
              "#ed7953"
             ],
             [
              0.7777777777777778,
              "#fb9f3a"
             ],
             [
              0.8888888888888888,
              "#fdca26"
             ],
             [
              1,
              "#f0f921"
             ]
            ],
            "type": "heatmap"
           }
          ],
          "histogram": [
           {
            "marker": {
             "pattern": {
              "fillmode": "overlay",
              "size": 10,
              "solidity": 0.2
             }
            },
            "type": "histogram"
           }
          ],
          "histogram2d": [
           {
            "colorbar": {
             "outlinewidth": 0,
             "ticks": ""
            },
            "colorscale": [
             [
              0,
              "#0d0887"
             ],
             [
              0.1111111111111111,
              "#46039f"
             ],
             [
              0.2222222222222222,
              "#7201a8"
             ],
             [
              0.3333333333333333,
              "#9c179e"
             ],
             [
              0.4444444444444444,
              "#bd3786"
             ],
             [
              0.5555555555555556,
              "#d8576b"
             ],
             [
              0.6666666666666666,
              "#ed7953"
             ],
             [
              0.7777777777777778,
              "#fb9f3a"
             ],
             [
              0.8888888888888888,
              "#fdca26"
             ],
             [
              1,
              "#f0f921"
             ]
            ],
            "type": "histogram2d"
           }
          ],
          "histogram2dcontour": [
           {
            "colorbar": {
             "outlinewidth": 0,
             "ticks": ""
            },
            "colorscale": [
             [
              0,
              "#0d0887"
             ],
             [
              0.1111111111111111,
              "#46039f"
             ],
             [
              0.2222222222222222,
              "#7201a8"
             ],
             [
              0.3333333333333333,
              "#9c179e"
             ],
             [
              0.4444444444444444,
              "#bd3786"
             ],
             [
              0.5555555555555556,
              "#d8576b"
             ],
             [
              0.6666666666666666,
              "#ed7953"
             ],
             [
              0.7777777777777778,
              "#fb9f3a"
             ],
             [
              0.8888888888888888,
              "#fdca26"
             ],
             [
              1,
              "#f0f921"
             ]
            ],
            "type": "histogram2dcontour"
           }
          ],
          "mesh3d": [
           {
            "colorbar": {
             "outlinewidth": 0,
             "ticks": ""
            },
            "type": "mesh3d"
           }
          ],
          "parcoords": [
           {
            "line": {
             "colorbar": {
              "outlinewidth": 0,
              "ticks": ""
             }
            },
            "type": "parcoords"
           }
          ],
          "pie": [
           {
            "automargin": true,
            "type": "pie"
           }
          ],
          "scatter": [
           {
            "fillpattern": {
             "fillmode": "overlay",
             "size": 10,
             "solidity": 0.2
            },
            "type": "scatter"
           }
          ],
          "scatter3d": [
           {
            "line": {
             "colorbar": {
              "outlinewidth": 0,
              "ticks": ""
             }
            },
            "marker": {
             "colorbar": {
              "outlinewidth": 0,
              "ticks": ""
             }
            },
            "type": "scatter3d"
           }
          ],
          "scattercarpet": [
           {
            "marker": {
             "colorbar": {
              "outlinewidth": 0,
              "ticks": ""
             }
            },
            "type": "scattercarpet"
           }
          ],
          "scattergeo": [
           {
            "marker": {
             "colorbar": {
              "outlinewidth": 0,
              "ticks": ""
             }
            },
            "type": "scattergeo"
           }
          ],
          "scattergl": [
           {
            "marker": {
             "colorbar": {
              "outlinewidth": 0,
              "ticks": ""
             }
            },
            "type": "scattergl"
           }
          ],
          "scattermap": [
           {
            "marker": {
             "colorbar": {
              "outlinewidth": 0,
              "ticks": ""
             }
            },
            "type": "scattermap"
           }
          ],
          "scattermapbox": [
           {
            "marker": {
             "colorbar": {
              "outlinewidth": 0,
              "ticks": ""
             }
            },
            "type": "scattermapbox"
           }
          ],
          "scatterpolar": [
           {
            "marker": {
             "colorbar": {
              "outlinewidth": 0,
              "ticks": ""
             }
            },
            "type": "scatterpolar"
           }
          ],
          "scatterpolargl": [
           {
            "marker": {
             "colorbar": {
              "outlinewidth": 0,
              "ticks": ""
             }
            },
            "type": "scatterpolargl"
           }
          ],
          "scatterternary": [
           {
            "marker": {
             "colorbar": {
              "outlinewidth": 0,
              "ticks": ""
             }
            },
            "type": "scatterternary"
           }
          ],
          "surface": [
           {
            "colorbar": {
             "outlinewidth": 0,
             "ticks": ""
            },
            "colorscale": [
             [
              0,
              "#0d0887"
             ],
             [
              0.1111111111111111,
              "#46039f"
             ],
             [
              0.2222222222222222,
              "#7201a8"
             ],
             [
              0.3333333333333333,
              "#9c179e"
             ],
             [
              0.4444444444444444,
              "#bd3786"
             ],
             [
              0.5555555555555556,
              "#d8576b"
             ],
             [
              0.6666666666666666,
              "#ed7953"
             ],
             [
              0.7777777777777778,
              "#fb9f3a"
             ],
             [
              0.8888888888888888,
              "#fdca26"
             ],
             [
              1,
              "#f0f921"
             ]
            ],
            "type": "surface"
           }
          ],
          "table": [
           {
            "cells": {
             "fill": {
              "color": "#EBF0F8"
             },
             "line": {
              "color": "white"
             }
            },
            "header": {
             "fill": {
              "color": "#C8D4E3"
             },
             "line": {
              "color": "white"
             }
            },
            "type": "table"
           }
          ]
         },
         "layout": {
          "annotationdefaults": {
           "arrowcolor": "#2a3f5f",
           "arrowhead": 0,
           "arrowwidth": 1
          },
          "autotypenumbers": "strict",
          "coloraxis": {
           "colorbar": {
            "outlinewidth": 0,
            "ticks": ""
           }
          },
          "colorscale": {
           "diverging": [
            [
             0,
             "#8e0152"
            ],
            [
             0.1,
             "#c51b7d"
            ],
            [
             0.2,
             "#de77ae"
            ],
            [
             0.3,
             "#f1b6da"
            ],
            [
             0.4,
             "#fde0ef"
            ],
            [
             0.5,
             "#f7f7f7"
            ],
            [
             0.6,
             "#e6f5d0"
            ],
            [
             0.7,
             "#b8e186"
            ],
            [
             0.8,
             "#7fbc41"
            ],
            [
             0.9,
             "#4d9221"
            ],
            [
             1,
             "#276419"
            ]
           ],
           "sequential": [
            [
             0,
             "#0d0887"
            ],
            [
             0.1111111111111111,
             "#46039f"
            ],
            [
             0.2222222222222222,
             "#7201a8"
            ],
            [
             0.3333333333333333,
             "#9c179e"
            ],
            [
             0.4444444444444444,
             "#bd3786"
            ],
            [
             0.5555555555555556,
             "#d8576b"
            ],
            [
             0.6666666666666666,
             "#ed7953"
            ],
            [
             0.7777777777777778,
             "#fb9f3a"
            ],
            [
             0.8888888888888888,
             "#fdca26"
            ],
            [
             1,
             "#f0f921"
            ]
           ],
           "sequentialminus": [
            [
             0,
             "#0d0887"
            ],
            [
             0.1111111111111111,
             "#46039f"
            ],
            [
             0.2222222222222222,
             "#7201a8"
            ],
            [
             0.3333333333333333,
             "#9c179e"
            ],
            [
             0.4444444444444444,
             "#bd3786"
            ],
            [
             0.5555555555555556,
             "#d8576b"
            ],
            [
             0.6666666666666666,
             "#ed7953"
            ],
            [
             0.7777777777777778,
             "#fb9f3a"
            ],
            [
             0.8888888888888888,
             "#fdca26"
            ],
            [
             1,
             "#f0f921"
            ]
           ]
          },
          "colorway": [
           "#636efa",
           "#EF553B",
           "#00cc96",
           "#ab63fa",
           "#FFA15A",
           "#19d3f3",
           "#FF6692",
           "#B6E880",
           "#FF97FF",
           "#FECB52"
          ],
          "font": {
           "color": "#2a3f5f"
          },
          "geo": {
           "bgcolor": "white",
           "lakecolor": "white",
           "landcolor": "#E5ECF6",
           "showlakes": true,
           "showland": true,
           "subunitcolor": "white"
          },
          "hoverlabel": {
           "align": "left"
          },
          "hovermode": "closest",
          "mapbox": {
           "style": "light"
          },
          "paper_bgcolor": "white",
          "plot_bgcolor": "#E5ECF6",
          "polar": {
           "angularaxis": {
            "gridcolor": "white",
            "linecolor": "white",
            "ticks": ""
           },
           "bgcolor": "#E5ECF6",
           "radialaxis": {
            "gridcolor": "white",
            "linecolor": "white",
            "ticks": ""
           }
          },
          "scene": {
           "xaxis": {
            "backgroundcolor": "#E5ECF6",
            "gridcolor": "white",
            "gridwidth": 2,
            "linecolor": "white",
            "showbackground": true,
            "ticks": "",
            "zerolinecolor": "white"
           },
           "yaxis": {
            "backgroundcolor": "#E5ECF6",
            "gridcolor": "white",
            "gridwidth": 2,
            "linecolor": "white",
            "showbackground": true,
            "ticks": "",
            "zerolinecolor": "white"
           },
           "zaxis": {
            "backgroundcolor": "#E5ECF6",
            "gridcolor": "white",
            "gridwidth": 2,
            "linecolor": "white",
            "showbackground": true,
            "ticks": "",
            "zerolinecolor": "white"
           }
          },
          "shapedefaults": {
           "line": {
            "color": "#2a3f5f"
           }
          },
          "ternary": {
           "aaxis": {
            "gridcolor": "white",
            "linecolor": "white",
            "ticks": ""
           },
           "baxis": {
            "gridcolor": "white",
            "linecolor": "white",
            "ticks": ""
           },
           "bgcolor": "#E5ECF6",
           "caxis": {
            "gridcolor": "white",
            "linecolor": "white",
            "ticks": ""
           }
          },
          "title": {
           "x": 0.05
          },
          "xaxis": {
           "automargin": true,
           "gridcolor": "white",
           "linecolor": "white",
           "ticks": "",
           "title": {
            "standoff": 15
           },
           "zerolinecolor": "white",
           "zerolinewidth": 2
          },
          "yaxis": {
           "automargin": true,
           "gridcolor": "white",
           "linecolor": "white",
           "ticks": "",
           "title": {
            "standoff": 15
           },
           "zerolinecolor": "white",
           "zerolinewidth": 2
          }
         }
        },
        "title": {
         "text": "Распределение возраста по полу и выживаемости"
        },
        "xaxis": {
         "anchor": "y",
         "domain": [
          0,
          1
         ],
         "title": {
          "text": "Sex_numeric"
         }
        },
        "yaxis": {
         "anchor": "x",
         "domain": [
          0,
          1
         ],
         "title": {
          "text": "Age"
         }
        }
       }
      }
     },
     "metadata": {},
     "output_type": "display_data"
    }
   ],
   "source": [
    "# Анализ возраста по полу и выживаемости\n",
    "fig = px.box(df, x='Sex_numeric', y='Age', color='Survived',\n",
    "             title='Распределение возраста по полу и выживаемости',\n",
    "             color_discrete_sequence=['red', 'green'])\n",
    "fig.show()"
   ]
  },
  {
   "cell_type": "code",
   "execution_count": 1838,
   "id": "6d5e3f78",
   "metadata": {},
   "outputs": [
    {
     "name": "stdout",
     "output_type": "stream",
     "text": [
      "Статистика по стоимости билета:\n",
      "count    891.000000\n",
      "mean       2.962246\n",
      "std        0.969048\n",
      "min        0.000000\n",
      "25%        2.187218\n",
      "50%        2.737881\n",
      "75%        3.465736\n",
      "max        6.240917\n",
      "Name: Fare_log, dtype: float64\n"
     ]
    },
    {
     "data": {
      "application/vnd.plotly.v1+json": {
       "config": {
        "plotlyServerURL": "https://plot.ly"
       },
       "data": [
        {
         "bingroup": "x",
         "hovertemplate": "Survived=0<br>Fare_log=%{x}<br>count=%{y}<extra></extra>",
         "legendgroup": "0",
         "marker": {
          "color": "red",
          "opacity": 0.7,
          "pattern": {
           "shape": ""
          }
         },
         "name": "0",
         "nbinsx": 30,
         "orientation": "v",
         "showlegend": true,
         "type": "histogram",
         "x": {
          "bdata": "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",
          "dtype": "f8"
         },
         "xaxis": "x",
         "yaxis": "y"
        },
        {
         "hovertemplate": "Survived=0<br>Fare_log=%{x}<extra></extra>",
         "legendgroup": "0",
         "marker": {
          "color": "red"
         },
         "name": "0",
         "notched": true,
         "showlegend": false,
         "type": "box",
         "x": {
          "bdata": "2ZtYdbfhAEDEOhkhQ58BQPYoRtyi+QFA9mNMdda9D0AfXoPFbMEIQMQ6GSFDnwFAGe1fGFrLC0AIYuF2d3IBQImtuPcqPgtALLMEBjaOB0CQhAO4310KQB9eg8VswQhA1at3S4DbAEAisgiaxU0WQOucAPoQfAFAcIF+tmjcCkB0JRM+7YkDQGsnNnL/rhFAqzwiaCjDD0DEOhkhQ58BQCyzBAY2jgdAqdWhCbzKAkDIxT13dLoIQOucAPoQfAFAxDoZIUOfAUBVKhc1SG0GQFuOINa5+AhAmbhY84l4B0AcoAbeuaUNQKqNBTvkZQFA/L+mWDuSEEDF1a/yi9wAQANWX9Ty8w5AxdWv8ovcAECtsbA57r4RQN6pP8gl6QpAcIF+tmjcCkDN3kH2n7cBQFinhoVhJQJAdCUTPu2JA0ADVl/U8vMOQO+fPCBCPhFA0tH+DS7nBUB8ERV2rkIBQOucAPoQfAFAxDoZIUOfAUAWVbW7sWsCQPn+tl17/A5ACMrp0C2HDEDEOhkhQ58BQMQ6GSFDnwFAxDoZIUOfAUAIYuF2d3IBQE3vgmUShRBAV136EIGSCEDZm1h1t+EAQMQ6GSFDnwFA+ip4jkeXDECQhAO4310KQOucAPoQfAFA65wA+hB8AUBblMeJCXERQEzZKvieIwJAHrw3G8eCAUDrnAD6EHwBQOucAPoQfAFAqzwiaCjDD0DS0f4NLucFQMQ6GSFDnwFAf3fwtQsOA0DtEz4huecFQB68NxvHggFAztaS0zhaAUDIxT13dLoIQJYLvzDmDxZAGe1fGFrLC0DvnzwgQj4RQMQ6GSFDnwFA4PMGU3p9C0BblMeJCXERQM7WktM4WgFAXcMaSEmcAEDrnAD6EHwBQIv9dtl0rwBA3pzSiD3tBUCnu9cWyhwFQNwgY6AdNAZAwfU/eTrtD0AlFkq0mZcCQE+uQ4jAiRFAboQQIXxNBkBiDhTJrGEAQLj+LjixNARAruPyHEIMDUAIyunQLYcMQJCEA7jfXQpAp7vXFsocBUDK2ML5GNYEQMQ6GSFDnwFA3pzSiD3tBUBppiNeLPEAQGrDjPBtiBBAxDoZIUOfAUBYp4aFYSUCQHYypjB5BhFAImH8xG62BkDUngKoEGABQFinhoVhJQJAHKAG3rmlDUDeqT/IJekKQFMdN1YtWApALbr59vM0EED6pml74lMMQImtuPcqPgtAHrw3G8eCAUCuIzDkQ6YLQAhi4XZ3cgFAlx3UawQ1CkAubdxQ7iELQKe71xbKHAVAAAAAAAAAAAB2MqYweQYRQKssYdemNAZA/yGcaXrSC0D/AFH/YHQPQFUqFzVIbQZA65wA+hB8AUCnu9cWyhwFQM7WktM4WgFAufXUZ+PtAUCnu9cWyhwFQDUgsdSdzwJAdjKmMHkGEUCwnpPKXx0AQNWrd0uA2wBAaL1t0DyDA0C7FDsoRZgGQIv9dtl0rwBA2ZtYdbfhAECnu9cWyhwFQM7WktM4WgFAI0qW1lqoCkB0JRM+7YkDQKe71xbKHAVAxDoZIUOfAUDrnAD6EHwBQGnTCv0lsgJA2ZtYdbfhAECnu9cWyhwFQJcd1GsENQpA1J4CqBBgAUCjbw8MqGQFQHQlEz7tiQNAptI9Bd4qAUCQhAO4310KQHQlEz7tiQNA7+MIM+OvBEDS0f4NLucFQHQlEz7tiQNAd6fs53LCAEDVq3dLgNsAQL5cJcEeCxJA1J4CqBBgAUCQhAO4310KQNmbWHW34QBAaL1t0DyDA0C6zV5WLIcKQCJh/MRutgZAyGVnNs1vCEDO1pLTOFoBQILAzE17jxFAAAAAAAAAAADO1pLTOFoBQHQlEz7tiQNAHKAG3rmlDUBryLi+07kLQEMik9HjZAtAztaS0zhaAUAAAAAAAAAAAImtuPcqPgtAztaS0zhaAUAIYuF2d3IBQDUgsdSdzwJAkIQDuN9dCkBYp4aFYSUCQOucAPoQfAFAz51V7GsKBUDxY5TVvUwCQOucAPoQfAFAcIF+tmjcCkDF1a/yi9wAQNtTe/gmHBRAAAAAAAAAAADEOhkhQ58BQDON7fdBwAlAkIQDuN9dCkDrnAD6EHwBQBWNhea/cApAH0hNORaqBUDZm1h1t+EAQOucAPoQfAFAdjKmMHkGEUCAO3AlHav/P3bEzzM7EwtA0sGbAekoFEAsswQGNo4HQOucAPoQfAFAQnAVDbzaEEBR0YWmS8cMQKe71xbKHAVAp7vXFsocBUCnu9cWyhwFQFinhoVhJQJAiNzidUOZAkACICr6C6sMQMXVr/KL3ABAmbhY84l4B0DVq3dLgNsAQDUgsdSdzwJAp7vXFsocBUDeqT/IJekKQHCBfrZo3ApA0tH+DS7nBUCL/XbZdK8AQFUqFzVIbQZA2ZtYdbfhAECwnpPKXx0AQMQ6GSFDnwFAL2+U31CrE0AfXoPFbMEIQBm/FH2ObxVAXkUaI3zK+T/UngKoEGABQB68NxvHggFA65wA+hB8AUDvnzwgQj4RQANWX9Ty8w5Af+8JCVlVAUAevDcbx4IBQP3gRPHpZAFACGLhdndyAUCQhAO4310KQHQlEz7tiQNAxDoZIUOfAUB/d/C1Cw4DQLsUOyhFmAZAWKeGhWElAkDIxT13dLoIQM7WktM4WgFA1J4CqBBgAUCXHdRrBDUKQOucAPoQfAFAdZyEkRh+AEAAAAAAAAAAAMQ6GSFDnwFAp7vXFsocBUBsSv9LgswJQOucAPoQfAFAcv6vOk9WAUAfAg6pRXcBQN6doRL83wVAyGVnNs1vCEDZm1h1t+EAQM7WktM4WgFAd6fs53LCAECyj25TSSoQQAjK6dAthwxAIrIImsVNFkB0JRM+7YkDQDUgsdSdzwJA1J4CqBBgAUCSXUt6fd4KQCJfi4zuVwhAkl1Len3eCkDEOhkhQ58BQLrNXlYshwpAztaS0zhaAUDEOhkhQ58BQGrUoFMQaQ1Ap7vXFsocBUDEOhkhQ58BQIv9dtl0rwBAAAAAAAAAAAC6zV5WLIcKQLNAerdcVAFA2ZtYdbfhAEBYp4aFYSUCQPB/WsZoEANAqzwiaCjDD0DIxT13dLoIQIbIjDxjrgBA+K+1Z9wjAUADVl/U8vMOQAAAAAAAAAAAxDoZIUOfAUCXHdRrBDUKQEMik9HjZAtAxDoZIUOfAUAiX4uM7lcIQNmbWHW34QBAuqEHEpOZC0DJrasoX2APQMQ6GSFDnwFA7RM+IbnnBUAGjDWZBTsGQNtTe/gmHBRA/eBE8elkAUBYp4aFYSUCQM7WktM4WgFAYr02OsA9AUA6mybLnOACQGj0y01czBJA2Ee+5LZDCUDEOhkhQ58BQMD6fuLXHQFAM4EMz5FyDEBsSv9LgswJQOucAPoQfAFA65wA+hB8AUDVq3dLgNsAQMXVr/KL3ABAztaS0zhaAUAtklDz7Z8VQB68NxvHggFAuP4uOLE0BEDF1a/yi9wAQMXVr/KL3ABAWKeGhWElAkC6zV5WLIcKQN6c0og97QVAGe1fGFrLC0AZ7V8YWssLQK07rDQJtRJAkIQDuN9dCkDx6MuewI0IQJCEA7jfXQpAxAqWCK1sAUC6zV5WLIcKQG12xk4BuhVAztaS0zhaAUDrnAD6EHwBQKNvDwyoZAVAxDoZIUOfAUDEOhkhQ58BQGxK/0uCzAlA65wA+hB8AUAfXoPFbMEIQMXVr/KL3ABAxDoZIUOfAUDenNKIPe0FQO0TPiG55wVAkIQDuN9dCkBvcm5HobsNQOV1uYfzLwJA7zn6/kIuBkDEOhkhQ58BQMQ6GSFDnwFAd6fs53LCAEDZm1h1t+EAQM7WktM4WgFAkIQDuN9dCkBsSv9LgswJQAAAAAAAAAAA1at3S4DbAEDrnAD6EHwBQOyRs6PmKQ5AxDoZIUOfAUBvO3qOenMGQOucAPoQfAFAGe1fGFrLC0CL/XbZdK8AQM7WktM4WgFAxDoZIUOfAUDenaES/N8FQCJh/MRutgZAdCUTPu2JA0DS0f4NLucFQAhi4XZ3cgFAImH8xG62BkAsGrkOqQwMQOCzP/FsuwRA65wA+hB8AUBy/q86T1YBQJ4S2FGGsABAAAAAAAAAAADeqT/IJekKQB68NxvHggFAFY2F5r9wCkAcoAbeuaUNQCJh/MRutgZACGLhdndyAUDeqT/IJekKQOucAPoQfAFAptI9Bd4qAUDrnAD6EHwBQC7n1Dw39AFAYg4UyaxhAEDvnzwgQj4RQOucAPoQfAFAVSoXNUhtBkCnu9cWyhwFQD9XBpxV9BJA1at3S4DbAECmfxbyVz4KQMD6fuLXHQFA7588IEI+EUCnu9cWyhwFQNSeAqgQYAFAxDoZIUOfAUCrPCJoKMMPQHQlEz7tiQNAAAAAAAAAAADUngKoEGABQMQ6GSFDnwFAA1Zf1PLzDkACax7d97IBQIjc4nVDmQJAA1Zf1PLzDkANcjI704INQCmDHhzMAg5AHKAG3rmlDUCCWKHscU4DQP3gRPHpZAFA1at3S4DbAEC6zV5WLIcKQKNvDwyoZAVAxDoZIUOfAUC6F4vhrN4SQHwRFXauQgFA0tH+DS7nBUAttgxER1gBQAhi4XZ3cgFAkIQDuN9dCkC6zV5WLIcKQGPCpkxbzAJAp7vXFsocBUB8ERV2rkIBQFUqFzVIbQZA1J4CqBBgAUCeEthRhrAAQKe71xbKHAVAp7vXFsocBUBYp4aFYSUCQJCEA7jfXQpAHrw3G8eCAUB3ZwkeYuEHQAAAAAAAAAAAp7vXFsocBUCnu9cWyhwFQCJh/MRutgZACMrp0C2HDEDrnAD6EHwBQOucAPoQfAFAh/08AkaFEUAiYfzEbrYGQD9X9FxOGxFAHCl0PmtzCEDB9T95Ou0PQM7WktM4WgFANSCx1J3PAkDrnAD6EHwBQP3gRPHpZAFAuP4uOLE0BEDEOhkhQ58BQN6c0og97QVAd6fs53LCAEDUngKoEGABQLFk8CZRoQ1AztaS0zhaAUBsSv9LgswJQFq7pnHJ5AFANSCx1J3PAkAIYuF2d3IBQHQlEz7tiQNA1at3S4DbAEDO1pLTOFoBQM7WktM4WgFAu+3fTktXAUBaK5FIzngLQOpI1tyykglAi/122XSvAEDZm1h1t+EAQImtuPcqPgtAT65DiMCJEUDO1pLTOFoBQJCEA7jfXQpAdjKmMHkGEUCuIzDkQ6YLQOucAPoQfAFAp7vXFsocBUDF1a/yi9wAQGxK/0uCzAlAp7vXFsocBUDUngKoEGABQAAAAAAAAAAA1J4CqBBgAUCnu9cWyhwFQGdlG5MnegFAbEr/S4LMCUB0JRM+7YkDQBntXxhaywtAxDoZIUOfAUAAAAAAAAAAAB68NxvHggFA37GItwAaDUDJ6sOE0hAAQN6pP8gl6QpAAAAAAAAAAAAcoAbeuaUNQJ/aBCrblQBALbr59vM0EEDF1a/yi9wAQAhi4XZ3cgFAylcyyhHXAUBYp4aFYSUCQMQ6GSFDnwFAHrw3G8eCAUB0JRM+7YkDQLZyGRpiDQBAWKeGhWElAkCm0j0F3ioBQHYypjB5BhFA65wA+hB8AUD2DbmB/DUMQBntXxhaywtA1J4CqBBgAUBuhBAhfE0GQJCEA7jfXQpAxdWv8ovcAEBRn8T70bgFQLj+LjixNARAdjKmMHkGEUCnu9cWyhwFQPTol0gxiA9ANSCx1J3PAkDrnAD6EHwBQAIgKvoLq/w/FlW1u7FrAkDvm+cm+hEDQOucAPoQfAFA65wA+hB8AUDrnAD6EHwBQMfVLAzmjANAdCUTPu2JA0CL/XbZdK8AQImtuPcqPgtAp7vXFsocBUDqSNbcspIJQM7WktM4WgFA",
          "dtype": "f8"
         },
         "xaxis": "x2",
         "yaxis": "y2"
        },
        {
         "bingroup": "x",
         "hovertemplate": "Survived=1<br>Fare_log=%{x}<br>count=%{y}<extra></extra>",
         "legendgroup": "1",
         "marker": {
          "color": "green",
          "opacity": 0.7,
          "pattern": {
           "shape": ""
          }
         },
         "name": "1",
         "nbinsx": 30,
         "orientation": "v",
         "showlegend": true,
         "type": "histogram",
         "x": {
          "bdata": "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",
          "dtype": "f8"
         },
         "xaxis": "x",
         "yaxis": "y"
        },
        {
         "hovertemplate": "Survived=1<br>Fare_log=%{x}<extra></extra>",
         "legendgroup": "1",
         "marker": {
          "color": "green"
         },
         "name": "1",
         "notched": true,
         "showlegend": false,
         "type": "box",
         "x": {
          "bdata": "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",
          "dtype": "f8"
         },
         "xaxis": "x2",
         "yaxis": "y2"
        }
       ],
       "layout": {
        "barmode": "relative",
        "legend": {
         "title": {
          "text": "Survived"
         },
         "tracegroupgap": 0
        },
        "template": {
         "data": {
          "bar": [
           {
            "error_x": {
             "color": "#2a3f5f"
            },
            "error_y": {
             "color": "#2a3f5f"
            },
            "marker": {
             "line": {
              "color": "#E5ECF6",
              "width": 0.5
             },
             "pattern": {
              "fillmode": "overlay",
              "size": 10,
              "solidity": 0.2
             }
            },
            "type": "bar"
           }
          ],
          "barpolar": [
           {
            "marker": {
             "line": {
              "color": "#E5ECF6",
              "width": 0.5
             },
             "pattern": {
              "fillmode": "overlay",
              "size": 10,
              "solidity": 0.2
             }
            },
            "type": "barpolar"
           }
          ],
          "carpet": [
           {
            "aaxis": {
             "endlinecolor": "#2a3f5f",
             "gridcolor": "white",
             "linecolor": "white",
             "minorgridcolor": "white",
             "startlinecolor": "#2a3f5f"
            },
            "baxis": {
             "endlinecolor": "#2a3f5f",
             "gridcolor": "white",
             "linecolor": "white",
             "minorgridcolor": "white",
             "startlinecolor": "#2a3f5f"
            },
            "type": "carpet"
           }
          ],
          "choropleth": [
           {
            "colorbar": {
             "outlinewidth": 0,
             "ticks": ""
            },
            "type": "choropleth"
           }
          ],
          "contour": [
           {
            "colorbar": {
             "outlinewidth": 0,
             "ticks": ""
            },
            "colorscale": [
             [
              0,
              "#0d0887"
             ],
             [
              0.1111111111111111,
              "#46039f"
             ],
             [
              0.2222222222222222,
              "#7201a8"
             ],
             [
              0.3333333333333333,
              "#9c179e"
             ],
             [
              0.4444444444444444,
              "#bd3786"
             ],
             [
              0.5555555555555556,
              "#d8576b"
             ],
             [
              0.6666666666666666,
              "#ed7953"
             ],
             [
              0.7777777777777778,
              "#fb9f3a"
             ],
             [
              0.8888888888888888,
              "#fdca26"
             ],
             [
              1,
              "#f0f921"
             ]
            ],
            "type": "contour"
           }
          ],
          "contourcarpet": [
           {
            "colorbar": {
             "outlinewidth": 0,
             "ticks": ""
            },
            "type": "contourcarpet"
           }
          ],
          "heatmap": [
           {
            "colorbar": {
             "outlinewidth": 0,
             "ticks": ""
            },
            "colorscale": [
             [
              0,
              "#0d0887"
             ],
             [
              0.1111111111111111,
              "#46039f"
             ],
             [
              0.2222222222222222,
              "#7201a8"
             ],
             [
              0.3333333333333333,
              "#9c179e"
             ],
             [
              0.4444444444444444,
              "#bd3786"
             ],
             [
              0.5555555555555556,
              "#d8576b"
             ],
             [
              0.6666666666666666,
              "#ed7953"
             ],
             [
              0.7777777777777778,
              "#fb9f3a"
             ],
             [
              0.8888888888888888,
              "#fdca26"
             ],
             [
              1,
              "#f0f921"
             ]
            ],
            "type": "heatmap"
           }
          ],
          "histogram": [
           {
            "marker": {
             "pattern": {
              "fillmode": "overlay",
              "size": 10,
              "solidity": 0.2
             }
            },
            "type": "histogram"
           }
          ],
          "histogram2d": [
           {
            "colorbar": {
             "outlinewidth": 0,
             "ticks": ""
            },
            "colorscale": [
             [
              0,
              "#0d0887"
             ],
             [
              0.1111111111111111,
              "#46039f"
             ],
             [
              0.2222222222222222,
              "#7201a8"
             ],
             [
              0.3333333333333333,
              "#9c179e"
             ],
             [
              0.4444444444444444,
              "#bd3786"
             ],
             [
              0.5555555555555556,
              "#d8576b"
             ],
             [
              0.6666666666666666,
              "#ed7953"
             ],
             [
              0.7777777777777778,
              "#fb9f3a"
             ],
             [
              0.8888888888888888,
              "#fdca26"
             ],
             [
              1,
              "#f0f921"
             ]
            ],
            "type": "histogram2d"
           }
          ],
          "histogram2dcontour": [
           {
            "colorbar": {
             "outlinewidth": 0,
             "ticks": ""
            },
            "colorscale": [
             [
              0,
              "#0d0887"
             ],
             [
              0.1111111111111111,
              "#46039f"
             ],
             [
              0.2222222222222222,
              "#7201a8"
             ],
             [
              0.3333333333333333,
              "#9c179e"
             ],
             [
              0.4444444444444444,
              "#bd3786"
             ],
             [
              0.5555555555555556,
              "#d8576b"
             ],
             [
              0.6666666666666666,
              "#ed7953"
             ],
             [
              0.7777777777777778,
              "#fb9f3a"
             ],
             [
              0.8888888888888888,
              "#fdca26"
             ],
             [
              1,
              "#f0f921"
             ]
            ],
            "type": "histogram2dcontour"
           }
          ],
          "mesh3d": [
           {
            "colorbar": {
             "outlinewidth": 0,
             "ticks": ""
            },
            "type": "mesh3d"
           }
          ],
          "parcoords": [
           {
            "line": {
             "colorbar": {
              "outlinewidth": 0,
              "ticks": ""
             }
            },
            "type": "parcoords"
           }
          ],
          "pie": [
           {
            "automargin": true,
            "type": "pie"
           }
          ],
          "scatter": [
           {
            "fillpattern": {
             "fillmode": "overlay",
             "size": 10,
             "solidity": 0.2
            },
            "type": "scatter"
           }
          ],
          "scatter3d": [
           {
            "line": {
             "colorbar": {
              "outlinewidth": 0,
              "ticks": ""
             }
            },
            "marker": {
             "colorbar": {
              "outlinewidth": 0,
              "ticks": ""
             }
            },
            "type": "scatter3d"
           }
          ],
          "scattercarpet": [
           {
            "marker": {
             "colorbar": {
              "outlinewidth": 0,
              "ticks": ""
             }
            },
            "type": "scattercarpet"
           }
          ],
          "scattergeo": [
           {
            "marker": {
             "colorbar": {
              "outlinewidth": 0,
              "ticks": ""
             }
            },
            "type": "scattergeo"
           }
          ],
          "scattergl": [
           {
            "marker": {
             "colorbar": {
              "outlinewidth": 0,
              "ticks": ""
             }
            },
            "type": "scattergl"
           }
          ],
          "scattermap": [
           {
            "marker": {
             "colorbar": {
              "outlinewidth": 0,
              "ticks": ""
             }
            },
            "type": "scattermap"
           }
          ],
          "scattermapbox": [
           {
            "marker": {
             "colorbar": {
              "outlinewidth": 0,
              "ticks": ""
             }
            },
            "type": "scattermapbox"
           }
          ],
          "scatterpolar": [
           {
            "marker": {
             "colorbar": {
              "outlinewidth": 0,
              "ticks": ""
             }
            },
            "type": "scatterpolar"
           }
          ],
          "scatterpolargl": [
           {
            "marker": {
             "colorbar": {
              "outlinewidth": 0,
              "ticks": ""
             }
            },
            "type": "scatterpolargl"
           }
          ],
          "scatterternary": [
           {
            "marker": {
             "colorbar": {
              "outlinewidth": 0,
              "ticks": ""
             }
            },
            "type": "scatterternary"
           }
          ],
          "surface": [
           {
            "colorbar": {
             "outlinewidth": 0,
             "ticks": ""
            },
            "colorscale": [
             [
              0,
              "#0d0887"
             ],
             [
              0.1111111111111111,
              "#46039f"
             ],
             [
              0.2222222222222222,
              "#7201a8"
             ],
             [
              0.3333333333333333,
              "#9c179e"
             ],
             [
              0.4444444444444444,
              "#bd3786"
             ],
             [
              0.5555555555555556,
              "#d8576b"
             ],
             [
              0.6666666666666666,
              "#ed7953"
             ],
             [
              0.7777777777777778,
              "#fb9f3a"
             ],
             [
              0.8888888888888888,
              "#fdca26"
             ],
             [
              1,
              "#f0f921"
             ]
            ],
            "type": "surface"
           }
          ],
          "table": [
           {
            "cells": {
             "fill": {
              "color": "#EBF0F8"
             },
             "line": {
              "color": "white"
             }
            },
            "header": {
             "fill": {
              "color": "#C8D4E3"
             },
             "line": {
              "color": "white"
             }
            },
            "type": "table"
           }
          ]
         },
         "layout": {
          "annotationdefaults": {
           "arrowcolor": "#2a3f5f",
           "arrowhead": 0,
           "arrowwidth": 1
          },
          "autotypenumbers": "strict",
          "coloraxis": {
           "colorbar": {
            "outlinewidth": 0,
            "ticks": ""
           }
          },
          "colorscale": {
           "diverging": [
            [
             0,
             "#8e0152"
            ],
            [
             0.1,
             "#c51b7d"
            ],
            [
             0.2,
             "#de77ae"
            ],
            [
             0.3,
             "#f1b6da"
            ],
            [
             0.4,
             "#fde0ef"
            ],
            [
             0.5,
             "#f7f7f7"
            ],
            [
             0.6,
             "#e6f5d0"
            ],
            [
             0.7,
             "#b8e186"
            ],
            [
             0.8,
             "#7fbc41"
            ],
            [
             0.9,
             "#4d9221"
            ],
            [
             1,
             "#276419"
            ]
           ],
           "sequential": [
            [
             0,
             "#0d0887"
            ],
            [
             0.1111111111111111,
             "#46039f"
            ],
            [
             0.2222222222222222,
             "#7201a8"
            ],
            [
             0.3333333333333333,
             "#9c179e"
            ],
            [
             0.4444444444444444,
             "#bd3786"
            ],
            [
             0.5555555555555556,
             "#d8576b"
            ],
            [
             0.6666666666666666,
             "#ed7953"
            ],
            [
             0.7777777777777778,
             "#fb9f3a"
            ],
            [
             0.8888888888888888,
             "#fdca26"
            ],
            [
             1,
             "#f0f921"
            ]
           ],
           "sequentialminus": [
            [
             0,
             "#0d0887"
            ],
            [
             0.1111111111111111,
             "#46039f"
            ],
            [
             0.2222222222222222,
             "#7201a8"
            ],
            [
             0.3333333333333333,
             "#9c179e"
            ],
            [
             0.4444444444444444,
             "#bd3786"
            ],
            [
             0.5555555555555556,
             "#d8576b"
            ],
            [
             0.6666666666666666,
             "#ed7953"
            ],
            [
             0.7777777777777778,
             "#fb9f3a"
            ],
            [
             0.8888888888888888,
             "#fdca26"
            ],
            [
             1,
             "#f0f921"
            ]
           ]
          },
          "colorway": [
           "#636efa",
           "#EF553B",
           "#00cc96",
           "#ab63fa",
           "#FFA15A",
           "#19d3f3",
           "#FF6692",
           "#B6E880",
           "#FF97FF",
           "#FECB52"
          ],
          "font": {
           "color": "#2a3f5f"
          },
          "geo": {
           "bgcolor": "white",
           "lakecolor": "white",
           "landcolor": "#E5ECF6",
           "showlakes": true,
           "showland": true,
           "subunitcolor": "white"
          },
          "hoverlabel": {
           "align": "left"
          },
          "hovermode": "closest",
          "mapbox": {
           "style": "light"
          },
          "paper_bgcolor": "white",
          "plot_bgcolor": "#E5ECF6",
          "polar": {
           "angularaxis": {
            "gridcolor": "white",
            "linecolor": "white",
            "ticks": ""
           },
           "bgcolor": "#E5ECF6",
           "radialaxis": {
            "gridcolor": "white",
            "linecolor": "white",
            "ticks": ""
           }
          },
          "scene": {
           "xaxis": {
            "backgroundcolor": "#E5ECF6",
            "gridcolor": "white",
            "gridwidth": 2,
            "linecolor": "white",
            "showbackground": true,
            "ticks": "",
            "zerolinecolor": "white"
           },
           "yaxis": {
            "backgroundcolor": "#E5ECF6",
            "gridcolor": "white",
            "gridwidth": 2,
            "linecolor": "white",
            "showbackground": true,
            "ticks": "",
            "zerolinecolor": "white"
           },
           "zaxis": {
            "backgroundcolor": "#E5ECF6",
            "gridcolor": "white",
            "gridwidth": 2,
            "linecolor": "white",
            "showbackground": true,
            "ticks": "",
            "zerolinecolor": "white"
           }
          },
          "shapedefaults": {
           "line": {
            "color": "#2a3f5f"
           }
          },
          "ternary": {
           "aaxis": {
            "gridcolor": "white",
            "linecolor": "white",
            "ticks": ""
           },
           "baxis": {
            "gridcolor": "white",
            "linecolor": "white",
            "ticks": ""
           },
           "bgcolor": "#E5ECF6",
           "caxis": {
            "gridcolor": "white",
            "linecolor": "white",
            "ticks": ""
           }
          },
          "title": {
           "x": 0.05
          },
          "xaxis": {
           "automargin": true,
           "gridcolor": "white",
           "linecolor": "white",
           "ticks": "",
           "title": {
            "standoff": 15
           },
           "zerolinecolor": "white",
           "zerolinewidth": 2
          },
          "yaxis": {
           "automargin": true,
           "gridcolor": "white",
           "linecolor": "white",
           "ticks": "",
           "title": {
            "standoff": 15
           },
           "zerolinecolor": "white",
           "zerolinewidth": 2
          }
         }
        },
        "title": {
         "text": "Распределение стоимости билета по выживаемости"
        },
        "xaxis": {
         "anchor": "y",
         "domain": [
          0,
          1
         ],
         "title": {
          "text": "Fare_log"
         }
        },
        "xaxis2": {
         "anchor": "y2",
         "domain": [
          0,
          1
         ],
         "matches": "x",
         "showgrid": true,
         "showticklabels": false
        },
        "yaxis": {
         "anchor": "x",
         "domain": [
          0,
          0.7326
         ],
         "title": {
          "text": "count"
         }
        },
        "yaxis2": {
         "anchor": "x2",
         "domain": [
          0.7426,
          1
         ],
         "matches": "y2",
         "showgrid": false,
         "showline": false,
         "showticklabels": false,
         "ticks": ""
        }
       }
      }
     },
     "metadata": {},
     "output_type": "display_data"
    }
   ],
   "source": [
    "\n",
    "print(\"Статистика по стоимости билета:\")\n",
    "print(df['Fare_log'].describe())\n",
    "\n",
    "\n",
    "fig = px.histogram(df, x='Fare_log', color='Survived', nbins=30,\n",
    "                   title='Распределение стоимости билета по выживаемости',\n",
    "                   marginal='box',\n",
    "                   opacity=0.7,\n",
    "                   color_discrete_sequence=['red', 'green'])\n",
    "fig.show()"
   ]
  },
  {
   "cell_type": "code",
   "execution_count": 1839,
   "id": "ccd11e1a",
   "metadata": {},
   "outputs": [
    {
     "name": "stdout",
     "output_type": "stream",
     "text": [
      "Выживаемость по порту посадки:\n",
      "Survived        0    1\n",
      "Embarked_num          \n",
      "0             427  219\n",
      "1              75   93\n",
      "2              47   30\n",
      "\n",
      "Процент выживаемости по порту посадки:\n",
      "Survived              0          1\n",
      "Embarked_num                      \n",
      "0             66.099071  33.900929\n",
      "1             44.642857  55.357143\n",
      "2             61.038961  38.961039\n"
     ]
    },
    {
     "data": {
      "application/vnd.plotly.v1+json": {
       "config": {
        "plotlyServerURL": "https://plot.ly"
       },
       "data": [
        {
         "alignmentgroup": "True",
         "bingroup": "x",
         "hovertemplate": "Выжил=0<br>Порт посадки=%{x}<br>count=%{y}<extra></extra>",
         "legendgroup": "0",
         "marker": {
          "color": "red",
          "pattern": {
           "shape": ""
          }
         },
         "name": "0",
         "offsetgroup": "0",
         "orientation": "v",
         "showlegend": true,
         "type": "histogram",
         "x": {
          "bdata": "AAACAAAAAAACAAAAAQAAAQABAAAAAAABAAIBAAAAAQEAAQAAAQAAAAAAAQAAAAAAAAAAAAAAAAAAAQAAAAAAAAAAAAEAAAEAAgABAAAAAQACAAEAAAABAAABAQIAAAAAAAAAAAABAAAAAAAAAAAAAAACAAEAAAEAAAABAAACAAACAAAAAAABAAAAAAACAAAAAAAAAAAAAAAAAAAAAAEAAAECAAAAAAAAAAIAAAIAAAABAAACAgAAAAEAAQAAAQEAAAABAAAAAAAAAAAAAAAAAAAAAAAAAAABAAEAAAABAQACAAAAAQABAQAAAAAAAgAAAAAAAAAAAAAAAAAAAgAAAAABAgAAAAACAAAAAAAAAAAAAQAAAgAAAAAAAAACAAAAAAAAAAAAAAABAAAAAAEAAQAAAAACAgABAAAAAAIAAAEBAgAAAAEBAAAAAAABAAAAAgABAgAAAAAAAAABAAABAAEBAAAAAAACAAAAAQAAAAAAAAACAAAAAAEAAAACAAIAAAAAAAAAAAAAAAAAAgAAAgABAQAAAAAAAAAAAAAAAAIAAAABAAAAAQAAAAEAAQIAAAAAAAACAAAAAAAAAAEAAAAAAAAAAAAAAAACAAAAAAAAAAABAgIAAAAAAQACAgAAAAACAQIAAAEAAAEAAAAAAAAAAAAAAAAAAQAAAAACAAEAAAAAAAABAAAAAQAAAAEAAQAAAAAAAAAAAAAAAAAAAAACAAAC",
          "dtype": "i1"
         },
         "xaxis": "x",
         "yaxis": "y"
        },
        {
         "alignmentgroup": "True",
         "bingroup": "x",
         "hovertemplate": "Выжил=1<br>Порт посадки=%{x}<br>count=%{y}<extra></extra>",
         "legendgroup": "1",
         "marker": {
          "color": "green",
          "pattern": {
           "shape": ""
          }
         },
         "name": "1",
         "offsetgroup": "1",
         "orientation": "v",
         "showlegend": true,
         "type": "histogram",
         "x": {
          "bdata": "AQAAAAEAAAAAAQACAAACAQIBAQECAgEAAAAAAAEAAAAAAAACAAAAAQAAAAIAAQABAAAAAAAAAgAAAAAAAAIAAAAAAQECAAECAQABAAEAAAAAAAACAAABAQABAAAAAAAAAAIAAAAAAAIAAQABAgICAAEBAQEBAAAAAQIAAQAAAQIAAQAAAAAAAAAAAgIBAQIBAQEAAQEAAAEAAAEAAAAAAgAAAAAAAAAAAAAAAAAAAAAAAQABAQAAAAEAAQAAAQAAAQAAAAACAAEAAAABAAABAAEBAAAAAQABAQABAAAAAAAAAgAAAAABAAEBAAEAAQABAAIAAAABAAABAAEAAQEBAAACAAAAAAAAAQEAAAEAAgEAAAAAAQEAAQAAAAACAAEAAQAAAAAAAAABAAAAAAABAAAAAAAAAAEAAAAAAAECAAEAAQABAQEAAAAAAQAAAQAAAQEBAAAB",
          "dtype": "i1"
         },
         "xaxis": "x",
         "yaxis": "y"
        }
       ],
       "layout": {
        "barmode": "group",
        "legend": {
         "title": {
          "text": "Выжил"
         },
         "tracegroupgap": 0
        },
        "template": {
         "data": {
          "bar": [
           {
            "error_x": {
             "color": "#2a3f5f"
            },
            "error_y": {
             "color": "#2a3f5f"
            },
            "marker": {
             "line": {
              "color": "#E5ECF6",
              "width": 0.5
             },
             "pattern": {
              "fillmode": "overlay",
              "size": 10,
              "solidity": 0.2
             }
            },
            "type": "bar"
           }
          ],
          "barpolar": [
           {
            "marker": {
             "line": {
              "color": "#E5ECF6",
              "width": 0.5
             },
             "pattern": {
              "fillmode": "overlay",
              "size": 10,
              "solidity": 0.2
             }
            },
            "type": "barpolar"
           }
          ],
          "carpet": [
           {
            "aaxis": {
             "endlinecolor": "#2a3f5f",
             "gridcolor": "white",
             "linecolor": "white",
             "minorgridcolor": "white",
             "startlinecolor": "#2a3f5f"
            },
            "baxis": {
             "endlinecolor": "#2a3f5f",
             "gridcolor": "white",
             "linecolor": "white",
             "minorgridcolor": "white",
             "startlinecolor": "#2a3f5f"
            },
            "type": "carpet"
           }
          ],
          "choropleth": [
           {
            "colorbar": {
             "outlinewidth": 0,
             "ticks": ""
            },
            "type": "choropleth"
           }
          ],
          "contour": [
           {
            "colorbar": {
             "outlinewidth": 0,
             "ticks": ""
            },
            "colorscale": [
             [
              0,
              "#0d0887"
             ],
             [
              0.1111111111111111,
              "#46039f"
             ],
             [
              0.2222222222222222,
              "#7201a8"
             ],
             [
              0.3333333333333333,
              "#9c179e"
             ],
             [
              0.4444444444444444,
              "#bd3786"
             ],
             [
              0.5555555555555556,
              "#d8576b"
             ],
             [
              0.6666666666666666,
              "#ed7953"
             ],
             [
              0.7777777777777778,
              "#fb9f3a"
             ],
             [
              0.8888888888888888,
              "#fdca26"
             ],
             [
              1,
              "#f0f921"
             ]
            ],
            "type": "contour"
           }
          ],
          "contourcarpet": [
           {
            "colorbar": {
             "outlinewidth": 0,
             "ticks": ""
            },
            "type": "contourcarpet"
           }
          ],
          "heatmap": [
           {
            "colorbar": {
             "outlinewidth": 0,
             "ticks": ""
            },
            "colorscale": [
             [
              0,
              "#0d0887"
             ],
             [
              0.1111111111111111,
              "#46039f"
             ],
             [
              0.2222222222222222,
              "#7201a8"
             ],
             [
              0.3333333333333333,
              "#9c179e"
             ],
             [
              0.4444444444444444,
              "#bd3786"
             ],
             [
              0.5555555555555556,
              "#d8576b"
             ],
             [
              0.6666666666666666,
              "#ed7953"
             ],
             [
              0.7777777777777778,
              "#fb9f3a"
             ],
             [
              0.8888888888888888,
              "#fdca26"
             ],
             [
              1,
              "#f0f921"
             ]
            ],
            "type": "heatmap"
           }
          ],
          "histogram": [
           {
            "marker": {
             "pattern": {
              "fillmode": "overlay",
              "size": 10,
              "solidity": 0.2
             }
            },
            "type": "histogram"
           }
          ],
          "histogram2d": [
           {
            "colorbar": {
             "outlinewidth": 0,
             "ticks": ""
            },
            "colorscale": [
             [
              0,
              "#0d0887"
             ],
             [
              0.1111111111111111,
              "#46039f"
             ],
             [
              0.2222222222222222,
              "#7201a8"
             ],
             [
              0.3333333333333333,
              "#9c179e"
             ],
             [
              0.4444444444444444,
              "#bd3786"
             ],
             [
              0.5555555555555556,
              "#d8576b"
             ],
             [
              0.6666666666666666,
              "#ed7953"
             ],
             [
              0.7777777777777778,
              "#fb9f3a"
             ],
             [
              0.8888888888888888,
              "#fdca26"
             ],
             [
              1,
              "#f0f921"
             ]
            ],
            "type": "histogram2d"
           }
          ],
          "histogram2dcontour": [
           {
            "colorbar": {
             "outlinewidth": 0,
             "ticks": ""
            },
            "colorscale": [
             [
              0,
              "#0d0887"
             ],
             [
              0.1111111111111111,
              "#46039f"
             ],
             [
              0.2222222222222222,
              "#7201a8"
             ],
             [
              0.3333333333333333,
              "#9c179e"
             ],
             [
              0.4444444444444444,
              "#bd3786"
             ],
             [
              0.5555555555555556,
              "#d8576b"
             ],
             [
              0.6666666666666666,
              "#ed7953"
             ],
             [
              0.7777777777777778,
              "#fb9f3a"
             ],
             [
              0.8888888888888888,
              "#fdca26"
             ],
             [
              1,
              "#f0f921"
             ]
            ],
            "type": "histogram2dcontour"
           }
          ],
          "mesh3d": [
           {
            "colorbar": {
             "outlinewidth": 0,
             "ticks": ""
            },
            "type": "mesh3d"
           }
          ],
          "parcoords": [
           {
            "line": {
             "colorbar": {
              "outlinewidth": 0,
              "ticks": ""
             }
            },
            "type": "parcoords"
           }
          ],
          "pie": [
           {
            "automargin": true,
            "type": "pie"
           }
          ],
          "scatter": [
           {
            "fillpattern": {
             "fillmode": "overlay",
             "size": 10,
             "solidity": 0.2
            },
            "type": "scatter"
           }
          ],
          "scatter3d": [
           {
            "line": {
             "colorbar": {
              "outlinewidth": 0,
              "ticks": ""
             }
            },
            "marker": {
             "colorbar": {
              "outlinewidth": 0,
              "ticks": ""
             }
            },
            "type": "scatter3d"
           }
          ],
          "scattercarpet": [
           {
            "marker": {
             "colorbar": {
              "outlinewidth": 0,
              "ticks": ""
             }
            },
            "type": "scattercarpet"
           }
          ],
          "scattergeo": [
           {
            "marker": {
             "colorbar": {
              "outlinewidth": 0,
              "ticks": ""
             }
            },
            "type": "scattergeo"
           }
          ],
          "scattergl": [
           {
            "marker": {
             "colorbar": {
              "outlinewidth": 0,
              "ticks": ""
             }
            },
            "type": "scattergl"
           }
          ],
          "scattermap": [
           {
            "marker": {
             "colorbar": {
              "outlinewidth": 0,
              "ticks": ""
             }
            },
            "type": "scattermap"
           }
          ],
          "scattermapbox": [
           {
            "marker": {
             "colorbar": {
              "outlinewidth": 0,
              "ticks": ""
             }
            },
            "type": "scattermapbox"
           }
          ],
          "scatterpolar": [
           {
            "marker": {
             "colorbar": {
              "outlinewidth": 0,
              "ticks": ""
             }
            },
            "type": "scatterpolar"
           }
          ],
          "scatterpolargl": [
           {
            "marker": {
             "colorbar": {
              "outlinewidth": 0,
              "ticks": ""
             }
            },
            "type": "scatterpolargl"
           }
          ],
          "scatterternary": [
           {
            "marker": {
             "colorbar": {
              "outlinewidth": 0,
              "ticks": ""
             }
            },
            "type": "scatterternary"
           }
          ],
          "surface": [
           {
            "colorbar": {
             "outlinewidth": 0,
             "ticks": ""
            },
            "colorscale": [
             [
              0,
              "#0d0887"
             ],
             [
              0.1111111111111111,
              "#46039f"
             ],
             [
              0.2222222222222222,
              "#7201a8"
             ],
             [
              0.3333333333333333,
              "#9c179e"
             ],
             [
              0.4444444444444444,
              "#bd3786"
             ],
             [
              0.5555555555555556,
              "#d8576b"
             ],
             [
              0.6666666666666666,
              "#ed7953"
             ],
             [
              0.7777777777777778,
              "#fb9f3a"
             ],
             [
              0.8888888888888888,
              "#fdca26"
             ],
             [
              1,
              "#f0f921"
             ]
            ],
            "type": "surface"
           }
          ],
          "table": [
           {
            "cells": {
             "fill": {
              "color": "#EBF0F8"
             },
             "line": {
              "color": "white"
             }
            },
            "header": {
             "fill": {
              "color": "#C8D4E3"
             },
             "line": {
              "color": "white"
             }
            },
            "type": "table"
           }
          ]
         },
         "layout": {
          "annotationdefaults": {
           "arrowcolor": "#2a3f5f",
           "arrowhead": 0,
           "arrowwidth": 1
          },
          "autotypenumbers": "strict",
          "coloraxis": {
           "colorbar": {
            "outlinewidth": 0,
            "ticks": ""
           }
          },
          "colorscale": {
           "diverging": [
            [
             0,
             "#8e0152"
            ],
            [
             0.1,
             "#c51b7d"
            ],
            [
             0.2,
             "#de77ae"
            ],
            [
             0.3,
             "#f1b6da"
            ],
            [
             0.4,
             "#fde0ef"
            ],
            [
             0.5,
             "#f7f7f7"
            ],
            [
             0.6,
             "#e6f5d0"
            ],
            [
             0.7,
             "#b8e186"
            ],
            [
             0.8,
             "#7fbc41"
            ],
            [
             0.9,
             "#4d9221"
            ],
            [
             1,
             "#276419"
            ]
           ],
           "sequential": [
            [
             0,
             "#0d0887"
            ],
            [
             0.1111111111111111,
             "#46039f"
            ],
            [
             0.2222222222222222,
             "#7201a8"
            ],
            [
             0.3333333333333333,
             "#9c179e"
            ],
            [
             0.4444444444444444,
             "#bd3786"
            ],
            [
             0.5555555555555556,
             "#d8576b"
            ],
            [
             0.6666666666666666,
             "#ed7953"
            ],
            [
             0.7777777777777778,
             "#fb9f3a"
            ],
            [
             0.8888888888888888,
             "#fdca26"
            ],
            [
             1,
             "#f0f921"
            ]
           ],
           "sequentialminus": [
            [
             0,
             "#0d0887"
            ],
            [
             0.1111111111111111,
             "#46039f"
            ],
            [
             0.2222222222222222,
             "#7201a8"
            ],
            [
             0.3333333333333333,
             "#9c179e"
            ],
            [
             0.4444444444444444,
             "#bd3786"
            ],
            [
             0.5555555555555556,
             "#d8576b"
            ],
            [
             0.6666666666666666,
             "#ed7953"
            ],
            [
             0.7777777777777778,
             "#fb9f3a"
            ],
            [
             0.8888888888888888,
             "#fdca26"
            ],
            [
             1,
             "#f0f921"
            ]
           ]
          },
          "colorway": [
           "#636efa",
           "#EF553B",
           "#00cc96",
           "#ab63fa",
           "#FFA15A",
           "#19d3f3",
           "#FF6692",
           "#B6E880",
           "#FF97FF",
           "#FECB52"
          ],
          "font": {
           "color": "#2a3f5f"
          },
          "geo": {
           "bgcolor": "white",
           "lakecolor": "white",
           "landcolor": "#E5ECF6",
           "showlakes": true,
           "showland": true,
           "subunitcolor": "white"
          },
          "hoverlabel": {
           "align": "left"
          },
          "hovermode": "closest",
          "mapbox": {
           "style": "light"
          },
          "paper_bgcolor": "white",
          "plot_bgcolor": "#E5ECF6",
          "polar": {
           "angularaxis": {
            "gridcolor": "white",
            "linecolor": "white",
            "ticks": ""
           },
           "bgcolor": "#E5ECF6",
           "radialaxis": {
            "gridcolor": "white",
            "linecolor": "white",
            "ticks": ""
           }
          },
          "scene": {
           "xaxis": {
            "backgroundcolor": "#E5ECF6",
            "gridcolor": "white",
            "gridwidth": 2,
            "linecolor": "white",
            "showbackground": true,
            "ticks": "",
            "zerolinecolor": "white"
           },
           "yaxis": {
            "backgroundcolor": "#E5ECF6",
            "gridcolor": "white",
            "gridwidth": 2,
            "linecolor": "white",
            "showbackground": true,
            "ticks": "",
            "zerolinecolor": "white"
           },
           "zaxis": {
            "backgroundcolor": "#E5ECF6",
            "gridcolor": "white",
            "gridwidth": 2,
            "linecolor": "white",
            "showbackground": true,
            "ticks": "",
            "zerolinecolor": "white"
           }
          },
          "shapedefaults": {
           "line": {
            "color": "#2a3f5f"
           }
          },
          "ternary": {
           "aaxis": {
            "gridcolor": "white",
            "linecolor": "white",
            "ticks": ""
           },
           "baxis": {
            "gridcolor": "white",
            "linecolor": "white",
            "ticks": ""
           },
           "bgcolor": "#E5ECF6",
           "caxis": {
            "gridcolor": "white",
            "linecolor": "white",
            "ticks": ""
           }
          },
          "title": {
           "x": 0.05
          },
          "xaxis": {
           "automargin": true,
           "gridcolor": "white",
           "linecolor": "white",
           "ticks": "",
           "title": {
            "standoff": 15
           },
           "zerolinecolor": "white",
           "zerolinewidth": 2
          },
          "yaxis": {
           "automargin": true,
           "gridcolor": "white",
           "linecolor": "white",
           "ticks": "",
           "title": {
            "standoff": 15
           },
           "zerolinecolor": "white",
           "zerolinewidth": 2
          }
         }
        },
        "title": {
         "text": "Выживаемость по порту посадки"
        },
        "xaxis": {
         "anchor": "y",
         "domain": [
          0,
          1
         ],
         "title": {
          "text": "Порт посадки"
         }
        },
        "yaxis": {
         "anchor": "x",
         "domain": [
          0,
          1
         ],
         "title": {
          "text": "count"
         }
        }
       }
      }
     },
     "metadata": {},
     "output_type": "display_data"
    }
   ],
   "source": [
    "\n",
    "embarked_survival = pd.crosstab(df['Embarked_num'], df['Survived'])\n",
    "embarked_survival_percentage = pd.crosstab(df['Embarked_num'], df['Survived'], normalize='index') * 100\n",
    "\n",
    "print(\"Выживаемость по порту посадки:\")\n",
    "print(embarked_survival)\n",
    "print(\"\\nПроцент выживаемости по порту посадки:\")\n",
    "print(embarked_survival_percentage)\n",
    "\n",
    "\n",
    "fig = px.histogram(df, x='Embarked_num', color='Survived', barmode='group',\n",
    "                   title='Выживаемость по порту посадки',\n",
    "                   labels={'Survived': 'Выжил', 'Embarked_num': 'Порт посадки'},\n",
    "                   color_discrete_sequence=['red', 'green'])\n",
    "fig.show()"
   ]
  },
  {
   "cell_type": "code",
   "execution_count": 1840,
   "id": "1436593a",
   "metadata": {},
   "outputs": [
    {
     "name": "stdout",
     "output_type": "stream",
     "text": [
      "Выживаемость по возрастным группам:\n",
      "Survived          0          1\n",
      "AgeGroup                      \n",
      "0         42.028986  57.971014\n",
      "1         57.142857  42.857143\n",
      "2         64.202335  35.797665\n",
      "3         61.574074  38.425926\n",
      "4         77.272727  22.727273\n"
     ]
    },
    {
     "data": {
      "application/vnd.plotly.v1+json": {
       "config": {
        "plotlyServerURL": "https://plot.ly"
       },
       "data": [
        {
         "alignmentgroup": "True",
         "bingroup": "x",
         "hovertemplate": "Survived=0<br>AgeGroup=%{x}<br>count=%{y}<extra></extra>",
         "legendgroup": "0",
         "marker": {
          "color": "red",
          "pattern": {
           "shape": ""
          }
         },
         "name": "0",
         "offsetgroup": "0",
         "orientation": "v",
         "showlegend": true,
         "type": "histogram",
         "x": {
          "bdata": "AgICAwACAwEAAgIAAgICAwQCAwIBAwICAgICAQACBAIAAgMAAwICAgECAgICAgICAQICAgIDAgMCBAICAgICAwIDAwECAgECBAICAAICAgMCAwICAwICAwECAgIBAgADAwMDAwIDAgICAwIBAAMDAgQAAgMBAgMCAwICAAMDAwICAwICAgIDAAICAgICAwICAwICAgECAgMCAgMCAgICAgIDAgMCAgQCAwIDAwIDAQMDAwIABAIBAwICAwICAwIAAgICAgIDAwICAgQDAwECAgMCAgMDAgMBAgICAwMCAwICAgECAgACAgICAgEAAgICAgMCAgICAgIDAgICAgICAgACAgICAQICAQMCBAICAgMCAgIEAgIDAwIDAgMCAgMCAwICAgACAwIDAgICAwQCAgICAgECAgMBAgICAwICAgICAwMDAgIBAgMCAAADBAICAgQDAgMCAgICAgICAQICAwMCAwICAgMCAwMDAgIDAwMCAwICAgICAgICAgQDAgIDAwACAgMCAgACAgICAQICAgIDAwMDAgICAwIEAgECAwICAQMCAQIBAgMDAwMDAQICAwMCAwICAgECAwICAgACAgICAwICAwIEAQICAgICAQICAwEDAgICAgMDAgECAgICAgIAAwIBAgMCAwICAgIDAQMCAwIAAgMCAgMAAwACAgICAQICAgECAQMCAgIABAADAgMCAgICAgICAwICAgICAgIDAgIC",
          "dtype": "i1"
         },
         "xaxis": "x",
         "yaxis": "y"
        },
        {
         "alignmentgroup": "True",
         "bingroup": "x",
         "hovertemplate": "Survived=1<br>AgeGroup=%{x}<br>count=%{y}<extra></extra>",
         "legendgroup": "1",
         "marker": {
          "color": "green",
          "pattern": {
           "shape": ""
          }
         },
         "name": "1",
         "offsetgroup": "1",
         "orientation": "v",
         "showlegend": true,
         "type": "histogram",
         "x": {
          "bdata": "AwICAgEAAwMCAgIBAgMCAgICAQACAgMCAwIAAwICAQIAAgICAQICAgICAgICAAICAgICAgICAQMAAgAAAAIDAgIAAwMCAQIBAwICAgIBAwICAAACAgMCAgICAwACAwICAwIEAgICAwICAgMDAgICAAIBAgIBAgICAwICAwMCAQICAwMAAgIDAgACAgIDAgICAgICAwACAwEDAgICAgMAAgMCAQICAgICAwECAwICAAECAAMDAgIDAwACAgAEAgIAAwECAwICAwMCAwIDAwACAAICAwICAgABAgIDAwMCBAMDAgIDAgIDAQMDAgMCAgICAwICAAMCAgQCAgICAAMDAgECAwICAwIBAwIBAgACAgECAwMCAgIDAwIAAgICAgIDAgICAAADAAICAwMDAAMBAQEAAwICAAACAgMCAgACBAEAAwIDAgIBAQMDAgMDAgADAgEDAgIC",
          "dtype": "i1"
         },
         "xaxis": "x",
         "yaxis": "y"
        }
       ],
       "layout": {
        "barmode": "group",
        "legend": {
         "title": {
          "text": "Survived"
         },
         "tracegroupgap": 0
        },
        "template": {
         "data": {
          "bar": [
           {
            "error_x": {
             "color": "#2a3f5f"
            },
            "error_y": {
             "color": "#2a3f5f"
            },
            "marker": {
             "line": {
              "color": "#E5ECF6",
              "width": 0.5
             },
             "pattern": {
              "fillmode": "overlay",
              "size": 10,
              "solidity": 0.2
             }
            },
            "type": "bar"
           }
          ],
          "barpolar": [
           {
            "marker": {
             "line": {
              "color": "#E5ECF6",
              "width": 0.5
             },
             "pattern": {
              "fillmode": "overlay",
              "size": 10,
              "solidity": 0.2
             }
            },
            "type": "barpolar"
           }
          ],
          "carpet": [
           {
            "aaxis": {
             "endlinecolor": "#2a3f5f",
             "gridcolor": "white",
             "linecolor": "white",
             "minorgridcolor": "white",
             "startlinecolor": "#2a3f5f"
            },
            "baxis": {
             "endlinecolor": "#2a3f5f",
             "gridcolor": "white",
             "linecolor": "white",
             "minorgridcolor": "white",
             "startlinecolor": "#2a3f5f"
            },
            "type": "carpet"
           }
          ],
          "choropleth": [
           {
            "colorbar": {
             "outlinewidth": 0,
             "ticks": ""
            },
            "type": "choropleth"
           }
          ],
          "contour": [
           {
            "colorbar": {
             "outlinewidth": 0,
             "ticks": ""
            },
            "colorscale": [
             [
              0,
              "#0d0887"
             ],
             [
              0.1111111111111111,
              "#46039f"
             ],
             [
              0.2222222222222222,
              "#7201a8"
             ],
             [
              0.3333333333333333,
              "#9c179e"
             ],
             [
              0.4444444444444444,
              "#bd3786"
             ],
             [
              0.5555555555555556,
              "#d8576b"
             ],
             [
              0.6666666666666666,
              "#ed7953"
             ],
             [
              0.7777777777777778,
              "#fb9f3a"
             ],
             [
              0.8888888888888888,
              "#fdca26"
             ],
             [
              1,
              "#f0f921"
             ]
            ],
            "type": "contour"
           }
          ],
          "contourcarpet": [
           {
            "colorbar": {
             "outlinewidth": 0,
             "ticks": ""
            },
            "type": "contourcarpet"
           }
          ],
          "heatmap": [
           {
            "colorbar": {
             "outlinewidth": 0,
             "ticks": ""
            },
            "colorscale": [
             [
              0,
              "#0d0887"
             ],
             [
              0.1111111111111111,
              "#46039f"
             ],
             [
              0.2222222222222222,
              "#7201a8"
             ],
             [
              0.3333333333333333,
              "#9c179e"
             ],
             [
              0.4444444444444444,
              "#bd3786"
             ],
             [
              0.5555555555555556,
              "#d8576b"
             ],
             [
              0.6666666666666666,
              "#ed7953"
             ],
             [
              0.7777777777777778,
              "#fb9f3a"
             ],
             [
              0.8888888888888888,
              "#fdca26"
             ],
             [
              1,
              "#f0f921"
             ]
            ],
            "type": "heatmap"
           }
          ],
          "histogram": [
           {
            "marker": {
             "pattern": {
              "fillmode": "overlay",
              "size": 10,
              "solidity": 0.2
             }
            },
            "type": "histogram"
           }
          ],
          "histogram2d": [
           {
            "colorbar": {
             "outlinewidth": 0,
             "ticks": ""
            },
            "colorscale": [
             [
              0,
              "#0d0887"
             ],
             [
              0.1111111111111111,
              "#46039f"
             ],
             [
              0.2222222222222222,
              "#7201a8"
             ],
             [
              0.3333333333333333,
              "#9c179e"
             ],
             [
              0.4444444444444444,
              "#bd3786"
             ],
             [
              0.5555555555555556,
              "#d8576b"
             ],
             [
              0.6666666666666666,
              "#ed7953"
             ],
             [
              0.7777777777777778,
              "#fb9f3a"
             ],
             [
              0.8888888888888888,
              "#fdca26"
             ],
             [
              1,
              "#f0f921"
             ]
            ],
            "type": "histogram2d"
           }
          ],
          "histogram2dcontour": [
           {
            "colorbar": {
             "outlinewidth": 0,
             "ticks": ""
            },
            "colorscale": [
             [
              0,
              "#0d0887"
             ],
             [
              0.1111111111111111,
              "#46039f"
             ],
             [
              0.2222222222222222,
              "#7201a8"
             ],
             [
              0.3333333333333333,
              "#9c179e"
             ],
             [
              0.4444444444444444,
              "#bd3786"
             ],
             [
              0.5555555555555556,
              "#d8576b"
             ],
             [
              0.6666666666666666,
              "#ed7953"
             ],
             [
              0.7777777777777778,
              "#fb9f3a"
             ],
             [
              0.8888888888888888,
              "#fdca26"
             ],
             [
              1,
              "#f0f921"
             ]
            ],
            "type": "histogram2dcontour"
           }
          ],
          "mesh3d": [
           {
            "colorbar": {
             "outlinewidth": 0,
             "ticks": ""
            },
            "type": "mesh3d"
           }
          ],
          "parcoords": [
           {
            "line": {
             "colorbar": {
              "outlinewidth": 0,
              "ticks": ""
             }
            },
            "type": "parcoords"
           }
          ],
          "pie": [
           {
            "automargin": true,
            "type": "pie"
           }
          ],
          "scatter": [
           {
            "fillpattern": {
             "fillmode": "overlay",
             "size": 10,
             "solidity": 0.2
            },
            "type": "scatter"
           }
          ],
          "scatter3d": [
           {
            "line": {
             "colorbar": {
              "outlinewidth": 0,
              "ticks": ""
             }
            },
            "marker": {
             "colorbar": {
              "outlinewidth": 0,
              "ticks": ""
             }
            },
            "type": "scatter3d"
           }
          ],
          "scattercarpet": [
           {
            "marker": {
             "colorbar": {
              "outlinewidth": 0,
              "ticks": ""
             }
            },
            "type": "scattercarpet"
           }
          ],
          "scattergeo": [
           {
            "marker": {
             "colorbar": {
              "outlinewidth": 0,
              "ticks": ""
             }
            },
            "type": "scattergeo"
           }
          ],
          "scattergl": [
           {
            "marker": {
             "colorbar": {
              "outlinewidth": 0,
              "ticks": ""
             }
            },
            "type": "scattergl"
           }
          ],
          "scattermap": [
           {
            "marker": {
             "colorbar": {
              "outlinewidth": 0,
              "ticks": ""
             }
            },
            "type": "scattermap"
           }
          ],
          "scattermapbox": [
           {
            "marker": {
             "colorbar": {
              "outlinewidth": 0,
              "ticks": ""
             }
            },
            "type": "scattermapbox"
           }
          ],
          "scatterpolar": [
           {
            "marker": {
             "colorbar": {
              "outlinewidth": 0,
              "ticks": ""
             }
            },
            "type": "scatterpolar"
           }
          ],
          "scatterpolargl": [
           {
            "marker": {
             "colorbar": {
              "outlinewidth": 0,
              "ticks": ""
             }
            },
            "type": "scatterpolargl"
           }
          ],
          "scatterternary": [
           {
            "marker": {
             "colorbar": {
              "outlinewidth": 0,
              "ticks": ""
             }
            },
            "type": "scatterternary"
           }
          ],
          "surface": [
           {
            "colorbar": {
             "outlinewidth": 0,
             "ticks": ""
            },
            "colorscale": [
             [
              0,
              "#0d0887"
             ],
             [
              0.1111111111111111,
              "#46039f"
             ],
             [
              0.2222222222222222,
              "#7201a8"
             ],
             [
              0.3333333333333333,
              "#9c179e"
             ],
             [
              0.4444444444444444,
              "#bd3786"
             ],
             [
              0.5555555555555556,
              "#d8576b"
             ],
             [
              0.6666666666666666,
              "#ed7953"
             ],
             [
              0.7777777777777778,
              "#fb9f3a"
             ],
             [
              0.8888888888888888,
              "#fdca26"
             ],
             [
              1,
              "#f0f921"
             ]
            ],
            "type": "surface"
           }
          ],
          "table": [
           {
            "cells": {
             "fill": {
              "color": "#EBF0F8"
             },
             "line": {
              "color": "white"
             }
            },
            "header": {
             "fill": {
              "color": "#C8D4E3"
             },
             "line": {
              "color": "white"
             }
            },
            "type": "table"
           }
          ]
         },
         "layout": {
          "annotationdefaults": {
           "arrowcolor": "#2a3f5f",
           "arrowhead": 0,
           "arrowwidth": 1
          },
          "autotypenumbers": "strict",
          "coloraxis": {
           "colorbar": {
            "outlinewidth": 0,
            "ticks": ""
           }
          },
          "colorscale": {
           "diverging": [
            [
             0,
             "#8e0152"
            ],
            [
             0.1,
             "#c51b7d"
            ],
            [
             0.2,
             "#de77ae"
            ],
            [
             0.3,
             "#f1b6da"
            ],
            [
             0.4,
             "#fde0ef"
            ],
            [
             0.5,
             "#f7f7f7"
            ],
            [
             0.6,
             "#e6f5d0"
            ],
            [
             0.7,
             "#b8e186"
            ],
            [
             0.8,
             "#7fbc41"
            ],
            [
             0.9,
             "#4d9221"
            ],
            [
             1,
             "#276419"
            ]
           ],
           "sequential": [
            [
             0,
             "#0d0887"
            ],
            [
             0.1111111111111111,
             "#46039f"
            ],
            [
             0.2222222222222222,
             "#7201a8"
            ],
            [
             0.3333333333333333,
             "#9c179e"
            ],
            [
             0.4444444444444444,
             "#bd3786"
            ],
            [
             0.5555555555555556,
             "#d8576b"
            ],
            [
             0.6666666666666666,
             "#ed7953"
            ],
            [
             0.7777777777777778,
             "#fb9f3a"
            ],
            [
             0.8888888888888888,
             "#fdca26"
            ],
            [
             1,
             "#f0f921"
            ]
           ],
           "sequentialminus": [
            [
             0,
             "#0d0887"
            ],
            [
             0.1111111111111111,
             "#46039f"
            ],
            [
             0.2222222222222222,
             "#7201a8"
            ],
            [
             0.3333333333333333,
             "#9c179e"
            ],
            [
             0.4444444444444444,
             "#bd3786"
            ],
            [
             0.5555555555555556,
             "#d8576b"
            ],
            [
             0.6666666666666666,
             "#ed7953"
            ],
            [
             0.7777777777777778,
             "#fb9f3a"
            ],
            [
             0.8888888888888888,
             "#fdca26"
            ],
            [
             1,
             "#f0f921"
            ]
           ]
          },
          "colorway": [
           "#636efa",
           "#EF553B",
           "#00cc96",
           "#ab63fa",
           "#FFA15A",
           "#19d3f3",
           "#FF6692",
           "#B6E880",
           "#FF97FF",
           "#FECB52"
          ],
          "font": {
           "color": "#2a3f5f"
          },
          "geo": {
           "bgcolor": "white",
           "lakecolor": "white",
           "landcolor": "#E5ECF6",
           "showlakes": true,
           "showland": true,
           "subunitcolor": "white"
          },
          "hoverlabel": {
           "align": "left"
          },
          "hovermode": "closest",
          "mapbox": {
           "style": "light"
          },
          "paper_bgcolor": "white",
          "plot_bgcolor": "#E5ECF6",
          "polar": {
           "angularaxis": {
            "gridcolor": "white",
            "linecolor": "white",
            "ticks": ""
           },
           "bgcolor": "#E5ECF6",
           "radialaxis": {
            "gridcolor": "white",
            "linecolor": "white",
            "ticks": ""
           }
          },
          "scene": {
           "xaxis": {
            "backgroundcolor": "#E5ECF6",
            "gridcolor": "white",
            "gridwidth": 2,
            "linecolor": "white",
            "showbackground": true,
            "ticks": "",
            "zerolinecolor": "white"
           },
           "yaxis": {
            "backgroundcolor": "#E5ECF6",
            "gridcolor": "white",
            "gridwidth": 2,
            "linecolor": "white",
            "showbackground": true,
            "ticks": "",
            "zerolinecolor": "white"
           },
           "zaxis": {
            "backgroundcolor": "#E5ECF6",
            "gridcolor": "white",
            "gridwidth": 2,
            "linecolor": "white",
            "showbackground": true,
            "ticks": "",
            "zerolinecolor": "white"
           }
          },
          "shapedefaults": {
           "line": {
            "color": "#2a3f5f"
           }
          },
          "ternary": {
           "aaxis": {
            "gridcolor": "white",
            "linecolor": "white",
            "ticks": ""
           },
           "baxis": {
            "gridcolor": "white",
            "linecolor": "white",
            "ticks": ""
           },
           "bgcolor": "#E5ECF6",
           "caxis": {
            "gridcolor": "white",
            "linecolor": "white",
            "ticks": ""
           }
          },
          "title": {
           "x": 0.05
          },
          "xaxis": {
           "automargin": true,
           "gridcolor": "white",
           "linecolor": "white",
           "ticks": "",
           "title": {
            "standoff": 15
           },
           "zerolinecolor": "white",
           "zerolinewidth": 2
          },
          "yaxis": {
           "automargin": true,
           "gridcolor": "white",
           "linecolor": "white",
           "ticks": "",
           "title": {
            "standoff": 15
           },
           "zerolinecolor": "white",
           "zerolinewidth": 2
          }
         }
        },
        "title": {
         "text": "Выживаемость по возрастным группам"
        },
        "xaxis": {
         "anchor": "y",
         "domain": [
          0,
          1
         ],
         "title": {
          "text": "AgeGroup"
         }
        },
        "yaxis": {
         "anchor": "x",
         "domain": [
          0,
          1
         ],
         "title": {
          "text": "count"
         }
        }
       }
      }
     },
     "metadata": {},
     "output_type": "display_data"
    }
   ],
   "source": [
    "# Анализ по возрастным группам\n",
    "\n",
    "df['AgeGroup'] = pd.cut(df['Age'], \n",
    "                             bins=[0, 12, 18, 35, 60, 100], \n",
    "                             labels=[0, 1, 2, 3, 4])\n",
    "\n",
    "# Анализ выживаемости по возрастным группам\n",
    "agegroup_survival = pd.crosstab(df['AgeGroup'], df['Survived'], normalize='index') * 100\n",
    "\n",
    "print(\"Выживаемость по возрастным группам:\")\n",
    "print(agegroup_survival)\n",
    "\n",
    "# Визуализация\n",
    "fig = px.histogram(df, x='AgeGroup', color='Survived', barmode='group',\n",
    "                   title='Выживаемость по возрастным группам',\n",
    "                   color_discrete_sequence=['red', 'green'])\n",
    "fig.show()"
   ]
  },
  {
   "cell_type": "markdown",
   "id": "b33def54",
   "metadata": {},
   "source": [
    "Выводы: \n",
    "1. Чем выше класс , тем выше вероятность выжить. Во втором классе 50/50\n",
    "1.1. Чем выше стоимость билета, тем выше вероятность выжить\n",
    "2. До 12 лет вероятность выжить самая высокая, после 60 самая низкая\n",
    "3. Если сесть на вокзале \"С\", то вероятность выжить больше, чем на других вокзалах\n",
    "4. Мужчины умерали чаще, чем женщины"
   ]
  },
  {
   "cell_type": "markdown",
   "id": "0f5eca75",
   "metadata": {},
   "source": [
    "Модель выживаемости"
   ]
  },
  {
   "cell_type": "code",
   "execution_count": 1841,
   "id": "e6d3bfd4",
   "metadata": {},
   "outputs": [],
   "source": [
    "def predict_survival_probability(passenger_row):\n",
    "    \"\"\"\n",
    "    Предсказывает вероятность выживания.\n",
    "    Работает со строкой датасета pandas.\n",
    "    \n",
    "    Parameters:\n",
    "    passenger_row (pd.Series): Строка датасета с данными пассажира.\n",
    "                               Должна содержать колонки: Sex, Pclass, Age, \n",
    "                               Embarked\n",
    "    \n",
    "    Returns:\n",
    "    float: Вероятность выживания от 0.0 до 1.0\n",
    "    \"\"\"\n",
    "    \n",
    "    # Базовые вероятности выживания из исторических данных\n",
    "    base_probability = 0.38  # Общая вероятность выживания\n",
    "    \n",
    "    # Модификаторы на основе факторов\n",
    "    modifiers = 0.0\n",
    "    weight_sex = 0.9\n",
    "    weight_pclass = 0.8\n",
    "    weight_age = 0.7\n",
    "    weight_embarked = 0.6\n",
    "\n",
    "    max_probability = 0.74*weight_sex + 0.6*weight_pclass + 0.6*weight_age + 0.5*weight_embarked\n",
    "    \n",
    "    # 1. Пол \n",
    "    sex = passenger_row.get('Sex')\n",
    "    if pd.notna(sex):\n",
    "        if sex == 'female':\n",
    "            modifiers += 0.74  # Женщины имели высокий шанс выживания\n",
    "        elif sex == 'male':\n",
    "            modifiers += 0.18  # Мужчины имели низкий шанс\n",
    "        modifiers *= weight_sex\n",
    "    \n",
    "    # 2. Класс\n",
    "    pclass = passenger_row.get('Pclass')\n",
    "    if pd.notna(pclass):\n",
    "        if pclass == 1:\n",
    "            modifiers += 0.6  # Первый класс - высокий шанс\n",
    "        elif pclass == 2:\n",
    "            modifiers += 0.4  # Второй класс - средний шанс\n",
    "        elif pclass == 3:\n",
    "            modifiers += 0.2  # Третий класс - низкий шанс\n",
    "        modifiers *= weight_pclass\n",
    "    \n",
    "    # 3. Возраст\n",
    "    age = passenger_row.get('Age')\n",
    "    if pd.notna(age):\n",
    "        if age < 12:  # Дети\n",
    "            modifiers += 0.60\n",
    "        elif age > 60:  # Пожилые\n",
    "            modifiers -= 0.20\n",
    "        modifiers *= weight_age\n",
    "    \n",
    "    # 4. Порт посадки (опционально)\n",
    "    embarked = passenger_row.get('Embarked')\n",
    "    if pd.notna(embarked):\n",
    "        if embarked == 'C':  \n",
    "            modifiers += 0.5\n",
    "        modifiers *= weight_embarked\n",
    "\n",
    "    \n",
    "    # Вычисляем итоговую вероятность\n",
    "    probability = base_probability + modifiers\n",
    "    \n",
    "    # Ограничиваем вероятность в диапазоне [0, 1]\n",
    "    probability =  probability/max_probability\n",
    "    \n",
    "    return round(probability, 2)"
   ]
  },
  {
   "cell_type": "code",
   "execution_count": 1842,
   "id": "25097d6f",
   "metadata": {},
   "outputs": [
    {
     "name": "stdout",
     "output_type": "stream",
     "text": [
      "Пассажир 1: 27.0%\n",
      "  Данные: {'PassengerId': 1, 'Survived': 0, 'Pclass': 3, 'Name': 'Braund, Mr. Owen Harris', 'Sex': 'male', 'Age': 22.0, 'SibSp': 1, 'Parch': 0, 'Ticket': 'A/5 21171', 'Fare': 7.25, 'Cabin': nan, 'Embarked': 'S'}\n",
      "\n",
      "Пассажир 2: 59.0%\n",
      "  Данные: {'PassengerId': 2, 'Survived': 1, 'Pclass': 1, 'Name': 'Cumings, Mrs. John Bradley (Florence Briggs Thayer)', 'Sex': 'female', 'Age': 38.0, 'SibSp': 1, 'Parch': 0, 'Ticket': 'PC 17599', 'Fare': 71.2833, 'Cabin': 'C85', 'Embarked': 'C'}\n",
      "\n",
      "Пассажир 3: 36.0%\n",
      "  Данные: {'PassengerId': 3, 'Survived': 1, 'Pclass': 3, 'Name': 'Heikkinen, Miss. Laina', 'Sex': 'female', 'Age': 26.0, 'SibSp': 0, 'Parch': 0, 'Ticket': 'STON/O2. 3101282', 'Fare': 7.925, 'Cabin': nan, 'Embarked': 'S'}\n",
      "\n",
      "Пассажир 4: 43.0%\n",
      "  Данные: {'PassengerId': 4, 'Survived': 1, 'Pclass': 1, 'Name': 'Futrelle, Mrs. Jacques Heath (Lily May Peel)', 'Sex': 'female', 'Age': 35.0, 'SibSp': 1, 'Parch': 0, 'Ticket': '113803', 'Fare': 53.1, 'Cabin': 'C123', 'Embarked': 'S'}\n",
      "\n",
      "Пассажир 5: 27.0%\n",
      "  Данные: {'PassengerId': 5, 'Survived': 0, 'Pclass': 3, 'Name': 'Allen, Mr. William Henry', 'Sex': 'male', 'Age': 35.0, 'SibSp': 0, 'Parch': 0, 'Ticket': '373450', 'Fare': 8.05, 'Cabin': nan, 'Embarked': 'S'}\n",
      "\n",
      "Пассажир 6: 30.0%\n",
      "  Данные: {'PassengerId': 6, 'Survived': 0, 'Pclass': 3, 'Name': 'Moran, Mr. James', 'Sex': 'male', 'Age': nan, 'SibSp': 0, 'Parch': 0, 'Ticket': '330877', 'Fare': 8.4583, 'Cabin': nan, 'Embarked': 'Q'}\n",
      "\n",
      "Пассажир 7: 34.0%\n",
      "  Данные: {'PassengerId': 7, 'Survived': 0, 'Pclass': 1, 'Name': 'McCarthy, Mr. Timothy J', 'Sex': 'male', 'Age': 54.0, 'SibSp': 0, 'Parch': 0, 'Ticket': '17463', 'Fare': 51.8625, 'Cabin': 'E46', 'Embarked': 'S'}\n",
      "\n",
      "Пассажир 8: 40.0%\n",
      "  Данные: {'PassengerId': 8, 'Survived': 0, 'Pclass': 3, 'Name': 'Palsson, Master. Gosta Leonard', 'Sex': 'male', 'Age': 2.0, 'SibSp': 3, 'Parch': 1, 'Ticket': '349909', 'Fare': 21.075, 'Cabin': nan, 'Embarked': 'S'}\n",
      "\n",
      "Пассажир 9: 36.0%\n",
      "  Данные: {'PassengerId': 9, 'Survived': 1, 'Pclass': 3, 'Name': 'Johnson, Mrs. Oscar W (Elisabeth Vilhelmina Berg)', 'Sex': 'female', 'Age': 27.0, 'SibSp': 0, 'Parch': 2, 'Ticket': '347742', 'Fare': 11.1333, 'Cabin': nan, 'Embarked': 'S'}\n",
      "\n",
      "Пассажир 10: 56.00000000000001%\n",
      "  Данные: {'PassengerId': 10, 'Survived': 1, 'Pclass': 2, 'Name': 'Nasser, Mrs. Nicholas (Adele Achem)', 'Sex': 'female', 'Age': 14.0, 'SibSp': 1, 'Parch': 0, 'Ticket': '237736', 'Fare': 30.0708, 'Cabin': nan, 'Embarked': 'C'}\n",
      "\n",
      "Пассажир 11: 49.0%\n",
      "  Данные: {'PassengerId': 11, 'Survived': 1, 'Pclass': 3, 'Name': 'Sandstrom, Miss. Marguerite Rut', 'Sex': 'female', 'Age': 4.0, 'SibSp': 1, 'Parch': 1, 'Ticket': 'PP 9549', 'Fare': 16.7, 'Cabin': 'G6', 'Embarked': 'S'}\n",
      "\n",
      "Пассажир 12: 43.0%\n",
      "  Данные: {'PassengerId': 12, 'Survived': 1, 'Pclass': 1, 'Name': 'Bonnell, Miss. Elizabeth', 'Sex': 'female', 'Age': 58.0, 'SibSp': 0, 'Parch': 0, 'Ticket': '113783', 'Fare': 26.55, 'Cabin': 'C103', 'Embarked': 'S'}\n",
      "\n",
      "Пассажир 13: 27.0%\n",
      "  Данные: {'PassengerId': 13, 'Survived': 0, 'Pclass': 3, 'Name': 'Saundercock, Mr. William Henry', 'Sex': 'male', 'Age': 20.0, 'SibSp': 0, 'Parch': 0, 'Ticket': 'A/5. 2151', 'Fare': 8.05, 'Cabin': nan, 'Embarked': 'S'}\n",
      "\n",
      "Пассажир 14: 27.0%\n",
      "  Данные: {'PassengerId': 14, 'Survived': 0, 'Pclass': 3, 'Name': 'Andersson, Mr. Anders Johan', 'Sex': 'male', 'Age': 39.0, 'SibSp': 1, 'Parch': 5, 'Ticket': '347082', 'Fare': 31.275, 'Cabin': nan, 'Embarked': 'S'}\n",
      "\n",
      "Пассажир 15: 36.0%\n",
      "  Данные: {'PassengerId': 15, 'Survived': 0, 'Pclass': 3, 'Name': 'Vestrom, Miss. Hulda Amanda Adolfina', 'Sex': 'female', 'Age': 14.0, 'SibSp': 0, 'Parch': 0, 'Ticket': '350406', 'Fare': 7.8542, 'Cabin': nan, 'Embarked': 'S'}\n",
      "\n",
      "Пассажир 16: 40.0%\n",
      "  Данные: {'PassengerId': 16, 'Survived': 1, 'Pclass': 2, 'Name': 'Hewlett, Mrs. (Mary D Kingcome) ', 'Sex': 'female', 'Age': 55.0, 'SibSp': 0, 'Parch': 0, 'Ticket': '248706', 'Fare': 16.0, 'Cabin': nan, 'Embarked': 'S'}\n",
      "\n",
      "Пассажир 17: 40.0%\n",
      "  Данные: {'PassengerId': 17, 'Survived': 0, 'Pclass': 3, 'Name': 'Rice, Master. Eugene', 'Sex': 'male', 'Age': 2.0, 'SibSp': 4, 'Parch': 1, 'Ticket': '382652', 'Fare': 29.125, 'Cabin': nan, 'Embarked': 'Q'}\n",
      "\n",
      "Пассажир 18: 35.0%\n",
      "  Данные: {'PassengerId': 18, 'Survived': 1, 'Pclass': 2, 'Name': 'Williams, Mr. Charles Eugene', 'Sex': 'male', 'Age': nan, 'SibSp': 0, 'Parch': 0, 'Ticket': '244373', 'Fare': 13.0, 'Cabin': nan, 'Embarked': 'S'}\n",
      "\n",
      "Пассажир 19: 36.0%\n",
      "  Данные: {'PassengerId': 19, 'Survived': 0, 'Pclass': 3, 'Name': 'Vander Planke, Mrs. Julius (Emelia Maria Vandemoortele)', 'Sex': 'female', 'Age': 31.0, 'SibSp': 1, 'Parch': 0, 'Ticket': '345763', 'Fare': 18.0, 'Cabin': nan, 'Embarked': 'S'}\n",
      "\n",
      "Пассажир 20: 59.0%\n",
      "  Данные: {'PassengerId': 20, 'Survived': 1, 'Pclass': 3, 'Name': 'Masselmani, Mrs. Fatima', 'Sex': 'female', 'Age': nan, 'SibSp': 0, 'Parch': 0, 'Ticket': '2649', 'Fare': 7.225, 'Cabin': nan, 'Embarked': 'C'}\n",
      "\n",
      "Пассажир 21: 30.0%\n",
      "  Данные: {'PassengerId': 21, 'Survived': 0, 'Pclass': 2, 'Name': 'Fynney, Mr. Joseph J', 'Sex': 'male', 'Age': 35.0, 'SibSp': 0, 'Parch': 0, 'Ticket': '239865', 'Fare': 26.0, 'Cabin': nan, 'Embarked': 'S'}\n",
      "\n",
      "Пассажир 22: 30.0%\n",
      "  Данные: {'PassengerId': 22, 'Survived': 1, 'Pclass': 2, 'Name': 'Beesley, Mr. Lawrence', 'Sex': 'male', 'Age': 34.0, 'SibSp': 0, 'Parch': 0, 'Ticket': '248698', 'Fare': 13.0, 'Cabin': 'D56', 'Embarked': 'S'}\n",
      "\n",
      "Пассажир 23: 36.0%\n",
      "  Данные: {'PassengerId': 23, 'Survived': 1, 'Pclass': 3, 'Name': 'McGowan, Miss. Anna \"Annie\"', 'Sex': 'female', 'Age': 15.0, 'SibSp': 0, 'Parch': 0, 'Ticket': '330923', 'Fare': 8.0292, 'Cabin': nan, 'Embarked': 'Q'}\n",
      "\n",
      "Пассажир 24: 34.0%\n",
      "  Данные: {'PassengerId': 24, 'Survived': 1, 'Pclass': 1, 'Name': 'Sloper, Mr. William Thompson', 'Sex': 'male', 'Age': 28.0, 'SibSp': 0, 'Parch': 0, 'Ticket': '113788', 'Fare': 35.5, 'Cabin': 'A6', 'Embarked': 'S'}\n",
      "\n",
      "Пассажир 25: 49.0%\n",
      "  Данные: {'PassengerId': 25, 'Survived': 0, 'Pclass': 3, 'Name': 'Palsson, Miss. Torborg Danira', 'Sex': 'female', 'Age': 8.0, 'SibSp': 3, 'Parch': 1, 'Ticket': '349909', 'Fare': 21.075, 'Cabin': nan, 'Embarked': 'S'}\n",
      "\n",
      "Пассажир 26: 36.0%\n",
      "  Данные: {'PassengerId': 26, 'Survived': 1, 'Pclass': 3, 'Name': 'Asplund, Mrs. Carl Oscar (Selma Augusta Emilia Johansson)', 'Sex': 'female', 'Age': 38.0, 'SibSp': 1, 'Parch': 5, 'Ticket': '347077', 'Fare': 31.3875, 'Cabin': nan, 'Embarked': 'S'}\n",
      "\n",
      "Пассажир 27: 46.0%\n",
      "  Данные: {'PassengerId': 27, 'Survived': 0, 'Pclass': 3, 'Name': 'Emir, Mr. Farred Chehab', 'Sex': 'male', 'Age': nan, 'SibSp': 0, 'Parch': 0, 'Ticket': '2631', 'Fare': 7.225, 'Cabin': nan, 'Embarked': 'C'}\n",
      "\n",
      "Пассажир 28: 34.0%\n",
      "  Данные: {'PassengerId': 28, 'Survived': 0, 'Pclass': 1, 'Name': 'Fortune, Mr. Charles Alexander', 'Sex': 'male', 'Age': 19.0, 'SibSp': 3, 'Parch': 2, 'Ticket': '19950', 'Fare': 263.0, 'Cabin': 'C23 C25 C27', 'Embarked': 'S'}\n",
      "\n",
      "Пассажир 29: 43.0%\n",
      "  Данные: {'PassengerId': 29, 'Survived': 1, 'Pclass': 3, 'Name': 'O\\'Dwyer, Miss. Ellen \"Nellie\"', 'Sex': 'female', 'Age': nan, 'SibSp': 0, 'Parch': 0, 'Ticket': '330959', 'Fare': 7.8792, 'Cabin': nan, 'Embarked': 'Q'}\n",
      "\n",
      "Пассажир 30: 30.0%\n",
      "  Данные: {'PassengerId': 30, 'Survived': 0, 'Pclass': 3, 'Name': 'Todoroff, Mr. Lalio', 'Sex': 'male', 'Age': nan, 'SibSp': 0, 'Parch': 0, 'Ticket': '349216', 'Fare': 7.8958, 'Cabin': nan, 'Embarked': 'S'}\n",
      "\n",
      "Пассажир 31: 50.0%\n",
      "  Данные: {'PassengerId': 31, 'Survived': 0, 'Pclass': 1, 'Name': 'Uruchurtu, Don. Manuel E', 'Sex': 'male', 'Age': 40.0, 'SibSp': 0, 'Parch': 0, 'Ticket': 'PC 17601', 'Fare': 27.7208, 'Cabin': nan, 'Embarked': 'C'}\n",
      "\n",
      "Пассажир 32: 69.0%\n",
      "  Данные: {'PassengerId': 32, 'Survived': 1, 'Pclass': 1, 'Name': 'Spencer, Mrs. William Augustus (Marie Eugenie)', 'Sex': 'female', 'Age': nan, 'SibSp': 1, 'Parch': 0, 'Ticket': 'PC 17569', 'Fare': 146.5208, 'Cabin': 'B78', 'Embarked': 'C'}\n",
      "\n",
      "Пассажир 33: 43.0%\n",
      "  Данные: {'PassengerId': 33, 'Survived': 1, 'Pclass': 3, 'Name': 'Glynn, Miss. Mary Agatha', 'Sex': 'female', 'Age': nan, 'SibSp': 0, 'Parch': 0, 'Ticket': '335677', 'Fare': 7.75, 'Cabin': nan, 'Embarked': 'Q'}\n",
      "\n",
      "Пассажир 34: 26.0%\n",
      "  Данные: {'PassengerId': 34, 'Survived': 0, 'Pclass': 2, 'Name': 'Wheadon, Mr. Edward H', 'Sex': 'male', 'Age': 66.0, 'SibSp': 0, 'Parch': 0, 'Ticket': 'C.A. 24579', 'Fare': 10.5, 'Cabin': nan, 'Embarked': 'S'}\n",
      "\n",
      "Пассажир 35: 50.0%\n",
      "  Данные: {'PassengerId': 35, 'Survived': 0, 'Pclass': 1, 'Name': 'Meyer, Mr. Edgar Joseph', 'Sex': 'male', 'Age': 28.0, 'SibSp': 1, 'Parch': 0, 'Ticket': 'PC 17604', 'Fare': 82.1708, 'Cabin': nan, 'Embarked': 'C'}\n",
      "\n",
      "Пассажир 36: 34.0%\n",
      "  Данные: {'PassengerId': 36, 'Survived': 0, 'Pclass': 1, 'Name': 'Holverson, Mr. Alexander Oskar', 'Sex': 'male', 'Age': 42.0, 'SibSp': 1, 'Parch': 0, 'Ticket': '113789', 'Fare': 52.0, 'Cabin': nan, 'Embarked': 'S'}\n",
      "\n",
      "Пассажир 37: 46.0%\n",
      "  Данные: {'PassengerId': 37, 'Survived': 1, 'Pclass': 3, 'Name': 'Mamee, Mr. Hanna', 'Sex': 'male', 'Age': nan, 'SibSp': 0, 'Parch': 0, 'Ticket': '2677', 'Fare': 7.2292, 'Cabin': nan, 'Embarked': 'C'}\n",
      "\n",
      "Пассажир 38: 27.0%\n",
      "  Данные: {'PassengerId': 38, 'Survived': 0, 'Pclass': 3, 'Name': 'Cann, Mr. Ernest Charles', 'Sex': 'male', 'Age': 21.0, 'SibSp': 0, 'Parch': 0, 'Ticket': 'A./5. 2152', 'Fare': 8.05, 'Cabin': nan, 'Embarked': 'S'}\n",
      "\n",
      "Пассажир 39: 36.0%\n",
      "  Данные: {'PassengerId': 39, 'Survived': 0, 'Pclass': 3, 'Name': 'Vander Planke, Miss. Augusta Maria', 'Sex': 'female', 'Age': 18.0, 'SibSp': 2, 'Parch': 0, 'Ticket': '345764', 'Fare': 18.0, 'Cabin': nan, 'Embarked': 'S'}\n",
      "\n",
      "Пассажир 40: 52.0%\n",
      "  Данные: {'PassengerId': 40, 'Survived': 1, 'Pclass': 3, 'Name': 'Nicola-Yarred, Miss. Jamila', 'Sex': 'female', 'Age': 14.0, 'SibSp': 1, 'Parch': 0, 'Ticket': '2651', 'Fare': 11.2417, 'Cabin': nan, 'Embarked': 'C'}\n",
      "\n",
      "Пассажир 41: 36.0%\n",
      "  Данные: {'PassengerId': 41, 'Survived': 0, 'Pclass': 3, 'Name': 'Ahlin, Mrs. Johan (Johanna Persdotter Larsson)', 'Sex': 'female', 'Age': 40.0, 'SibSp': 1, 'Parch': 0, 'Ticket': '7546', 'Fare': 9.475, 'Cabin': nan, 'Embarked': 'S'}\n",
      "\n",
      "Пассажир 42: 40.0%\n",
      "  Данные: {'PassengerId': 42, 'Survived': 0, 'Pclass': 2, 'Name': 'Turpin, Mrs. William John Robert (Dorothy Ann Wonnacott)', 'Sex': 'female', 'Age': 27.0, 'SibSp': 1, 'Parch': 0, 'Ticket': '11668', 'Fare': 21.0, 'Cabin': nan, 'Embarked': 'S'}\n",
      "\n",
      "Пассажир 43: 46.0%\n",
      "  Данные: {'PassengerId': 43, 'Survived': 0, 'Pclass': 3, 'Name': 'Kraeff, Mr. Theodor', 'Sex': 'male', 'Age': nan, 'SibSp': 0, 'Parch': 0, 'Ticket': '349253', 'Fare': 7.8958, 'Cabin': nan, 'Embarked': 'C'}\n",
      "\n",
      "Пассажир 44: 69.0%\n",
      "  Данные: {'PassengerId': 44, 'Survived': 1, 'Pclass': 2, 'Name': 'Laroche, Miss. Simonne Marie Anne Andree', 'Sex': 'female', 'Age': 3.0, 'SibSp': 1, 'Parch': 2, 'Ticket': 'SC/Paris 2123', 'Fare': 41.5792, 'Cabin': nan, 'Embarked': 'C'}\n",
      "\n",
      "Пассажир 45: 36.0%\n",
      "  Данные: {'PassengerId': 45, 'Survived': 1, 'Pclass': 3, 'Name': 'Devaney, Miss. Margaret Delia', 'Sex': 'female', 'Age': 19.0, 'SibSp': 0, 'Parch': 0, 'Ticket': '330958', 'Fare': 7.8792, 'Cabin': nan, 'Embarked': 'Q'}\n",
      "\n",
      "Пассажир 46: 30.0%\n",
      "  Данные: {'PassengerId': 46, 'Survived': 0, 'Pclass': 3, 'Name': 'Rogers, Mr. William John', 'Sex': 'male', 'Age': nan, 'SibSp': 0, 'Parch': 0, 'Ticket': 'S.C./A.4. 23567', 'Fare': 8.05, 'Cabin': nan, 'Embarked': 'S'}\n",
      "\n",
      "Пассажир 47: 30.0%\n",
      "  Данные: {'PassengerId': 47, 'Survived': 0, 'Pclass': 3, 'Name': 'Lennon, Mr. Denis', 'Sex': 'male', 'Age': nan, 'SibSp': 1, 'Parch': 0, 'Ticket': '370371', 'Fare': 15.5, 'Cabin': nan, 'Embarked': 'Q'}\n",
      "\n",
      "Пассажир 48: 43.0%\n",
      "  Данные: {'PassengerId': 48, 'Survived': 1, 'Pclass': 3, 'Name': \"O'Driscoll, Miss. Bridget\", 'Sex': 'female', 'Age': nan, 'SibSp': 0, 'Parch': 0, 'Ticket': '14311', 'Fare': 7.75, 'Cabin': nan, 'Embarked': 'Q'}\n",
      "\n",
      "Пассажир 49: 46.0%\n",
      "  Данные: {'PassengerId': 49, 'Survived': 0, 'Pclass': 3, 'Name': 'Samaan, Mr. Youssef', 'Sex': 'male', 'Age': nan, 'SibSp': 2, 'Parch': 0, 'Ticket': '2662', 'Fare': 21.6792, 'Cabin': nan, 'Embarked': 'C'}\n",
      "\n",
      "Пассажир 50: 36.0%\n",
      "  Данные: {'PassengerId': 50, 'Survived': 0, 'Pclass': 3, 'Name': 'Arnold-Franchi, Mrs. Josef (Josefine Franchi)', 'Sex': 'female', 'Age': 18.0, 'SibSp': 1, 'Parch': 0, 'Ticket': '349237', 'Fare': 17.8, 'Cabin': nan, 'Embarked': 'S'}\n",
      "\n",
      "Пассажир 51: 40.0%\n",
      "  Данные: {'PassengerId': 51, 'Survived': 0, 'Pclass': 3, 'Name': 'Panula, Master. Juha Niilo', 'Sex': 'male', 'Age': 7.0, 'SibSp': 4, 'Parch': 1, 'Ticket': '3101295', 'Fare': 39.6875, 'Cabin': nan, 'Embarked': 'S'}\n",
      "\n",
      "Пассажир 52: 27.0%\n",
      "  Данные: {'PassengerId': 52, 'Survived': 0, 'Pclass': 3, 'Name': 'Nosworthy, Mr. Richard Cater', 'Sex': 'male', 'Age': 21.0, 'SibSp': 0, 'Parch': 0, 'Ticket': 'A/4. 39886', 'Fare': 7.8, 'Cabin': nan, 'Embarked': 'S'}\n",
      "\n",
      "Пассажир 53: 59.0%\n",
      "  Данные: {'PassengerId': 53, 'Survived': 1, 'Pclass': 1, 'Name': 'Harper, Mrs. Henry Sleeper (Myna Haxtun)', 'Sex': 'female', 'Age': 49.0, 'SibSp': 1, 'Parch': 0, 'Ticket': 'PC 17572', 'Fare': 76.7292, 'Cabin': 'D33', 'Embarked': 'C'}\n",
      "\n",
      "Пассажир 54: 40.0%\n",
      "  Данные: {'PassengerId': 54, 'Survived': 1, 'Pclass': 2, 'Name': 'Faunthorpe, Mrs. Lizzie (Elizabeth Anne Wilkinson)', 'Sex': 'female', 'Age': 29.0, 'SibSp': 1, 'Parch': 0, 'Ticket': '2926', 'Fare': 26.0, 'Cabin': nan, 'Embarked': 'S'}\n",
      "\n",
      "Пассажир 55: 46.0%\n",
      "  Данные: {'PassengerId': 55, 'Survived': 0, 'Pclass': 1, 'Name': 'Ostby, Mr. Engelhart Cornelius', 'Sex': 'male', 'Age': 65.0, 'SibSp': 0, 'Parch': 1, 'Ticket': '113509', 'Fare': 61.9792, 'Cabin': 'B30', 'Embarked': 'C'}\n",
      "\n",
      "Пассажир 56: 40.0%\n",
      "  Данные: {'PassengerId': 56, 'Survived': 1, 'Pclass': 1, 'Name': 'Woolner, Mr. Hugh', 'Sex': 'male', 'Age': nan, 'SibSp': 0, 'Parch': 0, 'Ticket': '19947', 'Fare': 35.5, 'Cabin': 'C52', 'Embarked': 'S'}\n",
      "\n",
      "Пассажир 57: 40.0%\n",
      "  Данные: {'PassengerId': 57, 'Survived': 1, 'Pclass': 2, 'Name': 'Rugg, Miss. Emily', 'Sex': 'female', 'Age': 21.0, 'SibSp': 0, 'Parch': 0, 'Ticket': 'C.A. 31026', 'Fare': 10.5, 'Cabin': nan, 'Embarked': 'S'}\n",
      "\n",
      "Пассажир 58: 43.0%\n",
      "  Данные: {'PassengerId': 58, 'Survived': 0, 'Pclass': 3, 'Name': 'Novel, Mr. Mansouer', 'Sex': 'male', 'Age': 28.5, 'SibSp': 0, 'Parch': 0, 'Ticket': '2697', 'Fare': 7.2292, 'Cabin': nan, 'Embarked': 'C'}\n",
      "\n",
      "Пассажир 59: 53.0%\n",
      "  Данные: {'PassengerId': 59, 'Survived': 1, 'Pclass': 2, 'Name': 'West, Miss. Constance Mirium', 'Sex': 'female', 'Age': 5.0, 'SibSp': 1, 'Parch': 2, 'Ticket': 'C.A. 34651', 'Fare': 27.75, 'Cabin': nan, 'Embarked': 'S'}\n",
      "\n",
      "Пассажир 60: 40.0%\n",
      "  Данные: {'PassengerId': 60, 'Survived': 0, 'Pclass': 3, 'Name': 'Goodwin, Master. William Frederick', 'Sex': 'male', 'Age': 11.0, 'SibSp': 5, 'Parch': 2, 'Ticket': 'CA 2144', 'Fare': 46.9, 'Cabin': nan, 'Embarked': 'S'}\n",
      "\n",
      "Пассажир 61: 43.0%\n",
      "  Данные: {'PassengerId': 61, 'Survived': 0, 'Pclass': 3, 'Name': 'Sirayanian, Mr. Orsen', 'Sex': 'male', 'Age': 22.0, 'SibSp': 0, 'Parch': 0, 'Ticket': '2669', 'Fare': 7.2292, 'Cabin': nan, 'Embarked': 'C'}\n",
      "\n",
      "Пассажир 62: 57.99999999999999%\n",
      "  Данные: {'PassengerId': 62, 'Survived': 1, 'Pclass': 1, 'Name': 'Icard, Miss. Amelie', 'Sex': 'female', 'Age': 38.0, 'SibSp': 0, 'Parch': 0, 'Ticket': '113572', 'Fare': 80.0, 'Cabin': 'B28', 'Embarked': nan}\n",
      "\n",
      "Пассажир 63: 34.0%\n",
      "  Данные: {'PassengerId': 63, 'Survived': 0, 'Pclass': 1, 'Name': 'Harris, Mr. Henry Birkhardt', 'Sex': 'male', 'Age': 45.0, 'SibSp': 1, 'Parch': 0, 'Ticket': '36973', 'Fare': 83.475, 'Cabin': 'C83', 'Embarked': 'S'}\n",
      "\n",
      "Пассажир 64: 40.0%\n",
      "  Данные: {'PassengerId': 64, 'Survived': 0, 'Pclass': 3, 'Name': 'Skoog, Master. Harald', 'Sex': 'male', 'Age': 4.0, 'SibSp': 3, 'Parch': 2, 'Ticket': '347088', 'Fare': 27.9, 'Cabin': nan, 'Embarked': 'S'}\n",
      "\n",
      "Пассажир 65: 56.00000000000001%\n",
      "  Данные: {'PassengerId': 65, 'Survived': 0, 'Pclass': 1, 'Name': 'Stewart, Mr. Albert A', 'Sex': 'male', 'Age': nan, 'SibSp': 0, 'Parch': 0, 'Ticket': 'PC 17605', 'Fare': 27.7208, 'Cabin': nan, 'Embarked': 'C'}\n",
      "\n",
      "Пассажир 66: 46.0%\n",
      "  Данные: {'PassengerId': 66, 'Survived': 1, 'Pclass': 3, 'Name': 'Moubarek, Master. Gerios', 'Sex': 'male', 'Age': nan, 'SibSp': 1, 'Parch': 1, 'Ticket': '2661', 'Fare': 15.2458, 'Cabin': nan, 'Embarked': 'C'}\n",
      "\n",
      "Пассажир 67: 40.0%\n",
      "  Данные: {'PassengerId': 67, 'Survived': 1, 'Pclass': 2, 'Name': 'Nye, Mrs. (Elizabeth Ramell)', 'Sex': 'female', 'Age': 29.0, 'SibSp': 0, 'Parch': 0, 'Ticket': 'C.A. 29395', 'Fare': 10.5, 'Cabin': 'F33', 'Embarked': 'S'}\n",
      "\n",
      "Пассажир 68: 27.0%\n",
      "  Данные: {'PassengerId': 68, 'Survived': 0, 'Pclass': 3, 'Name': 'Crease, Mr. Ernest James', 'Sex': 'male', 'Age': 19.0, 'SibSp': 0, 'Parch': 0, 'Ticket': 'S.P. 3464', 'Fare': 8.1583, 'Cabin': nan, 'Embarked': 'S'}\n",
      "\n",
      "Пассажир 69: 36.0%\n",
      "  Данные: {'PassengerId': 69, 'Survived': 1, 'Pclass': 3, 'Name': 'Andersson, Miss. Erna Alexandra', 'Sex': 'female', 'Age': 17.0, 'SibSp': 4, 'Parch': 2, 'Ticket': '3101281', 'Fare': 7.925, 'Cabin': nan, 'Embarked': 'S'}\n",
      "\n",
      "Пассажир 70: 27.0%\n",
      "  Данные: {'PassengerId': 70, 'Survived': 0, 'Pclass': 3, 'Name': 'Kink, Mr. Vincenz', 'Sex': 'male', 'Age': 26.0, 'SibSp': 2, 'Parch': 0, 'Ticket': '315151', 'Fare': 8.6625, 'Cabin': nan, 'Embarked': 'S'}\n",
      "\n",
      "Пассажир 71: 30.0%\n",
      "  Данные: {'PassengerId': 71, 'Survived': 0, 'Pclass': 2, 'Name': 'Jenkin, Mr. Stephen Curnow', 'Sex': 'male', 'Age': 32.0, 'SibSp': 0, 'Parch': 0, 'Ticket': 'C.A. 33111', 'Fare': 10.5, 'Cabin': nan, 'Embarked': 'S'}\n",
      "\n",
      "Пассажир 72: 36.0%\n",
      "  Данные: {'PassengerId': 72, 'Survived': 0, 'Pclass': 3, 'Name': 'Goodwin, Miss. Lillian Amy', 'Sex': 'female', 'Age': 16.0, 'SibSp': 5, 'Parch': 2, 'Ticket': 'CA 2144', 'Fare': 46.9, 'Cabin': nan, 'Embarked': 'S'}\n",
      "\n",
      "Пассажир 73: 30.0%\n",
      "  Данные: {'PassengerId': 73, 'Survived': 0, 'Pclass': 2, 'Name': 'Hood, Mr. Ambrose Jr', 'Sex': 'male', 'Age': 21.0, 'SibSp': 0, 'Parch': 0, 'Ticket': 'S.O.C. 14879', 'Fare': 73.5, 'Cabin': nan, 'Embarked': 'S'}\n",
      "\n",
      "Пассажир 74: 43.0%\n",
      "  Данные: {'PassengerId': 74, 'Survived': 0, 'Pclass': 3, 'Name': 'Chronopoulos, Mr. Apostolos', 'Sex': 'male', 'Age': 26.0, 'SibSp': 1, 'Parch': 0, 'Ticket': '2680', 'Fare': 14.4542, 'Cabin': nan, 'Embarked': 'C'}\n",
      "\n",
      "Пассажир 75: 27.0%\n",
      "  Данные: {'PassengerId': 75, 'Survived': 1, 'Pclass': 3, 'Name': 'Bing, Mr. Lee', 'Sex': 'male', 'Age': 32.0, 'SibSp': 0, 'Parch': 0, 'Ticket': '1601', 'Fare': 56.4958, 'Cabin': nan, 'Embarked': 'S'}\n",
      "\n",
      "Пассажир 76: 27.0%\n",
      "  Данные: {'PassengerId': 76, 'Survived': 0, 'Pclass': 3, 'Name': 'Moen, Mr. Sigurd Hansen', 'Sex': 'male', 'Age': 25.0, 'SibSp': 0, 'Parch': 0, 'Ticket': '348123', 'Fare': 7.65, 'Cabin': 'F G73', 'Embarked': 'S'}\n",
      "\n",
      "Пассажир 77: 30.0%\n",
      "  Данные: {'PassengerId': 77, 'Survived': 0, 'Pclass': 3, 'Name': 'Staneff, Mr. Ivan', 'Sex': 'male', 'Age': nan, 'SibSp': 0, 'Parch': 0, 'Ticket': '349208', 'Fare': 7.8958, 'Cabin': nan, 'Embarked': 'S'}\n",
      "\n",
      "Пассажир 78: 30.0%\n",
      "  Данные: {'PassengerId': 78, 'Survived': 0, 'Pclass': 3, 'Name': 'Moutal, Mr. Rahamin Haim', 'Sex': 'male', 'Age': nan, 'SibSp': 0, 'Parch': 0, 'Ticket': '374746', 'Fare': 8.05, 'Cabin': nan, 'Embarked': 'S'}\n",
      "\n",
      "Пассажир 79: 44.0%\n",
      "  Данные: {'PassengerId': 79, 'Survived': 1, 'Pclass': 2, 'Name': 'Caldwell, Master. Alden Gates', 'Sex': 'male', 'Age': 0.83, 'SibSp': 0, 'Parch': 2, 'Ticket': '248738', 'Fare': 29.0, 'Cabin': nan, 'Embarked': 'S'}\n",
      "\n",
      "Пассажир 80: 36.0%\n",
      "  Данные: {'PassengerId': 80, 'Survived': 1, 'Pclass': 3, 'Name': 'Dowdell, Miss. Elizabeth', 'Sex': 'female', 'Age': 30.0, 'SibSp': 0, 'Parch': 0, 'Ticket': '364516', 'Fare': 12.475, 'Cabin': nan, 'Embarked': 'S'}\n",
      "\n",
      "Пассажир 81: 27.0%\n",
      "  Данные: {'PassengerId': 81, 'Survived': 0, 'Pclass': 3, 'Name': 'Waelens, Mr. Achille', 'Sex': 'male', 'Age': 22.0, 'SibSp': 0, 'Parch': 0, 'Ticket': '345767', 'Fare': 9.0, 'Cabin': nan, 'Embarked': 'S'}\n",
      "\n",
      "Пассажир 82: 27.0%\n",
      "  Данные: {'PassengerId': 82, 'Survived': 1, 'Pclass': 3, 'Name': 'Sheerlinck, Mr. Jan Baptist', 'Sex': 'male', 'Age': 29.0, 'SibSp': 0, 'Parch': 0, 'Ticket': '345779', 'Fare': 9.5, 'Cabin': nan, 'Embarked': 'S'}\n",
      "\n",
      "Пассажир 83: 43.0%\n",
      "  Данные: {'PassengerId': 83, 'Survived': 1, 'Pclass': 3, 'Name': 'McDermott, Miss. Brigdet Delia', 'Sex': 'female', 'Age': nan, 'SibSp': 0, 'Parch': 0, 'Ticket': '330932', 'Fare': 7.7875, 'Cabin': nan, 'Embarked': 'Q'}\n",
      "\n",
      "Пассажир 84: 34.0%\n",
      "  Данные: {'PassengerId': 84, 'Survived': 0, 'Pclass': 1, 'Name': 'Carrau, Mr. Francisco M', 'Sex': 'male', 'Age': 28.0, 'SibSp': 0, 'Parch': 0, 'Ticket': '113059', 'Fare': 47.1, 'Cabin': nan, 'Embarked': 'S'}\n",
      "\n",
      "Пассажир 85: 40.0%\n",
      "  Данные: {'PassengerId': 85, 'Survived': 1, 'Pclass': 2, 'Name': 'Ilett, Miss. Bertha', 'Sex': 'female', 'Age': 17.0, 'SibSp': 0, 'Parch': 0, 'Ticket': 'SO/C 14885', 'Fare': 10.5, 'Cabin': nan, 'Embarked': 'S'}\n",
      "\n",
      "Пассажир 86: 36.0%\n",
      "  Данные: {'PassengerId': 86, 'Survived': 1, 'Pclass': 3, 'Name': 'Backstrom, Mrs. Karl Alfred (Maria Mathilda Gustafsson)', 'Sex': 'female', 'Age': 33.0, 'SibSp': 3, 'Parch': 0, 'Ticket': '3101278', 'Fare': 15.85, 'Cabin': nan, 'Embarked': 'S'}\n",
      "\n",
      "Пассажир 87: 27.0%\n",
      "  Данные: {'PassengerId': 87, 'Survived': 0, 'Pclass': 3, 'Name': 'Ford, Mr. William Neal', 'Sex': 'male', 'Age': 16.0, 'SibSp': 1, 'Parch': 3, 'Ticket': 'W./C. 6608', 'Fare': 34.375, 'Cabin': nan, 'Embarked': 'S'}\n",
      "\n",
      "Пассажир 88: 30.0%\n",
      "  Данные: {'PassengerId': 88, 'Survived': 0, 'Pclass': 3, 'Name': 'Slocovski, Mr. Selman Francis', 'Sex': 'male', 'Age': nan, 'SibSp': 0, 'Parch': 0, 'Ticket': 'SOTON/OQ 392086', 'Fare': 8.05, 'Cabin': nan, 'Embarked': 'S'}\n",
      "\n",
      "Пассажир 89: 43.0%\n",
      "  Данные: {'PassengerId': 89, 'Survived': 1, 'Pclass': 1, 'Name': 'Fortune, Miss. Mabel Helen', 'Sex': 'female', 'Age': 23.0, 'SibSp': 3, 'Parch': 2, 'Ticket': '19950', 'Fare': 263.0, 'Cabin': 'C23 C25 C27', 'Embarked': 'S'}\n",
      "\n",
      "Пассажир 90: 27.0%\n",
      "  Данные: {'PassengerId': 90, 'Survived': 0, 'Pclass': 3, 'Name': 'Celotti, Mr. Francesco', 'Sex': 'male', 'Age': 24.0, 'SibSp': 0, 'Parch': 0, 'Ticket': '343275', 'Fare': 8.05, 'Cabin': nan, 'Embarked': 'S'}\n",
      "\n",
      "Пассажир 91: 27.0%\n",
      "  Данные: {'PassengerId': 91, 'Survived': 0, 'Pclass': 3, 'Name': 'Christmann, Mr. Emil', 'Sex': 'male', 'Age': 29.0, 'SibSp': 0, 'Parch': 0, 'Ticket': '343276', 'Fare': 8.05, 'Cabin': nan, 'Embarked': 'S'}\n",
      "\n",
      "Пассажир 92: 27.0%\n",
      "  Данные: {'PassengerId': 92, 'Survived': 0, 'Pclass': 3, 'Name': 'Andreasson, Mr. Paul Edvin', 'Sex': 'male', 'Age': 20.0, 'SibSp': 0, 'Parch': 0, 'Ticket': '347466', 'Fare': 7.8542, 'Cabin': nan, 'Embarked': 'S'}\n",
      "\n",
      "Пассажир 93: 34.0%\n",
      "  Данные: {'PassengerId': 93, 'Survived': 0, 'Pclass': 1, 'Name': 'Chaffee, Mr. Herbert Fuller', 'Sex': 'male', 'Age': 46.0, 'SibSp': 1, 'Parch': 0, 'Ticket': 'W.E.P. 5734', 'Fare': 61.175, 'Cabin': 'E31', 'Embarked': 'S'}\n",
      "\n",
      "Пассажир 94: 27.0%\n",
      "  Данные: {'PassengerId': 94, 'Survived': 0, 'Pclass': 3, 'Name': 'Dean, Mr. Bertram Frank', 'Sex': 'male', 'Age': 26.0, 'SibSp': 1, 'Parch': 2, 'Ticket': 'C.A. 2315', 'Fare': 20.575, 'Cabin': nan, 'Embarked': 'S'}\n",
      "\n",
      "Пассажир 95: 27.0%\n",
      "  Данные: {'PassengerId': 95, 'Survived': 0, 'Pclass': 3, 'Name': 'Coxon, Mr. Daniel', 'Sex': 'male', 'Age': 59.0, 'SibSp': 0, 'Parch': 0, 'Ticket': '364500', 'Fare': 7.25, 'Cabin': nan, 'Embarked': 'S'}\n",
      "\n",
      "Пассажир 96: 30.0%\n",
      "  Данные: {'PassengerId': 96, 'Survived': 0, 'Pclass': 3, 'Name': 'Shorney, Mr. Charles Joseph', 'Sex': 'male', 'Age': nan, 'SibSp': 0, 'Parch': 0, 'Ticket': '374910', 'Fare': 8.05, 'Cabin': nan, 'Embarked': 'S'}\n",
      "\n",
      "Пассажир 97: 46.0%\n",
      "  Данные: {'PassengerId': 97, 'Survived': 0, 'Pclass': 1, 'Name': 'Goldschmidt, Mr. George B', 'Sex': 'male', 'Age': 71.0, 'SibSp': 0, 'Parch': 0, 'Ticket': 'PC 17754', 'Fare': 34.6542, 'Cabin': 'A5', 'Embarked': 'C'}\n",
      "\n",
      "Пассажир 98: 50.0%\n",
      "  Данные: {'PassengerId': 98, 'Survived': 1, 'Pclass': 1, 'Name': 'Greenfield, Mr. William Bertram', 'Sex': 'male', 'Age': 23.0, 'SibSp': 0, 'Parch': 1, 'Ticket': 'PC 17759', 'Fare': 63.3583, 'Cabin': 'D10 D12', 'Embarked': 'C'}\n",
      "\n",
      "Пассажир 99: 40.0%\n",
      "  Данные: {'PassengerId': 99, 'Survived': 1, 'Pclass': 2, 'Name': 'Doling, Mrs. John T (Ada Julia Bone)', 'Sex': 'female', 'Age': 34.0, 'SibSp': 0, 'Parch': 1, 'Ticket': '231919', 'Fare': 23.0, 'Cabin': nan, 'Embarked': 'S'}\n",
      "\n",
      "Пассажир 100: 30.0%\n",
      "  Данные: {'PassengerId': 100, 'Survived': 0, 'Pclass': 2, 'Name': 'Kantor, Mr. Sinai', 'Sex': 'male', 'Age': 34.0, 'SibSp': 1, 'Parch': 0, 'Ticket': '244367', 'Fare': 26.0, 'Cabin': nan, 'Embarked': 'S'}\n",
      "\n",
      "Пассажир 101: 36.0%\n",
      "  Данные: {'PassengerId': 101, 'Survived': 0, 'Pclass': 3, 'Name': 'Petranec, Miss. Matilda', 'Sex': 'female', 'Age': 28.0, 'SibSp': 0, 'Parch': 0, 'Ticket': '349245', 'Fare': 7.8958, 'Cabin': nan, 'Embarked': 'S'}\n",
      "\n",
      "Пассажир 102: 30.0%\n",
      "  Данные: {'PassengerId': 102, 'Survived': 0, 'Pclass': 3, 'Name': 'Petroff, Mr. Pastcho (\"Pentcho\")', 'Sex': 'male', 'Age': nan, 'SibSp': 0, 'Parch': 0, 'Ticket': '349215', 'Fare': 7.8958, 'Cabin': nan, 'Embarked': 'S'}\n",
      "\n",
      "Пассажир 103: 34.0%\n",
      "  Данные: {'PassengerId': 103, 'Survived': 0, 'Pclass': 1, 'Name': 'White, Mr. Richard Frasar', 'Sex': 'male', 'Age': 21.0, 'SibSp': 0, 'Parch': 1, 'Ticket': '35281', 'Fare': 77.2875, 'Cabin': 'D26', 'Embarked': 'S'}\n",
      "\n",
      "Пассажир 104: 27.0%\n",
      "  Данные: {'PassengerId': 104, 'Survived': 0, 'Pclass': 3, 'Name': 'Johansson, Mr. Gustaf Joel', 'Sex': 'male', 'Age': 33.0, 'SibSp': 0, 'Parch': 0, 'Ticket': '7540', 'Fare': 8.6542, 'Cabin': nan, 'Embarked': 'S'}\n",
      "\n",
      "Пассажир 105: 27.0%\n",
      "  Данные: {'PassengerId': 105, 'Survived': 0, 'Pclass': 3, 'Name': 'Gustafsson, Mr. Anders Vilhelm', 'Sex': 'male', 'Age': 37.0, 'SibSp': 2, 'Parch': 0, 'Ticket': '3101276', 'Fare': 7.925, 'Cabin': nan, 'Embarked': 'S'}\n",
      "\n",
      "Пассажир 106: 27.0%\n",
      "  Данные: {'PassengerId': 106, 'Survived': 0, 'Pclass': 3, 'Name': 'Mionoff, Mr. Stoytcho', 'Sex': 'male', 'Age': 28.0, 'SibSp': 0, 'Parch': 0, 'Ticket': '349207', 'Fare': 7.8958, 'Cabin': nan, 'Embarked': 'S'}\n",
      "\n",
      "Пассажир 107: 36.0%\n",
      "  Данные: {'PassengerId': 107, 'Survived': 1, 'Pclass': 3, 'Name': 'Salkjelsvik, Miss. Anna Kristine', 'Sex': 'female', 'Age': 21.0, 'SibSp': 0, 'Parch': 0, 'Ticket': '343120', 'Fare': 7.65, 'Cabin': nan, 'Embarked': 'S'}\n",
      "\n",
      "Пассажир 108: 30.0%\n",
      "  Данные: {'PassengerId': 108, 'Survived': 1, 'Pclass': 3, 'Name': 'Moss, Mr. Albert Johan', 'Sex': 'male', 'Age': nan, 'SibSp': 0, 'Parch': 0, 'Ticket': '312991', 'Fare': 7.775, 'Cabin': nan, 'Embarked': 'S'}\n",
      "\n",
      "Пассажир 109: 27.0%\n",
      "  Данные: {'PassengerId': 109, 'Survived': 0, 'Pclass': 3, 'Name': 'Rekic, Mr. Tido', 'Sex': 'male', 'Age': 38.0, 'SibSp': 0, 'Parch': 0, 'Ticket': '349249', 'Fare': 7.8958, 'Cabin': nan, 'Embarked': 'S'}\n",
      "\n",
      "Пассажир 110: 43.0%\n",
      "  Данные: {'PassengerId': 110, 'Survived': 1, 'Pclass': 3, 'Name': 'Moran, Miss. Bertha', 'Sex': 'female', 'Age': nan, 'SibSp': 1, 'Parch': 0, 'Ticket': '371110', 'Fare': 24.15, 'Cabin': nan, 'Embarked': 'Q'}\n",
      "\n",
      "Пассажир 111: 34.0%\n",
      "  Данные: {'PassengerId': 111, 'Survived': 0, 'Pclass': 1, 'Name': 'Porter, Mr. Walter Chamberlain', 'Sex': 'male', 'Age': 47.0, 'SibSp': 0, 'Parch': 0, 'Ticket': '110465', 'Fare': 52.0, 'Cabin': 'C110', 'Embarked': 'S'}\n",
      "\n",
      "Пассажир 112: 52.0%\n",
      "  Данные: {'PassengerId': 112, 'Survived': 0, 'Pclass': 3, 'Name': 'Zabour, Miss. Hileni', 'Sex': 'female', 'Age': 14.5, 'SibSp': 1, 'Parch': 0, 'Ticket': '2665', 'Fare': 14.4542, 'Cabin': nan, 'Embarked': 'C'}\n",
      "\n",
      "Пассажир 113: 27.0%\n",
      "  Данные: {'PassengerId': 113, 'Survived': 0, 'Pclass': 3, 'Name': 'Barton, Mr. David John', 'Sex': 'male', 'Age': 22.0, 'SibSp': 0, 'Parch': 0, 'Ticket': '324669', 'Fare': 8.05, 'Cabin': nan, 'Embarked': 'S'}\n",
      "\n",
      "Пассажир 114: 36.0%\n",
      "  Данные: {'PassengerId': 114, 'Survived': 0, 'Pclass': 3, 'Name': 'Jussila, Miss. Katriina', 'Sex': 'female', 'Age': 20.0, 'SibSp': 1, 'Parch': 0, 'Ticket': '4136', 'Fare': 9.825, 'Cabin': nan, 'Embarked': 'S'}\n",
      "\n",
      "Пассажир 115: 52.0%\n",
      "  Данные: {'PassengerId': 115, 'Survived': 0, 'Pclass': 3, 'Name': 'Attalah, Miss. Malake', 'Sex': 'female', 'Age': 17.0, 'SibSp': 0, 'Parch': 0, 'Ticket': '2627', 'Fare': 14.4583, 'Cabin': nan, 'Embarked': 'C'}\n",
      "\n",
      "Пассажир 116: 27.0%\n",
      "  Данные: {'PassengerId': 116, 'Survived': 0, 'Pclass': 3, 'Name': 'Pekoniemi, Mr. Edvard', 'Sex': 'male', 'Age': 21.0, 'SibSp': 0, 'Parch': 0, 'Ticket': 'STON/O 2. 3101294', 'Fare': 7.925, 'Cabin': nan, 'Embarked': 'S'}\n",
      "\n",
      "Пассажир 117: 22.0%\n",
      "  Данные: {'PassengerId': 117, 'Survived': 0, 'Pclass': 3, 'Name': 'Connors, Mr. Patrick', 'Sex': 'male', 'Age': 70.5, 'SibSp': 0, 'Parch': 0, 'Ticket': '370369', 'Fare': 7.75, 'Cabin': nan, 'Embarked': 'Q'}\n",
      "\n",
      "Пассажир 118: 30.0%\n",
      "  Данные: {'PassengerId': 118, 'Survived': 0, 'Pclass': 2, 'Name': 'Turpin, Mr. William John Robert', 'Sex': 'male', 'Age': 29.0, 'SibSp': 1, 'Parch': 0, 'Ticket': '11668', 'Fare': 21.0, 'Cabin': nan, 'Embarked': 'S'}\n",
      "\n",
      "Пассажир 119: 50.0%\n",
      "  Данные: {'PassengerId': 119, 'Survived': 0, 'Pclass': 1, 'Name': 'Baxter, Mr. Quigg Edmond', 'Sex': 'male', 'Age': 24.0, 'SibSp': 0, 'Parch': 1, 'Ticket': 'PC 17558', 'Fare': 247.5208, 'Cabin': 'B58 B60', 'Embarked': 'C'}\n",
      "\n",
      "Пассажир 120: 49.0%\n",
      "  Данные: {'PassengerId': 120, 'Survived': 0, 'Pclass': 3, 'Name': 'Andersson, Miss. Ellis Anna Maria', 'Sex': 'female', 'Age': 2.0, 'SibSp': 4, 'Parch': 2, 'Ticket': '347082', 'Fare': 31.275, 'Cabin': nan, 'Embarked': 'S'}\n",
      "\n",
      "Пассажир 121: 30.0%\n",
      "  Данные: {'PassengerId': 121, 'Survived': 0, 'Pclass': 2, 'Name': 'Hickman, Mr. Stanley George', 'Sex': 'male', 'Age': 21.0, 'SibSp': 2, 'Parch': 0, 'Ticket': 'S.O.C. 14879', 'Fare': 73.5, 'Cabin': nan, 'Embarked': 'S'}\n",
      "\n",
      "Пассажир 122: 30.0%\n",
      "  Данные: {'PassengerId': 122, 'Survived': 0, 'Pclass': 3, 'Name': 'Moore, Mr. Leonard Charles', 'Sex': 'male', 'Age': nan, 'SibSp': 0, 'Parch': 0, 'Ticket': 'A4. 54510', 'Fare': 8.05, 'Cabin': nan, 'Embarked': 'S'}\n",
      "\n",
      "Пассажир 123: 47.0%\n",
      "  Данные: {'PassengerId': 123, 'Survived': 0, 'Pclass': 2, 'Name': 'Nasser, Mr. Nicholas', 'Sex': 'male', 'Age': 32.5, 'SibSp': 1, 'Parch': 0, 'Ticket': '237736', 'Fare': 30.0708, 'Cabin': nan, 'Embarked': 'C'}\n",
      "\n",
      "Пассажир 124: 40.0%\n",
      "  Данные: {'PassengerId': 124, 'Survived': 1, 'Pclass': 2, 'Name': 'Webber, Miss. Susan', 'Sex': 'female', 'Age': 32.5, 'SibSp': 0, 'Parch': 0, 'Ticket': '27267', 'Fare': 13.0, 'Cabin': 'E101', 'Embarked': 'S'}\n",
      "\n",
      "Пассажир 125: 34.0%\n",
      "  Данные: {'PassengerId': 125, 'Survived': 0, 'Pclass': 1, 'Name': 'White, Mr. Percival Wayland', 'Sex': 'male', 'Age': 54.0, 'SibSp': 0, 'Parch': 1, 'Ticket': '35281', 'Fare': 77.2875, 'Cabin': 'D26', 'Embarked': 'S'}\n",
      "\n",
      "Пассажир 126: 43.0%\n",
      "  Данные: {'PassengerId': 126, 'Survived': 1, 'Pclass': 3, 'Name': 'Nicola-Yarred, Master. Elias', 'Sex': 'male', 'Age': 12.0, 'SibSp': 1, 'Parch': 0, 'Ticket': '2651', 'Fare': 11.2417, 'Cabin': nan, 'Embarked': 'C'}\n",
      "\n",
      "Пассажир 127: 30.0%\n",
      "  Данные: {'PassengerId': 127, 'Survived': 0, 'Pclass': 3, 'Name': 'McMahon, Mr. Martin', 'Sex': 'male', 'Age': nan, 'SibSp': 0, 'Parch': 0, 'Ticket': '370372', 'Fare': 7.75, 'Cabin': nan, 'Embarked': 'Q'}\n",
      "\n",
      "Пассажир 128: 27.0%\n",
      "  Данные: {'PassengerId': 128, 'Survived': 1, 'Pclass': 3, 'Name': 'Madsen, Mr. Fridtjof Arne', 'Sex': 'male', 'Age': 24.0, 'SibSp': 0, 'Parch': 0, 'Ticket': 'C 17369', 'Fare': 7.1417, 'Cabin': nan, 'Embarked': 'S'}\n",
      "\n",
      "Пассажир 129: 59.0%\n",
      "  Данные: {'PassengerId': 129, 'Survived': 1, 'Pclass': 3, 'Name': 'Peter, Miss. Anna', 'Sex': 'female', 'Age': nan, 'SibSp': 1, 'Parch': 1, 'Ticket': '2668', 'Fare': 22.3583, 'Cabin': 'F E69', 'Embarked': 'C'}\n",
      "\n",
      "Пассажир 130: 27.0%\n",
      "  Данные: {'PassengerId': 130, 'Survived': 0, 'Pclass': 3, 'Name': 'Ekstrom, Mr. Johan', 'Sex': 'male', 'Age': 45.0, 'SibSp': 0, 'Parch': 0, 'Ticket': '347061', 'Fare': 6.975, 'Cabin': nan, 'Embarked': 'S'}\n",
      "\n",
      "Пассажир 131: 43.0%\n",
      "  Данные: {'PassengerId': 131, 'Survived': 0, 'Pclass': 3, 'Name': 'Drazenoic, Mr. Jozef', 'Sex': 'male', 'Age': 33.0, 'SibSp': 0, 'Parch': 0, 'Ticket': '349241', 'Fare': 7.8958, 'Cabin': nan, 'Embarked': 'C'}\n",
      "\n",
      "Пассажир 132: 27.0%\n",
      "  Данные: {'PassengerId': 132, 'Survived': 0, 'Pclass': 3, 'Name': 'Coelho, Mr. Domingos Fernandeo', 'Sex': 'male', 'Age': 20.0, 'SibSp': 0, 'Parch': 0, 'Ticket': 'SOTON/O.Q. 3101307', 'Fare': 7.05, 'Cabin': nan, 'Embarked': 'S'}\n",
      "\n",
      "Пассажир 133: 36.0%\n",
      "  Данные: {'PassengerId': 133, 'Survived': 0, 'Pclass': 3, 'Name': 'Robins, Mrs. Alexander A (Grace Charity Laury)', 'Sex': 'female', 'Age': 47.0, 'SibSp': 1, 'Parch': 0, 'Ticket': 'A/5. 3337', 'Fare': 14.5, 'Cabin': nan, 'Embarked': 'S'}\n",
      "\n",
      "Пассажир 134: 40.0%\n",
      "  Данные: {'PassengerId': 134, 'Survived': 1, 'Pclass': 2, 'Name': 'Weisz, Mrs. Leopold (Mathilde Francoise Pede)', 'Sex': 'female', 'Age': 29.0, 'SibSp': 1, 'Parch': 0, 'Ticket': '228414', 'Fare': 26.0, 'Cabin': nan, 'Embarked': 'S'}\n",
      "\n",
      "Пассажир 135: 30.0%\n",
      "  Данные: {'PassengerId': 135, 'Survived': 0, 'Pclass': 2, 'Name': 'Sobey, Mr. Samuel James Hayden', 'Sex': 'male', 'Age': 25.0, 'SibSp': 0, 'Parch': 0, 'Ticket': 'C.A. 29178', 'Fare': 13.0, 'Cabin': nan, 'Embarked': 'S'}\n",
      "\n",
      "Пассажир 136: 47.0%\n",
      "  Данные: {'PassengerId': 136, 'Survived': 0, 'Pclass': 2, 'Name': 'Richard, Mr. Emile', 'Sex': 'male', 'Age': 23.0, 'SibSp': 0, 'Parch': 0, 'Ticket': 'SC/PARIS 2133', 'Fare': 15.0458, 'Cabin': nan, 'Embarked': 'C'}\n",
      "\n",
      "Пассажир 137: 43.0%\n",
      "  Данные: {'PassengerId': 137, 'Survived': 1, 'Pclass': 1, 'Name': 'Newsom, Miss. Helen Monypeny', 'Sex': 'female', 'Age': 19.0, 'SibSp': 0, 'Parch': 2, 'Ticket': '11752', 'Fare': 26.2833, 'Cabin': 'D47', 'Embarked': 'S'}\n",
      "\n",
      "Пассажир 138: 34.0%\n",
      "  Данные: {'PassengerId': 138, 'Survived': 0, 'Pclass': 1, 'Name': 'Futrelle, Mr. Jacques Heath', 'Sex': 'male', 'Age': 37.0, 'SibSp': 1, 'Parch': 0, 'Ticket': '113803', 'Fare': 53.1, 'Cabin': 'C123', 'Embarked': 'S'}\n",
      "\n",
      "Пассажир 139: 27.0%\n",
      "  Данные: {'PassengerId': 139, 'Survived': 0, 'Pclass': 3, 'Name': 'Osen, Mr. Olaf Elon', 'Sex': 'male', 'Age': 16.0, 'SibSp': 0, 'Parch': 0, 'Ticket': '7534', 'Fare': 9.2167, 'Cabin': nan, 'Embarked': 'S'}\n",
      "\n",
      "Пассажир 140: 50.0%\n",
      "  Данные: {'PassengerId': 140, 'Survived': 0, 'Pclass': 1, 'Name': 'Giglio, Mr. Victor', 'Sex': 'male', 'Age': 24.0, 'SibSp': 0, 'Parch': 0, 'Ticket': 'PC 17593', 'Fare': 79.2, 'Cabin': 'B86', 'Embarked': 'C'}\n",
      "\n",
      "Пассажир 141: 59.0%\n",
      "  Данные: {'PassengerId': 141, 'Survived': 0, 'Pclass': 3, 'Name': 'Boulos, Mrs. Joseph (Sultana)', 'Sex': 'female', 'Age': nan, 'SibSp': 0, 'Parch': 2, 'Ticket': '2678', 'Fare': 15.2458, 'Cabin': nan, 'Embarked': 'C'}\n",
      "\n",
      "Пассажир 142: 36.0%\n",
      "  Данные: {'PassengerId': 142, 'Survived': 1, 'Pclass': 3, 'Name': 'Nysten, Miss. Anna Sofia', 'Sex': 'female', 'Age': 22.0, 'SibSp': 0, 'Parch': 0, 'Ticket': '347081', 'Fare': 7.75, 'Cabin': nan, 'Embarked': 'S'}\n",
      "\n",
      "Пассажир 143: 36.0%\n",
      "  Данные: {'PassengerId': 143, 'Survived': 1, 'Pclass': 3, 'Name': 'Hakkarainen, Mrs. Pekka Pietari (Elin Matilda Dolck)', 'Sex': 'female', 'Age': 24.0, 'SibSp': 1, 'Parch': 0, 'Ticket': 'STON/O2. 3101279', 'Fare': 15.85, 'Cabin': nan, 'Embarked': 'S'}\n",
      "\n",
      "Пассажир 144: 27.0%\n",
      "  Данные: {'PassengerId': 144, 'Survived': 0, 'Pclass': 3, 'Name': 'Burke, Mr. Jeremiah', 'Sex': 'male', 'Age': 19.0, 'SibSp': 0, 'Parch': 0, 'Ticket': '365222', 'Fare': 6.75, 'Cabin': nan, 'Embarked': 'Q'}\n",
      "\n",
      "Пассажир 145: 30.0%\n",
      "  Данные: {'PassengerId': 145, 'Survived': 0, 'Pclass': 2, 'Name': 'Andrew, Mr. Edgardo Samuel', 'Sex': 'male', 'Age': 18.0, 'SibSp': 0, 'Parch': 0, 'Ticket': '231945', 'Fare': 11.5, 'Cabin': nan, 'Embarked': 'S'}\n",
      "\n",
      "Пассажир 146: 30.0%\n",
      "  Данные: {'PassengerId': 146, 'Survived': 0, 'Pclass': 2, 'Name': 'Nicholls, Mr. Joseph Charles', 'Sex': 'male', 'Age': 19.0, 'SibSp': 1, 'Parch': 1, 'Ticket': 'C.A. 33112', 'Fare': 36.75, 'Cabin': nan, 'Embarked': 'S'}\n",
      "\n",
      "Пассажир 147: 27.0%\n",
      "  Данные: {'PassengerId': 147, 'Survived': 1, 'Pclass': 3, 'Name': 'Andersson, Mr. August Edvard (\"Wennerstrom\")', 'Sex': 'male', 'Age': 27.0, 'SibSp': 0, 'Parch': 0, 'Ticket': '350043', 'Fare': 7.7958, 'Cabin': nan, 'Embarked': 'S'}\n",
      "\n",
      "Пассажир 148: 49.0%\n",
      "  Данные: {'PassengerId': 148, 'Survived': 0, 'Pclass': 3, 'Name': 'Ford, Miss. Robina Maggie \"Ruby\"', 'Sex': 'female', 'Age': 9.0, 'SibSp': 2, 'Parch': 2, 'Ticket': 'W./C. 6608', 'Fare': 34.375, 'Cabin': nan, 'Embarked': 'S'}\n",
      "\n",
      "Пассажир 149: 30.0%\n",
      "  Данные: {'PassengerId': 149, 'Survived': 0, 'Pclass': 2, 'Name': 'Navratil, Mr. Michel (\"Louis M Hoffman\")', 'Sex': 'male', 'Age': 36.5, 'SibSp': 0, 'Parch': 2, 'Ticket': '230080', 'Fare': 26.0, 'Cabin': 'F2', 'Embarked': 'S'}\n",
      "\n",
      "Пассажир 150: 30.0%\n",
      "  Данные: {'PassengerId': 150, 'Survived': 0, 'Pclass': 2, 'Name': 'Byles, Rev. Thomas Roussel Davids', 'Sex': 'male', 'Age': 42.0, 'SibSp': 0, 'Parch': 0, 'Ticket': '244310', 'Fare': 13.0, 'Cabin': nan, 'Embarked': 'S'}\n",
      "\n",
      "Пассажир 151: 30.0%\n",
      "  Данные: {'PassengerId': 151, 'Survived': 0, 'Pclass': 2, 'Name': 'Bateman, Rev. Robert James', 'Sex': 'male', 'Age': 51.0, 'SibSp': 0, 'Parch': 0, 'Ticket': 'S.O.P. 1166', 'Fare': 12.525, 'Cabin': nan, 'Embarked': 'S'}\n",
      "\n",
      "Пассажир 152: 43.0%\n",
      "  Данные: {'PassengerId': 152, 'Survived': 1, 'Pclass': 1, 'Name': 'Pears, Mrs. Thomas (Edith Wearne)', 'Sex': 'female', 'Age': 22.0, 'SibSp': 1, 'Parch': 0, 'Ticket': '113776', 'Fare': 66.6, 'Cabin': 'C2', 'Embarked': 'S'}\n",
      "\n",
      "Пассажир 153: 27.0%\n",
      "  Данные: {'PassengerId': 153, 'Survived': 0, 'Pclass': 3, 'Name': 'Meo, Mr. Alfonzo', 'Sex': 'male', 'Age': 55.5, 'SibSp': 0, 'Parch': 0, 'Ticket': 'A.5. 11206', 'Fare': 8.05, 'Cabin': nan, 'Embarked': 'S'}\n",
      "\n",
      "Пассажир 154: 27.0%\n",
      "  Данные: {'PassengerId': 154, 'Survived': 0, 'Pclass': 3, 'Name': 'van Billiard, Mr. Austin Blyler', 'Sex': 'male', 'Age': 40.5, 'SibSp': 0, 'Parch': 2, 'Ticket': 'A/5. 851', 'Fare': 14.5, 'Cabin': nan, 'Embarked': 'S'}\n",
      "\n",
      "Пассажир 155: 30.0%\n",
      "  Данные: {'PassengerId': 155, 'Survived': 0, 'Pclass': 3, 'Name': 'Olsen, Mr. Ole Martin', 'Sex': 'male', 'Age': nan, 'SibSp': 0, 'Parch': 0, 'Ticket': 'Fa 265302', 'Fare': 7.3125, 'Cabin': nan, 'Embarked': 'S'}\n",
      "\n",
      "Пассажир 156: 50.0%\n",
      "  Данные: {'PassengerId': 156, 'Survived': 0, 'Pclass': 1, 'Name': 'Williams, Mr. Charles Duane', 'Sex': 'male', 'Age': 51.0, 'SibSp': 0, 'Parch': 1, 'Ticket': 'PC 17597', 'Fare': 61.3792, 'Cabin': nan, 'Embarked': 'C'}\n",
      "\n",
      "Пассажир 157: 36.0%\n",
      "  Данные: {'PassengerId': 157, 'Survived': 1, 'Pclass': 3, 'Name': 'Gilnagh, Miss. Katherine \"Katie\"', 'Sex': 'female', 'Age': 16.0, 'SibSp': 0, 'Parch': 0, 'Ticket': '35851', 'Fare': 7.7333, 'Cabin': nan, 'Embarked': 'Q'}\n",
      "\n",
      "Пассажир 158: 27.0%\n",
      "  Данные: {'PassengerId': 158, 'Survived': 0, 'Pclass': 3, 'Name': 'Corn, Mr. Harry', 'Sex': 'male', 'Age': 30.0, 'SibSp': 0, 'Parch': 0, 'Ticket': 'SOTON/OQ 392090', 'Fare': 8.05, 'Cabin': nan, 'Embarked': 'S'}\n",
      "\n",
      "Пассажир 159: 30.0%\n",
      "  Данные: {'PassengerId': 159, 'Survived': 0, 'Pclass': 3, 'Name': 'Smiljanic, Mr. Mile', 'Sex': 'male', 'Age': nan, 'SibSp': 0, 'Parch': 0, 'Ticket': '315037', 'Fare': 8.6625, 'Cabin': nan, 'Embarked': 'S'}\n",
      "\n",
      "Пассажир 160: 30.0%\n",
      "  Данные: {'PassengerId': 160, 'Survived': 0, 'Pclass': 3, 'Name': 'Sage, Master. Thomas Henry', 'Sex': 'male', 'Age': nan, 'SibSp': 8, 'Parch': 2, 'Ticket': 'CA. 2343', 'Fare': 69.55, 'Cabin': nan, 'Embarked': 'S'}\n",
      "\n",
      "Пассажир 161: 27.0%\n",
      "  Данные: {'PassengerId': 161, 'Survived': 0, 'Pclass': 3, 'Name': 'Cribb, Mr. John Hatfield', 'Sex': 'male', 'Age': 44.0, 'SibSp': 0, 'Parch': 1, 'Ticket': '371362', 'Fare': 16.1, 'Cabin': nan, 'Embarked': 'S'}\n",
      "\n",
      "Пассажир 162: 40.0%\n",
      "  Данные: {'PassengerId': 162, 'Survived': 1, 'Pclass': 2, 'Name': 'Watt, Mrs. James (Elizabeth \"Bessie\" Inglis Milne)', 'Sex': 'female', 'Age': 40.0, 'SibSp': 0, 'Parch': 0, 'Ticket': 'C.A. 33595', 'Fare': 15.75, 'Cabin': nan, 'Embarked': 'S'}\n",
      "\n",
      "Пассажир 163: 27.0%\n",
      "  Данные: {'PassengerId': 163, 'Survived': 0, 'Pclass': 3, 'Name': 'Bengtsson, Mr. John Viktor', 'Sex': 'male', 'Age': 26.0, 'SibSp': 0, 'Parch': 0, 'Ticket': '347068', 'Fare': 7.775, 'Cabin': nan, 'Embarked': 'S'}\n",
      "\n",
      "Пассажир 164: 27.0%\n",
      "  Данные: {'PassengerId': 164, 'Survived': 0, 'Pclass': 3, 'Name': 'Calic, Mr. Jovo', 'Sex': 'male', 'Age': 17.0, 'SibSp': 0, 'Parch': 0, 'Ticket': '315093', 'Fare': 8.6625, 'Cabin': nan, 'Embarked': 'S'}\n",
      "\n",
      "Пассажир 165: 40.0%\n",
      "  Данные: {'PassengerId': 165, 'Survived': 0, 'Pclass': 3, 'Name': 'Panula, Master. Eino Viljami', 'Sex': 'male', 'Age': 1.0, 'SibSp': 4, 'Parch': 1, 'Ticket': '3101295', 'Fare': 39.6875, 'Cabin': nan, 'Embarked': 'S'}\n",
      "\n",
      "Пассажир 166: 40.0%\n",
      "  Данные: {'PassengerId': 166, 'Survived': 1, 'Pclass': 3, 'Name': 'Goldsmith, Master. Frank John William \"Frankie\"', 'Sex': 'male', 'Age': 9.0, 'SibSp': 0, 'Parch': 2, 'Ticket': '363291', 'Fare': 20.525, 'Cabin': nan, 'Embarked': 'S'}\n",
      "\n",
      "Пассажир 167: 53.0%\n",
      "  Данные: {'PassengerId': 167, 'Survived': 1, 'Pclass': 1, 'Name': 'Chibnall, Mrs. (Edith Martha Bowerman)', 'Sex': 'female', 'Age': nan, 'SibSp': 0, 'Parch': 1, 'Ticket': '113505', 'Fare': 55.0, 'Cabin': 'E33', 'Embarked': 'S'}\n",
      "\n",
      "Пассажир 168: 36.0%\n",
      "  Данные: {'PassengerId': 168, 'Survived': 0, 'Pclass': 3, 'Name': 'Skoog, Mrs. William (Anna Bernhardina Karlsson)', 'Sex': 'female', 'Age': 45.0, 'SibSp': 1, 'Parch': 4, 'Ticket': '347088', 'Fare': 27.9, 'Cabin': nan, 'Embarked': 'S'}\n",
      "\n",
      "Пассажир 169: 40.0%\n",
      "  Данные: {'PassengerId': 169, 'Survived': 0, 'Pclass': 1, 'Name': 'Baumann, Mr. John D', 'Sex': 'male', 'Age': nan, 'SibSp': 0, 'Parch': 0, 'Ticket': 'PC 17318', 'Fare': 25.925, 'Cabin': nan, 'Embarked': 'S'}\n",
      "\n",
      "Пассажир 170: 27.0%\n",
      "  Данные: {'PassengerId': 170, 'Survived': 0, 'Pclass': 3, 'Name': 'Ling, Mr. Lee', 'Sex': 'male', 'Age': 28.0, 'SibSp': 0, 'Parch': 0, 'Ticket': '1601', 'Fare': 56.4958, 'Cabin': nan, 'Embarked': 'S'}\n",
      "\n",
      "Пассажир 171: 30.0%\n",
      "  Данные: {'PassengerId': 171, 'Survived': 0, 'Pclass': 1, 'Name': 'Van der hoef, Mr. Wyckoff', 'Sex': 'male', 'Age': 61.0, 'SibSp': 0, 'Parch': 0, 'Ticket': '111240', 'Fare': 33.5, 'Cabin': 'B19', 'Embarked': 'S'}\n",
      "\n",
      "Пассажир 172: 40.0%\n",
      "  Данные: {'PassengerId': 172, 'Survived': 0, 'Pclass': 3, 'Name': 'Rice, Master. Arthur', 'Sex': 'male', 'Age': 4.0, 'SibSp': 4, 'Parch': 1, 'Ticket': '382652', 'Fare': 29.125, 'Cabin': nan, 'Embarked': 'Q'}\n",
      "\n",
      "Пассажир 173: 49.0%\n",
      "  Данные: {'PassengerId': 173, 'Survived': 1, 'Pclass': 3, 'Name': 'Johnson, Miss. Eleanor Ileen', 'Sex': 'female', 'Age': 1.0, 'SibSp': 1, 'Parch': 1, 'Ticket': '347742', 'Fare': 11.1333, 'Cabin': nan, 'Embarked': 'S'}\n",
      "\n",
      "Пассажир 174: 27.0%\n",
      "  Данные: {'PassengerId': 174, 'Survived': 0, 'Pclass': 3, 'Name': 'Sivola, Mr. Antti Wilhelm', 'Sex': 'male', 'Age': 21.0, 'SibSp': 0, 'Parch': 0, 'Ticket': 'STON/O 2. 3101280', 'Fare': 7.925, 'Cabin': nan, 'Embarked': 'S'}\n",
      "\n",
      "Пассажир 175: 50.0%\n",
      "  Данные: {'PassengerId': 175, 'Survived': 0, 'Pclass': 1, 'Name': 'Smith, Mr. James Clinch', 'Sex': 'male', 'Age': 56.0, 'SibSp': 0, 'Parch': 0, 'Ticket': '17764', 'Fare': 30.6958, 'Cabin': 'A7', 'Embarked': 'C'}\n",
      "\n",
      "Пассажир 176: 27.0%\n",
      "  Данные: {'PassengerId': 176, 'Survived': 0, 'Pclass': 3, 'Name': 'Klasen, Mr. Klas Albin', 'Sex': 'male', 'Age': 18.0, 'SibSp': 1, 'Parch': 1, 'Ticket': '350404', 'Fare': 7.8542, 'Cabin': nan, 'Embarked': 'S'}\n",
      "\n",
      "Пассажир 177: 30.0%\n",
      "  Данные: {'PassengerId': 177, 'Survived': 0, 'Pclass': 3, 'Name': 'Lefebre, Master. Henry Forbes', 'Sex': 'male', 'Age': nan, 'SibSp': 3, 'Parch': 1, 'Ticket': '4133', 'Fare': 25.4667, 'Cabin': nan, 'Embarked': 'S'}\n",
      "\n",
      "Пассажир 178: 59.0%\n",
      "  Данные: {'PassengerId': 178, 'Survived': 0, 'Pclass': 1, 'Name': 'Isham, Miss. Ann Elizabeth', 'Sex': 'female', 'Age': 50.0, 'SibSp': 0, 'Parch': 0, 'Ticket': 'PC 17595', 'Fare': 28.7125, 'Cabin': 'C49', 'Embarked': 'C'}\n",
      "\n",
      "Пассажир 179: 30.0%\n",
      "  Данные: {'PassengerId': 179, 'Survived': 0, 'Pclass': 2, 'Name': 'Hale, Mr. Reginald', 'Sex': 'male', 'Age': 30.0, 'SibSp': 0, 'Parch': 0, 'Ticket': '250653', 'Fare': 13.0, 'Cabin': nan, 'Embarked': 'S'}\n",
      "\n",
      "Пассажир 180: 27.0%\n",
      "  Данные: {'PassengerId': 180, 'Survived': 0, 'Pclass': 3, 'Name': 'Leonard, Mr. Lionel', 'Sex': 'male', 'Age': 36.0, 'SibSp': 0, 'Parch': 0, 'Ticket': 'LINE', 'Fare': 0.0, 'Cabin': nan, 'Embarked': 'S'}\n",
      "\n",
      "Пассажир 181: 43.0%\n",
      "  Данные: {'PassengerId': 181, 'Survived': 0, 'Pclass': 3, 'Name': 'Sage, Miss. Constance Gladys', 'Sex': 'female', 'Age': nan, 'SibSp': 8, 'Parch': 2, 'Ticket': 'CA. 2343', 'Fare': 69.55, 'Cabin': nan, 'Embarked': 'S'}\n",
      "\n",
      "Пассажир 182: 51.0%\n",
      "  Данные: {'PassengerId': 182, 'Survived': 0, 'Pclass': 2, 'Name': 'Pernot, Mr. Rene', 'Sex': 'male', 'Age': nan, 'SibSp': 0, 'Parch': 0, 'Ticket': 'SC/PARIS 2131', 'Fare': 15.05, 'Cabin': nan, 'Embarked': 'C'}\n",
      "\n",
      "Пассажир 183: 40.0%\n",
      "  Данные: {'PassengerId': 183, 'Survived': 0, 'Pclass': 3, 'Name': 'Asplund, Master. Clarence Gustaf Hugo', 'Sex': 'male', 'Age': 9.0, 'SibSp': 4, 'Parch': 2, 'Ticket': '347077', 'Fare': 31.3875, 'Cabin': nan, 'Embarked': 'S'}\n",
      "\n",
      "Пассажир 184: 44.0%\n",
      "  Данные: {'PassengerId': 184, 'Survived': 1, 'Pclass': 2, 'Name': 'Becker, Master. Richard F', 'Sex': 'male', 'Age': 1.0, 'SibSp': 2, 'Parch': 1, 'Ticket': '230136', 'Fare': 39.0, 'Cabin': 'F4', 'Embarked': 'S'}\n",
      "\n",
      "Пассажир 185: 49.0%\n",
      "  Данные: {'PassengerId': 185, 'Survived': 1, 'Pclass': 3, 'Name': 'Kink-Heilmann, Miss. Luise Gretchen', 'Sex': 'female', 'Age': 4.0, 'SibSp': 0, 'Parch': 2, 'Ticket': '315153', 'Fare': 22.025, 'Cabin': nan, 'Embarked': 'S'}\n",
      "\n",
      "Пассажир 186: 40.0%\n",
      "  Данные: {'PassengerId': 186, 'Survived': 0, 'Pclass': 1, 'Name': 'Rood, Mr. Hugh Roscoe', 'Sex': 'male', 'Age': nan, 'SibSp': 0, 'Parch': 0, 'Ticket': '113767', 'Fare': 50.0, 'Cabin': 'A32', 'Embarked': 'S'}\n",
      "\n",
      "Пассажир 187: 43.0%\n",
      "  Данные: {'PassengerId': 187, 'Survived': 1, 'Pclass': 3, 'Name': 'O\\'Brien, Mrs. Thomas (Johanna \"Hannah\" Godfrey)', 'Sex': 'female', 'Age': nan, 'SibSp': 1, 'Parch': 0, 'Ticket': '370365', 'Fare': 15.5, 'Cabin': nan, 'Embarked': 'Q'}\n",
      "\n",
      "Пассажир 188: 34.0%\n",
      "  Данные: {'PassengerId': 188, 'Survived': 1, 'Pclass': 1, 'Name': 'Romaine, Mr. Charles Hallace (\"Mr C Rolmane\")', 'Sex': 'male', 'Age': 45.0, 'SibSp': 0, 'Parch': 0, 'Ticket': '111428', 'Fare': 26.55, 'Cabin': nan, 'Embarked': 'S'}\n",
      "\n",
      "Пассажир 189: 27.0%\n",
      "  Данные: {'PassengerId': 189, 'Survived': 0, 'Pclass': 3, 'Name': 'Bourke, Mr. John', 'Sex': 'male', 'Age': 40.0, 'SibSp': 1, 'Parch': 1, 'Ticket': '364849', 'Fare': 15.5, 'Cabin': nan, 'Embarked': 'Q'}\n",
      "\n",
      "Пассажир 190: 27.0%\n",
      "  Данные: {'PassengerId': 190, 'Survived': 0, 'Pclass': 3, 'Name': 'Turcin, Mr. Stjepan', 'Sex': 'male', 'Age': 36.0, 'SibSp': 0, 'Parch': 0, 'Ticket': '349247', 'Fare': 7.8958, 'Cabin': nan, 'Embarked': 'S'}\n",
      "\n",
      "Пассажир 191: 40.0%\n",
      "  Данные: {'PassengerId': 191, 'Survived': 1, 'Pclass': 2, 'Name': 'Pinsky, Mrs. (Rosa)', 'Sex': 'female', 'Age': 32.0, 'SibSp': 0, 'Parch': 0, 'Ticket': '234604', 'Fare': 13.0, 'Cabin': nan, 'Embarked': 'S'}\n",
      "\n",
      "Пассажир 192: 30.0%\n",
      "  Данные: {'PassengerId': 192, 'Survived': 0, 'Pclass': 2, 'Name': 'Carbines, Mr. William', 'Sex': 'male', 'Age': 19.0, 'SibSp': 0, 'Parch': 0, 'Ticket': '28424', 'Fare': 13.0, 'Cabin': nan, 'Embarked': 'S'}\n",
      "\n",
      "Пассажир 193: 36.0%\n",
      "  Данные: {'PassengerId': 193, 'Survived': 1, 'Pclass': 3, 'Name': 'Andersen-Jensen, Miss. Carla Christine Nielsine', 'Sex': 'female', 'Age': 19.0, 'SibSp': 1, 'Parch': 0, 'Ticket': '350046', 'Fare': 7.8542, 'Cabin': nan, 'Embarked': 'S'}\n",
      "\n",
      "Пассажир 194: 44.0%\n",
      "  Данные: {'PassengerId': 194, 'Survived': 1, 'Pclass': 2, 'Name': 'Navratil, Master. Michel M', 'Sex': 'male', 'Age': 3.0, 'SibSp': 1, 'Parch': 1, 'Ticket': '230080', 'Fare': 26.0, 'Cabin': 'F2', 'Embarked': 'S'}\n",
      "\n",
      "Пассажир 195: 59.0%\n",
      "  Данные: {'PassengerId': 195, 'Survived': 1, 'Pclass': 1, 'Name': 'Brown, Mrs. James Joseph (Margaret Tobin)', 'Sex': 'female', 'Age': 44.0, 'SibSp': 0, 'Parch': 0, 'Ticket': 'PC 17610', 'Fare': 27.7208, 'Cabin': 'B4', 'Embarked': 'C'}\n",
      "\n",
      "Пассажир 196: 59.0%\n",
      "  Данные: {'PassengerId': 196, 'Survived': 1, 'Pclass': 1, 'Name': 'Lurette, Miss. Elise', 'Sex': 'female', 'Age': 58.0, 'SibSp': 0, 'Parch': 0, 'Ticket': 'PC 17569', 'Fare': 146.5208, 'Cabin': 'B80', 'Embarked': 'C'}\n",
      "\n",
      "Пассажир 197: 30.0%\n",
      "  Данные: {'PassengerId': 197, 'Survived': 0, 'Pclass': 3, 'Name': 'Mernagh, Mr. Robert', 'Sex': 'male', 'Age': nan, 'SibSp': 0, 'Parch': 0, 'Ticket': '368703', 'Fare': 7.75, 'Cabin': nan, 'Embarked': 'Q'}\n",
      "\n",
      "Пассажир 198: 27.0%\n",
      "  Данные: {'PassengerId': 198, 'Survived': 0, 'Pclass': 3, 'Name': 'Olsen, Mr. Karl Siegwart Andreas', 'Sex': 'male', 'Age': 42.0, 'SibSp': 0, 'Parch': 1, 'Ticket': '4579', 'Fare': 8.4042, 'Cabin': nan, 'Embarked': 'S'}\n",
      "\n",
      "Пассажир 199: 43.0%\n",
      "  Данные: {'PassengerId': 199, 'Survived': 1, 'Pclass': 3, 'Name': 'Madigan, Miss. Margaret \"Maggie\"', 'Sex': 'female', 'Age': nan, 'SibSp': 0, 'Parch': 0, 'Ticket': '370370', 'Fare': 7.75, 'Cabin': nan, 'Embarked': 'Q'}\n",
      "\n",
      "Пассажир 200: 40.0%\n",
      "  Данные: {'PassengerId': 200, 'Survived': 0, 'Pclass': 2, 'Name': 'Yrois, Miss. Henriette (\"Mrs Harbeck\")', 'Sex': 'female', 'Age': 24.0, 'SibSp': 0, 'Parch': 0, 'Ticket': '248747', 'Fare': 13.0, 'Cabin': nan, 'Embarked': 'S'}\n",
      "\n",
      "Пассажир 201: 27.0%\n",
      "  Данные: {'PassengerId': 201, 'Survived': 0, 'Pclass': 3, 'Name': 'Vande Walle, Mr. Nestor Cyriel', 'Sex': 'male', 'Age': 28.0, 'SibSp': 0, 'Parch': 0, 'Ticket': '345770', 'Fare': 9.5, 'Cabin': nan, 'Embarked': 'S'}\n",
      "\n",
      "Пассажир 202: 30.0%\n",
      "  Данные: {'PassengerId': 202, 'Survived': 0, 'Pclass': 3, 'Name': 'Sage, Mr. Frederick', 'Sex': 'male', 'Age': nan, 'SibSp': 8, 'Parch': 2, 'Ticket': 'CA. 2343', 'Fare': 69.55, 'Cabin': nan, 'Embarked': 'S'}\n",
      "\n",
      "Пассажир 203: 27.0%\n",
      "  Данные: {'PassengerId': 203, 'Survived': 0, 'Pclass': 3, 'Name': 'Johanson, Mr. Jakob Alfred', 'Sex': 'male', 'Age': 34.0, 'SibSp': 0, 'Parch': 0, 'Ticket': '3101264', 'Fare': 6.4958, 'Cabin': nan, 'Embarked': 'S'}\n",
      "\n",
      "Пассажир 204: 43.0%\n",
      "  Данные: {'PassengerId': 204, 'Survived': 0, 'Pclass': 3, 'Name': 'Youseff, Mr. Gerious', 'Sex': 'male', 'Age': 45.5, 'SibSp': 0, 'Parch': 0, 'Ticket': '2628', 'Fare': 7.225, 'Cabin': nan, 'Embarked': 'C'}\n",
      "\n",
      "Пассажир 205: 27.0%\n",
      "  Данные: {'PassengerId': 205, 'Survived': 1, 'Pclass': 3, 'Name': 'Cohen, Mr. Gurshon \"Gus\"', 'Sex': 'male', 'Age': 18.0, 'SibSp': 0, 'Parch': 0, 'Ticket': 'A/5 3540', 'Fare': 8.05, 'Cabin': nan, 'Embarked': 'S'}\n",
      "\n",
      "Пассажир 206: 49.0%\n",
      "  Данные: {'PassengerId': 206, 'Survived': 0, 'Pclass': 3, 'Name': 'Strom, Miss. Telma Matilda', 'Sex': 'female', 'Age': 2.0, 'SibSp': 0, 'Parch': 1, 'Ticket': '347054', 'Fare': 10.4625, 'Cabin': 'G6', 'Embarked': 'S'}\n",
      "\n",
      "Пассажир 207: 27.0%\n",
      "  Данные: {'PassengerId': 207, 'Survived': 0, 'Pclass': 3, 'Name': 'Backstrom, Mr. Karl Alfred', 'Sex': 'male', 'Age': 32.0, 'SibSp': 1, 'Parch': 0, 'Ticket': '3101278', 'Fare': 15.85, 'Cabin': nan, 'Embarked': 'S'}\n",
      "\n",
      "Пассажир 208: 43.0%\n",
      "  Данные: {'PassengerId': 208, 'Survived': 1, 'Pclass': 3, 'Name': 'Albimona, Mr. Nassef Cassem', 'Sex': 'male', 'Age': 26.0, 'SibSp': 0, 'Parch': 0, 'Ticket': '2699', 'Fare': 18.7875, 'Cabin': nan, 'Embarked': 'C'}\n",
      "\n",
      "Пассажир 209: 36.0%\n",
      "  Данные: {'PassengerId': 209, 'Survived': 1, 'Pclass': 3, 'Name': 'Carr, Miss. Helen \"Ellen\"', 'Sex': 'female', 'Age': 16.0, 'SibSp': 0, 'Parch': 0, 'Ticket': '367231', 'Fare': 7.75, 'Cabin': nan, 'Embarked': 'Q'}\n",
      "\n",
      "Пассажир 210: 50.0%\n",
      "  Данные: {'PassengerId': 210, 'Survived': 1, 'Pclass': 1, 'Name': 'Blank, Mr. Henry', 'Sex': 'male', 'Age': 40.0, 'SibSp': 0, 'Parch': 0, 'Ticket': '112277', 'Fare': 31.0, 'Cabin': 'A31', 'Embarked': 'C'}\n",
      "\n",
      "Пассажир 211: 27.0%\n",
      "  Данные: {'PassengerId': 211, 'Survived': 0, 'Pclass': 3, 'Name': 'Ali, Mr. Ahmed', 'Sex': 'male', 'Age': 24.0, 'SibSp': 0, 'Parch': 0, 'Ticket': 'SOTON/O.Q. 3101311', 'Fare': 7.05, 'Cabin': nan, 'Embarked': 'S'}\n",
      "\n",
      "Пассажир 212: 40.0%\n",
      "  Данные: {'PassengerId': 212, 'Survived': 1, 'Pclass': 2, 'Name': 'Cameron, Miss. Clear Annie', 'Sex': 'female', 'Age': 35.0, 'SibSp': 0, 'Parch': 0, 'Ticket': 'F.C.C. 13528', 'Fare': 21.0, 'Cabin': nan, 'Embarked': 'S'}\n",
      "\n",
      "Пассажир 213: 27.0%\n",
      "  Данные: {'PassengerId': 213, 'Survived': 0, 'Pclass': 3, 'Name': 'Perkin, Mr. John Henry', 'Sex': 'male', 'Age': 22.0, 'SibSp': 0, 'Parch': 0, 'Ticket': 'A/5 21174', 'Fare': 7.25, 'Cabin': nan, 'Embarked': 'S'}\n",
      "\n",
      "Пассажир 214: 30.0%\n",
      "  Данные: {'PassengerId': 214, 'Survived': 0, 'Pclass': 2, 'Name': 'Givard, Mr. Hans Kristensen', 'Sex': 'male', 'Age': 30.0, 'SibSp': 0, 'Parch': 0, 'Ticket': '250646', 'Fare': 13.0, 'Cabin': nan, 'Embarked': 'S'}\n",
      "\n",
      "Пассажир 215: 30.0%\n",
      "  Данные: {'PassengerId': 215, 'Survived': 0, 'Pclass': 3, 'Name': 'Kiernan, Mr. Philip', 'Sex': 'male', 'Age': nan, 'SibSp': 1, 'Parch': 0, 'Ticket': '367229', 'Fare': 7.75, 'Cabin': nan, 'Embarked': 'Q'}\n",
      "\n",
      "Пассажир 216: 59.0%\n",
      "  Данные: {'PassengerId': 216, 'Survived': 1, 'Pclass': 1, 'Name': 'Newell, Miss. Madeleine', 'Sex': 'female', 'Age': 31.0, 'SibSp': 1, 'Parch': 0, 'Ticket': '35273', 'Fare': 113.275, 'Cabin': 'D36', 'Embarked': 'C'}\n",
      "\n",
      "Пассажир 217: 36.0%\n",
      "  Данные: {'PassengerId': 217, 'Survived': 1, 'Pclass': 3, 'Name': 'Honkanen, Miss. Eliina', 'Sex': 'female', 'Age': 27.0, 'SibSp': 0, 'Parch': 0, 'Ticket': 'STON/O2. 3101283', 'Fare': 7.925, 'Cabin': nan, 'Embarked': 'S'}\n",
      "\n",
      "Пассажир 218: 30.0%\n",
      "  Данные: {'PassengerId': 218, 'Survived': 0, 'Pclass': 2, 'Name': 'Jacobsohn, Mr. Sidney Samuel', 'Sex': 'male', 'Age': 42.0, 'SibSp': 1, 'Parch': 0, 'Ticket': '243847', 'Fare': 27.0, 'Cabin': nan, 'Embarked': 'S'}\n",
      "\n",
      "Пассажир 219: 59.0%\n",
      "  Данные: {'PassengerId': 219, 'Survived': 1, 'Pclass': 1, 'Name': 'Bazzani, Miss. Albina', 'Sex': 'female', 'Age': 32.0, 'SibSp': 0, 'Parch': 0, 'Ticket': '11813', 'Fare': 76.2917, 'Cabin': 'D15', 'Embarked': 'C'}\n",
      "\n",
      "Пассажир 220: 30.0%\n",
      "  Данные: {'PassengerId': 220, 'Survived': 0, 'Pclass': 2, 'Name': 'Harris, Mr. Walter', 'Sex': 'male', 'Age': 30.0, 'SibSp': 0, 'Parch': 0, 'Ticket': 'W/C 14208', 'Fare': 10.5, 'Cabin': nan, 'Embarked': 'S'}\n",
      "\n",
      "Пассажир 221: 27.0%\n",
      "  Данные: {'PassengerId': 221, 'Survived': 1, 'Pclass': 3, 'Name': 'Sunderland, Mr. Victor Francis', 'Sex': 'male', 'Age': 16.0, 'SibSp': 0, 'Parch': 0, 'Ticket': 'SOTON/OQ 392089', 'Fare': 8.05, 'Cabin': nan, 'Embarked': 'S'}\n",
      "\n",
      "Пассажир 222: 30.0%\n",
      "  Данные: {'PassengerId': 222, 'Survived': 0, 'Pclass': 2, 'Name': 'Bracken, Mr. James H', 'Sex': 'male', 'Age': 27.0, 'SibSp': 0, 'Parch': 0, 'Ticket': '220367', 'Fare': 13.0, 'Cabin': nan, 'Embarked': 'S'}\n",
      "\n",
      "Пассажир 223: 27.0%\n",
      "  Данные: {'PassengerId': 223, 'Survived': 0, 'Pclass': 3, 'Name': 'Green, Mr. George Henry', 'Sex': 'male', 'Age': 51.0, 'SibSp': 0, 'Parch': 0, 'Ticket': '21440', 'Fare': 8.05, 'Cabin': nan, 'Embarked': 'S'}\n",
      "\n",
      "Пассажир 224: 30.0%\n",
      "  Данные: {'PassengerId': 224, 'Survived': 0, 'Pclass': 3, 'Name': 'Nenkoff, Mr. Christo', 'Sex': 'male', 'Age': nan, 'SibSp': 0, 'Parch': 0, 'Ticket': '349234', 'Fare': 7.8958, 'Cabin': nan, 'Embarked': 'S'}\n",
      "\n",
      "Пассажир 225: 34.0%\n",
      "  Данные: {'PassengerId': 225, 'Survived': 1, 'Pclass': 1, 'Name': 'Hoyt, Mr. Frederick Maxfield', 'Sex': 'male', 'Age': 38.0, 'SibSp': 1, 'Parch': 0, 'Ticket': '19943', 'Fare': 90.0, 'Cabin': 'C93', 'Embarked': 'S'}\n",
      "\n",
      "Пассажир 226: 27.0%\n",
      "  Данные: {'PassengerId': 226, 'Survived': 0, 'Pclass': 3, 'Name': 'Berglund, Mr. Karl Ivar Sven', 'Sex': 'male', 'Age': 22.0, 'SibSp': 0, 'Parch': 0, 'Ticket': 'PP 4348', 'Fare': 9.35, 'Cabin': nan, 'Embarked': 'S'}\n",
      "\n",
      "Пассажир 227: 30.0%\n",
      "  Данные: {'PassengerId': 227, 'Survived': 1, 'Pclass': 2, 'Name': 'Mellors, Mr. William John', 'Sex': 'male', 'Age': 19.0, 'SibSp': 0, 'Parch': 0, 'Ticket': 'SW/PP 751', 'Fare': 10.5, 'Cabin': nan, 'Embarked': 'S'}\n",
      "\n",
      "Пассажир 228: 27.0%\n",
      "  Данные: {'PassengerId': 228, 'Survived': 0, 'Pclass': 3, 'Name': 'Lovell, Mr. John Hall (\"Henry\")', 'Sex': 'male', 'Age': 20.5, 'SibSp': 0, 'Parch': 0, 'Ticket': 'A/5 21173', 'Fare': 7.25, 'Cabin': nan, 'Embarked': 'S'}\n",
      "\n",
      "Пассажир 229: 30.0%\n",
      "  Данные: {'PassengerId': 229, 'Survived': 0, 'Pclass': 2, 'Name': 'Fahlstrom, Mr. Arne Jonas', 'Sex': 'male', 'Age': 18.0, 'SibSp': 0, 'Parch': 0, 'Ticket': '236171', 'Fare': 13.0, 'Cabin': nan, 'Embarked': 'S'}\n",
      "\n",
      "Пассажир 230: 43.0%\n",
      "  Данные: {'PassengerId': 230, 'Survived': 0, 'Pclass': 3, 'Name': 'Lefebre, Miss. Mathilde', 'Sex': 'female', 'Age': nan, 'SibSp': 3, 'Parch': 1, 'Ticket': '4133', 'Fare': 25.4667, 'Cabin': nan, 'Embarked': 'S'}\n",
      "\n",
      "Пассажир 231: 43.0%\n",
      "  Данные: {'PassengerId': 231, 'Survived': 1, 'Pclass': 1, 'Name': 'Harris, Mrs. Henry Birkhardt (Irene Wallach)', 'Sex': 'female', 'Age': 35.0, 'SibSp': 1, 'Parch': 0, 'Ticket': '36973', 'Fare': 83.475, 'Cabin': 'C83', 'Embarked': 'S'}\n",
      "\n",
      "Пассажир 232: 27.0%\n",
      "  Данные: {'PassengerId': 232, 'Survived': 0, 'Pclass': 3, 'Name': 'Larsson, Mr. Bengt Edvin', 'Sex': 'male', 'Age': 29.0, 'SibSp': 0, 'Parch': 0, 'Ticket': '347067', 'Fare': 7.775, 'Cabin': nan, 'Embarked': 'S'}\n",
      "\n",
      "Пассажир 233: 30.0%\n",
      "  Данные: {'PassengerId': 233, 'Survived': 0, 'Pclass': 2, 'Name': 'Sjostedt, Mr. Ernst Adolf', 'Sex': 'male', 'Age': 59.0, 'SibSp': 0, 'Parch': 0, 'Ticket': '237442', 'Fare': 13.5, 'Cabin': nan, 'Embarked': 'S'}\n",
      "\n",
      "Пассажир 234: 49.0%\n",
      "  Данные: {'PassengerId': 234, 'Survived': 1, 'Pclass': 3, 'Name': 'Asplund, Miss. Lillian Gertrud', 'Sex': 'female', 'Age': 5.0, 'SibSp': 4, 'Parch': 2, 'Ticket': '347077', 'Fare': 31.3875, 'Cabin': nan, 'Embarked': 'S'}\n",
      "\n",
      "Пассажир 235: 30.0%\n",
      "  Данные: {'PassengerId': 235, 'Survived': 0, 'Pclass': 2, 'Name': 'Leyson, Mr. Robert William Norman', 'Sex': 'male', 'Age': 24.0, 'SibSp': 0, 'Parch': 0, 'Ticket': 'C.A. 29566', 'Fare': 10.5, 'Cabin': nan, 'Embarked': 'S'}\n",
      "\n",
      "Пассажир 236: 43.0%\n",
      "  Данные: {'PassengerId': 236, 'Survived': 0, 'Pclass': 3, 'Name': 'Harknett, Miss. Alice Phoebe', 'Sex': 'female', 'Age': nan, 'SibSp': 0, 'Parch': 0, 'Ticket': 'W./C. 6609', 'Fare': 7.55, 'Cabin': nan, 'Embarked': 'S'}\n",
      "\n",
      "Пассажир 237: 30.0%\n",
      "  Данные: {'PassengerId': 237, 'Survived': 0, 'Pclass': 2, 'Name': 'Hold, Mr. Stephen', 'Sex': 'male', 'Age': 44.0, 'SibSp': 1, 'Parch': 0, 'Ticket': '26707', 'Fare': 26.0, 'Cabin': nan, 'Embarked': 'S'}\n",
      "\n",
      "Пассажир 238: 53.0%\n",
      "  Данные: {'PassengerId': 238, 'Survived': 1, 'Pclass': 2, 'Name': 'Collyer, Miss. Marjorie \"Lottie\"', 'Sex': 'female', 'Age': 8.0, 'SibSp': 0, 'Parch': 2, 'Ticket': 'C.A. 31921', 'Fare': 26.25, 'Cabin': nan, 'Embarked': 'S'}\n",
      "\n",
      "Пассажир 239: 30.0%\n",
      "  Данные: {'PassengerId': 239, 'Survived': 0, 'Pclass': 2, 'Name': 'Pengelly, Mr. Frederick William', 'Sex': 'male', 'Age': 19.0, 'SibSp': 0, 'Parch': 0, 'Ticket': '28665', 'Fare': 10.5, 'Cabin': nan, 'Embarked': 'S'}\n",
      "\n",
      "Пассажир 240: 30.0%\n",
      "  Данные: {'PassengerId': 240, 'Survived': 0, 'Pclass': 2, 'Name': 'Hunt, Mr. George Henry', 'Sex': 'male', 'Age': 33.0, 'SibSp': 0, 'Parch': 0, 'Ticket': 'SCO/W 1585', 'Fare': 12.275, 'Cabin': nan, 'Embarked': 'S'}\n",
      "\n",
      "Пассажир 241: 59.0%\n",
      "  Данные: {'PassengerId': 241, 'Survived': 0, 'Pclass': 3, 'Name': 'Zabour, Miss. Thamine', 'Sex': 'female', 'Age': nan, 'SibSp': 1, 'Parch': 0, 'Ticket': '2665', 'Fare': 14.4542, 'Cabin': nan, 'Embarked': 'C'}\n",
      "\n",
      "Пассажир 242: 43.0%\n",
      "  Данные: {'PassengerId': 242, 'Survived': 1, 'Pclass': 3, 'Name': 'Murphy, Miss. Katherine \"Kate\"', 'Sex': 'female', 'Age': nan, 'SibSp': 1, 'Parch': 0, 'Ticket': '367230', 'Fare': 15.5, 'Cabin': nan, 'Embarked': 'Q'}\n",
      "\n",
      "Пассажир 243: 30.0%\n",
      "  Данные: {'PassengerId': 243, 'Survived': 0, 'Pclass': 2, 'Name': 'Coleridge, Mr. Reginald Charles', 'Sex': 'male', 'Age': 29.0, 'SibSp': 0, 'Parch': 0, 'Ticket': 'W./C. 14263', 'Fare': 10.5, 'Cabin': nan, 'Embarked': 'S'}\n",
      "\n",
      "Пассажир 244: 27.0%\n",
      "  Данные: {'PassengerId': 244, 'Survived': 0, 'Pclass': 3, 'Name': 'Maenpaa, Mr. Matti Alexanteri', 'Sex': 'male', 'Age': 22.0, 'SibSp': 0, 'Parch': 0, 'Ticket': 'STON/O 2. 3101275', 'Fare': 7.125, 'Cabin': nan, 'Embarked': 'S'}\n",
      "\n",
      "Пассажир 245: 43.0%\n",
      "  Данные: {'PassengerId': 245, 'Survived': 0, 'Pclass': 3, 'Name': 'Attalah, Mr. Sleiman', 'Sex': 'male', 'Age': 30.0, 'SibSp': 0, 'Parch': 0, 'Ticket': '2694', 'Fare': 7.225, 'Cabin': nan, 'Embarked': 'C'}\n",
      "\n",
      "Пассажир 246: 34.0%\n",
      "  Данные: {'PassengerId': 246, 'Survived': 0, 'Pclass': 1, 'Name': 'Minahan, Dr. William Edward', 'Sex': 'male', 'Age': 44.0, 'SibSp': 2, 'Parch': 0, 'Ticket': '19928', 'Fare': 90.0, 'Cabin': 'C78', 'Embarked': 'Q'}\n",
      "\n",
      "Пассажир 247: 36.0%\n",
      "  Данные: {'PassengerId': 247, 'Survived': 0, 'Pclass': 3, 'Name': 'Lindahl, Miss. Agda Thorilda Viktoria', 'Sex': 'female', 'Age': 25.0, 'SibSp': 0, 'Parch': 0, 'Ticket': '347071', 'Fare': 7.775, 'Cabin': nan, 'Embarked': 'S'}\n",
      "\n",
      "Пассажир 248: 40.0%\n",
      "  Данные: {'PassengerId': 248, 'Survived': 1, 'Pclass': 2, 'Name': 'Hamalainen, Mrs. William (Anna)', 'Sex': 'female', 'Age': 24.0, 'SibSp': 0, 'Parch': 2, 'Ticket': '250649', 'Fare': 14.5, 'Cabin': nan, 'Embarked': 'S'}\n",
      "\n",
      "Пассажир 249: 34.0%\n",
      "  Данные: {'PassengerId': 249, 'Survived': 1, 'Pclass': 1, 'Name': 'Beckwith, Mr. Richard Leonard', 'Sex': 'male', 'Age': 37.0, 'SibSp': 1, 'Parch': 1, 'Ticket': '11751', 'Fare': 52.5542, 'Cabin': 'D35', 'Embarked': 'S'}\n",
      "\n",
      "Пассажир 250: 30.0%\n",
      "  Данные: {'PassengerId': 250, 'Survived': 0, 'Pclass': 2, 'Name': 'Carter, Rev. Ernest Courtenay', 'Sex': 'male', 'Age': 54.0, 'SibSp': 1, 'Parch': 0, 'Ticket': '244252', 'Fare': 26.0, 'Cabin': nan, 'Embarked': 'S'}\n",
      "\n",
      "Пассажир 251: 30.0%\n",
      "  Данные: {'PassengerId': 251, 'Survived': 0, 'Pclass': 3, 'Name': 'Reed, Mr. James George', 'Sex': 'male', 'Age': nan, 'SibSp': 0, 'Parch': 0, 'Ticket': '362316', 'Fare': 7.25, 'Cabin': nan, 'Embarked': 'S'}\n",
      "\n",
      "Пассажир 252: 36.0%\n",
      "  Данные: {'PassengerId': 252, 'Survived': 0, 'Pclass': 3, 'Name': 'Strom, Mrs. Wilhelm (Elna Matilda Persson)', 'Sex': 'female', 'Age': 29.0, 'SibSp': 1, 'Parch': 1, 'Ticket': '347054', 'Fare': 10.4625, 'Cabin': 'G6', 'Embarked': 'S'}\n",
      "\n",
      "Пассажир 253: 30.0%\n",
      "  Данные: {'PassengerId': 253, 'Survived': 0, 'Pclass': 1, 'Name': 'Stead, Mr. William Thomas', 'Sex': 'male', 'Age': 62.0, 'SibSp': 0, 'Parch': 0, 'Ticket': '113514', 'Fare': 26.55, 'Cabin': 'C87', 'Embarked': 'S'}\n",
      "\n",
      "Пассажир 254: 27.0%\n",
      "  Данные: {'PassengerId': 254, 'Survived': 0, 'Pclass': 3, 'Name': 'Lobb, Mr. William Arthur', 'Sex': 'male', 'Age': 30.0, 'SibSp': 1, 'Parch': 0, 'Ticket': 'A/5. 3336', 'Fare': 16.1, 'Cabin': nan, 'Embarked': 'S'}\n",
      "\n",
      "Пассажир 255: 36.0%\n",
      "  Данные: {'PassengerId': 255, 'Survived': 0, 'Pclass': 3, 'Name': 'Rosblom, Mrs. Viktor (Helena Wilhelmina)', 'Sex': 'female', 'Age': 41.0, 'SibSp': 0, 'Parch': 2, 'Ticket': '370129', 'Fare': 20.2125, 'Cabin': nan, 'Embarked': 'S'}\n",
      "\n",
      "Пассажир 256: 52.0%\n",
      "  Данные: {'PassengerId': 256, 'Survived': 1, 'Pclass': 3, 'Name': 'Touma, Mrs. Darwis (Hanne Youssef Razi)', 'Sex': 'female', 'Age': 29.0, 'SibSp': 0, 'Parch': 2, 'Ticket': '2650', 'Fare': 15.2458, 'Cabin': nan, 'Embarked': 'C'}\n",
      "\n",
      "Пассажир 257: 69.0%\n",
      "  Данные: {'PassengerId': 257, 'Survived': 1, 'Pclass': 1, 'Name': 'Thorne, Mrs. Gertrude Maybelle', 'Sex': 'female', 'Age': nan, 'SibSp': 0, 'Parch': 0, 'Ticket': 'PC 17585', 'Fare': 79.2, 'Cabin': nan, 'Embarked': 'C'}\n",
      "\n",
      "Пассажир 258: 43.0%\n",
      "  Данные: {'PassengerId': 258, 'Survived': 1, 'Pclass': 1, 'Name': 'Cherry, Miss. Gladys', 'Sex': 'female', 'Age': 30.0, 'SibSp': 0, 'Parch': 0, 'Ticket': '110152', 'Fare': 86.5, 'Cabin': 'B77', 'Embarked': 'S'}\n",
      "\n",
      "Пассажир 259: 59.0%\n",
      "  Данные: {'PassengerId': 259, 'Survived': 1, 'Pclass': 1, 'Name': 'Ward, Miss. Anna', 'Sex': 'female', 'Age': 35.0, 'SibSp': 0, 'Parch': 0, 'Ticket': 'PC 17755', 'Fare': 512.3292, 'Cabin': nan, 'Embarked': 'C'}\n",
      "\n",
      "Пассажир 260: 40.0%\n",
      "  Данные: {'PassengerId': 260, 'Survived': 1, 'Pclass': 2, 'Name': 'Parrish, Mrs. (Lutie Davis)', 'Sex': 'female', 'Age': 50.0, 'SibSp': 0, 'Parch': 1, 'Ticket': '230433', 'Fare': 26.0, 'Cabin': nan, 'Embarked': 'S'}\n",
      "\n",
      "Пассажир 261: 30.0%\n",
      "  Данные: {'PassengerId': 261, 'Survived': 0, 'Pclass': 3, 'Name': 'Smith, Mr. Thomas', 'Sex': 'male', 'Age': nan, 'SibSp': 0, 'Parch': 0, 'Ticket': '384461', 'Fare': 7.75, 'Cabin': nan, 'Embarked': 'Q'}\n",
      "\n",
      "Пассажир 262: 40.0%\n",
      "  Данные: {'PassengerId': 262, 'Survived': 1, 'Pclass': 3, 'Name': 'Asplund, Master. Edvin Rojj Felix', 'Sex': 'male', 'Age': 3.0, 'SibSp': 4, 'Parch': 2, 'Ticket': '347077', 'Fare': 31.3875, 'Cabin': nan, 'Embarked': 'S'}\n",
      "\n",
      "Пассажир 263: 34.0%\n",
      "  Данные: {'PassengerId': 263, 'Survived': 0, 'Pclass': 1, 'Name': 'Taussig, Mr. Emil', 'Sex': 'male', 'Age': 52.0, 'SibSp': 1, 'Parch': 1, 'Ticket': '110413', 'Fare': 79.65, 'Cabin': 'E67', 'Embarked': 'S'}\n",
      "\n",
      "Пассажир 264: 34.0%\n",
      "  Данные: {'PassengerId': 264, 'Survived': 0, 'Pclass': 1, 'Name': 'Harrison, Mr. William', 'Sex': 'male', 'Age': 40.0, 'SibSp': 0, 'Parch': 0, 'Ticket': '112059', 'Fare': 0.0, 'Cabin': 'B94', 'Embarked': 'S'}\n",
      "\n",
      "Пассажир 265: 43.0%\n",
      "  Данные: {'PassengerId': 265, 'Survived': 0, 'Pclass': 3, 'Name': 'Henry, Miss. Delia', 'Sex': 'female', 'Age': nan, 'SibSp': 0, 'Parch': 0, 'Ticket': '382649', 'Fare': 7.75, 'Cabin': nan, 'Embarked': 'Q'}\n",
      "\n",
      "Пассажир 266: 30.0%\n",
      "  Данные: {'PassengerId': 266, 'Survived': 0, 'Pclass': 2, 'Name': 'Reeves, Mr. David', 'Sex': 'male', 'Age': 36.0, 'SibSp': 0, 'Parch': 0, 'Ticket': 'C.A. 17248', 'Fare': 10.5, 'Cabin': nan, 'Embarked': 'S'}\n",
      "\n",
      "Пассажир 267: 27.0%\n",
      "  Данные: {'PassengerId': 267, 'Survived': 0, 'Pclass': 3, 'Name': 'Panula, Mr. Ernesti Arvid', 'Sex': 'male', 'Age': 16.0, 'SibSp': 4, 'Parch': 1, 'Ticket': '3101295', 'Fare': 39.6875, 'Cabin': nan, 'Embarked': 'S'}\n",
      "\n",
      "Пассажир 268: 27.0%\n",
      "  Данные: {'PassengerId': 268, 'Survived': 1, 'Pclass': 3, 'Name': 'Persson, Mr. Ernst Ulrik', 'Sex': 'male', 'Age': 25.0, 'SibSp': 1, 'Parch': 0, 'Ticket': '347083', 'Fare': 7.775, 'Cabin': nan, 'Embarked': 'S'}\n",
      "\n",
      "Пассажир 269: 43.0%\n",
      "  Данные: {'PassengerId': 269, 'Survived': 1, 'Pclass': 1, 'Name': 'Graham, Mrs. William Thompson (Edith Junkins)', 'Sex': 'female', 'Age': 58.0, 'SibSp': 0, 'Parch': 1, 'Ticket': 'PC 17582', 'Fare': 153.4625, 'Cabin': 'C125', 'Embarked': 'S'}\n",
      "\n",
      "Пассажир 270: 43.0%\n",
      "  Данные: {'PassengerId': 270, 'Survived': 1, 'Pclass': 1, 'Name': 'Bissette, Miss. Amelia', 'Sex': 'female', 'Age': 35.0, 'SibSp': 0, 'Parch': 0, 'Ticket': 'PC 17760', 'Fare': 135.6333, 'Cabin': 'C99', 'Embarked': 'S'}\n",
      "\n",
      "Пассажир 271: 40.0%\n",
      "  Данные: {'PassengerId': 271, 'Survived': 0, 'Pclass': 1, 'Name': 'Cairns, Mr. Alexander', 'Sex': 'male', 'Age': nan, 'SibSp': 0, 'Parch': 0, 'Ticket': '113798', 'Fare': 31.0, 'Cabin': nan, 'Embarked': 'S'}\n",
      "\n",
      "Пассажир 272: 27.0%\n",
      "  Данные: {'PassengerId': 272, 'Survived': 1, 'Pclass': 3, 'Name': 'Tornquist, Mr. William Henry', 'Sex': 'male', 'Age': 25.0, 'SibSp': 0, 'Parch': 0, 'Ticket': 'LINE', 'Fare': 0.0, 'Cabin': nan, 'Embarked': 'S'}\n",
      "\n",
      "Пассажир 273: 40.0%\n",
      "  Данные: {'PassengerId': 273, 'Survived': 1, 'Pclass': 2, 'Name': 'Mellinger, Mrs. (Elizabeth Anne Maidment)', 'Sex': 'female', 'Age': 41.0, 'SibSp': 0, 'Parch': 1, 'Ticket': '250644', 'Fare': 19.5, 'Cabin': nan, 'Embarked': 'S'}\n",
      "\n",
      "Пассажир 274: 50.0%\n",
      "  Данные: {'PassengerId': 274, 'Survived': 0, 'Pclass': 1, 'Name': 'Natsch, Mr. Charles H', 'Sex': 'male', 'Age': 37.0, 'SibSp': 0, 'Parch': 1, 'Ticket': 'PC 17596', 'Fare': 29.7, 'Cabin': 'C118', 'Embarked': 'C'}\n",
      "\n",
      "Пассажир 275: 43.0%\n",
      "  Данные: {'PassengerId': 275, 'Survived': 1, 'Pclass': 3, 'Name': 'Healy, Miss. Hanora \"Nora\"', 'Sex': 'female', 'Age': nan, 'SibSp': 0, 'Parch': 0, 'Ticket': '370375', 'Fare': 7.75, 'Cabin': nan, 'Embarked': 'Q'}\n",
      "\n",
      "Пассажир 276: 39.0%\n",
      "  Данные: {'PassengerId': 276, 'Survived': 1, 'Pclass': 1, 'Name': 'Andrews, Miss. Kornelia Theodosia', 'Sex': 'female', 'Age': 63.0, 'SibSp': 1, 'Parch': 0, 'Ticket': '13502', 'Fare': 77.9583, 'Cabin': 'D7', 'Embarked': 'S'}\n",
      "\n",
      "Пассажир 277: 36.0%\n",
      "  Данные: {'PassengerId': 277, 'Survived': 0, 'Pclass': 3, 'Name': 'Lindblom, Miss. Augusta Charlotta', 'Sex': 'female', 'Age': 45.0, 'SibSp': 0, 'Parch': 0, 'Ticket': '347073', 'Fare': 7.75, 'Cabin': nan, 'Embarked': 'S'}\n",
      "\n",
      "Пассажир 278: 35.0%\n",
      "  Данные: {'PassengerId': 278, 'Survived': 0, 'Pclass': 2, 'Name': 'Parkes, Mr. Francis \"Frank\"', 'Sex': 'male', 'Age': nan, 'SibSp': 0, 'Parch': 0, 'Ticket': '239853', 'Fare': 0.0, 'Cabin': nan, 'Embarked': 'S'}\n",
      "\n",
      "Пассажир 279: 40.0%\n",
      "  Данные: {'PassengerId': 279, 'Survived': 0, 'Pclass': 3, 'Name': 'Rice, Master. Eric', 'Sex': 'male', 'Age': 7.0, 'SibSp': 4, 'Parch': 1, 'Ticket': '382652', 'Fare': 29.125, 'Cabin': nan, 'Embarked': 'Q'}\n",
      "\n",
      "Пассажир 280: 36.0%\n",
      "  Данные: {'PassengerId': 280, 'Survived': 1, 'Pclass': 3, 'Name': 'Abbott, Mrs. Stanton (Rosa Hunt)', 'Sex': 'female', 'Age': 35.0, 'SibSp': 1, 'Parch': 1, 'Ticket': 'C.A. 2673', 'Fare': 20.25, 'Cabin': nan, 'Embarked': 'S'}\n",
      "\n",
      "Пассажир 281: 22.0%\n",
      "  Данные: {'PassengerId': 281, 'Survived': 0, 'Pclass': 3, 'Name': 'Duane, Mr. Frank', 'Sex': 'male', 'Age': 65.0, 'SibSp': 0, 'Parch': 0, 'Ticket': '336439', 'Fare': 7.75, 'Cabin': nan, 'Embarked': 'Q'}\n",
      "\n",
      "Пассажир 282: 27.0%\n",
      "  Данные: {'PassengerId': 282, 'Survived': 0, 'Pclass': 3, 'Name': 'Olsson, Mr. Nils Johan Goransson', 'Sex': 'male', 'Age': 28.0, 'SibSp': 0, 'Parch': 0, 'Ticket': '347464', 'Fare': 7.8542, 'Cabin': nan, 'Embarked': 'S'}\n",
      "\n",
      "Пассажир 283: 27.0%\n",
      "  Данные: {'PassengerId': 283, 'Survived': 0, 'Pclass': 3, 'Name': 'de Pelsmaeker, Mr. Alfons', 'Sex': 'male', 'Age': 16.0, 'SibSp': 0, 'Parch': 0, 'Ticket': '345778', 'Fare': 9.5, 'Cabin': nan, 'Embarked': 'S'}\n",
      "\n",
      "Пассажир 284: 27.0%\n",
      "  Данные: {'PassengerId': 284, 'Survived': 1, 'Pclass': 3, 'Name': 'Dorking, Mr. Edward Arthur', 'Sex': 'male', 'Age': 19.0, 'SibSp': 0, 'Parch': 0, 'Ticket': 'A/5. 10482', 'Fare': 8.05, 'Cabin': nan, 'Embarked': 'S'}\n",
      "\n",
      "Пассажир 285: 40.0%\n",
      "  Данные: {'PassengerId': 285, 'Survived': 0, 'Pclass': 1, 'Name': 'Smith, Mr. Richard William', 'Sex': 'male', 'Age': nan, 'SibSp': 0, 'Parch': 0, 'Ticket': '113056', 'Fare': 26.0, 'Cabin': 'A19', 'Embarked': 'S'}\n",
      "\n",
      "Пассажир 286: 43.0%\n",
      "  Данные: {'PassengerId': 286, 'Survived': 0, 'Pclass': 3, 'Name': 'Stankovic, Mr. Ivan', 'Sex': 'male', 'Age': 33.0, 'SibSp': 0, 'Parch': 0, 'Ticket': '349239', 'Fare': 8.6625, 'Cabin': nan, 'Embarked': 'C'}\n",
      "\n",
      "Пассажир 287: 27.0%\n",
      "  Данные: {'PassengerId': 287, 'Survived': 1, 'Pclass': 3, 'Name': 'de Mulder, Mr. Theodore', 'Sex': 'male', 'Age': 30.0, 'SibSp': 0, 'Parch': 0, 'Ticket': '345774', 'Fare': 9.5, 'Cabin': nan, 'Embarked': 'S'}\n",
      "\n",
      "Пассажир 288: 27.0%\n",
      "  Данные: {'PassengerId': 288, 'Survived': 0, 'Pclass': 3, 'Name': 'Naidenoff, Mr. Penko', 'Sex': 'male', 'Age': 22.0, 'SibSp': 0, 'Parch': 0, 'Ticket': '349206', 'Fare': 7.8958, 'Cabin': nan, 'Embarked': 'S'}\n",
      "\n",
      "Пассажир 289: 30.0%\n",
      "  Данные: {'PassengerId': 289, 'Survived': 1, 'Pclass': 2, 'Name': 'Hosono, Mr. Masabumi', 'Sex': 'male', 'Age': 42.0, 'SibSp': 0, 'Parch': 0, 'Ticket': '237798', 'Fare': 13.0, 'Cabin': nan, 'Embarked': 'S'}\n",
      "\n",
      "Пассажир 290: 36.0%\n",
      "  Данные: {'PassengerId': 290, 'Survived': 1, 'Pclass': 3, 'Name': 'Connolly, Miss. Kate', 'Sex': 'female', 'Age': 22.0, 'SibSp': 0, 'Parch': 0, 'Ticket': '370373', 'Fare': 7.75, 'Cabin': nan, 'Embarked': 'Q'}\n",
      "\n",
      "Пассажир 291: 43.0%\n",
      "  Данные: {'PassengerId': 291, 'Survived': 1, 'Pclass': 1, 'Name': 'Barber, Miss. Ellen \"Nellie\"', 'Sex': 'female', 'Age': 26.0, 'SibSp': 0, 'Parch': 0, 'Ticket': '19877', 'Fare': 78.85, 'Cabin': nan, 'Embarked': 'S'}\n",
      "\n",
      "Пассажир 292: 59.0%\n",
      "  Данные: {'PassengerId': 292, 'Survived': 1, 'Pclass': 1, 'Name': 'Bishop, Mrs. Dickinson H (Helen Walton)', 'Sex': 'female', 'Age': 19.0, 'SibSp': 1, 'Parch': 0, 'Ticket': '11967', 'Fare': 91.0792, 'Cabin': 'B49', 'Embarked': 'C'}\n",
      "\n",
      "Пассажир 293: 47.0%\n",
      "  Данные: {'PassengerId': 293, 'Survived': 0, 'Pclass': 2, 'Name': 'Levy, Mr. Rene Jacques', 'Sex': 'male', 'Age': 36.0, 'SibSp': 0, 'Parch': 0, 'Ticket': 'SC/Paris 2163', 'Fare': 12.875, 'Cabin': 'D', 'Embarked': 'C'}\n",
      "\n",
      "Пассажир 294: 36.0%\n",
      "  Данные: {'PassengerId': 294, 'Survived': 0, 'Pclass': 3, 'Name': 'Haas, Miss. Aloisia', 'Sex': 'female', 'Age': 24.0, 'SibSp': 0, 'Parch': 0, 'Ticket': '349236', 'Fare': 8.85, 'Cabin': nan, 'Embarked': 'S'}\n",
      "\n",
      "Пассажир 295: 27.0%\n",
      "  Данные: {'PassengerId': 295, 'Survived': 0, 'Pclass': 3, 'Name': 'Mineff, Mr. Ivan', 'Sex': 'male', 'Age': 24.0, 'SibSp': 0, 'Parch': 0, 'Ticket': '349233', 'Fare': 7.8958, 'Cabin': nan, 'Embarked': 'S'}\n",
      "\n",
      "Пассажир 296: 56.00000000000001%\n",
      "  Данные: {'PassengerId': 296, 'Survived': 0, 'Pclass': 1, 'Name': 'Lewy, Mr. Ervin G', 'Sex': 'male', 'Age': nan, 'SibSp': 0, 'Parch': 0, 'Ticket': 'PC 17612', 'Fare': 27.7208, 'Cabin': nan, 'Embarked': 'C'}\n",
      "\n",
      "Пассажир 297: 43.0%\n",
      "  Данные: {'PassengerId': 297, 'Survived': 0, 'Pclass': 3, 'Name': 'Hanna, Mr. Mansour', 'Sex': 'male', 'Age': 23.5, 'SibSp': 0, 'Parch': 0, 'Ticket': '2693', 'Fare': 7.2292, 'Cabin': nan, 'Embarked': 'C'}\n",
      "\n",
      "Пассажир 298: 56.99999999999999%\n",
      "  Данные: {'PassengerId': 298, 'Survived': 0, 'Pclass': 1, 'Name': 'Allison, Miss. Helen Loraine', 'Sex': 'female', 'Age': 2.0, 'SibSp': 1, 'Parch': 2, 'Ticket': '113781', 'Fare': 151.55, 'Cabin': 'C22 C26', 'Embarked': 'S'}\n",
      "\n",
      "Пассажир 299: 40.0%\n",
      "  Данные: {'PassengerId': 299, 'Survived': 1, 'Pclass': 1, 'Name': 'Saalfeld, Mr. Adolphe', 'Sex': 'male', 'Age': nan, 'SibSp': 0, 'Parch': 0, 'Ticket': '19988', 'Fare': 30.5, 'Cabin': 'C106', 'Embarked': 'S'}\n",
      "\n",
      "Пассажир 300: 59.0%\n",
      "  Данные: {'PassengerId': 300, 'Survived': 1, 'Pclass': 1, 'Name': 'Baxter, Mrs. James (Helene DeLaudeniere Chaput)', 'Sex': 'female', 'Age': 50.0, 'SibSp': 0, 'Parch': 1, 'Ticket': 'PC 17558', 'Fare': 247.5208, 'Cabin': 'B58 B60', 'Embarked': 'C'}\n",
      "\n",
      "Пассажир 301: 43.0%\n",
      "  Данные: {'PassengerId': 301, 'Survived': 1, 'Pclass': 3, 'Name': 'Kelly, Miss. Anna Katherine \"Annie Kate\"', 'Sex': 'female', 'Age': nan, 'SibSp': 0, 'Parch': 0, 'Ticket': '9234', 'Fare': 7.75, 'Cabin': nan, 'Embarked': 'Q'}\n",
      "\n",
      "Пассажир 302: 30.0%\n",
      "  Данные: {'PassengerId': 302, 'Survived': 1, 'Pclass': 3, 'Name': 'McCoy, Mr. Bernard', 'Sex': 'male', 'Age': nan, 'SibSp': 2, 'Parch': 0, 'Ticket': '367226', 'Fare': 23.25, 'Cabin': nan, 'Embarked': 'Q'}\n",
      "\n",
      "Пассажир 303: 27.0%\n",
      "  Данные: {'PassengerId': 303, 'Survived': 0, 'Pclass': 3, 'Name': 'Johnson, Mr. William Cahoone Jr', 'Sex': 'male', 'Age': 19.0, 'SibSp': 0, 'Parch': 0, 'Ticket': 'LINE', 'Fare': 0.0, 'Cabin': nan, 'Embarked': 'S'}\n",
      "\n",
      "Пассажир 304: 48.0%\n",
      "  Данные: {'PassengerId': 304, 'Survived': 1, 'Pclass': 2, 'Name': 'Keane, Miss. Nora A', 'Sex': 'female', 'Age': nan, 'SibSp': 0, 'Parch': 0, 'Ticket': '226593', 'Fare': 12.35, 'Cabin': 'E101', 'Embarked': 'Q'}\n",
      "\n",
      "Пассажир 305: 30.0%\n",
      "  Данные: {'PassengerId': 305, 'Survived': 0, 'Pclass': 3, 'Name': 'Williams, Mr. Howard Hugh \"Harry\"', 'Sex': 'male', 'Age': nan, 'SibSp': 0, 'Parch': 0, 'Ticket': 'A/5 2466', 'Fare': 8.05, 'Cabin': nan, 'Embarked': 'S'}\n",
      "\n",
      "Пассажир 306: 48.0%\n",
      "  Данные: {'PassengerId': 306, 'Survived': 1, 'Pclass': 1, 'Name': 'Allison, Master. Hudson Trevor', 'Sex': 'male', 'Age': 0.92, 'SibSp': 1, 'Parch': 2, 'Ticket': '113781', 'Fare': 151.55, 'Cabin': 'C22 C26', 'Embarked': 'S'}\n",
      "\n",
      "Пассажир 307: 69.0%\n",
      "  Данные: {'PassengerId': 307, 'Survived': 1, 'Pclass': 1, 'Name': 'Fleming, Miss. Margaret', 'Sex': 'female', 'Age': nan, 'SibSp': 0, 'Parch': 0, 'Ticket': '17421', 'Fare': 110.8833, 'Cabin': nan, 'Embarked': 'C'}\n",
      "\n",
      "Пассажир 308: 59.0%\n",
      "  Данные: {'PassengerId': 308, 'Survived': 1, 'Pclass': 1, 'Name': 'Penasco y Castellana, Mrs. Victor de Satode (Maria Josefa Perez de Soto y Vallejo)', 'Sex': 'female', 'Age': 17.0, 'SibSp': 1, 'Parch': 0, 'Ticket': 'PC 17758', 'Fare': 108.9, 'Cabin': 'C65', 'Embarked': 'C'}\n",
      "\n",
      "Пассажир 309: 47.0%\n",
      "  Данные: {'PassengerId': 309, 'Survived': 0, 'Pclass': 2, 'Name': 'Abelson, Mr. Samuel', 'Sex': 'male', 'Age': 30.0, 'SibSp': 1, 'Parch': 0, 'Ticket': 'P/PP 3381', 'Fare': 24.0, 'Cabin': nan, 'Embarked': 'C'}\n",
      "\n",
      "Пассажир 310: 59.0%\n",
      "  Данные: {'PassengerId': 310, 'Survived': 1, 'Pclass': 1, 'Name': 'Francatelli, Miss. Laura Mabel', 'Sex': 'female', 'Age': 30.0, 'SibSp': 0, 'Parch': 0, 'Ticket': 'PC 17485', 'Fare': 56.9292, 'Cabin': 'E36', 'Embarked': 'C'}\n",
      "\n",
      "Пассажир 311: 59.0%\n",
      "  Данные: {'PassengerId': 311, 'Survived': 1, 'Pclass': 1, 'Name': 'Hays, Miss. Margaret Bechstein', 'Sex': 'female', 'Age': 24.0, 'SibSp': 0, 'Parch': 0, 'Ticket': '11767', 'Fare': 83.1583, 'Cabin': 'C54', 'Embarked': 'C'}\n",
      "\n",
      "Пассажир 312: 59.0%\n",
      "  Данные: {'PassengerId': 312, 'Survived': 1, 'Pclass': 1, 'Name': 'Ryerson, Miss. Emily Borie', 'Sex': 'female', 'Age': 18.0, 'SibSp': 2, 'Parch': 2, 'Ticket': 'PC 17608', 'Fare': 262.375, 'Cabin': 'B57 B59 B63 B66', 'Embarked': 'C'}\n",
      "\n",
      "Пассажир 313: 40.0%\n",
      "  Данные: {'PassengerId': 313, 'Survived': 0, 'Pclass': 2, 'Name': 'Lahtinen, Mrs. William (Anna Sylfven)', 'Sex': 'female', 'Age': 26.0, 'SibSp': 1, 'Parch': 1, 'Ticket': '250651', 'Fare': 26.0, 'Cabin': nan, 'Embarked': 'S'}\n",
      "\n",
      "Пассажир 314: 27.0%\n",
      "  Данные: {'PassengerId': 314, 'Survived': 0, 'Pclass': 3, 'Name': 'Hendekovic, Mr. Ignjac', 'Sex': 'male', 'Age': 28.0, 'SibSp': 0, 'Parch': 0, 'Ticket': '349243', 'Fare': 7.8958, 'Cabin': nan, 'Embarked': 'S'}\n",
      "\n",
      "Пассажир 315: 30.0%\n",
      "  Данные: {'PassengerId': 315, 'Survived': 0, 'Pclass': 2, 'Name': 'Hart, Mr. Benjamin', 'Sex': 'male', 'Age': 43.0, 'SibSp': 1, 'Parch': 1, 'Ticket': 'F.C.C. 13529', 'Fare': 26.25, 'Cabin': nan, 'Embarked': 'S'}\n",
      "\n",
      "Пассажир 316: 36.0%\n",
      "  Данные: {'PassengerId': 316, 'Survived': 1, 'Pclass': 3, 'Name': 'Nilsson, Miss. Helmina Josefina', 'Sex': 'female', 'Age': 26.0, 'SibSp': 0, 'Parch': 0, 'Ticket': '347470', 'Fare': 7.8542, 'Cabin': nan, 'Embarked': 'S'}\n",
      "\n",
      "Пассажир 317: 40.0%\n",
      "  Данные: {'PassengerId': 317, 'Survived': 1, 'Pclass': 2, 'Name': 'Kantor, Mrs. Sinai (Miriam Sternin)', 'Sex': 'female', 'Age': 24.0, 'SibSp': 1, 'Parch': 0, 'Ticket': '244367', 'Fare': 26.0, 'Cabin': nan, 'Embarked': 'S'}\n",
      "\n",
      "Пассажир 318: 30.0%\n",
      "  Данные: {'PassengerId': 318, 'Survived': 0, 'Pclass': 2, 'Name': 'Moraweck, Dr. Ernest', 'Sex': 'male', 'Age': 54.0, 'SibSp': 0, 'Parch': 0, 'Ticket': '29011', 'Fare': 14.0, 'Cabin': nan, 'Embarked': 'S'}\n",
      "\n",
      "Пассажир 319: 43.0%\n",
      "  Данные: {'PassengerId': 319, 'Survived': 1, 'Pclass': 1, 'Name': 'Wick, Miss. Mary Natalie', 'Sex': 'female', 'Age': 31.0, 'SibSp': 0, 'Parch': 2, 'Ticket': '36928', 'Fare': 164.8667, 'Cabin': 'C7', 'Embarked': 'S'}\n",
      "\n",
      "Пассажир 320: 59.0%\n",
      "  Данные: {'PassengerId': 320, 'Survived': 1, 'Pclass': 1, 'Name': 'Spedden, Mrs. Frederic Oakley (Margaretta Corning Stone)', 'Sex': 'female', 'Age': 40.0, 'SibSp': 1, 'Parch': 1, 'Ticket': '16966', 'Fare': 134.5, 'Cabin': 'E34', 'Embarked': 'C'}\n",
      "\n",
      "Пассажир 321: 27.0%\n",
      "  Данные: {'PassengerId': 321, 'Survived': 0, 'Pclass': 3, 'Name': 'Dennis, Mr. Samuel', 'Sex': 'male', 'Age': 22.0, 'SibSp': 0, 'Parch': 0, 'Ticket': 'A/5 21172', 'Fare': 7.25, 'Cabin': nan, 'Embarked': 'S'}\n",
      "\n",
      "Пассажир 322: 27.0%\n",
      "  Данные: {'PassengerId': 322, 'Survived': 0, 'Pclass': 3, 'Name': 'Danoff, Mr. Yoto', 'Sex': 'male', 'Age': 27.0, 'SibSp': 0, 'Parch': 0, 'Ticket': '349219', 'Fare': 7.8958, 'Cabin': nan, 'Embarked': 'S'}\n",
      "\n",
      "Пассажир 323: 40.0%\n",
      "  Данные: {'PassengerId': 323, 'Survived': 1, 'Pclass': 2, 'Name': 'Slayter, Miss. Hilda Mary', 'Sex': 'female', 'Age': 30.0, 'SibSp': 0, 'Parch': 0, 'Ticket': '234818', 'Fare': 12.35, 'Cabin': nan, 'Embarked': 'Q'}\n",
      "\n",
      "Пассажир 324: 40.0%\n",
      "  Данные: {'PassengerId': 324, 'Survived': 1, 'Pclass': 2, 'Name': 'Caldwell, Mrs. Albert Francis (Sylvia Mae Harbaugh)', 'Sex': 'female', 'Age': 22.0, 'SibSp': 1, 'Parch': 1, 'Ticket': '248738', 'Fare': 29.0, 'Cabin': nan, 'Embarked': 'S'}\n",
      "\n",
      "Пассажир 325: 30.0%\n",
      "  Данные: {'PassengerId': 325, 'Survived': 0, 'Pclass': 3, 'Name': 'Sage, Mr. George John Jr', 'Sex': 'male', 'Age': nan, 'SibSp': 8, 'Parch': 2, 'Ticket': 'CA. 2343', 'Fare': 69.55, 'Cabin': nan, 'Embarked': 'S'}\n",
      "\n",
      "Пассажир 326: 59.0%\n",
      "  Данные: {'PassengerId': 326, 'Survived': 1, 'Pclass': 1, 'Name': 'Young, Miss. Marie Grice', 'Sex': 'female', 'Age': 36.0, 'SibSp': 0, 'Parch': 0, 'Ticket': 'PC 17760', 'Fare': 135.6333, 'Cabin': 'C32', 'Embarked': 'C'}\n",
      "\n",
      "Пассажир 327: 22.0%\n",
      "  Данные: {'PassengerId': 327, 'Survived': 0, 'Pclass': 3, 'Name': 'Nysveen, Mr. Johan Hansen', 'Sex': 'male', 'Age': 61.0, 'SibSp': 0, 'Parch': 0, 'Ticket': '345364', 'Fare': 6.2375, 'Cabin': nan, 'Embarked': 'S'}\n",
      "\n",
      "Пассажир 328: 40.0%\n",
      "  Данные: {'PassengerId': 328, 'Survived': 1, 'Pclass': 2, 'Name': 'Ball, Mrs. (Ada E Hall)', 'Sex': 'female', 'Age': 36.0, 'SibSp': 0, 'Parch': 0, 'Ticket': '28551', 'Fare': 13.0, 'Cabin': 'D', 'Embarked': 'S'}\n",
      "\n",
      "Пассажир 329: 36.0%\n",
      "  Данные: {'PassengerId': 329, 'Survived': 1, 'Pclass': 3, 'Name': 'Goldsmith, Mrs. Frank John (Emily Alice Brown)', 'Sex': 'female', 'Age': 31.0, 'SibSp': 1, 'Parch': 1, 'Ticket': '363291', 'Fare': 20.525, 'Cabin': nan, 'Embarked': 'S'}\n",
      "\n",
      "Пассажир 330: 59.0%\n",
      "  Данные: {'PassengerId': 330, 'Survived': 1, 'Pclass': 1, 'Name': 'Hippach, Miss. Jean Gertrude', 'Sex': 'female', 'Age': 16.0, 'SibSp': 0, 'Parch': 1, 'Ticket': '111361', 'Fare': 57.9792, 'Cabin': 'B18', 'Embarked': 'C'}\n",
      "\n",
      "Пассажир 331: 43.0%\n",
      "  Данные: {'PassengerId': 331, 'Survived': 1, 'Pclass': 3, 'Name': 'McCoy, Miss. Agnes', 'Sex': 'female', 'Age': nan, 'SibSp': 2, 'Parch': 0, 'Ticket': '367226', 'Fare': 23.25, 'Cabin': nan, 'Embarked': 'Q'}\n",
      "\n",
      "Пассажир 332: 34.0%\n",
      "  Данные: {'PassengerId': 332, 'Survived': 0, 'Pclass': 1, 'Name': 'Partner, Mr. Austen', 'Sex': 'male', 'Age': 45.5, 'SibSp': 0, 'Parch': 0, 'Ticket': '113043', 'Fare': 28.5, 'Cabin': 'C124', 'Embarked': 'S'}\n",
      "\n",
      "Пассажир 333: 34.0%\n",
      "  Данные: {'PassengerId': 333, 'Survived': 0, 'Pclass': 1, 'Name': 'Graham, Mr. George Edward', 'Sex': 'male', 'Age': 38.0, 'SibSp': 0, 'Parch': 1, 'Ticket': 'PC 17582', 'Fare': 153.4625, 'Cabin': 'C91', 'Embarked': 'S'}\n",
      "\n",
      "Пассажир 334: 27.0%\n",
      "  Данные: {'PassengerId': 334, 'Survived': 0, 'Pclass': 3, 'Name': 'Vander Planke, Mr. Leo Edmondus', 'Sex': 'male', 'Age': 16.0, 'SibSp': 2, 'Parch': 0, 'Ticket': '345764', 'Fare': 18.0, 'Cabin': nan, 'Embarked': 'S'}\n",
      "\n",
      "Пассажир 335: 53.0%\n",
      "  Данные: {'PassengerId': 335, 'Survived': 1, 'Pclass': 1, 'Name': 'Frauenthal, Mrs. Henry William (Clara Heinsheimer)', 'Sex': 'female', 'Age': nan, 'SibSp': 1, 'Parch': 0, 'Ticket': 'PC 17611', 'Fare': 133.65, 'Cabin': nan, 'Embarked': 'S'}\n",
      "\n",
      "Пассажир 336: 30.0%\n",
      "  Данные: {'PassengerId': 336, 'Survived': 0, 'Pclass': 3, 'Name': 'Denkoff, Mr. Mitto', 'Sex': 'male', 'Age': nan, 'SibSp': 0, 'Parch': 0, 'Ticket': '349225', 'Fare': 7.8958, 'Cabin': nan, 'Embarked': 'S'}\n",
      "\n",
      "Пассажир 337: 34.0%\n",
      "  Данные: {'PassengerId': 337, 'Survived': 0, 'Pclass': 1, 'Name': 'Pears, Mr. Thomas Clinton', 'Sex': 'male', 'Age': 29.0, 'SibSp': 1, 'Parch': 0, 'Ticket': '113776', 'Fare': 66.6, 'Cabin': 'C2', 'Embarked': 'S'}\n",
      "\n",
      "Пассажир 338: 59.0%\n",
      "  Данные: {'PassengerId': 338, 'Survived': 1, 'Pclass': 1, 'Name': 'Burns, Miss. Elizabeth Margaret', 'Sex': 'female', 'Age': 41.0, 'SibSp': 0, 'Parch': 0, 'Ticket': '16966', 'Fare': 134.5, 'Cabin': 'E40', 'Embarked': 'C'}\n",
      "\n",
      "Пассажир 339: 27.0%\n",
      "  Данные: {'PassengerId': 339, 'Survived': 1, 'Pclass': 3, 'Name': 'Dahl, Mr. Karl Edwart', 'Sex': 'male', 'Age': 45.0, 'SibSp': 0, 'Parch': 0, 'Ticket': '7598', 'Fare': 8.05, 'Cabin': nan, 'Embarked': 'S'}\n",
      "\n",
      "Пассажир 340: 34.0%\n",
      "  Данные: {'PassengerId': 340, 'Survived': 0, 'Pclass': 1, 'Name': 'Blackwell, Mr. Stephen Weart', 'Sex': 'male', 'Age': 45.0, 'SibSp': 0, 'Parch': 0, 'Ticket': '113784', 'Fare': 35.5, 'Cabin': 'T', 'Embarked': 'S'}\n",
      "\n",
      "Пассажир 341: 44.0%\n",
      "  Данные: {'PassengerId': 341, 'Survived': 1, 'Pclass': 2, 'Name': 'Navratil, Master. Edmond Roger', 'Sex': 'male', 'Age': 2.0, 'SibSp': 1, 'Parch': 1, 'Ticket': '230080', 'Fare': 26.0, 'Cabin': 'F2', 'Embarked': 'S'}\n",
      "\n",
      "Пассажир 342: 43.0%\n",
      "  Данные: {'PassengerId': 342, 'Survived': 1, 'Pclass': 1, 'Name': 'Fortune, Miss. Alice Elizabeth', 'Sex': 'female', 'Age': 24.0, 'SibSp': 3, 'Parch': 2, 'Ticket': '19950', 'Fare': 263.0, 'Cabin': 'C23 C25 C27', 'Embarked': 'S'}\n",
      "\n",
      "Пассажир 343: 30.0%\n",
      "  Данные: {'PassengerId': 343, 'Survived': 0, 'Pclass': 2, 'Name': 'Collander, Mr. Erik Gustaf', 'Sex': 'male', 'Age': 28.0, 'SibSp': 0, 'Parch': 0, 'Ticket': '248740', 'Fare': 13.0, 'Cabin': nan, 'Embarked': 'S'}\n",
      "\n",
      "Пассажир 344: 30.0%\n",
      "  Данные: {'PassengerId': 344, 'Survived': 0, 'Pclass': 2, 'Name': 'Sedgwick, Mr. Charles Frederick Waddington', 'Sex': 'male', 'Age': 25.0, 'SibSp': 0, 'Parch': 0, 'Ticket': '244361', 'Fare': 13.0, 'Cabin': nan, 'Embarked': 'S'}\n",
      "\n",
      "Пассажир 345: 30.0%\n",
      "  Данные: {'PassengerId': 345, 'Survived': 0, 'Pclass': 2, 'Name': 'Fox, Mr. Stanley Hubert', 'Sex': 'male', 'Age': 36.0, 'SibSp': 0, 'Parch': 0, 'Ticket': '229236', 'Fare': 13.0, 'Cabin': nan, 'Embarked': 'S'}\n",
      "\n",
      "Пассажир 346: 40.0%\n",
      "  Данные: {'PassengerId': 346, 'Survived': 1, 'Pclass': 2, 'Name': 'Brown, Miss. Amelia \"Mildred\"', 'Sex': 'female', 'Age': 24.0, 'SibSp': 0, 'Parch': 0, 'Ticket': '248733', 'Fare': 13.0, 'Cabin': 'F33', 'Embarked': 'S'}\n",
      "\n",
      "Пассажир 347: 40.0%\n",
      "  Данные: {'PassengerId': 347, 'Survived': 1, 'Pclass': 2, 'Name': 'Smith, Miss. Marion Elsie', 'Sex': 'female', 'Age': 40.0, 'SibSp': 0, 'Parch': 0, 'Ticket': '31418', 'Fare': 13.0, 'Cabin': nan, 'Embarked': 'S'}\n",
      "\n",
      "Пассажир 348: 43.0%\n",
      "  Данные: {'PassengerId': 348, 'Survived': 1, 'Pclass': 3, 'Name': 'Davison, Mrs. Thomas Henry (Mary E Finck)', 'Sex': 'female', 'Age': nan, 'SibSp': 1, 'Parch': 0, 'Ticket': '386525', 'Fare': 16.1, 'Cabin': nan, 'Embarked': 'S'}\n",
      "\n",
      "Пассажир 349: 40.0%\n",
      "  Данные: {'PassengerId': 349, 'Survived': 1, 'Pclass': 3, 'Name': 'Coutts, Master. William Loch \"William\"', 'Sex': 'male', 'Age': 3.0, 'SibSp': 1, 'Parch': 1, 'Ticket': 'C.A. 37671', 'Fare': 15.9, 'Cabin': nan, 'Embarked': 'S'}\n",
      "\n",
      "Пассажир 350: 27.0%\n",
      "  Данные: {'PassengerId': 350, 'Survived': 0, 'Pclass': 3, 'Name': 'Dimic, Mr. Jovan', 'Sex': 'male', 'Age': 42.0, 'SibSp': 0, 'Parch': 0, 'Ticket': '315088', 'Fare': 8.6625, 'Cabin': nan, 'Embarked': 'S'}\n",
      "\n",
      "Пассажир 351: 27.0%\n",
      "  Данные: {'PassengerId': 351, 'Survived': 0, 'Pclass': 3, 'Name': 'Odahl, Mr. Nils Martin', 'Sex': 'male', 'Age': 23.0, 'SibSp': 0, 'Parch': 0, 'Ticket': '7267', 'Fare': 9.225, 'Cabin': nan, 'Embarked': 'S'}\n",
      "\n",
      "Пассажир 352: 40.0%\n",
      "  Данные: {'PassengerId': 352, 'Survived': 0, 'Pclass': 1, 'Name': 'Williams-Lambert, Mr. Fletcher Fellows', 'Sex': 'male', 'Age': nan, 'SibSp': 0, 'Parch': 0, 'Ticket': '113510', 'Fare': 35.0, 'Cabin': 'C128', 'Embarked': 'S'}\n",
      "\n",
      "Пассажир 353: 43.0%\n",
      "  Данные: {'PassengerId': 353, 'Survived': 0, 'Pclass': 3, 'Name': 'Elias, Mr. Tannous', 'Sex': 'male', 'Age': 15.0, 'SibSp': 1, 'Parch': 1, 'Ticket': '2695', 'Fare': 7.2292, 'Cabin': nan, 'Embarked': 'C'}\n",
      "\n",
      "Пассажир 354: 27.0%\n",
      "  Данные: {'PassengerId': 354, 'Survived': 0, 'Pclass': 3, 'Name': 'Arnold-Franchi, Mr. Josef', 'Sex': 'male', 'Age': 25.0, 'SibSp': 1, 'Parch': 0, 'Ticket': '349237', 'Fare': 17.8, 'Cabin': nan, 'Embarked': 'S'}\n",
      "\n",
      "Пассажир 355: 46.0%\n",
      "  Данные: {'PassengerId': 355, 'Survived': 0, 'Pclass': 3, 'Name': 'Yousif, Mr. Wazli', 'Sex': 'male', 'Age': nan, 'SibSp': 0, 'Parch': 0, 'Ticket': '2647', 'Fare': 7.225, 'Cabin': nan, 'Embarked': 'C'}\n",
      "\n",
      "Пассажир 356: 27.0%\n",
      "  Данные: {'PassengerId': 356, 'Survived': 0, 'Pclass': 3, 'Name': 'Vanden Steen, Mr. Leo Peter', 'Sex': 'male', 'Age': 28.0, 'SibSp': 0, 'Parch': 0, 'Ticket': '345783', 'Fare': 9.5, 'Cabin': nan, 'Embarked': 'S'}\n",
      "\n",
      "Пассажир 357: 43.0%\n",
      "  Данные: {'PassengerId': 357, 'Survived': 1, 'Pclass': 1, 'Name': 'Bowerman, Miss. Elsie Edith', 'Sex': 'female', 'Age': 22.0, 'SibSp': 0, 'Parch': 1, 'Ticket': '113505', 'Fare': 55.0, 'Cabin': 'E33', 'Embarked': 'S'}\n",
      "\n",
      "Пассажир 358: 40.0%\n",
      "  Данные: {'PassengerId': 358, 'Survived': 0, 'Pclass': 2, 'Name': 'Funk, Miss. Annie Clemmer', 'Sex': 'female', 'Age': 38.0, 'SibSp': 0, 'Parch': 0, 'Ticket': '237671', 'Fare': 13.0, 'Cabin': nan, 'Embarked': 'S'}\n",
      "\n",
      "Пассажир 359: 43.0%\n",
      "  Данные: {'PassengerId': 359, 'Survived': 1, 'Pclass': 3, 'Name': 'McGovern, Miss. Mary', 'Sex': 'female', 'Age': nan, 'SibSp': 0, 'Parch': 0, 'Ticket': '330931', 'Fare': 7.8792, 'Cabin': nan, 'Embarked': 'Q'}\n",
      "\n",
      "Пассажир 360: 43.0%\n",
      "  Данные: {'PassengerId': 360, 'Survived': 1, 'Pclass': 3, 'Name': 'Mockler, Miss. Helen Mary \"Ellie\"', 'Sex': 'female', 'Age': nan, 'SibSp': 0, 'Parch': 0, 'Ticket': '330980', 'Fare': 7.8792, 'Cabin': nan, 'Embarked': 'Q'}\n",
      "\n",
      "Пассажир 361: 27.0%\n",
      "  Данные: {'PassengerId': 361, 'Survived': 0, 'Pclass': 3, 'Name': 'Skoog, Mr. Wilhelm', 'Sex': 'male', 'Age': 40.0, 'SibSp': 1, 'Parch': 4, 'Ticket': '347088', 'Fare': 27.9, 'Cabin': nan, 'Embarked': 'S'}\n",
      "\n",
      "Пассажир 362: 47.0%\n",
      "  Данные: {'PassengerId': 362, 'Survived': 0, 'Pclass': 2, 'Name': 'del Carlo, Mr. Sebastiano', 'Sex': 'male', 'Age': 29.0, 'SibSp': 1, 'Parch': 0, 'Ticket': 'SC/PARIS 2167', 'Fare': 27.7208, 'Cabin': nan, 'Embarked': 'C'}\n",
      "\n",
      "Пассажир 363: 52.0%\n",
      "  Данные: {'PassengerId': 363, 'Survived': 0, 'Pclass': 3, 'Name': 'Barbara, Mrs. (Catherine David)', 'Sex': 'female', 'Age': 45.0, 'SibSp': 0, 'Parch': 1, 'Ticket': '2691', 'Fare': 14.4542, 'Cabin': nan, 'Embarked': 'C'}\n",
      "\n",
      "Пассажир 364: 27.0%\n",
      "  Данные: {'PassengerId': 364, 'Survived': 0, 'Pclass': 3, 'Name': 'Asim, Mr. Adola', 'Sex': 'male', 'Age': 35.0, 'SibSp': 0, 'Parch': 0, 'Ticket': 'SOTON/O.Q. 3101310', 'Fare': 7.05, 'Cabin': nan, 'Embarked': 'S'}\n",
      "\n",
      "Пассажир 365: 30.0%\n",
      "  Данные: {'PassengerId': 365, 'Survived': 0, 'Pclass': 3, 'Name': \"O'Brien, Mr. Thomas\", 'Sex': 'male', 'Age': nan, 'SibSp': 1, 'Parch': 0, 'Ticket': '370365', 'Fare': 15.5, 'Cabin': nan, 'Embarked': 'Q'}\n",
      "\n",
      "Пассажир 366: 27.0%\n",
      "  Данные: {'PassengerId': 366, 'Survived': 0, 'Pclass': 3, 'Name': 'Adahl, Mr. Mauritz Nils Martin', 'Sex': 'male', 'Age': 30.0, 'SibSp': 0, 'Parch': 0, 'Ticket': 'C 7076', 'Fare': 7.25, 'Cabin': nan, 'Embarked': 'S'}\n",
      "\n",
      "Пассажир 367: 59.0%\n",
      "  Данные: {'PassengerId': 367, 'Survived': 1, 'Pclass': 1, 'Name': 'Warren, Mrs. Frank Manley (Anna Sophia Atkinson)', 'Sex': 'female', 'Age': 60.0, 'SibSp': 1, 'Parch': 0, 'Ticket': '110813', 'Fare': 75.25, 'Cabin': 'D37', 'Embarked': 'C'}\n",
      "\n",
      "Пассажир 368: 59.0%\n",
      "  Данные: {'PassengerId': 368, 'Survived': 1, 'Pclass': 3, 'Name': 'Moussa, Mrs. (Mantoura Boulos)', 'Sex': 'female', 'Age': nan, 'SibSp': 0, 'Parch': 0, 'Ticket': '2626', 'Fare': 7.2292, 'Cabin': nan, 'Embarked': 'C'}\n",
      "\n",
      "Пассажир 369: 43.0%\n",
      "  Данные: {'PassengerId': 369, 'Survived': 1, 'Pclass': 3, 'Name': 'Jermyn, Miss. Annie', 'Sex': 'female', 'Age': nan, 'SibSp': 0, 'Parch': 0, 'Ticket': '14313', 'Fare': 7.75, 'Cabin': nan, 'Embarked': 'Q'}\n",
      "\n",
      "Пассажир 370: 59.0%\n",
      "  Данные: {'PassengerId': 370, 'Survived': 1, 'Pclass': 1, 'Name': 'Aubart, Mme. Leontine Pauline', 'Sex': 'female', 'Age': 24.0, 'SibSp': 0, 'Parch': 0, 'Ticket': 'PC 17477', 'Fare': 69.3, 'Cabin': 'B35', 'Embarked': 'C'}\n",
      "\n",
      "Пассажир 371: 50.0%\n",
      "  Данные: {'PassengerId': 371, 'Survived': 1, 'Pclass': 1, 'Name': 'Harder, Mr. George Achilles', 'Sex': 'male', 'Age': 25.0, 'SibSp': 1, 'Parch': 0, 'Ticket': '11765', 'Fare': 55.4417, 'Cabin': 'E50', 'Embarked': 'C'}\n",
      "\n",
      "Пассажир 372: 27.0%\n",
      "  Данные: {'PassengerId': 372, 'Survived': 0, 'Pclass': 3, 'Name': 'Wiklund, Mr. Jakob Alfred', 'Sex': 'male', 'Age': 18.0, 'SibSp': 1, 'Parch': 0, 'Ticket': '3101267', 'Fare': 6.4958, 'Cabin': nan, 'Embarked': 'S'}\n",
      "\n",
      "Пассажир 373: 27.0%\n",
      "  Данные: {'PassengerId': 373, 'Survived': 0, 'Pclass': 3, 'Name': 'Beavan, Mr. William Thomas', 'Sex': 'male', 'Age': 19.0, 'SibSp': 0, 'Parch': 0, 'Ticket': '323951', 'Fare': 8.05, 'Cabin': nan, 'Embarked': 'S'}\n",
      "\n",
      "Пассажир 374: 50.0%\n",
      "  Данные: {'PassengerId': 374, 'Survived': 0, 'Pclass': 1, 'Name': 'Ringhini, Mr. Sante', 'Sex': 'male', 'Age': 22.0, 'SibSp': 0, 'Parch': 0, 'Ticket': 'PC 17760', 'Fare': 135.6333, 'Cabin': nan, 'Embarked': 'C'}\n",
      "\n",
      "Пассажир 375: 49.0%\n",
      "  Данные: {'PassengerId': 375, 'Survived': 0, 'Pclass': 3, 'Name': 'Palsson, Miss. Stina Viola', 'Sex': 'female', 'Age': 3.0, 'SibSp': 3, 'Parch': 1, 'Ticket': '349909', 'Fare': 21.075, 'Cabin': nan, 'Embarked': 'S'}\n",
      "\n",
      "Пассажир 376: 69.0%\n",
      "  Данные: {'PassengerId': 376, 'Survived': 1, 'Pclass': 1, 'Name': 'Meyer, Mrs. Edgar Joseph (Leila Saks)', 'Sex': 'female', 'Age': nan, 'SibSp': 1, 'Parch': 0, 'Ticket': 'PC 17604', 'Fare': 82.1708, 'Cabin': nan, 'Embarked': 'C'}\n",
      "\n",
      "Пассажир 377: 36.0%\n",
      "  Данные: {'PassengerId': 377, 'Survived': 1, 'Pclass': 3, 'Name': 'Landergren, Miss. Aurora Adelia', 'Sex': 'female', 'Age': 22.0, 'SibSp': 0, 'Parch': 0, 'Ticket': 'C 7077', 'Fare': 7.25, 'Cabin': nan, 'Embarked': 'S'}\n",
      "\n",
      "Пассажир 378: 50.0%\n",
      "  Данные: {'PassengerId': 378, 'Survived': 0, 'Pclass': 1, 'Name': 'Widener, Mr. Harry Elkins', 'Sex': 'male', 'Age': 27.0, 'SibSp': 0, 'Parch': 2, 'Ticket': '113503', 'Fare': 211.5, 'Cabin': 'C82', 'Embarked': 'C'}\n",
      "\n",
      "Пассажир 379: 43.0%\n",
      "  Данные: {'PassengerId': 379, 'Survived': 0, 'Pclass': 3, 'Name': 'Betros, Mr. Tannous', 'Sex': 'male', 'Age': 20.0, 'SibSp': 0, 'Parch': 0, 'Ticket': '2648', 'Fare': 4.0125, 'Cabin': nan, 'Embarked': 'C'}\n",
      "\n",
      "Пассажир 380: 27.0%\n",
      "  Данные: {'PassengerId': 380, 'Survived': 0, 'Pclass': 3, 'Name': 'Gustafsson, Mr. Karl Gideon', 'Sex': 'male', 'Age': 19.0, 'SibSp': 0, 'Parch': 0, 'Ticket': '347069', 'Fare': 7.775, 'Cabin': nan, 'Embarked': 'S'}\n",
      "\n",
      "Пассажир 381: 59.0%\n",
      "  Данные: {'PassengerId': 381, 'Survived': 1, 'Pclass': 1, 'Name': 'Bidois, Miss. Rosalie', 'Sex': 'female', 'Age': 42.0, 'SibSp': 0, 'Parch': 0, 'Ticket': 'PC 17757', 'Fare': 227.525, 'Cabin': nan, 'Embarked': 'C'}\n",
      "\n",
      "Пассажир 382: 66.0%\n",
      "  Данные: {'PassengerId': 382, 'Survived': 1, 'Pclass': 3, 'Name': 'Nakid, Miss. Maria (\"Mary\")', 'Sex': 'female', 'Age': 1.0, 'SibSp': 0, 'Parch': 2, 'Ticket': '2653', 'Fare': 15.7417, 'Cabin': nan, 'Embarked': 'C'}\n",
      "\n",
      "Пассажир 383: 27.0%\n",
      "  Данные: {'PassengerId': 383, 'Survived': 0, 'Pclass': 3, 'Name': 'Tikkanen, Mr. Juho', 'Sex': 'male', 'Age': 32.0, 'SibSp': 0, 'Parch': 0, 'Ticket': 'STON/O 2. 3101293', 'Fare': 7.925, 'Cabin': nan, 'Embarked': 'S'}\n",
      "\n",
      "Пассажир 384: 43.0%\n",
      "  Данные: {'PassengerId': 384, 'Survived': 1, 'Pclass': 1, 'Name': 'Holverson, Mrs. Alexander Oskar (Mary Aline Towner)', 'Sex': 'female', 'Age': 35.0, 'SibSp': 1, 'Parch': 0, 'Ticket': '113789', 'Fare': 52.0, 'Cabin': nan, 'Embarked': 'S'}\n",
      "\n",
      "Пассажир 385: 30.0%\n",
      "  Данные: {'PassengerId': 385, 'Survived': 0, 'Pclass': 3, 'Name': 'Plotcharsky, Mr. Vasil', 'Sex': 'male', 'Age': nan, 'SibSp': 0, 'Parch': 0, 'Ticket': '349227', 'Fare': 7.8958, 'Cabin': nan, 'Embarked': 'S'}\n",
      "\n",
      "Пассажир 386: 30.0%\n",
      "  Данные: {'PassengerId': 386, 'Survived': 0, 'Pclass': 2, 'Name': 'Davies, Mr. Charles Henry', 'Sex': 'male', 'Age': 18.0, 'SibSp': 0, 'Parch': 0, 'Ticket': 'S.O.C. 14879', 'Fare': 73.5, 'Cabin': nan, 'Embarked': 'S'}\n",
      "\n",
      "Пассажир 387: 40.0%\n",
      "  Данные: {'PassengerId': 387, 'Survived': 0, 'Pclass': 3, 'Name': 'Goodwin, Master. Sidney Leonard', 'Sex': 'male', 'Age': 1.0, 'SibSp': 5, 'Parch': 2, 'Ticket': 'CA 2144', 'Fare': 46.9, 'Cabin': nan, 'Embarked': 'S'}\n",
      "\n",
      "Пассажир 388: 40.0%\n",
      "  Данные: {'PassengerId': 388, 'Survived': 1, 'Pclass': 2, 'Name': 'Buss, Miss. Kate', 'Sex': 'female', 'Age': 36.0, 'SibSp': 0, 'Parch': 0, 'Ticket': '27849', 'Fare': 13.0, 'Cabin': nan, 'Embarked': 'S'}\n",
      "\n",
      "Пассажир 389: 30.0%\n",
      "  Данные: {'PassengerId': 389, 'Survived': 0, 'Pclass': 3, 'Name': 'Sadlier, Mr. Matthew', 'Sex': 'male', 'Age': nan, 'SibSp': 0, 'Parch': 0, 'Ticket': '367655', 'Fare': 7.7292, 'Cabin': nan, 'Embarked': 'Q'}\n",
      "\n",
      "Пассажир 390: 56.00000000000001%\n",
      "  Данные: {'PassengerId': 390, 'Survived': 1, 'Pclass': 2, 'Name': 'Lehmann, Miss. Bertha', 'Sex': 'female', 'Age': 17.0, 'SibSp': 0, 'Parch': 0, 'Ticket': 'SC 1748', 'Fare': 12.0, 'Cabin': nan, 'Embarked': 'C'}\n",
      "\n",
      "Пассажир 391: 34.0%\n",
      "  Данные: {'PassengerId': 391, 'Survived': 1, 'Pclass': 1, 'Name': 'Carter, Mr. William Ernest', 'Sex': 'male', 'Age': 36.0, 'SibSp': 1, 'Parch': 2, 'Ticket': '113760', 'Fare': 120.0, 'Cabin': 'B96 B98', 'Embarked': 'S'}\n",
      "\n",
      "Пассажир 392: 27.0%\n",
      "  Данные: {'PassengerId': 392, 'Survived': 1, 'Pclass': 3, 'Name': 'Jansson, Mr. Carl Olof', 'Sex': 'male', 'Age': 21.0, 'SibSp': 0, 'Parch': 0, 'Ticket': '350034', 'Fare': 7.7958, 'Cabin': nan, 'Embarked': 'S'}\n",
      "\n",
      "Пассажир 393: 27.0%\n",
      "  Данные: {'PassengerId': 393, 'Survived': 0, 'Pclass': 3, 'Name': 'Gustafsson, Mr. Johan Birger', 'Sex': 'male', 'Age': 28.0, 'SibSp': 2, 'Parch': 0, 'Ticket': '3101277', 'Fare': 7.925, 'Cabin': nan, 'Embarked': 'S'}\n",
      "\n",
      "Пассажир 394: 59.0%\n",
      "  Данные: {'PassengerId': 394, 'Survived': 1, 'Pclass': 1, 'Name': 'Newell, Miss. Marjorie', 'Sex': 'female', 'Age': 23.0, 'SibSp': 1, 'Parch': 0, 'Ticket': '35273', 'Fare': 113.275, 'Cabin': 'D36', 'Embarked': 'C'}\n",
      "\n",
      "Пассажир 395: 36.0%\n",
      "  Данные: {'PassengerId': 395, 'Survived': 1, 'Pclass': 3, 'Name': 'Sandstrom, Mrs. Hjalmar (Agnes Charlotta Bengtsson)', 'Sex': 'female', 'Age': 24.0, 'SibSp': 0, 'Parch': 2, 'Ticket': 'PP 9549', 'Fare': 16.7, 'Cabin': 'G6', 'Embarked': 'S'}\n",
      "\n",
      "Пассажир 396: 27.0%\n",
      "  Данные: {'PassengerId': 396, 'Survived': 0, 'Pclass': 3, 'Name': 'Johansson, Mr. Erik', 'Sex': 'male', 'Age': 22.0, 'SibSp': 0, 'Parch': 0, 'Ticket': '350052', 'Fare': 7.7958, 'Cabin': nan, 'Embarked': 'S'}\n",
      "\n",
      "Пассажир 397: 36.0%\n",
      "  Данные: {'PassengerId': 397, 'Survived': 0, 'Pclass': 3, 'Name': 'Olsson, Miss. Elina', 'Sex': 'female', 'Age': 31.0, 'SibSp': 0, 'Parch': 0, 'Ticket': '350407', 'Fare': 7.8542, 'Cabin': nan, 'Embarked': 'S'}\n",
      "\n",
      "Пассажир 398: 30.0%\n",
      "  Данные: {'PassengerId': 398, 'Survived': 0, 'Pclass': 2, 'Name': 'McKane, Mr. Peter David', 'Sex': 'male', 'Age': 46.0, 'SibSp': 0, 'Parch': 0, 'Ticket': '28403', 'Fare': 26.0, 'Cabin': nan, 'Embarked': 'S'}\n",
      "\n",
      "Пассажир 399: 30.0%\n",
      "  Данные: {'PassengerId': 399, 'Survived': 0, 'Pclass': 2, 'Name': 'Pain, Dr. Alfred', 'Sex': 'male', 'Age': 23.0, 'SibSp': 0, 'Parch': 0, 'Ticket': '244278', 'Fare': 10.5, 'Cabin': nan, 'Embarked': 'S'}\n",
      "\n",
      "Пассажир 400: 40.0%\n",
      "  Данные: {'PassengerId': 400, 'Survived': 1, 'Pclass': 2, 'Name': 'Trout, Mrs. William H (Jessie L)', 'Sex': 'female', 'Age': 28.0, 'SibSp': 0, 'Parch': 0, 'Ticket': '240929', 'Fare': 12.65, 'Cabin': nan, 'Embarked': 'S'}\n",
      "\n",
      "Пассажир 401: 27.0%\n",
      "  Данные: {'PassengerId': 401, 'Survived': 1, 'Pclass': 3, 'Name': 'Niskanen, Mr. Juha', 'Sex': 'male', 'Age': 39.0, 'SibSp': 0, 'Parch': 0, 'Ticket': 'STON/O 2. 3101289', 'Fare': 7.925, 'Cabin': nan, 'Embarked': 'S'}\n",
      "\n",
      "Пассажир 402: 27.0%\n",
      "  Данные: {'PassengerId': 402, 'Survived': 0, 'Pclass': 3, 'Name': 'Adams, Mr. John', 'Sex': 'male', 'Age': 26.0, 'SibSp': 0, 'Parch': 0, 'Ticket': '341826', 'Fare': 8.05, 'Cabin': nan, 'Embarked': 'S'}\n",
      "\n",
      "Пассажир 403: 36.0%\n",
      "  Данные: {'PassengerId': 403, 'Survived': 0, 'Pclass': 3, 'Name': 'Jussila, Miss. Mari Aina', 'Sex': 'female', 'Age': 21.0, 'SibSp': 1, 'Parch': 0, 'Ticket': '4137', 'Fare': 9.825, 'Cabin': nan, 'Embarked': 'S'}\n",
      "\n",
      "Пассажир 404: 27.0%\n",
      "  Данные: {'PassengerId': 404, 'Survived': 0, 'Pclass': 3, 'Name': 'Hakkarainen, Mr. Pekka Pietari', 'Sex': 'male', 'Age': 28.0, 'SibSp': 1, 'Parch': 0, 'Ticket': 'STON/O2. 3101279', 'Fare': 15.85, 'Cabin': nan, 'Embarked': 'S'}\n",
      "\n",
      "Пассажир 405: 36.0%\n",
      "  Данные: {'PassengerId': 405, 'Survived': 0, 'Pclass': 3, 'Name': 'Oreskovic, Miss. Marija', 'Sex': 'female', 'Age': 20.0, 'SibSp': 0, 'Parch': 0, 'Ticket': '315096', 'Fare': 8.6625, 'Cabin': nan, 'Embarked': 'S'}\n",
      "\n",
      "Пассажир 406: 30.0%\n",
      "  Данные: {'PassengerId': 406, 'Survived': 0, 'Pclass': 2, 'Name': 'Gale, Mr. Shadrach', 'Sex': 'male', 'Age': 34.0, 'SibSp': 1, 'Parch': 0, 'Ticket': '28664', 'Fare': 21.0, 'Cabin': nan, 'Embarked': 'S'}\n",
      "\n",
      "Пассажир 407: 27.0%\n",
      "  Данные: {'PassengerId': 407, 'Survived': 0, 'Pclass': 3, 'Name': 'Widegren, Mr. Carl/Charles Peter', 'Sex': 'male', 'Age': 51.0, 'SibSp': 0, 'Parch': 0, 'Ticket': '347064', 'Fare': 7.75, 'Cabin': nan, 'Embarked': 'S'}\n",
      "\n",
      "Пассажир 408: 44.0%\n",
      "  Данные: {'PassengerId': 408, 'Survived': 1, 'Pclass': 2, 'Name': 'Richards, Master. William Rowe', 'Sex': 'male', 'Age': 3.0, 'SibSp': 1, 'Parch': 1, 'Ticket': '29106', 'Fare': 18.75, 'Cabin': nan, 'Embarked': 'S'}\n",
      "\n",
      "Пассажир 409: 27.0%\n",
      "  Данные: {'PassengerId': 409, 'Survived': 0, 'Pclass': 3, 'Name': 'Birkeland, Mr. Hans Martin Monsen', 'Sex': 'male', 'Age': 21.0, 'SibSp': 0, 'Parch': 0, 'Ticket': '312992', 'Fare': 7.775, 'Cabin': nan, 'Embarked': 'S'}\n",
      "\n",
      "Пассажир 410: 43.0%\n",
      "  Данные: {'PassengerId': 410, 'Survived': 0, 'Pclass': 3, 'Name': 'Lefebre, Miss. Ida', 'Sex': 'female', 'Age': nan, 'SibSp': 3, 'Parch': 1, 'Ticket': '4133', 'Fare': 25.4667, 'Cabin': nan, 'Embarked': 'S'}\n",
      "\n",
      "Пассажир 411: 30.0%\n",
      "  Данные: {'PassengerId': 411, 'Survived': 0, 'Pclass': 3, 'Name': 'Sdycoff, Mr. Todor', 'Sex': 'male', 'Age': nan, 'SibSp': 0, 'Parch': 0, 'Ticket': '349222', 'Fare': 7.8958, 'Cabin': nan, 'Embarked': 'S'}\n",
      "\n",
      "Пассажир 412: 30.0%\n",
      "  Данные: {'PassengerId': 412, 'Survived': 0, 'Pclass': 3, 'Name': 'Hart, Mr. Henry', 'Sex': 'male', 'Age': nan, 'SibSp': 0, 'Parch': 0, 'Ticket': '394140', 'Fare': 6.8583, 'Cabin': nan, 'Embarked': 'Q'}\n",
      "\n",
      "Пассажир 413: 43.0%\n",
      "  Данные: {'PassengerId': 413, 'Survived': 1, 'Pclass': 1, 'Name': 'Minahan, Miss. Daisy E', 'Sex': 'female', 'Age': 33.0, 'SibSp': 1, 'Parch': 0, 'Ticket': '19928', 'Fare': 90.0, 'Cabin': 'C78', 'Embarked': 'Q'}\n",
      "\n",
      "Пассажир 414: 35.0%\n",
      "  Данные: {'PassengerId': 414, 'Survived': 0, 'Pclass': 2, 'Name': 'Cunningham, Mr. Alfred Fleming', 'Sex': 'male', 'Age': nan, 'SibSp': 0, 'Parch': 0, 'Ticket': '239853', 'Fare': 0.0, 'Cabin': nan, 'Embarked': 'S'}\n",
      "\n",
      "Пассажир 415: 27.0%\n",
      "  Данные: {'PassengerId': 415, 'Survived': 1, 'Pclass': 3, 'Name': 'Sundman, Mr. Johan Julian', 'Sex': 'male', 'Age': 44.0, 'SibSp': 0, 'Parch': 0, 'Ticket': 'STON/O 2. 3101269', 'Fare': 7.925, 'Cabin': nan, 'Embarked': 'S'}\n",
      "\n",
      "Пассажир 416: 43.0%\n",
      "  Данные: {'PassengerId': 416, 'Survived': 0, 'Pclass': 3, 'Name': 'Meek, Mrs. Thomas (Annie Louise Rowley)', 'Sex': 'female', 'Age': nan, 'SibSp': 0, 'Parch': 0, 'Ticket': '343095', 'Fare': 8.05, 'Cabin': nan, 'Embarked': 'S'}\n",
      "\n",
      "Пассажир 417: 40.0%\n",
      "  Данные: {'PassengerId': 417, 'Survived': 1, 'Pclass': 2, 'Name': 'Drew, Mrs. James Vivian (Lulu Thorne Christian)', 'Sex': 'female', 'Age': 34.0, 'SibSp': 1, 'Parch': 1, 'Ticket': '28220', 'Fare': 32.5, 'Cabin': nan, 'Embarked': 'S'}\n",
      "\n",
      "Пассажир 418: 40.0%\n",
      "  Данные: {'PassengerId': 418, 'Survived': 1, 'Pclass': 2, 'Name': 'Silven, Miss. Lyyli Karoliina', 'Sex': 'female', 'Age': 18.0, 'SibSp': 0, 'Parch': 2, 'Ticket': '250652', 'Fare': 13.0, 'Cabin': nan, 'Embarked': 'S'}\n",
      "\n",
      "Пассажир 419: 30.0%\n",
      "  Данные: {'PassengerId': 419, 'Survived': 0, 'Pclass': 2, 'Name': 'Matthews, Mr. William John', 'Sex': 'male', 'Age': 30.0, 'SibSp': 0, 'Parch': 0, 'Ticket': '28228', 'Fare': 13.0, 'Cabin': nan, 'Embarked': 'S'}\n",
      "\n",
      "Пассажир 420: 49.0%\n",
      "  Данные: {'PassengerId': 420, 'Survived': 0, 'Pclass': 3, 'Name': 'Van Impe, Miss. Catharina', 'Sex': 'female', 'Age': 10.0, 'SibSp': 0, 'Parch': 2, 'Ticket': '345773', 'Fare': 24.15, 'Cabin': nan, 'Embarked': 'S'}\n",
      "\n",
      "Пассажир 421: 46.0%\n",
      "  Данные: {'PassengerId': 421, 'Survived': 0, 'Pclass': 3, 'Name': 'Gheorgheff, Mr. Stanio', 'Sex': 'male', 'Age': nan, 'SibSp': 0, 'Parch': 0, 'Ticket': '349254', 'Fare': 7.8958, 'Cabin': nan, 'Embarked': 'C'}\n",
      "\n",
      "Пассажир 422: 27.0%\n",
      "  Данные: {'PassengerId': 422, 'Survived': 0, 'Pclass': 3, 'Name': 'Charters, Mr. David', 'Sex': 'male', 'Age': 21.0, 'SibSp': 0, 'Parch': 0, 'Ticket': 'A/5. 13032', 'Fare': 7.7333, 'Cabin': nan, 'Embarked': 'Q'}\n",
      "\n",
      "Пассажир 423: 27.0%\n",
      "  Данные: {'PassengerId': 423, 'Survived': 0, 'Pclass': 3, 'Name': 'Zimmerman, Mr. Leo', 'Sex': 'male', 'Age': 29.0, 'SibSp': 0, 'Parch': 0, 'Ticket': '315082', 'Fare': 7.875, 'Cabin': nan, 'Embarked': 'S'}\n",
      "\n",
      "Пассажир 424: 36.0%\n",
      "  Данные: {'PassengerId': 424, 'Survived': 0, 'Pclass': 3, 'Name': 'Danbom, Mrs. Ernst Gilbert (Anna Sigrid Maria Brogren)', 'Sex': 'female', 'Age': 28.0, 'SibSp': 1, 'Parch': 1, 'Ticket': '347080', 'Fare': 14.4, 'Cabin': nan, 'Embarked': 'S'}\n",
      "\n",
      "Пассажир 425: 27.0%\n",
      "  Данные: {'PassengerId': 425, 'Survived': 0, 'Pclass': 3, 'Name': 'Rosblom, Mr. Viktor Richard', 'Sex': 'male', 'Age': 18.0, 'SibSp': 1, 'Parch': 1, 'Ticket': '370129', 'Fare': 20.2125, 'Cabin': nan, 'Embarked': 'S'}\n",
      "\n",
      "Пассажир 426: 30.0%\n",
      "  Данные: {'PassengerId': 426, 'Survived': 0, 'Pclass': 3, 'Name': 'Wiseman, Mr. Phillippe', 'Sex': 'male', 'Age': nan, 'SibSp': 0, 'Parch': 0, 'Ticket': 'A/4. 34244', 'Fare': 7.25, 'Cabin': nan, 'Embarked': 'S'}\n",
      "\n",
      "Пассажир 427: 40.0%\n",
      "  Данные: {'PassengerId': 427, 'Survived': 1, 'Pclass': 2, 'Name': 'Clarke, Mrs. Charles V (Ada Maria Winfield)', 'Sex': 'female', 'Age': 28.0, 'SibSp': 1, 'Parch': 0, 'Ticket': '2003', 'Fare': 26.0, 'Cabin': nan, 'Embarked': 'S'}\n",
      "\n",
      "Пассажир 428: 40.0%\n",
      "  Данные: {'PassengerId': 428, 'Survived': 1, 'Pclass': 2, 'Name': 'Phillips, Miss. Kate Florence (\"Mrs Kate Louise Phillips Marshall\")', 'Sex': 'female', 'Age': 19.0, 'SibSp': 0, 'Parch': 0, 'Ticket': '250655', 'Fare': 26.0, 'Cabin': nan, 'Embarked': 'S'}\n",
      "\n",
      "Пассажир 429: 30.0%\n",
      "  Данные: {'PassengerId': 429, 'Survived': 0, 'Pclass': 3, 'Name': 'Flynn, Mr. James', 'Sex': 'male', 'Age': nan, 'SibSp': 0, 'Parch': 0, 'Ticket': '364851', 'Fare': 7.75, 'Cabin': nan, 'Embarked': 'Q'}\n",
      "\n",
      "Пассажир 430: 27.0%\n",
      "  Данные: {'PassengerId': 430, 'Survived': 1, 'Pclass': 3, 'Name': 'Pickard, Mr. Berk (Berk Trembisky)', 'Sex': 'male', 'Age': 32.0, 'SibSp': 0, 'Parch': 0, 'Ticket': 'SOTON/O.Q. 392078', 'Fare': 8.05, 'Cabin': 'E10', 'Embarked': 'S'}\n",
      "\n",
      "Пассажир 431: 34.0%\n",
      "  Данные: {'PassengerId': 431, 'Survived': 1, 'Pclass': 1, 'Name': 'Bjornstrom-Steffansson, Mr. Mauritz Hakan', 'Sex': 'male', 'Age': 28.0, 'SibSp': 0, 'Parch': 0, 'Ticket': '110564', 'Fare': 26.55, 'Cabin': 'C52', 'Embarked': 'S'}\n",
      "\n",
      "Пассажир 432: 43.0%\n",
      "  Данные: {'PassengerId': 432, 'Survived': 1, 'Pclass': 3, 'Name': 'Thorneycroft, Mrs. Percival (Florence Kate White)', 'Sex': 'female', 'Age': nan, 'SibSp': 1, 'Parch': 0, 'Ticket': '376564', 'Fare': 16.1, 'Cabin': nan, 'Embarked': 'S'}\n",
      "\n",
      "Пассажир 433: 40.0%\n",
      "  Данные: {'PassengerId': 433, 'Survived': 1, 'Pclass': 2, 'Name': 'Louch, Mrs. Charles Alexander (Alice Adelaide Slow)', 'Sex': 'female', 'Age': 42.0, 'SibSp': 1, 'Parch': 0, 'Ticket': 'SC/AH 3085', 'Fare': 26.0, 'Cabin': nan, 'Embarked': 'S'}\n",
      "\n",
      "Пассажир 434: 27.0%\n",
      "  Данные: {'PassengerId': 434, 'Survived': 0, 'Pclass': 3, 'Name': 'Kallio, Mr. Nikolai Erland', 'Sex': 'male', 'Age': 17.0, 'SibSp': 0, 'Parch': 0, 'Ticket': 'STON/O 2. 3101274', 'Fare': 7.125, 'Cabin': nan, 'Embarked': 'S'}\n",
      "\n",
      "Пассажир 435: 34.0%\n",
      "  Данные: {'PassengerId': 435, 'Survived': 0, 'Pclass': 1, 'Name': 'Silvey, Mr. William Baird', 'Sex': 'male', 'Age': 50.0, 'SibSp': 1, 'Parch': 0, 'Ticket': '13507', 'Fare': 55.9, 'Cabin': 'E44', 'Embarked': 'S'}\n",
      "\n",
      "Пассажир 436: 43.0%\n",
      "  Данные: {'PassengerId': 436, 'Survived': 1, 'Pclass': 1, 'Name': 'Carter, Miss. Lucile Polk', 'Sex': 'female', 'Age': 14.0, 'SibSp': 1, 'Parch': 2, 'Ticket': '113760', 'Fare': 120.0, 'Cabin': 'B96 B98', 'Embarked': 'S'}\n",
      "\n",
      "Пассажир 437: 36.0%\n",
      "  Данные: {'PassengerId': 437, 'Survived': 0, 'Pclass': 3, 'Name': 'Ford, Miss. Doolina Margaret \"Daisy\"', 'Sex': 'female', 'Age': 21.0, 'SibSp': 2, 'Parch': 2, 'Ticket': 'W./C. 6608', 'Fare': 34.375, 'Cabin': nan, 'Embarked': 'S'}\n",
      "\n",
      "Пассажир 438: 40.0%\n",
      "  Данные: {'PassengerId': 438, 'Survived': 1, 'Pclass': 2, 'Name': 'Richards, Mrs. Sidney (Emily Hocking)', 'Sex': 'female', 'Age': 24.0, 'SibSp': 2, 'Parch': 3, 'Ticket': '29106', 'Fare': 18.75, 'Cabin': nan, 'Embarked': 'S'}\n",
      "\n",
      "Пассажир 439: 30.0%\n",
      "  Данные: {'PassengerId': 439, 'Survived': 0, 'Pclass': 1, 'Name': 'Fortune, Mr. Mark', 'Sex': 'male', 'Age': 64.0, 'SibSp': 1, 'Parch': 4, 'Ticket': '19950', 'Fare': 263.0, 'Cabin': 'C23 C25 C27', 'Embarked': 'S'}\n",
      "\n",
      "Пассажир 440: 30.0%\n",
      "  Данные: {'PassengerId': 440, 'Survived': 0, 'Pclass': 2, 'Name': 'Kvillner, Mr. Johan Henrik Johannesson', 'Sex': 'male', 'Age': 31.0, 'SibSp': 0, 'Parch': 0, 'Ticket': 'C.A. 18723', 'Fare': 10.5, 'Cabin': nan, 'Embarked': 'S'}\n",
      "\n",
      "Пассажир 441: 40.0%\n",
      "  Данные: {'PassengerId': 441, 'Survived': 1, 'Pclass': 2, 'Name': 'Hart, Mrs. Benjamin (Esther Ada Bloomfield)', 'Sex': 'female', 'Age': 45.0, 'SibSp': 1, 'Parch': 1, 'Ticket': 'F.C.C. 13529', 'Fare': 26.25, 'Cabin': nan, 'Embarked': 'S'}\n",
      "\n",
      "Пассажир 442: 27.0%\n",
      "  Данные: {'PassengerId': 442, 'Survived': 0, 'Pclass': 3, 'Name': 'Hampe, Mr. Leon', 'Sex': 'male', 'Age': 20.0, 'SibSp': 0, 'Parch': 0, 'Ticket': '345769', 'Fare': 9.5, 'Cabin': nan, 'Embarked': 'S'}\n",
      "\n",
      "Пассажир 443: 27.0%\n",
      "  Данные: {'PassengerId': 443, 'Survived': 0, 'Pclass': 3, 'Name': 'Petterson, Mr. Johan Emil', 'Sex': 'male', 'Age': 25.0, 'SibSp': 1, 'Parch': 0, 'Ticket': '347076', 'Fare': 7.775, 'Cabin': nan, 'Embarked': 'S'}\n",
      "\n",
      "Пассажир 444: 40.0%\n",
      "  Данные: {'PassengerId': 444, 'Survived': 1, 'Pclass': 2, 'Name': 'Reynaldo, Ms. Encarnacion', 'Sex': 'female', 'Age': 28.0, 'SibSp': 0, 'Parch': 0, 'Ticket': '230434', 'Fare': 13.0, 'Cabin': nan, 'Embarked': 'S'}\n",
      "\n",
      "Пассажир 445: 30.0%\n",
      "  Данные: {'PassengerId': 445, 'Survived': 1, 'Pclass': 3, 'Name': 'Johannesen-Bratthammer, Mr. Bernt', 'Sex': 'male', 'Age': nan, 'SibSp': 0, 'Parch': 0, 'Ticket': '65306', 'Fare': 8.1125, 'Cabin': nan, 'Embarked': 'S'}\n",
      "\n",
      "Пассажир 446: 48.0%\n",
      "  Данные: {'PassengerId': 446, 'Survived': 1, 'Pclass': 1, 'Name': 'Dodge, Master. Washington', 'Sex': 'male', 'Age': 4.0, 'SibSp': 0, 'Parch': 2, 'Ticket': '33638', 'Fare': 81.8583, 'Cabin': 'A34', 'Embarked': 'S'}\n",
      "\n",
      "Пассажир 447: 40.0%\n",
      "  Данные: {'PassengerId': 447, 'Survived': 1, 'Pclass': 2, 'Name': 'Mellinger, Miss. Madeleine Violet', 'Sex': 'female', 'Age': 13.0, 'SibSp': 0, 'Parch': 1, 'Ticket': '250644', 'Fare': 19.5, 'Cabin': nan, 'Embarked': 'S'}\n",
      "\n",
      "Пассажир 448: 34.0%\n",
      "  Данные: {'PassengerId': 448, 'Survived': 1, 'Pclass': 1, 'Name': 'Seward, Mr. Frederic Kimber', 'Sex': 'male', 'Age': 34.0, 'SibSp': 0, 'Parch': 0, 'Ticket': '113794', 'Fare': 26.55, 'Cabin': nan, 'Embarked': 'S'}\n",
      "\n",
      "Пассажир 449: 66.0%\n",
      "  Данные: {'PassengerId': 449, 'Survived': 1, 'Pclass': 3, 'Name': 'Baclini, Miss. Marie Catherine', 'Sex': 'female', 'Age': 5.0, 'SibSp': 2, 'Parch': 1, 'Ticket': '2666', 'Fare': 19.2583, 'Cabin': nan, 'Embarked': 'C'}\n",
      "\n",
      "Пассажир 450: 34.0%\n",
      "  Данные: {'PassengerId': 450, 'Survived': 1, 'Pclass': 1, 'Name': 'Peuchen, Major. Arthur Godfrey', 'Sex': 'male', 'Age': 52.0, 'SibSp': 0, 'Parch': 0, 'Ticket': '113786', 'Fare': 30.5, 'Cabin': 'C104', 'Embarked': 'S'}\n",
      "\n",
      "Пассажир 451: 30.0%\n",
      "  Данные: {'PassengerId': 451, 'Survived': 0, 'Pclass': 2, 'Name': 'West, Mr. Edwy Arthur', 'Sex': 'male', 'Age': 36.0, 'SibSp': 1, 'Parch': 2, 'Ticket': 'C.A. 34651', 'Fare': 27.75, 'Cabin': nan, 'Embarked': 'S'}\n",
      "\n",
      "Пассажир 452: 30.0%\n",
      "  Данные: {'PassengerId': 452, 'Survived': 0, 'Pclass': 3, 'Name': 'Hagland, Mr. Ingvald Olai Olsen', 'Sex': 'male', 'Age': nan, 'SibSp': 1, 'Parch': 0, 'Ticket': '65303', 'Fare': 19.9667, 'Cabin': nan, 'Embarked': 'S'}\n",
      "\n",
      "Пассажир 453: 50.0%\n",
      "  Данные: {'PassengerId': 453, 'Survived': 0, 'Pclass': 1, 'Name': 'Foreman, Mr. Benjamin Laventall', 'Sex': 'male', 'Age': 30.0, 'SibSp': 0, 'Parch': 0, 'Ticket': '113051', 'Fare': 27.75, 'Cabin': 'C111', 'Embarked': 'C'}\n",
      "\n",
      "Пассажир 454: 50.0%\n",
      "  Данные: {'PassengerId': 454, 'Survived': 1, 'Pclass': 1, 'Name': 'Goldenberg, Mr. Samuel L', 'Sex': 'male', 'Age': 49.0, 'SibSp': 1, 'Parch': 0, 'Ticket': '17453', 'Fare': 89.1042, 'Cabin': 'C92', 'Embarked': 'C'}\n",
      "\n",
      "Пассажир 455: 30.0%\n",
      "  Данные: {'PassengerId': 455, 'Survived': 0, 'Pclass': 3, 'Name': 'Peduzzi, Mr. Joseph', 'Sex': 'male', 'Age': nan, 'SibSp': 0, 'Parch': 0, 'Ticket': 'A/5 2817', 'Fare': 8.05, 'Cabin': nan, 'Embarked': 'S'}\n",
      "\n",
      "Пассажир 456: 43.0%\n",
      "  Данные: {'PassengerId': 456, 'Survived': 1, 'Pclass': 3, 'Name': 'Jalsevac, Mr. Ivan', 'Sex': 'male', 'Age': 29.0, 'SibSp': 0, 'Parch': 0, 'Ticket': '349240', 'Fare': 7.8958, 'Cabin': nan, 'Embarked': 'C'}\n",
      "\n",
      "Пассажир 457: 30.0%\n",
      "  Данные: {'PassengerId': 457, 'Survived': 0, 'Pclass': 1, 'Name': 'Millet, Mr. Francis Davis', 'Sex': 'male', 'Age': 65.0, 'SibSp': 0, 'Parch': 0, 'Ticket': '13509', 'Fare': 26.55, 'Cabin': 'E38', 'Embarked': 'S'}\n",
      "\n",
      "Пассажир 458: 53.0%\n",
      "  Данные: {'PassengerId': 458, 'Survived': 1, 'Pclass': 1, 'Name': 'Kenyon, Mrs. Frederick R (Marion)', 'Sex': 'female', 'Age': nan, 'SibSp': 1, 'Parch': 0, 'Ticket': '17464', 'Fare': 51.8625, 'Cabin': 'D21', 'Embarked': 'S'}\n",
      "\n",
      "Пассажир 459: 40.0%\n",
      "  Данные: {'PassengerId': 459, 'Survived': 1, 'Pclass': 2, 'Name': 'Toomey, Miss. Ellen', 'Sex': 'female', 'Age': 50.0, 'SibSp': 0, 'Parch': 0, 'Ticket': 'F.C.C. 13531', 'Fare': 10.5, 'Cabin': nan, 'Embarked': 'S'}\n",
      "\n",
      "Пассажир 460: 30.0%\n",
      "  Данные: {'PassengerId': 460, 'Survived': 0, 'Pclass': 3, 'Name': \"O'Connor, Mr. Maurice\", 'Sex': 'male', 'Age': nan, 'SibSp': 0, 'Parch': 0, 'Ticket': '371060', 'Fare': 7.75, 'Cabin': nan, 'Embarked': 'Q'}\n",
      "\n",
      "Пассажир 461: 34.0%\n",
      "  Данные: {'PassengerId': 461, 'Survived': 1, 'Pclass': 1, 'Name': 'Anderson, Mr. Harry', 'Sex': 'male', 'Age': 48.0, 'SibSp': 0, 'Parch': 0, 'Ticket': '19952', 'Fare': 26.55, 'Cabin': 'E12', 'Embarked': 'S'}\n",
      "\n",
      "Пассажир 462: 27.0%\n",
      "  Данные: {'PassengerId': 462, 'Survived': 0, 'Pclass': 3, 'Name': 'Morley, Mr. William', 'Sex': 'male', 'Age': 34.0, 'SibSp': 0, 'Parch': 0, 'Ticket': '364506', 'Fare': 8.05, 'Cabin': nan, 'Embarked': 'S'}\n",
      "\n",
      "Пассажир 463: 34.0%\n",
      "  Данные: {'PassengerId': 463, 'Survived': 0, 'Pclass': 1, 'Name': 'Gee, Mr. Arthur H', 'Sex': 'male', 'Age': 47.0, 'SibSp': 0, 'Parch': 0, 'Ticket': '111320', 'Fare': 38.5, 'Cabin': 'E63', 'Embarked': 'S'}\n",
      "\n",
      "Пассажир 464: 30.0%\n",
      "  Данные: {'PassengerId': 464, 'Survived': 0, 'Pclass': 2, 'Name': 'Milling, Mr. Jacob Christian', 'Sex': 'male', 'Age': 48.0, 'SibSp': 0, 'Parch': 0, 'Ticket': '234360', 'Fare': 13.0, 'Cabin': nan, 'Embarked': 'S'}\n",
      "\n",
      "Пассажир 465: 30.0%\n",
      "  Данные: {'PassengerId': 465, 'Survived': 0, 'Pclass': 3, 'Name': 'Maisner, Mr. Simon', 'Sex': 'male', 'Age': nan, 'SibSp': 0, 'Parch': 0, 'Ticket': 'A/S 2816', 'Fare': 8.05, 'Cabin': nan, 'Embarked': 'S'}\n",
      "\n",
      "Пассажир 466: 27.0%\n",
      "  Данные: {'PassengerId': 466, 'Survived': 0, 'Pclass': 3, 'Name': 'Goncalves, Mr. Manuel Estanslas', 'Sex': 'male', 'Age': 38.0, 'SibSp': 0, 'Parch': 0, 'Ticket': 'SOTON/O.Q. 3101306', 'Fare': 7.05, 'Cabin': nan, 'Embarked': 'S'}\n",
      "\n",
      "Пассажир 467: 35.0%\n",
      "  Данные: {'PassengerId': 467, 'Survived': 0, 'Pclass': 2, 'Name': 'Campbell, Mr. William', 'Sex': 'male', 'Age': nan, 'SibSp': 0, 'Parch': 0, 'Ticket': '239853', 'Fare': 0.0, 'Cabin': nan, 'Embarked': 'S'}\n",
      "\n",
      "Пассажир 468: 34.0%\n",
      "  Данные: {'PassengerId': 468, 'Survived': 0, 'Pclass': 1, 'Name': 'Smart, Mr. John Montgomery', 'Sex': 'male', 'Age': 56.0, 'SibSp': 0, 'Parch': 0, 'Ticket': '113792', 'Fare': 26.55, 'Cabin': nan, 'Embarked': 'S'}\n",
      "\n",
      "Пассажир 469: 30.0%\n",
      "  Данные: {'PassengerId': 469, 'Survived': 0, 'Pclass': 3, 'Name': 'Scanlan, Mr. James', 'Sex': 'male', 'Age': nan, 'SibSp': 0, 'Parch': 0, 'Ticket': '36209', 'Fare': 7.725, 'Cabin': nan, 'Embarked': 'Q'}\n",
      "\n",
      "Пассажир 470: 66.0%\n",
      "  Данные: {'PassengerId': 470, 'Survived': 1, 'Pclass': 3, 'Name': 'Baclini, Miss. Helene Barbara', 'Sex': 'female', 'Age': 0.75, 'SibSp': 2, 'Parch': 1, 'Ticket': '2666', 'Fare': 19.2583, 'Cabin': nan, 'Embarked': 'C'}\n",
      "\n",
      "Пассажир 471: 30.0%\n",
      "  Данные: {'PassengerId': 471, 'Survived': 0, 'Pclass': 3, 'Name': 'Keefe, Mr. Arthur', 'Sex': 'male', 'Age': nan, 'SibSp': 0, 'Parch': 0, 'Ticket': '323592', 'Fare': 7.25, 'Cabin': nan, 'Embarked': 'S'}\n",
      "\n",
      "Пассажир 472: 27.0%\n",
      "  Данные: {'PassengerId': 472, 'Survived': 0, 'Pclass': 3, 'Name': 'Cacic, Mr. Luka', 'Sex': 'male', 'Age': 38.0, 'SibSp': 0, 'Parch': 0, 'Ticket': '315089', 'Fare': 8.6625, 'Cabin': nan, 'Embarked': 'S'}\n",
      "\n",
      "Пассажир 473: 40.0%\n",
      "  Данные: {'PassengerId': 473, 'Survived': 1, 'Pclass': 2, 'Name': 'West, Mrs. Edwy Arthur (Ada Mary Worth)', 'Sex': 'female', 'Age': 33.0, 'SibSp': 1, 'Parch': 2, 'Ticket': 'C.A. 34651', 'Fare': 27.75, 'Cabin': nan, 'Embarked': 'S'}\n",
      "\n",
      "Пассажир 474: 56.00000000000001%\n",
      "  Данные: {'PassengerId': 474, 'Survived': 1, 'Pclass': 2, 'Name': 'Jerwan, Mrs. Amin S (Marie Marthe Thuillard)', 'Sex': 'female', 'Age': 23.0, 'SibSp': 0, 'Parch': 0, 'Ticket': 'SC/AH Basle 541', 'Fare': 13.7917, 'Cabin': 'D', 'Embarked': 'C'}\n",
      "\n",
      "Пассажир 475: 36.0%\n",
      "  Данные: {'PassengerId': 475, 'Survived': 0, 'Pclass': 3, 'Name': 'Strandberg, Miss. Ida Sofia', 'Sex': 'female', 'Age': 22.0, 'SibSp': 0, 'Parch': 0, 'Ticket': '7553', 'Fare': 9.8375, 'Cabin': nan, 'Embarked': 'S'}\n",
      "\n",
      "Пассажир 476: 40.0%\n",
      "  Данные: {'PassengerId': 476, 'Survived': 0, 'Pclass': 1, 'Name': 'Clifford, Mr. George Quincy', 'Sex': 'male', 'Age': nan, 'SibSp': 0, 'Parch': 0, 'Ticket': '110465', 'Fare': 52.0, 'Cabin': 'A14', 'Embarked': 'S'}\n",
      "\n",
      "Пассажир 477: 30.0%\n",
      "  Данные: {'PassengerId': 477, 'Survived': 0, 'Pclass': 2, 'Name': 'Renouf, Mr. Peter Henry', 'Sex': 'male', 'Age': 34.0, 'SibSp': 1, 'Parch': 0, 'Ticket': '31027', 'Fare': 21.0, 'Cabin': nan, 'Embarked': 'S'}\n",
      "\n",
      "Пассажир 478: 27.0%\n",
      "  Данные: {'PassengerId': 478, 'Survived': 0, 'Pclass': 3, 'Name': 'Braund, Mr. Lewis Richard', 'Sex': 'male', 'Age': 29.0, 'SibSp': 1, 'Parch': 0, 'Ticket': '3460', 'Fare': 7.0458, 'Cabin': nan, 'Embarked': 'S'}\n",
      "\n",
      "Пассажир 479: 27.0%\n",
      "  Данные: {'PassengerId': 479, 'Survived': 0, 'Pclass': 3, 'Name': 'Karlsson, Mr. Nils August', 'Sex': 'male', 'Age': 22.0, 'SibSp': 0, 'Parch': 0, 'Ticket': '350060', 'Fare': 7.5208, 'Cabin': nan, 'Embarked': 'S'}\n",
      "\n",
      "Пассажир 480: 49.0%\n",
      "  Данные: {'PassengerId': 480, 'Survived': 1, 'Pclass': 3, 'Name': 'Hirvonen, Miss. Hildur E', 'Sex': 'female', 'Age': 2.0, 'SibSp': 0, 'Parch': 1, 'Ticket': '3101298', 'Fare': 12.2875, 'Cabin': nan, 'Embarked': 'S'}\n",
      "\n",
      "Пассажир 481: 40.0%\n",
      "  Данные: {'PassengerId': 481, 'Survived': 0, 'Pclass': 3, 'Name': 'Goodwin, Master. Harold Victor', 'Sex': 'male', 'Age': 9.0, 'SibSp': 5, 'Parch': 2, 'Ticket': 'CA 2144', 'Fare': 46.9, 'Cabin': nan, 'Embarked': 'S'}\n",
      "\n",
      "Пассажир 482: 35.0%\n",
      "  Данные: {'PassengerId': 482, 'Survived': 0, 'Pclass': 2, 'Name': 'Frost, Mr. Anthony Wood \"Archie\"', 'Sex': 'male', 'Age': nan, 'SibSp': 0, 'Parch': 0, 'Ticket': '239854', 'Fare': 0.0, 'Cabin': nan, 'Embarked': 'S'}\n",
      "\n",
      "Пассажир 483: 27.0%\n",
      "  Данные: {'PassengerId': 483, 'Survived': 0, 'Pclass': 3, 'Name': 'Rouse, Mr. Richard Henry', 'Sex': 'male', 'Age': 50.0, 'SibSp': 0, 'Parch': 0, 'Ticket': 'A/5 3594', 'Fare': 8.05, 'Cabin': nan, 'Embarked': 'S'}\n",
      "\n",
      "Пассажир 484: 31.0%\n",
      "  Данные: {'PassengerId': 484, 'Survived': 1, 'Pclass': 3, 'Name': 'Turkula, Mrs. (Hedwig)', 'Sex': 'female', 'Age': 63.0, 'SibSp': 0, 'Parch': 0, 'Ticket': '4134', 'Fare': 9.5875, 'Cabin': nan, 'Embarked': 'S'}\n",
      "\n",
      "Пассажир 485: 50.0%\n",
      "  Данные: {'PassengerId': 485, 'Survived': 1, 'Pclass': 1, 'Name': 'Bishop, Mr. Dickinson H', 'Sex': 'male', 'Age': 25.0, 'SibSp': 1, 'Parch': 0, 'Ticket': '11967', 'Fare': 91.0792, 'Cabin': 'B49', 'Embarked': 'C'}\n",
      "\n",
      "Пассажир 486: 43.0%\n",
      "  Данные: {'PassengerId': 486, 'Survived': 0, 'Pclass': 3, 'Name': 'Lefebre, Miss. Jeannie', 'Sex': 'female', 'Age': nan, 'SibSp': 3, 'Parch': 1, 'Ticket': '4133', 'Fare': 25.4667, 'Cabin': nan, 'Embarked': 'S'}\n",
      "\n",
      "Пассажир 487: 43.0%\n",
      "  Данные: {'PassengerId': 487, 'Survived': 1, 'Pclass': 1, 'Name': 'Hoyt, Mrs. Frederick Maxfield (Jane Anne Forby)', 'Sex': 'female', 'Age': 35.0, 'SibSp': 1, 'Parch': 0, 'Ticket': '19943', 'Fare': 90.0, 'Cabin': 'C93', 'Embarked': 'S'}\n",
      "\n",
      "Пассажир 488: 50.0%\n",
      "  Данные: {'PassengerId': 488, 'Survived': 0, 'Pclass': 1, 'Name': 'Kent, Mr. Edward Austin', 'Sex': 'male', 'Age': 58.0, 'SibSp': 0, 'Parch': 0, 'Ticket': '11771', 'Fare': 29.7, 'Cabin': 'B37', 'Embarked': 'C'}\n",
      "\n",
      "Пассажир 489: 27.0%\n",
      "  Данные: {'PassengerId': 489, 'Survived': 0, 'Pclass': 3, 'Name': 'Somerton, Mr. Francis William', 'Sex': 'male', 'Age': 30.0, 'SibSp': 0, 'Parch': 0, 'Ticket': 'A.5. 18509', 'Fare': 8.05, 'Cabin': nan, 'Embarked': 'S'}\n",
      "\n",
      "Пассажир 490: 40.0%\n",
      "  Данные: {'PassengerId': 490, 'Survived': 1, 'Pclass': 3, 'Name': 'Coutts, Master. Eden Leslie \"Neville\"', 'Sex': 'male', 'Age': 9.0, 'SibSp': 1, 'Parch': 1, 'Ticket': 'C.A. 37671', 'Fare': 15.9, 'Cabin': nan, 'Embarked': 'S'}\n",
      "\n",
      "Пассажир 491: 30.0%\n",
      "  Данные: {'PassengerId': 491, 'Survived': 0, 'Pclass': 3, 'Name': 'Hagland, Mr. Konrad Mathias Reiersen', 'Sex': 'male', 'Age': nan, 'SibSp': 1, 'Parch': 0, 'Ticket': '65304', 'Fare': 19.9667, 'Cabin': nan, 'Embarked': 'S'}\n",
      "\n",
      "Пассажир 492: 27.0%\n",
      "  Данные: {'PassengerId': 492, 'Survived': 0, 'Pclass': 3, 'Name': 'Windelov, Mr. Einar', 'Sex': 'male', 'Age': 21.0, 'SibSp': 0, 'Parch': 0, 'Ticket': 'SOTON/OQ 3101317', 'Fare': 7.25, 'Cabin': nan, 'Embarked': 'S'}\n",
      "\n",
      "Пассажир 493: 34.0%\n",
      "  Данные: {'PassengerId': 493, 'Survived': 0, 'Pclass': 1, 'Name': 'Molson, Mr. Harry Markland', 'Sex': 'male', 'Age': 55.0, 'SibSp': 0, 'Parch': 0, 'Ticket': '113787', 'Fare': 30.5, 'Cabin': 'C30', 'Embarked': 'S'}\n",
      "\n",
      "Пассажир 494: 46.0%\n",
      "  Данные: {'PassengerId': 494, 'Survived': 0, 'Pclass': 1, 'Name': 'Artagaveytia, Mr. Ramon', 'Sex': 'male', 'Age': 71.0, 'SibSp': 0, 'Parch': 0, 'Ticket': 'PC 17609', 'Fare': 49.5042, 'Cabin': nan, 'Embarked': 'C'}\n",
      "\n",
      "Пассажир 495: 27.0%\n",
      "  Данные: {'PassengerId': 495, 'Survived': 0, 'Pclass': 3, 'Name': 'Stanley, Mr. Edward Roland', 'Sex': 'male', 'Age': 21.0, 'SibSp': 0, 'Parch': 0, 'Ticket': 'A/4 45380', 'Fare': 8.05, 'Cabin': nan, 'Embarked': 'S'}\n",
      "\n",
      "Пассажир 496: 46.0%\n",
      "  Данные: {'PassengerId': 496, 'Survived': 0, 'Pclass': 3, 'Name': 'Yousseff, Mr. Gerious', 'Sex': 'male', 'Age': nan, 'SibSp': 0, 'Parch': 0, 'Ticket': '2627', 'Fare': 14.4583, 'Cabin': nan, 'Embarked': 'C'}\n",
      "\n",
      "Пассажир 497: 59.0%\n",
      "  Данные: {'PassengerId': 497, 'Survived': 1, 'Pclass': 1, 'Name': 'Eustis, Miss. Elizabeth Mussey', 'Sex': 'female', 'Age': 54.0, 'SibSp': 1, 'Parch': 0, 'Ticket': '36947', 'Fare': 78.2667, 'Cabin': 'D20', 'Embarked': 'C'}\n",
      "\n",
      "Пассажир 498: 30.0%\n",
      "  Данные: {'PassengerId': 498, 'Survived': 0, 'Pclass': 3, 'Name': 'Shellard, Mr. Frederick William', 'Sex': 'male', 'Age': nan, 'SibSp': 0, 'Parch': 0, 'Ticket': 'C.A. 6212', 'Fare': 15.1, 'Cabin': nan, 'Embarked': 'S'}\n",
      "\n",
      "Пассажир 499: 43.0%\n",
      "  Данные: {'PassengerId': 499, 'Survived': 0, 'Pclass': 1, 'Name': 'Allison, Mrs. Hudson J C (Bessie Waldo Daniels)', 'Sex': 'female', 'Age': 25.0, 'SibSp': 1, 'Parch': 2, 'Ticket': '113781', 'Fare': 151.55, 'Cabin': 'C22 C26', 'Embarked': 'S'}\n",
      "\n",
      "Пассажир 500: 27.0%\n",
      "  Данные: {'PassengerId': 500, 'Survived': 0, 'Pclass': 3, 'Name': 'Svensson, Mr. Olof', 'Sex': 'male', 'Age': 24.0, 'SibSp': 0, 'Parch': 0, 'Ticket': '350035', 'Fare': 7.7958, 'Cabin': nan, 'Embarked': 'S'}\n",
      "\n",
      "Пассажир 501: 27.0%\n",
      "  Данные: {'PassengerId': 501, 'Survived': 0, 'Pclass': 3, 'Name': 'Calic, Mr. Petar', 'Sex': 'male', 'Age': 17.0, 'SibSp': 0, 'Parch': 0, 'Ticket': '315086', 'Fare': 8.6625, 'Cabin': nan, 'Embarked': 'S'}\n",
      "\n",
      "Пассажир 502: 36.0%\n",
      "  Данные: {'PassengerId': 502, 'Survived': 0, 'Pclass': 3, 'Name': 'Canavan, Miss. Mary', 'Sex': 'female', 'Age': 21.0, 'SibSp': 0, 'Parch': 0, 'Ticket': '364846', 'Fare': 7.75, 'Cabin': nan, 'Embarked': 'Q'}\n",
      "\n",
      "Пассажир 503: 43.0%\n",
      "  Данные: {'PassengerId': 503, 'Survived': 0, 'Pclass': 3, 'Name': \"O'Sullivan, Miss. Bridget Mary\", 'Sex': 'female', 'Age': nan, 'SibSp': 0, 'Parch': 0, 'Ticket': '330909', 'Fare': 7.6292, 'Cabin': nan, 'Embarked': 'Q'}\n",
      "\n",
      "Пассажир 504: 36.0%\n",
      "  Данные: {'PassengerId': 504, 'Survived': 0, 'Pclass': 3, 'Name': 'Laitinen, Miss. Kristina Sofia', 'Sex': 'female', 'Age': 37.0, 'SibSp': 0, 'Parch': 0, 'Ticket': '4135', 'Fare': 9.5875, 'Cabin': nan, 'Embarked': 'S'}\n",
      "\n",
      "Пассажир 505: 43.0%\n",
      "  Данные: {'PassengerId': 505, 'Survived': 1, 'Pclass': 1, 'Name': 'Maioni, Miss. Roberta', 'Sex': 'female', 'Age': 16.0, 'SibSp': 0, 'Parch': 0, 'Ticket': '110152', 'Fare': 86.5, 'Cabin': 'B79', 'Embarked': 'S'}\n",
      "\n",
      "Пассажир 506: 50.0%\n",
      "  Данные: {'PassengerId': 506, 'Survived': 0, 'Pclass': 1, 'Name': 'Penasco y Castellana, Mr. Victor de Satode', 'Sex': 'male', 'Age': 18.0, 'SibSp': 1, 'Parch': 0, 'Ticket': 'PC 17758', 'Fare': 108.9, 'Cabin': 'C65', 'Embarked': 'C'}\n",
      "\n",
      "Пассажир 507: 40.0%\n",
      "  Данные: {'PassengerId': 507, 'Survived': 1, 'Pclass': 2, 'Name': 'Quick, Mrs. Frederick Charles (Jane Richards)', 'Sex': 'female', 'Age': 33.0, 'SibSp': 0, 'Parch': 2, 'Ticket': '26360', 'Fare': 26.0, 'Cabin': nan, 'Embarked': 'S'}\n",
      "\n",
      "Пассажир 508: 40.0%\n",
      "  Данные: {'PassengerId': 508, 'Survived': 1, 'Pclass': 1, 'Name': 'Bradley, Mr. George (\"George Arthur Brayton\")', 'Sex': 'male', 'Age': nan, 'SibSp': 0, 'Parch': 0, 'Ticket': '111427', 'Fare': 26.55, 'Cabin': nan, 'Embarked': 'S'}\n",
      "\n",
      "Пассажир 509: 27.0%\n",
      "  Данные: {'PassengerId': 509, 'Survived': 0, 'Pclass': 3, 'Name': 'Olsen, Mr. Henry Margido', 'Sex': 'male', 'Age': 28.0, 'SibSp': 0, 'Parch': 0, 'Ticket': 'C 4001', 'Fare': 22.525, 'Cabin': nan, 'Embarked': 'S'}\n",
      "\n",
      "Пассажир 510: 27.0%\n",
      "  Данные: {'PassengerId': 510, 'Survived': 1, 'Pclass': 3, 'Name': 'Lang, Mr. Fang', 'Sex': 'male', 'Age': 26.0, 'SibSp': 0, 'Parch': 0, 'Ticket': '1601', 'Fare': 56.4958, 'Cabin': nan, 'Embarked': 'S'}\n",
      "\n",
      "Пассажир 511: 27.0%\n",
      "  Данные: {'PassengerId': 511, 'Survived': 1, 'Pclass': 3, 'Name': 'Daly, Mr. Eugene Patrick', 'Sex': 'male', 'Age': 29.0, 'SibSp': 0, 'Parch': 0, 'Ticket': '382651', 'Fare': 7.75, 'Cabin': nan, 'Embarked': 'Q'}\n",
      "\n",
      "Пассажир 512: 30.0%\n",
      "  Данные: {'PassengerId': 512, 'Survived': 0, 'Pclass': 3, 'Name': 'Webber, Mr. James', 'Sex': 'male', 'Age': nan, 'SibSp': 0, 'Parch': 0, 'Ticket': 'SOTON/OQ 3101316', 'Fare': 8.05, 'Cabin': nan, 'Embarked': 'S'}\n",
      "\n",
      "Пассажир 513: 34.0%\n",
      "  Данные: {'PassengerId': 513, 'Survived': 1, 'Pclass': 1, 'Name': 'McGough, Mr. James Robert', 'Sex': 'male', 'Age': 36.0, 'SibSp': 0, 'Parch': 0, 'Ticket': 'PC 17473', 'Fare': 26.2875, 'Cabin': 'E25', 'Embarked': 'S'}\n",
      "\n",
      "Пассажир 514: 59.0%\n",
      "  Данные: {'PassengerId': 514, 'Survived': 1, 'Pclass': 1, 'Name': 'Rothschild, Mrs. Martin (Elizabeth L. Barrett)', 'Sex': 'female', 'Age': 54.0, 'SibSp': 1, 'Parch': 0, 'Ticket': 'PC 17603', 'Fare': 59.4, 'Cabin': nan, 'Embarked': 'C'}\n",
      "\n",
      "Пассажир 515: 27.0%\n",
      "  Данные: {'PassengerId': 515, 'Survived': 0, 'Pclass': 3, 'Name': 'Coleff, Mr. Satio', 'Sex': 'male', 'Age': 24.0, 'SibSp': 0, 'Parch': 0, 'Ticket': '349209', 'Fare': 7.4958, 'Cabin': nan, 'Embarked': 'S'}\n",
      "\n",
      "Пассажир 516: 34.0%\n",
      "  Данные: {'PassengerId': 516, 'Survived': 0, 'Pclass': 1, 'Name': 'Walker, Mr. William Anderson', 'Sex': 'male', 'Age': 47.0, 'SibSp': 0, 'Parch': 0, 'Ticket': '36967', 'Fare': 34.0208, 'Cabin': 'D46', 'Embarked': 'S'}\n",
      "\n",
      "Пассажир 517: 40.0%\n",
      "  Данные: {'PassengerId': 517, 'Survived': 1, 'Pclass': 2, 'Name': 'Lemore, Mrs. (Amelia Milley)', 'Sex': 'female', 'Age': 34.0, 'SibSp': 0, 'Parch': 0, 'Ticket': 'C.A. 34260', 'Fare': 10.5, 'Cabin': 'F33', 'Embarked': 'S'}\n",
      "\n",
      "Пассажир 518: 30.0%\n",
      "  Данные: {'PassengerId': 518, 'Survived': 0, 'Pclass': 3, 'Name': 'Ryan, Mr. Patrick', 'Sex': 'male', 'Age': nan, 'SibSp': 0, 'Parch': 0, 'Ticket': '371110', 'Fare': 24.15, 'Cabin': nan, 'Embarked': 'Q'}\n",
      "\n",
      "Пассажир 519: 40.0%\n",
      "  Данные: {'PassengerId': 519, 'Survived': 1, 'Pclass': 2, 'Name': 'Angle, Mrs. William A (Florence \"Mary\" Agnes Hughes)', 'Sex': 'female', 'Age': 36.0, 'SibSp': 1, 'Parch': 0, 'Ticket': '226875', 'Fare': 26.0, 'Cabin': nan, 'Embarked': 'S'}\n",
      "\n",
      "Пассажир 520: 27.0%\n",
      "  Данные: {'PassengerId': 520, 'Survived': 0, 'Pclass': 3, 'Name': 'Pavlovic, Mr. Stefo', 'Sex': 'male', 'Age': 32.0, 'SibSp': 0, 'Parch': 0, 'Ticket': '349242', 'Fare': 7.8958, 'Cabin': nan, 'Embarked': 'S'}\n",
      "\n",
      "Пассажир 521: 43.0%\n",
      "  Данные: {'PassengerId': 521, 'Survived': 1, 'Pclass': 1, 'Name': 'Perreault, Miss. Anne', 'Sex': 'female', 'Age': 30.0, 'SibSp': 0, 'Parch': 0, 'Ticket': '12749', 'Fare': 93.5, 'Cabin': 'B73', 'Embarked': 'S'}\n",
      "\n",
      "Пассажир 522: 27.0%\n",
      "  Данные: {'PassengerId': 522, 'Survived': 0, 'Pclass': 3, 'Name': 'Vovk, Mr. Janko', 'Sex': 'male', 'Age': 22.0, 'SibSp': 0, 'Parch': 0, 'Ticket': '349252', 'Fare': 7.8958, 'Cabin': nan, 'Embarked': 'S'}\n",
      "\n",
      "Пассажир 523: 46.0%\n",
      "  Данные: {'PassengerId': 523, 'Survived': 0, 'Pclass': 3, 'Name': 'Lahoud, Mr. Sarkis', 'Sex': 'male', 'Age': nan, 'SibSp': 0, 'Parch': 0, 'Ticket': '2624', 'Fare': 7.225, 'Cabin': nan, 'Embarked': 'C'}\n",
      "\n",
      "Пассажир 524: 59.0%\n",
      "  Данные: {'PassengerId': 524, 'Survived': 1, 'Pclass': 1, 'Name': 'Hippach, Mrs. Louis Albert (Ida Sophia Fischer)', 'Sex': 'female', 'Age': 44.0, 'SibSp': 0, 'Parch': 1, 'Ticket': '111361', 'Fare': 57.9792, 'Cabin': 'B18', 'Embarked': 'C'}\n",
      "\n",
      "Пассажир 525: 46.0%\n",
      "  Данные: {'PassengerId': 525, 'Survived': 0, 'Pclass': 3, 'Name': 'Kassem, Mr. Fared', 'Sex': 'male', 'Age': nan, 'SibSp': 0, 'Parch': 0, 'Ticket': '2700', 'Fare': 7.2292, 'Cabin': nan, 'Embarked': 'C'}\n",
      "\n",
      "Пассажир 526: 27.0%\n",
      "  Данные: {'PassengerId': 526, 'Survived': 0, 'Pclass': 3, 'Name': 'Farrell, Mr. James', 'Sex': 'male', 'Age': 40.5, 'SibSp': 0, 'Parch': 0, 'Ticket': '367232', 'Fare': 7.75, 'Cabin': nan, 'Embarked': 'Q'}\n",
      "\n",
      "Пассажир 527: 40.0%\n",
      "  Данные: {'PassengerId': 527, 'Survived': 1, 'Pclass': 2, 'Name': 'Ridsdale, Miss. Lucy', 'Sex': 'female', 'Age': 50.0, 'SibSp': 0, 'Parch': 0, 'Ticket': 'W./C. 14258', 'Fare': 10.5, 'Cabin': nan, 'Embarked': 'S'}\n",
      "\n",
      "Пассажир 528: 40.0%\n",
      "  Данные: {'PassengerId': 528, 'Survived': 0, 'Pclass': 1, 'Name': 'Farthing, Mr. John', 'Sex': 'male', 'Age': nan, 'SibSp': 0, 'Parch': 0, 'Ticket': 'PC 17483', 'Fare': 221.7792, 'Cabin': 'C95', 'Embarked': 'S'}\n",
      "\n",
      "Пассажир 529: 27.0%\n",
      "  Данные: {'PassengerId': 529, 'Survived': 0, 'Pclass': 3, 'Name': 'Salonen, Mr. Johan Werner', 'Sex': 'male', 'Age': 39.0, 'SibSp': 0, 'Parch': 0, 'Ticket': '3101296', 'Fare': 7.925, 'Cabin': nan, 'Embarked': 'S'}\n",
      "\n",
      "Пассажир 530: 30.0%\n",
      "  Данные: {'PassengerId': 530, 'Survived': 0, 'Pclass': 2, 'Name': 'Hocking, Mr. Richard George', 'Sex': 'male', 'Age': 23.0, 'SibSp': 2, 'Parch': 1, 'Ticket': '29104', 'Fare': 11.5, 'Cabin': nan, 'Embarked': 'S'}\n",
      "\n",
      "Пассажир 531: 53.0%\n",
      "  Данные: {'PassengerId': 531, 'Survived': 1, 'Pclass': 2, 'Name': 'Quick, Miss. Phyllis May', 'Sex': 'female', 'Age': 2.0, 'SibSp': 1, 'Parch': 1, 'Ticket': '26360', 'Fare': 26.0, 'Cabin': nan, 'Embarked': 'S'}\n",
      "\n",
      "Пассажир 532: 46.0%\n",
      "  Данные: {'PassengerId': 532, 'Survived': 0, 'Pclass': 3, 'Name': 'Toufik, Mr. Nakli', 'Sex': 'male', 'Age': nan, 'SibSp': 0, 'Parch': 0, 'Ticket': '2641', 'Fare': 7.2292, 'Cabin': nan, 'Embarked': 'C'}\n",
      "\n",
      "Пассажир 533: 43.0%\n",
      "  Данные: {'PassengerId': 533, 'Survived': 0, 'Pclass': 3, 'Name': 'Elias, Mr. Joseph Jr', 'Sex': 'male', 'Age': 17.0, 'SibSp': 1, 'Parch': 1, 'Ticket': '2690', 'Fare': 7.2292, 'Cabin': nan, 'Embarked': 'C'}\n",
      "\n",
      "Пассажир 534: 59.0%\n",
      "  Данные: {'PassengerId': 534, 'Survived': 1, 'Pclass': 3, 'Name': 'Peter, Mrs. Catherine (Catherine Rizk)', 'Sex': 'female', 'Age': nan, 'SibSp': 0, 'Parch': 2, 'Ticket': '2668', 'Fare': 22.3583, 'Cabin': nan, 'Embarked': 'C'}\n",
      "\n",
      "Пассажир 535: 36.0%\n",
      "  Данные: {'PassengerId': 535, 'Survived': 0, 'Pclass': 3, 'Name': 'Cacic, Miss. Marija', 'Sex': 'female', 'Age': 30.0, 'SibSp': 0, 'Parch': 0, 'Ticket': '315084', 'Fare': 8.6625, 'Cabin': nan, 'Embarked': 'S'}\n",
      "\n",
      "Пассажир 536: 53.0%\n",
      "  Данные: {'PassengerId': 536, 'Survived': 1, 'Pclass': 2, 'Name': 'Hart, Miss. Eva Miriam', 'Sex': 'female', 'Age': 7.0, 'SibSp': 0, 'Parch': 2, 'Ticket': 'F.C.C. 13529', 'Fare': 26.25, 'Cabin': nan, 'Embarked': 'S'}\n",
      "\n",
      "Пассажир 537: 34.0%\n",
      "  Данные: {'PassengerId': 537, 'Survived': 0, 'Pclass': 1, 'Name': 'Butt, Major. Archibald Willingham', 'Sex': 'male', 'Age': 45.0, 'SibSp': 0, 'Parch': 0, 'Ticket': '113050', 'Fare': 26.55, 'Cabin': 'B38', 'Embarked': 'S'}\n",
      "\n",
      "Пассажир 538: 59.0%\n",
      "  Данные: {'PassengerId': 538, 'Survived': 1, 'Pclass': 1, 'Name': 'LeRoy, Miss. Bertha', 'Sex': 'female', 'Age': 30.0, 'SibSp': 0, 'Parch': 0, 'Ticket': 'PC 17761', 'Fare': 106.425, 'Cabin': nan, 'Embarked': 'C'}\n",
      "\n",
      "Пассажир 539: 30.0%\n",
      "  Данные: {'PassengerId': 539, 'Survived': 0, 'Pclass': 3, 'Name': 'Risien, Mr. Samuel Beard', 'Sex': 'male', 'Age': nan, 'SibSp': 0, 'Parch': 0, 'Ticket': '364498', 'Fare': 14.5, 'Cabin': nan, 'Embarked': 'S'}\n",
      "\n",
      "Пассажир 540: 59.0%\n",
      "  Данные: {'PassengerId': 540, 'Survived': 1, 'Pclass': 1, 'Name': 'Frolicher, Miss. Hedwig Margaritha', 'Sex': 'female', 'Age': 22.0, 'SibSp': 0, 'Parch': 2, 'Ticket': '13568', 'Fare': 49.5, 'Cabin': 'B39', 'Embarked': 'C'}\n",
      "\n",
      "Пассажир 541: 43.0%\n",
      "  Данные: {'PassengerId': 541, 'Survived': 1, 'Pclass': 1, 'Name': 'Crosby, Miss. Harriet R', 'Sex': 'female', 'Age': 36.0, 'SibSp': 0, 'Parch': 2, 'Ticket': 'WE/P 5735', 'Fare': 71.0, 'Cabin': 'B22', 'Embarked': 'S'}\n",
      "\n",
      "Пассажир 542: 49.0%\n",
      "  Данные: {'PassengerId': 542, 'Survived': 0, 'Pclass': 3, 'Name': 'Andersson, Miss. Ingeborg Constanzia', 'Sex': 'female', 'Age': 9.0, 'SibSp': 4, 'Parch': 2, 'Ticket': '347082', 'Fare': 31.275, 'Cabin': nan, 'Embarked': 'S'}\n",
      "\n",
      "Пассажир 543: 49.0%\n",
      "  Данные: {'PassengerId': 543, 'Survived': 0, 'Pclass': 3, 'Name': 'Andersson, Miss. Sigrid Elisabeth', 'Sex': 'female', 'Age': 11.0, 'SibSp': 4, 'Parch': 2, 'Ticket': '347082', 'Fare': 31.275, 'Cabin': nan, 'Embarked': 'S'}\n",
      "\n",
      "Пассажир 544: 30.0%\n",
      "  Данные: {'PassengerId': 544, 'Survived': 1, 'Pclass': 2, 'Name': 'Beane, Mr. Edward', 'Sex': 'male', 'Age': 32.0, 'SibSp': 1, 'Parch': 0, 'Ticket': '2908', 'Fare': 26.0, 'Cabin': nan, 'Embarked': 'S'}\n",
      "\n",
      "Пассажир 545: 50.0%\n",
      "  Данные: {'PassengerId': 545, 'Survived': 0, 'Pclass': 1, 'Name': 'Douglas, Mr. Walter Donald', 'Sex': 'male', 'Age': 50.0, 'SibSp': 1, 'Parch': 0, 'Ticket': 'PC 17761', 'Fare': 106.425, 'Cabin': 'C86', 'Embarked': 'C'}\n",
      "\n",
      "Пассажир 546: 30.0%\n",
      "  Данные: {'PassengerId': 546, 'Survived': 0, 'Pclass': 1, 'Name': 'Nicholson, Mr. Arthur Ernest', 'Sex': 'male', 'Age': 64.0, 'SibSp': 0, 'Parch': 0, 'Ticket': '693', 'Fare': 26.0, 'Cabin': nan, 'Embarked': 'S'}\n",
      "\n",
      "Пассажир 547: 40.0%\n",
      "  Данные: {'PassengerId': 547, 'Survived': 1, 'Pclass': 2, 'Name': 'Beane, Mrs. Edward (Ethel Clarke)', 'Sex': 'female', 'Age': 19.0, 'SibSp': 1, 'Parch': 0, 'Ticket': '2908', 'Fare': 26.0, 'Cabin': nan, 'Embarked': 'S'}\n",
      "\n",
      "Пассажир 548: 51.0%\n",
      "  Данные: {'PassengerId': 548, 'Survived': 1, 'Pclass': 2, 'Name': 'Padro y Manent, Mr. Julian', 'Sex': 'male', 'Age': nan, 'SibSp': 0, 'Parch': 0, 'Ticket': 'SC/PARIS 2146', 'Fare': 13.8625, 'Cabin': nan, 'Embarked': 'C'}\n",
      "\n",
      "Пассажир 549: 27.0%\n",
      "  Данные: {'PassengerId': 549, 'Survived': 0, 'Pclass': 3, 'Name': 'Goldsmith, Mr. Frank John', 'Sex': 'male', 'Age': 33.0, 'SibSp': 1, 'Parch': 1, 'Ticket': '363291', 'Fare': 20.525, 'Cabin': nan, 'Embarked': 'S'}\n",
      "\n",
      "Пассажир 550: 44.0%\n",
      "  Данные: {'PassengerId': 550, 'Survived': 1, 'Pclass': 2, 'Name': 'Davies, Master. John Morgan Jr', 'Sex': 'male', 'Age': 8.0, 'SibSp': 1, 'Parch': 1, 'Ticket': 'C.A. 33112', 'Fare': 36.75, 'Cabin': nan, 'Embarked': 'S'}\n",
      "\n",
      "Пассажир 551: 50.0%\n",
      "  Данные: {'PassengerId': 551, 'Survived': 1, 'Pclass': 1, 'Name': 'Thayer, Mr. John Borland Jr', 'Sex': 'male', 'Age': 17.0, 'SibSp': 0, 'Parch': 2, 'Ticket': '17421', 'Fare': 110.8833, 'Cabin': 'C70', 'Embarked': 'C'}\n",
      "\n",
      "Пассажир 552: 30.0%\n",
      "  Данные: {'PassengerId': 552, 'Survived': 0, 'Pclass': 2, 'Name': 'Sharp, Mr. Percival James R', 'Sex': 'male', 'Age': 27.0, 'SibSp': 0, 'Parch': 0, 'Ticket': '244358', 'Fare': 26.0, 'Cabin': nan, 'Embarked': 'S'}\n",
      "\n",
      "Пассажир 553: 30.0%\n",
      "  Данные: {'PassengerId': 553, 'Survived': 0, 'Pclass': 3, 'Name': \"O'Brien, Mr. Timothy\", 'Sex': 'male', 'Age': nan, 'SibSp': 0, 'Parch': 0, 'Ticket': '330979', 'Fare': 7.8292, 'Cabin': nan, 'Embarked': 'Q'}\n",
      "\n",
      "Пассажир 554: 43.0%\n",
      "  Данные: {'PassengerId': 554, 'Survived': 1, 'Pclass': 3, 'Name': 'Leeni, Mr. Fahim (\"Philip Zenni\")', 'Sex': 'male', 'Age': 22.0, 'SibSp': 0, 'Parch': 0, 'Ticket': '2620', 'Fare': 7.225, 'Cabin': nan, 'Embarked': 'C'}\n",
      "\n",
      "Пассажир 555: 36.0%\n",
      "  Данные: {'PassengerId': 555, 'Survived': 1, 'Pclass': 3, 'Name': 'Ohman, Miss. Velin', 'Sex': 'female', 'Age': 22.0, 'SibSp': 0, 'Parch': 0, 'Ticket': '347085', 'Fare': 7.775, 'Cabin': nan, 'Embarked': 'S'}\n",
      "\n",
      "Пассажир 556: 30.0%\n",
      "  Данные: {'PassengerId': 556, 'Survived': 0, 'Pclass': 1, 'Name': 'Wright, Mr. George', 'Sex': 'male', 'Age': 62.0, 'SibSp': 0, 'Parch': 0, 'Ticket': '113807', 'Fare': 26.55, 'Cabin': nan, 'Embarked': 'S'}\n",
      "\n",
      "Пассажир 557: 59.0%\n",
      "  Данные: {'PassengerId': 557, 'Survived': 1, 'Pclass': 1, 'Name': 'Duff Gordon, Lady. (Lucille Christiana Sutherland) (\"Mrs Morgan\")', 'Sex': 'female', 'Age': 48.0, 'SibSp': 1, 'Parch': 0, 'Ticket': '11755', 'Fare': 39.6, 'Cabin': 'A16', 'Embarked': 'C'}\n",
      "\n",
      "Пассажир 558: 56.00000000000001%\n",
      "  Данные: {'PassengerId': 558, 'Survived': 0, 'Pclass': 1, 'Name': 'Robbins, Mr. Victor', 'Sex': 'male', 'Age': nan, 'SibSp': 0, 'Parch': 0, 'Ticket': 'PC 17757', 'Fare': 227.525, 'Cabin': nan, 'Embarked': 'C'}\n",
      "\n",
      "Пассажир 559: 43.0%\n",
      "  Данные: {'PassengerId': 559, 'Survived': 1, 'Pclass': 1, 'Name': 'Taussig, Mrs. Emil (Tillie Mandelbaum)', 'Sex': 'female', 'Age': 39.0, 'SibSp': 1, 'Parch': 1, 'Ticket': '110413', 'Fare': 79.65, 'Cabin': 'E67', 'Embarked': 'S'}\n",
      "\n",
      "Пассажир 560: 36.0%\n",
      "  Данные: {'PassengerId': 560, 'Survived': 1, 'Pclass': 3, 'Name': 'de Messemaeker, Mrs. Guillaume Joseph (Emma)', 'Sex': 'female', 'Age': 36.0, 'SibSp': 1, 'Parch': 0, 'Ticket': '345572', 'Fare': 17.4, 'Cabin': nan, 'Embarked': 'S'}\n",
      "\n",
      "Пассажир 561: 30.0%\n",
      "  Данные: {'PassengerId': 561, 'Survived': 0, 'Pclass': 3, 'Name': 'Morrow, Mr. Thomas Rowan', 'Sex': 'male', 'Age': nan, 'SibSp': 0, 'Parch': 0, 'Ticket': '372622', 'Fare': 7.75, 'Cabin': nan, 'Embarked': 'Q'}\n",
      "\n",
      "Пассажир 562: 27.0%\n",
      "  Данные: {'PassengerId': 562, 'Survived': 0, 'Pclass': 3, 'Name': 'Sivic, Mr. Husein', 'Sex': 'male', 'Age': 40.0, 'SibSp': 0, 'Parch': 0, 'Ticket': '349251', 'Fare': 7.8958, 'Cabin': nan, 'Embarked': 'S'}\n",
      "\n",
      "Пассажир 563: 30.0%\n",
      "  Данные: {'PassengerId': 563, 'Survived': 0, 'Pclass': 2, 'Name': 'Norman, Mr. Robert Douglas', 'Sex': 'male', 'Age': 28.0, 'SibSp': 0, 'Parch': 0, 'Ticket': '218629', 'Fare': 13.5, 'Cabin': nan, 'Embarked': 'S'}\n",
      "\n",
      "Пассажир 564: 30.0%\n",
      "  Данные: {'PassengerId': 564, 'Survived': 0, 'Pclass': 3, 'Name': 'Simmons, Mr. John', 'Sex': 'male', 'Age': nan, 'SibSp': 0, 'Parch': 0, 'Ticket': 'SOTON/OQ 392082', 'Fare': 8.05, 'Cabin': nan, 'Embarked': 'S'}\n",
      "\n",
      "Пассажир 565: 43.0%\n",
      "  Данные: {'PassengerId': 565, 'Survived': 0, 'Pclass': 3, 'Name': 'Meanwell, Miss. (Marion Ogden)', 'Sex': 'female', 'Age': nan, 'SibSp': 0, 'Parch': 0, 'Ticket': 'SOTON/O.Q. 392087', 'Fare': 8.05, 'Cabin': nan, 'Embarked': 'S'}\n",
      "\n",
      "Пассажир 566: 27.0%\n",
      "  Данные: {'PassengerId': 566, 'Survived': 0, 'Pclass': 3, 'Name': 'Davies, Mr. Alfred J', 'Sex': 'male', 'Age': 24.0, 'SibSp': 2, 'Parch': 0, 'Ticket': 'A/4 48871', 'Fare': 24.15, 'Cabin': nan, 'Embarked': 'S'}\n",
      "\n",
      "Пассажир 567: 27.0%\n",
      "  Данные: {'PassengerId': 567, 'Survived': 0, 'Pclass': 3, 'Name': 'Stoytcheff, Mr. Ilia', 'Sex': 'male', 'Age': 19.0, 'SibSp': 0, 'Parch': 0, 'Ticket': '349205', 'Fare': 7.8958, 'Cabin': nan, 'Embarked': 'S'}\n",
      "\n",
      "Пассажир 568: 36.0%\n",
      "  Данные: {'PassengerId': 568, 'Survived': 0, 'Pclass': 3, 'Name': 'Palsson, Mrs. Nils (Alma Cornelia Berglund)', 'Sex': 'female', 'Age': 29.0, 'SibSp': 0, 'Parch': 4, 'Ticket': '349909', 'Fare': 21.075, 'Cabin': nan, 'Embarked': 'S'}\n",
      "\n",
      "Пассажир 569: 46.0%\n",
      "  Данные: {'PassengerId': 569, 'Survived': 0, 'Pclass': 3, 'Name': 'Doharr, Mr. Tannous', 'Sex': 'male', 'Age': nan, 'SibSp': 0, 'Parch': 0, 'Ticket': '2686', 'Fare': 7.2292, 'Cabin': nan, 'Embarked': 'C'}\n",
      "\n",
      "Пассажир 570: 27.0%\n",
      "  Данные: {'PassengerId': 570, 'Survived': 1, 'Pclass': 3, 'Name': 'Jonsson, Mr. Carl', 'Sex': 'male', 'Age': 32.0, 'SibSp': 0, 'Parch': 0, 'Ticket': '350417', 'Fare': 7.8542, 'Cabin': nan, 'Embarked': 'S'}\n",
      "\n",
      "Пассажир 571: 26.0%\n",
      "  Данные: {'PassengerId': 571, 'Survived': 1, 'Pclass': 2, 'Name': 'Harris, Mr. George', 'Sex': 'male', 'Age': 62.0, 'SibSp': 0, 'Parch': 0, 'Ticket': 'S.W./PP 752', 'Fare': 10.5, 'Cabin': nan, 'Embarked': 'S'}\n",
      "\n",
      "Пассажир 572: 43.0%\n",
      "  Данные: {'PassengerId': 572, 'Survived': 1, 'Pclass': 1, 'Name': 'Appleton, Mrs. Edward Dale (Charlotte Lamson)', 'Sex': 'female', 'Age': 53.0, 'SibSp': 2, 'Parch': 0, 'Ticket': '11769', 'Fare': 51.4792, 'Cabin': 'C101', 'Embarked': 'S'}\n",
      "\n",
      "Пассажир 573: 34.0%\n",
      "  Данные: {'PassengerId': 573, 'Survived': 1, 'Pclass': 1, 'Name': 'Flynn, Mr. John Irwin (\"Irving\")', 'Sex': 'male', 'Age': 36.0, 'SibSp': 0, 'Parch': 0, 'Ticket': 'PC 17474', 'Fare': 26.3875, 'Cabin': 'E25', 'Embarked': 'S'}\n",
      "\n",
      "Пассажир 574: 43.0%\n",
      "  Данные: {'PassengerId': 574, 'Survived': 1, 'Pclass': 3, 'Name': 'Kelly, Miss. Mary', 'Sex': 'female', 'Age': nan, 'SibSp': 0, 'Parch': 0, 'Ticket': '14312', 'Fare': 7.75, 'Cabin': nan, 'Embarked': 'Q'}\n",
      "\n",
      "Пассажир 575: 27.0%\n",
      "  Данные: {'PassengerId': 575, 'Survived': 0, 'Pclass': 3, 'Name': 'Rush, Mr. Alfred George John', 'Sex': 'male', 'Age': 16.0, 'SibSp': 0, 'Parch': 0, 'Ticket': 'A/4. 20589', 'Fare': 8.05, 'Cabin': nan, 'Embarked': 'S'}\n",
      "\n",
      "Пассажир 576: 27.0%\n",
      "  Данные: {'PassengerId': 576, 'Survived': 0, 'Pclass': 3, 'Name': 'Patchett, Mr. George', 'Sex': 'male', 'Age': 19.0, 'SibSp': 0, 'Parch': 0, 'Ticket': '358585', 'Fare': 14.5, 'Cabin': nan, 'Embarked': 'S'}\n",
      "\n",
      "Пассажир 577: 40.0%\n",
      "  Данные: {'PassengerId': 577, 'Survived': 1, 'Pclass': 2, 'Name': 'Garside, Miss. Ethel', 'Sex': 'female', 'Age': 34.0, 'SibSp': 0, 'Parch': 0, 'Ticket': '243880', 'Fare': 13.0, 'Cabin': nan, 'Embarked': 'S'}\n",
      "\n",
      "Пассажир 578: 43.0%\n",
      "  Данные: {'PassengerId': 578, 'Survived': 1, 'Pclass': 1, 'Name': 'Silvey, Mrs. William Baird (Alice Munger)', 'Sex': 'female', 'Age': 39.0, 'SibSp': 1, 'Parch': 0, 'Ticket': '13507', 'Fare': 55.9, 'Cabin': 'E44', 'Embarked': 'S'}\n",
      "\n",
      "Пассажир 579: 59.0%\n",
      "  Данные: {'PassengerId': 579, 'Survived': 0, 'Pclass': 3, 'Name': 'Caram, Mrs. Joseph (Maria Elias)', 'Sex': 'female', 'Age': nan, 'SibSp': 1, 'Parch': 0, 'Ticket': '2689', 'Fare': 14.4583, 'Cabin': nan, 'Embarked': 'C'}\n",
      "\n",
      "Пассажир 580: 27.0%\n",
      "  Данные: {'PassengerId': 580, 'Survived': 1, 'Pclass': 3, 'Name': 'Jussila, Mr. Eiriik', 'Sex': 'male', 'Age': 32.0, 'SibSp': 0, 'Parch': 0, 'Ticket': 'STON/O 2. 3101286', 'Fare': 7.925, 'Cabin': nan, 'Embarked': 'S'}\n",
      "\n",
      "Пассажир 581: 40.0%\n",
      "  Данные: {'PassengerId': 581, 'Survived': 1, 'Pclass': 2, 'Name': 'Christy, Miss. Julie Rachel', 'Sex': 'female', 'Age': 25.0, 'SibSp': 1, 'Parch': 1, 'Ticket': '237789', 'Fare': 30.0, 'Cabin': nan, 'Embarked': 'S'}\n",
      "\n",
      "Пассажир 582: 59.0%\n",
      "  Данные: {'PassengerId': 582, 'Survived': 1, 'Pclass': 1, 'Name': 'Thayer, Mrs. John Borland (Marian Longstreth Morris)', 'Sex': 'female', 'Age': 39.0, 'SibSp': 1, 'Parch': 1, 'Ticket': '17421', 'Fare': 110.8833, 'Cabin': 'C68', 'Embarked': 'C'}\n",
      "\n",
      "Пассажир 583: 30.0%\n",
      "  Данные: {'PassengerId': 583, 'Survived': 0, 'Pclass': 2, 'Name': 'Downton, Mr. William James', 'Sex': 'male', 'Age': 54.0, 'SibSp': 0, 'Parch': 0, 'Ticket': '28403', 'Fare': 26.0, 'Cabin': nan, 'Embarked': 'S'}\n",
      "\n",
      "Пассажир 584: 50.0%\n",
      "  Данные: {'PassengerId': 584, 'Survived': 0, 'Pclass': 1, 'Name': 'Ross, Mr. John Hugo', 'Sex': 'male', 'Age': 36.0, 'SibSp': 0, 'Parch': 0, 'Ticket': '13049', 'Fare': 40.125, 'Cabin': 'A10', 'Embarked': 'C'}\n",
      "\n",
      "Пассажир 585: 46.0%\n",
      "  Данные: {'PassengerId': 585, 'Survived': 0, 'Pclass': 3, 'Name': 'Paulner, Mr. Uscher', 'Sex': 'male', 'Age': nan, 'SibSp': 0, 'Parch': 0, 'Ticket': '3411', 'Fare': 8.7125, 'Cabin': nan, 'Embarked': 'C'}\n",
      "\n",
      "Пассажир 586: 43.0%\n",
      "  Данные: {'PassengerId': 586, 'Survived': 1, 'Pclass': 1, 'Name': 'Taussig, Miss. Ruth', 'Sex': 'female', 'Age': 18.0, 'SibSp': 0, 'Parch': 2, 'Ticket': '110413', 'Fare': 79.65, 'Cabin': 'E68', 'Embarked': 'S'}\n",
      "\n",
      "Пассажир 587: 30.0%\n",
      "  Данные: {'PassengerId': 587, 'Survived': 0, 'Pclass': 2, 'Name': 'Jarvis, Mr. John Denzil', 'Sex': 'male', 'Age': 47.0, 'SibSp': 0, 'Parch': 0, 'Ticket': '237565', 'Fare': 15.0, 'Cabin': nan, 'Embarked': 'S'}\n",
      "\n",
      "Пассажир 588: 50.0%\n",
      "  Данные: {'PassengerId': 588, 'Survived': 1, 'Pclass': 1, 'Name': 'Frolicher-Stehli, Mr. Maxmillian', 'Sex': 'male', 'Age': 60.0, 'SibSp': 1, 'Parch': 1, 'Ticket': '13567', 'Fare': 79.2, 'Cabin': 'B41', 'Embarked': 'C'}\n",
      "\n",
      "Пассажир 589: 27.0%\n",
      "  Данные: {'PassengerId': 589, 'Survived': 0, 'Pclass': 3, 'Name': 'Gilinski, Mr. Eliezer', 'Sex': 'male', 'Age': 22.0, 'SibSp': 0, 'Parch': 0, 'Ticket': '14973', 'Fare': 8.05, 'Cabin': nan, 'Embarked': 'S'}\n",
      "\n",
      "Пассажир 590: 30.0%\n",
      "  Данные: {'PassengerId': 590, 'Survived': 0, 'Pclass': 3, 'Name': 'Murdlin, Mr. Joseph', 'Sex': 'male', 'Age': nan, 'SibSp': 0, 'Parch': 0, 'Ticket': 'A./5. 3235', 'Fare': 8.05, 'Cabin': nan, 'Embarked': 'S'}\n",
      "\n",
      "Пассажир 591: 27.0%\n",
      "  Данные: {'PassengerId': 591, 'Survived': 0, 'Pclass': 3, 'Name': 'Rintamaki, Mr. Matti', 'Sex': 'male', 'Age': 35.0, 'SibSp': 0, 'Parch': 0, 'Ticket': 'STON/O 2. 3101273', 'Fare': 7.125, 'Cabin': nan, 'Embarked': 'S'}\n",
      "\n",
      "Пассажир 592: 59.0%\n",
      "  Данные: {'PassengerId': 592, 'Survived': 1, 'Pclass': 1, 'Name': 'Stephenson, Mrs. Walter Bertram (Martha Eustis)', 'Sex': 'female', 'Age': 52.0, 'SibSp': 1, 'Parch': 0, 'Ticket': '36947', 'Fare': 78.2667, 'Cabin': 'D20', 'Embarked': 'C'}\n",
      "\n",
      "Пассажир 593: 27.0%\n",
      "  Данные: {'PassengerId': 593, 'Survived': 0, 'Pclass': 3, 'Name': 'Elsbury, Mr. William James', 'Sex': 'male', 'Age': 47.0, 'SibSp': 0, 'Parch': 0, 'Ticket': 'A/5 3902', 'Fare': 7.25, 'Cabin': nan, 'Embarked': 'S'}\n",
      "\n",
      "Пассажир 594: 43.0%\n",
      "  Данные: {'PassengerId': 594, 'Survived': 0, 'Pclass': 3, 'Name': 'Bourke, Miss. Mary', 'Sex': 'female', 'Age': nan, 'SibSp': 0, 'Parch': 2, 'Ticket': '364848', 'Fare': 7.75, 'Cabin': nan, 'Embarked': 'Q'}\n",
      "\n",
      "Пассажир 595: 30.0%\n",
      "  Данные: {'PassengerId': 595, 'Survived': 0, 'Pclass': 2, 'Name': 'Chapman, Mr. John Henry', 'Sex': 'male', 'Age': 37.0, 'SibSp': 1, 'Parch': 0, 'Ticket': 'SC/AH 29037', 'Fare': 26.0, 'Cabin': nan, 'Embarked': 'S'}\n",
      "\n",
      "Пассажир 596: 27.0%\n",
      "  Данные: {'PassengerId': 596, 'Survived': 0, 'Pclass': 3, 'Name': 'Van Impe, Mr. Jean Baptiste', 'Sex': 'male', 'Age': 36.0, 'SibSp': 1, 'Parch': 1, 'Ticket': '345773', 'Fare': 24.15, 'Cabin': nan, 'Embarked': 'S'}\n",
      "\n",
      "Пассажир 597: 48.0%\n",
      "  Данные: {'PassengerId': 597, 'Survived': 1, 'Pclass': 2, 'Name': 'Leitch, Miss. Jessie Wills', 'Sex': 'female', 'Age': nan, 'SibSp': 0, 'Parch': 0, 'Ticket': '248727', 'Fare': 33.0, 'Cabin': nan, 'Embarked': 'S'}\n",
      "\n",
      "Пассажир 598: 27.0%\n",
      "  Данные: {'PassengerId': 598, 'Survived': 0, 'Pclass': 3, 'Name': 'Johnson, Mr. Alfred', 'Sex': 'male', 'Age': 49.0, 'SibSp': 0, 'Parch': 0, 'Ticket': 'LINE', 'Fare': 0.0, 'Cabin': nan, 'Embarked': 'S'}\n",
      "\n",
      "Пассажир 599: 46.0%\n",
      "  Данные: {'PassengerId': 599, 'Survived': 0, 'Pclass': 3, 'Name': 'Boulos, Mr. Hanna', 'Sex': 'male', 'Age': nan, 'SibSp': 0, 'Parch': 0, 'Ticket': '2664', 'Fare': 7.225, 'Cabin': nan, 'Embarked': 'C'}\n",
      "\n",
      "Пассажир 600: 50.0%\n",
      "  Данные: {'PassengerId': 600, 'Survived': 1, 'Pclass': 1, 'Name': 'Duff Gordon, Sir. Cosmo Edmund (\"Mr Morgan\")', 'Sex': 'male', 'Age': 49.0, 'SibSp': 1, 'Parch': 0, 'Ticket': 'PC 17485', 'Fare': 56.9292, 'Cabin': 'A20', 'Embarked': 'C'}\n",
      "\n",
      "Пассажир 601: 40.0%\n",
      "  Данные: {'PassengerId': 601, 'Survived': 1, 'Pclass': 2, 'Name': 'Jacobsohn, Mrs. Sidney Samuel (Amy Frances Christy)', 'Sex': 'female', 'Age': 24.0, 'SibSp': 2, 'Parch': 1, 'Ticket': '243847', 'Fare': 27.0, 'Cabin': nan, 'Embarked': 'S'}\n",
      "\n",
      "Пассажир 602: 30.0%\n",
      "  Данные: {'PassengerId': 602, 'Survived': 0, 'Pclass': 3, 'Name': 'Slabenoff, Mr. Petco', 'Sex': 'male', 'Age': nan, 'SibSp': 0, 'Parch': 0, 'Ticket': '349214', 'Fare': 7.8958, 'Cabin': nan, 'Embarked': 'S'}\n",
      "\n",
      "Пассажир 603: 40.0%\n",
      "  Данные: {'PassengerId': 603, 'Survived': 0, 'Pclass': 1, 'Name': 'Harrington, Mr. Charles H', 'Sex': 'male', 'Age': nan, 'SibSp': 0, 'Parch': 0, 'Ticket': '113796', 'Fare': 42.4, 'Cabin': nan, 'Embarked': 'S'}\n",
      "\n",
      "Пассажир 604: 27.0%\n",
      "  Данные: {'PassengerId': 604, 'Survived': 0, 'Pclass': 3, 'Name': 'Torber, Mr. Ernst William', 'Sex': 'male', 'Age': 44.0, 'SibSp': 0, 'Parch': 0, 'Ticket': '364511', 'Fare': 8.05, 'Cabin': nan, 'Embarked': 'S'}\n",
      "\n",
      "Пассажир 605: 50.0%\n",
      "  Данные: {'PassengerId': 605, 'Survived': 1, 'Pclass': 1, 'Name': 'Homer, Mr. Harry (\"Mr E Haven\")', 'Sex': 'male', 'Age': 35.0, 'SibSp': 0, 'Parch': 0, 'Ticket': '111426', 'Fare': 26.55, 'Cabin': nan, 'Embarked': 'C'}\n",
      "\n",
      "Пассажир 606: 27.0%\n",
      "  Данные: {'PassengerId': 606, 'Survived': 0, 'Pclass': 3, 'Name': 'Lindell, Mr. Edvard Bengtsson', 'Sex': 'male', 'Age': 36.0, 'SibSp': 1, 'Parch': 0, 'Ticket': '349910', 'Fare': 15.55, 'Cabin': nan, 'Embarked': 'S'}\n",
      "\n",
      "Пассажир 607: 27.0%\n",
      "  Данные: {'PassengerId': 607, 'Survived': 0, 'Pclass': 3, 'Name': 'Karaic, Mr. Milan', 'Sex': 'male', 'Age': 30.0, 'SibSp': 0, 'Parch': 0, 'Ticket': '349246', 'Fare': 7.8958, 'Cabin': nan, 'Embarked': 'S'}\n",
      "\n",
      "Пассажир 608: 34.0%\n",
      "  Данные: {'PassengerId': 608, 'Survived': 1, 'Pclass': 1, 'Name': 'Daniel, Mr. Robert Williams', 'Sex': 'male', 'Age': 27.0, 'SibSp': 0, 'Parch': 0, 'Ticket': '113804', 'Fare': 30.5, 'Cabin': nan, 'Embarked': 'S'}\n",
      "\n",
      "Пассажир 609: 56.00000000000001%\n",
      "  Данные: {'PassengerId': 609, 'Survived': 1, 'Pclass': 2, 'Name': 'Laroche, Mrs. Joseph (Juliette Marie Louise Lafargue)', 'Sex': 'female', 'Age': 22.0, 'SibSp': 1, 'Parch': 2, 'Ticket': 'SC/Paris 2123', 'Fare': 41.5792, 'Cabin': nan, 'Embarked': 'C'}\n",
      "\n",
      "Пассажир 610: 43.0%\n",
      "  Данные: {'PassengerId': 610, 'Survived': 1, 'Pclass': 1, 'Name': 'Shutes, Miss. Elizabeth W', 'Sex': 'female', 'Age': 40.0, 'SibSp': 0, 'Parch': 0, 'Ticket': 'PC 17582', 'Fare': 153.4625, 'Cabin': 'C125', 'Embarked': 'S'}\n",
      "\n",
      "Пассажир 611: 36.0%\n",
      "  Данные: {'PassengerId': 611, 'Survived': 0, 'Pclass': 3, 'Name': 'Andersson, Mrs. Anders Johan (Alfrida Konstantia Brogren)', 'Sex': 'female', 'Age': 39.0, 'SibSp': 1, 'Parch': 5, 'Ticket': '347082', 'Fare': 31.275, 'Cabin': nan, 'Embarked': 'S'}\n",
      "\n",
      "Пассажир 612: 30.0%\n",
      "  Данные: {'PassengerId': 612, 'Survived': 0, 'Pclass': 3, 'Name': 'Jardin, Mr. Jose Neto', 'Sex': 'male', 'Age': nan, 'SibSp': 0, 'Parch': 0, 'Ticket': 'SOTON/O.Q. 3101305', 'Fare': 7.05, 'Cabin': nan, 'Embarked': 'S'}\n",
      "\n",
      "Пассажир 613: 43.0%\n",
      "  Данные: {'PassengerId': 613, 'Survived': 1, 'Pclass': 3, 'Name': 'Murphy, Miss. Margaret Jane', 'Sex': 'female', 'Age': nan, 'SibSp': 1, 'Parch': 0, 'Ticket': '367230', 'Fare': 15.5, 'Cabin': nan, 'Embarked': 'Q'}\n",
      "\n",
      "Пассажир 614: 30.0%\n",
      "  Данные: {'PassengerId': 614, 'Survived': 0, 'Pclass': 3, 'Name': 'Horgan, Mr. John', 'Sex': 'male', 'Age': nan, 'SibSp': 0, 'Parch': 0, 'Ticket': '370377', 'Fare': 7.75, 'Cabin': nan, 'Embarked': 'Q'}\n",
      "\n",
      "Пассажир 615: 27.0%\n",
      "  Данные: {'PassengerId': 615, 'Survived': 0, 'Pclass': 3, 'Name': 'Brocklebank, Mr. William Alfred', 'Sex': 'male', 'Age': 35.0, 'SibSp': 0, 'Parch': 0, 'Ticket': '364512', 'Fare': 8.05, 'Cabin': nan, 'Embarked': 'S'}\n",
      "\n",
      "Пассажир 616: 40.0%\n",
      "  Данные: {'PassengerId': 616, 'Survived': 1, 'Pclass': 2, 'Name': 'Herman, Miss. Alice', 'Sex': 'female', 'Age': 24.0, 'SibSp': 1, 'Parch': 2, 'Ticket': '220845', 'Fare': 65.0, 'Cabin': nan, 'Embarked': 'S'}\n",
      "\n",
      "Пассажир 617: 27.0%\n",
      "  Данные: {'PassengerId': 617, 'Survived': 0, 'Pclass': 3, 'Name': 'Danbom, Mr. Ernst Gilbert', 'Sex': 'male', 'Age': 34.0, 'SibSp': 1, 'Parch': 1, 'Ticket': '347080', 'Fare': 14.4, 'Cabin': nan, 'Embarked': 'S'}\n",
      "\n",
      "Пассажир 618: 36.0%\n",
      "  Данные: {'PassengerId': 618, 'Survived': 0, 'Pclass': 3, 'Name': 'Lobb, Mrs. William Arthur (Cordelia K Stanlick)', 'Sex': 'female', 'Age': 26.0, 'SibSp': 1, 'Parch': 0, 'Ticket': 'A/5. 3336', 'Fare': 16.1, 'Cabin': nan, 'Embarked': 'S'}\n",
      "\n",
      "Пассажир 619: 53.0%\n",
      "  Данные: {'PassengerId': 619, 'Survived': 1, 'Pclass': 2, 'Name': 'Becker, Miss. Marion Louise', 'Sex': 'female', 'Age': 4.0, 'SibSp': 2, 'Parch': 1, 'Ticket': '230136', 'Fare': 39.0, 'Cabin': 'F4', 'Embarked': 'S'}\n",
      "\n",
      "Пассажир 620: 30.0%\n",
      "  Данные: {'PassengerId': 620, 'Survived': 0, 'Pclass': 2, 'Name': 'Gavey, Mr. Lawrence', 'Sex': 'male', 'Age': 26.0, 'SibSp': 0, 'Parch': 0, 'Ticket': '31028', 'Fare': 10.5, 'Cabin': nan, 'Embarked': 'S'}\n",
      "\n",
      "Пассажир 621: 43.0%\n",
      "  Данные: {'PassengerId': 621, 'Survived': 0, 'Pclass': 3, 'Name': 'Yasbeck, Mr. Antoni', 'Sex': 'male', 'Age': 27.0, 'SibSp': 1, 'Parch': 0, 'Ticket': '2659', 'Fare': 14.4542, 'Cabin': nan, 'Embarked': 'C'}\n",
      "\n",
      "Пассажир 622: 34.0%\n",
      "  Данные: {'PassengerId': 622, 'Survived': 1, 'Pclass': 1, 'Name': 'Kimball, Mr. Edwin Nelson Jr', 'Sex': 'male', 'Age': 42.0, 'SibSp': 1, 'Parch': 0, 'Ticket': '11753', 'Fare': 52.5542, 'Cabin': 'D19', 'Embarked': 'S'}\n",
      "\n",
      "Пассажир 623: 43.0%\n",
      "  Данные: {'PassengerId': 623, 'Survived': 1, 'Pclass': 3, 'Name': 'Nakid, Mr. Sahid', 'Sex': 'male', 'Age': 20.0, 'SibSp': 1, 'Parch': 1, 'Ticket': '2653', 'Fare': 15.7417, 'Cabin': nan, 'Embarked': 'C'}\n",
      "\n",
      "Пассажир 624: 27.0%\n",
      "  Данные: {'PassengerId': 624, 'Survived': 0, 'Pclass': 3, 'Name': 'Hansen, Mr. Henry Damsgaard', 'Sex': 'male', 'Age': 21.0, 'SibSp': 0, 'Parch': 0, 'Ticket': '350029', 'Fare': 7.8542, 'Cabin': nan, 'Embarked': 'S'}\n",
      "\n",
      "Пассажир 625: 27.0%\n",
      "  Данные: {'PassengerId': 625, 'Survived': 0, 'Pclass': 3, 'Name': 'Bowen, Mr. David John \"Dai\"', 'Sex': 'male', 'Age': 21.0, 'SibSp': 0, 'Parch': 0, 'Ticket': '54636', 'Fare': 16.1, 'Cabin': nan, 'Embarked': 'S'}\n",
      "\n",
      "Пассажир 626: 30.0%\n",
      "  Данные: {'PassengerId': 626, 'Survived': 0, 'Pclass': 1, 'Name': 'Sutton, Mr. Frederick', 'Sex': 'male', 'Age': 61.0, 'SibSp': 0, 'Parch': 0, 'Ticket': '36963', 'Fare': 32.3208, 'Cabin': 'D50', 'Embarked': 'S'}\n",
      "\n",
      "Пассажир 627: 30.0%\n",
      "  Данные: {'PassengerId': 627, 'Survived': 0, 'Pclass': 2, 'Name': 'Kirkland, Rev. Charles Leonard', 'Sex': 'male', 'Age': 57.0, 'SibSp': 0, 'Parch': 0, 'Ticket': '219533', 'Fare': 12.35, 'Cabin': nan, 'Embarked': 'Q'}\n",
      "\n",
      "Пассажир 628: 43.0%\n",
      "  Данные: {'PassengerId': 628, 'Survived': 1, 'Pclass': 1, 'Name': 'Longley, Miss. Gretchen Fiske', 'Sex': 'female', 'Age': 21.0, 'SibSp': 0, 'Parch': 0, 'Ticket': '13502', 'Fare': 77.9583, 'Cabin': 'D9', 'Embarked': 'S'}\n",
      "\n",
      "Пассажир 629: 27.0%\n",
      "  Данные: {'PassengerId': 629, 'Survived': 0, 'Pclass': 3, 'Name': 'Bostandyeff, Mr. Guentcho', 'Sex': 'male', 'Age': 26.0, 'SibSp': 0, 'Parch': 0, 'Ticket': '349224', 'Fare': 7.8958, 'Cabin': nan, 'Embarked': 'S'}\n",
      "\n",
      "Пассажир 630: 30.0%\n",
      "  Данные: {'PassengerId': 630, 'Survived': 0, 'Pclass': 3, 'Name': \"O'Connell, Mr. Patrick D\", 'Sex': 'male', 'Age': nan, 'SibSp': 0, 'Parch': 0, 'Ticket': '334912', 'Fare': 7.7333, 'Cabin': nan, 'Embarked': 'Q'}\n",
      "\n",
      "Пассажир 631: 30.0%\n",
      "  Данные: {'PassengerId': 631, 'Survived': 1, 'Pclass': 1, 'Name': 'Barkworth, Mr. Algernon Henry Wilson', 'Sex': 'male', 'Age': 80.0, 'SibSp': 0, 'Parch': 0, 'Ticket': '27042', 'Fare': 30.0, 'Cabin': 'A23', 'Embarked': 'S'}\n",
      "\n",
      "Пассажир 632: 27.0%\n",
      "  Данные: {'PassengerId': 632, 'Survived': 0, 'Pclass': 3, 'Name': 'Lundahl, Mr. Johan Svensson', 'Sex': 'male', 'Age': 51.0, 'SibSp': 0, 'Parch': 0, 'Ticket': '347743', 'Fare': 7.0542, 'Cabin': nan, 'Embarked': 'S'}\n",
      "\n",
      "Пассажир 633: 50.0%\n",
      "  Данные: {'PassengerId': 633, 'Survived': 1, 'Pclass': 1, 'Name': 'Stahelin-Maeglin, Dr. Max', 'Sex': 'male', 'Age': 32.0, 'SibSp': 0, 'Parch': 0, 'Ticket': '13214', 'Fare': 30.5, 'Cabin': 'B50', 'Embarked': 'C'}\n",
      "\n",
      "Пассажир 634: 40.0%\n",
      "  Данные: {'PassengerId': 634, 'Survived': 0, 'Pclass': 1, 'Name': 'Parr, Mr. William Henry Marsh', 'Sex': 'male', 'Age': nan, 'SibSp': 0, 'Parch': 0, 'Ticket': '112052', 'Fare': 0.0, 'Cabin': nan, 'Embarked': 'S'}\n",
      "\n",
      "Пассажир 635: 49.0%\n",
      "  Данные: {'PassengerId': 635, 'Survived': 0, 'Pclass': 3, 'Name': 'Skoog, Miss. Mabel', 'Sex': 'female', 'Age': 9.0, 'SibSp': 3, 'Parch': 2, 'Ticket': '347088', 'Fare': 27.9, 'Cabin': nan, 'Embarked': 'S'}\n",
      "\n",
      "Пассажир 636: 40.0%\n",
      "  Данные: {'PassengerId': 636, 'Survived': 1, 'Pclass': 2, 'Name': 'Davis, Miss. Mary', 'Sex': 'female', 'Age': 28.0, 'SibSp': 0, 'Parch': 0, 'Ticket': '237668', 'Fare': 13.0, 'Cabin': nan, 'Embarked': 'S'}\n",
      "\n",
      "Пассажир 637: 27.0%\n",
      "  Данные: {'PassengerId': 637, 'Survived': 0, 'Pclass': 3, 'Name': 'Leinonen, Mr. Antti Gustaf', 'Sex': 'male', 'Age': 32.0, 'SibSp': 0, 'Parch': 0, 'Ticket': 'STON/O 2. 3101292', 'Fare': 7.925, 'Cabin': nan, 'Embarked': 'S'}\n",
      "\n",
      "Пассажир 638: 30.0%\n",
      "  Данные: {'PassengerId': 638, 'Survived': 0, 'Pclass': 2, 'Name': 'Collyer, Mr. Harvey', 'Sex': 'male', 'Age': 31.0, 'SibSp': 1, 'Parch': 1, 'Ticket': 'C.A. 31921', 'Fare': 26.25, 'Cabin': nan, 'Embarked': 'S'}\n",
      "\n",
      "Пассажир 639: 36.0%\n",
      "  Данные: {'PassengerId': 639, 'Survived': 0, 'Pclass': 3, 'Name': 'Panula, Mrs. Juha (Maria Emilia Ojala)', 'Sex': 'female', 'Age': 41.0, 'SibSp': 0, 'Parch': 5, 'Ticket': '3101295', 'Fare': 39.6875, 'Cabin': nan, 'Embarked': 'S'}\n",
      "\n",
      "Пассажир 640: 30.0%\n",
      "  Данные: {'PassengerId': 640, 'Survived': 0, 'Pclass': 3, 'Name': 'Thorneycroft, Mr. Percival', 'Sex': 'male', 'Age': nan, 'SibSp': 1, 'Parch': 0, 'Ticket': '376564', 'Fare': 16.1, 'Cabin': nan, 'Embarked': 'S'}\n",
      "\n",
      "Пассажир 641: 27.0%\n",
      "  Данные: {'PassengerId': 641, 'Survived': 0, 'Pclass': 3, 'Name': 'Jensen, Mr. Hans Peder', 'Sex': 'male', 'Age': 20.0, 'SibSp': 0, 'Parch': 0, 'Ticket': '350050', 'Fare': 7.8542, 'Cabin': nan, 'Embarked': 'S'}\n",
      "\n",
      "Пассажир 642: 59.0%\n",
      "  Данные: {'PassengerId': 642, 'Survived': 1, 'Pclass': 1, 'Name': 'Sagesser, Mlle. Emma', 'Sex': 'female', 'Age': 24.0, 'SibSp': 0, 'Parch': 0, 'Ticket': 'PC 17477', 'Fare': 69.3, 'Cabin': 'B35', 'Embarked': 'C'}\n",
      "\n",
      "Пассажир 643: 49.0%\n",
      "  Данные: {'PassengerId': 643, 'Survived': 0, 'Pclass': 3, 'Name': 'Skoog, Miss. Margit Elizabeth', 'Sex': 'female', 'Age': 2.0, 'SibSp': 3, 'Parch': 2, 'Ticket': '347088', 'Fare': 27.9, 'Cabin': nan, 'Embarked': 'S'}\n",
      "\n",
      "Пассажир 644: 30.0%\n",
      "  Данные: {'PassengerId': 644, 'Survived': 1, 'Pclass': 3, 'Name': 'Foo, Mr. Choong', 'Sex': 'male', 'Age': nan, 'SibSp': 0, 'Parch': 0, 'Ticket': '1601', 'Fare': 56.4958, 'Cabin': nan, 'Embarked': 'S'}\n",
      "\n",
      "Пассажир 645: 66.0%\n",
      "  Данные: {'PassengerId': 645, 'Survived': 1, 'Pclass': 3, 'Name': 'Baclini, Miss. Eugenie', 'Sex': 'female', 'Age': 0.75, 'SibSp': 2, 'Parch': 1, 'Ticket': '2666', 'Fare': 19.2583, 'Cabin': nan, 'Embarked': 'C'}\n",
      "\n",
      "Пассажир 646: 50.0%\n",
      "  Данные: {'PassengerId': 646, 'Survived': 1, 'Pclass': 1, 'Name': 'Harper, Mr. Henry Sleeper', 'Sex': 'male', 'Age': 48.0, 'SibSp': 1, 'Parch': 0, 'Ticket': 'PC 17572', 'Fare': 76.7292, 'Cabin': 'D33', 'Embarked': 'C'}\n",
      "\n",
      "Пассажир 647: 27.0%\n",
      "  Данные: {'PassengerId': 647, 'Survived': 0, 'Pclass': 3, 'Name': 'Cor, Mr. Liudevit', 'Sex': 'male', 'Age': 19.0, 'SibSp': 0, 'Parch': 0, 'Ticket': '349231', 'Fare': 7.8958, 'Cabin': nan, 'Embarked': 'S'}\n",
      "\n",
      "Пассажир 648: 50.0%\n",
      "  Данные: {'PassengerId': 648, 'Survived': 1, 'Pclass': 1, 'Name': 'Simonius-Blumer, Col. Oberst Alfons', 'Sex': 'male', 'Age': 56.0, 'SibSp': 0, 'Parch': 0, 'Ticket': '13213', 'Fare': 35.5, 'Cabin': 'A26', 'Embarked': 'C'}\n",
      "\n",
      "Пассажир 649: 30.0%\n",
      "  Данные: {'PassengerId': 649, 'Survived': 0, 'Pclass': 3, 'Name': 'Willey, Mr. Edward', 'Sex': 'male', 'Age': nan, 'SibSp': 0, 'Parch': 0, 'Ticket': 'S.O./P.P. 751', 'Fare': 7.55, 'Cabin': nan, 'Embarked': 'S'}\n",
      "\n",
      "Пассажир 650: 36.0%\n",
      "  Данные: {'PassengerId': 650, 'Survived': 1, 'Pclass': 3, 'Name': 'Stanley, Miss. Amy Zillah Elsie', 'Sex': 'female', 'Age': 23.0, 'SibSp': 0, 'Parch': 0, 'Ticket': 'CA. 2314', 'Fare': 7.55, 'Cabin': nan, 'Embarked': 'S'}\n",
      "\n",
      "Пассажир 651: 30.0%\n",
      "  Данные: {'PassengerId': 651, 'Survived': 0, 'Pclass': 3, 'Name': 'Mitkoff, Mr. Mito', 'Sex': 'male', 'Age': nan, 'SibSp': 0, 'Parch': 0, 'Ticket': '349221', 'Fare': 7.8958, 'Cabin': nan, 'Embarked': 'S'}\n",
      "\n",
      "Пассажир 652: 40.0%\n",
      "  Данные: {'PassengerId': 652, 'Survived': 1, 'Pclass': 2, 'Name': 'Doling, Miss. Elsie', 'Sex': 'female', 'Age': 18.0, 'SibSp': 0, 'Parch': 1, 'Ticket': '231919', 'Fare': 23.0, 'Cabin': nan, 'Embarked': 'S'}\n",
      "\n",
      "Пассажир 653: 27.0%\n",
      "  Данные: {'PassengerId': 653, 'Survived': 0, 'Pclass': 3, 'Name': 'Kalvik, Mr. Johannes Halvorsen', 'Sex': 'male', 'Age': 21.0, 'SibSp': 0, 'Parch': 0, 'Ticket': '8475', 'Fare': 8.4333, 'Cabin': nan, 'Embarked': 'S'}\n",
      "\n",
      "Пассажир 654: 43.0%\n",
      "  Данные: {'PassengerId': 654, 'Survived': 1, 'Pclass': 3, 'Name': 'O\\'Leary, Miss. Hanora \"Norah\"', 'Sex': 'female', 'Age': nan, 'SibSp': 0, 'Parch': 0, 'Ticket': '330919', 'Fare': 7.8292, 'Cabin': nan, 'Embarked': 'Q'}\n",
      "\n",
      "Пассажир 655: 36.0%\n",
      "  Данные: {'PassengerId': 655, 'Survived': 0, 'Pclass': 3, 'Name': 'Hegarty, Miss. Hanora \"Nora\"', 'Sex': 'female', 'Age': 18.0, 'SibSp': 0, 'Parch': 0, 'Ticket': '365226', 'Fare': 6.75, 'Cabin': nan, 'Embarked': 'Q'}\n",
      "\n",
      "Пассажир 656: 30.0%\n",
      "  Данные: {'PassengerId': 656, 'Survived': 0, 'Pclass': 2, 'Name': 'Hickman, Mr. Leonard Mark', 'Sex': 'male', 'Age': 24.0, 'SibSp': 2, 'Parch': 0, 'Ticket': 'S.O.C. 14879', 'Fare': 73.5, 'Cabin': nan, 'Embarked': 'S'}\n",
      "\n",
      "Пассажир 657: 30.0%\n",
      "  Данные: {'PassengerId': 657, 'Survived': 0, 'Pclass': 3, 'Name': 'Radeff, Mr. Alexander', 'Sex': 'male', 'Age': nan, 'SibSp': 0, 'Parch': 0, 'Ticket': '349223', 'Fare': 7.8958, 'Cabin': nan, 'Embarked': 'S'}\n",
      "\n",
      "Пассажир 658: 36.0%\n",
      "  Данные: {'PassengerId': 658, 'Survived': 0, 'Pclass': 3, 'Name': 'Bourke, Mrs. John (Catherine)', 'Sex': 'female', 'Age': 32.0, 'SibSp': 1, 'Parch': 1, 'Ticket': '364849', 'Fare': 15.5, 'Cabin': nan, 'Embarked': 'Q'}\n",
      "\n",
      "Пассажир 659: 30.0%\n",
      "  Данные: {'PassengerId': 659, 'Survived': 0, 'Pclass': 2, 'Name': 'Eitemiller, Mr. George Floyd', 'Sex': 'male', 'Age': 23.0, 'SibSp': 0, 'Parch': 0, 'Ticket': '29751', 'Fare': 13.0, 'Cabin': nan, 'Embarked': 'S'}\n",
      "\n",
      "Пассажир 660: 50.0%\n",
      "  Данные: {'PassengerId': 660, 'Survived': 0, 'Pclass': 1, 'Name': 'Newell, Mr. Arthur Webster', 'Sex': 'male', 'Age': 58.0, 'SibSp': 0, 'Parch': 2, 'Ticket': '35273', 'Fare': 113.275, 'Cabin': 'D48', 'Embarked': 'C'}\n",
      "\n",
      "Пассажир 661: 34.0%\n",
      "  Данные: {'PassengerId': 661, 'Survived': 1, 'Pclass': 1, 'Name': 'Frauenthal, Dr. Henry William', 'Sex': 'male', 'Age': 50.0, 'SibSp': 2, 'Parch': 0, 'Ticket': 'PC 17611', 'Fare': 133.65, 'Cabin': nan, 'Embarked': 'S'}\n",
      "\n",
      "Пассажир 662: 43.0%\n",
      "  Данные: {'PassengerId': 662, 'Survived': 0, 'Pclass': 3, 'Name': 'Badt, Mr. Mohamed', 'Sex': 'male', 'Age': 40.0, 'SibSp': 0, 'Parch': 0, 'Ticket': '2623', 'Fare': 7.225, 'Cabin': nan, 'Embarked': 'C'}\n",
      "\n",
      "Пассажир 663: 34.0%\n",
      "  Данные: {'PassengerId': 663, 'Survived': 0, 'Pclass': 1, 'Name': 'Colley, Mr. Edward Pomeroy', 'Sex': 'male', 'Age': 47.0, 'SibSp': 0, 'Parch': 0, 'Ticket': '5727', 'Fare': 25.5875, 'Cabin': 'E58', 'Embarked': 'S'}\n",
      "\n",
      "Пассажир 664: 27.0%\n",
      "  Данные: {'PassengerId': 664, 'Survived': 0, 'Pclass': 3, 'Name': 'Coleff, Mr. Peju', 'Sex': 'male', 'Age': 36.0, 'SibSp': 0, 'Parch': 0, 'Ticket': '349210', 'Fare': 7.4958, 'Cabin': nan, 'Embarked': 'S'}\n",
      "\n",
      "Пассажир 665: 27.0%\n",
      "  Данные: {'PassengerId': 665, 'Survived': 1, 'Pclass': 3, 'Name': 'Lindqvist, Mr. Eino William', 'Sex': 'male', 'Age': 20.0, 'SibSp': 1, 'Parch': 0, 'Ticket': 'STON/O 2. 3101285', 'Fare': 7.925, 'Cabin': nan, 'Embarked': 'S'}\n",
      "\n",
      "Пассажир 666: 30.0%\n",
      "  Данные: {'PassengerId': 666, 'Survived': 0, 'Pclass': 2, 'Name': 'Hickman, Mr. Lewis', 'Sex': 'male', 'Age': 32.0, 'SibSp': 2, 'Parch': 0, 'Ticket': 'S.O.C. 14879', 'Fare': 73.5, 'Cabin': nan, 'Embarked': 'S'}\n",
      "\n",
      "Пассажир 667: 30.0%\n",
      "  Данные: {'PassengerId': 667, 'Survived': 0, 'Pclass': 2, 'Name': 'Butler, Mr. Reginald Fenton', 'Sex': 'male', 'Age': 25.0, 'SibSp': 0, 'Parch': 0, 'Ticket': '234686', 'Fare': 13.0, 'Cabin': nan, 'Embarked': 'S'}\n",
      "\n",
      "Пассажир 668: 30.0%\n",
      "  Данные: {'PassengerId': 668, 'Survived': 0, 'Pclass': 3, 'Name': 'Rommetvedt, Mr. Knud Paust', 'Sex': 'male', 'Age': nan, 'SibSp': 0, 'Parch': 0, 'Ticket': '312993', 'Fare': 7.775, 'Cabin': nan, 'Embarked': 'S'}\n",
      "\n",
      "Пассажир 669: 27.0%\n",
      "  Данные: {'PassengerId': 669, 'Survived': 0, 'Pclass': 3, 'Name': 'Cook, Mr. Jacob', 'Sex': 'male', 'Age': 43.0, 'SibSp': 0, 'Parch': 0, 'Ticket': 'A/5 3536', 'Fare': 8.05, 'Cabin': nan, 'Embarked': 'S'}\n",
      "\n",
      "Пассажир 670: 53.0%\n",
      "  Данные: {'PassengerId': 670, 'Survived': 1, 'Pclass': 1, 'Name': 'Taylor, Mrs. Elmer Zebley (Juliet Cummins Wright)', 'Sex': 'female', 'Age': nan, 'SibSp': 1, 'Parch': 0, 'Ticket': '19996', 'Fare': 52.0, 'Cabin': 'C126', 'Embarked': 'S'}\n",
      "\n",
      "Пассажир 671: 40.0%\n",
      "  Данные: {'PassengerId': 671, 'Survived': 1, 'Pclass': 2, 'Name': 'Brown, Mrs. Thomas William Solomon (Elizabeth Catherine Ford)', 'Sex': 'female', 'Age': 40.0, 'SibSp': 1, 'Parch': 1, 'Ticket': '29750', 'Fare': 39.0, 'Cabin': nan, 'Embarked': 'S'}\n",
      "\n",
      "Пассажир 672: 34.0%\n",
      "  Данные: {'PassengerId': 672, 'Survived': 0, 'Pclass': 1, 'Name': 'Davidson, Mr. Thornton', 'Sex': 'male', 'Age': 31.0, 'SibSp': 1, 'Parch': 0, 'Ticket': 'F.C. 12750', 'Fare': 52.0, 'Cabin': 'B71', 'Embarked': 'S'}\n",
      "\n",
      "Пассажир 673: 26.0%\n",
      "  Данные: {'PassengerId': 673, 'Survived': 0, 'Pclass': 2, 'Name': 'Mitchell, Mr. Henry Michael', 'Sex': 'male', 'Age': 70.0, 'SibSp': 0, 'Parch': 0, 'Ticket': 'C.A. 24580', 'Fare': 10.5, 'Cabin': nan, 'Embarked': 'S'}\n",
      "\n",
      "Пассажир 674: 30.0%\n",
      "  Данные: {'PassengerId': 674, 'Survived': 1, 'Pclass': 2, 'Name': 'Wilhelms, Mr. Charles', 'Sex': 'male', 'Age': 31.0, 'SibSp': 0, 'Parch': 0, 'Ticket': '244270', 'Fare': 13.0, 'Cabin': nan, 'Embarked': 'S'}\n",
      "\n",
      "Пассажир 675: 35.0%\n",
      "  Данные: {'PassengerId': 675, 'Survived': 0, 'Pclass': 2, 'Name': 'Watson, Mr. Ennis Hastings', 'Sex': 'male', 'Age': nan, 'SibSp': 0, 'Parch': 0, 'Ticket': '239856', 'Fare': 0.0, 'Cabin': nan, 'Embarked': 'S'}\n",
      "\n",
      "Пассажир 676: 27.0%\n",
      "  Данные: {'PassengerId': 676, 'Survived': 0, 'Pclass': 3, 'Name': 'Edvardsson, Mr. Gustaf Hjalmar', 'Sex': 'male', 'Age': 18.0, 'SibSp': 0, 'Parch': 0, 'Ticket': '349912', 'Fare': 7.775, 'Cabin': nan, 'Embarked': 'S'}\n",
      "\n",
      "Пассажир 677: 27.0%\n",
      "  Данные: {'PassengerId': 677, 'Survived': 0, 'Pclass': 3, 'Name': 'Sawyer, Mr. Frederick Charles', 'Sex': 'male', 'Age': 24.5, 'SibSp': 0, 'Parch': 0, 'Ticket': '342826', 'Fare': 8.05, 'Cabin': nan, 'Embarked': 'S'}\n",
      "\n",
      "Пассажир 678: 36.0%\n",
      "  Данные: {'PassengerId': 678, 'Survived': 1, 'Pclass': 3, 'Name': 'Turja, Miss. Anna Sofia', 'Sex': 'female', 'Age': 18.0, 'SibSp': 0, 'Parch': 0, 'Ticket': '4138', 'Fare': 9.8417, 'Cabin': nan, 'Embarked': 'S'}\n",
      "\n",
      "Пассажир 679: 36.0%\n",
      "  Данные: {'PassengerId': 679, 'Survived': 0, 'Pclass': 3, 'Name': 'Goodwin, Mrs. Frederick (Augusta Tyler)', 'Sex': 'female', 'Age': 43.0, 'SibSp': 1, 'Parch': 6, 'Ticket': 'CA 2144', 'Fare': 46.9, 'Cabin': nan, 'Embarked': 'S'}\n",
      "\n",
      "Пассажир 680: 50.0%\n",
      "  Данные: {'PassengerId': 680, 'Survived': 1, 'Pclass': 1, 'Name': 'Cardeza, Mr. Thomas Drake Martinez', 'Sex': 'male', 'Age': 36.0, 'SibSp': 0, 'Parch': 1, 'Ticket': 'PC 17755', 'Fare': 512.3292, 'Cabin': 'B51 B53 B55', 'Embarked': 'C'}\n",
      "\n",
      "Пассажир 681: 43.0%\n",
      "  Данные: {'PassengerId': 681, 'Survived': 0, 'Pclass': 3, 'Name': 'Peters, Miss. Katie', 'Sex': 'female', 'Age': nan, 'SibSp': 0, 'Parch': 0, 'Ticket': '330935', 'Fare': 8.1375, 'Cabin': nan, 'Embarked': 'Q'}\n",
      "\n",
      "Пассажир 682: 50.0%\n",
      "  Данные: {'PassengerId': 682, 'Survived': 1, 'Pclass': 1, 'Name': 'Hassab, Mr. Hammad', 'Sex': 'male', 'Age': 27.0, 'SibSp': 0, 'Parch': 0, 'Ticket': 'PC 17572', 'Fare': 76.7292, 'Cabin': 'D49', 'Embarked': 'C'}\n",
      "\n",
      "Пассажир 683: 27.0%\n",
      "  Данные: {'PassengerId': 683, 'Survived': 0, 'Pclass': 3, 'Name': 'Olsvigen, Mr. Thor Anderson', 'Sex': 'male', 'Age': 20.0, 'SibSp': 0, 'Parch': 0, 'Ticket': '6563', 'Fare': 9.225, 'Cabin': nan, 'Embarked': 'S'}\n",
      "\n",
      "Пассажир 684: 27.0%\n",
      "  Данные: {'PassengerId': 684, 'Survived': 0, 'Pclass': 3, 'Name': 'Goodwin, Mr. Charles Edward', 'Sex': 'male', 'Age': 14.0, 'SibSp': 5, 'Parch': 2, 'Ticket': 'CA 2144', 'Fare': 46.9, 'Cabin': nan, 'Embarked': 'S'}\n",
      "\n",
      "Пассажир 685: 30.0%\n",
      "  Данные: {'PassengerId': 685, 'Survived': 0, 'Pclass': 2, 'Name': 'Brown, Mr. Thomas William Solomon', 'Sex': 'male', 'Age': 60.0, 'SibSp': 1, 'Parch': 1, 'Ticket': '29750', 'Fare': 39.0, 'Cabin': nan, 'Embarked': 'S'}\n",
      "\n",
      "Пассажир 686: 47.0%\n",
      "  Данные: {'PassengerId': 686, 'Survived': 0, 'Pclass': 2, 'Name': 'Laroche, Mr. Joseph Philippe Lemercier', 'Sex': 'male', 'Age': 25.0, 'SibSp': 1, 'Parch': 2, 'Ticket': 'SC/Paris 2123', 'Fare': 41.5792, 'Cabin': nan, 'Embarked': 'C'}\n",
      "\n",
      "Пассажир 687: 27.0%\n",
      "  Данные: {'PassengerId': 687, 'Survived': 0, 'Pclass': 3, 'Name': 'Panula, Mr. Jaako Arnold', 'Sex': 'male', 'Age': 14.0, 'SibSp': 4, 'Parch': 1, 'Ticket': '3101295', 'Fare': 39.6875, 'Cabin': nan, 'Embarked': 'S'}\n",
      "\n",
      "Пассажир 688: 27.0%\n",
      "  Данные: {'PassengerId': 688, 'Survived': 0, 'Pclass': 3, 'Name': 'Dakic, Mr. Branko', 'Sex': 'male', 'Age': 19.0, 'SibSp': 0, 'Parch': 0, 'Ticket': '349228', 'Fare': 10.1708, 'Cabin': nan, 'Embarked': 'S'}\n",
      "\n",
      "Пассажир 689: 27.0%\n",
      "  Данные: {'PassengerId': 689, 'Survived': 0, 'Pclass': 3, 'Name': 'Fischer, Mr. Eberhard Thelander', 'Sex': 'male', 'Age': 18.0, 'SibSp': 0, 'Parch': 0, 'Ticket': '350036', 'Fare': 7.7958, 'Cabin': nan, 'Embarked': 'S'}\n",
      "\n",
      "Пассажир 690: 43.0%\n",
      "  Данные: {'PassengerId': 690, 'Survived': 1, 'Pclass': 1, 'Name': 'Madill, Miss. Georgette Alexandra', 'Sex': 'female', 'Age': 15.0, 'SibSp': 0, 'Parch': 1, 'Ticket': '24160', 'Fare': 211.3375, 'Cabin': 'B5', 'Embarked': 'S'}\n",
      "\n",
      "Пассажир 691: 34.0%\n",
      "  Данные: {'PassengerId': 691, 'Survived': 1, 'Pclass': 1, 'Name': 'Dick, Mr. Albert Adrian', 'Sex': 'male', 'Age': 31.0, 'SibSp': 1, 'Parch': 0, 'Ticket': '17474', 'Fare': 57.0, 'Cabin': 'B20', 'Embarked': 'S'}\n",
      "\n",
      "Пассажир 692: 66.0%\n",
      "  Данные: {'PassengerId': 692, 'Survived': 1, 'Pclass': 3, 'Name': 'Karun, Miss. Manca', 'Sex': 'female', 'Age': 4.0, 'SibSp': 0, 'Parch': 1, 'Ticket': '349256', 'Fare': 13.4167, 'Cabin': nan, 'Embarked': 'C'}\n",
      "\n",
      "Пассажир 693: 30.0%\n",
      "  Данные: {'PassengerId': 693, 'Survived': 1, 'Pclass': 3, 'Name': 'Lam, Mr. Ali', 'Sex': 'male', 'Age': nan, 'SibSp': 0, 'Parch': 0, 'Ticket': '1601', 'Fare': 56.4958, 'Cabin': nan, 'Embarked': 'S'}\n",
      "\n",
      "Пассажир 694: 43.0%\n",
      "  Данные: {'PassengerId': 694, 'Survived': 0, 'Pclass': 3, 'Name': 'Saad, Mr. Khalil', 'Sex': 'male', 'Age': 25.0, 'SibSp': 0, 'Parch': 0, 'Ticket': '2672', 'Fare': 7.225, 'Cabin': nan, 'Embarked': 'C'}\n",
      "\n",
      "Пассажир 695: 34.0%\n",
      "  Данные: {'PassengerId': 695, 'Survived': 0, 'Pclass': 1, 'Name': 'Weir, Col. John', 'Sex': 'male', 'Age': 60.0, 'SibSp': 0, 'Parch': 0, 'Ticket': '113800', 'Fare': 26.55, 'Cabin': nan, 'Embarked': 'S'}\n",
      "\n",
      "Пассажир 696: 30.0%\n",
      "  Данные: {'PassengerId': 696, 'Survived': 0, 'Pclass': 2, 'Name': 'Chapman, Mr. Charles Henry', 'Sex': 'male', 'Age': 52.0, 'SibSp': 0, 'Parch': 0, 'Ticket': '248731', 'Fare': 13.5, 'Cabin': nan, 'Embarked': 'S'}\n",
      "\n",
      "Пассажир 697: 27.0%\n",
      "  Данные: {'PassengerId': 697, 'Survived': 0, 'Pclass': 3, 'Name': 'Kelly, Mr. James', 'Sex': 'male', 'Age': 44.0, 'SibSp': 0, 'Parch': 0, 'Ticket': '363592', 'Fare': 8.05, 'Cabin': nan, 'Embarked': 'S'}\n",
      "\n",
      "Пассажир 698: 43.0%\n",
      "  Данные: {'PassengerId': 698, 'Survived': 1, 'Pclass': 3, 'Name': 'Mullens, Miss. Katherine \"Katie\"', 'Sex': 'female', 'Age': nan, 'SibSp': 0, 'Parch': 0, 'Ticket': '35852', 'Fare': 7.7333, 'Cabin': nan, 'Embarked': 'Q'}\n",
      "\n",
      "Пассажир 699: 50.0%\n",
      "  Данные: {'PassengerId': 699, 'Survived': 0, 'Pclass': 1, 'Name': 'Thayer, Mr. John Borland', 'Sex': 'male', 'Age': 49.0, 'SibSp': 1, 'Parch': 1, 'Ticket': '17421', 'Fare': 110.8833, 'Cabin': 'C68', 'Embarked': 'C'}\n",
      "\n",
      "Пассажир 700: 27.0%\n",
      "  Данные: {'PassengerId': 700, 'Survived': 0, 'Pclass': 3, 'Name': 'Humblen, Mr. Adolf Mathias Nicolai Olsen', 'Sex': 'male', 'Age': 42.0, 'SibSp': 0, 'Parch': 0, 'Ticket': '348121', 'Fare': 7.65, 'Cabin': 'F G63', 'Embarked': 'S'}\n",
      "\n",
      "Пассажир 701: 59.0%\n",
      "  Данные: {'PassengerId': 701, 'Survived': 1, 'Pclass': 1, 'Name': 'Astor, Mrs. John Jacob (Madeleine Talmadge Force)', 'Sex': 'female', 'Age': 18.0, 'SibSp': 1, 'Parch': 0, 'Ticket': 'PC 17757', 'Fare': 227.525, 'Cabin': 'C62 C64', 'Embarked': 'C'}\n",
      "\n",
      "Пассажир 702: 34.0%\n",
      "  Данные: {'PassengerId': 702, 'Survived': 1, 'Pclass': 1, 'Name': 'Silverthorne, Mr. Spencer Victor', 'Sex': 'male', 'Age': 35.0, 'SibSp': 0, 'Parch': 0, 'Ticket': 'PC 17475', 'Fare': 26.2875, 'Cabin': 'E24', 'Embarked': 'S'}\n",
      "\n",
      "Пассажир 703: 52.0%\n",
      "  Данные: {'PassengerId': 703, 'Survived': 0, 'Pclass': 3, 'Name': 'Barbara, Miss. Saiide', 'Sex': 'female', 'Age': 18.0, 'SibSp': 0, 'Parch': 1, 'Ticket': '2691', 'Fare': 14.4542, 'Cabin': nan, 'Embarked': 'C'}\n",
      "\n",
      "Пассажир 704: 27.0%\n",
      "  Данные: {'PassengerId': 704, 'Survived': 0, 'Pclass': 3, 'Name': 'Gallagher, Mr. Martin', 'Sex': 'male', 'Age': 25.0, 'SibSp': 0, 'Parch': 0, 'Ticket': '36864', 'Fare': 7.7417, 'Cabin': nan, 'Embarked': 'Q'}\n",
      "\n",
      "Пассажир 705: 27.0%\n",
      "  Данные: {'PassengerId': 705, 'Survived': 0, 'Pclass': 3, 'Name': 'Hansen, Mr. Henrik Juul', 'Sex': 'male', 'Age': 26.0, 'SibSp': 1, 'Parch': 0, 'Ticket': '350025', 'Fare': 7.8542, 'Cabin': nan, 'Embarked': 'S'}\n",
      "\n",
      "Пассажир 706: 30.0%\n",
      "  Данные: {'PassengerId': 706, 'Survived': 0, 'Pclass': 2, 'Name': 'Morley, Mr. Henry Samuel (\"Mr Henry Marshall\")', 'Sex': 'male', 'Age': 39.0, 'SibSp': 0, 'Parch': 0, 'Ticket': '250655', 'Fare': 26.0, 'Cabin': nan, 'Embarked': 'S'}\n",
      "\n",
      "Пассажир 707: 40.0%\n",
      "  Данные: {'PassengerId': 707, 'Survived': 1, 'Pclass': 2, 'Name': 'Kelly, Mrs. Florence \"Fannie\"', 'Sex': 'female', 'Age': 45.0, 'SibSp': 0, 'Parch': 0, 'Ticket': '223596', 'Fare': 13.5, 'Cabin': nan, 'Embarked': 'S'}\n",
      "\n",
      "Пассажир 708: 34.0%\n",
      "  Данные: {'PassengerId': 708, 'Survived': 1, 'Pclass': 1, 'Name': 'Calderhead, Mr. Edward Pennington', 'Sex': 'male', 'Age': 42.0, 'SibSp': 0, 'Parch': 0, 'Ticket': 'PC 17476', 'Fare': 26.2875, 'Cabin': 'E24', 'Embarked': 'S'}\n",
      "\n",
      "Пассажир 709: 43.0%\n",
      "  Данные: {'PassengerId': 709, 'Survived': 1, 'Pclass': 1, 'Name': 'Cleaver, Miss. Alice', 'Sex': 'female', 'Age': 22.0, 'SibSp': 0, 'Parch': 0, 'Ticket': '113781', 'Fare': 151.55, 'Cabin': nan, 'Embarked': 'S'}\n",
      "\n",
      "Пассажир 710: 46.0%\n",
      "  Данные: {'PassengerId': 710, 'Survived': 1, 'Pclass': 3, 'Name': 'Moubarek, Master. Halim Gonios (\"William George\")', 'Sex': 'male', 'Age': nan, 'SibSp': 1, 'Parch': 1, 'Ticket': '2661', 'Fare': 15.2458, 'Cabin': nan, 'Embarked': 'C'}\n",
      "\n",
      "Пассажир 711: 59.0%\n",
      "  Данные: {'PassengerId': 711, 'Survived': 1, 'Pclass': 1, 'Name': 'Mayne, Mlle. Berthe Antonine (\"Mrs de Villiers\")', 'Sex': 'female', 'Age': 24.0, 'SibSp': 0, 'Parch': 0, 'Ticket': 'PC 17482', 'Fare': 49.5042, 'Cabin': 'C90', 'Embarked': 'C'}\n",
      "\n",
      "Пассажир 712: 40.0%\n",
      "  Данные: {'PassengerId': 712, 'Survived': 0, 'Pclass': 1, 'Name': 'Klaber, Mr. Herman', 'Sex': 'male', 'Age': nan, 'SibSp': 0, 'Parch': 0, 'Ticket': '113028', 'Fare': 26.55, 'Cabin': 'C124', 'Embarked': 'S'}\n",
      "\n",
      "Пассажир 713: 34.0%\n",
      "  Данные: {'PassengerId': 713, 'Survived': 1, 'Pclass': 1, 'Name': 'Taylor, Mr. Elmer Zebley', 'Sex': 'male', 'Age': 48.0, 'SibSp': 1, 'Parch': 0, 'Ticket': '19996', 'Fare': 52.0, 'Cabin': 'C126', 'Embarked': 'S'}\n",
      "\n",
      "Пассажир 714: 27.0%\n",
      "  Данные: {'PassengerId': 714, 'Survived': 0, 'Pclass': 3, 'Name': 'Larsson, Mr. August Viktor', 'Sex': 'male', 'Age': 29.0, 'SibSp': 0, 'Parch': 0, 'Ticket': '7545', 'Fare': 9.4833, 'Cabin': nan, 'Embarked': 'S'}\n",
      "\n",
      "Пассажир 715: 30.0%\n",
      "  Данные: {'PassengerId': 715, 'Survived': 0, 'Pclass': 2, 'Name': 'Greenberg, Mr. Samuel', 'Sex': 'male', 'Age': 52.0, 'SibSp': 0, 'Parch': 0, 'Ticket': '250647', 'Fare': 13.0, 'Cabin': nan, 'Embarked': 'S'}\n",
      "\n",
      "Пассажир 716: 27.0%\n",
      "  Данные: {'PassengerId': 716, 'Survived': 0, 'Pclass': 3, 'Name': 'Soholt, Mr. Peter Andreas Lauritz Andersen', 'Sex': 'male', 'Age': 19.0, 'SibSp': 0, 'Parch': 0, 'Ticket': '348124', 'Fare': 7.65, 'Cabin': 'F G73', 'Embarked': 'S'}\n",
      "\n",
      "Пассажир 717: 59.0%\n",
      "  Данные: {'PassengerId': 717, 'Survived': 1, 'Pclass': 1, 'Name': 'Endres, Miss. Caroline Louise', 'Sex': 'female', 'Age': 38.0, 'SibSp': 0, 'Parch': 0, 'Ticket': 'PC 17757', 'Fare': 227.525, 'Cabin': 'C45', 'Embarked': 'C'}\n",
      "\n",
      "Пассажир 718: 40.0%\n",
      "  Данные: {'PassengerId': 718, 'Survived': 1, 'Pclass': 2, 'Name': 'Troutt, Miss. Edwina Celia \"Winnie\"', 'Sex': 'female', 'Age': 27.0, 'SibSp': 0, 'Parch': 0, 'Ticket': '34218', 'Fare': 10.5, 'Cabin': 'E101', 'Embarked': 'S'}\n",
      "\n",
      "Пассажир 719: 30.0%\n",
      "  Данные: {'PassengerId': 719, 'Survived': 0, 'Pclass': 3, 'Name': 'McEvoy, Mr. Michael', 'Sex': 'male', 'Age': nan, 'SibSp': 0, 'Parch': 0, 'Ticket': '36568', 'Fare': 15.5, 'Cabin': nan, 'Embarked': 'Q'}\n",
      "\n",
      "Пассажир 720: 27.0%\n",
      "  Данные: {'PassengerId': 720, 'Survived': 0, 'Pclass': 3, 'Name': 'Johnson, Mr. Malkolm Joackim', 'Sex': 'male', 'Age': 33.0, 'SibSp': 0, 'Parch': 0, 'Ticket': '347062', 'Fare': 7.775, 'Cabin': nan, 'Embarked': 'S'}\n",
      "\n",
      "Пассажир 721: 53.0%\n",
      "  Данные: {'PassengerId': 721, 'Survived': 1, 'Pclass': 2, 'Name': 'Harper, Miss. Annie Jessie \"Nina\"', 'Sex': 'female', 'Age': 6.0, 'SibSp': 0, 'Parch': 1, 'Ticket': '248727', 'Fare': 33.0, 'Cabin': nan, 'Embarked': 'S'}\n",
      "\n",
      "Пассажир 722: 27.0%\n",
      "  Данные: {'PassengerId': 722, 'Survived': 0, 'Pclass': 3, 'Name': 'Jensen, Mr. Svend Lauritz', 'Sex': 'male', 'Age': 17.0, 'SibSp': 1, 'Parch': 0, 'Ticket': '350048', 'Fare': 7.0542, 'Cabin': nan, 'Embarked': 'S'}\n",
      "\n",
      "Пассажир 723: 30.0%\n",
      "  Данные: {'PassengerId': 723, 'Survived': 0, 'Pclass': 2, 'Name': 'Gillespie, Mr. William Henry', 'Sex': 'male', 'Age': 34.0, 'SibSp': 0, 'Parch': 0, 'Ticket': '12233', 'Fare': 13.0, 'Cabin': nan, 'Embarked': 'S'}\n",
      "\n",
      "Пассажир 724: 30.0%\n",
      "  Данные: {'PassengerId': 724, 'Survived': 0, 'Pclass': 2, 'Name': 'Hodges, Mr. Henry Price', 'Sex': 'male', 'Age': 50.0, 'SibSp': 0, 'Parch': 0, 'Ticket': '250643', 'Fare': 13.0, 'Cabin': nan, 'Embarked': 'S'}\n",
      "\n",
      "Пассажир 725: 34.0%\n",
      "  Данные: {'PassengerId': 725, 'Survived': 1, 'Pclass': 1, 'Name': 'Chambers, Mr. Norman Campbell', 'Sex': 'male', 'Age': 27.0, 'SibSp': 1, 'Parch': 0, 'Ticket': '113806', 'Fare': 53.1, 'Cabin': 'E8', 'Embarked': 'S'}\n",
      "\n",
      "Пассажир 726: 27.0%\n",
      "  Данные: {'PassengerId': 726, 'Survived': 0, 'Pclass': 3, 'Name': 'Oreskovic, Mr. Luka', 'Sex': 'male', 'Age': 20.0, 'SibSp': 0, 'Parch': 0, 'Ticket': '315094', 'Fare': 8.6625, 'Cabin': nan, 'Embarked': 'S'}\n",
      "\n",
      "Пассажир 727: 40.0%\n",
      "  Данные: {'PassengerId': 727, 'Survived': 1, 'Pclass': 2, 'Name': 'Renouf, Mrs. Peter Henry (Lillian Jefferys)', 'Sex': 'female', 'Age': 30.0, 'SibSp': 3, 'Parch': 0, 'Ticket': '31027', 'Fare': 21.0, 'Cabin': nan, 'Embarked': 'S'}\n",
      "\n",
      "Пассажир 728: 43.0%\n",
      "  Данные: {'PassengerId': 728, 'Survived': 1, 'Pclass': 3, 'Name': 'Mannion, Miss. Margareth', 'Sex': 'female', 'Age': nan, 'SibSp': 0, 'Parch': 0, 'Ticket': '36866', 'Fare': 7.7375, 'Cabin': nan, 'Embarked': 'Q'}\n",
      "\n",
      "Пассажир 729: 30.0%\n",
      "  Данные: {'PassengerId': 729, 'Survived': 0, 'Pclass': 2, 'Name': 'Bryhl, Mr. Kurt Arnold Gottfrid', 'Sex': 'male', 'Age': 25.0, 'SibSp': 1, 'Parch': 0, 'Ticket': '236853', 'Fare': 26.0, 'Cabin': nan, 'Embarked': 'S'}\n",
      "\n",
      "Пассажир 730: 36.0%\n",
      "  Данные: {'PassengerId': 730, 'Survived': 0, 'Pclass': 3, 'Name': 'Ilmakangas, Miss. Pieta Sofia', 'Sex': 'female', 'Age': 25.0, 'SibSp': 1, 'Parch': 0, 'Ticket': 'STON/O2. 3101271', 'Fare': 7.925, 'Cabin': nan, 'Embarked': 'S'}\n",
      "\n",
      "Пассажир 731: 43.0%\n",
      "  Данные: {'PassengerId': 731, 'Survived': 1, 'Pclass': 1, 'Name': 'Allen, Miss. Elisabeth Walton', 'Sex': 'female', 'Age': 29.0, 'SibSp': 0, 'Parch': 0, 'Ticket': '24160', 'Fare': 211.3375, 'Cabin': 'B5', 'Embarked': 'S'}\n",
      "\n",
      "Пассажир 732: 56.00000000000001%\n",
      "  Данные: {'PassengerId': 732, 'Survived': 0, 'Pclass': 3, 'Name': 'Hassan, Mr. Houssein G N', 'Sex': 'male', 'Age': 11.0, 'SibSp': 0, 'Parch': 0, 'Ticket': '2699', 'Fare': 18.7875, 'Cabin': nan, 'Embarked': 'C'}\n",
      "\n",
      "Пассажир 733: 35.0%\n",
      "  Данные: {'PassengerId': 733, 'Survived': 0, 'Pclass': 2, 'Name': 'Knight, Mr. Robert J', 'Sex': 'male', 'Age': nan, 'SibSp': 0, 'Parch': 0, 'Ticket': '239855', 'Fare': 0.0, 'Cabin': nan, 'Embarked': 'S'}\n",
      "\n",
      "Пассажир 734: 30.0%\n",
      "  Данные: {'PassengerId': 734, 'Survived': 0, 'Pclass': 2, 'Name': 'Berriman, Mr. William John', 'Sex': 'male', 'Age': 23.0, 'SibSp': 0, 'Parch': 0, 'Ticket': '28425', 'Fare': 13.0, 'Cabin': nan, 'Embarked': 'S'}\n",
      "\n",
      "Пассажир 735: 30.0%\n",
      "  Данные: {'PassengerId': 735, 'Survived': 0, 'Pclass': 2, 'Name': 'Troupiansky, Mr. Moses Aaron', 'Sex': 'male', 'Age': 23.0, 'SibSp': 0, 'Parch': 0, 'Ticket': '233639', 'Fare': 13.0, 'Cabin': nan, 'Embarked': 'S'}\n",
      "\n",
      "Пассажир 736: 27.0%\n",
      "  Данные: {'PassengerId': 736, 'Survived': 0, 'Pclass': 3, 'Name': 'Williams, Mr. Leslie', 'Sex': 'male', 'Age': 28.5, 'SibSp': 0, 'Parch': 0, 'Ticket': '54636', 'Fare': 16.1, 'Cabin': nan, 'Embarked': 'S'}\n",
      "\n",
      "Пассажир 737: 36.0%\n",
      "  Данные: {'PassengerId': 737, 'Survived': 0, 'Pclass': 3, 'Name': 'Ford, Mrs. Edward (Margaret Ann Watson)', 'Sex': 'female', 'Age': 48.0, 'SibSp': 1, 'Parch': 3, 'Ticket': 'W./C. 6608', 'Fare': 34.375, 'Cabin': nan, 'Embarked': 'S'}\n",
      "\n",
      "Пассажир 738: 50.0%\n",
      "  Данные: {'PassengerId': 738, 'Survived': 1, 'Pclass': 1, 'Name': 'Lesurer, Mr. Gustave J', 'Sex': 'male', 'Age': 35.0, 'SibSp': 0, 'Parch': 0, 'Ticket': 'PC 17755', 'Fare': 512.3292, 'Cabin': 'B101', 'Embarked': 'C'}\n",
      "\n",
      "Пассажир 739: 30.0%\n",
      "  Данные: {'PassengerId': 739, 'Survived': 0, 'Pclass': 3, 'Name': 'Ivanoff, Mr. Kanio', 'Sex': 'male', 'Age': nan, 'SibSp': 0, 'Parch': 0, 'Ticket': '349201', 'Fare': 7.8958, 'Cabin': nan, 'Embarked': 'S'}\n",
      "\n",
      "Пассажир 740: 30.0%\n",
      "  Данные: {'PassengerId': 740, 'Survived': 0, 'Pclass': 3, 'Name': 'Nankoff, Mr. Minko', 'Sex': 'male', 'Age': nan, 'SibSp': 0, 'Parch': 0, 'Ticket': '349218', 'Fare': 7.8958, 'Cabin': nan, 'Embarked': 'S'}\n",
      "\n",
      "Пассажир 741: 40.0%\n",
      "  Данные: {'PassengerId': 741, 'Survived': 1, 'Pclass': 1, 'Name': 'Hawksford, Mr. Walter James', 'Sex': 'male', 'Age': nan, 'SibSp': 0, 'Parch': 0, 'Ticket': '16988', 'Fare': 30.0, 'Cabin': 'D45', 'Embarked': 'S'}\n",
      "\n",
      "Пассажир 742: 34.0%\n",
      "  Данные: {'PassengerId': 742, 'Survived': 0, 'Pclass': 1, 'Name': 'Cavendish, Mr. Tyrell William', 'Sex': 'male', 'Age': 36.0, 'SibSp': 1, 'Parch': 0, 'Ticket': '19877', 'Fare': 78.85, 'Cabin': 'C46', 'Embarked': 'S'}\n",
      "\n",
      "Пассажир 743: 59.0%\n",
      "  Данные: {'PassengerId': 743, 'Survived': 1, 'Pclass': 1, 'Name': 'Ryerson, Miss. Susan Parker \"Suzette\"', 'Sex': 'female', 'Age': 21.0, 'SibSp': 2, 'Parch': 2, 'Ticket': 'PC 17608', 'Fare': 262.375, 'Cabin': 'B57 B59 B63 B66', 'Embarked': 'C'}\n",
      "\n",
      "Пассажир 744: 27.0%\n",
      "  Данные: {'PassengerId': 744, 'Survived': 0, 'Pclass': 3, 'Name': 'McNamee, Mr. Neal', 'Sex': 'male', 'Age': 24.0, 'SibSp': 1, 'Parch': 0, 'Ticket': '376566', 'Fare': 16.1, 'Cabin': nan, 'Embarked': 'S'}\n",
      "\n",
      "Пассажир 745: 27.0%\n",
      "  Данные: {'PassengerId': 745, 'Survived': 1, 'Pclass': 3, 'Name': 'Stranden, Mr. Juho', 'Sex': 'male', 'Age': 31.0, 'SibSp': 0, 'Parch': 0, 'Ticket': 'STON/O 2. 3101288', 'Fare': 7.925, 'Cabin': nan, 'Embarked': 'S'}\n",
      "\n",
      "Пассажир 746: 30.0%\n",
      "  Данные: {'PassengerId': 746, 'Survived': 0, 'Pclass': 1, 'Name': 'Crosby, Capt. Edward Gifford', 'Sex': 'male', 'Age': 70.0, 'SibSp': 1, 'Parch': 1, 'Ticket': 'WE/P 5735', 'Fare': 71.0, 'Cabin': 'B22', 'Embarked': 'S'}\n",
      "\n",
      "Пассажир 747: 27.0%\n",
      "  Данные: {'PassengerId': 747, 'Survived': 0, 'Pclass': 3, 'Name': 'Abbott, Mr. Rossmore Edward', 'Sex': 'male', 'Age': 16.0, 'SibSp': 1, 'Parch': 1, 'Ticket': 'C.A. 2673', 'Fare': 20.25, 'Cabin': nan, 'Embarked': 'S'}\n",
      "\n",
      "Пассажир 748: 40.0%\n",
      "  Данные: {'PassengerId': 748, 'Survived': 1, 'Pclass': 2, 'Name': 'Sinkkonen, Miss. Anna', 'Sex': 'female', 'Age': 30.0, 'SibSp': 0, 'Parch': 0, 'Ticket': '250648', 'Fare': 13.0, 'Cabin': nan, 'Embarked': 'S'}\n",
      "\n",
      "Пассажир 749: 34.0%\n",
      "  Данные: {'PassengerId': 749, 'Survived': 0, 'Pclass': 1, 'Name': 'Marvin, Mr. Daniel Warner', 'Sex': 'male', 'Age': 19.0, 'SibSp': 1, 'Parch': 0, 'Ticket': '113773', 'Fare': 53.1, 'Cabin': 'D30', 'Embarked': 'S'}\n",
      "\n",
      "Пассажир 750: 27.0%\n",
      "  Данные: {'PassengerId': 750, 'Survived': 0, 'Pclass': 3, 'Name': 'Connaghton, Mr. Michael', 'Sex': 'male', 'Age': 31.0, 'SibSp': 0, 'Parch': 0, 'Ticket': '335097', 'Fare': 7.75, 'Cabin': nan, 'Embarked': 'Q'}\n",
      "\n",
      "Пассажир 751: 53.0%\n",
      "  Данные: {'PassengerId': 751, 'Survived': 1, 'Pclass': 2, 'Name': 'Wells, Miss. Joan', 'Sex': 'female', 'Age': 4.0, 'SibSp': 1, 'Parch': 1, 'Ticket': '29103', 'Fare': 23.0, 'Cabin': nan, 'Embarked': 'S'}\n",
      "\n",
      "Пассажир 752: 40.0%\n",
      "  Данные: {'PassengerId': 752, 'Survived': 1, 'Pclass': 3, 'Name': 'Moor, Master. Meier', 'Sex': 'male', 'Age': 6.0, 'SibSp': 0, 'Parch': 1, 'Ticket': '392096', 'Fare': 12.475, 'Cabin': 'E121', 'Embarked': 'S'}\n",
      "\n",
      "Пассажир 753: 27.0%\n",
      "  Данные: {'PassengerId': 753, 'Survived': 0, 'Pclass': 3, 'Name': 'Vande Velde, Mr. Johannes Joseph', 'Sex': 'male', 'Age': 33.0, 'SibSp': 0, 'Parch': 0, 'Ticket': '345780', 'Fare': 9.5, 'Cabin': nan, 'Embarked': 'S'}\n",
      "\n",
      "Пассажир 754: 27.0%\n",
      "  Данные: {'PassengerId': 754, 'Survived': 0, 'Pclass': 3, 'Name': 'Jonkoff, Mr. Lalio', 'Sex': 'male', 'Age': 23.0, 'SibSp': 0, 'Parch': 0, 'Ticket': '349204', 'Fare': 7.8958, 'Cabin': nan, 'Embarked': 'S'}\n",
      "\n",
      "Пассажир 755: 40.0%\n",
      "  Данные: {'PassengerId': 755, 'Survived': 1, 'Pclass': 2, 'Name': 'Herman, Mrs. Samuel (Jane Laver)', 'Sex': 'female', 'Age': 48.0, 'SibSp': 1, 'Parch': 2, 'Ticket': '220845', 'Fare': 65.0, 'Cabin': nan, 'Embarked': 'S'}\n",
      "\n",
      "Пассажир 756: 44.0%\n",
      "  Данные: {'PassengerId': 756, 'Survived': 1, 'Pclass': 2, 'Name': 'Hamalainen, Master. Viljo', 'Sex': 'male', 'Age': 0.67, 'SibSp': 1, 'Parch': 1, 'Ticket': '250649', 'Fare': 14.5, 'Cabin': nan, 'Embarked': 'S'}\n",
      "\n",
      "Пассажир 757: 27.0%\n",
      "  Данные: {'PassengerId': 757, 'Survived': 0, 'Pclass': 3, 'Name': 'Carlsson, Mr. August Sigfrid', 'Sex': 'male', 'Age': 28.0, 'SibSp': 0, 'Parch': 0, 'Ticket': '350042', 'Fare': 7.7958, 'Cabin': nan, 'Embarked': 'S'}\n",
      "\n",
      "Пассажир 758: 30.0%\n",
      "  Данные: {'PassengerId': 758, 'Survived': 0, 'Pclass': 2, 'Name': 'Bailey, Mr. Percy Andrew', 'Sex': 'male', 'Age': 18.0, 'SibSp': 0, 'Parch': 0, 'Ticket': '29108', 'Fare': 11.5, 'Cabin': nan, 'Embarked': 'S'}\n",
      "\n",
      "Пассажир 759: 27.0%\n",
      "  Данные: {'PassengerId': 759, 'Survived': 0, 'Pclass': 3, 'Name': 'Theobald, Mr. Thomas Leonard', 'Sex': 'male', 'Age': 34.0, 'SibSp': 0, 'Parch': 0, 'Ticket': '363294', 'Fare': 8.05, 'Cabin': nan, 'Embarked': 'S'}\n",
      "\n",
      "Пассажир 760: 43.0%\n",
      "  Данные: {'PassengerId': 760, 'Survived': 1, 'Pclass': 1, 'Name': 'Rothes, the Countess. of (Lucy Noel Martha Dyer-Edwards)', 'Sex': 'female', 'Age': 33.0, 'SibSp': 0, 'Parch': 0, 'Ticket': '110152', 'Fare': 86.5, 'Cabin': 'B77', 'Embarked': 'S'}\n",
      "\n",
      "Пассажир 761: 30.0%\n",
      "  Данные: {'PassengerId': 761, 'Survived': 0, 'Pclass': 3, 'Name': 'Garfirth, Mr. John', 'Sex': 'male', 'Age': nan, 'SibSp': 0, 'Parch': 0, 'Ticket': '358585', 'Fare': 14.5, 'Cabin': nan, 'Embarked': 'S'}\n",
      "\n",
      "Пассажир 762: 27.0%\n",
      "  Данные: {'PassengerId': 762, 'Survived': 0, 'Pclass': 3, 'Name': 'Nirva, Mr. Iisakki Antino Aijo', 'Sex': 'male', 'Age': 41.0, 'SibSp': 0, 'Parch': 0, 'Ticket': 'SOTON/O2 3101272', 'Fare': 7.125, 'Cabin': nan, 'Embarked': 'S'}\n",
      "\n",
      "Пассажир 763: 43.0%\n",
      "  Данные: {'PassengerId': 763, 'Survived': 1, 'Pclass': 3, 'Name': 'Barah, Mr. Hanna Assi', 'Sex': 'male', 'Age': 20.0, 'SibSp': 0, 'Parch': 0, 'Ticket': '2663', 'Fare': 7.2292, 'Cabin': nan, 'Embarked': 'C'}\n",
      "\n",
      "Пассажир 764: 43.0%\n",
      "  Данные: {'PassengerId': 764, 'Survived': 1, 'Pclass': 1, 'Name': 'Carter, Mrs. William Ernest (Lucile Polk)', 'Sex': 'female', 'Age': 36.0, 'SibSp': 1, 'Parch': 2, 'Ticket': '113760', 'Fare': 120.0, 'Cabin': 'B96 B98', 'Embarked': 'S'}\n",
      "\n",
      "Пассажир 765: 27.0%\n",
      "  Данные: {'PassengerId': 765, 'Survived': 0, 'Pclass': 3, 'Name': 'Eklund, Mr. Hans Linus', 'Sex': 'male', 'Age': 16.0, 'SibSp': 0, 'Parch': 0, 'Ticket': '347074', 'Fare': 7.775, 'Cabin': nan, 'Embarked': 'S'}\n",
      "\n",
      "Пассажир 766: 43.0%\n",
      "  Данные: {'PassengerId': 766, 'Survived': 1, 'Pclass': 1, 'Name': 'Hogeboom, Mrs. John C (Anna Andrews)', 'Sex': 'female', 'Age': 51.0, 'SibSp': 1, 'Parch': 0, 'Ticket': '13502', 'Fare': 77.9583, 'Cabin': 'D11', 'Embarked': 'S'}\n",
      "\n",
      "Пассажир 767: 56.00000000000001%\n",
      "  Данные: {'PassengerId': 767, 'Survived': 0, 'Pclass': 1, 'Name': 'Brewe, Dr. Arthur Jackson', 'Sex': 'male', 'Age': nan, 'SibSp': 0, 'Parch': 0, 'Ticket': '112379', 'Fare': 39.6, 'Cabin': nan, 'Embarked': 'C'}\n",
      "\n",
      "Пассажир 768: 36.0%\n",
      "  Данные: {'PassengerId': 768, 'Survived': 0, 'Pclass': 3, 'Name': 'Mangan, Miss. Mary', 'Sex': 'female', 'Age': 30.5, 'SibSp': 0, 'Parch': 0, 'Ticket': '364850', 'Fare': 7.75, 'Cabin': nan, 'Embarked': 'Q'}\n",
      "\n",
      "Пассажир 769: 30.0%\n",
      "  Данные: {'PassengerId': 769, 'Survived': 0, 'Pclass': 3, 'Name': 'Moran, Mr. Daniel J', 'Sex': 'male', 'Age': nan, 'SibSp': 1, 'Parch': 0, 'Ticket': '371110', 'Fare': 24.15, 'Cabin': nan, 'Embarked': 'Q'}\n",
      "\n",
      "Пассажир 770: 27.0%\n",
      "  Данные: {'PassengerId': 770, 'Survived': 0, 'Pclass': 3, 'Name': 'Gronnestad, Mr. Daniel Danielsen', 'Sex': 'male', 'Age': 32.0, 'SibSp': 0, 'Parch': 0, 'Ticket': '8471', 'Fare': 8.3625, 'Cabin': nan, 'Embarked': 'S'}\n",
      "\n",
      "Пассажир 771: 27.0%\n",
      "  Данные: {'PassengerId': 771, 'Survived': 0, 'Pclass': 3, 'Name': 'Lievens, Mr. Rene Aime', 'Sex': 'male', 'Age': 24.0, 'SibSp': 0, 'Parch': 0, 'Ticket': '345781', 'Fare': 9.5, 'Cabin': nan, 'Embarked': 'S'}\n",
      "\n",
      "Пассажир 772: 27.0%\n",
      "  Данные: {'PassengerId': 772, 'Survived': 0, 'Pclass': 3, 'Name': 'Jensen, Mr. Niels Peder', 'Sex': 'male', 'Age': 48.0, 'SibSp': 0, 'Parch': 0, 'Ticket': '350047', 'Fare': 7.8542, 'Cabin': nan, 'Embarked': 'S'}\n",
      "\n",
      "Пассажир 773: 40.0%\n",
      "  Данные: {'PassengerId': 773, 'Survived': 0, 'Pclass': 2, 'Name': 'Mack, Mrs. (Mary)', 'Sex': 'female', 'Age': 57.0, 'SibSp': 0, 'Parch': 0, 'Ticket': 'S.O./P.P. 3', 'Fare': 10.5, 'Cabin': 'E77', 'Embarked': 'S'}\n",
      "\n",
      "Пассажир 774: 46.0%\n",
      "  Данные: {'PassengerId': 774, 'Survived': 0, 'Pclass': 3, 'Name': 'Elias, Mr. Dibo', 'Sex': 'male', 'Age': nan, 'SibSp': 0, 'Parch': 0, 'Ticket': '2674', 'Fare': 7.225, 'Cabin': nan, 'Embarked': 'C'}\n",
      "\n",
      "Пассажир 775: 40.0%\n",
      "  Данные: {'PassengerId': 775, 'Survived': 1, 'Pclass': 2, 'Name': 'Hocking, Mrs. Elizabeth (Eliza Needs)', 'Sex': 'female', 'Age': 54.0, 'SibSp': 1, 'Parch': 3, 'Ticket': '29105', 'Fare': 23.0, 'Cabin': nan, 'Embarked': 'S'}\n",
      "\n",
      "Пассажир 776: 27.0%\n",
      "  Данные: {'PassengerId': 776, 'Survived': 0, 'Pclass': 3, 'Name': 'Myhrman, Mr. Pehr Fabian Oliver Malkolm', 'Sex': 'male', 'Age': 18.0, 'SibSp': 0, 'Parch': 0, 'Ticket': '347078', 'Fare': 7.75, 'Cabin': nan, 'Embarked': 'S'}\n",
      "\n",
      "Пассажир 777: 30.0%\n",
      "  Данные: {'PassengerId': 777, 'Survived': 0, 'Pclass': 3, 'Name': 'Tobin, Mr. Roger', 'Sex': 'male', 'Age': nan, 'SibSp': 0, 'Parch': 0, 'Ticket': '383121', 'Fare': 7.75, 'Cabin': 'F38', 'Embarked': 'Q'}\n",
      "\n",
      "Пассажир 778: 49.0%\n",
      "  Данные: {'PassengerId': 778, 'Survived': 1, 'Pclass': 3, 'Name': 'Emanuel, Miss. Virginia Ethel', 'Sex': 'female', 'Age': 5.0, 'SibSp': 0, 'Parch': 0, 'Ticket': '364516', 'Fare': 12.475, 'Cabin': nan, 'Embarked': 'S'}\n",
      "\n",
      "Пассажир 779: 30.0%\n",
      "  Данные: {'PassengerId': 779, 'Survived': 0, 'Pclass': 3, 'Name': 'Kilgannon, Mr. Thomas J', 'Sex': 'male', 'Age': nan, 'SibSp': 0, 'Parch': 0, 'Ticket': '36865', 'Fare': 7.7375, 'Cabin': nan, 'Embarked': 'Q'}\n",
      "\n",
      "Пассажир 780: 43.0%\n",
      "  Данные: {'PassengerId': 780, 'Survived': 1, 'Pclass': 1, 'Name': 'Robert, Mrs. Edward Scott (Elisabeth Walton McMillan)', 'Sex': 'female', 'Age': 43.0, 'SibSp': 0, 'Parch': 1, 'Ticket': '24160', 'Fare': 211.3375, 'Cabin': 'B3', 'Embarked': 'S'}\n",
      "\n",
      "Пассажир 781: 52.0%\n",
      "  Данные: {'PassengerId': 781, 'Survived': 1, 'Pclass': 3, 'Name': 'Ayoub, Miss. Banoura', 'Sex': 'female', 'Age': 13.0, 'SibSp': 0, 'Parch': 0, 'Ticket': '2687', 'Fare': 7.2292, 'Cabin': nan, 'Embarked': 'C'}\n",
      "\n",
      "Пассажир 782: 43.0%\n",
      "  Данные: {'PassengerId': 782, 'Survived': 1, 'Pclass': 1, 'Name': 'Dick, Mrs. Albert Adrian (Vera Gillespie)', 'Sex': 'female', 'Age': 17.0, 'SibSp': 1, 'Parch': 0, 'Ticket': '17474', 'Fare': 57.0, 'Cabin': 'B20', 'Embarked': 'S'}\n",
      "\n",
      "Пассажир 783: 34.0%\n",
      "  Данные: {'PassengerId': 783, 'Survived': 0, 'Pclass': 1, 'Name': 'Long, Mr. Milton Clyde', 'Sex': 'male', 'Age': 29.0, 'SibSp': 0, 'Parch': 0, 'Ticket': '113501', 'Fare': 30.0, 'Cabin': 'D6', 'Embarked': 'S'}\n",
      "\n",
      "Пассажир 784: 30.0%\n",
      "  Данные: {'PassengerId': 784, 'Survived': 0, 'Pclass': 3, 'Name': 'Johnston, Mr. Andrew G', 'Sex': 'male', 'Age': nan, 'SibSp': 1, 'Parch': 2, 'Ticket': 'W./C. 6607', 'Fare': 23.45, 'Cabin': nan, 'Embarked': 'S'}\n",
      "\n",
      "Пассажир 785: 27.0%\n",
      "  Данные: {'PassengerId': 785, 'Survived': 0, 'Pclass': 3, 'Name': 'Ali, Mr. William', 'Sex': 'male', 'Age': 25.0, 'SibSp': 0, 'Parch': 0, 'Ticket': 'SOTON/O.Q. 3101312', 'Fare': 7.05, 'Cabin': nan, 'Embarked': 'S'}\n",
      "\n",
      "Пассажир 786: 27.0%\n",
      "  Данные: {'PassengerId': 786, 'Survived': 0, 'Pclass': 3, 'Name': 'Harmer, Mr. Abraham (David Lishin)', 'Sex': 'male', 'Age': 25.0, 'SibSp': 0, 'Parch': 0, 'Ticket': '374887', 'Fare': 7.25, 'Cabin': nan, 'Embarked': 'S'}\n",
      "\n",
      "Пассажир 787: 36.0%\n",
      "  Данные: {'PassengerId': 787, 'Survived': 1, 'Pclass': 3, 'Name': 'Sjoblom, Miss. Anna Sofia', 'Sex': 'female', 'Age': 18.0, 'SibSp': 0, 'Parch': 0, 'Ticket': '3101265', 'Fare': 7.4958, 'Cabin': nan, 'Embarked': 'S'}\n",
      "\n",
      "Пассажир 788: 40.0%\n",
      "  Данные: {'PassengerId': 788, 'Survived': 0, 'Pclass': 3, 'Name': 'Rice, Master. George Hugh', 'Sex': 'male', 'Age': 8.0, 'SibSp': 4, 'Parch': 1, 'Ticket': '382652', 'Fare': 29.125, 'Cabin': nan, 'Embarked': 'Q'}\n",
      "\n",
      "Пассажир 789: 40.0%\n",
      "  Данные: {'PassengerId': 789, 'Survived': 1, 'Pclass': 3, 'Name': 'Dean, Master. Bertram Vere', 'Sex': 'male', 'Age': 1.0, 'SibSp': 1, 'Parch': 2, 'Ticket': 'C.A. 2315', 'Fare': 20.575, 'Cabin': nan, 'Embarked': 'S'}\n",
      "\n",
      "Пассажир 790: 50.0%\n",
      "  Данные: {'PassengerId': 790, 'Survived': 0, 'Pclass': 1, 'Name': 'Guggenheim, Mr. Benjamin', 'Sex': 'male', 'Age': 46.0, 'SibSp': 0, 'Parch': 0, 'Ticket': 'PC 17593', 'Fare': 79.2, 'Cabin': 'B82 B84', 'Embarked': 'C'}\n",
      "\n",
      "Пассажир 791: 30.0%\n",
      "  Данные: {'PassengerId': 791, 'Survived': 0, 'Pclass': 3, 'Name': 'Keane, Mr. Andrew \"Andy\"', 'Sex': 'male', 'Age': nan, 'SibSp': 0, 'Parch': 0, 'Ticket': '12460', 'Fare': 7.75, 'Cabin': nan, 'Embarked': 'Q'}\n",
      "\n",
      "Пассажир 792: 30.0%\n",
      "  Данные: {'PassengerId': 792, 'Survived': 0, 'Pclass': 2, 'Name': 'Gaskell, Mr. Alfred', 'Sex': 'male', 'Age': 16.0, 'SibSp': 0, 'Parch': 0, 'Ticket': '239865', 'Fare': 26.0, 'Cabin': nan, 'Embarked': 'S'}\n",
      "\n",
      "Пассажир 793: 43.0%\n",
      "  Данные: {'PassengerId': 793, 'Survived': 0, 'Pclass': 3, 'Name': 'Sage, Miss. Stella Anna', 'Sex': 'female', 'Age': nan, 'SibSp': 8, 'Parch': 2, 'Ticket': 'CA. 2343', 'Fare': 69.55, 'Cabin': nan, 'Embarked': 'S'}\n",
      "\n",
      "Пассажир 794: 56.00000000000001%\n",
      "  Данные: {'PassengerId': 794, 'Survived': 0, 'Pclass': 1, 'Name': 'Hoyt, Mr. William Fisher', 'Sex': 'male', 'Age': nan, 'SibSp': 0, 'Parch': 0, 'Ticket': 'PC 17600', 'Fare': 30.6958, 'Cabin': nan, 'Embarked': 'C'}\n",
      "\n",
      "Пассажир 795: 27.0%\n",
      "  Данные: {'PassengerId': 795, 'Survived': 0, 'Pclass': 3, 'Name': 'Dantcheff, Mr. Ristiu', 'Sex': 'male', 'Age': 25.0, 'SibSp': 0, 'Parch': 0, 'Ticket': '349203', 'Fare': 7.8958, 'Cabin': nan, 'Embarked': 'S'}\n",
      "\n",
      "Пассажир 796: 30.0%\n",
      "  Данные: {'PassengerId': 796, 'Survived': 0, 'Pclass': 2, 'Name': 'Otter, Mr. Richard', 'Sex': 'male', 'Age': 39.0, 'SibSp': 0, 'Parch': 0, 'Ticket': '28213', 'Fare': 13.0, 'Cabin': nan, 'Embarked': 'S'}\n",
      "\n",
      "Пассажир 797: 43.0%\n",
      "  Данные: {'PassengerId': 797, 'Survived': 1, 'Pclass': 1, 'Name': 'Leader, Dr. Alice (Farnham)', 'Sex': 'female', 'Age': 49.0, 'SibSp': 0, 'Parch': 0, 'Ticket': '17465', 'Fare': 25.9292, 'Cabin': 'D17', 'Embarked': 'S'}\n",
      "\n",
      "Пассажир 798: 36.0%\n",
      "  Данные: {'PassengerId': 798, 'Survived': 1, 'Pclass': 3, 'Name': 'Osman, Mrs. Mara', 'Sex': 'female', 'Age': 31.0, 'SibSp': 0, 'Parch': 0, 'Ticket': '349244', 'Fare': 8.6833, 'Cabin': nan, 'Embarked': 'S'}\n",
      "\n",
      "Пассажир 799: 43.0%\n",
      "  Данные: {'PassengerId': 799, 'Survived': 0, 'Pclass': 3, 'Name': 'Ibrahim Shawah, Mr. Yousseff', 'Sex': 'male', 'Age': 30.0, 'SibSp': 0, 'Parch': 0, 'Ticket': '2685', 'Fare': 7.2292, 'Cabin': nan, 'Embarked': 'C'}\n",
      "\n",
      "Пассажир 800: 36.0%\n",
      "  Данные: {'PassengerId': 800, 'Survived': 0, 'Pclass': 3, 'Name': 'Van Impe, Mrs. Jean Baptiste (Rosalie Paula Govaert)', 'Sex': 'female', 'Age': 30.0, 'SibSp': 1, 'Parch': 1, 'Ticket': '345773', 'Fare': 24.15, 'Cabin': nan, 'Embarked': 'S'}\n",
      "\n",
      "Пассажир 801: 30.0%\n",
      "  Данные: {'PassengerId': 801, 'Survived': 0, 'Pclass': 2, 'Name': 'Ponesell, Mr. Martin', 'Sex': 'male', 'Age': 34.0, 'SibSp': 0, 'Parch': 0, 'Ticket': '250647', 'Fare': 13.0, 'Cabin': nan, 'Embarked': 'S'}\n",
      "\n",
      "Пассажир 802: 40.0%\n",
      "  Данные: {'PassengerId': 802, 'Survived': 1, 'Pclass': 2, 'Name': 'Collyer, Mrs. Harvey (Charlotte Annie Tate)', 'Sex': 'female', 'Age': 31.0, 'SibSp': 1, 'Parch': 1, 'Ticket': 'C.A. 31921', 'Fare': 26.25, 'Cabin': nan, 'Embarked': 'S'}\n",
      "\n",
      "Пассажир 803: 48.0%\n",
      "  Данные: {'PassengerId': 803, 'Survived': 1, 'Pclass': 1, 'Name': 'Carter, Master. William Thornton II', 'Sex': 'male', 'Age': 11.0, 'SibSp': 1, 'Parch': 2, 'Ticket': '113760', 'Fare': 120.0, 'Cabin': 'B96 B98', 'Embarked': 'S'}\n",
      "\n",
      "Пассажир 804: 56.00000000000001%\n",
      "  Данные: {'PassengerId': 804, 'Survived': 1, 'Pclass': 3, 'Name': 'Thomas, Master. Assad Alexander', 'Sex': 'male', 'Age': 0.42, 'SibSp': 0, 'Parch': 1, 'Ticket': '2625', 'Fare': 8.5167, 'Cabin': nan, 'Embarked': 'C'}\n",
      "\n",
      "Пассажир 805: 27.0%\n",
      "  Данные: {'PassengerId': 805, 'Survived': 1, 'Pclass': 3, 'Name': 'Hedman, Mr. Oskar Arvid', 'Sex': 'male', 'Age': 27.0, 'SibSp': 0, 'Parch': 0, 'Ticket': '347089', 'Fare': 6.975, 'Cabin': nan, 'Embarked': 'S'}\n",
      "\n",
      "Пассажир 806: 27.0%\n",
      "  Данные: {'PassengerId': 806, 'Survived': 0, 'Pclass': 3, 'Name': 'Johansson, Mr. Karl Johan', 'Sex': 'male', 'Age': 31.0, 'SibSp': 0, 'Parch': 0, 'Ticket': '347063', 'Fare': 7.775, 'Cabin': nan, 'Embarked': 'S'}\n",
      "\n",
      "Пассажир 807: 34.0%\n",
      "  Данные: {'PassengerId': 807, 'Survived': 0, 'Pclass': 1, 'Name': 'Andrews, Mr. Thomas Jr', 'Sex': 'male', 'Age': 39.0, 'SibSp': 0, 'Parch': 0, 'Ticket': '112050', 'Fare': 0.0, 'Cabin': 'A36', 'Embarked': 'S'}\n",
      "\n",
      "Пассажир 808: 36.0%\n",
      "  Данные: {'PassengerId': 808, 'Survived': 0, 'Pclass': 3, 'Name': 'Pettersson, Miss. Ellen Natalia', 'Sex': 'female', 'Age': 18.0, 'SibSp': 0, 'Parch': 0, 'Ticket': '347087', 'Fare': 7.775, 'Cabin': nan, 'Embarked': 'S'}\n",
      "\n",
      "Пассажир 809: 30.0%\n",
      "  Данные: {'PassengerId': 809, 'Survived': 0, 'Pclass': 2, 'Name': 'Meyer, Mr. August', 'Sex': 'male', 'Age': 39.0, 'SibSp': 0, 'Parch': 0, 'Ticket': '248723', 'Fare': 13.0, 'Cabin': nan, 'Embarked': 'S'}\n",
      "\n",
      "Пассажир 810: 43.0%\n",
      "  Данные: {'PassengerId': 810, 'Survived': 1, 'Pclass': 1, 'Name': 'Chambers, Mrs. Norman Campbell (Bertha Griggs)', 'Sex': 'female', 'Age': 33.0, 'SibSp': 1, 'Parch': 0, 'Ticket': '113806', 'Fare': 53.1, 'Cabin': 'E8', 'Embarked': 'S'}\n",
      "\n",
      "Пассажир 811: 27.0%\n",
      "  Данные: {'PassengerId': 811, 'Survived': 0, 'Pclass': 3, 'Name': 'Alexander, Mr. William', 'Sex': 'male', 'Age': 26.0, 'SibSp': 0, 'Parch': 0, 'Ticket': '3474', 'Fare': 7.8875, 'Cabin': nan, 'Embarked': 'S'}\n",
      "\n",
      "Пассажир 812: 27.0%\n",
      "  Данные: {'PassengerId': 812, 'Survived': 0, 'Pclass': 3, 'Name': 'Lester, Mr. James', 'Sex': 'male', 'Age': 39.0, 'SibSp': 0, 'Parch': 0, 'Ticket': 'A/4 48871', 'Fare': 24.15, 'Cabin': nan, 'Embarked': 'S'}\n",
      "\n",
      "Пассажир 813: 30.0%\n",
      "  Данные: {'PassengerId': 813, 'Survived': 0, 'Pclass': 2, 'Name': 'Slemen, Mr. Richard James', 'Sex': 'male', 'Age': 35.0, 'SibSp': 0, 'Parch': 0, 'Ticket': '28206', 'Fare': 10.5, 'Cabin': nan, 'Embarked': 'S'}\n",
      "\n",
      "Пассажир 814: 49.0%\n",
      "  Данные: {'PassengerId': 814, 'Survived': 0, 'Pclass': 3, 'Name': 'Andersson, Miss. Ebba Iris Alfrida', 'Sex': 'female', 'Age': 6.0, 'SibSp': 4, 'Parch': 2, 'Ticket': '347082', 'Fare': 31.275, 'Cabin': nan, 'Embarked': 'S'}\n",
      "\n",
      "Пассажир 815: 27.0%\n",
      "  Данные: {'PassengerId': 815, 'Survived': 0, 'Pclass': 3, 'Name': 'Tomlin, Mr. Ernest Portage', 'Sex': 'male', 'Age': 30.5, 'SibSp': 0, 'Parch': 0, 'Ticket': '364499', 'Fare': 8.05, 'Cabin': nan, 'Embarked': 'S'}\n",
      "\n",
      "Пассажир 816: 40.0%\n",
      "  Данные: {'PassengerId': 816, 'Survived': 0, 'Pclass': 1, 'Name': 'Fry, Mr. Richard', 'Sex': 'male', 'Age': nan, 'SibSp': 0, 'Parch': 0, 'Ticket': '112058', 'Fare': 0.0, 'Cabin': 'B102', 'Embarked': 'S'}\n",
      "\n",
      "Пассажир 817: 36.0%\n",
      "  Данные: {'PassengerId': 817, 'Survived': 0, 'Pclass': 3, 'Name': 'Heininen, Miss. Wendla Maria', 'Sex': 'female', 'Age': 23.0, 'SibSp': 0, 'Parch': 0, 'Ticket': 'STON/O2. 3101290', 'Fare': 7.925, 'Cabin': nan, 'Embarked': 'S'}\n",
      "\n",
      "Пассажир 818: 47.0%\n",
      "  Данные: {'PassengerId': 818, 'Survived': 0, 'Pclass': 2, 'Name': 'Mallet, Mr. Albert', 'Sex': 'male', 'Age': 31.0, 'SibSp': 1, 'Parch': 1, 'Ticket': 'S.C./PARIS 2079', 'Fare': 37.0042, 'Cabin': nan, 'Embarked': 'C'}\n",
      "\n",
      "Пассажир 819: 27.0%\n",
      "  Данные: {'PassengerId': 819, 'Survived': 0, 'Pclass': 3, 'Name': 'Holm, Mr. John Fredrik Alexander', 'Sex': 'male', 'Age': 43.0, 'SibSp': 0, 'Parch': 0, 'Ticket': 'C 7075', 'Fare': 6.45, 'Cabin': nan, 'Embarked': 'S'}\n",
      "\n",
      "Пассажир 820: 40.0%\n",
      "  Данные: {'PassengerId': 820, 'Survived': 0, 'Pclass': 3, 'Name': 'Skoog, Master. Karl Thorsten', 'Sex': 'male', 'Age': 10.0, 'SibSp': 3, 'Parch': 2, 'Ticket': '347088', 'Fare': 27.9, 'Cabin': nan, 'Embarked': 'S'}\n",
      "\n",
      "Пассажир 821: 43.0%\n",
      "  Данные: {'PassengerId': 821, 'Survived': 1, 'Pclass': 1, 'Name': 'Hays, Mrs. Charles Melville (Clara Jennings Gregg)', 'Sex': 'female', 'Age': 52.0, 'SibSp': 1, 'Parch': 1, 'Ticket': '12749', 'Fare': 93.5, 'Cabin': 'B69', 'Embarked': 'S'}\n",
      "\n",
      "Пассажир 822: 27.0%\n",
      "  Данные: {'PassengerId': 822, 'Survived': 1, 'Pclass': 3, 'Name': 'Lulic, Mr. Nikola', 'Sex': 'male', 'Age': 27.0, 'SibSp': 0, 'Parch': 0, 'Ticket': '315098', 'Fare': 8.6625, 'Cabin': nan, 'Embarked': 'S'}\n",
      "\n",
      "Пассажир 823: 34.0%\n",
      "  Данные: {'PassengerId': 823, 'Survived': 0, 'Pclass': 1, 'Name': 'Reuchlin, Jonkheer. John George', 'Sex': 'male', 'Age': 38.0, 'SibSp': 0, 'Parch': 0, 'Ticket': '19972', 'Fare': 0.0, 'Cabin': nan, 'Embarked': 'S'}\n",
      "\n",
      "Пассажир 824: 36.0%\n",
      "  Данные: {'PassengerId': 824, 'Survived': 1, 'Pclass': 3, 'Name': 'Moor, Mrs. (Beila)', 'Sex': 'female', 'Age': 27.0, 'SibSp': 0, 'Parch': 1, 'Ticket': '392096', 'Fare': 12.475, 'Cabin': 'E121', 'Embarked': 'S'}\n",
      "\n",
      "Пассажир 825: 40.0%\n",
      "  Данные: {'PassengerId': 825, 'Survived': 0, 'Pclass': 3, 'Name': 'Panula, Master. Urho Abraham', 'Sex': 'male', 'Age': 2.0, 'SibSp': 4, 'Parch': 1, 'Ticket': '3101295', 'Fare': 39.6875, 'Cabin': nan, 'Embarked': 'S'}\n",
      "\n",
      "Пассажир 826: 30.0%\n",
      "  Данные: {'PassengerId': 826, 'Survived': 0, 'Pclass': 3, 'Name': 'Flynn, Mr. John', 'Sex': 'male', 'Age': nan, 'SibSp': 0, 'Parch': 0, 'Ticket': '368323', 'Fare': 6.95, 'Cabin': nan, 'Embarked': 'Q'}\n",
      "\n",
      "Пассажир 827: 30.0%\n",
      "  Данные: {'PassengerId': 827, 'Survived': 0, 'Pclass': 3, 'Name': 'Lam, Mr. Len', 'Sex': 'male', 'Age': nan, 'SibSp': 0, 'Parch': 0, 'Ticket': '1601', 'Fare': 56.4958, 'Cabin': nan, 'Embarked': 'S'}\n",
      "\n",
      "Пассажир 828: 60.0%\n",
      "  Данные: {'PassengerId': 828, 'Survived': 1, 'Pclass': 2, 'Name': 'Mallet, Master. Andre', 'Sex': 'male', 'Age': 1.0, 'SibSp': 0, 'Parch': 2, 'Ticket': 'S.C./PARIS 2079', 'Fare': 37.0042, 'Cabin': nan, 'Embarked': 'C'}\n",
      "\n",
      "Пассажир 829: 30.0%\n",
      "  Данные: {'PassengerId': 829, 'Survived': 1, 'Pclass': 3, 'Name': 'McCormack, Mr. Thomas Joseph', 'Sex': 'male', 'Age': nan, 'SibSp': 0, 'Parch': 0, 'Ticket': '367228', 'Fare': 7.75, 'Cabin': nan, 'Embarked': 'Q'}\n",
      "\n",
      "Пассажир 830: 51.0%\n",
      "  Данные: {'PassengerId': 830, 'Survived': 1, 'Pclass': 1, 'Name': 'Stone, Mrs. George Nelson (Martha Evelyn)', 'Sex': 'female', 'Age': 62.0, 'SibSp': 0, 'Parch': 0, 'Ticket': '113572', 'Fare': 80.0, 'Cabin': 'B28', 'Embarked': nan}\n",
      "\n",
      "Пассажир 831: 52.0%\n",
      "  Данные: {'PassengerId': 831, 'Survived': 1, 'Pclass': 3, 'Name': 'Yasbeck, Mrs. Antoni (Selini Alexander)', 'Sex': 'female', 'Age': 15.0, 'SibSp': 1, 'Parch': 0, 'Ticket': '2659', 'Fare': 14.4542, 'Cabin': nan, 'Embarked': 'C'}\n",
      "\n",
      "Пассажир 832: 44.0%\n",
      "  Данные: {'PassengerId': 832, 'Survived': 1, 'Pclass': 2, 'Name': 'Richards, Master. George Sibley', 'Sex': 'male', 'Age': 0.83, 'SibSp': 1, 'Parch': 1, 'Ticket': '29106', 'Fare': 18.75, 'Cabin': nan, 'Embarked': 'S'}\n",
      "\n",
      "Пассажир 833: 46.0%\n",
      "  Данные: {'PassengerId': 833, 'Survived': 0, 'Pclass': 3, 'Name': 'Saad, Mr. Amin', 'Sex': 'male', 'Age': nan, 'SibSp': 0, 'Parch': 0, 'Ticket': '2671', 'Fare': 7.2292, 'Cabin': nan, 'Embarked': 'C'}\n",
      "\n",
      "Пассажир 834: 27.0%\n",
      "  Данные: {'PassengerId': 834, 'Survived': 0, 'Pclass': 3, 'Name': 'Augustsson, Mr. Albert', 'Sex': 'male', 'Age': 23.0, 'SibSp': 0, 'Parch': 0, 'Ticket': '347468', 'Fare': 7.8542, 'Cabin': nan, 'Embarked': 'S'}\n",
      "\n",
      "Пассажир 835: 27.0%\n",
      "  Данные: {'PassengerId': 835, 'Survived': 0, 'Pclass': 3, 'Name': 'Allum, Mr. Owen George', 'Sex': 'male', 'Age': 18.0, 'SibSp': 0, 'Parch': 0, 'Ticket': '2223', 'Fare': 8.3, 'Cabin': nan, 'Embarked': 'S'}\n",
      "\n",
      "Пассажир 836: 59.0%\n",
      "  Данные: {'PassengerId': 836, 'Survived': 1, 'Pclass': 1, 'Name': 'Compton, Miss. Sara Rebecca', 'Sex': 'female', 'Age': 39.0, 'SibSp': 1, 'Parch': 1, 'Ticket': 'PC 17756', 'Fare': 83.1583, 'Cabin': 'E49', 'Embarked': 'C'}\n",
      "\n",
      "Пассажир 837: 27.0%\n",
      "  Данные: {'PassengerId': 837, 'Survived': 0, 'Pclass': 3, 'Name': 'Pasic, Mr. Jakob', 'Sex': 'male', 'Age': 21.0, 'SibSp': 0, 'Parch': 0, 'Ticket': '315097', 'Fare': 8.6625, 'Cabin': nan, 'Embarked': 'S'}\n",
      "\n",
      "Пассажир 838: 30.0%\n",
      "  Данные: {'PassengerId': 838, 'Survived': 0, 'Pclass': 3, 'Name': 'Sirota, Mr. Maurice', 'Sex': 'male', 'Age': nan, 'SibSp': 0, 'Parch': 0, 'Ticket': '392092', 'Fare': 8.05, 'Cabin': nan, 'Embarked': 'S'}\n",
      "\n",
      "Пассажир 839: 27.0%\n",
      "  Данные: {'PassengerId': 839, 'Survived': 1, 'Pclass': 3, 'Name': 'Chip, Mr. Chang', 'Sex': 'male', 'Age': 32.0, 'SibSp': 0, 'Parch': 0, 'Ticket': '1601', 'Fare': 56.4958, 'Cabin': nan, 'Embarked': 'S'}\n",
      "\n",
      "Пассажир 840: 56.00000000000001%\n",
      "  Данные: {'PassengerId': 840, 'Survived': 1, 'Pclass': 1, 'Name': 'Marechal, Mr. Pierre', 'Sex': 'male', 'Age': nan, 'SibSp': 0, 'Parch': 0, 'Ticket': '11774', 'Fare': 29.7, 'Cabin': 'C47', 'Embarked': 'C'}\n",
      "\n",
      "Пассажир 841: 27.0%\n",
      "  Данные: {'PassengerId': 841, 'Survived': 0, 'Pclass': 3, 'Name': 'Alhomaki, Mr. Ilmari Rudolf', 'Sex': 'male', 'Age': 20.0, 'SibSp': 0, 'Parch': 0, 'Ticket': 'SOTON/O2 3101287', 'Fare': 7.925, 'Cabin': nan, 'Embarked': 'S'}\n",
      "\n",
      "Пассажир 842: 30.0%\n",
      "  Данные: {'PassengerId': 842, 'Survived': 0, 'Pclass': 2, 'Name': 'Mudd, Mr. Thomas Charles', 'Sex': 'male', 'Age': 16.0, 'SibSp': 0, 'Parch': 0, 'Ticket': 'S.O./P.P. 3', 'Fare': 10.5, 'Cabin': nan, 'Embarked': 'S'}\n",
      "\n",
      "Пассажир 843: 59.0%\n",
      "  Данные: {'PassengerId': 843, 'Survived': 1, 'Pclass': 1, 'Name': 'Serepeca, Miss. Augusta', 'Sex': 'female', 'Age': 30.0, 'SibSp': 0, 'Parch': 0, 'Ticket': '113798', 'Fare': 31.0, 'Cabin': nan, 'Embarked': 'C'}\n",
      "\n",
      "Пассажир 844: 43.0%\n",
      "  Данные: {'PassengerId': 844, 'Survived': 0, 'Pclass': 3, 'Name': 'Lemberopolous, Mr. Peter L', 'Sex': 'male', 'Age': 34.5, 'SibSp': 0, 'Parch': 0, 'Ticket': '2683', 'Fare': 6.4375, 'Cabin': nan, 'Embarked': 'C'}\n",
      "\n",
      "Пассажир 845: 27.0%\n",
      "  Данные: {'PassengerId': 845, 'Survived': 0, 'Pclass': 3, 'Name': 'Culumovic, Mr. Jeso', 'Sex': 'male', 'Age': 17.0, 'SibSp': 0, 'Parch': 0, 'Ticket': '315090', 'Fare': 8.6625, 'Cabin': nan, 'Embarked': 'S'}\n",
      "\n",
      "Пассажир 846: 27.0%\n",
      "  Данные: {'PassengerId': 846, 'Survived': 0, 'Pclass': 3, 'Name': 'Abbing, Mr. Anthony', 'Sex': 'male', 'Age': 42.0, 'SibSp': 0, 'Parch': 0, 'Ticket': 'C.A. 5547', 'Fare': 7.55, 'Cabin': nan, 'Embarked': 'S'}\n",
      "\n",
      "Пассажир 847: 30.0%\n",
      "  Данные: {'PassengerId': 847, 'Survived': 0, 'Pclass': 3, 'Name': 'Sage, Mr. Douglas Bullen', 'Sex': 'male', 'Age': nan, 'SibSp': 8, 'Parch': 2, 'Ticket': 'CA. 2343', 'Fare': 69.55, 'Cabin': nan, 'Embarked': 'S'}\n",
      "\n",
      "Пассажир 848: 43.0%\n",
      "  Данные: {'PassengerId': 848, 'Survived': 0, 'Pclass': 3, 'Name': 'Markoff, Mr. Marin', 'Sex': 'male', 'Age': 35.0, 'SibSp': 0, 'Parch': 0, 'Ticket': '349213', 'Fare': 7.8958, 'Cabin': nan, 'Embarked': 'C'}\n",
      "\n",
      "Пассажир 849: 30.0%\n",
      "  Данные: {'PassengerId': 849, 'Survived': 0, 'Pclass': 2, 'Name': 'Harper, Rev. John', 'Sex': 'male', 'Age': 28.0, 'SibSp': 0, 'Parch': 1, 'Ticket': '248727', 'Fare': 33.0, 'Cabin': nan, 'Embarked': 'S'}\n",
      "\n",
      "Пассажир 850: 69.0%\n",
      "  Данные: {'PassengerId': 850, 'Survived': 1, 'Pclass': 1, 'Name': 'Goldenberg, Mrs. Samuel L (Edwiga Grabowska)', 'Sex': 'female', 'Age': nan, 'SibSp': 1, 'Parch': 0, 'Ticket': '17453', 'Fare': 89.1042, 'Cabin': 'C92', 'Embarked': 'C'}\n",
      "\n",
      "Пассажир 851: 40.0%\n",
      "  Данные: {'PassengerId': 851, 'Survived': 0, 'Pclass': 3, 'Name': 'Andersson, Master. Sigvard Harald Elias', 'Sex': 'male', 'Age': 4.0, 'SibSp': 4, 'Parch': 2, 'Ticket': '347082', 'Fare': 31.275, 'Cabin': nan, 'Embarked': 'S'}\n",
      "\n",
      "Пассажир 852: 22.0%\n",
      "  Данные: {'PassengerId': 852, 'Survived': 0, 'Pclass': 3, 'Name': 'Svensson, Mr. Johan', 'Sex': 'male', 'Age': 74.0, 'SibSp': 0, 'Parch': 0, 'Ticket': '347060', 'Fare': 7.775, 'Cabin': nan, 'Embarked': 'S'}\n",
      "\n",
      "Пассажир 853: 66.0%\n",
      "  Данные: {'PassengerId': 853, 'Survived': 0, 'Pclass': 3, 'Name': 'Boulos, Miss. Nourelain', 'Sex': 'female', 'Age': 9.0, 'SibSp': 1, 'Parch': 1, 'Ticket': '2678', 'Fare': 15.2458, 'Cabin': nan, 'Embarked': 'C'}\n",
      "\n",
      "Пассажир 854: 43.0%\n",
      "  Данные: {'PassengerId': 854, 'Survived': 1, 'Pclass': 1, 'Name': 'Lines, Miss. Mary Conover', 'Sex': 'female', 'Age': 16.0, 'SibSp': 0, 'Parch': 1, 'Ticket': 'PC 17592', 'Fare': 39.4, 'Cabin': 'D28', 'Embarked': 'S'}\n",
      "\n",
      "Пассажир 855: 40.0%\n",
      "  Данные: {'PassengerId': 855, 'Survived': 0, 'Pclass': 2, 'Name': 'Carter, Mrs. Ernest Courtenay (Lilian Hughes)', 'Sex': 'female', 'Age': 44.0, 'SibSp': 1, 'Parch': 0, 'Ticket': '244252', 'Fare': 26.0, 'Cabin': nan, 'Embarked': 'S'}\n",
      "\n",
      "Пассажир 856: 36.0%\n",
      "  Данные: {'PassengerId': 856, 'Survived': 1, 'Pclass': 3, 'Name': 'Aks, Mrs. Sam (Leah Rosen)', 'Sex': 'female', 'Age': 18.0, 'SibSp': 0, 'Parch': 1, 'Ticket': '392091', 'Fare': 9.35, 'Cabin': nan, 'Embarked': 'S'}\n",
      "\n",
      "Пассажир 857: 43.0%\n",
      "  Данные: {'PassengerId': 857, 'Survived': 1, 'Pclass': 1, 'Name': 'Wick, Mrs. George Dennick (Mary Hitchcock)', 'Sex': 'female', 'Age': 45.0, 'SibSp': 1, 'Parch': 1, 'Ticket': '36928', 'Fare': 164.8667, 'Cabin': nan, 'Embarked': 'S'}\n",
      "\n",
      "Пассажир 858: 34.0%\n",
      "  Данные: {'PassengerId': 858, 'Survived': 1, 'Pclass': 1, 'Name': 'Daly, Mr. Peter Denis ', 'Sex': 'male', 'Age': 51.0, 'SibSp': 0, 'Parch': 0, 'Ticket': '113055', 'Fare': 26.55, 'Cabin': 'E17', 'Embarked': 'S'}\n",
      "\n",
      "Пассажир 859: 52.0%\n",
      "  Данные: {'PassengerId': 859, 'Survived': 1, 'Pclass': 3, 'Name': 'Baclini, Mrs. Solomon (Latifa Qurban)', 'Sex': 'female', 'Age': 24.0, 'SibSp': 0, 'Parch': 3, 'Ticket': '2666', 'Fare': 19.2583, 'Cabin': nan, 'Embarked': 'C'}\n",
      "\n",
      "Пассажир 860: 46.0%\n",
      "  Данные: {'PassengerId': 860, 'Survived': 0, 'Pclass': 3, 'Name': 'Razi, Mr. Raihed', 'Sex': 'male', 'Age': nan, 'SibSp': 0, 'Parch': 0, 'Ticket': '2629', 'Fare': 7.2292, 'Cabin': nan, 'Embarked': 'C'}\n",
      "\n",
      "Пассажир 861: 27.0%\n",
      "  Данные: {'PassengerId': 861, 'Survived': 0, 'Pclass': 3, 'Name': 'Hansen, Mr. Claus Peter', 'Sex': 'male', 'Age': 41.0, 'SibSp': 2, 'Parch': 0, 'Ticket': '350026', 'Fare': 14.1083, 'Cabin': nan, 'Embarked': 'S'}\n",
      "\n",
      "Пассажир 862: 30.0%\n",
      "  Данные: {'PassengerId': 862, 'Survived': 0, 'Pclass': 2, 'Name': 'Giles, Mr. Frederick Edward', 'Sex': 'male', 'Age': 21.0, 'SibSp': 1, 'Parch': 0, 'Ticket': '28134', 'Fare': 11.5, 'Cabin': nan, 'Embarked': 'S'}\n",
      "\n",
      "Пассажир 863: 43.0%\n",
      "  Данные: {'PassengerId': 863, 'Survived': 1, 'Pclass': 1, 'Name': 'Swift, Mrs. Frederick Joel (Margaret Welles Barron)', 'Sex': 'female', 'Age': 48.0, 'SibSp': 0, 'Parch': 0, 'Ticket': '17466', 'Fare': 25.9292, 'Cabin': 'D17', 'Embarked': 'S'}\n",
      "\n",
      "Пассажир 864: 43.0%\n",
      "  Данные: {'PassengerId': 864, 'Survived': 0, 'Pclass': 3, 'Name': 'Sage, Miss. Dorothy Edith \"Dolly\"', 'Sex': 'female', 'Age': nan, 'SibSp': 8, 'Parch': 2, 'Ticket': 'CA. 2343', 'Fare': 69.55, 'Cabin': nan, 'Embarked': 'S'}\n",
      "\n",
      "Пассажир 865: 30.0%\n",
      "  Данные: {'PassengerId': 865, 'Survived': 0, 'Pclass': 2, 'Name': 'Gill, Mr. John William', 'Sex': 'male', 'Age': 24.0, 'SibSp': 0, 'Parch': 0, 'Ticket': '233866', 'Fare': 13.0, 'Cabin': nan, 'Embarked': 'S'}\n",
      "\n",
      "Пассажир 866: 40.0%\n",
      "  Данные: {'PassengerId': 866, 'Survived': 1, 'Pclass': 2, 'Name': 'Bystrom, Mrs. (Karolina)', 'Sex': 'female', 'Age': 42.0, 'SibSp': 0, 'Parch': 0, 'Ticket': '236852', 'Fare': 13.0, 'Cabin': nan, 'Embarked': 'S'}\n",
      "\n",
      "Пассажир 867: 56.00000000000001%\n",
      "  Данные: {'PassengerId': 867, 'Survived': 1, 'Pclass': 2, 'Name': 'Duran y More, Miss. Asuncion', 'Sex': 'female', 'Age': 27.0, 'SibSp': 1, 'Parch': 0, 'Ticket': 'SC/PARIS 2149', 'Fare': 13.8583, 'Cabin': nan, 'Embarked': 'C'}\n",
      "\n",
      "Пассажир 868: 34.0%\n",
      "  Данные: {'PassengerId': 868, 'Survived': 0, 'Pclass': 1, 'Name': 'Roebling, Mr. Washington Augustus II', 'Sex': 'male', 'Age': 31.0, 'SibSp': 0, 'Parch': 0, 'Ticket': 'PC 17590', 'Fare': 50.4958, 'Cabin': 'A24', 'Embarked': 'S'}\n",
      "\n",
      "Пассажир 869: 30.0%\n",
      "  Данные: {'PassengerId': 869, 'Survived': 0, 'Pclass': 3, 'Name': 'van Melkebeke, Mr. Philemon', 'Sex': 'male', 'Age': nan, 'SibSp': 0, 'Parch': 0, 'Ticket': '345777', 'Fare': 9.5, 'Cabin': nan, 'Embarked': 'S'}\n",
      "\n",
      "Пассажир 870: 40.0%\n",
      "  Данные: {'PassengerId': 870, 'Survived': 1, 'Pclass': 3, 'Name': 'Johnson, Master. Harold Theodor', 'Sex': 'male', 'Age': 4.0, 'SibSp': 1, 'Parch': 1, 'Ticket': '347742', 'Fare': 11.1333, 'Cabin': nan, 'Embarked': 'S'}\n",
      "\n",
      "Пассажир 871: 27.0%\n",
      "  Данные: {'PassengerId': 871, 'Survived': 0, 'Pclass': 3, 'Name': 'Balkic, Mr. Cerin', 'Sex': 'male', 'Age': 26.0, 'SibSp': 0, 'Parch': 0, 'Ticket': '349248', 'Fare': 7.8958, 'Cabin': nan, 'Embarked': 'S'}\n",
      "\n",
      "Пассажир 872: 43.0%\n",
      "  Данные: {'PassengerId': 872, 'Survived': 1, 'Pclass': 1, 'Name': 'Beckwith, Mrs. Richard Leonard (Sallie Monypeny)', 'Sex': 'female', 'Age': 47.0, 'SibSp': 1, 'Parch': 1, 'Ticket': '11751', 'Fare': 52.5542, 'Cabin': 'D35', 'Embarked': 'S'}\n",
      "\n",
      "Пассажир 873: 34.0%\n",
      "  Данные: {'PassengerId': 873, 'Survived': 0, 'Pclass': 1, 'Name': 'Carlsson, Mr. Frans Olof', 'Sex': 'male', 'Age': 33.0, 'SibSp': 0, 'Parch': 0, 'Ticket': '695', 'Fare': 5.0, 'Cabin': 'B51 B53 B55', 'Embarked': 'S'}\n",
      "\n",
      "Пассажир 874: 27.0%\n",
      "  Данные: {'PassengerId': 874, 'Survived': 0, 'Pclass': 3, 'Name': 'Vander Cruyssen, Mr. Victor', 'Sex': 'male', 'Age': 47.0, 'SibSp': 0, 'Parch': 0, 'Ticket': '345765', 'Fare': 9.0, 'Cabin': nan, 'Embarked': 'S'}\n",
      "\n",
      "Пассажир 875: 56.00000000000001%\n",
      "  Данные: {'PassengerId': 875, 'Survived': 1, 'Pclass': 2, 'Name': 'Abelson, Mrs. Samuel (Hannah Wizosky)', 'Sex': 'female', 'Age': 28.0, 'SibSp': 1, 'Parch': 0, 'Ticket': 'P/PP 3381', 'Fare': 24.0, 'Cabin': nan, 'Embarked': 'C'}\n",
      "\n",
      "Пассажир 876: 52.0%\n",
      "  Данные: {'PassengerId': 876, 'Survived': 1, 'Pclass': 3, 'Name': 'Najib, Miss. Adele Kiamie \"Jane\"', 'Sex': 'female', 'Age': 15.0, 'SibSp': 0, 'Parch': 0, 'Ticket': '2667', 'Fare': 7.225, 'Cabin': nan, 'Embarked': 'C'}\n",
      "\n",
      "Пассажир 877: 27.0%\n",
      "  Данные: {'PassengerId': 877, 'Survived': 0, 'Pclass': 3, 'Name': 'Gustafsson, Mr. Alfred Ossian', 'Sex': 'male', 'Age': 20.0, 'SibSp': 0, 'Parch': 0, 'Ticket': '7534', 'Fare': 9.8458, 'Cabin': nan, 'Embarked': 'S'}\n",
      "\n",
      "Пассажир 878: 27.0%\n",
      "  Данные: {'PassengerId': 878, 'Survived': 0, 'Pclass': 3, 'Name': 'Petroff, Mr. Nedelio', 'Sex': 'male', 'Age': 19.0, 'SibSp': 0, 'Parch': 0, 'Ticket': '349212', 'Fare': 7.8958, 'Cabin': nan, 'Embarked': 'S'}\n",
      "\n",
      "Пассажир 879: 30.0%\n",
      "  Данные: {'PassengerId': 879, 'Survived': 0, 'Pclass': 3, 'Name': 'Laleff, Mr. Kristo', 'Sex': 'male', 'Age': nan, 'SibSp': 0, 'Parch': 0, 'Ticket': '349217', 'Fare': 7.8958, 'Cabin': nan, 'Embarked': 'S'}\n",
      "\n",
      "Пассажир 880: 59.0%\n",
      "  Данные: {'PassengerId': 880, 'Survived': 1, 'Pclass': 1, 'Name': 'Potter, Mrs. Thomas Jr (Lily Alexenia Wilson)', 'Sex': 'female', 'Age': 56.0, 'SibSp': 0, 'Parch': 1, 'Ticket': '11767', 'Fare': 83.1583, 'Cabin': 'C50', 'Embarked': 'C'}\n",
      "\n",
      "Пассажир 881: 40.0%\n",
      "  Данные: {'PassengerId': 881, 'Survived': 1, 'Pclass': 2, 'Name': 'Shelley, Mrs. William (Imanita Parrish Hall)', 'Sex': 'female', 'Age': 25.0, 'SibSp': 0, 'Parch': 1, 'Ticket': '230433', 'Fare': 26.0, 'Cabin': nan, 'Embarked': 'S'}\n",
      "\n",
      "Пассажир 882: 27.0%\n",
      "  Данные: {'PassengerId': 882, 'Survived': 0, 'Pclass': 3, 'Name': 'Markun, Mr. Johann', 'Sex': 'male', 'Age': 33.0, 'SibSp': 0, 'Parch': 0, 'Ticket': '349257', 'Fare': 7.8958, 'Cabin': nan, 'Embarked': 'S'}\n",
      "\n",
      "Пассажир 883: 36.0%\n",
      "  Данные: {'PassengerId': 883, 'Survived': 0, 'Pclass': 3, 'Name': 'Dahlberg, Miss. Gerda Ulrika', 'Sex': 'female', 'Age': 22.0, 'SibSp': 0, 'Parch': 0, 'Ticket': '7552', 'Fare': 10.5167, 'Cabin': nan, 'Embarked': 'S'}\n",
      "\n",
      "Пассажир 884: 30.0%\n",
      "  Данные: {'PassengerId': 884, 'Survived': 0, 'Pclass': 2, 'Name': 'Banfield, Mr. Frederick James', 'Sex': 'male', 'Age': 28.0, 'SibSp': 0, 'Parch': 0, 'Ticket': 'C.A./SOTON 34068', 'Fare': 10.5, 'Cabin': nan, 'Embarked': 'S'}\n",
      "\n",
      "Пассажир 885: 27.0%\n",
      "  Данные: {'PassengerId': 885, 'Survived': 0, 'Pclass': 3, 'Name': 'Sutehall, Mr. Henry Jr', 'Sex': 'male', 'Age': 25.0, 'SibSp': 0, 'Parch': 0, 'Ticket': 'SOTON/OQ 392076', 'Fare': 7.05, 'Cabin': nan, 'Embarked': 'S'}\n",
      "\n",
      "Пассажир 886: 36.0%\n",
      "  Данные: {'PassengerId': 886, 'Survived': 0, 'Pclass': 3, 'Name': 'Rice, Mrs. William (Margaret Norton)', 'Sex': 'female', 'Age': 39.0, 'SibSp': 0, 'Parch': 5, 'Ticket': '382652', 'Fare': 29.125, 'Cabin': nan, 'Embarked': 'Q'}\n",
      "\n",
      "Пассажир 887: 30.0%\n",
      "  Данные: {'PassengerId': 887, 'Survived': 0, 'Pclass': 2, 'Name': 'Montvila, Rev. Juozas', 'Sex': 'male', 'Age': 27.0, 'SibSp': 0, 'Parch': 0, 'Ticket': '211536', 'Fare': 13.0, 'Cabin': nan, 'Embarked': 'S'}\n",
      "\n",
      "Пассажир 888: 43.0%\n",
      "  Данные: {'PassengerId': 888, 'Survived': 1, 'Pclass': 1, 'Name': 'Graham, Miss. Margaret Edith', 'Sex': 'female', 'Age': 19.0, 'SibSp': 0, 'Parch': 0, 'Ticket': '112053', 'Fare': 30.0, 'Cabin': 'B42', 'Embarked': 'S'}\n",
      "\n",
      "Пассажир 889: 43.0%\n",
      "  Данные: {'PassengerId': 889, 'Survived': 0, 'Pclass': 3, 'Name': 'Johnston, Miss. Catherine Helen \"Carrie\"', 'Sex': 'female', 'Age': nan, 'SibSp': 1, 'Parch': 2, 'Ticket': 'W./C. 6607', 'Fare': 23.45, 'Cabin': nan, 'Embarked': 'S'}\n",
      "\n",
      "Пассажир 890: 50.0%\n",
      "  Данные: {'PassengerId': 890, 'Survived': 1, 'Pclass': 1, 'Name': 'Behr, Mr. Karl Howell', 'Sex': 'male', 'Age': 26.0, 'SibSp': 0, 'Parch': 0, 'Ticket': '111369', 'Fare': 30.0, 'Cabin': 'C148', 'Embarked': 'C'}\n",
      "\n",
      "Пассажир 891: 27.0%\n",
      "  Данные: {'PassengerId': 891, 'Survived': 0, 'Pclass': 3, 'Name': 'Dooley, Mr. Patrick', 'Sex': 'male', 'Age': 32.0, 'SibSp': 0, 'Parch': 0, 'Ticket': '370376', 'Fare': 7.75, 'Cabin': nan, 'Embarked': 'Q'}\n",
      "\n"
     ]
    }
   ],
   "source": [
    "      \n",
    "for i, (_, row) in enumerate(df_test.iterrows()):\n",
    "    prob = predict_survival_probability(row)\n",
    "    print(f\"Пассажир {i+1}: {prob * 100}%\")\n",
    "    print(f\"  Данные: {dict(row)}\")\n",
    "    print()"
   ]
  },
  {
   "cell_type": "code",
   "execution_count": 1843,
   "id": "668d3ef9",
   "metadata": {},
   "outputs": [
    {
     "name": "stdout",
     "output_type": "stream",
     "text": [
      "   Pclass  Embarked_num  Sex_numeric  Fare_log AgeGroup\n",
      "0       3             0            1  2.110213        2\n",
      "1       1             1            0  4.280593        3\n",
      "2       3             0            0  2.188856        2\n",
      "3       1             0            0  3.990834        2\n",
      "4       3             0            1  2.202765        2\n"
     ]
    }
   ],
   "source": [
    "df.drop(columns=['SibSp','Age','Parch','HasCabin','Title_num',], inplace=True) # Удаляем оригинальную колонку\n",
    "\n",
    "y = df['Survived'].to_numpy()\n",
    "df.drop(columns=['Survived'], inplace=True)\n",
    "X = df.to_numpy()\n",
    "print(df.head())\n",
    "\n",
    "\n",
    "test_size = 0.1\n",
    "\n",
    "row_count = X.shape[0] \n",
    "row_count_in_samples = int(row_count * test_size)\n",
    "\n",
    "indixes = np.random.permutation(row_count)\n",
    "\n",
    "test_indices = indixes[:row_count_in_samples]\n",
    "train_indices = indixes[row_count_in_samples:]\n",
    "\n",
    "\n",
    "X_train, X_test = X[train_indices], X[test_indices]\n",
    "y_train, y_test = y[train_indices], y[test_indices]\n"
   ]
  },
  {
   "cell_type": "code",
   "execution_count": null,
   "id": "554fd236",
   "metadata": {},
   "outputs": [],
   "source": [
    "def linear_regression(\n",
    "        X: np.ndarray,\n",
    "        y: np.ndarray,\n",
    "        learning_rate: float = 0.01,\n",
    "        iterations: int = 5000,\n",
    "        coef_umensheniya_learning_rate: float = 0.001,\n",
    "        epsilon: float = 1e-4\n",
    "    ) -> tuple[np.ndarray, np.ndarray, np.ndarray]:\n",
    "    \"\"\"\n",
    "    Линейная регрессия.\n",
    "\n",
    "    :param X: Исходная матрица.\n",
    "    :param y: Целевые значения.\n",
    "    :param learning_rate: Начальная скорость.\n",
    "    :param iterations: максимальное количество итераций.\n",
    "    :param coef_umensheniya_learning_rate: Коэффициент уменьшения скорости сходимости.\n",
    "    :param epsilon: показатель качества модели для досрочного выхода из обучения.\n",
    "    :return: Кортеж: \n",
    "        - weights: Веса.\n",
    "        - X_mean: Средние значения.\n",
    "        - X_std: Стандартные отклонения.\n",
    "    \"\"\"\n",
    "    # нормализация признаков\n",
    "    X_mean = np.mean(X, axis=0 )\n",
    "    X_std = np.std(X, axis=0)\n",
    "    # Избегаем деления на ноль\n",
    "    X_std[X_std == 0] = 1\n",
    "    X_normalized = (X - X_mean) / X_std\n",
    "    \n",
    "    # Добавление столбца единиц для свободного члена\n",
    "    row, col = X_normalized.shape\n",
    "    #X_b = np.column_stack([np.ones(row), X_normalized])\n",
    "    X_b = X_normalized\n",
    "\n",
    "    weights = np.random.randn(col + 1)\n",
    "\n",
    "    for i in range(iterations):\n",
    "        y_pred = X_b @ weights\n",
    "        error = y_pred - y\n",
    "\n",
    "        gradient = (2 / row) * X_b.T @ error\n",
    "        current_lr = learning_rate#learning_rate * (1 / (1 + coef_umensheniya_learning_rate * i))\n",
    "        old_weights = weights.copy()\n",
    "        weights = weights - current_lr * gradient\n",
    "\n",
    "        # Проверяем изменение весов\n",
    "        weight_change = np.linalg.norm(weights - old_weights)\n",
    "        \n",
    "        if weight_change < epsilon:\n",
    "            print(f\"Сходимость достигнута на итерации {i}, изменение весов: {weight_change:.2e}\")\n",
    "            break\n",
    "\n",
    "        if i == iterations - 1:\n",
    "            print(f\"Заданная точность НЕ достигнута за {iterations} шагов, последнее изменение весов: {weight_change:.2e}\")\n",
    "    \n",
    "    return weights, X_mean, X_std\n",
    "\n",
    "def predict(X, weights, X_mean, X_std):\n",
    "    \"\"\"\n",
    "    Предсказание.\n",
    "    \n",
    "    :param X: Исходная матрица.\n",
    "    :param weights: Веса.\n",
    "    :param X_mean:Средние значения.\n",
    "    :param X_std: Стандартные отклонения.\n",
    "    :return: Предсказание.\n",
    "    \"\"\"\n",
    "    X_normalized = (X - X_mean) / X_std\n",
    "    row = X_normalized.shape[0]\n",
    "    X_b = np.column_stack([np.ones(row), X_normalized])\n",
    "    return X_b @ weights\n",
    "\n",
    "def sigmoid(z):\n",
    "    # Ограничиваем z, чтобы избежать переполнения\n",
    "    z = np.clip(z, -500, 500)\n",
    "    return 1 / (1 + np.exp(-z))\n",
    "\n",
    "def predict_logistic(X, weights, X_mean, X_std, threshold=0.5):\n",
    "    \"\"\"\n",
    "    Предсказывает.\n",
    "\n",
    "    :param X: Исходная матрица.\n",
    "    :param weights: Веса.\n",
    "    :param X_mean: Средние значения.\n",
    "    :param X_std: Стандартные отклонения\n",
    "    :param threshold: Порог для бинарной классификации.\n",
    "    :return: Кортеж: \n",
    "        - probabilities: вероятности.\n",
    "        - predict_class: предсказание класса бинарной классификации.\n",
    "    \"\"\"\n",
    "    X_normalized = (X - X_mean) / X_std\n",
    "    row = X_normalized.shape[0]\n",
    "    X_b = np.column_stack([np.ones(row), X_normalized])\n",
    "    \n",
    "    z = X_b @ weights\n",
    "    probabilities = sigmoid(z)\n",
    "    predict_class = (probabilities >= threshold).astype(int)\n",
    "\n",
    "    return probabilities, predict_class"
   ]
  },
  {
   "cell_type": "code",
   "execution_count": 1845,
   "id": "0d11e353",
   "metadata": {},
   "outputs": [
    {
     "name": "stdout",
     "output_type": "stream",
     "text": [
      "Сходимость достигнута на итерации 378, изменение весов: 9.65e-11\n"
     ]
    }
   ],
   "source": [
    "weights, X_mean, X_std = linear_regression(X_train, y_train, learning_rate=0.1, iterations=250000, coef_umensheniya_learning_rate=0.001, epsilon=1e-10)\n",
    "\n",
    "\n",
    "probs, y_predict = predict_logistic(X_test, weights, X_mean, X_std, threshold=0.6)"
   ]
  },
  {
   "cell_type": "code",
   "execution_count": 1852,
   "id": "85245d03",
   "metadata": {},
   "outputs": [
    {
     "data": {
      "text/plain": [
       "0.797752808988764"
      ]
     },
     "execution_count": 1852,
     "metadata": {},
     "output_type": "execute_result"
    }
   ],
   "source": [
    "regression = LogisticRegression()\n",
    "\n",
    "regression.fit(X_train, y_train)\n",
    "\n",
    "y_predict_sk = regression.predict(X_test)\n",
    "\n",
    "regression.score(X_test, y_test)"
   ]
  },
  {
   "cell_type": "markdown",
   "id": "678a0fb7",
   "metadata": {},
   "source": [
    "Точность"
   ]
  },
  {
   "cell_type": "code",
   "execution_count": 1847,
   "id": "8105cf71",
   "metadata": {},
   "outputs": [
    {
     "data": {
      "text/plain": [
       "np.float64(0.7640449438202247)"
      ]
     },
     "execution_count": 1847,
     "metadata": {},
     "output_type": "execute_result"
    }
   ],
   "source": [
    "(y_test == y_predict).sum()/y_test.shape[0]"
   ]
  },
  {
   "cell_type": "code",
   "execution_count": 1850,
   "id": "ce6334c2",
   "metadata": {},
   "outputs": [
    {
     "name": "stdout",
     "output_type": "stream",
     "text": [
      "[[-1.23691515  0.27028463 -2.47745402 -0.04372187 -0.55101937]]\n",
      "[ 0.37905237 -0.16933315  0.02614986 -0.2327324  -0.01296661 -0.07455971]\n"
     ]
    }
   ],
   "source": [
    "df_result = pd.DataFrame(\n",
    "    X_test,\n",
    "    columns=df.columns\n",
    ")\n",
    "\n",
    "df_result['pred_Survived'] = y_predict\n",
    "df_result['pred_Survived_SK'] = y_predict_sk\n",
    "df_result['pred_Probs'] = probs\n",
    "#df_result['pred_Probs_SK'] = regression.coef_\n",
    "\n",
    "df_result.head(20)\n",
    "print(regression.coef_)\n",
    "print(weights)\n"
   ]
  },
  {
   "cell_type": "code",
   "execution_count": null,
   "id": "dbce08f9",
   "metadata": {},
   "outputs": [
    {
     "name": "stdout",
     "output_type": "stream",
     "text": [
      "Norm model gap: 0.0277 (train: 0.8142, test: 0.7865)\n"
     ]
    }
   ],
   "source": [
    "train_score = regression.score(X_train, y_train)\n",
    "test_score = regression.score(X_test, y_test)\n",
    "gap = train_score - test_score\n",
    "print(f'Norm model gap: {gap:.4f} (train: {train_score:.4f}, test: {test_score:.4f})')"
   ]
  },
  {
   "cell_type": "markdown",
   "id": "7846899e",
   "metadata": {},
   "source": [
    "Переобучение"
   ]
  },
  {
   "cell_type": "code",
   "execution_count": null,
   "id": "f6fdb9b2",
   "metadata": {},
   "outputs": [
    {
     "name": "stdout",
     "output_type": "stream",
     "text": [
      "On train data: 1.0\n",
      "On test  data: 0.7562358276643991\n",
      "Overlearning model gap: 0.2438 (train: 1.0000, test: 0.7562)\n"
     ]
    }
   ],
   "source": [
    "test_size_overlearning = 0.99\n",
    "\n",
    "row_count = X.shape[0] \n",
    "row_count_in_samples_overlearning = int(row_count * test_size_overlearning)\n",
    "\n",
    "indixes_overlearning  = np.random.permutation(row_count)\n",
    "\n",
    "test_indices_overlearning = indixes_overlearning [:row_count_in_samples_overlearning]\n",
    "train_indices_overlearning  = indixes_overlearning [row_count_in_samples_overlearning:]\n",
    "\n",
    "\n",
    "X_train_overlearning , X_test_overlearning  = X[train_indices_overlearning ], X[test_indices_overlearning ]\n",
    "y_train_overlearning , y_test_overlearning  = y[train_indices_overlearning ], y[test_indices_overlearning ]\n",
    "\n",
    "\n",
    "regression_overlearning = LogisticRegression()\n",
    "regression_overlearning.fit(X_train_overlearning, y_train_overlearning)\n",
    "\n",
    "y_predict_sk_overlearning = regression_overlearning.predict(X_test_overlearning)\n",
    "\n",
    "print(f'On train data: {regression_overlearning.score(X_train_overlearning, y_train_overlearning)}\\nOn test  data: {regression_overlearning.score(X_test_overlearning, y_test_overlearning)}') \n",
    "\n",
    "train_score_overlearning = regression_overlearning.score(X_train_overlearning, y_train_overlearning)\n",
    "test_score_overlearning = regression_overlearning.score(X_test_overlearning, y_test_overlearning)\n",
    "gap_overlearning = train_score_overlearning - test_score_overlearning\n",
    "print(f'Overlearning model gap: {gap_overlearning:.4f} (train: {train_score_overlearning:.4f}, test: {test_score_overlearning:.4f})')"
   ]
  },
  {
   "cell_type": "markdown",
   "id": "fd6b6f76",
   "metadata": {},
   "source": [
    "Недообучение"
   ]
  },
  {
   "cell_type": "code",
   "execution_count": null,
   "id": "18ff942b",
   "metadata": {},
   "outputs": [
    {
     "name": "stdout",
     "output_type": "stream",
     "text": [
      "On train data: 0.5777777777777777\n",
      "On test  data: 0.6204744069912609\n",
      "Overlearning model gap: -0.0427 (train: 0.5778, test: 0.6205)\n"
     ]
    }
   ],
   "source": [
    "test_size_underlearning = 0.9\n",
    "\n",
    "row_count = X.shape[0] \n",
    "row_count_in_samples_underlearning = int(row_count * test_size_underlearning)\n",
    "\n",
    "indixes_underlearning  = np.random.permutation(row_count)\n",
    "\n",
    "test_indices_underlearning = indixes_underlearning [:row_count_in_samples_underlearning]\n",
    "train_indices_underlearning  = indixes_underlearning [row_count_in_samples_underlearning:]\n",
    "\n",
    "\n",
    "X_train_underlearning , X_test_underlearning  = X[train_indices_underlearning ], X[test_indices_underlearning ]\n",
    "y_train_underlearning , y_test_underlearning  = y[train_indices_underlearning ], y[test_indices_underlearning ]\n",
    "\n",
    "\n",
    "regression_underlearning = LogisticRegression(max_iter=1)\n",
    "regression_underlearning.fit(X_train_underlearning, y_train_underlearning)\n",
    "\n",
    "y_predict_sk_underlearning = regression_underlearning.predict(X_test_underlearning)\n",
    "\n",
    "print(f'On train data: {regression_underlearning.score(X_train_underlearning, y_train_underlearning)}\\nOn test  data: {regression_underlearning.score(X_test_underlearning, y_test_underlearning)}') \n",
    "\n",
    "train_score_underlearning = regression_underlearning.score(X_train_underlearning, y_train_underlearning)\n",
    "test_score_underlearning = regression_underlearning.score(X_test_underlearning, y_test_underlearning)\n",
    "gap_underlearning = train_score_underlearning - test_score_underlearning\n",
    "print(f'Overlearning model gap: {gap_underlearning:.4f} (train: {train_score_underlearning:.4f}, test: {test_score_underlearning:.4f})')"
   ]
  }
 ],
 "metadata": {
  "kernelspec": {
   "display_name": "Python 3",
   "language": "python",
   "name": "python3"
  },
  "language_info": {
   "codemirror_mode": {
    "name": "ipython",
    "version": 3
   },
   "file_extension": ".py",
   "mimetype": "text/x-python",
   "name": "python",
   "nbconvert_exporter": "python",
   "pygments_lexer": "ipython3",
   "version": "3.13.7"
  }
 },
 "nbformat": 4,
 "nbformat_minor": 5
}
