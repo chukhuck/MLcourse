{
 "cells": [
  {
   "cell_type": "code",
   "execution_count": 15,
   "id": "4475de7d",
   "metadata": {},
   "outputs": [
    {
     "name": "stdout",
     "output_type": "stream",
     "text": [
      "Размер датасета (строки, колонки): (10000, 17)\n",
      "\n",
      "Первые 10 строк датасета:\n"
     ]
    },
    {
     "data": {
      "text/html": [
       "<div>\n",
       "<style scoped>\n",
       "    .dataframe tbody tr th:only-of-type {\n",
       "        vertical-align: middle;\n",
       "    }\n",
       "\n",
       "    .dataframe tbody tr th {\n",
       "        vertical-align: top;\n",
       "    }\n",
       "\n",
       "    .dataframe thead th {\n",
       "        text-align: right;\n",
       "    }\n",
       "</style>\n",
       "<table border=\"1\" class=\"dataframe\">\n",
       "  <thead>\n",
       "    <tr style=\"text-align: right;\">\n",
       "      <th></th>\n",
       "      <th>squareMeters</th>\n",
       "      <th>numberOfRooms</th>\n",
       "      <th>hasYard</th>\n",
       "      <th>hasPool</th>\n",
       "      <th>floors</th>\n",
       "      <th>cityCode</th>\n",
       "      <th>cityPartRange</th>\n",
       "      <th>numPrevOwners</th>\n",
       "      <th>made</th>\n",
       "      <th>isNewBuilt</th>\n",
       "      <th>hasStormProtector</th>\n",
       "      <th>basement</th>\n",
       "      <th>attic</th>\n",
       "      <th>garage</th>\n",
       "      <th>hasStorageRoom</th>\n",
       "      <th>hasGuestRoom</th>\n",
       "      <th>price</th>\n",
       "    </tr>\n",
       "  </thead>\n",
       "  <tbody>\n",
       "    <tr>\n",
       "      <th>0</th>\n",
       "      <td>75523</td>\n",
       "      <td>3</td>\n",
       "      <td>0</td>\n",
       "      <td>1</td>\n",
       "      <td>63</td>\n",
       "      <td>9373</td>\n",
       "      <td>3</td>\n",
       "      <td>8</td>\n",
       "      <td>2005</td>\n",
       "      <td>0</td>\n",
       "      <td>1</td>\n",
       "      <td>4313</td>\n",
       "      <td>9005</td>\n",
       "      <td>956</td>\n",
       "      <td>0</td>\n",
       "      <td>7</td>\n",
       "      <td>7559081.5</td>\n",
       "    </tr>\n",
       "    <tr>\n",
       "      <th>1</th>\n",
       "      <td>80771</td>\n",
       "      <td>39</td>\n",
       "      <td>1</td>\n",
       "      <td>1</td>\n",
       "      <td>98</td>\n",
       "      <td>39381</td>\n",
       "      <td>8</td>\n",
       "      <td>6</td>\n",
       "      <td>2015</td>\n",
       "      <td>1</td>\n",
       "      <td>0</td>\n",
       "      <td>3653</td>\n",
       "      <td>2436</td>\n",
       "      <td>128</td>\n",
       "      <td>1</td>\n",
       "      <td>2</td>\n",
       "      <td>8085989.5</td>\n",
       "    </tr>\n",
       "    <tr>\n",
       "      <th>2</th>\n",
       "      <td>55712</td>\n",
       "      <td>58</td>\n",
       "      <td>0</td>\n",
       "      <td>1</td>\n",
       "      <td>19</td>\n",
       "      <td>34457</td>\n",
       "      <td>6</td>\n",
       "      <td>8</td>\n",
       "      <td>2021</td>\n",
       "      <td>0</td>\n",
       "      <td>0</td>\n",
       "      <td>2937</td>\n",
       "      <td>8852</td>\n",
       "      <td>135</td>\n",
       "      <td>1</td>\n",
       "      <td>9</td>\n",
       "      <td>5574642.1</td>\n",
       "    </tr>\n",
       "    <tr>\n",
       "      <th>3</th>\n",
       "      <td>32316</td>\n",
       "      <td>47</td>\n",
       "      <td>0</td>\n",
       "      <td>0</td>\n",
       "      <td>6</td>\n",
       "      <td>27939</td>\n",
       "      <td>10</td>\n",
       "      <td>4</td>\n",
       "      <td>2012</td>\n",
       "      <td>0</td>\n",
       "      <td>1</td>\n",
       "      <td>659</td>\n",
       "      <td>7141</td>\n",
       "      <td>359</td>\n",
       "      <td>0</td>\n",
       "      <td>3</td>\n",
       "      <td>3232561.2</td>\n",
       "    </tr>\n",
       "    <tr>\n",
       "      <th>4</th>\n",
       "      <td>70429</td>\n",
       "      <td>19</td>\n",
       "      <td>1</td>\n",
       "      <td>1</td>\n",
       "      <td>90</td>\n",
       "      <td>38045</td>\n",
       "      <td>3</td>\n",
       "      <td>7</td>\n",
       "      <td>1990</td>\n",
       "      <td>1</td>\n",
       "      <td>0</td>\n",
       "      <td>8435</td>\n",
       "      <td>2429</td>\n",
       "      <td>292</td>\n",
       "      <td>1</td>\n",
       "      <td>4</td>\n",
       "      <td>7055052.0</td>\n",
       "    </tr>\n",
       "    <tr>\n",
       "      <th>5</th>\n",
       "      <td>39223</td>\n",
       "      <td>36</td>\n",
       "      <td>0</td>\n",
       "      <td>1</td>\n",
       "      <td>17</td>\n",
       "      <td>39489</td>\n",
       "      <td>8</td>\n",
       "      <td>6</td>\n",
       "      <td>2012</td>\n",
       "      <td>0</td>\n",
       "      <td>1</td>\n",
       "      <td>2009</td>\n",
       "      <td>4552</td>\n",
       "      <td>757</td>\n",
       "      <td>0</td>\n",
       "      <td>1</td>\n",
       "      <td>3926647.2</td>\n",
       "    </tr>\n",
       "    <tr>\n",
       "      <th>6</th>\n",
       "      <td>58682</td>\n",
       "      <td>10</td>\n",
       "      <td>1</td>\n",
       "      <td>1</td>\n",
       "      <td>99</td>\n",
       "      <td>6450</td>\n",
       "      <td>10</td>\n",
       "      <td>9</td>\n",
       "      <td>1995</td>\n",
       "      <td>1</td>\n",
       "      <td>1</td>\n",
       "      <td>5930</td>\n",
       "      <td>9453</td>\n",
       "      <td>848</td>\n",
       "      <td>0</td>\n",
       "      <td>5</td>\n",
       "      <td>5876376.5</td>\n",
       "    </tr>\n",
       "    <tr>\n",
       "      <th>7</th>\n",
       "      <td>86929</td>\n",
       "      <td>100</td>\n",
       "      <td>1</td>\n",
       "      <td>0</td>\n",
       "      <td>11</td>\n",
       "      <td>98155</td>\n",
       "      <td>3</td>\n",
       "      <td>4</td>\n",
       "      <td>2003</td>\n",
       "      <td>1</td>\n",
       "      <td>0</td>\n",
       "      <td>6326</td>\n",
       "      <td>4748</td>\n",
       "      <td>654</td>\n",
       "      <td>0</td>\n",
       "      <td>10</td>\n",
       "      <td>8696869.3</td>\n",
       "    </tr>\n",
       "    <tr>\n",
       "      <th>8</th>\n",
       "      <td>51522</td>\n",
       "      <td>3</td>\n",
       "      <td>0</td>\n",
       "      <td>0</td>\n",
       "      <td>61</td>\n",
       "      <td>9047</td>\n",
       "      <td>8</td>\n",
       "      <td>3</td>\n",
       "      <td>2012</td>\n",
       "      <td>1</td>\n",
       "      <td>1</td>\n",
       "      <td>632</td>\n",
       "      <td>5792</td>\n",
       "      <td>807</td>\n",
       "      <td>1</td>\n",
       "      <td>5</td>\n",
       "      <td>5154055.2</td>\n",
       "    </tr>\n",
       "    <tr>\n",
       "      <th>9</th>\n",
       "      <td>39686</td>\n",
       "      <td>42</td>\n",
       "      <td>0</td>\n",
       "      <td>0</td>\n",
       "      <td>15</td>\n",
       "      <td>71019</td>\n",
       "      <td>5</td>\n",
       "      <td>8</td>\n",
       "      <td>2021</td>\n",
       "      <td>1</td>\n",
       "      <td>1</td>\n",
       "      <td>5198</td>\n",
       "      <td>5342</td>\n",
       "      <td>591</td>\n",
       "      <td>1</td>\n",
       "      <td>3</td>\n",
       "      <td>3970892.1</td>\n",
       "    </tr>\n",
       "  </tbody>\n",
       "</table>\n",
       "</div>"
      ],
      "text/plain": [
       "   squareMeters  numberOfRooms  hasYard  hasPool  floors  cityCode  \\\n",
       "0         75523              3        0        1      63      9373   \n",
       "1         80771             39        1        1      98     39381   \n",
       "2         55712             58        0        1      19     34457   \n",
       "3         32316             47        0        0       6     27939   \n",
       "4         70429             19        1        1      90     38045   \n",
       "5         39223             36        0        1      17     39489   \n",
       "6         58682             10        1        1      99      6450   \n",
       "7         86929            100        1        0      11     98155   \n",
       "8         51522              3        0        0      61      9047   \n",
       "9         39686             42        0        0      15     71019   \n",
       "\n",
       "   cityPartRange  numPrevOwners  made  isNewBuilt  hasStormProtector  \\\n",
       "0              3              8  2005           0                  1   \n",
       "1              8              6  2015           1                  0   \n",
       "2              6              8  2021           0                  0   \n",
       "3             10              4  2012           0                  1   \n",
       "4              3              7  1990           1                  0   \n",
       "5              8              6  2012           0                  1   \n",
       "6             10              9  1995           1                  1   \n",
       "7              3              4  2003           1                  0   \n",
       "8              8              3  2012           1                  1   \n",
       "9              5              8  2021           1                  1   \n",
       "\n",
       "   basement  attic  garage  hasStorageRoom  hasGuestRoom      price  \n",
       "0      4313   9005     956               0             7  7559081.5  \n",
       "1      3653   2436     128               1             2  8085989.5  \n",
       "2      2937   8852     135               1             9  5574642.1  \n",
       "3       659   7141     359               0             3  3232561.2  \n",
       "4      8435   2429     292               1             4  7055052.0  \n",
       "5      2009   4552     757               0             1  3926647.2  \n",
       "6      5930   9453     848               0             5  5876376.5  \n",
       "7      6326   4748     654               0            10  8696869.3  \n",
       "8       632   5792     807               1             5  5154055.2  \n",
       "9      5198   5342     591               1             3  3970892.1  "
      ]
     },
     "execution_count": 15,
     "metadata": {},
     "output_type": "execute_result"
    }
   ],
   "source": [
    "import numpy as np  \n",
    "import pandas as pd  \n",
    "import plotly.express as px  # Для создания интерактивных визуализаций\n",
    "import plotly.graph_objects as go  # Для кастомных графиков\n",
    "from plotly.subplots import make_subplots  # Для создания subplots\n",
    "import seaborn as sns\n",
    "import matplotlib.pyplot as plt\n",
    "\n",
    "df = pd.read_csv('ParisHousing.csv', header=0, sep=',')\n",
    "\n",
    "# Проверим структуру данных\n",
    "print(\"Размер датасета (строки, колонки):\", df.shape)\n",
    "print(\"\\nПервые 10 строк датасета:\")\n",
    "df.head(10)"
   ]
  },
  {
   "cell_type": "code",
   "execution_count": 16,
   "id": "cf034668",
   "metadata": {},
   "outputs": [
    {
     "name": "stdout",
     "output_type": "stream",
     "text": [
      "Названия колонок:\n",
      "['squareMeters', 'numberOfRooms', 'hasYard', 'hasPool', 'floors', 'cityCode', 'cityPartRange', 'numPrevOwners', 'made', 'isNewBuilt', 'hasStormProtector', 'basement', 'attic', 'garage', 'hasStorageRoom', 'hasGuestRoom', 'price']\n",
      "\n",
      "Информация о датасете:\n",
      "<class 'pandas.core.frame.DataFrame'>\n",
      "RangeIndex: 10000 entries, 0 to 9999\n",
      "Data columns (total 17 columns):\n",
      " #   Column             Non-Null Count  Dtype  \n",
      "---  ------             --------------  -----  \n",
      " 0   squareMeters       10000 non-null  int64  \n",
      " 1   numberOfRooms      10000 non-null  int64  \n",
      " 2   hasYard            10000 non-null  int64  \n",
      " 3   hasPool            10000 non-null  int64  \n",
      " 4   floors             10000 non-null  int64  \n",
      " 5   cityCode           10000 non-null  int64  \n",
      " 6   cityPartRange      10000 non-null  int64  \n",
      " 7   numPrevOwners      10000 non-null  int64  \n",
      " 8   made               10000 non-null  int64  \n",
      " 9   isNewBuilt         10000 non-null  int64  \n",
      " 10  hasStormProtector  10000 non-null  int64  \n",
      " 11  basement           10000 non-null  int64  \n",
      " 12  attic              10000 non-null  int64  \n",
      " 13  garage             10000 non-null  int64  \n",
      " 14  hasStorageRoom     10000 non-null  int64  \n",
      " 15  hasGuestRoom       10000 non-null  int64  \n",
      " 16  price              10000 non-null  float64\n",
      "dtypes: float64(1), int64(16)\n",
      "memory usage: 1.3 MB\n"
     ]
    }
   ],
   "source": [
    "print(\"Названия колонок:\")\n",
    "print(df.columns.tolist())\n",
    "print(\"\\nИнформация о датасете:\")\n",
    "df.info()  # Показываем информацию о типах данных и наличии пропусков"
   ]
  },
  {
   "cell_type": "code",
   "execution_count": 17,
   "id": "9ed82bf3",
   "metadata": {},
   "outputs": [
    {
     "name": "stdout",
     "output_type": "stream",
     "text": [
      "\n",
      "Статистическое описание данных:\n"
     ]
    },
    {
     "data": {
      "text/html": [
       "<div>\n",
       "<style scoped>\n",
       "    .dataframe tbody tr th:only-of-type {\n",
       "        vertical-align: middle;\n",
       "    }\n",
       "\n",
       "    .dataframe tbody tr th {\n",
       "        vertical-align: top;\n",
       "    }\n",
       "\n",
       "    .dataframe thead th {\n",
       "        text-align: right;\n",
       "    }\n",
       "</style>\n",
       "<table border=\"1\" class=\"dataframe\">\n",
       "  <thead>\n",
       "    <tr style=\"text-align: right;\">\n",
       "      <th></th>\n",
       "      <th>squareMeters</th>\n",
       "      <th>numberOfRooms</th>\n",
       "      <th>hasYard</th>\n",
       "      <th>hasPool</th>\n",
       "      <th>floors</th>\n",
       "      <th>cityCode</th>\n",
       "      <th>cityPartRange</th>\n",
       "      <th>numPrevOwners</th>\n",
       "      <th>made</th>\n",
       "      <th>isNewBuilt</th>\n",
       "      <th>hasStormProtector</th>\n",
       "      <th>basement</th>\n",
       "      <th>attic</th>\n",
       "      <th>garage</th>\n",
       "      <th>hasStorageRoom</th>\n",
       "      <th>hasGuestRoom</th>\n",
       "      <th>price</th>\n",
       "    </tr>\n",
       "  </thead>\n",
       "  <tbody>\n",
       "    <tr>\n",
       "      <th>count</th>\n",
       "      <td>10000.00</td>\n",
       "      <td>10000.00</td>\n",
       "      <td>10000.00</td>\n",
       "      <td>10000.0</td>\n",
       "      <td>10000.00</td>\n",
       "      <td>10000.00</td>\n",
       "      <td>10000.00</td>\n",
       "      <td>10000.00</td>\n",
       "      <td>10000.00</td>\n",
       "      <td>10000.0</td>\n",
       "      <td>10000.0</td>\n",
       "      <td>10000.00</td>\n",
       "      <td>10000.00</td>\n",
       "      <td>10000.00</td>\n",
       "      <td>10000.0</td>\n",
       "      <td>10000.00</td>\n",
       "      <td>10000.00</td>\n",
       "    </tr>\n",
       "    <tr>\n",
       "      <th>mean</th>\n",
       "      <td>49870.13</td>\n",
       "      <td>50.36</td>\n",
       "      <td>0.51</td>\n",
       "      <td>0.5</td>\n",
       "      <td>50.28</td>\n",
       "      <td>50225.49</td>\n",
       "      <td>5.51</td>\n",
       "      <td>5.52</td>\n",
       "      <td>2005.49</td>\n",
       "      <td>0.5</td>\n",
       "      <td>0.5</td>\n",
       "      <td>5033.10</td>\n",
       "      <td>5028.01</td>\n",
       "      <td>553.12</td>\n",
       "      <td>0.5</td>\n",
       "      <td>4.99</td>\n",
       "      <td>4993447.53</td>\n",
       "    </tr>\n",
       "    <tr>\n",
       "      <th>std</th>\n",
       "      <td>28774.38</td>\n",
       "      <td>28.82</td>\n",
       "      <td>0.50</td>\n",
       "      <td>0.5</td>\n",
       "      <td>28.89</td>\n",
       "      <td>29006.68</td>\n",
       "      <td>2.87</td>\n",
       "      <td>2.86</td>\n",
       "      <td>9.31</td>\n",
       "      <td>0.5</td>\n",
       "      <td>0.5</td>\n",
       "      <td>2876.73</td>\n",
       "      <td>2894.33</td>\n",
       "      <td>262.05</td>\n",
       "      <td>0.5</td>\n",
       "      <td>3.18</td>\n",
       "      <td>2877424.11</td>\n",
       "    </tr>\n",
       "    <tr>\n",
       "      <th>min</th>\n",
       "      <td>89.00</td>\n",
       "      <td>1.00</td>\n",
       "      <td>0.00</td>\n",
       "      <td>0.0</td>\n",
       "      <td>1.00</td>\n",
       "      <td>3.00</td>\n",
       "      <td>1.00</td>\n",
       "      <td>1.00</td>\n",
       "      <td>1990.00</td>\n",
       "      <td>0.0</td>\n",
       "      <td>0.0</td>\n",
       "      <td>0.00</td>\n",
       "      <td>1.00</td>\n",
       "      <td>100.00</td>\n",
       "      <td>0.0</td>\n",
       "      <td>0.00</td>\n",
       "      <td>10313.50</td>\n",
       "    </tr>\n",
       "    <tr>\n",
       "      <th>25%</th>\n",
       "      <td>25098.50</td>\n",
       "      <td>25.00</td>\n",
       "      <td>0.00</td>\n",
       "      <td>0.0</td>\n",
       "      <td>25.00</td>\n",
       "      <td>24693.75</td>\n",
       "      <td>3.00</td>\n",
       "      <td>3.00</td>\n",
       "      <td>1997.00</td>\n",
       "      <td>0.0</td>\n",
       "      <td>0.0</td>\n",
       "      <td>2559.75</td>\n",
       "      <td>2512.00</td>\n",
       "      <td>327.75</td>\n",
       "      <td>0.0</td>\n",
       "      <td>2.00</td>\n",
       "      <td>2516401.95</td>\n",
       "    </tr>\n",
       "    <tr>\n",
       "      <th>50%</th>\n",
       "      <td>50105.50</td>\n",
       "      <td>50.00</td>\n",
       "      <td>1.00</td>\n",
       "      <td>0.0</td>\n",
       "      <td>50.00</td>\n",
       "      <td>50693.00</td>\n",
       "      <td>5.00</td>\n",
       "      <td>5.00</td>\n",
       "      <td>2005.50</td>\n",
       "      <td>0.0</td>\n",
       "      <td>0.0</td>\n",
       "      <td>5092.50</td>\n",
       "      <td>5045.00</td>\n",
       "      <td>554.00</td>\n",
       "      <td>1.0</td>\n",
       "      <td>5.00</td>\n",
       "      <td>5016180.30</td>\n",
       "    </tr>\n",
       "    <tr>\n",
       "      <th>75%</th>\n",
       "      <td>74609.75</td>\n",
       "      <td>75.00</td>\n",
       "      <td>1.00</td>\n",
       "      <td>1.0</td>\n",
       "      <td>76.00</td>\n",
       "      <td>75683.25</td>\n",
       "      <td>8.00</td>\n",
       "      <td>8.00</td>\n",
       "      <td>2014.00</td>\n",
       "      <td>1.0</td>\n",
       "      <td>1.0</td>\n",
       "      <td>7511.25</td>\n",
       "      <td>7540.50</td>\n",
       "      <td>777.25</td>\n",
       "      <td>1.0</td>\n",
       "      <td>8.00</td>\n",
       "      <td>7469092.45</td>\n",
       "    </tr>\n",
       "    <tr>\n",
       "      <th>max</th>\n",
       "      <td>99999.00</td>\n",
       "      <td>100.00</td>\n",
       "      <td>1.00</td>\n",
       "      <td>1.0</td>\n",
       "      <td>100.00</td>\n",
       "      <td>99953.00</td>\n",
       "      <td>10.00</td>\n",
       "      <td>10.00</td>\n",
       "      <td>2021.00</td>\n",
       "      <td>1.0</td>\n",
       "      <td>1.0</td>\n",
       "      <td>10000.00</td>\n",
       "      <td>10000.00</td>\n",
       "      <td>1000.00</td>\n",
       "      <td>1.0</td>\n",
       "      <td>10.00</td>\n",
       "      <td>10006771.20</td>\n",
       "    </tr>\n",
       "  </tbody>\n",
       "</table>\n",
       "</div>"
      ],
      "text/plain": [
       "       squareMeters  numberOfRooms   hasYard  hasPool    floors  cityCode  \\\n",
       "count      10000.00       10000.00  10000.00  10000.0  10000.00  10000.00   \n",
       "mean       49870.13          50.36      0.51      0.5     50.28  50225.49   \n",
       "std        28774.38          28.82      0.50      0.5     28.89  29006.68   \n",
       "min           89.00           1.00      0.00      0.0      1.00      3.00   \n",
       "25%        25098.50          25.00      0.00      0.0     25.00  24693.75   \n",
       "50%        50105.50          50.00      1.00      0.0     50.00  50693.00   \n",
       "75%        74609.75          75.00      1.00      1.0     76.00  75683.25   \n",
       "max        99999.00         100.00      1.00      1.0    100.00  99953.00   \n",
       "\n",
       "       cityPartRange  numPrevOwners      made  isNewBuilt  hasStormProtector  \\\n",
       "count       10000.00       10000.00  10000.00     10000.0            10000.0   \n",
       "mean            5.51           5.52   2005.49         0.5                0.5   \n",
       "std             2.87           2.86      9.31         0.5                0.5   \n",
       "min             1.00           1.00   1990.00         0.0                0.0   \n",
       "25%             3.00           3.00   1997.00         0.0                0.0   \n",
       "50%             5.00           5.00   2005.50         0.0                0.0   \n",
       "75%             8.00           8.00   2014.00         1.0                1.0   \n",
       "max            10.00          10.00   2021.00         1.0                1.0   \n",
       "\n",
       "       basement     attic    garage  hasStorageRoom  hasGuestRoom        price  \n",
       "count  10000.00  10000.00  10000.00         10000.0      10000.00     10000.00  \n",
       "mean    5033.10   5028.01    553.12             0.5          4.99   4993447.53  \n",
       "std     2876.73   2894.33    262.05             0.5          3.18   2877424.11  \n",
       "min        0.00      1.00    100.00             0.0          0.00     10313.50  \n",
       "25%     2559.75   2512.00    327.75             0.0          2.00   2516401.95  \n",
       "50%     5092.50   5045.00    554.00             1.0          5.00   5016180.30  \n",
       "75%     7511.25   7540.50    777.25             1.0          8.00   7469092.45  \n",
       "max    10000.00  10000.00   1000.00             1.0         10.00  10006771.20  "
      ]
     },
     "execution_count": 17,
     "metadata": {},
     "output_type": "execute_result"
    }
   ],
   "source": [
    "# Базовая статистика данных\n",
    "# describe(): генерирует описательную статистику для числовых колонок\n",
    "# round(2): округляет значения до 2 десятичных знаков\n",
    "print(\"\\nСтатистическое описание данных:\")\n",
    "df.describe().round(2)"
   ]
  },
  {
   "cell_type": "code",
   "execution_count": 18,
   "id": "7041d25c",
   "metadata": {},
   "outputs": [
    {
     "data": {
      "application/vnd.plotly.v1+json": {
       "config": {
        "plotlyServerURL": "https://plot.ly"
       },
       "data": [
        {
         "bingroup": "x",
         "hovertemplate": "цена =%{x}<br>count=%{y}<extra></extra>",
         "legendgroup": "",
         "marker": {
          "color": "#636efa",
          "pattern": {
           "shape": ""
          }
         },
         "name": "",
         "nbinsx": 30,
         "orientation": "v",
         "showlegend": false,
         "type": "histogram",
         "x": {
          "bdata": "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",
          "dtype": "f8"
         },
         "xaxis": "x",
         "yaxis": "y"
        }
       ],
       "layout": {
        "bargap": 0.1,
        "barmode": "relative",
        "legend": {
         "tracegroupgap": 0
        },
        "template": {
         "data": {
          "bar": [
           {
            "error_x": {
             "color": "#2a3f5f"
            },
            "error_y": {
             "color": "#2a3f5f"
            },
            "marker": {
             "line": {
              "color": "white",
              "width": 0.5
             },
             "pattern": {
              "fillmode": "overlay",
              "size": 10,
              "solidity": 0.2
             }
            },
            "type": "bar"
           }
          ],
          "barpolar": [
           {
            "marker": {
             "line": {
              "color": "white",
              "width": 0.5
             },
             "pattern": {
              "fillmode": "overlay",
              "size": 10,
              "solidity": 0.2
             }
            },
            "type": "barpolar"
           }
          ],
          "carpet": [
           {
            "aaxis": {
             "endlinecolor": "#2a3f5f",
             "gridcolor": "#C8D4E3",
             "linecolor": "#C8D4E3",
             "minorgridcolor": "#C8D4E3",
             "startlinecolor": "#2a3f5f"
            },
            "baxis": {
             "endlinecolor": "#2a3f5f",
             "gridcolor": "#C8D4E3",
             "linecolor": "#C8D4E3",
             "minorgridcolor": "#C8D4E3",
             "startlinecolor": "#2a3f5f"
            },
            "type": "carpet"
           }
          ],
          "choropleth": [
           {
            "colorbar": {
             "outlinewidth": 0,
             "ticks": ""
            },
            "type": "choropleth"
           }
          ],
          "contour": [
           {
            "colorbar": {
             "outlinewidth": 0,
             "ticks": ""
            },
            "colorscale": [
             [
              0,
              "#0d0887"
             ],
             [
              0.1111111111111111,
              "#46039f"
             ],
             [
              0.2222222222222222,
              "#7201a8"
             ],
             [
              0.3333333333333333,
              "#9c179e"
             ],
             [
              0.4444444444444444,
              "#bd3786"
             ],
             [
              0.5555555555555556,
              "#d8576b"
             ],
             [
              0.6666666666666666,
              "#ed7953"
             ],
             [
              0.7777777777777778,
              "#fb9f3a"
             ],
             [
              0.8888888888888888,
              "#fdca26"
             ],
             [
              1,
              "#f0f921"
             ]
            ],
            "type": "contour"
           }
          ],
          "contourcarpet": [
           {
            "colorbar": {
             "outlinewidth": 0,
             "ticks": ""
            },
            "type": "contourcarpet"
           }
          ],
          "heatmap": [
           {
            "colorbar": {
             "outlinewidth": 0,
             "ticks": ""
            },
            "colorscale": [
             [
              0,
              "#0d0887"
             ],
             [
              0.1111111111111111,
              "#46039f"
             ],
             [
              0.2222222222222222,
              "#7201a8"
             ],
             [
              0.3333333333333333,
              "#9c179e"
             ],
             [
              0.4444444444444444,
              "#bd3786"
             ],
             [
              0.5555555555555556,
              "#d8576b"
             ],
             [
              0.6666666666666666,
              "#ed7953"
             ],
             [
              0.7777777777777778,
              "#fb9f3a"
             ],
             [
              0.8888888888888888,
              "#fdca26"
             ],
             [
              1,
              "#f0f921"
             ]
            ],
            "type": "heatmap"
           }
          ],
          "histogram": [
           {
            "marker": {
             "pattern": {
              "fillmode": "overlay",
              "size": 10,
              "solidity": 0.2
             }
            },
            "type": "histogram"
           }
          ],
          "histogram2d": [
           {
            "colorbar": {
             "outlinewidth": 0,
             "ticks": ""
            },
            "colorscale": [
             [
              0,
              "#0d0887"
             ],
             [
              0.1111111111111111,
              "#46039f"
             ],
             [
              0.2222222222222222,
              "#7201a8"
             ],
             [
              0.3333333333333333,
              "#9c179e"
             ],
             [
              0.4444444444444444,
              "#bd3786"
             ],
             [
              0.5555555555555556,
              "#d8576b"
             ],
             [
              0.6666666666666666,
              "#ed7953"
             ],
             [
              0.7777777777777778,
              "#fb9f3a"
             ],
             [
              0.8888888888888888,
              "#fdca26"
             ],
             [
              1,
              "#f0f921"
             ]
            ],
            "type": "histogram2d"
           }
          ],
          "histogram2dcontour": [
           {
            "colorbar": {
             "outlinewidth": 0,
             "ticks": ""
            },
            "colorscale": [
             [
              0,
              "#0d0887"
             ],
             [
              0.1111111111111111,
              "#46039f"
             ],
             [
              0.2222222222222222,
              "#7201a8"
             ],
             [
              0.3333333333333333,
              "#9c179e"
             ],
             [
              0.4444444444444444,
              "#bd3786"
             ],
             [
              0.5555555555555556,
              "#d8576b"
             ],
             [
              0.6666666666666666,
              "#ed7953"
             ],
             [
              0.7777777777777778,
              "#fb9f3a"
             ],
             [
              0.8888888888888888,
              "#fdca26"
             ],
             [
              1,
              "#f0f921"
             ]
            ],
            "type": "histogram2dcontour"
           }
          ],
          "mesh3d": [
           {
            "colorbar": {
             "outlinewidth": 0,
             "ticks": ""
            },
            "type": "mesh3d"
           }
          ],
          "parcoords": [
           {
            "line": {
             "colorbar": {
              "outlinewidth": 0,
              "ticks": ""
             }
            },
            "type": "parcoords"
           }
          ],
          "pie": [
           {
            "automargin": true,
            "type": "pie"
           }
          ],
          "scatter": [
           {
            "fillpattern": {
             "fillmode": "overlay",
             "size": 10,
             "solidity": 0.2
            },
            "type": "scatter"
           }
          ],
          "scatter3d": [
           {
            "line": {
             "colorbar": {
              "outlinewidth": 0,
              "ticks": ""
             }
            },
            "marker": {
             "colorbar": {
              "outlinewidth": 0,
              "ticks": ""
             }
            },
            "type": "scatter3d"
           }
          ],
          "scattercarpet": [
           {
            "marker": {
             "colorbar": {
              "outlinewidth": 0,
              "ticks": ""
             }
            },
            "type": "scattercarpet"
           }
          ],
          "scattergeo": [
           {
            "marker": {
             "colorbar": {
              "outlinewidth": 0,
              "ticks": ""
             }
            },
            "type": "scattergeo"
           }
          ],
          "scattergl": [
           {
            "marker": {
             "colorbar": {
              "outlinewidth": 0,
              "ticks": ""
             }
            },
            "type": "scattergl"
           }
          ],
          "scattermap": [
           {
            "marker": {
             "colorbar": {
              "outlinewidth": 0,
              "ticks": ""
             }
            },
            "type": "scattermap"
           }
          ],
          "scattermapbox": [
           {
            "marker": {
             "colorbar": {
              "outlinewidth": 0,
              "ticks": ""
             }
            },
            "type": "scattermapbox"
           }
          ],
          "scatterpolar": [
           {
            "marker": {
             "colorbar": {
              "outlinewidth": 0,
              "ticks": ""
             }
            },
            "type": "scatterpolar"
           }
          ],
          "scatterpolargl": [
           {
            "marker": {
             "colorbar": {
              "outlinewidth": 0,
              "ticks": ""
             }
            },
            "type": "scatterpolargl"
           }
          ],
          "scatterternary": [
           {
            "marker": {
             "colorbar": {
              "outlinewidth": 0,
              "ticks": ""
             }
            },
            "type": "scatterternary"
           }
          ],
          "surface": [
           {
            "colorbar": {
             "outlinewidth": 0,
             "ticks": ""
            },
            "colorscale": [
             [
              0,
              "#0d0887"
             ],
             [
              0.1111111111111111,
              "#46039f"
             ],
             [
              0.2222222222222222,
              "#7201a8"
             ],
             [
              0.3333333333333333,
              "#9c179e"
             ],
             [
              0.4444444444444444,
              "#bd3786"
             ],
             [
              0.5555555555555556,
              "#d8576b"
             ],
             [
              0.6666666666666666,
              "#ed7953"
             ],
             [
              0.7777777777777778,
              "#fb9f3a"
             ],
             [
              0.8888888888888888,
              "#fdca26"
             ],
             [
              1,
              "#f0f921"
             ]
            ],
            "type": "surface"
           }
          ],
          "table": [
           {
            "cells": {
             "fill": {
              "color": "#EBF0F8"
             },
             "line": {
              "color": "white"
             }
            },
            "header": {
             "fill": {
              "color": "#C8D4E3"
             },
             "line": {
              "color": "white"
             }
            },
            "type": "table"
           }
          ]
         },
         "layout": {
          "annotationdefaults": {
           "arrowcolor": "#2a3f5f",
           "arrowhead": 0,
           "arrowwidth": 1
          },
          "autotypenumbers": "strict",
          "coloraxis": {
           "colorbar": {
            "outlinewidth": 0,
            "ticks": ""
           }
          },
          "colorscale": {
           "diverging": [
            [
             0,
             "#8e0152"
            ],
            [
             0.1,
             "#c51b7d"
            ],
            [
             0.2,
             "#de77ae"
            ],
            [
             0.3,
             "#f1b6da"
            ],
            [
             0.4,
             "#fde0ef"
            ],
            [
             0.5,
             "#f7f7f7"
            ],
            [
             0.6,
             "#e6f5d0"
            ],
            [
             0.7,
             "#b8e186"
            ],
            [
             0.8,
             "#7fbc41"
            ],
            [
             0.9,
             "#4d9221"
            ],
            [
             1,
             "#276419"
            ]
           ],
           "sequential": [
            [
             0,
             "#0d0887"
            ],
            [
             0.1111111111111111,
             "#46039f"
            ],
            [
             0.2222222222222222,
             "#7201a8"
            ],
            [
             0.3333333333333333,
             "#9c179e"
            ],
            [
             0.4444444444444444,
             "#bd3786"
            ],
            [
             0.5555555555555556,
             "#d8576b"
            ],
            [
             0.6666666666666666,
             "#ed7953"
            ],
            [
             0.7777777777777778,
             "#fb9f3a"
            ],
            [
             0.8888888888888888,
             "#fdca26"
            ],
            [
             1,
             "#f0f921"
            ]
           ],
           "sequentialminus": [
            [
             0,
             "#0d0887"
            ],
            [
             0.1111111111111111,
             "#46039f"
            ],
            [
             0.2222222222222222,
             "#7201a8"
            ],
            [
             0.3333333333333333,
             "#9c179e"
            ],
            [
             0.4444444444444444,
             "#bd3786"
            ],
            [
             0.5555555555555556,
             "#d8576b"
            ],
            [
             0.6666666666666666,
             "#ed7953"
            ],
            [
             0.7777777777777778,
             "#fb9f3a"
            ],
            [
             0.8888888888888888,
             "#fdca26"
            ],
            [
             1,
             "#f0f921"
            ]
           ]
          },
          "colorway": [
           "#636efa",
           "#EF553B",
           "#00cc96",
           "#ab63fa",
           "#FFA15A",
           "#19d3f3",
           "#FF6692",
           "#B6E880",
           "#FF97FF",
           "#FECB52"
          ],
          "font": {
           "color": "#2a3f5f"
          },
          "geo": {
           "bgcolor": "white",
           "lakecolor": "white",
           "landcolor": "white",
           "showlakes": true,
           "showland": true,
           "subunitcolor": "#C8D4E3"
          },
          "hoverlabel": {
           "align": "left"
          },
          "hovermode": "closest",
          "mapbox": {
           "style": "light"
          },
          "paper_bgcolor": "white",
          "plot_bgcolor": "white",
          "polar": {
           "angularaxis": {
            "gridcolor": "#EBF0F8",
            "linecolor": "#EBF0F8",
            "ticks": ""
           },
           "bgcolor": "white",
           "radialaxis": {
            "gridcolor": "#EBF0F8",
            "linecolor": "#EBF0F8",
            "ticks": ""
           }
          },
          "scene": {
           "xaxis": {
            "backgroundcolor": "white",
            "gridcolor": "#DFE8F3",
            "gridwidth": 2,
            "linecolor": "#EBF0F8",
            "showbackground": true,
            "ticks": "",
            "zerolinecolor": "#EBF0F8"
           },
           "yaxis": {
            "backgroundcolor": "white",
            "gridcolor": "#DFE8F3",
            "gridwidth": 2,
            "linecolor": "#EBF0F8",
            "showbackground": true,
            "ticks": "",
            "zerolinecolor": "#EBF0F8"
           },
           "zaxis": {
            "backgroundcolor": "white",
            "gridcolor": "#DFE8F3",
            "gridwidth": 2,
            "linecolor": "#EBF0F8",
            "showbackground": true,
            "ticks": "",
            "zerolinecolor": "#EBF0F8"
           }
          },
          "shapedefaults": {
           "line": {
            "color": "#2a3f5f"
           }
          },
          "ternary": {
           "aaxis": {
            "gridcolor": "#DFE8F3",
            "linecolor": "#A2B1C6",
            "ticks": ""
           },
           "baxis": {
            "gridcolor": "#DFE8F3",
            "linecolor": "#A2B1C6",
            "ticks": ""
           },
           "bgcolor": "white",
           "caxis": {
            "gridcolor": "#DFE8F3",
            "linecolor": "#A2B1C6",
            "ticks": ""
           }
          },
          "title": {
           "x": 0.05
          },
          "xaxis": {
           "automargin": true,
           "gridcolor": "#EBF0F8",
           "linecolor": "#EBF0F8",
           "ticks": "",
           "title": {
            "standoff": 15
           },
           "zerolinecolor": "#EBF0F8",
           "zerolinewidth": 2
          },
          "yaxis": {
           "automargin": true,
           "gridcolor": "#EBF0F8",
           "linecolor": "#EBF0F8",
           "ticks": "",
           "title": {
            "standoff": 15
           },
           "zerolinecolor": "#EBF0F8",
           "zerolinewidth": 2
          }
         }
        },
        "title": {
         "text": "Распределение цен на жилье в Париже (price)"
        },
        "xaxis": {
         "anchor": "y",
         "domain": [
          0,
          1
         ],
         "title": {
          "text": "цена "
         }
        },
        "yaxis": {
         "anchor": "x",
         "domain": [
          0,
          1
         ],
         "title": {
          "text": "count"
         }
        }
       }
      }
     },
     "metadata": {},
     "output_type": "display_data"
    }
   ],
   "source": [
    "fig = px.histogram(df, \n",
    "                   x='price', \n",
    "                   title='Распределение цен на жилье в Париже (price)',\n",
    "                   labels={'price': 'цена '},\n",
    "                   nbins=30,\n",
    "                   template='plotly_white')\n",
    "fig.update_layout(bargap=0.1)  # bargap: зазор между столбцами\n",
    "fig.show()"
   ]
  },
  {
   "cell_type": "code",
   "execution_count": 19,
   "id": "a6a73e8e",
   "metadata": {},
   "outputs": [
    {
     "data": {
      "image/png": "[encoded data removed]",
      "text/plain": [
       "<Figure size 2000x1000 with 18 Axes>"
      ]
     },
     "metadata": {},
     "output_type": "display_data"
    }
   ],
   "source": [
    "fig, axs = plt.subplots(ncols=6, nrows=3, figsize=(20, 10))\n",
    "index = 0\n",
    "axs = axs.flatten()\n",
    "for k,v in df.items():\n",
    "    sns.boxplot(y=k, data=df, ax=axs[index])\n",
    "    index += 1\n",
    "plt.tight_layout(pad=0.4, w_pad=0.5, h_pad=5.0)"
   ]
  },
  {
   "cell_type": "markdown",
   "id": "b47db054",
   "metadata": {},
   "source": [
    "Данные все полные и нормально распределены. Можно начинать анализ на TensorFlow"
   ]
  }
 ],
 "metadata": {
  "kernelspec": {
   "display_name": "Python 3",
   "language": "python",
   "name": "python3"
  },
  "language_info": {
   "codemirror_mode": {
    "name": "ipython",
    "version": 3
   },
   "file_extension": ".py",
   "mimetype": "text/x-python",
   "name": "python",
   "nbconvert_exporter": "python",
   "pygments_lexer": "ipython3",
   "version": "3.13.7"
  }
 },
 "nbformat": 4,
 "nbformat_minor": 5
}
