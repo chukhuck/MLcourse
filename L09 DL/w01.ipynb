{
 "cells": [
  {
   "cell_type": "code",
   "execution_count": 2,
   "id": "4475de7d",
   "metadata": {},
   "outputs": [
    {
     "name": "stdout",
     "output_type": "stream",
     "text": [
      "Размер датасета (строки, колонки): (10000, 16)\n",
      "\n",
      "Первые 10 строк датасета:\n"
     ]
    },
    {
     "data": {
      "text/html": [
       "<div>\n",
       "<style scoped>\n",
       "    .dataframe tbody tr th:only-of-type {\n",
       "        vertical-align: middle;\n",
       "    }\n",
       "\n",
       "    .dataframe tbody tr th {\n",
       "        vertical-align: top;\n",
       "    }\n",
       "\n",
       "    .dataframe thead th {\n",
       "        text-align: right;\n",
       "    }\n",
       "</style>\n",
       "<table border=\"1\" class=\"dataframe\">\n",
       "  <thead>\n",
       "    <tr style=\"text-align: right;\">\n",
       "      <th></th>\n",
       "      <th>numberOfRooms</th>\n",
       "      <th>hasYard</th>\n",
       "      <th>hasPool</th>\n",
       "      <th>floors</th>\n",
       "      <th>cityCode</th>\n",
       "      <th>cityPartRange</th>\n",
       "      <th>numPrevOwners</th>\n",
       "      <th>made</th>\n",
       "      <th>isNewBuilt</th>\n",
       "      <th>hasStormProtector</th>\n",
       "      <th>basement</th>\n",
       "      <th>attic</th>\n",
       "      <th>garage</th>\n",
       "      <th>hasStorageRoom</th>\n",
       "      <th>hasGuestRoom</th>\n",
       "      <th>log_pricePerM2</th>\n",
       "    </tr>\n",
       "  </thead>\n",
       "  <tbody>\n",
       "    <tr>\n",
       "      <th>0</th>\n",
       "      <td>3</td>\n",
       "      <td>0</td>\n",
       "      <td>1</td>\n",
       "      <td>63</td>\n",
       "      <td>9373</td>\n",
       "      <td>3</td>\n",
       "      <td>8</td>\n",
       "      <td>2005</td>\n",
       "      <td>0</td>\n",
       "      <td>1</td>\n",
       "      <td>4313</td>\n",
       "      <td>9005</td>\n",
       "      <td>956</td>\n",
       "      <td>0</td>\n",
       "      <td>7</td>\n",
       "      <td>4.616009</td>\n",
       "    </tr>\n",
       "    <tr>\n",
       "      <th>1</th>\n",
       "      <td>39</td>\n",
       "      <td>1</td>\n",
       "      <td>1</td>\n",
       "      <td>98</td>\n",
       "      <td>39381</td>\n",
       "      <td>8</td>\n",
       "      <td>6</td>\n",
       "      <td>2015</td>\n",
       "      <td>1</td>\n",
       "      <td>0</td>\n",
       "      <td>3653</td>\n",
       "      <td>2436</td>\n",
       "      <td>128</td>\n",
       "      <td>1</td>\n",
       "      <td>2</td>\n",
       "      <td>4.616210</td>\n",
       "    </tr>\n",
       "    <tr>\n",
       "      <th>2</th>\n",
       "      <td>58</td>\n",
       "      <td>0</td>\n",
       "      <td>1</td>\n",
       "      <td>19</td>\n",
       "      <td>34457</td>\n",
       "      <td>6</td>\n",
       "      <td>8</td>\n",
       "      <td>2021</td>\n",
       "      <td>0</td>\n",
       "      <td>0</td>\n",
       "      <td>2937</td>\n",
       "      <td>8852</td>\n",
       "      <td>135</td>\n",
       "      <td>1</td>\n",
       "      <td>9</td>\n",
       "      <td>4.615732</td>\n",
       "    </tr>\n",
       "    <tr>\n",
       "      <th>3</th>\n",
       "      <td>47</td>\n",
       "      <td>0</td>\n",
       "      <td>0</td>\n",
       "      <td>6</td>\n",
       "      <td>27939</td>\n",
       "      <td>10</td>\n",
       "      <td>4</td>\n",
       "      <td>2012</td>\n",
       "      <td>0</td>\n",
       "      <td>1</td>\n",
       "      <td>659</td>\n",
       "      <td>7141</td>\n",
       "      <td>359</td>\n",
       "      <td>0</td>\n",
       "      <td>3</td>\n",
       "      <td>4.615415</td>\n",
       "    </tr>\n",
       "    <tr>\n",
       "      <th>4</th>\n",
       "      <td>19</td>\n",
       "      <td>1</td>\n",
       "      <td>1</td>\n",
       "      <td>90</td>\n",
       "      <td>38045</td>\n",
       "      <td>3</td>\n",
       "      <td>7</td>\n",
       "      <td>1990</td>\n",
       "      <td>1</td>\n",
       "      <td>0</td>\n",
       "      <td>8435</td>\n",
       "      <td>2429</td>\n",
       "      <td>292</td>\n",
       "      <td>1</td>\n",
       "      <td>4</td>\n",
       "      <td>4.616827</td>\n",
       "    </tr>\n",
       "    <tr>\n",
       "      <th>5</th>\n",
       "      <td>36</td>\n",
       "      <td>0</td>\n",
       "      <td>1</td>\n",
       "      <td>17</td>\n",
       "      <td>39489</td>\n",
       "      <td>8</td>\n",
       "      <td>6</td>\n",
       "      <td>2012</td>\n",
       "      <td>0</td>\n",
       "      <td>1</td>\n",
       "      <td>2009</td>\n",
       "      <td>4552</td>\n",
       "      <td>757</td>\n",
       "      <td>0</td>\n",
       "      <td>1</td>\n",
       "      <td>4.616217</td>\n",
       "    </tr>\n",
       "    <tr>\n",
       "      <th>6</th>\n",
       "      <td>10</td>\n",
       "      <td>1</td>\n",
       "      <td>1</td>\n",
       "      <td>99</td>\n",
       "      <td>6450</td>\n",
       "      <td>10</td>\n",
       "      <td>9</td>\n",
       "      <td>1995</td>\n",
       "      <td>1</td>\n",
       "      <td>1</td>\n",
       "      <td>5930</td>\n",
       "      <td>9453</td>\n",
       "      <td>848</td>\n",
       "      <td>0</td>\n",
       "      <td>5</td>\n",
       "      <td>4.616499</td>\n",
       "    </tr>\n",
       "    <tr>\n",
       "      <th>7</th>\n",
       "      <td>100</td>\n",
       "      <td>1</td>\n",
       "      <td>0</td>\n",
       "      <td>11</td>\n",
       "      <td>98155</td>\n",
       "      <td>3</td>\n",
       "      <td>4</td>\n",
       "      <td>2003</td>\n",
       "      <td>1</td>\n",
       "      <td>0</td>\n",
       "      <td>6326</td>\n",
       "      <td>4748</td>\n",
       "      <td>654</td>\n",
       "      <td>0</td>\n",
       "      <td>10</td>\n",
       "      <td>4.615573</td>\n",
       "    </tr>\n",
       "    <tr>\n",
       "      <th>8</th>\n",
       "      <td>3</td>\n",
       "      <td>0</td>\n",
       "      <td>0</td>\n",
       "      <td>61</td>\n",
       "      <td>9047</td>\n",
       "      <td>8</td>\n",
       "      <td>3</td>\n",
       "      <td>2012</td>\n",
       "      <td>1</td>\n",
       "      <td>1</td>\n",
       "      <td>632</td>\n",
       "      <td>5792</td>\n",
       "      <td>807</td>\n",
       "      <td>1</td>\n",
       "      <td>5</td>\n",
       "      <td>4.615477</td>\n",
       "    </tr>\n",
       "    <tr>\n",
       "      <th>9</th>\n",
       "      <td>42</td>\n",
       "      <td>0</td>\n",
       "      <td>0</td>\n",
       "      <td>15</td>\n",
       "      <td>71019</td>\n",
       "      <td>5</td>\n",
       "      <td>8</td>\n",
       "      <td>2021</td>\n",
       "      <td>1</td>\n",
       "      <td>1</td>\n",
       "      <td>5198</td>\n",
       "      <td>5342</td>\n",
       "      <td>591</td>\n",
       "      <td>1</td>\n",
       "      <td>3</td>\n",
       "      <td>4.615692</td>\n",
       "    </tr>\n",
       "  </tbody>\n",
       "</table>\n",
       "</div>"
      ],
      "text/plain": [
       "   numberOfRooms  hasYard  hasPool  floors  cityCode  cityPartRange  \\\n",
       "0              3        0        1      63      9373              3   \n",
       "1             39        1        1      98     39381              8   \n",
       "2             58        0        1      19     34457              6   \n",
       "3             47        0        0       6     27939             10   \n",
       "4             19        1        1      90     38045              3   \n",
       "5             36        0        1      17     39489              8   \n",
       "6             10        1        1      99      6450             10   \n",
       "7            100        1        0      11     98155              3   \n",
       "8              3        0        0      61      9047              8   \n",
       "9             42        0        0      15     71019              5   \n",
       "\n",
       "   numPrevOwners  made  isNewBuilt  hasStormProtector  basement  attic  \\\n",
       "0              8  2005           0                  1      4313   9005   \n",
       "1              6  2015           1                  0      3653   2436   \n",
       "2              8  2021           0                  0      2937   8852   \n",
       "3              4  2012           0                  1       659   7141   \n",
       "4              7  1990           1                  0      8435   2429   \n",
       "5              6  2012           0                  1      2009   4552   \n",
       "6              9  1995           1                  1      5930   9453   \n",
       "7              4  2003           1                  0      6326   4748   \n",
       "8              3  2012           1                  1       632   5792   \n",
       "9              8  2021           1                  1      5198   5342   \n",
       "\n",
       "   garage  hasStorageRoom  hasGuestRoom  log_pricePerM2  \n",
       "0     956               0             7        4.616009  \n",
       "1     128               1             2        4.616210  \n",
       "2     135               1             9        4.615732  \n",
       "3     359               0             3        4.615415  \n",
       "4     292               1             4        4.616827  \n",
       "5     757               0             1        4.616217  \n",
       "6     848               0             5        4.616499  \n",
       "7     654               0            10        4.615573  \n",
       "8     807               1             5        4.615477  \n",
       "9     591               1             3        4.615692  "
      ]
     },
     "execution_count": 2,
     "metadata": {},
     "output_type": "execute_result"
    }
   ],
   "source": [
    "import numpy as np  \n",
    "import pandas as pd  \n",
    "import plotly.express as px  # Для создания интерактивных визуализаций\n",
    "import plotly.graph_objects as go  # Для кастомных графиков\n",
    "from plotly.subplots import make_subplots  # Для создания subplots\n",
    "import seaborn as sns\n",
    "import matplotlib.pyplot as plt\n",
    "from tensorflow.keras.models import Sequential\n",
    "from tensorflow.keras.layers import Dense\n",
    "\n",
    "df = pd.read_csv('ParisHousing.csv', header=0, sep=',')\n",
    "df['log_pricePerM2'] = np.log1p(df['price'] / df['squareMeters'])\n",
    "df.drop(columns=['price', 'squareMeters'], inplace=True) # Удаляем оригинальную колонку\n",
    "\n",
    "# Проверим структуру данных\n",
    "print(\"Размер датасета (строки, колонки):\", df.shape)\n",
    "print(\"\\nПервые 10 строк датасета:\")\n",
    "df.head(10)"
   ]
  },
  {
   "cell_type": "code",
   "execution_count": 3,
   "id": "cf034668",
   "metadata": {},
   "outputs": [
    {
     "name": "stdout",
     "output_type": "stream",
     "text": [
      "Названия колонок:\n",
      "['numberOfRooms', 'hasYard', 'hasPool', 'floors', 'cityCode', 'cityPartRange', 'numPrevOwners', 'made', 'isNewBuilt', 'hasStormProtector', 'basement', 'attic', 'garage', 'hasStorageRoom', 'hasGuestRoom', 'log_pricePerM2']\n",
      "\n",
      "Информация о датасете:\n",
      "<class 'pandas.core.frame.DataFrame'>\n",
      "RangeIndex: 10000 entries, 0 to 9999\n",
      "Data columns (total 16 columns):\n",
      " #   Column             Non-Null Count  Dtype  \n",
      "---  ------             --------------  -----  \n",
      " 0   numberOfRooms      10000 non-null  int64  \n",
      " 1   hasYard            10000 non-null  int64  \n",
      " 2   hasPool            10000 non-null  int64  \n",
      " 3   floors             10000 non-null  int64  \n",
      " 4   cityCode           10000 non-null  int64  \n",
      " 5   cityPartRange      10000 non-null  int64  \n",
      " 6   numPrevOwners      10000 non-null  int64  \n",
      " 7   made               10000 non-null  int64  \n",
      " 8   isNewBuilt         10000 non-null  int64  \n",
      " 9   hasStormProtector  10000 non-null  int64  \n",
      " 10  basement           10000 non-null  int64  \n",
      " 11  attic              10000 non-null  int64  \n",
      " 12  garage             10000 non-null  int64  \n",
      " 13  hasStorageRoom     10000 non-null  int64  \n",
      " 14  hasGuestRoom       10000 non-null  int64  \n",
      " 15  log_pricePerM2     10000 non-null  float64\n",
      "dtypes: float64(1), int64(15)\n",
      "memory usage: 1.2 MB\n"
     ]
    }
   ],
   "source": [
    "print(\"Названия колонок:\")\n",
    "print(df.columns.tolist())\n",
    "print(\"\\nИнформация о датасете:\")\n",
    "df.info()  # Показываем информацию о типах данных и наличии пропусков"
   ]
  },
  {
   "cell_type": "code",
   "execution_count": 4,
   "id": "9ed82bf3",
   "metadata": {},
   "outputs": [
    {
     "name": "stdout",
     "output_type": "stream",
     "text": [
      "\n",
      "Статистическое описание данных:\n"
     ]
    },
    {
     "data": {
      "text/html": [
       "<div>\n",
       "<style scoped>\n",
       "    .dataframe tbody tr th:only-of-type {\n",
       "        vertical-align: middle;\n",
       "    }\n",
       "\n",
       "    .dataframe tbody tr th {\n",
       "        vertical-align: top;\n",
       "    }\n",
       "\n",
       "    .dataframe thead th {\n",
       "        text-align: right;\n",
       "    }\n",
       "</style>\n",
       "<table border=\"1\" class=\"dataframe\">\n",
       "  <thead>\n",
       "    <tr style=\"text-align: right;\">\n",
       "      <th></th>\n",
       "      <th>numberOfRooms</th>\n",
       "      <th>hasYard</th>\n",
       "      <th>hasPool</th>\n",
       "      <th>floors</th>\n",
       "      <th>cityCode</th>\n",
       "      <th>cityPartRange</th>\n",
       "      <th>numPrevOwners</th>\n",
       "      <th>made</th>\n",
       "      <th>isNewBuilt</th>\n",
       "      <th>hasStormProtector</th>\n",
       "      <th>basement</th>\n",
       "      <th>attic</th>\n",
       "      <th>garage</th>\n",
       "      <th>hasStorageRoom</th>\n",
       "      <th>hasGuestRoom</th>\n",
       "      <th>log_pricePerM2</th>\n",
       "    </tr>\n",
       "  </thead>\n",
       "  <tbody>\n",
       "    <tr>\n",
       "      <th>count</th>\n",
       "      <td>10000.00</td>\n",
       "      <td>10000.00</td>\n",
       "      <td>10000.0</td>\n",
       "      <td>10000.00</td>\n",
       "      <td>10000.00</td>\n",
       "      <td>10000.00</td>\n",
       "      <td>10000.00</td>\n",
       "      <td>10000.00</td>\n",
       "      <td>10000.0</td>\n",
       "      <td>10000.0</td>\n",
       "      <td>10000.00</td>\n",
       "      <td>10000.00</td>\n",
       "      <td>10000.00</td>\n",
       "      <td>10000.0</td>\n",
       "      <td>10000.00</td>\n",
       "      <td>10000.00</td>\n",
       "    </tr>\n",
       "    <tr>\n",
       "      <th>mean</th>\n",
       "      <td>50.36</td>\n",
       "      <td>0.51</td>\n",
       "      <td>0.5</td>\n",
       "      <td>50.28</td>\n",
       "      <td>50225.49</td>\n",
       "      <td>5.51</td>\n",
       "      <td>5.52</td>\n",
       "      <td>2005.49</td>\n",
       "      <td>0.5</td>\n",
       "      <td>0.5</td>\n",
       "      <td>5033.10</td>\n",
       "      <td>5028.01</td>\n",
       "      <td>553.12</td>\n",
       "      <td>0.5</td>\n",
       "      <td>4.99</td>\n",
       "      <td>4.62</td>\n",
       "    </tr>\n",
       "    <tr>\n",
       "      <th>std</th>\n",
       "      <td>28.82</td>\n",
       "      <td>0.50</td>\n",
       "      <td>0.5</td>\n",
       "      <td>28.89</td>\n",
       "      <td>29006.68</td>\n",
       "      <td>2.87</td>\n",
       "      <td>2.86</td>\n",
       "      <td>9.31</td>\n",
       "      <td>0.5</td>\n",
       "      <td>0.5</td>\n",
       "      <td>2876.73</td>\n",
       "      <td>2894.33</td>\n",
       "      <td>262.05</td>\n",
       "      <td>0.5</td>\n",
       "      <td>3.18</td>\n",
       "      <td>0.02</td>\n",
       "    </tr>\n",
       "    <tr>\n",
       "      <th>min</th>\n",
       "      <td>1.00</td>\n",
       "      <td>0.00</td>\n",
       "      <td>0.0</td>\n",
       "      <td>1.00</td>\n",
       "      <td>3.00</td>\n",
       "      <td>1.00</td>\n",
       "      <td>1.00</td>\n",
       "      <td>1990.00</td>\n",
       "      <td>0.0</td>\n",
       "      <td>0.0</td>\n",
       "      <td>0.00</td>\n",
       "      <td>1.00</td>\n",
       "      <td>100.00</td>\n",
       "      <td>0.0</td>\n",
       "      <td>0.00</td>\n",
       "      <td>4.62</td>\n",
       "    </tr>\n",
       "    <tr>\n",
       "      <th>25%</th>\n",
       "      <td>25.00</td>\n",
       "      <td>0.00</td>\n",
       "      <td>0.0</td>\n",
       "      <td>25.00</td>\n",
       "      <td>24693.75</td>\n",
       "      <td>3.00</td>\n",
       "      <td>3.00</td>\n",
       "      <td>1997.00</td>\n",
       "      <td>0.0</td>\n",
       "      <td>0.0</td>\n",
       "      <td>2559.75</td>\n",
       "      <td>2512.00</td>\n",
       "      <td>327.75</td>\n",
       "      <td>0.0</td>\n",
       "      <td>2.00</td>\n",
       "      <td>4.62</td>\n",
       "    </tr>\n",
       "    <tr>\n",
       "      <th>50%</th>\n",
       "      <td>50.00</td>\n",
       "      <td>1.00</td>\n",
       "      <td>0.0</td>\n",
       "      <td>50.00</td>\n",
       "      <td>50693.00</td>\n",
       "      <td>5.00</td>\n",
       "      <td>5.00</td>\n",
       "      <td>2005.50</td>\n",
       "      <td>0.0</td>\n",
       "      <td>0.0</td>\n",
       "      <td>5092.50</td>\n",
       "      <td>5045.00</td>\n",
       "      <td>554.00</td>\n",
       "      <td>1.0</td>\n",
       "      <td>5.00</td>\n",
       "      <td>4.62</td>\n",
       "    </tr>\n",
       "    <tr>\n",
       "      <th>75%</th>\n",
       "      <td>75.00</td>\n",
       "      <td>1.00</td>\n",
       "      <td>1.0</td>\n",
       "      <td>76.00</td>\n",
       "      <td>75683.25</td>\n",
       "      <td>8.00</td>\n",
       "      <td>8.00</td>\n",
       "      <td>2014.00</td>\n",
       "      <td>1.0</td>\n",
       "      <td>1.0</td>\n",
       "      <td>7511.25</td>\n",
       "      <td>7540.50</td>\n",
       "      <td>777.25</td>\n",
       "      <td>1.0</td>\n",
       "      <td>8.00</td>\n",
       "      <td>4.62</td>\n",
       "    </tr>\n",
       "    <tr>\n",
       "      <th>max</th>\n",
       "      <td>100.00</td>\n",
       "      <td>1.00</td>\n",
       "      <td>1.0</td>\n",
       "      <td>100.00</td>\n",
       "      <td>99953.00</td>\n",
       "      <td>10.00</td>\n",
       "      <td>10.00</td>\n",
       "      <td>2021.00</td>\n",
       "      <td>1.0</td>\n",
       "      <td>1.0</td>\n",
       "      <td>10000.00</td>\n",
       "      <td>10000.00</td>\n",
       "      <td>1000.00</td>\n",
       "      <td>1.0</td>\n",
       "      <td>10.00</td>\n",
       "      <td>5.09</td>\n",
       "    </tr>\n",
       "  </tbody>\n",
       "</table>\n",
       "</div>"
      ],
      "text/plain": [
       "       numberOfRooms   hasYard  hasPool    floors  cityCode  cityPartRange  \\\n",
       "count       10000.00  10000.00  10000.0  10000.00  10000.00       10000.00   \n",
       "mean           50.36      0.51      0.5     50.28  50225.49           5.51   \n",
       "std            28.82      0.50      0.5     28.89  29006.68           2.87   \n",
       "min             1.00      0.00      0.0      1.00      3.00           1.00   \n",
       "25%            25.00      0.00      0.0     25.00  24693.75           3.00   \n",
       "50%            50.00      1.00      0.0     50.00  50693.00           5.00   \n",
       "75%            75.00      1.00      1.0     76.00  75683.25           8.00   \n",
       "max           100.00      1.00      1.0    100.00  99953.00          10.00   \n",
       "\n",
       "       numPrevOwners      made  isNewBuilt  hasStormProtector  basement  \\\n",
       "count       10000.00  10000.00     10000.0            10000.0  10000.00   \n",
       "mean            5.52   2005.49         0.5                0.5   5033.10   \n",
       "std             2.86      9.31         0.5                0.5   2876.73   \n",
       "min             1.00   1990.00         0.0                0.0      0.00   \n",
       "25%             3.00   1997.00         0.0                0.0   2559.75   \n",
       "50%             5.00   2005.50         0.0                0.0   5092.50   \n",
       "75%             8.00   2014.00         1.0                1.0   7511.25   \n",
       "max            10.00   2021.00         1.0                1.0  10000.00   \n",
       "\n",
       "          attic    garage  hasStorageRoom  hasGuestRoom  log_pricePerM2  \n",
       "count  10000.00  10000.00         10000.0      10000.00        10000.00  \n",
       "mean    5028.01    553.12             0.5          4.99            4.62  \n",
       "std     2894.33    262.05             0.5          3.18            0.02  \n",
       "min        1.00    100.00             0.0          0.00            4.62  \n",
       "25%     2512.00    327.75             0.0          2.00            4.62  \n",
       "50%     5045.00    554.00             1.0          5.00            4.62  \n",
       "75%     7540.50    777.25             1.0          8.00            4.62  \n",
       "max    10000.00   1000.00             1.0         10.00            5.09  "
      ]
     },
     "execution_count": 4,
     "metadata": {},
     "output_type": "execute_result"
    }
   ],
   "source": [
    "# Базовая статистика данных\n",
    "# describe(): генерирует описательную статистику для числовых колонок\n",
    "# round(2): округляет значения до 2 десятичных знаков\n",
    "print(\"\\nСтатистическое описание данных:\")\n",
    "df.describe().round(2)"
   ]
  },
  {
   "cell_type": "code",
   "execution_count": 5,
   "id": "7041d25c",
   "metadata": {},
   "outputs": [
    {
     "data": {
      "application/vnd.plotly.v1+json": {
       "config": {
        "plotlyServerURL": "https://plot.ly"
       },
       "data": [
        {
         "bingroup": "x",
         "hovertemplate": "цена м.кв=%{x}<br>count=%{y}<extra></extra>",
         "legendgroup": "",
         "marker": {
          "color": "#636efa",
          "pattern": {
           "shape": ""
          }
         },
         "name": "",
         "nbinsx": 30,
         "orientation": "v",
         "showlegend": false,
         "type": "histogram",
         "x": {
          "bdata": "lMmYG8t2EkDCwbym/3YSQEOzdHaCdhJAke9HVy92EkBaVjKaoXcSQA5tB6kBdxJAtrchjEt3EkBNrbSjWHYSQA3pGJg/dhJAm7OzA3h2EkB2WsIGOHoSQAyg45RvdhJAR9uX4+92EkBwjTukN38SQGB7IXYcdxJAI3rfWQ93EkBkJvHIgHYSQEiQsLiodhJAnkyMSvV4EkBSntWC73cSQIh4eoDjeBJA84op54t2EkClG9oCi3cSQNNLs9UpdxJA2q3+Ddd4EkAqfRxKcHcSQPELl0g9dhJAt+9ZgNB+EkBlq5o6nXoSQDfAZITPdxJAV6Hx72x5EkBw/+QVLncSQIIvFq7SeRJAgBoduu52EkA0keUDhXYSQBl/EQQDeBJAlWfenoN3EkC8pre+8nYSQNbXZwWkfBJACeW13YN2EkAaMQTLTXcSQFWg7+SKdxJAXRbUf3J2EkAm3WOo+XYSQGOJ3dmLdhJA9+6LDzp2EkBHKN6DuXcSQEbr4vKudhJAZU8veWOHEkBsf6y/o3YSQPC/YpSIdxJAFawLmVZ4EkAQ/XfTYnYSQDgrXfWrdxJAFC4wCbt3EkCy15mTgHcSQHbaa0aefRJAN7xt7353EkB9VbDlNXYSQL0IxyY9dhJA+Mv3lG53EkBWKMwjv3YSQEkArJQieBJA3PjjvNB2EkBohc0UvXYSQJFqsBTDdxJAmLhkNed2EkB9sm2uxJ8SQG8WjqNNdhJAtbIkdHN7EkCSvX9b6HYSQFrWUsKJdhJARdLbA5h2EkCMaoUJf3YSQO9UOn7bdhJAfrsQuCh3EkCIOHI/DXcSQJR8OXQOdhJAFY8c97Z2EkBrC9kg83YSQMbo45B8dhJATnaUFi13EkDBie/z7nkSQPj2IxBidxJAW/kFI7t2EkDAOW2QC3kSQKfnEWefdhJAD4Tc95N3EkDfGHfLq3cSQJYDhbjQrRJAg2V5jZ+DEkBlxWLeGHgSQMEk5HvmdhJAnIgeu3B2EkBXZzlXhnYSQLBfF38sdxJA+7R9gUR3EkAq5phjdnYSQPqKQsjhdhJAcoqpp1p2EkABuJjRV3YSQF3AF3QIdhJADOZ1kPd3EkDCiQykBHgSQPDxrxIdfhJAsigA+1h3EkCzAUAQAXkSQL8cH+GzdhJAlHOYhZt3EkBqlLj6ungSQFxGX6agdhJAwpv94aF3EkD5LlP5E3cSQCeYZJbxdhJAzWVfy1F3EkBe9DO3QncSQIfRMe5FdxJAicxlIVN3EkAAEMA0t3cSQPGdmMMXdxJA8xye4nB2EkBSz7VEOnsSQMct7gtHdxJANszflcR2EkARH9MVqnYSQK0qfduwdhJA61aI8694EkAUYvsNhngSQH3UWgFUdhJA5RACfPJ4EkAvve7V8HcSQB0nQn7jdhJAos0NEWJ2EkDggXvQLn4SQPxLS0dvfhJAvAqikJx2EkDUVVFHb3YSQMznm4kmdxJAPVmtehd3EkCzXwpPUXcSQC+iX1ZtdxJAX2yb0Wl2EkAGjWub+XgSQBMhdq1fdxJA4Spdu893EkC3d4YnWXgSQLCgNpsneBJA2ANvRU92EkABGnAecHgSQIVmAe9cdxJAgV0JoXN2EkDd9isj5XcSQLsP/mzOdxJAaMqjQGR2EkAkxhIc0XYSQOeVUMxTdxJA9rxF3jN3EkD3Hm3UP3oSQI78eRErdhJAyj3Qh4t6EkAgH9enoXcSQKFwxLXWexJATaFFFP92EkAu8Iqz4XcSQPuEeqwUeBJA3UFrtVZ+EkBtLBOpm3YSQHaYo1I6dhJAFqSUd412EkBBwbE5H3gSQHLhxepHdhJAyhLblwl3EkC38DyY7XkSQMbn1DjZdhJAymiZUg13EkCu/IULancSQLQBrkfFfBJArdZ0q2t3EkDSog77fXYSQOieAw+CdhJAcjOsvL92EkB1/ovTtHYSQLJ0FylkdxJA7DJDV1t2EkCwSXtCg3cSQGJ/df7zeBJAVxM764R2EkC8nHDwRnoSQFdqElkiphJA8Zo3h1d4EkCAfe+JrXcSQHKDQyoTdxJAMa8/P4F2EkCKUkXaCXYSQBJFkYhndhJAF3HpAOZ2EkCui5BeTHcSQDDZRvY2dxJA51IMfnp2EkBeOs17MHcSQLWscOSEexJAfaCpWdd3EkCQ7wHPcHYSQNekhV1LdhJAwDZAkBZ3EkBBu9H3lXsSQCXRFMoCdhJAfG7Xx/h2EkAj19KnTXsSQDEuHGTOdhJApaTuJiV4EkCp6wewU78SQL9g14pAdhJALTeAp1V7EkBY9i7JIYASQAMwowDmdxJAZKgk4yh2EkAJVa43SnYSQBfp7f4fdxJAZXvUEyZ9EkDbG3Hrg3cSQIroWvyTdhJA3ECjkumAEkDaCRCGA3kSQOKciNo7dhJAE2OcQpN2EkD22vlSFnYSQCxReGYunBJA0/QQ/lN3EkBs90vx1HYSQLovbZ0ydhJAODx2wRF2EkCx6HU1PXYSQOH8gEJfdxJAXLxwT5l2EkD+HfZzLnoSQIUKPeu0dhJA8fxC+pmdEkADaHSAcnYSQHlkSnHmeRJAjdFi8i13EkD/ellE7HYSQEynhH8ddhJAbqp85qN2EkDkyzbsJHYSQEkVpgu6dxJACjuPd9F3EkA1gypsU3gSQGG6WJPkeBJAHgMIIi52EkCqvHjqD3cSQIEPE0htdhJANB1KYlR4EkAcMN+5kHoSQHjwP8HyfBJACoylvnt3EkBDo1bL4nYSQA3kewuTdhJAsf0Cmtx9EkB2hasBX3cSQPc+kAcpdxJAP2o0baJ5EkCmF/G/xXYSQL3zo4T3dRJAinaRovF3EkCDe9XBK3YSQFQdvCGIdhJA/nZWebR3EkD8nu5so3YSQLlm61gkgxJAfncoLER5EkD+NSpfCncSQBFd6dwkeRJAb4fHtjR8EkBOuO/T2HgSQFBBjoAZehJAKWjxPzJ2EkClgTLMuHcSQEeRKa4tdhJAVZwo8Vd2EkCPlhUz1HYSQDk1XoU1dhJAccsEVeN3EkBERrdgV8ESQKlC0L+RdxJAo8dQzGR4EkCovpUYnHYSQO/WFzLLeRJAdcEuq157EkAxDW3NH3YSQJsx3Yb3dxJAyCZHdWZ2EkBEUTuRIpcSQKyVHLRadhJAmqdbLHp2EkAzSCuioXYSQKR8QkWYdxJAr3ewUbJ2EkANLwS8/nYSQEvLRCtQdhJAuB/Erqt2EkDFMa3Yi3gSQJj8pTqedxJA7RQG1q14EkACyGlA3oYSQBE2VSZpdxJACKVlAZt7EkCC4sYNynYSQP5UQLoVdhJAgk+vBZuAEkCf/yjXUHgSQOyoKhCfdhJAcFPwMhd2EkA5vrebPHwSQPOdK24eeBJAtkZQN9F2EkBpaJnzNXoSQNtX8lkDfhJAzFv4KjmIEkDIrNHaK3cSQF86e30udhJAOL+KZMR7EkC94vfqYXgSQFrwkpVjdhJADG8JGKN5EkBlUXLon4ISQMYJR0URdxJAdCYA38x2EkBZZTlzcngSQLE5erG0dhJA4kgiUq2yEkCAgh1/KXcSQBsES8NydxJAxKVHNsx2EkA9sjrCuXcSQF8bgo+4dxJAfBptRpZ2EkAHuoa773YSQDGMEAhPdxJAjAcjNCt4EkCEnIXVVncSQCaLJsdJeBJARDUmoG52EkCho/YHT3cSQHfZFljvdxJAH/KwzWt5EkCnsR1QzXYSQPeNzQkDeRJAYzcIlgF3EkCuEJg5kXoSQPprTnOFeBJAXwxK41ZYFECnjjD2AHkSQKXqhi+DRhNAOsPNdEB3EkAmHbFfX3cSQBOc0kM0dxJAmtYrx7R2EkBoUKO283YSQPd19UA3fhJAddpgWSB7EkAVPiCh4nYSQFMoVgyQdxJAdnJYqut4EkBUWYN4DncSQPHuuIJZeBJAPIplLul2EkAjF4FSWnYSQDnAb0F9dhJA3iB87gN3EkDDLdBSfHcSQEAXpZqWdhJAX331CZl2EkCVm2vGoncSQMLt1n6CeBJAnIgAXFd6EkDZZuY5V5QSQPstOetidxJAJnYQnpt2EkA/bTKMJHYSQPMCqumKmBJAGI5CKbd2EkDmU7gex3YSQGt+c2O7dhJAdta/Fn52EkAJqjIZSHYSQPFH7G5UdxJAYSIFqEd2EkBy2ZExQnkSQKx2xjO2exJAE4BRKJyHEkCdQdesIHcSQP0Z4d9TdhJA87RO08B2EkBEXChMzngSQGlZM9zbehJA/seelzB+EkBDACdM9XoSQMa4upnkgBJA35hKySR3EkDS6jnJCnwSQA5gos+IdhJAYHnXKHx2EkBjrUG+z3YSQKxeUhtCdxJAJbU/zgB6EkDzMUWNRXYSQJWbBidadhJAVw+nEEZ2EkAoJXLX0nsSQM72LPsvdhJA3rqqciiAEkCS6FXoYXgSQAgMWwtPdhJAM2OypEp6EkBfdRwhA3cSQNfxPKHBdhJApLSilKJ9EkBXVYyEaXgSQHrDYYFMdxJA3g1ty/h+EkAYC5s7Y3wSQKLExDf8dRJAljFoEut2EkAkwrxIfHsSQOycSausdhJAl9dBjXl9EkBb2+nlAHwSQINdO1r2eBJAYDP5Owh2EkCdl1yymncSQH50aH6aeBJA95iWkrJ3EkBGYbbJln8SQA3h9faydhJAbFEfxXx2EkDP0jLoN3cSQGT8xQa7dxJALpR0OAt4EkCf0kVgaHkSQNyL3goddxJA/KxjQm14EkDQhGsErXoSQMEmUUONdxJA7uw2T3J2EkDaVXzvUncSQJHVt4X6RxNApBIH8v15EkBjXlFy7nkSQFegDxeYdxJAX++QlUd2EkAxF/CFZnkSQKL6qvtjdxJAfq7ABI2TEkC3ncANYHYSQHXxnvQZeRJAC649GMJ3EkCrBe3/ZX8SQCvNyKe9dhJATRiHx1V2EkCg1yAvs3YSQAh86rC5dhJAP438fqp2EkAv0DXOzZ4SQC8mA1rTdhJA3ED43ZB2EkD0crhqLXYSQIhie/MbdxJAoUEzQ0B3EkCRDTxVe3YSQHbAYuaBdhJAv4yZ9QV2EkBy2VblCHkSQN2oVhO4dhJASGVY6pl2EkBe0lyqpHcSQK/QhacodxJA2wFrAeB2EkBTyQ7DBHcSQE3N7LpxdhJAX8+k7El2EkAC+WwAdocSQAcVI77OdxJAlzBjCZF3EkASjvh5YngSQEavr7nFdhJAkAthvxZ3EkDR/nHs/nYSQPE0jtJRdxJAmEfHVD53EkDUHhpmt3kSQHCYmL2+dhJAqcAhpQd4EkBKSQUPm3YSQMuWkBt7dhJAYdtAqXB3EkAkoQ+dtHcSQBPIy9cCeRJA00Zo9rd2EkA+O/HmSHYSQAg78X4sfxJAMwaAX5l2EkASpKUyG3cSQKrN5vhjdxJAHpYkZFx2EkDwUo0MPngSQBDwYi4BdxJAVDPPuNN6EkBxBzC5WnYSQFlXNF0ReBJApghrwU12EkA4BgAvInYSQPIW7iMFdhJAmLummIF2EkDhtPsINHgSQHVyfm5bdhJASXK0YK13EkDPHZ+Gi3YSQH1FYwK5dhJAXXiVaL12EkB9XCK9HXcSQPSyWFvAdhJAL10Wi0N3EkCij8mD0HYSQKYTLfijhRJA5+SJY8l5EkDWQHy6yXkSQF5Gyn51dxJAH4oGNRN2EkCmrVmGdHcSQODbPA/fdhJAchX/LPV4EkAW36e/cXYSQOqvVMwRdhJAoGawyfx2EkAy9MfQanYSQFTErb/4dxJA85A0rwZ2EkADM/xXcnoSQChnJb93dxJAM4FGzq52EkDhmMoiuHYSQEu1B7oYdxJAXk+/JRF4EkBjpYQsL3YSQC29CQ4UdhJAQ/O4YEF6EkDN2gRJznYSQEy7vjE9dhJAlBhodtN4EkBLI9dRCnYSQMO0l9yMdxJADxbKTql6EkAhSwzyb3YSQKf5oQRrdhJAZ7+C5Od9EkDz+JQ/iHwSQKZ7oshDdxJAScb7s5Z2EkCulPQSZHYSQE2sFjlNdxJAJCS7bcB2EkDhERu16nYSQBU3BVSmdhJAjTnXKX52EkCjQDHfencSQNALxfZndhJAdlWS8dJ2EkCqQ4Gmg3wSQB5lw/e4dxJAnh9RAzyWEkC/Acy8YXYSQL76MhltdxJAa6FZERR3EkCjJ82/i3oSQDhXtm2aLhNASFTzrpJ7EkDktGZbTXYSQEkzspI2dxJAe0/eOlR2EkBKMrGjYHYSQCz7sG+1dhJAjOs39wh3EkD4l0Obd30SQMy5QARydxJAqN2LJNp2EkDWh84tdn0SQNHunU8TeBJAqYzhdE52EkCp/ljVongSQIo28XS1dhJAQK/CBGR2EkA0XAjb23YSQBcwknJveBJAEAWVvtF4EkCLOBWI2nYSQLbN77H0dhJAowEke+B2EkBkpe2EjHYSQEdk4YfQdhJAW8Uqv8B2EkC5wlw13HYSQFfIN2akdxJAJ0O+0Nh2EkCTur5RZJ4SQB9j7jNNfRJAEBP3ao2oEkAtsiiVdnYSQAP88e2WfBJAluQuTWJ2EkACMmVvDHYSQMaY8R3WGxNA06sQeyV6EkBxvJLGRXcSQMsBo7g5dxJASRWsmGd2EkCTsR9Y1XYSQPzg9iDXdhJAgJ1XrkN4EkD650l3L3YSQKOsLiJ6dhJAVO9BTah3EkCzDKhTs3YSQHIyMbeZdhJAs66tYqd4EkCyRWSLsHYSQJ4ZjxDEdhJAxbe8WU52EkDp0Lt453cSQE374hS3dhJAUfYfUi92EkCTeEfSOXYSQC6jZlBsdhJATcUL4Jl2EkDVQ6YTPXYSQIWsfEoNdhJAnQ3Nt7d8EkAmGCtFRHYSQD/N9dYZfBJABaq+FBB3EkBUs/g60XoSQOU7jIdcdhJAE+Bt6mZ2EkBCQjozZXgSQKPXq5dudhJAj5KGm7h4EkAS4xOy23sSQFkqWAmpdxJAOvPDJ6/yEkDByK41rHgSQKDJkBY2eRJALBk9+2h4EkAENEwHSnYSQDMlLioUdxJAU6wF4jx3EkBuAzRF2nYSQFWkhd97eRJAExjTccd2EkD3UUlzLXYSQDv+GayYdhJAZwXd9OaBEkDtQ9+hx3YSQA5phwEQdhJA88tUuY12EkCZsQjtdngSQMd6hHxzdhJALb5Ikax5EkA84Hazq3YSQNN4d4cUhBJAXpoqgQ14EkARgfyrpXYSQG9xaD4tdxJAQWKrNtB2EkCOlZ3enXYSQGDP7jSJdxJAV8P/BL15EkC3SNOv1HcSQPDXF5e7fRJA76Rwk1N/EkD14s6yfnYSQM6ILLWtdhJATaZZFyF3EkCeda+om3gSQCbzMbt9fBJAfqTojat2EkDGHLk7VYESQCMw+iDOdhJA7pnzcJB2EkCTMXrnkHYSQHa2rI9ddhJAHy5v0aJ2EkBaNUckcXYSQCEYbahPdxJAUUT/NmB9EkCJs/EIrXYSQB+AH1jBdxJA/0i+R3t7EkB7drXupnkSQNyDuw/1dxJAevAIlgF4EkDXR97NNX4SQHJ/UnYkdxJAe3Dn9o54EkBwJcC6znYSQMTBR6IEeRJAZfKEAEl8EkCMnRkkDXYSQBQ/SMjRdxJAwCJ/EHh4EkDO5O7C93YSQLL6/XGqeRJAr0MTg893EkAcRiEV2HYSQMG5tanSdxJArxxdt2V3EkBMc8ct5XYSQEXyzofAeBJA66Ztx0V2EkDs2JqO8XYSQCRoLlEvdxJApQOPOw52EkDG9QxFMHcSQA/MC1NtehJA+MJi5sd2EkDRJhXsJncSQC8kIARydhJAIpopA3J3EkB9ihcDanYSQFFyMnDVeBJA8WIU9E53EkBt/V6jy4wSQMgTPfUEdxJASF6M++l2EkCxB5iC1XYSQF9M4tLbdhJAa6IFxw53EkBOt1H6nXYSQOjFuSz4dRJAMtd8IHR3EkCtM65mooASQOUGSrGtdxJApjMr6pR2EkBCgpsK+XUSQCRTOa7LfRJAuOqddSp4EkCduNbL+XcSQDToYohJeBJAN/UYEaN3EkBBVSt1inYSQA12XLucdhJA+N+xcGZ5EkCQvesJxp4SQGO8OtjTdhJA/4poch12EkC9Q8m8bXYSQB6esdwLdhJACN9pqw92EkBYzlUGt3YSQI+ZQqareBJAR4+GMYeBEkAsy0jIKHgSQGwcHdVZdhJAT556iQ13EkCCXax1aHcSQLMjBCcUdxJArVlM4z53EkBqv55vqXcSQDKVFPIjdhJA02gyuyN2EkDf0ougU3cSQE91EHBweRJAXX0iU212EkD2UpCzjXYSQOSr37SYeBJAGVe9crR2EkBgTih5YYMSQCyO7g1ieBJAlCrZlh12EkAMkAWxNYESQIX8yae+dhJAar1CEtJ+EkBhX9ah/nsSQGTjsodXgBJA9V/hawZ2EkAc4PBx93YSQAVDSq+EdhJADNiqJeh3EkBoEKcFtHYSQBRlH2xidxJAKU8pxDW2EkAm8h8pX3oSQBb2/fVWeRJA1bG3dhV3EkAt5zqGunYSQAqFW4lpdxJAa59k0Eh3EkBr/Dxi/XcSQKGZK7cFeBJAk+TG5NJ3EkCpzw1MnHYSQFrymW9UexJALBmuaRR5EkD5IVKbAnYSQOtnCu32dhJA8UC/WXx2EkAkB1w1ancSQOY+/P7PeBJAEcl9NIp2EkAiAaN8jn4SQAgYOj5tdhJAReJSOcl2EkAHw7XeTHgSQMGto32+dxJAyCNFLEJ2EkCoMoGClXcSQFsIz3GwdxJAIJhFzVOHEkASL68lqXYSQHxlfJzDhBJAu4q4Vg13EkA3tMMYinYSQJT+qgqueRJAshN6u3d4EkDxtqotqncSQLjBf8oYdhJAViGqFFB2EkBfGbIls3cSQOXkR5kfdhJAcWXV1At3EkAfilF8kncSQOJOT1I6fBJAhPwVBiN4EkCVOhYlb3YSQHtXOPdRdxJA2S6mI354EkB9ZOWKX3cSQD8E7WmIehJAgVfR3Yl2EkDNiR9qFHcSQA/IG/MxdhJAiEAWplx2EkB4qSmVOHYSQOLlVY13dhJA5HB1BNZ2EkDpOEZyxnwSQDf1HCu+eBJAOHTFZwZ2EkCTQd5o9nUSQPNHpI8DdxJAQpNFxo52EkAxQk4NpnYSQNno/9tRdxJATcTLzrp3EkCjQI7ZSnkSQA0l4GSZdhJAFOA3P6Z8EkDPyNNKrHcSQFVtGs3niRJA8PIND2t2EkCRX+EYkXYSQFyZynDNeBJAcZmTLMx2EkB/bGjaeXgSQFBRJIL8dRJAcU4wjhF2EkCkC5aKMnwSQMVBnyaCdhJACyxBlzN2EkBME4ZdhnYSQOK3JM7ZdhJAvoHFDJF4EkAOcFh3B30SQAad3kcRdxJA4lG3hgCEEkAvVsHFEnYSQG74G+DRfRJAM4bVL8F2EkAGHXZ66HYSQE/hoCUjdxJAnoDpRUV2EkDhdvmGHHcSQFZMEyGFeBJAsfwMztB2EkBaJBbgG3gSQC8NNnb/dxJAyufEiH55EkABmcDsa3kSQIts0IAbeBJAahVgOHJ2EkBy5Ok1HngSQHftXACbdxJAM/stKbt5EkDrh/cHbnoSQMRCmJf2dxJAuKRAnJB2EkABPxGSi3YSQIxaX2zseBJAwaJAaEx3EkCNS57adX8SQB0vQdFguhJAJ0XJzFF3EkBKq5G0onYSQJM2nLjjdhJAXJ4QCfN2EkBxhzO/L3YSQGAf2icSehJABVK1/I93EkAg6vP+b3YSQC/5QvhXdhJA1gqma+d3EkBORgW9n3YSQGTkBNRxdhJAuGLamV92EkD3hSpMonYSQJuDC9GKdhJAXKWKAqF3EkA8VXfJ0nYSQFQyI5HcdxJAiWY+mtp2EkD/ZPfDXnYSQJiAMVBSdhJAvzn1//93EkC0nIWofHgSQCNiB1AkdxJAMbbWnUd6EkA+cfPvaHgSQAqCH65UmRJAyeiiz7t2EkAlyEJwk3YSQPEtCE1UdxJAnJbj/gWPEkBqHdmKXXYSQKr22rEUjRJAPgFKV5N2EkC0+OhatHcSQEkSrCAkdhJAz30h8+52EkDM6qbMn3kSQP1ES7sUdxJA5IJgy2x2EkDxszCTfXsSQCaFLsHerhJApE/thIV3EkDJhX5Me3YSQBBLIp0NdxJAoNHM/n14EkCb0gqHb3kSQNncIU+EfxJAvifH//p2EkAuUfHvBXoSQO+vk2YzdhJAmwPEyaR3EkAE5PFJJHcSQB32/E5kdxJA+0RCXnR2EkB0MzMt0X8SQLI5xj6cdhJA8azb5E13EkCz50t+EngSQPbrSRTcdhJAnFi6K3h2EkChcvpk63cSQF1hB1zKdhJAoJ1IUYh2EkCGF1Ow2nYSQIJb8Zp1dhJA4r3Q5VB2EkC2yBXUKXYSQEcyH8UodhJAgY3gh2N2EkBpWVQw5nYSQNEhkA3TexJAK8j5WOh4EkBkc5kobXYSQBOLWg43ehJAbYE6j7N2EkAUJmIv2XYSQB2PiR2UexJA/5bnNPV2EkBvjeOdBnYSQB3bBoFleBJAy5mIGUV2EkDsmAau83YSQI/75+ImdhJAVIf8nzR2EkCDwIVAiHYSQDu/Z7+XdhJA8smes/11EkD0kgd0/XYSQFt6STuFdhJAfyVUCD12EkAWQlYd03cSQP4tLNtzdxJAXXSJTSt7EkDRneGidpYSQGU+MX4seRJAIb6KEl92EkBtp9uGinYSQA/7JnhHdxJAoyrqafN2EkA4GYCnonYSQF3hj9WudhJAo2zNm+J2EkAbOK7zDoYSQAyz+WA3dxJALqS/qWh3EkAz0fDAHXgSQDK6F0UhdxJADXUq5t54EkDrf3odg3YSQLeSH/IbdhJAkNW6+Xl2EkAIZw4Ip3kSQNb7pdpneBJApuL0mgh2EkDub7LWQHYSQABMvOwDehJASjkCdWB4EkAdAeWOrnwSQKSIvUfrgBJANYwZh+J3EkAmPSzw6HYSQLuTOWQUdxJAw2qquDZ4EkC4HyQHmHYSQDyfdWSEdhJAWLTPM4x2EkApXlrg+XYSQKJWEPIUdxJAMZ4lD9p2EkClLf1aCHYSQNmFA9BQdxJAGGGOL6d7EkA7pymlwHYSQKe2V5wFdhJAegX0iMp2EkDg9nfcQHcSQJWrMusndxJAkn8KnyV2EkA3E+zWuHcSQAD3woVWdxJAhmy+H7x2EkCVT47aB3cSQES/HIkXdhJABvCjMyl3EkAMeUK1mnYSQMMxoP9bdxJA3U2Ax/l2EkAxJsZhdnYSQKKXYHF1eBJAGco/DUl+EkBVIGL8unYSQG6MFpGLjxJAjwMaZE16EkDf/irYqYASQJUZN6+tdhJA1fdKfwN3EkBa15ymRoQSQG5jrmR+dhJA5ceRjpWQEkDeodCVtnYSQFnWPOsddxJAHA7gYbl2EkDpJK7Mo3YSQKwjlPKJehJAQ9kVeZt3EkBPbFkevngSQLtq6lDidhJA79x8Q4p3EkC6b5jyPHYSQFeGtfT+eRJAFc0QQeZ3EkB0Xm8ZOnYSQIQJmxajeRJArXM+dpJ2EkAaSxDSBJQSQGC49OitexJAMB3Hcgl+EkCzOIbPOXYSQMVgnhdheBJACvWs5e92EkAtMnSNy30SQJl/OvFqfRJAHltnJ3p2EkDCctJie3YSQGFaG83BdhJAxvtup5p2EkBMG5Y22XYSQC99AMTKeBJA/4W1+XR2EkDeoNfqcHYSQLjJIkh9dhJARP1es6t2EkCKEU7ZIpoSQP3HPp85dhJATiE4tqN3EkBMeQADaXYSQDZoBhEUdxJAXMcASQd3EkB+oRkOlnYSQE/HlBhXdhJAaeoPJ0/oEkByqlgeu3kSQP4GIaHBehJAOx4nWq12EkAiGwDLhnYSQOW/XaffeBJANefvgc52EkDq9D9BNHYSQFsXdzWaeBJAGUrRyVh3EkBze5p2A3cSQGjtErI4eBJA7nbYU153EkAnk8tzAXgSQFjB5qofeBJABtQoDbh5EkB3LuKpQHcSQDX8T6P0dhJA5XIv0hCTEkBc+oOlOXcSQHS24N9rdhJAmMgqExd4EkBS+hYwynYSQLRgQGxOdhJAIOMfwWp3EkBJxd2yRHcSQJBzQwA5dhJAdhJ0tN16EkDvIluGIHgSQGuZwWZqdhJARHcpakx3EkA7hfecLncSQFmqBjYvdxJAEVWjaJiWEkB7vDeyhncSQNlPt3gldhJAZAd0kWZ2EkBGo4UyPXoSQOxYTgXZdhJAnlg0kw12EkDooP5l7XYSQJZZipeedxJA6NbCfut6EkClc1UMj3gSQPlxdmvVdhJAXs1knU12EkCgB5ZzhHcSQL2MUBuDeBJAXZst0kV3EkDVMW1voXYSQNukhduzeBJAw6k7Rax6EkAGM5dG+HYSQNeri3MfhRJAz288fjB5EkAO5eEvX3kSQC7+Y0pbdxJA5b8NabV2EkBuzxdce3cSQHN/YAycdhJAOCYWRVp3EkAyHSfLHXcSQE3z/QwokhJAIh5cQQR3EkB5xVCeVXYSQC27ud5FdhJAL2EPnOV2EkAZrAjn2ncSQIa0bfoedxJAC54fnqR2EkD2G/vT0XYSQOs6/R3SdhJAnkbgyYZ2EkDJJcr8qIQSQBwgyDlLdhJAuQ8Fkcp3EkBMMpeDz3YSQFMO0H/veBJA2p+rGoZ3EkD+kcIORYISQB2a8umjdhJAQSn9/Fx2EkDNRsQNNHYSQBOAy6/CdxJA+6sYxeh2EkBHKjAx8nYSQKuHF66/gxJArBLiTWB2EkADgUtJknYSQA3C20nLdhJACi7A21F2EkDM6H2b/HwSQKkuWKZZeBJAcGMFJct2EkBZgyNhDHcSQBkaEpHedxJADfCgkuh5EkBeEoBXj3gSQCPT1FDLeBJApONS5PB2EkC7a/gt93cSQJ8faOfHdhJAUp1U9RF7EkDGoudYnHcSQEwDXL0JdxJAZifQLGR2EkA07KV1encSQO7cJZRedhJAdGf1JfF4EkA2zAU5b3cSQKN872f7dxJAJfh42UZ2EkBBWWkvfHYSQMcBO0fGgBJAt3TsNQl4EkBszCmVL3gSQI1FL+YOdhJAMgsVlHx3EkCwOn+sQncSQCf/6IT6dhJAZFyU70qHEkA3fJHif3gSQP8P03TEdxJAR5KKyMt2EkAEuckeC30SQIgmneDweBJAA/CaL1p4EkC/9ZYiZXYSQGdJO0ypdxJAWj7D4Yt2EkAiXrDbMXYSQK5fySaodhJAo4Isrwh4EkDDxRyML3cSQEF19aTzdxJAf6LbmOV4EkBKePVobHYSQFMBZng3dxJAFtnwx5l2EkBjnmLs4nYSQHVW2jZfdxJAeWHHEzJ2EkBt9kfjlnYSQEp/wt+GdhJAWwSS9Rl3EkC5ntrMvHcSQDsYpOSndxJAZyV46ct2EkDRJChHQncSQDwIpam/dhJAhKJzP2l2EkBpQ/qCenYSQMnmcQEsdxJABwaweMZ2EkCTi9o+SYASQD+ePxBIdhJAjYrbXu52EkAwV6Ta5HkSQMTGDy07dhJAIox5OmZ2EkA1DeI+fnYSQMFtKnFUdhJAY8Y5pmN4EkAwSLItTnkSQIAPYnQzdxJAaqmRyex2EkBC+9yOD3oSQAHn2LnFdhJAmuAksGV2EkB+6pxdLngSQGoG1GcHdxJA2gxw6RB3EkB5C1MyJHcSQDIjkvCxdhJANvr3Vvt2EkCgo+ih1nYSQFggnWiXdxJA//mNFbB3EkCPGHLGUXgSQJ1XGbikeRJAA2hLwCt2EkA4J8ebj3YSQMM8+ZT8dRJAM5KA5AR5EkDb00tFqIMSQEWOvOw3dhJAUoq/2Al7EkAb4JJ+6nYSQKnwZDqxdxJAorajT5Z3EkCOSO9DfX4SQJCsB05gdxJA0l4pBb92EkCRi91GcnYSQJXNV+HWdhJAqcI3O5l2EkCmDPIt8XYSQB7jVb6jdhJAZpEiJZB3EkAVujMkFHcSQDJQto+2dhJAA0CKsKTQEkBKLD+K93USQKKbTf7ZfRJA1G8IcoV4EkAgtYvrLHYSQOzSajxldhJAZtc2ywx4EkCs9XxCgncSQH16/3PgdhJArS17+zZ2EkD9e+8JZHcSQNmr87BEfRJA2E81Zqt2EkBtntE8a3YSQH/oyF3GdhJA2JIMPVp4EkAWggnx53wSQP9dyGsfeBJAVI1Mpqh2EkDLGLfPb3YSQAoJCTIPdhJAnNFDlBx3EkD0ifgKn3cSQP+X1Sp6eBJAGsXpN6d3EkB9OmGOv3YSQISKncL2dhJAXkWFxn52EkBhxL40tnYSQCnQVJ3/eBJAW7Vd/Ux/EkC8iM8Vw3gSQGTTL9WDdxJAxOoKD0p2EkCEp0l7KHgSQEnWq3/AehJA/vBQA6F2EkCzRC6IZXgSQFStMLN0dxJAnp+KmkN2EkD9YHlUi3YSQI3eNVg0dhJApDrXf152EkBXY+TorHgSQEiXSnKHpxJAcXjyrQN3EkD3PIu2+nYSQOdv3WcHgBJAeTlCVzN2EkA1f/sqaXYSQOPNtq4uiRJA8wIMT85+EkBvB2TIKnYSQDejwE64dhJA8JkFvCR3EkAmbqkD6HYSQBJo0q9ieRJAzOZ8R314EkCA0vzRjngSQExYdx+IoBJAtrXN/Ap2EkCzkcAsMXYSQD0riW5MdhJA4zvpDNN2EkB4k2ARqXwSQACEl/TCeBJAcH9qSsB2EkCLkbVR3XoSQLgrM+RLeBJALWWV2Zx5EkA5y6s6vHcSQGYgk13AdhJAzX4A0Wd2EkBs4bTzqXYSQOkCdfrydxJAuCyajjp2EkAfblZhd3wSQGfNOETOdxJArbil6Yt3EkA7TY9JfIkSQAPCWPNKdxJADCOvi8V4EkCHOAQHjHYSQBwMIOoadhJAot9SNAt2EkDXkEExjXwSQFu8GItbdxJAmL2Ryq12EkAw8e9qinsSQD3Mk1ssdhJAJX5UVqWAEkD2fE90IXcSQFaCVUmFkRJAU/ZrIHB2EkDbp+dGRXgSQHcs//k8dxJAyQzxikJ3EkA3yPMV5HcSQKyRweA5exJAbrj8agR3EkCLztviwHYSQJZDz1rLdxJAzUMsB1t2EkDEO1ADeXgSQMusowS3dxJAXy5rOxeAEkC5PdQI3XYSQNUmrVw+dxJAKP5IJmt3EkCxmQ0VPncSQNKRQKCOdxJAC8jAFA53EkC1eb3AcnYSQMoz1RladxJA4yhBYoh2EkANSLuBcHgSQJii3UgLdhJA38ECX/R2EkAFfx0zR3cSQHkQOM6tdhJA8AJhEXZ4EkD6JZ/OuXYSQGA+nwmTeRJArS5WtJJ6EkARkmDJv30SQNVEKyWUeBJAaoDQQcJ2EkCPHixHwn0SQBxYWwnBdhJAlzq2lAZ3EkC3SWvdDHcSQGQuJwgSghJA5ZRF6z13EkBWzMdG9nYSQKvEPGpipRJACtFdVHx2EkDHVeLLfXYSQMPHXbOwdhJAB2RDwld5EkBho181FHcSQJrz+GdneBJA12aHWOR2EkCzM1hfUHYSQOMAHKBldhJAW61o9TmREkBaAB4ZmHYSQNJxVvphdhJA01Q0In55EkCLADZDbX4SQLUEnLhWdxJAO8xoeFt4EkD6qu2hpJYSQNIyN+eIdhJA8rYs9bJ2EkDz6NHz2XYSQFcZXlLjdhJAJV8Gm3R2EkBNPqd5YnYSQEOETmsceRJAqZ0JHeJ2EkDAMyRwA3cSQMronv0ndhJACiDQBNB4EkBcBqOtO3YSQOjSi4PddhJAj+zP+B12EkAxvLNIF3gSQCLG6rladxJAcrtdUgB6EkAfMtCTgXcSQEelhDC2eRJAq5g8W/d2EkB61v/X83YSQPy0A4EweBJAtk8pMYB3EkAqbd1dCKASQHXEjcN0dxJAiMq4iLF2EkCLgvSnh3sSQJ8wG9UvdhJAcr73eg93EkDbRoaUSHYSQBY69gldgxJAhHPQDth3EkCfSUB4eYQSQMtBHCivdhJAkrSqd4V2EkCA9xI8snYSQJsFYYegdhJAcfUdwNF4EkBfLRWDnnYSQBduAy0sdxJA+4dl9Jx5EkBecUYFBngSQB6k80brdhJAmYOVIAl4EkADCroCDXgSQENJwnEGdhJA7Sjofzl8EkBWlTTTJ3YSQGAnPvczdhJAoEVd4pd2EkAbTjT8h3YSQHcj4D5ldxJADKPe7eh+EkAk6f4jxHYSQKniUtAgdxJAc2+TkQF4EkDXZuZLTHcSQOySaWNNdxJAwyaZxuR3EkAyALNqm34SQAS8A/NgdhJApcwi4p52EkAkdHChYHgSQHYQtq9LeBJAMwLJu2h3EkDkmAY9f3gSQOxhOb5mdhJAL2LXW8B2EkCsDiq86HYSQG9UXgPedhJAS0hzN6t3EkB4eqWDIngSQOw/UJOpdxJAhxSF6sJ+EkCgWZulJHYSQB8GCvGjdhJA6rkoA3F5EkCIZUnRknkSQFb1oBpIehJAvnFhcxd2EkCvy0LY23YSQBuOkC8VdxJArQibxI53EkAQsOkVkHYSQKTeh4xVeBJAxxCdW9J2EkBunDf5Y3YSQO9xUHCbdhJAzf0qD2t2EkBqyTt82XgSQM6kuOq+lBJAI4AFq7eDEkB59vYhrHYSQGNa5zo7dxJAsL8v6EN8EkAZO8s0pHcSQKHUSEwZeRJAdEmmHlB4EkDw0sZ/WHgSQDlZZ+ltdhJA62Y3Nt92EkC0BGfm1ncSQGZpovhedxJA9TfhQv51EkCinJpQZXYSQC5DJ77qexJAY1F4Jbl3EkCeYKg5k3YSQEG1Zp/DfBJASVpbTFF2EkDEaIe0RHYSQGE41zWr2RJAA3itWJ52EkCN6TPRkXcSQGQcRt+zeBJAGUwMhlJ2EkD3xOOvvXgSQL2j0U4WdxJAdK/22qR2EkBIBCW2x3YSQP8E6927dhJAbGZYnL70E0AAahAWinYSQGpXBT6WdhJAR82E9q98EkBf00kHZ3YSQGJIKnYylRJAkTzle4l3EkBpyA9j3XgSQLqtUpVNdxJA0jtZybB2EkBOFU7Bu3YSQMKsl7Q2dxJAL4B1Gi14EkBfclNlanYSQG/7JFPN5hJAXVgL9S93EkA2bCG5oXYSQMvWbvzXfBJAMMFE0st2EkC1CSztRHwSQKoZapigehJAH2SDUSuiEkBwACdHdXgSQAcXW2oudhJAECcLe298EkBCIDSn7nYSQPEEUumIdxJAdvWEdFN3EkDQ0sf1vnYSQMAT0/13dhJAyzxhiX94EkCZTUu8NYYSQELlY8bwgBJAdc3GcbN3EkBPE9marXgSQLSYSl9ddxJAG0txWbl2EkBygHb8NHcSQBNZN1NzdhJA4JnQhZZ6EkDW79rGRHgSQESoKwYedxJAfe8/gqR2EkCKWIJue3YSQDBg0m3ZeRJAzvqdIgJ5EkCG0tU4knYSQLscEGvLeBJAJoqwfNN3EkBzm1ETengSQD2y4z7zdxJAGlIvQyN2EkBd9OWTKngSQJaabGtpfhJAlnlaDKt3EkACbKHOeK8SQI5SuGoddxJAXayNl5J4EkA5scEl0HYSQGgtJ+VBdxJAllFNlV94EkBqhGUpjXcSQO7zlEUCdxJAnzqLILp5EkDD9yJM1HYSQA5JEjc3mhJAnJe7ZUt6EkC5ZSjkhXYSQK5cgoFfdhJAcAoBS097EkAs8CFAPHYSQM/GO+dEdxJA0ubdxt92EkBENvUlpncSQN8REQ1CdxJAzUHuxKx6EkDlpGScEXgSQB1Lo4h3eBJAqj6NIr53EkCRxu9ZOHYSQL5CfT6/dhJADn84b2F4EkCUsFe7FncSQFIS+eoneRJAoHf2M2l2EkCcqNdENXcSQClPwzD6dhJA0Z7zCeR2EkACnb/SHHYSQNTKO9jrdxJA5NixtIV3EkBcM9jclncSQPPUJMFxeBJAPVbmY3R3EkB1IGutTncSQFvZYJ0BeBJAFjqkBVN9EkDhbAbJkXgSQPzVG9NldhJAfKG7+nl2EkAKCX+8KXYSQLvmVwxWeRJANFoWj1d2EkAbbvxEkXYSQCThlyCddhJA9p/XNi96EkB3QMQ3BncSQJfeFOcsdhJAskFHBNSAEkALIU+DOnYSQOCmFu7DfxJAM9AKKDR2EkA8cVeoc3cSQHEb+offdhJAMXEwIuF3EkAgPCYqI3sSQAR7zR0eeRJAE0YZImJ2EkDJAm7Gf3cSQE94iyxAdhJA1wsO6VZ3EkBNVMnxvv0SQKZgd/SEdxJA4bRQJNl2EkDrwWYKu3gSQDNM9n6edhJAMs6tZ5Z3EkC4mukeN3cSQGuUQAIqdxJA8FaiFR92EkDUzmHsjXcSQPUtzLoGeBJAAjgFs7Z2EkBvp66cZHgSQLf2I+sodhJAqACPxEl2EkBOJmeTzYYSQBxmwZ9xeBJAmtdq7RR4EkCzJZIUnXgSQIILTJ1eeRJAt2zUbdp5EkB9Cs80PnYSQLKTiEQxdxJAFxnWUh13EkDtqoW2E3gSQL0UF1ZedxJAe7bBBpl2EkBr7AicdHcSQKiNPC4FdxJAENfDOumMEkDb2Ose13cSQNtvJC/NdhJA0vl3Gpt2EkClREiZlnYSQHVINH+fdhJAKHjSp4Z2EkDFa+b+Y3gSQGJgjhm0ehJAZMzjY/h6EkDGCm9kl3YSQHTrJIOqdhJA9plZDzh4EkBZoNB8l3YSQMjwznT1dxJA1LjCjHeBEkCqoUB0JHYSQBY+opZ5dhJAyIkBiAh5EkCNwujR/nYSQF/mO+KadxJA8unMeTx3EkB65QEOHnYSQCCeJg1keBJASsgvLzt/EkCP2ViomHYSQArItXKqdhJAAbWKtLl4EkDrZPxE+3YSQP9kdmaGdhJA1OplL1x2EkCSLLpE0nkSQIFhbPv9dxJAcIalz+d3EkCJRzkRgnYSQHxBft52dxJAeXlp5y52EkA2gTPgX3gSQNY87SsjhBJAnFkKod52EkA7iWxsBHcSQFQ0XI/IfBJAxI2KCSJ6EkAqPl3ryHYSQNp2CQ89dxJAN25uXDB3EkCqSt6Q9HYSQL33F2+mdhJA6lxLMZh2EkBf2ipFIngSQIhvBS61dxJAh24uy3B2EkBlUcanhXYSQC25GtGUdhJAtbE0qyt2EkCLuA4i4XYSQPQkXwxXdxJAflc1rXd9EkCCrxS0cXcSQF2qZtAadxJA99cvuiJ2EkAT1zOQQHcSQAkyi1ltdhJAvSwdV1V2EkCG0TCqaHgSQA5FSWlEeBJA4daX91l2EkA6N0d7PncSQCznsVmafxJAlhyYdYt2EkAqoWJC93YSQHr5lLQ+lBJAmpmliFh2EkBLsi54SXYSQFLMBoSlgRJAKMwlMpJ5EkA/IoWSYnYSQDcK1lh0dxJABPZi6U53EkByn77T03YSQJLgIp3kehJA0nuf6x93EkDmVooWAXkSQN5rp1j6dxJACtYyLYZ2EkC6WBvOfZ0SQHH2ZnYhdhJALq4Nt152EkBxiNMST3YSQAAAlriZdhJAIAPfsFp2EkDmLBzK05ESQJ9fNwuVdhJAY5XljPt5EkDL69gHancSQLrqj3bMdhJA5MOte8N2EkDPIxc88HYSQPiTYX5OfRJA3y7Vi/p+EkDPnL2+oHkSQFoF+rlJdhJA2bUOv0x2EkDT5T68THcSQEQq/PzKdhJAvgPzhyl7EkATVJBmaKESQG8K+JENdxJA0nEwOMB2EkD4AYWXtngSQGGXDA94dhJACRkMvWd2EkBHQr5KRnYSQIaSUPxEdhJAJhpl4aF4EkBq0pXeW3YSQBuNQTbPdhJAncy129t3EkDw21kUAXcSQIy9px7LdhJAXoirXuOLEkBXDfAgiHcSQEVERLwDhBJAn2J3Sjd2EkDTxrG8u3YSQMCjI8fodhJA0GY+XUN3EkCaKdyF/XUSQOd+CQukdhJAInX/j8l2EkDihEcPz3YSQANTyWHkehJAim0pOvnNEkAby2o9JnYSQNGtdyNrdxJAGjHIGu53EkDIjCLuZnYSQCIrDKyadhJAZ1qHPnd2EkADvNURhHYSQBhue9yHdhJAJjyhUod3EkDMTDwI/HYSQBO96ob0dhJAyv0sdTh4EkBsY33cEncSQJQPOYm6lhJAwIYveap6EkCMg3hnyXcSQATbOk15dhJAS7odKvh4EkCDvdKfnHYSQM0Aw+xWeBJAhDMMPYd5EkDRtTrdI3cSQOZO+2IJexJAMU8rQa12EkDXX2jkIngSQP6Hmc5EdxJADIAnFwl3EkDHQF+q8nYSQFDKyzvedhJAbKj5CwB3EkCFEd2ul3oSQM3+vRx3dxJAcGa6w9x2EkBz1GkLbHYSQDJK69PPdhJA5iCyAgh3EkCx+09LpHwSQPmcbQEzdhJAmqoYFGV2EkAlLEwzAoYSQKS0XblDdxJAB3WA8cx3EkA8ZKEQcXYSQH7516jydhJArAQGkeh7EkCkV/+2QXcSQHLQIZmEeRJAl+eb8Rh2EkA4X2KXTnwSQEiYTI86dxJAMSf0nxl3EkAzIzmryo8SQLYEul2LdhJAQIE59XZ2EkBKmJHLMHgSQN2iwMTfdhJAik9hfwt3EkDpcYZImHYSQO9XYhgpeBJAHn7pw8R4EkDd9lY0G3YSQAKlvDgndxJAWD6m1q93EkBYhIm+QHcSQFniNjdRdxJAkqyuwTKZEkD6UMweknYSQONh7UKZdxJAAeONJRp2EkDJ0kC5d3gSQFFcdW3PdxJAnKuPFWN2EkBlX4XTKXwSQPmrfZEueBJAGwNxglh3EkAwgJrJiHoSQOOvwQWMdxJA0xKvWSSBEkCWXrnT1ngSQGHgSpEneRJAkyRnDXV3EkBpoqbG4nYSQGVX6ZXQdhJAwPCc/Pd2EkBFyP3ZYXgSQM17ePnnexJAfijucdZ2EkCLbbrg+X0SQK829wrXfBJAsSFjXd+OEkAxBgCOLXgSQChUgeMvdhJAriEPFHV3EkCsT3XAn3YSQI/f33JiexJA51g8mgR3EkA1dlWN9HYSQADNnaX4dhJAp27885t9EkCL0faKpXYSQNLa8lMLgRJAYNDryE53EkBuH07q7XkSQJuITx3hdhJAQ6YioRN3EkDb/W7mpXYSQMrJYSWqdhJAvKov/VF2EkDnycjGlHYSQN0WystndhJAiuDNDpd4EkBk1gWsoncSQBpCru7XdhJARskUwFl5EkAPiiemSHcSQHWdRCFAdxJAJkXwIV55EkAbOZbQU3cSQF2BcfJ0dhJAVyPjShV2EkBJNs8ouHYSQJASElxPeBJA3CvzpQF4EkD6h7oY0XkSQAnF7/nwdhJAY3JbuV17EkCRELgsRHgSQI5A/Do4dxJA3lV82dR2EkDIR7XGQXwSQHqNBQ1ldhJA4Wg1sud2EkC49OfhM3YSQCD85XdUeBJASkvo/vl3EkDcI9O2SnsSQHIwglSTeBJAJNjfWOx4EkC9Po1ThHYSQJQ63O/FdhJAmVqXeGF4EkCGkDeG0XgSQIpQvLJhdxJA6b7vcz92EkAU+XmJWHgSQC21OBQ+dhJAEC2jlW15EkDMrDSfT3kSQCvxImcZdhJAMuKHpZt2EkBtx1UvkHYSQCfMZftPdxJABM9EEROEEkD9AQO0FHYSQM2uOpBjeBJAxdg+3BR7EkDsnRhJlnYSQMmt/hP5dhJA0NSQqd13EkB0i6insnYSQPPUQNKsdhJAR9sRCl12EkCbd5nBonYSQP8gj3N/dhJAsSGPCL92EkDxukiMsXcSQJ2LBZpudhJA3q+qeGJ3EkDLccb813oSQJk10p98dhJAuhzcnxx2EkDj+3x6cngSQGamNkrbdhJAEz9kcQiGEkApDz9qqHYSQNpLnXiDdxJAfaQI0YZ5EkDkkdzU/HkSQGH4AXuPeBJA/6aIWI92EkCTjWs2nXYSQAf2YUiWdhJATtQsp/p1EkClfU2kFHgSQNNLmyJNdhJA2alnhAJ4EkD2UVxIJrkSQCAqL0/CjBJAABkFUH12EkCXQAcm6XgSQPwAAb0qdxJA5s+5nVXNEkDHbDDccXcSQE6gLGQLdhJAJgjCDJeBEkDdF3X/cXYSQCvo72KaeBJABpDtOd52EkDzzysVenYSQFShAC7qeBJAvG2N3392EkBfPAhEbXgSQGvHCZ3ldxJAbouvm9V2EkCJ/Dzmj3cSQCKDEYjrdxJANwThXr13EkD9fREq5nYSQESjMFfMdhJAzQexPfuOEkD6Wx3iDngSQNWHYrMddhJAgbu77g6lEkATtk7uVpkSQMYFuh6edhJAqyVYvLR2EkD+SY3nKngSQAuKvtHheBJAbTYY4S52EkC7s41hx3cSQFfZPkt6dhJAoLUjm/11EkDa6VrOeXkSQOBeohDjdhJATto012d3EkCpJ8qvL3YSQEyNiUHVdhJAUF1Yy+l2EkBg85kSeHYSQCVndG4zdhJADnjnZIJ5EkA31cJVAncSQJEdLS9ZdhJAtM3DZbN2EkBtNTB3yIISQAPZnd1VeRJALMHUmYyuEkAsFzua9nYSQF7kJQKXrBJA8w1epHd3EkCRaLFvwHkSQHLSpuHsfRJA0ClrDuN2EkDwS/2G9nYSQOQKUsrkdhJAMrhI6AiAEkDyCEqlpHYSQKxQkDUAdxJAACsSOlt3EkAnhFFQ6HwSQB1Y646adhJAOPgT6FR2EkA6SgHz7HYSQKnvJP6wfBJAPGKSPzB3EkAJRavY/3YSQBDeF9x1dxJAxFOSVYJ3EkDXapdyCHcSQMEBvLoBeRJAl3t4tNl2EkDh/kWZjnYSQJYRZPc3dhJANBeiljF7EkAgASCWunwSQPlRgorsgBJAX3p1V7F2EkD5uvw3bHgSQBk5s59udhJAKgEpwid2EkCocbb6CHgSQDjBIv4adhJAEmVycm95EkBhggMkkHYSQMa3s71mdhJAqwo3HDJ2EkBq00bCg3sSQFWyALpidhJAJqDIVTJ3EkCHDmiS8HYSQAT9EQsRdhJAA3TMDT9/EkCa+1A8KHYSQHy2dpvBeBJAfrv6D8p2EkAvP7y1w3cSQMYFkMU7eBJA8TNs0Nd6EkBvcQyHiXYSQFsD8q5pdhJAd34g3Gd2EkBGolw0hnYSQFgcn4/BmxJAxWEjYg59EkDl62lYiXcSQOuCkxsJeBJAd7vzP7l2EkCQGiJwPXcSQBlFq2pEdhJARHxXidN2EkAsKXUwN3YSQETb8zhFeBJA8k92P2J3EkBkkeRIUnYSQGf1y90JdxJAKUSIS0d2EkAUhPC/L3YSQNKnOtodeRJAuvviW1V3EkAJJI0bvHYSQH8Rk5dFehJACjFDLy2FEkBx+FeaGXgSQHNrWohqdhJAftTIQI92EkBWdD4h3noSQFYAtd7FiRJAuixAFrp6EkBkOf4zIHgSQAJ7MnqaeRJACs90uLl7EkCXKccRCXwSQNCHNjb6dhJAcpKEQZZ3EkBeMnhdCHoSQFU3ywY2dhJAy8rBuQV3EkB4V/GGJX4SQKRGhHE0dxJA2aqx4MV3EkA9pwJSR4YSQN7Y5VptdxJANAcaeWJ2EkCTFScvhnYSQCYT1FMldxJAr1CxYCF3EkDRHdwzWHYSQFW/Xd/WdhJAXpsywqd2EkDPKhmSnXYSQD2tlmQ5dxJAs+9bZ193EkBwksnu+HgSQLWdLE6RdhJAIgy4DeV3EkDsb8UTGHYSQKCzS/rcdxJA6O0eNB93EkClb2n9w34SQPX+ahugfRJAde7TMGF3EkAca5kf43cSQP4K76uDeRJA+lOcVIp3EkDOt0IKr3gSQLKbrsSydhJAwhNl6e92EkASpsj2YncSQHaUJn3SiBJAE84oVdR2EkD8sR1Os3YSQCxvcz9ydxJAjMJlga52EkCXrF9zf3cSQNRHoGMldhJABy40zF92EkCgV1y4KoISQEOHByOtdxJA4H609KZ3EkAbUKw1cXkSQH7IT1MmghJACFws1u93EkD785Qtj3YSQDx/xPmJdhJAWwQ/FMt6EkACgkY6z3YSQL0FFPjbihJAph5hH5p2EkC18sIHRXgSQCIFrF87nBJADjM+Bo52EkB4eak2SXYSQFvCrRYkdxJA8tg4EoR3EkD/ymchl3YSQJJyk2KzdxJAfPQLE+12EkD522SB63gSQGpZtL2gdhJA5ItXYHV3EkAnYS7OnnYSQNoePPTxfRJA7ahVRzd3EkDLuv+mrHcSQCrfRCWcdhJAE0USOC13EkAFCc6onXcSQFy5hwCjiRJAveb1IFN4EkAp5BUcWHYSQBiBwi98dhJAETFYF6R2EkB7/ANix3cSQPOlZKjbdhJAtrM3uN93EkA00Mj5V3sSQIGkg+TteBJAcG4UgVt3EkC6plY7Z3cSQOrwyz99dhJAyn7Mtmt7EkBLJB4VxHoSQD/al5osdhJAPqyitjx4EkDj0PaIeXgSQJTBRa1CfRJAHJken7F2EkBshHfV9HcSQFz8LnUodxJAlLUhRKd3EkCbIMUhIngSQDZOnGuHdhJA0wloA192EkBNOM0aBHYSQHKZSA83oxJAXc/dwF97EkBu98AssncSQOLb0NwldhJA4+81k4N2EkCE430a9XYSQJiup3andhJAoKQxaJ12EkBKZ4DJEHcSQLShd7akeRJAyiEfidt2EkAlK1fquXYSQHzkI3fnghJAoZQUJdZ3EkCM1V8jQHcSQBthd2uRdxJAcn7OUx93EkAKjLcI7HkSQID9f0zVdxJAEof0bDF3EkDl77DqgnYSQPWcP4+EdhJAU4esyrR2EkBzZQX4yngSQBrPNc06eBJA5J6Hp8d2EkBxi1F7V3kSQCkm6YHddhJANKau5pN/EkCvjndKNnYSQBC4kEvweRJA1BlTAON2EkAssPvKeHgSQMR0HbAqdhJANUPsl5l2EkAVGH5Jm3YSQJBsVqxUdhJAyPMZz2v2EkBnNYGwsXYSQNw5UOexdhJAdhTINx92EkDlc0rQLnYSQFR7DxmJdxJAUtpR/Gp2EkBeCluRenYSQORn6dE5dhJAT6HoQw12EkAWTZOe6ncSQAc1HM6SihJAlzR2rAF3EkAcnfoSzHYSQIxWcF9TdxJALk69jox/EkDMzrhSJnYSQOjMJ+2KdhJAGJUwXyN2EkAja1yz+3YSQGyfoVCqdhJAdkv6CVd2EkAwFTkqc3YSQNj4ZyLHdhJAD3o+hP6NEkDtW+G7dXYSQOJn0jTidhJAKmToOI55EkA9pXonqncSQMCHKHJ1dhJAgfWU2s12EkC5NJKs/3cSQE4z3XkReBJArNrahEh2EkCD1eY5p3YSQHDh+03PdhJA40dMwWp4EkAsf8hksnkSQLiFRehRdxJAOiP+fzN+EkDCs3VPFXYSQNA3uvwkeBJA/dbl0mp3EkBgG7yrbHgSQNzPu6X8dhJAWtpEgsd2EkCH36yjenYSQDIAKjnKdxJAsrhGwp52EkDnuYNeqHYSQOgwmznueBJABPv4uBZ2EkAatQ5UtHcSQJ2s0l/qdhJApP7hcaR9EkBCyvkOZHYSQFdukNcWeBJAKpfek5Z3EkAQYn2Il3YSQO8EJVzadhJAEPdpaVZ6EkDdLZ7onnYSQMN6SvundhJAupl1qyV4EkDA+ufHU3YSQFYqIagxdhJAYtxDsPV3EkA7qSQhxHsSQGXbyXTReBJA8KigfcF2EkC8ls0yuXYSQJ2WKPbIdhJAyd01VhR3EkArNff4tXcSQGA+s4E4dhJADBhPSEl3EkDpuGynQncSQJj9iE0EdxJAPJg2fKR2EkAFjC8tinYSQAPmKL+7dhJANSEE+hZ3EkDOgFGs3n8SQNVr0qI0dxJA2N/ENYR2EkA352TURHYSQEmM4z/IdhJA+cpdmx12EkBNIb4CuXYSQBQi5Gp2dhJAy79UKk53EkDwnuFC6XkSQKAHr5khdxJAJO6jXYZ3EkDTWFRCp3YSQGSXuMR1fBJAWNViywN4EkBSI8bmIngSQFeG4CnxdhJAvkwuBW95EkCQzRT8q3YSQHZpL2v/eRJAkXgqbCZ3EkC929SdKncSQAjRJyAAdxJAf/BZ4IN2EkAugFfmnncSQA7zNZ2ZdhJARD6GniN3EkAdFplqN3YSQALEtuYndxJAPY3NgZN3EkAASQRKN3gSQI67GPtpdhJA30tE5+B2EkDKkHW053cSQHXFmEL8dxJAsxlOeYR2EkDuRHemPHYSQKamZipodhJA2pRw3yp3EkDFR8ZXB3cSQPIH9Px1dhJArn6k8Px2EkBoDgJjTXcSQK2TqKI1dhJATlicYqF2EkCFnNc+xHwSQHF0mrQtdhJABorkByB3EkAu5/Fbfn8SQNVgKf3QdhJADamHn5l2EkBo+Kz09XYSQLhdoPhAdhJAacvpxUJ3EkBW8hDRKncSQL7NFDixdxJAW1gHmfV3EkAfB3PIhncSQC0ZZ+TSdhJAtMJdQCZ2EkC/mJaQXXcSQA4yi14UdxJAMhPzhG13EkA4uFC/G3cSQKLe8bI1fBJAInw9ZuJ2EkBo4yZSlHYSQFhbdpV/dxJAUPOyr2l8EkA4azqTWnwSQMIC3aTZdhJAxdyu1Th2EkCpFbXTmIMSQEhkXqLDdhJATrHbWBF3EkC013iGxH8SQGSFpLdtdhJAC2ogOzN2EkCfJLtLHHcSQAW6SHnaeRJAc8E40G13EkAsLUUtZasSQDkoAYJieRJA7rQDT3B2EkDF3stxAHsSQFu7ZFrQeBJAxhH+NCd3EkACQ2ZQK3cSQMN0bJBBdxJAxGzTUSh3EkCRsEMXA3cSQE9rbShWdhJA32KTmAV3EkA3T5PPWncSQL4LqXUYeBJACcySZ3iNEkCij0xPJHgSQFBHkaz3dxJAmrDLm8h3EkDpoHn8pnYSQMGsleyLyBJA1lyp+LZ2EkD/b+qjgHYSQG/V7bfIeRJABMlxOad2EkCiLGVT9XcSQON7pB7eexJAgOnr0r92EkDjS9NMc3YSQAtpm6vkdxJAe3RZebd3EkDN6QcUkHcSQA7He40neBJAUYZ743F2EkAwykTaxXYSQJqI8GvddxJAZY+QrXJ2EkCOKTIqzHYSQKh4BCRcfRJA8eq02zJ3EkDj10C+X3YSQLlcnopjdhJA0hTicwB7EkBbAxsbWnoSQM9eD0psdhJAGtnWTkp2EkBoROjFinYSQFxbvwrwdxJAYGSG586HEkCf7qD6c3YSQOO7txmLdxJAd4WohiF3EkB/Xj0lk3cSQGv7GQeydhJA6akzu153EkCgu/rrdnYSQDIJY2RxkxJApAgOaXJ2EkDqmD1xXnYSQGby3tmedxJAsJGZQs+VEkDEOrOeMXYSQP0DSY4MfxJATjhH13N3EkBDqcubmncSQNXwUm8UehJAE8FKX2F4EkADoSxnu3sSQIhucOBhdhJArWQ1Pt17EkCbaBFum3YSQHXnBgbQdxJAZeYY0nJ3EkD5ZkgvZ3cSQAtus5q6gxJAxPP5YGV2EkDzEEKNIXcSQIxGqrJbdxJANVqIdjd3EkDaYxEA7HcSQChLVzBNdxJAbBVoi8J2EkAHqPjvPHcSQKvfGfr3dhJAy1fqmmp2EkA7IRC13HYSQJeP8sbRghJA91GbwYd3EkBKKv/fMnYSQIKov/4NeBJAe8nVUdh2EkDpLxkjK3cSQBt09HUodxJAHMd1zIF3EkA2d685snYSQD9NA6MnfBJAZRbyhE53EkACjYKghnYSQLrvxOm+dhJAxhEoYeuHEkAJEGPiY3cSQGaNm4BfdhJAo8BBRUR3EkD80vslwHYSQJvFhraXdhJAMrZbKUh4EkD7dnZNGngSQP9W2ISpdhJASX2/8ot3EkDH/XirNHkSQJhFWgPIeBJArZ/VRA54EkDp8VAOuXoSQGucdzjwdxJA86Furp92EkBj6Nh+o3YSQNdMQlBpeRJAuTKR/5h9EkAYekAG1HYSQMDSX2xLdhJAb3YQNAR2EkDdywPYc3cSQP30545PdhJA/h/g8NZ3EkCA+V6x23YSQK6a97eRdhJAFtNNmPyGEkA9Nbtc0XcSQJu3f6i6dxJAws/0Z4SmEkB6kB4gjngSQBtkD+W2dhJAXdn0IRJ2EkAPX4ar53YSQKS7A18edxJAgSV73/t3EkAiq1lVKXcSQDgrmmCAdxJAF0fR3ql6EkBAEX+bmXsSQCsprtFNdhJAvK+m/jp2EkBaiUFC/HUSQHXnPqWudhJAESOE1fF3EkBFaxgWbXYSQDclICgsdxJA5AomrRF9EkArDMUucncSQGrteQACdxJAOaxeQEl3EkBDyhc+NngSQIL/9+7NdhJAebzmC192EkAsVBLHLXgSQKoP0mbrdhJAA5KBPrV2EkA3fKlOLnYSQK0lxupLexJAT78Hfnh2EkCrhbO4wngSQITwtQyQdhJA1pS/yWl5EkAWO3PILXYSQKg0UXtGdxJAD2sCcLZ2EkDA1qai03YSQIDUe6ysdhJAS1+kr2Z2EkAzi+8vRXcSQHIx35oJdhJAnHg6sVR3EkATydEMAXYSQIqIO6nvdhJA226bGGl3EkCFp29oUXYSQG0WVIM4dhJANL4IF0t2EkARNOj/BncSQCX8KIlhdhJA2Xqj1013EkAnToeYAXkSQG1FkEakeRJAOt7f3Jh2EkADk8dNrL0SQHhGBMSP0BJAFds9V6J2EkDePb8udHkSQN4I8u8rdxJA0nVtWUiAEkAay8XGsnYSQBK7CMR8dxJA4AX3rHp2EkAl06vM03gSQAe0BnicdhJAETsjAhB4EkBmfS62fn8SQGpJnBcCdxJA26HwsnV2EkCxUkPeb3YSQCp+nMF+dhJApFbCEFl9EkDzd3rpCnYSQM55obdBeRJAAgIpQiR3EkAbpmBUmncSQLCPwS/GdxJAtbSmjl92EkDBj+ziP3YSQIrErO4CdxJA8RxwKcx2EkACG92bdHYSQC3wYqRPiBJAj2QvgE53EkCsBT+pR3gSQDiy0o6EdhJAnWUR5zp4EkBnCJ4ymnYSQHBnn+4FfRJAsGO1r9F2EkDjpi6TJHcSQOUxgpq6dhJAN76fv2N2EkBy6v7tmokSQJJqniUQeRJAcROPPdJ5EkA+Xzf+QXoSQD/emsDpeRJARSXJWP51EkCk/Or2FngSQMe1i4vIdxJAPr9sW2h2EkA2liKxZXYSQOeIXVRYdhJAab8Ejfd4EkCnPhTQ+HcSQJaKP8oFdhJAxZY35Il3EkCfi58okHYSQHqh8UyWfxJAPL8y5Hx3EkCNaDy9AHgSQJmynRWKdhJAT6jRQ0x3EkCOC7pKw3oSQFxlZJjudhJAfyYmaSh3EkD7o5ti2XYSQBLxp2QidxJAAnKszvB2EkCOM4xAiXcSQFWMC7UBeBJA5EWN+H14EkDFd4w9lnkSQCFvij+TdxJA+s6Kmnt2EkB1jcfwsoASQLKO1E+yhhJAVEzaTvx2EkC//wVZpXYSQGjTCc4neBJA9LqRbiF5EkD4sdXfZ3sSQONpzpoqeBJAu8wLwACAEkDVQxkBMnYSQIHA3cO7dhJAnqh0DE13EkB/UThk+3USQHq5JL2IgBJAUboQoZB2EkC5RMHy/3YSQGg+m349dxJAQyAWdZ94EkB77zxnLHYSQN6WdeAigxJAhvUPw3h3EkD5j0Bow3sSQBuzBsupeBJARfy1h4V3EkBwBMWmhngSQK65FdGHeBJAa90fORd4EkCvRcVwd3YSQITD1eihdhJASdxdFyJ4EkCG8hR/U3cSQFzoD6qzdhJAeEAA0G53EkALBfHQ/6MSQOnU0hwKdhJApeaLK012EkAAXEy0oHYSQDMW2sNldxJA5EHSya12EkC5AA0b73YSQIIVDP2vdhJAVugdiox2EkAMj0As2HsSQOSLuhp4dxJAzMbw+Vt6EkCzte0SuXYSQGTA6wBrdhJAvCfPrax2EkA8FMPbYnwSQKwLSDyfgxJAAHUMBot2EkAIRB3U93USQAz4XhsoeBJA4EkPQaZ2EkBQ8aS+nXkSQMC6WYT0tRJA6vj0OiF3EkD7DtFR2XYSQC19+r8xdhJA73Nviud2EkAc1RoBYnsSQFx6m+bZehJAOMh1xdx3EkA1dStI3XYSQJPiHHFefhJAfyk8ATV7EkCxRIEv/HwSQOGc2qoEdxJA18EwwFJ2EkBRFEp4UHYSQDzoLO4aeBJAQb/HBnN2EkB518zOIncSQKC5wz8VdhJArlYpPUF3EkDNvkoiVnYSQM1wQX25dxJA+PFn5ml2EkCS5OiG1LkSQEjl1GfgfRJA5L9kQSJ2EkDWClbARH4SQJo9uD6kdxJAU9BOgEW5EkAmwOENpHcSQFNR3Di2whJANHqgyuF2EkB1quL5w3cSQGoxyhOudhJAQLFNAY12EkBDLL+zr3YSQO39bRgzeRJAPpQM1zd3EkCETeZTQ3cSQKFBu8COdhJAmAeDPBJ3EkCL9w3qDHkSQKuqWKZlfRJAL/O6uxl3EkB6pWocCXcSQFyiLf8KeBJAqNTsv8eDEkAHBo0GvnkSQA5uZfLqdxJAn+fn4LZ4EkAxQsiw6XgSQEjfHCDidhJA8xeFZhp5EkC7+bdq7X0SQJ15hRlHeBJAZc3A/Z97EkBseA4U4nYSQFQG+baZdxJA751DWZR4EkA8Dv221XcSQPo+P7A7dhJALhOMf3h3EkBZfkGAnncSQGCC6RbhexJAju+MAS93EkBRw5C0o3YSQGNW3rUtdxJA4D4sJGx2EkDq/DTPi3cSQAGZ+/aNiBJA2EHV68t9EkBKPSWRdXcSQFEiijcQeBJAuacbj9Z2EkBjUnWoDncSQLKib/U3fhJAQ/+crqd2EkDi0NYEwbASQAgkQAMpdxJAMP2smwB3EkCahy7SsHkSQB12xqm7dhJA09Mfhu59EkB53hWOi3YSQOMpLZVMdhJAbtMi1jB3EkCcmG4Q/nYSQEGuy/UBeBJAdBXoTF92EkBBKjFc+nUSQEiz1JuudhJAqoUVvHd2EkCVmDJElHcSQEKMnWtUdxJAqTQ7nDB3EkBGi4Aw73cSQOunQLX4dhJAoBiam3B4EkCBZgconHYSQHb99w9sehJAiKLJ0gd3EkAKtZbXpnYSQMU6s+LFfxJAyFPXh3h2EkDjVI1O8ncSQPxHONyMdxJA37sKJDB3EkBIRgvRd3gSQIZlzkpDdhJATW8AjW6FEkAIWbXmF3YSQMSDzi5ZdhJAOdmlwgp2EkAS4TyRB3YSQICYzR/OeRJA6jdBlCB3EkCy2MA7KncSQO6NL0z6eBJAntoTfRl4EkBNfSiGO3cSQLLNza9rdhJAPo8k/8d2EkD5qPyt33YSQF4/oztP0BJAzu8qIW52EkDyOV0R/XUSQAm9wdPUihJApMotAHd2EkB53XEdv3YSQHWXhVZbdhJAaNAl4Sd2EkD0NKfLM3YSQEpE1T13dxJAOu+kIO54EkBpfrQfp3YSQLaW0ex+dhJAz518AmR2EkCAO3TlSHcSQPk7hxX6dhJA3/CMy1l4EkCkQ2foWXcSQJN84wOGdxJA8t1RVc52EkD72aaRSHcSQL74RL2jexJAalNnGzR2EkDcGVW1ZXYSQEcAJWS4dxJABYUNBRl2EkAXlAB1UHYSQCiI7BRtdxJAMGi6+NJ2EkBOAHaOkXYSQO5XqtK4eBJAuPsbxW52EkDrLFVxMHgSQNzhTrcrdxJAJjfasYV2EkAJD4wHB3gSQE06wQBYiBJApqyfGYF2EkCIKWq5j3YSQIgWnVYXhhJAKsyryVF3EkDfHFfCnHcSQCIUM60KdxJAfq1nMo4OE0Byov30XoESQLWklUbSdhJAAYXcouZ3EkD6xwTyIXcSQEYM4BEtdxJA94bs/ud3EkDxS23MAncSQCGBLWXmdxJAnLEGRmV5EkBb6PEvUXcSQES4ERo/dhJAq6syu3Z4EkDPMmRASHcSQN6gdMFodhJAuu2D7Kt2EkAH0oq4ZHcSQP09Q635eBJArC9WQkZ3EkDMfsEJDH4SQGoBS5PYeBJAQxrJQ6F2EkCQvd5kMHcSQLCClnwMdxJA1SeUWLJ2EkBzd4wuM3YSQD3yqEKBeBJAeSSgsql2EkCR55qUZnYSQCsUvugEdhJANQNCqHF/EkAOqdIfPHcSQMqMRLjKdxJAeIlkcMt2EkB+gp4KQ3gSQBuoEvltiRJAQ9BOm7F2EkAhjH5MjXYSQIxIp84PdxJAveBxWPJ3EkDKVqAahncSQIknUjjEdhJAOJACfB92EkDZM2BimHYSQAO8/hm7eBJAlF2wEQt3EkAi/s5euXcSQLsW2OlIdxJAZuenDlp3EkC9DCbmAtcSQDSC1yn1dRJAROt3FPB9EkCKMUIAAHYSQKuFBwntdhJANhez0FSREkCkeeijNIASQLFqnoEVehJA6DUTGlZ2EkCgs8km7noSQPex4mu0exJAq/R3Rc92EkASKDKBInYSQK8jn1xDdhJA9/ovaiV2EkCIKe/ECXYSQGxbRSq6dhJAE10fIIp4EkDMjXkoVXgSQLWzeWemdxJAB2j3FH18EkDtomozmHYSQFAUXYk+fBJAVBM2W/95EkCjCw3M73cSQOAcvw6sdhJA92Zw8Id3EkAxkd1+IXYSQLzfqw5GdhJARDP+ViZ3EkABiM0Ra3YSQE9rSW7ejhJANFZlpZV6EkCtLHPLlnYSQCMdLvLLeBJAoiHaPrd3EkBjKMfcAHcSQK+/5mhrdhJAuk6GWXp2EkDOYKF2VXsSQKj8K7a3dhJAF/fHZM52EkABLKTea3YSQMIAzRqidhJAhP53LK14EkDm33Lzg4USQCt3h6Z4dhJA/mcdsUd2EkANjecdKHcSQCx1NcSJeBJAqaO16Il2EkCVBBStzHYSQFODPONBdxJAdMNb/xJ3EkANXaQo9HYSQM5swqH1dxJAfRzKE8d2EkCBL/4rgncSQE8JUYYPeBJAtR5Rz1N2EkD+EiPxenYSQIS/qHksohJAQTFSLCt4EkDD4mdcqnYSQMUyPml9dhJAxF2ApFh4EkDRxi2du3YSQGPAGOVeexJAzMzPJhB2EkB41NA9Y3cSQNdTM5oZdxJAzin8qWJ2EkAZQoiIBXYSQPvnipMMdhJAIX/zYBZ3EkC/X2EPjHgSQIDRc/2NdhJAs/TdRDeBEkBic92bKXYSQA/73DF9dxJApKy1b2h2EkBxXVjLpHgSQGVMUIwjeBJAICMBHNR2EkCTV3LNs3cSQJDT1cr6dxJAS1aT3up2EkB916hVr38SQG9kNvpRdxJAqBTEOD93EkCGACaABncSQOwIH0GNdhJAx5ky/l93EkDswBGkeXcSQGbzCzUodhJAHCTNim13EkBtutUzSHcSQB9vURHDdxJACDaswVKAEkDca2gBI3cSQMkhxb8GeRJAIRxAdKx3EkD+7vLDv3oSQNEFIKqqeRJAnqAUgDR3EkCC3gVuRXcSQKDBjwVudhJAwOYYV8t2EkBvbFxCCXgSQGQ4DuPCdxJAHaZCwmd2EkDhPjVUAnYSQLK1A+0xehJA3nsOW713EkAv/5FYoHcSQAKLmWY7dxJAModIv/l2EkCS2d3QAngSQJ8j7FWXdhJABpEvblOTEkAJnjvETnoSQCT6ZJ0fehJApoKT7KJ3EkAqsYj8JncSQLNy6zvldhJAL6cq8p92EkAP1QHvn3YSQAz4cC8udxJApdkzhfx2EkBcqhUPQncSQI7wu6lCdhJAoRiJGS2NEkDBVB0PbHsSQJUVpG0LdhJAvmgcaw14EkClZRGZkXcSQGDskVmifhJAHhT1qil3EkA/qLNcZ3YSQMaIWf7ZgRJAayl35G12EkCsP01LQ3YSQKPEgZwgeBJAgSnKR+B5EkDKZwLaC3wSQGzJu7q8ehJAoI+EJxV8EkCNGQWp0nYSQEXRugzSdhJAQO7XoUF6EkCcvHfvMHcSQOIFgczFdhJA7jvUy1V3EkBgUXEtnXYSQAl8ecludhJAj3LpHLx2EkDqKIDHX3YSQIPOGYL2dhJAbkq976R3EkBQ9TFEX3sSQNu/nyJ3dhJA+oxEOQh2EkAqucpW/3YSQA1jdZFQehJAuDCJz5p3EkAkpKXgj3YSQDYN45PUdhJAwT/l5KJ9EkBCTfII03YSQN8Lk8Z8dhJAYJgPMAV7EkDtC6rfxncSQH56z5eBdhJA4TcindCEEkArllrwgXgSQJN48d8teRJAkSgT0+53EkCdCzRaoHgSQBqaJw/SdhJAk3QDRJ92EkCKCQhlx3sSQDGHQ+7LfBJAtF2o1J92EkADYrsA2HYSQOivQPIqeBJAT8K0I+Z2EkCJdLyxPHkSQDypE4M2dhJAzeJADLZ5EkDkFZvZ9HgSQCPYiZ/YehJAvoMq7xV4EkDL6N3dZXcSQIDMBdz4dhJACPzUukZ4EkCWNVZejXYSQHx120C3gBJANgVYbwt5EkAB+UCRbHgSQA6q2UxddhJA8o+d+ex2EkBezvBj+HYSQMmt22igdhJAmHQydvB2EkCiwXz0w3cSQEqLf+jDdhJAsCiF3x14EkBCh8JWS3gSQHylQR3edhJA0onrUgJ+EkC4basFpHYSQJU8IMOddhJA7LwmOiZ2EkBSOxJlSXYSQFF3UF/CdhJANLSB0ht2EkDmO/6+eHYSQCDws4ozdhJAlULottR2EkC4BLhog3YSQB0eQ1vmdxJAacSXBIp2EkAu+8C6WnoSQERfmRRGehJAe4FEKBp2EkCmxnRXOnYSQNE4L2HjdxJAbD1+del3EkAcIhUqkXYSQLcUzzWedhJAWB3DJot4EkDtJv7RX3cSQLoGdpokdhJAz1099t56EkC3x0F8xnsSQFwxcdEadxJAJVdBDoZ5EkAjWYtKangSQIEsjYaQdhJAb14tAQh4EkBEPuN0znYSQP0w8FJ7eBJAmkmKmXl2EkDj6+4mDXoSQIOeJkIQdhJAzGHi09l3EkAOHi19CHcSQA7869zRdxJA7bSIrrJ3EkASS0MNIXcSQJ/jBHY2dxJAz9Q+TZZ2EkC7tJ398nYSQPFC1qnzdhJAuqVe2AOKEkBz3Rwb/HcSQI9PfT8tdhJA479YYil2EkBDUI8pS4ATQCy32dPEdhJAndq+RDh3EkB5r8XQroASQNB2daDhdxJA3iQRFOZ7EkDWeYShjoESQBhruJdGdxJAYc5liJl2EkAN65ZHY3gSQG4JTjxIdhJArfxQU+F3EkATJvpIAnwSQNLVEGGxeRJAx7rkiFCvEkB9ALAaKXYSQP6v3qiHdhJANxiNiDF2EkAJDhaIK3gSQBmZsR1MhBJA8yA8teh2EkAo83unUHYSQFBn6+CflRJABiqPqvV2EkCDzYQ4TnYSQHMIhMcFdhJA/F/wN4V2EkAqP08nencSQDRbTzZZdhJAHb3xmCp2EkBX6qN7o3YSQO/6njKodhJA14SWrD13EkCQlxuBC3gSQOjvMhuddhJAvyhAE/p3EkCTi3Dkn3YSQAzh3b7qeBJAhD6cZLN2EkAWmgNuGngSQLuMFxtkdxJATH2+YC55EkATyNRyEHcSQDjbZOfydxJA5oujpfZ2EkCrmSws+3YSQDDBQbJ3dhJAJM30+AKiEkCLwajKQ3YSQNPxTBaWdxJAq4bOFtl2EkDi4hDYKHYSQCv44MjheBJAaHeFv5x3EkDhTGGHvXYSQNpCR99SdxJAitwSmUV2EkBuxLXL53YSQEQmC/2udxJA2qg1NIh6EkAG3E3vanYSQNeI+p61dhJAKwsetgd2EkAsu3fyM3cSQBxWtXPKfRJA3OtAEYx3EkBYUcmxC3cSQHI5CHiLeBJAiVGc2fJ3EkBddMHT7XcSQOWBAjlbdxJAY4o3M8d2EkDgVcOb13cSQAdnppiJdhJAih5ojC+UEkC9jaXp3XcSQPopIe8mexJAQw5ZCad2EkCHo/KdbncSQDUCKOW1dhJAHJvQCu12EkAaqWqkeHYSQHG8+/8MeBJAd3BD11h2EkCmOQPR4HYSQGrvckPWeBJAs7i2qU55EkBKhBKzbHcSQKqmdAhldhJANQ0KLCSnEkAxpzm7MXYSQLM0e+tddhJAaQN925x3EkBNVYSns30SQP+26aX6uhJAyIlv9yl3EkDRWI7nb3YSQJq4YWOwgBJAWIKXIYF2EkCUG6fw83gSQJNxwYHCdxJAUrU762p3EkD/+zHAQ3YSQL3ExVCJdxJAlHT3eyt2EkClKno9zXgSQCVUObpvehJARhEoEGeIEkCSZycm+3YSQNKu0cfZihJADB/N8lp2EkB7XbvKOHYSQDBbUuCQdxJABiCj9uB2EkBXHxW5nnYSQFAgSXXFdhJAxTIClrXVEkAHciJxyHYSQB5JPicjeBJAIOvm9D93EkDC7aCbAHYSQLx9TztzeBJA9TwqJS13EkAUP51OD3gSQAPJZ2kfdhJAJp9VHyl2EkCrNCGsgngSQKrTUK4pdhJA45fTUBJ4EkBUEUqnJ3cSQJxR35aTdxJAVPfT4zV+EkBD1kqEEnYSQBA8sVh+dhJANpkULg14EkBX9elqtnYSQIkGFzSFfhJA5YOYNNZ2EkCaJ0YZoHYSQDMDZtwUdhJAGw5tCBB4EkAbS3QTl3cSQBx3LsqeeBJAi0GLs593EkCyrlfSi3gSQAu39BN/dhJAnFD6OdF2EkAgcXA254ISQAX8cnQpdxJAPG2vD6x3EkCRx45HxHcSQOQBvBg7exJArwPmd6J3EkCV8O7XQA0TQP29zvV2dhJAVnXwxbV2EkAlqb3UFnsSQE9H9EYIdhJAZ9kKCv+HEkDhHg2epIQSQLylxJGGdxJA5Pq7DfV2EkAnrdeqTXkSQDloBEY0dhJAjGDf58V2EkB1XwDuMHcSQMhnJrVjfBJAZtZ2z/92EkD2hlEvNHgSQL2BgjCMeBJA2Ndm3+h2EkABvBE4sXYSQIfULFFhdhJAVQyeW+12EkAq/SK4x/ASQJ/2LTeHdhJAc5ZsH8N2EkDyHE2MYnYSQFjetvstdxJA/nb77o94EkA0rVy9FHcSQADA3rbYhhJAkQHmBBp2EkCxvSozhncSQK195tGFdhJAsZSYk9d2EkD7ThVRNHkSQNSIRSdCeBJA22M154WHEkAqBFInj38SQGgbbJE8dhJArDw2QtJ2EkBzPNo7NncSQBPnsJ64ehJAKCCYQsJ2EkBHe1dACn0SQOrO/iAnkBJA5yVfplWEEkA7xAGOZ3cSQET3Jpi+dhJAtDExkN97EkBHgf8TE34SQCUi4u/8dRJAssrw7m93EkANowTbA3cSQJlE2WMKeBJAYbwhT3iNEkAceIumxoMSQPaUbaFNdhJAFgmcbh54EkDzKZeW3nYSQB1IJqpVdxJA/GflRSx2EkBu1ajKf4ESQPy37C5JdhJArkEd6hN2EkCg6U5J83YSQJYc3NYpdhJAUaca6Z12EkCvWvpRq3cSQPeNfFqBdhJAGLaZexN3EkCzGhY2MosSQFLh7+kUeBJAk+IhWdF3EkAjR82xZnYSQL5oAhcndxJAerL7GZx2EkCPrxky+YcSQB6NjLUNdhJAfGgh/2Z4EkBka6BNXH0SQI407U7KdhJAhVQu/N52EkA0Fmt2dn4SQL+XaUexeBJAuuq2ef12EkAvUkhrBPsSQArWOgtueRJAoJBZm+12EkCR7FJdn3YSQHPNH6ZhdhJAPBNzTwJ3EkDzagGevnYSQFiAooAHdxJAZAevvJV2EkA+8npHdHcSQN30X+FfdhJA2qq6lg52EkDWfMrvaHgSQBeC4G0AeBJAqY1rIIl2EkDaLT5bLHcSQFsNJOKYdxJAwj4TYWh2EkAiPGsbpXgSQLMU6koQdxJAjgIdc+h6EkDzGQVOUnYSQFcbuaaBeBJAhi/RQ093EkD15dJGnpISQEIRPqphdhJA6cUmxgB3EkCZoU4YpnYSQL7IvppvdxJArk9TUEZ9EkB5tfA9pHYSQGEhVzrRdhJAMMx7rGmEEkA4+UDEIHgSQP2AYKVheRJABzsC1wt9EkBaIAD6iHYSQMinSTMEdhJAyB9egat2EkD//HdHhnYSQJhR6rYTdxJAnFUV19B2EkCF6ffFfXcSQOs1tmJHdxJAyoRlQNt2EkCv+ZseXXkSQN4p1qLkdhJAk/AJqsZ9EkDwUR5Rt30SQPIFUGmhdhJALE3Y4LF2EkCiJVVes3YSQHsoQT47ehJA9NKYvIV3EkD4729/yIESQGx/gqKOdxJAPnkHyep2EkDETw/S4X4SQHtkmC/5fhJApOgCijp2EkDfMBX7pXgSQAE4Cy45dhJAeV+uLAF3EkBmz7+PoXgSQGij2/fCexJAPXHyfvd1EkB4kg648XcSQLehy3bIdxJAHv2QXhqAEkB70eoVD3cSQGxrQoB/eRJA0SOAP7R3EkBM6Ujc6HYSQGIeu7ivfhJA/C0nyh92EkAH2a0kY3gSQMeDFatCdxJAi2cG7ep3EkDUt/vRdHYSQMN6a8kvBBNAJz50rNXzEkCO/VUdDXkSQH4LGwPJdhJAlUMN3hl3EkDV4Tfxf3YSQPMT7e4WnRJAnimJuq53EkDrb7Neb3cSQP+ne/ZAdxJA3DsWDbh2EkBOzc3fEngSQEKb/uUUdxJAS+qfy252EkAEKG8rK3gSQLS9O1GOdxJAn/1CXIB5EkAipSRO2nYSQGbH8sHXdxJA/l0YJzx2EkCQZXPf33cSQIz2NNwDeBJAvbdroIZ2EkACAwiWhHkSQKNDQ8+MdhJA5myM2692EkA0Axp+NHYSQAwRA4MddhJA2FfzVvB2EkCqmwBwJHgSQG6on487dhJAz6YM6F92EkBj2IDaN3YSQPSe7bzxhBJAWoPLmK15EkCUl4fkancSQPvk3NEkeBJALtaWF452EkCwAqwb+XYSQHJhXisgdhJAPYpByQiGEkBhvItwm3sSQF7sbdnadxJAdN2WRYaTEkAfVQYIKHcSQMtKSugodhJA4SHAwGp2EkCDpcwtrLkSQKBZHqwtdxJAGzMC0aR2EkCbW+2cInYSQHriwX5AdxJAgLF5iql2EkDNBfKMAHgSQBuLh7J8dxJAvRBZx9R5EkDLCqcuq3YSQMsVfwRAdhJAD8FLbaF8EkBB2EXz3HYSQAhjcmBEhBJA81xjBNR2EkBQnUhM03YSQOCPAomxeRJAgUWe/+h3EkD34DV/Z3sSQGX5Z/8rdhJAnFvDP1R4EkCGVwi4angSQBz5WJfZdhJAd56kWRp4EkBk0WXvNngSQL1rIOR/dhJAM8B42Hp2EkAE9fFGsHYSQAgUQ8rhdxJAE4rCFjN5EkC3t96vBHgSQI8z69vwgxJAEaRsArN3EkCCLyVHY3oSQKd1qQv9dxJAlu5bJfF2EkBdu9YIL3YSQIyLaehydxJAGD/4LbV2EkBOCdRuD3cSQEZFHsuUdhJAOmalgvx2EkBbkLn8KHYSQBATEizldhJA/a+7lxF5EkCeYzpOE3cSQM4BYFcZdhJAF4eKpiF4EkCe33+CJXgSQPLPvTtKdxJAChdCOv92EkCMPY2yS3YSQMZpnxVJdhJAeyMI4i95EkCPHRpKg3YSQNlmebwxeBJATCeO6sh2EkBkBJMy63YSQGeYlEwaeBJA0GImXR12EkD5OrbVXnkSQA82rRlsdhJANiJvsut2EkASDEUFTnoSQCQkev+QdhJA4AmB5uR5EkAvcwQxfXYSQKf9Z6+KdhJAi1UKN7h2EkCQ223ezncSQBIiwMohdxJAARaj5XB3EkDtnITgqokSQIWrjLM7fBJA4xUaQdh3EkBLM9iJi3YSQGqdDoOtdhJAez1W1/t4EkACCqXdUHwSQLmmh07tdhJAP2UN7Q93EkDeQ3lTJXgSQJwzsw9tdhJA3kETOSR3EkBNpmCIRHcSQCAtzbH+dxJA+LBACUx5EkCnM2y3qXYSQPIoTdOseRJAjkGEpVp5EkCUaJA0ZHYSQIgh/Mo3dxJAbz1zfmh4EkBtRDvxdnYSQF6KSQZwdxJAI8d9gT15EkDJO5CqVXcSQA+ugeIIdxJAgDfvaZx3EkBGmwTuz3YSQNixKKZRdxJA/lLkn293EkBu2rZlkXcSQP7r+xi0dhJA8TaMLwd3EkAYdFaiuXcSQLuj9oLPeBJAJl0OY8l8EkCJp+Np5HYSQC6aCxzGdxJAZuBFjnV2EkATQ4DZ73sSQBgMt/a3fhJAwn49n6V2EkBmmW5AlXYSQNdUgBz6dhJAB/RpgVd3EkBfgCOnlXsSQGS4Gn6fdhJA6tsTf4F2EkBfbbWQH3YSQL0ki33IdhJAyLdp9N12EkBsMFM2sncSQK+uJLF2dhJAaLHkXqN2EkCNVroFpXYSQCmzDbjydhJAj8mEud98EkAptzLCPXYSQFuN1UAkdhJAcOVwmVd4EkDI0C4gAXYSQEn+hsv4ehJAiTTRWx13EkAiBqhcqXcSQPjcYroidxJAyu3446V2EkDPGFVD7XYSQG4qhdbSdxJAgNRw2JmhEkC5HyLg9XYSQATtr9bIdhJANYiHcT92EkDwry6kp3YSQFM+xx6SdhJA+qLURwh3EkBtJ8oBk30SQDljggM6dhJAN0b/3od+EkDrh/ghAncSQPwJgfQZdhJAC572ma92EkAY8N1KOXcSQKQY/Ay9eBJA6tjLMBx3EkCzt5fVV3YSQOdV0wjQdxJAd6iDJhGaEkCT7YccL3YSQLa+uHT/dRJAd8Owcht2EkDaqLbosHYSQO1N22RGeRJAcor5iEV2EkB5Rd/kt3gSQNFljm4IdhJAzvPhSjx3EkB6PcjD+HYSQK+8vhMWdhJA7UtTFE92EkC+SBmlmncSQDuQugz/eRJADUlmdF+HEkBz7lvULncSQAAn4avPdhJAzabt9gV4EkDhA4rgcZ4SQBvNnBsRdxJAwUjsj513EkDQmFmzZngSQC90KU72dhJA/QJfCy94EkA97yQrRXYSQMgmcEIzdhJAYbqsbwV4EkCzI3CMBHcSQDnVcY9adxJASWShLVF7EkBzrDKpH3gSQGsi0alGdhJArurkWYV4EkBT1JB4r3sSQAX1gAw1dhJAEAJiMAGCEkBAVeSjZXcSQH0cYjqOgRJAO4QxVGd4EkCkD3VWvXgSQOmGfLv2dxJAFt5+kFB2EkA4EzDrpXYSQNsOk1DndhJAummkjrt3EkDtwihNuncSQIr+H/1pdhJA2YYCMP12EkCjEj3VbHgSQDakpF1LdhJAvbBN+f12EkC1uu+VMXgSQEpZ8u04zhJAZHzlg9N5EkAjETuPh3gSQE6SJjhHdhJAqTQbQLl2EkDedYYVWHcSQDWIvDGOdhJAxFnwvBl2EkDGSOOKNHcSQOoxs3mndhJAMXTHDId9EkAaFyAo63YSQDpM539idxJAHo506Wl6EkBAciuzm3YSQG1HmvQBdxJAbliOAmh2EkDQnLoiI3YSQMxxNy90dhJAFlzX1Jl2EkDpcavfknYSQCh1hyu7dhJA8TAMoEl5EkBFc0dI4HYSQGsMMYotdhJABypIIUp2EkBLhyT98XcSQJnRiQ/GdhJABB7A0dt2EkB0REeJEncSQNtVKVoR9hJAN9k9l/h2EkDQmjrMPnYSQL8U1VrOdhJA+OMhP0l4EkDYsPdZWKYSQFQ5Qt81dhJAmtgN6bt2EkDUD0ETtnYSQJQXLZzidhJAyh0PGMl3EkAcJerw4XYSQF3lbIYNdxJAfHsK1ft2EkBSdcVpSHcSQJDPtRhddhJAuliT7sl2EkDGz1kue3YSQJ2MZU90dxJAJlkuqXl3EkC7vxOpe3YSQJuRIwfPdxJAfQgeN7F2EkA8aVvAxHkSQKcC5v/QfBJAcS7c8vR1EkA+JN/zlncSQI/n0WmFfBJAXrAv3952EkDElyNqg3gSQJ29cTggdhJAjTS+qFJ9EkACtPJxO3kSQBjCEzeJgRJAuUnfYK12EkBdz22OoXYSQJgC2YcPdhJAE3ZROBt6EkB1yftNPHYSQHC0Fn2jdhJAEUaGdnp3EkAkkDhbznYSQL4EW2X3dRJAYm8EhSB2EkCPX/Z4DnkSQOPDwsrcdhJApoOB6xR/EkBf00LwK3cSQMBG4fSrdhJAIBo4a393EkBWldd1sXgSQM/MLzIadxJAu2nJ8Gh2EkCEL5ExingSQALy4w/VdxJAkPnMOgN3EkDafVv6cXkSQHmAFDHjdhJAUBv06ph2EkACT1HyAnYSQFcbJzgXdhJAYLwh26h2EkBbHBUU5HkSQIiMyeFtdxJA3HfG8nKFEkAXZFuy2HYSQMAdF5+WeBJAhUHD1XB5EkB0DgjB4HYSQImCzdDReRJAit+fUIt2EkDbGw3VFncSQDcN/dxKfxJA19EFFT12EkCtAfDFd3YSQCjpfO+DfxJAC4TgvYN2EkBxy0AgsXcSQFdl3zcFeBJAaxhju3x2EkBniwsDfHgSQIAHDtwRdhJAN7cO4o54EkAZQnfA8nITQK0SgFwddxJAyXcJQwN9EkCjWWJhLnYSQPDzKYNbdxJAGxoUELB2EkAHHecARHkSQJDLKz0kdhJAwqrisQF2EkANEijGq3oSQNoqcbaYoxJA4JMlNsl3EkDYtXHEAHgSQGriPb11dxJAPe5Mull3EkCFF/VeY3kSQL73IWB3dxJACSkNlBF3EkBM7jnEcXYSQHz1U+czdxJABEPIAhN4EkAVQsA+NXYSQEKiKy2WdxJAv7lvRid3EkAPbkajSncSQFt10OKMdxJA5idYTNuAEkDcB//bUHYSQPr2Ga1SrhJAYRD8LEZ6EkD/YeFtdXYSQMAzfhzbeRJAOhPI8GmPEkB/XNocgncSQBTk0fwvfxJAM7lWlxp3EkDrTjmge3sSQKD23IxddxJAhFohtjiCEkBDw+U33HYSQJ9acewuexJAZKZdy+J2EkD2lCzSgHYSQHQMW8pmeBJAF9jeJO+DEkAPf9YNg3YSQLKsieZmdxJAZdjqx2R3EkDUOwKlVHgSQPt/v3jwhBJAWJr4ZNJ2EkBcc85mQ3cSQMtF5AZcdxJAY3IHT/V7EkDwt9UITJMSQKm6ef5DdhJAdV4j6kZ3EkAHjs19EJQSQK7tHE5tdxJAv9QkNYt3EkAOSBVMRnYSQAYqGqqidhJA9FGud4GfEkAW55ySYHcSQNa2ZS/zdhJAGKWp8CF2EkCfIaU7qXYSQDMnrvrodxJAuqHw25SPEkCCtgezGHYSQPFHrnyFdxJAYKOoZ616EkBnxI8qO3cSQPxogPmidxJA1447syx7EkB/+kkWb3gSQCLJBmytdhJAL1SEB8J+EkD2lXX3a3YSQAmus3j2dhJACYN7bHN6EkBts6QsBnYSQF482b+ceRJACEP8Hkh8EkCwbJ1MCncSQHvhAS+EdhJAYA5M0QWVEkC0cdJ4THYSQE0LKyv0dhJAal1nRbB4EkB2ScBpY3cSQNtuaCJDeBJA/168zwZ3EkDCDPfs/HYSQFFvf9pBdhJAafqV4yR3EkDmwjJainoSQEG0Iz59dhJA4hzzaCx7EkCZ91iKEoISQCSWPopvdhJA2UKiUBV2EkDsIEbN8XYSQJVLYEkQdxJAi+PAUwl2EkCr8h5zQXsSQHjO/2kJjhJAicXp8v2KEkD5lpRF6XgSQE6z120ohhJAv69ryH52EkBGYDAopnYSQIxFhzGgdhJAhgr4K1Z3EkB0dp5MInYSQBQqHVg8dxJA6vuQ/gESE0BG71N04HgSQGs/4qa7exJAwh8Ug2x2EkAQzq53angSQFi/SYhNdhJAxlRDwzt2EkCA5j3Jy3YSQEXqV+FldhJA7qtqPVF2EkBDFDrKWHYSQKf5sLoDdxJAHZ+JCT54EkDlJJrQxnYSQClIGz1SexJAI1rpq1J2EkBfJNMCJHcSQK9jdY9qdhJAZGPS1MB6EkAtXti+FHYSQEi9cIQJeRJAHoI9hYV2EkBCccBGW3YSQCsq9BEYeRJAzZg0qot2EkC62d/gLnYSQN7VBVpudxJAu3rjQ9N2EkDI59q1C3kSQPFs2J6YdxJAngEY5Hp4EkCBi65pPnYSQHIWLYG2dxJA5oXVGU54EkDr402fOnYSQAuO/IN9dxJA2V0wvxd2EkDl5Z7LEHcSQMQtL4lcdhJAfw1O9597EkDJTDKgAn4SQJHIt8PKdxJATAxNG7J2EkBrTouhpXcSQPuqo0QheBJAtnFCmk12EkCOmv1zX3sSQF2W/9lLdxJA0pHuUAR3EkBLLMI5CnYSQAmOmaKUdxJA2hKhSCV4EkCy4H+L0XYSQHXQKJX0dhJAADav7l53EkD4I721JHcSQEE97MGwdhJA/9u2Tv16EkAQJA6ViHcSQJqSSPA2ehJA858oik13EkB/cfyHrHcSQG6bAr3LdxJAA7/aBVt3EkDyfTkqrHYSQALeFPCKdhJAxCdXUEd4EkB4S9LJfHYSQPj/wy0OdxJAtehfuwV3EkDqhsI0AXcSQAWZkTzsehJAqaMvpfd2EkCpqa+/B3cSQBQSqrmEfBJAIAriDwJ3EkBRD0wsQ3wSQPHeXLzoeBJAq7+cuZZ4EkACE4y5RncSQDlCwL02eBJA9rwUpV92EkDTdu2gr3gSQA9WGIaNdhJAzFkXa4V3EkB0ISAJ8XYSQJi7RmJZdhJAI2y6/A92EkAbU0PM8XYSQCpZfZi8fBJArPxqMlJ2EkBZy+9B+XYSQKTqJTWKdhJAMgjIYIh3EkCJtA+H7XYSQPUBB5zAehJA+MCkQoZ3EkBrAjoVv3sSQHVY+cg/dhJAAqIujBh2EkBnNU3yMHYSQNcwmRnEdxJA3z6kGK54EkCukxHvSHcSQJGUz9y1dxJAfDNJRWp3EkCbr1m0HHYSQP77KlYCdxJAQxVy7LJ2EkCNfaFEtXYSQGrS7d8FeBJAdap/eqKHEkCdC/H3jXcSQFpymv0OdxJAWFs9224LE0Czcs14ZHcSQMBMhSyDdhJA7ncTwLJ3EkB038W8G3cSQKz5srRRdhJAYp7uV4x+EkA8//JujpkSQFpmyk14dhJA9Uj3/Y93EkAjA3674HYSQP+8ZMPaghJA5K/ulR14EkBQuKzOU3cSQA+klRmFdhJAR6Dq/x16EkAiRZCGIHYSQEJSepShdhJAqnJgx2d2EkCcQ7qT7H0SQIvkjbsGeBJAVohzU9t3EkCmQ4bEB3YSQHw6RKCwdhJAxr2y7eJ5EkCbPtXJ4ngSQPoICDRCdxJAYGiq2w14EkBHQVE+R3cSQD3gy2WvdhJA2IX11Kh3EkC0uAfpj3kSQGThCpIAdhJAfZsQB392EkC5Bp02P3cSQLWyWqa0dhJA8msegmR2EkAfuagmC3gSQGFPciFWeBJAxhpfi1N2EkB9NtpU+XcSQAXH1CeLdxJAzFl52v56EkCCiXKOWHYSQP0YoiWDdxJA1L12vPZ2EkAG2m9XtXYSQNCw4nQCdxJA/pTD3899EkAaNdL12HYSQGh+Bh1weRJA5ag0MzZ2EkAb0u6Q4nYSQM8dGeeFdhJAt/sAEIl2EkDr3Y/ZxHYSQHvDsgR9eBJAOs4xtKx6EkCMy8ap2HcSQGWuFQSgdxJATME20IF2EkA+2pwR4pASQM6eRRnNdhJAdoHKqP4BE0AJ2h29sHcSQFQ6uqxydhJAOqX/36R2EkAOZE2EVoESQPMCNn1qdxJAZnEsEgR3EkDJCZ66gnYSQOOP78WddhJAdwOHTUWfEkAdLewYlXYSQN//wbSwdhJAnc+ay55/EkBx0wd9BXkSQL5qzy0vdhJA+AW93+J3EkBF0HPi0ogSQOmtAamvdxJAzlYHyIF2EkBO7N7hhXcSQOTvskP4dxJAoIt1eDR5EkBpM17y73cSQPHJpKw4dhJAZXsVqdd2EkDHrzxR7XgSQD64YEqZeRJAFevZEbV4EkBSnX8UynYSQB9x8yemdxJAFLnzONR4EkB5dQAH5ncSQGnzUUcOdhJAEA0T1Sp8EkA2MJsBkZcSQDrFodWvdhJABYX86Zp2EkBZSZ6//XYSQEBdKEQbdhJAwexJVRB4EkDh3MV/KHcSQHbQknKkdhJAw6bwDHSCEkBW7KTZP3YSQD9Bor1yeBJAdNr5S/h4EkC5kophIHcSQDnq/UjJdhJAfytc/cV3EkCCZKQeznoSQCi1pbtleBJA/kwS14Z3EkDRYAG/SH4SQOpWBNcOdhJAky/9rAd2EkCSWhKdYXcSQJ7zvNmKdxJAdblZc0OHEkC/0Y7ntnYSQNbhyMb2eBJAK6FEGSB4EkBo0SYjF3YSQMXrHVjtexJANpvPwNF3EkD90X7LzXgSQA14v+lNeBJA7i0xLCp3EkBilEROgHYSQIcAcuzsdhJAOuhHepB4EkBWztO2H3cSQBwMPOF8dhJAgjlw9XR2EkA2zOGX1HYSQGDMi0cVdhJAIx8V9852EkBfAjX8W3cSQL9ExvPddhJAXf8wzCh7EkBl/09kJ3cSQOV6IC4/dhJAYCF3ykB3EkD/E1BuRoESQCNXLVGvOhNA9p9zpSF2EkDQj8mQj4oSQLcB6PQsdhJARdB+mGB4EkCXL8Nl5HcSQGaKc7+/dhJAxugjcXZ2EkCVYzARKnYSQNYlK7VudhJAfu1j0+t2EkA2c1i0D3sSQAFRgouEdxJArkVy2Vp3EkA/1ZZw2XYSQDNLh26KdhJAKobM0Dl3EkCw7K2YTHYSQOWrW4lddxJAeCgOzgqqEkAuGbOnn3cSQK70HOngdhJA59pq232MEkCOYM1XhHYSQEsKHgv9dhJAiwAAxDZ2EkDsIinIkncSQJBlHgQGdhJAS0s/BhB2EkBvZB696XcSQH1YWNiGdhJATbya1k53EkCUxUvGh3gSQEL88MYbeBJA+jeCLe52EkB6cJvevXcSQPhaA66tdhJA8M4xxQR6EkC42dV1qnYSQLsjXeWidhJAoHS4Y2F3EkDVM0vtRHYSQI2zaZPBdhJAxxIiPCZ4EkBcqmlEcXgSQOmWSjNDdxJAl+JB/8N2EkDXeLyEDnkSQC5B7JwZehJA8koj3xN3EkDhSWB1iXYSQC2mkEk5dxJAqsWkQD15EkD81bjE1nYSQNRvof1GdxJAdbVMyC52EkCgtXxoInYSQPjWzjeXeRJAEugFuGp2EkCIW9eSxX4SQDrxkrYGdhJA9Vq3NTV4EkCdmYjorHYSQOKnyJjvfRJAz4ZSymp3EkCphFOabncSQCfahVx5dhJAsWQQGRJ7EkAMxtumBHcSQHLy2B9heRJARz7rtAN3EkACNRt7En0SQGitjoXadhJArFh3kZl2EkCUGNkbDncSQF5MZyGDexJAGjVBuDl3EkBvYPB5oHcSQIwiBryqdhJANWyGV0t3EkBLkcey6IESQIqAybqnfxJA87NHOYZ2EkD5QLT6n3sSQN0dntbOdxJA8U9beDV3EkCc4kL9sXYSQGg/QF//dhJAyP69PJp2EkBe/eUMHXYSQMuEdKCAdhJA/8DiuFp2EkCWDYijfHYSQCncO86adhJAli5++5p4EkC8UU9v+3YSQJss7o3zdxJAXIlG+5x+EkDsjUbZz3YSQD5TtSBbdhJAt5K+7A16EkBTxu5w53YSQKZwufKadxJAAULzg192EkDM3TtmNncSQO8kCTRedhJA+rMlHhZ4EkCDTLvK0HYSQA7ySQtodhJAGsirfb12EkAR9KJBz3sSQLzTLlLidxJAV5zdQL52EkDACBmEjXcSQNYgrG21dhJA/VSehNl3EkAKZeNc/nYSQOpz6ZTAdhJA2KDEDhR3EkC0J5Ict3YSQBSRs42GdhJA6P48tP94EkD4DzL2EHYSQGs8ArRJeBJA+G686rJ2EkC7KWLJrHYSQEHBXBVaeBJAo4iYd4B8EkAVczC9WHcSQD2aHApUdhJAbiT7ZqqhEkDQUxdP0HgSQDHz+mE0gxJAUwEJ1uh2EkAZ/Ry7S3cSQDTdMTuldhJAC8X6+7F3EkDdN9fwdXYSQGCS5xOedxJA4ib7mnGGEkD/Pmvw44ESQBjQ36SndxJAl6IaYip2EkCFhGvAU3cSQFoz9sA81RJAKnNbdyJ3EkAckxPdlHYSQMObFPMqrBJAVS4tPJ52EkDtQyQpjXcSQCMQXnM1dhJAj4iaeOF9EkBbPc5OgHsSQDn9JvbweBJApHAgMm12EkByCfsS/nYSQDlrqGxldhJAmQ7luj15EkAOuaB7BHsSQMQJ3KHQexJA5azCE8Z4EkDUF2GMEXYSQBbg8mPvdhJAt3B36OR3EkDzWHXCh3YSQHWyH6pJeRJA7rMVry15EkB7JQwkenYSQCpuaOoTdhJA92632Yd2EkDWObURZHcSQKmFYsY+dxJAkk2Hdqt2EkB11qI3IHgSQCSJNdwifRJA7L4WHLl5EkBd5ZI0A3cSQISvQIuvdhJA2WtL5xd2EkDPyWBHF3oSQLCFpxt3dhJAubfbBEV3EkBaG9LZO3gSQKWkjfUbdxJAEsFIbCl2EkBjRwLGFXYSQE0ZhZyPdhJA+xCHN1TwEkD0RbGAn3YSQFBRzppDdxJAaauqnfN1EkDoaAIytncSQAT49c9CiRJA9OhgW3t3EkCFpao1RXsSQBPP5k01dxJAggFcrWB3EkA6VG3QgncSQKOd90TxeBJACucAeRZ2EkBdacB8MnkSQCN5B9sndxJAej6wuQF8EkBqfwaSi3cSQNluNpQ6dxJAOLzUjpZ3EkBEYOiLdHYSQKLnlA9edhJAJnWVVbTeEkB/E5EFpngSQLdvHh5qdhJAwhs1BSl3EkDLm4tCQXwSQNY0bgnoeBJAnWQli8d6EkApeoHFtXYSQHvGVzGYeBJAm9t7ogZ2EkC12f6+xXYSQLge67ygeRJAUCvKXex2EkBQVdudJHcSQBe2ic1SdhJA+72+wrF8EkCWzS8qWngSQJgj6l83dxJA715ztv91EkBzDeZRnXYSQDrYLLUtdhJAZfCNRuB2EkCoe2fSvHsSQI1RZrY2dxJA5weXKEF2EkC4+hMW+XYSQE+pBumseBJAzLjYtj93EkBRrkKeq3YSQG6o0XAkdxJAY0GZFax3EkD4Kcs6a3YSQAcQXAy9vxJATbRsH2p3EkAid32HSXcSQP/gUhVVeBJAYYpd/FN2EkDdoB3KyHcSQKJqWETVdhJA4TChTTp2EkAb5N/xWnkSQB9RaVsDeBJAfvrucml2EkB/fkfe3HYSQHq0XGamdxJACDNnTY13EkBWht9so3cSQCUISC4CdhJAk1vs5SF6EkDk3GzQWHcSQNIb+sK1eBJAdWWevZt2EkBKrpP1jHYSQAfqq7H2dhJA+o1HYJJ2EkDMhZkVs3cSQFKe2jOFdhJAlPnxUZR4EkB/iIVDyncSQA0IaaJFdhJA1qYoPFWUEkDjQdx4WXYSQOR1NHuSdhJA0zw1JwJ4EkAhfjZppnYSQNmFCYCiexJAMwJBjPCEEkB80pdEBXgSQOFiXCowdhJAhFWxXnp2EkCo9zft4nYSQBn6pquBdxJAawsiIvGCEkAqTJvqkXYSQPZxSzMheRJALmR2O0mNEkAiHEqeujoTQHOe0KHReRJA09IIxoF2EkDILmsE+ncSQM6Qm5IidxJAi5kkgO92EkC/FY3jq3YSQOaitk3+dRJAh6Zj0Zt2EkAHvRoannYSQBCwB6+leBJAHhURJfV5EkCG0cEsinYSQM+U5tlwdxJAjjhOxVJ3EkCnwP+tnnYSQG+t0pbBdxJACPVr3Al2EkC3VbG9l3cSQO4gtIl0dhJAjouXfQZ9EkDjBFWhl3cSQL74f0CFdhJAqu2O0vh2EkDi6oCA2nYSQPG/99O9dhJALRcoGFR2EkBFyjasa3cSQE0a1fDTdhJAzos/5sJ2EkAAps+HwHkSQBt8k96edhJAIIzPl052EkASZvNiU3YSQD+zyH0ddhJA62dKuAN5EkBuJPCehHYSQFHrznQaehJAoiY/uSZ+EkDGsiYG+3YSQJhmoh9pdhJAv9ryTkl7EkBhM3Y9mXYSQD8mkk9EdxJAJqyGUhl6EkC+vsz6KnYSQMKxzxFqdhJARTdNwlh3EkDQJ6BIuXgSQL4rE6xgdxJA9Jdo5AB3EkChXnPgx3cSQJYHJrGSpRJAXk0Zhod2EkDvqf6J/3USQN1y9sHIdhJAoxuRGlh3EkBAtoDyiHgSQPtnjuLbfBJAAH0tPnt3EkCCH6VZcXcSQJPMO/OcdhJAqVC9TxCDEkD2JO4ZZ4QSQE4RW4cp7RJAePCmIzZ3EkAETNl2Q3YSQFfaaj7idxJA8MlS9qd4EkAm2nljiZsSQG0IakTrdxJA2o7+7pR2EkDpW0FeTXgSQIGB/xMcexJAuF0Wylt2EkB1q4scfnYSQFRXrmEveRJAyFaaBG13EkDV3tnsUXwSQLHzkeEFdxJA7Vfz8Ph2EkBkONzHTncSQIXzN6hBeBJA1wsjtzF2EkDmJu6OdXYSQJhhE3nNdhJA8FKJ7U12EkCwBbNxFncSQOaUlBYyehJARR3osPCAEkBHYme+rXYSQLlng66udhJAS8xSoTx2EkCWNPGz9HYSQHH+J88IdxJANCXqqO51EkCpZtmhBHkSQMY+ErlsdhJAViAax7l3EkDLUM4+r3kSQDvJTDpedxJAYwctDV59EkBNVZe0nncSQM3D6T3EdhJArXE5aJF2EkAY5BFUz3gSQCbrdVRndhJAX8y4L7t3EkARAZZTVnsSQL2jzao7dxJAcrCT6hB2EkATO7PmQncSQNNmjlegdhJAZShzG6Z4EkC+pguS1nYSQMIVUwPqdhJAEM4COL92EkCxzeG9g3YSQCbpKTD8dRJACR96nDF2EkDvd6vGQXYSQOILOhc8dxJACBIc9aN4EkDnUBumsngSQLnAGUIzdxJAWRKUjH92EkBAW3dD/HYSQFLKFYw7eBJAN25JHFp5EkC53e8PzXcSQKz3zuQbdxJATBwQ7ed7EkAkE9cJd3YSQKLeSS3odhJA96IIQpF3EkCGAJWudHgSQEvrBLgweBJA7SO2GZF2EkDNt9vTAXcSQEWSUZXXdhJAKHBvf/B5EkCIO29893USQJH92gwaeRJAYmTsf7F4EkDRojMVT3cSQMZzmQBqdhJAdpWI2Y53EkB/n3tzZXcSQHuh4ecRfBJAWMLM6yN4EkCmuArlxnYSQCG2o9rlexJARlVakKx4EkAcBiqlLXYSQIUZcQUPdxJA7GTinT52EkB+EEWLk8YSQGSQNpUOdxJA5e0qtm52EkB2MVX3MnsSQBiYSvkcdhJAHn9ZnAN4EkDMxCvyfHgSQOKpz359dxJAqvwNoD12EkDhIxR/mHgSQJOLRqrgdhJAE3YJiCJ2EkAW8E4ys3YSQO4TNho/dxJA5o/Lamh3EkChwxdfrXYSQADuHkyGdhJAsjlp1RF4EkBkj+Bf5HYSQG/3Iqx2dhJA5xDupIp7EkAAQK3unXkSQG3KxwcKdhJA/WcK3pt2EkBe4suD5ncSQNovZw49dxJAjB6gQ+t2EkBRpHVrg3YSQP3NnymfehJAAFmsc2R5EkCFmc/R8nYSQAbEzc+hdhJAqquaHeJ9EkCMEPhoWngSQBHm6VaLdhJA8NOKPqyBEkDkmp7UBnYSQLiPp/C2dhJA5AIcGrV2EkAQVvAGh3YSQKVlLrChdhJAuBCNEb13EkDVVvCtNncSQAiarP+EgxJAweBeA993EkBC8l0dRHYSQNDonK7kdhJAEP7jUcR3EkB1WFI5KXYSQDSv+kCgdhJAgSW1Q4d6EkCapdwN3HYSQBd9ACpngBJAnMG8slV3EkDn8tV5P3YSQMGwT6O9dhJAbhMwIEt4EkBmF7eBY3gSQEU1rePOdxJAD9hRo3R3EkDuJwmdEXcSQJBQb/JpdxJAriAuVGV4EkDu45ia6HYSQOfJKizIdxJAFRjKcEt3EkCuLedWJ3kSQD1kvNtWdhJAUJ3YWRXpEkBOBtGpwHYSQGRgK7vQeBJAyquljAF3EkBfpomFMHoSQNgb0gMHdxJA94lqj494EkDIxpz0incSQLAwVzs8dxJADihiDvB2EkAGQH4QTHYSQLXXfIrtdhJA9TOVFXJ3EkDA8HvsmnYSQOqUJBKfeBJAtWObUa14EkA7esSxfHoSQCzSh2z7exJAD1LBYud2EkD/P6RNmHYSQI3suEHPdhJA2uA1TJV3EkAfs5f4QncSQFft4YiwdhJAIKO2eCh3EkCmTfnysnYSQL+H15+UdhJA+rHooeB3EkBiruXlQJYSQAl+wSdtdhJAMTzMLRB3EkBnP5UGbHcSQMyf7KbFdxJADsx4Hj92EkCop16Oh3YSQOBgdI9NgBJAhqfZPTJ3EkBWSYtJWHYSQDVyNj6ndhJAGDg8/oN2EkBvHkfD338SQFh9zITddxJAzCLe/oN5EkByN5Nm/nYSQHo/ZMr/dRJAiY2H9kl7EkAw/bCDOXYSQJ6xRJzQdhJANhWsqKV2EkDcLhCeF3cSQNG+hUQYdhJA00MxRtd2EkACMNAxFncSQKsKNCH1dRJAv5lwxIN2EkDUKWyKknYSQEdUhgaodhJAr5sVErN2EkASGrtFZHcSQGjKybkEdxJAL81V41l3EkCTyYHn1XcSQIrO8EnwdhJAIPpgD4l2EkCzYRfEWncSQOC6T49OdxJAhgYnTMJ2EkB5rPbfq38SQN0tuBJ4dhJA5dzANoh3EkCztTO+knYSQDchbvmOdhJAizQv4El2EkCBHJPfAXYSQEM3qvCYjRJAaMm5qdZ6EkDFwgTgZ3cSQCy1eYCVdhJACVgdsh55EkA+JTcra3oSQG4rj5L/dhJArLmT9Wx2EkAyEcTbLHkSQBh9wwfPfxJAzKooscF2EkBgSCMIzZMSQFadyAYBdxJA8WZZ5bx4EkCC8XWodXcSQMyKIidYdhJApSZBUG0xFEBKonfzp3YSQEs+MdyCexJA2j/ZFCt3EkDSYyoD4XgSQBXntk84ehJAfBSQ/yx2EkA7VKnhU3cSQLFFnJdDdhJAMtOk/Gt8EkCT6XwQcHYSQINfMFFneBJAJziSVod6EkAUn5LfBn0SQONwvwD9dhJAQpFJTL52EkDE1sU953YSQBBlpWmfdhJAffcS9X18EkAhk4uDgHcSQCzlQehhdxJAaDVlC/B2EkBzu7gN4HYSQJ0bdKqxdhJAJCE4zSZ4EkB9nZolGncSQLuyBF5RdxJADRCmfMCPE0CMdEa9NXYSQLGzm7bRdhJApcKj6Sd3EkBcsOr+n3cSQEb71W3BsRJAhd8yLJ93EkAObSC+XnYSQFitH1NUdhJABb2bHN97EkDUzrQplHYSQFfWSwvKdhJAeNPJ1lV3EkAfFlYK7nUSQK0vKHJddhJA5w9P4cx2EkDFYMojBHgSQGd/MI+1dhJAjcWYOKJ2EkDPbd8CCHYSQEbHYYcJeBJA7CaF0bV2EkAjGP6VnXYSQNXPCZHVdhJAF+DDjxx3EkBhf+JVOHgSQITzf+FBdxJA2oilyvV4EkA9P1kwy3wSQHtoz4+udhJAw3EXg5J5EkDmI+ptD3gSQGmvHJHgdhJAezwbyfqBEkC6iKBk1H0SQIgcJkY7dxJAoXqp16F3EkCrah6W3IkSQD7exo/JdxJAmDOHbhV5EkCqGi3xSXsSQI2f8WO4ehJATkcZtcR2EkAtdL2RunYSQFU3LHY4dhJAQAn4oQSSEkBES2cFhHYSQHp97QTehRJA34GCMkp5EkCilTk/KXYSQMzPBA+veBJAHrD8rgJ3EkDZsXx9gHgSQBu80X33dhJABNjY6CF2EkCoZ6HRt3YSQIWOKMgodxJA+GaQX/x4EkAZF27RkHYSQNh1wx9FdhJAcZFmdWR2EkCyhPhjAHYSQLA3mgEPdhJAcl1wOxV6EkArsQISC3cSQHTn6ycFeBJAbwyKsLp2EkDXP9sVrMgSQChoVgR6dhJAAffkKvx5EkCCkB73CHoSQKHojZ8ZdxJAlrXC4Rl3EkCaFBQNlnYSQJdb6g6GdxJARhllHax3EkAcBh+jknYSQEjFaRsCdxJA1ZqF6815EkAj36c4V3YSQFghp6n/fRJAbGlY/EN6EkD0SrYYpHcSQOkLi9JqdhJANEW+5mp6EkDlCf9U2ncSQEEp1CHgdxJAZ2ciHup2EkCbWFe8a3cSQIQlKURQexJASsyOaGt2EkB6md0+QncSQKeXRlg2dhJAy2T/08x2EkCo9WcnUngSQFnhnTNvdxJA6S6Fool5EkCgoDSgBHYSQO40MQeUeBJAkU+18Vh2EkBOdgZZF3sSQPfSlL4zdhJAzURr38Z2EkDhnyBxMXgSQNFVG3+BdhJAYKfNNy13EkBmJDqSMXYSQMGVjSMtdhJAmWU9XeZ3EkBRl7W/PXcSQOrjYy5VdxJAV1j0fcN2EkDuETyV0nYSQKfCcBjVeBJAPTlGGyd3EkCCRsbES3YSQDLDyi/JdhJAPGOc8zF2EkDKcRj4PZASQIbFu99UdxJACQ1L/FN2EkDzqzR9lHYSQEtHxziwfhJAvYaHxzYKE0DMpZcDV3YSQGFxmEn8dRJAai6b2z93EkBlMnSkZ4ESQKu8nWrXeBJAm4zQZf6IEkA6Elb7mHcSQGM0FuhGdhJAv9pkMEp4EkDmeGhlW3cSQKYA/+mqeBJAza5c7k95EkD6dRTJ5XYSQJd+cBtjdhJA72wOZ0d2EkD6oO1ktHYSQFALM0qMdhJAGRnlE+h6EkBEvhdWyXYSQCjGGssVdhJAMFKKf/h1EkCknBC+mHYSQG9CHevuehJAE8clbR13EkBNlagZhHwSQOqt39U5dhJAB0Oem7d2EkCYXeGfDnYSQK8g2Kl7dxJAHNSIG1N3EkARG6YdMnYSQFZsv0mndhJAw3WajR97EkA/WhU5XHcSQExfdfd7eBJAgwIeEIh2EkC8ef9vuncSQEuZNAcBmRJAKnJdQOd5EkCKOwacPnYSQLd4IzaudhJA0MYup2l2EkBrvYH5wHYSQOh/7dxweRJA0qq+GNSREkBEfXY2NHYSQHIeYVKDfhJATfucjtR3EkCBtvpLfXYSQA3jH6SFdhJAcOSOw1d2EkCTKXJiMncSQA6Z8iSOdhJA+hvuKJZ2EkBKcZA+H3cSQMBK2WTedhJAZWOISX92EkD1Gm73Q3cSQOPcUL38dhJADZkUXIOFEkCW4WApnoISQO9o8arneBJAu+XXuvF2EkCG8ZA5bXcSQN7Klz9odhJA0/gKVBl2EkBE895LFXgSQO75BHNodhJAxZVbHoN2EkAqUP38hncSQJqclRJmdxJAH8y3smZ3EkDJUN/TJHYSQL/U+ut8dxJAoOvzs/V2EkDgb18tJoMSQD+bLhrldhJA0bn/eZl2EkApcHsP2ncSQMBndIQIdxJAlqZ14VB2EkDgbPHiGngSQLZVT5jsdhJAZbhSdu92EkDLA52+EngSQHQQUNwgdxJAWGWdDm53EkBpijnwqHcSQBNBQePxdRJAvNU+f413EkCrGjF6c3oSQBLS6CSaeRJAy/3VGC92EkAydFmBCnkSQPUgCKYKeRJA4l0vtZV2EkBY+OMOM3gSQBdKhorYdhJA52RYnhp7EkCDSac9F3YSQLTE4juweRJA+Jvwg6J4EkCVx4dOjHYSQKr3ib/deBJARs7A7N97EkDfQEPvOXcSQI8ZKLlIeRJAQKkIVFF3EkAcbQ0WWnYSQLXlehujdxJAyNuiidV2EkBdGBG8KncSQOC799qOnxJA4TT6fGN2EkDwTQ3K/XUSQE5TJrQ6dhJAtDo2Xrd3EkDA0QK7IYwSQJTTvzzCdxJA1enoinN2EkBj1eD87nYSQLNSJzR7dhJA6lbhBP12EkBANUnT1XcSQOKiyOs5exJAZ+Gv4rZ2EkAxChlmH3YSQDz7azt0ehJAJJFctCR3EkDwKM/3yXkSQKAgHjTAdxJAd04o4p93EkCpvxrGu5MSQDwRnE7fgBJANGa8VgZ2EkDROZ3RXXYSQKsdL9dMdhJAwBatCdt2EkBD+oYUsnYSQE5PtaDaeBJAQNgfUCV7EkAYHOnG/n4SQCrXktIHdxJAlsJvXrt3EkBuobF5SHYSQMR6J8kRdxJALtAmmHt2EkBtwvujonYSQPR32NE1eRJAd2SX6RV4EkAvl6jcs3kSQOWnv1zodhJA1kZnofF3EkAfCK+nvnYSQDIJezNIdhJA5IhkAl52EkDxnqia6nkSQCf/4grHdhJAIRwVnQN2EkAw1Umo53kSQLFkwAXbeRJAeNAiy6aGEkBdJkEldnYSQB00oAWYdhJAJk3zBfR2EkB86kI1y3YSQLTHhbBZdhJA3aEOEcV2EkBmmaQATnwSQNDW3ISldxJAGZ502ed4EkDtPWlR7nYSQAG7kQMVdxJAF5L1K8B2EkCnjgLAtoQSQJG8/qnAdxJAZk2Ukvh3EkCTmKM/tHYSQFKvTFEkdhJA9Roa7a95EkCGN1/AFXcSQD3EZbe2dhJAwLMGhEB3EkCxL+JfBHYSQDz5C9x5hxJADTiOUPl9EkCqMgVzaXcSQD7R6FEzdxJALWcGbCR5EkDbThYoBHYSQPYVPv07dxJAjlR0Vlp2EkAXTkCWhnkSQLMaC4MNdhJA7Sm0UlF3EkAnGBWcz3YSQL4QIABjdhJAT95ByX92EkAIBUS/h3YSQNa13iRIdxJAnl4pXaZ2EkCKkKMtAHcSQC9Un8H8dxJAW1tOzAF3EkC/KDsI5HsSQCkU3SyVdhJAGZ0r9TB3EkAjxrEEWHgSQHBpr6WbdhJAh77ToVd2EkAmhbOGkHoSQHsClq20dhJAPMK/XRl3EkBrVsdbw3YSQEEsaD8ohhJAKtDIkJh4EkAb/XZOJXYSQN4DhcTHdhJA+cw43IJ3EkCjq8gFSHcSQDsJol9OdxJAuypccVJ4EkDBal3Jx3cSQNEqQYo2dxJAqdUvojZ2EkC7WRTfuXYSQCm5pvaadhJALXFqwDR2EkDZvRs4+3USQB/H+h6SdxJAE0zp2MZ5EkDZdHhSFnYSQMgTlOc7dhJACzBoi1h3EkA0uNA3LYQSQFhHVmyHdhJAIdMfiOd2EkDduhypoHYSQAU1PtWjdhJAXopVTOJ3EkAJX1gHa3YSQCT32bhKdxJAzaa37Jl2EkDLh+ixF3cSQDRdfD2/gRJAW9rUyWt2EkAnxPDTgXcSQEHYfoq9dhJAE9kThvCSEkDPql6LsnYSQESFiuxzeBJAtH527nx3EkDwNj4OoXYSQBzXoV3OdxJAQNRICtp7EkDnFhq53HwSQKAr9782dhJALcClKbx2EkDFIu5KcpISQBBEkh/HdxJACeLgb06JEkDK1mwGm3cSQOTaPiASeRJAxFyywaN2EkCmUHm6DHgSQBwN6wtLdhJAHA65DzN2EkASLRmqqHgSQBHx6fIUdxJAwZ/Hpg18EkDTiys7enkSQATNTbZddhJAYDTsw9R+EkD4yzk3SIISQAtnA8JcdhJAAWizIlF3EkDyBnY1U3YSQIot6tueeRJAI06DS1Z4EkAwtcraN3gSQCY8LRXHdhJAo+ENmKN2EkDJE6JbonYSQBY11QubdhJAjtMKNER4EkARfl0PZXgSQCCo/QbOfhJAhTrVes12EkB/sl0OhXYSQEXWa7uXeRJA60pEjfB4EkDd2NbsdXYSQCo3RVQ5dhJAWXfvP4h2EkD4bpWBa3YSQKSn4Ul9dhJAYLI3T5d4EkDttbkLK5ESQEwR/5TZoBJAuV8NYZd3EkAaJ+UdnnYSQMNrG6YoeBJAl9y3HZN3EkBFuP7F3XYSQJUHtXE1dxJAGMLTfRh2EkAXNuiqknYSQORrQ4U1dhJA2moqSEB6EkCX4A3k63gSQGeK5BbGdhJAtSuwg8R2EkAgGJsJb3gSQHPfUD6VdhJAxstQJH2DEkCg2csze3gSQNbXPtMudxJAaA653nd4EkBP9htkt3YSQD8LjoREdxJAFp5uXeSAEkDe9Ut8bXYSQMuuEARCdxJAfsUfzSt3EkBvcvz01HYSQBx1PF3ydhJASVslkNt3EkCjeT/uxnYSQGRR8hBedxJAomrzUZN2EkAiPUf+WX4SQKmbfg9IdhJAY4CqZ/F4EkDOEofMU3cSQIxXe4ELdxJAYqDy6il2EkDsPz3j8HYSQJuNRDa5dhJAZ5csXJV+EkBMRjyzGXcSQDS8LEjxpBJAKJLPKpt6EkBDTeZVX3YSQI2om4aOdxJAHN8eonB2EkAAHcrA73USQGgZCLIreBJArQgq1aV2EkDz9GKY2ogSQPA0asXmdhJAdLAlrtd6EkDobhgPvHYSQG6xKd0rdhJAMDWPXsZ3EkD++Tw0SHYSQCBdvM0YeBJAcxsP3xt2EkCRmBfygnYSQLgWqrq8ehJAKMflvsZ2EkDB2SYrrXgSQLgiSwWPdxJAUEys/ph2EkBV7lTUeHgSQEQ3RSvkdhJA1gGuTSt7EkAHjNMNJ3YSQHKx5801dxJApPZRsHx2EkAZ2CZVg3cSQGGqnK2QdxJAimwuml95EkBqb3Q+QXcSQKbLveV9eRJATlyDG/d2EkDxPGxmJ3YSQLhVfXApdhJA4aOYDUh2EkAVhW7ah3YSQJSM2yDidhJA/zj4V5F5EkCeVotue3YSQGcIeuBpeBJAxjhI2S92EkANKd+/+HUSQJV7eJ4LeRJAYJX8sSV2EkA7G6Uj8XgSQB3PHnSpdxJAhWjZr/J2EkBsFN6H4nYSQNxtuwGvdxJA/Ri34k94EkB4tVLRDngSQB8DSQQcdxJAwAtB7lZ3EkDIgH99WnkSQF5VbG+wdxJAjLZf5zJ3EkCyP2SNbHwSQANDr30z9xJArDiGjgV2EkA7AOeI9nYSQCVZN/JbdxJAO+3N/M14EkBxykyVTX0SQGHH4OIHfRJAN75Y+l15EkAYgYZfHncSQNcz/pSFdhJArbYLM612EkBM6Ccu1JASQHQ3TNdrdhJAVTMm3yqHEkDQB8don3cSQIntWje+eRJAtX0CdZF2EkBOpZUffnYSQBtO9WmCdhJAHdPMiAZ3EkBX/XWwU3wSQASdYwOXeRJAgUe5SMl3EkAgECk7p3wSQERzWx7EeBJA1RyV4fd4EkCPi1WD4X0SQGT6G14gdxJAhr3Lat92EkDkMbhs/oMSQMyCneLLdhJAnBuSLHJ2EkCDeOTe23YSQIHZvIy8dhJAg5sACRp2EkC4YbTtl3YSQBFSiSeydhJA9f6xzgR4EkAJEQEGxnYSQA5dYBWIdxJAwIk2f396EkCIF0oZKHYSQLgTubF2dhJAEywQw4F2EkDo3Ex4T38SQGkobgR/dxJA4hRck0B3EkBPAhy+H3YSQNR9flABdhJA63UEOTt2EkCVAfvTyHYSQOfjrwyseBJAYQ+ID0d2EkDk+aXp8HcSQH7C2xhjdhJAXPtebGKGEkCWykqIeHYSQEPK+w5XwhJA5cfRidN2EkDplKZutnYSQHk5diYzeBJAwehKscJ4EkB1h+NlXHYSQHWWWPlMdhJA78BGTiSAEkBTp63soHcSQJ+jyAIKdxJAby63qoF3EkB44LLNDHcSQMWu6gV5dxJAyvCf54R2EkAu8ceXAncSQLa1QNMQohJAojibgzB3EkCSZ94YDHYSQLb0Ww4fdhJAPr+FIHZ2EkDSQQ5ZnHcSQHw9kNHndhJA/+NdOmB3EkAcNLBo2nYSQETK99+veRJAR8/OC2N2EkDwhqZYI3YSQE4ECh1bdxJA+WgXUT12EkCQxAsTZIISQJwhkjF/dhJAqcD72HV3EkBEfP4tWHYSQJjZ63AueBJAahRP6BJ4EkAz2kD/73YSQMvyJUg7eBJAPwlIqdZ2EkAIXuejzHYSQCzaDwSDgBJA5Dj6aAd3EkAsWAlKmXYSQOEoWw6ydxJAhBIiIMN7EkA+XMXR7XYSQFIvJwDiiBJAhW+YHnF5EkCDBLw0KnYSQM9nSHZ3dxJAF2+T4M92EkAUAmRZtH0SQIXDxqD8dRJA6YIr0t14EkCOcegsPX4SQJjEFrl/dhJAOSzQtqR2EkD1yVFrRXgSQAyK9sApeBJA367DZrJ2EkBZxAhv83YSQEedBIqAdhJAY8Fyynh2EkBxdrbM65sSQH980U8ZeRJAiPK7yJR2EkAye3wKKncSQCTiU7/NdxJANlLvlKZ2EkAjeKUEuHYSQC9ZTFZWdhJAYztFEN94EkBhdhxTsHYSQCg+Ya/3dhJAL87EOmZ2EkBd3/WKKncSQEcnf8UFdhJAPHP92NB3EkB9T4UETHcSQGPYDFWjeBJAx4xEujJ3EkCG5K+iC3YSQDw1rzO9dhJAsUU6vhN3EkD+QDtNBHgSQFIwr2l2eRJAuZaKMAR2EkAZVIMJ13kSQPH26K1GdxJAw+T/6CB2EkBuDGfu4HYSQLcHAOWbdhJAuM9wmVd3EkBbHr9nmngSQMHoUYiLehJAUbmybG52EkCx/c1GwHcSQIXtGXtxfxJAVdGvUoJ2EkAgmMCKO3gSQKcvyCaidhJAJpApWP54EkAB3S4KnngSQHWBt7COehJAGjE6QPp1EkAW0FRvlHYSQH+0EfD/dhJAmNuHHbN2EkCbPlb5u3YSQOdO3ePJeBJAQjgyO2J3EkDfblDhHncSQIEVw3kzdhJAnFU64cN2EkBNkyQkSHcSQJnHqkEPdxJAuuQ6jXV3EkCO5eZDQXYSQKrb7+RJgRJABhza0bJ2EkC7bDBiDIoSQLH06Rj2ehJAkUrEFfh2EkC6tMz8qXYSQI/gY8dddhJAH92Jp8h2EkBWsOIY8HcSQMuF8jl6dhJA9tKbiB13EkACNRG5+XYSQIOG7CUjdxJAUqNN1rp2EkD7TJY/tnYSQOe3BOi+dhJA50aI1wd3EkDpmC/ZqncSQDAOYbildhJAu2b47qN4EkDIkNwCpnwSQGqwFK/PexJAhI2w/Z12EkCVAdIRqnwSQAdrQZLCdhJA96sfVFB7EkA+jCf1jXYSQCet5EQVehJAWdo4PHd7EkD3jW+CnnYSQG8PbLd3dxJA9EHpobN2EkC85RHo/HwSQD7MnVTxdhJAwFPMioV3EkCHVguNQ3YSQBxcGbDBdxJAD4cEHxR2EkBET7ftfXYSQPCojL6KdhJAXMlle/h1EkCPIyY0tHYSQNBAXzOfdhJAYgnit6h2EkBGzyHOHncSQKlaq2W0dhJABZOYHH13EkDYZQSnO3YSQB3r8Pv6dhJAxJfYuXV5EkDbNBdHYYMSQP+Dr9y4dhJAPOY+84J2EkBIH1dJ1HYSQBYK0txAghJAFDGEi0l3EkBiwkLOiHgSQDG6wZoJeBJAJKad9R13EkDLG5CYinYSQCk6yl7gdhJAnmKyfj13EkAH3RlxN3gSQMbe9KYydxJAb4w9ps96EkBbYmr6cXYSQKEulNwtdhJAWlgUM0Z3EkCWKNUMp3cSQBnfkRL5eBJA9Ocb5GJ3EkDLXKb1CHYSQMv4PcTRdxJAiBs/iih5EkAl+KVzwXYSQKXpTvBqdxJAfFd9ZoJ2EkBTBpeoHHkSQNO/JwendhJA1CJvABh2EkDyM62/ktYSQJGmyzMkeBJAYImXgWl7EkBKUE+K+XYSQMd0mTBkeBJA2YQ0+vt2EkCGno7V2HgSQKSmtjokdxJAN00uDrV3EkD/pplsDXYSQBKmkitpdxJAipTlgpt3EkAdT/O3NnYSQHmM9OEhdhJA/gY2X+p4EkA1UPSUnH0SQIpIqXiidhJA0tACc+93EkAOR6vmv3gSQENbpl8DdxJAtVRvQkB3EkBsOj+3+HYSQI8Z+L64dxJAAXle5OB5EkD5VSRPxnYSQFsqXv1ydxJA5eOehTGFEkAnYp+7T30SQHkQizK1dhJAyM3tSFB2EkAlGO7dTXsSQHzLWoYqfBJA/6bRF/B2EkC+eV/JTXYSQBxfZg/LdxJA6od7FDl2EkAn5CvAenYSQHPdFnQkdxJAOPu8lyF4EkALzWVF1HsSQJeCi7GHdhJAnsB1dxZ3EkAU5YV8SXcSQKVZ5/mAdhJA8QquqIN2EkDDF8bNPHYSQE88bNrYqhJAYddXbeJ2EkD/xMaLRXkSQKe9clk9rhJABdC06Q13EkBmzwWg+pQSQPw3bPLVeBJAfKl3uHt3EkAKOa/VbHYSQLWttq5MdhJAhuLgiH92EkBdLwrGxHYSQPlOQp2zdhJAFv2UK692EkD6VyJkrHcSQD9RBbD2dhJAzG90MgfTEkAZfixGzHcSQFy3Nld+eBJAvncQ+zx4EkBVUxPtf3YSQFMiGB5fdhJAyf8HzH5+EkDx0TQo73gSQKMUJCNfdxJAHxy509+zEkCHfQ3nAHYSQGEhSPcDeRJAmbXs5rV2EkDWUXa3I3cSQM7aEIwmhRJAjfXIY2R2EkDOyvZZDHcSQCCvwKTaghJApC6/84V5EkDIZ/32xnYSQJfHqSlzdhJARNCrOpR2EkCXF0AxjHcSQN9Gcf5hdhJAU56Wpsd3EkBmb4H9W3YSQP8XL+2hdhJAR8uiqY92EkAqMnA4XHcSQBDIVfJ2dhJATPoMYAF3EkBbD4S97HYSQFXzB65udxJAqcRZ6712EkAKML/AL3cSQIDRSaVMdhJA9Iyx9bp3EkANjXNgsXgSQC+bCXFVdhJASi4dC7N2EkByTKG5qXYSQF45ERk6dxJAhPfIiml2EkAd7kaCZXcSQGPxa8SzdhJAsVXonFV5EkDppdMTDnkSQJfJaenLdhJALwb+DK53EkCBtOIFOHcSQDHt/+Z7dxJAOn6QDB13EkCIJF+LlXYSQK/MvB0qdxJATu096lN2EkCZBJ2Gj7oSQDvvLZxyihJAwJpBaRV2EkDrxe5SKYESQNkPIINZdxJAfE6B8id2EkBYYAc0kXcSQNoWarb0dxJAZg0KwwR3EkCz++6YC3YSQJ7cp0bxdhJA38jYcNZ3EkAgDBnISXYSQElOnAv66RJApWNYl8h2EkA9WypYp3YSQL7YMZePdxJATO27CSV3EkB8CLZSFH4SQNDdfiqYdhJAzPJesHh3EkDo1mBP6noSQJsUAwDRdhJAVm4ZtX52EkDFIu9nnHYSQIJAhyw3dhJALSwNV/51EkC0iGgWaHcSQMh7off9dhJA1HC+n9F3EkD2FbK+/3YSQBTEBdTWfRJAceGidrR2EkAUnSYcH3YSQNdmmuw4dxJAZ7c74D93EkAD5flgqncSQFXPpJz9dhJA71Jmd192EkA8JLryLXYSQNV4CEgOdxJAOE1hQ/B1EkBCmBW4RncSQOipJPxKdhJAIdUEWtt3EkDB8z0fz3cSQKJH3cQ5fxJA7oZpY792EkAFbelHo3YSQJG4PJB8dhJA2K4d/dZ7EkAL/qHeAHcSQM989nxCdxJAFO2EbBZ3EkC4NBnRPHcSQFoFhcoleBJAvH6g1lt3EkCJ2fvQEXsSQFCJfO8RdxJArDcccb52EkCeAu/kO3cSQAw+ObM9dxJA2fE7siZ3EkCxjc8iY3YSQHwMisNmdhJAfkbbJXZ2EkCzhsmdN3cSQJb5vBcMdxJA7nsyozd2EkBZ3KsnbnYSQPOmkJq6dhJAWEjZBf12EkB6IWkk++cSQLVB5Qg6fBJAFtVsgKh3EkBifMII8nYSQGAQ/tEkdxJAIfqtktZ3EkDMek2/gHYSQBPwq4u7dhJAEVWjQ293EkCIDnYOiXYSQBHeCBIEdxJAnhYmp9F3EkDV+JdSDXcSQA+nrFD+dxJACQ0kN6B2EkB7PaM5cHYSQPF54ROmdhJANVSjSz12EkDa6c6PM3cSQONYz6C9dhJAArbI0WR2EkBO8BTgqXYSQFQK/dvDdhJA388vL5l4EkDzZkf9xXgSQJuMidlLexJAece0Eh13EkC+j70ZdncSQMN9EthaehJAY/HJPMB3EkCD3u0POHgSQNanEojFdhJAKiFDdad2EkAAMGvgmXcSQG8kG7zudhJANZkf8Wh2EkCvbzAd93sSQA7MQscAdhJAyNHHyIR3EkBmoraPNngSQJjMO6uidxJAvcOGnjh3EkDl1VxoQX4SQMwa6LJGdhJA5FOffJd/EkCOnTou2HcSQMy/n6t/dhJAjfHhrnF2EkCquxoCNHgSQJX77DOedhJAoYT85oN3EkDNGzc5uHYSQBR7jvIKdhJAuUbfSZZ/EkBtuI+JDncSQEshTkaIdhJADa0qAC53EkC54T3haXYSQG38XWQXhxJARw+e6Jx3EkCCrXgmsHYSQM89KxMTdhJAbUrKyEJ4EkC+noRysXYSQBjJCwJGdhJAkLVoY1x2EkAUXtD8G3kSQOYY8uW+dxJAm+RIFBR3EkBZ96LQBHcSQDBE5HG4eRJAhq/EyUB6EkAY1D5IW3cSQBCFA6+UdhJACiUHP4l4EkA+LZ07YXYSQEfVYT8YdhJAFi28ral2EkDN/TfbAHcSQIKvpxMMdhJAZO5yFad2EkAOVUuUmnYSQLWfbmeWdxJAiMi7EJp2EkD9tQ8fdnYSQLy9w+3DgRJAiyaW8kp4EkBqJPpoxnYSQB6FRP8sdhJASFzrvox2EkAgOLkjWHgSQO/cyDyBlhJAvCOz9bB2EkC5D/o2O3YSQAkEsCbsdhJAIHGdKBJ2EkAQSCoqgX0SQPn4TXqcdhJA4wpaQVF3EkBVUBIS4n4SQBqW6R1RdxJAJnFC41l3EkCSA9xvV3cSQJzqxxTwdhJANDGLZd13EkBNihHigHkSQPaXuBeldxJARXtYCLV2EkBqbBciLnYSQL51UtQudhJADJqs4d6AEkA6EhIfzHYSQC6kHN+OfhJArCZznEJ2EkAUUnekb3YSQLK9XsTgdhJAbfmFSwF3EkCS2qcJk3YSQBB1n/dYdhJAeHhkKeR2EkDXJKMrbHgSQEF1zkQcdhJAGWa79IR4EkAO5bdICXcSQPLhZ/7ldxJApQEtpl12EkBj4vPdgn0SQG7TbeeWdxJAOqJR3mN2EkAqC6pi23YSQEZ9I7UEdxJA65Myd1F3EkAUMvVGjHYSQDwHPL5ugBJAwinvzdh2EkDycrRZuHYSQNFQnU21dhJAppYOfrd4EkCa0vdBxXYSQDnjQ29teRJA5Vn9REN2EkArwSLkvXcSQG9yuf5BdxJAfjOOwpR2EkDQYZg7rXYSQNt8G1rPeBJAIOSzXlV3EkC54c5DLXcSQGE2mTI+ihJA2oUUia53EkCPFmNFEXgSQACjOWFVehJAL5oeAxZ3EkBMIYCy+HYSQKAc37S3dhJAam7lwER6EkDjo6boKHYSQKD8YkACeBJAwAZKpZt3EkDi5Y1x1HYSQHtrm+QwfxJAlN8G6ut3EkC/p+kTkncSQAQ4e/cVdxJAqU14qxqFEkDiD9y4anYSQOLnAxTvdhJA5nB2BAp5EkDFxN8BZ3YSQCyVZlJUhBJAiBX9YmF3EkDj9MvvxXgSQJe21f0sdxJAMcS40Mp4EkCzI9U2q3kSQK8s1h/qeBJA65TNZvB3EkCXGyDc/3YSQPw73T84ehJARBxQzsx2EkDZWdnVD3YSQAOGECkFeBJAzQdqAcZ2EkA4ZBdrgHkSQOGZJLx3ihJAS3ZLz7J3EkB8HY88X3cSQGmcM4p1exJAgxxNGPd4EkDxogKWE3cSQDHcVvmedhJAAnk7q9Z2EkDff3w+z3YSQBtQa00HeBJAs0TDbol2EkBNxwdY8XYSQKsjwTs2dxJAxwtyJUx3EkC/s43A2KASQFE+CkApdxJAqEjW+Xx3EkBUhjY0RHYSQJuRgX4ReRJAEkZ0iHC9EkAV4K4CYHYSQBjAbAdNdhJATuosxAF3EkA9bF3b33gSQN5RV3c5fhJApgjhROZ2EkCt9yKrfHwSQOnd9JkjdhJArGBQpm14EkD9vSj8YncSQDrFuWJx2RJAA/scruh4EkBZsVWTHHcSQOWbRa/+dRJAT7kQ1vF4EkDYn0aenncSQH5WS68MdxJAAff3MSx4EkDm/aZ3JnYSQLUqYuaAdxJAKqLBoA13EkAXHHhmbncSQA7DzCIMeBJAHcxYWnB2EkCy/IpRy3YSQNZivs8feRJAy+iXOwl5EkAbn41a/3wSQHe5DIfEdhJA6N6u6Zh2EkDj9LGw+n4SQJensv2ugBJASsPs5xh3EkChSjE1FXkSQOQqf549dxJAEbVL5JN2EkApd7fccXYSQOzncecddhJAzePH3hd5EkAOhR6B13cSQMRfYI3hdhJAmkWCwi52EkDR82ZPcn8SQEvR5ohihhJAYbW/ma54EkClj6WA3HoSQJqrEv7vdhJA3oc5OxqhE0CsWxpBAXcSQAPfDzBJeBJAhMRp8Mh6EkC6PKc3ZXYSQONQeyiYeBJA54NXktt2EkB8x5dnv4kSQP1sh7mTexJAVJBaZxB2EkAvqfsjUHgSQE/m7kQIdhJAW4kFU6V3EkARuXRtiXgSQMsAxD1UdhJAZA6UhWm7EkCezVffWXgSQOeJkX/OdhJANlYwibF2EkCJCEF2pXcSQCE+AF0WdxJA8yjp3MGfEkCtsGqfCXcSQMyWTakddxJAQxMpESR3EkA9Zyli23YSQO7yuSNNdxJActMdr3V3EkCZ7bN3f3kSQFsS1xpXdxJA54Xy1heEEkAZuV7m3XYSQHhXt75GeBJAH9LnaG13EkCpuLN4vXcSQPY4z3FCeRJAorxDND92EkAzxrbriXYSQI94GBm9dxJAkYYmbZ12EkCdFjzBTXoSQFLeqKHkeBJAZH1x/l92EkA6iY7gRXYSQFNEm80zdhJAZSmmpGR2EkB0jJL/2HYSQHiXIrC5eBJAbGGBHrJ2EkCXCZZBxnYSQClwsoDhdhJACSI9ZZZ8EkB1aEBgiHsSQGrbzh20dhJAx3Uealx4EkD1sls8BXcSQDv8UEQ3dhJAnQsg0YR4EkClBTJPmXYSQB/ZB2b4fBJAnVq4uW13EkBwLYN6OHcSQEQOPBwydhJA1Any9Rx3EkDVuyCY6ncSQB2jQCfldxJAdd/JDmB2EkAcSxoLMHcSQCMSPV9rdxJATSUvoGl3EkDM1nAr23cSQBOLzEUAdhJAF/V1bD13EkDJdJkBWX0SQAx6YoiGehJA2Qdotg52EkDUjLpsTnkSQB82s6cydhJAs0ajQ9WAEkDqpueIeHYSQDuXIun4dxJAJKuv4wl3EkDmcha8MX4SQFwCfFk9eBJADS5A6MJ4EkAlNu3iU4wSQA7cjHhFeBJAetXXSwl3EkAAWTXJynYSQLokYAVOdxJA2ImKSgSNEkAAkSIpAngSQGWNu8czdxJAa6v9eR55EkCVG8UKR3gSQKqz1eG2fxJAlRRGlU97EkAqgeWW3nYSQOThCMVoexJA2S0QyXl3EkAZSdKVdXYSQOUu+10jdxJAES0Br4F3EkA/pxTCSHgSQHw9PeHffBJA/I0Nr/J/EkAd4GAOBnkSQA03g1lrdhJAAZZLDYyPEkBvZ8oj23YSQAgTa7SydxJAR9woIkJ4EkAzXVIqY3gSQNey6KlrdhJAcIqm0QV7EkDTxopjkHcSQK9epjySdhJAp+jAHo12EkAoPPbD73YSQEHbxyqGeRJAmcG1WgN3EkByYZIsJHcSQBil1slzdhJAFEL/52N2EkDtdYeS03YSQLD2tyFUexJAiiy0DA53EkDDJ+DyeaQSQLrUKCYReRJA1WvVWkl5EkC+S8ntW3kSQBDzWESrdhJAx1U1lkh4EkBOmvRJjXYSQN2W5MMGdxJA0Lkn5Zl3EkBNpSEAfXgSQNlFPsa/ghJAWLx3ZbR2EkA+vW++bHYSQHeH1XJ2ehJAZvcVZyF7EkAJqd+XtXYSQKnbbyPqdhJAae0R9y14EkBXRmZytXYSQCuTipModxJAG4OmlVd3EkAtHbuNTXYSQHjfhSFedxJALmiVYiV+EkCwvh9DSHcSQCby/0lMdxJAihXXy453EkCGK7Iqn3kSQB76GHV3dhJAyjjcySl5EkC3oS7HgnkSQMm2hOINehJAWtcFcaV3EkCG1uuQknYSQGwpSQ2AexJAWSA1sgmJEkC8On49SXgSQJEKB9tmdxJAhcQZxF1+EkCy3EQrAXYSQNMfgW+odxJADoWeWkV2EkD3N1OaqZISQNQ5FlhqdhJAXZGvxd14EkBy/CiosncSQICyrso5dhJA5JzdDNGmEkCMPdCFtnYSQEIH9PFodxJAv4tMLUh3EkDTKWNmMXcSQDELtFBodxJAmapApwiBEkBcIM7P/XYSQFYuyNR0dhJAxSpTQ7R6EkBI4CuIjXgSQBi3GqpEdhJAMlje6yl3EkDH68z4EngSQFMGmRZedxJAS65iM/J2EkBcFCf65nYSQBzL9QQbeRJAAGZwbap2EkCn6aSdHHYSQO4VvEtjdxJAuabpu5p3EkAh7wEd+4ESQGP7Ci5NdhJASbeGCvF2EkDAHc10OnYSQHwMKP8peBJA2vDXjVqAEkCZLAPq83YSQEa/8ORNfBJAYjnTCzN3EkDHI0sVznYSQNMljfhpiRJARjKRwAJ3EkCNZ9mmN3cSQAm2/AendhJAqKGZwZt2EkB/EWw6sHcSQJsXUQzjdhJAQpXqZCt5EkABQiXoMncSQFYUyLkldxJAd15qhKJ3EkD6qkiwLXoSQBMkLPqYdhJA/YvZ3wh5EkBVFty0bXoSQBwA7+bxdhJALHR52Kd2EkCkKFJVj3YSQIY7KVA7eBJA5gTUxNN3EkBp2nO4GHgSQElCLqfsdhJATXuj9F12EkDwesEroXYSQDL/5CvcdhJAQKz9oLx2EkDa6qL5RncSQLGBbfH9dxJA8imfOmN4EkBL+sd24HcSQARj96ZGdxJAtm9aK2V2EkDgVdN+w+ISQKZo70XidhJAyceNGTB3EkAJ01RVRHcSQAWfZ3T+dhJAgUayTjd3EkDaVS7lDX4SQMAXke2WeRJAjqsn8xl3EkBq3MgvE3cSQObk8lzudhJAULIaqAx3EkAt7Kzz9ngSQO06/O0PdxJAuLb7Amh2EkD0kh2waXcSQBVMG1HTeBJAA/1FbS19EkAerIhQX3cSQCaWMqtkeBJANn1IF4l3EkDl8uYG+3YSQKKuOBVseRJA6dy6N7t2EkA8sxn29HYSQOPOXgAKdxJAbmiQb1x2EkCKu6dYi3YSQBS9prY3dxJAuM/jpvx2EkB2ri0wcHsSQGJrQ3TXdxJAL7h47BF3EkBoh5zmancSQO2yTNf9eBJAH6c6cxh3EkCnYp8kJncSQOmB6kO3dhJAQ2zTh3F2EkAKAkE4hXcSQPjDVbzGdhJAiqpGR0l2EkBsDqPjo3kSQFOCV4FodhJAmraP8qV2EkBggsc9kXoSQLLSNcipdhJA6jPZeTZ6EkCZvHDqmH0SQEUKqvWmdxJAzCS1gNZ4EkBbekjFt3YSQB5dmTQ/dxJAnzdWD5p2EkC131U4iHYSQJ68lqRqdxJAP1utNj13EkDIkuBAF8wTQKO/ekpjdxJABVGhLrd3EkD8mjHs53YSQBkpL9bPdhJAwGZERfF4EkD7DHrBencSQGA93DUBdxJASI5OjzV3EkCzfiSAnnYSQLcyGZ0VdxJAwdwQurZ2EkDPTDJBjnYSQBHN1o57eBJA/mB95aZ2EkDyF6bbrncSQMP4wkhOdhJA7cp3YtB2EkAKoUIwcnsSQFfMJngCiRJAeglMJrR2EkBrnLdH9nYSQKcSagi6dhJAl5IPSGp2EkAritGcOHYSQA2Sja/BdxJAkz0JM+B2EkBffCOoknYSQKsNISn2jhJAR1Zxs052EkCmDjtFynYSQG7GAJIOeBJAMXRf88l2EkC5kHwoU3oSQNtX/MzzehJAMI0PiOF2EkBGd+XuGnkSQHLcu8jedhJANJ3pdsB3EkBDE9aiencSQH0yThDUdhJA5lQwXVOBEkCvA6RehXcSQITo8Oa9dhJANeUTFu12EkDSkzDNrXcSQBeXfX0ldhJAO8Fxojl6EkCBYPYR7ncSQBL0/gQtexJARNZqXq54EkC/nfrUd3gSQMRr9unZhBJA8f9x5dd2EkCCeYZicHYSQBQ3JaQMfBJAuMch6Cx2EkApGHc2m3cSQPpGCXM8dxJAMiz0X+12EkAH2S6Mj4cSQPxP48xGdxJA85BLAEd4EkAr4hBll3gSQD4kduYHdxJAJPSv+QB2EkCBoIpG+HYSQHlYGNxZLRNAuUuAHhZ3EkCqCAvxX3YSQDf7XCYDeBJAYzvOpTt3EkC75UYyGHwSQAJEw7HtdhJASMPePUF2EkA+z/QEg3YSQAxgtf6MdxJA8U4ndol2EkDus3jfOXYSQGleHC1QeRJA1H2WIfl2EkAz7oupAXcSQGRUNM6adxJA8btNDhd2EkAJx6ASe3gSQOpsujRkdxJA29RAAp13EkAQGUT263YSQGOdzcO2dhJAoeQTc092EkA0dbWc1ncSQJk4RHV8eRJAYuwBDqWbEkD3iBGUy3YSQAqKQQwHdxJA6wOiKbx2EkA/f3xsE3cSQN9AB+YNdhJAKOKdNKF3EkAtZ3JzfHYSQOeKFXQcdxJAcMiW+pB2EkDGwgiJDH4SQLryAJPadhJAipEGCtZ2EkDJ1fa1YXYSQKeCmm6veBJAPaiv6/91EkCF4wKLOn4SQI/JYMLIgBJA209xyOV2EkCiEKQ7PHsSQIekj1w0dxJADawFJH53EkB/fWAsyncSQJ1XlKYIdxJAJN80xTJ4EkCLeHUaRXYSQNyyQlVMdhJA2NatRWF5EkClqy5W8n4SQIBQ7ioUeBJAW+Gr79t3EkCKA/Wje3YSQIvD0faydhJAjH7QARV3EkDPcQX69ncSQOUMZ533dhJASzia2/11EkDq6+ntk3YSQHdIY6f7dRJAu2q+HNJ2EkB4Zi7dsZYSQDh2/TLcdhJApLViM/R2EkDLBDLj03YSQIvXLJ4ndxJApT3WX6l2EkDWWSYRxH0SQH97oFEVdxJA7zNfqkt3EkDIcszxFngSQOGRUspUeBJAoYCn4cl3EkCf8YreyHkSQCXpStRedxJAyHgOJ713EkBHAZXINnYSQEBGngaudhJAwIsFkwd3EkAhkKU/PX8SQNRdaX6edhJA7qkbisF2EkA08LgS4XcSQJQ4AZWmeRJAiPvKill4EkCCtIhc+XcSQIzWROmCdhJA9//KgUV2EkAVbXKYfnYSQCyGyIVwdxJA59MUf1N3EkBMMy3/R3cSQNX9TeifexJA5XszuTB9EkCShSx7yXcSQLrML8OidxJATEWLTRJ4EkBiiB8YY3cSQMZWdIwPdxJAdzPU+It2EkA1xi9HsXcSQDHw8/ZkeRJA/qHdKl93EkBSTg5UBnYSQLZNZHCtehJAiV4rhEt2EkAg3QbP6HYSQNexnWMIdhJAy+sSRfKrEkDRQYzc0XYSQDbdvq0udxJA3RWp0fV4EkAxojAbb3YSQBghc6t2dhJAXivQ4/N2EkAYG98np3YSQEEBj1exeRJArkhOJ9B3EkBhJMoZgnYSQBa/gmMrdhJASU+sOft2EkDn4q3WKngSQEgLjPPmdxJAaac7c692EkBKkGC1ZoASQCMlRA9behJAspA/JVt3EkCUFl+FYnYSQN2+ZlurdhJArigcQLx3EkBZKpPCcncSQOp/5B/KdhJA8AyGI/F/EkDUZGfkA3YSQC7WLPAKdhJAplzmBxCIEkDRdo7JCsYSQDRb9wpldhJA7cl0bpB2EkA2o6NNJ3cSQD5XJN7riBJA/eWNmd94EkCnoM6Yd3YSQJ40hLRndxJAONgkN+F3EkCM60Z9VHgSQL2q+SECdhJAR7Tycxp3EkAXt7w0QHcSQDMzHcazdhJACH1Trj53EkAB+l/KRHsSQB5seBtreRJA6trsA1d2EkAa78mztH4SQGCkN0/ldhJACS2IQ6F4EkCfzlMwFngSQGyZTKaCdhJAmhpO18t2EkA5jYDAFIESQEQvCW7vdxJANFK0mnx3EkCfzNlkwHYSQOgsiY8+dxJArEmgZFV5EkCWaZdB15ASQH2QUphcdhJA/ss6jpd4EkA/MKLrmXcSQLs3dvdXdxJADtrpXMF2EkCJHY9dR/sSQBl5DSdFeRJAa+zrm3Z4EkAhQ/6E9X4SQDtP9T8EdxJAdqLa5gh3EkDrAjvf5XwSQIbvfntgdxJACl4nokV2EkAmsiRZL3oSQGjfj3XtexJAT5U8WNJ2EkChM/hHcngSQNc2CoOIdhJAabDCfV52EkDM7Z3rxncSQFE7oYOieRJAaivZdI92EkANJRVSlnYSQDlx6PiUdhJAIxEguqHYEkDRknCyI3YSQBRnKbATexJAEkcZbIN2EkC2O+gZ2pASQPaYUUp5dxJAb7FYo292EkBbQlayRowSQKqLQcwXdxJA5Adkq4Z2EkATfVWBRnYSQM1xgQWhdhJAZAWjWop3EkA2kRKT0ncSQMItd9CwdhJA4FFBF413EkCopexAw3YSQBk5XgR+dhJAy3clM2x2EkA0R7XEqncSQNE9DwsXdxJAZHTEcFd3EkB58wrXHHgSQFVbc0a4dhJA1/St0Jh4EkCBm6Wty3wSQHZWHAZodhJAVaShOn15EkAnseM5xHYSQLIPHj9OdxJA7MXl5Vt3EkDjklbGoHcSQJVTjJNydxJA7Ka49Gl2EkDgfI8IrnwSQIUmHGcfdxJAJgtJ2ER3EkBTTr4dcXYSQLNOnDmndhJAwp4U7gB3EkDn0k10r3cSQPTJjBuldhJAa2BEXuN2EkAPEUESWncSQFz/KlkEdxJAmas3LUR2EkDHcICls3YSQF0/hkfNdhJAP3sOOc92EkA3r3PYY3cSQGvM0sQMdxJAj/xPvr92EkCSfxkGbHYSQJvU+yN3dxJA/gfbL8d2EkB78aZwCHcSQHfSISe8dhJA/IR4q/KaE0D1g3wFOHYSQLJOfodkdxJAvnEpkJ92EkA90gUV6XcSQIkVOahFdxJAG1oCRCeaEkBwIA0IDXYSQJnT0kdsehJAei1Qk8d2EkAOKSbJUngSQLzCpCbfdxJADaGuyYx2EkC96bLQsHkSQMtlPK2JeBJAJQMc1Hl2EkBj0dcuGngSQN/esgB+dxJAioSacGB3EkAYmwioPXkSQDFidPD1dhJA+csxmd14EkClfSedwHcSQMzxupbedhJAFn96pcp3EkAN5FkWUngSQExW8yWydhJAqmRwFLyBEkC2fZLyEHYSQA1aYJ8keRJAe0NWWtt3EkDI/TMq3XYSQNX4d4HSdhJAfj3BWbt3EkAK5fFz8XYSQORIjpTGfBJAHo4PW3B2EkDZ86BFtHwSQMG/qmY9dxJAChpRMm93EkDu+knCkncSQHgjQ9oKfRJAEwbzoNN9EkAMmJQ8cXYSQAKMAF32dxJAVfdderx2EkCmATMVnXcSQHd9sl34dhJAMLxmlXt3EkBSFOOGHXcSQJkfcTWpdhJAkMYbbMR2EkBAlMLUL3kSQCFq27FkdxJAJS7qxbl2EkCnf3pKCnYSQGNaGZmodxJAlWc2dJd/EkDf7w94/nYSQBNfe+QIeBJADVkJ7tB2EkD4eWMVnHYSQKVz/FNRdhJA32wnBuB2EkAomYHOxoESQKtKb4UxehJAaBXBKA59EkDPRXhpn3YSQPex4g0DdxJAWvPtM0B2EkDErjAp9HYSQEW5LzG3fBJAZFYhCil2EkBtlpxiR3YSQJ1UHjREdhJAx6NkNFp6EkDabv5lu38SQPKuRT4WeBJAaguhZ2x4EkCmat3+cnYSQLOmVrgfdxJATTXWhgh2EkD+ilb/OZESQNoNbiIUeRJAlQLdjaN2EkDmIFNfZn4SQCIDW4vldxJAQUnYcpt2EkDxi7v3NHgSQH44R+MVdxJAc4osxq53EkAZ+03oW3oSQHnGWgFUdhJAPH0mmIl2EkD0wgocUHYSQDRioYgPdxJAIAp+Cnx3EkD6uiEvrncSQO7YbFxgeBJAjTceIPt5EkD2i5Pxw3YSQBY7wBv94xJAH3PP4il5EkCU/tQHEncSQHUGVQR5dxJA6zuOiml3EkBoJ62Ir3YSQMj3HfOOdhJAiLaINQ5/EkDZrIRD1ncSQLaDa56SdhJA4Hjonad2EkDcLgNq0noSQPHTyNaHdxJABQjaYdB5EkA6Kd1lK3cSQILieC0hdxJA5QNM452QEkB5caraJX4SQBfMY320dhJAHJow+mZ2EkAa3teXvIASQO5zaQ1aeBJAGTmevDt2EkBL293HVHYSQN2CLMgbeBJAiUx3rdN3EkBkt4j6Y3YSQD/E8pvcdhJA2uJlmdx3EkBf+qcmfXcSQH8Om+9kdxJAOk5u8mF2EkBAnNJ3IngSQBjBiyDVeBJARoYTPQiHEkBZGW0pDHcSQCPgZkfUdhJAzjbPbh13EkCI8lqjAHYSQKO/9CTugxJAEPpF8aZ3EkDgNnmHXncSQDL8Re7odhJAObShci53EkCyj4HxRH0SQJPyAdBedxJA2mIGN3h2EkCvl+laU3cSQGxwYNphdhJAlfrwWiN3EkCrwCQZQncSQG/KXgV8eBJAEasx/Rl3EkC7gewZTHYSQJV38TEVehJAZhb9Ihx6EkBagUxgAncSQHWh/zt0dhJAXb3uphB2EkABiKW2BncSQBx8dRZFdxJAf/iQ2vB2EkBzXTXwzXgSQF4guYDRdhJA+rxPzvV8EkDeC1iskHYSQBIrUFZKeRJAkU3VIkZ6EkBvM6DKwHYSQGMNkmRFdhJAgMvZgml3EkDbSIkp2XkSQKZegRHcdhJAiYq9tm92EkDzvE6lq3gSQJwjzTZKdxJAY3SsN+p2EkD0yT3EdnYSQH8DQYUtdxJARzgW9/R2EkClP4zMbngSQN+rrpG8dhJAUriaP4Z2EkAb//d+/XYSQGTqxChxdhJAGRgAeVh+EkBqcbFu7XcSQAEMxRgMehJAMubcV8B2EkDqbZQ4hnYSQJBxT/zOdhJA6HRb0+t2EkBs3jS/JngSQDX8wo66dhJAIZTSX7t2EkCS7mirJX8SQIuRCI1RdhJABeQOrRV2EkAQbxRohngSQB4kssbxeBJANt/aJzZ3EkB33LZtx3YSQJyu4WfOdxJArzY3rUt7EkCL1u0Ua3YSQFdDr0oleRJAPWleUqJ2EkBe9YFOSXYSQPcRWdPrdxJA3bPGpyx7EkAFnXlJPncSQA+SnClXdxJABliNbLZ4EkCvtqB9knYSQLYaeNJYdxJAQ5JfufV2EkCsL/Y0vXoSQASw2cGTexJAWlbiLCR2EkCxQ2Hxj3YSQF23EMbJdxJABpXQJfR1EkCfyTuW6HYSQGQLFSHWdhJA/CkXLyJ2EkB0NZSrX3oSQGxjCn56dxJAjmUoG+J2EkCMzag3cHoSQBKUL1JTdhJA2MINjnZ3EkAf+HEDzHYSQMZyJIKgdhJAxXeQiTp2EkBSpr/D63YSQM7emuPudhJA1Pu2kkl6EkAO6XjKxnYSQDVP+92VdxJAwbSzwwh2EkCVl2ca2HYSQLFBv2VReRJA6c/sPI92EkAFbmrmMHcSQMQ0gtXUdhJA18GAKrF2EkAnN5U/FHYSQJ9f1PFIdhJAp97Ww757EkCf/AeX4HYSQC5oE9wcfBJA4YSvrcR2EkAQaQaHg3YSQGqwSPjNdhJAKiR3ewx2EkD6EcdkBX0SQOpM9lpxdhJALMHndAt3EkCrG6JIaHcSQBtBIG1rdxJA2KIrndl4EkBj4u1unXcSQBQ2YCBgdxJAzzWaqRx2EkCIktR7BnYSQBptmaWMdxJAUMOkJZp2EkBQmz3j3XYSQKv1lzDAdxJAx4oTM7V4EkD3yUridnYSQHHUQ0vkdhJANvWvH+B2EkDZFuGIOnYSQJXlFUk/dxJAFn8JArR2EkDC8Sk0s3cSQKZtDVt8fRJATd/LtEd2EkBD80ISM3YSQKApRpZndxJAX6L9QFl3EkDgRq7TLtkTQFVv2oAadxJATsNhqcR2EkAl7rhPV3gSQDelwcrNdxJAPCvMuPCyEkCWkNG8dHYSQIVLeyWVdxJA5/0EdSx4EkDITM4zhHcSQC4IZnqIdhJAw/RHs8x2EkCZzBhOyHcSQGtrCEdmdhJApwyDmHJ2EkB+YGOpwHYSQF7ss4ogeBJAT9bQ4oSKEkB9se923IMSQLe0WgXLdhJAT3SPL4l3EkDixOkKsXYSQCXpE7GbehJAtnn42l52EkD2/RtxxHYSQHIaBkl9eRJAYKWoWjR3EkB9CEojp3YSQNymvSpjdhJAfV/x7c12EkBsygeFknYSQFVIZqAydhJAZy4DF4d2EkCdgigKM/kSQJoZOl00ehJAUnOrIvp3EkAth/+gyncSQDdvaAlqdhJApXFqQ8h2EkBCsiYaP3cSQCd1KPzWdhJASR3VeV52EkCxYv3cXXoSQEQpVtP1fBJAuIk8f414EkBOF88a3HYSQISAyrwbehJApJRsmk97EkD4/CzPMXcSQICmsbAzehJAjwT+rMh4EkAIKkRwknYSQDpg/8LNfxJAn+txA1Z6EkA+5LLZaXcSQHHVy/8LhhJAtEhMHC12EkDcrl57mXoSQImFUq2UgBJAVnvIp8p2EkDh96s46ncSQL6uR3iZdxJAnPIN8IV8EkAbgGzemykTQBXUpbY6dxJANsXkiOB2EkC+c4G/w3cSQMyD/RwYeBJAxrTkXQx+EkCXYCPDPHYSQNk9FXS1eBJAwDSuGVXbEkCtPnH8JnYSQMHZSbT/dRJAEhfGxC94EkDID/S123YSQM3yzuJ+dxJAyV+W24B/EkCtZjStKHYSQIP2SHq7dhJAKitPhWB2EkAOpnvAT3YSQPIlKJEueBJAQ504ZEZ+EkAKlBgYjXcSQB9Ud0dDdxJAS7PxSlE3E0Dw5lWlLYYSQE7urniHdhJArTWso452EkBUYUWqK3gSQIdqMa9HdxJAmTOEEct2EkCkHlo5K3kSQAFf/PbHeBJATTkahgF2EkBuMzaVBnYSQJiU6xBUfBJAVm6sF1F2EkBlh7PqR3cSQMg6NDnFdhJAsa+IZbJ3EkB+hRUh8HYSQGQQzyOydhJArxvy+Z12EkBmxNrqpXYSQG/Ew/sadxJAFyzz9BN3EkDe2rs0jHYSQNUs6v9FdxJA4nbP6vN2EkAlw7cQWHcSQD10FH/fdhJASzfOh0B2EkB/V9qHbncSQPJazJAEdxJA/6f9lcV2EkDCJAs0LXcSQEpGd21fdxJADI7jFhd3EkC5pvipwocSQDSC5bQZdxJAzOsX1Jt6EkB6HeKpPIASQCCOgmFkdhJA/R8ZtMB2EkDSsQysAXsSQKh20a2idhJABzAzrAd/EkCZUeKFqHcSQKDbvFFidxJAvMfCsm92EkDR2fty3ngSQD2AJ2qBdhJA5Yc+Aox2EkApJDGt6nYSQLqap50PdxJATN88Tqx5EkBDQMhRcHYSQMw2HNFVdxJAeA1RS6B2EkCXFjReJnYSQBNLGTPVdxJAblZc/ct3EkDG8iL+R3YSQKQdpEXEeBJARzQovhF3EkBxM2gsGXgSQFQCsfrLdxJAb4KJoL1/EkAJeM08p3YSQMdI9vK+dxJAevyV45J8EkDqLjtDG3YSQFLWitQQdhJAdijQ2BqREkDdhLS9NHcSQDqrK2zKdxJAEYqpBSJXE0CI30K7BnkSQCYTRaMpfBJAHDeXx499EkD19iBzhXcSQBsIhlqddxJAqKZgowl6EkD19ycRGngSQGs6D2zwdxJAOD6U7px2EkCc1p/H8ncSQLhTjY8GeBJABY8Aa8CEEkDn/LgL93cSQIKjfs/sdhJAw8lfm6t2EkDdrpHRGoESQNPQ9jA/dxJAm7fmhcx2EkCwht9UyXwSQNHi7fiwdhJAXLB5cKB5EkDcVqwNC3gSQDppAA34ehJA6ncjPnN3EkA8or9k9HYSQCQkO/OLdhJAKxmi58x2EkBiFXlKqHYSQHqNubDEjhJAnkizQ9B2EkAcY2Z1MHYSQPPxiRu7dhJAsROoG812EkDnZu8VopwSQKieLsZIdxJAXNkzQZaIEkDMZX7xt3YSQDNvCtxedhJAN9okkViQEkBvBMifznYSQMhqC6c7eBJAZ99Tmqt3EkCPdy0kp5ESQO7+wC3gdhJAtn+YYLN2EkAKuspDiXcSQGM3326CdxJAwRKAfkV7EkCNavEconYSQHBAiZ1PeBJAQhZJn193EkC3Jk1B7XcSQKGYB2BNdxJA183TMA94EkDpQEFygnoSQDczT1avhBJALAHp8DR4EkDkyftNEXcSQNtbIzFXdhJA7JN1Gxt2EkBayUFoPXYSQF6T83z3dxJAtm4TJp92EkDBAZQ7UncSQAVn6HKqdhJAYuWjeMJ2EkAopajnFXgSQKvd86BVdhJA4ms9ls53EkA49EaRbXgSQGWyQbAddxJAf6FfQyF3EkBjfP7VWXcSQA3VkzoEeRJAYmFLI+h3EkCxiBgTrHYSQMMN71indhJAX3xFhfh2EkCxlLS2aXcSQDY5r7dMdhJAb1ZFdUd4EkAmQNs82HgSQPBTenmTdxJAAtmib5h3EkBUWSxdWXcSQDDw+nsldhJAryPEvVl4EkDiippYH3cSQMG1MDqkdhJAfiNsCHd7EkCYCmrmKHYSQCNbk8UMdhJAe7W3I5V2EkBnEb32uIISQFH/Be9zdhJAg+2xOcZ5EkDhEkDy3nYSQEneJxd/eRJA/EaSUed2EkAaCdz/f3cSQPQgdM4DeBJAGMEvBIV2EkDo4QZXQngSQAZzcctGdhJA8JgD2q52EkBzMN8YX3YSQDuvs/ICdxJA6DHWvNiEEkBvs1s2rnYSQE2GR8dVdhJAHUR+3oGhEkB/QuYFZHcSQCRyr7fFdhJAYKY3Yvl7EkDScc3z8HYSQDoUQKe/dhJA3pW7IIZ3EkA3eGw8ynYSQA8itGQ+gBJAzCHO4R14EkBDAV5Gm3oSQL9qk2SddhJAXPP0zRJ2EkDVwCLQe3YSQFm8qpGceBJA6Xhp6a13EkAOSdGkJXcSQPo6+ynBdxJAZzIYeTx2EkCFOtTLXXcSQEKmtO6HdxJA9tUQEnd2EkCtD/dUUHgSQNnjQQlydhJAfWUaZ6d3EkCWU7PnBnYSQAdoKPpGdhJAKW1iKJx2EkBG8F4CW3YSQE837CzDdhJAID/cPJN2EkAgJmyg3XYSQNr+cfppdxJAFp0G74R2EkBCQzr1KngSQAL82dgOiBJARJQ7oyF3EkBUTW6rPHYSQA/u9kfudhJAgDSt9Jx3EkBMTOV73XYSQDHR+TWqdhJAEY/EXiB4EkAuUOiCqncSQBMGfdz/dhJAelaM6yV9EkAdW92g8nYSQKppO9qHdhJAYQGbtt13EkCinJ7F7IgSQHHIGAiedhJApCh62ox6EkDUn2oZLXYSQLQFNKAadxJAQeXU0Nt2EkDhoYD6UHgSQGphnBVqehJAUn84/Eh7EkAun+Fwh4ISQMJwwy6gdhJAV0eWzQJ2EkBwzvyRO3cSQBEbYukRdxJAMqzU+8R2EkDPtqqAunYSQGeVgTBdeBJAjrFJXwR3EkBq5FcAIncSQFnnkxfwdxJAe6NWGkt4EkAxVqPN73oSQFqBU+YddxJA9ZYLFG96EkDZkPgXtZgSQEJ4erJxdxJAZfxMEgd2EkARbf9otncSQO2QTqPAdhJAXOsdlkF5EkA2QpJGEnYSQI3GFEYedxJAf2TgeG93EkCWdLhwEHYSQFC0sBlmdhJAhdhgyv92EkC6r7E6QHcSQELmtlsvdhJAqksSDLp2EkDJ8514e3gSQJVZECTydhJA6o01doZ2EkBAROl0FHYSQGEQbRPVeRJAnS2UESJ2EkCFzgetVXYSQOFGOHN6dxJA7Y1Ccgp4EkAsDm9+a3YSQL5Beh9odxJAL3ZUVUd2EkDP7WMVt3YSQF+oGG8GdxJAIO1z8OB2EkBcL+nybHkSQALKAxIzdxJAVvfo1XJ3EkBc1XJMPHcSQE5axH8zoBJAzGLyoJx2EkCMi3HyNXgSQFZM+5zodhJALV7UrkJ/EkCLAZdmy3cSQIsKhxOfdhJAQA+6uQ12EkCun2CooHgSQMob+WGPdxJA3oq2NDt3EkDplRRRtHYSQCe3ryA/mRJAAk9OnaF5EkCdL5BIq3YSQN3nFX3mdhJA+TkhiwmMEkBSxIIU1nYSQI2OxE9XdxJAXAxZ+ap2EkCDGUua6XYSQFRd+785dhJAcweuiQV5EkDwnnoGPHYSQOfeQgRmjRJAOPjSVNF+EkD+t4RSgXYSQH7oEKXOfhJAs+U+y2R3EkCw+Pc+EXcSQFJmG7uZdxJAEAA//+F3EkCACTeFdXYSQIjgjO1TkBJALNdQWjd9EkBqBtZM0XYSQPHsKs5JdxJAx8dY0bF2EkB+NQzgtnYSQFgduuY3dhJA5c1A0Od2EkC6LSDtTHcSQLn9ipGmdhJAMFpRyVl2EkDOzMcMxXYSQLsQ9/PjdhJA0dKo4WV5EkDIrwm0CXcSQB8ro24QdhJAER6ILyt2EkBvDrJUJHcSQBxShSamdxJAHAfZ8q14EkCGB1aSQHcSQFmtTkgceBJAZTll8/x/EkDciOt/AHkSQO/3vc/QdhJAaBuUVRB5EkBRCOVDhncSQNIGv6zJdhJALDRBMuJ2EkAKtvBgWHYSQIa/Xt1/dhJAPe/eO+WKEkCM1pIYY3YSQEtnwDBOdhJApDA6iN52EkBileEgwHYSQIIxAnqBdxJAGYEIC0h3EkB/yD2khXsSQHPtZnpddhJAAuwkk0p2EkAa7o3vEXwSQDwVqhADeBJAv9u+yyl2EkBArUmmB3cSQOQF2hQzfRJAE6yHQN95EkBig8GW+XYSQHEXk3ffehJAMVREfbl2EkB5j4MUcncSQEiFcLIgdhJAY9iBpLR2EkAvDXlkanYSQGEXK6K/dxJASBiaseF5EkCc355WAncSQNgUWolPdhJA9LhBftF2EkCIgxQDXXgSQPcLFKHMexJAFsOXOEt9EkBmxl2epqUSQDZTLSR1dxJAAWWzoWB2EkDefs+XeHcSQAz75fdRdhJAkWcuQA94EkCbARxqBHYSQKMV/zXudhJA6gcDF4t4EkA+AeNS2HYSQOJR+B7IdxJAEoZSMJR4EkAXPVg0X3YSQFoqAWFLeBJAAvKYSzB7EkCo0J10I3cSQMRWjOIRdhJARttvlkh3EkC0HAO2CncSQOuvhaw+dhJAMdTX1cV3EkD3hSBZk3YSQDOhwMDhdhJAXA1p2SN5EkDIj15vKncSQKBywgRkdhJAt1qJGgh3EkCdZ8fhMHgSQMqcw0UNdhJAcqNvcLR5EkADsm1zfHYSQNEX2o39hhJAMCeIJqt2EkA4a1r8GXoSQGuKaqWtdhJAn5xqOl2CEkCxyB/TA3cSQMDZUKaVdhJAZOQMZcJ3EkDjAZkIs30SQKP1pPu/kRJAjnRHdzl2EkDOHbGgYHYSQGF8VM+JeBJA7ce0OCB3EkA9/m183HYSQPK4mTnVdhJA9YnDDq12EkCyQruBDHsSQJmooPmHdhJAu3VH/ux2EkAyN7K823sSQE8soqqCdhJA+zK3p113EkDhUpNQancSQB/vStkcdxJAGC44rTV3EkDvQtFrjHYSQPtJTTyidxJAw5kYCUl3EkDmGJ9h33YSQJa6Z67miBJAXtylbz92EkAsfeMIGncSQOsAr3bvdxJAFUmnt9l2EkAkKWT5OncSQG2MHaF7eBJA25E9Qfd2EkAHu1BUkHcSQAY4ugCWdhJAWsk/9n+KEkBSUbCFHHYSQPU0PvdwdxJA0i9J2vJ3EkD6isw05KoSQDXWlnxLeRJACzFxeIx4EkDtFQ1pjncSQGLji4LVdhJARznjsxF4EkCWDtafAIISQDKncXzwfRJApY76ogh2EkDx7o3gpXgSQOFUPmNzeBJAXJS994p3EkAFsXPwFHcSQLXtksJteBJAbkZv8ct5EkAoPtxP8nYSQAAl6vIvdxJARfLCU592EkBd845Cf3cSQM15DdqQdxJAEsI8/B92EkB+EGEMBXcSQATYEpoEdhJA8lbrgp93EkD6/gDiwXsSQDvNdFfpdhJA+B3f6Sh5EkBCojl15XkSQNucDttdeBJAecIrAFd2EkD6+Zyf5XYSQFbnChGYdhJAp7k8XLJ4EkCK4BBaBncSQO3wFq5cdxJACEPuC/13EkDC3mlV33YSQI7QhwQ6dhJArEDzgZF2EkAS2dxJe3YSQCQJe/pwdhJAs2fvKYF2EkCUZtYLZ3cSQNM1OH9OeBJAGXw3B0uXEkBvIQuVZ3YSQA3qivtUeBJA9Mnl1zR2EkBbUzx00XcSQMmXBCgQehJAk3o6edx2EkAZHvK1YXgSQOgwtL/RdhJAjWIOw5t2EkDPPEz4k3wSQG24v0nvdhJAITuPtd12EkDWMBwGVHkSQJAbL79fdhJA4dTEwGh4EkAlkRTgIncSQOAGW68tdxJA58S6dXp4EkCTVnfy7XgSQJho/xFGdhJARJ7GFu57EkDdowUKpXYSQGgpERxjdxJAwcZ4YVx2EkAEdJ1YKXYSQK/RMsR6dhJALxHxQ4V4EkCK+AG9R3cSQB4CK6+VdhJAfg3B26l4EkBRl3zKGncSQA5KGpzXdhJAOC8mwAd3EkDlu2/0QnYSQKHg0iF/dxJA1JqO+iR7EkCL3xmG0XcSQIRj1u+wdhJADkSWAHF3EkArtC3mTncSQPSJSfoGdxJAChw1WCh3EkAl0p7J+3YSQCcbIpVzdxJA3yULWv53EkBZ/lkZAqYSQDq8ToaMeBJABYv6Hup5EkAsTtkBKn8SQLwMW327dhJA1XroIM52EkDMC5CdcHcSQJzd1ozedxJAOi8P7GKIEkAL7dGLfnkSQCO+61sldhJAaKLdFkJ4EkDUtigv8ncSQECiVjENdhJACWQexgx3EkCEF78/PHcSQHSyAbZcdxJA48JUMHZ2EkCJTfnfAngSQJda6atHdhJALPIsMVR2EkByqMvCoXcSQPwITujGdhJA0bGkSet3EkCC5ArpOXoSQIcU0YoAdhJAZxyjB8J2EkC+IsopBHYSQF1L67L8dhJALNJ7U0N2EkBlNBVYJ3cSQJbgYhpodhJA7Y2jg9h2EkDzVVvmFo0SQOf8L2Q7dhJAbN1oF0h3EkDUOOLQVcgSQD3EroPHdhJAl2cg/Nd2EkBr3embhXcSQHQ7AuNoeBJAyJZva912EkDM9CnBfXwSQE5fXypBdhJA3Egrqnl5EkC80tCQt3YSQH10zCdLdhJA+HRAUaJ5EkAO2tWMKXwSQBSoOfl1dhJAmDO0x0p2EkCyYajpG3cSQMLhxuCKdhJA8po/5bR3EkBfYpU/QnkSQPBS3D1BehJAOd86WZYlE0BmlUb6o3cSQDLqJO5/dxJAmRGGYzd4EkAkpXOexXcSQOlJQAaWdxJArKy7Dmh3EkDSfOQ0tHcSQNxAgnj+dhJAdXmhi1SQEkAYxp5NpXsSQIzMr5obdxJAf2Vqayd4EkATxYmq93cSQBgAiJyEdhJALs9BFQx4EkAriqe19ncSQOGFMUOmdhJAdtDLTfV2EkCCOrsXvXYSQIGUJ/LMeRJAsw+GF513EkAavujwiHcSQE1bx3yDdhJAEygo/eB5EkDk/uLnknYSQES5P36xOxNA8TS3Ktd2EkBag2KfIcASQBQtQ4VcdxJAo2lIG7WQEkBiD5LlGXcSQNC+WHk1eRJAl8wUCwN3EkCdVO88zX0SQHUS5hS3dhJAKoTjgnZ2EkCPZbW+KnYSQGLLYau6dhJABTdA66iaEkAs3AO0dHYSQDHOczWcdhJA4z6yu0J3EkBIWcGGUXcSQEDKBw5OdhJAp+IV61p2EkCyY6rgRnYSQDJQJzJQeBJAf+iuBKN2EkBmffUEZnYSQOZMjTildxJAMzYbsL6GEkAmVSf6VnYSQMXM5OkOfRJApNa4kvl1EkCvA43bUHYSQA+vwS2cdhJA+Aa27v+AEkBWEDySE3gSQMt3V1/6dhJA6vMRT6d6EkDg7JVhxncSQHZdNd9TdxJAVHU2RZCAEkC3jaVkWHYSQPc6LLA+dxJAiiFVhRR2EkDDgYL/6XcSQGiv2aKndhJAkN+B/6x3EkCDbqjddXoSQHyFNTX8eRJAiIElaVR4EkCOOyPfC3cSQM0y0Cbp6xJAsvN2jr12EkDz541ZmHgSQAsdawLVdhJAuX3n9iV4EkC5BP2nqHYSQOiQPVKXdhJAY3mjll53EkA3b4KHN3YSQClfNWw2dhJABYylKiV4EkCqQ94XoXcSQH1zxN8XeBJA6DKs65yAEkAkyx5GhnkSQChjslkslhJAcwgFqOp3EkCXLiGAlncSQAja1+SAdxJA3vr5wJZ6EkBTsG96i3cSQPIJqd5SdhJA+7AyT1V4EkAuVXIKsnkSQHmeXwfhdhJAA/zYY5p2EkCB7sX0TXYSQII4mYH5dRJA95XHP+V3EkAcWuaVOnsSQBqIvCZGdxJAf8jdv0Z3EkAGsK9ROXcSQDKyVFR7dxJAliA9mwF4EkCf3RxeTHcSQEjLv6RidxJAzTUsJhl2EkC+rh6aVnYSQJzcTqJfdxJAd9aHjyl2EkBlYqf/vXYSQK9MrkrgeRJAwY2uztt3EkAlfjWp63YSQBSh3HlJfhJAEqfnXFJ3EkCInkzTPX0SQF0a/7sVdxJAH8mqW3x3EkCbaLVTcXYSQPhbocFUdhJAl7OhRLp2EkCpyT0G6J8SQOVeBb6QfBJAf2xD5xZ6EkAZjio9/HcSQJG3x8mhdhJAv0O7bpl2EkDdW0Fuv3YSQJOePIzrdxJA++nYGIZ2EkDtnRWyv3YSQNv5MEYNdhJAPrdf87B2EkA4Ia+Qu3YSQERuM8cwdhJA9rLN7LN2EkDP9XjN/HYSQDWG9VHAdhJAGX/+OGN6EkARg/AxEHYSQJqX3dnHdxJAtFxhxxp4EkAGlwoz+H4SQDbxpPCidhJAnlhcjWZ2EkB90YzFFngSQON3qm4teRJAJaMPrd12EkD4vCT1oYgSQN1NBlGvehJA2wNgAJx3EkASj6fjl3YSQLAhF2tzdxJArUpgdBh/EkDCAK+hbHYSQMzpHFbiexJAwkLO7MV2EkBfhEeKSncSQDCIVxaMdhJAy92siT92EkB4IrVEiHcSQGzCs9MydxJAKsvbkxF4EkB/CxrHAIASQKfBPwlcdxJAQ3Wfe3B3EkADmNlKQYISQD2Rz8VOfhJAKh4LcQt/EkAHPneuuHYSQEP63qtLexJAFIXRILZ3EkC8CP3qJXYSQA+AmHQPhBJAm2l0ZYp4EkC0ynrYzHYSQGFPcr5LfxJAWiljOql2EkCgg5QmLnkSQA3r9sMqdxJA84ZAMmJ2EkDpNJAhvHoSQBVtLnFFdhJAXhDhY+t2EkCSH+D2W3cSQG+WfLogdhJA+Ck8o1t2EkBGXUfv9HYSQCXvMHMidxJAP596bwh2EkChl2rK4XYSQEbTaQlodhJAiHJ8rjt2EkCUiyYAgXcSQPbcgjpmdxJAlR5HEE12EkDZub+Y23YSQJ5HTkODdhJAiQIihzp3EkDxCDi/eHsSQIe0QqSGdxJA7x+Kvnd2EkD5DtxsgpMSQPnuVx2OdhJA9sg/wMd3EkCQ0iW3WXkSQOPg3bXpdhJA8QczXAN9EkDbqd0HcnYSQB1ZZny2dhJAx5pwlLJ4EkDAL6FqhHYSQB9KYDWbdxJAWr+ziEJ2EkDEeJak3nYSQFIWcYoIeBJA14diIH93EkC4VQujJ3cSQGWAlltSfRJATrVAqHV3EkAQ9+D2BncSQLyI3q07dhJAlhOoH652EkC9Mhj/+ncSQC4GIqK3dhJA4zEdc653EkB+GuJytHYSQDJpPreZdhJAqS38Ct12EkDJhRwBOXcSQHSEglQJeRJAsVhAHYDnEkC9yviVqHYSQO3lXt2/dxJAJ/BgNFt2EkBJ3mKN0XcSQJVqTuzPehJAlqgwjHiSEkBA8PlvCHcSQD6ewolPdhJACE8HwKt5EkCzwbsgwnYSQJ1OUcFvdxJA9/5mEDB2EkC040kW8nkSQDIArCasfBJAHrDSz6Z2EkAW/cHhfXgSQOpLzoredxJAXfnAljx6EkA/jDzIDnoSQJfIP65wdhJAZarX85t2EkAusrxYtXYSQEWWESSpfhJAqYocGex4EkDljqqmjHcSQI6VFjU9dhJAn5qEOCR6EkAyTigfPncSQIZdG02EeBJAhDEVhrZ9EkDcCgv35ncSQJ82c7FmhRJAR3PRNip3EkAUsuTXWHYSQEKVdZxjeRJA3G4im5F3EkAVCi5IJHYSQLuIG8KPdhJAmhcOUvV6EkCqnyiQGncSQIghCvlIdhJArnE6G9N2EkB+hNj3InYSQLggSgHmdxJAu8pZLPR5EkDDQjF8+3oSQIi6C/cxdhJAkiLKeeh3EkCYTjZrOncSQHL/OlC0dxJAnXzTaPB2EkCmpLyrGnYSQNkw02fXeBJAklrF+Yt2EkBWpigJwnYSQIkZqgfydhJAdd+HV0l2EkC4bK0Zr3gSQPz0KlcTeBJArP93v6F2EkAKsk4Y730SQKIJj0w+fxJADT8q6I92EkAEpufFgnYSQPx9CA/jexJAGq9HvOJ3EkCc6CkjNncSQPOZAwY/dhJAP0GL1ct2EkAVz6Ssz3YSQNa+uy+qdhJAdsgWFp52EkD3L6zRj3cSQBmIsQ2qdhJAnugV+jh2EkBbkbEc/nsSQMcb7EqcdxJAR9SHtQV3EkAGVXf93XYSQONCAIUidhJAIfhIqgKLEkCIBjPiCncSQEkV4Hg/dxJAGh+EDEZ3EkDiW5YjB3gSQOxLNlcVdhJARwc6BfJ2EkArU4FA6IESQBvuAgokghJAzM5Hdi96EkAN4bLmJXcSQHbDyRwYdxJAnu0UOZZ2EkAC5cRVv3YSQC7MOR8edhJA04NMwzl3EkCy35UcBXoSQCEI6z0ldxJADkUyA212EkAfQYREJHYSQPZShXFBdxJANixLZTR+EkCWtePsBXYSQM8V4YBweBJALnwwy5d2EkCR+/8s8XYSQOuv4IhjeRJAz65/QhN2EkCeKoJFJXYSQCQu5l5udhJANXhWddR2EkDcj5xHcXYSQLs0LiORhxJA7I4Ecb12EkCaNpDwEHcSQDWb5hHAdhJAEOGCxjN3EkBhQSgQjXYSQBDErRx6dhJA7GoMXmt3EkB8fK1PlXgSQFgGjfkYeBJAF3L5KQF2EkD512EWVXYSQEir9alveBJAoDQXtbV6EkA6wzgLgXoSQOMtrkCcdhJAaViPp6OBEkBvHnVsDXcSQHZttqxXdxJArrycGGV3EkCvCVTucXYSQNMmrqaBeRJAuEWnnSt6EkBhaaxA/3YSQEHiX5LDfBJAGe8Zei12EkBvaUxWdncSQNf3xyRtdhJANnrMpaJ2EkDWHGziiHYSQA4/JEYEfhJAjGDawxZ3EkDHJtO+ZnYSQN1aqWiI/RJA1G2Xi7p2EkCmGUMkaHcSQBMf3udVdhJADW40ahJ4EkCOkDMjKHcSQFRJZJr5dhJAle2apYZ2EkBinj98mHcSQLPJ5qGddxJAbXQcoHp5EkCePiQonXgSQMxEZlKadhJAuxwnJFB3EkB1UNJs13sSQI0q+LKRdhJAMn2sTk54EkBH1v5ktXcSQI2yULQ/eBJA5wm42+B2EkBLeTnD2HcSQIGUjOjTdhJA8VhqVOp3EkA4F3w9/3YSQA5SSKBRdxJA+MQjZTV3EkAgACoBr3gSQP59mzhzdhJAQbgkXq52EkAgUqHyhYgSQA01PwVKdhJAcaxHGIp4EkCCex5JWUsUQNnvCamjexJAqjHfQo52EkCwwuxEunYSQNHalcFidxJAw6J0wCZ3EkACS/BEQ3cSQF9zmN/edxJAIhfFbvB4EkCrkJv5TnYSQKAc+iB+dhJAhdCt/vV2EkCQKa/bP3cSQJ9KXVMvdhJAk9VtIhB2EkDnaCMrOncSQO4I/OnjdhJAjfQUd+N2EkAiJtniknYSQOR+90HQdhJAaDik1+B3EkA8VmiYMHYSQLer8775dhJA8dlBzpd3EkBM2LA50XgSQIS5N6V+dhJA2Vdjhhl2EkCxssiN+nYSQE09Lw/ydxJA/AfTRjN3EkASjQcSTncSQNRx2D3gdhJAEVvSBlp2EkDzTWk3IXcSQAXhGvJudxJA4KpM1pyAEkAHhmNQXncSQC1CpOkvfhJAHNxMTV53EkAXlD0u9XYSQE78H+oQeRJASpEsWIh3EkD0Xr++n74SQOi22qEeehJAEXy6zBJ8EkDzioBSe3cSQC7H+7L6dxJAnd8u9Ot5EkATBrIjbnYSQEH0BY5mdxJA7z8YYzJ+EkDx7Cq7lXcSQB10SVu5eBJAdos9xHp3EkCrziCUuXYSQPyhYws4ehJAIPWEvEl3EkAmvOhPqXcSQLqDu6nmdhJATX2ij553EkCo18ES/XYSQGK7MwgHdxJA+7kF2iN3EkC855Ttc3YSQIRBVZaOfxJA1jNy3N52EkCwzhB9R3cSQFWpTlhVdhJAgN6jiy93EkAsLHywoXoSQBqSLKl3dhJAjNzj+2l2EkC7AyrrJnkSQAZGUl5xdhJAyeqJUzF2EkDFt65MBXYSQGenn1t4dhJAsCp5mxZ3EkAJxW86fHcSQOZfrSeQeRJAiAnYWjJ2EkCFfLAzAHgSQNQdQPOMeRJA38TsPtl2EkCyqmQaBnYSQHxSeF6IdhJA4krom8R2EkCPkyDgo3cSQJpCuPuVhxJAKvWsr4B2EkBqhlXSi3cSQPZOjPGydxJAySQUPWF3EkCawZR9x3YSQA/GYMxYdhJA2QVr4Ot6EkB5SMe2+HYSQEKLWi4ZdxJAySH5s6t6EkCmpghxtncSQPwAgL0udxJAbQvPDVR3EkBuVpDL8nYSQLb6rU5tdhJAYARaIMF2EkAXFTPWtHcSQDHSyfQneBJAhRGbAkt2EkAa6kj5m3gSQD0/8gvPdhJA7XhlKQaAEkBZyijLuXYSQCFxMWxYeRJA7gz5QAt4EkA5+6XfwnYSQNWPRnkmdhJA7iqhowZ3EkDEOtZlb3YSQNcjNjRqdhJAjHLoxn52EkCXgQV/JXYSQDUxEMPFdhJA74wXPJR2EkDu8U4l93YSQJ/9M9RRdxJA8NG6oMl2EkAoLJfTcnYSQGEkZP0+eBJA8e3Htoh3EkA3ruDnBngSQLH/wQ6AdhJAh4cnnAx2EkBzd7Vj53YSQLC9GkyRixJALq4JdI93EkAIPC+CdXoSQIj2g/gddhJAF+txORQkE0ARVeM0THcSQB/og4xzdhJAJh2lNOp2EkB9n06ODnkSQKO1N2yCdxJAZZho6x93EkDB8aBEtHcSQFZ8gF/vdhJA2F5kKzR3EkCtByscGhMTQHdggJNTdhJAyB4ASXd2EkAEIeuNVncSQPc6XsofeRJAsi5ou9l2EkArsDclf3cSQNT82+RDdhJAlAB+y412EkCDr5ea9HUSQM57ZPpNXhNA0+FZztR4EkDbaBSWvHcSQKZnjzTxdhJADc6u/aJ2EkBtAMkwvnYSQCByWbFPeRJArQ55a/N3EkAD+PS4gHcSQAoYuj5pdhJAgc46elZ2EkAIMIR6jXYSQNfKUpFXdhJARH+5zp13EkDLgGStkXcSQLuxWX88eBJAY8seVa52EkC/tIqqzXcSQCr//MR8eRJAc2cIwT93EkAINq3IV3kSQOXxSmhfehJA0CikiU12EkCvvTNd/HYSQMlUB95CdhJADwbmQDF2EkDqRWxRbXgSQJ0Prs4NeBJAgtQrM9N3EkAydNGrc3cSQCEkuZvpdhJAnh1/q812EkC40npK1HYSQCc2pYNBdxJAsCrenIh2EkApVN92YncSQEgdlDJ4dhJApjL4+7N3EkC/iNLK8nYSQHq33EWWdhJA0HwXzf55EkDgSJKY2AgTQO/zGSj8ghJAeCTVA/Z5EkAatHkVa3sSQM9oh9dOdhJAbX1wBwV3EkBAG69FV3YSQGiVWxxkeBJAs9t7e+t2EkCl0S8z63gSQN/CJ/vQdhJAHrSKX9h4EkC0xN2A0HYSQAswkfL0dhJA6Bj6Sup2EkDWEBP5uHYSQMTiZesadhJA67Rba4h3EkBamX2xKHcSQBDzGPqFeBJAukND8T93EkCtqSgMHXkSQOEI1DoNdxJAdwf4OEp6EkBG5KcpBXYSQHb/9BcKdxJAmRogu9CHEkDzoElX2HcSQMhD3vt7dhJARip1HTV3EkANAX9WOHcSQIMUvxP/eBJAc8Qmmjl3EkDR7U28gHkSQEqUxM9gdxJAIisxzUB2EkDpCRJNJHYSQPcrJXdXdhJAQs+h9At3EkB+mxD8gHgSQLjV0aJLdhJAQkscLct3EkDfZGnjp3YSQE1AzsnhdhJAJVoPDGV5EkCJ37LRXHYSQF3ZTettdhJAXzhNJ4Z4EkAcqVHiNXYSQFeBVZdgeBJAWIR+a5l2EkCfIrwq5ncSQIT+0QfwdhJAgKBgAHZ2EkDqPR5DfnYSQJnT1eYpeBJAIq35Y5p4EkDO5pfrIHgSQIIB7TOEdhJA/3NCxtWCEkAf7gebcHoSQBIxo0cxdxJA5vysAyt3EkDiS7INc3YSQGnEAMGLeBJAm6O7ZGF5EkDe/cslYH8SQGxtd93PdxJA06Spo4p3EkAXLn+vAIsSQOZ8h5d3dhJAZPjJ8vN2EkC7yRYbPXYSQOn5gf2jdhJAUl7sFFh4EkD/lJ0g0nYSQPtYZHpcfRJAiB1pXZ93EkAhJaDq/XYSQMM8Z1bxdhJAlwXO75uiE0AhQjOjpHcSQAPGbv/adxJAaISX0h13EkDOFfjvm3gSQHoe4bLQexJAPX7nM/Z2EkAJb6aw84USQMaBfH/6ghJAQsJq8o14EkD2Z/w9NnYSQI8X6ULWmBJAzg97PB94EkCU2wh0ynkSQN0FIZdmexJAFZyGsSx2EkAe72X5iHoSQLYFlTNMdxJA+qmwzQd2EkBrwX3Oy3YSQCyGSmn6dhJAq6Lb2nR3EkBva/RBKXYSQGygoyk2dhJARNw4uqB3EkAGPA8MI3wSQABi4YECdxJAskizCnh3EkANlFfStHYSQJz+/0U5eRJACJB9LrN3EkDUl20xH3cSQGLOintIdxJANT4d8jl2EkCCiCCcjkUTQCragUe3eRJAfwWVhGt3EkCGGp9XlncSQFhqzTb0eBJAA9No3Ph2EkApuVdtZXgSQC13sNaHdhJANdltMSR2EkB73FzZ/XkSQB6TWvB9dhJAyXeqyg+HEkDUII6Zx3YSQGBKVbX+dRJAcqYPqxB9EkBoYnSac3cSQMRfe11VexJAqibVxj54EkDTzCxKQXcSQAm4/SyCdhJAjPiYQa12EkAdrrnVunYSQCNe3xRYdxJAq9mmeqB2EkBC0b2ann0SQFEdxfgyehJAbHaxim52EkCXJ/d0pHcSQJN4OAn4dxJAyP2FGNR2EkBUQVMNUXoSQPwkIewhdhJAfKtl40p2EkDKLdyRjHcSQOTsaauqdhJAynPHmEjYEkCeMVy6pHYSQP0RbTdUdxJAg8Bb3y52EkAcjcdyV3YSQFMbIwnadhJAp+fUbZN2EkDO2gB4JXYSQKI/u7AfexJAL5J+4nWJEkCn6p7y7XYSQKH6cJwCdxJAGPW/z/aXEkDe4QqrcnYSQJdusX0JihJA5rd4HXJ2EkClM5LtvHcSQPZhb5q8dhJA3KsSPuN2EkDoqczN7pwSQNv1TEZpdhJA60PjI6l2EkDhzUFLrXcSQAZrTrvDeBJAwzCkASh9EkAliea3tnYSQHzMomeXdxJAJBwKMnh2EkDjUI41D3cSQK3VR64heBJA8KR2zhR3EkARFtYGtncSQCsNHssyPxNA2cF8HXV2EkBToQK34ngSQG5tlbN/dhJAvz3W3Yp2EkBOkmxPmXcSQNPCQWMuehJABn3sXFyVEkDsPzPJtHYSQFdtM2RrdxJAZLEr15p2EkAC483seXYSQI5i3p3LdhJAojFpHOd2EkBeyjVy6HYSQL7h3n1jdhJAPthjt5t4EkBtaxdf0HsSQJHyeSNhdhJA5cEcMnF3EkDOUoRUKHcSQOdB3On4eBJAIkz4hXl3EkBcMmZoBE8TQLAajWXrehJAt089R3F2EkA9Kb+6O3gSQMR/lIOSeBJAZGpW1IB2EkCSHRBfA3cSQEZjDu2OdxJAEw7DJcZ5EkBke9sB9ngSQJAN0R7cdhJAQdRXWrh3EkD16LIB13YSQIIh00gBgBJAd6KUDsR3EkDM8P0BYXcSQFVkxKStmhJA+pRDUQJ2EkADLy+t23cSQNliXpi8dhJANgtUZHp2EkBOWyibUHYSQLqzoacwdxJAm6NiuTp3EkC4mUAgY3gSQCy82+sCdhJAV5e2XrN2EkCQud/rxXcSQO0UB/KwdhJASw7S7GZ2EkCiFn+feXcSQImTi8didxJAWO1cLlV4EkBTTLqWW3YSQHv8ydbnlhJAlcLj5Ax+EkBpEJT37HYSQCqqzwX9dhJAWH45eg93EkDUnk8dqH8SQIofnGUYeBJAyUUZIYl2EkDxBZ8GC3cSQJCNbpvldhJANnkcxL12EkAQx/lLC3cSQLVVDuK1dxJAllZBM2x2EkBCZOUlx3YSQMkhaNGVdxJA7sH84ht7EkDGPWRMWXYSQJkw0YSIdxJAgccLDHx3EkAQCtd/XXwSQBa94tCLlhJA1CjauhR3EkAJLJrkV3cSQIEMYwwZdxJAHdNsqembEkBjiVlwqn4SQK9od+4EdxJAr5i+z6V6EkDlLoJBmncSQLf/5v8meBJAcNe9ImR3EkCLhtorSXYSQGIqq7bndhJAp5g/wzt3EkBT197dG3gSQA9Wv3h4dhJAxOILAsJ6EkCqA9N78nUSQIOiH3PMdxJACI8YOqN2EkAHHgWxdXYSQJqC2tGOdhJA3KDCWsB2EkCl9dOf0nYSQDAcAldldhJAypare552EkB3P08LS3sSQLf1w+/8dhJAZ8DOjUJ3EkAMKMfQAHYSQNH5oCwighJAmpixNRV2EkBPY+RZsXYSQPW0UVO+eBJAbLwDQL92EkDBNFf6IXYSQOM8KjrNeBJAFcF/6c52EkA6jgLron4SQGm/pqYWeBJAJCCerZR2EkC6Wtrns3YSQD2bnIYIeRJAa+Jzxh12EkDl8+6vkXYSQF21nbdeeRJAPCppVtl2EkCG2Ii4xnYSQLu0kooqdxJADhx8Hg56EkBHBEjICnsSQGcU2HpSdhJAeK1JKWV2EkCeTksSxHYSQHgU/tT3eBJAZylRztd2EkB661pyinkSQMxl1B1LdhJAzRWP3bB3EkCuzdQhqXYSQK5gTBISfxJAKrWprbx3EkClzMczR3YSQPtVoFAilRJAt9TGnKF2EkBSDCJY8HYSQGOs8FwrexJAPgNaqbp3EkDdWt+2tXcSQOWKE+wpghJAkLLTbIp3EkA1ppgogXcSQIbPBQRGdhJALHFRvHp2EkBJbOZ4aHYSQCU5dlvAdhJA4BudKpN3EkCs/3Es4nYSQMqJwwIFdxJAPYQuRVZ3EkBIJ40/Y3cSQMjv5GgieRJAsuPwIg93EkD0n+/HVHkSQKh4MLZjdxJAMsPwxN7kEkAGgqpLMHcSQLlK7P1odhJAqPAZ/Ah2EkA0JylGy4wSQGWk4lsCdhJAycvyxWJ3EkDEiaHDg3YSQO6SyxfTdhJAfJ6CteR2EkAOxmZHFXkSQA/z69nwehJAfYQHEDt3EkApIbo16HYSQOyKjgaGdhJAjAeFrsd2EkClMAlM33YSQKirbmZYdxJA1Hw9wwl2EkCbtLOSa3cSQMlemyjjeBJAIdmA/ER2EkDfUFmzhnYSQJW2dsOEeBJAn170uCp4EkC/BUJzvHcSQDMieZsCdxJASFm0/B12EkDepXNEZ3cSQIXx+yzYdhJAuzhRe0d2EkDi+DHbS3kSQC81pnZndxJAZCHTAUV2EkCulnPZXXYSQKn+BEH2dhJAZcZlIrV2EkAqqBGosXYSQO8z17xMfRJAnAYTDY52EkDEa0ApNnYSQN93bp2adhJA5gnGwF93EkBEkfcFqHkSQCD9L0LMdhJAfd1Mlm52EkDw2Tc8X3YSQBnyTQu/dxJAstedRmN3EkB/Kd2BKHoSQF2kc9EdfRJAgE93+CZ3EkC788CpinYSQLHdghUldhJAKH8ut6R2EkBBl/Q5H3YSQIUiSAR7dxJA3liIPuB2EkAQD3J2P3cSQCQkaFUeeBJAptAoKbJ+EkBJFBt/tHcSQHQ/dSaCdxJArmzIPxx7EkBpZq8WxHkSQKBIyOuLdhJAz9Iieid5EkA8kqq+KnkSQBcHAOekdhJAEjpPvvGAEkAuzYkxeHkSQFJCoYpJdxJAR/AcRaV6EkA0MHUpvHcSQAKOZ0a3pRJAr8CpJCZ2EkAD53bpkH8SQPfmRtwPdhJAAkiOOVp3EkAq+8k4t3YSQEI+WtmPhBJA1+8uFlN2EkCI49uuFIASQJz81wO7dxJAXX0FvvB2EkDAo70c9HYSQDr9xokkdxJAw0yPHBl2EkAduVUzs3YSQEXD1p03dxJASqSrKQB3EkDFCXKnJnYSQMHSYbaMdxJAC9bx4Uh3EkBhVfwoK3YSQJ3/bwjihRJAoVXwC0t3EkAOvzwxZnoSQCkhYKA0dxJAtB4U4jV2EkDKzzvzO3cSQIrFk0uDdhJAiwufyU58EkAyUMnlnHgSQEK1nog3fBJA1SSGe3d2EkCV0rJkdXcSQID59SlndhJAVxPNZ4N3EkC5niuGL3YSQJ7+WphudhJAKgDwHhl3EkCYCOMvjnYSQGvEGh/UeBJAcaVWzld2EkB4OMjvjnYSQDXfFB9xdxJAlVpPdPZ2EkCRBoJ5yHYSQI2TSJfgdhJAEd2p3OB2EkDABswvPnYSQEBiLfF9dhJAP3hRyk93EkA5VOhupncSQEZOEwLcdhJAQY55Nix2EkAhU5mld3YSQHLA5rY5eBJA8Kz9zr13EkApAtnMcnYSQO/V1UC/dhJAH4QiTtahEkDhv99vV3YSQIvKTe2oeBJADG49PGl2EkA9pzuZE30SQEjsqdNrexJAUb4C1Ip5EkB8nGreXXgSQNFb6sN3eRJAChxoDfl1EkCSWfmDeXcSQHGy6enteBJAidnjwVh4EkByJIvpoHYSQJpjj5DSdxJA786GUll3EkBI4YWXqHkSQO1oZgBpixJA1NUD8OR4EkDmw8YTLnoSQMj8QpgneRJAhcYQJ62BEkBMXIYKy3YSQF5S+752dhJA/O+vh7V2EkB+o3CC03cSQAbUMqNUeRJAFnVvsoF2EkBktM5FXXcSQHk2UzWLdxJAWbQrWtN3EkALyu+IYXgSQMb+hIa6dhJAcKLqQ3F3EkBubc7xsn8SQMO/OqmZdxJAx/Isjq13EkBixVnX/3YSQFoemhkGeRJAezOLvoV4EkCOKufRo3cSQDoaURKAdhJAtahTG2F2EkAbG+1zwXcSQIorsa+ZdhJAExNV0ph2EkCwPyGVaXYSQCID9l54dhJAvC14Y7d3EkBQQ34nw3kSQHACTE91dhJAglYRtRV3EkDaf0hwancSQNpThFoheBJALFT7mRZ2EkCyRKwTLnkSQIB8njqweRJAzthnTFl5EkAe53zZwHYSQOxGB1kSdhJATOTfSwN3EkAgy8h1WHcSQOXNyD/PdhJAKQdbi9R6EkD7TPdCinYSQHu+7yTieBJAOj2Tuyt2EkCZhQVCOHcSQMWWNOPNexJArUc2u76gEkCiXgZgoHYSQOwYjo8kdxJA4NoTFrV2EkBrVMZryHgSQHEmfSUQdxJALuE6ZVl2EkBJ25fkYngSQDJA+vdXjBJA0sPf6SJ5EkBmy06MxHYSQFjE4s2PeRJAlJkQvL92EkDS9qSI+HYSQMCjvMWwdhJAWSO/zBGAEkAzbcbiKncSQJ5vyTkrexJAEXb40U92EkD/Ld3pNq4SQE9ZBAQWdxJAP5w5OeR4EkBO4PpscnYSQDiVhLyZdhJAp+D2Msp2EkBzwP68CncSQJvFput+exJAOHajvNWFEkCqT1jgJncSQEIsjNCOdhJAcNIAPht2EkBvCxtIRHgSQMkOJ1aEeRJAQPlyeEd2EkBorvvgxHYSQGIST5hneBJAph5XmwB2EkDLlVtTEncSQBcpL90ZeBJASiW78E93EkCvXlUwDHYSQOMF14WqfhJA7vQTrKR2EkBucClF+HkSQKM9HLdJdhJA1GNRSld2EkAefCBYUXcSQJyRSItidxJAdtLiFPN5EkC8cp3lyHYSQDLmpY7eexJAGttN3GR2EkDVgElTencSQPErr0ltdhJAznc6jNvKEkAAmt2UfHcSQC1EUBqFdhJAjKlYbQN5EkDNqVGIU3YSQCvBJQnWdhJAyEiLobR+EkBBXB+yqHgSQN4nPK2DdhJAXIog5wF2EkABr8Uqun8SQEsedcirdhJA1mkx//l8EkAA3pQfAXwSQA8VgFu3dhJAJBM6IdV3EkBknakMOHYSQB1uPM9MdhJAcwAEdqR2EkCDo0Es6HYSQKxVbPCUdxJAOFx6r892EkDo1MY2kHYSQN9CAorQexJA2g3kWzh6EkAj2ZjCmHcSQHieM0m/dhJAZNtlB1d3EkA/lnaheXwSQPbA7t0+dxJAKXecmNN3EkDHcBK3q3YSQBLNkznndxJABV9edBp7EkB9S0iSVHYSQGw5dQQVdxJAoX4+YrB2EkAdjeboAncSQEqxXcgNAxNAVBtlprN2EkA+GXxkuXcSQGX81hzEdhJAHRXEKhd2EkACxhN3AH8SQLRjWU5vdhJAnh3grBR5EkDikr4cFncSQAra1QuSdxJAYcej9+B2EkBlvTOSO3YSQC3dOHYneBJAQYg13n14EkBnPi3i5YsSQHvdoNsgfhJAcinQ29J3EkAhNhJWN3cSQOpbDc1ZeRJA0hhVG/t1EkDw+e1oA3wSQNY+RKtgdxJA/i18fLl2EkBA/FGsQXYSQERx5k4rexJASl8mZ0p2EkCrBldyr3cSQGnnvVO6dhJAd+4jZ6R7EkAg7aW41XcSQHteb7xFdxJADG8smkZ3EkDhwXX5v3YSQBuJxgUedxJAh0YKnTN2EkCgOwlDYnYSQCHhNwb3dhJAx3nbyYN2EkAFFld2YXcSQGs8rRADdxJAypESlc12EkB4CX2YsX0SQJVSzJ5/dxJAnRuNohF3EkDq14KbJXYSQGeuoEY/dxJAedP8ilR3EkCrLmEwyHYSQEbDCBxedxJAK6jYIZl2EkD7NvSnTHgSQOwxI42EeBJAqUoDQit6EkDDy4rIpXYSQLtuJ3GtdxJAZkBcSBF3EkABQ6F2bXYSQGhdoWYadhJANgsVPBiHEkDT5C2rHHoSQP3gx7zpdxJAFleEp3F2EkBtsd2+m3YSQIOcuOWPdhJAXdHxYS52EkCovYmHqncSQFW7VL17dhJAyKPM3ql4EkAU4wVtHHgSQLdWY5xjdxJAtrwT2Rd3EkBfQhUWgHgSQIVy0UWPdhJAbWQ3LOF/EkCXRsAk7XYSQFan9PBHfRJAC8zner93EkD9uAlfwncSQAD89r+VfRJAbAZS7EiGEkAYEk2XvngSQPZxUanYdxJAUDjiemd4EkC5EEm13HYSQCyH+yWLdhJAvcOFkBF+EkCCHetWc3oSQLIbldSZdhJA4ux4jT92EkDoToeaf50SQA277E6pfRJAAP6erwJ4EkARTyj/AnsSQA8iZqe6dxJAIHzK57B2EkB8aaiF7XcSQAyaxy5jChNATbZ5I5F3EkDrpjlyB3oSQDH6UewDfhJAEnDwCR18EkB5dIyEDnYSQKbLLFfSdxJAaxFA9Gt2EkD0kGAqAnYSQBVor2xydxJAmwGpu1t5EkBL+9XHNncSQDBDWu3bdxJAKPclb4J5EkBIsvDVaoUSQIgJoKaxdhJAYxwcyG92EkDHCEma43YSQPG44s3vdRJATDKSUXt3EkAxdDKErHYSQKHg+fbcdhJArGSGAbF2EkCpD9w3LncSQAAFa1lpdxJAPDioz5F2EkDUgfqgrHcSQNdvGLG1dhJAc6eeJ712EkC13tnmkXYSQJAQYMKFdhJAkDB18L92EkDksamOKnsSQE7a3RdMehJALPKic5SFEkCQAK6vrHYSQJHDaUlTdxJAJKVDqr52EkA4AoI33XYSQDSZKdTmdhJArN4tE413EkCIAciconkSQHibQrmVexJAk+xkgW92EkB+psbLRHYSQNKTYV4VdxJA/6E74E12EkCjQCYEdnYSQAafPOvQdxJAV6xZjyx3EkCr+Sh1B3cSQE4nKYkneBJAvvOnBYh2EkCJ2TFfynsSQH2gySyAdhJAVziJd0h4EkCZPm7+CHcSQJsYuJ8ZdxJAN5K8c3V3EkDbPlNJH6ISQF+8gB1FdxJA8uo17ed7EkB+8U9c7XcSQDHY2o+OexJAI+u0Azp3EkBlwe7+bXcSQHvil45bdxJAPxrVIuh2EkDa2pHeWXcSQCubcPPBeRJAAcdNR6t2EkDS2eLuN54SQFOEdhWPeBJAM7VssNN4EkASZKxuuHYSQDqJ+xi1dhJARVeOGTyEEkDDp+OGDnYSQPWNJ7E7fBJAoaWft/OEEkDjU+KoqHYSQJsx4PF2eRJAjR4O5DV3EkDAId61M3cSQO76UuvMdhJArsbPH/12EkDF6kRUhXYSQOiuwW09dxJA9YcSkQm4EkDGKE+LV3YSQBg11ryzdhJAUVVy8hl5EkBAtgS7i3YSQKsmM3MDdxJAAIECcl59EkC1PE210YoSQFMT4l0xdhJA1ZDAqQR4EkDBAOe/XXkSQC2L18fGdhJAX/X6m092EkB1+Yvg+n0SQAnGKrModhJAlYW7h+p3EkDTlVH5a3gSQDbxY5sBfBJAD5fQbB93EkCXch7Nco4SQP0WlAMndxJAJkRLp/2AEkAEx5dZunYSQHsSlqH3dhJAT635DVR2EkCKnHG7/3YSQBxJOX+1dhJA0KBFWHZ2EkB9fMFYqXYSQPTZtGzAdhJA41RUt892EkA0si04vHYSQHXR2gS/dhJA5CxiFJV3EkBcLeEc0HYSQGy8bCEAeBJAJBJnnZ12EkDgkYRMfXcSQM/wHqfndxJACpNOkGt6EkAQ/iw1KHcSQDpmALS1dhJA51i6ra93EkCU9B/PPXoSQLMCq3cjdxJAjc8udZh4EkA/2S2rhnYSQBFq2h8hdhJAOvJf9z92EkDpFXyxWnYSQGGxQs+9dxJAtmVOufp2EkAfo6q8LncSQDKZkTbTdhJAbmfzUct2EkDgh+UhvnYSQHzvOw6OdhJAvEU0WG52EkDKwJJfz3wSQD5/3GSEdhJAdq3e0sl2EkAMdPq9ancSQE+7NkuFdxJAyfC+Qo52EkAwMxPuDXcSQA1kISMTdxJAs8CFxm92EkAELV6wdXYSQPgHcJbTeBJAGj2ZFXx3EkA5heL+a3kSQCOeoIvHfRJAWyYu5QN3EkBcxSH05XYSQMleIjEghRJAri3qgdV3EkBWZ4FB6HkSQNfb2hUZdhJA/z58MOh2EkDIh/UF93USQOGFjnglehJAqYVP4Bx3EkD0/diEkXcSQFq6fbRtdxJA7yA0Y9d2EkAIV5HefHYSQC3U2Z5DexJAY5fEsK52EkBGNeJ81HcSQPEKVlG3dxJAqFY0X/J5EkCtmcx5LXsSQMeQNVatehJA9TqkpWh2EkBZ31onw3YSQEpuBLIldxJAXBFO89p2EkC/gxsk5nYSQGPRxrNkdhJAO3c43lV2EkAEM5FMc3sSQFayExGQdhJAq9f67JJ3EkCErPjlP3cSQIixV5FpdhJAVW92Sl2CEkBxpxLKyXYSQJMqf5N/ehJAfbGuRB93EkCClnXxZnYSQHI1W0gwdhJA1RnwTbt2EkCE6rGoeHkSQNzNO7ITdhJAyWuYEex3EkDRSbRJmnYSQJYPunrzeBJAOp/ds7l2EkDbctervXYSQHCAh7HYeBJAS9YsHbGYEkB8VWCM33YSQDWXejSmdhJAF3udGbN2EkBK3Jmhe3cSQNpgnzEwexJAlTaHwvZ8EkC9g65BPXcSQFWRD6cvdhJAV59pVY6CEkD5ROJiC3oSQC4++KOLdxJA/4ZP6hSMEkDxQCAoz3gSQPP5JBxldxJA1hPWjyJ4EkB/e7+EYnkSQM82fWdveBJAybRUhex2EkCFQJ/ixXYSQClim6Z1dhJA4eVgItd2EkAJngyxR3gSQNNvpz89hBJAiwxU/W56EkDEJMcU0nYSQHyo5Uq+dhJAEwrIh5t6EkA6bQjzZ3kSQLWuUvm5dhJAgc3qn5J6EkCfnnkYuXYSQKfl92CpexJAPH2uL4J2EkAyAPRfxnYSQAq5ksIhfBJAHF1wTAR2EkArVu5DKngSQMu4A1YzdhJAkm8rTzd3EkB/VpQwy3YSQJIVlCBAdhJAtah2rrV2EkB0maYvWn0SQMBJ5yJrdhJAeGkLh2B2EkCWw4dsf3cSQBZKl1M3dhJA0lIAu393EkD22XTl4qISQOJ5oL3XeRJAEGj6oCh2EkCDxICd23gSQNXz9gmHdhJAcJsJl1d3EkCFjrc3l3YSQM2/WKXcdhJAJs8smfB2EkCwRk2dm3YSQKb+c60udhJAZFwB3MF2EkBDk8b0vHYSQGCwzwHBeRJAeVNEPqt4EkCRiGHkBHcSQL24njxjixJAJmniAAd2EkAecLHZj3YSQI6OC7fTeBJAnb9/fXh2EkDva2QnEXsSQCptQto1eRJA6PcQk7R2EkDXdOPXKY8SQBrUr2jodhJAnMSkAH53EkDeGShr3nYSQK2Dm3G2dhJAGddRiUB2EkClbELME3kSQFd+vDU+dhJAvX5fuxt2EkCcYCLYqncSQDOPVi87dxJAkt81CNt6EkAdLCAl3XYSQDBkNyEAdxJAp8wLOMZ4EkC4ZkAJFncSQLWloKZtdxJANZmsa1aCEkBTsQROHncSQKd+AoGEeBJAl1KQiVF2EkAalfufv3cSQDa+ltKZdhJAaPLqsFR4EkCXMaYQyXYSQJ1JjCwddxJAjewjqXZ2EkBfuzKVDnYSQCFBFLSvdhJA4i13G3h2EkDu4UPHv3YSQO+B7COKeBJAHVMjqVV6EkAmGjFlvHYSQPtYXCE3dxJALoquVHZ2EkDRVMwQancSQLG+IGzGdhJADUtYzTB2EkDN5AdRP3cSQNLgOrsAeRJAziPT50B5EkD8NyJhAngSQMuphjSndhJABkvdC7V3EkDktr/2I3YSQKJtOwrKdhJAWwKagj12EkBTc3r0MHYSQN0BqJNCdxJA78Tzqj93EkCvL9VecnYSQMV7lxAJdhJAmbP/Z0KFEkAYH9u1iHcSQMAThybTeBJA+rGDt4F2EkAlgMs5fXYSQOFKwmMhdxJAbpeKMKx3EkCd8o4c1HcSQJOxIFxWeBJAsHoHW/l1EkDL/gVyKnYSQDIHmXC4dxJAEmmgz7R2EkCTaUBTCncSQKRbNEpPdxJA0O185oyBEkCBZC98AXcSQAKVnbCVeBJAYOtKXl13EkCfGAGSZHgSQKOpEiJbdxJAnTof4/55EkBR/cUUCXYSQATRXpWHdhJA0lQ5MxWREkBMwPfqdHoSQPd2TsWVeBJASjJ5+fp5EkAmWsofa3cSQNu33TXEdhJAzYO6iwd2EkAufHA3V3gSQKrkTExgeBJAD7xynXt3EkA4cqJ/W3cSQDK7039cdhJACARnxVt2EkCcoGCrPXgSQEsPMeTOdxJAzIJK7NF2EkAkRp0la3cSQHmKxRU4eBJAE13BG5J2EkAIlwuMvHgSQPwx3YwvdxJACNoEeX13EkA5i0h+W3kSQD0w45ejdhJAQX2fie52EkAGdIWUJHYSQM/peQONdhJAzz91mIF3EkAftEK8fngSQM6D50+geBJA9ch1ekR2EkD5c2dwInwSQO/txyTbghJAzRvoQGF2EkBOksHCingSQOdQ4oCldhJAPNbS9jx5EkCD6A9sancSQE6d5V6adhJAUTUd4413EkAC5aQLX3YSQAaGI3Q9dxJAZt5FuYV3EkDaUOy+VncSQNL1ozgzdhJAdvEmjYF2EkBgJm4IV3YSQCQr6CmnehJA/TPuU3N9EkBMa+sOpHYSQHIwU8CAeBJAZEFLFe53EkAPV2W+s4QSQOQXBENtdhJAb4wzx154EkBvWiKl53gSQBvamViEeBJAH4GSDkl+EkBZ7FWslnYSQI7SKw3okxJAcCaLr5F2EkD6eUsOmXYSQGIzqYgWdhJAhDb92Zt2EkBIY4GRmXYSQFGrLgyCeBJAL4GAIYN2EkBhXhGOPnYSQIi8T9uMdxJACVVIjTl2EkDfRxdln3wSQD1bNajAdxJAAidPA9Z3EkCVDaNgV3YSQAJkRvwNeRJAPsKUBFx3EkC3xjjsrIoSQB36AZnGdhJAaBq3zal2EkACFbE/uHcSQG2oyJn4dRJAV5b1o713EkCCa/TCRXgSQPnd6w4dexJA52OHb9Z2EkBzOlzuFXYSQNVHLqoqeBJA6cpesRZ2EkBEtCxXmXgSQOStB5fAdxJAfQlkpoJ3EkB1pPZdA38SQB3V7hP4dRJAgVDnyf+aEkDcHl6akn4SQAXbTBg/dhJAlQtNtJF4EkCCJ/BtSXcSQF7WIAfQdxJA0x5hjwV/EkBpdJ/PS3gSQNkhwGoUdxJAT4nYE3x3EkBQ/gGQM3YSQND4mpUTdhJAzhT0SmN3EkBSxczp0HYSQBszo9KFghJAsSFXCjd2EkATBBXkA3cSQBXmfviqdhJAgukVmox2EkAnTjvZA3cSQItszUOVdhJA/MlnE2h3EkDndbNVinYSQOva/JtjeBJAY9xYO4B2EkAOYvtX/3USQJb0xjWRfxJAHrilt5t/EkCOBS1b+nYSQDf3/Il+dhJA+HMRWHt3EkCsX17cjXYSQHSsaVzCdhJAMvgPdjh3EkBnEZcKinYSQGfLmO2UdhJAdwVZqFl2EkBIepgMlHoSQPHdKrN6dhJA7oJwqK17EkAbYiCBlXYSQA/0I5lndxJAUMqxm6h2EkClXqNehXYSQFsDAO7vexJAqI82zFN3EkBJ8DBmVXYSQPEPOLqDdhJAWqWHB092EkB17iswongSQJVZXNiLdhJAZXyb8Ll3EkDaU/N+wnYSQNMfLGJlfRJAEB6UZrd2EkCjU7KOE3oSQLnfh6CMdhJAlVK66M52EkB8hhM/k3YSQEPARQT/fhJAWoXERb92EkBLdQ9yIncSQB23M63sdhJA86ywNsh3EkA4AJb/v3gSQGT0wmmEdxJAdZ1qUVp5EkDkJamFrncSQDd03Z1oeBJAVbtaFL54EkCRgywULXcSQLN7gJsldxJA/aentyJ3EkD148iTencSQI2D8yVAexJACWmWNK1+EkC5UXdBFncSQMGHSCTwdhJAY6/Wu+d2EkAeRBQw4HYSQNkq0bgmdhJAO+0DJQJ2EkBlMFD32HcSQHY1IPQBdxJAzFgZdz53EkB69b3yMncSQEHKo5DVdhJAUl7f1K13EkAFzhqOT4ISQMhmMM/1dxJAaZVEFFV2EkAK3KohrH0SQKTmoJKPdhJAPk5oS42DEkD4UjiJ43YSQILe2I0AdxJAqiqzQL93EkB+H846WHYSQNUEDHPVdhJATm4Dr8l2EkCMn2oq4ncSQC/+f50bfBJAqEWuP/J2EkAlDuGyAXcSQLnjK3wGeBJAdDDRgIV4EkDdxFiJk3sSQEN1i9LfdhJA+xv1bPZ2EkB3ATfNPXcSQOZdiB8odhJAw+V1ZjB2EkBjJ6AognYSQO6fzXlMdxJAIwgRM/52EkBP1JvP9XUSQGAsskvrdhJAWp3ViR93EkDlme0kfnsSQHASjzSNihJAycQ90fV2EkAzoHgqsHsSQHeIE2xjdxJAqFPUmYV2EkCmisS7FHgSQIIqKftsdhJAuWwe/413EkBw18cnW3YSQF3iUoQvgRJApuWR9i92EkCGMH8SDXkSQPBW6kwvdhJAU7v5lBWEEkA0wweSZXgSQGCgcBtVdxJAkJ7gd0x2EkC7SCjYtHwSQB2SNPIqeRJAghMG9Q95EkAc5/ivXHgSQMANBTepdxJAN2RJan53EkAe81X9n3YSQJQHw56ydhJADD7VQZd2EkAQP/KOPHgSQLzCFxIaeBJA0naxvyZ2EkCpiH5fYncSQI/XcGwHdxJAm5ybTM12EkBWVdHl23cSQNAv0n7IdhJAM1okm+V4EkCQNKeBrncSQFuSyjdgdhJA9OUssjt2EkChQ9Lg5nYSQOvZf7mLdxJAz0dj/KB2EkAOcsjnR3gSQBM26pgidxJAlu9fJkKCEkChttgulXcSQDqek1FReBJAAo+OGTV9EkAz8qkJ+HcSQN/9frVgdhJAHMY4M4B3EkAIOESUfHYSQFrjbZ9HdhJAGxGsKReJEkAOLcocfXcSQFA6FJj6kxJALgub+Jh2EkDXNrycIHgSQFpwdvzldhJA53hD89J2EkB94ZJPtHYSQGOJHBgQkBJA9UUOGX52EkAnvPfc0HYSQBxCUiVWdhJA5bdLWAh2EkDw7PsdWHYSQOUf3ufYdhJAgkXtmm14EkAoz92ju3kSQFLuZ8fjdxJAxcowLBuBEkDzbM9MJ4ESQMe6czzLeBJA0wV9qol4EkDC00VZ1HYSQO/N9W6QeRJAMX5xk5N2EkDXgKS2JnwSQAHgoTL9eBJAqFuPobV2EkDsL8wohXYSQOvC6AMseRJAJDKCsm52EkDIhPKEqXYSQNCzD/j/dRJAjIp+dVJ2EkBQs4OESncSQK8iLKLpdhJAN4YX1Kx2EkA2KRGRc3YSQHoJ4hWxdhJA0gJnmd13EkAInY0tBXgSQNZ5vNn9jBJAy9Onl5p8EkCklkHIOXoSQE+Iuyl0dhJAegIKok52EkDCGXVCfXcSQCo///f7dxJADr3b1/R1EkDi+HX60HYSQFNPqG3heRJA0iaQ1ZGKEkCQ1B08M3gSQAoguGuqeBJAoYuC/VJ5EkAJbOxOsHYSQEmlg1VYdhJAZ/ZaLxaJEkCmAkOnqXgSQM99IHvhdhJAsJxDhOp2EkAHKgZhXXkSQMhjls6SdhJAvBxOpMl4EkAdrRRdR3kSQDQcPrRRdxJApEp2oXp4EkBirqZSnH0SQLthlmTGdhJAVC/hlFN2EkBduKCWZXYSQHFlhfxOdhJA7PDGW5J3EkAePRNKqXYSQObzlML+gRJAqezPvQ12EkB5RPIuz3oSQPu5Qd3DdhJAZkZ3gPp2EkCYbtwmOXYSQDJu0EeYdhJAtE/sdCB2EkBPWuYFy4ISQEok6FOQdhJAHa/7Z293EkB8Wb3vwHYSQF7E0nDzdhJAAleHYcF3EkCY+hhoW6ASQCS2+IKMeBJATols3Lp2EkBZcqviunkSQBgKt7S2dhJAXCBNUTp4EkBTRYrBK3oSQO/IsjwUeBJAgmDvOxx3EkClEGRABIISQJtUJ3EOeBJAp6XMjiB2EkBnd6U6ingSQBigtmCEdxJAvZrVZV94EkBuWeowUXcSQMuQ9HxXexJAtRTlTIl6EkCDB7gb+HYSQA72NPkKeBJAh3b2cpSVEkC6nPiBX3wSQOl2mqTAeBJA8HCfodx5EkCrfXhCPYYSQG3Hnv+WdhJAYntIEgx3EkA8Qnpy0XcSQAKKug9CdhJAefFsTYh2EkBBlAsiW3YSQG8Mc8IygRJAV4JIVBt3EkAqDXhSmHgSQAf4MqHVdxJAFlYqT7F2EkCpWAVAAHcSQA5fRMLadhJAkAUe0MB2EkDQjrYN5XYSQPmtbraveBJAzdX0wYN2EkCAOvsdBXcSQIsuJ8zJdxJAmyD6eHJ2EkBpnZkv6XkSQDqR7wt7dxJAnIAXArJ2EkC/uMFDY3YSQHcBMxbSfRJAYqAbJbt2EkBMt4vNYHYSQI99nP/gdhJAldeE6yB2EkCp7jf114ASQIaCVaQVdxJANEIwkGB3EkC+gjDxN3YSQP/EW6uudhJAKgXtyiCQEkCO+rUF+3cSQISxn3HzdhJAb195JPV2EkBYlO5gdocSQMrOpM20dhJA5Y0trP14EkAs81KrLHYSQLOe+9TkdhJA5PpjDll2EkCxkxUdm3YSQOlvfHmHdhJAE3EJWhd3EkA4ysM3VYkSQBHnrOT6eBJAFcV2Nnl2EkDaJYAxvHYSQJXocEtWeRJApD7k3w13EkCwBzJN/oMSQBSZw4EndhJA/SALCAh2EkAGGV6XcXYSQKKCSq3odxJAwoR/ufx6EkB/9fovBncSQF1U4z3FexJA8imrFj52EkAK9R919XkSQGTIAl1rdxJART31FhB4EkDrXBp6CXsSQDo47DUgdhJAVeyaTd92EkATaKU21nYSQGJiYSCE/RNANba+sq92EkA9WMbPDHgSQPfFFqmWeRJApWMV2YJ3EkCUkEQnQncSQOK8SxqSdhJA45CuLAZ4EkAYls7LRHcSQOHcM8k4dhJAIV70j012EkDPx+F6wHgSQG4mXrPxdhJACMhCEXN2EkBfj2qtVnYSQHZoiMmpdhJAk+y25omCEkCwdUudPXcSQJxNtmMadhJAqRXRiWp4EkD487BeBncSQLzmEkIueBJA5fb6Bqp5EkBvMhSHP3YSQE1tIBXWdhJAigq6LqN2EkAwHiMwpnYSQOAJwdOCdxJAWtRYxUiEEkCeg1MR/XYSQBl1YZdBdxJANtTr9Kh2EkCUWuNeTYASQKKMr/pWdhJA1HtIIxqFEkBSp7hKVncSQCF3kMcLdxJA/C908pt3EkBDs+bVV3YSQLeXWZ3gdxJAKLcv2rh5EkDYqnHK/HkSQAhfBdCUdhJAJTJr9Vp2EkCa3q6KfHYSQJSgrvvFdxJAG0pNuzZ2EkB6Wv+gBXYSQBeVZgoaeBJAI6o0RKl7EkD6rzW2lIQSQP8X9aWWdhJA/E7BX0F3EkDXLobDRnkSQDuFCZETdhJAR8lc7T12EkD77lybbXYSQFDOvkl7fBJAEKw3Gn53EkCXCAwUpHcSQED2c2EVdxJAyOr+VS52EkBpoajVQHoSQBRPGIUqiRJAc+iDapR2EkBvA0LtDHYSQMZTZ+aLdhJAlpJaLg93EkBCATe183YSQN6Fm8VUdhJAjw3K8sJ3EkAIDbiea3cSQH4Go25bdhJAOZA/5dZ3EkAoRXoOXXYSQFEo+yPHeRJAvfSHBEh2EkBxycc9K5ISQO8PbhxOdxJAjuzVOwGCEkA7ZfjSkXYSQJqoiwzedxJAnmBxNACbEkBfu5rH63YSQESfeicdjBJAcsAWg793EkBTOSyumXYSQHb7GGYkdhJAI0NE7saIEkA=",
          "dtype": "f8"
         },
         "xaxis": "x",
         "yaxis": "y"
        }
       ],
       "layout": {
        "bargap": 0.1,
        "barmode": "relative",
        "legend": {
         "tracegroupgap": 0
        },
        "template": {
         "data": {
          "bar": [
           {
            "error_x": {
             "color": "#2a3f5f"
            },
            "error_y": {
             "color": "#2a3f5f"
            },
            "marker": {
             "line": {
              "color": "white",
              "width": 0.5
             },
             "pattern": {
              "fillmode": "overlay",
              "size": 10,
              "solidity": 0.2
             }
            },
            "type": "bar"
           }
          ],
          "barpolar": [
           {
            "marker": {
             "line": {
              "color": "white",
              "width": 0.5
             },
             "pattern": {
              "fillmode": "overlay",
              "size": 10,
              "solidity": 0.2
             }
            },
            "type": "barpolar"
           }
          ],
          "carpet": [
           {
            "aaxis": {
             "endlinecolor": "#2a3f5f",
             "gridcolor": "#C8D4E3",
             "linecolor": "#C8D4E3",
             "minorgridcolor": "#C8D4E3",
             "startlinecolor": "#2a3f5f"
            },
            "baxis": {
             "endlinecolor": "#2a3f5f",
             "gridcolor": "#C8D4E3",
             "linecolor": "#C8D4E3",
             "minorgridcolor": "#C8D4E3",
             "startlinecolor": "#2a3f5f"
            },
            "type": "carpet"
           }
          ],
          "choropleth": [
           {
            "colorbar": {
             "outlinewidth": 0,
             "ticks": ""
            },
            "type": "choropleth"
           }
          ],
          "contour": [
           {
            "colorbar": {
             "outlinewidth": 0,
             "ticks": ""
            },
            "colorscale": [
             [
              0,
              "#0d0887"
             ],
             [
              0.1111111111111111,
              "#46039f"
             ],
             [
              0.2222222222222222,
              "#7201a8"
             ],
             [
              0.3333333333333333,
              "#9c179e"
             ],
             [
              0.4444444444444444,
              "#bd3786"
             ],
             [
              0.5555555555555556,
              "#d8576b"
             ],
             [
              0.6666666666666666,
              "#ed7953"
             ],
             [
              0.7777777777777778,
              "#fb9f3a"
             ],
             [
              0.8888888888888888,
              "#fdca26"
             ],
             [
              1,
              "#f0f921"
             ]
            ],
            "type": "contour"
           }
          ],
          "contourcarpet": [
           {
            "colorbar": {
             "outlinewidth": 0,
             "ticks": ""
            },
            "type": "contourcarpet"
           }
          ],
          "heatmap": [
           {
            "colorbar": {
             "outlinewidth": 0,
             "ticks": ""
            },
            "colorscale": [
             [
              0,
              "#0d0887"
             ],
             [
              0.1111111111111111,
              "#46039f"
             ],
             [
              0.2222222222222222,
              "#7201a8"
             ],
             [
              0.3333333333333333,
              "#9c179e"
             ],
             [
              0.4444444444444444,
              "#bd3786"
             ],
             [
              0.5555555555555556,
              "#d8576b"
             ],
             [
              0.6666666666666666,
              "#ed7953"
             ],
             [
              0.7777777777777778,
              "#fb9f3a"
             ],
             [
              0.8888888888888888,
              "#fdca26"
             ],
             [
              1,
              "#f0f921"
             ]
            ],
            "type": "heatmap"
           }
          ],
          "histogram": [
           {
            "marker": {
             "pattern": {
              "fillmode": "overlay",
              "size": 10,
              "solidity": 0.2
             }
            },
            "type": "histogram"
           }
          ],
          "histogram2d": [
           {
            "colorbar": {
             "outlinewidth": 0,
             "ticks": ""
            },
            "colorscale": [
             [
              0,
              "#0d0887"
             ],
             [
              0.1111111111111111,
              "#46039f"
             ],
             [
              0.2222222222222222,
              "#7201a8"
             ],
             [
              0.3333333333333333,
              "#9c179e"
             ],
             [
              0.4444444444444444,
              "#bd3786"
             ],
             [
              0.5555555555555556,
              "#d8576b"
             ],
             [
              0.6666666666666666,
              "#ed7953"
             ],
             [
              0.7777777777777778,
              "#fb9f3a"
             ],
             [
              0.8888888888888888,
              "#fdca26"
             ],
             [
              1,
              "#f0f921"
             ]
            ],
            "type": "histogram2d"
           }
          ],
          "histogram2dcontour": [
           {
            "colorbar": {
             "outlinewidth": 0,
             "ticks": ""
            },
            "colorscale": [
             [
              0,
              "#0d0887"
             ],
             [
              0.1111111111111111,
              "#46039f"
             ],
             [
              0.2222222222222222,
              "#7201a8"
             ],
             [
              0.3333333333333333,
              "#9c179e"
             ],
             [
              0.4444444444444444,
              "#bd3786"
             ],
             [
              0.5555555555555556,
              "#d8576b"
             ],
             [
              0.6666666666666666,
              "#ed7953"
             ],
             [
              0.7777777777777778,
              "#fb9f3a"
             ],
             [
              0.8888888888888888,
              "#fdca26"
             ],
             [
              1,
              "#f0f921"
             ]
            ],
            "type": "histogram2dcontour"
           }
          ],
          "mesh3d": [
           {
            "colorbar": {
             "outlinewidth": 0,
             "ticks": ""
            },
            "type": "mesh3d"
           }
          ],
          "parcoords": [
           {
            "line": {
             "colorbar": {
              "outlinewidth": 0,
              "ticks": ""
             }
            },
            "type": "parcoords"
           }
          ],
          "pie": [
           {
            "automargin": true,
            "type": "pie"
           }
          ],
          "scatter": [
           {
            "fillpattern": {
             "fillmode": "overlay",
             "size": 10,
             "solidity": 0.2
            },
            "type": "scatter"
           }
          ],
          "scatter3d": [
           {
            "line": {
             "colorbar": {
              "outlinewidth": 0,
              "ticks": ""
             }
            },
            "marker": {
             "colorbar": {
              "outlinewidth": 0,
              "ticks": ""
             }
            },
            "type": "scatter3d"
           }
          ],
          "scattercarpet": [
           {
            "marker": {
             "colorbar": {
              "outlinewidth": 0,
              "ticks": ""
             }
            },
            "type": "scattercarpet"
           }
          ],
          "scattergeo": [
           {
            "marker": {
             "colorbar": {
              "outlinewidth": 0,
              "ticks": ""
             }
            },
            "type": "scattergeo"
           }
          ],
          "scattergl": [
           {
            "marker": {
             "colorbar": {
              "outlinewidth": 0,
              "ticks": ""
             }
            },
            "type": "scattergl"
           }
          ],
          "scattermap": [
           {
            "marker": {
             "colorbar": {
              "outlinewidth": 0,
              "ticks": ""
             }
            },
            "type": "scattermap"
           }
          ],
          "scattermapbox": [
           {
            "marker": {
             "colorbar": {
              "outlinewidth": 0,
              "ticks": ""
             }
            },
            "type": "scattermapbox"
           }
          ],
          "scatterpolar": [
           {
            "marker": {
             "colorbar": {
              "outlinewidth": 0,
              "ticks": ""
             }
            },
            "type": "scatterpolar"
           }
          ],
          "scatterpolargl": [
           {
            "marker": {
             "colorbar": {
              "outlinewidth": 0,
              "ticks": ""
             }
            },
            "type": "scatterpolargl"
           }
          ],
          "scatterternary": [
           {
            "marker": {
             "colorbar": {
              "outlinewidth": 0,
              "ticks": ""
             }
            },
            "type": "scatterternary"
           }
          ],
          "surface": [
           {
            "colorbar": {
             "outlinewidth": 0,
             "ticks": ""
            },
            "colorscale": [
             [
              0,
              "#0d0887"
             ],
             [
              0.1111111111111111,
              "#46039f"
             ],
             [
              0.2222222222222222,
              "#7201a8"
             ],
             [
              0.3333333333333333,
              "#9c179e"
             ],
             [
              0.4444444444444444,
              "#bd3786"
             ],
             [
              0.5555555555555556,
              "#d8576b"
             ],
             [
              0.6666666666666666,
              "#ed7953"
             ],
             [
              0.7777777777777778,
              "#fb9f3a"
             ],
             [
              0.8888888888888888,
              "#fdca26"
             ],
             [
              1,
              "#f0f921"
             ]
            ],
            "type": "surface"
           }
          ],
          "table": [
           {
            "cells": {
             "fill": {
              "color": "#EBF0F8"
             },
             "line": {
              "color": "white"
             }
            },
            "header": {
             "fill": {
              "color": "#C8D4E3"
             },
             "line": {
              "color": "white"
             }
            },
            "type": "table"
           }
          ]
         },
         "layout": {
          "annotationdefaults": {
           "arrowcolor": "#2a3f5f",
           "arrowhead": 0,
           "arrowwidth": 1
          },
          "autotypenumbers": "strict",
          "coloraxis": {
           "colorbar": {
            "outlinewidth": 0,
            "ticks": ""
           }
          },
          "colorscale": {
           "diverging": [
            [
             0,
             "#8e0152"
            ],
            [
             0.1,
             "#c51b7d"
            ],
            [
             0.2,
             "#de77ae"
            ],
            [
             0.3,
             "#f1b6da"
            ],
            [
             0.4,
             "#fde0ef"
            ],
            [
             0.5,
             "#f7f7f7"
            ],
            [
             0.6,
             "#e6f5d0"
            ],
            [
             0.7,
             "#b8e186"
            ],
            [
             0.8,
             "#7fbc41"
            ],
            [
             0.9,
             "#4d9221"
            ],
            [
             1,
             "#276419"
            ]
           ],
           "sequential": [
            [
             0,
             "#0d0887"
            ],
            [
             0.1111111111111111,
             "#46039f"
            ],
            [
             0.2222222222222222,
             "#7201a8"
            ],
            [
             0.3333333333333333,
             "#9c179e"
            ],
            [
             0.4444444444444444,
             "#bd3786"
            ],
            [
             0.5555555555555556,
             "#d8576b"
            ],
            [
             0.6666666666666666,
             "#ed7953"
            ],
            [
             0.7777777777777778,
             "#fb9f3a"
            ],
            [
             0.8888888888888888,
             "#fdca26"
            ],
            [
             1,
             "#f0f921"
            ]
           ],
           "sequentialminus": [
            [
             0,
             "#0d0887"
            ],
            [
             0.1111111111111111,
             "#46039f"
            ],
            [
             0.2222222222222222,
             "#7201a8"
            ],
            [
             0.3333333333333333,
             "#9c179e"
            ],
            [
             0.4444444444444444,
             "#bd3786"
            ],
            [
             0.5555555555555556,
             "#d8576b"
            ],
            [
             0.6666666666666666,
             "#ed7953"
            ],
            [
             0.7777777777777778,
             "#fb9f3a"
            ],
            [
             0.8888888888888888,
             "#fdca26"
            ],
            [
             1,
             "#f0f921"
            ]
           ]
          },
          "colorway": [
           "#636efa",
           "#EF553B",
           "#00cc96",
           "#ab63fa",
           "#FFA15A",
           "#19d3f3",
           "#FF6692",
           "#B6E880",
           "#FF97FF",
           "#FECB52"
          ],
          "font": {
           "color": "#2a3f5f"
          },
          "geo": {
           "bgcolor": "white",
           "lakecolor": "white",
           "landcolor": "white",
           "showlakes": true,
           "showland": true,
           "subunitcolor": "#C8D4E3"
          },
          "hoverlabel": {
           "align": "left"
          },
          "hovermode": "closest",
          "mapbox": {
           "style": "light"
          },
          "paper_bgcolor": "white",
          "plot_bgcolor": "white",
          "polar": {
           "angularaxis": {
            "gridcolor": "#EBF0F8",
            "linecolor": "#EBF0F8",
            "ticks": ""
           },
           "bgcolor": "white",
           "radialaxis": {
            "gridcolor": "#EBF0F8",
            "linecolor": "#EBF0F8",
            "ticks": ""
           }
          },
          "scene": {
           "xaxis": {
            "backgroundcolor": "white",
            "gridcolor": "#DFE8F3",
            "gridwidth": 2,
            "linecolor": "#EBF0F8",
            "showbackground": true,
            "ticks": "",
            "zerolinecolor": "#EBF0F8"
           },
           "yaxis": {
            "backgroundcolor": "white",
            "gridcolor": "#DFE8F3",
            "gridwidth": 2,
            "linecolor": "#EBF0F8",
            "showbackground": true,
            "ticks": "",
            "zerolinecolor": "#EBF0F8"
           },
           "zaxis": {
            "backgroundcolor": "white",
            "gridcolor": "#DFE8F3",
            "gridwidth": 2,
            "linecolor": "#EBF0F8",
            "showbackground": true,
            "ticks": "",
            "zerolinecolor": "#EBF0F8"
           }
          },
          "shapedefaults": {
           "line": {
            "color": "#2a3f5f"
           }
          },
          "ternary": {
           "aaxis": {
            "gridcolor": "#DFE8F3",
            "linecolor": "#A2B1C6",
            "ticks": ""
           },
           "baxis": {
            "gridcolor": "#DFE8F3",
            "linecolor": "#A2B1C6",
            "ticks": ""
           },
           "bgcolor": "white",
           "caxis": {
            "gridcolor": "#DFE8F3",
            "linecolor": "#A2B1C6",
            "ticks": ""
           }
          },
          "title": {
           "x": 0.05
          },
          "xaxis": {
           "automargin": true,
           "gridcolor": "#EBF0F8",
           "linecolor": "#EBF0F8",
           "ticks": "",
           "title": {
            "standoff": 15
           },
           "zerolinecolor": "#EBF0F8",
           "zerolinewidth": 2
          },
          "yaxis": {
           "automargin": true,
           "gridcolor": "#EBF0F8",
           "linecolor": "#EBF0F8",
           "ticks": "",
           "title": {
            "standoff": 15
           },
           "zerolinecolor": "#EBF0F8",
           "zerolinewidth": 2
          }
         }
        },
        "title": {
         "text": "Распределение цен на жилье в Париже (log_pricePerM2)"
        },
        "xaxis": {
         "anchor": "y",
         "domain": [
          0,
          1
         ],
         "title": {
          "text": "цена м.кв"
         }
        },
        "yaxis": {
         "anchor": "x",
         "domain": [
          0,
          1
         ],
         "title": {
          "text": "count"
         }
        }
       }
      }
     },
     "metadata": {},
     "output_type": "display_data"
    }
   ],
   "source": [
    "fig = px.histogram(df, \n",
    "                   x='log_pricePerM2', \n",
    "                   title='Распределение цен на жилье в Париже (log_pricePerM2)',\n",
    "                   labels={'log_pricePerM2': 'цена м.кв'},\n",
    "                   nbins=30,\n",
    "                   template='plotly_white')\n",
    "fig.update_layout(bargap=0.1)  # bargap: зазор между столбцами\n",
    "fig.show()"
   ]
  },
  {
   "cell_type": "code",
   "execution_count": 6,
   "id": "a6a73e8e",
   "metadata": {},
   "outputs": [
    {
     "data": {
      "image/png": "[encoded data removed]",
      "text/plain": [
       "<Figure size 2000x1000 with 18 Axes>"
      ]
     },
     "metadata": {},
     "output_type": "display_data"
    }
   ],
   "source": [
    "fig, axs = plt.subplots(ncols=6, nrows=3, figsize=(20, 10))\n",
    "index = 0\n",
    "axs = axs.flatten()\n",
    "for k,v in df.items():\n",
    "    sns.boxplot(y=k, data=df, ax=axs[index])\n",
    "    index += 1\n",
    "plt.tight_layout(pad=0.4, w_pad=0.5, h_pad=5.0)"
   ]
  },
  {
   "cell_type": "markdown",
   "id": "b47db054",
   "metadata": {},
   "source": [
    "Данные все полные и нормально распределены. Можно начинать анализ на TensorFlow"
   ]
  },
  {
   "cell_type": "code",
   "execution_count": 7,
   "id": "19cb39c8",
   "metadata": {},
   "outputs": [
    {
     "name": "stdout",
     "output_type": "stream",
     "text": [
      "Корреляция признаков с ценой (log_pricePerM2):\n",
      "log_pricePerM2       1.000000\n",
      "hasPool              0.062365\n",
      "floors               0.049537\n",
      "hasYard              0.039386\n",
      "hasGuestRoom         0.021512\n",
      "hasStormProtector    0.010823\n",
      "isNewBuilt           0.006362\n",
      "garage               0.003779\n",
      "made                 0.003423\n",
      "hasStorageRoom       0.002961\n",
      "cityPartRange        0.000114\n",
      "numberOfRooms       -0.004807\n",
      "cityCode            -0.006811\n",
      "attic               -0.007371\n",
      "basement            -0.012121\n",
      "numPrevOwners       -0.031151\n",
      "Name: log_pricePerM2, dtype: float64\n"
     ]
    },
    {
     "data": {
      "application/vnd.plotly.v1+json": {
       "config": {
        "plotlyServerURL": "https://plot.ly"
       },
       "data": [
        {
         "coloraxis": "coloraxis",
         "hovertemplate": "x: %{x}<br>y: %{y}<br>color: %{z}<extra></extra>",
         "name": "0",
         "texttemplate": "%{z}",
         "type": "heatmap",
         "x": [
          "numberOfRooms",
          "hasYard",
          "hasPool",
          "floors",
          "cityCode",
          "cityPartRange",
          "numPrevOwners",
          "made",
          "isNewBuilt",
          "hasStormProtector",
          "basement",
          "attic",
          "garage",
          "hasStorageRoom",
          "hasGuestRoom",
          "log_pricePerM2"
         ],
         "xaxis": "x",
         "y": [
          "numberOfRooms",
          "hasYard",
          "hasPool",
          "floors",
          "cityCode",
          "cityPartRange",
          "numPrevOwners",
          "made",
          "isNewBuilt",
          "hasStormProtector",
          "basement",
          "attic",
          "garage",
          "hasStorageRoom",
          "hasGuestRoom",
          "log_pricePerM2"
         ],
         "yaxis": "y",
         "z": {
          "bdata": "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",
          "dtype": "f8",
          "shape": "16, 16"
         }
        }
       ],
       "layout": {
        "coloraxis": {
         "colorscale": [
          [
           0,
           "rgb(5,48,97)"
          ],
          [
           0.1,
           "rgb(33,102,172)"
          ],
          [
           0.2,
           "rgb(67,147,195)"
          ],
          [
           0.3,
           "rgb(146,197,222)"
          ],
          [
           0.4,
           "rgb(209,229,240)"
          ],
          [
           0.5,
           "rgb(247,247,247)"
          ],
          [
           0.6,
           "rgb(253,219,199)"
          ],
          [
           0.7,
           "rgb(244,165,130)"
          ],
          [
           0.8,
           "rgb(214,96,77)"
          ],
          [
           0.9,
           "rgb(178,24,43)"
          ],
          [
           1,
           "rgb(103,0,31)"
          ]
         ]
        },
        "height": 800,
        "template": {
         "data": {
          "bar": [
           {
            "error_x": {
             "color": "#2a3f5f"
            },
            "error_y": {
             "color": "#2a3f5f"
            },
            "marker": {
             "line": {
              "color": "#E5ECF6",
              "width": 0.5
             },
             "pattern": {
              "fillmode": "overlay",
              "size": 10,
              "solidity": 0.2
             }
            },
            "type": "bar"
           }
          ],
          "barpolar": [
           {
            "marker": {
             "line": {
              "color": "#E5ECF6",
              "width": 0.5
             },
             "pattern": {
              "fillmode": "overlay",
              "size": 10,
              "solidity": 0.2
             }
            },
            "type": "barpolar"
           }
          ],
          "carpet": [
           {
            "aaxis": {
             "endlinecolor": "#2a3f5f",
             "gridcolor": "white",
             "linecolor": "white",
             "minorgridcolor": "white",
             "startlinecolor": "#2a3f5f"
            },
            "baxis": {
             "endlinecolor": "#2a3f5f",
             "gridcolor": "white",
             "linecolor": "white",
             "minorgridcolor": "white",
             "startlinecolor": "#2a3f5f"
            },
            "type": "carpet"
           }
          ],
          "choropleth": [
           {
            "colorbar": {
             "outlinewidth": 0,
             "ticks": ""
            },
            "type": "choropleth"
           }
          ],
          "contour": [
           {
            "colorbar": {
             "outlinewidth": 0,
             "ticks": ""
            },
            "colorscale": [
             [
              0,
              "#0d0887"
             ],
             [
              0.1111111111111111,
              "#46039f"
             ],
             [
              0.2222222222222222,
              "#7201a8"
             ],
             [
              0.3333333333333333,
              "#9c179e"
             ],
             [
              0.4444444444444444,
              "#bd3786"
             ],
             [
              0.5555555555555556,
              "#d8576b"
             ],
             [
              0.6666666666666666,
              "#ed7953"
             ],
             [
              0.7777777777777778,
              "#fb9f3a"
             ],
             [
              0.8888888888888888,
              "#fdca26"
             ],
             [
              1,
              "#f0f921"
             ]
            ],
            "type": "contour"
           }
          ],
          "contourcarpet": [
           {
            "colorbar": {
             "outlinewidth": 0,
             "ticks": ""
            },
            "type": "contourcarpet"
           }
          ],
          "heatmap": [
           {
            "colorbar": {
             "outlinewidth": 0,
             "ticks": ""
            },
            "colorscale": [
             [
              0,
              "#0d0887"
             ],
             [
              0.1111111111111111,
              "#46039f"
             ],
             [
              0.2222222222222222,
              "#7201a8"
             ],
             [
              0.3333333333333333,
              "#9c179e"
             ],
             [
              0.4444444444444444,
              "#bd3786"
             ],
             [
              0.5555555555555556,
              "#d8576b"
             ],
             [
              0.6666666666666666,
              "#ed7953"
             ],
             [
              0.7777777777777778,
              "#fb9f3a"
             ],
             [
              0.8888888888888888,
              "#fdca26"
             ],
             [
              1,
              "#f0f921"
             ]
            ],
            "type": "heatmap"
           }
          ],
          "histogram": [
           {
            "marker": {
             "pattern": {
              "fillmode": "overlay",
              "size": 10,
              "solidity": 0.2
             }
            },
            "type": "histogram"
           }
          ],
          "histogram2d": [
           {
            "colorbar": {
             "outlinewidth": 0,
             "ticks": ""
            },
            "colorscale": [
             [
              0,
              "#0d0887"
             ],
             [
              0.1111111111111111,
              "#46039f"
             ],
             [
              0.2222222222222222,
              "#7201a8"
             ],
             [
              0.3333333333333333,
              "#9c179e"
             ],
             [
              0.4444444444444444,
              "#bd3786"
             ],
             [
              0.5555555555555556,
              "#d8576b"
             ],
             [
              0.6666666666666666,
              "#ed7953"
             ],
             [
              0.7777777777777778,
              "#fb9f3a"
             ],
             [
              0.8888888888888888,
              "#fdca26"
             ],
             [
              1,
              "#f0f921"
             ]
            ],
            "type": "histogram2d"
           }
          ],
          "histogram2dcontour": [
           {
            "colorbar": {
             "outlinewidth": 0,
             "ticks": ""
            },
            "colorscale": [
             [
              0,
              "#0d0887"
             ],
             [
              0.1111111111111111,
              "#46039f"
             ],
             [
              0.2222222222222222,
              "#7201a8"
             ],
             [
              0.3333333333333333,
              "#9c179e"
             ],
             [
              0.4444444444444444,
              "#bd3786"
             ],
             [
              0.5555555555555556,
              "#d8576b"
             ],
             [
              0.6666666666666666,
              "#ed7953"
             ],
             [
              0.7777777777777778,
              "#fb9f3a"
             ],
             [
              0.8888888888888888,
              "#fdca26"
             ],
             [
              1,
              "#f0f921"
             ]
            ],
            "type": "histogram2dcontour"
           }
          ],
          "mesh3d": [
           {
            "colorbar": {
             "outlinewidth": 0,
             "ticks": ""
            },
            "type": "mesh3d"
           }
          ],
          "parcoords": [
           {
            "line": {
             "colorbar": {
              "outlinewidth": 0,
              "ticks": ""
             }
            },
            "type": "parcoords"
           }
          ],
          "pie": [
           {
            "automargin": true,
            "type": "pie"
           }
          ],
          "scatter": [
           {
            "fillpattern": {
             "fillmode": "overlay",
             "size": 10,
             "solidity": 0.2
            },
            "type": "scatter"
           }
          ],
          "scatter3d": [
           {
            "line": {
             "colorbar": {
              "outlinewidth": 0,
              "ticks": ""
             }
            },
            "marker": {
             "colorbar": {
              "outlinewidth": 0,
              "ticks": ""
             }
            },
            "type": "scatter3d"
           }
          ],
          "scattercarpet": [
           {
            "marker": {
             "colorbar": {
              "outlinewidth": 0,
              "ticks": ""
             }
            },
            "type": "scattercarpet"
           }
          ],
          "scattergeo": [
           {
            "marker": {
             "colorbar": {
              "outlinewidth": 0,
              "ticks": ""
             }
            },
            "type": "scattergeo"
           }
          ],
          "scattergl": [
           {
            "marker": {
             "colorbar": {
              "outlinewidth": 0,
              "ticks": ""
             }
            },
            "type": "scattergl"
           }
          ],
          "scattermap": [
           {
            "marker": {
             "colorbar": {
              "outlinewidth": 0,
              "ticks": ""
             }
            },
            "type": "scattermap"
           }
          ],
          "scattermapbox": [
           {
            "marker": {
             "colorbar": {
              "outlinewidth": 0,
              "ticks": ""
             }
            },
            "type": "scattermapbox"
           }
          ],
          "scatterpolar": [
           {
            "marker": {
             "colorbar": {
              "outlinewidth": 0,
              "ticks": ""
             }
            },
            "type": "scatterpolar"
           }
          ],
          "scatterpolargl": [
           {
            "marker": {
             "colorbar": {
              "outlinewidth": 0,
              "ticks": ""
             }
            },
            "type": "scatterpolargl"
           }
          ],
          "scatterternary": [
           {
            "marker": {
             "colorbar": {
              "outlinewidth": 0,
              "ticks": ""
             }
            },
            "type": "scatterternary"
           }
          ],
          "surface": [
           {
            "colorbar": {
             "outlinewidth": 0,
             "ticks": ""
            },
            "colorscale": [
             [
              0,
              "#0d0887"
             ],
             [
              0.1111111111111111,
              "#46039f"
             ],
             [
              0.2222222222222222,
              "#7201a8"
             ],
             [
              0.3333333333333333,
              "#9c179e"
             ],
             [
              0.4444444444444444,
              "#bd3786"
             ],
             [
              0.5555555555555556,
              "#d8576b"
             ],
             [
              0.6666666666666666,
              "#ed7953"
             ],
             [
              0.7777777777777778,
              "#fb9f3a"
             ],
             [
              0.8888888888888888,
              "#fdca26"
             ],
             [
              1,
              "#f0f921"
             ]
            ],
            "type": "surface"
           }
          ],
          "table": [
           {
            "cells": {
             "fill": {
              "color": "#EBF0F8"
             },
             "line": {
              "color": "white"
             }
            },
            "header": {
             "fill": {
              "color": "#C8D4E3"
             },
             "line": {
              "color": "white"
             }
            },
            "type": "table"
           }
          ]
         },
         "layout": {
          "annotationdefaults": {
           "arrowcolor": "#2a3f5f",
           "arrowhead": 0,
           "arrowwidth": 1
          },
          "autotypenumbers": "strict",
          "coloraxis": {
           "colorbar": {
            "outlinewidth": 0,
            "ticks": ""
           }
          },
          "colorscale": {
           "diverging": [
            [
             0,
             "#8e0152"
            ],
            [
             0.1,
             "#c51b7d"
            ],
            [
             0.2,
             "#de77ae"
            ],
            [
             0.3,
             "#f1b6da"
            ],
            [
             0.4,
             "#fde0ef"
            ],
            [
             0.5,
             "#f7f7f7"
            ],
            [
             0.6,
             "#e6f5d0"
            ],
            [
             0.7,
             "#b8e186"
            ],
            [
             0.8,
             "#7fbc41"
            ],
            [
             0.9,
             "#4d9221"
            ],
            [
             1,
             "#276419"
            ]
           ],
           "sequential": [
            [
             0,
             "#0d0887"
            ],
            [
             0.1111111111111111,
             "#46039f"
            ],
            [
             0.2222222222222222,
             "#7201a8"
            ],
            [
             0.3333333333333333,
             "#9c179e"
            ],
            [
             0.4444444444444444,
             "#bd3786"
            ],
            [
             0.5555555555555556,
             "#d8576b"
            ],
            [
             0.6666666666666666,
             "#ed7953"
            ],
            [
             0.7777777777777778,
             "#fb9f3a"
            ],
            [
             0.8888888888888888,
             "#fdca26"
            ],
            [
             1,
             "#f0f921"
            ]
           ],
           "sequentialminus": [
            [
             0,
             "#0d0887"
            ],
            [
             0.1111111111111111,
             "#46039f"
            ],
            [
             0.2222222222222222,
             "#7201a8"
            ],
            [
             0.3333333333333333,
             "#9c179e"
            ],
            [
             0.4444444444444444,
             "#bd3786"
            ],
            [
             0.5555555555555556,
             "#d8576b"
            ],
            [
             0.6666666666666666,
             "#ed7953"
            ],
            [
             0.7777777777777778,
             "#fb9f3a"
            ],
            [
             0.8888888888888888,
             "#fdca26"
            ],
            [
             1,
             "#f0f921"
            ]
           ]
          },
          "colorway": [
           "#636efa",
           "#EF553B",
           "#00cc96",
           "#ab63fa",
           "#FFA15A",
           "#19d3f3",
           "#FF6692",
           "#B6E880",
           "#FF97FF",
           "#FECB52"
          ],
          "font": {
           "color": "#2a3f5f"
          },
          "geo": {
           "bgcolor": "white",
           "lakecolor": "white",
           "landcolor": "#E5ECF6",
           "showlakes": true,
           "showland": true,
           "subunitcolor": "white"
          },
          "hoverlabel": {
           "align": "left"
          },
          "hovermode": "closest",
          "mapbox": {
           "style": "light"
          },
          "paper_bgcolor": "white",
          "plot_bgcolor": "#E5ECF6",
          "polar": {
           "angularaxis": {
            "gridcolor": "white",
            "linecolor": "white",
            "ticks": ""
           },
           "bgcolor": "#E5ECF6",
           "radialaxis": {
            "gridcolor": "white",
            "linecolor": "white",
            "ticks": ""
           }
          },
          "scene": {
           "xaxis": {
            "backgroundcolor": "#E5ECF6",
            "gridcolor": "white",
            "gridwidth": 2,
            "linecolor": "white",
            "showbackground": true,
            "ticks": "",
            "zerolinecolor": "white"
           },
           "yaxis": {
            "backgroundcolor": "#E5ECF6",
            "gridcolor": "white",
            "gridwidth": 2,
            "linecolor": "white",
            "showbackground": true,
            "ticks": "",
            "zerolinecolor": "white"
           },
           "zaxis": {
            "backgroundcolor": "#E5ECF6",
            "gridcolor": "white",
            "gridwidth": 2,
            "linecolor": "white",
            "showbackground": true,
            "ticks": "",
            "zerolinecolor": "white"
           }
          },
          "shapedefaults": {
           "line": {
            "color": "#2a3f5f"
           }
          },
          "ternary": {
           "aaxis": {
            "gridcolor": "white",
            "linecolor": "white",
            "ticks": ""
           },
           "baxis": {
            "gridcolor": "white",
            "linecolor": "white",
            "ticks": ""
           },
           "bgcolor": "#E5ECF6",
           "caxis": {
            "gridcolor": "white",
            "linecolor": "white",
            "ticks": ""
           }
          },
          "title": {
           "x": 0.05
          },
          "xaxis": {
           "automargin": true,
           "gridcolor": "white",
           "linecolor": "white",
           "ticks": "",
           "title": {
            "standoff": 15
           },
           "zerolinecolor": "white",
           "zerolinewidth": 2
          },
          "yaxis": {
           "automargin": true,
           "gridcolor": "white",
           "linecolor": "white",
           "ticks": "",
           "title": {
            "standoff": 15
           },
           "zerolinecolor": "white",
           "zerolinewidth": 2
          }
         }
        },
        "title": {
         "text": "Матрица корреляции признаков"
        },
        "width": 800,
        "xaxis": {
         "anchor": "y",
         "domain": [
          0,
          1
         ]
        },
        "yaxis": {
         "anchor": "x",
         "autorange": "reversed",
         "domain": [
          0,
          1
         ]
        }
       }
      }
     },
     "metadata": {},
     "output_type": "display_data"
    }
   ],
   "source": [
    "# Анализ корреляции между признаками и целевой переменной\n",
    "# corr(): вычисляет матрицу корреляции Пирсона между всеми числовыми колонками\n",
    "correlation_matrix = df.corr()\n",
    "\n",
    "# Сортировка корреляций с целевой переменной price по убыванию\n",
    "# sort_values(ascending=False): сортирует значения по убыванию\n",
    "target_correlation = correlation_matrix['log_pricePerM2'].sort_values(ascending=False)\n",
    "abs_correlation = target_correlation.drop('log_pricePerM2').abs().sort_values(ascending=False)\n",
    "\n",
    "\n",
    "print(\"Корреляция признаков с ценой (log_pricePerM2):\")\n",
    "print(target_correlation)\n",
    "\n",
    "# Тепловая карта корреляций\n",
    "# px.imshow: создает heatmap (тепловую карту)\n",
    "# correlation_matrix.round(2): матрица корреляции, округленная до 2 знаков\n",
    "# color_continuous_scale='RdBu_r': цветовая шкала от синего к красному (reversed)\n",
    "# aspect=\"auto\": автоматическое соотношение сторон\n",
    "# text_auto=True: автоматическое отображение значений в ячейках\n",
    "\n",
    "fig = px.imshow(correlation_matrix.round(2),\n",
    "                title='Матрица корреляции признаков',\n",
    "                aspect=\"auto\",\n",
    "                color_continuous_scale='RdBu_r',\n",
    "                text_auto=True)\n",
    "fig.update_layout(width=800, height=800)  # Размер графика\n",
    "fig.show()"
   ]
  },
  {
   "cell_type": "code",
   "execution_count": 8,
   "id": "1116e106",
   "metadata": {},
   "outputs": [
    {
     "name": "stdout",
     "output_type": "stream",
     "text": [
      "(10000, 15) (10000,)\n",
      "Epoch 1/150\n"
     ]
    },
    {
     "name": "stderr",
     "output_type": "stream",
     "text": [
      "C:\\Users\\akaku\\AppData\\Roaming\\Python\\Python313\\site-packages\\keras\\src\\layers\\core\\dense.py:95: UserWarning:\n",
      "\n",
      "Do not pass an `input_shape`/`input_dim` argument to a layer. When using Sequential models, prefer using an `Input(shape)` object as the first layer in the model instead.\n",
      "\n"
     ]
    },
    {
     "name": "stdout",
     "output_type": "stream",
     "text": [
      "\u001b[1m200/200\u001b[0m \u001b[32m━━━━━━━━━━━━━━━━━━━━\u001b[0m\u001b[37m\u001b[0m \u001b[1m1s\u001b[0m 1ms/step - loss: 3.2047 - mse: 3.2047\n",
      "Epoch 2/150\n",
      "\u001b[1m200/200\u001b[0m \u001b[32m━━━━━━━━━━━━━━━━━━━━\u001b[0m\u001b[37m\u001b[0m \u001b[1m0s\u001b[0m 1ms/step - loss: 0.1333 - mse: 0.1333\n",
      "Epoch 3/150\n",
      "\u001b[1m200/200\u001b[0m \u001b[32m━━━━━━━━━━━━━━━━━━━━\u001b[0m\u001b[37m\u001b[0m \u001b[1m0s\u001b[0m 1ms/step - loss: 0.0820 - mse: 0.0820\n",
      "Epoch 4/150\n",
      "\u001b[1m200/200\u001b[0m \u001b[32m━━━━━━━━━━━━━━━━━━━━\u001b[0m\u001b[37m\u001b[0m \u001b[1m0s\u001b[0m 1ms/step - loss: 0.0565 - mse: 0.0565\n",
      "Epoch 5/150\n",
      "\u001b[1m200/200\u001b[0m \u001b[32m━━━━━━━━━━━━━━━━━━━━\u001b[0m\u001b[37m\u001b[0m \u001b[1m0s\u001b[0m 1ms/step - loss: 0.0397 - mse: 0.0397\n",
      "Epoch 6/150\n",
      "\u001b[1m200/200\u001b[0m \u001b[32m━━━━━━━━━━━━━━━━━━━━\u001b[0m\u001b[37m\u001b[0m \u001b[1m0s\u001b[0m 1ms/step - loss: 0.0283 - mse: 0.0283\n",
      "Epoch 7/150\n",
      "\u001b[1m200/200\u001b[0m \u001b[32m━━━━━━━━━━━━━━━━━━━━\u001b[0m\u001b[37m\u001b[0m \u001b[1m0s\u001b[0m 1ms/step - loss: 0.0206 - mse: 0.0206\n",
      "Epoch 8/150\n",
      "\u001b[1m200/200\u001b[0m \u001b[32m━━━━━━━━━━━━━━━━━━━━\u001b[0m\u001b[37m\u001b[0m \u001b[1m0s\u001b[0m 1ms/step - loss: 0.0154 - mse: 0.0154\n",
      "Epoch 9/150\n",
      "\u001b[1m200/200\u001b[0m \u001b[32m━━━━━━━━━━━━━━━━━━━━\u001b[0m\u001b[37m\u001b[0m \u001b[1m0s\u001b[0m 1ms/step - loss: 0.0114 - mse: 0.0114\n",
      "Epoch 10/150\n",
      "\u001b[1m200/200\u001b[0m \u001b[32m━━━━━━━━━━━━━━━━━━━━\u001b[0m\u001b[37m\u001b[0m \u001b[1m0s\u001b[0m 1ms/step - loss: 0.0089 - mse: 0.0089\n",
      "Epoch 11/150\n",
      "\u001b[1m200/200\u001b[0m \u001b[32m━━━━━━━━━━━━━━━━━━━━\u001b[0m\u001b[37m\u001b[0m \u001b[1m0s\u001b[0m 1ms/step - loss: 0.0070 - mse: 0.0070\n",
      "Epoch 12/150\n",
      "\u001b[1m200/200\u001b[0m \u001b[32m━━━━━━━━━━━━━━━━━━━━\u001b[0m\u001b[37m\u001b[0m \u001b[1m0s\u001b[0m 1ms/step - loss: 0.0056 - mse: 0.0056\n",
      "Epoch 13/150\n",
      "\u001b[1m200/200\u001b[0m \u001b[32m━━━━━━━━━━━━━━━━━━━━\u001b[0m\u001b[37m\u001b[0m \u001b[1m0s\u001b[0m 1ms/step - loss: 0.0047 - mse: 0.0047\n",
      "Epoch 14/150\n",
      "\u001b[1m200/200\u001b[0m \u001b[32m━━━━━━━━━━━━━━━━━━━━\u001b[0m\u001b[37m\u001b[0m \u001b[1m0s\u001b[0m 1ms/step - loss: 0.0040 - mse: 0.0040\n",
      "Epoch 15/150\n",
      "\u001b[1m200/200\u001b[0m \u001b[32m━━━━━━━━━━━━━━━━━━━━\u001b[0m\u001b[37m\u001b[0m \u001b[1m0s\u001b[0m 1ms/step - loss: 0.0034 - mse: 0.0034\n",
      "Epoch 16/150\n",
      "\u001b[1m200/200\u001b[0m \u001b[32m━━━━━━━━━━━━━━━━━━━━\u001b[0m\u001b[37m\u001b[0m \u001b[1m0s\u001b[0m 1ms/step - loss: 0.0028 - mse: 0.0028\n",
      "Epoch 17/150\n",
      "\u001b[1m200/200\u001b[0m \u001b[32m━━━━━━━━━━━━━━━━━━━━\u001b[0m\u001b[37m\u001b[0m \u001b[1m0s\u001b[0m 1ms/step - loss: 0.0024 - mse: 0.0024\n",
      "Epoch 18/150\n",
      "\u001b[1m200/200\u001b[0m \u001b[32m━━━━━━━━━━━━━━━━━━━━\u001b[0m\u001b[37m\u001b[0m \u001b[1m0s\u001b[0m 1ms/step - loss: 0.0022 - mse: 0.0022\n",
      "Epoch 19/150\n",
      "\u001b[1m200/200\u001b[0m \u001b[32m━━━━━━━━━━━━━━━━━━━━\u001b[0m\u001b[37m\u001b[0m \u001b[1m0s\u001b[0m 1ms/step - loss: 0.0019 - mse: 0.0019\n",
      "Epoch 20/150\n",
      "\u001b[1m200/200\u001b[0m \u001b[32m━━━━━━━━━━━━━━━━━━━━\u001b[0m\u001b[37m\u001b[0m \u001b[1m0s\u001b[0m 1ms/step - loss: 0.0017 - mse: 0.0017\n",
      "Epoch 21/150\n",
      "\u001b[1m200/200\u001b[0m \u001b[32m━━━━━━━━━━━━━━━━━━━━\u001b[0m\u001b[37m\u001b[0m \u001b[1m0s\u001b[0m 1ms/step - loss: 0.0016 - mse: 0.0016\n",
      "Epoch 22/150\n",
      "\u001b[1m200/200\u001b[0m \u001b[32m━━━━━━━━━━━━━━━━━━━━\u001b[0m\u001b[37m\u001b[0m \u001b[1m0s\u001b[0m 1ms/step - loss: 0.0014 - mse: 0.0014\n",
      "Epoch 23/150\n",
      "\u001b[1m200/200\u001b[0m \u001b[32m━━━━━━━━━━━━━━━━━━━━\u001b[0m\u001b[37m\u001b[0m \u001b[1m0s\u001b[0m 1ms/step - loss: 0.0013 - mse: 0.0013     \n",
      "Epoch 24/150\n",
      "\u001b[1m200/200\u001b[0m \u001b[32m━━━━━━━━━━━━━━━━━━━━\u001b[0m\u001b[37m\u001b[0m \u001b[1m0s\u001b[0m 1ms/step - loss: 0.0012 - mse: 0.0012    \n",
      "Epoch 25/150\n",
      "\u001b[1m200/200\u001b[0m \u001b[32m━━━━━━━━━━━━━━━━━━━━\u001b[0m\u001b[37m\u001b[0m \u001b[1m0s\u001b[0m 1ms/step - loss: 0.0010 - mse: 0.0010\n",
      "Epoch 26/150\n",
      "\u001b[1m200/200\u001b[0m \u001b[32m━━━━━━━━━━━━━━━━━━━━\u001b[0m\u001b[37m\u001b[0m \u001b[1m0s\u001b[0m 1ms/step - loss: 0.0011 - mse: 0.0011    \n",
      "Epoch 27/150\n",
      "\u001b[1m200/200\u001b[0m \u001b[32m━━━━━━━━━━━━━━━━━━━━\u001b[0m\u001b[37m\u001b[0m \u001b[1m0s\u001b[0m 1ms/step - loss: 8.7963e-04 - mse: 8.7963e-04\n",
      "Epoch 28/150\n",
      "\u001b[1m200/200\u001b[0m \u001b[32m━━━━━━━━━━━━━━━━━━━━\u001b[0m\u001b[37m\u001b[0m \u001b[1m0s\u001b[0m 1ms/step - loss: 8.8456e-04 - mse: 8.8456e-04\n",
      "Epoch 29/150\n",
      "\u001b[1m200/200\u001b[0m \u001b[32m━━━━━━━━━━━━━━━━━━━━\u001b[0m\u001b[37m\u001b[0m \u001b[1m0s\u001b[0m 1ms/step - loss: 8.0126e-04 - mse: 8.0126e-04\n",
      "Epoch 30/150\n",
      "\u001b[1m200/200\u001b[0m \u001b[32m━━━━━━━━━━━━━━━━━━━━\u001b[0m\u001b[37m\u001b[0m \u001b[1m0s\u001b[0m 1ms/step - loss: 8.0425e-04 - mse: 8.0425e-04\n",
      "Epoch 31/150\n",
      "\u001b[1m200/200\u001b[0m \u001b[32m━━━━━━━━━━━━━━━━━━━━\u001b[0m\u001b[37m\u001b[0m \u001b[1m0s\u001b[0m 1ms/step - loss: 8.0919e-04 - mse: 8.0919e-04\n",
      "Epoch 32/150\n",
      "\u001b[1m200/200\u001b[0m \u001b[32m━━━━━━━━━━━━━━━━━━━━\u001b[0m\u001b[37m\u001b[0m \u001b[1m0s\u001b[0m 1ms/step - loss: 7.6182e-04 - mse: 7.6182e-04\n",
      "Epoch 33/150\n",
      "\u001b[1m200/200\u001b[0m \u001b[32m━━━━━━━━━━━━━━━━━━━━\u001b[0m\u001b[37m\u001b[0m \u001b[1m0s\u001b[0m 1ms/step - loss: 7.5433e-04 - mse: 7.5433e-04\n",
      "Epoch 34/150\n",
      "\u001b[1m200/200\u001b[0m \u001b[32m━━━━━━━━━━━━━━━━━━━━\u001b[0m\u001b[37m\u001b[0m \u001b[1m0s\u001b[0m 1ms/step - loss: 7.2149e-04 - mse: 7.2149e-04\n",
      "Epoch 35/150\n",
      "\u001b[1m200/200\u001b[0m \u001b[32m━━━━━━━━━━━━━━━━━━━━\u001b[0m\u001b[37m\u001b[0m \u001b[1m0s\u001b[0m 1ms/step - loss: 7.1182e-04 - mse: 7.1182e-04\n",
      "Epoch 36/150\n",
      "\u001b[1m200/200\u001b[0m \u001b[32m━━━━━━━━━━━━━━━━━━━━\u001b[0m\u001b[37m\u001b[0m \u001b[1m0s\u001b[0m 1ms/step - loss: 7.8705e-04 - mse: 7.8705e-04\n",
      "Epoch 37/150\n",
      "\u001b[1m200/200\u001b[0m \u001b[32m━━━━━━━━━━━━━━━━━━━━\u001b[0m\u001b[37m\u001b[0m \u001b[1m0s\u001b[0m 2ms/step - loss: 7.1040e-04 - mse: 7.1040e-04\n",
      "Epoch 38/150\n",
      "\u001b[1m200/200\u001b[0m \u001b[32m━━━━━━━━━━━━━━━━━━━━\u001b[0m\u001b[37m\u001b[0m \u001b[1m0s\u001b[0m 1ms/step - loss: 7.1117e-04 - mse: 7.1117e-04\n",
      "Epoch 39/150\n",
      "\u001b[1m200/200\u001b[0m \u001b[32m━━━━━━━━━━━━━━━━━━━━\u001b[0m\u001b[37m\u001b[0m \u001b[1m0s\u001b[0m 1ms/step - loss: 6.1947e-04 - mse: 6.1947e-04\n",
      "Epoch 40/150\n",
      "\u001b[1m200/200\u001b[0m \u001b[32m━━━━━━━━━━━━━━━━━━━━\u001b[0m\u001b[37m\u001b[0m \u001b[1m0s\u001b[0m 1ms/step - loss: 9.2008e-04 - mse: 9.2008e-04\n",
      "Epoch 41/150\n",
      "\u001b[1m200/200\u001b[0m \u001b[32m━━━━━━━━━━━━━━━━━━━━\u001b[0m\u001b[37m\u001b[0m \u001b[1m0s\u001b[0m 1ms/step - loss: 6.8989e-04 - mse: 6.8989e-04\n",
      "Epoch 42/150\n",
      "\u001b[1m200/200\u001b[0m \u001b[32m━━━━━━━━━━━━━━━━━━━━\u001b[0m\u001b[37m\u001b[0m \u001b[1m0s\u001b[0m 1ms/step - loss: 6.1038e-04 - mse: 6.1038e-04\n",
      "Epoch 43/150\n",
      "\u001b[1m200/200\u001b[0m \u001b[32m━━━━━━━━━━━━━━━━━━━━\u001b[0m\u001b[37m\u001b[0m \u001b[1m0s\u001b[0m 1ms/step - loss: 7.4294e-04 - mse: 7.4294e-04\n",
      "Epoch 44/150\n",
      "\u001b[1m200/200\u001b[0m \u001b[32m━━━━━━━━━━━━━━━━━━━━\u001b[0m\u001b[37m\u001b[0m \u001b[1m0s\u001b[0m 2ms/step - loss: 7.1478e-04 - mse: 7.1478e-04\n",
      "Epoch 45/150\n",
      "\u001b[1m200/200\u001b[0m \u001b[32m━━━━━━━━━━━━━━━━━━━━\u001b[0m\u001b[37m\u001b[0m \u001b[1m0s\u001b[0m 1ms/step - loss: 7.2051e-04 - mse: 7.2051e-04\n",
      "Epoch 46/150\n",
      "\u001b[1m200/200\u001b[0m \u001b[32m━━━━━━━━━━━━━━━━━━━━\u001b[0m\u001b[37m\u001b[0m \u001b[1m0s\u001b[0m 1ms/step - loss: 6.1918e-04 - mse: 6.1918e-04\n",
      "Epoch 47/150\n",
      "\u001b[1m200/200\u001b[0m \u001b[32m━━━━━━━━━━━━━━━━━━━━\u001b[0m\u001b[37m\u001b[0m \u001b[1m0s\u001b[0m 1ms/step - loss: 6.2970e-04 - mse: 6.2970e-04\n",
      "Epoch 48/150\n",
      "\u001b[1m200/200\u001b[0m \u001b[32m━━━━━━━━━━━━━━━━━━━━\u001b[0m\u001b[37m\u001b[0m \u001b[1m0s\u001b[0m 2ms/step - loss: 6.8350e-04 - mse: 6.8350e-04\n",
      "Epoch 49/150\n",
      "\u001b[1m200/200\u001b[0m \u001b[32m━━━━━━━━━━━━━━━━━━━━\u001b[0m\u001b[37m\u001b[0m \u001b[1m0s\u001b[0m 2ms/step - loss: 6.7013e-04 - mse: 6.7013e-04\n",
      "Epoch 50/150\n",
      "\u001b[1m200/200\u001b[0m \u001b[32m━━━━━━━━━━━━━━━━━━━━\u001b[0m\u001b[37m\u001b[0m \u001b[1m0s\u001b[0m 1ms/step - loss: 5.4582e-04 - mse: 5.4582e-04\n",
      "Epoch 51/150\n",
      "\u001b[1m200/200\u001b[0m \u001b[32m━━━━━━━━━━━━━━━━━━━━\u001b[0m\u001b[37m\u001b[0m \u001b[1m0s\u001b[0m 1ms/step - loss: 6.6396e-04 - mse: 6.6396e-04\n",
      "Epoch 52/150\n",
      "\u001b[1m200/200\u001b[0m \u001b[32m━━━━━━━━━━━━━━━━━━━━\u001b[0m\u001b[37m\u001b[0m \u001b[1m0s\u001b[0m 1ms/step - loss: 6.5094e-04 - mse: 6.5094e-04\n",
      "Epoch 53/150\n",
      "\u001b[1m200/200\u001b[0m \u001b[32m━━━━━━━━━━━━━━━━━━━━\u001b[0m\u001b[37m\u001b[0m \u001b[1m0s\u001b[0m 1ms/step - loss: 6.0860e-04 - mse: 6.0860e-04\n",
      "Epoch 54/150\n",
      "\u001b[1m200/200\u001b[0m \u001b[32m━━━━━━━━━━━━━━━━━━━━\u001b[0m\u001b[37m\u001b[0m \u001b[1m0s\u001b[0m 1ms/step - loss: 6.2018e-04 - mse: 6.2018e-04\n",
      "Epoch 55/150\n",
      "\u001b[1m200/200\u001b[0m \u001b[32m━━━━━━━━━━━━━━━━━━━━\u001b[0m\u001b[37m\u001b[0m \u001b[1m0s\u001b[0m 1ms/step - loss: 6.4398e-04 - mse: 6.4398e-04\n",
      "Epoch 56/150\n",
      "\u001b[1m200/200\u001b[0m \u001b[32m━━━━━━━━━━━━━━━━━━━━\u001b[0m\u001b[37m\u001b[0m \u001b[1m0s\u001b[0m 1ms/step - loss: 5.8882e-04 - mse: 5.8882e-04\n",
      "Epoch 57/150\n",
      "\u001b[1m200/200\u001b[0m \u001b[32m━━━━━━━━━━━━━━━━━━━━\u001b[0m\u001b[37m\u001b[0m \u001b[1m0s\u001b[0m 1ms/step - loss: 7.2858e-04 - mse: 7.2858e-04\n",
      "Epoch 58/150\n",
      "\u001b[1m200/200\u001b[0m \u001b[32m━━━━━━━━━━━━━━━━━━━━\u001b[0m\u001b[37m\u001b[0m \u001b[1m0s\u001b[0m 2ms/step - loss: 5.7617e-04 - mse: 5.7617e-04\n",
      "Epoch 59/150\n",
      "\u001b[1m200/200\u001b[0m \u001b[32m━━━━━━━━━━━━━━━━━━━━\u001b[0m\u001b[37m\u001b[0m \u001b[1m0s\u001b[0m 1ms/step - loss: 6.8328e-04 - mse: 6.8328e-04\n",
      "Epoch 60/150\n",
      "\u001b[1m200/200\u001b[0m \u001b[32m━━━━━━━━━━━━━━━━━━━━\u001b[0m\u001b[37m\u001b[0m \u001b[1m0s\u001b[0m 1ms/step - loss: 6.4483e-04 - mse: 6.4483e-04\n",
      "Epoch 61/150\n",
      "\u001b[1m200/200\u001b[0m \u001b[32m━━━━━━━━━━━━━━━━━━━━\u001b[0m\u001b[37m\u001b[0m \u001b[1m0s\u001b[0m 1ms/step - loss: 6.1377e-04 - mse: 6.1377e-04\n",
      "Epoch 62/150\n",
      "\u001b[1m200/200\u001b[0m \u001b[32m━━━━━━━━━━━━━━━━━━━━\u001b[0m\u001b[37m\u001b[0m \u001b[1m0s\u001b[0m 1ms/step - loss: 5.9084e-04 - mse: 5.9084e-04\n",
      "Epoch 63/150\n",
      "\u001b[1m200/200\u001b[0m \u001b[32m━━━━━━━━━━━━━━━━━━━━\u001b[0m\u001b[37m\u001b[0m \u001b[1m0s\u001b[0m 1ms/step - loss: 5.8478e-04 - mse: 5.8478e-04\n",
      "Epoch 64/150\n",
      "\u001b[1m200/200\u001b[0m \u001b[32m━━━━━━━━━━━━━━━━━━━━\u001b[0m\u001b[37m\u001b[0m \u001b[1m0s\u001b[0m 1ms/step - loss: 5.6695e-04 - mse: 5.6695e-04\n",
      "Epoch 65/150\n",
      "\u001b[1m200/200\u001b[0m \u001b[32m━━━━━━━━━━━━━━━━━━━━\u001b[0m\u001b[37m\u001b[0m \u001b[1m0s\u001b[0m 1ms/step - loss: 5.6105e-04 - mse: 5.6105e-04\n",
      "Epoch 66/150\n",
      "\u001b[1m200/200\u001b[0m \u001b[32m━━━━━━━━━━━━━━━━━━━━\u001b[0m\u001b[37m\u001b[0m \u001b[1m0s\u001b[0m 1ms/step - loss: 5.6288e-04 - mse: 5.6288e-04\n",
      "Epoch 67/150\n",
      "\u001b[1m200/200\u001b[0m \u001b[32m━━━━━━━━━━━━━━━━━━━━\u001b[0m\u001b[37m\u001b[0m \u001b[1m0s\u001b[0m 1ms/step - loss: 6.0522e-04 - mse: 6.0522e-04\n",
      "Epoch 68/150\n",
      "\u001b[1m200/200\u001b[0m \u001b[32m━━━━━━━━━━━━━━━━━━━━\u001b[0m\u001b[37m\u001b[0m \u001b[1m0s\u001b[0m 1ms/step - loss: 5.6096e-04 - mse: 5.6096e-04\n",
      "Epoch 69/150\n",
      "\u001b[1m200/200\u001b[0m \u001b[32m━━━━━━━━━━━━━━━━━━━━\u001b[0m\u001b[37m\u001b[0m \u001b[1m0s\u001b[0m 1ms/step - loss: 5.9398e-04 - mse: 5.9398e-04\n",
      "Epoch 70/150\n",
      "\u001b[1m200/200\u001b[0m \u001b[32m━━━━━━━━━━━━━━━━━━━━\u001b[0m\u001b[37m\u001b[0m \u001b[1m0s\u001b[0m 1ms/step - loss: 5.9804e-04 - mse: 5.9804e-04\n",
      "Epoch 71/150\n",
      "\u001b[1m200/200\u001b[0m \u001b[32m━━━━━━━━━━━━━━━━━━━━\u001b[0m\u001b[37m\u001b[0m \u001b[1m0s\u001b[0m 1ms/step - loss: 6.1822e-04 - mse: 6.1822e-04\n",
      "Epoch 72/150\n",
      "\u001b[1m200/200\u001b[0m \u001b[32m━━━━━━━━━━━━━━━━━━━━\u001b[0m\u001b[37m\u001b[0m \u001b[1m0s\u001b[0m 1ms/step - loss: 5.2577e-04 - mse: 5.2577e-04\n",
      "Epoch 73/150\n",
      "\u001b[1m200/200\u001b[0m \u001b[32m━━━━━━━━━━━━━━━━━━━━\u001b[0m\u001b[37m\u001b[0m \u001b[1m1s\u001b[0m 1ms/step - loss: 5.8849e-04 - mse: 5.8849e-04\n",
      "Epoch 74/150\n",
      "\u001b[1m200/200\u001b[0m \u001b[32m━━━━━━━━━━━━━━━━━━━━\u001b[0m\u001b[37m\u001b[0m \u001b[1m0s\u001b[0m 1ms/step - loss: 5.9582e-04 - mse: 5.9582e-04\n",
      "Epoch 75/150\n",
      "\u001b[1m200/200\u001b[0m \u001b[32m━━━━━━━━━━━━━━━━━━━━\u001b[0m\u001b[37m\u001b[0m \u001b[1m0s\u001b[0m 1ms/step - loss: 6.0047e-04 - mse: 6.0047e-04\n",
      "Epoch 76/150\n",
      "\u001b[1m200/200\u001b[0m \u001b[32m━━━━━━━━━━━━━━━━━━━━\u001b[0m\u001b[37m\u001b[0m \u001b[1m0s\u001b[0m 1ms/step - loss: 5.8965e-04 - mse: 5.8965e-04\n",
      "Epoch 77/150\n",
      "\u001b[1m200/200\u001b[0m \u001b[32m━━━━━━━━━━━━━━━━━━━━\u001b[0m\u001b[37m\u001b[0m \u001b[1m0s\u001b[0m 1ms/step - loss: 5.2238e-04 - mse: 5.2238e-04\n",
      "Epoch 78/150\n",
      "\u001b[1m200/200\u001b[0m \u001b[32m━━━━━━━━━━━━━━━━━━━━\u001b[0m\u001b[37m\u001b[0m \u001b[1m0s\u001b[0m 1ms/step - loss: 5.8539e-04 - mse: 5.8539e-04\n",
      "Epoch 79/150\n",
      "\u001b[1m200/200\u001b[0m \u001b[32m━━━━━━━━━━━━━━━━━━━━\u001b[0m\u001b[37m\u001b[0m \u001b[1m0s\u001b[0m 1ms/step - loss: 5.3478e-04 - mse: 5.3478e-04\n",
      "Epoch 80/150\n",
      "\u001b[1m200/200\u001b[0m \u001b[32m━━━━━━━━━━━━━━━━━━━━\u001b[0m\u001b[37m\u001b[0m \u001b[1m0s\u001b[0m 1ms/step - loss: 7.5889e-04 - mse: 7.5889e-04\n",
      "Epoch 81/150\n",
      "\u001b[1m200/200\u001b[0m \u001b[32m━━━━━━━━━━━━━━━━━━━━\u001b[0m\u001b[37m\u001b[0m \u001b[1m0s\u001b[0m 1ms/step - loss: 5.6723e-04 - mse: 5.6723e-04\n",
      "Epoch 82/150\n",
      "\u001b[1m200/200\u001b[0m \u001b[32m━━━━━━━━━━━━━━━━━━━━\u001b[0m\u001b[37m\u001b[0m \u001b[1m0s\u001b[0m 1ms/step - loss: 5.7965e-04 - mse: 5.7965e-04\n",
      "Epoch 83/150\n",
      "\u001b[1m200/200\u001b[0m \u001b[32m━━━━━━━━━━━━━━━━━━━━\u001b[0m\u001b[37m\u001b[0m \u001b[1m0s\u001b[0m 1ms/step - loss: 5.4746e-04 - mse: 5.4746e-04\n",
      "Epoch 84/150\n",
      "\u001b[1m200/200\u001b[0m \u001b[32m━━━━━━━━━━━━━━━━━━━━\u001b[0m\u001b[37m\u001b[0m \u001b[1m0s\u001b[0m 1ms/step - loss: 5.8255e-04 - mse: 5.8255e-04\n",
      "Epoch 85/150\n",
      "\u001b[1m200/200\u001b[0m \u001b[32m━━━━━━━━━━━━━━━━━━━━\u001b[0m\u001b[37m\u001b[0m \u001b[1m0s\u001b[0m 1ms/step - loss: 5.3030e-04 - mse: 5.3030e-04\n",
      "Epoch 86/150\n",
      "\u001b[1m200/200\u001b[0m \u001b[32m━━━━━━━━━━━━━━━━━━━━\u001b[0m\u001b[37m\u001b[0m \u001b[1m0s\u001b[0m 2ms/step - loss: 5.8929e-04 - mse: 5.8929e-04\n",
      "Epoch 87/150\n",
      "\u001b[1m200/200\u001b[0m \u001b[32m━━━━━━━━━━━━━━━━━━━━\u001b[0m\u001b[37m\u001b[0m \u001b[1m0s\u001b[0m 1ms/step - loss: 6.0360e-04 - mse: 6.0360e-04\n",
      "Epoch 88/150\n",
      "\u001b[1m200/200\u001b[0m \u001b[32m━━━━━━━━━━━━━━━━━━━━\u001b[0m\u001b[37m\u001b[0m \u001b[1m0s\u001b[0m 1ms/step - loss: 6.5254e-04 - mse: 6.5254e-04\n",
      "Epoch 89/150\n",
      "\u001b[1m200/200\u001b[0m \u001b[32m━━━━━━━━━━━━━━━━━━━━\u001b[0m\u001b[37m\u001b[0m \u001b[1m0s\u001b[0m 2ms/step - loss: 5.1946e-04 - mse: 5.1946e-04\n",
      "Epoch 90/150\n",
      "\u001b[1m200/200\u001b[0m \u001b[32m━━━━━━━━━━━━━━━━━━━━\u001b[0m\u001b[37m\u001b[0m \u001b[1m0s\u001b[0m 1ms/step - loss: 5.8383e-04 - mse: 5.8383e-04\n",
      "Epoch 91/150\n",
      "\u001b[1m200/200\u001b[0m \u001b[32m━━━━━━━━━━━━━━━━━━━━\u001b[0m\u001b[37m\u001b[0m \u001b[1m0s\u001b[0m 1ms/step - loss: 5.9140e-04 - mse: 5.9140e-04\n",
      "Epoch 92/150\n",
      "\u001b[1m200/200\u001b[0m \u001b[32m━━━━━━━━━━━━━━━━━━━━\u001b[0m\u001b[37m\u001b[0m \u001b[1m0s\u001b[0m 1ms/step - loss: 6.1025e-04 - mse: 6.1025e-04\n",
      "Epoch 93/150\n",
      "\u001b[1m200/200\u001b[0m \u001b[32m━━━━━━━━━━━━━━━━━━━━\u001b[0m\u001b[37m\u001b[0m \u001b[1m0s\u001b[0m 1ms/step - loss: 5.7490e-04 - mse: 5.7490e-04\n",
      "Epoch 94/150\n",
      "\u001b[1m200/200\u001b[0m \u001b[32m━━━━━━━━━━━━━━━━━━━━\u001b[0m\u001b[37m\u001b[0m \u001b[1m0s\u001b[0m 1ms/step - loss: 5.3525e-04 - mse: 5.3525e-04\n",
      "Epoch 95/150\n",
      "\u001b[1m200/200\u001b[0m \u001b[32m━━━━━━━━━━━━━━━━━━━━\u001b[0m\u001b[37m\u001b[0m \u001b[1m0s\u001b[0m 1ms/step - loss: 5.5685e-04 - mse: 5.5685e-04\n",
      "Epoch 96/150\n",
      "\u001b[1m200/200\u001b[0m \u001b[32m━━━━━━━━━━━━━━━━━━━━\u001b[0m\u001b[37m\u001b[0m \u001b[1m0s\u001b[0m 1ms/step - loss: 5.1890e-04 - mse: 5.1890e-04\n",
      "Epoch 97/150\n",
      "\u001b[1m200/200\u001b[0m \u001b[32m━━━━━━━━━━━━━━━━━━━━\u001b[0m\u001b[37m\u001b[0m \u001b[1m0s\u001b[0m 1ms/step - loss: 5.4116e-04 - mse: 5.4116e-04\n",
      "Epoch 98/150\n",
      "\u001b[1m200/200\u001b[0m \u001b[32m━━━━━━━━━━━━━━━━━━━━\u001b[0m\u001b[37m\u001b[0m \u001b[1m0s\u001b[0m 1ms/step - loss: 5.8093e-04 - mse: 5.8093e-04\n",
      "Epoch 99/150\n",
      "\u001b[1m200/200\u001b[0m \u001b[32m━━━━━━━━━━━━━━━━━━━━\u001b[0m\u001b[37m\u001b[0m \u001b[1m0s\u001b[0m 1ms/step - loss: 5.5767e-04 - mse: 5.5767e-04\n",
      "Epoch 100/150\n",
      "\u001b[1m200/200\u001b[0m \u001b[32m━━━━━━━━━━━━━━━━━━━━\u001b[0m\u001b[37m\u001b[0m \u001b[1m0s\u001b[0m 1ms/step - loss: 4.9358e-04 - mse: 4.9358e-04\n",
      "Epoch 101/150\n",
      "\u001b[1m200/200\u001b[0m \u001b[32m━━━━━━━━━━━━━━━━━━━━\u001b[0m\u001b[37m\u001b[0m \u001b[1m0s\u001b[0m 1ms/step - loss: 4.9395e-04 - mse: 4.9395e-04\n",
      "Epoch 102/150\n",
      "\u001b[1m200/200\u001b[0m \u001b[32m━━━━━━━━━━━━━━━━━━━━\u001b[0m\u001b[37m\u001b[0m \u001b[1m0s\u001b[0m 1ms/step - loss: 4.9167e-04 - mse: 4.9167e-04\n",
      "Epoch 103/150\n",
      "\u001b[1m200/200\u001b[0m \u001b[32m━━━━━━━━━━━━━━━━━━━━\u001b[0m\u001b[37m\u001b[0m \u001b[1m0s\u001b[0m 1ms/step - loss: 5.7318e-04 - mse: 5.7318e-04\n",
      "Epoch 104/150\n",
      "\u001b[1m200/200\u001b[0m \u001b[32m━━━━━━━━━━━━━━━━━━━━\u001b[0m\u001b[37m\u001b[0m \u001b[1m0s\u001b[0m 1ms/step - loss: 5.6079e-04 - mse: 5.6079e-04\n",
      "Epoch 105/150\n",
      "\u001b[1m200/200\u001b[0m \u001b[32m━━━━━━━━━━━━━━━━━━━━\u001b[0m\u001b[37m\u001b[0m \u001b[1m0s\u001b[0m 1ms/step - loss: 5.1997e-04 - mse: 5.1997e-04\n",
      "Epoch 106/150\n",
      "\u001b[1m200/200\u001b[0m \u001b[32m━━━━━━━━━━━━━━━━━━━━\u001b[0m\u001b[37m\u001b[0m \u001b[1m0s\u001b[0m 1ms/step - loss: 5.2410e-04 - mse: 5.2410e-04\n",
      "Epoch 107/150\n",
      "\u001b[1m200/200\u001b[0m \u001b[32m━━━━━━━━━━━━━━━━━━━━\u001b[0m\u001b[37m\u001b[0m \u001b[1m0s\u001b[0m 1ms/step - loss: 5.2287e-04 - mse: 5.2287e-04\n",
      "Epoch 108/150\n",
      "\u001b[1m200/200\u001b[0m \u001b[32m━━━━━━━━━━━━━━━━━━━━\u001b[0m\u001b[37m\u001b[0m \u001b[1m0s\u001b[0m 1ms/step - loss: 4.8441e-04 - mse: 4.8441e-04\n",
      "Epoch 109/150\n",
      "\u001b[1m200/200\u001b[0m \u001b[32m━━━━━━━━━━━━━━━━━━━━\u001b[0m\u001b[37m\u001b[0m \u001b[1m0s\u001b[0m 1ms/step - loss: 5.2824e-04 - mse: 5.2824e-04\n",
      "Epoch 110/150\n",
      "\u001b[1m200/200\u001b[0m \u001b[32m━━━━━━━━━━━━━━━━━━━━\u001b[0m\u001b[37m\u001b[0m \u001b[1m0s\u001b[0m 1ms/step - loss: 5.8631e-04 - mse: 5.8631e-04\n",
      "Epoch 111/150\n",
      "\u001b[1m200/200\u001b[0m \u001b[32m━━━━━━━━━━━━━━━━━━━━\u001b[0m\u001b[37m\u001b[0m \u001b[1m0s\u001b[0m 1ms/step - loss: 5.2704e-04 - mse: 5.2704e-04\n",
      "Epoch 112/150\n",
      "\u001b[1m200/200\u001b[0m \u001b[32m━━━━━━━━━━━━━━━━━━━━\u001b[0m\u001b[37m\u001b[0m \u001b[1m0s\u001b[0m 2ms/step - loss: 5.3587e-04 - mse: 5.3587e-04\n",
      "Epoch 113/150\n",
      "\u001b[1m200/200\u001b[0m \u001b[32m━━━━━━━━━━━━━━━━━━━━\u001b[0m\u001b[37m\u001b[0m \u001b[1m0s\u001b[0m 1ms/step - loss: 5.4199e-04 - mse: 5.4199e-04\n",
      "Epoch 114/150\n",
      "\u001b[1m200/200\u001b[0m \u001b[32m━━━━━━━━━━━━━━━━━━━━\u001b[0m\u001b[37m\u001b[0m \u001b[1m0s\u001b[0m 1ms/step - loss: 4.8651e-04 - mse: 4.8651e-04\n",
      "Epoch 115/150\n",
      "\u001b[1m200/200\u001b[0m \u001b[32m━━━━━━━━━━━━━━━━━━━━\u001b[0m\u001b[37m\u001b[0m \u001b[1m0s\u001b[0m 1ms/step - loss: 4.8340e-04 - mse: 4.8340e-04\n",
      "Epoch 116/150\n",
      "\u001b[1m200/200\u001b[0m \u001b[32m━━━━━━━━━━━━━━━━━━━━\u001b[0m\u001b[37m\u001b[0m \u001b[1m0s\u001b[0m 1ms/step - loss: 5.1089e-04 - mse: 5.1089e-04\n",
      "Epoch 117/150\n",
      "\u001b[1m200/200\u001b[0m \u001b[32m━━━━━━━━━━━━━━━━━━━━\u001b[0m\u001b[37m\u001b[0m \u001b[1m0s\u001b[0m 1ms/step - loss: 5.1549e-04 - mse: 5.1549e-04\n",
      "Epoch 118/150\n",
      "\u001b[1m200/200\u001b[0m \u001b[32m━━━━━━━━━━━━━━━━━━━━\u001b[0m\u001b[37m\u001b[0m \u001b[1m0s\u001b[0m 1ms/step - loss: 6.2527e-04 - mse: 6.2527e-04\n",
      "Epoch 119/150\n",
      "\u001b[1m200/200\u001b[0m \u001b[32m━━━━━━━━━━━━━━━━━━━━\u001b[0m\u001b[37m\u001b[0m \u001b[1m0s\u001b[0m 1ms/step - loss: 5.4341e-04 - mse: 5.4341e-04\n",
      "Epoch 120/150\n",
      "\u001b[1m200/200\u001b[0m \u001b[32m━━━━━━━━━━━━━━━━━━━━\u001b[0m\u001b[37m\u001b[0m \u001b[1m0s\u001b[0m 1ms/step - loss: 5.0380e-04 - mse: 5.0380e-04\n",
      "Epoch 121/150\n",
      "\u001b[1m200/200\u001b[0m \u001b[32m━━━━━━━━━━━━━━━━━━━━\u001b[0m\u001b[37m\u001b[0m \u001b[1m0s\u001b[0m 1ms/step - loss: 4.7378e-04 - mse: 4.7378e-04\n",
      "Epoch 122/150\n",
      "\u001b[1m200/200\u001b[0m \u001b[32m━━━━━━━━━━━━━━━━━━━━\u001b[0m\u001b[37m\u001b[0m \u001b[1m0s\u001b[0m 1ms/step - loss: 5.5720e-04 - mse: 5.5720e-04\n",
      "Epoch 123/150\n",
      "\u001b[1m200/200\u001b[0m \u001b[32m━━━━━━━━━━━━━━━━━━━━\u001b[0m\u001b[37m\u001b[0m \u001b[1m0s\u001b[0m 1ms/step - loss: 4.5657e-04 - mse: 4.5657e-04\n",
      "Epoch 124/150\n",
      "\u001b[1m200/200\u001b[0m \u001b[32m━━━━━━━━━━━━━━━━━━━━\u001b[0m\u001b[37m\u001b[0m \u001b[1m0s\u001b[0m 2ms/step - loss: 5.6801e-04 - mse: 5.6801e-04\n",
      "Epoch 125/150\n",
      "\u001b[1m200/200\u001b[0m \u001b[32m━━━━━━━━━━━━━━━━━━━━\u001b[0m\u001b[37m\u001b[0m \u001b[1m0s\u001b[0m 1ms/step - loss: 5.3330e-04 - mse: 5.3330e-04\n",
      "Epoch 126/150\n",
      "\u001b[1m200/200\u001b[0m \u001b[32m━━━━━━━━━━━━━━━━━━━━\u001b[0m\u001b[37m\u001b[0m \u001b[1m0s\u001b[0m 1ms/step - loss: 5.0244e-04 - mse: 5.0244e-04\n",
      "Epoch 127/150\n",
      "\u001b[1m200/200\u001b[0m \u001b[32m━━━━━━━━━━━━━━━━━━━━\u001b[0m\u001b[37m\u001b[0m \u001b[1m0s\u001b[0m 1ms/step - loss: 6.3666e-04 - mse: 6.3666e-04\n",
      "Epoch 128/150\n",
      "\u001b[1m200/200\u001b[0m \u001b[32m━━━━━━━━━━━━━━━━━━━━\u001b[0m\u001b[37m\u001b[0m \u001b[1m0s\u001b[0m 1ms/step - loss: 4.9459e-04 - mse: 4.9459e-04\n",
      "Epoch 129/150\n",
      "\u001b[1m200/200\u001b[0m \u001b[32m━━━━━━━━━━━━━━━━━━━━\u001b[0m\u001b[37m\u001b[0m \u001b[1m0s\u001b[0m 1ms/step - loss: 4.2649e-04 - mse: 4.2649e-04\n",
      "Epoch 130/150\n",
      "\u001b[1m200/200\u001b[0m \u001b[32m━━━━━━━━━━━━━━━━━━━━\u001b[0m\u001b[37m\u001b[0m \u001b[1m0s\u001b[0m 2ms/step - loss: 4.4375e-04 - mse: 4.4375e-04\n",
      "Epoch 131/150\n",
      "\u001b[1m200/200\u001b[0m \u001b[32m━━━━━━━━━━━━━━━━━━━━\u001b[0m\u001b[37m\u001b[0m \u001b[1m0s\u001b[0m 1ms/step - loss: 4.8459e-04 - mse: 4.8459e-04\n",
      "Epoch 132/150\n",
      "\u001b[1m200/200\u001b[0m \u001b[32m━━━━━━━━━━━━━━━━━━━━\u001b[0m\u001b[37m\u001b[0m \u001b[1m0s\u001b[0m 1ms/step - loss: 5.2001e-04 - mse: 5.2001e-04\n",
      "Epoch 133/150\n",
      "\u001b[1m200/200\u001b[0m \u001b[32m━━━━━━━━━━━━━━━━━━━━\u001b[0m\u001b[37m\u001b[0m \u001b[1m0s\u001b[0m 1ms/step - loss: 5.3104e-04 - mse: 5.3104e-04\n",
      "Epoch 134/150\n",
      "\u001b[1m200/200\u001b[0m \u001b[32m━━━━━━━━━━━━━━━━━━━━\u001b[0m\u001b[37m\u001b[0m \u001b[1m0s\u001b[0m 1ms/step - loss: 4.5345e-04 - mse: 4.5345e-04\n",
      "Epoch 135/150\n",
      "\u001b[1m200/200\u001b[0m \u001b[32m━━━━━━━━━━━━━━━━━━━━\u001b[0m\u001b[37m\u001b[0m \u001b[1m0s\u001b[0m 2ms/step - loss: 5.9346e-04 - mse: 5.9346e-04\n",
      "Epoch 136/150\n",
      "\u001b[1m200/200\u001b[0m \u001b[32m━━━━━━━━━━━━━━━━━━━━\u001b[0m\u001b[37m\u001b[0m \u001b[1m0s\u001b[0m 1ms/step - loss: 4.6482e-04 - mse: 4.6482e-04\n",
      "Epoch 137/150\n",
      "\u001b[1m200/200\u001b[0m \u001b[32m━━━━━━━━━━━━━━━━━━━━\u001b[0m\u001b[37m\u001b[0m \u001b[1m0s\u001b[0m 1ms/step - loss: 4.8849e-04 - mse: 4.8849e-04\n",
      "Epoch 138/150\n",
      "\u001b[1m200/200\u001b[0m \u001b[32m━━━━━━━━━━━━━━━━━━━━\u001b[0m\u001b[37m\u001b[0m \u001b[1m0s\u001b[0m 1ms/step - loss: 5.4681e-04 - mse: 5.4681e-04\n",
      "Epoch 139/150\n",
      "\u001b[1m200/200\u001b[0m \u001b[32m━━━━━━━━━━━━━━━━━━━━\u001b[0m\u001b[37m\u001b[0m \u001b[1m0s\u001b[0m 1ms/step - loss: 4.9104e-04 - mse: 4.9104e-04\n",
      "Epoch 140/150\n",
      "\u001b[1m200/200\u001b[0m \u001b[32m━━━━━━━━━━━━━━━━━━━━\u001b[0m\u001b[37m\u001b[0m \u001b[1m0s\u001b[0m 1ms/step - loss: 5.0390e-04 - mse: 5.0390e-04\n",
      "Epoch 141/150\n",
      "\u001b[1m200/200\u001b[0m \u001b[32m━━━━━━━━━━━━━━━━━━━━\u001b[0m\u001b[37m\u001b[0m \u001b[1m0s\u001b[0m 1ms/step - loss: 5.4280e-04 - mse: 5.4280e-04\n",
      "Epoch 142/150\n",
      "\u001b[1m200/200\u001b[0m \u001b[32m━━━━━━━━━━━━━━━━━━━━\u001b[0m\u001b[37m\u001b[0m \u001b[1m0s\u001b[0m 1ms/step - loss: 4.8328e-04 - mse: 4.8328e-04\n",
      "Epoch 143/150\n",
      "\u001b[1m200/200\u001b[0m \u001b[32m━━━━━━━━━━━━━━━━━━━━\u001b[0m\u001b[37m\u001b[0m \u001b[1m0s\u001b[0m 1ms/step - loss: 5.1265e-04 - mse: 5.1265e-04\n",
      "Epoch 144/150\n",
      "\u001b[1m200/200\u001b[0m \u001b[32m━━━━━━━━━━━━━━━━━━━━\u001b[0m\u001b[37m\u001b[0m \u001b[1m0s\u001b[0m 1ms/step - loss: 4.3274e-04 - mse: 4.3274e-04\n",
      "Epoch 145/150\n",
      "\u001b[1m200/200\u001b[0m \u001b[32m━━━━━━━━━━━━━━━━━━━━\u001b[0m\u001b[37m\u001b[0m \u001b[1m0s\u001b[0m 1ms/step - loss: 4.8173e-04 - mse: 4.8173e-04\n",
      "Epoch 146/150\n",
      "\u001b[1m200/200\u001b[0m \u001b[32m━━━━━━━━━━━━━━━━━━━━\u001b[0m\u001b[37m\u001b[0m \u001b[1m0s\u001b[0m 2ms/step - loss: 4.6512e-04 - mse: 4.6512e-04\n",
      "Epoch 147/150\n",
      "\u001b[1m200/200\u001b[0m \u001b[32m━━━━━━━━━━━━━━━━━━━━\u001b[0m\u001b[37m\u001b[0m \u001b[1m0s\u001b[0m 1ms/step - loss: 4.8200e-04 - mse: 4.8200e-04\n",
      "Epoch 148/150\n",
      "\u001b[1m200/200\u001b[0m \u001b[32m━━━━━━━━━━━━━━━━━━━━\u001b[0m\u001b[37m\u001b[0m \u001b[1m0s\u001b[0m 1ms/step - loss: 5.7364e-04 - mse: 5.7364e-04\n",
      "Epoch 149/150\n",
      "\u001b[1m200/200\u001b[0m \u001b[32m━━━━━━━━━━━━━━━━━━━━\u001b[0m\u001b[37m\u001b[0m \u001b[1m0s\u001b[0m 1ms/step - loss: 5.0758e-04 - mse: 5.0758e-04\n",
      "Epoch 150/150\n",
      "\u001b[1m200/200\u001b[0m \u001b[32m━━━━━━━━━━━━━━━━━━━━\u001b[0m\u001b[37m\u001b[0m \u001b[1m0s\u001b[0m 1ms/step - loss: 4.9227e-04 - mse: 4.9227e-04\n",
      "\u001b[1m313/313\u001b[0m \u001b[32m━━━━━━━━━━━━━━━━━━━━\u001b[0m\u001b[37m\u001b[0m \u001b[1m1s\u001b[0m 1ms/step - loss: 4.4998e-04 - mse: 4.4998e-04\n"
     ]
    }
   ],
   "source": [
    "\n",
    "from sklearn.preprocessing import StandardScaler\n",
    "\n",
    "X = df.drop('log_pricePerM2', axis=1)  # Все столбцы кроме целевого\n",
    "y = df['log_pricePerM2']               # Только целевой столбец\n",
    "print(X.shape, y.shape)\n",
    "\n",
    "# ВАЖНО: Масштабируем признаки\n",
    "scaler = StandardScaler()\n",
    "X_scaled = scaler.fit_transform(X)\n",
    "\n",
    "# define the keras model\n",
    "model = Sequential()\n",
    "model.add(Dense(64, input_shape=(15,), activation='relu'))\n",
    "model.add(Dense(32, activation='relu'))\n",
    "model.add(Dense(16, activation='relu'))\n",
    "model.add(Dense(1, activation='linear'))\n",
    "# compile the keras model\n",
    "model.compile(loss='mse', optimizer='adam', metrics=['mse'])\n",
    "# fit the keras model on the dataset\n",
    "model.fit(X_scaled, y, epochs=150, batch_size=50)\n",
    "# evaluate the keras model\n",
    "loss, mse = model.evaluate(X_scaled, y)\n"
   ]
  },
  {
   "cell_type": "code",
   "execution_count": 9,
   "id": "30ee7dce",
   "metadata": {},
   "outputs": [
    {
     "name": "stdout",
     "output_type": "stream",
     "text": [
      "Loss: 4.50e-04\n"
     ]
    }
   ],
   "source": [
    "print(f'Loss: {loss:.2e}' )"
   ]
  }
 ],
 "metadata": {
  "kernelspec": {
   "display_name": "Python 3",
   "language": "python",
   "name": "python3"
  },
  "language_info": {
   "codemirror_mode": {
    "name": "ipython",
    "version": 3
   },
   "file_extension": ".py",
   "mimetype": "text/x-python",
   "name": "python",
   "nbconvert_exporter": "python",
   "pygments_lexer": "ipython3",
   "version": "3.13.9"
  }
 },
 "nbformat": 4,
 "nbformat_minor": 5
}
