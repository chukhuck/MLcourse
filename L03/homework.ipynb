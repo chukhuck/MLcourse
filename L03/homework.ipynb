{
 "cells": [
  {
   "cell_type": "code",
   "execution_count": null,
   "id": "568e2637",
   "metadata": {},
   "outputs": [],
   "source": [
    "2 группа: Класс для расчета и переводов денег. отдельно два атрибута для целых денег и центов, со всеми возможными операциями и переводами с объекта на объект средств"
   ]
  },
  {
   "cell_type": "code",
   "execution_count": 69,
   "id": "24596cc2",
   "metadata": {},
   "outputs": [],
   "source": [
    "#from typing import Tuple\n",
    "\n",
    "class Money:\n",
    "    \"\"\"Класс для работы с денежными суммами с раздельным хранением целой и десятичной частей\"\"\"\n",
    "    \n",
    "    def __init__(self, whole: int = 0, fractional: int = 0):\n",
    "        \"\"\"\n",
    "        Инициализация денежной суммы\n",
    "        \n",
    "        Args:\n",
    "            whole: Целая часть \n",
    "            fractional: Дробная часть \n",
    "        \"\"\"\n",
    "        if fractional < 0 or whole < 0:\n",
    "            raise ValueError(\"значения должны быть в диапазоне 0 - 99\")\n",
    "\n",
    "        self.total = whole * 100 + fractional\n",
    "        self.whole = self.total // 100\n",
    "        self.fractional = self.total % 100\n",
    "    \n",
    "    def _normalize(self):\n",
    "        \"\"\"Нормализация значений целой и дробной части\"\"\"\n",
    "\n",
    "        self.whole = self.total // 100\n",
    "        self.fractional = self.total % 100\n",
    "    \n",
    "    def __repr__(self) -> str:\n",
    "        return f\"Money(whole={self.whole}, fractional={self.fractional}, total={self.total})\"\n",
    "    \n",
    "    def __eq__(self, other: object) -> bool:\n",
    "        if not isinstance(other, Money):\n",
    "            return False\n",
    "        return self.total == other.total\n",
    "    \n",
    "    def transfer_to(self, other: 'Money',  whole: int = 0, fractional: int = 0) -> 'Money':\n",
    "        \"\"\"\n",
    "        Перевод денег с текущего объекта на другой\n",
    "        \n",
    "        Args:\n",
    "            other: Объект для перевода\n",
    "            whole: Целая часть \n",
    "            fractional: Дробная часть \n",
    "        \n",
    "        Returns:\n",
    "            новое состояние текущего объекта\n",
    "        \"\"\"\n",
    "        total = whole * 100 + fractional\n",
    "\n",
    "        if self.total < total:\n",
    "            raise ValueError(\"Недостаточно средств для перевода\")\n",
    "        \n",
    "        new_self = self._subtract(total)\n",
    "        new_other = other._add(total)\n",
    "        \n",
    "        return new_self\n",
    "    \n",
    "    def transfer_from(self, other: 'Money',  whole: int = 0, fractional: int = 0) -> 'Money':\n",
    "        \"\"\"\n",
    "        Перевод денег с другого объекта на текущий\n",
    "        \n",
    "        Args:\n",
    "            other: Объект для перевода\n",
    "            whole: Целая часть \n",
    "            fractional: Дробная часть \n",
    "        \n",
    "        Returns:\n",
    "            Tuple[новое состояние источника, новое состояние текущего объекта]\n",
    "        \"\"\"\n",
    "        return other.transfer_to(self, whole, fractional)\n",
    "    \n",
    "    def _add(self, account: int = 0) -> 'Money':\n",
    "        \"\"\"метод сложения денежных сумм\"\"\"\n",
    "        \n",
    "        self.total = self.total + account\n",
    "        self._normalize()\n",
    "        return self\n",
    "    \n",
    "    def _subtract(self, account: int = 0) -> 'Money':\n",
    "        \"\"\"метод вычитания денежных сумм\"\"\"\n",
    "        if self.total < account:\n",
    "            raise ValueError(\"Недостаточно средств для вычитания\")\n",
    "\n",
    "        self.total = self.total - account\n",
    "        self._normalize()\n",
    "        return self\n",
    "    "
   ]
  },
  {
   "cell_type": "code",
   "execution_count": 71,
   "id": "414bda05",
   "metadata": {},
   "outputs": [
    {
     "name": "stdout",
     "output_type": "stream",
     "text": [
      "Money(whole=10, fractional=50, total=1050)\n",
      "Money(whole=6, fractional=75, total=675)\n",
      "Money(whole=8, fractional=0, total=800)\n"
     ]
    }
   ],
   "source": [
    "cash1 = Money(10, 50)\n",
    "print(cash1)\n",
    "\n",
    "cash2 = Money(5, 175)\n",
    "print(cash2)\n",
    "\n",
    "cash1 = cash1.transfer_to(cash2, 2, 50)\n",
    "print(cash1)"
   ]
  }
 ],
 "metadata": {
  "kernelspec": {
   "display_name": "Python 3",
   "language": "python",
   "name": "python3"
  },
  "language_info": {
   "codemirror_mode": {
    "name": "ipython",
    "version": 3
   },
   "file_extension": ".py",
   "mimetype": "text/x-python",
   "name": "python",
   "nbconvert_exporter": "python",
   "pygments_lexer": "ipython3",
   "version": "3.13.7"
  }
 },
 "nbformat": 4,
 "nbformat_minor": 5
}
